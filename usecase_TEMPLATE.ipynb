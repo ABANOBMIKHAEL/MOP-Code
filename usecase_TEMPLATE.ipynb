{
  "cells": [
    {
      "cell_type": "markdown",
      "metadata": {
        "id": "view-in-github",
        "colab_type": "text"
      },
      "source": [
        "<a href=\"https://colab.research.google.com/github/Chameleon-company/MOP-Code/blob/Manasa/usecase_TEMPLATE.ipynb\" target=\"_parent\"><img src=\"https://colab.research.google.com/assets/colab-badge.svg\" alt=\"Open In Colab\"/></a>"
      ]
    },
    {
      "cell_type": "markdown",
      "metadata": {
        "id": "gQ5YxVd1Kg1c"
      },
      "source": [
        "_**DELETE BEFORE PUBLISHING**_\n",
        "\n",
        "_This is a template also containing the style guide for use cases. The styling uses the use-case css when uploaded to the website, which will not be visible on your local machine._\n",
        "\n",
        "_Change any text marked with {} and delete any cells marked DELETE_\n",
        "\n",
        "***"
      ]
    },
    {
      "cell_type": "code",
      "execution_count": null,
      "metadata": {
        "id": "FUBwKC7fKg1h",
        "outputId": "91ea4935-de00-466c-94ca-4e3557eca4b3"
      },
      "outputs": [
        {
          "data": {
            "text/html": [
              "\n",
              "<style>\n",
              ".usecase-title, .usecase-duration, .usecase-section-header {\n",
              "    padding-left: 15px;\n",
              "    padding-bottom: 8px;\n",
              "    padding-top: 8px;\n",
              "    padding-right: 15px;\n",
              "    background-color: #0f9295;\n",
              "    color: #fff;\n",
              "}\n",
              "\n",
              ".usecase-title {\n",
              "    font-size: 1.7em;\n",
              "    font-weight: bold;\n",
              "}\n",
              "\n",
              ".usecase-authors, .usecase-level, .usecase-skill {\n",
              "    padding-left: 15px;\n",
              "    padding-bottom: 6px;\n",
              "    padding-top: 6px;\n",
              "    background-color: #baeaeb;\n",
              "    font-size: 1.4em;\n",
              "    color: #121212;\n",
              "}\n",
              "\n",
              ".usecase-level-skill  {\n",
              "    display: flex;\n",
              "}\n",
              "\n",
              ".usecase-level, .usecase-skill {\n",
              "    width: 50%;\n",
              "}\n",
              "\n",
              ".usecase-duration, .usecase-skill {\n",
              "    text-align: right;\n",
              "    padding-right: 15px;\n",
              "    padding-bottom: 6px;\n",
              "    font-size: 1.4em;\n",
              "}\n",
              "\n",
              ".usecase-section-header {\n",
              "    font-weight: bold;\n",
              "    font-size: 1.5em;\n",
              "}\n",
              "\n",
              ".usecase-subsection-header, .usecase-subsection-blurb {\n",
              "    font-weight: bold;\n",
              "    font-size: 1.2em;\n",
              "    color: #121212;\n",
              "}\n",
              "\n",
              ".usecase-subsection-blurb {\n",
              "    font-size: 1em;\n",
              "    font-style: italic;\n",
              "}\n",
              "</style>\n"
            ],
            "text/plain": [
              "<IPython.core.display.HTML object>"
            ]
          },
          "execution_count": 5,
          "metadata": {},
          "output_type": "execute_result"
        }
      ],
      "source": [
        "# DELETE BEFORE PUBLISHING\n",
        "# This is just here so you can preview the styling on your local machine\n",
        "\n",
        "from IPython.core.display import HTML\n",
        "HTML(\"\"\"\n",
        "<style>\n",
        ".usecase-title, .usecase-duration, .usecase-section-header {\n",
        "    padding-left: 15px;\n",
        "    padding-bottom: 10px;\n",
        "    padding-top: 10px;\n",
        "    padding-right: 15px;\n",
        "    background-color: #0f9295;\n",
        "    color: #fff;\n",
        "}\n",
        "\n",
        ".usecase-title {\n",
        "    font-size: 1.7em;\n",
        "    font-weight: bold;\n",
        "}\n",
        "\n",
        ".usecase-authors, .usecase-level, .usecase-skill {\n",
        "    padding-left: 15px;\n",
        "    padding-bottom: 7px;\n",
        "    padding-top: 7px;\n",
        "    background-color: #baeaeb;\n",
        "    font-size: 1.4em;\n",
        "    color: #121212;\n",
        "}\n",
        "\n",
        ".usecase-level-skill  {\n",
        "    display: flex;\n",
        "}\n",
        "\n",
        ".usecase-level, .usecase-skill {\n",
        "    width: 50%;\n",
        "}\n",
        "\n",
        ".usecase-duration, .usecase-skill {\n",
        "    text-align: right;\n",
        "    padding-right: 15px;\n",
        "    padding-bottom: 8px;\n",
        "    font-size: 1.4em;\n",
        "}\n",
        "\n",
        ".usecase-section-header {\n",
        "    font-weight: bold;\n",
        "    font-size: 1.5em;\n",
        "}\n",
        "\n",
        ".usecase-subsection-header, .usecase-subsection-blurb {\n",
        "    font-weight: bold;\n",
        "    font-size: 1.2em;\n",
        "    color: #121212;\n",
        "}\n",
        "\n",
        ".usecase-subsection-blurb {\n",
        "    font-size: 1em;\n",
        "    font-style: italic;\n",
        "}\n",
        "</style>\n",
        "\"\"\")"
      ]
    },
    {
      "cell_type": "markdown",
      "metadata": {
        "id": "n4wuGBkUKg1o"
      },
      "source": [
        "<div class=\"usecase-title\">Impact of employment on housing prices</div>\n",
        "\n",
        "<div class=\"usecase-authors\"><b>Authored by: Manasa Nagaraja</b> </div>"
      ]
    },
    {
      "cell_type": "markdown",
      "metadata": {
        "id": "FHqHu3cDKg1o"
      },
      "source": [
        "<div class=\"usecase-duration\"><b>Duration:</b> 90 mins</div>\n",
        "\n",
        "<div class=\"usecase-level-skill\">\n",
        "    <div class=\"usecase-level\"><b>Level: </b>Intermediate</div>\n",
        "    <div class=\"usecase-skill\"><b>Pre-requisite Skills: </b>Python</div>\n",
        "</div>"
      ]
    },
    {
      "cell_type": "markdown",
      "metadata": {
        "id": "Kgq3j2ZXKg1p"
      },
      "source": [
        "<header>\n",
        "<h2>Scenario</h2>\n",
        "<div> In the busy city of Melbourne, urban planners and policymakers are constantly seeking insights into the complex dynamics between employment patterns and housing markets. With the City of Melbourne's Census of Land Use and Employment (CLUE) dataset at their disposal, they start on a mission to delve deep into this relationship.\n",
        "\n",
        "Armed with the \"Jobs per ANZSIC for blocks\" dataset, which provides detailed employment data across various industries and geographical areas, the team sets out to uncover correlations with house prices by small area. My aim is clear to understand how fluctuations in employment levels within different ANZSIC industries impact housing prices in Melbourne's diverse neighborhoods.\n",
        "\n",
        "As I have to analyze the data, patterns begin to emerge and observe that certain industries, such as technology or finance, exhibit a strong influence on nearby housing prices, driving up demand and property values. On the other hand, fluctuations in employment levels within other industries may have a lesser impact or even a negative correlation with house prices.\n",
        "\n",
        "With these insights, urban planners gain a deeper understanding of the factors shaping Melbourne's housing market. Armed with data-driven evidence, I can modify urban development strategies to contribute to economic growth, ensure housing affordability, and create vibrant, sustainable communities for Melbourne's residents. </div>"
      ]
    },
    {
      "cell_type": "markdown",
      "metadata": {
        "id": "C2Q-b71XKg1p"
      },
      "source": [
        "{Using User Story format, write a description of the problem you are trying to solve for this use case.}"
      ]
    },
    {
      "cell_type": "markdown",
      "metadata": {
        "id": "fYx6jo37Kg1p"
      },
      "source": [
        "<div class=\"usecase-section-header\">What this use case will teach you</div>"
      ]
    },
    {
      "cell_type": "markdown",
      "metadata": {
        "id": "yOSq3EbxKg1q"
      },
      "source": [
        "At the end of this use case you will:\n",
        "- {list the skills demonstrated in your use case}"
      ]
    },
    {
      "cell_type": "markdown",
      "metadata": {
        "id": "RiGlycuIKg1q"
      },
      "source": [
        "<div class=\"usecase-section-header\">{Heading for introduction or background relating to problem}</div>"
      ]
    },
    {
      "cell_type": "markdown",
      "metadata": {
        "id": "QTFkFwRKKg1q"
      },
      "source": [
        "{Write your introduction here. Keep it concise. We're not after \"War and Peace\" but enough background information to inform the reader on the rationale for solving this problem or background non-technical information that helps explain the approach. You may also wish to give information on the datasets, particularly how to source those not being imported from the client's open data portal.}\n",
        "\n"
      ]
    },
    {
      "cell_type": "markdown",
      "metadata": {
        "id": "48iP8xuhKg1r"
      },
      "source": [
        "***\n",
        "\n",
        "_**DELETE BEFORE PUBLISHING**_\n",
        "\n",
        "## Style guide for use cases\n",
        "\n",
        "### Headers\n",
        "\n",
        "For styling within your markdown cells, there are two choices you can use for headers.\n",
        "\n",
        "1) You can use HTML classes specific to the use case styling:\n",
        "\n",
        "```<p class=\"usecase-subsection-header\">This is a subsection header.</p>```\n",
        "\n",
        "<p style=\"font-weight: bold; font-size: 1.2em;\">This is a subsection header.</p>\n",
        "\n",
        "```<p class=\"usecase-subsection-blurb\">This is a blurb header.</p>```\n",
        "\n",
        "<p style=\"font-weight: bold; font-size: 1em; font-style:italic;\">This is a blurb header.</p>\n",
        "\n",
        "\n",
        "2) Or if you like you can use the markdown header styles:\n",
        "\n",
        "```# for h1```\n",
        "\n",
        "```## for h2```\n",
        "\n",
        "```### for h3```\n",
        "\n",
        "```#### for h4```\n",
        "\n",
        "```##### for h5```\n",
        "\n",
        "## Plot colour schemes\n",
        "\n",
        "General advice:\n",
        "1. Use the same colour or colour palette throughout your notebook, unless variety is necessary\n",
        "2. Select a palette based on the type of data being represented\n",
        "3. Consider accessibility (colourblindness, low vision)\n",
        "\n",
        "#### 1) If all of your plots only use 1-2 colors use one of the company style colors:\n",
        "\n",
        "| Light theme | Dark Theme |\n",
        "|-----|-----|\n",
        "|<p style=\"color:#2af598;\">#2af598</p>|<p style=\"color:#08af64;\">#08af64</p>|\n",
        "|<p style=\"color:#22e4ac;\">#22e4ac</p>|<p style=\"color:#14a38e;\">#14a38e</p>|\n",
        "|<p style=\"color:#1bd7bb;\">#1bd7bb</p>|<p style=\"color:#0f9295;\">#0f9295</p>|\n",
        "|<p style=\"color:#14c9cb;\">#14c9cb</p>|<p style=\"color:#056b8a;\">#056b8a</p>|\n",
        "|<p style=\"color:#0fbed8;\">#0fbed8</p>|<p style=\"color:#121212;\">#121212</p>|\n",
        "|<p style=\"color:#08b3e5;\">#08b3e5</p>||\n",
        "\n",
        "\n",
        "#### 2) If your plot needs multiple colors, choose an appropriate palette using either of the following tutorials:\n",
        "- https://seaborn.pydata.org/tutorial/color_palettes.html\n",
        "- https://matplotlib.org/stable/tutorials/colors/colormaps.html\n",
        "\n",
        "#### 3) Consider accessibility as well.\n",
        "\n",
        "For qualitative plotting Seaborn's 'colorblind' palette is recommended. For maps with sequential or diverging it is recommended to use one of the Color Brewer schemes which can be previewed at https://colorbrewer2.org/.\n",
        "\n",
        "If you want to design your own colour scheme, it should use the same principles as Cynthia Brewer's research (with variation not only in hue but also, saturation or luminance).\n",
        "\n",
        "### References\n",
        "\n",
        "Be sure to acknowledge your sources and any attributions using links or a reference list.\n",
        "\n",
        "If you have quite a few references, you might wish to have a dedicated section for references at the end of your document, linked using footnote style numbers.\n",
        "\n",
        "You can connect your in-text reference by adding the number with a HTML link: ```<a href=\"#fn-1\">[1]</a>```\n",
        "\n",
        "and add a matching ID in the reference list using the ```<fn>``` tag: ```<fn id=\"fn-1\">[1] Author (Year) _Title_, Publisher, Publication location.</fn>```"
      ]
    },
    {
      "cell_type": "markdown",
      "metadata": {
        "id": "F21MexDJKg1r"
      },
      "source": []
    }
  ],
  "metadata": {
    "kernelspec": {
      "display_name": "Python 3",
      "language": "python",
      "name": "python3"
    },
    "language_info": {
      "codemirror_mode": {
        "name": "ipython",
        "version": 3
      },
      "file_extension": ".py",
      "mimetype": "text/x-python",
      "name": "python",
      "nbconvert_exporter": "python",
      "pygments_lexer": "ipython3",
      "version": "3.8.3"
    },
    "vscode": {
      "interpreter": {
        "hash": "369f2c481f4da34e4445cda3fffd2e751bd1c4d706f27375911949ba6bb62e1c"
      }
    },
    "colab": {
      "provenance": [],
      "include_colab_link": true
    }
  },
  "nbformat": 4,
  "nbformat_minor": 0
}