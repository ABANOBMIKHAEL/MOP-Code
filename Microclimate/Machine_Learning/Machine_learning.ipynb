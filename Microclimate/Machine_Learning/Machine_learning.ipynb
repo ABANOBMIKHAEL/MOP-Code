{
 "cells": [
  {
   "cell_type": "markdown",
   "metadata": {},
   "source": [
    "## Background\n",
    "\n",
    "Environment and its changes are the most complex system. It is unarguably accepted that the climatic changes are greately affected by various environmental factors. Microclimate digs deep down to identify the factors that are effecting the COVID - 19 spread. We are usiing PM 2.5 as the key contributor and finding the correlation and predict the future values.\n",
    "\n",
    "##The dataset\n",
    "\n",
    "**Dataset file name:** FinalData.csv\n",
    "\n",
    "\n",
    "**Features and labels:** \n",
    "\n",
    "1.   Date\n",
    "2.   Time\n",
    "3.   Location\n",
    "4.   Value\n",
    "2.   New Value (Float): PM2.5 Values"
   ]
  },
  {
   "cell_type": "code",
   "execution_count": null,
   "metadata": {},
   "outputs": [],
   "source": [
    "import pandas as pd\n",
    "import numpy as np\n",
    "\n",
    "#read the file\n",
    "df = pd.read_csv('FinalData.csv')\n",
    "df.tail()"
   ]
  },
  {
   "cell_type": "code",
   "execution_count": null,
   "metadata": {},
   "outputs": [],
   "source": [
    "# Modifying data for our requirements\n",
    "df[\"Modified_Date\"] = df[\"Date\"] + \" \" + df[\"Time\"]\n",
    "new = df[\"Modified_Date\"].str.split(\"/\",n=1, expand =True)\n",
    "new_1 = new[1].str.split(\"/\",n=1, expand =True)\n",
    "df['Month'] = new_1[0]\n",
    "df['Month'] = df['Month'].astype('int')\n",
    "df.head(5)"
   ]
  },
  {
   "cell_type": "code",
   "execution_count": null,
   "metadata": {},
   "outputs": [],
   "source": [
    "df1 = df[[\"Modified_Date\", \"Location\", \"New_Value\", \"Month\"]]\n",
    "df1['Modified_Date'] = pd.to_datetime(df1.Modified_Date,dayfirst = True)\n",
    "df1.index = df1['Modified_Date']"
   ]
  },
  {
   "cell_type": "code",
   "execution_count": null,
   "metadata": {},
   "outputs": [],
   "source": [
    "# Checking the data types\n",
    "df1.dtypes"
   ]
  },
  {
   "cell_type": "code",
   "execution_count": null,
   "metadata": {},
   "outputs": [],
   "source": [
    "# Plots by month with respect to locations \n",
    "import seaborn as sns\n",
    "sns.factorplot(data = df1, x = \"Month\", y = \"New_Value\",hue = \"Location\",row=\"Location\")"
   ]
  },
  {
   "cell_type": "code",
   "execution_count": null,
   "metadata": {},
   "outputs": [],
   "source": [
    "# Replacing the Locations by numbers\n",
    "labels = df1['Location'].unique().tolist()\n",
    "mapping = dict( zip(labels,range(len(labels))))\n",
    "df1.replace({'Location': mapping},inplace=True)\n",
    "mapping"
   ]
  },
  {
   "cell_type": "code",
   "execution_count": null,
   "metadata": {},
   "outputs": [],
   "source": [
    "#Correlation of features with respect to New_Values\n",
    "df1.corrwith(method=\"pearson\", other=df1[\"New_Value\"])"
   ]
  }
 ],
 "metadata": {
  "kernelspec": {
   "display_name": "Python 3",
   "language": "python",
   "name": "python3"
  },
  "language_info": {
   "codemirror_mode": {
    "name": "ipython",
    "version": 3
   },
   "file_extension": ".py",
   "mimetype": "text/x-python",
   "name": "python",
   "nbconvert_exporter": "python",
   "pygments_lexer": "ipython3",
   "version": "3.7.6"
  }
 },
 "nbformat": 4,
 "nbformat_minor": 4
}
