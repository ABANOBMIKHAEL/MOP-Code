{
  "nbformat": 4,
  "nbformat_minor": 0,
  "metadata": {
    "colab": {
      "name": "Pedestrian_Count_dataset.ipynb",
      "provenance": [],
      "collapsed_sections": []
    },
    "kernelspec": {
      "display_name": "Python 3",
      "name": "python3",
      "language": "python"
    }
  },
  "cells": [
    {
      "cell_type": "code",
      "metadata": {
        "colab": {
          "base_uri": "https://localhost:8080/"
        },
        "id": "uhXyz3430Vc9",
        "outputId": "80a81eea-7d46-4647-92ea-404c44557882"
      },
      "source": [
        "import pandas as pd\n",
        "df = pd.read_csv('dataset_with_public_holidays.csv')\n",
        "df"
      ],
      "execution_count": 4,
      "outputs": [
        {
          "output_type": "execute_result",
          "data": {
            "text/plain": [
              "            Date  day  monthly_index        Public_Holiday  \\\n",
              "0     01-01-2015    4              1        Public Holiday   \n",
              "1     02-01-2015    5              1  Not a public holiday   \n",
              "2     03-01-2015    6              1  Not a public holiday   \n",
              "3     04-01-2015    7              1  Not a public holiday   \n",
              "4     05-01-2015    1              1  Not a public holiday   \n",
              "...          ...  ...            ...                   ...   \n",
              "2127  27-10-2020    2             10  Not a public holiday   \n",
              "2128  28-10-2020    3             10  Not a public holiday   \n",
              "2129  29-10-2020    4             10  Not a public holiday   \n",
              "2130  30-10-2020    5             10  Not a public holiday   \n",
              "2131  31-10-2020    6             10  Not a public holiday   \n",
              "\n",
              "      Rainfall amount (millimetres)  Minimum temperature (Degree C)  \\\n",
              "0                               0.0                            13.3   \n",
              "1                               0.0                            15.4   \n",
              "2                               0.0                            20.0   \n",
              "3                               4.6                            16.3   \n",
              "4                               0.0                            15.0   \n",
              "...                             ...                             ...   \n",
              "2127                            0.0                            11.1   \n",
              "2128                            0.0                             9.5   \n",
              "2129                            0.0                            11.2   \n",
              "2130                            0.0                            12.9   \n",
              "2131                            0.0                            14.2   \n",
              "\n",
              "      Maximum temperature (Degree C)  Daily global solar exposure (MJ/m*m)  \\\n",
              "0                               26.9                                  23.6   \n",
              "1                               38.8                                  26.8   \n",
              "2                               38.2                                  26.5   \n",
              "3                               21.4                                  25.2   \n",
              "4                               22.0                                  30.7   \n",
              "...                              ...                                   ...   \n",
              "2127                            19.6                                  20.1   \n",
              "2128                            20.9                                  26.7   \n",
              "2129                            24.3                                  17.1   \n",
              "2130                            18.6                                  21.0   \n",
              "2131                            16.8                                  10.0   \n",
              "\n",
              "      Total_Pedestrian_Count_per_day  \n",
              "0                             471563  \n",
              "1                             389048  \n",
              "2                             291761  \n",
              "3                             382364  \n",
              "4                             487220  \n",
              "...                              ...  \n",
              "2127                          177267  \n",
              "2128                          311278  \n",
              "2129                          263334  \n",
              "2130                          313225  \n",
              "2131                          370181  \n",
              "\n",
              "[2132 rows x 9 columns]"
            ],
            "text/html": "<div>\n<style scoped>\n    .dataframe tbody tr th:only-of-type {\n        vertical-align: middle;\n    }\n\n    .dataframe tbody tr th {\n        vertical-align: top;\n    }\n\n    .dataframe thead th {\n        text-align: right;\n    }\n</style>\n<table border=\"1\" class=\"dataframe\">\n  <thead>\n    <tr style=\"text-align: right;\">\n      <th></th>\n      <th>Date</th>\n      <th>day</th>\n      <th>monthly_index</th>\n      <th>Public_Holiday</th>\n      <th>Rainfall amount (millimetres)</th>\n      <th>Minimum temperature (Degree C)</th>\n      <th>Maximum temperature (Degree C)</th>\n      <th>Daily global solar exposure (MJ/m*m)</th>\n      <th>Total_Pedestrian_Count_per_day</th>\n    </tr>\n  </thead>\n  <tbody>\n    <tr>\n      <th>0</th>\n      <td>01-01-2015</td>\n      <td>4</td>\n      <td>1</td>\n      <td>Public Holiday</td>\n      <td>0.0</td>\n      <td>13.3</td>\n      <td>26.9</td>\n      <td>23.6</td>\n      <td>471563</td>\n    </tr>\n    <tr>\n      <th>1</th>\n      <td>02-01-2015</td>\n      <td>5</td>\n      <td>1</td>\n      <td>Not a public holiday</td>\n      <td>0.0</td>\n      <td>15.4</td>\n      <td>38.8</td>\n      <td>26.8</td>\n      <td>389048</td>\n    </tr>\n    <tr>\n      <th>2</th>\n      <td>03-01-2015</td>\n      <td>6</td>\n      <td>1</td>\n      <td>Not a public holiday</td>\n      <td>0.0</td>\n      <td>20.0</td>\n      <td>38.2</td>\n      <td>26.5</td>\n      <td>291761</td>\n    </tr>\n    <tr>\n      <th>3</th>\n      <td>04-01-2015</td>\n      <td>7</td>\n      <td>1</td>\n      <td>Not a public holiday</td>\n      <td>4.6</td>\n      <td>16.3</td>\n      <td>21.4</td>\n      <td>25.2</td>\n      <td>382364</td>\n    </tr>\n    <tr>\n      <th>4</th>\n      <td>05-01-2015</td>\n      <td>1</td>\n      <td>1</td>\n      <td>Not a public holiday</td>\n      <td>0.0</td>\n      <td>15.0</td>\n      <td>22.0</td>\n      <td>30.7</td>\n      <td>487220</td>\n    </tr>\n    <tr>\n      <th>...</th>\n      <td>...</td>\n      <td>...</td>\n      <td>...</td>\n      <td>...</td>\n      <td>...</td>\n      <td>...</td>\n      <td>...</td>\n      <td>...</td>\n      <td>...</td>\n    </tr>\n    <tr>\n      <th>2127</th>\n      <td>27-10-2020</td>\n      <td>2</td>\n      <td>10</td>\n      <td>Not a public holiday</td>\n      <td>0.0</td>\n      <td>11.1</td>\n      <td>19.6</td>\n      <td>20.1</td>\n      <td>177267</td>\n    </tr>\n    <tr>\n      <th>2128</th>\n      <td>28-10-2020</td>\n      <td>3</td>\n      <td>10</td>\n      <td>Not a public holiday</td>\n      <td>0.0</td>\n      <td>9.5</td>\n      <td>20.9</td>\n      <td>26.7</td>\n      <td>311278</td>\n    </tr>\n    <tr>\n      <th>2129</th>\n      <td>29-10-2020</td>\n      <td>4</td>\n      <td>10</td>\n      <td>Not a public holiday</td>\n      <td>0.0</td>\n      <td>11.2</td>\n      <td>24.3</td>\n      <td>17.1</td>\n      <td>263334</td>\n    </tr>\n    <tr>\n      <th>2130</th>\n      <td>30-10-2020</td>\n      <td>5</td>\n      <td>10</td>\n      <td>Not a public holiday</td>\n      <td>0.0</td>\n      <td>12.9</td>\n      <td>18.6</td>\n      <td>21.0</td>\n      <td>313225</td>\n    </tr>\n    <tr>\n      <th>2131</th>\n      <td>31-10-2020</td>\n      <td>6</td>\n      <td>10</td>\n      <td>Not a public holiday</td>\n      <td>0.0</td>\n      <td>14.2</td>\n      <td>16.8</td>\n      <td>10.0</td>\n      <td>370181</td>\n    </tr>\n  </tbody>\n</table>\n<p>2132 rows × 9 columns</p>\n</div>"
          },
          "metadata": {},
          "execution_count": 4
        }
      ]
    },
    {
      "cell_type": "code",
      "execution_count": 5,
      "metadata": {},
      "outputs": [
        {
          "output_type": "execute_result",
          "data": {
            "text/plain": [
              "      day  monthly_index        Public_Holiday  Rainfall amount (millimetres)  \\\n",
              "0       4              1        Public Holiday                            0.0   \n",
              "1       5              1  Not a public holiday                            0.0   \n",
              "2       6              1  Not a public holiday                            0.0   \n",
              "3       7              1  Not a public holiday                            4.6   \n",
              "4       1              1  Not a public holiday                            0.0   \n",
              "...   ...            ...                   ...                            ...   \n",
              "2127    2             10  Not a public holiday                            0.0   \n",
              "2128    3             10  Not a public holiday                            0.0   \n",
              "2129    4             10  Not a public holiday                            0.0   \n",
              "2130    5             10  Not a public holiday                            0.0   \n",
              "2131    6             10  Not a public holiday                            0.0   \n",
              "\n",
              "      Minimum temperature (Degree C)  Maximum temperature (Degree C)  \\\n",
              "0                               13.3                            26.9   \n",
              "1                               15.4                            38.8   \n",
              "2                               20.0                            38.2   \n",
              "3                               16.3                            21.4   \n",
              "4                               15.0                            22.0   \n",
              "...                              ...                             ...   \n",
              "2127                            11.1                            19.6   \n",
              "2128                             9.5                            20.9   \n",
              "2129                            11.2                            24.3   \n",
              "2130                            12.9                            18.6   \n",
              "2131                            14.2                            16.8   \n",
              "\n",
              "      Daily global solar exposure (MJ/m*m)  \n",
              "0                                     23.6  \n",
              "1                                     26.8  \n",
              "2                                     26.5  \n",
              "3                                     25.2  \n",
              "4                                     30.7  \n",
              "...                                    ...  \n",
              "2127                                  20.1  \n",
              "2128                                  26.7  \n",
              "2129                                  17.1  \n",
              "2130                                  21.0  \n",
              "2131                                  10.0  \n",
              "\n",
              "[2132 rows x 7 columns]"
            ],
            "text/html": "<div>\n<style scoped>\n    .dataframe tbody tr th:only-of-type {\n        vertical-align: middle;\n    }\n\n    .dataframe tbody tr th {\n        vertical-align: top;\n    }\n\n    .dataframe thead th {\n        text-align: right;\n    }\n</style>\n<table border=\"1\" class=\"dataframe\">\n  <thead>\n    <tr style=\"text-align: right;\">\n      <th></th>\n      <th>day</th>\n      <th>monthly_index</th>\n      <th>Public_Holiday</th>\n      <th>Rainfall amount (millimetres)</th>\n      <th>Minimum temperature (Degree C)</th>\n      <th>Maximum temperature (Degree C)</th>\n      <th>Daily global solar exposure (MJ/m*m)</th>\n    </tr>\n  </thead>\n  <tbody>\n    <tr>\n      <th>0</th>\n      <td>4</td>\n      <td>1</td>\n      <td>Public Holiday</td>\n      <td>0.0</td>\n      <td>13.3</td>\n      <td>26.9</td>\n      <td>23.6</td>\n    </tr>\n    <tr>\n      <th>1</th>\n      <td>5</td>\n      <td>1</td>\n      <td>Not a public holiday</td>\n      <td>0.0</td>\n      <td>15.4</td>\n      <td>38.8</td>\n      <td>26.8</td>\n    </tr>\n    <tr>\n      <th>2</th>\n      <td>6</td>\n      <td>1</td>\n      <td>Not a public holiday</td>\n      <td>0.0</td>\n      <td>20.0</td>\n      <td>38.2</td>\n      <td>26.5</td>\n    </tr>\n    <tr>\n      <th>3</th>\n      <td>7</td>\n      <td>1</td>\n      <td>Not a public holiday</td>\n      <td>4.6</td>\n      <td>16.3</td>\n      <td>21.4</td>\n      <td>25.2</td>\n    </tr>\n    <tr>\n      <th>4</th>\n      <td>1</td>\n      <td>1</td>\n      <td>Not a public holiday</td>\n      <td>0.0</td>\n      <td>15.0</td>\n      <td>22.0</td>\n      <td>30.7</td>\n    </tr>\n    <tr>\n      <th>...</th>\n      <td>...</td>\n      <td>...</td>\n      <td>...</td>\n      <td>...</td>\n      <td>...</td>\n      <td>...</td>\n      <td>...</td>\n    </tr>\n    <tr>\n      <th>2127</th>\n      <td>2</td>\n      <td>10</td>\n      <td>Not a public holiday</td>\n      <td>0.0</td>\n      <td>11.1</td>\n      <td>19.6</td>\n      <td>20.1</td>\n    </tr>\n    <tr>\n      <th>2128</th>\n      <td>3</td>\n      <td>10</td>\n      <td>Not a public holiday</td>\n      <td>0.0</td>\n      <td>9.5</td>\n      <td>20.9</td>\n      <td>26.7</td>\n    </tr>\n    <tr>\n      <th>2129</th>\n      <td>4</td>\n      <td>10</td>\n      <td>Not a public holiday</td>\n      <td>0.0</td>\n      <td>11.2</td>\n      <td>24.3</td>\n      <td>17.1</td>\n    </tr>\n    <tr>\n      <th>2130</th>\n      <td>5</td>\n      <td>10</td>\n      <td>Not a public holiday</td>\n      <td>0.0</td>\n      <td>12.9</td>\n      <td>18.6</td>\n      <td>21.0</td>\n    </tr>\n    <tr>\n      <th>2131</th>\n      <td>6</td>\n      <td>10</td>\n      <td>Not a public holiday</td>\n      <td>0.0</td>\n      <td>14.2</td>\n      <td>16.8</td>\n      <td>10.0</td>\n    </tr>\n  </tbody>\n</table>\n<p>2132 rows × 7 columns</p>\n</div>"
          },
          "metadata": {},
          "execution_count": 5
        }
      ],
      "source": [
        "X = df.iloc[:,1:-1]\n",
        "Y = df['Total_Pedestrian_Count_per_day']\n",
        "X = X.fillna(X.mean())\n",
        "X"
      ]
    },
    {
      "cell_type": "code",
      "metadata": {
        "id": "aCqhJ_1-utJd"
      },
      "source": [
        "rng = pd.date_range('2020-11-01', periods=61, freq='D')\n",
        "X_test = pd.DataFrame({ 'Date': rng}) \n",
        "X_test['Date'] = X_test['Date'].astype('datetime64[ns]')\n",
        "X_test"
      ],
      "execution_count": 6,
      "outputs": [
        {
          "output_type": "execute_result",
          "data": {
            "text/plain": [
              "         Date\n",
              "0  2020-11-01\n",
              "1  2020-11-02\n",
              "2  2020-11-03\n",
              "3  2020-11-04\n",
              "4  2020-11-05\n",
              "..        ...\n",
              "56 2020-12-27\n",
              "57 2020-12-28\n",
              "58 2020-12-29\n",
              "59 2020-12-30\n",
              "60 2020-12-31\n",
              "\n",
              "[61 rows x 1 columns]"
            ],
            "text/html": "<div>\n<style scoped>\n    .dataframe tbody tr th:only-of-type {\n        vertical-align: middle;\n    }\n\n    .dataframe tbody tr th {\n        vertical-align: top;\n    }\n\n    .dataframe thead th {\n        text-align: right;\n    }\n</style>\n<table border=\"1\" class=\"dataframe\">\n  <thead>\n    <tr style=\"text-align: right;\">\n      <th></th>\n      <th>Date</th>\n    </tr>\n  </thead>\n  <tbody>\n    <tr>\n      <th>0</th>\n      <td>2020-11-01</td>\n    </tr>\n    <tr>\n      <th>1</th>\n      <td>2020-11-02</td>\n    </tr>\n    <tr>\n      <th>2</th>\n      <td>2020-11-03</td>\n    </tr>\n    <tr>\n      <th>3</th>\n      <td>2020-11-04</td>\n    </tr>\n    <tr>\n      <th>4</th>\n      <td>2020-11-05</td>\n    </tr>\n    <tr>\n      <th>...</th>\n      <td>...</td>\n    </tr>\n    <tr>\n      <th>56</th>\n      <td>2020-12-27</td>\n    </tr>\n    <tr>\n      <th>57</th>\n      <td>2020-12-28</td>\n    </tr>\n    <tr>\n      <th>58</th>\n      <td>2020-12-29</td>\n    </tr>\n    <tr>\n      <th>59</th>\n      <td>2020-12-30</td>\n    </tr>\n    <tr>\n      <th>60</th>\n      <td>2020-12-31</td>\n    </tr>\n  </tbody>\n</table>\n<p>61 rows × 1 columns</p>\n</div>"
          },
          "metadata": {},
          "execution_count": 6
        }
      ]
    },
    {
      "cell_type": "code",
      "execution_count": 7,
      "metadata": {},
      "outputs": [
        {
          "output_type": "execute_result",
          "data": {
            "text/plain": [
              "         Date   Rainfall   Solar Exposure  Minimum temperature  \\\n",
              "0   01-11-2020        0.0            23.2                 12.6   \n",
              "1   02-11-2020        0.0            26.8                  9.6   \n",
              "2   03-11-2020        0.0            26.9                 12.1   \n",
              "3   04-11-2020        0.0             5.5                 21.9   \n",
              "4   05-11-2020        2.8            23.1                 11.1   \n",
              "..         ...        ...             ...                  ...   \n",
              "56  27-12-2020        0.0             3.3                 16.2   \n",
              "57  28-12-2020        3.2            26.5                 11.5   \n",
              "58  29-12-2020        0.0            30.7                  9.0   \n",
              "59  30-12-2020        0.0            30.3                 13.7   \n",
              "60  31-12-2020        0.0             7.3                 15.5   \n",
              "\n",
              "    Maximum Temperature  \n",
              "0                  17.0  \n",
              "1                  29.5  \n",
              "2                  30.4  \n",
              "3                  22.8  \n",
              "4                  15.8  \n",
              "..                  ...  \n",
              "56                 31.9  \n",
              "57                 17.8  \n",
              "58                 21.3  \n",
              "59                 21.4  \n",
              "60                 21.2  \n",
              "\n",
              "[61 rows x 5 columns]"
            ],
            "text/html": "<div>\n<style scoped>\n    .dataframe tbody tr th:only-of-type {\n        vertical-align: middle;\n    }\n\n    .dataframe tbody tr th {\n        vertical-align: top;\n    }\n\n    .dataframe thead th {\n        text-align: right;\n    }\n</style>\n<table border=\"1\" class=\"dataframe\">\n  <thead>\n    <tr style=\"text-align: right;\">\n      <th></th>\n      <th>Date</th>\n      <th>Rainfall</th>\n      <th>Solar Exposure</th>\n      <th>Minimum temperature</th>\n      <th>Maximum Temperature</th>\n    </tr>\n  </thead>\n  <tbody>\n    <tr>\n      <th>0</th>\n      <td>01-11-2020</td>\n      <td>0.0</td>\n      <td>23.2</td>\n      <td>12.6</td>\n      <td>17.0</td>\n    </tr>\n    <tr>\n      <th>1</th>\n      <td>02-11-2020</td>\n      <td>0.0</td>\n      <td>26.8</td>\n      <td>9.6</td>\n      <td>29.5</td>\n    </tr>\n    <tr>\n      <th>2</th>\n      <td>03-11-2020</td>\n      <td>0.0</td>\n      <td>26.9</td>\n      <td>12.1</td>\n      <td>30.4</td>\n    </tr>\n    <tr>\n      <th>3</th>\n      <td>04-11-2020</td>\n      <td>0.0</td>\n      <td>5.5</td>\n      <td>21.9</td>\n      <td>22.8</td>\n    </tr>\n    <tr>\n      <th>4</th>\n      <td>05-11-2020</td>\n      <td>2.8</td>\n      <td>23.1</td>\n      <td>11.1</td>\n      <td>15.8</td>\n    </tr>\n    <tr>\n      <th>...</th>\n      <td>...</td>\n      <td>...</td>\n      <td>...</td>\n      <td>...</td>\n      <td>...</td>\n    </tr>\n    <tr>\n      <th>56</th>\n      <td>27-12-2020</td>\n      <td>0.0</td>\n      <td>3.3</td>\n      <td>16.2</td>\n      <td>31.9</td>\n    </tr>\n    <tr>\n      <th>57</th>\n      <td>28-12-2020</td>\n      <td>3.2</td>\n      <td>26.5</td>\n      <td>11.5</td>\n      <td>17.8</td>\n    </tr>\n    <tr>\n      <th>58</th>\n      <td>29-12-2020</td>\n      <td>0.0</td>\n      <td>30.7</td>\n      <td>9.0</td>\n      <td>21.3</td>\n    </tr>\n    <tr>\n      <th>59</th>\n      <td>30-12-2020</td>\n      <td>0.0</td>\n      <td>30.3</td>\n      <td>13.7</td>\n      <td>21.4</td>\n    </tr>\n    <tr>\n      <th>60</th>\n      <td>31-12-2020</td>\n      <td>0.0</td>\n      <td>7.3</td>\n      <td>15.5</td>\n      <td>21.2</td>\n    </tr>\n  </tbody>\n</table>\n<p>61 rows × 5 columns</p>\n</div>"
          },
          "metadata": {},
          "execution_count": 7
        }
      ],
      "source": [
        "# Loading the weather test dataset \n",
        "test_dataset = pd.read_csv('Test_dataset_updated.csv') \n",
        "test_dataset"
      ]
    },
    {
      "cell_type": "code",
      "execution_count": 8,
      "metadata": {},
      "outputs": [
        {
          "output_type": "execute_result",
          "data": {
            "text/plain": [
              "                  Public_Holiday\n",
              "2020-11-01  Not a public holiday\n",
              "2020-11-02  Not a public holiday\n",
              "2020-11-03        Public Holiday\n",
              "2020-11-04  Not a public holiday\n",
              "2020-11-05  Not a public holiday\n",
              "...                          ...\n",
              "2020-12-27  Not a public holiday\n",
              "2020-12-28        Public Holiday\n",
              "2020-12-29  Not a public holiday\n",
              "2020-12-30  Not a public holiday\n",
              "2020-12-31  Not a public holiday\n",
              "\n",
              "[61 rows x 1 columns]"
            ],
            "text/html": "<div>\n<style scoped>\n    .dataframe tbody tr th:only-of-type {\n        vertical-align: middle;\n    }\n\n    .dataframe tbody tr th {\n        vertical-align: top;\n    }\n\n    .dataframe thead th {\n        text-align: right;\n    }\n</style>\n<table border=\"1\" class=\"dataframe\">\n  <thead>\n    <tr style=\"text-align: right;\">\n      <th></th>\n      <th>Public_Holiday</th>\n    </tr>\n  </thead>\n  <tbody>\n    <tr>\n      <th>2020-11-01</th>\n      <td>Not a public holiday</td>\n    </tr>\n    <tr>\n      <th>2020-11-02</th>\n      <td>Not a public holiday</td>\n    </tr>\n    <tr>\n      <th>2020-11-03</th>\n      <td>Public Holiday</td>\n    </tr>\n    <tr>\n      <th>2020-11-04</th>\n      <td>Not a public holiday</td>\n    </tr>\n    <tr>\n      <th>2020-11-05</th>\n      <td>Not a public holiday</td>\n    </tr>\n    <tr>\n      <th>...</th>\n      <td>...</td>\n    </tr>\n    <tr>\n      <th>2020-12-27</th>\n      <td>Not a public holiday</td>\n    </tr>\n    <tr>\n      <th>2020-12-28</th>\n      <td>Public Holiday</td>\n    </tr>\n    <tr>\n      <th>2020-12-29</th>\n      <td>Not a public holiday</td>\n    </tr>\n    <tr>\n      <th>2020-12-30</th>\n      <td>Not a public holiday</td>\n    </tr>\n    <tr>\n      <th>2020-12-31</th>\n      <td>Not a public holiday</td>\n    </tr>\n  </tbody>\n</table>\n<p>61 rows × 1 columns</p>\n</div>"
          },
          "metadata": {},
          "execution_count": 8
        }
      ],
      "source": [
        "public = pd.read_csv('Public_Holiday_test_set.csv')\n",
        "holidays = public[['Holiday']]\n",
        "holidays['Holiday'] = holidays['Holiday'].astype('datetime64[ns]')\n",
        "holidays['Public_Holiday'] = 'Public Holiday'\n",
        "\n",
        "X_test = X_test.set_index('Date').join(holidays.set_index(\"Holiday\"), how='left')\n",
        "X_test['Public_Holiday'].fillna('Not a public holiday', inplace=True)\n",
        "X_test"
      ]
    },
    {
      "cell_type": "code",
      "execution_count": 9,
      "metadata": {},
      "outputs": [
        {
          "output_type": "execute_result",
          "data": {
            "text/plain": [
              "                  Public_Holiday  day  monthly_index  \\\n",
              "2020-11-01  Not a public holiday    7             11   \n",
              "2020-11-02  Not a public holiday    1             11   \n",
              "2020-11-03        Public Holiday    2             11   \n",
              "2020-11-04  Not a public holiday    3             11   \n",
              "2020-11-05  Not a public holiday    4             11   \n",
              "...                          ...  ...            ...   \n",
              "2020-12-27  Not a public holiday    7             12   \n",
              "2020-12-28        Public Holiday    1             12   \n",
              "2020-12-29  Not a public holiday    2             12   \n",
              "2020-12-30  Not a public holiday    3             12   \n",
              "2020-12-31  Not a public holiday    4             12   \n",
              "\n",
              "            Rainfall amount (millimetres)  Minimum temperature (Degree C)  \\\n",
              "2020-11-01                            0.0                            12.6   \n",
              "2020-11-02                            0.0                             9.6   \n",
              "2020-11-03                            0.0                            12.1   \n",
              "2020-11-04                            0.0                            21.9   \n",
              "2020-11-05                            2.8                            11.1   \n",
              "...                                   ...                             ...   \n",
              "2020-12-27                            0.0                            16.2   \n",
              "2020-12-28                            3.2                            11.5   \n",
              "2020-12-29                            0.0                             9.0   \n",
              "2020-12-30                            0.0                            13.7   \n",
              "2020-12-31                            0.0                            15.5   \n",
              "\n",
              "            Maximum temperature (Degree C)  \\\n",
              "2020-11-01                            17.0   \n",
              "2020-11-02                            29.5   \n",
              "2020-11-03                            30.4   \n",
              "2020-11-04                            22.8   \n",
              "2020-11-05                            15.8   \n",
              "...                                    ...   \n",
              "2020-12-27                            31.9   \n",
              "2020-12-28                            17.8   \n",
              "2020-12-29                            21.3   \n",
              "2020-12-30                            21.4   \n",
              "2020-12-31                            21.2   \n",
              "\n",
              "            Daily global solar exposure (MJ/m*m)  \n",
              "2020-11-01                                  23.2  \n",
              "2020-11-02                                  26.8  \n",
              "2020-11-03                                  26.9  \n",
              "2020-11-04                                   5.5  \n",
              "2020-11-05                                  23.1  \n",
              "...                                          ...  \n",
              "2020-12-27                                   3.3  \n",
              "2020-12-28                                  26.5  \n",
              "2020-12-29                                  30.7  \n",
              "2020-12-30                                  30.3  \n",
              "2020-12-31                                   7.3  \n",
              "\n",
              "[61 rows x 7 columns]"
            ],
            "text/html": "<div>\n<style scoped>\n    .dataframe tbody tr th:only-of-type {\n        vertical-align: middle;\n    }\n\n    .dataframe tbody tr th {\n        vertical-align: top;\n    }\n\n    .dataframe thead th {\n        text-align: right;\n    }\n</style>\n<table border=\"1\" class=\"dataframe\">\n  <thead>\n    <tr style=\"text-align: right;\">\n      <th></th>\n      <th>Public_Holiday</th>\n      <th>day</th>\n      <th>monthly_index</th>\n      <th>Rainfall amount (millimetres)</th>\n      <th>Minimum temperature (Degree C)</th>\n      <th>Maximum temperature (Degree C)</th>\n      <th>Daily global solar exposure (MJ/m*m)</th>\n    </tr>\n  </thead>\n  <tbody>\n    <tr>\n      <th>2020-11-01</th>\n      <td>Not a public holiday</td>\n      <td>7</td>\n      <td>11</td>\n      <td>0.0</td>\n      <td>12.6</td>\n      <td>17.0</td>\n      <td>23.2</td>\n    </tr>\n    <tr>\n      <th>2020-11-02</th>\n      <td>Not a public holiday</td>\n      <td>1</td>\n      <td>11</td>\n      <td>0.0</td>\n      <td>9.6</td>\n      <td>29.5</td>\n      <td>26.8</td>\n    </tr>\n    <tr>\n      <th>2020-11-03</th>\n      <td>Public Holiday</td>\n      <td>2</td>\n      <td>11</td>\n      <td>0.0</td>\n      <td>12.1</td>\n      <td>30.4</td>\n      <td>26.9</td>\n    </tr>\n    <tr>\n      <th>2020-11-04</th>\n      <td>Not a public holiday</td>\n      <td>3</td>\n      <td>11</td>\n      <td>0.0</td>\n      <td>21.9</td>\n      <td>22.8</td>\n      <td>5.5</td>\n    </tr>\n    <tr>\n      <th>2020-11-05</th>\n      <td>Not a public holiday</td>\n      <td>4</td>\n      <td>11</td>\n      <td>2.8</td>\n      <td>11.1</td>\n      <td>15.8</td>\n      <td>23.1</td>\n    </tr>\n    <tr>\n      <th>...</th>\n      <td>...</td>\n      <td>...</td>\n      <td>...</td>\n      <td>...</td>\n      <td>...</td>\n      <td>...</td>\n      <td>...</td>\n    </tr>\n    <tr>\n      <th>2020-12-27</th>\n      <td>Not a public holiday</td>\n      <td>7</td>\n      <td>12</td>\n      <td>0.0</td>\n      <td>16.2</td>\n      <td>31.9</td>\n      <td>3.3</td>\n    </tr>\n    <tr>\n      <th>2020-12-28</th>\n      <td>Public Holiday</td>\n      <td>1</td>\n      <td>12</td>\n      <td>3.2</td>\n      <td>11.5</td>\n      <td>17.8</td>\n      <td>26.5</td>\n    </tr>\n    <tr>\n      <th>2020-12-29</th>\n      <td>Not a public holiday</td>\n      <td>2</td>\n      <td>12</td>\n      <td>0.0</td>\n      <td>9.0</td>\n      <td>21.3</td>\n      <td>30.7</td>\n    </tr>\n    <tr>\n      <th>2020-12-30</th>\n      <td>Not a public holiday</td>\n      <td>3</td>\n      <td>12</td>\n      <td>0.0</td>\n      <td>13.7</td>\n      <td>21.4</td>\n      <td>30.3</td>\n    </tr>\n    <tr>\n      <th>2020-12-31</th>\n      <td>Not a public holiday</td>\n      <td>4</td>\n      <td>12</td>\n      <td>0.0</td>\n      <td>15.5</td>\n      <td>21.2</td>\n      <td>7.3</td>\n    </tr>\n  </tbody>\n</table>\n<p>61 rows × 7 columns</p>\n</div>"
          },
          "metadata": {},
          "execution_count": 9
        }
      ],
      "source": [
        "X_test['day'] = X_test.index.dayofweek + 1\n",
        "X_test['monthly_index'] = X_test.index.month\n",
        "\n",
        "X_test['Rainfall amount (millimetres)'] = test_dataset['Rainfall '].values\n",
        "X_test['Minimum temperature (Degree C)'] = test_dataset['Minimum temperature'].values\n",
        "X_test['Maximum temperature (Degree C)'] = test_dataset['Maximum Temperature'].values\n",
        "X_test['Daily global solar exposure (MJ/m*m)'] = test_dataset['Solar Exposure'].values\n",
        "\n",
        "X_test"
      ]
    },
    {
      "cell_type": "code",
      "execution_count": 10,
      "metadata": {},
      "outputs": [
        {
          "output_type": "execute_result",
          "data": {
            "text/plain": [
              "            day  monthly_index  Rainfall amount (millimetres)  \\\n",
              "2020-11-01    7             11                            0.0   \n",
              "2020-11-02    1             11                            0.0   \n",
              "2020-11-03    2             11                            0.0   \n",
              "2020-11-04    3             11                            0.0   \n",
              "2020-11-05    4             11                            2.8   \n",
              "...         ...            ...                            ...   \n",
              "2020-12-27    7             12                            0.0   \n",
              "2020-12-28    1             12                            3.2   \n",
              "2020-12-29    2             12                            0.0   \n",
              "2020-12-30    3             12                            0.0   \n",
              "2020-12-31    4             12                            0.0   \n",
              "\n",
              "            Minimum temperature (Degree C)  Maximum temperature (Degree C)  \\\n",
              "2020-11-01                            12.6                            17.0   \n",
              "2020-11-02                             9.6                            29.5   \n",
              "2020-11-03                            12.1                            30.4   \n",
              "2020-11-04                            21.9                            22.8   \n",
              "2020-11-05                            11.1                            15.8   \n",
              "...                                    ...                             ...   \n",
              "2020-12-27                            16.2                            31.9   \n",
              "2020-12-28                            11.5                            17.8   \n",
              "2020-12-29                             9.0                            21.3   \n",
              "2020-12-30                            13.7                            21.4   \n",
              "2020-12-31                            15.5                            21.2   \n",
              "\n",
              "            Daily global solar exposure (MJ/m*m)  holiday_code  \n",
              "2020-11-01                                  23.2             0  \n",
              "2020-11-02                                  26.8             0  \n",
              "2020-11-03                                  26.9             1  \n",
              "2020-11-04                                   5.5             0  \n",
              "2020-11-05                                  23.1             0  \n",
              "...                                          ...           ...  \n",
              "2020-12-27                                   3.3             0  \n",
              "2020-12-28                                  26.5             1  \n",
              "2020-12-29                                  30.7             0  \n",
              "2020-12-30                                  30.3             0  \n",
              "2020-12-31                                   7.3             0  \n",
              "\n",
              "[61 rows x 7 columns]"
            ],
            "text/html": "<div>\n<style scoped>\n    .dataframe tbody tr th:only-of-type {\n        vertical-align: middle;\n    }\n\n    .dataframe tbody tr th {\n        vertical-align: top;\n    }\n\n    .dataframe thead th {\n        text-align: right;\n    }\n</style>\n<table border=\"1\" class=\"dataframe\">\n  <thead>\n    <tr style=\"text-align: right;\">\n      <th></th>\n      <th>day</th>\n      <th>monthly_index</th>\n      <th>Rainfall amount (millimetres)</th>\n      <th>Minimum temperature (Degree C)</th>\n      <th>Maximum temperature (Degree C)</th>\n      <th>Daily global solar exposure (MJ/m*m)</th>\n      <th>holiday_code</th>\n    </tr>\n  </thead>\n  <tbody>\n    <tr>\n      <th>2020-11-01</th>\n      <td>7</td>\n      <td>11</td>\n      <td>0.0</td>\n      <td>12.6</td>\n      <td>17.0</td>\n      <td>23.2</td>\n      <td>0</td>\n    </tr>\n    <tr>\n      <th>2020-11-02</th>\n      <td>1</td>\n      <td>11</td>\n      <td>0.0</td>\n      <td>9.6</td>\n      <td>29.5</td>\n      <td>26.8</td>\n      <td>0</td>\n    </tr>\n    <tr>\n      <th>2020-11-03</th>\n      <td>2</td>\n      <td>11</td>\n      <td>0.0</td>\n      <td>12.1</td>\n      <td>30.4</td>\n      <td>26.9</td>\n      <td>1</td>\n    </tr>\n    <tr>\n      <th>2020-11-04</th>\n      <td>3</td>\n      <td>11</td>\n      <td>0.0</td>\n      <td>21.9</td>\n      <td>22.8</td>\n      <td>5.5</td>\n      <td>0</td>\n    </tr>\n    <tr>\n      <th>2020-11-05</th>\n      <td>4</td>\n      <td>11</td>\n      <td>2.8</td>\n      <td>11.1</td>\n      <td>15.8</td>\n      <td>23.1</td>\n      <td>0</td>\n    </tr>\n    <tr>\n      <th>...</th>\n      <td>...</td>\n      <td>...</td>\n      <td>...</td>\n      <td>...</td>\n      <td>...</td>\n      <td>...</td>\n      <td>...</td>\n    </tr>\n    <tr>\n      <th>2020-12-27</th>\n      <td>7</td>\n      <td>12</td>\n      <td>0.0</td>\n      <td>16.2</td>\n      <td>31.9</td>\n      <td>3.3</td>\n      <td>0</td>\n    </tr>\n    <tr>\n      <th>2020-12-28</th>\n      <td>1</td>\n      <td>12</td>\n      <td>3.2</td>\n      <td>11.5</td>\n      <td>17.8</td>\n      <td>26.5</td>\n      <td>1</td>\n    </tr>\n    <tr>\n      <th>2020-12-29</th>\n      <td>2</td>\n      <td>12</td>\n      <td>0.0</td>\n      <td>9.0</td>\n      <td>21.3</td>\n      <td>30.7</td>\n      <td>0</td>\n    </tr>\n    <tr>\n      <th>2020-12-30</th>\n      <td>3</td>\n      <td>12</td>\n      <td>0.0</td>\n      <td>13.7</td>\n      <td>21.4</td>\n      <td>30.3</td>\n      <td>0</td>\n    </tr>\n    <tr>\n      <th>2020-12-31</th>\n      <td>4</td>\n      <td>12</td>\n      <td>0.0</td>\n      <td>15.5</td>\n      <td>21.2</td>\n      <td>7.3</td>\n      <td>0</td>\n    </tr>\n  </tbody>\n</table>\n<p>61 rows × 7 columns</p>\n</div>"
          },
          "metadata": {},
          "execution_count": 10
        }
      ],
      "source": [
        "X = X.fillna(X.mean())\n",
        "\n",
        "\n",
        "combined = pd.concat([X, X_test])\n",
        "combined.Public_Holiday = pd.Categorical(combined.Public_Holiday)\n",
        "combined['holiday_code'] = combined.Public_Holiday.cat.codes\n",
        "combined.drop(columns=['Public_Holiday'], inplace = True)\n",
        "\n",
        "X = combined[:len(X)]\n",
        "X_test = combined[len(X):]\n",
        "\n",
        "X_test"
      ]
    },
    {
      "cell_type": "code",
      "execution_count": 11,
      "metadata": {},
      "outputs": [
        {
          "output_type": "execute_result",
          "data": {
            "text/plain": [
              "array([[-9.38637205e-04, -1.58631120e+00, -3.70860268e-01, ...,\n",
              "         1.03952738e+00,  1.11446043e+00,  5.09777812e+00],\n",
              "       [ 4.99354993e-01, -1.58631120e+00, -3.70860268e-01, ...,\n",
              "         2.94037146e+00,  1.51837475e+00, -1.96163893e-01],\n",
              "       [ 9.99648624e-01, -1.58631120e+00, -3.70860268e-01, ...,\n",
              "         2.84453058e+00,  1.48050778e+00, -1.96163893e-01],\n",
              "       ...,\n",
              "       [-9.38637205e-04,  1.06833203e+00, -3.70860268e-01, ...,\n",
              "         6.24216911e-01,  2.94009485e-01, -1.96163893e-01],\n",
              "       [ 4.99354993e-01,  1.06833203e+00, -3.70860268e-01, ...,\n",
              "        -2.86271427e-01,  7.86280055e-01, -1.96163893e-01],\n",
              "       [ 9.99648624e-01,  1.06833203e+00, -3.70860268e-01, ...,\n",
              "        -5.73794061e-01, -6.02175399e-01, -1.96163893e-01]])"
            ]
          },
          "metadata": {},
          "execution_count": 11
        }
      ],
      "source": [
        "from sklearn.preprocessing import StandardScaler\n",
        "newscaler = StandardScaler()\n",
        "X_scaled = newscaler.fit_transform(X) \n",
        "X_test_scaled = newscaler.fit_transform(X_test) \n",
        "X_scaled"
      ]
    },
    {
      "cell_type": "code",
      "execution_count": 12,
      "metadata": {},
      "outputs": [
        {
          "output_type": "execute_result",
          "data": {
            "text/plain": [
              "      Unnamed: 0        date  Total_Pedestrian_Count_per_day\n",
              "0              0  2015-01-01                          471563\n",
              "1              1  2015-01-02                          389048\n",
              "2              2  2015-01-03                          291761\n",
              "3              3  2015-01-04                          382364\n",
              "4              4  2015-01-05                          487220\n",
              "...          ...         ...                             ...\n",
              "2187        2187  2020-12-27                          385422\n",
              "2188        2188  2020-12-28                          473046\n",
              "2189        2189  2020-12-29                          497027\n",
              "2190        2190  2020-12-30                          467634\n",
              "2191        2191  2020-12-31                          472586\n",
              "\n",
              "[2192 rows x 3 columns]"
            ],
            "text/html": "<div>\n<style scoped>\n    .dataframe tbody tr th:only-of-type {\n        vertical-align: middle;\n    }\n\n    .dataframe tbody tr th {\n        vertical-align: top;\n    }\n\n    .dataframe thead th {\n        text-align: right;\n    }\n</style>\n<table border=\"1\" class=\"dataframe\">\n  <thead>\n    <tr style=\"text-align: right;\">\n      <th></th>\n      <th>Unnamed: 0</th>\n      <th>date</th>\n      <th>Total_Pedestrian_Count_per_day</th>\n    </tr>\n  </thead>\n  <tbody>\n    <tr>\n      <th>0</th>\n      <td>0</td>\n      <td>2015-01-01</td>\n      <td>471563</td>\n    </tr>\n    <tr>\n      <th>1</th>\n      <td>1</td>\n      <td>2015-01-02</td>\n      <td>389048</td>\n    </tr>\n    <tr>\n      <th>2</th>\n      <td>2</td>\n      <td>2015-01-03</td>\n      <td>291761</td>\n    </tr>\n    <tr>\n      <th>3</th>\n      <td>3</td>\n      <td>2015-01-04</td>\n      <td>382364</td>\n    </tr>\n    <tr>\n      <th>4</th>\n      <td>4</td>\n      <td>2015-01-05</td>\n      <td>487220</td>\n    </tr>\n    <tr>\n      <th>...</th>\n      <td>...</td>\n      <td>...</td>\n      <td>...</td>\n    </tr>\n    <tr>\n      <th>2187</th>\n      <td>2187</td>\n      <td>2020-12-27</td>\n      <td>385422</td>\n    </tr>\n    <tr>\n      <th>2188</th>\n      <td>2188</td>\n      <td>2020-12-28</td>\n      <td>473046</td>\n    </tr>\n    <tr>\n      <th>2189</th>\n      <td>2189</td>\n      <td>2020-12-29</td>\n      <td>497027</td>\n    </tr>\n    <tr>\n      <th>2190</th>\n      <td>2190</td>\n      <td>2020-12-30</td>\n      <td>467634</td>\n    </tr>\n    <tr>\n      <th>2191</th>\n      <td>2191</td>\n      <td>2020-12-31</td>\n      <td>472586</td>\n    </tr>\n  </tbody>\n</table>\n<p>2192 rows × 3 columns</p>\n</div>"
          },
          "metadata": {},
          "execution_count": 12
        }
      ],
      "source": [
        "new_results_df_per_day = pd.read_csv('new_results_df_per_day.csv') \n",
        "new_results_df_per_day"
      ]
    },
    {
      "cell_type": "code",
      "metadata": {
        "colab": {
          "base_uri": "https://localhost:8080/"
        },
        "id": "_V_Z-ynAgQNg",
        "outputId": "489c73cd-1038-4346-fb87-69e63db39dcd"
      },
      "source": [
        "realY = new_results_df_per_day['Total_Pedestrian_Count_per_day'].iloc[-61:]"
      ],
      "execution_count": 13,
      "outputs": []
    },
    {
      "source": [
        "## KNN"
      ],
      "cell_type": "markdown",
      "metadata": {}
    },
    {
      "cell_type": "code",
      "execution_count": 14,
      "metadata": {
        "tags": []
      },
      "outputs": [],
      "source": [
        "\n",
        "from sklearn.neighbors import KNeighborsRegressor\n",
        "from sklearn.metrics import mean_squared_error\n",
        "scores = []\n",
        "neighbor = []\n",
        "leaf_size = []\n",
        "metric = []\n",
        "weight = []\n",
        "algorithm = []\n",
        "\n",
        "n_neighbors = [2,3,4,5,6,7,8,9]\n",
        "leaf_sizes = [10,20,30,50,100,500]\n",
        "metrics = ['euclidean','chebyshev','manhattan']\n",
        "weights = ['uniform', 'distance']\n",
        "algorithms = ['auto', 'ball_tree', 'kd_tree', 'brute'] \n",
        "\n",
        "for i in n_neighbors:\n",
        "  for j in leaf_sizes:\n",
        "    for k in metrics:\n",
        "      for l in weights:\n",
        "        for m in algorithms:\n",
        "          knn = KNeighborsRegressor(n_neighbors = i, leaf_size = j, metric = k, weights = l, algorithm = m)\n",
        "          knn.fit(X_scaled, Y)\n",
        "          scores.append(mean_squared_error(realY, knn.predict(X_test_scaled)))\n",
        "          neighbor.append(i)\n",
        "          leaf_size.append(j)\n",
        "          metric.append(k)\n",
        "          weight.append(l)\n",
        "          algorithm.append(m)"
      ]
    },
    {
      "cell_type": "code",
      "execution_count": 15,
      "metadata": {},
      "outputs": [
        {
          "output_type": "execute_result",
          "data": {
            "text/plain": [
              "[6, 10, 'manhattan', 'distance', 'auto']"
            ]
          },
          "metadata": {},
          "execution_count": 15
        }
      ],
      "source": [
        "min(scores)\n",
        "import numpy as np\n",
        "index = np.argmin(scores)\n",
        "parameters = [neighbor[index], leaf_size[index], metric[index], weight[index], algorithm[index]]\n",
        "parameters"
      ]
    },
    {
      "cell_type": "code",
      "execution_count": 16,
      "metadata": {},
      "outputs": [
        {
          "output_type": "stream",
          "name": "stdout",
          "text": [
            "[[339667.         459667.96555429]\n [335642.         704420.55008969]\n [286980.         595268.45662122]\n [190675.         628759.86066333]\n [246692.         487559.92517591]\n [288551.         636198.6795056 ]\n [365548.         526386.8431199 ]\n [321671.         474645.05467835]\n [262820.         655214.17955375]\n [264765.         689842.57413073]\n [224537.         604084.61411684]\n [287179.         718199.45604958]\n [330106.         526209.74502305]\n [436497.         505105.38364594]\n [300190.         635856.71298117]\n [257361.         690260.82170979]\n [287853.         596871.15355293]\n [313407.         756635.31670842]\n [300283.         716713.57828862]\n [397150.         751657.17803946]\n [489118.         717505.91119538]\n [309849.         640799.11492241]\n [261242.         490539.34821066]\n [316024.         515438.19331956]\n [340384.         748893.4297231 ]\n [353597.         657218.26156485]\n [456912.         740938.87145997]\n [481376.         573191.28932093]\n [358501.         466744.8288591 ]\n [351099.         685457.59107981]\n [316908.         433550.08820603]\n [366340.         567292.54461365]\n [392107.         747570.6912195 ]\n [493588.         834717.94816707]\n [489269.         346222.2433085 ]\n [404066.         504464.06499098]\n [311007.         592977.09456736]\n [376385.         474819.60526103]\n [448039.         504443.18338297]\n [438663.         706679.15921736]\n [543000.         769290.32180224]\n [595152.         659036.053457  ]\n [439515.         465609.31276058]\n [366040.         653114.40589613]\n [378222.         662594.69233821]\n [463787.         654041.25761474]\n [460825.         574634.09008412]\n [572248.         667626.1098231 ]\n [599961.         534219.04143645]\n [539991.         528640.62048113]\n [464319.         614944.87394745]\n [403194.         502652.4459707 ]\n [578815.         610712.79518558]\n [505150.         653516.25578236]\n [332150.         560620.51402874]\n [578967.         679520.4913144 ]\n [385422.         448480.86277183]\n [473046.         566581.21118781]\n [497027.         630984.93370053]\n [467634.         493419.56122311]\n [472586.         592709.36132498]]\n"
          ]
        }
      ],
      "source": [
        "knn_min = KNeighborsRegressor(n_neighbors = 6, leaf_size = 10, metric = 'manhattan', weights = 'distance', algorithm = 'auto')\n",
        "knn_min.fit(X_scaled, Y)\n",
        "Y_pred_knn = knn_min.predict(X_test_scaled)\n",
        "print(\n",
        "    np.concatenate((\n",
        "        realY.values.reshape(len(realY),1), \n",
        "        Y_pred_knn.reshape(len(Y_pred_knn),1)\n",
        "),1))"
      ]
    },
    {
      "source": [
        "SVM"
      ],
      "cell_type": "markdown",
      "metadata": {}
    },
    {
      "cell_type": "code",
      "execution_count": 17,
      "metadata": {},
      "outputs": [],
      "source": [
        "from sklearn.svm import SVR\n",
        "scores = []\n",
        "kernel = []\n",
        "gamma = []\n",
        "C = []\n",
        "degree = []\n",
        "\n",
        "kernels = ['linear', 'rbf']\n",
        "gammas = [0.1, 1, 10, 100]\n",
        "Cs = [0.1, 1, 10, 100]\n",
        "degrees = [0, 1, 2, 3, 4, 5, 6]\n",
        "\n",
        "\n",
        "for i in kernels:\n",
        "  for j in gammas:\n",
        "    for k in Cs:\n",
        "        for l in degrees: \n",
        "          svm = SVR(kernel=i, gamma=j, C=k, degree=l)\n",
        "          svm.fit(X_scaled, Y)\n",
        "          scores.append(mean_squared_error(realY, svm.predict(X_test_scaled)))\n",
        "          kernel.append(i)\n",
        "          gamma.append(j)\n",
        "          C.append(k)\n",
        "          degree.append(l)\n"
      ]
    },
    {
      "cell_type": "code",
      "execution_count": 18,
      "metadata": {},
      "outputs": [
        {
          "output_type": "execute_result",
          "data": {
            "text/plain": [
              "['linear', 0.1, 100, 0]"
            ]
          },
          "metadata": {},
          "execution_count": 18
        }
      ],
      "source": [
        "index = np.argmin(scores)\n",
        "parameters = [kernel[index], gamma[index], C[index], degree[index]]\n",
        "parameters"
      ]
    },
    {
      "cell_type": "code",
      "execution_count": 20,
      "metadata": {},
      "outputs": [
        {
          "output_type": "stream",
          "name": "stdout",
          "text": [
            "[[339667.         586982.78519841]\n [335642.         649177.44932603]\n [286980.         612473.82377984]\n [190675.         620965.93201419]\n [246692.         601626.92548276]\n [288551.         580267.32123854]\n [365548.         588495.80994919]\n [321671.         589778.25367785]\n [262820.         654829.29441188]\n [264765.         663056.56973486]\n [224537.         633015.18070337]\n [287179.         630386.62190456]\n [330106.         606981.2095484 ]\n [436497.         604376.32102995]\n [300190.         598982.80367629]\n [257361.         663528.28083278]\n [287853.         636151.70871347]\n [313407.         641861.03315557]\n [300283.         652239.09154053]\n [397150.         621891.83848751]\n [489118.         603496.97529097]\n [309849.         593717.80229261]\n [261242.         605981.13650345]\n [316024.         622943.03467688]\n [340384.         647659.04699007]\n [353597.         624207.14254444]\n [456912.         634583.57407405]\n [481376.         589637.94603239]\n [358501.         586822.71703344]\n [351099.         655065.96524193]\n [316908.         641224.85886642]\n [366340.         639701.48394119]\n [392107.         640584.16968376]\n [493588.         634287.23660238]\n [489269.         608234.50161742]\n [404066.         595773.13794717]\n [311007.         637737.42916701]\n [376385.         615482.55697094]\n [448039.         646367.35524371]\n [438663.         631743.22664727]\n [543000.         628100.87376552]\n [595152.         636576.75420972]\n [439515.         636735.45657749]\n [366040.         694813.22792313]\n [378222.         685945.16951378]\n [463787.         648351.27918653]\n [460825.         646434.23751526]\n [572248.         607023.5212874 ]\n [599961.         618751.9173807 ]\n [539991.         609668.48645865]\n [464319.         635368.67905891]\n [403194.         615943.67217182]\n [578815.         634322.63064354]\n [505150.         626757.00293122]\n [332150.         586160.2106986 ]\n [578967.         595854.30937258]\n [385422.         605061.33405323]\n [473046.         609938.77354426]\n [497027.         647252.87762286]\n [467634.         649696.33359006]\n [472586.         614066.27698968]]\n"
          ]
        }
      ],
      "source": [
        "svm_min = SVR(kernel='linear', gamma=0.1, C=100, degree=0)\n",
        "svm_min.fit(X_scaled, Y)\n",
        "Y_pred_svm = svm_min.predict(X_test_scaled)\n",
        "print(\n",
        "    np.concatenate((\n",
        "        realY.values.reshape(len(realY),1), \n",
        "        Y_pred_svm.reshape(len(Y_pred_svm),1)\n",
        "),1))"
      ]
    },
    {
      "cell_type": "code",
      "execution_count": 21,
      "metadata": {},
      "outputs": [],
      "source": [
        "from sklearn.tree import DecisionTreeRegressor\n",
        "scores\n",
        "# Decision Tree\n",
        "scores = []\n",
        "splitter = []\n",
        "criterion =  []\n",
        "max_depth = []\n",
        "max_feature = []\n",
        "min_samples_split = []\n",
        "\n",
        "splitters =['best','random']\n",
        "criterions = ['mse', 'friedman_mse', 'mae']\n",
        "max_depths = [1,2,3,4,5,10,20,30,40]\n",
        "max_features =['auto','sqrt','log2'] \n",
        "min_samples_splits = [2,3,4,5,10,20,30,40]\n",
        "\n",
        "for i in splitters:\n",
        "  for j in criterions:\n",
        "    for k in max_depths:\n",
        "      for l in max_features:\n",
        "        for m in min_samples_splits:\n",
        "            tree = DecisionTreeRegressor(splitter = i, criterion = j, max_depth = k, max_features = l, min_samples_split = m)\n",
        "            tree.fit(X_scaled, Y)\n",
        "            scores.append(mean_squared_error(realY, tree.predict(X_test_scaled)))\n",
        "\n",
        "            splitter.append(i)\n",
        "            criterion.append(j)\n",
        "            max_depth.append(k)\n",
        "            max_feature.append(l)\n",
        "            min_samples_split.append(m)"
      ]
    },
    {
      "cell_type": "code",
      "execution_count": 22,
      "metadata": {},
      "outputs": [
        {
          "output_type": "execute_result",
          "data": {
            "text/plain": [
              "['best', 'mse', 20, 'sqrt', 40]"
            ]
          },
          "metadata": {},
          "execution_count": 22
        }
      ],
      "source": [
        "index = np.argmin(scores)\n",
        "parameters = [splitter[index], criterion[index], max_depth[index], max_feature[index], min_samples_split[index]]\n",
        "parameters"
      ]
    },
    {
      "cell_type": "code",
      "execution_count": 23,
      "metadata": {},
      "outputs": [
        {
          "output_type": "stream",
          "name": "stdout",
          "text": [
            "[[339667.         631451.40710383]\n [335642.         631451.40710383]\n [286980.         631451.40710383]\n [190675.         577992.59591837]\n [246692.         631451.40710383]\n [288551.         577992.59591837]\n [365548.         631451.40710383]\n [321671.         631451.40710383]\n [262820.         631451.40710383]\n [264765.         631451.40710383]\n [224537.         577992.59591837]\n [287179.         577992.59591837]\n [330106.         577992.59591837]\n [436497.         631451.40710383]\n [300190.         451168.81818182]\n [257361.         631451.40710383]\n [287853.         631451.40710383]\n [313407.         631451.40710383]\n [300283.         631451.40710383]\n [397150.         631451.40710383]\n [489118.         577992.59591837]\n [309849.         451168.81818182]\n [261242.         577992.59591837]\n [316024.         577992.59591837]\n [340384.         631451.40710383]\n [353597.         631451.40710383]\n [456912.         631451.40710383]\n [481376.         577992.59591837]\n [358501.         451168.81818182]\n [351099.         631451.40710383]\n [316908.         577992.59591837]\n [366340.         631451.40710383]\n [392107.         631451.40710383]\n [493588.         631451.40710383]\n [489269.         577992.59591837]\n [404066.         451168.81818182]\n [311007.         577992.59591837]\n [376385.         577992.59591837]\n [448039.         631451.40710383]\n [438663.         631451.40710383]\n [543000.         631451.40710383]\n [595152.         631451.40710383]\n [439515.         631451.40710383]\n [366040.         631451.40710383]\n [378222.         631451.40710383]\n [463787.         631451.40710383]\n [460825.         631451.40710383]\n [572248.         577992.59591837]\n [599961.         631451.40710383]\n [539991.         631451.40710383]\n [464319.         577992.59591837]\n [403194.         577992.59591837]\n [578815.         631451.40710383]\n [505150.         631451.40710383]\n [332150.         631451.40710383]\n [578967.         631451.40710383]\n [385422.         451168.81818182]\n [473046.         631451.40710383]\n [497027.         631451.40710383]\n [467634.         631451.40710383]\n [472586.         577992.59591837]]\n"
          ]
        }
      ],
      "source": [
        "tree_min = DecisionTreeRegressor(splitter = 'best', criterion = 'mse', max_depth = 2, max_features = 'sqrt', min_samples_split = 3)\n",
        "tree_min.fit(X_scaled, Y)\n",
        "Y_pred_tree = tree_min.predict(X_test_scaled)\n",
        "print(\n",
        "    np.concatenate((\n",
        "        realY.values.reshape(len(realY),1), \n",
        "        Y_pred_tree.reshape(len(Y_pred_tree),1)\n",
        "),1))"
      ]
    },
    {
      "cell_type": "code",
      "execution_count": 24,
      "metadata": {},
      "outputs": [],
      "source": [
        "from sklearn.ensemble import RandomForestRegressor\n",
        "# Random forest\n",
        "scores = []\n",
        "n_estimator = []\n",
        "criterion =  []\n",
        "max_depth = []\n",
        "max_feature = []\n",
        "min_samples_split = []\n",
        "\n",
        "\n",
        "criterions = ['mse', 'friedman_mse']\n",
        "max_depths = [10,20,30,40]\n",
        "max_features =['auto','sqrt','log2'] \n",
        "min_samples_splits = [10,20,30,40]\n",
        "n_estimators =[10,50,100]\n",
        "\n",
        "\n",
        "for i in n_estimators:\n",
        "  for j in criterions:\n",
        "    for k in max_depths:\n",
        "      for l in max_features:\n",
        "        for m in min_samples_splits:\n",
        "            rf = RandomForestRegressor(n_estimators = i, criterion = j, max_depth = k, max_features = l, min_samples_split = m)\n",
        "            rf.fit(X_scaled, Y)\n",
        "            scores.append(mean_squared_error(realY, rf.predict(X_test_scaled)))\n",
        "\n",
        "            n_estimator.append(i)\n",
        "            criterion.append(j)\n",
        "            max_depth.append(k)\n",
        "            max_feature.append(l)\n",
        "            min_samples_split.append(m)"
      ]
    },
    {
      "cell_type": "code",
      "execution_count": 25,
      "metadata": {},
      "outputs": [
        {
          "output_type": "execute_result",
          "data": {
            "text/plain": [
              "[10, 'mse', 40, 'auto', 30]"
            ]
          },
          "metadata": {},
          "execution_count": 25
        }
      ],
      "source": [
        "index = np.argmin(scores)\n",
        "parameters = [n_estimator[index], criterion[index], max_depth[index], max_feature[index], min_samples_split[index]]\n",
        "parameters"
      ]
    },
    {
      "cell_type": "code",
      "execution_count": 26,
      "metadata": {},
      "outputs": [
        {
          "output_type": "stream",
          "name": "stdout",
          "text": [
            "[[339667.         461589.38943962]\n [335642.         623424.11153805]\n [286980.         638898.26605866]\n [190675.         643049.13281455]\n [246692.         638239.5569076 ]\n [288551.         585085.09103051]\n [365548.         514607.20986217]\n [321671.         471949.49383642]\n [262820.         632962.71627489]\n [264765.         688642.6362069 ]\n [224537.         639269.22787879]\n [287179.         558886.04341677]\n [330106.         702067.38247154]\n [436497.         560999.35693105]\n [300190.         526563.7633555 ]\n [257361.         650049.36864783]\n [287853.         609441.82216192]\n [313407.         666146.70752137]\n [300283.         705510.48788439]\n [397150.         737600.24325318]\n [489118.         650296.08089444]\n [309849.         535068.85326277]\n [261242.         468079.77516268]\n [316024.         500960.05490555]\n [340384.         679943.62353483]\n [353597.         593975.75915621]\n [456912.         681744.16428504]\n [481376.         560014.03686044]\n [358501.         332255.5757036 ]\n [351099.         576656.59684211]\n [316908.         634090.10223071]\n [366340.         540955.1756774 ]\n [392107.         687034.82028611]\n [493588.         675072.12381825]\n [489269.         637451.91995885]\n [404066.         415992.48657372]\n [311007.         541518.29771733]\n [376385.         433568.00680927]\n [448039.         598483.98582077]\n [438663.         557343.52685383]\n [543000.         662712.74090779]\n [595152.         655422.82983957]\n [439515.         564109.30712121]\n [366040.         644450.45258408]\n [378222.         681700.16263292]\n [463787.         640270.38492512]\n [460825.         710458.39107802]\n [572248.         622444.81517281]\n [599961.         572500.55246166]\n [539991.         423047.98647566]\n [464319.         526277.76106061]\n [403194.         432697.8934816 ]\n [578815.         604031.88777138]\n [505150.         668184.94030237]\n [332150.         642267.60156008]\n [578967.         611501.55666667]\n [385422.         468849.4953356 ]\n [473046.         529994.27731476]\n [497027.         597650.51888325]\n [467634.         627521.76552856]\n [472586.         629871.55912401]]\n"
          ]
        }
      ],
      "source": [
        "rf_min = RandomForestRegressor(n_estimators = 10, criterion = 'mse', max_depth = 40, max_features = 'log2', min_samples_split = 20)\n",
        "rf_min.fit(X_scaled, Y)\n",
        "Y_pred_rf = rf_min.predict(X_test_scaled)\n",
        "print(\n",
        "    np.concatenate((\n",
        "        realY.values.reshape(len(realY),1), \n",
        "        Y_pred_rf.reshape(len(Y_pred_rf),1)\n",
        "),1))"
      ]
    },
    {
      "cell_type": "code",
      "execution_count": 33,
      "metadata": {},
      "outputs": [
        {
          "output_type": "stream",
          "name": "stdout",
          "text": [
            "(1, 1, 1) tanh\n",
            "(1, 1, 1) relu\n",
            "(1, 1, 1) logistic\n",
            "(2, 2, 2) tanh\n",
            "(2, 2, 2) relu\n",
            "(2, 2, 2) logistic\n",
            "(3, 3, 3) tanh\n",
            "(3, 3, 3) relu\n",
            "(3, 3, 3) logistic\n",
            "(4, 4, 4) tanh\n",
            "(4, 4, 4) relu\n",
            "(4, 4, 4) logistic\n",
            "(5, 5, 5) tanh\n",
            "(5, 5, 5) relu\n",
            "(5, 5, 5) logistic\n",
            "(6, 6, 6) tanh\n",
            "(6, 6, 6) relu\n",
            "(6, 6, 6) logistic\n",
            "(7, 7, 7) tanh\n",
            "(7, 7, 7) relu\n",
            "(7, 7, 7) logistic\n",
            "(8, 8, 8) tanh\n",
            "(8, 8, 8) relu\n",
            "(8, 8, 8) logistic\n",
            "(9, 9, 9) tanh\n",
            "(9, 9, 9) relu\n",
            "(9, 9, 9) logistic\n"
          ]
        }
      ],
      "source": [
        "from sklearn.neural_network import MLPRegressor\n",
        "\n",
        "scores = []\n",
        "hidden_layer_size = []\n",
        "solver = []\n",
        "activation = []\n",
        "alpha = []\n",
        "learning_rate = []\n",
        "\n",
        "hidden_layer_sizes = []\n",
        "for i in range(1,10):\n",
        "  hidden_layer_sizes.append(((i,i,i)))\n",
        "activations = ['tanh', 'relu', 'logistic']\n",
        "solvers = ['lbfgs', 'sgd', 'adam']\n",
        "alphas = [0.0001, 0.05, 0.01, .001]\n",
        "learning_rates = ['constant','adaptive', 'invscaling']\n",
        "\n",
        "for i in hidden_layer_sizes:\n",
        "  for j in activations:\n",
        "    print(i, j)\n",
        "    for k in solvers:\n",
        "      for l in alphas:\n",
        "        for m in learning_rates:\n",
        "          nn = MLPRegressor(hidden_layer_sizes = i, activation = j, solver = k, alpha = l, learning_rate = m)\n",
        "          nn.fit(X_scaled, Y)\n",
        "          scores.append(mean_squared_error(realY, nn.predict(X_test_scaled)))\n",
        "\n",
        "          hidden_layer_size.append(i)\n",
        "          activation.append(j)\n",
        "          solver.append(k)\n",
        "          alpha.append(l)\n",
        "          learning_rate.append(m)"
      ]
    },
    {
      "cell_type": "code",
      "execution_count": 37,
      "metadata": {},
      "outputs": [
        {
          "output_type": "execute_result",
          "data": {
            "text/plain": [
              "[(4, 4, 4), 'tanh', 'sgd', 0.0001, 'invscaling']"
            ]
          },
          "metadata": {},
          "execution_count": 37
        }
      ],
      "source": [
        "index = np.argmin(scores)\n",
        "parameters = [hidden_layer_size[index], activation[index], solver[index], alpha[index], learning_rate[index]]\n",
        "parameters"
      ]
    },
    {
      "cell_type": "code",
      "execution_count": 38,
      "metadata": {},
      "outputs": [
        {
          "output_type": "stream",
          "name": "stdout",
          "text": [
            "[[339667.         372816.53165363]\n [335642.         372816.53165363]\n [286980.         372816.53165363]\n [190675.         372816.53165363]\n [246692.         372816.53165363]\n [288551.         372816.53165363]\n [365548.         372816.53165363]\n [321671.         372816.53165363]\n [262820.         372816.53165363]\n [264765.         372816.53165363]\n [224537.         372816.53165363]\n [287179.         372816.53165363]\n [330106.         372816.53165363]\n [436497.         372816.53165363]\n [300190.         372816.53165363]\n [257361.         372816.53165363]\n [287853.         372816.53165363]\n [313407.         372816.53165363]\n [300283.         372816.53165363]\n [397150.         372816.53165363]\n [489118.         372816.53165363]\n [309849.         372816.53165363]\n [261242.         372816.53165363]\n [316024.         372816.53165363]\n [340384.         372816.53165363]\n [353597.         372816.53165363]\n [456912.         372816.53165363]\n [481376.         372816.53165363]\n [358501.         372816.53165363]\n [351099.         372816.53165363]\n [316908.         372816.53165363]\n [366340.         372816.53165363]\n [392107.         372816.53165363]\n [493588.         372816.53165363]\n [489269.         372816.53165363]\n [404066.         372816.53165363]\n [311007.         372816.53165363]\n [376385.         372816.53165363]\n [448039.         372816.53165363]\n [438663.         372816.53165363]\n [543000.         372816.53165363]\n [595152.         372816.53165363]\n [439515.         372816.53165363]\n [366040.         372816.53165363]\n [378222.         372816.53165363]\n [463787.         372816.53165363]\n [460825.         372816.53165363]\n [572248.         372816.53165363]\n [599961.         372816.53165363]\n [539991.         372816.53165363]\n [464319.         372816.53165363]\n [403194.         372816.53165363]\n [578815.         372816.53165363]\n [505150.         372816.53165363]\n [332150.         372816.53165363]\n [578967.         372816.53165363]\n [385422.         372816.53165363]\n [473046.         372816.53165363]\n [497027.         372816.53165363]\n [467634.         372816.53165363]\n [472586.         372816.53165363]]\n"
          ]
        }
      ],
      "source": [
        "nn_min = MLPRegressor(hidden_layer_sizes = (4,4,4), activation = 'tanh', solver = 'sgd', alpha = 0.0001, learning_rate = 'invscaling')\n",
        "nn_min.fit(X_scaled, Y)\n",
        "Y_pred_nn = nn_min.predict(X_test_scaled)\n",
        "print(\n",
        "    np.concatenate((\n",
        "        realY.values.reshape(len(realY),1), \n",
        "        Y_pred_nn.reshape(len(Y_pred_nn),1)\n",
        "),1))"
      ]
    },
    {
      "cell_type": "code",
      "execution_count": 39,
      "metadata": {},
      "outputs": [
        {
          "output_type": "stream",
          "name": "stdout",
          "text": [
            "+---------------+-------+\n| Algorithm     |   r2  |\n+---------------+-------+\n| KNN           | -5.36 |\n| SVM           | -5.45 |\n| Decision Tree | -4.42 |\n| Random Forest | -4.60 |\n| SVR           | -0.04 |\n+---------------+-------+\n"
          ]
        }
      ],
      "source": [
        "from prettytable import PrettyTable\n",
        "from sklearn.metrics import r2_score\n",
        "rt = PrettyTable([\"Algorithm\", \"r2\"])\n",
        "rt.align[\"Algorithm\"] = \"l\" # Left align city names\n",
        "rt.padding_width = 1 # One space between column edges and contents (default)\n",
        "rt.add_row([\"KNN\",\n",
        "            '{:.2f}'.format(r2_score(realY, Y_pred_knn))])\n",
        "rt.add_row([\"SVM\",\n",
        "            '{:.2f}'.format(r2_score(realY, Y_pred_svm))])\n",
        "rt.add_row([\"Decision Tree\",\n",
        "            '{:.2f}'.format(r2_score(realY, Y_pred_tree))])\n",
        "rt.add_row([\"Random Forest\",\n",
        "            '{:.2f}'.format(r2_score(realY, Y_pred_rf))])\n",
        "rt.add_row([\"SVR\",\n",
        "            '{:.2f}'.format(r2_score(realY, Y_pred_nn))])\n",
        "print(rt)"
      ]
    },
    {
      "cell_type": "code",
      "execution_count": 40,
      "metadata": {},
      "outputs": [],
      "source": [
        "#save the best model\n",
        "import pickle\n",
        "pickle.dump(tree_min, open('Model/pedestriant_ml_prediction_model', 'wb'))"
      ]
    },
    {
      "cell_type": "code",
      "execution_count": null,
      "metadata": {},
      "outputs": [],
      "source": []
    }
  ]
}