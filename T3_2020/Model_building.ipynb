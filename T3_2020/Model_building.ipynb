{
  "nbformat": 4,
  "nbformat_minor": 0,
  "metadata": {
    "colab": {
      "name": "Pedestrian_Count_dataset.ipynb",
      "provenance": [],
      "collapsed_sections": []
    },
    "kernelspec": {
      "display_name": "Python 3",
      "name": "python3",
      "language": "python"
    }
  },
  "cells": [
    {
      "cell_type": "code",
      "metadata": {
        "colab": {
          "base_uri": "https://localhost:8080/"
        },
        "id": "uhXyz3430Vc9",
        "outputId": "80a81eea-7d46-4647-92ea-404c44557882"
      },
      "source": [
        "import pandas as pd\n",
        "df = pd.read_csv('dataset_with_public_holidays.csv')\n",
        "df"
      ],
      "execution_count": 16,
      "outputs": [
        {
          "output_type": "execute_result",
          "data": {
            "text/plain": [
              "            Date  day  monthly_index Covid Restrictions        Public_Holiday  \\\n",
              "0     01-01-2015    4              1     No restriction        Public Holiday   \n",
              "1     02-01-2015    5              1     No restriction  Not a public holiday   \n",
              "2     03-01-2015    6              1     No restriction  Not a public holiday   \n",
              "3     04-01-2015    7              1     No restriction  Not a public holiday   \n",
              "4     05-01-2015    1              1     No restriction  Not a public holiday   \n",
              "...          ...  ...            ...                ...                   ...   \n",
              "2127  27-10-2020    2             10       Restrictions  Not a public holiday   \n",
              "2128  28-10-2020    3             10       Restrictions  Not a public holiday   \n",
              "2129  29-10-2020    4             10       Restrictions  Not a public holiday   \n",
              "2130  30-10-2020    5             10       Restrictions  Not a public holiday   \n",
              "2131  31-10-2020    6             10       Restrictions  Not a public holiday   \n",
              "\n",
              "      Rainfall amount (millimetres)  Minimum temperature (Degree C)  \\\n",
              "0                               0.0                            13.3   \n",
              "1                               0.0                            15.4   \n",
              "2                               0.0                            20.0   \n",
              "3                               4.6                            16.3   \n",
              "4                               0.0                            15.0   \n",
              "...                             ...                             ...   \n",
              "2127                            0.0                            11.1   \n",
              "2128                            0.0                             9.5   \n",
              "2129                            0.0                            11.2   \n",
              "2130                            0.0                            12.9   \n",
              "2131                            0.0                            14.2   \n",
              "\n",
              "      Maximum temperature (Degree C)  Daily global solar exposure (MJ/m*m)  \\\n",
              "0                               26.9                                  23.6   \n",
              "1                               38.8                                  26.8   \n",
              "2                               38.2                                  26.5   \n",
              "3                               21.4                                  25.2   \n",
              "4                               22.0                                  30.7   \n",
              "...                              ...                                   ...   \n",
              "2127                            19.6                                  20.1   \n",
              "2128                            20.9                                  26.7   \n",
              "2129                            24.3                                  17.1   \n",
              "2130                            18.6                                  21.0   \n",
              "2131                            16.8                                  10.0   \n",
              "\n",
              "      Total_Pedestrian_Count_per_day  \n",
              "0                             471563  \n",
              "1                             389048  \n",
              "2                             291761  \n",
              "3                             382364  \n",
              "4                             487220  \n",
              "...                              ...  \n",
              "2127                          177267  \n",
              "2128                          311278  \n",
              "2129                          263334  \n",
              "2130                          313225  \n",
              "2131                          370181  \n",
              "\n",
              "[2132 rows x 10 columns]"
            ],
            "text/html": "<div>\n<style scoped>\n    .dataframe tbody tr th:only-of-type {\n        vertical-align: middle;\n    }\n\n    .dataframe tbody tr th {\n        vertical-align: top;\n    }\n\n    .dataframe thead th {\n        text-align: right;\n    }\n</style>\n<table border=\"1\" class=\"dataframe\">\n  <thead>\n    <tr style=\"text-align: right;\">\n      <th></th>\n      <th>Date</th>\n      <th>day</th>\n      <th>monthly_index</th>\n      <th>Covid Restrictions</th>\n      <th>Public_Holiday</th>\n      <th>Rainfall amount (millimetres)</th>\n      <th>Minimum temperature (Degree C)</th>\n      <th>Maximum temperature (Degree C)</th>\n      <th>Daily global solar exposure (MJ/m*m)</th>\n      <th>Total_Pedestrian_Count_per_day</th>\n    </tr>\n  </thead>\n  <tbody>\n    <tr>\n      <th>0</th>\n      <td>01-01-2015</td>\n      <td>4</td>\n      <td>1</td>\n      <td>No restriction</td>\n      <td>Public Holiday</td>\n      <td>0.0</td>\n      <td>13.3</td>\n      <td>26.9</td>\n      <td>23.6</td>\n      <td>471563</td>\n    </tr>\n    <tr>\n      <th>1</th>\n      <td>02-01-2015</td>\n      <td>5</td>\n      <td>1</td>\n      <td>No restriction</td>\n      <td>Not a public holiday</td>\n      <td>0.0</td>\n      <td>15.4</td>\n      <td>38.8</td>\n      <td>26.8</td>\n      <td>389048</td>\n    </tr>\n    <tr>\n      <th>2</th>\n      <td>03-01-2015</td>\n      <td>6</td>\n      <td>1</td>\n      <td>No restriction</td>\n      <td>Not a public holiday</td>\n      <td>0.0</td>\n      <td>20.0</td>\n      <td>38.2</td>\n      <td>26.5</td>\n      <td>291761</td>\n    </tr>\n    <tr>\n      <th>3</th>\n      <td>04-01-2015</td>\n      <td>7</td>\n      <td>1</td>\n      <td>No restriction</td>\n      <td>Not a public holiday</td>\n      <td>4.6</td>\n      <td>16.3</td>\n      <td>21.4</td>\n      <td>25.2</td>\n      <td>382364</td>\n    </tr>\n    <tr>\n      <th>4</th>\n      <td>05-01-2015</td>\n      <td>1</td>\n      <td>1</td>\n      <td>No restriction</td>\n      <td>Not a public holiday</td>\n      <td>0.0</td>\n      <td>15.0</td>\n      <td>22.0</td>\n      <td>30.7</td>\n      <td>487220</td>\n    </tr>\n    <tr>\n      <th>...</th>\n      <td>...</td>\n      <td>...</td>\n      <td>...</td>\n      <td>...</td>\n      <td>...</td>\n      <td>...</td>\n      <td>...</td>\n      <td>...</td>\n      <td>...</td>\n      <td>...</td>\n    </tr>\n    <tr>\n      <th>2127</th>\n      <td>27-10-2020</td>\n      <td>2</td>\n      <td>10</td>\n      <td>Restrictions</td>\n      <td>Not a public holiday</td>\n      <td>0.0</td>\n      <td>11.1</td>\n      <td>19.6</td>\n      <td>20.1</td>\n      <td>177267</td>\n    </tr>\n    <tr>\n      <th>2128</th>\n      <td>28-10-2020</td>\n      <td>3</td>\n      <td>10</td>\n      <td>Restrictions</td>\n      <td>Not a public holiday</td>\n      <td>0.0</td>\n      <td>9.5</td>\n      <td>20.9</td>\n      <td>26.7</td>\n      <td>311278</td>\n    </tr>\n    <tr>\n      <th>2129</th>\n      <td>29-10-2020</td>\n      <td>4</td>\n      <td>10</td>\n      <td>Restrictions</td>\n      <td>Not a public holiday</td>\n      <td>0.0</td>\n      <td>11.2</td>\n      <td>24.3</td>\n      <td>17.1</td>\n      <td>263334</td>\n    </tr>\n    <tr>\n      <th>2130</th>\n      <td>30-10-2020</td>\n      <td>5</td>\n      <td>10</td>\n      <td>Restrictions</td>\n      <td>Not a public holiday</td>\n      <td>0.0</td>\n      <td>12.9</td>\n      <td>18.6</td>\n      <td>21.0</td>\n      <td>313225</td>\n    </tr>\n    <tr>\n      <th>2131</th>\n      <td>31-10-2020</td>\n      <td>6</td>\n      <td>10</td>\n      <td>Restrictions</td>\n      <td>Not a public holiday</td>\n      <td>0.0</td>\n      <td>14.2</td>\n      <td>16.8</td>\n      <td>10.0</td>\n      <td>370181</td>\n    </tr>\n  </tbody>\n</table>\n<p>2132 rows × 10 columns</p>\n</div>"
          },
          "metadata": {},
          "execution_count": 16
        }
      ]
    },
    {
      "cell_type": "code",
      "execution_count": 17,
      "metadata": {},
      "outputs": [
        {
          "output_type": "execute_result",
          "data": {
            "text/plain": [
              "      day  monthly_index Covid Restrictions        Public_Holiday  \\\n",
              "0       4              1     No restriction        Public Holiday   \n",
              "1       5              1     No restriction  Not a public holiday   \n",
              "2       6              1     No restriction  Not a public holiday   \n",
              "3       7              1     No restriction  Not a public holiday   \n",
              "4       1              1     No restriction  Not a public holiday   \n",
              "...   ...            ...                ...                   ...   \n",
              "2127    2             10       Restrictions  Not a public holiday   \n",
              "2128    3             10       Restrictions  Not a public holiday   \n",
              "2129    4             10       Restrictions  Not a public holiday   \n",
              "2130    5             10       Restrictions  Not a public holiday   \n",
              "2131    6             10       Restrictions  Not a public holiday   \n",
              "\n",
              "      Rainfall amount (millimetres)  Minimum temperature (Degree C)  \\\n",
              "0                               0.0                            13.3   \n",
              "1                               0.0                            15.4   \n",
              "2                               0.0                            20.0   \n",
              "3                               4.6                            16.3   \n",
              "4                               0.0                            15.0   \n",
              "...                             ...                             ...   \n",
              "2127                            0.0                            11.1   \n",
              "2128                            0.0                             9.5   \n",
              "2129                            0.0                            11.2   \n",
              "2130                            0.0                            12.9   \n",
              "2131                            0.0                            14.2   \n",
              "\n",
              "      Maximum temperature (Degree C)  Daily global solar exposure (MJ/m*m)  \n",
              "0                               26.9                                  23.6  \n",
              "1                               38.8                                  26.8  \n",
              "2                               38.2                                  26.5  \n",
              "3                               21.4                                  25.2  \n",
              "4                               22.0                                  30.7  \n",
              "...                              ...                                   ...  \n",
              "2127                            19.6                                  20.1  \n",
              "2128                            20.9                                  26.7  \n",
              "2129                            24.3                                  17.1  \n",
              "2130                            18.6                                  21.0  \n",
              "2131                            16.8                                  10.0  \n",
              "\n",
              "[2132 rows x 8 columns]"
            ],
            "text/html": "<div>\n<style scoped>\n    .dataframe tbody tr th:only-of-type {\n        vertical-align: middle;\n    }\n\n    .dataframe tbody tr th {\n        vertical-align: top;\n    }\n\n    .dataframe thead th {\n        text-align: right;\n    }\n</style>\n<table border=\"1\" class=\"dataframe\">\n  <thead>\n    <tr style=\"text-align: right;\">\n      <th></th>\n      <th>day</th>\n      <th>monthly_index</th>\n      <th>Covid Restrictions</th>\n      <th>Public_Holiday</th>\n      <th>Rainfall amount (millimetres)</th>\n      <th>Minimum temperature (Degree C)</th>\n      <th>Maximum temperature (Degree C)</th>\n      <th>Daily global solar exposure (MJ/m*m)</th>\n    </tr>\n  </thead>\n  <tbody>\n    <tr>\n      <th>0</th>\n      <td>4</td>\n      <td>1</td>\n      <td>No restriction</td>\n      <td>Public Holiday</td>\n      <td>0.0</td>\n      <td>13.3</td>\n      <td>26.9</td>\n      <td>23.6</td>\n    </tr>\n    <tr>\n      <th>1</th>\n      <td>5</td>\n      <td>1</td>\n      <td>No restriction</td>\n      <td>Not a public holiday</td>\n      <td>0.0</td>\n      <td>15.4</td>\n      <td>38.8</td>\n      <td>26.8</td>\n    </tr>\n    <tr>\n      <th>2</th>\n      <td>6</td>\n      <td>1</td>\n      <td>No restriction</td>\n      <td>Not a public holiday</td>\n      <td>0.0</td>\n      <td>20.0</td>\n      <td>38.2</td>\n      <td>26.5</td>\n    </tr>\n    <tr>\n      <th>3</th>\n      <td>7</td>\n      <td>1</td>\n      <td>No restriction</td>\n      <td>Not a public holiday</td>\n      <td>4.6</td>\n      <td>16.3</td>\n      <td>21.4</td>\n      <td>25.2</td>\n    </tr>\n    <tr>\n      <th>4</th>\n      <td>1</td>\n      <td>1</td>\n      <td>No restriction</td>\n      <td>Not a public holiday</td>\n      <td>0.0</td>\n      <td>15.0</td>\n      <td>22.0</td>\n      <td>30.7</td>\n    </tr>\n    <tr>\n      <th>...</th>\n      <td>...</td>\n      <td>...</td>\n      <td>...</td>\n      <td>...</td>\n      <td>...</td>\n      <td>...</td>\n      <td>...</td>\n      <td>...</td>\n    </tr>\n    <tr>\n      <th>2127</th>\n      <td>2</td>\n      <td>10</td>\n      <td>Restrictions</td>\n      <td>Not a public holiday</td>\n      <td>0.0</td>\n      <td>11.1</td>\n      <td>19.6</td>\n      <td>20.1</td>\n    </tr>\n    <tr>\n      <th>2128</th>\n      <td>3</td>\n      <td>10</td>\n      <td>Restrictions</td>\n      <td>Not a public holiday</td>\n      <td>0.0</td>\n      <td>9.5</td>\n      <td>20.9</td>\n      <td>26.7</td>\n    </tr>\n    <tr>\n      <th>2129</th>\n      <td>4</td>\n      <td>10</td>\n      <td>Restrictions</td>\n      <td>Not a public holiday</td>\n      <td>0.0</td>\n      <td>11.2</td>\n      <td>24.3</td>\n      <td>17.1</td>\n    </tr>\n    <tr>\n      <th>2130</th>\n      <td>5</td>\n      <td>10</td>\n      <td>Restrictions</td>\n      <td>Not a public holiday</td>\n      <td>0.0</td>\n      <td>12.9</td>\n      <td>18.6</td>\n      <td>21.0</td>\n    </tr>\n    <tr>\n      <th>2131</th>\n      <td>6</td>\n      <td>10</td>\n      <td>Restrictions</td>\n      <td>Not a public holiday</td>\n      <td>0.0</td>\n      <td>14.2</td>\n      <td>16.8</td>\n      <td>10.0</td>\n    </tr>\n  </tbody>\n</table>\n<p>2132 rows × 8 columns</p>\n</div>"
          },
          "metadata": {},
          "execution_count": 17
        }
      ],
      "source": [
        "X = df.iloc[:,1:-1]\n",
        "Y = df['Total_Pedestrian_Count_per_day']\n",
        "X = X.fillna(X.mean())\n",
        "X"
      ]
    },
    {
      "cell_type": "code",
      "metadata": {
        "id": "aCqhJ_1-utJd"
      },
      "source": [
        "rng = pd.date_range('2020-11-01', periods=61, freq='D')\n",
        "X_test = pd.DataFrame({ 'Date': rng}) \n",
        "X_test['Date'] = X_test['Date'].astype('datetime64[ns]')\n",
        "X_test"
      ],
      "execution_count": 18,
      "outputs": [
        {
          "output_type": "execute_result",
          "data": {
            "text/plain": [
              "         Date\n",
              "0  2020-11-01\n",
              "1  2020-11-02\n",
              "2  2020-11-03\n",
              "3  2020-11-04\n",
              "4  2020-11-05\n",
              "..        ...\n",
              "56 2020-12-27\n",
              "57 2020-12-28\n",
              "58 2020-12-29\n",
              "59 2020-12-30\n",
              "60 2020-12-31\n",
              "\n",
              "[61 rows x 1 columns]"
            ],
            "text/html": "<div>\n<style scoped>\n    .dataframe tbody tr th:only-of-type {\n        vertical-align: middle;\n    }\n\n    .dataframe tbody tr th {\n        vertical-align: top;\n    }\n\n    .dataframe thead th {\n        text-align: right;\n    }\n</style>\n<table border=\"1\" class=\"dataframe\">\n  <thead>\n    <tr style=\"text-align: right;\">\n      <th></th>\n      <th>Date</th>\n    </tr>\n  </thead>\n  <tbody>\n    <tr>\n      <th>0</th>\n      <td>2020-11-01</td>\n    </tr>\n    <tr>\n      <th>1</th>\n      <td>2020-11-02</td>\n    </tr>\n    <tr>\n      <th>2</th>\n      <td>2020-11-03</td>\n    </tr>\n    <tr>\n      <th>3</th>\n      <td>2020-11-04</td>\n    </tr>\n    <tr>\n      <th>4</th>\n      <td>2020-11-05</td>\n    </tr>\n    <tr>\n      <th>...</th>\n      <td>...</td>\n    </tr>\n    <tr>\n      <th>56</th>\n      <td>2020-12-27</td>\n    </tr>\n    <tr>\n      <th>57</th>\n      <td>2020-12-28</td>\n    </tr>\n    <tr>\n      <th>58</th>\n      <td>2020-12-29</td>\n    </tr>\n    <tr>\n      <th>59</th>\n      <td>2020-12-30</td>\n    </tr>\n    <tr>\n      <th>60</th>\n      <td>2020-12-31</td>\n    </tr>\n  </tbody>\n</table>\n<p>61 rows × 1 columns</p>\n</div>"
          },
          "metadata": {},
          "execution_count": 18
        }
      ]
    },
    {
      "cell_type": "code",
      "execution_count": 19,
      "metadata": {},
      "outputs": [
        {
          "output_type": "execute_result",
          "data": {
            "text/plain": [
              "         Date   Rainfall   Solar Exposure  Minimum temperature  \\\n",
              "0   01-11-2020        0.0            23.2                 12.6   \n",
              "1   02-11-2020        0.0            26.8                  9.6   \n",
              "2   03-11-2020        0.0            26.9                 12.1   \n",
              "3   04-11-2020        0.0             5.5                 21.9   \n",
              "4   05-11-2020        2.8            23.1                 11.1   \n",
              "..         ...        ...             ...                  ...   \n",
              "56  27-12-2020        0.0             3.3                 16.2   \n",
              "57  28-12-2020        3.2            26.5                 11.5   \n",
              "58  29-12-2020        0.0            30.7                  9.0   \n",
              "59  30-12-2020        0.0            30.3                 13.7   \n",
              "60  31-12-2020        0.0             7.3                 15.5   \n",
              "\n",
              "    Maximum Temperature  \n",
              "0                  17.0  \n",
              "1                  29.5  \n",
              "2                  30.4  \n",
              "3                  22.8  \n",
              "4                  15.8  \n",
              "..                  ...  \n",
              "56                 31.9  \n",
              "57                 17.8  \n",
              "58                 21.3  \n",
              "59                 21.4  \n",
              "60                 21.2  \n",
              "\n",
              "[61 rows x 5 columns]"
            ],
            "text/html": "<div>\n<style scoped>\n    .dataframe tbody tr th:only-of-type {\n        vertical-align: middle;\n    }\n\n    .dataframe tbody tr th {\n        vertical-align: top;\n    }\n\n    .dataframe thead th {\n        text-align: right;\n    }\n</style>\n<table border=\"1\" class=\"dataframe\">\n  <thead>\n    <tr style=\"text-align: right;\">\n      <th></th>\n      <th>Date</th>\n      <th>Rainfall</th>\n      <th>Solar Exposure</th>\n      <th>Minimum temperature</th>\n      <th>Maximum Temperature</th>\n    </tr>\n  </thead>\n  <tbody>\n    <tr>\n      <th>0</th>\n      <td>01-11-2020</td>\n      <td>0.0</td>\n      <td>23.2</td>\n      <td>12.6</td>\n      <td>17.0</td>\n    </tr>\n    <tr>\n      <th>1</th>\n      <td>02-11-2020</td>\n      <td>0.0</td>\n      <td>26.8</td>\n      <td>9.6</td>\n      <td>29.5</td>\n    </tr>\n    <tr>\n      <th>2</th>\n      <td>03-11-2020</td>\n      <td>0.0</td>\n      <td>26.9</td>\n      <td>12.1</td>\n      <td>30.4</td>\n    </tr>\n    <tr>\n      <th>3</th>\n      <td>04-11-2020</td>\n      <td>0.0</td>\n      <td>5.5</td>\n      <td>21.9</td>\n      <td>22.8</td>\n    </tr>\n    <tr>\n      <th>4</th>\n      <td>05-11-2020</td>\n      <td>2.8</td>\n      <td>23.1</td>\n      <td>11.1</td>\n      <td>15.8</td>\n    </tr>\n    <tr>\n      <th>...</th>\n      <td>...</td>\n      <td>...</td>\n      <td>...</td>\n      <td>...</td>\n      <td>...</td>\n    </tr>\n    <tr>\n      <th>56</th>\n      <td>27-12-2020</td>\n      <td>0.0</td>\n      <td>3.3</td>\n      <td>16.2</td>\n      <td>31.9</td>\n    </tr>\n    <tr>\n      <th>57</th>\n      <td>28-12-2020</td>\n      <td>3.2</td>\n      <td>26.5</td>\n      <td>11.5</td>\n      <td>17.8</td>\n    </tr>\n    <tr>\n      <th>58</th>\n      <td>29-12-2020</td>\n      <td>0.0</td>\n      <td>30.7</td>\n      <td>9.0</td>\n      <td>21.3</td>\n    </tr>\n    <tr>\n      <th>59</th>\n      <td>30-12-2020</td>\n      <td>0.0</td>\n      <td>30.3</td>\n      <td>13.7</td>\n      <td>21.4</td>\n    </tr>\n    <tr>\n      <th>60</th>\n      <td>31-12-2020</td>\n      <td>0.0</td>\n      <td>7.3</td>\n      <td>15.5</td>\n      <td>21.2</td>\n    </tr>\n  </tbody>\n</table>\n<p>61 rows × 5 columns</p>\n</div>"
          },
          "metadata": {},
          "execution_count": 19
        }
      ],
      "source": [
        "# Loading the weather test dataset \n",
        "test_dataset = pd.read_csv('Test_dataset_updated.csv') \n",
        "test_dataset"
      ]
    },
    {
      "cell_type": "code",
      "execution_count": 20,
      "metadata": {},
      "outputs": [
        {
          "output_type": "execute_result",
          "data": {
            "text/plain": [
              "                  Public_Holiday\n",
              "2020-11-01  Not a public holiday\n",
              "2020-11-02  Not a public holiday\n",
              "2020-11-03        Public Holiday\n",
              "2020-11-04  Not a public holiday\n",
              "2020-11-05  Not a public holiday\n",
              "...                          ...\n",
              "2020-12-27  Not a public holiday\n",
              "2020-12-28        Public Holiday\n",
              "2020-12-29  Not a public holiday\n",
              "2020-12-30  Not a public holiday\n",
              "2020-12-31  Not a public holiday\n",
              "\n",
              "[61 rows x 1 columns]"
            ],
            "text/html": "<div>\n<style scoped>\n    .dataframe tbody tr th:only-of-type {\n        vertical-align: middle;\n    }\n\n    .dataframe tbody tr th {\n        vertical-align: top;\n    }\n\n    .dataframe thead th {\n        text-align: right;\n    }\n</style>\n<table border=\"1\" class=\"dataframe\">\n  <thead>\n    <tr style=\"text-align: right;\">\n      <th></th>\n      <th>Public_Holiday</th>\n    </tr>\n  </thead>\n  <tbody>\n    <tr>\n      <th>2020-11-01</th>\n      <td>Not a public holiday</td>\n    </tr>\n    <tr>\n      <th>2020-11-02</th>\n      <td>Not a public holiday</td>\n    </tr>\n    <tr>\n      <th>2020-11-03</th>\n      <td>Public Holiday</td>\n    </tr>\n    <tr>\n      <th>2020-11-04</th>\n      <td>Not a public holiday</td>\n    </tr>\n    <tr>\n      <th>2020-11-05</th>\n      <td>Not a public holiday</td>\n    </tr>\n    <tr>\n      <th>...</th>\n      <td>...</td>\n    </tr>\n    <tr>\n      <th>2020-12-27</th>\n      <td>Not a public holiday</td>\n    </tr>\n    <tr>\n      <th>2020-12-28</th>\n      <td>Public Holiday</td>\n    </tr>\n    <tr>\n      <th>2020-12-29</th>\n      <td>Not a public holiday</td>\n    </tr>\n    <tr>\n      <th>2020-12-30</th>\n      <td>Not a public holiday</td>\n    </tr>\n    <tr>\n      <th>2020-12-31</th>\n      <td>Not a public holiday</td>\n    </tr>\n  </tbody>\n</table>\n<p>61 rows × 1 columns</p>\n</div>"
          },
          "metadata": {},
          "execution_count": 20
        }
      ],
      "source": [
        "public = pd.read_csv('Public_Holiday_test_set.csv')\n",
        "holidays = public[['Holiday']]\n",
        "holidays['Holiday'] = holidays['Holiday'].astype('datetime64[ns]')\n",
        "holidays['Public_Holiday'] = 'Public Holiday'\n",
        "\n",
        "X_test = X_test.set_index('Date').join(holidays.set_index(\"Holiday\"), how='left')\n",
        "X_test['Public_Holiday'].fillna('Not a public holiday', inplace=True)\n",
        "X_test"
      ]
    },
    {
      "cell_type": "code",
      "execution_count": 21,
      "metadata": {},
      "outputs": [
        {
          "output_type": "execute_result",
          "data": {
            "text/plain": [
              "                  Public_Holiday Covid Restrictions  day  monthly_index  \\\n",
              "2020-11-01  Not a public holiday     No restriction    7             11   \n",
              "2020-11-02  Not a public holiday     No restriction    1             11   \n",
              "2020-11-03        Public Holiday     No restriction    2             11   \n",
              "2020-11-04  Not a public holiday     No restriction    3             11   \n",
              "2020-11-05  Not a public holiday     No restriction    4             11   \n",
              "...                          ...                ...  ...            ...   \n",
              "2020-12-27  Not a public holiday     No restriction    7             12   \n",
              "2020-12-28        Public Holiday     No restriction    1             12   \n",
              "2020-12-29  Not a public holiday     No restriction    2             12   \n",
              "2020-12-30  Not a public holiday     No restriction    3             12   \n",
              "2020-12-31  Not a public holiday     No restriction    4             12   \n",
              "\n",
              "            Rainfall amount (millimetres)  Minimum temperature (Degree C)  \\\n",
              "2020-11-01                            0.0                            12.6   \n",
              "2020-11-02                            0.0                             9.6   \n",
              "2020-11-03                            0.0                            12.1   \n",
              "2020-11-04                            0.0                            21.9   \n",
              "2020-11-05                            2.8                            11.1   \n",
              "...                                   ...                             ...   \n",
              "2020-12-27                            0.0                            16.2   \n",
              "2020-12-28                            3.2                            11.5   \n",
              "2020-12-29                            0.0                             9.0   \n",
              "2020-12-30                            0.0                            13.7   \n",
              "2020-12-31                            0.0                            15.5   \n",
              "\n",
              "            Maximum temperature (Degree C)  \\\n",
              "2020-11-01                            17.0   \n",
              "2020-11-02                            29.5   \n",
              "2020-11-03                            30.4   \n",
              "2020-11-04                            22.8   \n",
              "2020-11-05                            15.8   \n",
              "...                                    ...   \n",
              "2020-12-27                            31.9   \n",
              "2020-12-28                            17.8   \n",
              "2020-12-29                            21.3   \n",
              "2020-12-30                            21.4   \n",
              "2020-12-31                            21.2   \n",
              "\n",
              "            Daily global solar exposure (MJ/m*m)  \n",
              "2020-11-01                                  23.2  \n",
              "2020-11-02                                  26.8  \n",
              "2020-11-03                                  26.9  \n",
              "2020-11-04                                   5.5  \n",
              "2020-11-05                                  23.1  \n",
              "...                                          ...  \n",
              "2020-12-27                                   3.3  \n",
              "2020-12-28                                  26.5  \n",
              "2020-12-29                                  30.7  \n",
              "2020-12-30                                  30.3  \n",
              "2020-12-31                                   7.3  \n",
              "\n",
              "[61 rows x 8 columns]"
            ],
            "text/html": "<div>\n<style scoped>\n    .dataframe tbody tr th:only-of-type {\n        vertical-align: middle;\n    }\n\n    .dataframe tbody tr th {\n        vertical-align: top;\n    }\n\n    .dataframe thead th {\n        text-align: right;\n    }\n</style>\n<table border=\"1\" class=\"dataframe\">\n  <thead>\n    <tr style=\"text-align: right;\">\n      <th></th>\n      <th>Public_Holiday</th>\n      <th>Covid Restrictions</th>\n      <th>day</th>\n      <th>monthly_index</th>\n      <th>Rainfall amount (millimetres)</th>\n      <th>Minimum temperature (Degree C)</th>\n      <th>Maximum temperature (Degree C)</th>\n      <th>Daily global solar exposure (MJ/m*m)</th>\n    </tr>\n  </thead>\n  <tbody>\n    <tr>\n      <th>2020-11-01</th>\n      <td>Not a public holiday</td>\n      <td>No restriction</td>\n      <td>7</td>\n      <td>11</td>\n      <td>0.0</td>\n      <td>12.6</td>\n      <td>17.0</td>\n      <td>23.2</td>\n    </tr>\n    <tr>\n      <th>2020-11-02</th>\n      <td>Not a public holiday</td>\n      <td>No restriction</td>\n      <td>1</td>\n      <td>11</td>\n      <td>0.0</td>\n      <td>9.6</td>\n      <td>29.5</td>\n      <td>26.8</td>\n    </tr>\n    <tr>\n      <th>2020-11-03</th>\n      <td>Public Holiday</td>\n      <td>No restriction</td>\n      <td>2</td>\n      <td>11</td>\n      <td>0.0</td>\n      <td>12.1</td>\n      <td>30.4</td>\n      <td>26.9</td>\n    </tr>\n    <tr>\n      <th>2020-11-04</th>\n      <td>Not a public holiday</td>\n      <td>No restriction</td>\n      <td>3</td>\n      <td>11</td>\n      <td>0.0</td>\n      <td>21.9</td>\n      <td>22.8</td>\n      <td>5.5</td>\n    </tr>\n    <tr>\n      <th>2020-11-05</th>\n      <td>Not a public holiday</td>\n      <td>No restriction</td>\n      <td>4</td>\n      <td>11</td>\n      <td>2.8</td>\n      <td>11.1</td>\n      <td>15.8</td>\n      <td>23.1</td>\n    </tr>\n    <tr>\n      <th>...</th>\n      <td>...</td>\n      <td>...</td>\n      <td>...</td>\n      <td>...</td>\n      <td>...</td>\n      <td>...</td>\n      <td>...</td>\n      <td>...</td>\n    </tr>\n    <tr>\n      <th>2020-12-27</th>\n      <td>Not a public holiday</td>\n      <td>No restriction</td>\n      <td>7</td>\n      <td>12</td>\n      <td>0.0</td>\n      <td>16.2</td>\n      <td>31.9</td>\n      <td>3.3</td>\n    </tr>\n    <tr>\n      <th>2020-12-28</th>\n      <td>Public Holiday</td>\n      <td>No restriction</td>\n      <td>1</td>\n      <td>12</td>\n      <td>3.2</td>\n      <td>11.5</td>\n      <td>17.8</td>\n      <td>26.5</td>\n    </tr>\n    <tr>\n      <th>2020-12-29</th>\n      <td>Not a public holiday</td>\n      <td>No restriction</td>\n      <td>2</td>\n      <td>12</td>\n      <td>0.0</td>\n      <td>9.0</td>\n      <td>21.3</td>\n      <td>30.7</td>\n    </tr>\n    <tr>\n      <th>2020-12-30</th>\n      <td>Not a public holiday</td>\n      <td>No restriction</td>\n      <td>3</td>\n      <td>12</td>\n      <td>0.0</td>\n      <td>13.7</td>\n      <td>21.4</td>\n      <td>30.3</td>\n    </tr>\n    <tr>\n      <th>2020-12-31</th>\n      <td>Not a public holiday</td>\n      <td>No restriction</td>\n      <td>4</td>\n      <td>12</td>\n      <td>0.0</td>\n      <td>15.5</td>\n      <td>21.2</td>\n      <td>7.3</td>\n    </tr>\n  </tbody>\n</table>\n<p>61 rows × 8 columns</p>\n</div>"
          },
          "metadata": {},
          "execution_count": 21
        }
      ],
      "source": [
        "X_test['Covid Restrictions'] = 'No restriction'\n",
        "\n",
        "X_test['day'] = X_test.index.dayofweek + 1\n",
        "X_test['monthly_index'] = X_test.index.month\n",
        "\n",
        "X_test['Rainfall amount (millimetres)'] = test_dataset['Rainfall '].values\n",
        "X_test['Minimum temperature (Degree C)'] = test_dataset['Minimum temperature'].values\n",
        "X_test['Maximum temperature (Degree C)'] = test_dataset['Maximum Temperature'].values\n",
        "X_test['Daily global solar exposure (MJ/m*m)'] = test_dataset['Solar Exposure'].values\n",
        "\n",
        "X_test"
      ]
    },
    {
      "cell_type": "code",
      "execution_count": 22,
      "metadata": {},
      "outputs": [
        {
          "output_type": "execute_result",
          "data": {
            "text/plain": [
              "            day  monthly_index  covid_code  holiday_code  \\\n",
              "2020-11-01    7             11           0             0   \n",
              "2020-11-02    1             11           0             0   \n",
              "2020-11-03    2             11           0             1   \n",
              "2020-11-04    3             11           0             0   \n",
              "2020-11-05    4             11           0             0   \n",
              "...         ...            ...         ...           ...   \n",
              "2020-12-27    7             12           0             0   \n",
              "2020-12-28    1             12           0             1   \n",
              "2020-12-29    2             12           0             0   \n",
              "2020-12-30    3             12           0             0   \n",
              "2020-12-31    4             12           0             0   \n",
              "\n",
              "            Rainfall amount (millimetres)  Minimum temperature (Degree C)  \\\n",
              "2020-11-01                            0.0                            12.6   \n",
              "2020-11-02                            0.0                             9.6   \n",
              "2020-11-03                            0.0                            12.1   \n",
              "2020-11-04                            0.0                            21.9   \n",
              "2020-11-05                            2.8                            11.1   \n",
              "...                                   ...                             ...   \n",
              "2020-12-27                            0.0                            16.2   \n",
              "2020-12-28                            3.2                            11.5   \n",
              "2020-12-29                            0.0                             9.0   \n",
              "2020-12-30                            0.0                            13.7   \n",
              "2020-12-31                            0.0                            15.5   \n",
              "\n",
              "            Maximum temperature (Degree C)  \\\n",
              "2020-11-01                            17.0   \n",
              "2020-11-02                            29.5   \n",
              "2020-11-03                            30.4   \n",
              "2020-11-04                            22.8   \n",
              "2020-11-05                            15.8   \n",
              "...                                    ...   \n",
              "2020-12-27                            31.9   \n",
              "2020-12-28                            17.8   \n",
              "2020-12-29                            21.3   \n",
              "2020-12-30                            21.4   \n",
              "2020-12-31                            21.2   \n",
              "\n",
              "            Daily global solar exposure (MJ/m*m)  \n",
              "2020-11-01                                  23.2  \n",
              "2020-11-02                                  26.8  \n",
              "2020-11-03                                  26.9  \n",
              "2020-11-04                                   5.5  \n",
              "2020-11-05                                  23.1  \n",
              "...                                          ...  \n",
              "2020-12-27                                   3.3  \n",
              "2020-12-28                                  26.5  \n",
              "2020-12-29                                  30.7  \n",
              "2020-12-30                                  30.3  \n",
              "2020-12-31                                   7.3  \n",
              "\n",
              "[61 rows x 8 columns]"
            ],
            "text/html": "<div>\n<style scoped>\n    .dataframe tbody tr th:only-of-type {\n        vertical-align: middle;\n    }\n\n    .dataframe tbody tr th {\n        vertical-align: top;\n    }\n\n    .dataframe thead th {\n        text-align: right;\n    }\n</style>\n<table border=\"1\" class=\"dataframe\">\n  <thead>\n    <tr style=\"text-align: right;\">\n      <th></th>\n      <th>day</th>\n      <th>monthly_index</th>\n      <th>covid_code</th>\n      <th>holiday_code</th>\n      <th>Rainfall amount (millimetres)</th>\n      <th>Minimum temperature (Degree C)</th>\n      <th>Maximum temperature (Degree C)</th>\n      <th>Daily global solar exposure (MJ/m*m)</th>\n    </tr>\n  </thead>\n  <tbody>\n    <tr>\n      <th>2020-11-01</th>\n      <td>7</td>\n      <td>11</td>\n      <td>0</td>\n      <td>0</td>\n      <td>0.0</td>\n      <td>12.6</td>\n      <td>17.0</td>\n      <td>23.2</td>\n    </tr>\n    <tr>\n      <th>2020-11-02</th>\n      <td>1</td>\n      <td>11</td>\n      <td>0</td>\n      <td>0</td>\n      <td>0.0</td>\n      <td>9.6</td>\n      <td>29.5</td>\n      <td>26.8</td>\n    </tr>\n    <tr>\n      <th>2020-11-03</th>\n      <td>2</td>\n      <td>11</td>\n      <td>0</td>\n      <td>1</td>\n      <td>0.0</td>\n      <td>12.1</td>\n      <td>30.4</td>\n      <td>26.9</td>\n    </tr>\n    <tr>\n      <th>2020-11-04</th>\n      <td>3</td>\n      <td>11</td>\n      <td>0</td>\n      <td>0</td>\n      <td>0.0</td>\n      <td>21.9</td>\n      <td>22.8</td>\n      <td>5.5</td>\n    </tr>\n    <tr>\n      <th>2020-11-05</th>\n      <td>4</td>\n      <td>11</td>\n      <td>0</td>\n      <td>0</td>\n      <td>2.8</td>\n      <td>11.1</td>\n      <td>15.8</td>\n      <td>23.1</td>\n    </tr>\n    <tr>\n      <th>...</th>\n      <td>...</td>\n      <td>...</td>\n      <td>...</td>\n      <td>...</td>\n      <td>...</td>\n      <td>...</td>\n      <td>...</td>\n      <td>...</td>\n    </tr>\n    <tr>\n      <th>2020-12-27</th>\n      <td>7</td>\n      <td>12</td>\n      <td>0</td>\n      <td>0</td>\n      <td>0.0</td>\n      <td>16.2</td>\n      <td>31.9</td>\n      <td>3.3</td>\n    </tr>\n    <tr>\n      <th>2020-12-28</th>\n      <td>1</td>\n      <td>12</td>\n      <td>0</td>\n      <td>1</td>\n      <td>3.2</td>\n      <td>11.5</td>\n      <td>17.8</td>\n      <td>26.5</td>\n    </tr>\n    <tr>\n      <th>2020-12-29</th>\n      <td>2</td>\n      <td>12</td>\n      <td>0</td>\n      <td>0</td>\n      <td>0.0</td>\n      <td>9.0</td>\n      <td>21.3</td>\n      <td>30.7</td>\n    </tr>\n    <tr>\n      <th>2020-12-30</th>\n      <td>3</td>\n      <td>12</td>\n      <td>0</td>\n      <td>0</td>\n      <td>0.0</td>\n      <td>13.7</td>\n      <td>21.4</td>\n      <td>30.3</td>\n    </tr>\n    <tr>\n      <th>2020-12-31</th>\n      <td>4</td>\n      <td>12</td>\n      <td>0</td>\n      <td>0</td>\n      <td>0.0</td>\n      <td>15.5</td>\n      <td>21.2</td>\n      <td>7.3</td>\n    </tr>\n  </tbody>\n</table>\n<p>61 rows × 8 columns</p>\n</div>"
          },
          "metadata": {},
          "execution_count": 22
        }
      ],
      "source": [
        "X = X.fillna(X.mean())\n",
        "\n",
        "combined = pd.concat([X, X_test])\n",
        "combined['Public_Holiday'] = pd.Categorical(combined['Public_Holiday'])\n",
        "combined['holiday_code'] = combined['Public_Holiday'].cat.codes\n",
        "combined['Covid Restrictions'] = pd.Categorical(combined['Covid Restrictions'])\n",
        "combined['covid_code'] = combined['Covid Restrictions'].cat.codes\n",
        "combined.drop(columns=['Public_Holiday', 'Covid Restrictions'], inplace = True)\n",
        "\n",
        "combined = combined[['day', 'monthly_index', 'covid_code','holiday_code', 'Rainfall amount (millimetres)','Minimum temperature (Degree C)','Maximum temperature (Degree C)','Daily global solar exposure (MJ/m*m)']]\n",
        "\n",
        "X = combined[:len(X)]\n",
        "X_test = combined[len(X):]\n",
        "\n",
        "X_test"
      ]
    },
    {
      "cell_type": "code",
      "execution_count": 23,
      "metadata": {},
      "outputs": [
        {
          "output_type": "execute_result",
          "data": {
            "text/plain": [
              "      day  monthly_index  covid_code  holiday_code  \\\n",
              "0       4              1           0             1   \n",
              "1       5              1           0             0   \n",
              "2       6              1           0             0   \n",
              "3       7              1           0             0   \n",
              "4       1              1           0             0   \n",
              "...   ...            ...         ...           ...   \n",
              "2127    2             10           1             0   \n",
              "2128    3             10           1             0   \n",
              "2129    4             10           1             0   \n",
              "2130    5             10           1             0   \n",
              "2131    6             10           1             0   \n",
              "\n",
              "      Rainfall amount (millimetres)  Minimum temperature (Degree C)  \\\n",
              "0                               0.0                            13.3   \n",
              "1                               0.0                            15.4   \n",
              "2                               0.0                            20.0   \n",
              "3                               4.6                            16.3   \n",
              "4                               0.0                            15.0   \n",
              "...                             ...                             ...   \n",
              "2127                            0.0                            11.1   \n",
              "2128                            0.0                             9.5   \n",
              "2129                            0.0                            11.2   \n",
              "2130                            0.0                            12.9   \n",
              "2131                            0.0                            14.2   \n",
              "\n",
              "      Maximum temperature (Degree C)  Daily global solar exposure (MJ/m*m)  \n",
              "0                               26.9                                  23.6  \n",
              "1                               38.8                                  26.8  \n",
              "2                               38.2                                  26.5  \n",
              "3                               21.4                                  25.2  \n",
              "4                               22.0                                  30.7  \n",
              "...                              ...                                   ...  \n",
              "2127                            19.6                                  20.1  \n",
              "2128                            20.9                                  26.7  \n",
              "2129                            24.3                                  17.1  \n",
              "2130                            18.6                                  21.0  \n",
              "2131                            16.8                                  10.0  \n",
              "\n",
              "[2132 rows x 8 columns]"
            ],
            "text/html": "<div>\n<style scoped>\n    .dataframe tbody tr th:only-of-type {\n        vertical-align: middle;\n    }\n\n    .dataframe tbody tr th {\n        vertical-align: top;\n    }\n\n    .dataframe thead th {\n        text-align: right;\n    }\n</style>\n<table border=\"1\" class=\"dataframe\">\n  <thead>\n    <tr style=\"text-align: right;\">\n      <th></th>\n      <th>day</th>\n      <th>monthly_index</th>\n      <th>covid_code</th>\n      <th>holiday_code</th>\n      <th>Rainfall amount (millimetres)</th>\n      <th>Minimum temperature (Degree C)</th>\n      <th>Maximum temperature (Degree C)</th>\n      <th>Daily global solar exposure (MJ/m*m)</th>\n    </tr>\n  </thead>\n  <tbody>\n    <tr>\n      <th>0</th>\n      <td>4</td>\n      <td>1</td>\n      <td>0</td>\n      <td>1</td>\n      <td>0.0</td>\n      <td>13.3</td>\n      <td>26.9</td>\n      <td>23.6</td>\n    </tr>\n    <tr>\n      <th>1</th>\n      <td>5</td>\n      <td>1</td>\n      <td>0</td>\n      <td>0</td>\n      <td>0.0</td>\n      <td>15.4</td>\n      <td>38.8</td>\n      <td>26.8</td>\n    </tr>\n    <tr>\n      <th>2</th>\n      <td>6</td>\n      <td>1</td>\n      <td>0</td>\n      <td>0</td>\n      <td>0.0</td>\n      <td>20.0</td>\n      <td>38.2</td>\n      <td>26.5</td>\n    </tr>\n    <tr>\n      <th>3</th>\n      <td>7</td>\n      <td>1</td>\n      <td>0</td>\n      <td>0</td>\n      <td>4.6</td>\n      <td>16.3</td>\n      <td>21.4</td>\n      <td>25.2</td>\n    </tr>\n    <tr>\n      <th>4</th>\n      <td>1</td>\n      <td>1</td>\n      <td>0</td>\n      <td>0</td>\n      <td>0.0</td>\n      <td>15.0</td>\n      <td>22.0</td>\n      <td>30.7</td>\n    </tr>\n    <tr>\n      <th>...</th>\n      <td>...</td>\n      <td>...</td>\n      <td>...</td>\n      <td>...</td>\n      <td>...</td>\n      <td>...</td>\n      <td>...</td>\n      <td>...</td>\n    </tr>\n    <tr>\n      <th>2127</th>\n      <td>2</td>\n      <td>10</td>\n      <td>1</td>\n      <td>0</td>\n      <td>0.0</td>\n      <td>11.1</td>\n      <td>19.6</td>\n      <td>20.1</td>\n    </tr>\n    <tr>\n      <th>2128</th>\n      <td>3</td>\n      <td>10</td>\n      <td>1</td>\n      <td>0</td>\n      <td>0.0</td>\n      <td>9.5</td>\n      <td>20.9</td>\n      <td>26.7</td>\n    </tr>\n    <tr>\n      <th>2129</th>\n      <td>4</td>\n      <td>10</td>\n      <td>1</td>\n      <td>0</td>\n      <td>0.0</td>\n      <td>11.2</td>\n      <td>24.3</td>\n      <td>17.1</td>\n    </tr>\n    <tr>\n      <th>2130</th>\n      <td>5</td>\n      <td>10</td>\n      <td>1</td>\n      <td>0</td>\n      <td>0.0</td>\n      <td>12.9</td>\n      <td>18.6</td>\n      <td>21.0</td>\n    </tr>\n    <tr>\n      <th>2131</th>\n      <td>6</td>\n      <td>10</td>\n      <td>1</td>\n      <td>0</td>\n      <td>0.0</td>\n      <td>14.2</td>\n      <td>16.8</td>\n      <td>10.0</td>\n    </tr>\n  </tbody>\n</table>\n<p>2132 rows × 8 columns</p>\n</div>"
          },
          "metadata": {},
          "execution_count": 23
        }
      ],
      "source": [
        "X"
      ]
    },
    {
      "cell_type": "code",
      "execution_count": 24,
      "metadata": {},
      "outputs": [
        {
          "output_type": "execute_result",
          "data": {
            "text/plain": [
              "array([[-9.38637205e-04, -1.58631120e+00, -3.48590006e-01, ...,\n",
              "         4.02530227e-01,  1.03952738e+00,  1.11446043e+00],\n",
              "       [ 4.99354993e-01, -1.58631120e+00, -3.48590006e-01, ...,\n",
              "         8.91768855e-01,  2.94037146e+00,  1.51837475e+00],\n",
              "       [ 9.99648624e-01, -1.58631120e+00, -3.48590006e-01, ...,\n",
              "         1.96343442e+00,  2.84453058e+00,  1.48050778e+00],\n",
              "       ...,\n",
              "       [-9.38637205e-04,  1.06833203e+00,  2.86869957e+00, ...,\n",
              "        -8.67084006e-02,  6.24216911e-01,  2.94009485e-01],\n",
              "       [ 4.99354993e-01,  1.06833203e+00,  2.86869957e+00, ...,\n",
              "         3.09341917e-01, -2.86271427e-01,  7.86280055e-01],\n",
              "       [ 9.99648624e-01,  1.06833203e+00,  2.86869957e+00, ...,\n",
              "         6.12203925e-01, -5.73794061e-01, -6.02175399e-01]])"
            ]
          },
          "metadata": {},
          "execution_count": 24
        }
      ],
      "source": [
        "from sklearn.preprocessing import StandardScaler\n",
        "newscaler = StandardScaler()\n",
        "X_scaled = newscaler.fit_transform(X) \n",
        "X_test_scaled = newscaler.fit_transform(X_test) \n",
        "X_scaled"
      ]
    },
    {
      "cell_type": "code",
      "execution_count": 25,
      "metadata": {},
      "outputs": [
        {
          "output_type": "execute_result",
          "data": {
            "text/plain": [
              "      Unnamed: 0        date  Total_Pedestrian_Count_per_day\n",
              "0              0  2015-01-01                          471563\n",
              "1              1  2015-01-02                          389048\n",
              "2              2  2015-01-03                          291761\n",
              "3              3  2015-01-04                          382364\n",
              "4              4  2015-01-05                          487220\n",
              "...          ...         ...                             ...\n",
              "2187        2187  2020-12-27                          385422\n",
              "2188        2188  2020-12-28                          473046\n",
              "2189        2189  2020-12-29                          497027\n",
              "2190        2190  2020-12-30                          467634\n",
              "2191        2191  2020-12-31                          472586\n",
              "\n",
              "[2192 rows x 3 columns]"
            ],
            "text/html": "<div>\n<style scoped>\n    .dataframe tbody tr th:only-of-type {\n        vertical-align: middle;\n    }\n\n    .dataframe tbody tr th {\n        vertical-align: top;\n    }\n\n    .dataframe thead th {\n        text-align: right;\n    }\n</style>\n<table border=\"1\" class=\"dataframe\">\n  <thead>\n    <tr style=\"text-align: right;\">\n      <th></th>\n      <th>Unnamed: 0</th>\n      <th>date</th>\n      <th>Total_Pedestrian_Count_per_day</th>\n    </tr>\n  </thead>\n  <tbody>\n    <tr>\n      <th>0</th>\n      <td>0</td>\n      <td>2015-01-01</td>\n      <td>471563</td>\n    </tr>\n    <tr>\n      <th>1</th>\n      <td>1</td>\n      <td>2015-01-02</td>\n      <td>389048</td>\n    </tr>\n    <tr>\n      <th>2</th>\n      <td>2</td>\n      <td>2015-01-03</td>\n      <td>291761</td>\n    </tr>\n    <tr>\n      <th>3</th>\n      <td>3</td>\n      <td>2015-01-04</td>\n      <td>382364</td>\n    </tr>\n    <tr>\n      <th>4</th>\n      <td>4</td>\n      <td>2015-01-05</td>\n      <td>487220</td>\n    </tr>\n    <tr>\n      <th>...</th>\n      <td>...</td>\n      <td>...</td>\n      <td>...</td>\n    </tr>\n    <tr>\n      <th>2187</th>\n      <td>2187</td>\n      <td>2020-12-27</td>\n      <td>385422</td>\n    </tr>\n    <tr>\n      <th>2188</th>\n      <td>2188</td>\n      <td>2020-12-28</td>\n      <td>473046</td>\n    </tr>\n    <tr>\n      <th>2189</th>\n      <td>2189</td>\n      <td>2020-12-29</td>\n      <td>497027</td>\n    </tr>\n    <tr>\n      <th>2190</th>\n      <td>2190</td>\n      <td>2020-12-30</td>\n      <td>467634</td>\n    </tr>\n    <tr>\n      <th>2191</th>\n      <td>2191</td>\n      <td>2020-12-31</td>\n      <td>472586</td>\n    </tr>\n  </tbody>\n</table>\n<p>2192 rows × 3 columns</p>\n</div>"
          },
          "metadata": {},
          "execution_count": 25
        }
      ],
      "source": [
        "new_results_df_per_day = pd.read_csv('new_results_df_per_day.csv') \n",
        "new_results_df_per_day"
      ]
    },
    {
      "cell_type": "code",
      "metadata": {
        "colab": {
          "base_uri": "https://localhost:8080/"
        },
        "id": "_V_Z-ynAgQNg",
        "outputId": "489c73cd-1038-4346-fb87-69e63db39dcd"
      },
      "source": [
        "realY = new_results_df_per_day['Total_Pedestrian_Count_per_day'].iloc[-61:]"
      ],
      "execution_count": 26,
      "outputs": []
    },
    {
      "source": [
        "## KNN"
      ],
      "cell_type": "markdown",
      "metadata": {}
    },
    {
      "cell_type": "code",
      "execution_count": 27,
      "metadata": {
        "tags": []
      },
      "outputs": [],
      "source": [
        "\n",
        "from sklearn.neighbors import KNeighborsRegressor\n",
        "from sklearn.metrics import mean_squared_error\n",
        "scores = []\n",
        "neighbor = []\n",
        "leaf_size = []\n",
        "metric = []\n",
        "weight = []\n",
        "algorithm = []\n",
        "\n",
        "n_neighbors = [2,3,4,5,6,7,8,9]\n",
        "leaf_sizes = [10,20,30,50,100,500]\n",
        "metrics = ['euclidean','chebyshev','manhattan']\n",
        "weights = ['uniform', 'distance']\n",
        "algorithms = ['auto', 'ball_tree', 'kd_tree', 'brute'] \n",
        "\n",
        "for i in n_neighbors:\n",
        "  for j in leaf_sizes:\n",
        "    for k in metrics:\n",
        "      for l in weights:\n",
        "        for m in algorithms:\n",
        "          knn = KNeighborsRegressor(n_neighbors = i, leaf_size = j, metric = k, weights = l, algorithm = m)\n",
        "          knn.fit(X_scaled, Y)\n",
        "          scores.append(mean_squared_error(realY, knn.predict(X_test_scaled)))\n",
        "          neighbor.append(i)\n",
        "          leaf_size.append(j)\n",
        "          metric.append(k)\n",
        "          weight.append(l)\n",
        "          algorithm.append(m)"
      ]
    },
    {
      "cell_type": "code",
      "execution_count": 28,
      "metadata": {},
      "outputs": [
        {
          "output_type": "execute_result",
          "data": {
            "text/plain": [
              "[2, 10, 'chebyshev', 'distance', 'brute']"
            ]
          },
          "metadata": {},
          "execution_count": 28
        }
      ],
      "source": [
        "min(scores)\n",
        "import numpy as np\n",
        "index = np.argmin(scores)\n",
        "parameters = [neighbor[index], leaf_size[index], metric[index], weight[index], algorithm[index]]\n",
        "parameters"
      ]
    },
    {
      "cell_type": "code",
      "execution_count": 29,
      "metadata": {},
      "outputs": [
        {
          "output_type": "stream",
          "name": "stdout",
          "text": [
            "[[339667.         585048.76439328]\n [335642.         785497.48852857]\n [286980.         619904.5       ]\n [190675.         626401.80081166]\n [246692.         689952.57368494]\n [288551.         549098.        ]\n [365548.         570610.5       ]\n [321671.         623047.        ]\n [262820.         743349.7218897 ]\n [264765.         693362.42560193]\n [224537.         603190.57179838]\n [287179.         608260.08736262]\n [330106.         580954.        ]\n [436497.         586576.12474596]\n [300190.         653442.48978438]\n [257361.         701050.01858844]\n [287853.         592563.91205555]\n [313407.         693355.11288205]\n [300283.         723014.50435345]\n [397150.         610826.23996196]\n [489118.         756319.5       ]\n [309849.         608444.75840432]\n [261242.         631619.5       ]\n [316024.         673798.03855418]\n [340384.         790697.65652417]\n [353597.         645134.30526031]\n [456912.         674299.74434245]\n [481376.         671680.09964227]\n [358501.         598102.78864315]\n [351099.         766863.31327276]\n [316908.         587824.97048549]\n [366340.         658046.        ]\n [392107.         708889.        ]\n [493588.         919247.        ]\n [489269.         567996.88625639]\n [404066.         507019.        ]\n [311007.         656772.06119483]\n [376385.         539670.        ]\n [448039.         641917.69360815]\n [438663.         689920.07699092]\n [543000.         711621.79286631]\n [595152.         706578.5       ]\n [439515.         499060.48823111]\n [366040.         650062.00338946]\n [378222.         715286.52077541]\n [463787.         738631.75167618]\n [460825.         678217.21332536]\n [572248.         577089.88879408]\n [599961.         582189.9610668 ]\n [539991.         585668.29756169]\n [464319.         555329.84016905]\n [403194.         577926.37556765]\n [578815.         637483.1507855 ]\n [505150.         778777.        ]\n [332150.         596883.5       ]\n [578967.         603715.        ]\n [385422.         639463.86417358]\n [473046.         397187.5       ]\n [497027.         720977.85697271]\n [467634.         667999.97668185]\n [472586.         607207.19783091]]\n"
          ]
        }
      ],
      "source": [
        "knn_min = KNeighborsRegressor(n_neighbors = 2, leaf_size = 10, metric = 'chebyshev', weights = 'distance', algorithm = 'auto')\n",
        "knn_min.fit(X_scaled, Y)\n",
        "Y_pred_knn = knn_min.predict(X_test_scaled)\n",
        "print(\n",
        "    np.concatenate((\n",
        "        realY.values.reshape(len(realY),1), \n",
        "        Y_pred_knn.reshape(len(Y_pred_knn),1)\n",
        "),1))"
      ]
    },
    {
      "source": [
        "SVM"
      ],
      "cell_type": "markdown",
      "metadata": {}
    },
    {
      "cell_type": "code",
      "execution_count": 30,
      "metadata": {},
      "outputs": [],
      "source": [
        "from sklearn.svm import SVR\n",
        "scores = []\n",
        "kernel = []\n",
        "gamma = []\n",
        "C = []\n",
        "degree = []\n",
        "\n",
        "kernels = ['linear', 'rbf']\n",
        "gammas = [0.1, 1, 10, 100]\n",
        "Cs = [0.1, 1, 10, 100]\n",
        "degrees = [0, 1, 2, 3, 4, 5, 6]\n",
        "\n",
        "\n",
        "for i in kernels:\n",
        "  for j in gammas:\n",
        "    for k in Cs:\n",
        "        for l in degrees: \n",
        "          svm = SVR(kernel=i, gamma=j, C=k, degree=l)\n",
        "          svm.fit(X_scaled, Y)\n",
        "          scores.append(mean_squared_error(realY, svm.predict(X_test_scaled)))\n",
        "          kernel.append(i)\n",
        "          gamma.append(j)\n",
        "          C.append(k)\n",
        "          degree.append(l)\n"
      ]
    },
    {
      "cell_type": "code",
      "execution_count": 31,
      "metadata": {},
      "outputs": [
        {
          "output_type": "execute_result",
          "data": {
            "text/plain": [
              "['linear', 0.1, 100, 0]"
            ]
          },
          "metadata": {},
          "execution_count": 31
        }
      ],
      "source": [
        "index = np.argmin(scores)\n",
        "parameters = [kernel[index], gamma[index], C[index], degree[index]]\n",
        "parameters"
      ]
    },
    {
      "cell_type": "code",
      "execution_count": 32,
      "metadata": {},
      "outputs": [
        {
          "output_type": "stream",
          "name": "stdout",
          "text": [
            "[[339667.         564810.37631708]\n [335642.         627667.49140186]\n [286980.         591036.63307565]\n [190675.         598920.40731792]\n [246692.         578949.62180416]\n [288551.         558333.57020627]\n [365548.         566148.23620987]\n [321671.         567965.1162058 ]\n [262820.         633076.91006601]\n [264765.         641457.1779894 ]\n [224537.         611503.06284854]\n [287179.         608342.21848187]\n [330106.         584921.76102352]\n [436497.         582407.96819486]\n [300190.         578914.5627407 ]\n [257361.         640747.0630794 ]\n [287853.         613598.63863121]\n [313407.         620427.57751316]\n [300283.         631193.37953744]\n [397150.         599379.6020283 ]\n [489118.         582292.95082176]\n [309849.         573078.39695795]\n [261242.         582730.63986544]\n [316024.         600369.03078837]\n [340384.         626205.8137043 ]\n [353597.         601558.91082929]\n [456912.         614256.15799297]\n [481376.         568331.44794027]\n [358501.         564780.68720109]\n [351099.         632981.59714954]\n [316908.         617632.39680532]\n [366340.         614956.70070863]\n [392107.         616580.36350775]\n [493588.         610263.80937883]\n [489269.         585669.89406572]\n [404066.         572209.88874492]\n [311007.         612859.69895551]\n [376385.         590982.63576267]\n [448039.         621910.02237767]\n [438663.         606987.51173058]\n [543000.         603976.64893595]\n [595152.         613247.41517501]\n [439515.         613636.29562648]\n [366040.         671034.36446063]\n [378222.         662287.74856545]\n [463787.         624283.24019651]\n [460825.         622539.55437053]\n [572248.         582714.4605296 ]\n [599961.         594598.46587929]\n [539991.         585576.93648143]\n [464319.         611304.86806785]\n [403194.         591644.02331246]\n [578815.         609625.13217006]\n [505150.         602268.91621852]\n [332150.         561969.40171201]\n [578967.         572547.00688999]\n [385422.         583050.06124448]\n [473046.         584891.47884924]\n [497027.         622819.77773045]\n [467634.         625116.32488584]\n [472586.         590314.09848962]]\n"
          ]
        }
      ],
      "source": [
        "svm_min = SVR(kernel='linear', gamma=0.1, C=100, degree=0)\n",
        "svm_min.fit(X_scaled, Y)\n",
        "Y_pred_svm = svm_min.predict(X_test_scaled)\n",
        "print(\n",
        "    np.concatenate((\n",
        "        realY.values.reshape(len(realY),1), \n",
        "        Y_pred_svm.reshape(len(Y_pred_svm),1)\n",
        "),1))"
      ]
    },
    {
      "cell_type": "code",
      "execution_count": 33,
      "metadata": {},
      "outputs": [],
      "source": [
        "from sklearn.tree import DecisionTreeRegressor\n",
        "scores\n",
        "# Decision Tree\n",
        "scores = []\n",
        "splitter = []\n",
        "criterion =  []\n",
        "max_depth = []\n",
        "max_feature = []\n",
        "min_samples_split = []\n",
        "\n",
        "splitters =['best','random']\n",
        "criterions = ['mse', 'friedman_mse', 'mae']\n",
        "max_depths = [1,2,3,4,5,10,20,30,40]\n",
        "max_features =['auto','sqrt','log2'] \n",
        "min_samples_splits = [2,3,4,5,10,20,30,40]\n",
        "\n",
        "for i in splitters:\n",
        "  for j in criterions:\n",
        "    for k in max_depths:\n",
        "      for l in max_features:\n",
        "        for m in min_samples_splits:\n",
        "            tree = DecisionTreeRegressor(splitter = i, criterion = j, max_depth = k, max_features = l, min_samples_split = m)\n",
        "            tree.fit(X_scaled, Y)\n",
        "            scores.append(mean_squared_error(realY, tree.predict(X_test_scaled)))\n",
        "\n",
        "            splitter.append(i)\n",
        "            criterion.append(j)\n",
        "            max_depth.append(k)\n",
        "            max_feature.append(l)\n",
        "            min_samples_split.append(m)"
      ]
    },
    {
      "cell_type": "code",
      "execution_count": 34,
      "metadata": {},
      "outputs": [
        {
          "output_type": "execute_result",
          "data": {
            "text/plain": [
              "['random', 'mse', 2, 'sqrt', 5]"
            ]
          },
          "metadata": {},
          "execution_count": 34
        }
      ],
      "source": [
        "index = np.argmin(scores)\n",
        "parameters = [splitter[index], criterion[index], max_depth[index], max_feature[index], min_samples_split[index]]\n",
        "parameters"
      ]
    },
    {
      "cell_type": "code",
      "execution_count": 35,
      "metadata": {},
      "outputs": [
        {
          "output_type": "stream",
          "name": "stdout",
          "text": [
            "[[339667.         655848.01840491]\n [335642.         629115.24723247]\n [286980.         655848.01840491]\n [190675.         655848.01840491]\n [246692.         655848.01840491]\n [288551.         655848.01840491]\n [365548.         655848.01840491]\n [321671.         655848.01840491]\n [262820.         629115.24723247]\n [264765.         655848.01840491]\n [224537.         655848.01840491]\n [287179.         655848.01840491]\n [330106.         655848.01840491]\n [436497.         655848.01840491]\n [300190.         655848.01840491]\n [257361.         629115.24723247]\n [287853.         655848.01840491]\n [313407.         655848.01840491]\n [300283.         655848.01840491]\n [397150.         655848.01840491]\n [489118.         655848.01840491]\n [309849.         655848.01840491]\n [261242.         629115.24723247]\n [316024.         655848.01840491]\n [340384.         655848.01840491]\n [353597.         655848.01840491]\n [456912.         655848.01840491]\n [481376.         655848.01840491]\n [358501.         655848.01840491]\n [351099.         629115.24723247]\n [316908.         655848.01840491]\n [366340.         655848.01840491]\n [392107.         655848.01840491]\n [493588.         655848.01840491]\n [489269.         655848.01840491]\n [404066.         655848.01840491]\n [311007.         629115.24723247]\n [376385.         655848.01840491]\n [448039.         655848.01840491]\n [438663.         655848.01840491]\n [543000.         655848.01840491]\n [595152.         655848.01840491]\n [439515.         655848.01840491]\n [366040.         629115.24723247]\n [378222.         655848.01840491]\n [463787.         655848.01840491]\n [460825.         655848.01840491]\n [572248.         655848.01840491]\n [599961.         655848.01840491]\n [539991.         655848.01840491]\n [464319.         629115.24723247]\n [403194.         655848.01840491]\n [578815.         655848.01840491]\n [505150.         655848.01840491]\n [332150.         655848.01840491]\n [578967.         655848.01840491]\n [385422.         655848.01840491]\n [473046.         629115.24723247]\n [497027.         655848.01840491]\n [467634.         655848.01840491]\n [472586.         655848.01840491]]\n"
          ]
        }
      ],
      "source": [
        "tree_min = DecisionTreeRegressor(splitter = 'random', criterion = 'mse', max_depth = 2, max_features = 'sqrt', min_samples_split = 3)\n",
        "tree_min.fit(X_scaled, Y)\n",
        "Y_pred_tree = tree_min.predict(X_test_scaled)\n",
        "print(\n",
        "    np.concatenate((\n",
        "        realY.values.reshape(len(realY),1), \n",
        "        Y_pred_tree.reshape(len(Y_pred_tree),1)\n",
        "),1))"
      ]
    },
    {
      "cell_type": "code",
      "execution_count": 36,
      "metadata": {},
      "outputs": [],
      "source": [
        "from sklearn.ensemble import RandomForestRegressor\n",
        "# Random forest\n",
        "scores = []\n",
        "n_estimator = []\n",
        "criterion =  []\n",
        "max_depth = []\n",
        "max_feature = []\n",
        "min_samples_split = []\n",
        "\n",
        "\n",
        "criterions = ['mse', 'friedman_mse']\n",
        "max_depths = [10,20,30,40]\n",
        "max_features =['auto','sqrt','log2'] \n",
        "min_samples_splits = [10,20,30,40]\n",
        "n_estimators =[10,50,100]\n",
        "\n",
        "\n",
        "for i in n_estimators:\n",
        "  for j in criterions:\n",
        "    for k in max_depths:\n",
        "      for l in max_features:\n",
        "        for m in min_samples_splits:\n",
        "            rf = RandomForestRegressor(n_estimators = i, criterion = j, max_depth = k, max_features = l, min_samples_split = m)\n",
        "            rf.fit(X_scaled, Y)\n",
        "            scores.append(mean_squared_error(realY, rf.predict(X_test_scaled)))\n",
        "\n",
        "            n_estimator.append(i)\n",
        "            criterion.append(j)\n",
        "            max_depth.append(k)\n",
        "            max_feature.append(l)\n",
        "            min_samples_split.append(m)"
      ]
    },
    {
      "cell_type": "code",
      "execution_count": 37,
      "metadata": {},
      "outputs": [
        {
          "output_type": "execute_result",
          "data": {
            "text/plain": [
              "[10, 'mse', 10, 'sqrt', 20]"
            ]
          },
          "metadata": {},
          "execution_count": 37
        }
      ],
      "source": [
        "index = np.argmin(scores)\n",
        "parameters = [n_estimator[index], criterion[index], max_depth[index], max_feature[index], min_samples_split[index]]\n",
        "parameters"
      ]
    },
    {
      "cell_type": "code",
      "execution_count": 38,
      "metadata": {},
      "outputs": [
        {
          "output_type": "stream",
          "name": "stdout",
          "text": [
            "[[339667.         554189.82936404]\n [335642.         669174.54226751]\n [286980.         614126.19336242]\n [190675.         636619.19395514]\n [246692.         682696.77783473]\n [288551.         662933.67522563]\n [365548.         632467.00236481]\n [321671.         573852.73167498]\n [262820.         685249.5084881 ]\n [264765.         713100.20535198]\n [224537.         689205.75482712]\n [287179.         644818.92021118]\n [330106.         730671.38936446]\n [436497.         677539.76911406]\n [300190.         540063.97713158]\n [257361.         677160.08962374]\n [287853.         699299.79313265]\n [313407.         754677.19011064]\n [300283.         676237.25636938]\n [397150.         728480.9815254 ]\n [489118.         662752.04575787]\n [309849.         562690.58815217]\n [261242.         605163.59758922]\n [316024.         675222.1776827 ]\n [340384.         701385.80933974]\n [353597.         676112.53331583]\n [456912.         742344.45615309]\n [481376.         648561.67530962]\n [358501.         519052.232911  ]\n [351099.         644599.18280952]\n [316908.         658422.82694805]\n [366340.         675127.31198334]\n [392107.         748587.81918095]\n [493588.         750762.83598132]\n [489269.         641860.01342427]\n [404066.         493349.13832789]\n [311007.         654940.49278763]\n [376385.         589312.54793262]\n [448039.         643062.95460623]\n [438663.         675584.88351579]\n [543000.         710776.01208255]\n [595152.         720664.13250325]\n [439515.         531997.70978087]\n [366040.         669405.62044517]\n [378222.         686186.48503603]\n [463787.         736733.61069048]\n [460825.         724235.89919287]\n [572248.         668193.81042962]\n [599961.         638027.41236145]\n [539991.         508711.00520947]\n [464319.         621960.91591864]\n [403194.         571413.70814063]\n [578815.         667197.96719048]\n [505150.         697216.70352415]\n [332150.         624069.00423077]\n [578967.         694672.60575458]\n [385422.         520257.62586216]\n [473046.         640369.95272973]\n [497027.         676823.53646732]\n [467634.         649521.29655428]\n [472586.         621677.29647714]]\n"
          ]
        }
      ],
      "source": [
        "rf_min = RandomForestRegressor(n_estimators = 10, criterion = 'friedman_mse', max_depth = 40, max_features = 'sqrt', min_samples_split = 20)\n",
        "rf_min.fit(X_scaled, Y)\n",
        "Y_pred_rf = rf_min.predict(X_test_scaled)\n",
        "print(\n",
        "    np.concatenate((\n",
        "        realY.values.reshape(len(realY),1), \n",
        "        Y_pred_rf.reshape(len(Y_pred_rf),1)\n",
        "),1))"
      ]
    },
    {
      "cell_type": "code",
      "execution_count": 39,
      "metadata": {},
      "outputs": [
        {
          "output_type": "stream",
          "name": "stdout",
          "text": [
            "(1, 1, 1) tanh\n",
            "(1, 1, 1) relu\n",
            "(1, 1, 1) logistic\n",
            "(2, 2, 2) tanh\n",
            "(2, 2, 2) relu\n",
            "(2, 2, 2) logistic\n",
            "(3, 3, 3) tanh\n",
            "(3, 3, 3) relu\n",
            "(3, 3, 3) logistic\n",
            "(4, 4, 4) tanh\n",
            "(4, 4, 4) relu\n",
            "(4, 4, 4) logistic\n",
            "(5, 5, 5) tanh\n",
            "(5, 5, 5) relu\n",
            "(5, 5, 5) logistic\n"
          ]
        }
      ],
      "source": [
        "from sklearn.neural_network import MLPRegressor\n",
        "\n",
        "scores = []\n",
        "hidden_layer_size = []\n",
        "solver = []\n",
        "activation = []\n",
        "alpha = []\n",
        "learning_rate = []\n",
        "\n",
        "hidden_layer_sizes = []\n",
        "for i in range(1,6):\n",
        "  hidden_layer_sizes.append(((i,i,i)))\n",
        "activations = ['tanh', 'relu', 'logistic']\n",
        "solvers = ['lbfgs', 'sgd', 'adam']\n",
        "alphas = [0.0001, 0.05, 0.01, .001]\n",
        "learning_rates = ['constant','adaptive', 'invscaling']\n",
        "\n",
        "for i in hidden_layer_sizes:\n",
        "  for j in activations:\n",
        "    print(i, j)\n",
        "    for k in solvers:\n",
        "      for l in alphas:\n",
        "        for m in learning_rates:\n",
        "          nn = MLPRegressor(hidden_layer_sizes = i, activation = j, solver = k, alpha = l, learning_rate = m)\n",
        "          nn.fit(X_scaled, Y)\n",
        "          scores.append(mean_squared_error(realY, nn.predict(X_test_scaled)))\n",
        "\n",
        "          hidden_layer_size.append(i)\n",
        "          activation.append(j)\n",
        "          solver.append(k)\n",
        "          alpha.append(l)\n",
        "          learning_rate.append(m)"
      ]
    },
    {
      "cell_type": "code",
      "execution_count": 40,
      "metadata": {},
      "outputs": [
        {
          "output_type": "execute_result",
          "data": {
            "text/plain": [
              "[(1, 1, 1), 'relu', 'sgd', 0.01, 'constant']"
            ]
          },
          "metadata": {},
          "execution_count": 40
        }
      ],
      "source": [
        "index = np.argmin(scores)\n",
        "parameters = [hidden_layer_size[index], activation[index], solver[index], alpha[index], learning_rate[index]]\n",
        "parameters"
      ]
    },
    {
      "cell_type": "code",
      "execution_count": 41,
      "metadata": {},
      "outputs": [
        {
          "output_type": "stream",
          "name": "stdout",
          "text": [
            "[[339667.         374620.15632349]\n [335642.         374620.15632349]\n [286980.         374620.15632349]\n [190675.         374620.15632349]\n [246692.         374620.15632349]\n [288551.         374620.15632349]\n [365548.         374620.15632349]\n [321671.         374620.15632349]\n [262820.         374620.15632349]\n [264765.         374620.15632349]\n [224537.         374620.15632349]\n [287179.         374620.15632349]\n [330106.         374620.15632349]\n [436497.         374620.15632349]\n [300190.         374620.15632349]\n [257361.         374620.15632349]\n [287853.         374620.15632349]\n [313407.         374620.15632349]\n [300283.         374620.15632349]\n [397150.         374620.15632349]\n [489118.         374620.15632349]\n [309849.         374620.15632349]\n [261242.         374620.15632349]\n [316024.         374620.15632349]\n [340384.         374620.15632349]\n [353597.         374620.15632349]\n [456912.         374620.15632349]\n [481376.         374620.15632349]\n [358501.         374620.15632349]\n [351099.         374620.15632349]\n [316908.         374620.15632349]\n [366340.         374620.15632349]\n [392107.         374620.15632349]\n [493588.         374620.15632349]\n [489269.         374620.15632349]\n [404066.         374620.15632349]\n [311007.         374620.15632349]\n [376385.         374620.15632349]\n [448039.         374620.15632349]\n [438663.         374620.15632349]\n [543000.         374620.15632349]\n [595152.         374620.15632349]\n [439515.         374620.15632349]\n [366040.         374620.15632349]\n [378222.         374620.15632349]\n [463787.         374620.15632349]\n [460825.         374620.15632349]\n [572248.         374620.15632349]\n [599961.         374620.15632349]\n [539991.         374620.15632349]\n [464319.         374620.15632349]\n [403194.         374620.15632349]\n [578815.         374620.15632349]\n [505150.         374620.15632349]\n [332150.         374620.15632349]\n [578967.         374620.15632349]\n [385422.         374620.15632349]\n [473046.         374620.15632349]\n [497027.         374620.15632349]\n [467634.         374620.15632349]\n [472586.         374620.15632349]]\n"
          ]
        }
      ],
      "source": [
        "nn_min = MLPRegressor(hidden_layer_sizes = (4,4,4), activation = 'tanh', solver = 'sgd', alpha = 0.001, learning_rate = 'invscaling')\n",
        "nn_min.fit(X_scaled, Y)\n",
        "Y_pred_nn = nn_min.predict(X_test_scaled)\n",
        "print(\n",
        "    np.concatenate((\n",
        "        realY.values.reshape(len(realY),1), \n",
        "        Y_pred_nn.reshape(len(Y_pred_nn),1)\n",
        "),1))"
      ]
    },
    {
      "cell_type": "code",
      "execution_count": 44,
      "metadata": {},
      "outputs": [
        {
          "output_type": "stream",
          "name": "stdout",
          "text": [
            "+---------------+-------+\n| Algorithm     |   r2  |\n+---------------+-------+\n| KNN           | -7.02 |\n| SVR           | -4.46 |\n| Decision Tree | -6.65 |\n| Random Forest | -6.99 |\n| nn            | -0.03 |\n+---------------+-------+\n"
          ]
        }
      ],
      "source": [
        "from prettytable import PrettyTable\n",
        "from sklearn.metrics import r2_score\n",
        "rt = PrettyTable([\"Algorithm\", \"r2\"])\n",
        "rt.align[\"Algorithm\"] = \"l\" # Left align city names\n",
        "rt.padding_width = 1 # One space between column edges and contents (default)\n",
        "rt.add_row([\"KNN\",\n",
        "            '{:.2f}'.format(r2_score(realY, Y_pred_knn))])\n",
        "rt.add_row([\"SVR\",\n",
        "            '{:.2f}'.format(r2_score(realY, Y_pred_svm))])\n",
        "rt.add_row([\"Decision Tree\",\n",
        "            '{:.2f}'.format(r2_score(realY, Y_pred_tree))])\n",
        "rt.add_row([\"Random Forest\",\n",
        "            '{:.2f}'.format(r2_score(realY, Y_pred_rf))])\n",
        "rt.add_row([\"nn\",\n",
        "            '{:.2f}'.format(r2_score(realY, Y_pred_nn))])\n",
        "print(rt)"
      ]
    },
    {
      "cell_type": "code",
      "execution_count": 45,
      "metadata": {},
      "outputs": [],
      "source": [
        "#save the best model\n",
        "import pickle\n",
        "pickle.dump(svm_min, open('Model/pedestriant_ml_prediction_model_svr', 'wb'))\n",
        "pickle.dump(newscaler, open('Model/newscaler', 'wb'))"
      ]
    },
    {
      "cell_type": "code",
      "execution_count": null,
      "metadata": {},
      "outputs": [],
      "source": []
    }
  ]
}