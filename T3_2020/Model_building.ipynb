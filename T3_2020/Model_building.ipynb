{
  "nbformat": 4,
  "nbformat_minor": 0,
  "metadata": {
    "colab": {
      "name": "Pedestrian_Count_dataset.ipynb",
      "provenance": [],
      "collapsed_sections": []
    },
    "kernelspec": {
      "display_name": "Python 3",
      "name": "python3",
      "language": "python"
    }
  },
  "cells": [
    {
      "cell_type": "code",
      "metadata": {
        "colab": {
          "base_uri": "https://localhost:8080/"
        },
        "id": "uhXyz3430Vc9",
        "outputId": "80a81eea-7d46-4647-92ea-404c44557882"
      },
      "source": [
        "import pandas as pd\n",
        "df = pd.read_csv('dataset_with_public_holidays.csv')\n",
        "df"
      ],
      "execution_count": 281,
      "outputs": [
        {
          "output_type": "execute_result",
          "data": {
            "text/plain": [
              "      Unnamed: 0        Date  day_of_year  day_of_week  monthly_index  \\\n",
              "0              0  2015-01-01            1            4              1   \n",
              "1              1  2015-01-02            2            5              1   \n",
              "2              2  2015-01-03            3            6              1   \n",
              "3              3  2015-01-04            4            7              1   \n",
              "4              4  2015-01-05            5            1              1   \n",
              "...          ...         ...          ...          ...            ...   \n",
              "2127        2127  2020-10-27          301            2             10   \n",
              "2128        2128  2020-10-28          302            3             10   \n",
              "2129        2129  2020-10-29          303            4             10   \n",
              "2130        2130  2020-10-30          304            5             10   \n",
              "2131        2131  2020-10-31          305            6             10   \n",
              "\n",
              "            Public_Holiday  Rainfall amount (millimetres)  \\\n",
              "0           Public Holiday                            0.0   \n",
              "1     Not a public holiday                            0.0   \n",
              "2     Not a public holiday                            0.0   \n",
              "3     Not a public holiday                            4.6   \n",
              "4     Not a public holiday                            0.0   \n",
              "...                    ...                            ...   \n",
              "2127  Not a public holiday                            0.0   \n",
              "2128  Not a public holiday                            0.0   \n",
              "2129  Not a public holiday                            0.0   \n",
              "2130  Not a public holiday                            0.0   \n",
              "2131  Not a public holiday                            0.0   \n",
              "\n",
              "      Minimum temperature (Degree C)  Maximum temperature (Degree C)  \\\n",
              "0                               13.3                            26.9   \n",
              "1                               15.4                            38.8   \n",
              "2                               20.0                            38.2   \n",
              "3                               16.3                            21.4   \n",
              "4                               15.0                            22.0   \n",
              "...                              ...                             ...   \n",
              "2127                            11.1                            19.6   \n",
              "2128                             9.5                            20.9   \n",
              "2129                            11.2                            24.3   \n",
              "2130                            12.9                            18.6   \n",
              "2131                            14.2                            16.8   \n",
              "\n",
              "      Daily global solar exposure (MJ/m*m)  Total_Pedestrian_Count_per_day  \n",
              "0                                     23.6                          471563  \n",
              "1                                     26.8                          389048  \n",
              "2                                     26.5                          291761  \n",
              "3                                     25.2                          382364  \n",
              "4                                     30.7                          487220  \n",
              "...                                    ...                             ...  \n",
              "2127                                  20.1                          177267  \n",
              "2128                                  26.7                          311278  \n",
              "2129                                  17.1                          263334  \n",
              "2130                                  21.0                          313225  \n",
              "2131                                  10.0                          370181  \n",
              "\n",
              "[2132 rows x 11 columns]"
            ],
            "text/html": "<div>\n<style scoped>\n    .dataframe tbody tr th:only-of-type {\n        vertical-align: middle;\n    }\n\n    .dataframe tbody tr th {\n        vertical-align: top;\n    }\n\n    .dataframe thead th {\n        text-align: right;\n    }\n</style>\n<table border=\"1\" class=\"dataframe\">\n  <thead>\n    <tr style=\"text-align: right;\">\n      <th></th>\n      <th>Unnamed: 0</th>\n      <th>Date</th>\n      <th>day_of_year</th>\n      <th>day_of_week</th>\n      <th>monthly_index</th>\n      <th>Public_Holiday</th>\n      <th>Rainfall amount (millimetres)</th>\n      <th>Minimum temperature (Degree C)</th>\n      <th>Maximum temperature (Degree C)</th>\n      <th>Daily global solar exposure (MJ/m*m)</th>\n      <th>Total_Pedestrian_Count_per_day</th>\n    </tr>\n  </thead>\n  <tbody>\n    <tr>\n      <th>0</th>\n      <td>0</td>\n      <td>2015-01-01</td>\n      <td>1</td>\n      <td>4</td>\n      <td>1</td>\n      <td>Public Holiday</td>\n      <td>0.0</td>\n      <td>13.3</td>\n      <td>26.9</td>\n      <td>23.6</td>\n      <td>471563</td>\n    </tr>\n    <tr>\n      <th>1</th>\n      <td>1</td>\n      <td>2015-01-02</td>\n      <td>2</td>\n      <td>5</td>\n      <td>1</td>\n      <td>Not a public holiday</td>\n      <td>0.0</td>\n      <td>15.4</td>\n      <td>38.8</td>\n      <td>26.8</td>\n      <td>389048</td>\n    </tr>\n    <tr>\n      <th>2</th>\n      <td>2</td>\n      <td>2015-01-03</td>\n      <td>3</td>\n      <td>6</td>\n      <td>1</td>\n      <td>Not a public holiday</td>\n      <td>0.0</td>\n      <td>20.0</td>\n      <td>38.2</td>\n      <td>26.5</td>\n      <td>291761</td>\n    </tr>\n    <tr>\n      <th>3</th>\n      <td>3</td>\n      <td>2015-01-04</td>\n      <td>4</td>\n      <td>7</td>\n      <td>1</td>\n      <td>Not a public holiday</td>\n      <td>4.6</td>\n      <td>16.3</td>\n      <td>21.4</td>\n      <td>25.2</td>\n      <td>382364</td>\n    </tr>\n    <tr>\n      <th>4</th>\n      <td>4</td>\n      <td>2015-01-05</td>\n      <td>5</td>\n      <td>1</td>\n      <td>1</td>\n      <td>Not a public holiday</td>\n      <td>0.0</td>\n      <td>15.0</td>\n      <td>22.0</td>\n      <td>30.7</td>\n      <td>487220</td>\n    </tr>\n    <tr>\n      <th>...</th>\n      <td>...</td>\n      <td>...</td>\n      <td>...</td>\n      <td>...</td>\n      <td>...</td>\n      <td>...</td>\n      <td>...</td>\n      <td>...</td>\n      <td>...</td>\n      <td>...</td>\n      <td>...</td>\n    </tr>\n    <tr>\n      <th>2127</th>\n      <td>2127</td>\n      <td>2020-10-27</td>\n      <td>301</td>\n      <td>2</td>\n      <td>10</td>\n      <td>Not a public holiday</td>\n      <td>0.0</td>\n      <td>11.1</td>\n      <td>19.6</td>\n      <td>20.1</td>\n      <td>177267</td>\n    </tr>\n    <tr>\n      <th>2128</th>\n      <td>2128</td>\n      <td>2020-10-28</td>\n      <td>302</td>\n      <td>3</td>\n      <td>10</td>\n      <td>Not a public holiday</td>\n      <td>0.0</td>\n      <td>9.5</td>\n      <td>20.9</td>\n      <td>26.7</td>\n      <td>311278</td>\n    </tr>\n    <tr>\n      <th>2129</th>\n      <td>2129</td>\n      <td>2020-10-29</td>\n      <td>303</td>\n      <td>4</td>\n      <td>10</td>\n      <td>Not a public holiday</td>\n      <td>0.0</td>\n      <td>11.2</td>\n      <td>24.3</td>\n      <td>17.1</td>\n      <td>263334</td>\n    </tr>\n    <tr>\n      <th>2130</th>\n      <td>2130</td>\n      <td>2020-10-30</td>\n      <td>304</td>\n      <td>5</td>\n      <td>10</td>\n      <td>Not a public holiday</td>\n      <td>0.0</td>\n      <td>12.9</td>\n      <td>18.6</td>\n      <td>21.0</td>\n      <td>313225</td>\n    </tr>\n    <tr>\n      <th>2131</th>\n      <td>2131</td>\n      <td>2020-10-31</td>\n      <td>305</td>\n      <td>6</td>\n      <td>10</td>\n      <td>Not a public holiday</td>\n      <td>0.0</td>\n      <td>14.2</td>\n      <td>16.8</td>\n      <td>10.0</td>\n      <td>370181</td>\n    </tr>\n  </tbody>\n</table>\n<p>2132 rows × 11 columns</p>\n</div>"
          },
          "metadata": {},
          "execution_count": 281
        }
      ]
    },
    {
      "cell_type": "code",
      "execution_count": 283,
      "metadata": {},
      "outputs": [
        {
          "output_type": "execute_result",
          "data": {
            "text/plain": [
              "      day_of_year  day_of_week  monthly_index        Public_Holiday  \\\n",
              "0               1            4              1        Public Holiday   \n",
              "1               2            5              1  Not a public holiday   \n",
              "2               3            6              1  Not a public holiday   \n",
              "3               4            7              1  Not a public holiday   \n",
              "4               5            1              1  Not a public holiday   \n",
              "...           ...          ...            ...                   ...   \n",
              "2127          301            2             10  Not a public holiday   \n",
              "2128          302            3             10  Not a public holiday   \n",
              "2129          303            4             10  Not a public holiday   \n",
              "2130          304            5             10  Not a public holiday   \n",
              "2131          305            6             10  Not a public holiday   \n",
              "\n",
              "      Rainfall amount (millimetres)  Minimum temperature (Degree C)  \\\n",
              "0                               0.0                            13.3   \n",
              "1                               0.0                            15.4   \n",
              "2                               0.0                            20.0   \n",
              "3                               4.6                            16.3   \n",
              "4                               0.0                            15.0   \n",
              "...                             ...                             ...   \n",
              "2127                            0.0                            11.1   \n",
              "2128                            0.0                             9.5   \n",
              "2129                            0.0                            11.2   \n",
              "2130                            0.0                            12.9   \n",
              "2131                            0.0                            14.2   \n",
              "\n",
              "      Maximum temperature (Degree C)  Daily global solar exposure (MJ/m*m)  \n",
              "0                               26.9                                  23.6  \n",
              "1                               38.8                                  26.8  \n",
              "2                               38.2                                  26.5  \n",
              "3                               21.4                                  25.2  \n",
              "4                               22.0                                  30.7  \n",
              "...                              ...                                   ...  \n",
              "2127                            19.6                                  20.1  \n",
              "2128                            20.9                                  26.7  \n",
              "2129                            24.3                                  17.1  \n",
              "2130                            18.6                                  21.0  \n",
              "2131                            16.8                                  10.0  \n",
              "\n",
              "[2132 rows x 8 columns]"
            ],
            "text/html": "<div>\n<style scoped>\n    .dataframe tbody tr th:only-of-type {\n        vertical-align: middle;\n    }\n\n    .dataframe tbody tr th {\n        vertical-align: top;\n    }\n\n    .dataframe thead th {\n        text-align: right;\n    }\n</style>\n<table border=\"1\" class=\"dataframe\">\n  <thead>\n    <tr style=\"text-align: right;\">\n      <th></th>\n      <th>day_of_year</th>\n      <th>day_of_week</th>\n      <th>monthly_index</th>\n      <th>Public_Holiday</th>\n      <th>Rainfall amount (millimetres)</th>\n      <th>Minimum temperature (Degree C)</th>\n      <th>Maximum temperature (Degree C)</th>\n      <th>Daily global solar exposure (MJ/m*m)</th>\n    </tr>\n  </thead>\n  <tbody>\n    <tr>\n      <th>0</th>\n      <td>1</td>\n      <td>4</td>\n      <td>1</td>\n      <td>Public Holiday</td>\n      <td>0.0</td>\n      <td>13.3</td>\n      <td>26.9</td>\n      <td>23.6</td>\n    </tr>\n    <tr>\n      <th>1</th>\n      <td>2</td>\n      <td>5</td>\n      <td>1</td>\n      <td>Not a public holiday</td>\n      <td>0.0</td>\n      <td>15.4</td>\n      <td>38.8</td>\n      <td>26.8</td>\n    </tr>\n    <tr>\n      <th>2</th>\n      <td>3</td>\n      <td>6</td>\n      <td>1</td>\n      <td>Not a public holiday</td>\n      <td>0.0</td>\n      <td>20.0</td>\n      <td>38.2</td>\n      <td>26.5</td>\n    </tr>\n    <tr>\n      <th>3</th>\n      <td>4</td>\n      <td>7</td>\n      <td>1</td>\n      <td>Not a public holiday</td>\n      <td>4.6</td>\n      <td>16.3</td>\n      <td>21.4</td>\n      <td>25.2</td>\n    </tr>\n    <tr>\n      <th>4</th>\n      <td>5</td>\n      <td>1</td>\n      <td>1</td>\n      <td>Not a public holiday</td>\n      <td>0.0</td>\n      <td>15.0</td>\n      <td>22.0</td>\n      <td>30.7</td>\n    </tr>\n    <tr>\n      <th>...</th>\n      <td>...</td>\n      <td>...</td>\n      <td>...</td>\n      <td>...</td>\n      <td>...</td>\n      <td>...</td>\n      <td>...</td>\n      <td>...</td>\n    </tr>\n    <tr>\n      <th>2127</th>\n      <td>301</td>\n      <td>2</td>\n      <td>10</td>\n      <td>Not a public holiday</td>\n      <td>0.0</td>\n      <td>11.1</td>\n      <td>19.6</td>\n      <td>20.1</td>\n    </tr>\n    <tr>\n      <th>2128</th>\n      <td>302</td>\n      <td>3</td>\n      <td>10</td>\n      <td>Not a public holiday</td>\n      <td>0.0</td>\n      <td>9.5</td>\n      <td>20.9</td>\n      <td>26.7</td>\n    </tr>\n    <tr>\n      <th>2129</th>\n      <td>303</td>\n      <td>4</td>\n      <td>10</td>\n      <td>Not a public holiday</td>\n      <td>0.0</td>\n      <td>11.2</td>\n      <td>24.3</td>\n      <td>17.1</td>\n    </tr>\n    <tr>\n      <th>2130</th>\n      <td>304</td>\n      <td>5</td>\n      <td>10</td>\n      <td>Not a public holiday</td>\n      <td>0.0</td>\n      <td>12.9</td>\n      <td>18.6</td>\n      <td>21.0</td>\n    </tr>\n    <tr>\n      <th>2131</th>\n      <td>305</td>\n      <td>6</td>\n      <td>10</td>\n      <td>Not a public holiday</td>\n      <td>0.0</td>\n      <td>14.2</td>\n      <td>16.8</td>\n      <td>10.0</td>\n    </tr>\n  </tbody>\n</table>\n<p>2132 rows × 8 columns</p>\n</div>"
          },
          "metadata": {},
          "execution_count": 283
        }
      ],
      "source": [
        "X = df.iloc[:,2:-1]\n",
        "Y = df['Total_Pedestrian_Count_per_day']\n",
        "X"
      ]
    },
    {
      "cell_type": "code",
      "metadata": {
        "id": "aCqhJ_1-utJd"
      },
      "source": [
        "rng = pd.date_range('2020-11-01', periods=61, freq='D')\n",
        "X_test = pd.DataFrame({ 'Date': rng}) \n",
        "X_test['Date'] = X_test['Date'].astype('datetime64[ns]')\n",
        "X_test"
      ],
      "execution_count": 285,
      "outputs": [
        {
          "output_type": "execute_result",
          "data": {
            "text/plain": [
              "         Date\n",
              "0  2020-11-01\n",
              "1  2020-11-02\n",
              "2  2020-11-03\n",
              "3  2020-11-04\n",
              "4  2020-11-05\n",
              "..        ...\n",
              "56 2020-12-27\n",
              "57 2020-12-28\n",
              "58 2020-12-29\n",
              "59 2020-12-30\n",
              "60 2020-12-31\n",
              "\n",
              "[61 rows x 1 columns]"
            ],
            "text/html": "<div>\n<style scoped>\n    .dataframe tbody tr th:only-of-type {\n        vertical-align: middle;\n    }\n\n    .dataframe tbody tr th {\n        vertical-align: top;\n    }\n\n    .dataframe thead th {\n        text-align: right;\n    }\n</style>\n<table border=\"1\" class=\"dataframe\">\n  <thead>\n    <tr style=\"text-align: right;\">\n      <th></th>\n      <th>Date</th>\n    </tr>\n  </thead>\n  <tbody>\n    <tr>\n      <th>0</th>\n      <td>2020-11-01</td>\n    </tr>\n    <tr>\n      <th>1</th>\n      <td>2020-11-02</td>\n    </tr>\n    <tr>\n      <th>2</th>\n      <td>2020-11-03</td>\n    </tr>\n    <tr>\n      <th>3</th>\n      <td>2020-11-04</td>\n    </tr>\n    <tr>\n      <th>4</th>\n      <td>2020-11-05</td>\n    </tr>\n    <tr>\n      <th>...</th>\n      <td>...</td>\n    </tr>\n    <tr>\n      <th>56</th>\n      <td>2020-12-27</td>\n    </tr>\n    <tr>\n      <th>57</th>\n      <td>2020-12-28</td>\n    </tr>\n    <tr>\n      <th>58</th>\n      <td>2020-12-29</td>\n    </tr>\n    <tr>\n      <th>59</th>\n      <td>2020-12-30</td>\n    </tr>\n    <tr>\n      <th>60</th>\n      <td>2020-12-31</td>\n    </tr>\n  </tbody>\n</table>\n<p>61 rows × 1 columns</p>\n</div>"
          },
          "metadata": {},
          "execution_count": 285
        }
      ]
    },
    {
      "cell_type": "code",
      "execution_count": 287,
      "metadata": {},
      "outputs": [
        {
          "output_type": "execute_result",
          "data": {
            "text/plain": [
              "         Date   Rainfall   Solar Exposure  Minimum temperature  \\\n",
              "0   01-11-2020        0.0            23.2                 12.6   \n",
              "1   02-11-2020        0.0            26.8                  9.6   \n",
              "2   03-11-2020        0.0            26.9                 12.1   \n",
              "3   04-11-2020        0.0             5.5                 21.9   \n",
              "4   05-11-2020        2.8            23.1                 11.1   \n",
              "..         ...        ...             ...                  ...   \n",
              "56  27-12-2020        0.0             3.3                 16.2   \n",
              "57  28-12-2020        3.2            26.5                 11.5   \n",
              "58  29-12-2020        0.0            30.7                  9.0   \n",
              "59  30-12-2020        0.0            30.3                 13.7   \n",
              "60  31-12-2020        0.0             7.3                 15.5   \n",
              "\n",
              "    Maximum Temperature  \n",
              "0                  17.0  \n",
              "1                  29.5  \n",
              "2                  30.4  \n",
              "3                  22.8  \n",
              "4                  15.8  \n",
              "..                  ...  \n",
              "56                 31.9  \n",
              "57                 17.8  \n",
              "58                 21.3  \n",
              "59                 21.4  \n",
              "60                 21.2  \n",
              "\n",
              "[61 rows x 5 columns]"
            ],
            "text/html": "<div>\n<style scoped>\n    .dataframe tbody tr th:only-of-type {\n        vertical-align: middle;\n    }\n\n    .dataframe tbody tr th {\n        vertical-align: top;\n    }\n\n    .dataframe thead th {\n        text-align: right;\n    }\n</style>\n<table border=\"1\" class=\"dataframe\">\n  <thead>\n    <tr style=\"text-align: right;\">\n      <th></th>\n      <th>Date</th>\n      <th>Rainfall</th>\n      <th>Solar Exposure</th>\n      <th>Minimum temperature</th>\n      <th>Maximum Temperature</th>\n    </tr>\n  </thead>\n  <tbody>\n    <tr>\n      <th>0</th>\n      <td>01-11-2020</td>\n      <td>0.0</td>\n      <td>23.2</td>\n      <td>12.6</td>\n      <td>17.0</td>\n    </tr>\n    <tr>\n      <th>1</th>\n      <td>02-11-2020</td>\n      <td>0.0</td>\n      <td>26.8</td>\n      <td>9.6</td>\n      <td>29.5</td>\n    </tr>\n    <tr>\n      <th>2</th>\n      <td>03-11-2020</td>\n      <td>0.0</td>\n      <td>26.9</td>\n      <td>12.1</td>\n      <td>30.4</td>\n    </tr>\n    <tr>\n      <th>3</th>\n      <td>04-11-2020</td>\n      <td>0.0</td>\n      <td>5.5</td>\n      <td>21.9</td>\n      <td>22.8</td>\n    </tr>\n    <tr>\n      <th>4</th>\n      <td>05-11-2020</td>\n      <td>2.8</td>\n      <td>23.1</td>\n      <td>11.1</td>\n      <td>15.8</td>\n    </tr>\n    <tr>\n      <th>...</th>\n      <td>...</td>\n      <td>...</td>\n      <td>...</td>\n      <td>...</td>\n      <td>...</td>\n    </tr>\n    <tr>\n      <th>56</th>\n      <td>27-12-2020</td>\n      <td>0.0</td>\n      <td>3.3</td>\n      <td>16.2</td>\n      <td>31.9</td>\n    </tr>\n    <tr>\n      <th>57</th>\n      <td>28-12-2020</td>\n      <td>3.2</td>\n      <td>26.5</td>\n      <td>11.5</td>\n      <td>17.8</td>\n    </tr>\n    <tr>\n      <th>58</th>\n      <td>29-12-2020</td>\n      <td>0.0</td>\n      <td>30.7</td>\n      <td>9.0</td>\n      <td>21.3</td>\n    </tr>\n    <tr>\n      <th>59</th>\n      <td>30-12-2020</td>\n      <td>0.0</td>\n      <td>30.3</td>\n      <td>13.7</td>\n      <td>21.4</td>\n    </tr>\n    <tr>\n      <th>60</th>\n      <td>31-12-2020</td>\n      <td>0.0</td>\n      <td>7.3</td>\n      <td>15.5</td>\n      <td>21.2</td>\n    </tr>\n  </tbody>\n</table>\n<p>61 rows × 5 columns</p>\n</div>"
          },
          "metadata": {},
          "execution_count": 287
        }
      ],
      "source": [
        "# Loading the weather test dataset \n",
        "test_dataset = pd.read_csv('Test_dataset_updated.csv') \n",
        "test_dataset"
      ]
    },
    {
      "cell_type": "code",
      "execution_count": 289,
      "metadata": {},
      "outputs": [
        {
          "output_type": "execute_result",
          "data": {
            "text/plain": [
              "                  Public_Holiday\n",
              "2020-11-01  Not a public holiday\n",
              "2020-11-02  Not a public holiday\n",
              "2020-11-03        Public Holiday\n",
              "2020-11-04  Not a public holiday\n",
              "2020-11-05  Not a public holiday\n",
              "...                          ...\n",
              "2020-12-27  Not a public holiday\n",
              "2020-12-28        Public Holiday\n",
              "2020-12-29  Not a public holiday\n",
              "2020-12-30  Not a public holiday\n",
              "2020-12-31  Not a public holiday\n",
              "\n",
              "[61 rows x 1 columns]"
            ],
            "text/html": "<div>\n<style scoped>\n    .dataframe tbody tr th:only-of-type {\n        vertical-align: middle;\n    }\n\n    .dataframe tbody tr th {\n        vertical-align: top;\n    }\n\n    .dataframe thead th {\n        text-align: right;\n    }\n</style>\n<table border=\"1\" class=\"dataframe\">\n  <thead>\n    <tr style=\"text-align: right;\">\n      <th></th>\n      <th>Public_Holiday</th>\n    </tr>\n  </thead>\n  <tbody>\n    <tr>\n      <th>2020-11-01</th>\n      <td>Not a public holiday</td>\n    </tr>\n    <tr>\n      <th>2020-11-02</th>\n      <td>Not a public holiday</td>\n    </tr>\n    <tr>\n      <th>2020-11-03</th>\n      <td>Public Holiday</td>\n    </tr>\n    <tr>\n      <th>2020-11-04</th>\n      <td>Not a public holiday</td>\n    </tr>\n    <tr>\n      <th>2020-11-05</th>\n      <td>Not a public holiday</td>\n    </tr>\n    <tr>\n      <th>...</th>\n      <td>...</td>\n    </tr>\n    <tr>\n      <th>2020-12-27</th>\n      <td>Not a public holiday</td>\n    </tr>\n    <tr>\n      <th>2020-12-28</th>\n      <td>Public Holiday</td>\n    </tr>\n    <tr>\n      <th>2020-12-29</th>\n      <td>Not a public holiday</td>\n    </tr>\n    <tr>\n      <th>2020-12-30</th>\n      <td>Not a public holiday</td>\n    </tr>\n    <tr>\n      <th>2020-12-31</th>\n      <td>Not a public holiday</td>\n    </tr>\n  </tbody>\n</table>\n<p>61 rows × 1 columns</p>\n</div>"
          },
          "metadata": {},
          "execution_count": 289
        }
      ],
      "source": [
        "public = pd.read_csv('Public_Holiday_test_set.csv')\n",
        "holidays = public[['Holiday']]\n",
        "holidays['Holiday'] = holidays['Holiday'].astype('datetime64[ns]')\n",
        "holidays['Public_Holiday'] = 'Public Holiday'\n",
        "\n",
        "X_test = X_test.set_index('Date').join(holidays.set_index(\"Holiday\"), how='left')\n",
        "X_test['Public_Holiday'].fillna('Not a public holiday', inplace=True)\n",
        "X_test"
      ]
    },
    {
      "cell_type": "code",
      "execution_count": 290,
      "metadata": {},
      "outputs": [
        {
          "output_type": "execute_result",
          "data": {
            "text/plain": [
              "            day_of_year  day_of_week  monthly_index  \\\n",
              "2020-11-01          306            6             11   \n",
              "2020-11-02          307            0             11   \n",
              "2020-11-03          308            1             11   \n",
              "2020-11-04          309            2             11   \n",
              "2020-11-05          310            3             11   \n",
              "...                 ...          ...            ...   \n",
              "2020-12-27          362            6             12   \n",
              "2020-12-28          363            0             12   \n",
              "2020-12-29          364            1             12   \n",
              "2020-12-30          365            2             12   \n",
              "2020-12-31          366            3             12   \n",
              "\n",
              "            Rainfall amount (millimetres)  Minimum temperature (Degree C)  \\\n",
              "2020-11-01                            0.0                            12.6   \n",
              "2020-11-02                            0.0                             9.6   \n",
              "2020-11-03                            0.0                            12.1   \n",
              "2020-11-04                            0.0                            21.9   \n",
              "2020-11-05                            2.8                            11.1   \n",
              "...                                   ...                             ...   \n",
              "2020-12-27                            0.0                            16.2   \n",
              "2020-12-28                            3.2                            11.5   \n",
              "2020-12-29                            0.0                             9.0   \n",
              "2020-12-30                            0.0                            13.7   \n",
              "2020-12-31                            0.0                            15.5   \n",
              "\n",
              "            Maximum temperature (Degree C)  \\\n",
              "2020-11-01                            17.0   \n",
              "2020-11-02                            29.5   \n",
              "2020-11-03                            30.4   \n",
              "2020-11-04                            22.8   \n",
              "2020-11-05                            15.8   \n",
              "...                                    ...   \n",
              "2020-12-27                            31.9   \n",
              "2020-12-28                            17.8   \n",
              "2020-12-29                            21.3   \n",
              "2020-12-30                            21.4   \n",
              "2020-12-31                            21.2   \n",
              "\n",
              "            Daily global solar exposure (MJ/m*m)  \n",
              "2020-11-01                                  23.2  \n",
              "2020-11-02                                  26.8  \n",
              "2020-11-03                                  26.9  \n",
              "2020-11-04                                   5.5  \n",
              "2020-11-05                                  23.1  \n",
              "...                                          ...  \n",
              "2020-12-27                                   3.3  \n",
              "2020-12-28                                  26.5  \n",
              "2020-12-29                                  30.7  \n",
              "2020-12-30                                  30.3  \n",
              "2020-12-31                                   7.3  \n",
              "\n",
              "[61 rows x 7 columns]"
            ],
            "text/html": "<div>\n<style scoped>\n    .dataframe tbody tr th:only-of-type {\n        vertical-align: middle;\n    }\n\n    .dataframe tbody tr th {\n        vertical-align: top;\n    }\n\n    .dataframe thead th {\n        text-align: right;\n    }\n</style>\n<table border=\"1\" class=\"dataframe\">\n  <thead>\n    <tr style=\"text-align: right;\">\n      <th></th>\n      <th>day_of_year</th>\n      <th>day_of_week</th>\n      <th>monthly_index</th>\n      <th>Rainfall amount (millimetres)</th>\n      <th>Minimum temperature (Degree C)</th>\n      <th>Maximum temperature (Degree C)</th>\n      <th>Daily global solar exposure (MJ/m*m)</th>\n    </tr>\n  </thead>\n  <tbody>\n    <tr>\n      <th>2020-11-01</th>\n      <td>306</td>\n      <td>6</td>\n      <td>11</td>\n      <td>0.0</td>\n      <td>12.6</td>\n      <td>17.0</td>\n      <td>23.2</td>\n    </tr>\n    <tr>\n      <th>2020-11-02</th>\n      <td>307</td>\n      <td>0</td>\n      <td>11</td>\n      <td>0.0</td>\n      <td>9.6</td>\n      <td>29.5</td>\n      <td>26.8</td>\n    </tr>\n    <tr>\n      <th>2020-11-03</th>\n      <td>308</td>\n      <td>1</td>\n      <td>11</td>\n      <td>0.0</td>\n      <td>12.1</td>\n      <td>30.4</td>\n      <td>26.9</td>\n    </tr>\n    <tr>\n      <th>2020-11-04</th>\n      <td>309</td>\n      <td>2</td>\n      <td>11</td>\n      <td>0.0</td>\n      <td>21.9</td>\n      <td>22.8</td>\n      <td>5.5</td>\n    </tr>\n    <tr>\n      <th>2020-11-05</th>\n      <td>310</td>\n      <td>3</td>\n      <td>11</td>\n      <td>2.8</td>\n      <td>11.1</td>\n      <td>15.8</td>\n      <td>23.1</td>\n    </tr>\n    <tr>\n      <th>...</th>\n      <td>...</td>\n      <td>...</td>\n      <td>...</td>\n      <td>...</td>\n      <td>...</td>\n      <td>...</td>\n      <td>...</td>\n    </tr>\n    <tr>\n      <th>2020-12-27</th>\n      <td>362</td>\n      <td>6</td>\n      <td>12</td>\n      <td>0.0</td>\n      <td>16.2</td>\n      <td>31.9</td>\n      <td>3.3</td>\n    </tr>\n    <tr>\n      <th>2020-12-28</th>\n      <td>363</td>\n      <td>0</td>\n      <td>12</td>\n      <td>3.2</td>\n      <td>11.5</td>\n      <td>17.8</td>\n      <td>26.5</td>\n    </tr>\n    <tr>\n      <th>2020-12-29</th>\n      <td>364</td>\n      <td>1</td>\n      <td>12</td>\n      <td>0.0</td>\n      <td>9.0</td>\n      <td>21.3</td>\n      <td>30.7</td>\n    </tr>\n    <tr>\n      <th>2020-12-30</th>\n      <td>365</td>\n      <td>2</td>\n      <td>12</td>\n      <td>0.0</td>\n      <td>13.7</td>\n      <td>21.4</td>\n      <td>30.3</td>\n    </tr>\n    <tr>\n      <th>2020-12-31</th>\n      <td>366</td>\n      <td>3</td>\n      <td>12</td>\n      <td>0.0</td>\n      <td>15.5</td>\n      <td>21.2</td>\n      <td>7.3</td>\n    </tr>\n  </tbody>\n</table>\n<p>61 rows × 7 columns</p>\n</div>"
          },
          "metadata": {},
          "execution_count": 290
        }
      ],
      "source": [
        "X_test['day_of_year'] = X_test.index.dayofyear\n",
        "X_test['day_of_week'] = X_test.index.dayofweek + 1\n",
        "X_test['monthly_index'] = X_test.index.month\n",
        "\n",
        "X_test['Rainfall amount (millimetres)'] = test_dataset['Rainfall '].values\n",
        "X_test['Minimum temperature (Degree C)'] = test_dataset['Minimum temperature'].values\n",
        "X_test['Maximum temperature (Degree C)'] = test_dataset['Maximum Temperature'].values\n",
        "X_test['Daily global solar exposure (MJ/m*m)'] = test_dataset['Solar Exposure'].values\n",
        "\n",
        "\n",
        "X_test = X_test.iloc[:,1:]\n",
        "X_test"
      ]
    },
    {
      "cell_type": "code",
      "execution_count": 291,
      "metadata": {},
      "outputs": [
        {
          "output_type": "execute_result",
          "data": {
            "text/plain": [
              "            day_of_year  day_of_week  monthly_index  \\\n",
              "2020-11-01          306            6             11   \n",
              "2020-11-02          307            0             11   \n",
              "2020-11-03          308            1             11   \n",
              "2020-11-04          309            2             11   \n",
              "2020-11-05          310            3             11   \n",
              "...                 ...          ...            ...   \n",
              "2020-12-27          362            6             12   \n",
              "2020-12-28          363            0             12   \n",
              "2020-12-29          364            1             12   \n",
              "2020-12-30          365            2             12   \n",
              "2020-12-31          366            3             12   \n",
              "\n",
              "            Rainfall amount (millimetres)  Minimum temperature (Degree C)  \\\n",
              "2020-11-01                            0.0                            12.6   \n",
              "2020-11-02                            0.0                             9.6   \n",
              "2020-11-03                            0.0                            12.1   \n",
              "2020-11-04                            0.0                            21.9   \n",
              "2020-11-05                            2.8                            11.1   \n",
              "...                                   ...                             ...   \n",
              "2020-12-27                            0.0                            16.2   \n",
              "2020-12-28                            3.2                            11.5   \n",
              "2020-12-29                            0.0                             9.0   \n",
              "2020-12-30                            0.0                            13.7   \n",
              "2020-12-31                            0.0                            15.5   \n",
              "\n",
              "            Maximum temperature (Degree C)  \\\n",
              "2020-11-01                            17.0   \n",
              "2020-11-02                            29.5   \n",
              "2020-11-03                            30.4   \n",
              "2020-11-04                            22.8   \n",
              "2020-11-05                            15.8   \n",
              "...                                    ...   \n",
              "2020-12-27                            31.9   \n",
              "2020-12-28                            17.8   \n",
              "2020-12-29                            21.3   \n",
              "2020-12-30                            21.4   \n",
              "2020-12-31                            21.2   \n",
              "\n",
              "            Daily global solar exposure (MJ/m*m)  \\\n",
              "2020-11-01                                  23.2   \n",
              "2020-11-02                                  26.8   \n",
              "2020-11-03                                  26.9   \n",
              "2020-11-04                                   5.5   \n",
              "2020-11-05                                  23.1   \n",
              "...                                          ...   \n",
              "2020-12-27                                   3.3   \n",
              "2020-12-28                                  26.5   \n",
              "2020-12-29                                  30.7   \n",
              "2020-12-30                                  30.3   \n",
              "2020-12-31                                   7.3   \n",
              "\n",
              "            Public_Holiday_Public Holiday  \n",
              "2020-11-01                              0  \n",
              "2020-11-02                              0  \n",
              "2020-11-03                              0  \n",
              "2020-11-04                              0  \n",
              "2020-11-05                              0  \n",
              "...                                   ...  \n",
              "2020-12-27                              0  \n",
              "2020-12-28                              0  \n",
              "2020-12-29                              0  \n",
              "2020-12-30                              0  \n",
              "2020-12-31                              0  \n",
              "\n",
              "[61 rows x 8 columns]"
            ],
            "text/html": "<div>\n<style scoped>\n    .dataframe tbody tr th:only-of-type {\n        vertical-align: middle;\n    }\n\n    .dataframe tbody tr th {\n        vertical-align: top;\n    }\n\n    .dataframe thead th {\n        text-align: right;\n    }\n</style>\n<table border=\"1\" class=\"dataframe\">\n  <thead>\n    <tr style=\"text-align: right;\">\n      <th></th>\n      <th>day_of_year</th>\n      <th>day_of_week</th>\n      <th>monthly_index</th>\n      <th>Rainfall amount (millimetres)</th>\n      <th>Minimum temperature (Degree C)</th>\n      <th>Maximum temperature (Degree C)</th>\n      <th>Daily global solar exposure (MJ/m*m)</th>\n      <th>Public_Holiday_Public Holiday</th>\n    </tr>\n  </thead>\n  <tbody>\n    <tr>\n      <th>2020-11-01</th>\n      <td>306</td>\n      <td>6</td>\n      <td>11</td>\n      <td>0.0</td>\n      <td>12.6</td>\n      <td>17.0</td>\n      <td>23.2</td>\n      <td>0</td>\n    </tr>\n    <tr>\n      <th>2020-11-02</th>\n      <td>307</td>\n      <td>0</td>\n      <td>11</td>\n      <td>0.0</td>\n      <td>9.6</td>\n      <td>29.5</td>\n      <td>26.8</td>\n      <td>0</td>\n    </tr>\n    <tr>\n      <th>2020-11-03</th>\n      <td>308</td>\n      <td>1</td>\n      <td>11</td>\n      <td>0.0</td>\n      <td>12.1</td>\n      <td>30.4</td>\n      <td>26.9</td>\n      <td>0</td>\n    </tr>\n    <tr>\n      <th>2020-11-04</th>\n      <td>309</td>\n      <td>2</td>\n      <td>11</td>\n      <td>0.0</td>\n      <td>21.9</td>\n      <td>22.8</td>\n      <td>5.5</td>\n      <td>0</td>\n    </tr>\n    <tr>\n      <th>2020-11-05</th>\n      <td>310</td>\n      <td>3</td>\n      <td>11</td>\n      <td>2.8</td>\n      <td>11.1</td>\n      <td>15.8</td>\n      <td>23.1</td>\n      <td>0</td>\n    </tr>\n    <tr>\n      <th>...</th>\n      <td>...</td>\n      <td>...</td>\n      <td>...</td>\n      <td>...</td>\n      <td>...</td>\n      <td>...</td>\n      <td>...</td>\n      <td>...</td>\n    </tr>\n    <tr>\n      <th>2020-12-27</th>\n      <td>362</td>\n      <td>6</td>\n      <td>12</td>\n      <td>0.0</td>\n      <td>16.2</td>\n      <td>31.9</td>\n      <td>3.3</td>\n      <td>0</td>\n    </tr>\n    <tr>\n      <th>2020-12-28</th>\n      <td>363</td>\n      <td>0</td>\n      <td>12</td>\n      <td>3.2</td>\n      <td>11.5</td>\n      <td>17.8</td>\n      <td>26.5</td>\n      <td>0</td>\n    </tr>\n    <tr>\n      <th>2020-12-29</th>\n      <td>364</td>\n      <td>1</td>\n      <td>12</td>\n      <td>0.0</td>\n      <td>9.0</td>\n      <td>21.3</td>\n      <td>30.7</td>\n      <td>0</td>\n    </tr>\n    <tr>\n      <th>2020-12-30</th>\n      <td>365</td>\n      <td>2</td>\n      <td>12</td>\n      <td>0.0</td>\n      <td>13.7</td>\n      <td>21.4</td>\n      <td>30.3</td>\n      <td>0</td>\n    </tr>\n    <tr>\n      <th>2020-12-31</th>\n      <td>366</td>\n      <td>3</td>\n      <td>12</td>\n      <td>0.0</td>\n      <td>15.5</td>\n      <td>21.2</td>\n      <td>7.3</td>\n      <td>0</td>\n    </tr>\n  </tbody>\n</table>\n<p>61 rows × 8 columns</p>\n</div>"
          },
          "metadata": {},
          "execution_count": 291
        }
      ],
      "source": [
        "X = X.fillna(X.mean())\n",
        "\n",
        "combined = pd.concat([X, X_test])\n",
        "combined_df = pd.get_dummies(combined, columns=['Public_Holiday'], drop_first=True)\n",
        "\n",
        "X = combined_df[:len(X)]\n",
        "X_test = combined_df[len(X):]\n",
        "X_test"
      ]
    },
    {
      "cell_type": "code",
      "execution_count": 292,
      "metadata": {},
      "outputs": [
        {
          "output_type": "execute_result",
          "data": {
            "text/plain": [
              "array([[-1.71507061e+00, -9.38637205e-04, -1.58631120e+00, ...,\n",
              "         1.03952738e+00,  1.11446043e+00,  5.09777812e+00],\n",
              "       [-1.70542213e+00,  4.99354993e-01, -1.58631120e+00, ...,\n",
              "         2.94037146e+00,  1.51837475e+00, -1.96163893e-01],\n",
              "       [-1.69577366e+00,  9.99648624e-01, -1.58631120e+00, ...,\n",
              "         2.84453058e+00,  1.48050778e+00, -1.96163893e-01],\n",
              "       ...,\n",
              "       [ 1.19876862e+00, -9.38637205e-04,  1.06833203e+00, ...,\n",
              "         6.24216911e-01,  2.94009485e-01, -1.96163893e-01],\n",
              "       [ 1.20841709e+00,  4.99354993e-01,  1.06833203e+00, ...,\n",
              "        -2.86271427e-01,  7.86280055e-01, -1.96163893e-01],\n",
              "       [ 1.21806557e+00,  9.99648624e-01,  1.06833203e+00, ...,\n",
              "        -5.73794061e-01, -6.02175399e-01, -1.96163893e-01]])"
            ]
          },
          "metadata": {},
          "execution_count": 292
        }
      ],
      "source": [
        "from sklearn.preprocessing import StandardScaler\n",
        "newscaler = StandardScaler()\n",
        "X_scaled = newscaler.fit_transform(X) \n",
        "\n",
        "X_test_scaled = newscaler.fit_transform(X_test) \n",
        "X_scaled"
      ]
    },
    {
      "cell_type": "code",
      "execution_count": 293,
      "metadata": {},
      "outputs": [
        {
          "output_type": "execute_result",
          "data": {
            "text/plain": [
              "      Unnamed: 0        date  Total_Pedestrian_Count_per_day\n",
              "0              0  2015-01-01                          471563\n",
              "1              1  2015-01-02                          389048\n",
              "2              2  2015-01-03                          291761\n",
              "3              3  2015-01-04                          382364\n",
              "4              4  2015-01-05                          487220\n",
              "...          ...         ...                             ...\n",
              "2187        2187  2020-12-27                          385422\n",
              "2188        2188  2020-12-28                          473046\n",
              "2189        2189  2020-12-29                          497027\n",
              "2190        2190  2020-12-30                          467634\n",
              "2191        2191  2020-12-31                          472586\n",
              "\n",
              "[2192 rows x 3 columns]"
            ],
            "text/html": "<div>\n<style scoped>\n    .dataframe tbody tr th:only-of-type {\n        vertical-align: middle;\n    }\n\n    .dataframe tbody tr th {\n        vertical-align: top;\n    }\n\n    .dataframe thead th {\n        text-align: right;\n    }\n</style>\n<table border=\"1\" class=\"dataframe\">\n  <thead>\n    <tr style=\"text-align: right;\">\n      <th></th>\n      <th>Unnamed: 0</th>\n      <th>date</th>\n      <th>Total_Pedestrian_Count_per_day</th>\n    </tr>\n  </thead>\n  <tbody>\n    <tr>\n      <th>0</th>\n      <td>0</td>\n      <td>2015-01-01</td>\n      <td>471563</td>\n    </tr>\n    <tr>\n      <th>1</th>\n      <td>1</td>\n      <td>2015-01-02</td>\n      <td>389048</td>\n    </tr>\n    <tr>\n      <th>2</th>\n      <td>2</td>\n      <td>2015-01-03</td>\n      <td>291761</td>\n    </tr>\n    <tr>\n      <th>3</th>\n      <td>3</td>\n      <td>2015-01-04</td>\n      <td>382364</td>\n    </tr>\n    <tr>\n      <th>4</th>\n      <td>4</td>\n      <td>2015-01-05</td>\n      <td>487220</td>\n    </tr>\n    <tr>\n      <th>...</th>\n      <td>...</td>\n      <td>...</td>\n      <td>...</td>\n    </tr>\n    <tr>\n      <th>2187</th>\n      <td>2187</td>\n      <td>2020-12-27</td>\n      <td>385422</td>\n    </tr>\n    <tr>\n      <th>2188</th>\n      <td>2188</td>\n      <td>2020-12-28</td>\n      <td>473046</td>\n    </tr>\n    <tr>\n      <th>2189</th>\n      <td>2189</td>\n      <td>2020-12-29</td>\n      <td>497027</td>\n    </tr>\n    <tr>\n      <th>2190</th>\n      <td>2190</td>\n      <td>2020-12-30</td>\n      <td>467634</td>\n    </tr>\n    <tr>\n      <th>2191</th>\n      <td>2191</td>\n      <td>2020-12-31</td>\n      <td>472586</td>\n    </tr>\n  </tbody>\n</table>\n<p>2192 rows × 3 columns</p>\n</div>"
          },
          "metadata": {},
          "execution_count": 293
        }
      ],
      "source": [
        "new_results_df_per_day = pd.read_csv('new_results_df_per_day.csv') \n",
        "new_results_df_per_day"
      ]
    },
    {
      "cell_type": "code",
      "metadata": {
        "colab": {
          "base_uri": "https://localhost:8080/"
        },
        "id": "_V_Z-ynAgQNg",
        "outputId": "489c73cd-1038-4346-fb87-69e63db39dcd"
      },
      "source": [
        "realY = new_results_df_per_day['Total_Pedestrian_Count_per_day'].iloc[-61:]"
      ],
      "execution_count": 294,
      "outputs": []
    },
    {
      "source": [
        "## KNN"
      ],
      "cell_type": "markdown",
      "metadata": {}
    },
    {
      "cell_type": "code",
      "execution_count": 295,
      "metadata": {
        "tags": []
      },
      "outputs": [],
      "source": [
        "\n",
        "from sklearn.neighbors import KNeighborsRegressor\n",
        "from sklearn.metrics import mean_squared_error\n",
        "scores = []\n",
        "neighbor = []\n",
        "leaf_size = []\n",
        "metric = []\n",
        "weight = []\n",
        "algorithm = []\n",
        "\n",
        "n_neighbors = [2,3,4,5,6,7,8,9]\n",
        "leaf_sizes = [10,20,30,50,100,500]\n",
        "metrics = ['euclidean','chebyshev','manhattan']\n",
        "weights = ['uniform', 'distance']\n",
        "algorithms = ['auto', 'ball_tree', 'kd_tree', 'brute'] \n",
        "\n",
        "for i in n_neighbors:\n",
        "  for j in leaf_sizes:\n",
        "    for k in metrics:\n",
        "      for l in weights:\n",
        "        for m in algorithms:\n",
        "          knn = KNeighborsRegressor(n_neighbors = i, leaf_size = j, metric = k, weights = l, algorithm = m)\n",
        "          knn.fit(X_scaled, Y)\n",
        "          scores.append(mean_squared_error(realY, knn.predict(X_test_scaled)))\n",
        "          neighbor.append(i)\n",
        "          leaf_size.append(j)\n",
        "          metric.append(k)\n",
        "          weight.append(l)\n",
        "          algorithm.append(m)"
      ]
    },
    {
      "cell_type": "code",
      "execution_count": 296,
      "metadata": {},
      "outputs": [
        {
          "output_type": "execute_result",
          "data": {
            "text/plain": [
              "[5, 10, 'manhattan', 'distance', 'auto']"
            ]
          },
          "metadata": {},
          "execution_count": 296
        }
      ],
      "source": [
        "min(scores)\n",
        "import numpy as np\n",
        "index = np.argmin(scores)\n",
        "parameters = [neighbor[index], leaf_size[index], metric[index], weight[index], algorithm[index]]\n",
        "parameters"
      ]
    },
    {
      "cell_type": "code",
      "execution_count": 297,
      "metadata": {},
      "outputs": [
        {
          "output_type": "stream",
          "name": "stdout",
          "text": [
            "[[339667.         430822.87045853]\n [335642.         701328.41631029]\n [286980.         659428.48468386]\n [190675.         565303.42014492]\n [246692.         563756.15692398]\n [288551.         676222.76338981]\n [365548.         640424.08528472]\n [321671.         443315.3752287 ]\n [262820.         647487.23832508]\n [264765.         673417.84711322]\n [224537.         582110.54402032]\n [287179.         694161.96062306]\n [330106.         452372.83189557]\n [436497.         494165.78561324]\n [300190.         665872.74653388]\n [257361.         677607.69939399]\n [287853.         562944.04391726]\n [313407.         743778.03996761]\n [300283.         717942.46843305]\n [397150.         733874.73521816]\n [489118.         686553.35626305]\n [309849.         605434.10160078]\n [261242.         355365.90031607]\n [316024.         584858.42515655]\n [340384.         734070.33592039]\n [353597.         631775.9090146 ]\n [456912.         767508.00745439]\n [481376.         665544.29329597]\n [358501.         425683.35853445]\n [351099.         663318.70124748]\n [316908.         405917.62033095]\n [366340.         472854.62310275]\n [392107.         785700.64872566]\n [493588.         869816.77735162]\n [489269.         324188.30788037]\n [404066.         458715.11556011]\n [311007.         586440.20173568]\n [376385.         560164.8260242 ]\n [448039.         599392.07759817]\n [438663.         701842.39351123]\n [543000.         681368.56399942]\n [595152.         611197.21619886]\n [439515.         524346.85015441]\n [366040.         679458.09893497]\n [378222.         676926.00121655]\n [463787.         738936.29844824]\n [460825.         641474.71111466]\n [572248.         680342.82984865]\n [599961.         526798.98612894]\n [539991.         592344.8008704 ]\n [464319.         451365.53481264]\n [403194.         496906.18144301]\n [578815.         690763.69491923]\n [505150.         768771.64131279]\n [332150.         570109.05513347]\n [578967.         657124.1669111 ]\n [385422.         423315.01626728]\n [473046.         591091.24408399]\n [497027.         581970.952778  ]\n [467634.         593324.05621135]\n [472586.         567812.21713461]]\n"
          ]
        }
      ],
      "source": [
        "knn_min = KNeighborsRegressor(n_neighbors = 5, leaf_size = 10, metric = 'manhattan', weights = 'distance', algorithm = 'auto')\n",
        "knn_min.fit(X_scaled, Y)\n",
        "Y_pred_knn = knn_min.predict(X_test_scaled)\n",
        "print(\n",
        "    np.concatenate((\n",
        "        realY.values.reshape(len(realY),1), \n",
        "        Y_pred_knn.reshape(len(Y_pred_knn),1)\n",
        "),1))"
      ]
    },
    {
      "source": [
        "SVM"
      ],
      "cell_type": "markdown",
      "metadata": {}
    },
    {
      "cell_type": "code",
      "execution_count": 299,
      "metadata": {},
      "outputs": [
        {
          "output_type": "stream",
          "name": "stdout",
          "text": [
            "linear 0.1 0.1 0\n",
            "linear 0.1 0.1 1\n",
            "linear 0.1 0.1 2\n",
            "linear 0.1 0.1 3\n",
            "linear 0.1 0.1 4\n",
            "linear 0.1 0.1 5\n",
            "linear 0.1 0.1 6\n",
            "linear 0.1 1 0\n",
            "linear 0.1 1 1\n",
            "linear 0.1 1 2\n",
            "linear 0.1 1 3\n",
            "linear 0.1 1 4\n",
            "linear 0.1 1 5\n",
            "linear 0.1 1 6\n",
            "linear 0.1 10 0\n",
            "linear 0.1 10 1\n",
            "linear 0.1 10 2\n",
            "linear 0.1 10 3\n",
            "linear 0.1 10 4\n",
            "linear 0.1 10 5\n",
            "linear 0.1 10 6\n",
            "linear 0.1 100 0\n",
            "linear 0.1 100 1\n",
            "linear 0.1 100 2\n",
            "linear 0.1 100 3\n",
            "linear 0.1 100 4\n",
            "linear 0.1 100 5\n",
            "linear 0.1 100 6\n",
            "linear 1 0.1 0\n",
            "linear 1 0.1 1\n",
            "linear 1 0.1 2\n",
            "linear 1 0.1 3\n",
            "linear 1 0.1 4\n",
            "linear 1 0.1 5\n",
            "linear 1 0.1 6\n",
            "linear 1 1 0\n",
            "linear 1 1 1\n",
            "linear 1 1 2\n",
            "linear 1 1 3\n",
            "linear 1 1 4\n",
            "linear 1 1 5\n",
            "linear 1 1 6\n",
            "linear 1 10 0\n",
            "linear 1 10 1\n",
            "linear 1 10 2\n",
            "linear 1 10 3\n",
            "linear 1 10 4\n",
            "linear 1 10 5\n",
            "linear 1 10 6\n",
            "linear 1 100 0\n",
            "linear 1 100 1\n",
            "linear 1 100 2\n",
            "linear 1 100 3\n",
            "linear 1 100 4\n",
            "linear 1 100 5\n",
            "linear 1 100 6\n",
            "linear 10 0.1 0\n",
            "linear 10 0.1 1\n",
            "linear 10 0.1 2\n",
            "linear 10 0.1 3\n",
            "linear 10 0.1 4\n",
            "linear 10 0.1 5\n",
            "linear 10 0.1 6\n",
            "linear 10 1 0\n",
            "linear 10 1 1\n",
            "linear 10 1 2\n",
            "linear 10 1 3\n",
            "linear 10 1 4\n",
            "linear 10 1 5\n",
            "linear 10 1 6\n",
            "linear 10 10 0\n",
            "linear 10 10 1\n",
            "linear 10 10 2\n",
            "linear 10 10 3\n",
            "linear 10 10 4\n",
            "linear 10 10 5\n",
            "linear 10 10 6\n",
            "linear 10 100 0\n",
            "linear 10 100 1\n",
            "linear 10 100 2\n",
            "linear 10 100 3\n",
            "linear 10 100 4\n",
            "linear 10 100 5\n",
            "linear 10 100 6\n",
            "linear 100 0.1 0\n",
            "linear 100 0.1 1\n",
            "linear 100 0.1 2\n",
            "linear 100 0.1 3\n",
            "linear 100 0.1 4\n",
            "linear 100 0.1 5\n",
            "linear 100 0.1 6\n",
            "linear 100 1 0\n",
            "linear 100 1 1\n",
            "linear 100 1 2\n",
            "linear 100 1 3\n",
            "linear 100 1 4\n",
            "linear 100 1 5\n",
            "linear 100 1 6\n",
            "linear 100 10 0\n",
            "linear 100 10 1\n",
            "linear 100 10 2\n",
            "linear 100 10 3\n",
            "linear 100 10 4\n",
            "linear 100 10 5\n",
            "linear 100 10 6\n",
            "linear 100 100 0\n",
            "linear 100 100 1\n",
            "linear 100 100 2\n",
            "linear 100 100 3\n",
            "linear 100 100 4\n",
            "linear 100 100 5\n",
            "linear 100 100 6\n",
            "rbf 0.1 0.1 0\n",
            "rbf 0.1 0.1 1\n",
            "rbf 0.1 0.1 2\n",
            "rbf 0.1 0.1 3\n",
            "rbf 0.1 0.1 4\n",
            "rbf 0.1 0.1 5\n",
            "rbf 0.1 0.1 6\n",
            "rbf 0.1 1 0\n",
            "rbf 0.1 1 1\n",
            "rbf 0.1 1 2\n",
            "rbf 0.1 1 3\n",
            "rbf 0.1 1 4\n",
            "rbf 0.1 1 5\n",
            "rbf 0.1 1 6\n",
            "rbf 0.1 10 0\n",
            "rbf 0.1 10 1\n",
            "rbf 0.1 10 2\n",
            "rbf 0.1 10 3\n",
            "rbf 0.1 10 4\n",
            "rbf 0.1 10 5\n",
            "rbf 0.1 10 6\n",
            "rbf 0.1 100 0\n",
            "rbf 0.1 100 1\n",
            "rbf 0.1 100 2\n",
            "rbf 0.1 100 3\n",
            "rbf 0.1 100 4\n",
            "rbf 0.1 100 5\n",
            "rbf 0.1 100 6\n",
            "rbf 1 0.1 0\n",
            "rbf 1 0.1 1\n",
            "rbf 1 0.1 2\n",
            "rbf 1 0.1 3\n",
            "rbf 1 0.1 4\n",
            "rbf 1 0.1 5\n",
            "rbf 1 0.1 6\n",
            "rbf 1 1 0\n",
            "rbf 1 1 1\n",
            "rbf 1 1 2\n",
            "rbf 1 1 3\n",
            "rbf 1 1 4\n",
            "rbf 1 1 5\n",
            "rbf 1 1 6\n",
            "rbf 1 10 0\n",
            "rbf 1 10 1\n",
            "rbf 1 10 2\n",
            "rbf 1 10 3\n",
            "rbf 1 10 4\n",
            "rbf 1 10 5\n",
            "rbf 1 10 6\n",
            "rbf 1 100 0\n",
            "rbf 1 100 1\n",
            "rbf 1 100 2\n",
            "rbf 1 100 3\n",
            "rbf 1 100 4\n",
            "rbf 1 100 5\n",
            "rbf 1 100 6\n",
            "rbf 10 0.1 0\n",
            "rbf 10 0.1 1\n",
            "rbf 10 0.1 2\n",
            "rbf 10 0.1 3\n",
            "rbf 10 0.1 4\n",
            "rbf 10 0.1 5\n",
            "rbf 10 0.1 6\n",
            "rbf 10 1 0\n",
            "rbf 10 1 1\n",
            "rbf 10 1 2\n",
            "rbf 10 1 3\n",
            "rbf 10 1 4\n",
            "rbf 10 1 5\n",
            "rbf 10 1 6\n",
            "rbf 10 10 0\n",
            "rbf 10 10 1\n",
            "rbf 10 10 2\n",
            "rbf 10 10 3\n",
            "rbf 10 10 4\n",
            "rbf 10 10 5\n",
            "rbf 10 10 6\n",
            "rbf 10 100 0\n",
            "rbf 10 100 1\n",
            "rbf 10 100 2\n",
            "rbf 10 100 3\n",
            "rbf 10 100 4\n",
            "rbf 10 100 5\n",
            "rbf 10 100 6\n",
            "rbf 100 0.1 0\n",
            "rbf 100 0.1 1\n",
            "rbf 100 0.1 2\n",
            "rbf 100 0.1 3\n",
            "rbf 100 0.1 4\n",
            "rbf 100 0.1 5\n",
            "rbf 100 0.1 6\n",
            "rbf 100 1 0\n",
            "rbf 100 1 1\n",
            "rbf 100 1 2\n",
            "rbf 100 1 3\n",
            "rbf 100 1 4\n",
            "rbf 100 1 5\n",
            "rbf 100 1 6\n",
            "rbf 100 10 0\n",
            "rbf 100 10 1\n",
            "rbf 100 10 2\n",
            "rbf 100 10 3\n",
            "rbf 100 10 4\n",
            "rbf 100 10 5\n",
            "rbf 100 10 6\n",
            "rbf 100 100 0\n",
            "rbf 100 100 1\n",
            "rbf 100 100 2\n",
            "rbf 100 100 3\n",
            "rbf 100 100 4\n",
            "rbf 100 100 5\n",
            "rbf 100 100 6\n"
          ]
        }
      ],
      "source": [
        "from sklearn.svm import SVR\n",
        "scores = []\n",
        "kernel = []\n",
        "gamma = []\n",
        "C = []\n",
        "degree = []\n",
        "\n",
        "kernels = ['linear', 'rbf']\n",
        "gammas = [0.1, 1, 10, 100]\n",
        "Cs = [0.1, 1, 10, 100]\n",
        "degrees = [0, 1, 2, 3, 4, 5, 6]\n",
        "\n",
        "\n",
        "for i in kernels:\n",
        "  for j in gammas:\n",
        "    for k in Cs:\n",
        "        for l in degrees: \n",
        "          svm = SVR(kernel=i, gamma=j, C=k, degree=l)\n",
        "          svm.fit(X_scaled, Y)\n",
        "          scores.append(mean_squared_error(realY, svm.predict(X_test_scaled)))\n",
        "          kernel.append(i)\n",
        "          gamma.append(j)\n",
        "          C.append(k)\n",
        "          degree.append(l)\n"
      ]
    },
    {
      "cell_type": "code",
      "execution_count": 300,
      "metadata": {},
      "outputs": [
        {
          "output_type": "execute_result",
          "data": {
            "text/plain": [
              "[2, 10, 'manhattan', 'distance', 'ball_tree']"
            ]
          },
          "metadata": {},
          "execution_count": 300
        }
      ],
      "source": [
        "index = np.argmin(scores)\n",
        "parameters = [neighbor[index], leaf_size[index], metric[index], weight[index], algorithm[index]]\n",
        "parameters"
      ]
    },
    {
      "cell_type": "code",
      "execution_count": 303,
      "metadata": {},
      "outputs": [
        {
          "output_type": "stream",
          "name": "stdout",
          "text": [
            "[[339667.         626987.99020724]\n [335642.         626987.99020724]\n [286980.         626987.99020724]\n [190675.         626987.99020724]\n [246692.         626987.99020724]\n [288551.         626987.99020724]\n [365548.         626987.99020724]\n [321671.         626987.99020724]\n [262820.         626987.99022613]\n [264765.         626987.99020652]\n [224537.         626987.99020724]\n [287179.         626987.99020724]\n [330106.         626987.99020724]\n [436497.         626987.99020724]\n [300190.         626987.99020724]\n [257361.         626987.99020724]\n [287853.         626987.99020724]\n [313407.         626987.99020724]\n [300283.         626987.9902071 ]\n [397150.         626987.99020724]\n [489118.         626987.99020964]\n [309849.         626987.99020724]\n [261242.         626987.99020724]\n [316024.         626987.99020724]\n [340384.         626987.99020724]\n [353597.         626987.99020724]\n [456912.         626987.99020724]\n [481376.         626987.99020724]\n [358501.         626987.99020724]\n [351099.         626987.99020724]\n [316908.         626987.99020724]\n [366340.         626987.99020724]\n [392107.         626987.99020724]\n [493588.         626987.99020724]\n [489269.         626987.99020724]\n [404066.         626987.99020724]\n [311007.         626987.99020724]\n [376385.         626987.99020724]\n [448039.         626987.99020724]\n [438663.         626987.99020724]\n [543000.         626987.99020724]\n [595152.         626987.99020724]\n [439515.         626987.99020724]\n [366040.         626987.99020724]\n [378222.         626987.99020724]\n [463787.         626987.99020724]\n [460825.         626987.99020724]\n [572248.         626987.99020724]\n [599961.         626987.99020724]\n [539991.         626987.99020724]\n [464319.         626987.99020724]\n [403194.         626987.99020724]\n [578815.         626987.99020724]\n [505150.         626987.99020724]\n [332150.         626987.99020724]\n [578967.         626987.99020724]\n [385422.         626987.99020724]\n [473046.         626987.99020724]\n [497027.         626987.99020724]\n [467634.         626987.99020724]\n [472586.         626987.99020724]]\n"
          ]
        }
      ],
      "source": [
        "svm_min = SVR(kernel=i, gamma=j, C=k, degree=l)\n",
        "svm_min.fit(X_scaled, Y)\n",
        "Y_pred_svm = svm_min.predict(X_test_scaled)\n",
        "print(\n",
        "    np.concatenate((\n",
        "        realY.values.reshape(len(realY),1), \n",
        "        Y_pred_svm.reshape(len(Y_pred_svm),1)\n",
        "),1))"
      ]
    },
    {
      "cell_type": "code",
      "execution_count": 304,
      "metadata": {},
      "outputs": [
        {
          "output_type": "stream",
          "name": "stdout",
          "text": [
            "+-----------+-------+\n| Algorithm |   r2  |\n+-----------+-------+\n| KNN       | -5.50 |\n| SVM       | -5.46 |\n+-----------+-------+\n"
          ]
        }
      ],
      "source": [
        "from prettytable import PrettyTable\n",
        "from sklearn.metrics import r2_score\n",
        "rt = PrettyTable([\"Algorithm\", \"r2\"])\n",
        "rt.align[\"Algorithm\"] = \"l\" # Left align city names\n",
        "rt.padding_width = 1 # One space between column edges and contents (default)\n",
        "rt.add_row([\"KNN\",\n",
        "            '{:.2f}'.format(r2_score(realY, Y_pred_knn))])\n",
        "rt.add_row([\"SVM\",\n",
        "            '{:.2f}'.format(r2_score(realY, Y_pred_svm))])\n",
        "realY\n",
        "realY\n",
        "print(rt)"
      ]
    },
    {
      "cell_type": "code",
      "execution_count": 308,
      "metadata": {},
      "outputs": [],
      "source": [
        "#save the best model\n",
        "import pickle\n",
        "pickle.dump(svm_min, open('Model/pedestriant_ml_prediction_model', 'wb'))"
      ]
    },
    {
      "cell_type": "code",
      "execution_count": null,
      "metadata": {},
      "outputs": [],
      "source": []
    }
  ]
}