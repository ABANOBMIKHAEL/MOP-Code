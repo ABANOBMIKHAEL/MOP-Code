{
  "nbformat": 4,
  "nbformat_minor": 0,
  "metadata": {
    "colab": {
      "name": "Pedestrian_Count_dataset.ipynb",
      "provenance": [],
      "collapsed_sections": []
    },
    "kernelspec": {
      "display_name": "Python 3",
      "name": "python3",
      "language": "python"
    }
  },
  "cells": [
    {
      "cell_type": "code",
      "metadata": {
        "colab": {
          "base_uri": "https://localhost:8080/"
        },
        "id": "uhXyz3430Vc9",
        "outputId": "b4d07143-24f0-4a48-cbe2-e3f366da6153"
      },
      "source": [
        "#!/usr/bin/env python\n",
        "\n",
        "# make sure to install these packages before running:\n",
        "!pip install sodapy"
      ],
      "execution_count": 1,
      "outputs": [
        {
          "output_type": "stream",
          "text": [
            "Collecting sodapy\n",
            "  Downloading https://files.pythonhosted.org/packages/9e/74/95fb7d45bbe7f1de43caac45d7dd4807ef1e15881564a00eef489a3bb5c6/sodapy-2.1.0-py2.py3-none-any.whl\n",
            "Requirement already satisfied: requests>=2.20.0 in /usr/local/lib/python3.6/dist-packages (from sodapy) (2.23.0)\n",
            "Requirement already satisfied: chardet<4,>=3.0.2 in /usr/local/lib/python3.6/dist-packages (from requests>=2.20.0->sodapy) (3.0.4)\n",
            "Requirement already satisfied: idna<3,>=2.5 in /usr/local/lib/python3.6/dist-packages (from requests>=2.20.0->sodapy) (2.10)\n",
            "Requirement already satisfied: urllib3!=1.25.0,!=1.25.1,<1.26,>=1.21.1 in /usr/local/lib/python3.6/dist-packages (from requests>=2.20.0->sodapy) (1.24.3)\n",
            "Requirement already satisfied: certifi>=2017.4.17 in /usr/local/lib/python3.6/dist-packages (from requests>=2.20.0->sodapy) (2020.12.5)\n",
            "Installing collected packages: sodapy\n",
            "Successfully installed sodapy-2.1.0\n"
          ],
          "name": "stdout"
        }
      ]
    },
    {
      "cell_type": "code",
      "metadata": {
        "id": "SAo2mDNQ1B3W"
      },
      "source": [
        "#import the libraries \n",
        "import numpy as np\n",
        "import pandas as pd\n",
        "from pandas import DataFrame as df, Series as se\n",
        "#import the library for the API\n",
        "from sodapy import Socrata\n",
        "\n",
        "#Ignore warnings\n",
        "import warnings\n",
        "warnings.filterwarnings('ignore')"
      ],
      "execution_count": 2,
      "outputs": []
    },
    {
      "cell_type": "code",
      "metadata": {
        "colab": {
          "base_uri": "https://localhost:8080/"
        },
        "id": "8A-hsZ850zRO",
        "outputId": "8b1858fa-1fc2-4bf4-cc47-0f5b435af4f1"
      },
      "source": [
        "# Unauthenticated client only works with public data sets. Note 'None'\n",
        "# in place of application token, and no username or password:\n",
        "client = Socrata(\"data.melbourne.vic.gov.au\", None)\n",
        "\n",
        "\n",
        "#getting the pedestrian count data from city of melbourne website from 2009-05-01 to \n",
        "#2020-10-31\n",
        "results = client.get(\"b2ak-trbp\", limit=3391522)\n",
        "\n",
        "# Convert to pandas DataFrame\n",
        "results_df = pd.DataFrame.from_records(results)\n"
      ],
      "execution_count": 3,
      "outputs": [
        {
          "output_type": "stream",
          "text": [
            "WARNING:root:Requests made without an app_token will be subject to strict throttling limits.\n"
          ],
          "name": "stderr"
        }
      ]
    },
    {
      "cell_type": "code",
      "metadata": {
        "colab": {
          "base_uri": "https://localhost:8080/",
          "height": 407
        },
        "id": "uDKAuzNB1HII",
        "outputId": "28349673-15cb-408e-9fe7-4266d43cee74"
      },
      "source": [
        "results_df"
      ],
      "execution_count": 4,
      "outputs": [
        {
          "output_type": "execute_result",
          "data": {
            "text/html": [
              "<div>\n",
              "<style scoped>\n",
              "    .dataframe tbody tr th:only-of-type {\n",
              "        vertical-align: middle;\n",
              "    }\n",
              "\n",
              "    .dataframe tbody tr th {\n",
              "        vertical-align: top;\n",
              "    }\n",
              "\n",
              "    .dataframe thead th {\n",
              "        text-align: right;\n",
              "    }\n",
              "</style>\n",
              "<table border=\"1\" class=\"dataframe\">\n",
              "  <thead>\n",
              "    <tr style=\"text-align: right;\">\n",
              "      <th></th>\n",
              "      <th>id</th>\n",
              "      <th>date_time</th>\n",
              "      <th>year</th>\n",
              "      <th>month</th>\n",
              "      <th>mdate</th>\n",
              "      <th>day</th>\n",
              "      <th>time</th>\n",
              "      <th>sensor_id</th>\n",
              "      <th>sensor_name</th>\n",
              "      <th>hourly_counts</th>\n",
              "    </tr>\n",
              "  </thead>\n",
              "  <tbody>\n",
              "    <tr>\n",
              "      <th>0</th>\n",
              "      <td>2887628</td>\n",
              "      <td>2019-11-01T17:00:00.000</td>\n",
              "      <td>2019</td>\n",
              "      <td>November</td>\n",
              "      <td>1</td>\n",
              "      <td>Friday</td>\n",
              "      <td>17</td>\n",
              "      <td>34</td>\n",
              "      <td>Flinders St-Spark La</td>\n",
              "      <td>300</td>\n",
              "    </tr>\n",
              "    <tr>\n",
              "      <th>1</th>\n",
              "      <td>2887629</td>\n",
              "      <td>2019-11-01T17:00:00.000</td>\n",
              "      <td>2019</td>\n",
              "      <td>November</td>\n",
              "      <td>1</td>\n",
              "      <td>Friday</td>\n",
              "      <td>17</td>\n",
              "      <td>39</td>\n",
              "      <td>Alfred Place</td>\n",
              "      <td>604</td>\n",
              "    </tr>\n",
              "    <tr>\n",
              "      <th>2</th>\n",
              "      <td>2887630</td>\n",
              "      <td>2019-11-01T17:00:00.000</td>\n",
              "      <td>2019</td>\n",
              "      <td>November</td>\n",
              "      <td>1</td>\n",
              "      <td>Friday</td>\n",
              "      <td>17</td>\n",
              "      <td>37</td>\n",
              "      <td>Lygon St (East)</td>\n",
              "      <td>216</td>\n",
              "    </tr>\n",
              "    <tr>\n",
              "      <th>3</th>\n",
              "      <td>2887631</td>\n",
              "      <td>2019-11-01T17:00:00.000</td>\n",
              "      <td>2019</td>\n",
              "      <td>November</td>\n",
              "      <td>1</td>\n",
              "      <td>Friday</td>\n",
              "      <td>17</td>\n",
              "      <td>40</td>\n",
              "      <td>Lonsdale St-Spring St (West)</td>\n",
              "      <td>627</td>\n",
              "    </tr>\n",
              "    <tr>\n",
              "      <th>4</th>\n",
              "      <td>2887632</td>\n",
              "      <td>2019-11-01T17:00:00.000</td>\n",
              "      <td>2019</td>\n",
              "      <td>November</td>\n",
              "      <td>1</td>\n",
              "      <td>Friday</td>\n",
              "      <td>17</td>\n",
              "      <td>36</td>\n",
              "      <td>Queen St (West)</td>\n",
              "      <td>774</td>\n",
              "    </tr>\n",
              "    <tr>\n",
              "      <th>...</th>\n",
              "      <td>...</td>\n",
              "      <td>...</td>\n",
              "      <td>...</td>\n",
              "      <td>...</td>\n",
              "      <td>...</td>\n",
              "      <td>...</td>\n",
              "      <td>...</td>\n",
              "      <td>...</td>\n",
              "      <td>...</td>\n",
              "      <td>...</td>\n",
              "    </tr>\n",
              "    <tr>\n",
              "      <th>3391517</th>\n",
              "      <td>3391518</td>\n",
              "      <td>2020-10-31T23:00:00.000</td>\n",
              "      <td>2020</td>\n",
              "      <td>October</td>\n",
              "      <td>31</td>\n",
              "      <td>Saturday</td>\n",
              "      <td>23</td>\n",
              "      <td>67</td>\n",
              "      <td>Flinders Ln -Degraves St (South)</td>\n",
              "      <td>0</td>\n",
              "    </tr>\n",
              "    <tr>\n",
              "      <th>3391518</th>\n",
              "      <td>3391519</td>\n",
              "      <td>2020-10-31T23:00:00.000</td>\n",
              "      <td>2020</td>\n",
              "      <td>October</td>\n",
              "      <td>31</td>\n",
              "      <td>Saturday</td>\n",
              "      <td>23</td>\n",
              "      <td>68</td>\n",
              "      <td>Flinders Ln -Degraves St (North)</td>\n",
              "      <td>0</td>\n",
              "    </tr>\n",
              "    <tr>\n",
              "      <th>3391519</th>\n",
              "      <td>3391520</td>\n",
              "      <td>2020-10-31T23:00:00.000</td>\n",
              "      <td>2020</td>\n",
              "      <td>October</td>\n",
              "      <td>31</td>\n",
              "      <td>Saturday</td>\n",
              "      <td>23</td>\n",
              "      <td>69</td>\n",
              "      <td>Flinders Ln -Degraves St (Crossing)</td>\n",
              "      <td>0</td>\n",
              "    </tr>\n",
              "    <tr>\n",
              "      <th>3391520</th>\n",
              "      <td>3391521</td>\n",
              "      <td>2020-10-31T23:00:00.000</td>\n",
              "      <td>2020</td>\n",
              "      <td>October</td>\n",
              "      <td>31</td>\n",
              "      <td>Saturday</td>\n",
              "      <td>23</td>\n",
              "      <td>70</td>\n",
              "      <td>Errol Street (East)</td>\n",
              "      <td>0</td>\n",
              "    </tr>\n",
              "    <tr>\n",
              "      <th>3391521</th>\n",
              "      <td>3391522</td>\n",
              "      <td>2020-10-31T23:00:00.000</td>\n",
              "      <td>2020</td>\n",
              "      <td>October</td>\n",
              "      <td>31</td>\n",
              "      <td>Saturday</td>\n",
              "      <td>23</td>\n",
              "      <td>71</td>\n",
              "      <td>Westwood Place</td>\n",
              "      <td>16</td>\n",
              "    </tr>\n",
              "  </tbody>\n",
              "</table>\n",
              "<p>3391522 rows × 10 columns</p>\n",
              "</div>"
            ],
            "text/plain": [
              "              id  ... hourly_counts\n",
              "0        2887628  ...           300\n",
              "1        2887629  ...           604\n",
              "2        2887630  ...           216\n",
              "3        2887631  ...           627\n",
              "4        2887632  ...           774\n",
              "...          ...  ...           ...\n",
              "3391517  3391518  ...             0\n",
              "3391518  3391519  ...             0\n",
              "3391519  3391520  ...             0\n",
              "3391520  3391521  ...             0\n",
              "3391521  3391522  ...            16\n",
              "\n",
              "[3391522 rows x 10 columns]"
            ]
          },
          "metadata": {
            "tags": []
          },
          "execution_count": 4
        }
      ]
    },
    {
      "cell_type": "code",
      "metadata": {
        "colab": {
          "base_uri": "https://localhost:8080/"
        },
        "id": "sg-J7ylnQmq8",
        "outputId": "a3ab03a2-a22e-46d9-94d6-611845df8087"
      },
      "source": [
        "#Examining the data types of the features of the dataset  \n",
        "results_df.dtypes"
      ],
      "execution_count": 5,
      "outputs": [
        {
          "output_type": "execute_result",
          "data": {
            "text/plain": [
              "id               object\n",
              "date_time        object\n",
              "year             object\n",
              "month            object\n",
              "mdate            object\n",
              "day              object\n",
              "time             object\n",
              "sensor_id        object\n",
              "sensor_name      object\n",
              "hourly_counts    object\n",
              "dtype: object"
            ]
          },
          "metadata": {
            "tags": []
          },
          "execution_count": 5
        }
      ]
    },
    {
      "cell_type": "code",
      "metadata": {
        "id": "aCqhJ_1-utJd"
      },
      "source": [
        "results_df['date'] = results_df['mdate'] + '-' + results_df['month'] + '-' + results_df['year']\n",
        "results_df.drop(columns=['id',\t'date_time','year',\t'month',\t'mdate',\t'day',\t'time' ], inplace = True)"
      ],
      "execution_count": 6,
      "outputs": []
    },
    {
      "cell_type": "code",
      "metadata": {
        "colab": {
          "base_uri": "https://localhost:8080/",
          "height": 407
        },
        "id": "qM2L2SbQh2TQ",
        "outputId": "4de58ba9-7478-40ed-d580-07814c2b28e9"
      },
      "source": [
        "#converting 'sensor_id' and 'hourly_counts' features from object datatypes to int\n",
        "results_df[['sensor_id','hourly_counts']] = results_df[['sensor_id','hourly_counts']].astype('int')\n",
        "results_df"
      ],
      "execution_count": 7,
      "outputs": [
        {
          "output_type": "execute_result",
          "data": {
            "text/html": [
              "<div>\n",
              "<style scoped>\n",
              "    .dataframe tbody tr th:only-of-type {\n",
              "        vertical-align: middle;\n",
              "    }\n",
              "\n",
              "    .dataframe tbody tr th {\n",
              "        vertical-align: top;\n",
              "    }\n",
              "\n",
              "    .dataframe thead th {\n",
              "        text-align: right;\n",
              "    }\n",
              "</style>\n",
              "<table border=\"1\" class=\"dataframe\">\n",
              "  <thead>\n",
              "    <tr style=\"text-align: right;\">\n",
              "      <th></th>\n",
              "      <th>sensor_id</th>\n",
              "      <th>sensor_name</th>\n",
              "      <th>hourly_counts</th>\n",
              "      <th>date</th>\n",
              "    </tr>\n",
              "  </thead>\n",
              "  <tbody>\n",
              "    <tr>\n",
              "      <th>0</th>\n",
              "      <td>34</td>\n",
              "      <td>Flinders St-Spark La</td>\n",
              "      <td>300</td>\n",
              "      <td>1-November-2019</td>\n",
              "    </tr>\n",
              "    <tr>\n",
              "      <th>1</th>\n",
              "      <td>39</td>\n",
              "      <td>Alfred Place</td>\n",
              "      <td>604</td>\n",
              "      <td>1-November-2019</td>\n",
              "    </tr>\n",
              "    <tr>\n",
              "      <th>2</th>\n",
              "      <td>37</td>\n",
              "      <td>Lygon St (East)</td>\n",
              "      <td>216</td>\n",
              "      <td>1-November-2019</td>\n",
              "    </tr>\n",
              "    <tr>\n",
              "      <th>3</th>\n",
              "      <td>40</td>\n",
              "      <td>Lonsdale St-Spring St (West)</td>\n",
              "      <td>627</td>\n",
              "      <td>1-November-2019</td>\n",
              "    </tr>\n",
              "    <tr>\n",
              "      <th>4</th>\n",
              "      <td>36</td>\n",
              "      <td>Queen St (West)</td>\n",
              "      <td>774</td>\n",
              "      <td>1-November-2019</td>\n",
              "    </tr>\n",
              "    <tr>\n",
              "      <th>...</th>\n",
              "      <td>...</td>\n",
              "      <td>...</td>\n",
              "      <td>...</td>\n",
              "      <td>...</td>\n",
              "    </tr>\n",
              "    <tr>\n",
              "      <th>3391517</th>\n",
              "      <td>67</td>\n",
              "      <td>Flinders Ln -Degraves St (South)</td>\n",
              "      <td>0</td>\n",
              "      <td>31-October-2020</td>\n",
              "    </tr>\n",
              "    <tr>\n",
              "      <th>3391518</th>\n",
              "      <td>68</td>\n",
              "      <td>Flinders Ln -Degraves St (North)</td>\n",
              "      <td>0</td>\n",
              "      <td>31-October-2020</td>\n",
              "    </tr>\n",
              "    <tr>\n",
              "      <th>3391519</th>\n",
              "      <td>69</td>\n",
              "      <td>Flinders Ln -Degraves St (Crossing)</td>\n",
              "      <td>0</td>\n",
              "      <td>31-October-2020</td>\n",
              "    </tr>\n",
              "    <tr>\n",
              "      <th>3391520</th>\n",
              "      <td>70</td>\n",
              "      <td>Errol Street (East)</td>\n",
              "      <td>0</td>\n",
              "      <td>31-October-2020</td>\n",
              "    </tr>\n",
              "    <tr>\n",
              "      <th>3391521</th>\n",
              "      <td>71</td>\n",
              "      <td>Westwood Place</td>\n",
              "      <td>16</td>\n",
              "      <td>31-October-2020</td>\n",
              "    </tr>\n",
              "  </tbody>\n",
              "</table>\n",
              "<p>3391522 rows × 4 columns</p>\n",
              "</div>"
            ],
            "text/plain": [
              "         sensor_id  ...             date\n",
              "0               34  ...  1-November-2019\n",
              "1               39  ...  1-November-2019\n",
              "2               37  ...  1-November-2019\n",
              "3               40  ...  1-November-2019\n",
              "4               36  ...  1-November-2019\n",
              "...            ...  ...              ...\n",
              "3391517         67  ...  31-October-2020\n",
              "3391518         68  ...  31-October-2020\n",
              "3391519         69  ...  31-October-2020\n",
              "3391520         70  ...  31-October-2020\n",
              "3391521         71  ...  31-October-2020\n",
              "\n",
              "[3391522 rows x 4 columns]"
            ]
          },
          "metadata": {
            "tags": []
          },
          "execution_count": 7
        }
      ]
    },
    {
      "cell_type": "code",
      "metadata": {
        "colab": {
          "base_uri": "https://localhost:8080/"
        },
        "id": "_V_Z-ynAgQNg",
        "outputId": "8034853d-48b1-44cf-8e7f-819d8a330fab"
      },
      "source": [
        "#Examining the features after data type conversion\n",
        "results_df.dtypes"
      ],
      "execution_count": 8,
      "outputs": [
        {
          "output_type": "execute_result",
          "data": {
            "text/plain": [
              "sensor_id         int64\n",
              "sensor_name      object\n",
              "hourly_counts     int64\n",
              "date             object\n",
              "dtype: object"
            ]
          },
          "metadata": {
            "tags": []
          },
          "execution_count": 8
        }
      ]
    },
    {
      "cell_type": "code",
      "metadata": {
        "colab": {
          "base_uri": "https://localhost:8080/",
          "height": 407
        },
        "id": "mRhb5BWHkxzi",
        "outputId": "6c4d1729-6f95-4767-a46e-4aa7685a142e"
      },
      "source": [
        "#converting date_time feature from object datatypes to date\n",
        "results_df['date'] = results_df['date'].astype('datetime64[ns]')\n",
        "results_df"
      ],
      "execution_count": 9,
      "outputs": [
        {
          "output_type": "execute_result",
          "data": {
            "text/html": [
              "<div>\n",
              "<style scoped>\n",
              "    .dataframe tbody tr th:only-of-type {\n",
              "        vertical-align: middle;\n",
              "    }\n",
              "\n",
              "    .dataframe tbody tr th {\n",
              "        vertical-align: top;\n",
              "    }\n",
              "\n",
              "    .dataframe thead th {\n",
              "        text-align: right;\n",
              "    }\n",
              "</style>\n",
              "<table border=\"1\" class=\"dataframe\">\n",
              "  <thead>\n",
              "    <tr style=\"text-align: right;\">\n",
              "      <th></th>\n",
              "      <th>sensor_id</th>\n",
              "      <th>sensor_name</th>\n",
              "      <th>hourly_counts</th>\n",
              "      <th>date</th>\n",
              "    </tr>\n",
              "  </thead>\n",
              "  <tbody>\n",
              "    <tr>\n",
              "      <th>0</th>\n",
              "      <td>34</td>\n",
              "      <td>Flinders St-Spark La</td>\n",
              "      <td>300</td>\n",
              "      <td>2019-11-01</td>\n",
              "    </tr>\n",
              "    <tr>\n",
              "      <th>1</th>\n",
              "      <td>39</td>\n",
              "      <td>Alfred Place</td>\n",
              "      <td>604</td>\n",
              "      <td>2019-11-01</td>\n",
              "    </tr>\n",
              "    <tr>\n",
              "      <th>2</th>\n",
              "      <td>37</td>\n",
              "      <td>Lygon St (East)</td>\n",
              "      <td>216</td>\n",
              "      <td>2019-11-01</td>\n",
              "    </tr>\n",
              "    <tr>\n",
              "      <th>3</th>\n",
              "      <td>40</td>\n",
              "      <td>Lonsdale St-Spring St (West)</td>\n",
              "      <td>627</td>\n",
              "      <td>2019-11-01</td>\n",
              "    </tr>\n",
              "    <tr>\n",
              "      <th>4</th>\n",
              "      <td>36</td>\n",
              "      <td>Queen St (West)</td>\n",
              "      <td>774</td>\n",
              "      <td>2019-11-01</td>\n",
              "    </tr>\n",
              "    <tr>\n",
              "      <th>...</th>\n",
              "      <td>...</td>\n",
              "      <td>...</td>\n",
              "      <td>...</td>\n",
              "      <td>...</td>\n",
              "    </tr>\n",
              "    <tr>\n",
              "      <th>3391517</th>\n",
              "      <td>67</td>\n",
              "      <td>Flinders Ln -Degraves St (South)</td>\n",
              "      <td>0</td>\n",
              "      <td>2020-10-31</td>\n",
              "    </tr>\n",
              "    <tr>\n",
              "      <th>3391518</th>\n",
              "      <td>68</td>\n",
              "      <td>Flinders Ln -Degraves St (North)</td>\n",
              "      <td>0</td>\n",
              "      <td>2020-10-31</td>\n",
              "    </tr>\n",
              "    <tr>\n",
              "      <th>3391519</th>\n",
              "      <td>69</td>\n",
              "      <td>Flinders Ln -Degraves St (Crossing)</td>\n",
              "      <td>0</td>\n",
              "      <td>2020-10-31</td>\n",
              "    </tr>\n",
              "    <tr>\n",
              "      <th>3391520</th>\n",
              "      <td>70</td>\n",
              "      <td>Errol Street (East)</td>\n",
              "      <td>0</td>\n",
              "      <td>2020-10-31</td>\n",
              "    </tr>\n",
              "    <tr>\n",
              "      <th>3391521</th>\n",
              "      <td>71</td>\n",
              "      <td>Westwood Place</td>\n",
              "      <td>16</td>\n",
              "      <td>2020-10-31</td>\n",
              "    </tr>\n",
              "  </tbody>\n",
              "</table>\n",
              "<p>3391522 rows × 4 columns</p>\n",
              "</div>"
            ],
            "text/plain": [
              "         sensor_id  ...       date\n",
              "0               34  ... 2019-11-01\n",
              "1               39  ... 2019-11-01\n",
              "2               37  ... 2019-11-01\n",
              "3               40  ... 2019-11-01\n",
              "4               36  ... 2019-11-01\n",
              "...            ...  ...        ...\n",
              "3391517         67  ... 2020-10-31\n",
              "3391518         68  ... 2020-10-31\n",
              "3391519         69  ... 2020-10-31\n",
              "3391520         70  ... 2020-10-31\n",
              "3391521         71  ... 2020-10-31\n",
              "\n",
              "[3391522 rows x 4 columns]"
            ]
          },
          "metadata": {
            "tags": []
          },
          "execution_count": 9
        }
      ]
    },
    {
      "cell_type": "code",
      "metadata": {
        "colab": {
          "base_uri": "https://localhost:8080/"
        },
        "id": "C1bMu0NImwDG",
        "outputId": "c276f5ab-2d1f-4045-f025-16544c4fd7d4"
      },
      "source": [
        "#Examining the features after data type conversion\n",
        "results_df.dtypes"
      ],
      "execution_count": 10,
      "outputs": [
        {
          "output_type": "execute_result",
          "data": {
            "text/plain": [
              "sensor_id                 int64\n",
              "sensor_name              object\n",
              "hourly_counts             int64\n",
              "date             datetime64[ns]\n",
              "dtype: object"
            ]
          },
          "metadata": {
            "tags": []
          },
          "execution_count": 10
        }
      ]
    },
    {
      "cell_type": "code",
      "metadata": {
        "id": "CrR-Tfy2YbV1"
      },
      "source": [
        "#extracting data from 2015 till date\n",
        "results_df = results_df[results_df['date'] > '2014-12-31']"
      ],
      "execution_count": 11,
      "outputs": []
    },
    {
      "cell_type": "code",
      "metadata": {
        "colab": {
          "base_uri": "https://localhost:8080/",
          "height": 407
        },
        "id": "4rU9RP-sw4jL",
        "outputId": "5e75be4c-73a0-450a-cc2f-db924c1c41af"
      },
      "source": [
        "results_df"
      ],
      "execution_count": 12,
      "outputs": [
        {
          "output_type": "execute_result",
          "data": {
            "text/html": [
              "<div>\n",
              "<style scoped>\n",
              "    .dataframe tbody tr th:only-of-type {\n",
              "        vertical-align: middle;\n",
              "    }\n",
              "\n",
              "    .dataframe tbody tr th {\n",
              "        vertical-align: top;\n",
              "    }\n",
              "\n",
              "    .dataframe thead th {\n",
              "        text-align: right;\n",
              "    }\n",
              "</style>\n",
              "<table border=\"1\" class=\"dataframe\">\n",
              "  <thead>\n",
              "    <tr style=\"text-align: right;\">\n",
              "      <th></th>\n",
              "      <th>sensor_id</th>\n",
              "      <th>sensor_name</th>\n",
              "      <th>hourly_counts</th>\n",
              "      <th>date</th>\n",
              "    </tr>\n",
              "  </thead>\n",
              "  <tbody>\n",
              "    <tr>\n",
              "      <th>0</th>\n",
              "      <td>34</td>\n",
              "      <td>Flinders St-Spark La</td>\n",
              "      <td>300</td>\n",
              "      <td>2019-11-01</td>\n",
              "    </tr>\n",
              "    <tr>\n",
              "      <th>1</th>\n",
              "      <td>39</td>\n",
              "      <td>Alfred Place</td>\n",
              "      <td>604</td>\n",
              "      <td>2019-11-01</td>\n",
              "    </tr>\n",
              "    <tr>\n",
              "      <th>2</th>\n",
              "      <td>37</td>\n",
              "      <td>Lygon St (East)</td>\n",
              "      <td>216</td>\n",
              "      <td>2019-11-01</td>\n",
              "    </tr>\n",
              "    <tr>\n",
              "      <th>3</th>\n",
              "      <td>40</td>\n",
              "      <td>Lonsdale St-Spring St (West)</td>\n",
              "      <td>627</td>\n",
              "      <td>2019-11-01</td>\n",
              "    </tr>\n",
              "    <tr>\n",
              "      <th>4</th>\n",
              "      <td>36</td>\n",
              "      <td>Queen St (West)</td>\n",
              "      <td>774</td>\n",
              "      <td>2019-11-01</td>\n",
              "    </tr>\n",
              "    <tr>\n",
              "      <th>...</th>\n",
              "      <td>...</td>\n",
              "      <td>...</td>\n",
              "      <td>...</td>\n",
              "      <td>...</td>\n",
              "    </tr>\n",
              "    <tr>\n",
              "      <th>3391517</th>\n",
              "      <td>67</td>\n",
              "      <td>Flinders Ln -Degraves St (South)</td>\n",
              "      <td>0</td>\n",
              "      <td>2020-10-31</td>\n",
              "    </tr>\n",
              "    <tr>\n",
              "      <th>3391518</th>\n",
              "      <td>68</td>\n",
              "      <td>Flinders Ln -Degraves St (North)</td>\n",
              "      <td>0</td>\n",
              "      <td>2020-10-31</td>\n",
              "    </tr>\n",
              "    <tr>\n",
              "      <th>3391519</th>\n",
              "      <td>69</td>\n",
              "      <td>Flinders Ln -Degraves St (Crossing)</td>\n",
              "      <td>0</td>\n",
              "      <td>2020-10-31</td>\n",
              "    </tr>\n",
              "    <tr>\n",
              "      <th>3391520</th>\n",
              "      <td>70</td>\n",
              "      <td>Errol Street (East)</td>\n",
              "      <td>0</td>\n",
              "      <td>2020-10-31</td>\n",
              "    </tr>\n",
              "    <tr>\n",
              "      <th>3391521</th>\n",
              "      <td>71</td>\n",
              "      <td>Westwood Place</td>\n",
              "      <td>16</td>\n",
              "      <td>2020-10-31</td>\n",
              "    </tr>\n",
              "  </tbody>\n",
              "</table>\n",
              "<p>2367574 rows × 4 columns</p>\n",
              "</div>"
            ],
            "text/plain": [
              "         sensor_id  ...       date\n",
              "0               34  ... 2019-11-01\n",
              "1               39  ... 2019-11-01\n",
              "2               37  ... 2019-11-01\n",
              "3               40  ... 2019-11-01\n",
              "4               36  ... 2019-11-01\n",
              "...            ...  ...        ...\n",
              "3391517         67  ... 2020-10-31\n",
              "3391518         68  ... 2020-10-31\n",
              "3391519         69  ... 2020-10-31\n",
              "3391520         70  ... 2020-10-31\n",
              "3391521         71  ... 2020-10-31\n",
              "\n",
              "[2367574 rows x 4 columns]"
            ]
          },
          "metadata": {
            "tags": []
          },
          "execution_count": 12
        }
      ]
    },
    {
      "cell_type": "code",
      "metadata": {
        "colab": {
          "base_uri": "https://localhost:8080/",
          "height": 407
        },
        "id": "Aw_DYevvllqD",
        "outputId": "3fc89496-a654-41a2-aca0-bfdb1e4371f0"
      },
      "source": [
        "#Aggregating hourly pedestrian count for each by sensor-id\n",
        "new_results_df = pd.DataFrame(results_df.groupby(['date', 'sensor_id'])['hourly_counts'].sum())\n",
        "new_results_df = new_results_df.reset_index()\n",
        "new_results_df"
      ],
      "execution_count": 13,
      "outputs": [
        {
          "output_type": "execute_result",
          "data": {
            "text/html": [
              "<div>\n",
              "<style scoped>\n",
              "    .dataframe tbody tr th:only-of-type {\n",
              "        vertical-align: middle;\n",
              "    }\n",
              "\n",
              "    .dataframe tbody tr th {\n",
              "        vertical-align: top;\n",
              "    }\n",
              "\n",
              "    .dataframe thead th {\n",
              "        text-align: right;\n",
              "    }\n",
              "</style>\n",
              "<table border=\"1\" class=\"dataframe\">\n",
              "  <thead>\n",
              "    <tr style=\"text-align: right;\">\n",
              "      <th></th>\n",
              "      <th>date</th>\n",
              "      <th>sensor_id</th>\n",
              "      <th>hourly_counts</th>\n",
              "    </tr>\n",
              "  </thead>\n",
              "  <tbody>\n",
              "    <tr>\n",
              "      <th>0</th>\n",
              "      <td>2015-01-01</td>\n",
              "      <td>2</td>\n",
              "      <td>21217</td>\n",
              "    </tr>\n",
              "    <tr>\n",
              "      <th>1</th>\n",
              "      <td>2015-01-01</td>\n",
              "      <td>3</td>\n",
              "      <td>32695</td>\n",
              "    </tr>\n",
              "    <tr>\n",
              "      <th>2</th>\n",
              "      <td>2015-01-01</td>\n",
              "      <td>4</td>\n",
              "      <td>36958</td>\n",
              "    </tr>\n",
              "    <tr>\n",
              "      <th>3</th>\n",
              "      <td>2015-01-01</td>\n",
              "      <td>5</td>\n",
              "      <td>31224</td>\n",
              "    </tr>\n",
              "    <tr>\n",
              "      <th>4</th>\n",
              "      <td>2015-01-01</td>\n",
              "      <td>6</td>\n",
              "      <td>20457</td>\n",
              "    </tr>\n",
              "    <tr>\n",
              "      <th>...</th>\n",
              "      <td>...</td>\n",
              "      <td>...</td>\n",
              "      <td>...</td>\n",
              "    </tr>\n",
              "    <tr>\n",
              "      <th>98662</th>\n",
              "      <td>2020-10-31</td>\n",
              "      <td>67</td>\n",
              "      <td>4718</td>\n",
              "    </tr>\n",
              "    <tr>\n",
              "      <th>98663</th>\n",
              "      <td>2020-10-31</td>\n",
              "      <td>68</td>\n",
              "      <td>2447</td>\n",
              "    </tr>\n",
              "    <tr>\n",
              "      <th>98664</th>\n",
              "      <td>2020-10-31</td>\n",
              "      <td>69</td>\n",
              "      <td>3428</td>\n",
              "    </tr>\n",
              "    <tr>\n",
              "      <th>98665</th>\n",
              "      <td>2020-10-31</td>\n",
              "      <td>70</td>\n",
              "      <td>3035</td>\n",
              "    </tr>\n",
              "    <tr>\n",
              "      <th>98666</th>\n",
              "      <td>2020-10-31</td>\n",
              "      <td>71</td>\n",
              "      <td>358</td>\n",
              "    </tr>\n",
              "  </tbody>\n",
              "</table>\n",
              "<p>98667 rows × 3 columns</p>\n",
              "</div>"
            ],
            "text/plain": [
              "            date  sensor_id  hourly_counts\n",
              "0     2015-01-01          2          21217\n",
              "1     2015-01-01          3          32695\n",
              "2     2015-01-01          4          36958\n",
              "3     2015-01-01          5          31224\n",
              "4     2015-01-01          6          20457\n",
              "...          ...        ...            ...\n",
              "98662 2020-10-31         67           4718\n",
              "98663 2020-10-31         68           2447\n",
              "98664 2020-10-31         69           3428\n",
              "98665 2020-10-31         70           3035\n",
              "98666 2020-10-31         71            358\n",
              "\n",
              "[98667 rows x 3 columns]"
            ]
          },
          "metadata": {
            "tags": []
          },
          "execution_count": 13
        }
      ]
    },
    {
      "cell_type": "code",
      "metadata": {
        "id": "ccso3QE-Wt7P",
        "colab": {
          "base_uri": "https://localhost:8080/",
          "height": 407
        },
        "outputId": "aeafb3fd-3fd2-43b2-cd5d-c5a515f064ea"
      },
      "source": [
        "#renaming the hourly_count column\n",
        "new_results_df = new_results_df.rename(columns={\"hourly_counts\": \"Total_Pedestrian_Count\"})\n",
        "new_results_df"
      ],
      "execution_count": 14,
      "outputs": [
        {
          "output_type": "execute_result",
          "data": {
            "text/html": [
              "<div>\n",
              "<style scoped>\n",
              "    .dataframe tbody tr th:only-of-type {\n",
              "        vertical-align: middle;\n",
              "    }\n",
              "\n",
              "    .dataframe tbody tr th {\n",
              "        vertical-align: top;\n",
              "    }\n",
              "\n",
              "    .dataframe thead th {\n",
              "        text-align: right;\n",
              "    }\n",
              "</style>\n",
              "<table border=\"1\" class=\"dataframe\">\n",
              "  <thead>\n",
              "    <tr style=\"text-align: right;\">\n",
              "      <th></th>\n",
              "      <th>date</th>\n",
              "      <th>sensor_id</th>\n",
              "      <th>Total_Pedestrian_Count</th>\n",
              "    </tr>\n",
              "  </thead>\n",
              "  <tbody>\n",
              "    <tr>\n",
              "      <th>0</th>\n",
              "      <td>2015-01-01</td>\n",
              "      <td>2</td>\n",
              "      <td>21217</td>\n",
              "    </tr>\n",
              "    <tr>\n",
              "      <th>1</th>\n",
              "      <td>2015-01-01</td>\n",
              "      <td>3</td>\n",
              "      <td>32695</td>\n",
              "    </tr>\n",
              "    <tr>\n",
              "      <th>2</th>\n",
              "      <td>2015-01-01</td>\n",
              "      <td>4</td>\n",
              "      <td>36958</td>\n",
              "    </tr>\n",
              "    <tr>\n",
              "      <th>3</th>\n",
              "      <td>2015-01-01</td>\n",
              "      <td>5</td>\n",
              "      <td>31224</td>\n",
              "    </tr>\n",
              "    <tr>\n",
              "      <th>4</th>\n",
              "      <td>2015-01-01</td>\n",
              "      <td>6</td>\n",
              "      <td>20457</td>\n",
              "    </tr>\n",
              "    <tr>\n",
              "      <th>...</th>\n",
              "      <td>...</td>\n",
              "      <td>...</td>\n",
              "      <td>...</td>\n",
              "    </tr>\n",
              "    <tr>\n",
              "      <th>98662</th>\n",
              "      <td>2020-10-31</td>\n",
              "      <td>67</td>\n",
              "      <td>4718</td>\n",
              "    </tr>\n",
              "    <tr>\n",
              "      <th>98663</th>\n",
              "      <td>2020-10-31</td>\n",
              "      <td>68</td>\n",
              "      <td>2447</td>\n",
              "    </tr>\n",
              "    <tr>\n",
              "      <th>98664</th>\n",
              "      <td>2020-10-31</td>\n",
              "      <td>69</td>\n",
              "      <td>3428</td>\n",
              "    </tr>\n",
              "    <tr>\n",
              "      <th>98665</th>\n",
              "      <td>2020-10-31</td>\n",
              "      <td>70</td>\n",
              "      <td>3035</td>\n",
              "    </tr>\n",
              "    <tr>\n",
              "      <th>98666</th>\n",
              "      <td>2020-10-31</td>\n",
              "      <td>71</td>\n",
              "      <td>358</td>\n",
              "    </tr>\n",
              "  </tbody>\n",
              "</table>\n",
              "<p>98667 rows × 3 columns</p>\n",
              "</div>"
            ],
            "text/plain": [
              "            date  sensor_id  Total_Pedestrian_Count\n",
              "0     2015-01-01          2                   21217\n",
              "1     2015-01-01          3                   32695\n",
              "2     2015-01-01          4                   36958\n",
              "3     2015-01-01          5                   31224\n",
              "4     2015-01-01          6                   20457\n",
              "...          ...        ...                     ...\n",
              "98662 2020-10-31         67                    4718\n",
              "98663 2020-10-31         68                    2447\n",
              "98664 2020-10-31         69                    3428\n",
              "98665 2020-10-31         70                    3035\n",
              "98666 2020-10-31         71                     358\n",
              "\n",
              "[98667 rows x 3 columns]"
            ]
          },
          "metadata": {
            "tags": []
          },
          "execution_count": 14
        }
      ]
    },
    {
      "cell_type": "code",
      "metadata": {
        "colab": {
          "base_uri": "https://localhost:8080/",
          "height": 407
        },
        "id": "s-GzBFWlVKXi",
        "outputId": "307062ce-6d12-4414-ab07-5a891b753e49"
      },
      "source": [
        "#Aggregating hourly pedestrian count for each day\r\n",
        "new_results_df_per_day = pd.DataFrame(new_results_df.groupby(['date'])['Total_Pedestrian_Count'].sum())\r\n",
        "new_results_df_per_day = new_results_df_per_day.reset_index()\r\n",
        "new_results_df_per_day = new_results_df_per_day.rename(columns={\"Total_Pedestrian_Count\": \"Total_Pedestrian_Count_per_day\"})\r\n",
        "new_results_df_per_day"
      ],
      "execution_count": 15,
      "outputs": [
        {
          "output_type": "execute_result",
          "data": {
            "text/html": [
              "<div>\n",
              "<style scoped>\n",
              "    .dataframe tbody tr th:only-of-type {\n",
              "        vertical-align: middle;\n",
              "    }\n",
              "\n",
              "    .dataframe tbody tr th {\n",
              "        vertical-align: top;\n",
              "    }\n",
              "\n",
              "    .dataframe thead th {\n",
              "        text-align: right;\n",
              "    }\n",
              "</style>\n",
              "<table border=\"1\" class=\"dataframe\">\n",
              "  <thead>\n",
              "    <tr style=\"text-align: right;\">\n",
              "      <th></th>\n",
              "      <th>date</th>\n",
              "      <th>Total_Pedestrian_Count_per_day</th>\n",
              "    </tr>\n",
              "  </thead>\n",
              "  <tbody>\n",
              "    <tr>\n",
              "      <th>0</th>\n",
              "      <td>2015-01-01</td>\n",
              "      <td>471563</td>\n",
              "    </tr>\n",
              "    <tr>\n",
              "      <th>1</th>\n",
              "      <td>2015-01-02</td>\n",
              "      <td>389048</td>\n",
              "    </tr>\n",
              "    <tr>\n",
              "      <th>2</th>\n",
              "      <td>2015-01-03</td>\n",
              "      <td>291761</td>\n",
              "    </tr>\n",
              "    <tr>\n",
              "      <th>3</th>\n",
              "      <td>2015-01-04</td>\n",
              "      <td>382364</td>\n",
              "    </tr>\n",
              "    <tr>\n",
              "      <th>4</th>\n",
              "      <td>2015-01-05</td>\n",
              "      <td>487220</td>\n",
              "    </tr>\n",
              "    <tr>\n",
              "      <th>...</th>\n",
              "      <td>...</td>\n",
              "      <td>...</td>\n",
              "    </tr>\n",
              "    <tr>\n",
              "      <th>2126</th>\n",
              "      <td>2020-10-27</td>\n",
              "      <td>177267</td>\n",
              "    </tr>\n",
              "    <tr>\n",
              "      <th>2127</th>\n",
              "      <td>2020-10-28</td>\n",
              "      <td>311278</td>\n",
              "    </tr>\n",
              "    <tr>\n",
              "      <th>2128</th>\n",
              "      <td>2020-10-29</td>\n",
              "      <td>263334</td>\n",
              "    </tr>\n",
              "    <tr>\n",
              "      <th>2129</th>\n",
              "      <td>2020-10-30</td>\n",
              "      <td>313225</td>\n",
              "    </tr>\n",
              "    <tr>\n",
              "      <th>2130</th>\n",
              "      <td>2020-10-31</td>\n",
              "      <td>370181</td>\n",
              "    </tr>\n",
              "  </tbody>\n",
              "</table>\n",
              "<p>2131 rows × 2 columns</p>\n",
              "</div>"
            ],
            "text/plain": [
              "           date  Total_Pedestrian_Count_per_day\n",
              "0    2015-01-01                          471563\n",
              "1    2015-01-02                          389048\n",
              "2    2015-01-03                          291761\n",
              "3    2015-01-04                          382364\n",
              "4    2015-01-05                          487220\n",
              "...         ...                             ...\n",
              "2126 2020-10-27                          177267\n",
              "2127 2020-10-28                          311278\n",
              "2128 2020-10-29                          263334\n",
              "2129 2020-10-30                          313225\n",
              "2130 2020-10-31                          370181\n",
              "\n",
              "[2131 rows x 2 columns]"
            ]
          },
          "metadata": {
            "tags": []
          },
          "execution_count": 15
        }
      ]
    },
    {
      "cell_type": "code",
      "metadata": {
        "colab": {
          "base_uri": "https://localhost:8080/"
        },
        "id": "Rt_YKzhIYwdE",
        "outputId": "15dd5390-3ea7-4117-b54f-dcf46fe93890"
      },
      "source": [
        "# Loading the weather dataset \r\n",
        "dataset = pd.read_csv('export_df.csv') #export_df_csv as created by Hung son on Trello card https://trello.com/c/7dcc09P9\r\n",
        "#converting date_time feature from object datatypes to date\r\n",
        "dataset['date'] = dataset['date'].astype('datetime64[ns]')\r\n",
        "\r\n",
        "dataset.dtypes"
      ],
      "execution_count": 16,
      "outputs": [
        {
          "output_type": "execute_result",
          "data": {
            "text/plain": [
              "date                                    datetime64[ns]\n",
              "Rainfall amount (millimetres)                  float64\n",
              "Minimum temperature (Degree C)                 float64\n",
              "Maximum temperature (Degree C)                 float64\n",
              "Daily global solar exposure (MJ/m*m)           float64\n",
              "dtype: object"
            ]
          },
          "metadata": {
            "tags": []
          },
          "execution_count": 16
        }
      ]
    },
    {
      "cell_type": "code",
      "metadata": {
        "colab": {
          "base_uri": "https://localhost:8080/"
        },
        "id": "KnN6OgT__1zJ",
        "outputId": "ab5f7d33-295e-4181-dd56-c0a9383bc37f"
      },
      "source": [
        "dataset.isna().sum()"
      ],
      "execution_count": 17,
      "outputs": [
        {
          "output_type": "execute_result",
          "data": {
            "text/plain": [
              "date                                    0\n",
              "Rainfall amount (millimetres)           8\n",
              "Minimum temperature (Degree C)          0\n",
              "Maximum temperature (Degree C)          0\n",
              "Daily global solar exposure (MJ/m*m)    1\n",
              "dtype: int64"
            ]
          },
          "metadata": {
            "tags": []
          },
          "execution_count": 17
        }
      ]
    },
    {
      "cell_type": "code",
      "metadata": {
        "colab": {
          "base_uri": "https://localhost:8080/",
          "height": 590
        },
        "id": "Mvdvpg2sfeXS",
        "outputId": "737ae45c-16d5-402c-abcc-dc000133d60e"
      },
      "source": [
        "dataset_wt_weather_features = dataset.merge(new_results_df_per_day, left_on='date', right_on='date')\r\n",
        "\r\n",
        "dataset_wt_weather_features"
      ],
      "execution_count": 18,
      "outputs": [
        {
          "output_type": "execute_result",
          "data": {
            "text/html": [
              "<div>\n",
              "<style scoped>\n",
              "    .dataframe tbody tr th:only-of-type {\n",
              "        vertical-align: middle;\n",
              "    }\n",
              "\n",
              "    .dataframe tbody tr th {\n",
              "        vertical-align: top;\n",
              "    }\n",
              "\n",
              "    .dataframe thead th {\n",
              "        text-align: right;\n",
              "    }\n",
              "</style>\n",
              "<table border=\"1\" class=\"dataframe\">\n",
              "  <thead>\n",
              "    <tr style=\"text-align: right;\">\n",
              "      <th></th>\n",
              "      <th>date</th>\n",
              "      <th>Rainfall amount (millimetres)</th>\n",
              "      <th>Minimum temperature (Degree C)</th>\n",
              "      <th>Maximum temperature (Degree C)</th>\n",
              "      <th>Daily global solar exposure (MJ/m*m)</th>\n",
              "      <th>Total_Pedestrian_Count_per_day</th>\n",
              "    </tr>\n",
              "  </thead>\n",
              "  <tbody>\n",
              "    <tr>\n",
              "      <th>0</th>\n",
              "      <td>2015-01-01</td>\n",
              "      <td>0.0</td>\n",
              "      <td>13.3</td>\n",
              "      <td>26.9</td>\n",
              "      <td>23.6</td>\n",
              "      <td>471563</td>\n",
              "    </tr>\n",
              "    <tr>\n",
              "      <th>1</th>\n",
              "      <td>2015-01-02</td>\n",
              "      <td>0.0</td>\n",
              "      <td>15.4</td>\n",
              "      <td>38.8</td>\n",
              "      <td>26.8</td>\n",
              "      <td>389048</td>\n",
              "    </tr>\n",
              "    <tr>\n",
              "      <th>2</th>\n",
              "      <td>2015-01-03</td>\n",
              "      <td>0.0</td>\n",
              "      <td>20.0</td>\n",
              "      <td>38.2</td>\n",
              "      <td>26.5</td>\n",
              "      <td>291761</td>\n",
              "    </tr>\n",
              "    <tr>\n",
              "      <th>3</th>\n",
              "      <td>2015-01-04</td>\n",
              "      <td>4.6</td>\n",
              "      <td>16.3</td>\n",
              "      <td>21.4</td>\n",
              "      <td>25.2</td>\n",
              "      <td>382364</td>\n",
              "    </tr>\n",
              "    <tr>\n",
              "      <th>4</th>\n",
              "      <td>2015-01-05</td>\n",
              "      <td>0.0</td>\n",
              "      <td>15.0</td>\n",
              "      <td>22.0</td>\n",
              "      <td>30.7</td>\n",
              "      <td>487220</td>\n",
              "    </tr>\n",
              "    <tr>\n",
              "      <th>...</th>\n",
              "      <td>...</td>\n",
              "      <td>...</td>\n",
              "      <td>...</td>\n",
              "      <td>...</td>\n",
              "      <td>...</td>\n",
              "      <td>...</td>\n",
              "    </tr>\n",
              "    <tr>\n",
              "      <th>2126</th>\n",
              "      <td>2020-10-27</td>\n",
              "      <td>0.0</td>\n",
              "      <td>11.1</td>\n",
              "      <td>19.6</td>\n",
              "      <td>20.1</td>\n",
              "      <td>177267</td>\n",
              "    </tr>\n",
              "    <tr>\n",
              "      <th>2127</th>\n",
              "      <td>2020-10-28</td>\n",
              "      <td>0.0</td>\n",
              "      <td>9.5</td>\n",
              "      <td>20.9</td>\n",
              "      <td>26.7</td>\n",
              "      <td>311278</td>\n",
              "    </tr>\n",
              "    <tr>\n",
              "      <th>2128</th>\n",
              "      <td>2020-10-29</td>\n",
              "      <td>0.0</td>\n",
              "      <td>11.2</td>\n",
              "      <td>24.3</td>\n",
              "      <td>17.1</td>\n",
              "      <td>263334</td>\n",
              "    </tr>\n",
              "    <tr>\n",
              "      <th>2129</th>\n",
              "      <td>2020-10-30</td>\n",
              "      <td>0.0</td>\n",
              "      <td>12.9</td>\n",
              "      <td>18.6</td>\n",
              "      <td>21.0</td>\n",
              "      <td>313225</td>\n",
              "    </tr>\n",
              "    <tr>\n",
              "      <th>2130</th>\n",
              "      <td>2020-10-31</td>\n",
              "      <td>0.0</td>\n",
              "      <td>14.2</td>\n",
              "      <td>16.8</td>\n",
              "      <td>10.0</td>\n",
              "      <td>370181</td>\n",
              "    </tr>\n",
              "  </tbody>\n",
              "</table>\n",
              "<p>2131 rows × 6 columns</p>\n",
              "</div>"
            ],
            "text/plain": [
              "           date  ...  Total_Pedestrian_Count_per_day\n",
              "0    2015-01-01  ...                          471563\n",
              "1    2015-01-02  ...                          389048\n",
              "2    2015-01-03  ...                          291761\n",
              "3    2015-01-04  ...                          382364\n",
              "4    2015-01-05  ...                          487220\n",
              "...         ...  ...                             ...\n",
              "2126 2020-10-27  ...                          177267\n",
              "2127 2020-10-28  ...                          311278\n",
              "2128 2020-10-29  ...                          263334\n",
              "2129 2020-10-30  ...                          313225\n",
              "2130 2020-10-31  ...                          370181\n",
              "\n",
              "[2131 rows x 6 columns]"
            ]
          },
          "metadata": {
            "tags": []
          },
          "execution_count": 18
        }
      ]
    },
    {
      "cell_type": "code",
      "metadata": {
        "id": "rWBh5gQx0NZg"
      },
      "source": [
        "#writing the dataset into a csv file\r\n",
        "import csv  \r\n",
        "\r\n",
        "# field names  \r\n",
        "fields = []  \r\n",
        "for col in dataset_wt_weather_features.columns: \r\n",
        "    fields.append(col) \r\n",
        "\r\n",
        "# data rows of csv file  \r\n",
        "rows = dataset_wt_weather_features.values  \r\n",
        "    \r\n",
        "# name of the csv file  \r\n",
        "filename = \"dataset_wt_weather_features.csv\"\r\n",
        "    \r\n",
        "# writing to the csv file  \r\n",
        "with open(filename, 'w') as csvfile:\r\n",
        "\r\n",
        "    # creating a csv writer object  \r\n",
        "    csvwriter = csv.writer(csvfile)  \r\n",
        "        \r\n",
        "    # writing the fields  \r\n",
        "    csvwriter.writerow(fields)  \r\n",
        "        \r\n",
        "    # writing the data rows  \r\n",
        "    csvwriter.writerows(rows) "
      ],
      "execution_count": 19,
      "outputs": []
    },
    {
      "cell_type": "code",
      "metadata": {
        "id": "91x19r17Ouzi"
      },
      "source": [
        "#Incorporating the weekly index. Representing monday as 1 and sunday as 7.\r\n",
        "dataset_wt_weather_features['day_of_week'] = dataset_wt_weather_features.date.dt.dayofweek\r\n",
        "dataset_wt_weather_features['day_of_week'] = dataset_wt_weather_features['day_of_week'] + 1"
      ],
      "execution_count": 20,
      "outputs": []
    },
    {
      "cell_type": "code",
      "metadata": {
        "id": "pfMRWfjvPNnr"
      },
      "source": [
        "#Incorporating the monthly index. Representing January as 1 and december as 12.\r\n",
        "dataset_wt_weather_features['monthly_index'] = dataset_wt_weather_features.date.dt.month"
      ],
      "execution_count": 21,
      "outputs": []
    },
    {
      "cell_type": "code",
      "metadata": {
        "id": "Gp6eHLX-8adH"
      },
      "source": [
        "#Incorporating the day of the year index. \r\n",
        "dataset_wt_weather_features['day_of_year'] = dataset_wt_weather_features.date.dt.dayofyear"
      ],
      "execution_count": 22,
      "outputs": []
    },
    {
      "cell_type": "code",
      "metadata": {
        "id": "mlwQqaOPlsfJ"
      },
      "source": [
        "#Public Holiday dataset\r\n",
        "public = pd.read_csv('Public_Holidays.csv')\r\n",
        "holidays = public[['Holiday']]"
      ],
      "execution_count": 23,
      "outputs": []
    },
    {
      "cell_type": "code",
      "metadata": {
        "colab": {
          "base_uri": "https://localhost:8080/",
          "height": 407
        },
        "id": "D-h6mZz6l0ZT",
        "outputId": "8e4b1748-98db-4c3d-b543-976022b77c34"
      },
      "source": [
        "#View the dataset\r\n",
        "holidays"
      ],
      "execution_count": 24,
      "outputs": [
        {
          "output_type": "execute_result",
          "data": {
            "text/html": [
              "<div>\n",
              "<style scoped>\n",
              "    .dataframe tbody tr th:only-of-type {\n",
              "        vertical-align: middle;\n",
              "    }\n",
              "\n",
              "    .dataframe tbody tr th {\n",
              "        vertical-align: top;\n",
              "    }\n",
              "\n",
              "    .dataframe thead th {\n",
              "        text-align: right;\n",
              "    }\n",
              "</style>\n",
              "<table border=\"1\" class=\"dataframe\">\n",
              "  <thead>\n",
              "    <tr style=\"text-align: right;\">\n",
              "      <th></th>\n",
              "      <th>Holiday</th>\n",
              "    </tr>\n",
              "  </thead>\n",
              "  <tbody>\n",
              "    <tr>\n",
              "      <th>0</th>\n",
              "      <td>2015-01-01</td>\n",
              "    </tr>\n",
              "    <tr>\n",
              "      <th>1</th>\n",
              "      <td>2015-01-26</td>\n",
              "    </tr>\n",
              "    <tr>\n",
              "      <th>2</th>\n",
              "      <td>2015-03-14</td>\n",
              "    </tr>\n",
              "    <tr>\n",
              "      <th>3</th>\n",
              "      <td>2015-03-25</td>\n",
              "    </tr>\n",
              "    <tr>\n",
              "      <th>4</th>\n",
              "      <td>2015-03-26</td>\n",
              "    </tr>\n",
              "    <tr>\n",
              "      <th>...</th>\n",
              "      <td>...</td>\n",
              "    </tr>\n",
              "    <tr>\n",
              "      <th>74</th>\n",
              "      <td>2020-04-12</td>\n",
              "    </tr>\n",
              "    <tr>\n",
              "      <th>75</th>\n",
              "      <td>2020-04-13</td>\n",
              "    </tr>\n",
              "    <tr>\n",
              "      <th>76</th>\n",
              "      <td>2020-04-25</td>\n",
              "    </tr>\n",
              "    <tr>\n",
              "      <th>77</th>\n",
              "      <td>2020-06-08</td>\n",
              "    </tr>\n",
              "    <tr>\n",
              "      <th>78</th>\n",
              "      <td>2020-10-23</td>\n",
              "    </tr>\n",
              "  </tbody>\n",
              "</table>\n",
              "<p>79 rows × 1 columns</p>\n",
              "</div>"
            ],
            "text/plain": [
              "       Holiday\n",
              "0   2015-01-01\n",
              "1   2015-01-26\n",
              "2   2015-03-14\n",
              "3   2015-03-25\n",
              "4   2015-03-26\n",
              "..         ...\n",
              "74  2020-04-12\n",
              "75  2020-04-13\n",
              "76  2020-04-25\n",
              "77  2020-06-08\n",
              "78  2020-10-23\n",
              "\n",
              "[79 rows x 1 columns]"
            ]
          },
          "metadata": {
            "tags": []
          },
          "execution_count": 24
        }
      ]
    },
    {
      "cell_type": "code",
      "metadata": {
        "id": "cmqJ6BH3oaO-"
      },
      "source": [
        "#converting Holiday feature from object datatypes to date\r\n",
        "holidays['Holiday'] = holidays['Holiday'].astype('datetime64[ns]')\r\n",
        "holidays['Public_Holiday'] = 'Public Holiday'"
      ],
      "execution_count": 25,
      "outputs": []
    },
    {
      "cell_type": "code",
      "metadata": {
        "colab": {
          "base_uri": "https://localhost:8080/"
        },
        "id": "jNRef1F_pEQS",
        "outputId": "b229e301-a8e1-4c16-fdf4-a89f97ea9751"
      },
      "source": [
        "#Validating the changes in datatype\r\n",
        "holidays.dtypes"
      ],
      "execution_count": 26,
      "outputs": [
        {
          "output_type": "execute_result",
          "data": {
            "text/plain": [
              "Holiday           datetime64[ns]\n",
              "Public_Holiday            object\n",
              "dtype: object"
            ]
          },
          "metadata": {
            "tags": []
          },
          "execution_count": 26
        }
      ]
    },
    {
      "cell_type": "code",
      "metadata": {
        "id": "VLGYSyyW90gf"
      },
      "source": [
        "#Incorporating the public holiday information in the dataset\r\n",
        "dataset_wt_weather_features = dataset_wt_weather_features.set_index(\"date\").join(holidays.set_index(\"Holiday\"), how=\"outer\")"
      ],
      "execution_count": 27,
      "outputs": []
    },
    {
      "cell_type": "code",
      "metadata": {
        "id": "gke2TLJOALZ2"
      },
      "source": [
        "#Resetting the index\r\n",
        "dataset_wt_weather_features.reset_index(inplace = True)"
      ],
      "execution_count": 28,
      "outputs": []
    },
    {
      "cell_type": "code",
      "metadata": {
        "id": "nUi1bgjOAa68"
      },
      "source": [
        "#Renaming the columns\r\n",
        "dataset_wt_weather_features.rename(columns = {'index':'Date'}, inplace = True)"
      ],
      "execution_count": 29,
      "outputs": []
    },
    {
      "cell_type": "code",
      "metadata": {
        "id": "B8efRjuHBAy8"
      },
      "source": [
        "#Replacing the na values as 'not a holiday'\r\n",
        "dataset_wt_weather_features['Public_Holiday'].fillna('Not a public holiday', inplace=True)"
      ],
      "execution_count": 30,
      "outputs": []
    },
    {
      "cell_type": "code",
      "metadata": {
        "id": "OdR8LxEoCPhm"
      },
      "source": [
        "#Rearranging the columns \r\n",
        "dataset_wt_weather_features = dataset_wt_weather_features[['Date', 'day_of_year', 'day_of_week', 'monthly_index','Public_Holiday','Rainfall amount (millimetres)','Minimum temperature (Degree C)','Maximum temperature (Degree C)','Daily global solar exposure (MJ/m*m)', 'Total_Pedestrian_Count_per_day']]"
      ],
      "execution_count": 31,
      "outputs": []
    },
    {
      "cell_type": "code",
      "metadata": {
        "colab": {
          "base_uri": "https://localhost:8080/",
          "height": 640
        },
        "id": "PcSEGYADypOB",
        "outputId": "6e7853cf-3173-4f8c-e87d-c9e659bd3a7c"
      },
      "source": [
        "#displaying the dataset\r\n",
        "dataset_wt_weather_features"
      ],
      "execution_count": 32,
      "outputs": [
        {
          "output_type": "execute_result",
          "data": {
            "text/html": [
              "<div>\n",
              "<style scoped>\n",
              "    .dataframe tbody tr th:only-of-type {\n",
              "        vertical-align: middle;\n",
              "    }\n",
              "\n",
              "    .dataframe tbody tr th {\n",
              "        vertical-align: top;\n",
              "    }\n",
              "\n",
              "    .dataframe thead th {\n",
              "        text-align: right;\n",
              "    }\n",
              "</style>\n",
              "<table border=\"1\" class=\"dataframe\">\n",
              "  <thead>\n",
              "    <tr style=\"text-align: right;\">\n",
              "      <th></th>\n",
              "      <th>Date</th>\n",
              "      <th>day_of_year</th>\n",
              "      <th>day_of_week</th>\n",
              "      <th>monthly_index</th>\n",
              "      <th>Public_Holiday</th>\n",
              "      <th>Rainfall amount (millimetres)</th>\n",
              "      <th>Minimum temperature (Degree C)</th>\n",
              "      <th>Maximum temperature (Degree C)</th>\n",
              "      <th>Daily global solar exposure (MJ/m*m)</th>\n",
              "      <th>Total_Pedestrian_Count_per_day</th>\n",
              "    </tr>\n",
              "  </thead>\n",
              "  <tbody>\n",
              "    <tr>\n",
              "      <th>0</th>\n",
              "      <td>2015-01-01</td>\n",
              "      <td>1</td>\n",
              "      <td>4</td>\n",
              "      <td>1</td>\n",
              "      <td>Public Holiday</td>\n",
              "      <td>0.0</td>\n",
              "      <td>13.3</td>\n",
              "      <td>26.9</td>\n",
              "      <td>23.6</td>\n",
              "      <td>471563</td>\n",
              "    </tr>\n",
              "    <tr>\n",
              "      <th>1</th>\n",
              "      <td>2015-01-02</td>\n",
              "      <td>2</td>\n",
              "      <td>5</td>\n",
              "      <td>1</td>\n",
              "      <td>Not a public holiday</td>\n",
              "      <td>0.0</td>\n",
              "      <td>15.4</td>\n",
              "      <td>38.8</td>\n",
              "      <td>26.8</td>\n",
              "      <td>389048</td>\n",
              "    </tr>\n",
              "    <tr>\n",
              "      <th>2</th>\n",
              "      <td>2015-01-03</td>\n",
              "      <td>3</td>\n",
              "      <td>6</td>\n",
              "      <td>1</td>\n",
              "      <td>Not a public holiday</td>\n",
              "      <td>0.0</td>\n",
              "      <td>20.0</td>\n",
              "      <td>38.2</td>\n",
              "      <td>26.5</td>\n",
              "      <td>291761</td>\n",
              "    </tr>\n",
              "    <tr>\n",
              "      <th>3</th>\n",
              "      <td>2015-01-04</td>\n",
              "      <td>4</td>\n",
              "      <td>7</td>\n",
              "      <td>1</td>\n",
              "      <td>Not a public holiday</td>\n",
              "      <td>4.6</td>\n",
              "      <td>16.3</td>\n",
              "      <td>21.4</td>\n",
              "      <td>25.2</td>\n",
              "      <td>382364</td>\n",
              "    </tr>\n",
              "    <tr>\n",
              "      <th>4</th>\n",
              "      <td>2015-01-05</td>\n",
              "      <td>5</td>\n",
              "      <td>1</td>\n",
              "      <td>1</td>\n",
              "      <td>Not a public holiday</td>\n",
              "      <td>0.0</td>\n",
              "      <td>15.0</td>\n",
              "      <td>22.0</td>\n",
              "      <td>30.7</td>\n",
              "      <td>487220</td>\n",
              "    </tr>\n",
              "    <tr>\n",
              "      <th>...</th>\n",
              "      <td>...</td>\n",
              "      <td>...</td>\n",
              "      <td>...</td>\n",
              "      <td>...</td>\n",
              "      <td>...</td>\n",
              "      <td>...</td>\n",
              "      <td>...</td>\n",
              "      <td>...</td>\n",
              "      <td>...</td>\n",
              "      <td>...</td>\n",
              "    </tr>\n",
              "    <tr>\n",
              "      <th>2127</th>\n",
              "      <td>2020-10-27</td>\n",
              "      <td>301</td>\n",
              "      <td>2</td>\n",
              "      <td>10</td>\n",
              "      <td>Not a public holiday</td>\n",
              "      <td>0.0</td>\n",
              "      <td>11.1</td>\n",
              "      <td>19.6</td>\n",
              "      <td>20.1</td>\n",
              "      <td>177267</td>\n",
              "    </tr>\n",
              "    <tr>\n",
              "      <th>2128</th>\n",
              "      <td>2020-10-28</td>\n",
              "      <td>302</td>\n",
              "      <td>3</td>\n",
              "      <td>10</td>\n",
              "      <td>Not a public holiday</td>\n",
              "      <td>0.0</td>\n",
              "      <td>9.5</td>\n",
              "      <td>20.9</td>\n",
              "      <td>26.7</td>\n",
              "      <td>311278</td>\n",
              "    </tr>\n",
              "    <tr>\n",
              "      <th>2129</th>\n",
              "      <td>2020-10-29</td>\n",
              "      <td>303</td>\n",
              "      <td>4</td>\n",
              "      <td>10</td>\n",
              "      <td>Not a public holiday</td>\n",
              "      <td>0.0</td>\n",
              "      <td>11.2</td>\n",
              "      <td>24.3</td>\n",
              "      <td>17.1</td>\n",
              "      <td>263334</td>\n",
              "    </tr>\n",
              "    <tr>\n",
              "      <th>2130</th>\n",
              "      <td>2020-10-30</td>\n",
              "      <td>304</td>\n",
              "      <td>5</td>\n",
              "      <td>10</td>\n",
              "      <td>Not a public holiday</td>\n",
              "      <td>0.0</td>\n",
              "      <td>12.9</td>\n",
              "      <td>18.6</td>\n",
              "      <td>21.0</td>\n",
              "      <td>313225</td>\n",
              "    </tr>\n",
              "    <tr>\n",
              "      <th>2131</th>\n",
              "      <td>2020-10-31</td>\n",
              "      <td>305</td>\n",
              "      <td>6</td>\n",
              "      <td>10</td>\n",
              "      <td>Not a public holiday</td>\n",
              "      <td>0.0</td>\n",
              "      <td>14.2</td>\n",
              "      <td>16.8</td>\n",
              "      <td>10.0</td>\n",
              "      <td>370181</td>\n",
              "    </tr>\n",
              "  </tbody>\n",
              "</table>\n",
              "<p>2132 rows × 10 columns</p>\n",
              "</div>"
            ],
            "text/plain": [
              "           Date  ...  Total_Pedestrian_Count_per_day\n",
              "0    2015-01-01  ...                          471563\n",
              "1    2015-01-02  ...                          389048\n",
              "2    2015-01-03  ...                          291761\n",
              "3    2015-01-04  ...                          382364\n",
              "4    2015-01-05  ...                          487220\n",
              "...         ...  ...                             ...\n",
              "2127 2020-10-27  ...                          177267\n",
              "2128 2020-10-28  ...                          311278\n",
              "2129 2020-10-29  ...                          263334\n",
              "2130 2020-10-30  ...                          313225\n",
              "2131 2020-10-31  ...                          370181\n",
              "\n",
              "[2132 rows x 10 columns]"
            ]
          },
          "metadata": {
            "tags": []
          },
          "execution_count": 32
        }
      ]
    },
    {
      "cell_type": "code",
      "metadata": {
        "id": "djsZf_B4tZnJ"
      },
      "source": [
        "#using monthly_index, day of the week, year and day of the year as train data \r\n",
        "X_train = dataset_wt_weather_features[['monthly_index','day_of_week']]\r\n",
        "\r\n",
        "X_train['Year'] = dataset_wt_weather_features.Date.dt.year\r\n",
        "\r\n",
        "X_train['day_of_year'] = dataset_wt_weather_features.Date.dt.dayofyear"
      ],
      "execution_count": 33,
      "outputs": []
    },
    {
      "cell_type": "code",
      "metadata": {
        "colab": {
          "base_uri": "https://localhost:8080/",
          "height": 407
        },
        "id": "u08qH6LKwWZf",
        "outputId": "0bfbeef3-a774-4103-8beb-9cfc8d460389"
      },
      "source": [
        "X_train = X_train[['Year', 'day_of_year', 'monthly_index','day_of_week' ]]\r\n",
        "X_train"
      ],
      "execution_count": 34,
      "outputs": [
        {
          "output_type": "execute_result",
          "data": {
            "text/html": [
              "<div>\n",
              "<style scoped>\n",
              "    .dataframe tbody tr th:only-of-type {\n",
              "        vertical-align: middle;\n",
              "    }\n",
              "\n",
              "    .dataframe tbody tr th {\n",
              "        vertical-align: top;\n",
              "    }\n",
              "\n",
              "    .dataframe thead th {\n",
              "        text-align: right;\n",
              "    }\n",
              "</style>\n",
              "<table border=\"1\" class=\"dataframe\">\n",
              "  <thead>\n",
              "    <tr style=\"text-align: right;\">\n",
              "      <th></th>\n",
              "      <th>Year</th>\n",
              "      <th>day_of_year</th>\n",
              "      <th>monthly_index</th>\n",
              "      <th>day_of_week</th>\n",
              "    </tr>\n",
              "  </thead>\n",
              "  <tbody>\n",
              "    <tr>\n",
              "      <th>0</th>\n",
              "      <td>2015</td>\n",
              "      <td>1</td>\n",
              "      <td>1</td>\n",
              "      <td>4</td>\n",
              "    </tr>\n",
              "    <tr>\n",
              "      <th>1</th>\n",
              "      <td>2015</td>\n",
              "      <td>2</td>\n",
              "      <td>1</td>\n",
              "      <td>5</td>\n",
              "    </tr>\n",
              "    <tr>\n",
              "      <th>2</th>\n",
              "      <td>2015</td>\n",
              "      <td>3</td>\n",
              "      <td>1</td>\n",
              "      <td>6</td>\n",
              "    </tr>\n",
              "    <tr>\n",
              "      <th>3</th>\n",
              "      <td>2015</td>\n",
              "      <td>4</td>\n",
              "      <td>1</td>\n",
              "      <td>7</td>\n",
              "    </tr>\n",
              "    <tr>\n",
              "      <th>4</th>\n",
              "      <td>2015</td>\n",
              "      <td>5</td>\n",
              "      <td>1</td>\n",
              "      <td>1</td>\n",
              "    </tr>\n",
              "    <tr>\n",
              "      <th>...</th>\n",
              "      <td>...</td>\n",
              "      <td>...</td>\n",
              "      <td>...</td>\n",
              "      <td>...</td>\n",
              "    </tr>\n",
              "    <tr>\n",
              "      <th>2127</th>\n",
              "      <td>2020</td>\n",
              "      <td>301</td>\n",
              "      <td>10</td>\n",
              "      <td>2</td>\n",
              "    </tr>\n",
              "    <tr>\n",
              "      <th>2128</th>\n",
              "      <td>2020</td>\n",
              "      <td>302</td>\n",
              "      <td>10</td>\n",
              "      <td>3</td>\n",
              "    </tr>\n",
              "    <tr>\n",
              "      <th>2129</th>\n",
              "      <td>2020</td>\n",
              "      <td>303</td>\n",
              "      <td>10</td>\n",
              "      <td>4</td>\n",
              "    </tr>\n",
              "    <tr>\n",
              "      <th>2130</th>\n",
              "      <td>2020</td>\n",
              "      <td>304</td>\n",
              "      <td>10</td>\n",
              "      <td>5</td>\n",
              "    </tr>\n",
              "    <tr>\n",
              "      <th>2131</th>\n",
              "      <td>2020</td>\n",
              "      <td>305</td>\n",
              "      <td>10</td>\n",
              "      <td>6</td>\n",
              "    </tr>\n",
              "  </tbody>\n",
              "</table>\n",
              "<p>2132 rows × 4 columns</p>\n",
              "</div>"
            ],
            "text/plain": [
              "      Year  day_of_year  monthly_index  day_of_week\n",
              "0     2015            1              1            4\n",
              "1     2015            2              1            5\n",
              "2     2015            3              1            6\n",
              "3     2015            4              1            7\n",
              "4     2015            5              1            1\n",
              "...    ...          ...            ...          ...\n",
              "2127  2020          301             10            2\n",
              "2128  2020          302             10            3\n",
              "2129  2020          303             10            4\n",
              "2130  2020          304             10            5\n",
              "2131  2020          305             10            6\n",
              "\n",
              "[2132 rows x 4 columns]"
            ]
          },
          "metadata": {
            "tags": []
          },
          "execution_count": 34
        }
      ]
    },
    {
      "cell_type": "markdown",
      "metadata": {
        "id": "87KrRdW6RKvB"
      },
      "source": [
        "#Predicting independent variables for Minimum temperature (Degree C) and Maximum temperature (Degree C) from 1-11-2020 to 31-01-2021"
      ]
    },
    {
      "cell_type": "code",
      "metadata": {
        "colab": {
          "base_uri": "https://localhost:8080/"
        },
        "id": "No0UajZLyh0p",
        "outputId": "71d88796-2524-4342-bfe8-951c22a6e417"
      },
      "source": [
        "Y_train_min_temp = dataset_wt_weather_features['Minimum temperature (Degree C)']\r\n",
        "Y_train_min_temp\r\n",
        "Y_train_max_temp = dataset_wt_weather_features['Maximum temperature (Degree C)']\r\n",
        "Y_train_max_temp"
      ],
      "execution_count": 35,
      "outputs": [
        {
          "output_type": "execute_result",
          "data": {
            "text/plain": [
              "0       26.9\n",
              "1       38.8\n",
              "2       38.2\n",
              "3       21.4\n",
              "4       22.0\n",
              "        ... \n",
              "2127    19.6\n",
              "2128    20.9\n",
              "2129    24.3\n",
              "2130    18.6\n",
              "2131    16.8\n",
              "Name: Maximum temperature (Degree C), Length: 2132, dtype: float64"
            ]
          },
          "metadata": {
            "tags": []
          },
          "execution_count": 35
        }
      ]
    },
    {
      "cell_type": "code",
      "metadata": {
        "colab": {
          "base_uri": "https://localhost:8080/"
        },
        "id": "rJBrd18I05Xj",
        "outputId": "e232e3bd-03fb-4b07-f910-c6a559a8bfb9"
      },
      "source": [
        "from sklearn.neighbors import KNeighborsRegressor\r\n",
        "from sklearn.tree import DecisionTreeRegressor\r\n",
        "from sklearn.ensemble import RandomForestRegressor\r\n",
        "from sklearn.neural_network import MLPRegressor\r\n",
        "from sklearn.svm import SVR\r\n",
        "from sklearn.model_selection import GridSearchCV\r\n",
        "from sklearn.preprocessing import StandardScaler\r\n",
        "from sklearn.metrics import mean_squared_error\r\n",
        "import numpy as np\r\n",
        "#using standard scaler\r\n",
        "scaler = StandardScaler()\r\n",
        "#fit get the mean and standard deviation of the train features \r\n",
        "#while tranform applies the standardation formular\r\n",
        "X_train_StandardScaler = scaler.fit_transform(X_train) \r\n",
        "X_train_StandardScaler"
      ],
      "execution_count": 36,
      "outputs": [
        {
          "output_type": "execute_result",
          "data": {
            "text/plain": [
              "array([[-1.44730998e+00, -1.71507061e+00, -1.58631120e+00,\n",
              "        -9.38637205e-04],\n",
              "       [-1.44730998e+00, -1.70542213e+00, -1.58631120e+00,\n",
              "         4.99354993e-01],\n",
              "       [-1.44730998e+00, -1.69577366e+00, -1.58631120e+00,\n",
              "         9.99648624e-01],\n",
              "       ...,\n",
              "       [ 1.53055614e+00,  1.19876862e+00,  1.06833203e+00,\n",
              "        -9.38637205e-04],\n",
              "       [ 1.53055614e+00,  1.20841709e+00,  1.06833203e+00,\n",
              "         4.99354993e-01],\n",
              "       [ 1.53055614e+00,  1.21806557e+00,  1.06833203e+00,\n",
              "         9.99648624e-01]])"
            ]
          },
          "metadata": {
            "tags": []
          },
          "execution_count": 36
        }
      ]
    },
    {
      "cell_type": "code",
      "metadata": {
        "id": "fS55McCZ3q2b",
        "colab": {
          "base_uri": "https://localhost:8080/",
          "height": 407
        },
        "outputId": "0bb76dd2-53f7-49fc-e40b-d39775041cf3"
      },
      "source": [
        "from datetime import datetime, timedelta\r\n",
        "#generating the test data set\r\n",
        "base = datetime.strptime('2020-11-1', '%Y-%m-%d')\r\n",
        "date_list = [base + timedelta(days=x) for x in range(92)]\r\n",
        "test_data = df(date_list)\r\n",
        "#renaming a column \r\n",
        "test_data.rename(columns = {0:'Date'},inplace = True)\r\n",
        "#Incorporating the monthly index. Representing January as 1 and December as 12.\r\n",
        "test_data['monthly_index'] = test_data.Date.dt.month\r\n",
        "\r\n",
        "#Incorporating the year\r\n",
        "test_data['Year'] = test_data.Date.dt.year\r\n",
        "\r\n",
        "#Incorporating the weekly index. Representing monday as 1 and sunday as 7.\r\n",
        "test_data['day_of_week'] = test_data.Date.dt.dayofweek + 1\r\n",
        "\r\n",
        "#Incorporating the day of the year\r\n",
        "test_data['day_of_year'] = test_data.Date.dt.dayofyear\r\n",
        "\r\n",
        "#rearranging columns for the test dataset\r\n",
        "test_data = test_data[['Year', 'day_of_year', 'monthly_index','day_of_week' ]]\r\n",
        "\r\n",
        "#displaying the test dataset\r\n",
        "test_data\r\n"
      ],
      "execution_count": 37,
      "outputs": [
        {
          "output_type": "execute_result",
          "data": {
            "text/html": [
              "<div>\n",
              "<style scoped>\n",
              "    .dataframe tbody tr th:only-of-type {\n",
              "        vertical-align: middle;\n",
              "    }\n",
              "\n",
              "    .dataframe tbody tr th {\n",
              "        vertical-align: top;\n",
              "    }\n",
              "\n",
              "    .dataframe thead th {\n",
              "        text-align: right;\n",
              "    }\n",
              "</style>\n",
              "<table border=\"1\" class=\"dataframe\">\n",
              "  <thead>\n",
              "    <tr style=\"text-align: right;\">\n",
              "      <th></th>\n",
              "      <th>Year</th>\n",
              "      <th>day_of_year</th>\n",
              "      <th>monthly_index</th>\n",
              "      <th>day_of_week</th>\n",
              "    </tr>\n",
              "  </thead>\n",
              "  <tbody>\n",
              "    <tr>\n",
              "      <th>0</th>\n",
              "      <td>2020</td>\n",
              "      <td>306</td>\n",
              "      <td>11</td>\n",
              "      <td>7</td>\n",
              "    </tr>\n",
              "    <tr>\n",
              "      <th>1</th>\n",
              "      <td>2020</td>\n",
              "      <td>307</td>\n",
              "      <td>11</td>\n",
              "      <td>1</td>\n",
              "    </tr>\n",
              "    <tr>\n",
              "      <th>2</th>\n",
              "      <td>2020</td>\n",
              "      <td>308</td>\n",
              "      <td>11</td>\n",
              "      <td>2</td>\n",
              "    </tr>\n",
              "    <tr>\n",
              "      <th>3</th>\n",
              "      <td>2020</td>\n",
              "      <td>309</td>\n",
              "      <td>11</td>\n",
              "      <td>3</td>\n",
              "    </tr>\n",
              "    <tr>\n",
              "      <th>4</th>\n",
              "      <td>2020</td>\n",
              "      <td>310</td>\n",
              "      <td>11</td>\n",
              "      <td>4</td>\n",
              "    </tr>\n",
              "    <tr>\n",
              "      <th>...</th>\n",
              "      <td>...</td>\n",
              "      <td>...</td>\n",
              "      <td>...</td>\n",
              "      <td>...</td>\n",
              "    </tr>\n",
              "    <tr>\n",
              "      <th>87</th>\n",
              "      <td>2021</td>\n",
              "      <td>27</td>\n",
              "      <td>1</td>\n",
              "      <td>3</td>\n",
              "    </tr>\n",
              "    <tr>\n",
              "      <th>88</th>\n",
              "      <td>2021</td>\n",
              "      <td>28</td>\n",
              "      <td>1</td>\n",
              "      <td>4</td>\n",
              "    </tr>\n",
              "    <tr>\n",
              "      <th>89</th>\n",
              "      <td>2021</td>\n",
              "      <td>29</td>\n",
              "      <td>1</td>\n",
              "      <td>5</td>\n",
              "    </tr>\n",
              "    <tr>\n",
              "      <th>90</th>\n",
              "      <td>2021</td>\n",
              "      <td>30</td>\n",
              "      <td>1</td>\n",
              "      <td>6</td>\n",
              "    </tr>\n",
              "    <tr>\n",
              "      <th>91</th>\n",
              "      <td>2021</td>\n",
              "      <td>31</td>\n",
              "      <td>1</td>\n",
              "      <td>7</td>\n",
              "    </tr>\n",
              "  </tbody>\n",
              "</table>\n",
              "<p>92 rows × 4 columns</p>\n",
              "</div>"
            ],
            "text/plain": [
              "    Year  day_of_year  monthly_index  day_of_week\n",
              "0   2020          306             11            7\n",
              "1   2020          307             11            1\n",
              "2   2020          308             11            2\n",
              "3   2020          309             11            3\n",
              "4   2020          310             11            4\n",
              "..   ...          ...            ...          ...\n",
              "87  2021           27              1            3\n",
              "88  2021           28              1            4\n",
              "89  2021           29              1            5\n",
              "90  2021           30              1            6\n",
              "91  2021           31              1            7\n",
              "\n",
              "[92 rows x 4 columns]"
            ]
          },
          "metadata": {
            "tags": []
          },
          "execution_count": 37
        }
      ]
    },
    {
      "cell_type": "code",
      "metadata": {
        "colab": {
          "base_uri": "https://localhost:8080/"
        },
        "id": "yqxN2q0nO2MG",
        "outputId": "92d1e1c3-6021-45e8-c3ca-5714669f61af"
      },
      "source": [
        "#scaling the test dataset \r\n",
        "test_data_StandardScaler = scaler.fit_transform(test_data) \r\n",
        "test_data_StandardScaler"
      ],
      "execution_count": 38,
      "outputs": [
        {
          "output_type": "execute_result",
          "data": {
            "text/plain": [
              "array([[-0.71287918,  0.51194302,  0.60852228,  1.47391105],\n",
              "       [-0.71287918,  0.51852106,  0.60852228, -1.5063047 ],\n",
              "       [-0.71287918,  0.5250991 ,  0.60852228, -1.00960208],\n",
              "       [-0.71287918,  0.53167714,  0.60852228, -0.51289945],\n",
              "       [-0.71287918,  0.53825517,  0.60852228, -0.01619682],\n",
              "       [-0.71287918,  0.54483321,  0.60852228,  0.4805058 ],\n",
              "       [-0.71287918,  0.55141125,  0.60852228,  0.97720843],\n",
              "       [-0.71287918,  0.55798929,  0.60852228,  1.47391105],\n",
              "       [-0.71287918,  0.56456733,  0.60852228, -1.5063047 ],\n",
              "       [-0.71287918,  0.57114537,  0.60852228, -1.00960208],\n",
              "       [-0.71287918,  0.57772341,  0.60852228, -0.51289945],\n",
              "       [-0.71287918,  0.58430145,  0.60852228, -0.01619682],\n",
              "       [-0.71287918,  0.59087948,  0.60852228,  0.4805058 ],\n",
              "       [-0.71287918,  0.59745752,  0.60852228,  0.97720843],\n",
              "       [-0.71287918,  0.60403556,  0.60852228,  1.47391105],\n",
              "       [-0.71287918,  0.6106136 ,  0.60852228, -1.5063047 ],\n",
              "       [-0.71287918,  0.61719164,  0.60852228, -1.00960208],\n",
              "       [-0.71287918,  0.62376968,  0.60852228, -0.51289945],\n",
              "       [-0.71287918,  0.63034772,  0.60852228, -0.01619682],\n",
              "       [-0.71287918,  0.63692576,  0.60852228,  0.4805058 ],\n",
              "       [-0.71287918,  0.6435038 ,  0.60852228,  0.97720843],\n",
              "       [-0.71287918,  0.65008183,  0.60852228,  1.47391105],\n",
              "       [-0.71287918,  0.65665987,  0.60852228, -1.5063047 ],\n",
              "       [-0.71287918,  0.66323791,  0.60852228, -1.00960208],\n",
              "       [-0.71287918,  0.66981595,  0.60852228, -0.51289945],\n",
              "       [-0.71287918,  0.67639399,  0.60852228, -0.01619682],\n",
              "       [-0.71287918,  0.68297203,  0.60852228,  0.4805058 ],\n",
              "       [-0.71287918,  0.68955007,  0.60852228,  0.97720843],\n",
              "       [-0.71287918,  0.69612811,  0.60852228,  1.47391105],\n",
              "       [-0.71287918,  0.70270614,  0.60852228, -1.5063047 ],\n",
              "       [-0.71287918,  0.70928418,  0.80918196, -1.00960208],\n",
              "       [-0.71287918,  0.71586222,  0.80918196, -0.51289945],\n",
              "       [-0.71287918,  0.72244026,  0.80918196, -0.01619682],\n",
              "       [-0.71287918,  0.7290183 ,  0.80918196,  0.4805058 ],\n",
              "       [-0.71287918,  0.73559634,  0.80918196,  0.97720843],\n",
              "       [-0.71287918,  0.74217438,  0.80918196,  1.47391105],\n",
              "       [-0.71287918,  0.74875242,  0.80918196, -1.5063047 ],\n",
              "       [-0.71287918,  0.75533045,  0.80918196, -1.00960208],\n",
              "       [-0.71287918,  0.76190849,  0.80918196, -0.51289945],\n",
              "       [-0.71287918,  0.76848653,  0.80918196, -0.01619682],\n",
              "       [-0.71287918,  0.77506457,  0.80918196,  0.4805058 ],\n",
              "       [-0.71287918,  0.78164261,  0.80918196,  0.97720843],\n",
              "       [-0.71287918,  0.78822065,  0.80918196,  1.47391105],\n",
              "       [-0.71287918,  0.79479869,  0.80918196, -1.5063047 ],\n",
              "       [-0.71287918,  0.80137673,  0.80918196, -1.00960208],\n",
              "       [-0.71287918,  0.80795476,  0.80918196, -0.51289945],\n",
              "       [-0.71287918,  0.8145328 ,  0.80918196, -0.01619682],\n",
              "       [-0.71287918,  0.82111084,  0.80918196,  0.4805058 ],\n",
              "       [-0.71287918,  0.82768888,  0.80918196,  0.97720843],\n",
              "       [-0.71287918,  0.83426692,  0.80918196,  1.47391105],\n",
              "       [-0.71287918,  0.84084496,  0.80918196, -1.5063047 ],\n",
              "       [-0.71287918,  0.847423  ,  0.80918196, -1.00960208],\n",
              "       [-0.71287918,  0.85400104,  0.80918196, -0.51289945],\n",
              "       [-0.71287918,  0.86057908,  0.80918196, -0.01619682],\n",
              "       [-0.71287918,  0.86715711,  0.80918196,  0.4805058 ],\n",
              "       [-0.71287918,  0.87373515,  0.80918196,  0.97720843],\n",
              "       [-0.71287918,  0.88031319,  0.80918196,  1.47391105],\n",
              "       [-0.71287918,  0.88689123,  0.80918196, -1.5063047 ],\n",
              "       [-0.71287918,  0.89346927,  0.80918196, -1.00960208],\n",
              "       [-0.71287918,  0.90004731,  0.80918196, -0.51289945],\n",
              "       [-0.71287918,  0.90662535,  0.80918196, -0.01619682],\n",
              "       [ 1.40276225, -1.49435881, -1.39807449,  0.4805058 ],\n",
              "       [ 1.40276225, -1.48778077, -1.39807449,  0.97720843],\n",
              "       [ 1.40276225, -1.48120274, -1.39807449,  1.47391105],\n",
              "       [ 1.40276225, -1.4746247 , -1.39807449, -1.5063047 ],\n",
              "       [ 1.40276225, -1.46804666, -1.39807449, -1.00960208],\n",
              "       [ 1.40276225, -1.46146862, -1.39807449, -0.51289945],\n",
              "       [ 1.40276225, -1.45489058, -1.39807449, -0.01619682],\n",
              "       [ 1.40276225, -1.44831254, -1.39807449,  0.4805058 ],\n",
              "       [ 1.40276225, -1.4417345 , -1.39807449,  0.97720843],\n",
              "       [ 1.40276225, -1.43515646, -1.39807449,  1.47391105],\n",
              "       [ 1.40276225, -1.42857843, -1.39807449, -1.5063047 ],\n",
              "       [ 1.40276225, -1.42200039, -1.39807449, -1.00960208],\n",
              "       [ 1.40276225, -1.41542235, -1.39807449, -0.51289945],\n",
              "       [ 1.40276225, -1.40884431, -1.39807449, -0.01619682],\n",
              "       [ 1.40276225, -1.40226627, -1.39807449,  0.4805058 ],\n",
              "       [ 1.40276225, -1.39568823, -1.39807449,  0.97720843],\n",
              "       [ 1.40276225, -1.38911019, -1.39807449,  1.47391105],\n",
              "       [ 1.40276225, -1.38253215, -1.39807449, -1.5063047 ],\n",
              "       [ 1.40276225, -1.37595411, -1.39807449, -1.00960208],\n",
              "       [ 1.40276225, -1.36937608, -1.39807449, -0.51289945],\n",
              "       [ 1.40276225, -1.36279804, -1.39807449, -0.01619682],\n",
              "       [ 1.40276225, -1.35622   , -1.39807449,  0.4805058 ],\n",
              "       [ 1.40276225, -1.34964196, -1.39807449,  0.97720843],\n",
              "       [ 1.40276225, -1.34306392, -1.39807449,  1.47391105],\n",
              "       [ 1.40276225, -1.33648588, -1.39807449, -1.5063047 ],\n",
              "       [ 1.40276225, -1.32990784, -1.39807449, -1.00960208],\n",
              "       [ 1.40276225, -1.3233298 , -1.39807449, -0.51289945],\n",
              "       [ 1.40276225, -1.31675177, -1.39807449, -0.01619682],\n",
              "       [ 1.40276225, -1.31017373, -1.39807449,  0.4805058 ],\n",
              "       [ 1.40276225, -1.30359569, -1.39807449,  0.97720843],\n",
              "       [ 1.40276225, -1.29701765, -1.39807449,  1.47391105]])"
            ]
          },
          "metadata": {
            "tags": []
          },
          "execution_count": 38
        }
      ]
    },
    {
      "cell_type": "code",
      "metadata": {
        "colab": {
          "base_uri": "https://localhost:8080/",
          "height": 407
        },
        "id": "BheQ-16DNFvS",
        "outputId": "ff84ee81-5e09-4254-e407-134136009657"
      },
      "source": [
        "# Loading the weather test dataset \r\n",
        "test_dataset = pd.read_csv('Test_dataset_updated.csv') \r\n",
        "\r\n",
        "# dataset.dtypes\r\n",
        "test_dataset"
      ],
      "execution_count": 39,
      "outputs": [
        {
          "output_type": "execute_result",
          "data": {
            "text/html": [
              "<div>\n",
              "<style scoped>\n",
              "    .dataframe tbody tr th:only-of-type {\n",
              "        vertical-align: middle;\n",
              "    }\n",
              "\n",
              "    .dataframe tbody tr th {\n",
              "        vertical-align: top;\n",
              "    }\n",
              "\n",
              "    .dataframe thead th {\n",
              "        text-align: right;\n",
              "    }\n",
              "</style>\n",
              "<table border=\"1\" class=\"dataframe\">\n",
              "  <thead>\n",
              "    <tr style=\"text-align: right;\">\n",
              "      <th></th>\n",
              "      <th>Date</th>\n",
              "      <th>Rainfall</th>\n",
              "      <th>Solar Exposure</th>\n",
              "      <th>Minimum temperature</th>\n",
              "      <th>Maximum Temperature</th>\n",
              "    </tr>\n",
              "  </thead>\n",
              "  <tbody>\n",
              "    <tr>\n",
              "      <th>0</th>\n",
              "      <td>01-11-2020</td>\n",
              "      <td>0.0</td>\n",
              "      <td>23.2</td>\n",
              "      <td>12.6</td>\n",
              "      <td>17.0</td>\n",
              "    </tr>\n",
              "    <tr>\n",
              "      <th>1</th>\n",
              "      <td>02-11-2020</td>\n",
              "      <td>0.0</td>\n",
              "      <td>26.8</td>\n",
              "      <td>9.6</td>\n",
              "      <td>29.5</td>\n",
              "    </tr>\n",
              "    <tr>\n",
              "      <th>2</th>\n",
              "      <td>03-11-2020</td>\n",
              "      <td>0.0</td>\n",
              "      <td>26.9</td>\n",
              "      <td>12.1</td>\n",
              "      <td>30.4</td>\n",
              "    </tr>\n",
              "    <tr>\n",
              "      <th>3</th>\n",
              "      <td>04-11-2020</td>\n",
              "      <td>0.0</td>\n",
              "      <td>5.5</td>\n",
              "      <td>21.9</td>\n",
              "      <td>22.8</td>\n",
              "    </tr>\n",
              "    <tr>\n",
              "      <th>4</th>\n",
              "      <td>05-11-2020</td>\n",
              "      <td>2.8</td>\n",
              "      <td>23.1</td>\n",
              "      <td>11.1</td>\n",
              "      <td>15.8</td>\n",
              "    </tr>\n",
              "    <tr>\n",
              "      <th>...</th>\n",
              "      <td>...</td>\n",
              "      <td>...</td>\n",
              "      <td>...</td>\n",
              "      <td>...</td>\n",
              "      <td>...</td>\n",
              "    </tr>\n",
              "    <tr>\n",
              "      <th>56</th>\n",
              "      <td>27-12-2020</td>\n",
              "      <td>0.0</td>\n",
              "      <td>3.3</td>\n",
              "      <td>16.2</td>\n",
              "      <td>31.9</td>\n",
              "    </tr>\n",
              "    <tr>\n",
              "      <th>57</th>\n",
              "      <td>28-12-2020</td>\n",
              "      <td>3.2</td>\n",
              "      <td>26.5</td>\n",
              "      <td>11.5</td>\n",
              "      <td>17.8</td>\n",
              "    </tr>\n",
              "    <tr>\n",
              "      <th>58</th>\n",
              "      <td>29-12-2020</td>\n",
              "      <td>0.0</td>\n",
              "      <td>30.7</td>\n",
              "      <td>9.0</td>\n",
              "      <td>21.3</td>\n",
              "    </tr>\n",
              "    <tr>\n",
              "      <th>59</th>\n",
              "      <td>30-12-2020</td>\n",
              "      <td>0.0</td>\n",
              "      <td>30.3</td>\n",
              "      <td>13.7</td>\n",
              "      <td>21.4</td>\n",
              "    </tr>\n",
              "    <tr>\n",
              "      <th>60</th>\n",
              "      <td>31-12-2020</td>\n",
              "      <td>0.0</td>\n",
              "      <td>7.3</td>\n",
              "      <td>15.5</td>\n",
              "      <td>21.2</td>\n",
              "    </tr>\n",
              "  </tbody>\n",
              "</table>\n",
              "<p>61 rows × 5 columns</p>\n",
              "</div>"
            ],
            "text/plain": [
              "         Date   Rainfall   ...  Minimum temperature  Maximum Temperature\n",
              "0   01-11-2020        0.0  ...                 12.6                 17.0\n",
              "1   02-11-2020        0.0  ...                  9.6                 29.5\n",
              "2   03-11-2020        0.0  ...                 12.1                 30.4\n",
              "3   04-11-2020        0.0  ...                 21.9                 22.8\n",
              "4   05-11-2020        2.8  ...                 11.1                 15.8\n",
              "..         ...        ...  ...                  ...                  ...\n",
              "56  27-12-2020        0.0  ...                 16.2                 31.9\n",
              "57  28-12-2020        3.2  ...                 11.5                 17.8\n",
              "58  29-12-2020        0.0  ...                  9.0                 21.3\n",
              "59  30-12-2020        0.0  ...                 13.7                 21.4\n",
              "60  31-12-2020        0.0  ...                 15.5                 21.2\n",
              "\n",
              "[61 rows x 5 columns]"
            ]
          },
          "metadata": {
            "tags": []
          },
          "execution_count": 39
        }
      ]
    },
    {
      "cell_type": "code",
      "metadata": {
        "id": "TW-esy4_OryC"
      },
      "source": [
        ""
      ],
      "execution_count": 39,
      "outputs": []
    },
    {
      "cell_type": "markdown",
      "metadata": {
        "id": "fQvL2lPkNbKd"
      },
      "source": [
        "##KNN Algorithm"
      ]
    },
    {
      "cell_type": "code",
      "metadata": {
        "id": "Jhv8x222N5Au"
      },
      "source": [
        "#KNN parameters\r\n",
        "n_neighbors = [2,4,5,10,25]\r\n",
        "leaf_size = [10,20,30,50,100,500]\r\n",
        "metric = ['euclidean','chebyshev','manhattan']\r\n",
        "weights = ['uniform', 'distance']\r\n",
        "algorithm = ['auto', 'ball_tree', 'kd_tree', 'brute'] "
      ],
      "execution_count": 40,
      "outputs": []
    },
    {
      "cell_type": "markdown",
      "metadata": {
        "id": "Rp7g4fgtSkge"
      },
      "source": [
        "###KNN for max temperature prediction"
      ]
    },
    {
      "cell_type": "code",
      "metadata": {
        "id": "NzfiTFQMNSey"
      },
      "source": [
        "#KNN for max temperature\r\n",
        "#declaring parameters for KNN algorithm to determine it performance on the test data\r\n",
        "scores_ = []\r\n",
        "neighbor = []\r\n",
        "leaf_size_ = []\r\n",
        "metric_ = []\r\n",
        "weight = []\r\n",
        "algorithm_ = []\r\n",
        "\r\n",
        "for i in n_neighbors:\r\n",
        "  for j in leaf_size:\r\n",
        "    for k in metric:\r\n",
        "      for l in weights:\r\n",
        "        for m in algorithm:\r\n",
        "          knn_maxi = KNeighborsRegressor(n_neighbors = i, leaf_size = j, metric = k, weights = l, algorithm = m)\r\n",
        "          knn_maxi.fit(X_train_StandardScaler, Y_train_max_temp)\r\n",
        "          scores_.append(mean_squared_error(test_dataset['Maximum Temperature'].values, knn_maxi.predict(test_data_StandardScaler[0:61])))\r\n",
        "          neighbor.append(i)\r\n",
        "          leaf_size_.append(j)\r\n",
        "          metric_.append(k)\r\n",
        "          weight.append(l)\r\n",
        "          algorithm_.append(m)"
      ],
      "execution_count": 41,
      "outputs": []
    },
    {
      "cell_type": "code",
      "metadata": {
        "colab": {
          "base_uri": "https://localhost:8080/"
        },
        "id": "piAmRZm-PXlL",
        "outputId": "8e81ae63-2700-4bf8-dbed-82850e58d9bc"
      },
      "source": [
        "#checking the minimun mean square error of the KNN algorithm used for maximum temperature prediction\r\n",
        "min(scores_)"
      ],
      "execution_count": 42,
      "outputs": [
        {
          "output_type": "execute_result",
          "data": {
            "text/plain": [
              "73.16152786885245"
            ]
          },
          "metadata": {
            "tags": []
          },
          "execution_count": 42
        }
      ]
    },
    {
      "cell_type": "code",
      "metadata": {
        "colab": {
          "base_uri": "https://localhost:8080/"
        },
        "id": "V2KG7bntOWOW",
        "outputId": "2e4dbb90-d7dd-4edc-a9e9-0bc843c1bcc5"
      },
      "source": [
        "#getting the index of the minimun mean square error of the KNN algorithm from the list\r\n",
        "index_max = np.argmin(scores_)\r\n",
        "index_max"
      ],
      "execution_count": 43,
      "outputs": [
        {
          "output_type": "execute_result",
          "data": {
            "text/plain": [
              "296"
            ]
          },
          "metadata": {
            "tags": []
          },
          "execution_count": 43
        }
      ]
    },
    {
      "cell_type": "code",
      "metadata": {
        "colab": {
          "base_uri": "https://localhost:8080/"
        },
        "id": "cdQIcntKOV9d",
        "outputId": "5b3a689f-0f0c-43e3-fc1e-a15aea323467"
      },
      "source": [
        "#obtaining the parameters with the minimun mean square error of the KNN algorithm \r\n",
        "max_temp_knn_parameters = [neighbor[296], leaf_size_[296], metric_[296], weight[296], algorithm_[296]]\r\n",
        "max_temp_knn_parameters"
      ],
      "execution_count": 44,
      "outputs": [
        {
          "output_type": "execute_result",
          "data": {
            "text/plain": [
              "[5, 10, 'chebyshev', 'uniform', 'auto']"
            ]
          },
          "metadata": {
            "tags": []
          },
          "execution_count": 44
        }
      ]
    },
    {
      "cell_type": "code",
      "metadata": {
        "colab": {
          "base_uri": "https://localhost:8080/"
        },
        "id": "4K8FqzrJSxTk",
        "outputId": "45853734-41c8-4297-b895-57921968e93e"
      },
      "source": [
        "knn_max = KNeighborsRegressor(algorithm = 'auto', leaf_size = 10, metric = 'chebyshev', n_neighbors = 5, weights = 'uniform')\r\n",
        "knn_max.fit(X_train_StandardScaler, Y_train_max_temp)"
      ],
      "execution_count": 45,
      "outputs": [
        {
          "output_type": "execute_result",
          "data": {
            "text/plain": [
              "KNeighborsRegressor(algorithm='auto', leaf_size=10, metric='chebyshev',\n",
              "                    metric_params=None, n_jobs=None, n_neighbors=5, p=2,\n",
              "                    weights='uniform')"
            ]
          },
          "metadata": {
            "tags": []
          },
          "execution_count": 45
        }
      ]
    },
    {
      "cell_type": "code",
      "metadata": {
        "colab": {
          "base_uri": "https://localhost:8080/"
        },
        "id": "0IOS9v56TyF0",
        "outputId": "4e517e19-e18c-4a35-cdf5-68ab6d604a1c"
      },
      "source": [
        "#printing the test data side by side with the predicted data\r\n",
        "print(np.concatenate((test_dataset['Maximum Temperature'].values.reshape(len(test_dataset['Maximum Temperature']),1), knn_max.predict(test_data_StandardScaler)[0:61].reshape(len(knn_max.predict(test_data_StandardScaler)[0:61]),1)),1))"
      ],
      "execution_count": 46,
      "outputs": [
        {
          "output_type": "stream",
          "text": [
            "[[17.   17.2 ]\n",
            " [29.5  17.42]\n",
            " [30.4  17.76]\n",
            " [22.8  16.96]\n",
            " [15.8  17.82]\n",
            " [16.6  14.9 ]\n",
            " [16.1  15.02]\n",
            " [19.5  17.2 ]\n",
            " [29.   17.42]\n",
            " [32.   17.76]\n",
            " [28.3  16.96]\n",
            " [25.5  17.82]\n",
            " [20.6  15.32]\n",
            " [21.   15.  ]\n",
            " [32.5  17.28]\n",
            " [24.3  17.3 ]\n",
            " [21.1  16.9 ]\n",
            " [29.5  17.12]\n",
            " [34.4  17.6 ]\n",
            " [20.2  15.64]\n",
            " [25.7  15.94]\n",
            " [28.2  16.04]\n",
            " [18.8  16.94]\n",
            " [20.3  17.02]\n",
            " [30.5  17.04]\n",
            " [19.4  15.96]\n",
            " [36.   15.66]\n",
            " [22.9  15.94]\n",
            " [18.6  16.04]\n",
            " [27.2  16.94]\n",
            " [26.2  17.36]\n",
            " [18.6  17.74]\n",
            " [23.7  16.7 ]\n",
            " [22.9  16.06]\n",
            " [28.4  17.7 ]\n",
            " [20.5  17.02]\n",
            " [17.3  16.22]\n",
            " [17.1  17.36]\n",
            " [21.5  17.74]\n",
            " [17.7  16.7 ]\n",
            " [21.1  16.06]\n",
            " [28.1  17.7 ]\n",
            " [30.2  17.02]\n",
            " [33.7  16.4 ]\n",
            " [33.5  17.36]\n",
            " [24.6  17.74]\n",
            " [25.7  16.7 ]\n",
            " [18.4  16.06]\n",
            " [19.9  17.7 ]\n",
            " [18.9  17.02]\n",
            " [21.5  16.4 ]\n",
            " [20.4  17.36]\n",
            " [19.5  17.62]\n",
            " [18.7  16.7 ]\n",
            " [20.   16.06]\n",
            " [27.4  17.7 ]\n",
            " [31.9  17.02]\n",
            " [17.8  16.22]\n",
            " [21.3  17.36]\n",
            " [21.4  17.74]\n",
            " [21.2  17.96]]\n"
          ],
          "name": "stdout"
        }
      ]
    },
    {
      "cell_type": "markdown",
      "metadata": {
        "id": "yPHicDjSSrbP"
      },
      "source": [
        "###KNN for minimum Temperature prediction"
      ]
    },
    {
      "cell_type": "code",
      "metadata": {
        "id": "qLgnO0ITOQrm"
      },
      "source": [
        "#KNN for minimun temperature\r\n",
        "#declaring parameters for KNN algorithm to determine it performance on the test data\r\n",
        "scores_knn_min_temp = []\r\n",
        "neighbor = []\r\n",
        "leaf_size_ = []\r\n",
        "metric_ = []\r\n",
        "weight = []\r\n",
        "algorithm_ = []\r\n",
        "\r\n",
        "for i in n_neighbors:\r\n",
        "  for j in leaf_size:\r\n",
        "    for k in metric:\r\n",
        "      for l in weights:\r\n",
        "        for m in algorithm:\r\n",
        "          # print(i,j,k,l,m)\r\n",
        "          knn_mini = KNeighborsRegressor(n_neighbors = i, leaf_size = j, metric = k, weights = l, algorithm = m)\r\n",
        "          knn_mini.fit(X_train_StandardScaler, Y_train_min_temp)\r\n",
        "          scores_knn_min_temp.append(mean_squared_error(test_dataset['Minimum temperature'].values, knn_mini.predict(test_data_StandardScaler[0:61])))\r\n",
        "\r\n",
        "          neighbor.append(i)\r\n",
        "          leaf_size_.append(j)\r\n",
        "          metric_.append(k)\r\n",
        "          weight.append(l)\r\n",
        "          algorithm_.append(m)"
      ],
      "execution_count": 47,
      "outputs": []
    },
    {
      "cell_type": "code",
      "metadata": {
        "colab": {
          "base_uri": "https://localhost:8080/"
        },
        "id": "t_tz5S1LRRcZ",
        "outputId": "aa28a173-2383-4159-f3fd-fcc118971f2d"
      },
      "source": [
        "#checking the minimun mean square error of the KNN algorithm used for minimum temperature prediction\r\n",
        "min(scores_knn_min_temp)"
      ],
      "execution_count": 48,
      "outputs": [
        {
          "output_type": "execute_result",
          "data": {
            "text/plain": [
              "23.77878032786885"
            ]
          },
          "metadata": {
            "tags": []
          },
          "execution_count": 48
        }
      ]
    },
    {
      "cell_type": "code",
      "metadata": {
        "colab": {
          "base_uri": "https://localhost:8080/"
        },
        "id": "Q8crFgpfRRMJ",
        "outputId": "4d67fd7d-e609-4a8c-c234-cbb5ed171694"
      },
      "source": [
        "#getting the index of the minimun mean square error of the KNN algorithm from the list\r\n",
        "index_min = np.argmin(scores_knn_min_temp)\r\n",
        "index_min"
      ],
      "execution_count": 49,
      "outputs": [
        {
          "output_type": "execute_result",
          "data": {
            "text/plain": [
              "297"
            ]
          },
          "metadata": {
            "tags": []
          },
          "execution_count": 49
        }
      ]
    },
    {
      "cell_type": "code",
      "metadata": {
        "colab": {
          "base_uri": "https://localhost:8080/"
        },
        "id": "gK3s9AQZRYwL",
        "outputId": "934613eb-c00a-4e07-8c7b-45a8baebef3c"
      },
      "source": [
        "#obtaining the parameters with the minimun mean square error of the KNN algorithm \r\n",
        "min_temp_knn_parameters = [neighbor[297], leaf_size_[297], metric_[297], weight[297], algorithm_[297]]\r\n",
        "min_temp_knn_parameters"
      ],
      "execution_count": 50,
      "outputs": [
        {
          "output_type": "execute_result",
          "data": {
            "text/plain": [
              "[5, 10, 'chebyshev', 'uniform', 'ball_tree']"
            ]
          },
          "metadata": {
            "tags": []
          },
          "execution_count": 50
        }
      ]
    },
    {
      "cell_type": "code",
      "metadata": {
        "colab": {
          "base_uri": "https://localhost:8080/"
        },
        "id": "6cSVRBXWUjYj",
        "outputId": "890c82e4-0bea-4c1b-8825-8a05061f7cf3"
      },
      "source": [
        "knn_min = KNeighborsRegressor(algorithm = 'ball_tree', leaf_size = 10, metric = 'chebyshev', n_neighbors = 5, weights = 'uniform')\r\n",
        "knn_min.fit(X_train_StandardScaler, Y_train_min_temp)"
      ],
      "execution_count": 51,
      "outputs": [
        {
          "output_type": "execute_result",
          "data": {
            "text/plain": [
              "KNeighborsRegressor(algorithm='ball_tree', leaf_size=10, metric='chebyshev',\n",
              "                    metric_params=None, n_jobs=None, n_neighbors=5, p=2,\n",
              "                    weights='uniform')"
            ]
          },
          "metadata": {
            "tags": []
          },
          "execution_count": 51
        }
      ]
    },
    {
      "cell_type": "code",
      "metadata": {
        "colab": {
          "base_uri": "https://localhost:8080/"
        },
        "id": "kQk7BDVlSiVH",
        "outputId": "1da2aec0-eada-4974-a582-4b454f5407c5"
      },
      "source": [
        "#printing the test data side by side with the predicted data for minimum temperature\r\n",
        "print(np.concatenate((test_dataset['Minimum temperature'].values.reshape(len(test_dataset['Minimum temperature']),1), knn_min.predict(test_data_StandardScaler)[0:61].reshape(len(knn_min.predict(test_data_StandardScaler)[0:61]),1)),1))"
      ],
      "execution_count": 52,
      "outputs": [
        {
          "output_type": "stream",
          "text": [
            "[[12.6   9.24]\n",
            " [ 9.6   8.9 ]\n",
            " [12.1   9.22]\n",
            " [21.9   9.64]\n",
            " [11.1   9.02]\n",
            " [ 9.5   8.64]\n",
            " [11.3   7.98]\n",
            " [ 8.4   9.24]\n",
            " [11.3   8.9 ]\n",
            " [16.1   9.22]\n",
            " [22.8   9.64]\n",
            " [19.3   9.02]\n",
            " [15.4  11.16]\n",
            " [13.5   9.12]\n",
            " [12.3   9.18]\n",
            " [18.2   9.88]\n",
            " [11.9   9.2 ]\n",
            " [10.8   9.82]\n",
            " [16.1   9.4 ]\n",
            " [15.6  11.42]\n",
            " [13.3   9.76]\n",
            " [16.1   9.64]\n",
            " [16.6   9.54]\n",
            " [13.5   9.02]\n",
            " [13.2   9.5 ]\n",
            " [15.8   9.9 ]\n",
            " [10.2  10.32]\n",
            " [16.    9.76]\n",
            " [14.4   9.64]\n",
            " [12.1   9.54]\n",
            " [16.8   9.18]\n",
            " [11.9   9.3 ]\n",
            " [10.6  11.1 ]\n",
            " [11.4  10.74]\n",
            " [13.9  10.84]\n",
            " [12.9   9.96]\n",
            " [11.3  10.08]\n",
            " [10.6   9.18]\n",
            " [11.7   9.3 ]\n",
            " [13.1  11.1 ]\n",
            " [ 9.6  10.74]\n",
            " [11.9  10.84]\n",
            " [16.    9.96]\n",
            " [17.7  10.46]\n",
            " [20.4   9.18]\n",
            " [15.8   9.74]\n",
            " [15.5  11.1 ]\n",
            " [12.5  10.74]\n",
            " [12.3  10.84]\n",
            " [ 9.9   9.96]\n",
            " [11.2  10.46]\n",
            " [13.8   9.18]\n",
            " [13.5   9.74]\n",
            " [13.4  11.1 ]\n",
            " [13.6  10.74]\n",
            " [10.2  10.84]\n",
            " [16.2   9.96]\n",
            " [11.5  10.46]\n",
            " [ 9.    9.18]\n",
            " [13.7   9.74]\n",
            " [15.5  10.72]]\n"
          ],
          "name": "stdout"
        }
      ]
    },
    {
      "cell_type": "markdown",
      "metadata": {
        "id": "NfT9uL-xR7pN"
      },
      "source": [
        "##MLP"
      ]
    },
    {
      "cell_type": "code",
      "metadata": {
        "id": "j4FmpM0GSWJU"
      },
      "source": [
        "hidden_layer_sizes = []\r\n",
        "for i in range(1,10):\r\n",
        "  hidden_layer_sizes.append(((i,i,i)))\r\n",
        "\r\n",
        "activation = ['tanh', 'relu', 'logistic', 'identity']\r\n",
        "solver = ['lbfgs', 'sgd', 'adam']\r\n",
        "alpha = [0.0001, 0.05, 0.01, .001]\r\n",
        "learning_rate = ['constant','adaptive', 'invscaling']"
      ],
      "execution_count": 53,
      "outputs": []
    },
    {
      "cell_type": "code",
      "metadata": {
        "colab": {
          "base_uri": "https://localhost:8080/"
        },
        "id": "gCdVqIKrZ5Ir",
        "outputId": "739cfafa-740c-4917-ee3a-f19841b9a9cc"
      },
      "source": [
        "hidden_layer_sizes"
      ],
      "execution_count": 54,
      "outputs": [
        {
          "output_type": "execute_result",
          "data": {
            "text/plain": [
              "[(1, 1, 1),\n",
              " (2, 2, 2),\n",
              " (3, 3, 3),\n",
              " (4, 4, 4),\n",
              " (5, 5, 5),\n",
              " (6, 6, 6),\n",
              " (7, 7, 7),\n",
              " (8, 8, 8),\n",
              " (9, 9, 9)]"
            ]
          },
          "metadata": {
            "tags": []
          },
          "execution_count": 54
        }
      ]
    },
    {
      "cell_type": "markdown",
      "metadata": {
        "id": "WYlnNehnXqoE"
      },
      "source": [
        "##MLP for maximum Temperature"
      ]
    },
    {
      "cell_type": "code",
      "metadata": {
        "id": "G_WJx12bXqM9"
      },
      "source": [
        "#MLP for Maximum Temperature\r\n",
        "\r\n",
        "#declaring parameters for MLP algorithm to determine it performance on the test data\r\n",
        "scores_mlp_max_temp = []\r\n",
        "hidden_layer_sizes_ = []\r\n",
        "solver_ = []\r\n",
        "activation_ = []\r\n",
        "alpha_ = []\r\n",
        "learning_rate_ = []\r\n",
        "\r\n",
        "\r\n",
        "for i in hidden_layer_sizes:\r\n",
        "  for j in activation:\r\n",
        "    for k in solver:\r\n",
        "      for l in alpha:\r\n",
        "        for m in learning_rate:\r\n",
        "\r\n",
        "          mlp_maxi = MLPRegressor(hidden_layer_sizes = i, activation = j, solver = k, alpha = l, learning_rate = m)\r\n",
        "          mlp_maxi.fit(X_train_StandardScaler, Y_train_min_temp)\r\n",
        "          scores_mlp_max_temp.append(mean_squared_error(test_dataset['Maximum Temperature'].values, mlp_maxi.predict(test_data_StandardScaler[0:61])))\r\n",
        "\r\n",
        "          hidden_layer_sizes_.append(i)\r\n",
        "          activation_.append(j)\r\n",
        "          solver_.append(k)\r\n",
        "          alpha_.append(l)\r\n",
        "          learning_rate_.append(m)"
      ],
      "execution_count": 55,
      "outputs": []
    },
    {
      "cell_type": "code",
      "metadata": {
        "colab": {
          "base_uri": "https://localhost:8080/"
        },
        "id": "shAN_NPk2fsS",
        "outputId": "742a2b49-0a1b-4ca6-abaa-c24efb2e3b71"
      },
      "source": [
        "#checking the minimun mean square error of the MLP algorithm used for maximum temperature prediction\r\n",
        "min(scores_mlp_max_temp)"
      ],
      "execution_count": 56,
      "outputs": [
        {
          "output_type": "execute_result",
          "data": {
            "text/plain": [
              "166.4169045536952"
            ]
          },
          "metadata": {
            "tags": []
          },
          "execution_count": 56
        }
      ]
    },
    {
      "cell_type": "code",
      "metadata": {
        "colab": {
          "base_uri": "https://localhost:8080/"
        },
        "id": "qQInCYe42rya",
        "outputId": "7b7728c2-4925-4968-b78e-86edbae3611d"
      },
      "source": [
        "#getting the index of the minimun mean square error of the MLP algorithm from the list\r\n",
        "index_max = np.argmin(scores_mlp_max_temp)\r\n",
        "index_max"
      ],
      "execution_count": 57,
      "outputs": [
        {
          "output_type": "execute_result",
          "data": {
            "text/plain": [
              "1186"
            ]
          },
          "metadata": {
            "tags": []
          },
          "execution_count": 57
        }
      ]
    },
    {
      "cell_type": "code",
      "metadata": {
        "colab": {
          "base_uri": "https://localhost:8080/"
        },
        "id": "bDiomCBgtWpv",
        "outputId": "56a04c67-738f-4fb0-d8ba-c9acd14cc38a"
      },
      "source": [
        "#obtaining the parameters with the minimun mean square error of the mlp algorithm \r\n",
        "max_temp_mlp_parameters = [hidden_layer_sizes_[index_max], activation_[index_max], solver_[index_max], alpha_[index_max], learning_rate_[index_max]]\r\n",
        "max_temp_mlp_parameters"
      ],
      "execution_count": 58,
      "outputs": [
        {
          "output_type": "execute_result",
          "data": {
            "text/plain": [
              "[(9, 9, 9), 'tanh', 'adam', 0.001, 'adaptive']"
            ]
          },
          "metadata": {
            "tags": []
          },
          "execution_count": 58
        }
      ]
    },
    {
      "cell_type": "code",
      "metadata": {
        "colab": {
          "base_uri": "https://localhost:8080/"
        },
        "id": "eq-p5R0CthfY",
        "outputId": "af6b4f96-6740-40d9-ac1d-535743319ad7"
      },
      "source": [
        "mlp_max = MLPRegressor(hidden_layer_sizes = (2, 2, 2), activation = 'relu', solver = 'sgd' , alpha = 0.001, learning_rate = 'invscaling')\r\n",
        "mlp_max.fit(X_train_StandardScaler, Y_train_min_temp)"
      ],
      "execution_count": 59,
      "outputs": [
        {
          "output_type": "execute_result",
          "data": {
            "text/plain": [
              "MLPRegressor(activation='relu', alpha=0.001, batch_size='auto', beta_1=0.9,\n",
              "             beta_2=0.999, early_stopping=False, epsilon=1e-08,\n",
              "             hidden_layer_sizes=(2, 2, 2), learning_rate='invscaling',\n",
              "             learning_rate_init=0.001, max_fun=15000, max_iter=200,\n",
              "             momentum=0.9, n_iter_no_change=10, nesterovs_momentum=True,\n",
              "             power_t=0.5, random_state=None, shuffle=True, solver='sgd',\n",
              "             tol=0.0001, validation_fraction=0.1, verbose=False,\n",
              "             warm_start=False)"
            ]
          },
          "metadata": {
            "tags": []
          },
          "execution_count": 59
        }
      ]
    },
    {
      "cell_type": "code",
      "metadata": {
        "colab": {
          "base_uri": "https://localhost:8080/"
        },
        "id": "dsbYwyxg7RU-",
        "outputId": "1aa15834-d676-4ca3-cb7e-841f4c0b5a02"
      },
      "source": [
        "#printing the test data side by side with the predicted data for maximum temperature\r\n",
        "print(np.concatenate((test_dataset['Maximum Temperature'].values.reshape(len(test_dataset['Maximum Temperature']),1), mlp_max.predict(test_data_StandardScaler)[0:61].reshape(len(mlp_max.predict(test_data_StandardScaler)[0:61]),1)),1))"
      ],
      "execution_count": 60,
      "outputs": [
        {
          "output_type": "stream",
          "text": [
            "[[17.          7.4133913 ]\n",
            " [29.5         9.87434826]\n",
            " [30.4         9.28136362]\n",
            " [22.8         8.69064203]\n",
            " [15.8         8.09992043]\n",
            " [16.6         7.50919884]\n",
            " [16.1         7.16565577]\n",
            " [19.5         7.40137005]\n",
            " [29.          9.73929761]\n",
            " [32.          9.13429173]\n",
            " [28.3         8.54357013]\n",
            " [25.5         7.95284854]\n",
            " [20.6         7.36212694]\n",
            " [21.          7.15363452]\n",
            " [32.5         7.38934881]\n",
            " [24.3         9.60424697]\n",
            " [21.1         8.98721983]\n",
            " [29.5         8.39649824]\n",
            " [34.4         7.80577664]\n",
            " [20.2         7.21505505]\n",
            " [25.7         7.14161327]\n",
            " [28.2         7.37732756]\n",
            " [18.8         9.46919632]\n",
            " [20.3         8.84014794]\n",
            " [30.5         8.24942634]\n",
            " [19.4         7.65870475]\n",
            " [36.          7.06798316]\n",
            " [22.9         7.12959203]\n",
            " [18.6         7.36530631]\n",
            " [27.2         9.33414568]\n",
            " [26.2         8.92862147]\n",
            " [18.6         8.33789987]\n",
            " [23.7         7.74717828]\n",
            " [22.9         7.15645668]\n",
            " [28.4         7.32994731]\n",
            " [20.5         7.56566159]\n",
            " [17.3         9.37227117]\n",
            " [17.1         8.78154957]\n",
            " [21.5         8.19082798]\n",
            " [17.7         7.60010638]\n",
            " [21.1         7.08221178]\n",
            " [28.1         7.31792606]\n",
            " [30.2         7.55364035]\n",
            " [33.7         9.22519927]\n",
            " [33.5         8.63447768]\n",
            " [24.6         8.04375608]\n",
            " [25.7         7.45303449]\n",
            " [18.4         7.07019053]\n",
            " [19.9         7.30590481]\n",
            " [18.9         7.5416191 ]\n",
            " [21.5         9.07812738]\n",
            " [20.4         8.48740579]\n",
            " [19.5         7.89668419]\n",
            " [18.7         7.3059626 ]\n",
            " [20.          7.05816928]\n",
            " [27.4         7.29388357]\n",
            " [31.9         7.52959785]\n",
            " [17.8         8.93105549]\n",
            " [21.3         8.34033389]\n",
            " [21.4         7.7496123 ]\n",
            " [21.2         7.1588907 ]]\n"
          ],
          "name": "stdout"
        }
      ]
    },
    {
      "cell_type": "markdown",
      "metadata": {
        "id": "ph-sozD2Xrro"
      },
      "source": [
        "##MLP for minimum Temperature"
      ]
    },
    {
      "cell_type": "code",
      "metadata": {
        "id": "b9WYa8CLR6-O"
      },
      "source": [
        "#mlp for minimun temperature\r\n",
        "#declaring parameters for MLP algorithm to determine it performance on the test data\r\n",
        "scores_mlp_min_temp = []\r\n",
        "hidden_layer_sizes_ = []\r\n",
        "solver_ = []\r\n",
        "activation_ = []\r\n",
        "alpha_ = []\r\n",
        "learning_rate_ = []\r\n",
        "\r\n",
        "\r\n",
        "for i in hidden_layer_sizes:\r\n",
        "  for j in activation:\r\n",
        "    for k in solver:\r\n",
        "      for l in alpha:\r\n",
        "        for m in learning_rate:\r\n",
        "\r\n",
        "          mlp_mini = MLPRegressor(hidden_layer_sizes = i, activation = j, solver = k, alpha = l, learning_rate = m)\r\n",
        "          mlp_mini.fit(X_train_StandardScaler, Y_train_min_temp)\r\n",
        "          scores_mlp_min_temp.append(mean_squared_error(test_dataset['Minimum temperature'].values, mlp_mini.predict(test_data_StandardScaler[0:61])))\r\n",
        "\r\n",
        "          hidden_layer_sizes_.append(i)\r\n",
        "          activation_.append(j)\r\n",
        "          solver_.append(k)\r\n",
        "          alpha_.append(l)\r\n",
        "          learning_rate_.append(m)"
      ],
      "execution_count": 61,
      "outputs": []
    },
    {
      "cell_type": "code",
      "metadata": {
        "colab": {
          "base_uri": "https://localhost:8080/"
        },
        "id": "DF-0tr_E0M21",
        "outputId": "1625949d-8ab9-43db-fb3b-25d7d6b8575b"
      },
      "source": [
        "#checking the minimun mean square error of the MLP algorithm used for minimum temperature prediction\r\n",
        "min(scores_mlp_min_temp)"
      ],
      "execution_count": 62,
      "outputs": [
        {
          "output_type": "execute_result",
          "data": {
            "text/plain": [
              "11.957084593444305"
            ]
          },
          "metadata": {
            "tags": []
          },
          "execution_count": 62
        }
      ]
    },
    {
      "cell_type": "code",
      "metadata": {
        "colab": {
          "base_uri": "https://localhost:8080/"
        },
        "id": "jsf9vNlb0VN4",
        "outputId": "faf638a0-7003-42ed-d1e7-36687b6ac28a"
      },
      "source": [
        "#getting the index of the minimun mean square error of the MLP algorithm from the list\r\n",
        "index_min = np.argmin(scores_mlp_min_temp)\r\n",
        "index_min"
      ],
      "execution_count": 63,
      "outputs": [
        {
          "output_type": "execute_result",
          "data": {
            "text/plain": [
              "1182"
            ]
          },
          "metadata": {
            "tags": []
          },
          "execution_count": 63
        }
      ]
    },
    {
      "cell_type": "code",
      "metadata": {
        "colab": {
          "base_uri": "https://localhost:8080/"
        },
        "id": "_eoiTeI30dfv",
        "outputId": "84479da7-d637-46e4-f592-112da9e61d7a"
      },
      "source": [
        "#obtaining the parameters with the minimun mean square error of the MLP algorithm \r\n",
        "min_temp_mlp_parameters = [hidden_layer_sizes_[index_min], activation_[index_min], solver_[index_min], alpha_[index_min], learning_rate_[index_min]]\r\n",
        "min_temp_mlp_parameters"
      ],
      "execution_count": 64,
      "outputs": [
        {
          "output_type": "execute_result",
          "data": {
            "text/plain": [
              "[(9, 9, 9), 'tanh', 'adam', 0.01, 'constant']"
            ]
          },
          "metadata": {
            "tags": []
          },
          "execution_count": 64
        }
      ]
    },
    {
      "cell_type": "code",
      "metadata": {
        "colab": {
          "base_uri": "https://localhost:8080/"
        },
        "id": "TROjFKud0wir",
        "outputId": "f385b4d5-27d8-4df2-c2ac-0e675ab5c8a0"
      },
      "source": [
        "mlp_min = MLPRegressor(hidden_layer_sizes = (14, 14, 14), activation = 'tanh', solver = 'adam' , alpha = 0.01, learning_rate = 'invscaling')\r\n",
        "mlp_min.fit(X_train_StandardScaler, Y_train_min_temp)"
      ],
      "execution_count": 65,
      "outputs": [
        {
          "output_type": "execute_result",
          "data": {
            "text/plain": [
              "MLPRegressor(activation='tanh', alpha=0.01, batch_size='auto', beta_1=0.9,\n",
              "             beta_2=0.999, early_stopping=False, epsilon=1e-08,\n",
              "             hidden_layer_sizes=(14, 14, 14), learning_rate='invscaling',\n",
              "             learning_rate_init=0.001, max_fun=15000, max_iter=200,\n",
              "             momentum=0.9, n_iter_no_change=10, nesterovs_momentum=True,\n",
              "             power_t=0.5, random_state=None, shuffle=True, solver='adam',\n",
              "             tol=0.0001, validation_fraction=0.1, verbose=False,\n",
              "             warm_start=False)"
            ]
          },
          "metadata": {
            "tags": []
          },
          "execution_count": 65
        }
      ]
    },
    {
      "cell_type": "code",
      "metadata": {
        "colab": {
          "base_uri": "https://localhost:8080/"
        },
        "id": "30P9F7521Stp",
        "outputId": "1ffc6c53-d878-48b2-cf82-ebd9a70efbdb"
      },
      "source": [
        "#printing the test data side by side with the predicted data for minimum temperature\r\n",
        "print(np.concatenate((test_dataset['Minimum temperature'].values.reshape(len(test_dataset['Minimum temperature']),1), mlp_min.predict(test_data_StandardScaler)[0:61].reshape(len(mlp_min.predict(test_data_StandardScaler)[0:61]),1)),1))"
      ],
      "execution_count": 66,
      "outputs": [
        {
          "output_type": "stream",
          "text": [
            "[[12.6         8.25142525]\n",
            " [ 9.6         8.43105225]\n",
            " [12.1         8.51405043]\n",
            " [21.9         8.55252307]\n",
            " [11.1         8.54657304]\n",
            " [ 9.5         8.49932538]\n",
            " [11.3         8.41630269]\n",
            " [ 8.4         8.30435535]\n",
            " [11.3         8.50002185]\n",
            " [16.1         8.58305945]\n",
            " [22.8         8.62027996]\n",
            " [19.3         8.61205347]\n",
            " [15.4         8.56189765]\n",
            " [13.5         8.47574806]\n",
            " [12.3         8.36081028]\n",
            " [18.2         8.57335329]\n",
            " [11.9         8.65636256]\n",
            " [10.8         8.69217334]\n",
            " [16.1         8.68146366]\n",
            " [15.6         8.62817802]\n",
            " [13.3         8.53868968]\n",
            " [16.1         8.42057609]\n",
            " [16.6         8.65107723]\n",
            " [13.5         8.73393079]\n",
            " [13.2         8.76812077]\n",
            " [15.8         8.75467616]\n",
            " [10.2         8.69800265]\n",
            " [16.          8.60493503]\n",
            " [14.4         8.48343788]\n",
            " [12.1         8.73320568]\n",
            " [16.8         9.28424848]\n",
            " [11.9         9.38081207]\n",
            " [10.6         9.41420492]\n",
            " [11.4         9.38694452]\n",
            " [13.9         9.3058751 ]\n",
            " [12.9         9.18071873]\n",
            " [11.3         9.24693026]\n",
            " [10.6         9.40439066]\n",
            " [11.7         9.49839699]\n",
            " [13.1         9.5270511 ]\n",
            " [ 9.6         9.4935899 ]\n",
            " [11.9         9.40561148]\n",
            " [16.          9.2735186 ]\n",
            " [17.7         9.37223472]\n",
            " [20.4         9.52925987]\n",
            " [15.8         9.6200672 ]\n",
            " [15.5         9.64336913]\n",
            " [12.5         9.60316926]\n",
            " [12.3         9.50783395]\n",
            " [ 9.9         9.36844402]\n",
            " [11.2         9.50266722]\n",
            " [13.8         9.65858199]\n",
            " [13.5         9.74549199]\n",
            " [13.4         9.76280512]\n",
            " [13.6         9.71532963]\n",
            " [10.2         9.61220466]\n",
            " [16.2         9.46517892]\n",
            " [11.5         9.63797576]\n",
            " [ 9.          9.79201673]\n",
            " [13.7         9.8742843 ]\n",
            " [15.5         9.88496038]]\n"
          ],
          "name": "stdout"
        }
      ]
    },
    {
      "cell_type": "markdown",
      "metadata": {
        "id": "nZHVEaYj7snz"
      },
      "source": [
        "##Decision Tree"
      ]
    },
    {
      "cell_type": "markdown",
      "metadata": {
        "id": "n-lUS6X6DnAf"
      },
      "source": [
        "###Maximum Temperature"
      ]
    },
    {
      "cell_type": "code",
      "metadata": {
        "id": "6shHSKhc7xCV"
      },
      "source": [
        "splitter=['best','random']\r\n",
        "criterion = ['mse', 'friedman_mse', 'mae']\r\n",
        "max_depth = [1,2,3,4,5,10,20,30,40]\r\n",
        "max_features =['auto','sqrt','log2'] \r\n",
        "min_samples_split= [2,3,4,5,10,20,30,40]\r\n",
        "random_state= [1,2,3,4,5,6,7,8,9,42]"
      ],
      "execution_count": 67,
      "outputs": []
    },
    {
      "cell_type": "code",
      "metadata": {
        "id": "p-tdgOJ9_va6"
      },
      "source": [
        "#DT for Maximum Temperature\r\n",
        "\r\n",
        "#declaring parameters for DT algorithm to determine it performance on the test data\r\n",
        "scores_dt_max_temp = []\r\n",
        "splitter_ = []\r\n",
        "criterion_ =  []\r\n",
        "max_depth_ = []\r\n",
        "max_features_ = []\r\n",
        "min_samples_split_ = []\r\n",
        "random_state_ = []\r\n",
        "\r\n",
        "\r\n",
        "for i in splitter:\r\n",
        "  for j in criterion:\r\n",
        "    for k in max_depth:\r\n",
        "      for l in max_features:\r\n",
        "        for m in min_samples_split:\r\n",
        "          for n in random_state:\r\n",
        "            dt_maxi = DecisionTreeRegressor(splitter = i, criterion = j, max_depth = k, max_features = l, min_samples_split = m,random_state = n )\r\n",
        "            dt_maxi.fit(X_train_StandardScaler, Y_train_min_temp)\r\n",
        "            scores_dt_max_temp.append(mean_squared_error(test_dataset['Maximum Temperature'].values, dt_maxi.predict(test_data_StandardScaler[0:61])))\r\n",
        "\r\n",
        "            splitter_.append(i)\r\n",
        "            criterion_.append(j)\r\n",
        "            max_depth_.append(k)\r\n",
        "            max_features_.append(l)\r\n",
        "            min_samples_split_.append(m)\r\n",
        "            random_state_.append(n)"
      ],
      "execution_count": 68,
      "outputs": []
    },
    {
      "cell_type": "code",
      "metadata": {
        "colab": {
          "base_uri": "https://localhost:8080/"
        },
        "id": "itj3ALJ4BZMD",
        "outputId": "f2521fce-70f5-4426-b837-9300d2310544"
      },
      "source": [
        "#checking the minimun mean square error of the dt algorithm used for maximum temperature prediction\r\n",
        "min(scores_dt_max_temp)"
      ],
      "execution_count": 69,
      "outputs": [
        {
          "output_type": "execute_result",
          "data": {
            "text/plain": [
              "168.72816673736958"
            ]
          },
          "metadata": {
            "tags": []
          },
          "execution_count": 69
        }
      ]
    },
    {
      "cell_type": "code",
      "metadata": {
        "colab": {
          "base_uri": "https://localhost:8080/"
        },
        "id": "mvwildPrBho0",
        "outputId": "fad914eb-a462-4fa2-bc8a-72848ddddbfb"
      },
      "source": [
        "#getting the index of the minimun mean square error of the dt algorithm from the list\r\n",
        "index_max = np.argmin(scores_dt_max_temp)\r\n",
        "index_max"
      ],
      "execution_count": 70,
      "outputs": [
        {
          "output_type": "execute_result",
          "data": {
            "text/plain": [
              "6804"
            ]
          },
          "metadata": {
            "tags": []
          },
          "execution_count": 70
        }
      ]
    },
    {
      "cell_type": "code",
      "metadata": {
        "colab": {
          "base_uri": "https://localhost:8080/"
        },
        "id": "oym02Lf_B8Ut",
        "outputId": "8aaef801-04c0-4830-ff58-a1f186ffdbbb"
      },
      "source": [
        "#obtaining the parameters with the minimun mean square error of the DT algorithm \r\n",
        "max_temp_dt_parameters = [splitter_[index_max], criterion_[index_max], max_depth_[index_max], max_features_[index_max], min_samples_split_[index_max],random_state_[index_max]]\r\n",
        "max_temp_dt_parameters"
      ],
      "execution_count": 71,
      "outputs": [
        {
          "output_type": "execute_result",
          "data": {
            "text/plain": [
              "['random', 'mse', 2, 'sqrt', 2, 5]"
            ]
          },
          "metadata": {
            "tags": []
          },
          "execution_count": 71
        }
      ]
    },
    {
      "cell_type": "code",
      "metadata": {
        "colab": {
          "base_uri": "https://localhost:8080/"
        },
        "id": "MuiXiZsxB8Uv",
        "outputId": "8ebc6143-78b9-4bd0-b5d5-b60799190395"
      },
      "source": [
        "dt_max = DecisionTreeRegressor(splitter = 'random', criterion = 'mse', max_depth = 2, max_features = 'sqrt', min_samples_split = 2,random_state = 5)\r\n",
        "dt_max.fit(X_train_StandardScaler, Y_train_min_temp)"
      ],
      "execution_count": 144,
      "outputs": [
        {
          "output_type": "execute_result",
          "data": {
            "text/plain": [
              "DecisionTreeRegressor(ccp_alpha=0.0, criterion='mse', max_depth=2,\n",
              "                      max_features='sqrt', max_leaf_nodes=None,\n",
              "                      min_impurity_decrease=0.0, min_impurity_split=None,\n",
              "                      min_samples_leaf=1, min_samples_split=2,\n",
              "                      min_weight_fraction_leaf=0.0, presort='deprecated',\n",
              "                      random_state=5, splitter='random')"
            ]
          },
          "metadata": {
            "tags": []
          },
          "execution_count": 144
        }
      ]
    },
    {
      "cell_type": "code",
      "metadata": {
        "colab": {
          "base_uri": "https://localhost:8080/"
        },
        "id": "YtY_KlUOB8Ux",
        "outputId": "003baea9-9f46-4dde-d4ca-06f4ae0a47d2"
      },
      "source": [
        "#printing the test data side by side with the predicted data for Maximum temperature\r\n",
        "print(np.concatenate((test_dataset['Maximum Temperature'].values.reshape(len(test_dataset['Maximum Temperature']),1), dt_max.predict(test_data_StandardScaler)[0:61].reshape(len(dt_max.predict(test_data_StandardScaler)[0:61]),1)),1))"
      ],
      "execution_count": 145,
      "outputs": [
        {
          "output_type": "stream",
          "text": [
            "[[17.         11.81222057]\n",
            " [29.5        11.81222057]\n",
            " [30.4        11.81222057]\n",
            " [22.8        11.81222057]\n",
            " [15.8        11.81222057]\n",
            " [16.6        11.81222057]\n",
            " [16.1        11.81222057]\n",
            " [19.5        11.81222057]\n",
            " [29.         11.81222057]\n",
            " [32.         11.81222057]\n",
            " [28.3        11.81222057]\n",
            " [25.5        11.81222057]\n",
            " [20.6        11.81222057]\n",
            " [21.         11.81222057]\n",
            " [32.5        11.81222057]\n",
            " [24.3        11.81222057]\n",
            " [21.1        11.81222057]\n",
            " [29.5        11.81222057]\n",
            " [34.4        11.81222057]\n",
            " [20.2        11.81222057]\n",
            " [25.7        11.81222057]\n",
            " [28.2        11.81222057]\n",
            " [18.8        11.81222057]\n",
            " [20.3        11.81222057]\n",
            " [30.5        11.81222057]\n",
            " [19.4        11.81222057]\n",
            " [36.         11.81222057]\n",
            " [22.9        11.81222057]\n",
            " [18.6        11.81222057]\n",
            " [27.2        11.81222057]\n",
            " [26.2        11.81222057]\n",
            " [18.6        11.81222057]\n",
            " [23.7        11.81222057]\n",
            " [22.9        11.81222057]\n",
            " [28.4        11.81222057]\n",
            " [20.5        11.81222057]\n",
            " [17.3        11.81222057]\n",
            " [17.1        11.81222057]\n",
            " [21.5        11.81222057]\n",
            " [17.7        11.81222057]\n",
            " [21.1        11.81222057]\n",
            " [28.1        11.81222057]\n",
            " [30.2        11.81222057]\n",
            " [33.7        11.81222057]\n",
            " [33.5        11.81222057]\n",
            " [24.6        11.81222057]\n",
            " [25.7        11.81222057]\n",
            " [18.4        11.81222057]\n",
            " [19.9        11.81222057]\n",
            " [18.9        11.81222057]\n",
            " [21.5        11.81222057]\n",
            " [20.4        11.81222057]\n",
            " [19.5        11.81222057]\n",
            " [18.7        11.81222057]\n",
            " [20.         11.81222057]\n",
            " [27.4        11.81222057]\n",
            " [31.9        11.81222057]\n",
            " [17.8        11.81222057]\n",
            " [21.3        11.81222057]\n",
            " [21.4        11.81222057]\n",
            " [21.2        11.81222057]]\n"
          ],
          "name": "stdout"
        }
      ]
    },
    {
      "cell_type": "markdown",
      "metadata": {
        "id": "tBqEFx5BDxxz"
      },
      "source": [
        "###Minimum Temperature"
      ]
    },
    {
      "cell_type": "code",
      "metadata": {
        "id": "2wR4qMj7D_5B"
      },
      "source": [
        "#DT for Minimum Temperature\r\n",
        "\r\n",
        "#declaring parameters for DT algorithm to determine it performance on the test data\r\n",
        "scores_dt_min_temp = []\r\n",
        "splitter_ = []\r\n",
        "criterion_ =  []\r\n",
        "max_depth_ = []\r\n",
        "max_features_ = []\r\n",
        "min_samples_split_ = []\r\n",
        "random_state_ = []\r\n",
        "\r\n",
        "\r\n",
        "for i in splitter:\r\n",
        "  for j in criterion:\r\n",
        "    for k in max_depth:\r\n",
        "      for l in max_features:\r\n",
        "        for m in min_samples_split:\r\n",
        "          for n in random_state:\r\n",
        "            dt_mini = DecisionTreeRegressor(splitter = i, criterion = j, max_depth = k, max_features = l, min_samples_split = m,random_state = n )\r\n",
        "            dt_mini.fit(X_train_StandardScaler, Y_train_min_temp)\r\n",
        "            scores_dt_min_temp.append(mean_squared_error(test_dataset['Minimum temperature'].values, dt_mini.predict(test_data_StandardScaler[0:61])))\r\n",
        "\r\n",
        "            splitter_.append(i)\r\n",
        "            criterion_.append(j)\r\n",
        "            max_depth_.append(k)\r\n",
        "            max_features_.append(l)\r\n",
        "            min_samples_split_.append(m)\r\n",
        "            random_state_.append(n)"
      ],
      "execution_count": 74,
      "outputs": []
    },
    {
      "cell_type": "code",
      "metadata": {
        "colab": {
          "base_uri": "https://localhost:8080/"
        },
        "id": "LihNU06BD_5V",
        "outputId": "4cad4a2b-8afe-4079-eb1d-33941924f003"
      },
      "source": [
        "#checking the minimun mean square error of the dt algorithm used for maximum temperature prediction\r\n",
        "min(scores_dt_min_temp)"
      ],
      "execution_count": 75,
      "outputs": [
        {
          "output_type": "execute_result",
          "data": {
            "text/plain": [
              "12.496963981512133"
            ]
          },
          "metadata": {
            "tags": []
          },
          "execution_count": 75
        }
      ]
    },
    {
      "cell_type": "code",
      "metadata": {
        "colab": {
          "base_uri": "https://localhost:8080/"
        },
        "id": "pHEUcSmdD_5X",
        "outputId": "db8e0757-a23b-4e98-c174-c05e00fdf14d"
      },
      "source": [
        "#getting the index of the minimun mean square error of the dt algorithm from the list\r\n",
        "index_min = np.argmin(scores_dt_min_temp)\r\n",
        "index_min"
      ],
      "execution_count": 76,
      "outputs": [
        {
          "output_type": "execute_result",
          "data": {
            "text/plain": [
              "6804"
            ]
          },
          "metadata": {
            "tags": []
          },
          "execution_count": 76
        }
      ]
    },
    {
      "cell_type": "code",
      "metadata": {
        "colab": {
          "base_uri": "https://localhost:8080/"
        },
        "id": "VvqPXedcD_5Y",
        "outputId": "a809b2ae-7585-4d4b-c90d-7db22acfdfa9"
      },
      "source": [
        "#obtaining the parameters with the minimun mean square error of the DT algorithm \r\n",
        "min_temp_dt_parameters = [splitter_[index_min], criterion_[index_min], max_depth_[index_min], max_features_[index_min], min_samples_split_[index_min],random_state_[index_min]]\r\n",
        "min_temp_dt_parameters"
      ],
      "execution_count": 77,
      "outputs": [
        {
          "output_type": "execute_result",
          "data": {
            "text/plain": [
              "['random', 'mse', 2, 'sqrt', 2, 5]"
            ]
          },
          "metadata": {
            "tags": []
          },
          "execution_count": 77
        }
      ]
    },
    {
      "cell_type": "code",
      "metadata": {
        "colab": {
          "base_uri": "https://localhost:8080/"
        },
        "id": "pX5h_DshD_5Y",
        "outputId": "48731b88-2096-4c46-a64d-f20071dcf320"
      },
      "source": [
        "dt_min = DecisionTreeRegressor(splitter = 'random', criterion = 'mse', max_depth = 2, max_features = 'sqrt', min_samples_split = 2,random_state = 5)\r\n",
        "dt_min.fit(X_train_StandardScaler, Y_train_min_temp)"
      ],
      "execution_count": 134,
      "outputs": [
        {
          "output_type": "execute_result",
          "data": {
            "text/plain": [
              "DecisionTreeRegressor(ccp_alpha=0.0, criterion='mse', max_depth=2,\n",
              "                      max_features='sqrt', max_leaf_nodes=None,\n",
              "                      min_impurity_decrease=0.0, min_impurity_split=None,\n",
              "                      min_samples_leaf=1, min_samples_split=2,\n",
              "                      min_weight_fraction_leaf=0.0, presort='deprecated',\n",
              "                      random_state=5, splitter='random')"
            ]
          },
          "metadata": {
            "tags": []
          },
          "execution_count": 134
        }
      ]
    },
    {
      "cell_type": "code",
      "metadata": {
        "colab": {
          "base_uri": "https://localhost:8080/"
        },
        "id": "BHduoFhaD_5Z",
        "outputId": "049e7523-6b46-4cc1-e14d-2e35bc5eb949"
      },
      "source": [
        "#printing the test data side by side with the predicted data for Maximum temperature\r\n",
        "print(np.concatenate((test_dataset['Minimum temperature'].values.reshape(len(test_dataset['Minimum temperature']),1), dt_min.predict(test_data_StandardScaler)[0:61].reshape(len(dt_min.predict(test_data_StandardScaler)[0:61]),1)),1))"
      ],
      "execution_count": 135,
      "outputs": [
        {
          "output_type": "stream",
          "text": [
            "[[12.6        11.81222057]\n",
            " [ 9.6        11.81222057]\n",
            " [12.1        11.81222057]\n",
            " [21.9        11.81222057]\n",
            " [11.1        11.81222057]\n",
            " [ 9.5        11.81222057]\n",
            " [11.3        11.81222057]\n",
            " [ 8.4        11.81222057]\n",
            " [11.3        11.81222057]\n",
            " [16.1        11.81222057]\n",
            " [22.8        11.81222057]\n",
            " [19.3        11.81222057]\n",
            " [15.4        11.81222057]\n",
            " [13.5        11.81222057]\n",
            " [12.3        11.81222057]\n",
            " [18.2        11.81222057]\n",
            " [11.9        11.81222057]\n",
            " [10.8        11.81222057]\n",
            " [16.1        11.81222057]\n",
            " [15.6        11.81222057]\n",
            " [13.3        11.81222057]\n",
            " [16.1        11.81222057]\n",
            " [16.6        11.81222057]\n",
            " [13.5        11.81222057]\n",
            " [13.2        11.81222057]\n",
            " [15.8        11.81222057]\n",
            " [10.2        11.81222057]\n",
            " [16.         11.81222057]\n",
            " [14.4        11.81222057]\n",
            " [12.1        11.81222057]\n",
            " [16.8        11.81222057]\n",
            " [11.9        11.81222057]\n",
            " [10.6        11.81222057]\n",
            " [11.4        11.81222057]\n",
            " [13.9        11.81222057]\n",
            " [12.9        11.81222057]\n",
            " [11.3        11.81222057]\n",
            " [10.6        11.81222057]\n",
            " [11.7        11.81222057]\n",
            " [13.1        11.81222057]\n",
            " [ 9.6        11.81222057]\n",
            " [11.9        11.81222057]\n",
            " [16.         11.81222057]\n",
            " [17.7        11.81222057]\n",
            " [20.4        11.81222057]\n",
            " [15.8        11.81222057]\n",
            " [15.5        11.81222057]\n",
            " [12.5        11.81222057]\n",
            " [12.3        11.81222057]\n",
            " [ 9.9        11.81222057]\n",
            " [11.2        11.81222057]\n",
            " [13.8        11.81222057]\n",
            " [13.5        11.81222057]\n",
            " [13.4        11.81222057]\n",
            " [13.6        11.81222057]\n",
            " [10.2        11.81222057]\n",
            " [16.2        11.81222057]\n",
            " [11.5        11.81222057]\n",
            " [ 9.         11.81222057]\n",
            " [13.7        11.81222057]\n",
            " [15.5        11.81222057]]\n"
          ],
          "name": "stdout"
        }
      ]
    },
    {
      "cell_type": "code",
      "metadata": {
        "id": "xvU5B1_HKV1C"
      },
      "source": [
        ""
      ],
      "execution_count": 79,
      "outputs": []
    },
    {
      "cell_type": "markdown",
      "metadata": {
        "id": "rc4Ll1s1OtwK"
      },
      "source": [
        "##Random Forest"
      ]
    },
    {
      "cell_type": "markdown",
      "metadata": {
        "id": "pGpit3PiOtwm"
      },
      "source": [
        "###RF Maximum Temperature"
      ]
    },
    {
      "cell_type": "code",
      "metadata": {
        "id": "qnHHDd_jOtwm"
      },
      "source": [
        "\r\n",
        "criterion = ['mse', 'friedman_mse', 'mae']\r\n",
        "max_depth = [10,20,30,40]\r\n",
        "max_features =['auto','sqrt','log2'] \r\n",
        "min_samples_split= [10,20,30,40]\r\n",
        "random_state= [1,2,3,42]\r\n",
        "n_estimators =[10,50,100]\r\n",
        "\r\n"
      ],
      "execution_count": 80,
      "outputs": []
    },
    {
      "cell_type": "code",
      "metadata": {
        "id": "_3mscIIoOtwn"
      },
      "source": [
        "#RF for Maximum Temperature\r\n",
        "\r\n",
        "#declaring parameters for RF algorithm to determine it performance on the test data\r\n",
        "scores_rf_max_temp = []\r\n",
        "n_estimators_ = []\r\n",
        "criterion_ =  []\r\n",
        "max_depth_ = []\r\n",
        "max_features_ = []\r\n",
        "min_samples_split_ = []\r\n",
        "random_state_ = []\r\n",
        "\r\n",
        "\r\n",
        "for i in n_estimators:\r\n",
        "  for j in criterion:\r\n",
        "    for k in max_depth:\r\n",
        "      for l in max_features:\r\n",
        "        for m in min_samples_split:\r\n",
        "          for n in random_state:\r\n",
        "            rf_maxi = RandomForestRegressor(n_estimators = i, criterion = j, max_depth = k, max_features = l, min_samples_split = m,random_state = n )\r\n",
        "            rf_maxi.fit(X_train_StandardScaler, Y_train_min_temp)\r\n",
        "            scores_rf_max_temp.append(mean_squared_error(test_dataset['Maximum Temperature'].values, rf_maxi.predict(test_data_StandardScaler[0:61])))\r\n",
        "\r\n",
        "            n_estimators_.append(i)\r\n",
        "            criterion_.append(j)\r\n",
        "            max_depth_.append(k)\r\n",
        "            max_features_.append(l)\r\n",
        "            min_samples_split_.append(m)\r\n",
        "            random_state_.append(n)"
      ],
      "execution_count": 81,
      "outputs": []
    },
    {
      "cell_type": "code",
      "metadata": {
        "colab": {
          "base_uri": "https://localhost:8080/"
        },
        "id": "nUPWbcauOtwn",
        "outputId": "c1c8f657-5157-456a-8c81-e7b9c2336721"
      },
      "source": [
        "#checking the minimun mean square error of the dt algorithm used for maximum temperature prediction\r\n",
        "min(scores_rf_max_temp)"
      ],
      "execution_count": 82,
      "outputs": [
        {
          "output_type": "execute_result",
          "data": {
            "text/plain": [
              "228.01545883121128"
            ]
          },
          "metadata": {
            "tags": []
          },
          "execution_count": 82
        }
      ]
    },
    {
      "cell_type": "code",
      "metadata": {
        "colab": {
          "base_uri": "https://localhost:8080/"
        },
        "id": "u7MSVJ6iOtwo",
        "outputId": "1cabab8c-bbff-4a27-9616-4e8b16c0f0cd"
      },
      "source": [
        "#getting the index of the minimun mean square error of the RF algorithm from the list\r\n",
        "index_max = np.argmin(scores_rf_max_temp)\r\n",
        "index_max"
      ],
      "execution_count": 83,
      "outputs": [
        {
          "output_type": "execute_result",
          "data": {
            "text/plain": [
              "65"
            ]
          },
          "metadata": {
            "tags": []
          },
          "execution_count": 83
        }
      ]
    },
    {
      "cell_type": "code",
      "metadata": {
        "colab": {
          "base_uri": "https://localhost:8080/"
        },
        "id": "TcNXMrfoOtwp",
        "outputId": "c89ebec7-5730-4f48-b8ec-84363f83bf53"
      },
      "source": [
        "#obtaining the parameters with the minimun mean square error of the RF algorithm \r\n",
        "max_temp_rf_parameters = [n_estimators_[index_max], criterion_[index_max], max_depth_[index_max], max_features_[index_max],min_samples_split_[index_max],random_state_[index_max] ]\r\n",
        "max_temp_rf_parameters\r\n"
      ],
      "execution_count": 84,
      "outputs": [
        {
          "output_type": "execute_result",
          "data": {
            "text/plain": [
              "[10, 'mse', 20, 'sqrt', 10, 2]"
            ]
          },
          "metadata": {
            "tags": []
          },
          "execution_count": 84
        }
      ]
    },
    {
      "cell_type": "code",
      "metadata": {
        "colab": {
          "base_uri": "https://localhost:8080/"
        },
        "id": "SIxFyYU1Otwp",
        "outputId": "21c4f500-a535-4af7-8abf-49fac55edade"
      },
      "source": [
        "rf_max = RandomForestRegressor(n_estimators = 10, criterion = 'mse', max_depth = 20, max_features =  'sqrt', min_samples_split = 10,random_state = 2 )\r\n",
        "rf_max.fit(X_train_StandardScaler, Y_train_min_temp)"
      ],
      "execution_count": 88,
      "outputs": [
        {
          "output_type": "execute_result",
          "data": {
            "text/plain": [
              "RandomForestRegressor(bootstrap=True, ccp_alpha=0.0, criterion='mse',\n",
              "                      max_depth=20, max_features='sqrt', max_leaf_nodes=None,\n",
              "                      max_samples=None, min_impurity_decrease=0.0,\n",
              "                      min_impurity_split=None, min_samples_leaf=1,\n",
              "                      min_samples_split=10, min_weight_fraction_leaf=0.0,\n",
              "                      n_estimators=10, n_jobs=None, oob_score=False,\n",
              "                      random_state=2, verbose=0, warm_start=False)"
            ]
          },
          "metadata": {
            "tags": []
          },
          "execution_count": 88
        }
      ]
    },
    {
      "cell_type": "code",
      "metadata": {
        "colab": {
          "base_uri": "https://localhost:8080/"
        },
        "id": "6kQdJRoLOtwq",
        "outputId": "4630755b-e8bd-4f99-8edb-ec98bff08089"
      },
      "source": [
        "#printing the test data side by side with the predicted data for Maximum temperature\r\n",
        "print(np.concatenate((test_dataset['Maximum Temperature'].values.reshape(len(test_dataset['Maximum Temperature']),1), rf_max.predict(test_data_StandardScaler)[0:61].reshape(len(rf_max.predict(test_data_StandardScaler)[0:61]),1)),1))"
      ],
      "execution_count": 141,
      "outputs": [
        {
          "output_type": "stream",
          "text": [
            "[[17.          9.7545321 ]\n",
            " [29.5         8.8941302 ]\n",
            " [30.4         8.53142795]\n",
            " [22.8         8.76217795]\n",
            " [15.8         7.95516135]\n",
            " [16.6         8.92757295]\n",
            " [16.1         9.00849917]\n",
            " [19.5         8.87178589]\n",
            " [29.          8.1866302 ]\n",
            " [32.          8.53142795]\n",
            " [28.3         8.66301128]\n",
            " [25.5         8.10321691]\n",
            " [20.6         9.0756285 ]\n",
            " [21.          9.69250711]\n",
            " [32.5         9.51151605]\n",
            " [24.3         8.08746354]\n",
            " [21.1         9.21116604]\n",
            " [29.5        10.20760835]\n",
            " [34.4        10.03963216]\n",
            " [20.2         9.85305275]\n",
            " [25.7        10.04159802]\n",
            " [28.2         9.86368388]\n",
            " [18.8         9.69581061]\n",
            " [20.3        10.47067208]\n",
            " [30.5        11.02608874]\n",
            " [19.4        10.11430303]\n",
            " [36.          9.77219777]\n",
            " [22.9         9.91823943]\n",
            " [18.6        10.05992319]\n",
            " [27.2         9.8144324 ]\n",
            " [26.2        10.6433663 ]\n",
            " [18.6        10.55574725]\n",
            " [23.7        11.0652381 ]\n",
            " [22.9        10.52557576]\n",
            " [28.4        10.49130973]\n",
            " [20.5         9.04652215]\n",
            " [17.3         9.49232434]\n",
            " [17.1         9.66565368]\n",
            " [21.5         9.90341558]\n",
            " [17.7        10.32745638]\n",
            " [21.1         9.96481568]\n",
            " [28.1        10.00035735]\n",
            " [30.2         9.21860548]\n",
            " [33.7         9.49232434]\n",
            " [33.5         9.07598701]\n",
            " [24.6         9.31374892]\n",
            " [25.7         9.82928971]\n",
            " [18.4        10.37458841]\n",
            " [19.9        10.39446387]\n",
            " [18.9         9.54842629]\n",
            " [21.5         9.49232434]\n",
            " [20.4         9.00495205]\n",
            " [19.5         9.15604729]\n",
            " [18.7         9.72587379]\n",
            " [20.          9.65568149]\n",
            " [27.4         9.49684815]\n",
            " [31.9         9.46528526]\n",
            " [17.8         8.91594156]\n",
            " [21.3         8.49011938]\n",
            " [21.4         9.01109557]\n",
            " [21.2        10.75055911]]\n"
          ],
          "name": "stdout"
        }
      ]
    },
    {
      "cell_type": "code",
      "metadata": {
        "id": "aNWOsKqpOtws"
      },
      "source": [
        "#rf for Minimum Temperature\r\n",
        "\r\n",
        "#declaring parameters for rf algorithm to determine it performance on the test data\r\n",
        "scores_rf_min_temp = []\r\n",
        "n_estimators_ = []\r\n",
        "criterion_ =  []\r\n",
        "max_depth_ = []\r\n",
        "max_features_ = []\r\n",
        "min_samples_split_ = []\r\n",
        "random_state_ = []\r\n",
        "\r\n",
        "\r\n",
        "for i in n_estimators:\r\n",
        "  for j in criterion:\r\n",
        "    for k in max_depth:\r\n",
        "      for l in max_features:\r\n",
        "        for m in min_samples_split:\r\n",
        "          for n in random_state:\r\n",
        "            rf_mini = RandomForestRegressor(n_estimators = i, criterion = j, max_depth = k, max_features = l, min_samples_split = m,random_state = n )\r\n",
        "            rf_mini.fit(X_train_StandardScaler, Y_train_min_temp)\r\n",
        "            scores_rf_min_temp.append(mean_squared_error(test_dataset['Minimum temperature'].values, rf_mini.predict(test_data_StandardScaler[0:61])))\r\n",
        "\r\n",
        "            n_estimators_.append(i)\r\n",
        "            criterion_.append(j)\r\n",
        "            max_depth_.append(k)\r\n",
        "            max_features_.append(l)\r\n",
        "            min_samples_split_.append(m)\r\n",
        "            random_state_.append(n)"
      ],
      "execution_count": 90,
      "outputs": []
    },
    {
      "cell_type": "code",
      "metadata": {
        "colab": {
          "base_uri": "https://localhost:8080/"
        },
        "id": "xT-OMTAAOtws",
        "outputId": "f7788ee8-32fa-47ff-f711-4ca552a0578b"
      },
      "source": [
        "#checking the minimun mean square error of the dt algorithm used for maximum temperature prediction\r\n",
        "min(scores_rf_min_temp)"
      ],
      "execution_count": 91,
      "outputs": [
        {
          "output_type": "execute_result",
          "data": {
            "text/plain": [
              "26.713782690054888"
            ]
          },
          "metadata": {
            "tags": []
          },
          "execution_count": 91
        }
      ]
    },
    {
      "cell_type": "code",
      "metadata": {
        "colab": {
          "base_uri": "https://localhost:8080/"
        },
        "id": "zHC8YS86Otwt",
        "outputId": "fb669b9d-9473-4283-b851-e776de7ce14a"
      },
      "source": [
        "#getting the index of the minimun mean square error of the dt algorithm from the list\r\n",
        "index_min = np.argmin(scores_rf_min_temp)\r\n",
        "index_min"
      ],
      "execution_count": 93,
      "outputs": [
        {
          "output_type": "execute_result",
          "data": {
            "text/plain": [
              "65"
            ]
          },
          "metadata": {
            "tags": []
          },
          "execution_count": 93
        }
      ]
    },
    {
      "cell_type": "code",
      "metadata": {
        "colab": {
          "base_uri": "https://localhost:8080/"
        },
        "id": "GQStxvGeOtwt",
        "outputId": "2315b57b-db73-4a76-84ea-fa8af93e0955"
      },
      "source": [
        "#obtaining the parameters with the minimun mean square error of the KNN algorithm \r\n",
        "min_temp_rf_parameters = [n_estimators_[index_max], criterion_[index_max], max_depth_[index_max], max_features_[index_max],min_samples_split_[index_max],random_state_[index_max] ]\r\n",
        "min_temp_rf_parameters"
      ],
      "execution_count": 94,
      "outputs": [
        {
          "output_type": "execute_result",
          "data": {
            "text/plain": [
              "[10, 'mse', 20, 'sqrt', 10, 2]"
            ]
          },
          "metadata": {
            "tags": []
          },
          "execution_count": 94
        }
      ]
    },
    {
      "cell_type": "code",
      "metadata": {
        "colab": {
          "base_uri": "https://localhost:8080/"
        },
        "id": "zz8xMRn6Otwt",
        "outputId": "270738d5-d089-4ee9-e864-66db7d7bdffa"
      },
      "source": [
        "rf_min =  RandomForestRegressor(n_estimators = 10, criterion = 'mse', max_depth = 20, max_features = 'sqrt', min_samples_split = 10,random_state = 2 )\r\n",
        "rf_min.fit(X_train_StandardScaler, Y_train_min_temp)"
      ],
      "execution_count": 95,
      "outputs": [
        {
          "output_type": "execute_result",
          "data": {
            "text/plain": [
              "RandomForestRegressor(bootstrap=True, ccp_alpha=0.0, criterion='mae',\n",
              "                      max_depth=40, max_features='log2', max_leaf_nodes=None,\n",
              "                      max_samples=None, min_impurity_decrease=0.0,\n",
              "                      min_impurity_split=None, min_samples_leaf=1,\n",
              "                      min_samples_split=40, min_weight_fraction_leaf=0.0,\n",
              "                      n_estimators=100, n_jobs=None, oob_score=False,\n",
              "                      random_state=42, verbose=0, warm_start=False)"
            ]
          },
          "metadata": {
            "tags": []
          },
          "execution_count": 95
        }
      ]
    },
    {
      "cell_type": "code",
      "metadata": {
        "colab": {
          "base_uri": "https://localhost:8080/"
        },
        "id": "QYUvG-KoOtwt",
        "outputId": "6531b780-936b-42bc-c216-573615373640"
      },
      "source": [
        "#printing the test data side by side with the predicted data for Maximum temperature\r\n",
        "print(np.concatenate((test_dataset['Minimum temperature'].values.reshape(len(test_dataset['Minimum temperature']),1), rf_min.predict(test_data_StandardScaler)[0:61].reshape(len(rf_min.predict(test_data_StandardScaler)[0:61]),1)),1))"
      ],
      "execution_count": 138,
      "outputs": [
        {
          "output_type": "stream",
          "text": [
            "[[12.6     8.065 ]\n",
            " [ 9.6     8.163 ]\n",
            " [12.1     8.3655]\n",
            " [21.9     8.529 ]\n",
            " [11.1     7.5035]\n",
            " [ 9.5     7.6645]\n",
            " [11.3     7.569 ]\n",
            " [ 8.4     7.458 ]\n",
            " [11.3     7.646 ]\n",
            " [16.1     7.52  ]\n",
            " [22.8     7.631 ]\n",
            " [19.3     7.273 ]\n",
            " [15.4     7.4705]\n",
            " [13.5     7.6925]\n",
            " [12.3     7.642 ]\n",
            " [18.2     7.834 ]\n",
            " [11.9     7.9665]\n",
            " [10.8     8.1895]\n",
            " [16.1     8.224 ]\n",
            " [15.6     8.491 ]\n",
            " [13.3     8.465 ]\n",
            " [16.1     8.7175]\n",
            " [16.6     8.723 ]\n",
            " [13.5     8.8995]\n",
            " [13.2     8.9995]\n",
            " [15.8     8.7605]\n",
            " [10.2     8.777 ]\n",
            " [16.      8.7665]\n",
            " [14.4     8.7045]\n",
            " [12.1     8.878 ]\n",
            " [16.8     9.355 ]\n",
            " [11.9     9.4905]\n",
            " [10.6     9.4775]\n",
            " [11.4     9.466 ]\n",
            " [13.9     9.747 ]\n",
            " [12.9     9.6825]\n",
            " [11.3     9.566 ]\n",
            " [10.6     9.5515]\n",
            " [11.7     9.5785]\n",
            " [13.1     9.647 ]\n",
            " [ 9.6     9.506 ]\n",
            " [11.9     9.405 ]\n",
            " [16.      9.3655]\n",
            " [17.7     9.3795]\n",
            " [20.4     9.3265]\n",
            " [15.8     9.4405]\n",
            " [15.5     9.544 ]\n",
            " [12.5     9.6575]\n",
            " [12.3     9.54  ]\n",
            " [ 9.9     9.5645]\n",
            " [11.2     9.3445]\n",
            " [13.8     9.2805]\n",
            " [13.5     9.396 ]\n",
            " [13.4     9.479 ]\n",
            " [13.6     9.4855]\n",
            " [10.2     9.4535]\n",
            " [16.2     9.526 ]\n",
            " [11.5     9.297 ]\n",
            " [ 9.      9.1845]\n",
            " [13.7     9.3975]\n",
            " [15.5     9.785 ]]\n"
          ],
          "name": "stdout"
        }
      ]
    },
    {
      "cell_type": "markdown",
      "metadata": {
        "id": "HcvpI7caKWla"
      },
      "source": [
        "##SVR"
      ]
    },
    {
      "cell_type": "markdown",
      "metadata": {
        "id": "rdGCcP2oKWld"
      },
      "source": [
        "###SVR Maximum Temperature"
      ]
    },
    {
      "cell_type": "code",
      "metadata": {
        "id": "q9sGXtxQKWle"
      },
      "source": [
        "kernel =['linear', 'poly', 'rbf']\r\n",
        "gamma = ['auto', 'scale']\r\n",
        "degree = [3,4,5,10]\r\n",
        "C = [2.0,3.0,4.0]"
      ],
      "execution_count": 116,
      "outputs": []
    },
    {
      "cell_type": "code",
      "metadata": {
        "id": "D_OMfhxbKWlf"
      },
      "source": [
        "#SVR for Maximum Temperature\r\n",
        "\r\n",
        "#declaring parameters for SVR algorithm to determine it performance on the test data\r\n",
        "scores_svr_max_temp = []\r\n",
        "kernel_ = []\r\n",
        "gamma_ =  []\r\n",
        "degree_ = []\r\n",
        "C_ = []\r\n",
        "\r\n",
        "\r\n",
        "\r\n",
        "for i in kernel:\r\n",
        "  for j in gamma:\r\n",
        "    for k in degree:\r\n",
        "      for l in C:\r\n",
        "            svr_maxi = SVR(kernel = i, gamma = j, degree = k, C = l )\r\n",
        "            svr_maxi.fit(X_train_StandardScaler, Y_train_min_temp)\r\n",
        "            scores_svr_max_temp.append(mean_squared_error(test_dataset['Maximum Temperature'].values, svr_maxi.predict(test_data_StandardScaler[0:61])))\r\n",
        "\r\n",
        "            kernel_.append(i)\r\n",
        "            gamma_.append(j)\r\n",
        "            degree_.append(k)\r\n",
        "            C_.append(l)"
      ],
      "execution_count": 117,
      "outputs": []
    },
    {
      "cell_type": "code",
      "metadata": {
        "colab": {
          "base_uri": "https://localhost:8080/"
        },
        "id": "R3EeiT9lKWlh",
        "outputId": "7a9d331a-19c6-4cda-d0ce-b5c310357129"
      },
      "source": [
        "#checking the minimun mean square error of the dt algorithm used for maximum temperature prediction\r\n",
        "min(scores_svr_max_temp)"
      ],
      "execution_count": 118,
      "outputs": [
        {
          "output_type": "execute_result",
          "data": {
            "text/plain": [
              "197.35316205396575"
            ]
          },
          "metadata": {
            "tags": []
          },
          "execution_count": 118
        }
      ]
    },
    {
      "cell_type": "code",
      "metadata": {
        "colab": {
          "base_uri": "https://localhost:8080/"
        },
        "id": "P9GDyty5KWll",
        "outputId": "8ab8ab16-6691-476c-fd57-6111a5dc21a3"
      },
      "source": [
        "#getting the index of the minimun mean square error of the dt algorithm from the list\r\n",
        "index_max = np.argmin(scores_svr_max_temp)\r\n",
        "index_max"
      ],
      "execution_count": 119,
      "outputs": [
        {
          "output_type": "execute_result",
          "data": {
            "text/plain": [
              "26"
            ]
          },
          "metadata": {
            "tags": []
          },
          "execution_count": 119
        }
      ]
    },
    {
      "cell_type": "code",
      "metadata": {
        "colab": {
          "base_uri": "https://localhost:8080/"
        },
        "id": "jSMVfeuqKWln",
        "outputId": "13bd52dc-5f53-4bf4-fb9c-7a9f9e715640"
      },
      "source": [
        "#obtaining the parameters with the minimun mean square error of the KNN algorithm \r\n",
        "max_temp_svr_parameters = [kernel_[index_max], gamma_[index_max], degree_[index_max], C_[index_max]]\r\n",
        "max_temp_svr_parameters"
      ],
      "execution_count": 120,
      "outputs": [
        {
          "output_type": "execute_result",
          "data": {
            "text/plain": [
              "['poly', 'auto', 3, 4.0]"
            ]
          },
          "metadata": {
            "tags": []
          },
          "execution_count": 120
        }
      ]
    },
    {
      "cell_type": "code",
      "metadata": {
        "colab": {
          "base_uri": "https://localhost:8080/"
        },
        "id": "99i2UjnmKWlo",
        "outputId": "d76c781e-24da-47db-a6fb-3d82c6b6efff"
      },
      "source": [
        "svr_max = SVR(kernel = 'poly', gamma = 'auto', degree = 3, C = 4)\r\n",
        "svr_max.fit(X_train_StandardScaler, Y_train_min_temp)"
      ],
      "execution_count": 121,
      "outputs": [
        {
          "output_type": "execute_result",
          "data": {
            "text/plain": [
              "SVR(C=4, cache_size=200, coef0=0.0, degree=3, epsilon=0.1, gamma='auto',\n",
              "    kernel='poly', max_iter=-1, shrinking=True, tol=0.001, verbose=False)"
            ]
          },
          "metadata": {
            "tags": []
          },
          "execution_count": 121
        }
      ]
    },
    {
      "cell_type": "code",
      "metadata": {
        "colab": {
          "base_uri": "https://localhost:8080/"
        },
        "id": "Twc7Qd88KWlq",
        "outputId": "96757eba-f3ca-4006-8100-469f30093f99"
      },
      "source": [
        "#printing the test data side by side with the predicted data for Maximum temperature\r\n",
        "print(np.concatenate((test_dataset['Maximum Temperature'].values.reshape(len(test_dataset['Maximum Temperature']),1), svr_max.predict(test_data_StandardScaler)[0:61].reshape(len(svr_max.predict(test_data_StandardScaler)[0:61]),1)),1))"
      ],
      "execution_count": 140,
      "outputs": [
        {
          "output_type": "stream",
          "text": [
            "[[17.         10.23051324]\n",
            " [29.5        10.40065254]\n",
            " [30.4        10.69282371]\n",
            " [22.8        10.92426415]\n",
            " [15.8        11.04446636]\n",
            " [16.6        11.00292284]\n",
            " [16.1        10.74912612]\n",
            " [19.5        10.23256869]\n",
            " [29.         10.35646832]\n",
            " [32.         10.68303356]\n",
            " [28.3        10.93856427]\n",
            " [25.5        11.07255294]\n",
            " [20.6        11.03449209]\n",
            " [21.         10.77387421]\n",
            " [32.5        10.24019183]\n",
            " [24.3        10.31454391]\n",
            " [21.1        10.67607377]\n",
            " [29.5        10.95626528]\n",
            " [34.4        11.10461095]\n",
            " [20.2        11.07060328]\n",
            " [25.7        10.8037348 ]\n",
            " [28.2        10.25349799]\n",
            " [18.8        10.27499467]\n",
            " [20.3        10.67205967]\n",
            " [30.5        10.97748251]\n",
            " [19.4        11.14075571]\n",
            " [36.         11.11137177]\n",
            " [22.9        10.8388232 ]\n",
            " [18.6        10.27260251]\n",
            " [27.2        10.23793591]\n",
            " [26.2        10.57377023]\n",
            " [18.6        10.86207291]\n",
            " [23.7        10.99478747]\n",
            " [22.9        10.92140641]\n",
            " [28.4        10.59142223]\n",
            " [20.5         9.95432745]\n",
            " [17.3        10.15013797]\n",
            " [17.1        10.57983237]\n",
            " [21.5        10.89414233]\n",
            " [17.7        11.04256035]\n",
            " [21.1        10.97457895]\n",
            " [28.1        10.63969063]\n",
            " [30.2         9.9873879 ]\n",
            " [33.7        10.12286816]\n",
            " [33.5        10.58944418]\n",
            " [24.6        10.93033194]\n",
            " [25.7        11.09502397]\n",
            " [18.4        11.03301276]\n",
            " [19.9        10.69379082]\n",
            " [18.9        10.02685067]\n",
            " [21.5        10.09869282]\n",
            " [20.4        10.60272098]\n",
            " [19.5        10.97075709]\n",
            " [18.7        11.15229365]\n",
            " [20.         11.09682316]\n",
            " [27.4        10.75383815]\n",
            " [31.9        10.07283111]\n",
            " [17.8        10.07772728]\n",
            " [21.3        10.61977812]\n",
            " [21.4        11.0155331 ]\n",
            " [21.2        11.21448472]]\n"
          ],
          "name": "stdout"
        }
      ]
    },
    {
      "cell_type": "markdown",
      "metadata": {
        "id": "X6VejBOcKWlr"
      },
      "source": [
        "###SVR Minimum Temperature"
      ]
    },
    {
      "cell_type": "code",
      "metadata": {
        "id": "KEJRELzqKWlt"
      },
      "source": [
        "#svr for Minimum Temperature\r\n",
        "\r\n",
        "#declaring parameters for svr algorithm to determine it performance on the test data\r\n",
        "scores_svr_min_temp = []\r\n",
        "kernel_ = []\r\n",
        "gamma_ =  []\r\n",
        "degree_ = []\r\n",
        "C_ = []\r\n",
        "\r\n",
        "\r\n",
        "for i in kernel:\r\n",
        "  for j in gamma:\r\n",
        "    for k in degree:\r\n",
        "      for l in C:\r\n",
        "            svr_mini =  SVR(kernel = i, gamma = j, degree = k, C = l )\r\n",
        "            svr_mini.fit(X_train_StandardScaler, Y_train_min_temp)\r\n",
        "            scores_svr_min_temp.append(mean_squared_error(test_dataset['Minimum temperature'].values, svr_mini.predict(test_data_StandardScaler[0:61])))\r\n",
        "\r\n",
        "            kernel_.append(i)\r\n",
        "            gamma_.append(j)\r\n",
        "            degree_.append(k)\r\n",
        "            C_.append(l)"
      ],
      "execution_count": 123,
      "outputs": []
    },
    {
      "cell_type": "code",
      "metadata": {
        "colab": {
          "base_uri": "https://localhost:8080/"
        },
        "id": "xIGhs6LGKWlu",
        "outputId": "b3745683-75d5-4a5d-dc43-9033b498e4e0"
      },
      "source": [
        "#checking the minimun mean square error of the dt algorithm used for maximum temperature prediction\r\n",
        "min(scores_svr_min_temp)"
      ],
      "execution_count": 124,
      "outputs": [
        {
          "output_type": "execute_result",
          "data": {
            "text/plain": [
              "17.714977345357404"
            ]
          },
          "metadata": {
            "tags": []
          },
          "execution_count": 124
        }
      ]
    },
    {
      "cell_type": "code",
      "metadata": {
        "colab": {
          "base_uri": "https://localhost:8080/"
        },
        "id": "0rhWidBXKWlv",
        "outputId": "ef00ed2b-3f76-4ea8-89d3-95cf7983a06d"
      },
      "source": [
        "#getting the index of the minimun mean square error of the dt algorithm from the list\r\n",
        "index_min = np.argmin(scores_svr_min_temp)\r\n",
        "index_min"
      ],
      "execution_count": 125,
      "outputs": [
        {
          "output_type": "execute_result",
          "data": {
            "text/plain": [
              "26"
            ]
          },
          "metadata": {
            "tags": []
          },
          "execution_count": 125
        }
      ]
    },
    {
      "cell_type": "code",
      "metadata": {
        "colab": {
          "base_uri": "https://localhost:8080/"
        },
        "id": "_-zM91mfKWlw",
        "outputId": "81d958a1-8e86-4718-b6fc-a866d2a99961"
      },
      "source": [
        "#obtaining the parameters with the minimun mean square error of the KNN algorithm \r\n",
        "min_temp_svr_parameters = [kernel_[index_min], gamma_[index_min], degree_[index_min], C_[index_min]]\r\n",
        "min_temp_svr_parameters"
      ],
      "execution_count": 126,
      "outputs": [
        {
          "output_type": "execute_result",
          "data": {
            "text/plain": [
              "['poly', 'auto', 3, 4.0]"
            ]
          },
          "metadata": {
            "tags": []
          },
          "execution_count": 126
        }
      ]
    },
    {
      "cell_type": "code",
      "metadata": {
        "colab": {
          "base_uri": "https://localhost:8080/"
        },
        "id": "OGiDdCzvKWlw",
        "outputId": "4209ea39-34ce-4091-efd9-7766b69ee7e1"
      },
      "source": [
        "svr_min =  SVR(kernel = 'poly', gamma = 'auto', degree = 3, C = 4)\r\n",
        "svr_min.fit(X_train_StandardScaler, Y_train_min_temp)"
      ],
      "execution_count": 127,
      "outputs": [
        {
          "output_type": "execute_result",
          "data": {
            "text/plain": [
              "SVR(C=4, cache_size=200, coef0=0.0, degree=3, epsilon=0.1, gamma='auto',\n",
              "    kernel='poly', max_iter=-1, shrinking=True, tol=0.001, verbose=False)"
            ]
          },
          "metadata": {
            "tags": []
          },
          "execution_count": 127
        }
      ]
    },
    {
      "cell_type": "code",
      "metadata": {
        "colab": {
          "base_uri": "https://localhost:8080/"
        },
        "id": "bWWF2MtBKWlx",
        "outputId": "d51024bb-b243-4439-87eb-c39183528d37"
      },
      "source": [
        "#printing the test data side by side with the predicted data for Maximum temperature\r\n",
        "print(np.concatenate((test_dataset['Minimum temperature'].values.reshape(len(test_dataset['Minimum temperature']),1), svr_min.predict(test_data_StandardScaler)[0:61].reshape(len(svr_min.predict(test_data_StandardScaler)[0:61]),1)),1))"
      ],
      "execution_count": 139,
      "outputs": [
        {
          "output_type": "stream",
          "text": [
            "[[12.6        10.23051324]\n",
            " [ 9.6        10.40065254]\n",
            " [12.1        10.69282371]\n",
            " [21.9        10.92426415]\n",
            " [11.1        11.04446636]\n",
            " [ 9.5        11.00292284]\n",
            " [11.3        10.74912612]\n",
            " [ 8.4        10.23256869]\n",
            " [11.3        10.35646832]\n",
            " [16.1        10.68303356]\n",
            " [22.8        10.93856427]\n",
            " [19.3        11.07255294]\n",
            " [15.4        11.03449209]\n",
            " [13.5        10.77387421]\n",
            " [12.3        10.24019183]\n",
            " [18.2        10.31454391]\n",
            " [11.9        10.67607377]\n",
            " [10.8        10.95626528]\n",
            " [16.1        11.10461095]\n",
            " [15.6        11.07060328]\n",
            " [13.3        10.8037348 ]\n",
            " [16.1        10.25349799]\n",
            " [16.6        10.27499467]\n",
            " [13.5        10.67205967]\n",
            " [13.2        10.97748251]\n",
            " [15.8        11.14075571]\n",
            " [10.2        11.11137177]\n",
            " [16.         10.8388232 ]\n",
            " [14.4        10.27260251]\n",
            " [12.1        10.23793591]\n",
            " [16.8        10.57377023]\n",
            " [11.9        10.86207291]\n",
            " [10.6        10.99478747]\n",
            " [11.4        10.92140641]\n",
            " [13.9        10.59142223]\n",
            " [12.9         9.95432745]\n",
            " [11.3        10.15013797]\n",
            " [10.6        10.57983237]\n",
            " [11.7        10.89414233]\n",
            " [13.1        11.04256035]\n",
            " [ 9.6        10.97457895]\n",
            " [11.9        10.63969063]\n",
            " [16.          9.9873879 ]\n",
            " [17.7        10.12286816]\n",
            " [20.4        10.58944418]\n",
            " [15.8        10.93033194]\n",
            " [15.5        11.09502397]\n",
            " [12.5        11.03301276]\n",
            " [12.3        10.69379082]\n",
            " [ 9.9        10.02685067]\n",
            " [11.2        10.09869282]\n",
            " [13.8        10.60272098]\n",
            " [13.5        10.97075709]\n",
            " [13.4        11.15229365]\n",
            " [13.6        11.09682316]\n",
            " [10.2        10.75383815]\n",
            " [16.2        10.07283111]\n",
            " [11.5        10.07772728]\n",
            " [ 9.         10.61977812]\n",
            " [13.7        11.0155331 ]\n",
            " [15.5        11.21448472]]\n"
          ],
          "name": "stdout"
        }
      ]
    },
    {
      "cell_type": "code",
      "metadata": {
        "id": "OIvfvR_cnKQ-",
        "colab": {
          "base_uri": "https://localhost:8080/"
        },
        "outputId": "fc607ce0-0f51-47fc-ba04-db94bbe8ae28"
      },
      "source": [
        "#Using Sum of squared residuals to evaluate the performance of the models\n",
        "from sklearn.metrics import r2_score\n",
        "from prettytable import PrettyTable\n",
        "\n",
        "rt = PrettyTable([\"Algorithm\", \"r2 for minimum temperature\",\"r2 for maximum temperature\", \"MSE for minimum temperature\",\"MSE for maximum temperature\",])\n",
        "rt.align[\"Algorithm\"] = \"l\" # Left align city names\n",
        "rt.padding_width = 1 # One space between column edges and contents (default)\n",
        "rt.add_row([\"MLP\",\n",
        "            '{:.2f}'.format(r2_score(test_dataset['Minimum temperature'].values, mlp_min.predict(test_data_StandardScaler[0:61]))),\n",
        "            '{:.2f}'.format(r2_score(test_dataset['Maximum Temperature'].values, mlp_max.predict(test_data_StandardScaler[0:61]))),\n",
        "            '{:.2f}'.format(mean_squared_error(test_dataset['Minimum temperature'].values, mlp_min.predict(test_data_StandardScaler[0:61]))),\n",
        "            '{:.2f}'.format(mean_squared_error(test_dataset['Maximum Temperature'].values, mlp_max.predict(test_data_StandardScaler[0:61])))])\n",
        "\n",
        "rt.add_row([\"Decision Tree\",\n",
        "            '{:.2f}'.format(r2_score(test_dataset['Minimum temperature'].values, dt_min.predict(test_data_StandardScaler[0:61]))),\n",
        "            '{:.2f}'.format(r2_score(test_dataset['Maximum Temperature'].values, dt_max.predict(test_data_StandardScaler[0:61]))),\n",
        "            '{:.2f}'.format(mean_squared_error(test_dataset['Minimum temperature'].values, dt_min.predict(test_data_StandardScaler[0:61]))),\n",
        "            '{:.2f}'.format(mean_squared_error(test_dataset['Maximum Temperature'].values, dt_max.predict(test_data_StandardScaler[0:61])))])\n",
        "\n",
        "rt.add_row([\"KNN\",\n",
        "            '{:.2f}'.format(r2_score(test_dataset['Minimum temperature'].values, knn_min.predict(test_data_StandardScaler[0:61]))),\n",
        "            '{:.2f}'.format(r2_score(test_dataset['Maximum Temperature'].values, knn_max.predict(test_data_StandardScaler[0:61]))),\n",
        "            '{:.2f}'.format(mean_squared_error(test_dataset['Minimum temperature'].values, knn_min.predict(test_data_StandardScaler[0:61]))),\n",
        "            '{:.2f}'.format(mean_squared_error(test_dataset['Maximum Temperature'].values, knn_max.predict(test_data_StandardScaler[0:61])))])\n",
        "\n",
        "rt.add_row([\"Random forest\",\n",
        "            '{:.2f}'.format(r2_score(test_dataset['Minimum temperature'].values, rf_min.predict(test_data_StandardScaler[0:61]))),\n",
        "            '{:.2f}'.format(r2_score(test_dataset['Maximum Temperature'].values, rf_max.predict(test_data_StandardScaler[0:61]))),\n",
        "            '{:.2f}'.format(mean_squared_error(test_dataset['Minimum temperature'].values, rf_min.predict(test_data_StandardScaler[0:61]))),\n",
        "            '{:.2f}'.format(mean_squared_error(test_dataset['Maximum Temperature'].values, rf_max.predict(test_data_StandardScaler[0:61])))])\n",
        "\n",
        "rt.add_row([\"SVM\",\n",
        "            '{:.2f}'.format(r2_score(test_dataset['Minimum temperature'].values, svr_min.predict(test_data_StandardScaler[0:61]))),\n",
        "            '{:.2f}'.format(r2_score(test_dataset['Maximum Temperature'].values, svr_max.predict(test_data_StandardScaler[0:61]))),\n",
        "            '{:.2f}'.format(mean_squared_error(test_dataset['Minimum temperature'].values, svr_min.predict(test_data_StandardScaler[0:61]))),\n",
        "            '{:.2f}'.format(mean_squared_error(test_dataset['Maximum Temperature'].values, svr_max.predict(test_data_StandardScaler[0:61])))])\n",
        "\n",
        "print(rt)"
      ],
      "execution_count": 129,
      "outputs": [
        {
          "output_type": "stream",
          "text": [
            "+---------------+----------------------------+----------------------------+-----------------------------+-----------------------------+\n",
            "| Algorithm     | r2 for minimum temperature | r2 for maximum temperature | MSE for minimum temperature | MSE for maximum temperature |\n",
            "+---------------+----------------------------+----------------------------+-----------------------------+-----------------------------+\n",
            "| MLP           |           -2.25            |           -8.53            |            30.47            |            271.98           |\n",
            "| Decision Tree |           -0.33            |           -4.91            |            12.50            |            168.73           |\n",
            "| KNN           |           -1.54            |           -1.56            |            23.78            |            73.16            |\n",
            "| Random forest |           -2.53            |           -6.99            |            33.06            |            228.02           |\n",
            "| SVM           |           -0.89            |           -5.92            |            17.71            |            197.35           |\n",
            "+---------------+----------------------------+----------------------------+-----------------------------+-----------------------------+\n"
          ],
          "name": "stdout"
        }
      ]
    },
    {
      "cell_type": "code",
      "metadata": {
        "id": "_659pGD8DXdm"
      },
      "source": [
        "dataset_wt_weather_features.to_csv('dataset_with_public_holidays.csv')"
      ],
      "execution_count": 130,
      "outputs": []
    },
    {
      "cell_type": "markdown",
      "metadata": {
        "id": "SRN4_mNkQHHZ"
      },
      "source": [
        "# Daily global solar exposure"
      ]
    },
    {
      "cell_type": "code",
      "metadata": {
        "id": "0PjwUsDbr9qY"
      },
      "source": [
        "Y_train_sun = dataset_wt_weather_features['Daily global solar exposure (MJ/m*m)']\n",
        "# clean\n",
        "Y_train_sun = Y_train_sun.fillna(Y_train_sun.mean())"
      ],
      "execution_count": 131,
      "outputs": []
    },
    {
      "cell_type": "code",
      "metadata": {
        "id": "M4EBGQzpr9qY",
        "colab": {
          "base_uri": "https://localhost:8080/"
        },
        "outputId": "4bc94eba-9737-4e1e-b8bf-23e72e457354"
      },
      "source": [
        "# from sklearn.preprocessing import StandardScaler\n",
        "# scaler = StandardScaler()\n",
        "# X_train_scaled = scaler.fit_transform(X_train) \n",
        "X_train_StandardScaler"
      ],
      "execution_count": 132,
      "outputs": [
        {
          "output_type": "execute_result",
          "data": {
            "text/plain": [
              "array([[-1.44730998e+00, -1.71507061e+00, -1.58631120e+00,\n",
              "        -9.38637205e-04],\n",
              "       [-1.44730998e+00, -1.70542213e+00, -1.58631120e+00,\n",
              "         4.99354993e-01],\n",
              "       [-1.44730998e+00, -1.69577366e+00, -1.58631120e+00,\n",
              "         9.99648624e-01],\n",
              "       ...,\n",
              "       [ 1.53055614e+00,  1.19876862e+00,  1.06833203e+00,\n",
              "        -9.38637205e-04],\n",
              "       [ 1.53055614e+00,  1.20841709e+00,  1.06833203e+00,\n",
              "         4.99354993e-01],\n",
              "       [ 1.53055614e+00,  1.21806557e+00,  1.06833203e+00,\n",
              "         9.99648624e-01]])"
            ]
          },
          "metadata": {
            "tags": []
          },
          "execution_count": 132
        }
      ]
    },
    {
      "cell_type": "code",
      "metadata": {
        "id": "qdb1c8bTr9qZ",
        "colab": {
          "base_uri": "https://localhost:8080/",
          "height": 195
        },
        "outputId": "afcd7fb6-cd5a-4596-e7c8-be65ad2b8928"
      },
      "source": [
        "# test_date\n",
        "# test_date_StandardScaler = scaler.fit_transform(test_date) \n",
        "test_date_StandardScaler"
      ],
      "execution_count": 133,
      "outputs": [
        {
          "output_type": "error",
          "ename": "NameError",
          "evalue": "ignored",
          "traceback": [
            "\u001b[0;31m---------------------------------------------------------------------------\u001b[0m",
            "\u001b[0;31mNameError\u001b[0m                                 Traceback (most recent call last)",
            "\u001b[0;32m<ipython-input-133-b194d023bdbc>\u001b[0m in \u001b[0;36m<module>\u001b[0;34m()\u001b[0m\n\u001b[1;32m      1\u001b[0m \u001b[0;31m# test_date\u001b[0m\u001b[0;34m\u001b[0m\u001b[0;34m\u001b[0m\u001b[0;34m\u001b[0m\u001b[0m\n\u001b[1;32m      2\u001b[0m \u001b[0;31m# test_date_StandardScaler = scaler.fit_transform(test_date)\u001b[0m\u001b[0;34m\u001b[0m\u001b[0;34m\u001b[0m\u001b[0;34m\u001b[0m\u001b[0m\n\u001b[0;32m----> 3\u001b[0;31m \u001b[0mtest_date_StandardScaler\u001b[0m\u001b[0;34m\u001b[0m\u001b[0;34m\u001b[0m\u001b[0m\n\u001b[0m",
            "\u001b[0;31mNameError\u001b[0m: name 'test_date_StandardScaler' is not defined"
          ]
        }
      ]
    },
    {
      "cell_type": "code",
      "metadata": {
        "id": "E3FnBeR4r9qZ"
      },
      "source": [
        "#  ML models\n",
        "mlp_reg_sun = MLPRegressor(random_state=42)\n",
        "dct_sun = DecisionTreeRegressor(splitter='random',  max_depth=36, min_samples_split=140, random_state=42)\n",
        "knn_sun = KNeighborsRegressor(metric = 'manhattan', n_neighbors = 4)\n",
        "rf_sun = RandomForestRegressor(random_state=42)\n",
        "svm_sun = SVR(kernel = 'rbf', gamma = 100, C = 100, degree = 0) #Using Radial-basis function kernel\n"
      ],
      "execution_count": null,
      "outputs": []
    },
    {
      "cell_type": "code",
      "metadata": {
        "id": "nJiUpROur9qZ"
      },
      "source": [
        "mlp_reg_sun.fit(X_train_StandardScaler, Y_train_sun)\n",
        "dct_sun.fit(X_train_StandardScaler, Y_train_sun)\n",
        "knn_sun.fit(X_train_StandardScaler, Y_train_sun)\n",
        "rf_sun.fit(X_train_StandardScaler, Y_train_sun)\n",
        "svm_sun.fit(X_train_StandardScaler, Y_train_sun)"
      ],
      "execution_count": null,
      "outputs": []
    },
    {
      "cell_type": "code",
      "metadata": {
        "id": "ghPWVi02r9qZ"
      },
      "source": [
        "y_pred_sun_mlp = mlp_reg_sun.predict(test_date_StandardScaler)\n",
        "y_pred_sun_dt = dct_sun.predict(test_date_StandardScaler)\n",
        "y_pred_sun_knn = knn_sun.predict(test_date_StandardScaler)\n",
        "y_pred_sun_rf = rf_sun.predict(test_date_StandardScaler)\n",
        "y_pred_sun_svm = svm_sun.predict(test_date_StandardScaler)\n",
        "y_pred_sun_svm"
      ],
      "execution_count": null,
      "outputs": []
    },
    {
      "cell_type": "code",
      "metadata": {
        "id": "6XG2ZrnFr9qa"
      },
      "source": [
        "# from sklearn.metrics import r2_score\n",
        "# from prettytable import PrettyTable\n",
        "\n",
        "rt = PrettyTable([\"Algorithm\", \"r2\", \"MSE\"])\n",
        "rt.align[\"Algorithm\"] = \"l\" # Left align city names\n",
        "rt.padding_width = 1 # One space between column edges and contents (default)\n",
        "rt.add_row([\"MLP\",\n",
        "            '{:.2f}'.format(r2_score(test_dataset['Solar Exposure'].values, y_pred_sun_mlp[0:61])),\n",
        "            '{:.2f}'.format(mean_squared_error(test_dataset['Solar Exposure'].values, y_pred_sun_mlp[0:61]))])\n",
        "\n",
        "rt.add_row([\"Decision Tree\",\n",
        "            '{:.2f}'.format(r2_score(test_dataset['Solar Exposure'].values, y_pred_sun_dt[0:61])),\n",
        "            '{:.2f}'.format(mean_squared_error(test_dataset['Solar Exposure'].values, y_pred_sun_dt[0:61]))])\n",
        "\n",
        "rt.add_row([\"KNN\",\n",
        "            '{:.2f}'.format(r2_score(test_dataset['Solar Exposure'].values, y_pred_sun_knn[0:61])),\n",
        "            '{:.2f}'.format(mean_squared_error(test_dataset['Solar Exposure'].values, y_pred_sun_knn[0:61]))])\n",
        "\n",
        "rt.add_row([\"Random Forest\",\n",
        "            '{:.2f}'.format(r2_score(test_dataset['Solar Exposure'].values, y_pred_sun_rf[0:61])),\n",
        "            '{:.2f}'.format(mean_squared_error(test_dataset['Solar Exposure'].values, y_pred_sun_rf[0:61]))])\n",
        "\n",
        "rt.add_row([\"SVM\",\n",
        "            '{:.2f}'.format(r2_score(test_dataset['Solar Exposure'].values, y_pred_sun_svm[0:61])),\n",
        "            '{:.2f}'.format(mean_squared_error(test_dataset['Solar Exposure'].values, y_pred_sun_svm[0:61]))])\n",
        "\n",
        "print(rt)"
      ],
      "execution_count": null,
      "outputs": []
    },
    {
      "cell_type": "code",
      "metadata": {
        "id": "mgvUzHWqr9qa"
      },
      "source": [
        "scores = []\n",
        "kernel = []\n",
        "gamma = []\n",
        "C = []\n",
        "degree = []\n",
        "\n",
        "kernels = ['linear', 'rbf']\n",
        "gammas = [0.1, 1, 10, 100]\n",
        "Cs = [0.1, 1, 10, 100]\n",
        "degrees = [0, 1, 2, 3, 4, 5, 6]\n",
        "\n",
        "\n",
        "for i in kernels:\n",
        "  for j in gammas:\n",
        "    for k in Cs:\n",
        "        for l in degrees: \n",
        "          print(i,j,k,l)\n",
        "          svm = SVR(kernel=i, gamma=j, C=k, degree=l)\n",
        "          svm.fit(X_train_StandardScaler, Y_train_sun)\n",
        "          scores.append(mean_squared_error(test_dataset['Solar Exposure'].values, svm.predict(test_date_StandardScaler[0:61])))\n",
        "          kernel.append(i)\n",
        "          gamma.append(j)\n",
        "          C.append(k)\n",
        "          degree.append(l)"
      ],
      "execution_count": null,
      "outputs": []
    },
    {
      "cell_type": "code",
      "metadata": {
        "id": "uj5wN-9Fr9qa"
      },
      "source": [
        "min(scores)\n",
        "import numpy as np\n",
        "index = np.argmin(scores)\n",
        "index"
      ],
      "execution_count": null,
      "outputs": []
    },
    {
      "cell_type": "code",
      "metadata": {
        "id": "lqQ8bLSur9qa"
      },
      "source": [
        "p = [kernel[217], gamma[217], C[217], degree[217]]\n",
        "p"
      ],
      "execution_count": null,
      "outputs": []
    }
  ]
}