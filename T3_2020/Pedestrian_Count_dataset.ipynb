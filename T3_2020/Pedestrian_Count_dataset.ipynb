{
  "nbformat": 4,
  "nbformat_minor": 0,
  "metadata": {
    "colab": {
      "name": "Pedestrian_Count_dataset.ipynb",
      "provenance": [],
      "collapsed_sections": [],
      "history_visible": true
    },
    "kernelspec": {
      "display_name": "Python 3",
      "name": "python3",
      "language": "python"
    }
  },
  "cells": [
    {
      "cell_type": "code",
      "metadata": {
        "colab": {
          "base_uri": "https://localhost:8080/"
        },
        "id": "uhXyz3430Vc9",
        "outputId": "378622a4-cf13-407a-b5d8-e1a48a592f92"
      },
      "source": [
        "#!/usr/bin/env python\n",
        "\n",
        "# make sure to install these packages before running:\n",
        "!pip install sodapy"
      ],
      "execution_count": 1,
      "outputs": [
        {
          "output_type": "stream",
          "name": "stdout",
          "text": [
            "Requirement already satisfied: sodapy in /Users/yama/opt/anaconda3/lib/python3.7/site-packages (2.1.0)\n",
            "Requirement already satisfied: requests>=2.20.0 in /Users/yama/opt/anaconda3/lib/python3.7/site-packages (from sodapy) (2.22.0)\n",
            "Requirement already satisfied: urllib3!=1.25.0,!=1.25.1,<1.26,>=1.21.1 in /Users/yama/opt/anaconda3/lib/python3.7/site-packages (from requests>=2.20.0->sodapy) (1.25.8)\n",
            "Requirement already satisfied: chardet<3.1.0,>=3.0.2 in /Users/yama/opt/anaconda3/lib/python3.7/site-packages (from requests>=2.20.0->sodapy) (3.0.4)\n",
            "Requirement already satisfied: idna<2.9,>=2.5 in /Users/yama/opt/anaconda3/lib/python3.7/site-packages (from requests>=2.20.0->sodapy) (2.8)\n",
            "Requirement already satisfied: certifi>=2017.4.17 in /Users/yama/opt/anaconda3/lib/python3.7/site-packages (from requests>=2.20.0->sodapy) (2020.6.20)\n"
          ]
        }
      ]
    },
    {
      "cell_type": "code",
      "metadata": {
        "id": "SAo2mDNQ1B3W"
      },
      "source": [
        "#import the libraries \n",
        "import numpy as np\n",
        "import pandas as pd\n",
        "from pandas import DataFrame as df, Series as se\n",
        "#import the library for the API\n",
        "from sodapy import Socrata\n",
        "\n",
        "#Ignore warnings\n",
        "import warnings\n",
        "warnings.filterwarnings('ignore')"
      ],
      "execution_count": 2,
      "outputs": []
    },
    {
      "cell_type": "code",
      "metadata": {
        "colab": {
          "base_uri": "https://localhost:8080/"
        },
        "id": "8A-hsZ850zRO",
        "outputId": "a90588f1-6af6-4d4f-e461-99b59c29e2d3"
      },
      "source": [
        "# Unauthenticated client only works with public data sets. Note 'None'\n",
        "# in place of application token, and no username or password:\n",
        "client = Socrata(\"data.melbourne.vic.gov.au\", None)\n",
        "\n",
        "\n",
        "#getting the pedestrian count data from city of melbourne website from 2009-05-01 to \n",
        "#2020-10-31\n",
        "results = client.get(\"b2ak-trbp\", limit=3391522)\n",
        "\n",
        "# Convert to pandas DataFrame\n",
        "results_df = pd.DataFrame.from_records(results)\n"
      ],
      "execution_count": 3,
      "outputs": [
        {
          "output_type": "stream",
          "name": "stderr",
          "text": [
            "WARNING:root:Requests made without an app_token will be subject to strict throttling limits.\n"
          ]
        }
      ]
    },
    {
      "cell_type": "code",
      "metadata": {
        "colab": {
          "base_uri": "https://localhost:8080/",
          "height": 407
        },
        "id": "uDKAuzNB1HII",
        "outputId": "b8f46953-05c4-4bfc-c797-9e2849ec89f2"
      },
      "source": [
        "results_df"
      ],
      "execution_count": 4,
      "outputs": [
        {
          "output_type": "execute_result",
          "data": {
            "text/plain": [
              "              id                date_time  year     month mdate       day  \\\n",
              "0        2887628  2019-11-01T17:00:00.000  2019  November     1    Friday   \n",
              "1        2887629  2019-11-01T17:00:00.000  2019  November     1    Friday   \n",
              "2        2887630  2019-11-01T17:00:00.000  2019  November     1    Friday   \n",
              "3        2887631  2019-11-01T17:00:00.000  2019  November     1    Friday   \n",
              "4        2887632  2019-11-01T17:00:00.000  2019  November     1    Friday   \n",
              "...          ...                      ...   ...       ...   ...       ...   \n",
              "3391517  3391518  2020-10-31T23:00:00.000  2020   October    31  Saturday   \n",
              "3391518  3391519  2020-10-31T23:00:00.000  2020   October    31  Saturday   \n",
              "3391519  3391520  2020-10-31T23:00:00.000  2020   October    31  Saturday   \n",
              "3391520  3391521  2020-10-31T23:00:00.000  2020   October    31  Saturday   \n",
              "3391521  3391522  2020-10-31T23:00:00.000  2020   October    31  Saturday   \n",
              "\n",
              "        time sensor_id                          sensor_name hourly_counts  \n",
              "0         17        34                 Flinders St-Spark La           300  \n",
              "1         17        39                         Alfred Place           604  \n",
              "2         17        37                      Lygon St (East)           216  \n",
              "3         17        40         Lonsdale St-Spring St (West)           627  \n",
              "4         17        36                      Queen St (West)           774  \n",
              "...      ...       ...                                  ...           ...  \n",
              "3391517   23        67     Flinders Ln -Degraves St (South)             0  \n",
              "3391518   23        68     Flinders Ln -Degraves St (North)             0  \n",
              "3391519   23        69  Flinders Ln -Degraves St (Crossing)             0  \n",
              "3391520   23        70                  Errol Street (East)             0  \n",
              "3391521   23        71                       Westwood Place            16  \n",
              "\n",
              "[3391522 rows x 10 columns]"
            ],
            "text/html": "<div>\n<style scoped>\n    .dataframe tbody tr th:only-of-type {\n        vertical-align: middle;\n    }\n\n    .dataframe tbody tr th {\n        vertical-align: top;\n    }\n\n    .dataframe thead th {\n        text-align: right;\n    }\n</style>\n<table border=\"1\" class=\"dataframe\">\n  <thead>\n    <tr style=\"text-align: right;\">\n      <th></th>\n      <th>id</th>\n      <th>date_time</th>\n      <th>year</th>\n      <th>month</th>\n      <th>mdate</th>\n      <th>day</th>\n      <th>time</th>\n      <th>sensor_id</th>\n      <th>sensor_name</th>\n      <th>hourly_counts</th>\n    </tr>\n  </thead>\n  <tbody>\n    <tr>\n      <th>0</th>\n      <td>2887628</td>\n      <td>2019-11-01T17:00:00.000</td>\n      <td>2019</td>\n      <td>November</td>\n      <td>1</td>\n      <td>Friday</td>\n      <td>17</td>\n      <td>34</td>\n      <td>Flinders St-Spark La</td>\n      <td>300</td>\n    </tr>\n    <tr>\n      <th>1</th>\n      <td>2887629</td>\n      <td>2019-11-01T17:00:00.000</td>\n      <td>2019</td>\n      <td>November</td>\n      <td>1</td>\n      <td>Friday</td>\n      <td>17</td>\n      <td>39</td>\n      <td>Alfred Place</td>\n      <td>604</td>\n    </tr>\n    <tr>\n      <th>2</th>\n      <td>2887630</td>\n      <td>2019-11-01T17:00:00.000</td>\n      <td>2019</td>\n      <td>November</td>\n      <td>1</td>\n      <td>Friday</td>\n      <td>17</td>\n      <td>37</td>\n      <td>Lygon St (East)</td>\n      <td>216</td>\n    </tr>\n    <tr>\n      <th>3</th>\n      <td>2887631</td>\n      <td>2019-11-01T17:00:00.000</td>\n      <td>2019</td>\n      <td>November</td>\n      <td>1</td>\n      <td>Friday</td>\n      <td>17</td>\n      <td>40</td>\n      <td>Lonsdale St-Spring St (West)</td>\n      <td>627</td>\n    </tr>\n    <tr>\n      <th>4</th>\n      <td>2887632</td>\n      <td>2019-11-01T17:00:00.000</td>\n      <td>2019</td>\n      <td>November</td>\n      <td>1</td>\n      <td>Friday</td>\n      <td>17</td>\n      <td>36</td>\n      <td>Queen St (West)</td>\n      <td>774</td>\n    </tr>\n    <tr>\n      <th>...</th>\n      <td>...</td>\n      <td>...</td>\n      <td>...</td>\n      <td>...</td>\n      <td>...</td>\n      <td>...</td>\n      <td>...</td>\n      <td>...</td>\n      <td>...</td>\n      <td>...</td>\n    </tr>\n    <tr>\n      <th>3391517</th>\n      <td>3391518</td>\n      <td>2020-10-31T23:00:00.000</td>\n      <td>2020</td>\n      <td>October</td>\n      <td>31</td>\n      <td>Saturday</td>\n      <td>23</td>\n      <td>67</td>\n      <td>Flinders Ln -Degraves St (South)</td>\n      <td>0</td>\n    </tr>\n    <tr>\n      <th>3391518</th>\n      <td>3391519</td>\n      <td>2020-10-31T23:00:00.000</td>\n      <td>2020</td>\n      <td>October</td>\n      <td>31</td>\n      <td>Saturday</td>\n      <td>23</td>\n      <td>68</td>\n      <td>Flinders Ln -Degraves St (North)</td>\n      <td>0</td>\n    </tr>\n    <tr>\n      <th>3391519</th>\n      <td>3391520</td>\n      <td>2020-10-31T23:00:00.000</td>\n      <td>2020</td>\n      <td>October</td>\n      <td>31</td>\n      <td>Saturday</td>\n      <td>23</td>\n      <td>69</td>\n      <td>Flinders Ln -Degraves St (Crossing)</td>\n      <td>0</td>\n    </tr>\n    <tr>\n      <th>3391520</th>\n      <td>3391521</td>\n      <td>2020-10-31T23:00:00.000</td>\n      <td>2020</td>\n      <td>October</td>\n      <td>31</td>\n      <td>Saturday</td>\n      <td>23</td>\n      <td>70</td>\n      <td>Errol Street (East)</td>\n      <td>0</td>\n    </tr>\n    <tr>\n      <th>3391521</th>\n      <td>3391522</td>\n      <td>2020-10-31T23:00:00.000</td>\n      <td>2020</td>\n      <td>October</td>\n      <td>31</td>\n      <td>Saturday</td>\n      <td>23</td>\n      <td>71</td>\n      <td>Westwood Place</td>\n      <td>16</td>\n    </tr>\n  </tbody>\n</table>\n<p>3391522 rows × 10 columns</p>\n</div>"
          },
          "metadata": {},
          "execution_count": 4
        }
      ]
    },
    {
      "cell_type": "code",
      "metadata": {
        "colab": {
          "base_uri": "https://localhost:8080/"
        },
        "id": "sg-J7ylnQmq8",
        "outputId": "40c9e44e-5b8e-44c4-a862-d2033cf4389b"
      },
      "source": [
        "#Examining the data types of the features of the dataset  \n",
        "results_df.dtypes"
      ],
      "execution_count": 5,
      "outputs": [
        {
          "output_type": "execute_result",
          "data": {
            "text/plain": [
              "id               object\n",
              "date_time        object\n",
              "year             object\n",
              "month            object\n",
              "mdate            object\n",
              "day              object\n",
              "time             object\n",
              "sensor_id        object\n",
              "sensor_name      object\n",
              "hourly_counts    object\n",
              "dtype: object"
            ]
          },
          "metadata": {},
          "execution_count": 5
        }
      ]
    },
    {
      "cell_type": "code",
      "metadata": {
        "id": "aCqhJ_1-utJd"
      },
      "source": [
        "results_df['date'] = results_df['mdate'] + '-' + results_df['month'] + '-' + results_df['year']\n",
        "results_df.drop(columns=['id',\t'date_time','year',\t'month',\t'mdate',\t'day',\t'time' ], inplace = True)"
      ],
      "execution_count": 6,
      "outputs": []
    },
    {
      "cell_type": "code",
      "metadata": {
        "colab": {
          "base_uri": "https://localhost:8080/",
          "height": 407
        },
        "id": "qM2L2SbQh2TQ",
        "outputId": "ee8e91ac-8f0f-46fc-8904-4d8a803350f9"
      },
      "source": [
        "#converting 'sensor_id' and 'hourly_counts' features from object datatypes to int\n",
        "results_df[['sensor_id','hourly_counts']] = results_df[['sensor_id','hourly_counts']].astype('int')\n",
        "results_df"
      ],
      "execution_count": 7,
      "outputs": [
        {
          "output_type": "execute_result",
          "data": {
            "text/plain": [
              "         sensor_id                          sensor_name  hourly_counts  \\\n",
              "0               34                 Flinders St-Spark La            300   \n",
              "1               39                         Alfred Place            604   \n",
              "2               37                      Lygon St (East)            216   \n",
              "3               40         Lonsdale St-Spring St (West)            627   \n",
              "4               36                      Queen St (West)            774   \n",
              "...            ...                                  ...            ...   \n",
              "3391517         67     Flinders Ln -Degraves St (South)              0   \n",
              "3391518         68     Flinders Ln -Degraves St (North)              0   \n",
              "3391519         69  Flinders Ln -Degraves St (Crossing)              0   \n",
              "3391520         70                  Errol Street (East)              0   \n",
              "3391521         71                       Westwood Place             16   \n",
              "\n",
              "                    date  \n",
              "0        1-November-2019  \n",
              "1        1-November-2019  \n",
              "2        1-November-2019  \n",
              "3        1-November-2019  \n",
              "4        1-November-2019  \n",
              "...                  ...  \n",
              "3391517  31-October-2020  \n",
              "3391518  31-October-2020  \n",
              "3391519  31-October-2020  \n",
              "3391520  31-October-2020  \n",
              "3391521  31-October-2020  \n",
              "\n",
              "[3391522 rows x 4 columns]"
            ],
            "text/html": "<div>\n<style scoped>\n    .dataframe tbody tr th:only-of-type {\n        vertical-align: middle;\n    }\n\n    .dataframe tbody tr th {\n        vertical-align: top;\n    }\n\n    .dataframe thead th {\n        text-align: right;\n    }\n</style>\n<table border=\"1\" class=\"dataframe\">\n  <thead>\n    <tr style=\"text-align: right;\">\n      <th></th>\n      <th>sensor_id</th>\n      <th>sensor_name</th>\n      <th>hourly_counts</th>\n      <th>date</th>\n    </tr>\n  </thead>\n  <tbody>\n    <tr>\n      <th>0</th>\n      <td>34</td>\n      <td>Flinders St-Spark La</td>\n      <td>300</td>\n      <td>1-November-2019</td>\n    </tr>\n    <tr>\n      <th>1</th>\n      <td>39</td>\n      <td>Alfred Place</td>\n      <td>604</td>\n      <td>1-November-2019</td>\n    </tr>\n    <tr>\n      <th>2</th>\n      <td>37</td>\n      <td>Lygon St (East)</td>\n      <td>216</td>\n      <td>1-November-2019</td>\n    </tr>\n    <tr>\n      <th>3</th>\n      <td>40</td>\n      <td>Lonsdale St-Spring St (West)</td>\n      <td>627</td>\n      <td>1-November-2019</td>\n    </tr>\n    <tr>\n      <th>4</th>\n      <td>36</td>\n      <td>Queen St (West)</td>\n      <td>774</td>\n      <td>1-November-2019</td>\n    </tr>\n    <tr>\n      <th>...</th>\n      <td>...</td>\n      <td>...</td>\n      <td>...</td>\n      <td>...</td>\n    </tr>\n    <tr>\n      <th>3391517</th>\n      <td>67</td>\n      <td>Flinders Ln -Degraves St (South)</td>\n      <td>0</td>\n      <td>31-October-2020</td>\n    </tr>\n    <tr>\n      <th>3391518</th>\n      <td>68</td>\n      <td>Flinders Ln -Degraves St (North)</td>\n      <td>0</td>\n      <td>31-October-2020</td>\n    </tr>\n    <tr>\n      <th>3391519</th>\n      <td>69</td>\n      <td>Flinders Ln -Degraves St (Crossing)</td>\n      <td>0</td>\n      <td>31-October-2020</td>\n    </tr>\n    <tr>\n      <th>3391520</th>\n      <td>70</td>\n      <td>Errol Street (East)</td>\n      <td>0</td>\n      <td>31-October-2020</td>\n    </tr>\n    <tr>\n      <th>3391521</th>\n      <td>71</td>\n      <td>Westwood Place</td>\n      <td>16</td>\n      <td>31-October-2020</td>\n    </tr>\n  </tbody>\n</table>\n<p>3391522 rows × 4 columns</p>\n</div>"
          },
          "metadata": {},
          "execution_count": 7
        }
      ]
    },
    {
      "cell_type": "code",
      "metadata": {
        "colab": {
          "base_uri": "https://localhost:8080/"
        },
        "id": "_V_Z-ynAgQNg",
        "outputId": "f0112874-e8d4-4a4b-a858-47db8504b130"
      },
      "source": [
        "#Examining the features after data type conversion\n",
        "results_df.dtypes"
      ],
      "execution_count": 8,
      "outputs": [
        {
          "output_type": "execute_result",
          "data": {
            "text/plain": [
              "sensor_id         int64\n",
              "sensor_name      object\n",
              "hourly_counts     int64\n",
              "date             object\n",
              "dtype: object"
            ]
          },
          "metadata": {},
          "execution_count": 8
        }
      ]
    },
    {
      "cell_type": "code",
      "metadata": {
        "colab": {
          "base_uri": "https://localhost:8080/",
          "height": 407
        },
        "id": "mRhb5BWHkxzi",
        "outputId": "67ef213d-a43d-4f36-ab67-35b352814b29"
      },
      "source": [
        "#converting date_time feature from object datatypes to date\n",
        "results_df['date'] = results_df['date'].astype('datetime64[ns]')\n",
        "results_df"
      ],
      "execution_count": 9,
      "outputs": [
        {
          "output_type": "execute_result",
          "data": {
            "text/plain": [
              "         sensor_id                          sensor_name  hourly_counts  \\\n",
              "0               34                 Flinders St-Spark La            300   \n",
              "1               39                         Alfred Place            604   \n",
              "2               37                      Lygon St (East)            216   \n",
              "3               40         Lonsdale St-Spring St (West)            627   \n",
              "4               36                      Queen St (West)            774   \n",
              "...            ...                                  ...            ...   \n",
              "3391517         67     Flinders Ln -Degraves St (South)              0   \n",
              "3391518         68     Flinders Ln -Degraves St (North)              0   \n",
              "3391519         69  Flinders Ln -Degraves St (Crossing)              0   \n",
              "3391520         70                  Errol Street (East)              0   \n",
              "3391521         71                       Westwood Place             16   \n",
              "\n",
              "              date  \n",
              "0       2019-11-01  \n",
              "1       2019-11-01  \n",
              "2       2019-11-01  \n",
              "3       2019-11-01  \n",
              "4       2019-11-01  \n",
              "...            ...  \n",
              "3391517 2020-10-31  \n",
              "3391518 2020-10-31  \n",
              "3391519 2020-10-31  \n",
              "3391520 2020-10-31  \n",
              "3391521 2020-10-31  \n",
              "\n",
              "[3391522 rows x 4 columns]"
            ],
            "text/html": "<div>\n<style scoped>\n    .dataframe tbody tr th:only-of-type {\n        vertical-align: middle;\n    }\n\n    .dataframe tbody tr th {\n        vertical-align: top;\n    }\n\n    .dataframe thead th {\n        text-align: right;\n    }\n</style>\n<table border=\"1\" class=\"dataframe\">\n  <thead>\n    <tr style=\"text-align: right;\">\n      <th></th>\n      <th>sensor_id</th>\n      <th>sensor_name</th>\n      <th>hourly_counts</th>\n      <th>date</th>\n    </tr>\n  </thead>\n  <tbody>\n    <tr>\n      <th>0</th>\n      <td>34</td>\n      <td>Flinders St-Spark La</td>\n      <td>300</td>\n      <td>2019-11-01</td>\n    </tr>\n    <tr>\n      <th>1</th>\n      <td>39</td>\n      <td>Alfred Place</td>\n      <td>604</td>\n      <td>2019-11-01</td>\n    </tr>\n    <tr>\n      <th>2</th>\n      <td>37</td>\n      <td>Lygon St (East)</td>\n      <td>216</td>\n      <td>2019-11-01</td>\n    </tr>\n    <tr>\n      <th>3</th>\n      <td>40</td>\n      <td>Lonsdale St-Spring St (West)</td>\n      <td>627</td>\n      <td>2019-11-01</td>\n    </tr>\n    <tr>\n      <th>4</th>\n      <td>36</td>\n      <td>Queen St (West)</td>\n      <td>774</td>\n      <td>2019-11-01</td>\n    </tr>\n    <tr>\n      <th>...</th>\n      <td>...</td>\n      <td>...</td>\n      <td>...</td>\n      <td>...</td>\n    </tr>\n    <tr>\n      <th>3391517</th>\n      <td>67</td>\n      <td>Flinders Ln -Degraves St (South)</td>\n      <td>0</td>\n      <td>2020-10-31</td>\n    </tr>\n    <tr>\n      <th>3391518</th>\n      <td>68</td>\n      <td>Flinders Ln -Degraves St (North)</td>\n      <td>0</td>\n      <td>2020-10-31</td>\n    </tr>\n    <tr>\n      <th>3391519</th>\n      <td>69</td>\n      <td>Flinders Ln -Degraves St (Crossing)</td>\n      <td>0</td>\n      <td>2020-10-31</td>\n    </tr>\n    <tr>\n      <th>3391520</th>\n      <td>70</td>\n      <td>Errol Street (East)</td>\n      <td>0</td>\n      <td>2020-10-31</td>\n    </tr>\n    <tr>\n      <th>3391521</th>\n      <td>71</td>\n      <td>Westwood Place</td>\n      <td>16</td>\n      <td>2020-10-31</td>\n    </tr>\n  </tbody>\n</table>\n<p>3391522 rows × 4 columns</p>\n</div>"
          },
          "metadata": {},
          "execution_count": 9
        }
      ]
    },
    {
      "cell_type": "code",
      "metadata": {
        "colab": {
          "base_uri": "https://localhost:8080/"
        },
        "id": "C1bMu0NImwDG",
        "outputId": "c744b9aa-b8a1-4511-de47-78cdb1bb7a36"
      },
      "source": [
        "#Examining the features after data type conversion\n",
        "results_df.dtypes"
      ],
      "execution_count": 10,
      "outputs": [
        {
          "output_type": "execute_result",
          "data": {
            "text/plain": [
              "sensor_id                 int64\n",
              "sensor_name              object\n",
              "hourly_counts             int64\n",
              "date             datetime64[ns]\n",
              "dtype: object"
            ]
          },
          "metadata": {},
          "execution_count": 10
        }
      ]
    },
    {
      "cell_type": "code",
      "metadata": {
        "id": "CrR-Tfy2YbV1"
      },
      "source": [
        "#extracting data from 2015 till date\n",
        "results_df = results_df[results_df['date'] > '2014-12-31']"
      ],
      "execution_count": 11,
      "outputs": []
    },
    {
      "cell_type": "code",
      "metadata": {
        "colab": {
          "base_uri": "https://localhost:8080/",
          "height": 407
        },
        "id": "4rU9RP-sw4jL",
        "outputId": "2696816c-e0f7-4304-a8bc-ef04f92cbd29"
      },
      "source": [
        "results_df"
      ],
      "execution_count": 12,
      "outputs": [
        {
          "output_type": "execute_result",
          "data": {
            "text/plain": [
              "         sensor_id                          sensor_name  hourly_counts  \\\n",
              "0               34                 Flinders St-Spark La            300   \n",
              "1               39                         Alfred Place            604   \n",
              "2               37                      Lygon St (East)            216   \n",
              "3               40         Lonsdale St-Spring St (West)            627   \n",
              "4               36                      Queen St (West)            774   \n",
              "...            ...                                  ...            ...   \n",
              "3391517         67     Flinders Ln -Degraves St (South)              0   \n",
              "3391518         68     Flinders Ln -Degraves St (North)              0   \n",
              "3391519         69  Flinders Ln -Degraves St (Crossing)              0   \n",
              "3391520         70                  Errol Street (East)              0   \n",
              "3391521         71                       Westwood Place             16   \n",
              "\n",
              "              date  \n",
              "0       2019-11-01  \n",
              "1       2019-11-01  \n",
              "2       2019-11-01  \n",
              "3       2019-11-01  \n",
              "4       2019-11-01  \n",
              "...            ...  \n",
              "3391517 2020-10-31  \n",
              "3391518 2020-10-31  \n",
              "3391519 2020-10-31  \n",
              "3391520 2020-10-31  \n",
              "3391521 2020-10-31  \n",
              "\n",
              "[2367574 rows x 4 columns]"
            ],
            "text/html": "<div>\n<style scoped>\n    .dataframe tbody tr th:only-of-type {\n        vertical-align: middle;\n    }\n\n    .dataframe tbody tr th {\n        vertical-align: top;\n    }\n\n    .dataframe thead th {\n        text-align: right;\n    }\n</style>\n<table border=\"1\" class=\"dataframe\">\n  <thead>\n    <tr style=\"text-align: right;\">\n      <th></th>\n      <th>sensor_id</th>\n      <th>sensor_name</th>\n      <th>hourly_counts</th>\n      <th>date</th>\n    </tr>\n  </thead>\n  <tbody>\n    <tr>\n      <th>0</th>\n      <td>34</td>\n      <td>Flinders St-Spark La</td>\n      <td>300</td>\n      <td>2019-11-01</td>\n    </tr>\n    <tr>\n      <th>1</th>\n      <td>39</td>\n      <td>Alfred Place</td>\n      <td>604</td>\n      <td>2019-11-01</td>\n    </tr>\n    <tr>\n      <th>2</th>\n      <td>37</td>\n      <td>Lygon St (East)</td>\n      <td>216</td>\n      <td>2019-11-01</td>\n    </tr>\n    <tr>\n      <th>3</th>\n      <td>40</td>\n      <td>Lonsdale St-Spring St (West)</td>\n      <td>627</td>\n      <td>2019-11-01</td>\n    </tr>\n    <tr>\n      <th>4</th>\n      <td>36</td>\n      <td>Queen St (West)</td>\n      <td>774</td>\n      <td>2019-11-01</td>\n    </tr>\n    <tr>\n      <th>...</th>\n      <td>...</td>\n      <td>...</td>\n      <td>...</td>\n      <td>...</td>\n    </tr>\n    <tr>\n      <th>3391517</th>\n      <td>67</td>\n      <td>Flinders Ln -Degraves St (South)</td>\n      <td>0</td>\n      <td>2020-10-31</td>\n    </tr>\n    <tr>\n      <th>3391518</th>\n      <td>68</td>\n      <td>Flinders Ln -Degraves St (North)</td>\n      <td>0</td>\n      <td>2020-10-31</td>\n    </tr>\n    <tr>\n      <th>3391519</th>\n      <td>69</td>\n      <td>Flinders Ln -Degraves St (Crossing)</td>\n      <td>0</td>\n      <td>2020-10-31</td>\n    </tr>\n    <tr>\n      <th>3391520</th>\n      <td>70</td>\n      <td>Errol Street (East)</td>\n      <td>0</td>\n      <td>2020-10-31</td>\n    </tr>\n    <tr>\n      <th>3391521</th>\n      <td>71</td>\n      <td>Westwood Place</td>\n      <td>16</td>\n      <td>2020-10-31</td>\n    </tr>\n  </tbody>\n</table>\n<p>2367574 rows × 4 columns</p>\n</div>"
          },
          "metadata": {},
          "execution_count": 12
        }
      ]
    },
    {
      "cell_type": "code",
      "metadata": {
        "colab": {
          "base_uri": "https://localhost:8080/",
          "height": 407
        },
        "id": "Aw_DYevvllqD",
        "outputId": "eeb909e4-383a-4afc-e16c-0347533f9edc"
      },
      "source": [
        "#Aggregating hourly pedestrian count for each by sensor-id\n",
        "new_results_df = pd.DataFrame(results_df.groupby(['date', 'sensor_id'])['hourly_counts'].sum())\n",
        "new_results_df = new_results_df.reset_index()\n",
        "new_results_df"
      ],
      "execution_count": 13,
      "outputs": [
        {
          "output_type": "execute_result",
          "data": {
            "text/plain": [
              "            date  sensor_id  hourly_counts\n",
              "0     2015-01-01          2          21217\n",
              "1     2015-01-01          3          32695\n",
              "2     2015-01-01          4          36958\n",
              "3     2015-01-01          5          31224\n",
              "4     2015-01-01          6          20457\n",
              "...          ...        ...            ...\n",
              "98662 2020-10-31         67           4718\n",
              "98663 2020-10-31         68           2447\n",
              "98664 2020-10-31         69           3428\n",
              "98665 2020-10-31         70           3035\n",
              "98666 2020-10-31         71            358\n",
              "\n",
              "[98667 rows x 3 columns]"
            ],
            "text/html": "<div>\n<style scoped>\n    .dataframe tbody tr th:only-of-type {\n        vertical-align: middle;\n    }\n\n    .dataframe tbody tr th {\n        vertical-align: top;\n    }\n\n    .dataframe thead th {\n        text-align: right;\n    }\n</style>\n<table border=\"1\" class=\"dataframe\">\n  <thead>\n    <tr style=\"text-align: right;\">\n      <th></th>\n      <th>date</th>\n      <th>sensor_id</th>\n      <th>hourly_counts</th>\n    </tr>\n  </thead>\n  <tbody>\n    <tr>\n      <th>0</th>\n      <td>2015-01-01</td>\n      <td>2</td>\n      <td>21217</td>\n    </tr>\n    <tr>\n      <th>1</th>\n      <td>2015-01-01</td>\n      <td>3</td>\n      <td>32695</td>\n    </tr>\n    <tr>\n      <th>2</th>\n      <td>2015-01-01</td>\n      <td>4</td>\n      <td>36958</td>\n    </tr>\n    <tr>\n      <th>3</th>\n      <td>2015-01-01</td>\n      <td>5</td>\n      <td>31224</td>\n    </tr>\n    <tr>\n      <th>4</th>\n      <td>2015-01-01</td>\n      <td>6</td>\n      <td>20457</td>\n    </tr>\n    <tr>\n      <th>...</th>\n      <td>...</td>\n      <td>...</td>\n      <td>...</td>\n    </tr>\n    <tr>\n      <th>98662</th>\n      <td>2020-10-31</td>\n      <td>67</td>\n      <td>4718</td>\n    </tr>\n    <tr>\n      <th>98663</th>\n      <td>2020-10-31</td>\n      <td>68</td>\n      <td>2447</td>\n    </tr>\n    <tr>\n      <th>98664</th>\n      <td>2020-10-31</td>\n      <td>69</td>\n      <td>3428</td>\n    </tr>\n    <tr>\n      <th>98665</th>\n      <td>2020-10-31</td>\n      <td>70</td>\n      <td>3035</td>\n    </tr>\n    <tr>\n      <th>98666</th>\n      <td>2020-10-31</td>\n      <td>71</td>\n      <td>358</td>\n    </tr>\n  </tbody>\n</table>\n<p>98667 rows × 3 columns</p>\n</div>"
          },
          "metadata": {},
          "execution_count": 13
        }
      ]
    },
    {
      "cell_type": "code",
      "metadata": {
        "id": "ccso3QE-Wt7P",
        "colab": {
          "base_uri": "https://localhost:8080/",
          "height": 407
        },
        "outputId": "572a482d-57d5-4ed5-aa89-3dec381e55db"
      },
      "source": [
        "#renaming the hourly_count column\n",
        "new_results_df = new_results_df.rename(columns={\"hourly_counts\": \"Total_Pedestrian_Count\"})\n",
        "new_results_df"
      ],
      "execution_count": 14,
      "outputs": [
        {
          "output_type": "execute_result",
          "data": {
            "text/plain": [
              "            date  sensor_id  Total_Pedestrian_Count\n",
              "0     2015-01-01          2                   21217\n",
              "1     2015-01-01          3                   32695\n",
              "2     2015-01-01          4                   36958\n",
              "3     2015-01-01          5                   31224\n",
              "4     2015-01-01          6                   20457\n",
              "...          ...        ...                     ...\n",
              "98662 2020-10-31         67                    4718\n",
              "98663 2020-10-31         68                    2447\n",
              "98664 2020-10-31         69                    3428\n",
              "98665 2020-10-31         70                    3035\n",
              "98666 2020-10-31         71                     358\n",
              "\n",
              "[98667 rows x 3 columns]"
            ],
            "text/html": "<div>\n<style scoped>\n    .dataframe tbody tr th:only-of-type {\n        vertical-align: middle;\n    }\n\n    .dataframe tbody tr th {\n        vertical-align: top;\n    }\n\n    .dataframe thead th {\n        text-align: right;\n    }\n</style>\n<table border=\"1\" class=\"dataframe\">\n  <thead>\n    <tr style=\"text-align: right;\">\n      <th></th>\n      <th>date</th>\n      <th>sensor_id</th>\n      <th>Total_Pedestrian_Count</th>\n    </tr>\n  </thead>\n  <tbody>\n    <tr>\n      <th>0</th>\n      <td>2015-01-01</td>\n      <td>2</td>\n      <td>21217</td>\n    </tr>\n    <tr>\n      <th>1</th>\n      <td>2015-01-01</td>\n      <td>3</td>\n      <td>32695</td>\n    </tr>\n    <tr>\n      <th>2</th>\n      <td>2015-01-01</td>\n      <td>4</td>\n      <td>36958</td>\n    </tr>\n    <tr>\n      <th>3</th>\n      <td>2015-01-01</td>\n      <td>5</td>\n      <td>31224</td>\n    </tr>\n    <tr>\n      <th>4</th>\n      <td>2015-01-01</td>\n      <td>6</td>\n      <td>20457</td>\n    </tr>\n    <tr>\n      <th>...</th>\n      <td>...</td>\n      <td>...</td>\n      <td>...</td>\n    </tr>\n    <tr>\n      <th>98662</th>\n      <td>2020-10-31</td>\n      <td>67</td>\n      <td>4718</td>\n    </tr>\n    <tr>\n      <th>98663</th>\n      <td>2020-10-31</td>\n      <td>68</td>\n      <td>2447</td>\n    </tr>\n    <tr>\n      <th>98664</th>\n      <td>2020-10-31</td>\n      <td>69</td>\n      <td>3428</td>\n    </tr>\n    <tr>\n      <th>98665</th>\n      <td>2020-10-31</td>\n      <td>70</td>\n      <td>3035</td>\n    </tr>\n    <tr>\n      <th>98666</th>\n      <td>2020-10-31</td>\n      <td>71</td>\n      <td>358</td>\n    </tr>\n  </tbody>\n</table>\n<p>98667 rows × 3 columns</p>\n</div>"
          },
          "metadata": {},
          "execution_count": 14
        }
      ]
    },
    {
      "cell_type": "code",
      "metadata": {
        "colab": {
          "base_uri": "https://localhost:8080/",
          "height": 407
        },
        "id": "s-GzBFWlVKXi",
        "outputId": "9d9d704d-ccdc-4bee-ac42-1b3390d1b2a2"
      },
      "source": [
        "#Aggregating hourly pedestrian count for each day\r\n",
        "new_results_df_per_day = pd.DataFrame(new_results_df.groupby(['date'])['Total_Pedestrian_Count'].sum())\r\n",
        "new_results_df_per_day = new_results_df_per_day.reset_index()\r\n",
        "new_results_df_per_day = new_results_df_per_day.rename(columns={\"Total_Pedestrian_Count\": \"Total_Pedestrian_Count_per_day\"})\r\n",
        "new_results_df_per_day"
      ],
      "execution_count": 15,
      "outputs": [
        {
          "output_type": "execute_result",
          "data": {
            "text/plain": [
              "           date  Total_Pedestrian_Count_per_day\n",
              "0    2015-01-01                          471563\n",
              "1    2015-01-02                          389048\n",
              "2    2015-01-03                          291761\n",
              "3    2015-01-04                          382364\n",
              "4    2015-01-05                          487220\n",
              "...         ...                             ...\n",
              "2126 2020-10-27                          177267\n",
              "2127 2020-10-28                          311278\n",
              "2128 2020-10-29                          263334\n",
              "2129 2020-10-30                          313225\n",
              "2130 2020-10-31                          370181\n",
              "\n",
              "[2131 rows x 2 columns]"
            ],
            "text/html": "<div>\n<style scoped>\n    .dataframe tbody tr th:only-of-type {\n        vertical-align: middle;\n    }\n\n    .dataframe tbody tr th {\n        vertical-align: top;\n    }\n\n    .dataframe thead th {\n        text-align: right;\n    }\n</style>\n<table border=\"1\" class=\"dataframe\">\n  <thead>\n    <tr style=\"text-align: right;\">\n      <th></th>\n      <th>date</th>\n      <th>Total_Pedestrian_Count_per_day</th>\n    </tr>\n  </thead>\n  <tbody>\n    <tr>\n      <th>0</th>\n      <td>2015-01-01</td>\n      <td>471563</td>\n    </tr>\n    <tr>\n      <th>1</th>\n      <td>2015-01-02</td>\n      <td>389048</td>\n    </tr>\n    <tr>\n      <th>2</th>\n      <td>2015-01-03</td>\n      <td>291761</td>\n    </tr>\n    <tr>\n      <th>3</th>\n      <td>2015-01-04</td>\n      <td>382364</td>\n    </tr>\n    <tr>\n      <th>4</th>\n      <td>2015-01-05</td>\n      <td>487220</td>\n    </tr>\n    <tr>\n      <th>...</th>\n      <td>...</td>\n      <td>...</td>\n    </tr>\n    <tr>\n      <th>2126</th>\n      <td>2020-10-27</td>\n      <td>177267</td>\n    </tr>\n    <tr>\n      <th>2127</th>\n      <td>2020-10-28</td>\n      <td>311278</td>\n    </tr>\n    <tr>\n      <th>2128</th>\n      <td>2020-10-29</td>\n      <td>263334</td>\n    </tr>\n    <tr>\n      <th>2129</th>\n      <td>2020-10-30</td>\n      <td>313225</td>\n    </tr>\n    <tr>\n      <th>2130</th>\n      <td>2020-10-31</td>\n      <td>370181</td>\n    </tr>\n  </tbody>\n</table>\n<p>2131 rows × 2 columns</p>\n</div>"
          },
          "metadata": {},
          "execution_count": 15
        }
      ]
    },
    {
      "cell_type": "code",
      "metadata": {
        "colab": {
          "base_uri": "https://localhost:8080/"
        },
        "id": "Rt_YKzhIYwdE",
        "outputId": "1a7d250f-090e-4910-9c34-a2b37cedb7c1"
      },
      "source": [
        "# Loading the weather dataset \r\n",
        "dataset = pd.read_csv('export_df.csv') #export_df_csv as created by Hung son on Trello card https://trello.com/c/7dcc09P9\r\n",
        "#converting date_time feature from object datatypes to date\r\n",
        "dataset['date'] = dataset['date'].astype('datetime64[ns]')\r\n",
        "\r\n",
        "dataset.dtypes"
      ],
      "execution_count": 16,
      "outputs": [
        {
          "output_type": "execute_result",
          "data": {
            "text/plain": [
              "date                                    datetime64[ns]\n",
              "Rainfall amount (millimetres)                  float64\n",
              "Minimum temperature (Degree C)                 float64\n",
              "Maximum temperature (Degree C)                 float64\n",
              "Daily global solar exposure (MJ/m*m)           float64\n",
              "dtype: object"
            ]
          },
          "metadata": {},
          "execution_count": 16
        }
      ]
    },
    {
      "cell_type": "code",
      "metadata": {
        "colab": {
          "base_uri": "https://localhost:8080/"
        },
        "id": "KnN6OgT__1zJ",
        "outputId": "0a544e2a-79b6-432c-e7da-7d1d89e98e6a"
      },
      "source": [
        "dataset.isna().sum()"
      ],
      "execution_count": 17,
      "outputs": [
        {
          "output_type": "execute_result",
          "data": {
            "text/plain": [
              "date                                    0\n",
              "Rainfall amount (millimetres)           8\n",
              "Minimum temperature (Degree C)          0\n",
              "Maximum temperature (Degree C)          0\n",
              "Daily global solar exposure (MJ/m*m)    1\n",
              "dtype: int64"
            ]
          },
          "metadata": {},
          "execution_count": 17
        }
      ]
    },
    {
      "cell_type": "code",
      "metadata": {
        "colab": {
          "base_uri": "https://localhost:8080/",
          "height": 590
        },
        "id": "Mvdvpg2sfeXS",
        "outputId": "57c5985c-cb7f-4f9c-8337-4e8fe0d71267"
      },
      "source": [
        "dataset_wt_weather_features = dataset.merge(new_results_df_per_day, left_on='date', right_on='date')\r\n",
        "\r\n",
        "dataset_wt_weather_features"
      ],
      "execution_count": 18,
      "outputs": [
        {
          "output_type": "execute_result",
          "data": {
            "text/plain": [
              "           date  Rainfall amount (millimetres)  \\\n",
              "0    2015-01-01                            0.0   \n",
              "1    2015-01-02                            0.0   \n",
              "2    2015-01-03                            0.0   \n",
              "3    2015-01-04                            4.6   \n",
              "4    2015-01-05                            0.0   \n",
              "...         ...                            ...   \n",
              "2126 2020-10-27                            0.0   \n",
              "2127 2020-10-28                            0.0   \n",
              "2128 2020-10-29                            0.0   \n",
              "2129 2020-10-30                            0.0   \n",
              "2130 2020-10-31                            0.0   \n",
              "\n",
              "      Minimum temperature (Degree C)  Maximum temperature (Degree C)  \\\n",
              "0                               13.3                            26.9   \n",
              "1                               15.4                            38.8   \n",
              "2                               20.0                            38.2   \n",
              "3                               16.3                            21.4   \n",
              "4                               15.0                            22.0   \n",
              "...                              ...                             ...   \n",
              "2126                            11.1                            19.6   \n",
              "2127                             9.5                            20.9   \n",
              "2128                            11.2                            24.3   \n",
              "2129                            12.9                            18.6   \n",
              "2130                            14.2                            16.8   \n",
              "\n",
              "      Daily global solar exposure (MJ/m*m)  Total_Pedestrian_Count_per_day  \n",
              "0                                     23.6                          471563  \n",
              "1                                     26.8                          389048  \n",
              "2                                     26.5                          291761  \n",
              "3                                     25.2                          382364  \n",
              "4                                     30.7                          487220  \n",
              "...                                    ...                             ...  \n",
              "2126                                  20.1                          177267  \n",
              "2127                                  26.7                          311278  \n",
              "2128                                  17.1                          263334  \n",
              "2129                                  21.0                          313225  \n",
              "2130                                  10.0                          370181  \n",
              "\n",
              "[2131 rows x 6 columns]"
            ],
            "text/html": "<div>\n<style scoped>\n    .dataframe tbody tr th:only-of-type {\n        vertical-align: middle;\n    }\n\n    .dataframe tbody tr th {\n        vertical-align: top;\n    }\n\n    .dataframe thead th {\n        text-align: right;\n    }\n</style>\n<table border=\"1\" class=\"dataframe\">\n  <thead>\n    <tr style=\"text-align: right;\">\n      <th></th>\n      <th>date</th>\n      <th>Rainfall amount (millimetres)</th>\n      <th>Minimum temperature (Degree C)</th>\n      <th>Maximum temperature (Degree C)</th>\n      <th>Daily global solar exposure (MJ/m*m)</th>\n      <th>Total_Pedestrian_Count_per_day</th>\n    </tr>\n  </thead>\n  <tbody>\n    <tr>\n      <th>0</th>\n      <td>2015-01-01</td>\n      <td>0.0</td>\n      <td>13.3</td>\n      <td>26.9</td>\n      <td>23.6</td>\n      <td>471563</td>\n    </tr>\n    <tr>\n      <th>1</th>\n      <td>2015-01-02</td>\n      <td>0.0</td>\n      <td>15.4</td>\n      <td>38.8</td>\n      <td>26.8</td>\n      <td>389048</td>\n    </tr>\n    <tr>\n      <th>2</th>\n      <td>2015-01-03</td>\n      <td>0.0</td>\n      <td>20.0</td>\n      <td>38.2</td>\n      <td>26.5</td>\n      <td>291761</td>\n    </tr>\n    <tr>\n      <th>3</th>\n      <td>2015-01-04</td>\n      <td>4.6</td>\n      <td>16.3</td>\n      <td>21.4</td>\n      <td>25.2</td>\n      <td>382364</td>\n    </tr>\n    <tr>\n      <th>4</th>\n      <td>2015-01-05</td>\n      <td>0.0</td>\n      <td>15.0</td>\n      <td>22.0</td>\n      <td>30.7</td>\n      <td>487220</td>\n    </tr>\n    <tr>\n      <th>...</th>\n      <td>...</td>\n      <td>...</td>\n      <td>...</td>\n      <td>...</td>\n      <td>...</td>\n      <td>...</td>\n    </tr>\n    <tr>\n      <th>2126</th>\n      <td>2020-10-27</td>\n      <td>0.0</td>\n      <td>11.1</td>\n      <td>19.6</td>\n      <td>20.1</td>\n      <td>177267</td>\n    </tr>\n    <tr>\n      <th>2127</th>\n      <td>2020-10-28</td>\n      <td>0.0</td>\n      <td>9.5</td>\n      <td>20.9</td>\n      <td>26.7</td>\n      <td>311278</td>\n    </tr>\n    <tr>\n      <th>2128</th>\n      <td>2020-10-29</td>\n      <td>0.0</td>\n      <td>11.2</td>\n      <td>24.3</td>\n      <td>17.1</td>\n      <td>263334</td>\n    </tr>\n    <tr>\n      <th>2129</th>\n      <td>2020-10-30</td>\n      <td>0.0</td>\n      <td>12.9</td>\n      <td>18.6</td>\n      <td>21.0</td>\n      <td>313225</td>\n    </tr>\n    <tr>\n      <th>2130</th>\n      <td>2020-10-31</td>\n      <td>0.0</td>\n      <td>14.2</td>\n      <td>16.8</td>\n      <td>10.0</td>\n      <td>370181</td>\n    </tr>\n  </tbody>\n</table>\n<p>2131 rows × 6 columns</p>\n</div>"
          },
          "metadata": {},
          "execution_count": 18
        }
      ]
    },
    {
      "cell_type": "code",
      "metadata": {
        "id": "rWBh5gQx0NZg"
      },
      "source": [
        "#writing the dataset into a csv file\r\n",
        "import csv  \r\n",
        "\r\n",
        "# field names  \r\n",
        "fields = []  \r\n",
        "for col in dataset_wt_weather_features.columns: \r\n",
        "    fields.append(col) \r\n",
        "\r\n",
        "# data rows of csv file  \r\n",
        "rows = dataset_wt_weather_features.values  \r\n",
        "    \r\n",
        "# name of the csv file  \r\n",
        "filename = \"dataset_wt_weather_features.csv\"\r\n",
        "    \r\n",
        "# writing to the csv file  \r\n",
        "with open(filename, 'w') as csvfile:\r\n",
        "\r\n",
        "    # creating a csv writer object  \r\n",
        "    csvwriter = csv.writer(csvfile)  \r\n",
        "        \r\n",
        "    # writing the fields  \r\n",
        "    csvwriter.writerow(fields)  \r\n",
        "        \r\n",
        "    # writing the data rows  \r\n",
        "    csvwriter.writerows(rows) "
      ],
      "execution_count": 19,
      "outputs": []
    },
    {
      "cell_type": "code",
      "metadata": {
        "id": "91x19r17Ouzi"
      },
      "source": [
        "#Incorporating the weekly index. Representing monday as 1 and sunday as 7.\r\n",
        "dataset_wt_weather_features['day_of_week'] = dataset_wt_weather_features.date.dt.dayofweek\r\n",
        "dataset_wt_weather_features['day_of_week'] = dataset_wt_weather_features['day_of_week'] + 1"
      ],
      "execution_count": 20,
      "outputs": []
    },
    {
      "cell_type": "code",
      "metadata": {
        "id": "pfMRWfjvPNnr"
      },
      "source": [
        "#Incorporating the monthly index. Representing January as 1 and december as 12.\r\n",
        "dataset_wt_weather_features['monthly_index'] = dataset_wt_weather_features.date.dt.month"
      ],
      "execution_count": 21,
      "outputs": []
    },
    {
      "cell_type": "code",
      "metadata": {
        "id": "Gp6eHLX-8adH"
      },
      "source": [
        "#Incorporating the day of the year index. \r\n",
        "dataset_wt_weather_features['day_of_year'] = dataset_wt_weather_features.date.dt.dayofyear"
      ],
      "execution_count": 22,
      "outputs": []
    },
    {
      "cell_type": "code",
      "metadata": {
        "id": "mlwQqaOPlsfJ"
      },
      "source": [
        "#Public Holiday dataset\r\n",
        "public = pd.read_csv('Public_Holidays.csv')\r\n",
        "holidays = public[['Holiday']]"
      ],
      "execution_count": 23,
      "outputs": []
    },
    {
      "cell_type": "code",
      "metadata": {
        "colab": {
          "base_uri": "https://localhost:8080/",
          "height": 407
        },
        "id": "D-h6mZz6l0ZT",
        "outputId": "79a962f1-8303-4f27-d4dc-38e8e70aca2f"
      },
      "source": [
        "#View the dataset\r\n",
        "holidays"
      ],
      "execution_count": 24,
      "outputs": [
        {
          "output_type": "execute_result",
          "data": {
            "text/plain": [
              "       Holiday\n",
              "0   2015-01-01\n",
              "1   2015-01-26\n",
              "2   2015-03-14\n",
              "3   2015-03-25\n",
              "4   2015-03-26\n",
              "..         ...\n",
              "74  2020-04-12\n",
              "75  2020-04-13\n",
              "76  2020-04-25\n",
              "77  2020-06-08\n",
              "78  2020-10-23\n",
              "\n",
              "[79 rows x 1 columns]"
            ],
            "text/html": "<div>\n<style scoped>\n    .dataframe tbody tr th:only-of-type {\n        vertical-align: middle;\n    }\n\n    .dataframe tbody tr th {\n        vertical-align: top;\n    }\n\n    .dataframe thead th {\n        text-align: right;\n    }\n</style>\n<table border=\"1\" class=\"dataframe\">\n  <thead>\n    <tr style=\"text-align: right;\">\n      <th></th>\n      <th>Holiday</th>\n    </tr>\n  </thead>\n  <tbody>\n    <tr>\n      <th>0</th>\n      <td>2015-01-01</td>\n    </tr>\n    <tr>\n      <th>1</th>\n      <td>2015-01-26</td>\n    </tr>\n    <tr>\n      <th>2</th>\n      <td>2015-03-14</td>\n    </tr>\n    <tr>\n      <th>3</th>\n      <td>2015-03-25</td>\n    </tr>\n    <tr>\n      <th>4</th>\n      <td>2015-03-26</td>\n    </tr>\n    <tr>\n      <th>...</th>\n      <td>...</td>\n    </tr>\n    <tr>\n      <th>74</th>\n      <td>2020-04-12</td>\n    </tr>\n    <tr>\n      <th>75</th>\n      <td>2020-04-13</td>\n    </tr>\n    <tr>\n      <th>76</th>\n      <td>2020-04-25</td>\n    </tr>\n    <tr>\n      <th>77</th>\n      <td>2020-06-08</td>\n    </tr>\n    <tr>\n      <th>78</th>\n      <td>2020-10-23</td>\n    </tr>\n  </tbody>\n</table>\n<p>79 rows × 1 columns</p>\n</div>"
          },
          "metadata": {},
          "execution_count": 24
        }
      ]
    },
    {
      "cell_type": "code",
      "metadata": {
        "id": "cmqJ6BH3oaO-"
      },
      "source": [
        "#converting Holiday feature from object datatypes to date\r\n",
        "holidays['Holiday'] = holidays['Holiday'].astype('datetime64[ns]')\r\n",
        "holidays['Public_Holiday'] = 'Public Holiday'"
      ],
      "execution_count": 25,
      "outputs": []
    },
    {
      "cell_type": "code",
      "metadata": {
        "colab": {
          "base_uri": "https://localhost:8080/"
        },
        "id": "jNRef1F_pEQS",
        "outputId": "ccd326a0-2b1e-4502-d9c4-adc6b36f383e"
      },
      "source": [
        "#Validating the changes in datatype\r\n",
        "holidays.dtypes"
      ],
      "execution_count": 26,
      "outputs": [
        {
          "output_type": "execute_result",
          "data": {
            "text/plain": [
              "Holiday           datetime64[ns]\n",
              "Public_Holiday            object\n",
              "dtype: object"
            ]
          },
          "metadata": {},
          "execution_count": 26
        }
      ]
    },
    {
      "cell_type": "code",
      "metadata": {
        "id": "VLGYSyyW90gf"
      },
      "source": [
        "#Incorporating the public holiday information in the dataset\r\n",
        "dataset_wt_weather_features = dataset_wt_weather_features.set_index(\"date\").join(holidays.set_index(\"Holiday\"), how=\"outer\")"
      ],
      "execution_count": 27,
      "outputs": []
    },
    {
      "cell_type": "code",
      "metadata": {
        "id": "gke2TLJOALZ2"
      },
      "source": [
        "#Resetting the index\r\n",
        "dataset_wt_weather_features.reset_index(inplace = True)"
      ],
      "execution_count": 28,
      "outputs": []
    },
    {
      "cell_type": "code",
      "metadata": {
        "id": "nUi1bgjOAa68"
      },
      "source": [
        "#Renaming the columns\r\n",
        "dataset_wt_weather_features.rename(columns = {'index':'Date'}, inplace = True)"
      ],
      "execution_count": 29,
      "outputs": []
    },
    {
      "cell_type": "code",
      "metadata": {
        "id": "B8efRjuHBAy8"
      },
      "source": [
        "#Replacing the na values as 'not a holiday'\r\n",
        "dataset_wt_weather_features['Public_Holiday'].fillna('Not a public holiday', inplace=True)"
      ],
      "execution_count": 30,
      "outputs": []
    },
    {
      "cell_type": "code",
      "metadata": {
        "id": "OdR8LxEoCPhm"
      },
      "source": [
        "#Rearranging the columns \r\n",
        "dataset_wt_weather_features = dataset_wt_weather_features[['Date', 'day_of_year', 'day_of_week', 'monthly_index','Public_Holiday','Rainfall amount (millimetres)','Minimum temperature (Degree C)','Maximum temperature (Degree C)','Daily global solar exposure (MJ/m*m)', 'Total_Pedestrian_Count_per_day']]"
      ],
      "execution_count": 31,
      "outputs": []
    },
    {
      "cell_type": "code",
      "metadata": {
        "colab": {
          "base_uri": "https://localhost:8080/",
          "height": 660
        },
        "id": "PcSEGYADypOB",
        "outputId": "4659ae35-900d-40f5-d120-dd4a42ec0116"
      },
      "source": [
        "#displaying the dataset\r\n",
        "dataset_wt_weather_features"
      ],
      "execution_count": 32,
      "outputs": [
        {
          "output_type": "execute_result",
          "data": {
            "text/plain": [
              "           Date  day_of_year  day_of_week  monthly_index  \\\n",
              "0    2015-01-01            1            4              1   \n",
              "1    2015-01-02            2            5              1   \n",
              "2    2015-01-03            3            6              1   \n",
              "3    2015-01-04            4            7              1   \n",
              "4    2015-01-05            5            1              1   \n",
              "...         ...          ...          ...            ...   \n",
              "2127 2020-10-27          301            2             10   \n",
              "2128 2020-10-28          302            3             10   \n",
              "2129 2020-10-29          303            4             10   \n",
              "2130 2020-10-30          304            5             10   \n",
              "2131 2020-10-31          305            6             10   \n",
              "\n",
              "            Public_Holiday  Rainfall amount (millimetres)  \\\n",
              "0           Public Holiday                            0.0   \n",
              "1     Not a public holiday                            0.0   \n",
              "2     Not a public holiday                            0.0   \n",
              "3     Not a public holiday                            4.6   \n",
              "4     Not a public holiday                            0.0   \n",
              "...                    ...                            ...   \n",
              "2127  Not a public holiday                            0.0   \n",
              "2128  Not a public holiday                            0.0   \n",
              "2129  Not a public holiday                            0.0   \n",
              "2130  Not a public holiday                            0.0   \n",
              "2131  Not a public holiday                            0.0   \n",
              "\n",
              "      Minimum temperature (Degree C)  Maximum temperature (Degree C)  \\\n",
              "0                               13.3                            26.9   \n",
              "1                               15.4                            38.8   \n",
              "2                               20.0                            38.2   \n",
              "3                               16.3                            21.4   \n",
              "4                               15.0                            22.0   \n",
              "...                              ...                             ...   \n",
              "2127                            11.1                            19.6   \n",
              "2128                             9.5                            20.9   \n",
              "2129                            11.2                            24.3   \n",
              "2130                            12.9                            18.6   \n",
              "2131                            14.2                            16.8   \n",
              "\n",
              "      Daily global solar exposure (MJ/m*m)  Total_Pedestrian_Count_per_day  \n",
              "0                                     23.6                          471563  \n",
              "1                                     26.8                          389048  \n",
              "2                                     26.5                          291761  \n",
              "3                                     25.2                          382364  \n",
              "4                                     30.7                          487220  \n",
              "...                                    ...                             ...  \n",
              "2127                                  20.1                          177267  \n",
              "2128                                  26.7                          311278  \n",
              "2129                                  17.1                          263334  \n",
              "2130                                  21.0                          313225  \n",
              "2131                                  10.0                          370181  \n",
              "\n",
              "[2132 rows x 10 columns]"
            ],
            "text/html": "<div>\n<style scoped>\n    .dataframe tbody tr th:only-of-type {\n        vertical-align: middle;\n    }\n\n    .dataframe tbody tr th {\n        vertical-align: top;\n    }\n\n    .dataframe thead th {\n        text-align: right;\n    }\n</style>\n<table border=\"1\" class=\"dataframe\">\n  <thead>\n    <tr style=\"text-align: right;\">\n      <th></th>\n      <th>Date</th>\n      <th>day_of_year</th>\n      <th>day_of_week</th>\n      <th>monthly_index</th>\n      <th>Public_Holiday</th>\n      <th>Rainfall amount (millimetres)</th>\n      <th>Minimum temperature (Degree C)</th>\n      <th>Maximum temperature (Degree C)</th>\n      <th>Daily global solar exposure (MJ/m*m)</th>\n      <th>Total_Pedestrian_Count_per_day</th>\n    </tr>\n  </thead>\n  <tbody>\n    <tr>\n      <th>0</th>\n      <td>2015-01-01</td>\n      <td>1</td>\n      <td>4</td>\n      <td>1</td>\n      <td>Public Holiday</td>\n      <td>0.0</td>\n      <td>13.3</td>\n      <td>26.9</td>\n      <td>23.6</td>\n      <td>471563</td>\n    </tr>\n    <tr>\n      <th>1</th>\n      <td>2015-01-02</td>\n      <td>2</td>\n      <td>5</td>\n      <td>1</td>\n      <td>Not a public holiday</td>\n      <td>0.0</td>\n      <td>15.4</td>\n      <td>38.8</td>\n      <td>26.8</td>\n      <td>389048</td>\n    </tr>\n    <tr>\n      <th>2</th>\n      <td>2015-01-03</td>\n      <td>3</td>\n      <td>6</td>\n      <td>1</td>\n      <td>Not a public holiday</td>\n      <td>0.0</td>\n      <td>20.0</td>\n      <td>38.2</td>\n      <td>26.5</td>\n      <td>291761</td>\n    </tr>\n    <tr>\n      <th>3</th>\n      <td>2015-01-04</td>\n      <td>4</td>\n      <td>7</td>\n      <td>1</td>\n      <td>Not a public holiday</td>\n      <td>4.6</td>\n      <td>16.3</td>\n      <td>21.4</td>\n      <td>25.2</td>\n      <td>382364</td>\n    </tr>\n    <tr>\n      <th>4</th>\n      <td>2015-01-05</td>\n      <td>5</td>\n      <td>1</td>\n      <td>1</td>\n      <td>Not a public holiday</td>\n      <td>0.0</td>\n      <td>15.0</td>\n      <td>22.0</td>\n      <td>30.7</td>\n      <td>487220</td>\n    </tr>\n    <tr>\n      <th>...</th>\n      <td>...</td>\n      <td>...</td>\n      <td>...</td>\n      <td>...</td>\n      <td>...</td>\n      <td>...</td>\n      <td>...</td>\n      <td>...</td>\n      <td>...</td>\n      <td>...</td>\n    </tr>\n    <tr>\n      <th>2127</th>\n      <td>2020-10-27</td>\n      <td>301</td>\n      <td>2</td>\n      <td>10</td>\n      <td>Not a public holiday</td>\n      <td>0.0</td>\n      <td>11.1</td>\n      <td>19.6</td>\n      <td>20.1</td>\n      <td>177267</td>\n    </tr>\n    <tr>\n      <th>2128</th>\n      <td>2020-10-28</td>\n      <td>302</td>\n      <td>3</td>\n      <td>10</td>\n      <td>Not a public holiday</td>\n      <td>0.0</td>\n      <td>9.5</td>\n      <td>20.9</td>\n      <td>26.7</td>\n      <td>311278</td>\n    </tr>\n    <tr>\n      <th>2129</th>\n      <td>2020-10-29</td>\n      <td>303</td>\n      <td>4</td>\n      <td>10</td>\n      <td>Not a public holiday</td>\n      <td>0.0</td>\n      <td>11.2</td>\n      <td>24.3</td>\n      <td>17.1</td>\n      <td>263334</td>\n    </tr>\n    <tr>\n      <th>2130</th>\n      <td>2020-10-30</td>\n      <td>304</td>\n      <td>5</td>\n      <td>10</td>\n      <td>Not a public holiday</td>\n      <td>0.0</td>\n      <td>12.9</td>\n      <td>18.6</td>\n      <td>21.0</td>\n      <td>313225</td>\n    </tr>\n    <tr>\n      <th>2131</th>\n      <td>2020-10-31</td>\n      <td>305</td>\n      <td>6</td>\n      <td>10</td>\n      <td>Not a public holiday</td>\n      <td>0.0</td>\n      <td>14.2</td>\n      <td>16.8</td>\n      <td>10.0</td>\n      <td>370181</td>\n    </tr>\n  </tbody>\n</table>\n<p>2132 rows × 10 columns</p>\n</div>"
          },
          "metadata": {},
          "execution_count": 32
        }
      ]
    },
    {
      "cell_type": "code",
      "metadata": {
        "id": "djsZf_B4tZnJ"
      },
      "source": [
        "#using monthly_index, day of the week, year and day of the year as train data \r\n",
        "X_train = dataset_wt_weather_features[['monthly_index','day_of_week']]\r\n",
        "\r\n",
        "X_train['Year'] = dataset_wt_weather_features.Date.dt.year\r\n",
        "\r\n",
        "X_train['day_of_year'] = dataset_wt_weather_features.Date.dt.dayofyear"
      ],
      "execution_count": 33,
      "outputs": []
    },
    {
      "cell_type": "code",
      "metadata": {
        "colab": {
          "base_uri": "https://localhost:8080/",
          "height": 407
        },
        "id": "u08qH6LKwWZf",
        "outputId": "a2e45494-55b4-436a-d996-04a63060dfac"
      },
      "source": [
        "X_train = X_train[['Year', 'day_of_year', 'monthly_index','day_of_week' ]]\r\n",
        "X_train"
      ],
      "execution_count": 34,
      "outputs": [
        {
          "output_type": "execute_result",
          "data": {
            "text/plain": [
              "      Year  day_of_year  monthly_index  day_of_week\n",
              "0     2015            1              1            4\n",
              "1     2015            2              1            5\n",
              "2     2015            3              1            6\n",
              "3     2015            4              1            7\n",
              "4     2015            5              1            1\n",
              "...    ...          ...            ...          ...\n",
              "2127  2020          301             10            2\n",
              "2128  2020          302             10            3\n",
              "2129  2020          303             10            4\n",
              "2130  2020          304             10            5\n",
              "2131  2020          305             10            6\n",
              "\n",
              "[2132 rows x 4 columns]"
            ],
            "text/html": "<div>\n<style scoped>\n    .dataframe tbody tr th:only-of-type {\n        vertical-align: middle;\n    }\n\n    .dataframe tbody tr th {\n        vertical-align: top;\n    }\n\n    .dataframe thead th {\n        text-align: right;\n    }\n</style>\n<table border=\"1\" class=\"dataframe\">\n  <thead>\n    <tr style=\"text-align: right;\">\n      <th></th>\n      <th>Year</th>\n      <th>day_of_year</th>\n      <th>monthly_index</th>\n      <th>day_of_week</th>\n    </tr>\n  </thead>\n  <tbody>\n    <tr>\n      <th>0</th>\n      <td>2015</td>\n      <td>1</td>\n      <td>1</td>\n      <td>4</td>\n    </tr>\n    <tr>\n      <th>1</th>\n      <td>2015</td>\n      <td>2</td>\n      <td>1</td>\n      <td>5</td>\n    </tr>\n    <tr>\n      <th>2</th>\n      <td>2015</td>\n      <td>3</td>\n      <td>1</td>\n      <td>6</td>\n    </tr>\n    <tr>\n      <th>3</th>\n      <td>2015</td>\n      <td>4</td>\n      <td>1</td>\n      <td>7</td>\n    </tr>\n    <tr>\n      <th>4</th>\n      <td>2015</td>\n      <td>5</td>\n      <td>1</td>\n      <td>1</td>\n    </tr>\n    <tr>\n      <th>...</th>\n      <td>...</td>\n      <td>...</td>\n      <td>...</td>\n      <td>...</td>\n    </tr>\n    <tr>\n      <th>2127</th>\n      <td>2020</td>\n      <td>301</td>\n      <td>10</td>\n      <td>2</td>\n    </tr>\n    <tr>\n      <th>2128</th>\n      <td>2020</td>\n      <td>302</td>\n      <td>10</td>\n      <td>3</td>\n    </tr>\n    <tr>\n      <th>2129</th>\n      <td>2020</td>\n      <td>303</td>\n      <td>10</td>\n      <td>4</td>\n    </tr>\n    <tr>\n      <th>2130</th>\n      <td>2020</td>\n      <td>304</td>\n      <td>10</td>\n      <td>5</td>\n    </tr>\n    <tr>\n      <th>2131</th>\n      <td>2020</td>\n      <td>305</td>\n      <td>10</td>\n      <td>6</td>\n    </tr>\n  </tbody>\n</table>\n<p>2132 rows × 4 columns</p>\n</div>"
          },
          "metadata": {},
          "execution_count": 34
        }
      ]
    },
    {
      "cell_type": "markdown",
      "metadata": {
        "id": "87KrRdW6RKvB"
      },
      "source": [
        "#Predicting independent variables for Minimum temperature (Degree C) and Maximum temperature (Degree C) from 1-11-2020 to 31-01-2021"
      ]
    },
    {
      "cell_type": "code",
      "metadata": {
        "colab": {
          "base_uri": "https://localhost:8080/"
        },
        "id": "No0UajZLyh0p",
        "outputId": "49033416-655c-4e38-8720-2921f4ba1c24"
      },
      "source": [
        "Y_train_min_temp = dataset_wt_weather_features['Minimum temperature (Degree C)']\r\n",
        "Y_train_min_temp\r\n",
        "Y_train_max_temp = dataset_wt_weather_features['Maximum temperature (Degree C)']\r\n",
        "Y_train_max_temp"
      ],
      "execution_count": 35,
      "outputs": [
        {
          "output_type": "execute_result",
          "data": {
            "text/plain": [
              "0       26.9\n",
              "1       38.8\n",
              "2       38.2\n",
              "3       21.4\n",
              "4       22.0\n",
              "        ... \n",
              "2127    19.6\n",
              "2128    20.9\n",
              "2129    24.3\n",
              "2130    18.6\n",
              "2131    16.8\n",
              "Name: Maximum temperature (Degree C), Length: 2132, dtype: float64"
            ]
          },
          "metadata": {},
          "execution_count": 35
        }
      ]
    },
    {
      "cell_type": "code",
      "metadata": {
        "colab": {
          "base_uri": "https://localhost:8080/"
        },
        "id": "rJBrd18I05Xj",
        "outputId": "1c48b903-c4b4-4a04-a5d8-f345d29602be"
      },
      "source": [
        "from sklearn.preprocessing import StandardScaler\r\n",
        "#using standard scaler\r\n",
        "scaler = StandardScaler()\r\n",
        "#fit get the mean and standard deviation of the train features \r\n",
        "#while tranform applies the standardation formular\r\n",
        "X_train_StandardScaler = scaler.fit_transform(X_train) \r\n",
        "X_train_StandardScaler"
      ],
      "execution_count": 36,
      "outputs": [
        {
          "output_type": "execute_result",
          "data": {
            "text/plain": [
              "array([[-1.44730998e+00, -1.71507061e+00, -1.58631120e+00,\n",
              "        -9.38637205e-04],\n",
              "       [-1.44730998e+00, -1.70542213e+00, -1.58631120e+00,\n",
              "         4.99354993e-01],\n",
              "       [-1.44730998e+00, -1.69577366e+00, -1.58631120e+00,\n",
              "         9.99648624e-01],\n",
              "       ...,\n",
              "       [ 1.53055614e+00,  1.19876862e+00,  1.06833203e+00,\n",
              "        -9.38637205e-04],\n",
              "       [ 1.53055614e+00,  1.20841709e+00,  1.06833203e+00,\n",
              "         4.99354993e-01],\n",
              "       [ 1.53055614e+00,  1.21806557e+00,  1.06833203e+00,\n",
              "         9.99648624e-01]])"
            ]
          },
          "metadata": {},
          "execution_count": 36
        }
      ]
    },
    {
      "cell_type": "code",
      "metadata": {
        "id": "fS55McCZ3q2b"
      },
      "source": [
        "from sklearn.neighbors import KNeighborsRegressor\r\n",
        "from sklearn.tree import DecisionTreeRegressor\r\n",
        "from sklearn.ensemble import RandomForestRegressor\r\n",
        "from sklearn.neural_network import MLPRegressor\r\n",
        "from sklearn.svm import SVR\r\n",
        "\r\n"
      ],
      "execution_count": 37,
      "outputs": []
    },
    {
      "cell_type": "code",
      "metadata": {
        "id": "qBMGClMm7mzL"
      },
      "source": [
        "from sklearn.model_selection import GridSearchCV\r\n",
        "knn_max = KNeighborsRegressor()\r\n",
        "\r\n",
        "param_grid = {\r\n",
        "    'n_neighbors' : [2,4,5,10],\r\n",
        "    'leaf_size' : [10,20,30,50,100,500],\r\n",
        "    'metric' : ['euclidean','chebyshev','seuclidean','mahalanobis','canberra','manhattan'],\r\n",
        "    'weights' : ['uniform', 'distance'],\r\n",
        "    'algorithm' : ['auto', 'ball_tree', 'kd_tree', 'brute'] \r\n",
        "}\r\n",
        "\r\n",
        "grid_cv_dtm = GridSearchCV(knn_max, param_grid, cv=5, scoring = 'r2', verbose = 50)\r\n"
      ],
      "execution_count": 38,
      "outputs": []
    },
    {
      "cell_type": "code",
      "metadata": {
        "colab": {
          "base_uri": "https://localhost:8080/"
        },
        "id": "qnXaROSt_m14",
        "outputId": "a528f8f7-c425-4865-e9f3-d4e30b9b4ffd",
        "tags": [
          "outputPrepend"
        ]
      },
      "source": [
        "grid_cv_dtm.fit(X_train_StandardScaler, Y_train_max_temp)"
      ],
      "execution_count": 39,
      "outputs": [
        {
          "output_type": "stream",
          "name": "stdout",
          "text": [
            ", leaf_size=500, metric=mahalanobis, n_neighbors=5, weights=uniform \n",
            "[CV]  algorithm=brute, leaf_size=500, metric=mahalanobis, n_neighbors=5, weights=uniform, score=0.407, total=   0.0s\n",
            "[CV] algorithm=brute, leaf_size=500, metric=mahalanobis, n_neighbors=5, weights=uniform \n",
            "[CV]  algorithm=brute, leaf_size=500, metric=mahalanobis, n_neighbors=5, weights=uniform, score=0.407, total=   0.0s\n",
            "[CV] algorithm=brute, leaf_size=500, metric=mahalanobis, n_neighbors=5, weights=uniform \n",
            "[CV]  algorithm=brute, leaf_size=500, metric=mahalanobis, n_neighbors=5, weights=uniform, score=0.203, total=   0.0s\n",
            "[CV] algorithm=brute, leaf_size=500, metric=mahalanobis, n_neighbors=5, weights=distance \n",
            "[CV]  algorithm=brute, leaf_size=500, metric=mahalanobis, n_neighbors=5, weights=distance, score=0.336, total=   0.0s\n",
            "[CV] algorithm=brute, leaf_size=500, metric=mahalanobis, n_neighbors=5, weights=distance \n",
            "[CV]  algorithm=brute, leaf_size=500, metric=mahalanobis, n_neighbors=5, weights=distance, score=0.314, total=   0.0s\n",
            "[CV] algorithm=brute, leaf_size=500, metric=mahalanobis, n_neighbors=5, weights=distance \n",
            "[CV]  algorithm=brute, leaf_size=500, metric=mahalanobis, n_neighbors=5, weights=distance, score=0.413, total=   0.0s\n",
            "[CV] algorithm=brute, leaf_size=500, metric=mahalanobis, n_neighbors=5, weights=distance \n",
            "[CV]  algorithm=brute, leaf_size=500, metric=mahalanobis, n_neighbors=5, weights=distance, score=0.404, total=   0.0s\n",
            "[CV] algorithm=brute, leaf_size=500, metric=mahalanobis, n_neighbors=5, weights=distance \n",
            "[CV]  algorithm=brute, leaf_size=500, metric=mahalanobis, n_neighbors=5, weights=distance, score=0.203, total=   0.0s\n",
            "[CV] algorithm=brute, leaf_size=500, metric=mahalanobis, n_neighbors=10, weights=uniform \n",
            "[CV]  algorithm=brute, leaf_size=500, metric=mahalanobis, n_neighbors=10, weights=uniform, score=0.362, total=   0.0s\n",
            "[CV] algorithm=brute, leaf_size=500, metric=mahalanobis, n_neighbors=10, weights=uniform \n",
            "[CV]  algorithm=brute, leaf_size=500, metric=mahalanobis, n_neighbors=10, weights=uniform, score=0.401, total=   0.0s\n",
            "[CV] algorithm=brute, leaf_size=500, metric=mahalanobis, n_neighbors=10, weights=uniform \n",
            "[CV]  algorithm=brute, leaf_size=500, metric=mahalanobis, n_neighbors=10, weights=uniform, score=0.482, total=   0.0s\n",
            "[CV] algorithm=brute, leaf_size=500, metric=mahalanobis, n_neighbors=10, weights=uniform \n",
            "[CV]  algorithm=brute, leaf_size=500, metric=mahalanobis, n_neighbors=10, weights=uniform, score=0.423, total=   0.0s\n",
            "[CV] algorithm=brute, leaf_size=500, metric=mahalanobis, n_neighbors=10, weights=uniform \n",
            "[CV]  algorithm=brute, leaf_size=500, metric=mahalanobis, n_neighbors=10, weights=uniform, score=0.296, total=   0.0s\n",
            "[CV] algorithm=brute, leaf_size=500, metric=mahalanobis, n_neighbors=10, weights=distance \n",
            "[CV]  algorithm=brute, leaf_size=500, metric=mahalanobis, n_neighbors=10, weights=distance, score=0.363, total=   0.0s\n",
            "[CV] algorithm=brute, leaf_size=500, metric=mahalanobis, n_neighbors=10, weights=distance \n",
            "[CV]  algorithm=brute, leaf_size=500, metric=mahalanobis, n_neighbors=10, weights=distance, score=0.399, total=   0.0s\n",
            "[CV] algorithm=brute, leaf_size=500, metric=mahalanobis, n_neighbors=10, weights=distance \n",
            "[CV]  algorithm=brute, leaf_size=500, metric=mahalanobis, n_neighbors=10, weights=distance, score=0.483, total=   0.0s\n",
            "[CV] algorithm=brute, leaf_size=500, metric=mahalanobis, n_neighbors=10, weights=distance \n",
            "[CV]  algorithm=brute, leaf_size=500, metric=mahalanobis, n_neighbors=10, weights=distance, score=0.423, total=   0.0s\n",
            "[CV] algorithm=brute, leaf_size=500, metric=mahalanobis, n_neighbors=10, weights=distance \n",
            "[CV]  algorithm=brute, leaf_size=500, metric=mahalanobis, n_neighbors=10, weights=distance, score=0.292, total=   0.0s\n",
            "[CV] algorithm=brute, leaf_size=500, metric=canberra, n_neighbors=2, weights=uniform \n",
            "[CV]  algorithm=brute, leaf_size=500, metric=canberra, n_neighbors=2, weights=uniform, score=0.280, total=   0.0s\n",
            "[CV] algorithm=brute, leaf_size=500, metric=canberra, n_neighbors=2, weights=uniform \n",
            "[CV]  algorithm=brute, leaf_size=500, metric=canberra, n_neighbors=2, weights=uniform, score=0.155, total=   0.0s\n",
            "[CV] algorithm=brute, leaf_size=500, metric=canberra, n_neighbors=2, weights=uniform \n",
            "[CV]  algorithm=brute, leaf_size=500, metric=canberra, n_neighbors=2, weights=uniform, score=0.387, total=   0.0s\n",
            "[CV] algorithm=brute, leaf_size=500, metric=canberra, n_neighbors=2, weights=uniform \n",
            "[CV]  algorithm=brute, leaf_size=500, metric=canberra, n_neighbors=2, weights=uniform, score=0.364, total=   0.0s\n",
            "[CV] algorithm=brute, leaf_size=500, metric=canberra, n_neighbors=2, weights=uniform \n",
            "[CV]  algorithm=brute, leaf_size=500, metric=canberra, n_neighbors=2, weights=uniform, score=0.200, total=   0.0s\n",
            "[CV] algorithm=brute, leaf_size=500, metric=canberra, n_neighbors=2, weights=distance \n",
            "[CV]  algorithm=brute, leaf_size=500, metric=canberra, n_neighbors=2, weights=distance, score=0.275, total=   0.0s\n",
            "[CV] algorithm=brute, leaf_size=500, metric=canberra, n_neighbors=2, weights=distance \n",
            "[CV]  algorithm=brute, leaf_size=500, metric=canberra, n_neighbors=2, weights=distance, score=0.149, total=   0.0s\n",
            "[CV] algorithm=brute, leaf_size=500, metric=canberra, n_neighbors=2, weights=distance \n",
            "[CV]  algorithm=brute, leaf_size=500, metric=canberra, n_neighbors=2, weights=distance, score=0.385, total=   0.0s\n",
            "[CV] algorithm=brute, leaf_size=500, metric=canberra, n_neighbors=2, weights=distance \n",
            "[CV]  algorithm=brute, leaf_size=500, metric=canberra, n_neighbors=2, weights=distance, score=0.360, total=   0.0s\n",
            "[CV] algorithm=brute, leaf_size=500, metric=canberra, n_neighbors=2, weights=distance \n",
            "[CV]  algorithm=brute, leaf_size=500, metric=canberra, n_neighbors=2, weights=distance, score=0.198, total=   0.0s\n",
            "[CV] algorithm=brute, leaf_size=500, metric=canberra, n_neighbors=4, weights=uniform \n",
            "[CV]  algorithm=brute, leaf_size=500, metric=canberra, n_neighbors=4, weights=uniform, score=0.355, total=   0.0s\n",
            "[CV] algorithm=brute, leaf_size=500, metric=canberra, n_neighbors=4, weights=uniform \n",
            "[CV]  algorithm=brute, leaf_size=500, metric=canberra, n_neighbors=4, weights=uniform, score=0.254, total=   0.0s\n",
            "[CV] algorithm=brute, leaf_size=500, metric=canberra, n_neighbors=4, weights=uniform \n",
            "[CV]  algorithm=brute, leaf_size=500, metric=canberra, n_neighbors=4, weights=uniform, score=0.444, total=   0.0s\n",
            "[CV] algorithm=brute, leaf_size=500, metric=canberra, n_neighbors=4, weights=uniform \n",
            "[CV]  algorithm=brute, leaf_size=500, metric=canberra, n_neighbors=4, weights=uniform, score=0.476, total=   0.0s\n",
            "[CV] algorithm=brute, leaf_size=500, metric=canberra, n_neighbors=4, weights=uniform \n",
            "[CV]  algorithm=brute, leaf_size=500, metric=canberra, n_neighbors=4, weights=uniform, score=0.281, total=   0.0s\n",
            "[CV] algorithm=brute, leaf_size=500, metric=canberra, n_neighbors=4, weights=distance \n",
            "[CV]  algorithm=brute, leaf_size=500, metric=canberra, n_neighbors=4, weights=distance, score=0.357, total=   0.0s\n",
            "[CV] algorithm=brute, leaf_size=500, metric=canberra, n_neighbors=4, weights=distance \n",
            "[CV]  algorithm=brute, leaf_size=500, metric=canberra, n_neighbors=4, weights=distance, score=0.254, total=   0.0s\n",
            "[CV] algorithm=brute, leaf_size=500, metric=canberra, n_neighbors=4, weights=distance \n",
            "[CV]  algorithm=brute, leaf_size=500, metric=canberra, n_neighbors=4, weights=distance, score=0.444, total=   0.0s\n",
            "[CV] algorithm=brute, leaf_size=500, metric=canberra, n_neighbors=4, weights=distance \n",
            "[CV]  algorithm=brute, leaf_size=500, metric=canberra, n_neighbors=4, weights=distance, score=0.474, total=   0.0s\n",
            "[CV] algorithm=brute, leaf_size=500, metric=canberra, n_neighbors=4, weights=distance \n",
            "[CV]  algorithm=brute, leaf_size=500, metric=canberra, n_neighbors=4, weights=distance, score=0.282, total=   0.0s\n",
            "[CV] algorithm=brute, leaf_size=500, metric=canberra, n_neighbors=5, weights=uniform \n",
            "[CV]  algorithm=brute, leaf_size=500, metric=canberra, n_neighbors=5, weights=uniform, score=0.372, total=   0.0s\n",
            "[CV] algorithm=brute, leaf_size=500, metric=canberra, n_neighbors=5, weights=uniform \n",
            "[CV]  algorithm=brute, leaf_size=500, metric=canberra, n_neighbors=5, weights=uniform, score=0.293, total=   0.0s\n",
            "[CV] algorithm=brute, leaf_size=500, metric=canberra, n_neighbors=5, weights=uniform \n",
            "[CV]  algorithm=brute, leaf_size=500, metric=canberra, n_neighbors=5, weights=uniform, score=0.475, total=   0.0s\n",
            "[CV] algorithm=brute, leaf_size=500, metric=canberra, n_neighbors=5, weights=uniform \n",
            "[CV]  algorithm=brute, leaf_size=500, metric=canberra, n_neighbors=5, weights=uniform, score=0.457, total=   0.0s\n",
            "[CV] algorithm=brute, leaf_size=500, metric=canberra, n_neighbors=5, weights=uniform \n",
            "[CV]  algorithm=brute, leaf_size=500, metric=canberra, n_neighbors=5, weights=uniform, score=0.316, total=   0.0s\n",
            "[CV] algorithm=brute, leaf_size=500, metric=canberra, n_neighbors=5, weights=distance \n",
            "[CV]  algorithm=brute, leaf_size=500, metric=canberra, n_neighbors=5, weights=distance, score=0.376, total=   0.0s\n",
            "[CV] algorithm=brute, leaf_size=500, metric=canberra, n_neighbors=5, weights=distance \n",
            "[CV]  algorithm=brute, leaf_size=500, metric=canberra, n_neighbors=5, weights=distance, score=0.289, total=   0.0s\n",
            "[CV] algorithm=brute, leaf_size=500, metric=canberra, n_neighbors=5, weights=distance \n",
            "[CV]  algorithm=brute, leaf_size=500, metric=canberra, n_neighbors=5, weights=distance, score=0.474, total=   0.0s\n",
            "[CV] algorithm=brute, leaf_size=500, metric=canberra, n_neighbors=5, weights=distance \n",
            "[CV]  algorithm=brute, leaf_size=500, metric=canberra, n_neighbors=5, weights=distance, score=0.462, total=   0.0s\n",
            "[CV] algorithm=brute, leaf_size=500, metric=canberra, n_neighbors=5, weights=distance \n",
            "[CV]  algorithm=brute, leaf_size=500, metric=canberra, n_neighbors=5, weights=distance, score=0.317, total=   0.0s\n",
            "[CV] algorithm=brute, leaf_size=500, metric=canberra, n_neighbors=10, weights=uniform \n",
            "[CV]  algorithm=brute, leaf_size=500, metric=canberra, n_neighbors=10, weights=uniform, score=0.394, total=   0.0s\n",
            "[CV] algorithm=brute, leaf_size=500, metric=canberra, n_neighbors=10, weights=uniform \n",
            "[CV]  algorithm=brute, leaf_size=500, metric=canberra, n_neighbors=10, weights=uniform, score=0.350, total=   0.0s\n",
            "[CV] algorithm=brute, leaf_size=500, metric=canberra, n_neighbors=10, weights=uniform \n",
            "[CV]  algorithm=brute, leaf_size=500, metric=canberra, n_neighbors=10, weights=uniform, score=0.526, total=   0.0s\n",
            "[CV] algorithm=brute, leaf_size=500, metric=canberra, n_neighbors=10, weights=uniform \n",
            "[CV]  algorithm=brute, leaf_size=500, metric=canberra, n_neighbors=10, weights=uniform, score=0.487, total=   0.0s\n",
            "[CV] algorithm=brute, leaf_size=500, metric=canberra, n_neighbors=10, weights=uniform \n",
            "[CV]  algorithm=brute, leaf_size=500, metric=canberra, n_neighbors=10, weights=uniform, score=0.349, total=   0.0s\n",
            "[CV] algorithm=brute, leaf_size=500, metric=canberra, n_neighbors=10, weights=distance \n",
            "[CV]  algorithm=brute, leaf_size=500, metric=canberra, n_neighbors=10, weights=distance, score=0.400, total=   0.0s\n",
            "[CV] algorithm=brute, leaf_size=500, metric=canberra, n_neighbors=10, weights=distance \n",
            "[CV]  algorithm=brute, leaf_size=500, metric=canberra, n_neighbors=10, weights=distance, score=0.350, total=   0.0s\n",
            "[CV] algorithm=brute, leaf_size=500, metric=canberra, n_neighbors=10, weights=distance \n",
            "[CV]  algorithm=brute, leaf_size=500, metric=canberra, n_neighbors=10, weights=distance, score=0.525, total=   0.0s\n",
            "[CV] algorithm=brute, leaf_size=500, metric=canberra, n_neighbors=10, weights=distance \n",
            "[CV]  algorithm=brute, leaf_size=500, metric=canberra, n_neighbors=10, weights=distance, score=0.491, total=   0.0s\n",
            "[CV] algorithm=brute, leaf_size=500, metric=canberra, n_neighbors=10, weights=distance \n",
            "[CV]  algorithm=brute, leaf_size=500, metric=canberra, n_neighbors=10, weights=distance, score=0.353, total=   0.0s\n",
            "[CV] algorithm=brute, leaf_size=500, metric=manhattan, n_neighbors=2, weights=uniform \n",
            "[CV]  algorithm=brute, leaf_size=500, metric=manhattan, n_neighbors=2, weights=uniform, score=0.261, total=   0.0s\n",
            "[CV] algorithm=brute, leaf_size=500, metric=manhattan, n_neighbors=2, weights=uniform \n",
            "[CV]  algorithm=brute, leaf_size=500, metric=manhattan, n_neighbors=2, weights=uniform, score=0.175, total=   0.0s\n",
            "[CV] algorithm=brute, leaf_size=500, metric=manhattan, n_neighbors=2, weights=uniform \n",
            "[CV]  algorithm=brute, leaf_size=500, metric=manhattan, n_neighbors=2, weights=uniform, score=0.345, total=   0.0s\n",
            "[CV] algorithm=brute, leaf_size=500, metric=manhattan, n_neighbors=2, weights=uniform \n",
            "[CV]  algorithm=brute, leaf_size=500, metric=manhattan, n_neighbors=2, weights=uniform, score=0.309, total=   0.0s\n",
            "[CV] algorithm=brute, leaf_size=500, metric=manhattan, n_neighbors=2, weights=uniform \n",
            "[CV]  algorithm=brute, leaf_size=500, metric=manhattan, n_neighbors=2, weights=uniform, score=0.197, total=   0.0s\n",
            "[CV] algorithm=brute, leaf_size=500, metric=manhattan, n_neighbors=2, weights=distance \n",
            "[CV]  algorithm=brute, leaf_size=500, metric=manhattan, n_neighbors=2, weights=distance, score=0.257, total=   0.0s\n",
            "[CV] algorithm=brute, leaf_size=500, metric=manhattan, n_neighbors=2, weights=distance \n",
            "[CV]  algorithm=brute, leaf_size=500, metric=manhattan, n_neighbors=2, weights=distance, score=0.171, total=   0.0s\n",
            "[CV] algorithm=brute, leaf_size=500, metric=manhattan, n_neighbors=2, weights=distance \n",
            "[CV]  algorithm=brute, leaf_size=500, metric=manhattan, n_neighbors=2, weights=distance, score=0.347, total=   0.0s\n",
            "[CV] algorithm=brute, leaf_size=500, metric=manhattan, n_neighbors=2, weights=distance \n",
            "[CV]  algorithm=brute, leaf_size=500, metric=manhattan, n_neighbors=2, weights=distance, score=0.307, total=   0.0s\n",
            "[CV] algorithm=brute, leaf_size=500, metric=manhattan, n_neighbors=2, weights=distance \n",
            "[CV]  algorithm=brute, leaf_size=500, metric=manhattan, n_neighbors=2, weights=distance, score=0.195, total=   0.0s\n",
            "[CV] algorithm=brute, leaf_size=500, metric=manhattan, n_neighbors=4, weights=uniform \n",
            "[CV]  algorithm=brute, leaf_size=500, metric=manhattan, n_neighbors=4, weights=uniform, score=0.337, total=   0.0s\n",
            "[CV] algorithm=brute, leaf_size=500, metric=manhattan, n_neighbors=4, weights=uniform \n",
            "[CV]  algorithm=brute, leaf_size=500, metric=manhattan, n_neighbors=4, weights=uniform, score=0.324, total=   0.0s\n",
            "[CV] algorithm=brute, leaf_size=500, metric=manhattan, n_neighbors=4, weights=uniform \n",
            "[CV]  algorithm=brute, leaf_size=500, metric=manhattan, n_neighbors=4, weights=uniform, score=0.479, total=   0.0s\n",
            "[CV] algorithm=brute, leaf_size=500, metric=manhattan, n_neighbors=4, weights=uniform \n",
            "[CV]  algorithm=brute, leaf_size=500, metric=manhattan, n_neighbors=4, weights=uniform, score=0.453, total=   0.0s\n",
            "[CV] algorithm=brute, leaf_size=500, metric=manhattan, n_neighbors=4, weights=uniform \n",
            "[CV]  algorithm=brute, leaf_size=500, metric=manhattan, n_neighbors=4, weights=uniform, score=0.269, total=   0.0s\n",
            "[CV] algorithm=brute, leaf_size=500, metric=manhattan, n_neighbors=4, weights=distance \n",
            "[CV]  algorithm=brute, leaf_size=500, metric=manhattan, n_neighbors=4, weights=distance, score=0.341, total=   0.0s\n",
            "[CV] algorithm=brute, leaf_size=500, metric=manhattan, n_neighbors=4, weights=distance \n",
            "[CV]  algorithm=brute, leaf_size=500, metric=manhattan, n_neighbors=4, weights=distance, score=0.321, total=   0.0s\n",
            "[CV] algorithm=brute, leaf_size=500, metric=manhattan, n_neighbors=4, weights=distance \n",
            "[CV]  algorithm=brute, leaf_size=500, metric=manhattan, n_neighbors=4, weights=distance, score=0.478, total=   0.0s\n",
            "[CV] algorithm=brute, leaf_size=500, metric=manhattan, n_neighbors=4, weights=distance \n",
            "[CV]  algorithm=brute, leaf_size=500, metric=manhattan, n_neighbors=4, weights=distance, score=0.451, total=   0.0s\n",
            "[CV] algorithm=brute, leaf_size=500, metric=manhattan, n_neighbors=4, weights=distance \n",
            "[CV]  algorithm=brute, leaf_size=500, metric=manhattan, n_neighbors=4, weights=distance, score=0.272, total=   0.0s\n",
            "[CV] algorithm=brute, leaf_size=500, metric=manhattan, n_neighbors=5, weights=uniform \n",
            "[CV]  algorithm=brute, leaf_size=500, metric=manhattan, n_neighbors=5, weights=uniform, score=0.331, total=   0.0s\n",
            "[CV] algorithm=brute, leaf_size=500, metric=manhattan, n_neighbors=5, weights=uniform \n",
            "[CV]  algorithm=brute, leaf_size=500, metric=manhattan, n_neighbors=5, weights=uniform, score=0.325, total=   0.0s\n",
            "[CV] algorithm=brute, leaf_size=500, metric=manhattan, n_neighbors=5, weights=uniform \n",
            "[CV]  algorithm=brute, leaf_size=500, metric=manhattan, n_neighbors=5, weights=uniform, score=0.486, total=   0.0s\n",
            "[CV] algorithm=brute, leaf_size=500, metric=manhattan, n_neighbors=5, weights=uniform \n",
            "[CV]  algorithm=brute, leaf_size=500, metric=manhattan, n_neighbors=5, weights=uniform, score=0.450, total=   0.0s\n",
            "[CV] algorithm=brute, leaf_size=500, metric=manhattan, n_neighbors=5, weights=uniform \n",
            "[CV]  algorithm=brute, leaf_size=500, metric=manhattan, n_neighbors=5, weights=uniform, score=0.325, total=   0.0s\n",
            "[CV] algorithm=brute, leaf_size=500, metric=manhattan, n_neighbors=5, weights=distance \n",
            "[CV]  algorithm=brute, leaf_size=500, metric=manhattan, n_neighbors=5, weights=distance, score=0.340, total=   0.0s\n",
            "[CV] algorithm=brute, leaf_size=500, metric=manhattan, n_neighbors=5, weights=distance \n",
            "[CV]  algorithm=brute, leaf_size=500, metric=manhattan, n_neighbors=5, weights=distance, score=0.324, total=   0.0s\n",
            "[CV] algorithm=brute, leaf_size=500, metric=manhattan, n_neighbors=5, weights=distance \n",
            "[CV]  algorithm=brute, leaf_size=500, metric=manhattan, n_neighbors=5, weights=distance, score=0.487, total=   0.0s\n",
            "[CV] algorithm=brute, leaf_size=500, metric=manhattan, n_neighbors=5, weights=distance \n",
            "[CV]  algorithm=brute, leaf_size=500, metric=manhattan, n_neighbors=5, weights=distance, score=0.449, total=   0.0s\n",
            "[CV] algorithm=brute, leaf_size=500, metric=manhattan, n_neighbors=5, weights=distance \n",
            "[CV]  algorithm=brute, leaf_size=500, metric=manhattan, n_neighbors=5, weights=distance, score=0.323, total=   0.0s\n",
            "[CV] algorithm=brute, leaf_size=500, metric=manhattan, n_neighbors=10, weights=uniform \n",
            "[CV]  algorithm=brute, leaf_size=500, metric=manhattan, n_neighbors=10, weights=uniform, score=0.407, total=   0.0s\n",
            "[CV] algorithm=brute, leaf_size=500, metric=manhattan, n_neighbors=10, weights=uniform \n",
            "[CV]  algorithm=brute, leaf_size=500, metric=manhattan, n_neighbors=10, weights=uniform, score=0.409, total=   0.0s\n",
            "[CV] algorithm=brute, leaf_size=500, metric=manhattan, n_neighbors=10, weights=uniform \n",
            "[CV]  algorithm=brute, leaf_size=500, metric=manhattan, n_neighbors=10, weights=uniform, score=0.528, total=   0.0s\n",
            "[CV] algorithm=brute, leaf_size=500, metric=manhattan, n_neighbors=10, weights=uniform \n",
            "[CV]  algorithm=brute, leaf_size=500, metric=manhattan, n_neighbors=10, weights=uniform, score=0.504, total=   0.0s\n",
            "[CV] algorithm=brute, leaf_size=500, metric=manhattan, n_neighbors=10, weights=uniform \n",
            "[CV]  algorithm=brute, leaf_size=500, metric=manhattan, n_neighbors=10, weights=uniform, score=0.348, total=   0.0s\n",
            "[CV] algorithm=brute, leaf_size=500, metric=manhattan, n_neighbors=10, weights=distance \n",
            "[CV]  algorithm=brute, leaf_size=500, metric=manhattan, n_neighbors=10, weights=distance, score=0.405, total=   0.0s\n",
            "[CV] algorithm=brute, leaf_size=500, metric=manhattan, n_neighbors=10, weights=distance \n",
            "[CV]  algorithm=brute, leaf_size=500, metric=manhattan, n_neighbors=10, weights=distance, score=0.410, total=   0.0s\n",
            "[CV] algorithm=brute, leaf_size=500, metric=manhattan, n_neighbors=10, weights=distance \n",
            "[CV]  algorithm=brute, leaf_size=500, metric=manhattan, n_neighbors=10, weights=distance, score=0.527, total=   0.0s\n",
            "[CV] algorithm=brute, leaf_size=500, metric=manhattan, n_neighbors=10, weights=distance \n",
            "[CV]  algorithm=brute, leaf_size=500, metric=manhattan, n_neighbors=10, weights=distance, score=0.506, total=   0.0s\n",
            "[CV] algorithm=brute, leaf_size=500, metric=manhattan, n_neighbors=10, weights=distance \n",
            "[CV]  algorithm=brute, leaf_size=500, metric=manhattan, n_neighbors=10, weights=distance, score=0.351, total=   0.0s\n",
            "[Parallel(n_jobs=1)]: Done 5760 out of 5760 | elapsed:   34.7s finished\n"
          ]
        },
        {
          "output_type": "execute_result",
          "data": {
            "text/plain": [
              "GridSearchCV(cv=5, estimator=KNeighborsRegressor(),\n",
              "             param_grid={'algorithm': ['auto', 'ball_tree', 'kd_tree', 'brute'],\n",
              "                         'leaf_size': [10, 20, 30, 50, 100, 500],\n",
              "                         'metric': ['euclidean', 'chebyshev', 'seuclidean',\n",
              "                                    'mahalanobis', 'canberra', 'manhattan'],\n",
              "                         'n_neighbors': [2, 4, 5, 10],\n",
              "                         'weights': ['uniform', 'distance']},\n",
              "             scoring='r2', verbose=50)"
            ]
          },
          "metadata": {},
          "execution_count": 39
        }
      ]
    },
    {
      "cell_type": "code",
      "metadata": {
        "id": "s22OAZSn4Gp3"
      },
      "source": [
        "#declaring instance of regressor algorithms for training and predicting the max temperature\r\n",
        "mlp_reg_max = MLPRegressor(random_state=42)\r\n",
        "dct_max = DecisionTreeRegressor(splitter='random',  max_depth=36, min_samples_split=140, random_state=42)\r\n",
        "knn_max = KNeighborsRegressor(algorithm = 'brute', \r\n",
        " leaf_size = 500,\r\n",
        " metric = 'manhattan',\r\n",
        " n_neighbors = 4,\r\n",
        " weights = 'distance')\r\n",
        "rf_max = RandomForestRegressor(random_state=42)\r\n",
        "svm_max = SVR(kernel = 'rbf') #Using Radial-basis function kernel\r\n"
      ],
      "execution_count": 40,
      "outputs": []
    },
    {
      "cell_type": "code",
      "metadata": {
        "id": "-CaAcz9I8-QT"
      },
      "source": [],
      "execution_count": 460,
      "outputs": []
    },
    {
      "cell_type": "code",
      "metadata": {
        "colab": {
          "base_uri": "https://localhost:8080/"
        },
        "id": "MwvE3KE79wQO",
        "outputId": "4f21708e-ba7e-4ccd-b8c1-d46a992f588f"
      },
      "source": [
        "grid_cv_dtm.predict"
      ],
      "execution_count": 41,
      "outputs": [
        {
          "output_type": "execute_result",
          "data": {
            "text/plain": [
              "<function sklearn.model_selection._search.BaseSearchCV.predict(self, X)>"
            ]
          },
          "metadata": {},
          "execution_count": 41
        }
      ]
    },
    {
      "cell_type": "code",
      "metadata": {
        "id": "d5lFNKMe9-v4"
      },
      "source": [],
      "execution_count": 461,
      "outputs": []
    },
    {
      "cell_type": "code",
      "metadata": {
        "colab": {
          "base_uri": "https://localhost:8080/"
        },
        "id": "wrDRvizm4aXP",
        "outputId": "e9b73dd0-8508-4a74-e6d0-3d43f4ad30b4"
      },
      "source": [
        "#fitting the regressor algorithms on the maximum temperature dataset\r\n",
        "mlp_reg_max.fit(X_train_StandardScaler, Y_train_max_temp)\r\n",
        "dct_max.fit(X_train_StandardScaler, Y_train_max_temp)\r\n",
        "knn_max.fit(X_train_StandardScaler, Y_train_max_temp)\r\n",
        "\r\n",
        "rf_max.fit(X_train_StandardScaler, Y_train_max_temp)\r\n",
        "svm_max.fit(X_train_StandardScaler, Y_train_max_temp)"
      ],
      "execution_count": 42,
      "outputs": [
        {
          "output_type": "execute_result",
          "data": {
            "text/plain": [
              "SVR()"
            ]
          },
          "metadata": {},
          "execution_count": 42
        }
      ]
    },
    {
      "cell_type": "code",
      "metadata": {
        "id": "BOdPtSvsiAWe"
      },
      "source": [
        "#declaring instance of regressor algorithms for training and predicting the min temperature\r\n",
        "mlp_reg_min = MLPRegressor(random_state=42)\r\n",
        "dct_min = DecisionTreeRegressor(splitter='best', criterion= 'mse', max_depth=36, min_samples_split=140, random_state=42)\r\n",
        "knn_min = KNeighborsRegressor(algorithm = 'ball_tree', \r\n",
        " leaf_size = 10,\r\n",
        " metric = 'chebyshev',\r\n",
        " n_neighbors = 5,\r\n",
        " weights = 'uniform')\r\n",
        "rf_min = RandomForestRegressor(random_state=42)\r\n",
        "svm_min = SVR(kernel = 'rbf')"
      ],
      "execution_count": 43,
      "outputs": []
    },
    {
      "cell_type": "code",
      "metadata": {
        "colab": {
          "base_uri": "https://localhost:8080/"
        },
        "id": "eJGl0uvXeo3t",
        "outputId": "5382db5c-a120-470c-9eab-53ad8ee37b50"
      },
      "source": [
        "#fitting the regressor algorithms on the minimum temperature dataset\r\n",
        "mlp_reg_min.fit(X_train_StandardScaler, Y_train_min_temp)\r\n",
        "dct_min.fit(X_train_StandardScaler, Y_train_min_temp)\r\n",
        "knn_min.fit(X_train_StandardScaler, Y_train_min_temp)\r\n",
        "rf_min.fit(X_train_StandardScaler, Y_train_min_temp)\r\n",
        "svm_min.fit(X_train_StandardScaler, Y_train_min_temp)"
      ],
      "execution_count": 44,
      "outputs": [
        {
          "output_type": "execute_result",
          "data": {
            "text/plain": [
              "SVR()"
            ]
          },
          "metadata": {},
          "execution_count": 44
        }
      ]
    },
    {
      "cell_type": "code",
      "metadata": {
        "id": "wssyuMCHQa2s"
      },
      "source": [
        "from datetime import datetime, timedelta\r\n",
        "#generating the test data set\r\n",
        "base = datetime.strptime('2020-11-1', '%Y-%m-%d')\r\n",
        "date_list = [base + timedelta(days=x) for x in range(92)]\r\n",
        "test_date = df(date_list)\r\n"
      ],
      "execution_count": 45,
      "outputs": []
    },
    {
      "cell_type": "code",
      "metadata": {
        "id": "wK9YaPYkaitI"
      },
      "source": [
        "#renaming a column \r\n",
        "test_date.rename(columns = {0:'Date'},inplace = True)\r\n"
      ],
      "execution_count": 46,
      "outputs": []
    },
    {
      "cell_type": "code",
      "metadata": {
        "id": "rVttQ-8BbfPW"
      },
      "source": [
        "#Incorporating the monthly index. Representing January as 1 and December as 12.\r\n",
        "test_date['monthly_index'] = test_date.Date.dt.month\r\n",
        "\r\n",
        "#Incorporating the year\r\n",
        "test_date['Year'] = test_date.Date.dt.year\r\n",
        "\r\n",
        "#Incorporating the weekly index. Representing monday as 1 and sunday as 7.\r\n",
        "test_date['day_of_week'] = test_date.Date.dt.dayofweek + 1\r\n",
        "\r\n",
        "#Incorporating the day of the year\r\n",
        "test_date['day_of_year'] = test_date.Date.dt.dayofyear"
      ],
      "execution_count": 47,
      "outputs": []
    },
    {
      "cell_type": "code",
      "metadata": {
        "id": "lqL3rymH_WbR"
      },
      "source": [
        "#rearranging columns for the test dataset\r\n",
        "test_date = test_date[['Year', 'day_of_year', 'monthly_index','day_of_week' ]]"
      ],
      "execution_count": 48,
      "outputs": []
    },
    {
      "cell_type": "code",
      "metadata": {
        "colab": {
          "base_uri": "https://localhost:8080/",
          "height": 407
        },
        "id": "ihrNss5Scb-y",
        "outputId": "f22d2cf7-a559-4283-8368-eb1e3f1d623f"
      },
      "source": [
        "#displaying the test dataset\r\n",
        "test_date"
      ],
      "execution_count": 49,
      "outputs": [
        {
          "output_type": "execute_result",
          "data": {
            "text/plain": [
              "    Year  day_of_year  monthly_index  day_of_week\n",
              "0   2020          306             11            7\n",
              "1   2020          307             11            1\n",
              "2   2020          308             11            2\n",
              "3   2020          309             11            3\n",
              "4   2020          310             11            4\n",
              "..   ...          ...            ...          ...\n",
              "87  2021           27              1            3\n",
              "88  2021           28              1            4\n",
              "89  2021           29              1            5\n",
              "90  2021           30              1            6\n",
              "91  2021           31              1            7\n",
              "\n",
              "[92 rows x 4 columns]"
            ],
            "text/html": "<div>\n<style scoped>\n    .dataframe tbody tr th:only-of-type {\n        vertical-align: middle;\n    }\n\n    .dataframe tbody tr th {\n        vertical-align: top;\n    }\n\n    .dataframe thead th {\n        text-align: right;\n    }\n</style>\n<table border=\"1\" class=\"dataframe\">\n  <thead>\n    <tr style=\"text-align: right;\">\n      <th></th>\n      <th>Year</th>\n      <th>day_of_year</th>\n      <th>monthly_index</th>\n      <th>day_of_week</th>\n    </tr>\n  </thead>\n  <tbody>\n    <tr>\n      <th>0</th>\n      <td>2020</td>\n      <td>306</td>\n      <td>11</td>\n      <td>7</td>\n    </tr>\n    <tr>\n      <th>1</th>\n      <td>2020</td>\n      <td>307</td>\n      <td>11</td>\n      <td>1</td>\n    </tr>\n    <tr>\n      <th>2</th>\n      <td>2020</td>\n      <td>308</td>\n      <td>11</td>\n      <td>2</td>\n    </tr>\n    <tr>\n      <th>3</th>\n      <td>2020</td>\n      <td>309</td>\n      <td>11</td>\n      <td>3</td>\n    </tr>\n    <tr>\n      <th>4</th>\n      <td>2020</td>\n      <td>310</td>\n      <td>11</td>\n      <td>4</td>\n    </tr>\n    <tr>\n      <th>...</th>\n      <td>...</td>\n      <td>...</td>\n      <td>...</td>\n      <td>...</td>\n    </tr>\n    <tr>\n      <th>87</th>\n      <td>2021</td>\n      <td>27</td>\n      <td>1</td>\n      <td>3</td>\n    </tr>\n    <tr>\n      <th>88</th>\n      <td>2021</td>\n      <td>28</td>\n      <td>1</td>\n      <td>4</td>\n    </tr>\n    <tr>\n      <th>89</th>\n      <td>2021</td>\n      <td>29</td>\n      <td>1</td>\n      <td>5</td>\n    </tr>\n    <tr>\n      <th>90</th>\n      <td>2021</td>\n      <td>30</td>\n      <td>1</td>\n      <td>6</td>\n    </tr>\n    <tr>\n      <th>91</th>\n      <td>2021</td>\n      <td>31</td>\n      <td>1</td>\n      <td>7</td>\n    </tr>\n  </tbody>\n</table>\n<p>92 rows × 4 columns</p>\n</div>"
          },
          "metadata": {},
          "execution_count": 49
        }
      ]
    },
    {
      "cell_type": "code",
      "metadata": {
        "colab": {
          "base_uri": "https://localhost:8080/"
        },
        "id": "PNUkXevmCNkV",
        "outputId": "f4fd5921-28d5-4fd7-af59-e2ca9592b588"
      },
      "source": [
        "#scaling the test dataset \r\n",
        "test_date_StandardScaler = scaler.fit_transform(test_date) \r\n",
        "test_date_StandardScaler\r\n"
      ],
      "execution_count": 50,
      "outputs": [
        {
          "output_type": "execute_result",
          "data": {
            "text/plain": [
              "array([[-0.71287918,  0.51194302,  0.60852228,  1.47391105],\n",
              "       [-0.71287918,  0.51852106,  0.60852228, -1.5063047 ],\n",
              "       [-0.71287918,  0.5250991 ,  0.60852228, -1.00960208],\n",
              "       [-0.71287918,  0.53167714,  0.60852228, -0.51289945],\n",
              "       [-0.71287918,  0.53825517,  0.60852228, -0.01619682],\n",
              "       [-0.71287918,  0.54483321,  0.60852228,  0.4805058 ],\n",
              "       [-0.71287918,  0.55141125,  0.60852228,  0.97720843],\n",
              "       [-0.71287918,  0.55798929,  0.60852228,  1.47391105],\n",
              "       [-0.71287918,  0.56456733,  0.60852228, -1.5063047 ],\n",
              "       [-0.71287918,  0.57114537,  0.60852228, -1.00960208],\n",
              "       [-0.71287918,  0.57772341,  0.60852228, -0.51289945],\n",
              "       [-0.71287918,  0.58430145,  0.60852228, -0.01619682],\n",
              "       [-0.71287918,  0.59087948,  0.60852228,  0.4805058 ],\n",
              "       [-0.71287918,  0.59745752,  0.60852228,  0.97720843],\n",
              "       [-0.71287918,  0.60403556,  0.60852228,  1.47391105],\n",
              "       [-0.71287918,  0.6106136 ,  0.60852228, -1.5063047 ],\n",
              "       [-0.71287918,  0.61719164,  0.60852228, -1.00960208],\n",
              "       [-0.71287918,  0.62376968,  0.60852228, -0.51289945],\n",
              "       [-0.71287918,  0.63034772,  0.60852228, -0.01619682],\n",
              "       [-0.71287918,  0.63692576,  0.60852228,  0.4805058 ],\n",
              "       [-0.71287918,  0.6435038 ,  0.60852228,  0.97720843],\n",
              "       [-0.71287918,  0.65008183,  0.60852228,  1.47391105],\n",
              "       [-0.71287918,  0.65665987,  0.60852228, -1.5063047 ],\n",
              "       [-0.71287918,  0.66323791,  0.60852228, -1.00960208],\n",
              "       [-0.71287918,  0.66981595,  0.60852228, -0.51289945],\n",
              "       [-0.71287918,  0.67639399,  0.60852228, -0.01619682],\n",
              "       [-0.71287918,  0.68297203,  0.60852228,  0.4805058 ],\n",
              "       [-0.71287918,  0.68955007,  0.60852228,  0.97720843],\n",
              "       [-0.71287918,  0.69612811,  0.60852228,  1.47391105],\n",
              "       [-0.71287918,  0.70270614,  0.60852228, -1.5063047 ],\n",
              "       [-0.71287918,  0.70928418,  0.80918196, -1.00960208],\n",
              "       [-0.71287918,  0.71586222,  0.80918196, -0.51289945],\n",
              "       [-0.71287918,  0.72244026,  0.80918196, -0.01619682],\n",
              "       [-0.71287918,  0.7290183 ,  0.80918196,  0.4805058 ],\n",
              "       [-0.71287918,  0.73559634,  0.80918196,  0.97720843],\n",
              "       [-0.71287918,  0.74217438,  0.80918196,  1.47391105],\n",
              "       [-0.71287918,  0.74875242,  0.80918196, -1.5063047 ],\n",
              "       [-0.71287918,  0.75533045,  0.80918196, -1.00960208],\n",
              "       [-0.71287918,  0.76190849,  0.80918196, -0.51289945],\n",
              "       [-0.71287918,  0.76848653,  0.80918196, -0.01619682],\n",
              "       [-0.71287918,  0.77506457,  0.80918196,  0.4805058 ],\n",
              "       [-0.71287918,  0.78164261,  0.80918196,  0.97720843],\n",
              "       [-0.71287918,  0.78822065,  0.80918196,  1.47391105],\n",
              "       [-0.71287918,  0.79479869,  0.80918196, -1.5063047 ],\n",
              "       [-0.71287918,  0.80137673,  0.80918196, -1.00960208],\n",
              "       [-0.71287918,  0.80795476,  0.80918196, -0.51289945],\n",
              "       [-0.71287918,  0.8145328 ,  0.80918196, -0.01619682],\n",
              "       [-0.71287918,  0.82111084,  0.80918196,  0.4805058 ],\n",
              "       [-0.71287918,  0.82768888,  0.80918196,  0.97720843],\n",
              "       [-0.71287918,  0.83426692,  0.80918196,  1.47391105],\n",
              "       [-0.71287918,  0.84084496,  0.80918196, -1.5063047 ],\n",
              "       [-0.71287918,  0.847423  ,  0.80918196, -1.00960208],\n",
              "       [-0.71287918,  0.85400104,  0.80918196, -0.51289945],\n",
              "       [-0.71287918,  0.86057908,  0.80918196, -0.01619682],\n",
              "       [-0.71287918,  0.86715711,  0.80918196,  0.4805058 ],\n",
              "       [-0.71287918,  0.87373515,  0.80918196,  0.97720843],\n",
              "       [-0.71287918,  0.88031319,  0.80918196,  1.47391105],\n",
              "       [-0.71287918,  0.88689123,  0.80918196, -1.5063047 ],\n",
              "       [-0.71287918,  0.89346927,  0.80918196, -1.00960208],\n",
              "       [-0.71287918,  0.90004731,  0.80918196, -0.51289945],\n",
              "       [-0.71287918,  0.90662535,  0.80918196, -0.01619682],\n",
              "       [ 1.40276225, -1.49435881, -1.39807449,  0.4805058 ],\n",
              "       [ 1.40276225, -1.48778077, -1.39807449,  0.97720843],\n",
              "       [ 1.40276225, -1.48120274, -1.39807449,  1.47391105],\n",
              "       [ 1.40276225, -1.4746247 , -1.39807449, -1.5063047 ],\n",
              "       [ 1.40276225, -1.46804666, -1.39807449, -1.00960208],\n",
              "       [ 1.40276225, -1.46146862, -1.39807449, -0.51289945],\n",
              "       [ 1.40276225, -1.45489058, -1.39807449, -0.01619682],\n",
              "       [ 1.40276225, -1.44831254, -1.39807449,  0.4805058 ],\n",
              "       [ 1.40276225, -1.4417345 , -1.39807449,  0.97720843],\n",
              "       [ 1.40276225, -1.43515646, -1.39807449,  1.47391105],\n",
              "       [ 1.40276225, -1.42857843, -1.39807449, -1.5063047 ],\n",
              "       [ 1.40276225, -1.42200039, -1.39807449, -1.00960208],\n",
              "       [ 1.40276225, -1.41542235, -1.39807449, -0.51289945],\n",
              "       [ 1.40276225, -1.40884431, -1.39807449, -0.01619682],\n",
              "       [ 1.40276225, -1.40226627, -1.39807449,  0.4805058 ],\n",
              "       [ 1.40276225, -1.39568823, -1.39807449,  0.97720843],\n",
              "       [ 1.40276225, -1.38911019, -1.39807449,  1.47391105],\n",
              "       [ 1.40276225, -1.38253215, -1.39807449, -1.5063047 ],\n",
              "       [ 1.40276225, -1.37595411, -1.39807449, -1.00960208],\n",
              "       [ 1.40276225, -1.36937608, -1.39807449, -0.51289945],\n",
              "       [ 1.40276225, -1.36279804, -1.39807449, -0.01619682],\n",
              "       [ 1.40276225, -1.35622   , -1.39807449,  0.4805058 ],\n",
              "       [ 1.40276225, -1.34964196, -1.39807449,  0.97720843],\n",
              "       [ 1.40276225, -1.34306392, -1.39807449,  1.47391105],\n",
              "       [ 1.40276225, -1.33648588, -1.39807449, -1.5063047 ],\n",
              "       [ 1.40276225, -1.32990784, -1.39807449, -1.00960208],\n",
              "       [ 1.40276225, -1.3233298 , -1.39807449, -0.51289945],\n",
              "       [ 1.40276225, -1.31675177, -1.39807449, -0.01619682],\n",
              "       [ 1.40276225, -1.31017373, -1.39807449,  0.4805058 ],\n",
              "       [ 1.40276225, -1.30359569, -1.39807449,  0.97720843],\n",
              "       [ 1.40276225, -1.29701765, -1.39807449,  1.47391105]])"
            ]
          },
          "metadata": {},
          "execution_count": 50
        }
      ]
    },
    {
      "cell_type": "code",
      "execution_count": 51,
      "metadata": {},
      "outputs": [
        {
          "output_type": "execute_result",
          "data": {
            "text/plain": [
              "         Date   Rainfall   Solar Exposure  Minimum temperature  \\\n",
              "0   01-11-2020        0.0            23.2                 12.6   \n",
              "1   02-11-2020        0.0            26.8                  9.6   \n",
              "2   03-11-2020        0.0            26.9                 12.1   \n",
              "3   04-11-2020        0.0             5.5                 21.9   \n",
              "4   05-11-2020        2.8            23.1                 11.1   \n",
              "..         ...        ...             ...                  ...   \n",
              "56  27-12-2020        0.0             3.3                 16.2   \n",
              "57  28-12-2020        3.2            26.5                 11.5   \n",
              "58  29-12-2020        0.0            30.7                  9.0   \n",
              "59  30-12-2020        0.0            30.3                 13.7   \n",
              "60  31-12-2020        0.0             7.3                 15.5   \n",
              "\n",
              "    Maximum Temperature  \n",
              "0                  17.0  \n",
              "1                  29.5  \n",
              "2                  30.4  \n",
              "3                  22.8  \n",
              "4                  15.8  \n",
              "..                  ...  \n",
              "56                 31.9  \n",
              "57                 17.8  \n",
              "58                 21.3  \n",
              "59                 21.4  \n",
              "60                 21.2  \n",
              "\n",
              "[61 rows x 5 columns]"
            ],
            "text/html": "<div>\n<style scoped>\n    .dataframe tbody tr th:only-of-type {\n        vertical-align: middle;\n    }\n\n    .dataframe tbody tr th {\n        vertical-align: top;\n    }\n\n    .dataframe thead th {\n        text-align: right;\n    }\n</style>\n<table border=\"1\" class=\"dataframe\">\n  <thead>\n    <tr style=\"text-align: right;\">\n      <th></th>\n      <th>Date</th>\n      <th>Rainfall</th>\n      <th>Solar Exposure</th>\n      <th>Minimum temperature</th>\n      <th>Maximum Temperature</th>\n    </tr>\n  </thead>\n  <tbody>\n    <tr>\n      <th>0</th>\n      <td>01-11-2020</td>\n      <td>0.0</td>\n      <td>23.2</td>\n      <td>12.6</td>\n      <td>17.0</td>\n    </tr>\n    <tr>\n      <th>1</th>\n      <td>02-11-2020</td>\n      <td>0.0</td>\n      <td>26.8</td>\n      <td>9.6</td>\n      <td>29.5</td>\n    </tr>\n    <tr>\n      <th>2</th>\n      <td>03-11-2020</td>\n      <td>0.0</td>\n      <td>26.9</td>\n      <td>12.1</td>\n      <td>30.4</td>\n    </tr>\n    <tr>\n      <th>3</th>\n      <td>04-11-2020</td>\n      <td>0.0</td>\n      <td>5.5</td>\n      <td>21.9</td>\n      <td>22.8</td>\n    </tr>\n    <tr>\n      <th>4</th>\n      <td>05-11-2020</td>\n      <td>2.8</td>\n      <td>23.1</td>\n      <td>11.1</td>\n      <td>15.8</td>\n    </tr>\n    <tr>\n      <th>...</th>\n      <td>...</td>\n      <td>...</td>\n      <td>...</td>\n      <td>...</td>\n      <td>...</td>\n    </tr>\n    <tr>\n      <th>56</th>\n      <td>27-12-2020</td>\n      <td>0.0</td>\n      <td>3.3</td>\n      <td>16.2</td>\n      <td>31.9</td>\n    </tr>\n    <tr>\n      <th>57</th>\n      <td>28-12-2020</td>\n      <td>3.2</td>\n      <td>26.5</td>\n      <td>11.5</td>\n      <td>17.8</td>\n    </tr>\n    <tr>\n      <th>58</th>\n      <td>29-12-2020</td>\n      <td>0.0</td>\n      <td>30.7</td>\n      <td>9.0</td>\n      <td>21.3</td>\n    </tr>\n    <tr>\n      <th>59</th>\n      <td>30-12-2020</td>\n      <td>0.0</td>\n      <td>30.3</td>\n      <td>13.7</td>\n      <td>21.4</td>\n    </tr>\n    <tr>\n      <th>60</th>\n      <td>31-12-2020</td>\n      <td>0.0</td>\n      <td>7.3</td>\n      <td>15.5</td>\n      <td>21.2</td>\n    </tr>\n  </tbody>\n</table>\n<p>61 rows × 5 columns</p>\n</div>"
          },
          "metadata": {},
          "execution_count": 51
        }
      ],
      "source": [
        "# Loading the weather test dataset \n",
        "test_dataset = pd.read_csv('Test_dataset_updated.csv') \n",
        "# #converting date_time feature from object datatypes to date\n",
        "# dataset['date'] = dataset['date'].astype('datetime64[ns]')\n",
        "\n",
        "# dataset.dtypes\n",
        "test_dataset"
      ]
    },
    {
      "cell_type": "code",
      "metadata": {
        "id": "XGd0Y4UDEtqg"
      },
      "source": [
        "from sklearn.metrics import mean_squared_error\n",
        "scores_min = []\n",
        "scores_max = []\n",
        "neighbor = []\n",
        "leaf_size_ = []\n",
        "metric_ = []\n",
        "weight = []\n",
        "algorithm_ = []\n",
        "\n",
        "n_neighbors = [2,4,5,10,25]\n",
        "leaf_size = [10,20,30,50,100,500]\n",
        "metric = ['euclidean','chebyshev','manhattan']\n",
        "weights = ['uniform', 'distance']\n",
        "algorithm = ['auto', 'ball_tree', 'kd_tree', 'brute'] \n",
        "\n",
        "for i in n_neighbors:\n",
        "  for j in leaf_size:\n",
        "    for k in metric:\n",
        "      for l in weights:\n",
        "        for m in algorithm:\n",
        "          # print(i,j,k,l,m)\n",
        "          # knn_mini = KNeighborsRegressor(n_neighbors = i, leaf_size = j, metric = k, weights = l, algorithm = m)\n",
        "          knn_maxi = KNeighborsRegressor(n_neighbors = i, leaf_size = j, metric = k, weights = l, algorithm = m)\n",
        "\n",
        "          # knn_mini.fit(X_train_StandardScaler, Y_train_min_temp)\n",
        "          knn_maxi.fit(X_train_StandardScaler, Y_train_max_temp)\n",
        "\n",
        "          # scores_min.append(mean_squared_error(test_dataset['Minimum temperature'].values, knn_mini.predict(test_date_StandardScaler[0:61])))\n",
        "\n",
        "          scores_max.append(mean_squared_error(test_dataset['Maximum Temperature'].values, knn_maxi.predict(test_date_StandardScaler[0:61])))\n",
        "\n",
        "          neighbor.append(i)\n",
        "          leaf_size_.append(j)\n",
        "          metric_.append(k)\n",
        "          weight.append(l)\n",
        "          algorithm_.append(m)"
      ],
      "execution_count": 52,
      "outputs": []
    },
    {
      "cell_type": "code",
      "metadata": {
        "colab": {
          "base_uri": "https://localhost:8080/"
        },
        "id": "KTCqLZhvPJVc",
        "outputId": "b1032dd5-1858-4830-b7b4-10cb7dea799b"
      },
      "source": [
        "min(scores_max)"
      ],
      "execution_count": 53,
      "outputs": [
        {
          "output_type": "execute_result",
          "data": {
            "text/plain": [
              "73.16152786885245"
            ]
          },
          "metadata": {},
          "execution_count": 53
        }
      ]
    },
    {
      "cell_type": "code",
      "metadata": {
        "colab": {
          "base_uri": "https://localhost:8080/"
        },
        "id": "CkKYpWFpPQux",
        "outputId": "f9295a18-78f8-4f7a-843e-348e2727675d"
      },
      "source": [
        "import numpy as np\r\n",
        "index_max = np.argmin(scores_max)\r\n",
        "index_max"
      ],
      "execution_count": 54,
      "outputs": [
        {
          "output_type": "execute_result",
          "data": {
            "text/plain": [
              "296"
            ]
          },
          "metadata": {},
          "execution_count": 54
        }
      ]
    },
    {
      "cell_type": "code",
      "execution_count": 55,
      "metadata": {},
      "outputs": [
        {
          "output_type": "error",
          "ename": "ValueError",
          "evalue": "min() arg is an empty sequence",
          "traceback": [
            "\u001b[0;31m---------------------------------------------------------------------------\u001b[0m",
            "\u001b[0;31mValueError\u001b[0m                                Traceback (most recent call last)",
            "\u001b[0;32m<ipython-input-55-4d3c3c9093cd>\u001b[0m in \u001b[0;36m<module>\u001b[0;34m\u001b[0m\n\u001b[0;32m----> 1\u001b[0;31m \u001b[0mmin\u001b[0m\u001b[0;34m(\u001b[0m\u001b[0mscores_min\u001b[0m\u001b[0;34m)\u001b[0m\u001b[0;34m\u001b[0m\u001b[0;34m\u001b[0m\u001b[0m\n\u001b[0m",
            "\u001b[0;31mValueError\u001b[0m: min() arg is an empty sequence"
          ]
        }
      ],
      "source": [
        "min(scores_min)"
      ]
    },
    {
      "cell_type": "code",
      "metadata": {
        "colab": {
          "base_uri": "https://localhost:8080/"
        },
        "id": "DgibbODeJQhS",
        "outputId": "a02ef73a-bbc5-4b19-df10-514788651de3"
      },
      "source": [
        "import numpy as np\r\n",
        "index_min_min = np.argmin(scores_min)\r\n",
        "index_min_min"
      ],
      "execution_count": 78,
      "outputs": [
        {
          "output_type": "error",
          "ename": "ValueError",
          "evalue": "attempt to get argmin of an empty sequence",
          "traceback": [
            "\u001b[0;31m---------------------------------------------------------------------------\u001b[0m",
            "\u001b[0;31mValueError\u001b[0m                                Traceback (most recent call last)",
            "\u001b[0;32m<ipython-input-78-b3e2dc65254c>\u001b[0m in \u001b[0;36m<module>\u001b[0;34m\u001b[0m\n\u001b[1;32m      1\u001b[0m \u001b[0;32mimport\u001b[0m \u001b[0mnumpy\u001b[0m \u001b[0;32mas\u001b[0m \u001b[0mnp\u001b[0m\u001b[0;34m\u001b[0m\u001b[0;34m\u001b[0m\u001b[0m\n\u001b[0;32m----> 2\u001b[0;31m \u001b[0mindex_min_min\u001b[0m \u001b[0;34m=\u001b[0m \u001b[0mnp\u001b[0m\u001b[0;34m.\u001b[0m\u001b[0margmin\u001b[0m\u001b[0;34m(\u001b[0m\u001b[0mscores_min\u001b[0m\u001b[0;34m)\u001b[0m\u001b[0;34m\u001b[0m\u001b[0;34m\u001b[0m\u001b[0m\n\u001b[0m\u001b[1;32m      3\u001b[0m \u001b[0mindex_min_min\u001b[0m\u001b[0;34m\u001b[0m\u001b[0;34m\u001b[0m\u001b[0m\n",
            "\u001b[0;32m<__array_function__ internals>\u001b[0m in \u001b[0;36margmin\u001b[0;34m(*args, **kwargs)\u001b[0m\n",
            "\u001b[0;32m~/opt/anaconda3/lib/python3.7/site-packages/numpy/core/fromnumeric.py\u001b[0m in \u001b[0;36margmin\u001b[0;34m(a, axis, out)\u001b[0m\n\u001b[1;32m   1267\u001b[0m \u001b[0;34m\u001b[0m\u001b[0m\n\u001b[1;32m   1268\u001b[0m     \"\"\"\n\u001b[0;32m-> 1269\u001b[0;31m     \u001b[0;32mreturn\u001b[0m \u001b[0m_wrapfunc\u001b[0m\u001b[0;34m(\u001b[0m\u001b[0ma\u001b[0m\u001b[0;34m,\u001b[0m \u001b[0;34m'argmin'\u001b[0m\u001b[0;34m,\u001b[0m \u001b[0maxis\u001b[0m\u001b[0;34m=\u001b[0m\u001b[0maxis\u001b[0m\u001b[0;34m,\u001b[0m \u001b[0mout\u001b[0m\u001b[0;34m=\u001b[0m\u001b[0mout\u001b[0m\u001b[0;34m)\u001b[0m\u001b[0;34m\u001b[0m\u001b[0;34m\u001b[0m\u001b[0m\n\u001b[0m\u001b[1;32m   1270\u001b[0m \u001b[0;34m\u001b[0m\u001b[0m\n\u001b[1;32m   1271\u001b[0m \u001b[0;34m\u001b[0m\u001b[0m\n",
            "\u001b[0;32m~/opt/anaconda3/lib/python3.7/site-packages/numpy/core/fromnumeric.py\u001b[0m in \u001b[0;36m_wrapfunc\u001b[0;34m(obj, method, *args, **kwds)\u001b[0m\n\u001b[1;32m     53\u001b[0m     \u001b[0mbound\u001b[0m \u001b[0;34m=\u001b[0m \u001b[0mgetattr\u001b[0m\u001b[0;34m(\u001b[0m\u001b[0mobj\u001b[0m\u001b[0;34m,\u001b[0m \u001b[0mmethod\u001b[0m\u001b[0;34m,\u001b[0m \u001b[0;32mNone\u001b[0m\u001b[0;34m)\u001b[0m\u001b[0;34m\u001b[0m\u001b[0;34m\u001b[0m\u001b[0m\n\u001b[1;32m     54\u001b[0m     \u001b[0;32mif\u001b[0m \u001b[0mbound\u001b[0m \u001b[0;32mis\u001b[0m \u001b[0;32mNone\u001b[0m\u001b[0;34m:\u001b[0m\u001b[0;34m\u001b[0m\u001b[0;34m\u001b[0m\u001b[0m\n\u001b[0;32m---> 55\u001b[0;31m         \u001b[0;32mreturn\u001b[0m \u001b[0m_wrapit\u001b[0m\u001b[0;34m(\u001b[0m\u001b[0mobj\u001b[0m\u001b[0;34m,\u001b[0m \u001b[0mmethod\u001b[0m\u001b[0;34m,\u001b[0m \u001b[0;34m*\u001b[0m\u001b[0margs\u001b[0m\u001b[0;34m,\u001b[0m \u001b[0;34m**\u001b[0m\u001b[0mkwds\u001b[0m\u001b[0;34m)\u001b[0m\u001b[0;34m\u001b[0m\u001b[0;34m\u001b[0m\u001b[0m\n\u001b[0m\u001b[1;32m     56\u001b[0m \u001b[0;34m\u001b[0m\u001b[0m\n\u001b[1;32m     57\u001b[0m     \u001b[0;32mtry\u001b[0m\u001b[0;34m:\u001b[0m\u001b[0;34m\u001b[0m\u001b[0;34m\u001b[0m\u001b[0m\n",
            "\u001b[0;32m~/opt/anaconda3/lib/python3.7/site-packages/numpy/core/fromnumeric.py\u001b[0m in \u001b[0;36m_wrapit\u001b[0;34m(obj, method, *args, **kwds)\u001b[0m\n\u001b[1;32m     42\u001b[0m     \u001b[0;32mexcept\u001b[0m \u001b[0mAttributeError\u001b[0m\u001b[0;34m:\u001b[0m\u001b[0;34m\u001b[0m\u001b[0;34m\u001b[0m\u001b[0m\n\u001b[1;32m     43\u001b[0m         \u001b[0mwrap\u001b[0m \u001b[0;34m=\u001b[0m \u001b[0;32mNone\u001b[0m\u001b[0;34m\u001b[0m\u001b[0;34m\u001b[0m\u001b[0m\n\u001b[0;32m---> 44\u001b[0;31m     \u001b[0mresult\u001b[0m \u001b[0;34m=\u001b[0m \u001b[0mgetattr\u001b[0m\u001b[0;34m(\u001b[0m\u001b[0masarray\u001b[0m\u001b[0;34m(\u001b[0m\u001b[0mobj\u001b[0m\u001b[0;34m)\u001b[0m\u001b[0;34m,\u001b[0m \u001b[0mmethod\u001b[0m\u001b[0;34m)\u001b[0m\u001b[0;34m(\u001b[0m\u001b[0;34m*\u001b[0m\u001b[0margs\u001b[0m\u001b[0;34m,\u001b[0m \u001b[0;34m**\u001b[0m\u001b[0mkwds\u001b[0m\u001b[0;34m)\u001b[0m\u001b[0;34m\u001b[0m\u001b[0;34m\u001b[0m\u001b[0m\n\u001b[0m\u001b[1;32m     45\u001b[0m     \u001b[0;32mif\u001b[0m \u001b[0mwrap\u001b[0m\u001b[0;34m:\u001b[0m\u001b[0;34m\u001b[0m\u001b[0;34m\u001b[0m\u001b[0m\n\u001b[1;32m     46\u001b[0m         \u001b[0;32mif\u001b[0m \u001b[0;32mnot\u001b[0m \u001b[0misinstance\u001b[0m\u001b[0;34m(\u001b[0m\u001b[0mresult\u001b[0m\u001b[0;34m,\u001b[0m \u001b[0mmu\u001b[0m\u001b[0;34m.\u001b[0m\u001b[0mndarray\u001b[0m\u001b[0;34m)\u001b[0m\u001b[0;34m:\u001b[0m\u001b[0;34m\u001b[0m\u001b[0;34m\u001b[0m\u001b[0m\n",
            "\u001b[0;31mValueError\u001b[0m: attempt to get argmin of an empty sequence"
          ]
        }
      ]
    },
    {
      "cell_type": "code",
      "metadata": {
        "colab": {
          "base_uri": "https://localhost:8080/"
        },
        "id": "7theLilDJXMo",
        "outputId": "db957571-e7a7-4f00-a0a0-587d39ae5233"
      },
      "source": [
        "scores[297]\r\n",
        "p = [neighbor[297], leaf_size_[297], metric_[297], weight[297], algorithm_[297]]\r\n",
        "p"
      ],
      "execution_count": 83,
      "outputs": [
        {
          "output_type": "error",
          "ename": "NameError",
          "evalue": "name 'scores' is not defined",
          "traceback": [
            "\u001b[0;31m---------------------------------------------------------------------------\u001b[0m",
            "\u001b[0;31mNameError\u001b[0m                                 Traceback (most recent call last)",
            "\u001b[0;32m<ipython-input-83-cbb2635eef5f>\u001b[0m in \u001b[0;36m<module>\u001b[0;34m\u001b[0m\n\u001b[0;32m----> 1\u001b[0;31m \u001b[0mscores\u001b[0m\u001b[0;34m[\u001b[0m\u001b[0;36m297\u001b[0m\u001b[0;34m]\u001b[0m\u001b[0;34m\u001b[0m\u001b[0;34m\u001b[0m\u001b[0m\n\u001b[0m\u001b[1;32m      2\u001b[0m \u001b[0mp\u001b[0m \u001b[0;34m=\u001b[0m \u001b[0;34m[\u001b[0m\u001b[0mneighbor\u001b[0m\u001b[0;34m[\u001b[0m\u001b[0;36m297\u001b[0m\u001b[0;34m]\u001b[0m\u001b[0;34m,\u001b[0m \u001b[0mleaf_size_\u001b[0m\u001b[0;34m[\u001b[0m\u001b[0;36m297\u001b[0m\u001b[0;34m]\u001b[0m\u001b[0;34m,\u001b[0m \u001b[0mmetric_\u001b[0m\u001b[0;34m[\u001b[0m\u001b[0;36m297\u001b[0m\u001b[0;34m]\u001b[0m\u001b[0;34m,\u001b[0m \u001b[0mweight\u001b[0m\u001b[0;34m[\u001b[0m\u001b[0;36m297\u001b[0m\u001b[0;34m]\u001b[0m\u001b[0;34m,\u001b[0m \u001b[0malgorithm_\u001b[0m\u001b[0;34m[\u001b[0m\u001b[0;36m297\u001b[0m\u001b[0;34m]\u001b[0m\u001b[0;34m]\u001b[0m\u001b[0;34m\u001b[0m\u001b[0;34m\u001b[0m\u001b[0m\n\u001b[1;32m      3\u001b[0m \u001b[0mp\u001b[0m\u001b[0;34m\u001b[0m\u001b[0;34m\u001b[0m\u001b[0m\n",
            "\u001b[0;31mNameError\u001b[0m: name 'scores' is not defined"
          ]
        }
      ]
    },
    {
      "cell_type": "code",
      "metadata": {
        "id": "aH1fVvxyUv4Y"
      },
      "source": [
        "#predicting minimum temperature using the regressor algorithms \r\n",
        "y_pred_min_mlp = mlp_reg_min.predict(test_date_StandardScaler)\r\n",
        "y_pred_min_dt = dct_min.predict(test_date_StandardScaler)\r\n",
        "y_pred_min_knn = knn_min.predict(test_date_StandardScaler)\r\n",
        "y_pred_min_rf = rf_min.predict(test_date_StandardScaler)\r\n",
        "y_pred_min_svm = svm_min.predict(test_date_StandardScaler)"
      ],
      "execution_count": 57,
      "outputs": []
    },
    {
      "cell_type": "code",
      "metadata": {
        "id": "aGWekk1NlCUG"
      },
      "source": [
        "#predicting maximum temperature using the regressor algorithms \r\n",
        "y_pred_max_mlp = mlp_reg_max.predict(test_date_StandardScaler)\r\n",
        "y_pred_max_dt = dct_max.predict(test_date_StandardScaler)\r\n",
        "y_pred_max_knn = knn_max.predict(test_date_StandardScaler)\r\n",
        "y_pred_max_rf = rf_max.predict(test_date_StandardScaler)\r\n",
        "y_pred_max_svm = svm_max.predict(test_date_StandardScaler)"
      ],
      "execution_count": 58,
      "outputs": []
    },
    {
      "cell_type": "code",
      "metadata": {
        "colab": {
          "base_uri": "https://localhost:8080/"
        },
        "id": "3GdCOVz4r8tN",
        "outputId": "830d5998-1a5c-4452-acef-8845995fb20d"
      },
      "source": [
        "print(np.concatenate((test_dataset['Minimum temperature'].values.reshape(len(test_dataset['Minimum temperature']),1), y_pred_min_knn[0:61].reshape(len(y_pred_min_mlp[0:61]),1)),1))"
      ],
      "execution_count": 59,
      "outputs": [
        {
          "output_type": "stream",
          "name": "stdout",
          "text": [
            "[[12.6   9.24]\n [ 9.6   8.9 ]\n [12.1   9.22]\n [21.9   9.64]\n [11.1   9.02]\n [ 9.5   8.64]\n [11.3   7.98]\n [ 8.4   9.24]\n [11.3   8.9 ]\n [16.1   9.22]\n [22.8   9.64]\n [19.3   9.02]\n [15.4  11.16]\n [13.5   9.12]\n [12.3   9.18]\n [18.2   9.88]\n [11.9   9.2 ]\n [10.8   9.82]\n [16.1   9.4 ]\n [15.6  11.42]\n [13.3   9.76]\n [16.1   9.64]\n [16.6   9.54]\n [13.5   9.02]\n [13.2   9.5 ]\n [15.8   9.9 ]\n [10.2  10.32]\n [16.    9.76]\n [14.4   9.64]\n [12.1   9.54]\n [16.8   9.18]\n [11.9   9.3 ]\n [10.6  11.1 ]\n [11.4  10.74]\n [13.9  10.84]\n [12.9   9.96]\n [11.3  10.08]\n [10.6   9.18]\n [11.7   9.3 ]\n [13.1  11.1 ]\n [ 9.6  10.74]\n [11.9  10.84]\n [16.    9.96]\n [17.7  10.46]\n [20.4   9.18]\n [15.8   9.74]\n [15.5  11.1 ]\n [12.5  10.74]\n [12.3  10.84]\n [ 9.9   9.96]\n [11.2  10.46]\n [13.8   9.18]\n [13.5   9.74]\n [13.4  11.1 ]\n [13.6  10.74]\n [10.2  10.84]\n [16.2   9.96]\n [11.5  10.46]\n [ 9.    9.18]\n [13.7   9.74]\n [15.5  10.72]]\n"
          ]
        }
      ]
    },
    {
      "cell_type": "code",
      "metadata": {
        "colab": {
          "base_uri": "https://localhost:8080/"
        },
        "id": "OIvfvR_cnKQ-",
        "outputId": "1e8a2721-208a-4c76-ce04-4ce5fc847f46"
      },
      "source": [
        "#Using Sum of squared residuals to evaluate the performance of the models\n",
        "from sklearn.metrics import r2_score\n",
        "from prettytable import PrettyTable\n",
        "\n",
        "rt = PrettyTable([\"Algorithm\", \"r2 for minimum temperature\",\"r2 for maximum temperature\", \"MSE for minimum temperature\",\"MSE for maximum temperature\",])\n",
        "rt.align[\"Algorithm\"] = \"l\" # Left align city names\n",
        "rt.padding_width = 1 # One space between column edges and contents (default)\n",
        "rt.add_row([\"MLP\",\n",
        "            '{:.2f}'.format(r2_score(test_dataset['Minimum temperature'].values, y_pred_min_mlp[0:61])),\n",
        "            '{:.2f}'.format(r2_score(test_dataset['Maximum Temperature'].values, y_pred_max_mlp[0:61])),\n",
        "            '{:.2f}'.format(mean_squared_error(test_dataset['Minimum temperature'].values, y_pred_min_mlp[0:61])),\n",
        "            '{:.2f}'.format(mean_squared_error(test_dataset['Maximum Temperature'].values, y_pred_max_mlp[0:61]))])\n",
        "\n",
        "rt.add_row([\"Decision Tree\",\n",
        "            '{:.2f}'.format(r2_score(test_dataset['Minimum temperature'].values, y_pred_min_dt[0:61])),\n",
        "            '{:.2f}'.format(r2_score(test_dataset['Maximum Temperature'].values, y_pred_max_dt[0:61])),\n",
        "            '{:.2f}'.format(mean_squared_error(test_dataset['Minimum temperature'].values, y_pred_min_dt[0:61])),\n",
        "            '{:.2f}'.format(mean_squared_error(test_dataset['Maximum Temperature'].values, y_pred_max_dt[0:61]))])\n",
        "\n",
        "rt.add_row([\"KNN\",\n",
        "            '{:.2f}'.format(r2_score(test_dataset['Minimum temperature'].values, y_pred_min_knn[0:61])),\n",
        "            '{:.2f}'.format(r2_score(test_dataset['Maximum Temperature'].values, y_pred_max_knn[0:61])),\n",
        "            '{:.2f}'.format(mean_squared_error(test_dataset['Minimum temperature'].values, y_pred_min_knn[0:61])),\n",
        "            '{:.2f}'.format(mean_squared_error(test_dataset['Maximum Temperature'].values, y_pred_max_knn[0:61]))])\n",
        "\n",
        "rt.add_row([\"Random Forest\",\n",
        "            '{:.2f}'.format(r2_score(test_dataset['Minimum temperature'].values, y_pred_min_rf[0:61])),\n",
        "            '{:.2f}'.format(r2_score(test_dataset['Maximum Temperature'].values, y_pred_max_rf[0:61])),\n",
        "            '{:.2f}'.format(mean_squared_error(test_dataset['Minimum temperature'].values, y_pred_min_rf[0:61])),\n",
        "            '{:.2f}'.format(mean_squared_error(test_dataset['Maximum Temperature'].values, y_pred_max_rf[0:61]))])\n",
        "\n",
        "rt.add_row([\"SVM\",\n",
        "            '{:.2f}'.format(r2_score(test_dataset['Minimum temperature'].values, y_pred_min_svm[0:61])),\n",
        "            '{:.2f}'.format(r2_score(test_dataset['Maximum Temperature'].values, y_pred_max_svm[0:61])),\n",
        "            '{:.2f}'.format(mean_squared_error(test_dataset['Minimum temperature'].values, y_pred_min_svm[0:61])),\n",
        "            '{:.2f}'.format(mean_squared_error(test_dataset['Maximum Temperature'].values, y_pred_max_svm[0:61]))])\n",
        "\n",
        "print(rt)"
      ],
      "execution_count": 60,
      "outputs": [
        {
          "output_type": "stream",
          "name": "stdout",
          "text": [
            "+---------------+----------------------------+----------------------------+-----------------------------+-----------------------------+\n| Algorithm     | r2 for minimum temperature | r2 for maximum temperature | MSE for minimum temperature | MSE for maximum temperature |\n+---------------+----------------------------+----------------------------+-----------------------------+-----------------------------+\n| MLP           |           -2.56            |           -1.79            |            33.35            |            79.68            |\n| Decision Tree |           -2.27            |           -2.02            |            30.68            |            86.30            |\n| KNN           |           -1.54            |           -1.67            |            23.78            |            76.30            |\n| Random Forest |           -2.05            |           -1.85            |            28.62            |            81.29            |\n| SVM           |           -2.58            |           -2.09            |            33.59            |            88.11            |\n+---------------+----------------------------+----------------------------+-----------------------------+-----------------------------+\n"
          ]
        }
      ]
    },
    {
      "cell_type": "code",
      "metadata": {
        "id": "_659pGD8DXdm"
      },
      "source": [
        "dataset_wt_weather_features.to_csv('dataset_with_public_holidays.csv')"
      ],
      "execution_count": 61,
      "outputs": []
    },
    {
      "source": [
        "# Sun exposal"
      ],
      "cell_type": "markdown",
      "metadata": {
        "id": "SRN4_mNkQHHZ"
      }
    },
    {
      "cell_type": "code",
      "execution_count": 62,
      "metadata": {},
      "outputs": [],
      "source": [
        "Y_train_sun = dataset_wt_weather_features['Daily global solar exposure (MJ/m*m)']\n",
        "# clean\n",
        "Y_train_sun = Y_train_sun.fillna(Y_train_sun.mean())"
      ]
    },
    {
      "cell_type": "code",
      "execution_count": 63,
      "metadata": {},
      "outputs": [
        {
          "output_type": "execute_result",
          "data": {
            "text/plain": [
              "array([[-1.44730998e+00, -1.71507061e+00, -1.58631120e+00,\n",
              "        -9.38637205e-04],\n",
              "       [-1.44730998e+00, -1.70542213e+00, -1.58631120e+00,\n",
              "         4.99354993e-01],\n",
              "       [-1.44730998e+00, -1.69577366e+00, -1.58631120e+00,\n",
              "         9.99648624e-01],\n",
              "       ...,\n",
              "       [ 1.53055614e+00,  1.19876862e+00,  1.06833203e+00,\n",
              "        -9.38637205e-04],\n",
              "       [ 1.53055614e+00,  1.20841709e+00,  1.06833203e+00,\n",
              "         4.99354993e-01],\n",
              "       [ 1.53055614e+00,  1.21806557e+00,  1.06833203e+00,\n",
              "         9.99648624e-01]])"
            ]
          },
          "metadata": {},
          "execution_count": 63
        }
      ],
      "source": [
        "# from sklearn.preprocessing import StandardScaler\n",
        "# scaler = StandardScaler()\n",
        "# X_train_scaled = scaler.fit_transform(X_train) \n",
        "X_train_StandardScaler"
      ]
    },
    {
      "cell_type": "code",
      "execution_count": 64,
      "metadata": {},
      "outputs": [
        {
          "output_type": "execute_result",
          "data": {
            "text/plain": [
              "array([[-0.71287918,  0.51194302,  0.60852228,  1.47391105],\n",
              "       [-0.71287918,  0.51852106,  0.60852228, -1.5063047 ],\n",
              "       [-0.71287918,  0.5250991 ,  0.60852228, -1.00960208],\n",
              "       [-0.71287918,  0.53167714,  0.60852228, -0.51289945],\n",
              "       [-0.71287918,  0.53825517,  0.60852228, -0.01619682],\n",
              "       [-0.71287918,  0.54483321,  0.60852228,  0.4805058 ],\n",
              "       [-0.71287918,  0.55141125,  0.60852228,  0.97720843],\n",
              "       [-0.71287918,  0.55798929,  0.60852228,  1.47391105],\n",
              "       [-0.71287918,  0.56456733,  0.60852228, -1.5063047 ],\n",
              "       [-0.71287918,  0.57114537,  0.60852228, -1.00960208],\n",
              "       [-0.71287918,  0.57772341,  0.60852228, -0.51289945],\n",
              "       [-0.71287918,  0.58430145,  0.60852228, -0.01619682],\n",
              "       [-0.71287918,  0.59087948,  0.60852228,  0.4805058 ],\n",
              "       [-0.71287918,  0.59745752,  0.60852228,  0.97720843],\n",
              "       [-0.71287918,  0.60403556,  0.60852228,  1.47391105],\n",
              "       [-0.71287918,  0.6106136 ,  0.60852228, -1.5063047 ],\n",
              "       [-0.71287918,  0.61719164,  0.60852228, -1.00960208],\n",
              "       [-0.71287918,  0.62376968,  0.60852228, -0.51289945],\n",
              "       [-0.71287918,  0.63034772,  0.60852228, -0.01619682],\n",
              "       [-0.71287918,  0.63692576,  0.60852228,  0.4805058 ],\n",
              "       [-0.71287918,  0.6435038 ,  0.60852228,  0.97720843],\n",
              "       [-0.71287918,  0.65008183,  0.60852228,  1.47391105],\n",
              "       [-0.71287918,  0.65665987,  0.60852228, -1.5063047 ],\n",
              "       [-0.71287918,  0.66323791,  0.60852228, -1.00960208],\n",
              "       [-0.71287918,  0.66981595,  0.60852228, -0.51289945],\n",
              "       [-0.71287918,  0.67639399,  0.60852228, -0.01619682],\n",
              "       [-0.71287918,  0.68297203,  0.60852228,  0.4805058 ],\n",
              "       [-0.71287918,  0.68955007,  0.60852228,  0.97720843],\n",
              "       [-0.71287918,  0.69612811,  0.60852228,  1.47391105],\n",
              "       [-0.71287918,  0.70270614,  0.60852228, -1.5063047 ],\n",
              "       [-0.71287918,  0.70928418,  0.80918196, -1.00960208],\n",
              "       [-0.71287918,  0.71586222,  0.80918196, -0.51289945],\n",
              "       [-0.71287918,  0.72244026,  0.80918196, -0.01619682],\n",
              "       [-0.71287918,  0.7290183 ,  0.80918196,  0.4805058 ],\n",
              "       [-0.71287918,  0.73559634,  0.80918196,  0.97720843],\n",
              "       [-0.71287918,  0.74217438,  0.80918196,  1.47391105],\n",
              "       [-0.71287918,  0.74875242,  0.80918196, -1.5063047 ],\n",
              "       [-0.71287918,  0.75533045,  0.80918196, -1.00960208],\n",
              "       [-0.71287918,  0.76190849,  0.80918196, -0.51289945],\n",
              "       [-0.71287918,  0.76848653,  0.80918196, -0.01619682],\n",
              "       [-0.71287918,  0.77506457,  0.80918196,  0.4805058 ],\n",
              "       [-0.71287918,  0.78164261,  0.80918196,  0.97720843],\n",
              "       [-0.71287918,  0.78822065,  0.80918196,  1.47391105],\n",
              "       [-0.71287918,  0.79479869,  0.80918196, -1.5063047 ],\n",
              "       [-0.71287918,  0.80137673,  0.80918196, -1.00960208],\n",
              "       [-0.71287918,  0.80795476,  0.80918196, -0.51289945],\n",
              "       [-0.71287918,  0.8145328 ,  0.80918196, -0.01619682],\n",
              "       [-0.71287918,  0.82111084,  0.80918196,  0.4805058 ],\n",
              "       [-0.71287918,  0.82768888,  0.80918196,  0.97720843],\n",
              "       [-0.71287918,  0.83426692,  0.80918196,  1.47391105],\n",
              "       [-0.71287918,  0.84084496,  0.80918196, -1.5063047 ],\n",
              "       [-0.71287918,  0.847423  ,  0.80918196, -1.00960208],\n",
              "       [-0.71287918,  0.85400104,  0.80918196, -0.51289945],\n",
              "       [-0.71287918,  0.86057908,  0.80918196, -0.01619682],\n",
              "       [-0.71287918,  0.86715711,  0.80918196,  0.4805058 ],\n",
              "       [-0.71287918,  0.87373515,  0.80918196,  0.97720843],\n",
              "       [-0.71287918,  0.88031319,  0.80918196,  1.47391105],\n",
              "       [-0.71287918,  0.88689123,  0.80918196, -1.5063047 ],\n",
              "       [-0.71287918,  0.89346927,  0.80918196, -1.00960208],\n",
              "       [-0.71287918,  0.90004731,  0.80918196, -0.51289945],\n",
              "       [-0.71287918,  0.90662535,  0.80918196, -0.01619682],\n",
              "       [ 1.40276225, -1.49435881, -1.39807449,  0.4805058 ],\n",
              "       [ 1.40276225, -1.48778077, -1.39807449,  0.97720843],\n",
              "       [ 1.40276225, -1.48120274, -1.39807449,  1.47391105],\n",
              "       [ 1.40276225, -1.4746247 , -1.39807449, -1.5063047 ],\n",
              "       [ 1.40276225, -1.46804666, -1.39807449, -1.00960208],\n",
              "       [ 1.40276225, -1.46146862, -1.39807449, -0.51289945],\n",
              "       [ 1.40276225, -1.45489058, -1.39807449, -0.01619682],\n",
              "       [ 1.40276225, -1.44831254, -1.39807449,  0.4805058 ],\n",
              "       [ 1.40276225, -1.4417345 , -1.39807449,  0.97720843],\n",
              "       [ 1.40276225, -1.43515646, -1.39807449,  1.47391105],\n",
              "       [ 1.40276225, -1.42857843, -1.39807449, -1.5063047 ],\n",
              "       [ 1.40276225, -1.42200039, -1.39807449, -1.00960208],\n",
              "       [ 1.40276225, -1.41542235, -1.39807449, -0.51289945],\n",
              "       [ 1.40276225, -1.40884431, -1.39807449, -0.01619682],\n",
              "       [ 1.40276225, -1.40226627, -1.39807449,  0.4805058 ],\n",
              "       [ 1.40276225, -1.39568823, -1.39807449,  0.97720843],\n",
              "       [ 1.40276225, -1.38911019, -1.39807449,  1.47391105],\n",
              "       [ 1.40276225, -1.38253215, -1.39807449, -1.5063047 ],\n",
              "       [ 1.40276225, -1.37595411, -1.39807449, -1.00960208],\n",
              "       [ 1.40276225, -1.36937608, -1.39807449, -0.51289945],\n",
              "       [ 1.40276225, -1.36279804, -1.39807449, -0.01619682],\n",
              "       [ 1.40276225, -1.35622   , -1.39807449,  0.4805058 ],\n",
              "       [ 1.40276225, -1.34964196, -1.39807449,  0.97720843],\n",
              "       [ 1.40276225, -1.34306392, -1.39807449,  1.47391105],\n",
              "       [ 1.40276225, -1.33648588, -1.39807449, -1.5063047 ],\n",
              "       [ 1.40276225, -1.32990784, -1.39807449, -1.00960208],\n",
              "       [ 1.40276225, -1.3233298 , -1.39807449, -0.51289945],\n",
              "       [ 1.40276225, -1.31675177, -1.39807449, -0.01619682],\n",
              "       [ 1.40276225, -1.31017373, -1.39807449,  0.4805058 ],\n",
              "       [ 1.40276225, -1.30359569, -1.39807449,  0.97720843],\n",
              "       [ 1.40276225, -1.29701765, -1.39807449,  1.47391105]])"
            ]
          },
          "metadata": {},
          "execution_count": 64
        }
      ],
      "source": [
        "# test_date\n",
        "# test_date_StandardScaler = scaler.fit_transform(test_date) \n",
        "test_date_StandardScaler"
      ]
    },
    {
      "cell_type": "code",
      "execution_count": 75,
      "metadata": {},
      "outputs": [],
      "source": [
        "#  ML models\n",
        "mlp_reg_sun = MLPRegressor(random_state=42)\n",
        "dct_sun = DecisionTreeRegressor(splitter='random',  max_depth=36, min_samples_split=140, random_state=42)\n",
        "knn_sun = KNeighborsRegressor(metric = 'manhattan', n_neighbors = 4)\n",
        "rf_sun = RandomForestRegressor(random_state=42)\n",
        "svm_sun = SVR(kernel = 'rbf', gamma = 100, C = 100, degree = 0) #Using Radial-basis function kernel\n"
      ]
    },
    {
      "cell_type": "code",
      "execution_count": 76,
      "metadata": {},
      "outputs": [
        {
          "output_type": "execute_result",
          "data": {
            "text/plain": [
              "SVR(C=100, degree=0, gamma=100)"
            ]
          },
          "metadata": {},
          "execution_count": 76
        }
      ],
      "source": [
        "mlp_reg_sun.fit(X_train_StandardScaler, Y_train_sun)\n",
        "dct_sun.fit(X_train_StandardScaler, Y_train_sun)\n",
        "knn_sun.fit(X_train_StandardScaler, Y_train_sun)\n",
        "rf_sun.fit(X_train_StandardScaler, Y_train_sun)\n",
        "svm_sun.fit(X_train_StandardScaler, Y_train_sun)"
      ]
    },
    {
      "cell_type": "code",
      "execution_count": 77,
      "metadata": {},
      "outputs": [
        {
          "output_type": "execute_result",
          "data": {
            "text/plain": [
              "array([14.62870348, 14.69507108, 14.85034217, 14.73607821, 14.72058458,\n",
              "       14.5140782 , 14.71754881, 14.59702633, 14.67865717, 14.79044037,\n",
              "       14.78571527, 14.68294277, 14.69095409, 14.77097901, 14.69068854,\n",
              "       14.82133097, 14.67050163, 14.70238419, 14.70933398, 14.81070682,\n",
              "       14.78483956, 14.79625479, 14.90499357, 14.6061133 , 14.64079831,\n",
              "       14.79006547, 14.78921833, 14.74837717, 14.83688028, 14.83591302,\n",
              "       14.04229734, 15.05581268, 14.78822008, 13.79951688, 14.09773424,\n",
              "       14.36060057, 13.86110505, 13.30055777, 14.63362959, 13.91729984,\n",
              "       14.38769534, 15.06200646, 13.74470897, 14.69575331, 14.63832991,\n",
              "       14.04899821, 13.78182523, 14.90533309, 15.53173522, 14.11054206,\n",
              "       15.08426944, 15.49088818, 14.36110172, 14.50999629, 15.04522825,\n",
              "       15.09605409, 15.31002026, 14.57787237, 14.54658819, 15.40942774,\n",
              "       14.98770937, 14.98288529, 13.48720361, 15.1299186 , 15.65894359,\n",
              "       15.3141106 , 15.31391179, 14.96124783, 15.16072096, 13.51650186,\n",
              "       15.22856687, 15.79699654, 15.63498736, 15.66184792, 15.23384171,\n",
              "       15.2860143 , 14.65287997, 15.16661368, 15.19227621, 15.67241287,\n",
              "       15.61968536, 15.5538827 , 15.03894523, 15.37229318, 15.11914054,\n",
              "       14.83182417, 15.22942318, 15.15560074, 15.63915671, 14.63581845,\n",
              "       14.82982373, 15.25035007])"
            ]
          },
          "metadata": {},
          "execution_count": 77
        }
      ],
      "source": [
        "y_pred_sun_mlp = mlp_reg_sun.predict(test_date_StandardScaler)\n",
        "y_pred_sun_dt = dct_sun.predict(test_date_StandardScaler)\n",
        "y_pred_sun_knn = knn_sun.predict(test_date_StandardScaler)\n",
        "y_pred_sun_rf = rf_sun.predict(test_date_StandardScaler)\n",
        "y_pred_sun_svm = svm_sun.predict(test_date_StandardScaler)\n",
        "y_pred_sun_svm"
      ]
    },
    {
      "cell_type": "code",
      "execution_count": 78,
      "metadata": {},
      "outputs": [
        {
          "output_type": "stream",
          "name": "stdout",
          "text": [
            "+---------------+-------+--------+\n| Algorithm     |   r2  |  MSE   |\n+---------------+-------+--------+\n| MLP           | -1.37 | 163.58 |\n| Decision Tree | -1.59 | 178.91 |\n| KNN           | -1.71 | 186.76 |\n| Random Forest | -1.69 | 185.26 |\n| SVM           | -0.94 | 133.86 |\n+---------------+-------+--------+\n"
          ]
        }
      ],
      "source": [
        "# from sklearn.metrics import r2_score\n",
        "# from prettytable import PrettyTable\n",
        "\n",
        "rt = PrettyTable([\"Algorithm\", \"r2\", \"MSE\"])\n",
        "rt.align[\"Algorithm\"] = \"l\" # Left align city names\n",
        "rt.padding_width = 1 # One space between column edges and contents (default)\n",
        "rt.add_row([\"MLP\",\n",
        "            '{:.2f}'.format(r2_score(test_dataset['Solar Exposure'].values, y_pred_sun_mlp[0:61])),\n",
        "            '{:.2f}'.format(mean_squared_error(test_dataset['Solar Exposure'].values, y_pred_sun_mlp[0:61]))])\n",
        "\n",
        "rt.add_row([\"Decision Tree\",\n",
        "            '{:.2f}'.format(r2_score(test_dataset['Solar Exposure'].values, y_pred_sun_dt[0:61])),\n",
        "            '{:.2f}'.format(mean_squared_error(test_dataset['Solar Exposure'].values, y_pred_sun_dt[0:61]))])\n",
        "\n",
        "rt.add_row([\"KNN\",\n",
        "            '{:.2f}'.format(r2_score(test_dataset['Solar Exposure'].values, y_pred_sun_knn[0:61])),\n",
        "            '{:.2f}'.format(mean_squared_error(test_dataset['Solar Exposure'].values, y_pred_sun_knn[0:61]))])\n",
        "\n",
        "rt.add_row([\"Random Forest\",\n",
        "            '{:.2f}'.format(r2_score(test_dataset['Solar Exposure'].values, y_pred_sun_rf[0:61])),\n",
        "            '{:.2f}'.format(mean_squared_error(test_dataset['Solar Exposure'].values, y_pred_sun_rf[0:61]))])\n",
        "\n",
        "rt.add_row([\"SVM\",\n",
        "            '{:.2f}'.format(r2_score(test_dataset['Solar Exposure'].values, y_pred_sun_svm[0:61])),\n",
        "            '{:.2f}'.format(mean_squared_error(test_dataset['Solar Exposure'].values, y_pred_sun_svm[0:61]))])\n",
        "\n",
        "print(rt)"
      ]
    },
    {
      "cell_type": "code",
      "execution_count": 72,
      "metadata": {},
      "outputs": [
        {
          "output_type": "stream",
          "name": "stdout",
          "text": [
            "linear 0.1 0.1 0\n",
            "linear 0.1 0.1 1\n",
            "linear 0.1 0.1 2\n",
            "linear 0.1 0.1 3\n",
            "linear 0.1 0.1 4\n",
            "linear 0.1 0.1 5\n",
            "linear 0.1 0.1 6\n",
            "linear 0.1 1 0\n",
            "linear 0.1 1 1\n",
            "linear 0.1 1 2\n",
            "linear 0.1 1 3\n",
            "linear 0.1 1 4\n",
            "linear 0.1 1 5\n",
            "linear 0.1 1 6\n",
            "linear 0.1 10 0\n",
            "linear 0.1 10 1\n",
            "linear 0.1 10 2\n",
            "linear 0.1 10 3\n",
            "linear 0.1 10 4\n",
            "linear 0.1 10 5\n",
            "linear 0.1 10 6\n",
            "linear 0.1 100 0\n",
            "linear 0.1 100 1\n",
            "linear 0.1 100 2\n",
            "linear 0.1 100 3\n",
            "linear 0.1 100 4\n",
            "linear 0.1 100 5\n",
            "linear 0.1 100 6\n",
            "linear 1 0.1 0\n",
            "linear 1 0.1 1\n",
            "linear 1 0.1 2\n",
            "linear 1 0.1 3\n",
            "linear 1 0.1 4\n",
            "linear 1 0.1 5\n",
            "linear 1 0.1 6\n",
            "linear 1 1 0\n",
            "linear 1 1 1\n",
            "linear 1 1 2\n",
            "linear 1 1 3\n",
            "linear 1 1 4\n",
            "linear 1 1 5\n",
            "linear 1 1 6\n",
            "linear 1 10 0\n",
            "linear 1 10 1\n",
            "linear 1 10 2\n",
            "linear 1 10 3\n",
            "linear 1 10 4\n",
            "linear 1 10 5\n",
            "linear 1 10 6\n",
            "linear 1 100 0\n",
            "linear 1 100 1\n",
            "linear 1 100 2\n",
            "linear 1 100 3\n",
            "linear 1 100 4\n",
            "linear 1 100 5\n",
            "linear 1 100 6\n",
            "linear 10 0.1 0\n",
            "linear 10 0.1 1\n",
            "linear 10 0.1 2\n",
            "linear 10 0.1 3\n",
            "linear 10 0.1 4\n",
            "linear 10 0.1 5\n",
            "linear 10 0.1 6\n",
            "linear 10 1 0\n",
            "linear 10 1 1\n",
            "linear 10 1 2\n",
            "linear 10 1 3\n",
            "linear 10 1 4\n",
            "linear 10 1 5\n",
            "linear 10 1 6\n",
            "linear 10 10 0\n",
            "linear 10 10 1\n",
            "linear 10 10 2\n",
            "linear 10 10 3\n",
            "linear 10 10 4\n",
            "linear 10 10 5\n",
            "linear 10 10 6\n",
            "linear 10 100 0\n",
            "linear 10 100 1\n",
            "linear 10 100 2\n",
            "linear 10 100 3\n",
            "linear 10 100 4\n",
            "linear 10 100 5\n",
            "linear 10 100 6\n",
            "linear 100 0.1 0\n",
            "linear 100 0.1 1\n",
            "linear 100 0.1 2\n",
            "linear 100 0.1 3\n",
            "linear 100 0.1 4\n",
            "linear 100 0.1 5\n",
            "linear 100 0.1 6\n",
            "linear 100 1 0\n",
            "linear 100 1 1\n",
            "linear 100 1 2\n",
            "linear 100 1 3\n",
            "linear 100 1 4\n",
            "linear 100 1 5\n",
            "linear 100 1 6\n",
            "linear 100 10 0\n",
            "linear 100 10 1\n",
            "linear 100 10 2\n",
            "linear 100 10 3\n",
            "linear 100 10 4\n",
            "linear 100 10 5\n",
            "linear 100 10 6\n",
            "linear 100 100 0\n",
            "linear 100 100 1\n",
            "linear 100 100 2\n",
            "linear 100 100 3\n",
            "linear 100 100 4\n",
            "linear 100 100 5\n",
            "linear 100 100 6\n",
            "rbf 0.1 0.1 0\n",
            "rbf 0.1 0.1 1\n",
            "rbf 0.1 0.1 2\n",
            "rbf 0.1 0.1 3\n",
            "rbf 0.1 0.1 4\n",
            "rbf 0.1 0.1 5\n",
            "rbf 0.1 0.1 6\n",
            "rbf 0.1 1 0\n",
            "rbf 0.1 1 1\n",
            "rbf 0.1 1 2\n",
            "rbf 0.1 1 3\n",
            "rbf 0.1 1 4\n",
            "rbf 0.1 1 5\n",
            "rbf 0.1 1 6\n",
            "rbf 0.1 10 0\n",
            "rbf 0.1 10 1\n",
            "rbf 0.1 10 2\n",
            "rbf 0.1 10 3\n",
            "rbf 0.1 10 4\n",
            "rbf 0.1 10 5\n",
            "rbf 0.1 10 6\n",
            "rbf 0.1 100 0\n",
            "rbf 0.1 100 1\n",
            "rbf 0.1 100 2\n",
            "rbf 0.1 100 3\n",
            "rbf 0.1 100 4\n",
            "rbf 0.1 100 5\n",
            "rbf 0.1 100 6\n",
            "rbf 1 0.1 0\n",
            "rbf 1 0.1 1\n",
            "rbf 1 0.1 2\n",
            "rbf 1 0.1 3\n",
            "rbf 1 0.1 4\n",
            "rbf 1 0.1 5\n",
            "rbf 1 0.1 6\n",
            "rbf 1 1 0\n",
            "rbf 1 1 1\n",
            "rbf 1 1 2\n",
            "rbf 1 1 3\n",
            "rbf 1 1 4\n",
            "rbf 1 1 5\n",
            "rbf 1 1 6\n",
            "rbf 1 10 0\n",
            "rbf 1 10 1\n",
            "rbf 1 10 2\n",
            "rbf 1 10 3\n",
            "rbf 1 10 4\n",
            "rbf 1 10 5\n",
            "rbf 1 10 6\n",
            "rbf 1 100 0\n",
            "rbf 1 100 1\n",
            "rbf 1 100 2\n",
            "rbf 1 100 3\n",
            "rbf 1 100 4\n",
            "rbf 1 100 5\n",
            "rbf 1 100 6\n",
            "rbf 10 0.1 0\n",
            "rbf 10 0.1 1\n",
            "rbf 10 0.1 2\n",
            "rbf 10 0.1 3\n",
            "rbf 10 0.1 4\n",
            "rbf 10 0.1 5\n",
            "rbf 10 0.1 6\n",
            "rbf 10 1 0\n",
            "rbf 10 1 1\n",
            "rbf 10 1 2\n",
            "rbf 10 1 3\n",
            "rbf 10 1 4\n",
            "rbf 10 1 5\n",
            "rbf 10 1 6\n",
            "rbf 10 10 0\n",
            "rbf 10 10 1\n",
            "rbf 10 10 2\n",
            "rbf 10 10 3\n",
            "rbf 10 10 4\n",
            "rbf 10 10 5\n",
            "rbf 10 10 6\n",
            "rbf 10 100 0\n",
            "rbf 10 100 1\n",
            "rbf 10 100 2\n",
            "rbf 10 100 3\n",
            "rbf 10 100 4\n",
            "rbf 10 100 5\n",
            "rbf 10 100 6\n",
            "rbf 100 0.1 0\n",
            "rbf 100 0.1 1\n",
            "rbf 100 0.1 2\n",
            "rbf 100 0.1 3\n",
            "rbf 100 0.1 4\n",
            "rbf 100 0.1 5\n",
            "rbf 100 0.1 6\n",
            "rbf 100 1 0\n",
            "rbf 100 1 1\n",
            "rbf 100 1 2\n",
            "rbf 100 1 3\n",
            "rbf 100 1 4\n",
            "rbf 100 1 5\n",
            "rbf 100 1 6\n",
            "rbf 100 10 0\n",
            "rbf 100 10 1\n",
            "rbf 100 10 2\n",
            "rbf 100 10 3\n",
            "rbf 100 10 4\n",
            "rbf 100 10 5\n",
            "rbf 100 10 6\n",
            "rbf 100 100 0\n",
            "rbf 100 100 1\n",
            "rbf 100 100 2\n",
            "rbf 100 100 3\n",
            "rbf 100 100 4\n",
            "rbf 100 100 5\n",
            "rbf 100 100 6\n"
          ]
        }
      ],
      "source": [
        "scores = []\n",
        "kernel = []\n",
        "gamma = []\n",
        "C = []\n",
        "degree = []\n",
        "\n",
        "kernels = ['linear', 'rbf']\n",
        "gammas = [0.1, 1, 10, 100]\n",
        "Cs = [0.1, 1, 10, 100]\n",
        "degrees = [0, 1, 2, 3, 4, 5, 6]\n",
        "\n",
        "\n",
        "for i in kernels:\n",
        "  for j in gammas:\n",
        "    for k in Cs:\n",
        "        for l in degrees: \n",
        "          print(i,j,k,l)\n",
        "          svm = SVR(kernel=i, gamma=j, C=k, degree=l)\n",
        "          svm.fit(X_train_StandardScaler, Y_train_sun)\n",
        "          scores.append(mean_squared_error(test_dataset['Solar Exposure'].values, svm.predict(test_date_StandardScaler[0:61])))\n",
        "          kernel.append(i)\n",
        "          gamma.append(j)\n",
        "          C.append(k)\n",
        "          degree.append(l)"
      ]
    },
    {
      "cell_type": "code",
      "execution_count": 73,
      "metadata": {},
      "outputs": [
        {
          "output_type": "execute_result",
          "data": {
            "text/plain": [
              "217"
            ]
          },
          "metadata": {},
          "execution_count": 73
        }
      ],
      "source": [
        "min(scores)\n",
        "import numpy as np\n",
        "index = np.argmin(scores)\n",
        "index"
      ]
    },
    {
      "cell_type": "code",
      "execution_count": 74,
      "metadata": {},
      "outputs": [
        {
          "output_type": "execute_result",
          "data": {
            "text/plain": [
              "['rbf', 100, 100, 0]"
            ]
          },
          "metadata": {},
          "execution_count": 74
        }
      ],
      "source": [
        "p = [kernel[217], gamma[217], C[217], degree[217]]\n",
        "p"
      ]
    },
    {
      "cell_type": "code",
      "metadata": {
        "id": "G_bS1vWP6zSQ"
      },
      "source": [
        "#Importing the dataset containing status, location and directional information for each pedestrian sensor device installed throughout the city using the API.\n",
        "results2 = client.get(\"h57g-5234\", limit=2000)\n",
        "results_df2 = pd.DataFrame.from_records(results2)"
      ],
      "execution_count": 549,
      "outputs": []
    },
    {
      "cell_type": "code",
      "metadata": {
        "id": "DrotsxKL7c7l"
      },
      "source": [
        "#Converting 'sensor_id' and 'hourly_counts' features from object datatypes to int\n",
        "results_df2['sensor_id'] = results_df2['sensor_id'].astype('int')\n",
        "results_df2[['latitude','longitude']] = results_df2[['latitude','longitude']].astype('float')"
      ],
      "execution_count": 550,
      "outputs": []
    },
    {
      "cell_type": "code",
      "metadata": {
        "id": "h059f7WF7qTG"
      },
      "source": [
        "#Examining the features after data type conversion\n",
        "results_df2 = pd.DataFrame.from_records(results2)"
      ],
      "execution_count": 551,
      "outputs": []
    },
    {
      "cell_type": "code",
      "metadata": {
        "id": "Owy1hI-j9IHc"
      },
      "source": [
        "#Merging the datasets on sensor_id\n",
        "merged_dataset = new_results_df.set_index('sensor_id').join(results_df2.set_index('sensor_id'))[['date','sensor_description','latitude','longitude','Total_Pedestrian_Count']]"
      ],
      "execution_count": 552,
      "outputs": []
    },
    {
      "cell_type": "code",
      "metadata": {
        "id": "o_YHvTS39hv7",
        "colab": {
          "base_uri": "https://localhost:8080/",
          "height": 437
        },
        "outputId": "9c3105b8-2933-4a7d-dbf8-7a6ac212bedf"
      },
      "source": [
        "#Validating the dataset\n",
        "merged_dataset"
      ],
      "execution_count": 553,
      "outputs": [
        {
          "output_type": "execute_result",
          "data": {
            "text/html": [
              "<div>\n",
              "<style scoped>\n",
              "    .dataframe tbody tr th:only-of-type {\n",
              "        vertical-align: middle;\n",
              "    }\n",
              "\n",
              "    .dataframe tbody tr th {\n",
              "        vertical-align: top;\n",
              "    }\n",
              "\n",
              "    .dataframe thead th {\n",
              "        text-align: right;\n",
              "    }\n",
              "</style>\n",
              "<table border=\"1\" class=\"dataframe\">\n",
              "  <thead>\n",
              "    <tr style=\"text-align: right;\">\n",
              "      <th></th>\n",
              "      <th>date</th>\n",
              "      <th>sensor_description</th>\n",
              "      <th>latitude</th>\n",
              "      <th>longitude</th>\n",
              "      <th>Total_Pedestrian_Count</th>\n",
              "    </tr>\n",
              "    <tr>\n",
              "      <th>sensor_id</th>\n",
              "      <th></th>\n",
              "      <th></th>\n",
              "      <th></th>\n",
              "      <th></th>\n",
              "      <th></th>\n",
              "    </tr>\n",
              "  </thead>\n",
              "  <tbody>\n",
              "    <tr>\n",
              "      <th>1</th>\n",
              "      <td>2015-02-17</td>\n",
              "      <td>NaN</td>\n",
              "      <td>NaN</td>\n",
              "      <td>NaN</td>\n",
              "      <td>23306</td>\n",
              "    </tr>\n",
              "    <tr>\n",
              "      <th>1</th>\n",
              "      <td>2015-02-18</td>\n",
              "      <td>NaN</td>\n",
              "      <td>NaN</td>\n",
              "      <td>NaN</td>\n",
              "      <td>25683</td>\n",
              "    </tr>\n",
              "    <tr>\n",
              "      <th>1</th>\n",
              "      <td>2015-02-19</td>\n",
              "      <td>NaN</td>\n",
              "      <td>NaN</td>\n",
              "      <td>NaN</td>\n",
              "      <td>29870</td>\n",
              "    </tr>\n",
              "    <tr>\n",
              "      <th>1</th>\n",
              "      <td>2015-02-20</td>\n",
              "      <td>NaN</td>\n",
              "      <td>NaN</td>\n",
              "      <td>NaN</td>\n",
              "      <td>33726</td>\n",
              "    </tr>\n",
              "    <tr>\n",
              "      <th>1</th>\n",
              "      <td>2015-02-21</td>\n",
              "      <td>NaN</td>\n",
              "      <td>NaN</td>\n",
              "      <td>NaN</td>\n",
              "      <td>36076</td>\n",
              "    </tr>\n",
              "    <tr>\n",
              "      <th>...</th>\n",
              "      <td>...</td>\n",
              "      <td>...</td>\n",
              "      <td>...</td>\n",
              "      <td>...</td>\n",
              "      <td>...</td>\n",
              "    </tr>\n",
              "    <tr>\n",
              "      <th>71</th>\n",
              "      <td>2020-10-27</td>\n",
              "      <td>NaN</td>\n",
              "      <td>NaN</td>\n",
              "      <td>NaN</td>\n",
              "      <td>493</td>\n",
              "    </tr>\n",
              "    <tr>\n",
              "      <th>71</th>\n",
              "      <td>2020-10-28</td>\n",
              "      <td>NaN</td>\n",
              "      <td>NaN</td>\n",
              "      <td>NaN</td>\n",
              "      <td>657</td>\n",
              "    </tr>\n",
              "    <tr>\n",
              "      <th>71</th>\n",
              "      <td>2020-10-29</td>\n",
              "      <td>NaN</td>\n",
              "      <td>NaN</td>\n",
              "      <td>NaN</td>\n",
              "      <td>387</td>\n",
              "    </tr>\n",
              "    <tr>\n",
              "      <th>71</th>\n",
              "      <td>2020-10-30</td>\n",
              "      <td>NaN</td>\n",
              "      <td>NaN</td>\n",
              "      <td>NaN</td>\n",
              "      <td>443</td>\n",
              "    </tr>\n",
              "    <tr>\n",
              "      <th>71</th>\n",
              "      <td>2020-10-31</td>\n",
              "      <td>NaN</td>\n",
              "      <td>NaN</td>\n",
              "      <td>NaN</td>\n",
              "      <td>358</td>\n",
              "    </tr>\n",
              "  </tbody>\n",
              "</table>\n",
              "<p>98667 rows × 5 columns</p>\n",
              "</div>"
            ],
            "text/plain": [
              "                date sensor_description  ... longitude Total_Pedestrian_Count\n",
              "sensor_id                                ...                                 \n",
              "1         2015-02-17                NaN  ...       NaN                  23306\n",
              "1         2015-02-18                NaN  ...       NaN                  25683\n",
              "1         2015-02-19                NaN  ...       NaN                  29870\n",
              "1         2015-02-20                NaN  ...       NaN                  33726\n",
              "1         2015-02-21                NaN  ...       NaN                  36076\n",
              "...              ...                ...  ...       ...                    ...\n",
              "71        2020-10-27                NaN  ...       NaN                    493\n",
              "71        2020-10-28                NaN  ...       NaN                    657\n",
              "71        2020-10-29                NaN  ...       NaN                    387\n",
              "71        2020-10-30                NaN  ...       NaN                    443\n",
              "71        2020-10-31                NaN  ...       NaN                    358\n",
              "\n",
              "[98667 rows x 5 columns]"
            ]
          },
          "metadata": {
            "tags": []
          },
          "execution_count": 553
        }
      ]
    },
    {
      "cell_type": "code",
      "metadata": {
        "id": "u0MaOxZU9tTr"
      },
      "source": [
        "#Adding the day variable using the date\n",
        "merged_dataset['day'] = merged_dataset.date.dt.day_name()"
      ],
      "execution_count": 554,
      "outputs": []
    },
    {
      "cell_type": "code",
      "metadata": {
        "id": "uc_9WPueAXnz",
        "colab": {
          "base_uri": "https://localhost:8080/",
          "height": 633
        },
        "outputId": "1d3e48a1-4f58-459a-bc93-c996d9179fd6"
      },
      "source": [
        "#Visualizing recorded observations based on sensor_ID\n",
        "z = merged_dataset.index.value_counts().plot(kind = 'bar', figsize = (20,10))\n",
        "z.set_xlabel(\"Sensor_ID\")\n",
        "z.set_ylabel(\"Frequency of observations\")\n",
        "z.set_title(\"Recorded observations based on each Sensor_ID\")\n",
        "\n",
        "z.plot()"
      ],
      "execution_count": 555,
      "outputs": [
        {
          "output_type": "execute_result",
          "data": {
            "text/plain": [
              "[]"
            ]
          },
          "metadata": {
            "tags": []
          },
          "execution_count": 555
        },
        {
          "output_type": "display_data",
          "data": {
            "image/png": "[encoded data removed]",
            "text/plain": [
              "<Figure size 1440x720 with 1 Axes>"
            ]
          },
          "metadata": {
            "tags": [],
            "needs_background": "light"
          }
        }
      ]
    }
  ]
}