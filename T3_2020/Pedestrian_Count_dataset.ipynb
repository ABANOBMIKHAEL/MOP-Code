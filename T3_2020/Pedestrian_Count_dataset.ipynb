{
  "nbformat": 4,
  "nbformat_minor": 0,
  "metadata": {
    "colab": {
      "name": "Pedestrian_Count_dataset.ipynb",
      "provenance": [],
      "collapsed_sections": []
    },
    "kernelspec": {
      "display_name": "Python 3",
      "name": "python3",
      "language": "python"
    }
  },
  "cells": [
    {
      "cell_type": "code",
      "metadata": {
        "colab": {
          "base_uri": "https://localhost:8080/"
        },
        "id": "uhXyz3430Vc9",
        "outputId": "26a129cc-adad-47f4-8a1b-3c72eb6a28fa"
      },
      "source": [
        "#!/usr/bin/env python\n",
        "\n",
        "# make sure to install these packages before running:\n",
        "!pip install sodapy"
      ],
      "execution_count": 4,
      "outputs": [
        {
          "output_type": "stream",
          "text": [
            "Requirement already satisfied: sodapy in /usr/local/lib/python3.6/dist-packages (2.1.0)\n",
            "Requirement already satisfied: requests>=2.20.0 in /usr/local/lib/python3.6/dist-packages (from sodapy) (2.23.0)\n",
            "Requirement already satisfied: idna<3,>=2.5 in /usr/local/lib/python3.6/dist-packages (from requests>=2.20.0->sodapy) (2.10)\n",
            "Requirement already satisfied: certifi>=2017.4.17 in /usr/local/lib/python3.6/dist-packages (from requests>=2.20.0->sodapy) (2020.12.5)\n",
            "Requirement already satisfied: urllib3!=1.25.0,!=1.25.1,<1.26,>=1.21.1 in /usr/local/lib/python3.6/dist-packages (from requests>=2.20.0->sodapy) (1.24.3)\n",
            "Requirement already satisfied: chardet<4,>=3.0.2 in /usr/local/lib/python3.6/dist-packages (from requests>=2.20.0->sodapy) (3.0.4)\n"
          ],
          "name": "stdout"
        }
      ]
    },
    {
      "cell_type": "code",
      "metadata": {
        "id": "SAo2mDNQ1B3W"
      },
      "source": [
        "#import the libraries \n",
        "import numpy as np\n",
        "import pandas as pd\n",
        "from pandas import DataFrame as df, Series as se\n",
        "#import the library for the API\n",
        "from sodapy import Socrata\n",
        "\n",
        "#Ignore warnings\n",
        "import warnings\n",
        "warnings.filterwarnings('ignore')"
      ],
      "execution_count": 5,
      "outputs": []
    },
    {
      "cell_type": "code",
      "metadata": {
        "colab": {
          "base_uri": "https://localhost:8080/"
        },
        "id": "8A-hsZ850zRO",
        "outputId": "606e0672-5f60-4ce5-ee07-fa34c55f7f4b"
      },
      "source": [
        "# Unauthenticated client only works with public data sets. Note 'None'\n",
        "# in place of application token, and no username or password:\n",
        "client = Socrata(\"data.melbourne.vic.gov.au\", None)\n",
        "\n",
        "\n",
        "#getting the pedestrian count data from city of melbourne website from 2009-05-01 to \n",
        "#2020-10-31\n",
        "results = client.get(\"b2ak-trbp\", limit=3391522)\n",
        "\n",
        "# Convert to pandas DataFrame\n",
        "results_df = pd.DataFrame.from_records(results)\n"
      ],
      "execution_count": 6,
      "outputs": [
        {
          "output_type": "stream",
          "text": [
            "WARNING:root:Requests made without an app_token will be subject to strict throttling limits.\n"
          ],
          "name": "stderr"
        }
      ]
    },
    {
      "cell_type": "code",
      "metadata": {
        "colab": {
          "base_uri": "https://localhost:8080/",
          "height": 399
        },
        "id": "uDKAuzNB1HII",
        "outputId": "98cbe743-355e-44a5-b843-a88bd8f1fbfa"
      },
      "source": [
        "results_df"
      ],
      "execution_count": 7,
      "outputs": [
        {
          "output_type": "execute_result",
          "data": {
            "text/html": [
              "<div>\n",
              "<style scoped>\n",
              "    .dataframe tbody tr th:only-of-type {\n",
              "        vertical-align: middle;\n",
              "    }\n",
              "\n",
              "    .dataframe tbody tr th {\n",
              "        vertical-align: top;\n",
              "    }\n",
              "\n",
              "    .dataframe thead th {\n",
              "        text-align: right;\n",
              "    }\n",
              "</style>\n",
              "<table border=\"1\" class=\"dataframe\">\n",
              "  <thead>\n",
              "    <tr style=\"text-align: right;\">\n",
              "      <th></th>\n",
              "      <th>id</th>\n",
              "      <th>date_time</th>\n",
              "      <th>year</th>\n",
              "      <th>month</th>\n",
              "      <th>mdate</th>\n",
              "      <th>day</th>\n",
              "      <th>time</th>\n",
              "      <th>sensor_id</th>\n",
              "      <th>sensor_name</th>\n",
              "      <th>hourly_counts</th>\n",
              "    </tr>\n",
              "  </thead>\n",
              "  <tbody>\n",
              "    <tr>\n",
              "      <th>0</th>\n",
              "      <td>2887628</td>\n",
              "      <td>2019-11-01T17:00:00.000</td>\n",
              "      <td>2019</td>\n",
              "      <td>November</td>\n",
              "      <td>1</td>\n",
              "      <td>Friday</td>\n",
              "      <td>17</td>\n",
              "      <td>34</td>\n",
              "      <td>Flinders St-Spark La</td>\n",
              "      <td>300</td>\n",
              "    </tr>\n",
              "    <tr>\n",
              "      <th>1</th>\n",
              "      <td>2887629</td>\n",
              "      <td>2019-11-01T17:00:00.000</td>\n",
              "      <td>2019</td>\n",
              "      <td>November</td>\n",
              "      <td>1</td>\n",
              "      <td>Friday</td>\n",
              "      <td>17</td>\n",
              "      <td>39</td>\n",
              "      <td>Alfred Place</td>\n",
              "      <td>604</td>\n",
              "    </tr>\n",
              "    <tr>\n",
              "      <th>2</th>\n",
              "      <td>2887630</td>\n",
              "      <td>2019-11-01T17:00:00.000</td>\n",
              "      <td>2019</td>\n",
              "      <td>November</td>\n",
              "      <td>1</td>\n",
              "      <td>Friday</td>\n",
              "      <td>17</td>\n",
              "      <td>37</td>\n",
              "      <td>Lygon St (East)</td>\n",
              "      <td>216</td>\n",
              "    </tr>\n",
              "    <tr>\n",
              "      <th>3</th>\n",
              "      <td>2887631</td>\n",
              "      <td>2019-11-01T17:00:00.000</td>\n",
              "      <td>2019</td>\n",
              "      <td>November</td>\n",
              "      <td>1</td>\n",
              "      <td>Friday</td>\n",
              "      <td>17</td>\n",
              "      <td>40</td>\n",
              "      <td>Lonsdale St-Spring St (West)</td>\n",
              "      <td>627</td>\n",
              "    </tr>\n",
              "    <tr>\n",
              "      <th>4</th>\n",
              "      <td>2887632</td>\n",
              "      <td>2019-11-01T17:00:00.000</td>\n",
              "      <td>2019</td>\n",
              "      <td>November</td>\n",
              "      <td>1</td>\n",
              "      <td>Friday</td>\n",
              "      <td>17</td>\n",
              "      <td>36</td>\n",
              "      <td>Queen St (West)</td>\n",
              "      <td>774</td>\n",
              "    </tr>\n",
              "    <tr>\n",
              "      <th>...</th>\n",
              "      <td>...</td>\n",
              "      <td>...</td>\n",
              "      <td>...</td>\n",
              "      <td>...</td>\n",
              "      <td>...</td>\n",
              "      <td>...</td>\n",
              "      <td>...</td>\n",
              "      <td>...</td>\n",
              "      <td>...</td>\n",
              "      <td>...</td>\n",
              "    </tr>\n",
              "    <tr>\n",
              "      <th>3391517</th>\n",
              "      <td>3391518</td>\n",
              "      <td>2020-10-31T23:00:00.000</td>\n",
              "      <td>2020</td>\n",
              "      <td>October</td>\n",
              "      <td>31</td>\n",
              "      <td>Saturday</td>\n",
              "      <td>23</td>\n",
              "      <td>67</td>\n",
              "      <td>Flinders Ln -Degraves St (South)</td>\n",
              "      <td>0</td>\n",
              "    </tr>\n",
              "    <tr>\n",
              "      <th>3391518</th>\n",
              "      <td>3391519</td>\n",
              "      <td>2020-10-31T23:00:00.000</td>\n",
              "      <td>2020</td>\n",
              "      <td>October</td>\n",
              "      <td>31</td>\n",
              "      <td>Saturday</td>\n",
              "      <td>23</td>\n",
              "      <td>68</td>\n",
              "      <td>Flinders Ln -Degraves St (North)</td>\n",
              "      <td>0</td>\n",
              "    </tr>\n",
              "    <tr>\n",
              "      <th>3391519</th>\n",
              "      <td>3391520</td>\n",
              "      <td>2020-10-31T23:00:00.000</td>\n",
              "      <td>2020</td>\n",
              "      <td>October</td>\n",
              "      <td>31</td>\n",
              "      <td>Saturday</td>\n",
              "      <td>23</td>\n",
              "      <td>69</td>\n",
              "      <td>Flinders Ln -Degraves St (Crossing)</td>\n",
              "      <td>0</td>\n",
              "    </tr>\n",
              "    <tr>\n",
              "      <th>3391520</th>\n",
              "      <td>3391521</td>\n",
              "      <td>2020-10-31T23:00:00.000</td>\n",
              "      <td>2020</td>\n",
              "      <td>October</td>\n",
              "      <td>31</td>\n",
              "      <td>Saturday</td>\n",
              "      <td>23</td>\n",
              "      <td>70</td>\n",
              "      <td>Errol Street (East)</td>\n",
              "      <td>0</td>\n",
              "    </tr>\n",
              "    <tr>\n",
              "      <th>3391521</th>\n",
              "      <td>3391522</td>\n",
              "      <td>2020-10-31T23:00:00.000</td>\n",
              "      <td>2020</td>\n",
              "      <td>October</td>\n",
              "      <td>31</td>\n",
              "      <td>Saturday</td>\n",
              "      <td>23</td>\n",
              "      <td>71</td>\n",
              "      <td>Westwood Place</td>\n",
              "      <td>16</td>\n",
              "    </tr>\n",
              "  </tbody>\n",
              "</table>\n",
              "<p>3391522 rows × 10 columns</p>\n",
              "</div>"
            ],
            "text/plain": [
              "              id  ... hourly_counts\n",
              "0        2887628  ...           300\n",
              "1        2887629  ...           604\n",
              "2        2887630  ...           216\n",
              "3        2887631  ...           627\n",
              "4        2887632  ...           774\n",
              "...          ...  ...           ...\n",
              "3391517  3391518  ...             0\n",
              "3391518  3391519  ...             0\n",
              "3391519  3391520  ...             0\n",
              "3391520  3391521  ...             0\n",
              "3391521  3391522  ...            16\n",
              "\n",
              "[3391522 rows x 10 columns]"
            ]
          },
          "metadata": {
            "tags": []
          },
          "execution_count": 7
        }
      ]
    },
    {
      "cell_type": "code",
      "metadata": {
        "colab": {
          "base_uri": "https://localhost:8080/"
        },
        "id": "sg-J7ylnQmq8",
        "outputId": "fd2bb37c-66ce-4f0b-98e8-fa782fe8dc39"
      },
      "source": [
        "#Examining the data types of the features of the dataset  \n",
        "results_df.dtypes"
      ],
      "execution_count": 8,
      "outputs": [
        {
          "output_type": "execute_result",
          "data": {
            "text/plain": [
              "id               object\n",
              "date_time        object\n",
              "year             object\n",
              "month            object\n",
              "mdate            object\n",
              "day              object\n",
              "time             object\n",
              "sensor_id        object\n",
              "sensor_name      object\n",
              "hourly_counts    object\n",
              "dtype: object"
            ]
          },
          "metadata": {
            "tags": []
          },
          "execution_count": 8
        }
      ]
    },
    {
      "cell_type": "code",
      "metadata": {
        "id": "aCqhJ_1-utJd"
      },
      "source": [
        "results_df['date'] = results_df['mdate'] + '-' + results_df['month'] + '-' + results_df['year']\n",
        "results_df.drop(columns=['id',\t'date_time','year',\t'month',\t'mdate',\t'day',\t'time' ], inplace = True)"
      ],
      "execution_count": 9,
      "outputs": []
    },
    {
      "cell_type": "code",
      "metadata": {
        "colab": {
          "base_uri": "https://localhost:8080/",
          "height": 399
        },
        "id": "qM2L2SbQh2TQ",
        "outputId": "0f22b21d-0d73-45d8-b69c-480472ebc4eb"
      },
      "source": [
        "#converting 'sensor_id' and 'hourly_counts' features from object datatypes to int\n",
        "results_df[['sensor_id','hourly_counts']] = results_df[['sensor_id','hourly_counts']].astype('int')\n",
        "results_df"
      ],
      "execution_count": 10,
      "outputs": [
        {
          "output_type": "execute_result",
          "data": {
            "text/html": [
              "<div>\n",
              "<style scoped>\n",
              "    .dataframe tbody tr th:only-of-type {\n",
              "        vertical-align: middle;\n",
              "    }\n",
              "\n",
              "    .dataframe tbody tr th {\n",
              "        vertical-align: top;\n",
              "    }\n",
              "\n",
              "    .dataframe thead th {\n",
              "        text-align: right;\n",
              "    }\n",
              "</style>\n",
              "<table border=\"1\" class=\"dataframe\">\n",
              "  <thead>\n",
              "    <tr style=\"text-align: right;\">\n",
              "      <th></th>\n",
              "      <th>sensor_id</th>\n",
              "      <th>sensor_name</th>\n",
              "      <th>hourly_counts</th>\n",
              "      <th>date</th>\n",
              "    </tr>\n",
              "  </thead>\n",
              "  <tbody>\n",
              "    <tr>\n",
              "      <th>0</th>\n",
              "      <td>34</td>\n",
              "      <td>Flinders St-Spark La</td>\n",
              "      <td>300</td>\n",
              "      <td>1-November-2019</td>\n",
              "    </tr>\n",
              "    <tr>\n",
              "      <th>1</th>\n",
              "      <td>39</td>\n",
              "      <td>Alfred Place</td>\n",
              "      <td>604</td>\n",
              "      <td>1-November-2019</td>\n",
              "    </tr>\n",
              "    <tr>\n",
              "      <th>2</th>\n",
              "      <td>37</td>\n",
              "      <td>Lygon St (East)</td>\n",
              "      <td>216</td>\n",
              "      <td>1-November-2019</td>\n",
              "    </tr>\n",
              "    <tr>\n",
              "      <th>3</th>\n",
              "      <td>40</td>\n",
              "      <td>Lonsdale St-Spring St (West)</td>\n",
              "      <td>627</td>\n",
              "      <td>1-November-2019</td>\n",
              "    </tr>\n",
              "    <tr>\n",
              "      <th>4</th>\n",
              "      <td>36</td>\n",
              "      <td>Queen St (West)</td>\n",
              "      <td>774</td>\n",
              "      <td>1-November-2019</td>\n",
              "    </tr>\n",
              "    <tr>\n",
              "      <th>...</th>\n",
              "      <td>...</td>\n",
              "      <td>...</td>\n",
              "      <td>...</td>\n",
              "      <td>...</td>\n",
              "    </tr>\n",
              "    <tr>\n",
              "      <th>3391517</th>\n",
              "      <td>67</td>\n",
              "      <td>Flinders Ln -Degraves St (South)</td>\n",
              "      <td>0</td>\n",
              "      <td>31-October-2020</td>\n",
              "    </tr>\n",
              "    <tr>\n",
              "      <th>3391518</th>\n",
              "      <td>68</td>\n",
              "      <td>Flinders Ln -Degraves St (North)</td>\n",
              "      <td>0</td>\n",
              "      <td>31-October-2020</td>\n",
              "    </tr>\n",
              "    <tr>\n",
              "      <th>3391519</th>\n",
              "      <td>69</td>\n",
              "      <td>Flinders Ln -Degraves St (Crossing)</td>\n",
              "      <td>0</td>\n",
              "      <td>31-October-2020</td>\n",
              "    </tr>\n",
              "    <tr>\n",
              "      <th>3391520</th>\n",
              "      <td>70</td>\n",
              "      <td>Errol Street (East)</td>\n",
              "      <td>0</td>\n",
              "      <td>31-October-2020</td>\n",
              "    </tr>\n",
              "    <tr>\n",
              "      <th>3391521</th>\n",
              "      <td>71</td>\n",
              "      <td>Westwood Place</td>\n",
              "      <td>16</td>\n",
              "      <td>31-October-2020</td>\n",
              "    </tr>\n",
              "  </tbody>\n",
              "</table>\n",
              "<p>3391522 rows × 4 columns</p>\n",
              "</div>"
            ],
            "text/plain": [
              "         sensor_id  ...             date\n",
              "0               34  ...  1-November-2019\n",
              "1               39  ...  1-November-2019\n",
              "2               37  ...  1-November-2019\n",
              "3               40  ...  1-November-2019\n",
              "4               36  ...  1-November-2019\n",
              "...            ...  ...              ...\n",
              "3391517         67  ...  31-October-2020\n",
              "3391518         68  ...  31-October-2020\n",
              "3391519         69  ...  31-October-2020\n",
              "3391520         70  ...  31-October-2020\n",
              "3391521         71  ...  31-October-2020\n",
              "\n",
              "[3391522 rows x 4 columns]"
            ]
          },
          "metadata": {
            "tags": []
          },
          "execution_count": 10
        }
      ]
    },
    {
      "cell_type": "code",
      "metadata": {
        "colab": {
          "base_uri": "https://localhost:8080/"
        },
        "id": "_V_Z-ynAgQNg",
        "outputId": "8e71cc14-68da-4398-907f-40bfd67aab71"
      },
      "source": [
        "#Examining the features after data type conversion\n",
        "results_df.dtypes"
      ],
      "execution_count": 11,
      "outputs": [
        {
          "output_type": "execute_result",
          "data": {
            "text/plain": [
              "sensor_id         int64\n",
              "sensor_name      object\n",
              "hourly_counts     int64\n",
              "date             object\n",
              "dtype: object"
            ]
          },
          "metadata": {
            "tags": []
          },
          "execution_count": 11
        }
      ]
    },
    {
      "cell_type": "code",
      "metadata": {
        "colab": {
          "base_uri": "https://localhost:8080/",
          "height": 399
        },
        "id": "mRhb5BWHkxzi",
        "outputId": "ba0dc896-4ed4-4f19-c046-f584ab24dc4d"
      },
      "source": [
        "#converting date_time feature from object datatypes to date\n",
        "results_df['date'] = results_df['date'].astype('datetime64[ns]')\n",
        "results_df"
      ],
      "execution_count": 12,
      "outputs": [
        {
          "output_type": "execute_result",
          "data": {
            "text/html": [
              "<div>\n",
              "<style scoped>\n",
              "    .dataframe tbody tr th:only-of-type {\n",
              "        vertical-align: middle;\n",
              "    }\n",
              "\n",
              "    .dataframe tbody tr th {\n",
              "        vertical-align: top;\n",
              "    }\n",
              "\n",
              "    .dataframe thead th {\n",
              "        text-align: right;\n",
              "    }\n",
              "</style>\n",
              "<table border=\"1\" class=\"dataframe\">\n",
              "  <thead>\n",
              "    <tr style=\"text-align: right;\">\n",
              "      <th></th>\n",
              "      <th>sensor_id</th>\n",
              "      <th>sensor_name</th>\n",
              "      <th>hourly_counts</th>\n",
              "      <th>date</th>\n",
              "    </tr>\n",
              "  </thead>\n",
              "  <tbody>\n",
              "    <tr>\n",
              "      <th>0</th>\n",
              "      <td>34</td>\n",
              "      <td>Flinders St-Spark La</td>\n",
              "      <td>300</td>\n",
              "      <td>2019-11-01</td>\n",
              "    </tr>\n",
              "    <tr>\n",
              "      <th>1</th>\n",
              "      <td>39</td>\n",
              "      <td>Alfred Place</td>\n",
              "      <td>604</td>\n",
              "      <td>2019-11-01</td>\n",
              "    </tr>\n",
              "    <tr>\n",
              "      <th>2</th>\n",
              "      <td>37</td>\n",
              "      <td>Lygon St (East)</td>\n",
              "      <td>216</td>\n",
              "      <td>2019-11-01</td>\n",
              "    </tr>\n",
              "    <tr>\n",
              "      <th>3</th>\n",
              "      <td>40</td>\n",
              "      <td>Lonsdale St-Spring St (West)</td>\n",
              "      <td>627</td>\n",
              "      <td>2019-11-01</td>\n",
              "    </tr>\n",
              "    <tr>\n",
              "      <th>4</th>\n",
              "      <td>36</td>\n",
              "      <td>Queen St (West)</td>\n",
              "      <td>774</td>\n",
              "      <td>2019-11-01</td>\n",
              "    </tr>\n",
              "    <tr>\n",
              "      <th>...</th>\n",
              "      <td>...</td>\n",
              "      <td>...</td>\n",
              "      <td>...</td>\n",
              "      <td>...</td>\n",
              "    </tr>\n",
              "    <tr>\n",
              "      <th>3391517</th>\n",
              "      <td>67</td>\n",
              "      <td>Flinders Ln -Degraves St (South)</td>\n",
              "      <td>0</td>\n",
              "      <td>2020-10-31</td>\n",
              "    </tr>\n",
              "    <tr>\n",
              "      <th>3391518</th>\n",
              "      <td>68</td>\n",
              "      <td>Flinders Ln -Degraves St (North)</td>\n",
              "      <td>0</td>\n",
              "      <td>2020-10-31</td>\n",
              "    </tr>\n",
              "    <tr>\n",
              "      <th>3391519</th>\n",
              "      <td>69</td>\n",
              "      <td>Flinders Ln -Degraves St (Crossing)</td>\n",
              "      <td>0</td>\n",
              "      <td>2020-10-31</td>\n",
              "    </tr>\n",
              "    <tr>\n",
              "      <th>3391520</th>\n",
              "      <td>70</td>\n",
              "      <td>Errol Street (East)</td>\n",
              "      <td>0</td>\n",
              "      <td>2020-10-31</td>\n",
              "    </tr>\n",
              "    <tr>\n",
              "      <th>3391521</th>\n",
              "      <td>71</td>\n",
              "      <td>Westwood Place</td>\n",
              "      <td>16</td>\n",
              "      <td>2020-10-31</td>\n",
              "    </tr>\n",
              "  </tbody>\n",
              "</table>\n",
              "<p>3391522 rows × 4 columns</p>\n",
              "</div>"
            ],
            "text/plain": [
              "         sensor_id  ...       date\n",
              "0               34  ... 2019-11-01\n",
              "1               39  ... 2019-11-01\n",
              "2               37  ... 2019-11-01\n",
              "3               40  ... 2019-11-01\n",
              "4               36  ... 2019-11-01\n",
              "...            ...  ...        ...\n",
              "3391517         67  ... 2020-10-31\n",
              "3391518         68  ... 2020-10-31\n",
              "3391519         69  ... 2020-10-31\n",
              "3391520         70  ... 2020-10-31\n",
              "3391521         71  ... 2020-10-31\n",
              "\n",
              "[3391522 rows x 4 columns]"
            ]
          },
          "metadata": {
            "tags": []
          },
          "execution_count": 12
        }
      ]
    },
    {
      "cell_type": "code",
      "metadata": {
        "colab": {
          "base_uri": "https://localhost:8080/"
        },
        "id": "C1bMu0NImwDG",
        "outputId": "f92494b3-48a6-4729-c40e-25abfd158c2e"
      },
      "source": [
        "#Examining the features after data type conversion\n",
        "results_df.dtypes"
      ],
      "execution_count": 13,
      "outputs": [
        {
          "output_type": "execute_result",
          "data": {
            "text/plain": [
              "sensor_id                 int64\n",
              "sensor_name              object\n",
              "hourly_counts             int64\n",
              "date             datetime64[ns]\n",
              "dtype: object"
            ]
          },
          "metadata": {
            "tags": []
          },
          "execution_count": 13
        }
      ]
    },
    {
      "cell_type": "code",
      "metadata": {
        "id": "CrR-Tfy2YbV1"
      },
      "source": [
        "#extracting data from 2015 till date\n",
        "results_df = results_df[results_df['date'] > '2014-12-31']"
      ],
      "execution_count": 14,
      "outputs": []
    },
    {
      "cell_type": "code",
      "metadata": {
        "colab": {
          "base_uri": "https://localhost:8080/",
          "height": 399
        },
        "id": "4rU9RP-sw4jL",
        "outputId": "8192d8ad-c0db-486f-a040-7c674cdd9b9e"
      },
      "source": [
        "results_df"
      ],
      "execution_count": 15,
      "outputs": [
        {
          "output_type": "execute_result",
          "data": {
            "text/html": [
              "<div>\n",
              "<style scoped>\n",
              "    .dataframe tbody tr th:only-of-type {\n",
              "        vertical-align: middle;\n",
              "    }\n",
              "\n",
              "    .dataframe tbody tr th {\n",
              "        vertical-align: top;\n",
              "    }\n",
              "\n",
              "    .dataframe thead th {\n",
              "        text-align: right;\n",
              "    }\n",
              "</style>\n",
              "<table border=\"1\" class=\"dataframe\">\n",
              "  <thead>\n",
              "    <tr style=\"text-align: right;\">\n",
              "      <th></th>\n",
              "      <th>sensor_id</th>\n",
              "      <th>sensor_name</th>\n",
              "      <th>hourly_counts</th>\n",
              "      <th>date</th>\n",
              "    </tr>\n",
              "  </thead>\n",
              "  <tbody>\n",
              "    <tr>\n",
              "      <th>0</th>\n",
              "      <td>34</td>\n",
              "      <td>Flinders St-Spark La</td>\n",
              "      <td>300</td>\n",
              "      <td>2019-11-01</td>\n",
              "    </tr>\n",
              "    <tr>\n",
              "      <th>1</th>\n",
              "      <td>39</td>\n",
              "      <td>Alfred Place</td>\n",
              "      <td>604</td>\n",
              "      <td>2019-11-01</td>\n",
              "    </tr>\n",
              "    <tr>\n",
              "      <th>2</th>\n",
              "      <td>37</td>\n",
              "      <td>Lygon St (East)</td>\n",
              "      <td>216</td>\n",
              "      <td>2019-11-01</td>\n",
              "    </tr>\n",
              "    <tr>\n",
              "      <th>3</th>\n",
              "      <td>40</td>\n",
              "      <td>Lonsdale St-Spring St (West)</td>\n",
              "      <td>627</td>\n",
              "      <td>2019-11-01</td>\n",
              "    </tr>\n",
              "    <tr>\n",
              "      <th>4</th>\n",
              "      <td>36</td>\n",
              "      <td>Queen St (West)</td>\n",
              "      <td>774</td>\n",
              "      <td>2019-11-01</td>\n",
              "    </tr>\n",
              "    <tr>\n",
              "      <th>...</th>\n",
              "      <td>...</td>\n",
              "      <td>...</td>\n",
              "      <td>...</td>\n",
              "      <td>...</td>\n",
              "    </tr>\n",
              "    <tr>\n",
              "      <th>3391517</th>\n",
              "      <td>67</td>\n",
              "      <td>Flinders Ln -Degraves St (South)</td>\n",
              "      <td>0</td>\n",
              "      <td>2020-10-31</td>\n",
              "    </tr>\n",
              "    <tr>\n",
              "      <th>3391518</th>\n",
              "      <td>68</td>\n",
              "      <td>Flinders Ln -Degraves St (North)</td>\n",
              "      <td>0</td>\n",
              "      <td>2020-10-31</td>\n",
              "    </tr>\n",
              "    <tr>\n",
              "      <th>3391519</th>\n",
              "      <td>69</td>\n",
              "      <td>Flinders Ln -Degraves St (Crossing)</td>\n",
              "      <td>0</td>\n",
              "      <td>2020-10-31</td>\n",
              "    </tr>\n",
              "    <tr>\n",
              "      <th>3391520</th>\n",
              "      <td>70</td>\n",
              "      <td>Errol Street (East)</td>\n",
              "      <td>0</td>\n",
              "      <td>2020-10-31</td>\n",
              "    </tr>\n",
              "    <tr>\n",
              "      <th>3391521</th>\n",
              "      <td>71</td>\n",
              "      <td>Westwood Place</td>\n",
              "      <td>16</td>\n",
              "      <td>2020-10-31</td>\n",
              "    </tr>\n",
              "  </tbody>\n",
              "</table>\n",
              "<p>2367574 rows × 4 columns</p>\n",
              "</div>"
            ],
            "text/plain": [
              "         sensor_id  ...       date\n",
              "0               34  ... 2019-11-01\n",
              "1               39  ... 2019-11-01\n",
              "2               37  ... 2019-11-01\n",
              "3               40  ... 2019-11-01\n",
              "4               36  ... 2019-11-01\n",
              "...            ...  ...        ...\n",
              "3391517         67  ... 2020-10-31\n",
              "3391518         68  ... 2020-10-31\n",
              "3391519         69  ... 2020-10-31\n",
              "3391520         70  ... 2020-10-31\n",
              "3391521         71  ... 2020-10-31\n",
              "\n",
              "[2367574 rows x 4 columns]"
            ]
          },
          "metadata": {
            "tags": []
          },
          "execution_count": 15
        }
      ]
    },
    {
      "cell_type": "code",
      "metadata": {
        "colab": {
          "base_uri": "https://localhost:8080/",
          "height": 399
        },
        "id": "Aw_DYevvllqD",
        "outputId": "ec01b028-072f-4845-8d93-770a74d3e101"
      },
      "source": [
        "#Aggregating hourly pedestrian count for each by sensor-id\n",
        "new_results_df = pd.DataFrame(results_df.groupby(['date', 'sensor_id'])['hourly_counts'].sum())\n",
        "new_results_df = new_results_df.reset_index()\n",
        "new_results_df"
      ],
      "execution_count": 16,
      "outputs": [
        {
          "output_type": "execute_result",
          "data": {
            "text/html": [
              "<div>\n",
              "<style scoped>\n",
              "    .dataframe tbody tr th:only-of-type {\n",
              "        vertical-align: middle;\n",
              "    }\n",
              "\n",
              "    .dataframe tbody tr th {\n",
              "        vertical-align: top;\n",
              "    }\n",
              "\n",
              "    .dataframe thead th {\n",
              "        text-align: right;\n",
              "    }\n",
              "</style>\n",
              "<table border=\"1\" class=\"dataframe\">\n",
              "  <thead>\n",
              "    <tr style=\"text-align: right;\">\n",
              "      <th></th>\n",
              "      <th>date</th>\n",
              "      <th>sensor_id</th>\n",
              "      <th>hourly_counts</th>\n",
              "    </tr>\n",
              "  </thead>\n",
              "  <tbody>\n",
              "    <tr>\n",
              "      <th>0</th>\n",
              "      <td>2015-01-01</td>\n",
              "      <td>2</td>\n",
              "      <td>21217</td>\n",
              "    </tr>\n",
              "    <tr>\n",
              "      <th>1</th>\n",
              "      <td>2015-01-01</td>\n",
              "      <td>3</td>\n",
              "      <td>32695</td>\n",
              "    </tr>\n",
              "    <tr>\n",
              "      <th>2</th>\n",
              "      <td>2015-01-01</td>\n",
              "      <td>4</td>\n",
              "      <td>36958</td>\n",
              "    </tr>\n",
              "    <tr>\n",
              "      <th>3</th>\n",
              "      <td>2015-01-01</td>\n",
              "      <td>5</td>\n",
              "      <td>31224</td>\n",
              "    </tr>\n",
              "    <tr>\n",
              "      <th>4</th>\n",
              "      <td>2015-01-01</td>\n",
              "      <td>6</td>\n",
              "      <td>20457</td>\n",
              "    </tr>\n",
              "    <tr>\n",
              "      <th>...</th>\n",
              "      <td>...</td>\n",
              "      <td>...</td>\n",
              "      <td>...</td>\n",
              "    </tr>\n",
              "    <tr>\n",
              "      <th>98662</th>\n",
              "      <td>2020-10-31</td>\n",
              "      <td>67</td>\n",
              "      <td>4718</td>\n",
              "    </tr>\n",
              "    <tr>\n",
              "      <th>98663</th>\n",
              "      <td>2020-10-31</td>\n",
              "      <td>68</td>\n",
              "      <td>2447</td>\n",
              "    </tr>\n",
              "    <tr>\n",
              "      <th>98664</th>\n",
              "      <td>2020-10-31</td>\n",
              "      <td>69</td>\n",
              "      <td>3428</td>\n",
              "    </tr>\n",
              "    <tr>\n",
              "      <th>98665</th>\n",
              "      <td>2020-10-31</td>\n",
              "      <td>70</td>\n",
              "      <td>3035</td>\n",
              "    </tr>\n",
              "    <tr>\n",
              "      <th>98666</th>\n",
              "      <td>2020-10-31</td>\n",
              "      <td>71</td>\n",
              "      <td>358</td>\n",
              "    </tr>\n",
              "  </tbody>\n",
              "</table>\n",
              "<p>98667 rows × 3 columns</p>\n",
              "</div>"
            ],
            "text/plain": [
              "            date  sensor_id  hourly_counts\n",
              "0     2015-01-01          2          21217\n",
              "1     2015-01-01          3          32695\n",
              "2     2015-01-01          4          36958\n",
              "3     2015-01-01          5          31224\n",
              "4     2015-01-01          6          20457\n",
              "...          ...        ...            ...\n",
              "98662 2020-10-31         67           4718\n",
              "98663 2020-10-31         68           2447\n",
              "98664 2020-10-31         69           3428\n",
              "98665 2020-10-31         70           3035\n",
              "98666 2020-10-31         71            358\n",
              "\n",
              "[98667 rows x 3 columns]"
            ]
          },
          "metadata": {
            "tags": []
          },
          "execution_count": 16
        }
      ]
    },
    {
      "cell_type": "code",
      "metadata": {
        "id": "ccso3QE-Wt7P",
        "colab": {
          "base_uri": "https://localhost:8080/",
          "height": 399
        },
        "outputId": "39f142e5-cc1a-438f-a24e-5e6b6cdd65e0"
      },
      "source": [
        "#renaming the hourly_count column\n",
        "new_results_df = new_results_df.rename(columns={\"hourly_counts\": \"Total_Pedestrian_Count\"})\n",
        "new_results_df"
      ],
      "execution_count": 17,
      "outputs": [
        {
          "output_type": "execute_result",
          "data": {
            "text/html": [
              "<div>\n",
              "<style scoped>\n",
              "    .dataframe tbody tr th:only-of-type {\n",
              "        vertical-align: middle;\n",
              "    }\n",
              "\n",
              "    .dataframe tbody tr th {\n",
              "        vertical-align: top;\n",
              "    }\n",
              "\n",
              "    .dataframe thead th {\n",
              "        text-align: right;\n",
              "    }\n",
              "</style>\n",
              "<table border=\"1\" class=\"dataframe\">\n",
              "  <thead>\n",
              "    <tr style=\"text-align: right;\">\n",
              "      <th></th>\n",
              "      <th>date</th>\n",
              "      <th>sensor_id</th>\n",
              "      <th>Total_Pedestrian_Count</th>\n",
              "    </tr>\n",
              "  </thead>\n",
              "  <tbody>\n",
              "    <tr>\n",
              "      <th>0</th>\n",
              "      <td>2015-01-01</td>\n",
              "      <td>2</td>\n",
              "      <td>21217</td>\n",
              "    </tr>\n",
              "    <tr>\n",
              "      <th>1</th>\n",
              "      <td>2015-01-01</td>\n",
              "      <td>3</td>\n",
              "      <td>32695</td>\n",
              "    </tr>\n",
              "    <tr>\n",
              "      <th>2</th>\n",
              "      <td>2015-01-01</td>\n",
              "      <td>4</td>\n",
              "      <td>36958</td>\n",
              "    </tr>\n",
              "    <tr>\n",
              "      <th>3</th>\n",
              "      <td>2015-01-01</td>\n",
              "      <td>5</td>\n",
              "      <td>31224</td>\n",
              "    </tr>\n",
              "    <tr>\n",
              "      <th>4</th>\n",
              "      <td>2015-01-01</td>\n",
              "      <td>6</td>\n",
              "      <td>20457</td>\n",
              "    </tr>\n",
              "    <tr>\n",
              "      <th>...</th>\n",
              "      <td>...</td>\n",
              "      <td>...</td>\n",
              "      <td>...</td>\n",
              "    </tr>\n",
              "    <tr>\n",
              "      <th>98662</th>\n",
              "      <td>2020-10-31</td>\n",
              "      <td>67</td>\n",
              "      <td>4718</td>\n",
              "    </tr>\n",
              "    <tr>\n",
              "      <th>98663</th>\n",
              "      <td>2020-10-31</td>\n",
              "      <td>68</td>\n",
              "      <td>2447</td>\n",
              "    </tr>\n",
              "    <tr>\n",
              "      <th>98664</th>\n",
              "      <td>2020-10-31</td>\n",
              "      <td>69</td>\n",
              "      <td>3428</td>\n",
              "    </tr>\n",
              "    <tr>\n",
              "      <th>98665</th>\n",
              "      <td>2020-10-31</td>\n",
              "      <td>70</td>\n",
              "      <td>3035</td>\n",
              "    </tr>\n",
              "    <tr>\n",
              "      <th>98666</th>\n",
              "      <td>2020-10-31</td>\n",
              "      <td>71</td>\n",
              "      <td>358</td>\n",
              "    </tr>\n",
              "  </tbody>\n",
              "</table>\n",
              "<p>98667 rows × 3 columns</p>\n",
              "</div>"
            ],
            "text/plain": [
              "            date  sensor_id  Total_Pedestrian_Count\n",
              "0     2015-01-01          2                   21217\n",
              "1     2015-01-01          3                   32695\n",
              "2     2015-01-01          4                   36958\n",
              "3     2015-01-01          5                   31224\n",
              "4     2015-01-01          6                   20457\n",
              "...          ...        ...                     ...\n",
              "98662 2020-10-31         67                    4718\n",
              "98663 2020-10-31         68                    2447\n",
              "98664 2020-10-31         69                    3428\n",
              "98665 2020-10-31         70                    3035\n",
              "98666 2020-10-31         71                     358\n",
              "\n",
              "[98667 rows x 3 columns]"
            ]
          },
          "metadata": {
            "tags": []
          },
          "execution_count": 17
        }
      ]
    },
    {
      "cell_type": "code",
      "metadata": {
        "colab": {
          "base_uri": "https://localhost:8080/",
          "height": 399
        },
        "id": "s-GzBFWlVKXi",
        "outputId": "84b04c46-28fb-4eee-c653-4b181a6920de"
      },
      "source": [
        "#Aggregating hourly pedestrian count for each day\r\n",
        "new_results_df_per_day = pd.DataFrame(new_results_df.groupby(['date'])['Total_Pedestrian_Count'].sum())\r\n",
        "new_results_df_per_day = new_results_df_per_day.reset_index()\r\n",
        "new_results_df_per_day = new_results_df_per_day.rename(columns={\"Total_Pedestrian_Count\": \"Total_Pedestrian_Count_per_day\"})\r\n",
        "new_results_df_per_day"
      ],
      "execution_count": 18,
      "outputs": [
        {
          "output_type": "execute_result",
          "data": {
            "text/html": [
              "<div>\n",
              "<style scoped>\n",
              "    .dataframe tbody tr th:only-of-type {\n",
              "        vertical-align: middle;\n",
              "    }\n",
              "\n",
              "    .dataframe tbody tr th {\n",
              "        vertical-align: top;\n",
              "    }\n",
              "\n",
              "    .dataframe thead th {\n",
              "        text-align: right;\n",
              "    }\n",
              "</style>\n",
              "<table border=\"1\" class=\"dataframe\">\n",
              "  <thead>\n",
              "    <tr style=\"text-align: right;\">\n",
              "      <th></th>\n",
              "      <th>date</th>\n",
              "      <th>Total_Pedestrian_Count_per_day</th>\n",
              "    </tr>\n",
              "  </thead>\n",
              "  <tbody>\n",
              "    <tr>\n",
              "      <th>0</th>\n",
              "      <td>2015-01-01</td>\n",
              "      <td>471563</td>\n",
              "    </tr>\n",
              "    <tr>\n",
              "      <th>1</th>\n",
              "      <td>2015-01-02</td>\n",
              "      <td>389048</td>\n",
              "    </tr>\n",
              "    <tr>\n",
              "      <th>2</th>\n",
              "      <td>2015-01-03</td>\n",
              "      <td>291761</td>\n",
              "    </tr>\n",
              "    <tr>\n",
              "      <th>3</th>\n",
              "      <td>2015-01-04</td>\n",
              "      <td>382364</td>\n",
              "    </tr>\n",
              "    <tr>\n",
              "      <th>4</th>\n",
              "      <td>2015-01-05</td>\n",
              "      <td>487220</td>\n",
              "    </tr>\n",
              "    <tr>\n",
              "      <th>...</th>\n",
              "      <td>...</td>\n",
              "      <td>...</td>\n",
              "    </tr>\n",
              "    <tr>\n",
              "      <th>2126</th>\n",
              "      <td>2020-10-27</td>\n",
              "      <td>177267</td>\n",
              "    </tr>\n",
              "    <tr>\n",
              "      <th>2127</th>\n",
              "      <td>2020-10-28</td>\n",
              "      <td>311278</td>\n",
              "    </tr>\n",
              "    <tr>\n",
              "      <th>2128</th>\n",
              "      <td>2020-10-29</td>\n",
              "      <td>263334</td>\n",
              "    </tr>\n",
              "    <tr>\n",
              "      <th>2129</th>\n",
              "      <td>2020-10-30</td>\n",
              "      <td>313225</td>\n",
              "    </tr>\n",
              "    <tr>\n",
              "      <th>2130</th>\n",
              "      <td>2020-10-31</td>\n",
              "      <td>370181</td>\n",
              "    </tr>\n",
              "  </tbody>\n",
              "</table>\n",
              "<p>2131 rows × 2 columns</p>\n",
              "</div>"
            ],
            "text/plain": [
              "           date  Total_Pedestrian_Count_per_day\n",
              "0    2015-01-01                          471563\n",
              "1    2015-01-02                          389048\n",
              "2    2015-01-03                          291761\n",
              "3    2015-01-04                          382364\n",
              "4    2015-01-05                          487220\n",
              "...         ...                             ...\n",
              "2126 2020-10-27                          177267\n",
              "2127 2020-10-28                          311278\n",
              "2128 2020-10-29                          263334\n",
              "2129 2020-10-30                          313225\n",
              "2130 2020-10-31                          370181\n",
              "\n",
              "[2131 rows x 2 columns]"
            ]
          },
          "metadata": {
            "tags": []
          },
          "execution_count": 18
        }
      ]
    },
    {
      "cell_type": "code",
      "metadata": {
        "colab": {
          "base_uri": "https://localhost:8080/"
        },
        "id": "Rt_YKzhIYwdE",
        "outputId": "3c7964b4-6870-435d-f27d-af8e579b663b"
      },
      "source": [
        "# Loading the weather dataset \r\n",
        "dataset = pd.read_csv('export_df.csv') #export_df_csv as created by Hung son on Trello card https://trello.com/c/7dcc09P9\r\n",
        "#converting date_time feature from object datatypes to date\r\n",
        "dataset['date'] = dataset['date'].astype('datetime64[ns]')\r\n",
        "\r\n",
        "dataset.dtypes"
      ],
      "execution_count": 19,
      "outputs": [
        {
          "output_type": "execute_result",
          "data": {
            "text/plain": [
              "date                                    datetime64[ns]\n",
              "Rainfall amount (millimetres)                  float64\n",
              "Minimum temperature (Degree C)                 float64\n",
              "Maximum temperature (Degree C)                 float64\n",
              "Daily global solar exposure (MJ/m*m)           float64\n",
              "dtype: object"
            ]
          },
          "metadata": {
            "tags": []
          },
          "execution_count": 19
        }
      ]
    },
    {
      "cell_type": "code",
      "metadata": {
        "colab": {
          "base_uri": "https://localhost:8080/"
        },
        "id": "KnN6OgT__1zJ",
        "outputId": "db5a1c61-886d-4ab5-944b-7786b1588c39"
      },
      "source": [
        "dataset.isna().sum()"
      ],
      "execution_count": 20,
      "outputs": [
        {
          "output_type": "execute_result",
          "data": {
            "text/plain": [
              "date                                    0\n",
              "Rainfall amount (millimetres)           8\n",
              "Minimum temperature (Degree C)          0\n",
              "Maximum temperature (Degree C)          0\n",
              "Daily global solar exposure (MJ/m*m)    1\n",
              "dtype: int64"
            ]
          },
          "metadata": {
            "tags": []
          },
          "execution_count": 20
        }
      ]
    },
    {
      "cell_type": "code",
      "metadata": {
        "colab": {
          "base_uri": "https://localhost:8080/",
          "height": 585
        },
        "id": "Mvdvpg2sfeXS",
        "outputId": "7140858f-2df3-4fbc-9c77-755a97316e6c"
      },
      "source": [
        "dataset_wt_weather_features = dataset.merge(new_results_df_per_day, left_on='date', right_on='date')\r\n",
        "\r\n",
        "dataset_wt_weather_features"
      ],
      "execution_count": 21,
      "outputs": [
        {
          "output_type": "execute_result",
          "data": {
            "text/html": [
              "<div>\n",
              "<style scoped>\n",
              "    .dataframe tbody tr th:only-of-type {\n",
              "        vertical-align: middle;\n",
              "    }\n",
              "\n",
              "    .dataframe tbody tr th {\n",
              "        vertical-align: top;\n",
              "    }\n",
              "\n",
              "    .dataframe thead th {\n",
              "        text-align: right;\n",
              "    }\n",
              "</style>\n",
              "<table border=\"1\" class=\"dataframe\">\n",
              "  <thead>\n",
              "    <tr style=\"text-align: right;\">\n",
              "      <th></th>\n",
              "      <th>date</th>\n",
              "      <th>Rainfall amount (millimetres)</th>\n",
              "      <th>Minimum temperature (Degree C)</th>\n",
              "      <th>Maximum temperature (Degree C)</th>\n",
              "      <th>Daily global solar exposure (MJ/m*m)</th>\n",
              "      <th>Total_Pedestrian_Count_per_day</th>\n",
              "    </tr>\n",
              "  </thead>\n",
              "  <tbody>\n",
              "    <tr>\n",
              "      <th>0</th>\n",
              "      <td>2015-01-01</td>\n",
              "      <td>0.0</td>\n",
              "      <td>13.3</td>\n",
              "      <td>26.9</td>\n",
              "      <td>23.6</td>\n",
              "      <td>471563</td>\n",
              "    </tr>\n",
              "    <tr>\n",
              "      <th>1</th>\n",
              "      <td>2015-01-02</td>\n",
              "      <td>0.0</td>\n",
              "      <td>15.4</td>\n",
              "      <td>38.8</td>\n",
              "      <td>26.8</td>\n",
              "      <td>389048</td>\n",
              "    </tr>\n",
              "    <tr>\n",
              "      <th>2</th>\n",
              "      <td>2015-01-03</td>\n",
              "      <td>0.0</td>\n",
              "      <td>20.0</td>\n",
              "      <td>38.2</td>\n",
              "      <td>26.5</td>\n",
              "      <td>291761</td>\n",
              "    </tr>\n",
              "    <tr>\n",
              "      <th>3</th>\n",
              "      <td>2015-01-04</td>\n",
              "      <td>4.6</td>\n",
              "      <td>16.3</td>\n",
              "      <td>21.4</td>\n",
              "      <td>25.2</td>\n",
              "      <td>382364</td>\n",
              "    </tr>\n",
              "    <tr>\n",
              "      <th>4</th>\n",
              "      <td>2015-01-05</td>\n",
              "      <td>0.0</td>\n",
              "      <td>15.0</td>\n",
              "      <td>22.0</td>\n",
              "      <td>30.7</td>\n",
              "      <td>487220</td>\n",
              "    </tr>\n",
              "    <tr>\n",
              "      <th>...</th>\n",
              "      <td>...</td>\n",
              "      <td>...</td>\n",
              "      <td>...</td>\n",
              "      <td>...</td>\n",
              "      <td>...</td>\n",
              "      <td>...</td>\n",
              "    </tr>\n",
              "    <tr>\n",
              "      <th>2126</th>\n",
              "      <td>2020-10-27</td>\n",
              "      <td>0.0</td>\n",
              "      <td>11.1</td>\n",
              "      <td>19.6</td>\n",
              "      <td>20.1</td>\n",
              "      <td>177267</td>\n",
              "    </tr>\n",
              "    <tr>\n",
              "      <th>2127</th>\n",
              "      <td>2020-10-28</td>\n",
              "      <td>0.0</td>\n",
              "      <td>9.5</td>\n",
              "      <td>20.9</td>\n",
              "      <td>26.7</td>\n",
              "      <td>311278</td>\n",
              "    </tr>\n",
              "    <tr>\n",
              "      <th>2128</th>\n",
              "      <td>2020-10-29</td>\n",
              "      <td>0.0</td>\n",
              "      <td>11.2</td>\n",
              "      <td>24.3</td>\n",
              "      <td>17.1</td>\n",
              "      <td>263334</td>\n",
              "    </tr>\n",
              "    <tr>\n",
              "      <th>2129</th>\n",
              "      <td>2020-10-30</td>\n",
              "      <td>0.0</td>\n",
              "      <td>12.9</td>\n",
              "      <td>18.6</td>\n",
              "      <td>21.0</td>\n",
              "      <td>313225</td>\n",
              "    </tr>\n",
              "    <tr>\n",
              "      <th>2130</th>\n",
              "      <td>2020-10-31</td>\n",
              "      <td>0.0</td>\n",
              "      <td>14.2</td>\n",
              "      <td>16.8</td>\n",
              "      <td>10.0</td>\n",
              "      <td>370181</td>\n",
              "    </tr>\n",
              "  </tbody>\n",
              "</table>\n",
              "<p>2131 rows × 6 columns</p>\n",
              "</div>"
            ],
            "text/plain": [
              "           date  ...  Total_Pedestrian_Count_per_day\n",
              "0    2015-01-01  ...                          471563\n",
              "1    2015-01-02  ...                          389048\n",
              "2    2015-01-03  ...                          291761\n",
              "3    2015-01-04  ...                          382364\n",
              "4    2015-01-05  ...                          487220\n",
              "...         ...  ...                             ...\n",
              "2126 2020-10-27  ...                          177267\n",
              "2127 2020-10-28  ...                          311278\n",
              "2128 2020-10-29  ...                          263334\n",
              "2129 2020-10-30  ...                          313225\n",
              "2130 2020-10-31  ...                          370181\n",
              "\n",
              "[2131 rows x 6 columns]"
            ]
          },
          "metadata": {
            "tags": []
          },
          "execution_count": 21
        }
      ]
    },
    {
      "cell_type": "code",
      "metadata": {
        "id": "rWBh5gQx0NZg"
      },
      "source": [
        "#writing the dataset into a csv file\r\n",
        "import csv  \r\n",
        "\r\n",
        "# field names  \r\n",
        "fields = []  \r\n",
        "for col in dataset_wt_weather_features.columns: \r\n",
        "    fields.append(col) \r\n",
        "\r\n",
        "# data rows of csv file  \r\n",
        "rows = dataset_wt_weather_features.values  \r\n",
        "    \r\n",
        "# name of the csv file  \r\n",
        "filename = \"dataset_wt_weather_features.csv\"\r\n",
        "    \r\n",
        "# writing to the csv file  \r\n",
        "with open(filename, 'w') as csvfile:\r\n",
        "\r\n",
        "    # creating a csv writer object  \r\n",
        "    csvwriter = csv.writer(csvfile)  \r\n",
        "        \r\n",
        "    # writing the fields  \r\n",
        "    csvwriter.writerow(fields)  \r\n",
        "        \r\n",
        "    # writing the data rows  \r\n",
        "    csvwriter.writerows(rows) "
      ],
      "execution_count": 22,
      "outputs": []
    },
    {
      "cell_type": "code",
      "metadata": {
        "id": "91x19r17Ouzi"
      },
      "source": [
        "#Incorporating the weekly index. Representing monday as 1 and sunday as 7.\r\n",
        "dataset_wt_weather_features['day_of_week'] = dataset_wt_weather_features.date.dt.dayofweek\r\n",
        "dataset_wt_weather_features['day_of_week'] = dataset_wt_weather_features['day_of_week'] + 1"
      ],
      "execution_count": 23,
      "outputs": []
    },
    {
      "cell_type": "code",
      "metadata": {
        "id": "pfMRWfjvPNnr"
      },
      "source": [
        "#Incorporating the monthly index. Representing January as 1 and december as 12.\r\n",
        "dataset_wt_weather_features['monthly_index'] = dataset_wt_weather_features.date.dt.month"
      ],
      "execution_count": 24,
      "outputs": []
    },
    {
      "cell_type": "code",
      "metadata": {
        "id": "Gp6eHLX-8adH"
      },
      "source": [
        "#Incorporating the day of the year index. \r\n",
        "dataset_wt_weather_features['day_of_year'] = dataset_wt_weather_features.date.dt.dayofyear"
      ],
      "execution_count": 25,
      "outputs": []
    },
    {
      "cell_type": "code",
      "metadata": {
        "id": "mlwQqaOPlsfJ"
      },
      "source": [
        "#Public Holiday dataset\r\n",
        "public = pd.read_csv('Public_Holidays.csv')\r\n",
        "holidays = public[['Holiday']]"
      ],
      "execution_count": 26,
      "outputs": []
    },
    {
      "cell_type": "code",
      "metadata": {
        "colab": {
          "base_uri": "https://localhost:8080/",
          "height": 399
        },
        "id": "D-h6mZz6l0ZT",
        "outputId": "184a1486-e43b-4a25-a46e-c4d699d7a0dc"
      },
      "source": [
        "#View the dataset\r\n",
        "holidays"
      ],
      "execution_count": 27,
      "outputs": [
        {
          "output_type": "execute_result",
          "data": {
            "text/html": [
              "<div>\n",
              "<style scoped>\n",
              "    .dataframe tbody tr th:only-of-type {\n",
              "        vertical-align: middle;\n",
              "    }\n",
              "\n",
              "    .dataframe tbody tr th {\n",
              "        vertical-align: top;\n",
              "    }\n",
              "\n",
              "    .dataframe thead th {\n",
              "        text-align: right;\n",
              "    }\n",
              "</style>\n",
              "<table border=\"1\" class=\"dataframe\">\n",
              "  <thead>\n",
              "    <tr style=\"text-align: right;\">\n",
              "      <th></th>\n",
              "      <th>Holiday</th>\n",
              "    </tr>\n",
              "  </thead>\n",
              "  <tbody>\n",
              "    <tr>\n",
              "      <th>0</th>\n",
              "      <td>2015-01-01</td>\n",
              "    </tr>\n",
              "    <tr>\n",
              "      <th>1</th>\n",
              "      <td>2015-01-26</td>\n",
              "    </tr>\n",
              "    <tr>\n",
              "      <th>2</th>\n",
              "      <td>2015-03-14</td>\n",
              "    </tr>\n",
              "    <tr>\n",
              "      <th>3</th>\n",
              "      <td>2015-03-25</td>\n",
              "    </tr>\n",
              "    <tr>\n",
              "      <th>4</th>\n",
              "      <td>2015-03-26</td>\n",
              "    </tr>\n",
              "    <tr>\n",
              "      <th>...</th>\n",
              "      <td>...</td>\n",
              "    </tr>\n",
              "    <tr>\n",
              "      <th>74</th>\n",
              "      <td>2020-04-12</td>\n",
              "    </tr>\n",
              "    <tr>\n",
              "      <th>75</th>\n",
              "      <td>2020-04-13</td>\n",
              "    </tr>\n",
              "    <tr>\n",
              "      <th>76</th>\n",
              "      <td>2020-04-25</td>\n",
              "    </tr>\n",
              "    <tr>\n",
              "      <th>77</th>\n",
              "      <td>2020-06-08</td>\n",
              "    </tr>\n",
              "    <tr>\n",
              "      <th>78</th>\n",
              "      <td>2020-10-23</td>\n",
              "    </tr>\n",
              "  </tbody>\n",
              "</table>\n",
              "<p>79 rows × 1 columns</p>\n",
              "</div>"
            ],
            "text/plain": [
              "       Holiday\n",
              "0   2015-01-01\n",
              "1   2015-01-26\n",
              "2   2015-03-14\n",
              "3   2015-03-25\n",
              "4   2015-03-26\n",
              "..         ...\n",
              "74  2020-04-12\n",
              "75  2020-04-13\n",
              "76  2020-04-25\n",
              "77  2020-06-08\n",
              "78  2020-10-23\n",
              "\n",
              "[79 rows x 1 columns]"
            ]
          },
          "metadata": {
            "tags": []
          },
          "execution_count": 27
        }
      ]
    },
    {
      "cell_type": "code",
      "metadata": {
        "id": "cmqJ6BH3oaO-"
      },
      "source": [
        "#converting Holiday feature from object datatypes to date\r\n",
        "holidays['Holiday'] = holidays['Holiday'].astype('datetime64[ns]')\r\n",
        "holidays['Public_Holiday'] = 'Public Holiday'"
      ],
      "execution_count": 28,
      "outputs": []
    },
    {
      "cell_type": "code",
      "metadata": {
        "colab": {
          "base_uri": "https://localhost:8080/"
        },
        "id": "jNRef1F_pEQS",
        "outputId": "9faa8d3b-c092-4371-81aa-fd95380266c5"
      },
      "source": [
        "#Validating the changes in datatype\r\n",
        "holidays.dtypes"
      ],
      "execution_count": 29,
      "outputs": [
        {
          "output_type": "execute_result",
          "data": {
            "text/plain": [
              "Holiday           datetime64[ns]\n",
              "Public_Holiday            object\n",
              "dtype: object"
            ]
          },
          "metadata": {
            "tags": []
          },
          "execution_count": 29
        }
      ]
    },
    {
      "cell_type": "code",
      "metadata": {
        "id": "VLGYSyyW90gf"
      },
      "source": [
        "#Incorporating the public holiday information in the dataset\r\n",
        "dataset_wt_weather_features = dataset_wt_weather_features.set_index(\"date\").join(holidays.set_index(\"Holiday\"), how=\"outer\")"
      ],
      "execution_count": 30,
      "outputs": []
    },
    {
      "cell_type": "code",
      "metadata": {
        "id": "gke2TLJOALZ2"
      },
      "source": [
        "#Resetting the index\r\n",
        "dataset_wt_weather_features.reset_index(inplace = True)"
      ],
      "execution_count": 31,
      "outputs": []
    },
    {
      "cell_type": "code",
      "metadata": {
        "id": "nUi1bgjOAa68"
      },
      "source": [
        "#Renaming the columns\r\n",
        "dataset_wt_weather_features.rename(columns = {'index':'Date'}, inplace = True)"
      ],
      "execution_count": 32,
      "outputs": []
    },
    {
      "cell_type": "code",
      "metadata": {
        "id": "B8efRjuHBAy8"
      },
      "source": [
        "#Replacing the na values as 'not a holiday'\r\n",
        "dataset_wt_weather_features['Public_Holiday'].fillna('Not a public holiday', inplace=True)"
      ],
      "execution_count": 33,
      "outputs": []
    },
    {
      "cell_type": "code",
      "metadata": {
        "id": "OdR8LxEoCPhm"
      },
      "source": [
        "#Rearranging the columns \r\n",
        "dataset_wt_weather_features = dataset_wt_weather_features[['Date', 'day_of_year', 'day_of_week', 'monthly_index','Public_Holiday','Rainfall amount (millimetres)','Minimum temperature (Degree C)','Maximum temperature (Degree C)','Daily global solar exposure (MJ/m*m)', 'Total_Pedestrian_Count_per_day']]"
      ],
      "execution_count": 34,
      "outputs": []
    },
    {
      "cell_type": "code",
      "metadata": {
        "colab": {
          "base_uri": "https://localhost:8080/",
          "height": 602
        },
        "id": "PcSEGYADypOB",
        "outputId": "dd8861d6-6354-4029-ac95-68a12896e576"
      },
      "source": [
        "#displaying the dataset\r\n",
        "dataset_wt_weather_features"
      ],
      "execution_count": 35,
      "outputs": [
        {
          "output_type": "execute_result",
          "data": {
            "text/html": [
              "<div>\n",
              "<style scoped>\n",
              "    .dataframe tbody tr th:only-of-type {\n",
              "        vertical-align: middle;\n",
              "    }\n",
              "\n",
              "    .dataframe tbody tr th {\n",
              "        vertical-align: top;\n",
              "    }\n",
              "\n",
              "    .dataframe thead th {\n",
              "        text-align: right;\n",
              "    }\n",
              "</style>\n",
              "<table border=\"1\" class=\"dataframe\">\n",
              "  <thead>\n",
              "    <tr style=\"text-align: right;\">\n",
              "      <th></th>\n",
              "      <th>Date</th>\n",
              "      <th>day_of_year</th>\n",
              "      <th>day_of_week</th>\n",
              "      <th>monthly_index</th>\n",
              "      <th>Public_Holiday</th>\n",
              "      <th>Rainfall amount (millimetres)</th>\n",
              "      <th>Minimum temperature (Degree C)</th>\n",
              "      <th>Maximum temperature (Degree C)</th>\n",
              "      <th>Daily global solar exposure (MJ/m*m)</th>\n",
              "      <th>Total_Pedestrian_Count_per_day</th>\n",
              "    </tr>\n",
              "  </thead>\n",
              "  <tbody>\n",
              "    <tr>\n",
              "      <th>0</th>\n",
              "      <td>2015-01-01</td>\n",
              "      <td>1</td>\n",
              "      <td>4</td>\n",
              "      <td>1</td>\n",
              "      <td>Public Holiday</td>\n",
              "      <td>0.0</td>\n",
              "      <td>13.3</td>\n",
              "      <td>26.9</td>\n",
              "      <td>23.6</td>\n",
              "      <td>471563</td>\n",
              "    </tr>\n",
              "    <tr>\n",
              "      <th>1</th>\n",
              "      <td>2015-01-02</td>\n",
              "      <td>2</td>\n",
              "      <td>5</td>\n",
              "      <td>1</td>\n",
              "      <td>Not a public holiday</td>\n",
              "      <td>0.0</td>\n",
              "      <td>15.4</td>\n",
              "      <td>38.8</td>\n",
              "      <td>26.8</td>\n",
              "      <td>389048</td>\n",
              "    </tr>\n",
              "    <tr>\n",
              "      <th>2</th>\n",
              "      <td>2015-01-03</td>\n",
              "      <td>3</td>\n",
              "      <td>6</td>\n",
              "      <td>1</td>\n",
              "      <td>Not a public holiday</td>\n",
              "      <td>0.0</td>\n",
              "      <td>20.0</td>\n",
              "      <td>38.2</td>\n",
              "      <td>26.5</td>\n",
              "      <td>291761</td>\n",
              "    </tr>\n",
              "    <tr>\n",
              "      <th>3</th>\n",
              "      <td>2015-01-04</td>\n",
              "      <td>4</td>\n",
              "      <td>7</td>\n",
              "      <td>1</td>\n",
              "      <td>Not a public holiday</td>\n",
              "      <td>4.6</td>\n",
              "      <td>16.3</td>\n",
              "      <td>21.4</td>\n",
              "      <td>25.2</td>\n",
              "      <td>382364</td>\n",
              "    </tr>\n",
              "    <tr>\n",
              "      <th>4</th>\n",
              "      <td>2015-01-05</td>\n",
              "      <td>5</td>\n",
              "      <td>1</td>\n",
              "      <td>1</td>\n",
              "      <td>Not a public holiday</td>\n",
              "      <td>0.0</td>\n",
              "      <td>15.0</td>\n",
              "      <td>22.0</td>\n",
              "      <td>30.7</td>\n",
              "      <td>487220</td>\n",
              "    </tr>\n",
              "    <tr>\n",
              "      <th>...</th>\n",
              "      <td>...</td>\n",
              "      <td>...</td>\n",
              "      <td>...</td>\n",
              "      <td>...</td>\n",
              "      <td>...</td>\n",
              "      <td>...</td>\n",
              "      <td>...</td>\n",
              "      <td>...</td>\n",
              "      <td>...</td>\n",
              "      <td>...</td>\n",
              "    </tr>\n",
              "    <tr>\n",
              "      <th>2127</th>\n",
              "      <td>2020-10-27</td>\n",
              "      <td>301</td>\n",
              "      <td>2</td>\n",
              "      <td>10</td>\n",
              "      <td>Not a public holiday</td>\n",
              "      <td>0.0</td>\n",
              "      <td>11.1</td>\n",
              "      <td>19.6</td>\n",
              "      <td>20.1</td>\n",
              "      <td>177267</td>\n",
              "    </tr>\n",
              "    <tr>\n",
              "      <th>2128</th>\n",
              "      <td>2020-10-28</td>\n",
              "      <td>302</td>\n",
              "      <td>3</td>\n",
              "      <td>10</td>\n",
              "      <td>Not a public holiday</td>\n",
              "      <td>0.0</td>\n",
              "      <td>9.5</td>\n",
              "      <td>20.9</td>\n",
              "      <td>26.7</td>\n",
              "      <td>311278</td>\n",
              "    </tr>\n",
              "    <tr>\n",
              "      <th>2129</th>\n",
              "      <td>2020-10-29</td>\n",
              "      <td>303</td>\n",
              "      <td>4</td>\n",
              "      <td>10</td>\n",
              "      <td>Not a public holiday</td>\n",
              "      <td>0.0</td>\n",
              "      <td>11.2</td>\n",
              "      <td>24.3</td>\n",
              "      <td>17.1</td>\n",
              "      <td>263334</td>\n",
              "    </tr>\n",
              "    <tr>\n",
              "      <th>2130</th>\n",
              "      <td>2020-10-30</td>\n",
              "      <td>304</td>\n",
              "      <td>5</td>\n",
              "      <td>10</td>\n",
              "      <td>Not a public holiday</td>\n",
              "      <td>0.0</td>\n",
              "      <td>12.9</td>\n",
              "      <td>18.6</td>\n",
              "      <td>21.0</td>\n",
              "      <td>313225</td>\n",
              "    </tr>\n",
              "    <tr>\n",
              "      <th>2131</th>\n",
              "      <td>2020-10-31</td>\n",
              "      <td>305</td>\n",
              "      <td>6</td>\n",
              "      <td>10</td>\n",
              "      <td>Not a public holiday</td>\n",
              "      <td>0.0</td>\n",
              "      <td>14.2</td>\n",
              "      <td>16.8</td>\n",
              "      <td>10.0</td>\n",
              "      <td>370181</td>\n",
              "    </tr>\n",
              "  </tbody>\n",
              "</table>\n",
              "<p>2132 rows × 10 columns</p>\n",
              "</div>"
            ],
            "text/plain": [
              "           Date  ...  Total_Pedestrian_Count_per_day\n",
              "0    2015-01-01  ...                          471563\n",
              "1    2015-01-02  ...                          389048\n",
              "2    2015-01-03  ...                          291761\n",
              "3    2015-01-04  ...                          382364\n",
              "4    2015-01-05  ...                          487220\n",
              "...         ...  ...                             ...\n",
              "2127 2020-10-27  ...                          177267\n",
              "2128 2020-10-28  ...                          311278\n",
              "2129 2020-10-29  ...                          263334\n",
              "2130 2020-10-30  ...                          313225\n",
              "2131 2020-10-31  ...                          370181\n",
              "\n",
              "[2132 rows x 10 columns]"
            ]
          },
          "metadata": {
            "tags": []
          },
          "execution_count": 35
        }
      ]
    },
    {
      "cell_type": "code",
      "metadata": {
        "id": "djsZf_B4tZnJ"
      },
      "source": [
        "#using monthly_index, day of the week, year and day of the year as train data \r\n",
        "X_train = dataset_wt_weather_features[['monthly_index','day_of_week']]\r\n",
        "\r\n",
        "X_train['Year'] = dataset_wt_weather_features.Date.dt.year\r\n",
        "\r\n",
        "X_train['day_of_year'] = dataset_wt_weather_features.Date.dt.dayofyear"
      ],
      "execution_count": 36,
      "outputs": []
    },
    {
      "cell_type": "code",
      "metadata": {
        "colab": {
          "base_uri": "https://localhost:8080/",
          "height": 399
        },
        "id": "u08qH6LKwWZf",
        "outputId": "a4cc886d-fbf8-46b1-9d77-5a2896fd0097"
      },
      "source": [
        "X_train = X_train[['Year', 'day_of_year', 'monthly_index','day_of_week' ]]\r\n",
        "X_train"
      ],
      "execution_count": 37,
      "outputs": [
        {
          "output_type": "execute_result",
          "data": {
            "text/html": [
              "<div>\n",
              "<style scoped>\n",
              "    .dataframe tbody tr th:only-of-type {\n",
              "        vertical-align: middle;\n",
              "    }\n",
              "\n",
              "    .dataframe tbody tr th {\n",
              "        vertical-align: top;\n",
              "    }\n",
              "\n",
              "    .dataframe thead th {\n",
              "        text-align: right;\n",
              "    }\n",
              "</style>\n",
              "<table border=\"1\" class=\"dataframe\">\n",
              "  <thead>\n",
              "    <tr style=\"text-align: right;\">\n",
              "      <th></th>\n",
              "      <th>Year</th>\n",
              "      <th>day_of_year</th>\n",
              "      <th>monthly_index</th>\n",
              "      <th>day_of_week</th>\n",
              "    </tr>\n",
              "  </thead>\n",
              "  <tbody>\n",
              "    <tr>\n",
              "      <th>0</th>\n",
              "      <td>2015</td>\n",
              "      <td>1</td>\n",
              "      <td>1</td>\n",
              "      <td>4</td>\n",
              "    </tr>\n",
              "    <tr>\n",
              "      <th>1</th>\n",
              "      <td>2015</td>\n",
              "      <td>2</td>\n",
              "      <td>1</td>\n",
              "      <td>5</td>\n",
              "    </tr>\n",
              "    <tr>\n",
              "      <th>2</th>\n",
              "      <td>2015</td>\n",
              "      <td>3</td>\n",
              "      <td>1</td>\n",
              "      <td>6</td>\n",
              "    </tr>\n",
              "    <tr>\n",
              "      <th>3</th>\n",
              "      <td>2015</td>\n",
              "      <td>4</td>\n",
              "      <td>1</td>\n",
              "      <td>7</td>\n",
              "    </tr>\n",
              "    <tr>\n",
              "      <th>4</th>\n",
              "      <td>2015</td>\n",
              "      <td>5</td>\n",
              "      <td>1</td>\n",
              "      <td>1</td>\n",
              "    </tr>\n",
              "    <tr>\n",
              "      <th>...</th>\n",
              "      <td>...</td>\n",
              "      <td>...</td>\n",
              "      <td>...</td>\n",
              "      <td>...</td>\n",
              "    </tr>\n",
              "    <tr>\n",
              "      <th>2127</th>\n",
              "      <td>2020</td>\n",
              "      <td>301</td>\n",
              "      <td>10</td>\n",
              "      <td>2</td>\n",
              "    </tr>\n",
              "    <tr>\n",
              "      <th>2128</th>\n",
              "      <td>2020</td>\n",
              "      <td>302</td>\n",
              "      <td>10</td>\n",
              "      <td>3</td>\n",
              "    </tr>\n",
              "    <tr>\n",
              "      <th>2129</th>\n",
              "      <td>2020</td>\n",
              "      <td>303</td>\n",
              "      <td>10</td>\n",
              "      <td>4</td>\n",
              "    </tr>\n",
              "    <tr>\n",
              "      <th>2130</th>\n",
              "      <td>2020</td>\n",
              "      <td>304</td>\n",
              "      <td>10</td>\n",
              "      <td>5</td>\n",
              "    </tr>\n",
              "    <tr>\n",
              "      <th>2131</th>\n",
              "      <td>2020</td>\n",
              "      <td>305</td>\n",
              "      <td>10</td>\n",
              "      <td>6</td>\n",
              "    </tr>\n",
              "  </tbody>\n",
              "</table>\n",
              "<p>2132 rows × 4 columns</p>\n",
              "</div>"
            ],
            "text/plain": [
              "      Year  day_of_year  monthly_index  day_of_week\n",
              "0     2015            1              1            4\n",
              "1     2015            2              1            5\n",
              "2     2015            3              1            6\n",
              "3     2015            4              1            7\n",
              "4     2015            5              1            1\n",
              "...    ...          ...            ...          ...\n",
              "2127  2020          301             10            2\n",
              "2128  2020          302             10            3\n",
              "2129  2020          303             10            4\n",
              "2130  2020          304             10            5\n",
              "2131  2020          305             10            6\n",
              "\n",
              "[2132 rows x 4 columns]"
            ]
          },
          "metadata": {
            "tags": []
          },
          "execution_count": 37
        }
      ]
    },
    {
      "cell_type": "markdown",
      "metadata": {
        "id": "87KrRdW6RKvB"
      },
      "source": [
        "#Predicting independent variables for Minimum temperature (Degree C) and Maximum temperature (Degree C) from 1-11-2020 to 31-01-2021"
      ]
    },
    {
      "cell_type": "code",
      "metadata": {
        "colab": {
          "base_uri": "https://localhost:8080/"
        },
        "id": "No0UajZLyh0p",
        "outputId": "05111ed1-1445-41f4-bd13-d0306d82a209"
      },
      "source": [
        "Y_train_min_temp = dataset_wt_weather_features['Minimum temperature (Degree C)']\r\n",
        "Y_train_min_temp\r\n",
        "Y_train_max_temp = dataset_wt_weather_features['Maximum temperature (Degree C)']\r\n",
        "Y_train_max_temp"
      ],
      "execution_count": 38,
      "outputs": [
        {
          "output_type": "execute_result",
          "data": {
            "text/plain": [
              "0       26.9\n",
              "1       38.8\n",
              "2       38.2\n",
              "3       21.4\n",
              "4       22.0\n",
              "        ... \n",
              "2127    19.6\n",
              "2128    20.9\n",
              "2129    24.3\n",
              "2130    18.6\n",
              "2131    16.8\n",
              "Name: Maximum temperature (Degree C), Length: 2132, dtype: float64"
            ]
          },
          "metadata": {
            "tags": []
          },
          "execution_count": 38
        }
      ]
    },
    {
      "cell_type": "code",
      "metadata": {
        "colab": {
          "base_uri": "https://localhost:8080/"
        },
        "id": "rJBrd18I05Xj",
        "outputId": "5cd8b6dd-77f5-487e-a739-b4684447157c"
      },
      "source": [
        "from sklearn.neighbors import KNeighborsRegressor\r\n",
        "from sklearn.tree import DecisionTreeRegressor\r\n",
        "from sklearn.ensemble import RandomForestRegressor\r\n",
        "from sklearn.neural_network import MLPRegressor\r\n",
        "from sklearn.svm import SVR\r\n",
        "from sklearn.model_selection import GridSearchCV\r\n",
        "from sklearn.preprocessing import StandardScaler\r\n",
        "from sklearn.metrics import mean_squared_error\r\n",
        "import numpy as np\r\n",
        "#using standard scaler\r\n",
        "scaler = StandardScaler()\r\n",
        "#fit get the mean and standard deviation of the train features \r\n",
        "#while tranform applies the standardation formular\r\n",
        "X_train_StandardScaler = scaler.fit_transform(X_train) \r\n",
        "X_train_StandardScaler"
      ],
      "execution_count": 39,
      "outputs": [
        {
          "output_type": "execute_result",
          "data": {
            "text/plain": [
              "array([[-1.44730998e+00, -1.71507061e+00, -1.58631120e+00,\n",
              "        -9.38637205e-04],\n",
              "       [-1.44730998e+00, -1.70542213e+00, -1.58631120e+00,\n",
              "         4.99354993e-01],\n",
              "       [-1.44730998e+00, -1.69577366e+00, -1.58631120e+00,\n",
              "         9.99648624e-01],\n",
              "       ...,\n",
              "       [ 1.53055614e+00,  1.19876862e+00,  1.06833203e+00,\n",
              "        -9.38637205e-04],\n",
              "       [ 1.53055614e+00,  1.20841709e+00,  1.06833203e+00,\n",
              "         4.99354993e-01],\n",
              "       [ 1.53055614e+00,  1.21806557e+00,  1.06833203e+00,\n",
              "         9.99648624e-01]])"
            ]
          },
          "metadata": {
            "tags": []
          },
          "execution_count": 39
        }
      ]
    },
    {
      "cell_type": "code",
      "metadata": {
        "id": "fS55McCZ3q2b",
        "colab": {
          "base_uri": "https://localhost:8080/",
          "height": 399
        },
        "outputId": "9f46275a-e71a-4109-dbc9-e9def9536f4b"
      },
      "source": [
        "from datetime import datetime, timedelta\r\n",
        "#generating the test data set\r\n",
        "base = datetime.strptime('2020-11-1', '%Y-%m-%d')\r\n",
        "date_list = [base + timedelta(days=x) for x in range(92)]\r\n",
        "test_data = df(date_list)\r\n",
        "#renaming a column \r\n",
        "test_data.rename(columns = {0:'Date'},inplace = True)\r\n",
        "#Incorporating the monthly index. Representing January as 1 and December as 12.\r\n",
        "test_data['monthly_index'] = test_data.Date.dt.month\r\n",
        "\r\n",
        "#Incorporating the year\r\n",
        "test_data['Year'] = test_data.Date.dt.year\r\n",
        "\r\n",
        "#Incorporating the weekly index. Representing monday as 1 and sunday as 7.\r\n",
        "test_data['day_of_week'] = test_data.Date.dt.dayofweek + 1\r\n",
        "\r\n",
        "#Incorporating the day of the year\r\n",
        "test_data['day_of_year'] = test_data.Date.dt.dayofyear\r\n",
        "\r\n",
        "#rearranging columns for the test dataset\r\n",
        "test_data = test_data[['Year', 'day_of_year', 'monthly_index','day_of_week' ]]\r\n",
        "\r\n",
        "#displaying the test dataset\r\n",
        "test_data\r\n"
      ],
      "execution_count": 40,
      "outputs": [
        {
          "output_type": "execute_result",
          "data": {
            "text/html": [
              "<div>\n",
              "<style scoped>\n",
              "    .dataframe tbody tr th:only-of-type {\n",
              "        vertical-align: middle;\n",
              "    }\n",
              "\n",
              "    .dataframe tbody tr th {\n",
              "        vertical-align: top;\n",
              "    }\n",
              "\n",
              "    .dataframe thead th {\n",
              "        text-align: right;\n",
              "    }\n",
              "</style>\n",
              "<table border=\"1\" class=\"dataframe\">\n",
              "  <thead>\n",
              "    <tr style=\"text-align: right;\">\n",
              "      <th></th>\n",
              "      <th>Year</th>\n",
              "      <th>day_of_year</th>\n",
              "      <th>monthly_index</th>\n",
              "      <th>day_of_week</th>\n",
              "    </tr>\n",
              "  </thead>\n",
              "  <tbody>\n",
              "    <tr>\n",
              "      <th>0</th>\n",
              "      <td>2020</td>\n",
              "      <td>306</td>\n",
              "      <td>11</td>\n",
              "      <td>7</td>\n",
              "    </tr>\n",
              "    <tr>\n",
              "      <th>1</th>\n",
              "      <td>2020</td>\n",
              "      <td>307</td>\n",
              "      <td>11</td>\n",
              "      <td>1</td>\n",
              "    </tr>\n",
              "    <tr>\n",
              "      <th>2</th>\n",
              "      <td>2020</td>\n",
              "      <td>308</td>\n",
              "      <td>11</td>\n",
              "      <td>2</td>\n",
              "    </tr>\n",
              "    <tr>\n",
              "      <th>3</th>\n",
              "      <td>2020</td>\n",
              "      <td>309</td>\n",
              "      <td>11</td>\n",
              "      <td>3</td>\n",
              "    </tr>\n",
              "    <tr>\n",
              "      <th>4</th>\n",
              "      <td>2020</td>\n",
              "      <td>310</td>\n",
              "      <td>11</td>\n",
              "      <td>4</td>\n",
              "    </tr>\n",
              "    <tr>\n",
              "      <th>...</th>\n",
              "      <td>...</td>\n",
              "      <td>...</td>\n",
              "      <td>...</td>\n",
              "      <td>...</td>\n",
              "    </tr>\n",
              "    <tr>\n",
              "      <th>87</th>\n",
              "      <td>2021</td>\n",
              "      <td>27</td>\n",
              "      <td>1</td>\n",
              "      <td>3</td>\n",
              "    </tr>\n",
              "    <tr>\n",
              "      <th>88</th>\n",
              "      <td>2021</td>\n",
              "      <td>28</td>\n",
              "      <td>1</td>\n",
              "      <td>4</td>\n",
              "    </tr>\n",
              "    <tr>\n",
              "      <th>89</th>\n",
              "      <td>2021</td>\n",
              "      <td>29</td>\n",
              "      <td>1</td>\n",
              "      <td>5</td>\n",
              "    </tr>\n",
              "    <tr>\n",
              "      <th>90</th>\n",
              "      <td>2021</td>\n",
              "      <td>30</td>\n",
              "      <td>1</td>\n",
              "      <td>6</td>\n",
              "    </tr>\n",
              "    <tr>\n",
              "      <th>91</th>\n",
              "      <td>2021</td>\n",
              "      <td>31</td>\n",
              "      <td>1</td>\n",
              "      <td>7</td>\n",
              "    </tr>\n",
              "  </tbody>\n",
              "</table>\n",
              "<p>92 rows × 4 columns</p>\n",
              "</div>"
            ],
            "text/plain": [
              "    Year  day_of_year  monthly_index  day_of_week\n",
              "0   2020          306             11            7\n",
              "1   2020          307             11            1\n",
              "2   2020          308             11            2\n",
              "3   2020          309             11            3\n",
              "4   2020          310             11            4\n",
              "..   ...          ...            ...          ...\n",
              "87  2021           27              1            3\n",
              "88  2021           28              1            4\n",
              "89  2021           29              1            5\n",
              "90  2021           30              1            6\n",
              "91  2021           31              1            7\n",
              "\n",
              "[92 rows x 4 columns]"
            ]
          },
          "metadata": {
            "tags": []
          },
          "execution_count": 40
        }
      ]
    },
    {
      "cell_type": "code",
      "metadata": {
        "colab": {
          "base_uri": "https://localhost:8080/"
        },
        "id": "yqxN2q0nO2MG",
        "outputId": "8ac17e78-7562-4a27-c388-58bba36992c2"
      },
      "source": [
        "#scaling the test dataset \r\n",
        "test_data_StandardScaler = scaler.fit_transform(test_data) \r\n",
        "test_data_StandardScaler"
      ],
      "execution_count": 41,
      "outputs": [
        {
          "output_type": "execute_result",
          "data": {
            "text/plain": [
              "array([[-0.71287918,  0.51194302,  0.60852228,  1.47391105],\n",
              "       [-0.71287918,  0.51852106,  0.60852228, -1.5063047 ],\n",
              "       [-0.71287918,  0.5250991 ,  0.60852228, -1.00960208],\n",
              "       [-0.71287918,  0.53167714,  0.60852228, -0.51289945],\n",
              "       [-0.71287918,  0.53825517,  0.60852228, -0.01619682],\n",
              "       [-0.71287918,  0.54483321,  0.60852228,  0.4805058 ],\n",
              "       [-0.71287918,  0.55141125,  0.60852228,  0.97720843],\n",
              "       [-0.71287918,  0.55798929,  0.60852228,  1.47391105],\n",
              "       [-0.71287918,  0.56456733,  0.60852228, -1.5063047 ],\n",
              "       [-0.71287918,  0.57114537,  0.60852228, -1.00960208],\n",
              "       [-0.71287918,  0.57772341,  0.60852228, -0.51289945],\n",
              "       [-0.71287918,  0.58430145,  0.60852228, -0.01619682],\n",
              "       [-0.71287918,  0.59087948,  0.60852228,  0.4805058 ],\n",
              "       [-0.71287918,  0.59745752,  0.60852228,  0.97720843],\n",
              "       [-0.71287918,  0.60403556,  0.60852228,  1.47391105],\n",
              "       [-0.71287918,  0.6106136 ,  0.60852228, -1.5063047 ],\n",
              "       [-0.71287918,  0.61719164,  0.60852228, -1.00960208],\n",
              "       [-0.71287918,  0.62376968,  0.60852228, -0.51289945],\n",
              "       [-0.71287918,  0.63034772,  0.60852228, -0.01619682],\n",
              "       [-0.71287918,  0.63692576,  0.60852228,  0.4805058 ],\n",
              "       [-0.71287918,  0.6435038 ,  0.60852228,  0.97720843],\n",
              "       [-0.71287918,  0.65008183,  0.60852228,  1.47391105],\n",
              "       [-0.71287918,  0.65665987,  0.60852228, -1.5063047 ],\n",
              "       [-0.71287918,  0.66323791,  0.60852228, -1.00960208],\n",
              "       [-0.71287918,  0.66981595,  0.60852228, -0.51289945],\n",
              "       [-0.71287918,  0.67639399,  0.60852228, -0.01619682],\n",
              "       [-0.71287918,  0.68297203,  0.60852228,  0.4805058 ],\n",
              "       [-0.71287918,  0.68955007,  0.60852228,  0.97720843],\n",
              "       [-0.71287918,  0.69612811,  0.60852228,  1.47391105],\n",
              "       [-0.71287918,  0.70270614,  0.60852228, -1.5063047 ],\n",
              "       [-0.71287918,  0.70928418,  0.80918196, -1.00960208],\n",
              "       [-0.71287918,  0.71586222,  0.80918196, -0.51289945],\n",
              "       [-0.71287918,  0.72244026,  0.80918196, -0.01619682],\n",
              "       [-0.71287918,  0.7290183 ,  0.80918196,  0.4805058 ],\n",
              "       [-0.71287918,  0.73559634,  0.80918196,  0.97720843],\n",
              "       [-0.71287918,  0.74217438,  0.80918196,  1.47391105],\n",
              "       [-0.71287918,  0.74875242,  0.80918196, -1.5063047 ],\n",
              "       [-0.71287918,  0.75533045,  0.80918196, -1.00960208],\n",
              "       [-0.71287918,  0.76190849,  0.80918196, -0.51289945],\n",
              "       [-0.71287918,  0.76848653,  0.80918196, -0.01619682],\n",
              "       [-0.71287918,  0.77506457,  0.80918196,  0.4805058 ],\n",
              "       [-0.71287918,  0.78164261,  0.80918196,  0.97720843],\n",
              "       [-0.71287918,  0.78822065,  0.80918196,  1.47391105],\n",
              "       [-0.71287918,  0.79479869,  0.80918196, -1.5063047 ],\n",
              "       [-0.71287918,  0.80137673,  0.80918196, -1.00960208],\n",
              "       [-0.71287918,  0.80795476,  0.80918196, -0.51289945],\n",
              "       [-0.71287918,  0.8145328 ,  0.80918196, -0.01619682],\n",
              "       [-0.71287918,  0.82111084,  0.80918196,  0.4805058 ],\n",
              "       [-0.71287918,  0.82768888,  0.80918196,  0.97720843],\n",
              "       [-0.71287918,  0.83426692,  0.80918196,  1.47391105],\n",
              "       [-0.71287918,  0.84084496,  0.80918196, -1.5063047 ],\n",
              "       [-0.71287918,  0.847423  ,  0.80918196, -1.00960208],\n",
              "       [-0.71287918,  0.85400104,  0.80918196, -0.51289945],\n",
              "       [-0.71287918,  0.86057908,  0.80918196, -0.01619682],\n",
              "       [-0.71287918,  0.86715711,  0.80918196,  0.4805058 ],\n",
              "       [-0.71287918,  0.87373515,  0.80918196,  0.97720843],\n",
              "       [-0.71287918,  0.88031319,  0.80918196,  1.47391105],\n",
              "       [-0.71287918,  0.88689123,  0.80918196, -1.5063047 ],\n",
              "       [-0.71287918,  0.89346927,  0.80918196, -1.00960208],\n",
              "       [-0.71287918,  0.90004731,  0.80918196, -0.51289945],\n",
              "       [-0.71287918,  0.90662535,  0.80918196, -0.01619682],\n",
              "       [ 1.40276225, -1.49435881, -1.39807449,  0.4805058 ],\n",
              "       [ 1.40276225, -1.48778077, -1.39807449,  0.97720843],\n",
              "       [ 1.40276225, -1.48120274, -1.39807449,  1.47391105],\n",
              "       [ 1.40276225, -1.4746247 , -1.39807449, -1.5063047 ],\n",
              "       [ 1.40276225, -1.46804666, -1.39807449, -1.00960208],\n",
              "       [ 1.40276225, -1.46146862, -1.39807449, -0.51289945],\n",
              "       [ 1.40276225, -1.45489058, -1.39807449, -0.01619682],\n",
              "       [ 1.40276225, -1.44831254, -1.39807449,  0.4805058 ],\n",
              "       [ 1.40276225, -1.4417345 , -1.39807449,  0.97720843],\n",
              "       [ 1.40276225, -1.43515646, -1.39807449,  1.47391105],\n",
              "       [ 1.40276225, -1.42857843, -1.39807449, -1.5063047 ],\n",
              "       [ 1.40276225, -1.42200039, -1.39807449, -1.00960208],\n",
              "       [ 1.40276225, -1.41542235, -1.39807449, -0.51289945],\n",
              "       [ 1.40276225, -1.40884431, -1.39807449, -0.01619682],\n",
              "       [ 1.40276225, -1.40226627, -1.39807449,  0.4805058 ],\n",
              "       [ 1.40276225, -1.39568823, -1.39807449,  0.97720843],\n",
              "       [ 1.40276225, -1.38911019, -1.39807449,  1.47391105],\n",
              "       [ 1.40276225, -1.38253215, -1.39807449, -1.5063047 ],\n",
              "       [ 1.40276225, -1.37595411, -1.39807449, -1.00960208],\n",
              "       [ 1.40276225, -1.36937608, -1.39807449, -0.51289945],\n",
              "       [ 1.40276225, -1.36279804, -1.39807449, -0.01619682],\n",
              "       [ 1.40276225, -1.35622   , -1.39807449,  0.4805058 ],\n",
              "       [ 1.40276225, -1.34964196, -1.39807449,  0.97720843],\n",
              "       [ 1.40276225, -1.34306392, -1.39807449,  1.47391105],\n",
              "       [ 1.40276225, -1.33648588, -1.39807449, -1.5063047 ],\n",
              "       [ 1.40276225, -1.32990784, -1.39807449, -1.00960208],\n",
              "       [ 1.40276225, -1.3233298 , -1.39807449, -0.51289945],\n",
              "       [ 1.40276225, -1.31675177, -1.39807449, -0.01619682],\n",
              "       [ 1.40276225, -1.31017373, -1.39807449,  0.4805058 ],\n",
              "       [ 1.40276225, -1.30359569, -1.39807449,  0.97720843],\n",
              "       [ 1.40276225, -1.29701765, -1.39807449,  1.47391105]])"
            ]
          },
          "metadata": {
            "tags": []
          },
          "execution_count": 41
        }
      ]
    },
    {
      "cell_type": "code",
      "metadata": {
        "colab": {
          "base_uri": "https://localhost:8080/",
          "height": 399
        },
        "id": "BheQ-16DNFvS",
        "outputId": "48ad1746-47c4-446a-b5b7-12453392e636"
      },
      "source": [
        "# Loading the weather test dataset \r\n",
        "test_dataset = pd.read_csv('Test_dataset_updated.csv') \r\n",
        "\r\n",
        "# dataset.dtypes\r\n",
        "test_dataset"
      ],
      "execution_count": 42,
      "outputs": [
        {
          "output_type": "execute_result",
          "data": {
            "text/html": [
              "<div>\n",
              "<style scoped>\n",
              "    .dataframe tbody tr th:only-of-type {\n",
              "        vertical-align: middle;\n",
              "    }\n",
              "\n",
              "    .dataframe tbody tr th {\n",
              "        vertical-align: top;\n",
              "    }\n",
              "\n",
              "    .dataframe thead th {\n",
              "        text-align: right;\n",
              "    }\n",
              "</style>\n",
              "<table border=\"1\" class=\"dataframe\">\n",
              "  <thead>\n",
              "    <tr style=\"text-align: right;\">\n",
              "      <th></th>\n",
              "      <th>Date</th>\n",
              "      <th>Rainfall</th>\n",
              "      <th>Solar Exposure</th>\n",
              "      <th>Minimum temperature</th>\n",
              "      <th>Maximum Temperature</th>\n",
              "    </tr>\n",
              "  </thead>\n",
              "  <tbody>\n",
              "    <tr>\n",
              "      <th>0</th>\n",
              "      <td>01-11-2020</td>\n",
              "      <td>0.0</td>\n",
              "      <td>23.2</td>\n",
              "      <td>12.6</td>\n",
              "      <td>17.0</td>\n",
              "    </tr>\n",
              "    <tr>\n",
              "      <th>1</th>\n",
              "      <td>02-11-2020</td>\n",
              "      <td>0.0</td>\n",
              "      <td>26.8</td>\n",
              "      <td>9.6</td>\n",
              "      <td>29.5</td>\n",
              "    </tr>\n",
              "    <tr>\n",
              "      <th>2</th>\n",
              "      <td>03-11-2020</td>\n",
              "      <td>0.0</td>\n",
              "      <td>26.9</td>\n",
              "      <td>12.1</td>\n",
              "      <td>30.4</td>\n",
              "    </tr>\n",
              "    <tr>\n",
              "      <th>3</th>\n",
              "      <td>04-11-2020</td>\n",
              "      <td>0.0</td>\n",
              "      <td>5.5</td>\n",
              "      <td>21.9</td>\n",
              "      <td>22.8</td>\n",
              "    </tr>\n",
              "    <tr>\n",
              "      <th>4</th>\n",
              "      <td>05-11-2020</td>\n",
              "      <td>2.8</td>\n",
              "      <td>23.1</td>\n",
              "      <td>11.1</td>\n",
              "      <td>15.8</td>\n",
              "    </tr>\n",
              "    <tr>\n",
              "      <th>...</th>\n",
              "      <td>...</td>\n",
              "      <td>...</td>\n",
              "      <td>...</td>\n",
              "      <td>...</td>\n",
              "      <td>...</td>\n",
              "    </tr>\n",
              "    <tr>\n",
              "      <th>56</th>\n",
              "      <td>27-12-2020</td>\n",
              "      <td>0.0</td>\n",
              "      <td>3.3</td>\n",
              "      <td>16.2</td>\n",
              "      <td>31.9</td>\n",
              "    </tr>\n",
              "    <tr>\n",
              "      <th>57</th>\n",
              "      <td>28-12-2020</td>\n",
              "      <td>3.2</td>\n",
              "      <td>26.5</td>\n",
              "      <td>11.5</td>\n",
              "      <td>17.8</td>\n",
              "    </tr>\n",
              "    <tr>\n",
              "      <th>58</th>\n",
              "      <td>29-12-2020</td>\n",
              "      <td>0.0</td>\n",
              "      <td>30.7</td>\n",
              "      <td>9.0</td>\n",
              "      <td>21.3</td>\n",
              "    </tr>\n",
              "    <tr>\n",
              "      <th>59</th>\n",
              "      <td>30-12-2020</td>\n",
              "      <td>0.0</td>\n",
              "      <td>30.3</td>\n",
              "      <td>13.7</td>\n",
              "      <td>21.4</td>\n",
              "    </tr>\n",
              "    <tr>\n",
              "      <th>60</th>\n",
              "      <td>31-12-2020</td>\n",
              "      <td>0.0</td>\n",
              "      <td>7.3</td>\n",
              "      <td>15.5</td>\n",
              "      <td>21.2</td>\n",
              "    </tr>\n",
              "  </tbody>\n",
              "</table>\n",
              "<p>61 rows × 5 columns</p>\n",
              "</div>"
            ],
            "text/plain": [
              "         Date   Rainfall   ...  Minimum temperature  Maximum Temperature\n",
              "0   01-11-2020        0.0  ...                 12.6                 17.0\n",
              "1   02-11-2020        0.0  ...                  9.6                 29.5\n",
              "2   03-11-2020        0.0  ...                 12.1                 30.4\n",
              "3   04-11-2020        0.0  ...                 21.9                 22.8\n",
              "4   05-11-2020        2.8  ...                 11.1                 15.8\n",
              "..         ...        ...  ...                  ...                  ...\n",
              "56  27-12-2020        0.0  ...                 16.2                 31.9\n",
              "57  28-12-2020        3.2  ...                 11.5                 17.8\n",
              "58  29-12-2020        0.0  ...                  9.0                 21.3\n",
              "59  30-12-2020        0.0  ...                 13.7                 21.4\n",
              "60  31-12-2020        0.0  ...                 15.5                 21.2\n",
              "\n",
              "[61 rows x 5 columns]"
            ]
          },
          "metadata": {
            "tags": []
          },
          "execution_count": 42
        }
      ]
    },
    {
      "cell_type": "code",
      "metadata": {
        "id": "TW-esy4_OryC"
      },
      "source": [
        ""
      ],
      "execution_count": 42,
      "outputs": []
    },
    {
      "cell_type": "markdown",
      "metadata": {
        "id": "fQvL2lPkNbKd"
      },
      "source": [
        "##KNN Algorithm"
      ]
    },
    {
      "cell_type": "code",
      "metadata": {
        "id": "Jhv8x222N5Au"
      },
      "source": [
        "#KNN parameters\r\n",
        "n_neighbors = [2,4,5,10,25]\r\n",
        "leaf_size = [10,20,30,50,100,500]\r\n",
        "metric = ['euclidean','chebyshev','manhattan']\r\n",
        "weights = ['uniform', 'distance']\r\n",
        "algorithm = ['auto', 'ball_tree', 'kd_tree', 'brute'] "
      ],
      "execution_count": 43,
      "outputs": []
    },
    {
      "cell_type": "markdown",
      "metadata": {
        "id": "Rp7g4fgtSkge"
      },
      "source": [
        "###KNN for max temperature prediction"
      ]
    },
    {
      "cell_type": "code",
      "metadata": {
        "id": "NzfiTFQMNSey"
      },
      "source": [
        "#KNN for max temperature\r\n",
        "#declaring parameters for KNN algorithm to determine it performance on the test data\r\n",
        "scores_ = []\r\n",
        "neighbor = []\r\n",
        "leaf_size_ = []\r\n",
        "metric_ = []\r\n",
        "weight = []\r\n",
        "algorithm_ = []\r\n",
        "\r\n",
        "for i in n_neighbors:\r\n",
        "  for j in leaf_size:\r\n",
        "    for k in metric:\r\n",
        "      for l in weights:\r\n",
        "        for m in algorithm:\r\n",
        "          knn_maxi = KNeighborsRegressor(n_neighbors = i, leaf_size = j, metric = k, weights = l, algorithm = m)\r\n",
        "          knn_maxi.fit(X_train_StandardScaler, Y_train_max_temp)\r\n",
        "          scores_.append(mean_squared_error(test_dataset['Maximum Temperature'].values, knn_maxi.predict(test_data_StandardScaler[0:61])))\r\n",
        "          neighbor.append(i)\r\n",
        "          leaf_size_.append(j)\r\n",
        "          metric_.append(k)\r\n",
        "          weight.append(l)\r\n",
        "          algorithm_.append(m)"
      ],
      "execution_count": 44,
      "outputs": []
    },
    {
      "cell_type": "code",
      "metadata": {
        "colab": {
          "base_uri": "https://localhost:8080/"
        },
        "id": "piAmRZm-PXlL",
        "outputId": "371cbf4b-9ed0-44d7-c1da-2e7d801960a9"
      },
      "source": [
        "#checking the minimun mean square error of the KNN algorithm used for maximum temperature prediction\r\n",
        "min(scores_)"
      ],
      "execution_count": 45,
      "outputs": [
        {
          "output_type": "execute_result",
          "data": {
            "text/plain": [
              "73.16152786885245"
            ]
          },
          "metadata": {
            "tags": []
          },
          "execution_count": 45
        }
      ]
    },
    {
      "cell_type": "code",
      "metadata": {
        "colab": {
          "base_uri": "https://localhost:8080/"
        },
        "id": "V2KG7bntOWOW",
        "outputId": "0de2ed10-0135-4b75-a127-0174cbdb5429"
      },
      "source": [
        "#getting the index of the minimun mean square error of the KNN algorithm from the list\r\n",
        "index_max = np.argmin(scores_)\r\n",
        "index_max"
      ],
      "execution_count": 46,
      "outputs": [
        {
          "output_type": "execute_result",
          "data": {
            "text/plain": [
              "296"
            ]
          },
          "metadata": {
            "tags": []
          },
          "execution_count": 46
        }
      ]
    },
    {
      "cell_type": "code",
      "metadata": {
        "colab": {
          "base_uri": "https://localhost:8080/"
        },
        "id": "cdQIcntKOV9d",
        "outputId": "e0bf3601-a141-487b-b296-3e3c82eef9df"
      },
      "source": [
        "#obtaining the parameters with the minimun mean square error of the KNN algorithm \r\n",
        "max_temp_knn_parameters = [neighbor[296], leaf_size_[296], metric_[296], weight[296], algorithm_[296]]\r\n",
        "max_temp_knn_parameters"
      ],
      "execution_count": 47,
      "outputs": [
        {
          "output_type": "execute_result",
          "data": {
            "text/plain": [
              "[5, 10, 'chebyshev', 'uniform', 'auto']"
            ]
          },
          "metadata": {
            "tags": []
          },
          "execution_count": 47
        }
      ]
    },
    {
      "cell_type": "code",
      "metadata": {
        "colab": {
          "base_uri": "https://localhost:8080/"
        },
        "id": "4K8FqzrJSxTk",
        "outputId": "ad0e80f0-f2cc-495e-f61d-9a978ba48014"
      },
      "source": [
        "knn_max = KNeighborsRegressor(algorithm = 'auto', leaf_size = 10, metric = 'chebyshev', n_neighbors = 5, weights = 'uniform')\r\n",
        "knn_max.fit(X_train_StandardScaler, Y_train_max_temp)"
      ],
      "execution_count": 48,
      "outputs": [
        {
          "output_type": "execute_result",
          "data": {
            "text/plain": [
              "KNeighborsRegressor(algorithm='auto', leaf_size=10, metric='chebyshev',\n",
              "                    metric_params=None, n_jobs=None, n_neighbors=5, p=2,\n",
              "                    weights='uniform')"
            ]
          },
          "metadata": {
            "tags": []
          },
          "execution_count": 48
        }
      ]
    },
    {
      "cell_type": "code",
      "metadata": {
        "colab": {
          "base_uri": "https://localhost:8080/"
        },
        "id": "0IOS9v56TyF0",
        "outputId": "c0c9cf69-53b1-4323-9de7-31127c30ba0c"
      },
      "source": [
        "#printing the test data side by side with the predicted data\r\n",
        "print(np.concatenate((test_dataset['Maximum Temperature'].values.reshape(len(test_dataset['Maximum Temperature']),1), knn_max.predict(test_data_StandardScaler)[0:61].reshape(len(knn_max.predict(test_data_StandardScaler)[0:61]),1)),1))"
      ],
      "execution_count": 49,
      "outputs": [
        {
          "output_type": "stream",
          "text": [
            "[[17.   17.2 ]\n",
            " [29.5  17.42]\n",
            " [30.4  17.76]\n",
            " [22.8  16.96]\n",
            " [15.8  17.82]\n",
            " [16.6  14.9 ]\n",
            " [16.1  15.02]\n",
            " [19.5  17.2 ]\n",
            " [29.   17.42]\n",
            " [32.   17.76]\n",
            " [28.3  16.96]\n",
            " [25.5  17.82]\n",
            " [20.6  15.32]\n",
            " [21.   15.  ]\n",
            " [32.5  17.28]\n",
            " [24.3  17.3 ]\n",
            " [21.1  16.9 ]\n",
            " [29.5  17.12]\n",
            " [34.4  17.6 ]\n",
            " [20.2  15.64]\n",
            " [25.7  15.94]\n",
            " [28.2  16.04]\n",
            " [18.8  16.94]\n",
            " [20.3  17.02]\n",
            " [30.5  17.04]\n",
            " [19.4  15.96]\n",
            " [36.   15.66]\n",
            " [22.9  15.94]\n",
            " [18.6  16.04]\n",
            " [27.2  16.94]\n",
            " [26.2  17.36]\n",
            " [18.6  17.74]\n",
            " [23.7  16.7 ]\n",
            " [22.9  16.06]\n",
            " [28.4  17.7 ]\n",
            " [20.5  17.02]\n",
            " [17.3  16.22]\n",
            " [17.1  17.36]\n",
            " [21.5  17.74]\n",
            " [17.7  16.7 ]\n",
            " [21.1  16.06]\n",
            " [28.1  17.7 ]\n",
            " [30.2  17.02]\n",
            " [33.7  16.4 ]\n",
            " [33.5  17.36]\n",
            " [24.6  17.74]\n",
            " [25.7  16.7 ]\n",
            " [18.4  16.06]\n",
            " [19.9  17.7 ]\n",
            " [18.9  17.02]\n",
            " [21.5  16.4 ]\n",
            " [20.4  17.36]\n",
            " [19.5  17.62]\n",
            " [18.7  16.7 ]\n",
            " [20.   16.06]\n",
            " [27.4  17.7 ]\n",
            " [31.9  17.02]\n",
            " [17.8  16.22]\n",
            " [21.3  17.36]\n",
            " [21.4  17.74]\n",
            " [21.2  17.96]]\n"
          ],
          "name": "stdout"
        }
      ]
    },
    {
      "cell_type": "markdown",
      "metadata": {
        "id": "yPHicDjSSrbP"
      },
      "source": [
        "###KNN for minimum Temperature prediction"
      ]
    },
    {
      "cell_type": "code",
      "metadata": {
        "id": "qLgnO0ITOQrm"
      },
      "source": [
        "#KNN for minimun temperature\r\n",
        "#declaring parameters for KNN algorithm to determine it performance on the test data\r\n",
        "scores_knn_min_temp = []\r\n",
        "neighbor = []\r\n",
        "leaf_size_ = []\r\n",
        "metric_ = []\r\n",
        "weight = []\r\n",
        "algorithm_ = []\r\n",
        "\r\n",
        "for i in n_neighbors:\r\n",
        "  for j in leaf_size:\r\n",
        "    for k in metric:\r\n",
        "      for l in weights:\r\n",
        "        for m in algorithm:\r\n",
        "          # print(i,j,k,l,m)\r\n",
        "          knn_mini = KNeighborsRegressor(n_neighbors = i, leaf_size = j, metric = k, weights = l, algorithm = m)\r\n",
        "          knn_mini.fit(X_train_StandardScaler, Y_train_min_temp)\r\n",
        "          scores_knn_min_temp.append(mean_squared_error(test_dataset['Minimum temperature'].values, knn_mini.predict(test_data_StandardScaler[0:61])))\r\n",
        "\r\n",
        "          neighbor.append(i)\r\n",
        "          leaf_size_.append(j)\r\n",
        "          metric_.append(k)\r\n",
        "          weight.append(l)\r\n",
        "          algorithm_.append(m)"
      ],
      "execution_count": 50,
      "outputs": []
    },
    {
      "cell_type": "code",
      "metadata": {
        "colab": {
          "base_uri": "https://localhost:8080/"
        },
        "id": "t_tz5S1LRRcZ",
        "outputId": "a532334d-a986-476a-8741-296ac2d0363c"
      },
      "source": [
        "#checking the minimun mean square error of the KNN algorithm used for minimum temperature prediction\r\n",
        "min(scores_knn_min_temp)"
      ],
      "execution_count": 51,
      "outputs": [
        {
          "output_type": "execute_result",
          "data": {
            "text/plain": [
              "23.77878032786885"
            ]
          },
          "metadata": {
            "tags": []
          },
          "execution_count": 51
        }
      ]
    },
    {
      "cell_type": "code",
      "metadata": {
        "colab": {
          "base_uri": "https://localhost:8080/"
        },
        "id": "Q8crFgpfRRMJ",
        "outputId": "0e49bd70-5c68-4cf7-9271-c4f415600993"
      },
      "source": [
        "#getting the index of the minimun mean square error of the KNN algorithm from the list\r\n",
        "index_min = np.argmin(scores_knn_min_temp)\r\n",
        "index_min"
      ],
      "execution_count": 52,
      "outputs": [
        {
          "output_type": "execute_result",
          "data": {
            "text/plain": [
              "297"
            ]
          },
          "metadata": {
            "tags": []
          },
          "execution_count": 52
        }
      ]
    },
    {
      "cell_type": "code",
      "metadata": {
        "colab": {
          "base_uri": "https://localhost:8080/"
        },
        "id": "gK3s9AQZRYwL",
        "outputId": "df23cadc-dca1-42b1-8e4e-d0aaa1c9615b"
      },
      "source": [
        "#obtaining the parameters with the minimun mean square error of the KNN algorithm \r\n",
        "min_temp_knn_parameters = [neighbor[297], leaf_size_[297], metric_[297], weight[297], algorithm_[297]]\r\n",
        "min_temp_knn_parameters"
      ],
      "execution_count": 53,
      "outputs": [
        {
          "output_type": "execute_result",
          "data": {
            "text/plain": [
              "[5, 10, 'chebyshev', 'uniform', 'ball_tree']"
            ]
          },
          "metadata": {
            "tags": []
          },
          "execution_count": 53
        }
      ]
    },
    {
      "cell_type": "code",
      "metadata": {
        "colab": {
          "base_uri": "https://localhost:8080/"
        },
        "id": "6cSVRBXWUjYj",
        "outputId": "f1a28f29-2d4a-4fca-fee4-3184adb98dbd"
      },
      "source": [
        "knn_min = KNeighborsRegressor(algorithm = 'ball_tree', leaf_size = 10, metric = 'chebyshev', n_neighbors = 5, weights = 'uniform')\r\n",
        "knn_min.fit(X_train_StandardScaler, Y_train_min_temp)"
      ],
      "execution_count": 54,
      "outputs": [
        {
          "output_type": "execute_result",
          "data": {
            "text/plain": [
              "KNeighborsRegressor(algorithm='ball_tree', leaf_size=10, metric='chebyshev',\n",
              "                    metric_params=None, n_jobs=None, n_neighbors=5, p=2,\n",
              "                    weights='uniform')"
            ]
          },
          "metadata": {
            "tags": []
          },
          "execution_count": 54
        }
      ]
    },
    {
      "cell_type": "code",
      "metadata": {
        "colab": {
          "base_uri": "https://localhost:8080/"
        },
        "id": "kQk7BDVlSiVH",
        "outputId": "59e95769-eab1-4037-d5f5-c6f76a18e98f"
      },
      "source": [
        "#printing the test data side by side with the predicted data for minimum temperature\r\n",
        "print(np.concatenate((test_dataset['Minimum temperature'].values.reshape(len(test_dataset['Minimum temperature']),1), knn_min.predict(test_data_StandardScaler)[0:61].reshape(len(knn_min.predict(test_data_StandardScaler)[0:61]),1)),1))"
      ],
      "execution_count": 55,
      "outputs": [
        {
          "output_type": "stream",
          "text": [
            "[[12.6   9.24]\n",
            " [ 9.6   8.9 ]\n",
            " [12.1   9.22]\n",
            " [21.9   9.64]\n",
            " [11.1   9.02]\n",
            " [ 9.5   8.64]\n",
            " [11.3   7.98]\n",
            " [ 8.4   9.24]\n",
            " [11.3   8.9 ]\n",
            " [16.1   9.22]\n",
            " [22.8   9.64]\n",
            " [19.3   9.02]\n",
            " [15.4  11.16]\n",
            " [13.5   9.12]\n",
            " [12.3   9.18]\n",
            " [18.2   9.88]\n",
            " [11.9   9.2 ]\n",
            " [10.8   9.82]\n",
            " [16.1   9.4 ]\n",
            " [15.6  11.42]\n",
            " [13.3   9.76]\n",
            " [16.1   9.64]\n",
            " [16.6   9.54]\n",
            " [13.5   9.02]\n",
            " [13.2   9.5 ]\n",
            " [15.8   9.9 ]\n",
            " [10.2  10.32]\n",
            " [16.    9.76]\n",
            " [14.4   9.64]\n",
            " [12.1   9.54]\n",
            " [16.8   9.18]\n",
            " [11.9   9.3 ]\n",
            " [10.6  11.1 ]\n",
            " [11.4  10.74]\n",
            " [13.9  10.84]\n",
            " [12.9   9.96]\n",
            " [11.3  10.08]\n",
            " [10.6   9.18]\n",
            " [11.7   9.3 ]\n",
            " [13.1  11.1 ]\n",
            " [ 9.6  10.74]\n",
            " [11.9  10.84]\n",
            " [16.    9.96]\n",
            " [17.7  10.46]\n",
            " [20.4   9.18]\n",
            " [15.8   9.74]\n",
            " [15.5  11.1 ]\n",
            " [12.5  10.74]\n",
            " [12.3  10.84]\n",
            " [ 9.9   9.96]\n",
            " [11.2  10.46]\n",
            " [13.8   9.18]\n",
            " [13.5   9.74]\n",
            " [13.4  11.1 ]\n",
            " [13.6  10.74]\n",
            " [10.2  10.84]\n",
            " [16.2   9.96]\n",
            " [11.5  10.46]\n",
            " [ 9.    9.18]\n",
            " [13.7   9.74]\n",
            " [15.5  10.72]]\n"
          ],
          "name": "stdout"
        }
      ]
    },
    {
      "cell_type": "markdown",
      "metadata": {
        "id": "NfT9uL-xR7pN"
      },
      "source": [
        "##MLP"
      ]
    },
    {
      "cell_type": "code",
      "metadata": {
        "id": "j4FmpM0GSWJU"
      },
      "source": [
        "hidden_layer_sizes = []\r\n",
        "for i in range(1,10):\r\n",
        "  hidden_layer_sizes.append(((i,i,i)))\r\n",
        "\r\n",
        "activation = ['tanh', 'relu', 'logistic', 'identity']\r\n",
        "solver = ['lbfgs', 'sgd', 'adam']\r\n",
        "alpha = [0.0001, 0.05, 0.01, .001]\r\n",
        "learning_rate = ['constant','adaptive', 'invscaling']"
      ],
      "execution_count": 56,
      "outputs": []
    },
    {
      "cell_type": "code",
      "metadata": {
        "colab": {
          "base_uri": "https://localhost:8080/"
        },
        "id": "gCdVqIKrZ5Ir",
        "outputId": "80d5fc9f-5d89-41fd-dadd-af04f3e9b551"
      },
      "source": [
        "hidden_layer_sizes"
      ],
      "execution_count": 57,
      "outputs": [
        {
          "output_type": "execute_result",
          "data": {
            "text/plain": [
              "[(1, 1, 1),\n",
              " (2, 2, 2),\n",
              " (3, 3, 3),\n",
              " (4, 4, 4),\n",
              " (5, 5, 5),\n",
              " (6, 6, 6),\n",
              " (7, 7, 7),\n",
              " (8, 8, 8),\n",
              " (9, 9, 9),\n",
              " (10, 10, 10),\n",
              " (11, 11, 11),\n",
              " (12, 12, 12),\n",
              " (13, 13, 13),\n",
              " (14, 14, 14),\n",
              " (15, 15, 15),\n",
              " (16, 16, 16),\n",
              " (17, 17, 17),\n",
              " (18, 18, 18),\n",
              " (19, 19, 19)]"
            ]
          },
          "metadata": {
            "tags": []
          },
          "execution_count": 57
        }
      ]
    },
    {
      "cell_type": "markdown",
      "metadata": {
        "id": "WYlnNehnXqoE"
      },
      "source": [
        "##MLP for maximum Temperature"
      ]
    },
    {
      "cell_type": "code",
      "metadata": {
        "id": "G_WJx12bXqM9"
      },
      "source": [
        "#MLP for Maximum Temperature\r\n",
        "\r\n",
        "#declaring parameters for MLP algorithm to determine it performance on the test data\r\n",
        "scores_mlp_max_temp = []\r\n",
        "hidden_layer_sizes_ = []\r\n",
        "solver_ = []\r\n",
        "activation_ = []\r\n",
        "alpha_ = []\r\n",
        "learning_rate_ = []\r\n",
        "\r\n",
        "\r\n",
        "for i in hidden_layer_sizes:\r\n",
        "  for j in activation:\r\n",
        "    for k in solver:\r\n",
        "      for l in alpha:\r\n",
        "        for m in learning_rate:\r\n",
        "\r\n",
        "          mlp_maxi = MLPRegressor(hidden_layer_sizes = i, activation = j, solver = k, alpha = l, learning_rate = m)\r\n",
        "          mlp_maxi.fit(X_train_StandardScaler, Y_train_min_temp)\r\n",
        "          scores_mlp_max_temp.append(mean_squared_error(test_dataset['Maximum Temperature'].values, mlp_maxi.predict(test_data_StandardScaler[0:61])))\r\n",
        "\r\n",
        "          hidden_layer_sizes_.append(i)\r\n",
        "          activation_.append(j)\r\n",
        "          solver_.append(k)\r\n",
        "          alpha_.append(l)\r\n",
        "          learning_rate_.append(m)"
      ],
      "execution_count": null,
      "outputs": []
    },
    {
      "cell_type": "code",
      "metadata": {
        "id": "shAN_NPk2fsS"
      },
      "source": [
        "#checking the minimun mean square error of the MLP algorithm used for maximum temperature prediction\r\n",
        "min(scores_mlp_max_temp)"
      ],
      "execution_count": null,
      "outputs": []
    },
    {
      "cell_type": "code",
      "metadata": {
        "id": "qQInCYe42rya"
      },
      "source": [
        "#getting the index of the minimun mean square error of the MLP algorithm from the list\r\n",
        "index_max = np.argmin(scores_mlp_max_temp)\r\n",
        "index_max"
      ],
      "execution_count": null,
      "outputs": []
    },
    {
      "cell_type": "code",
      "metadata": {
        "id": "bDiomCBgtWpv"
      },
      "source": [
        "#obtaining the parameters with the minimun mean square error of the mlp algorithm \r\n",
        "max_temp_mlp_parameters = [hidden_layer_sizes_[index_max], activation_[index_max], solver_[index_max], alpha_[index_max], learning_rate_[index_max]]\r\n",
        "max_temp_mlp_parameters"
      ],
      "execution_count": null,
      "outputs": []
    },
    {
      "cell_type": "code",
      "metadata": {
        "id": "eq-p5R0CthfY"
      },
      "source": [
        "mlp_max = MLPRegressor(hidden_layer_sizes = (2, 2, 2), activation = 'relu', solver = 'sgd' , alpha = 0.001, learning_rate = 'invscaling')\r\n",
        "mlp_max.fit(X_train_StandardScaler, Y_train_min_temp)"
      ],
      "execution_count": null,
      "outputs": []
    },
    {
      "cell_type": "code",
      "metadata": {
        "id": "dsbYwyxg7RU-"
      },
      "source": [
        "#printing the test data side by side with the predicted data for maximum temperature\r\n",
        "print(np.concatenate((test_dataset['Maximum Temperature'].values.reshape(len(test_dataset['Maximum Temperature']),1), mlp_max.predict(test_data_StandardScaler)[0:61].reshape(len(mlp_max.predict(test_data_StandardScaler)[0:61]),1)),1))"
      ],
      "execution_count": null,
      "outputs": []
    },
    {
      "cell_type": "markdown",
      "metadata": {
        "id": "ph-sozD2Xrro"
      },
      "source": [
        "##MLP for minimum Temperature"
      ]
    },
    {
      "cell_type": "code",
      "metadata": {
        "id": "b9WYa8CLR6-O"
      },
      "source": [
        "#mlp for minimun temperature\r\n",
        "#declaring parameters for MLP algorithm to determine it performance on the test data\r\n",
        "scores_mlp_min_temp = []\r\n",
        "hidden_layer_sizes_ = []\r\n",
        "solver_ = []\r\n",
        "activation_ = []\r\n",
        "alpha_ = []\r\n",
        "learning_rate_ = []\r\n",
        "\r\n",
        "\r\n",
        "for i in hidden_layer_sizes:\r\n",
        "  for j in activation:\r\n",
        "    for k in solver:\r\n",
        "      for l in alpha:\r\n",
        "        for m in learning_rate:\r\n",
        "\r\n",
        "          mlp_mini = MLPRegressor(hidden_layer_sizes = i, activation = j, solver = k, alpha = l, learning_rate = m)\r\n",
        "          mlp_mini.fit(X_train_StandardScaler, Y_train_min_temp)\r\n",
        "          scores_mlp_min_temp.append(mean_squared_error(test_dataset['Minimum temperature'].values, mlp_mini.predict(test_data_StandardScaler[0:61])))\r\n",
        "\r\n",
        "          hidden_layer_sizes_.append(i)\r\n",
        "          activation_.append(j)\r\n",
        "          solver_.append(k)\r\n",
        "          alpha_.append(l)\r\n",
        "          learning_rate_.append(m)"
      ],
      "execution_count": null,
      "outputs": []
    },
    {
      "cell_type": "code",
      "metadata": {
        "id": "DF-0tr_E0M21"
      },
      "source": [
        "#checking the minimun mean square error of the MLP algorithm used for minimum temperature prediction\r\n",
        "min(scores_mlp_min_temp)"
      ],
      "execution_count": null,
      "outputs": []
    },
    {
      "cell_type": "code",
      "metadata": {
        "id": "jsf9vNlb0VN4"
      },
      "source": [
        "#getting the index of the minimun mean square error of the MLP algorithm from the list\r\n",
        "index_min = np.argmin(scores_mlp_min_temp)\r\n",
        "index_min"
      ],
      "execution_count": null,
      "outputs": []
    },
    {
      "cell_type": "code",
      "metadata": {
        "id": "_eoiTeI30dfv"
      },
      "source": [
        "#obtaining the parameters with the minimun mean square error of the KNN algorithm \r\n",
        "min_temp_mlp_parameters = [hidden_layer_sizes_[index_min], activation_[index_min], solver_[index_min], alpha_[index_min], learning_rate_[index_min]]\r\n",
        "min_temp_mlp_parameters"
      ],
      "execution_count": null,
      "outputs": []
    },
    {
      "cell_type": "code",
      "metadata": {
        "id": "TROjFKud0wir"
      },
      "source": [
        "mlp_min = MLPRegressor(hidden_layer_sizes = (14, 14, 14), activation = 'tanh', solver = 'adam' , alpha = 0.01, learning_rate = 'invscaling')\r\n",
        "mlp_min.fit(X_train_StandardScaler, Y_train_min_temp)"
      ],
      "execution_count": null,
      "outputs": []
    },
    {
      "cell_type": "code",
      "metadata": {
        "id": "30P9F7521Stp"
      },
      "source": [
        "#printing the test data side by side with the predicted data for minimum temperature\r\n",
        "print(np.concatenate((test_dataset['Minimum temperature'].values.reshape(len(test_dataset['Minimum temperature']),1), mlp_min.predict(test_data_StandardScaler)[0:61].reshape(len(mlp_min.predict(test_data_StandardScaler)[0:61]),1)),1))"
      ],
      "execution_count": null,
      "outputs": []
    },
    {
      "cell_type": "markdown",
      "metadata": {
        "id": "nZHVEaYj7snz"
      },
      "source": [
        "##Decision Tree"
      ]
    },
    {
      "cell_type": "markdown",
      "metadata": {
        "id": "n-lUS6X6DnAf"
      },
      "source": [
        "###Maximum Temperature"
      ]
    },
    {
      "cell_type": "code",
      "metadata": {
        "id": "6shHSKhc7xCV"
      },
      "source": [
        "splitter=['best','random']\r\n",
        "criterion = ['mse', 'friedman_mse', 'mae']\r\n",
        "max_depth = [1,2,3,4,5,10,20,30,40]\r\n",
        "max_features =['auto','sqrt','log2'] \r\n",
        "min_samples_split= [2,3,4,5,10,20,30,40]\r\n",
        "random_state= [1,2,3,4,5,6,7,8,9,42]"
      ],
      "execution_count": null,
      "outputs": []
    },
    {
      "cell_type": "code",
      "metadata": {
        "id": "p-tdgOJ9_va6"
      },
      "source": [
        "#DT for Maximum Temperature\r\n",
        "\r\n",
        "#declaring parameters for DT algorithm to determine it performance on the test data\r\n",
        "scores_dt_max_temp = []\r\n",
        "splitter_ = []\r\n",
        "criterion_ =  []\r\n",
        "max_depth_ = []\r\n",
        "max_features_ = []\r\n",
        "min_samples_split_ = []\r\n",
        "random_state_ = []\r\n",
        "\r\n",
        "\r\n",
        "for i in splitter:\r\n",
        "  for j in criterion:\r\n",
        "    for k in max_depth:\r\n",
        "      for l in max_features:\r\n",
        "        for m in min_samples_split:\r\n",
        "          for n in random_state:\r\n",
        "            dt_maxi = DecisionTreeRegressor(splitter = i, criterion = j, max_depth = k, max_features = l, min_samples_split = m,random_state = n )\r\n",
        "            dt_maxi.fit(X_train_StandardScaler, Y_train_min_temp)\r\n",
        "            scores_dt_max_temp.append(mean_squared_error(test_dataset['Maximum Temperature'].values, dt_maxi.predict(test_data_StandardScaler[0:61])))\r\n",
        "\r\n",
        "            splitter_.append(i)\r\n",
        "            criterion_.append(j)\r\n",
        "            max_depth_.append(k)\r\n",
        "            max_features_.append(l)\r\n",
        "            min_samples_split_.append(m)\r\n",
        "            random_state_.append(n)"
      ],
      "execution_count": null,
      "outputs": []
    },
    {
      "cell_type": "code",
      "metadata": {
        "id": "itj3ALJ4BZMD"
      },
      "source": [
        "#checking the minimun mean square error of the dt algorithm used for maximum temperature prediction\r\n",
        "min(scores_dt_max_temp)"
      ],
      "execution_count": null,
      "outputs": []
    },
    {
      "cell_type": "code",
      "metadata": {
        "id": "mvwildPrBho0"
      },
      "source": [
        "#getting the index of the minimun mean square error of the dt algorithm from the list\r\n",
        "index_max = np.argmin(scores_dt_max_temp)\r\n",
        "index_max"
      ],
      "execution_count": null,
      "outputs": []
    },
    {
      "cell_type": "code",
      "metadata": {
        "id": "oym02Lf_B8Ut"
      },
      "source": [
        "#obtaining the parameters with the minimun mean square error of the KNN algorithm \r\n",
        "max_temp_dt_parameters = [splitter_[index_max], criterion_[index_max], max_depth_[index_max], max_features_[index_max], min_samples_split_[index_max],random_state_[index_max]]\r\n",
        "max_temp_dt_parameters"
      ],
      "execution_count": null,
      "outputs": []
    },
    {
      "cell_type": "code",
      "metadata": {
        "id": "MuiXiZsxB8Uv"
      },
      "source": [
        "dt_max = DecisionTreeRegressor(splitter = 'random', criterion = 'mse', max_depth = 2, max_features = 'sqrt', min_samples_split = 2,random_state = 5)\r\n",
        "dt_max.fit(X_train_StandardScaler, Y_train_min_temp)"
      ],
      "execution_count": null,
      "outputs": []
    },
    {
      "cell_type": "code",
      "metadata": {
        "id": "YtY_KlUOB8Ux"
      },
      "source": [
        "#printing the test data side by side with the predicted data for Maximum temperature\r\n",
        "print(np.concatenate((test_dataset['Maximum Temperature'].values.reshape(len(test_dataset['Maximum Temperature']),1), dt_max.predict(test_data_StandardScaler)[0:61].reshape(len(dt_max.predict(test_data_StandardScaler)[0:61]),1)),1))"
      ],
      "execution_count": null,
      "outputs": []
    },
    {
      "cell_type": "markdown",
      "metadata": {
        "id": "tBqEFx5BDxxz"
      },
      "source": [
        "###Minimum Temperature"
      ]
    },
    {
      "cell_type": "code",
      "metadata": {
        "id": "2wR4qMj7D_5B"
      },
      "source": [
        "#DT for Minimum Temperature\r\n",
        "\r\n",
        "#declaring parameters for DT algorithm to determine it performance on the test data\r\n",
        "scores_dt_min_temp = []\r\n",
        "splitter_ = []\r\n",
        "criterion_ =  []\r\n",
        "max_depth_ = []\r\n",
        "max_features_ = []\r\n",
        "min_samples_split_ = []\r\n",
        "random_state_ = []\r\n",
        "\r\n",
        "\r\n",
        "for i in splitter:\r\n",
        "  for j in criterion:\r\n",
        "    for k in max_depth:\r\n",
        "      for l in max_features:\r\n",
        "        for m in min_samples_split:\r\n",
        "          for n in random_state:\r\n",
        "            dt_mini = DecisionTreeRegressor(splitter = i, criterion = j, max_depth = k, max_features = l, min_samples_split = m,random_state = n )\r\n",
        "            dt_mini.fit(X_train_StandardScaler, Y_train_min_temp)\r\n",
        "            scores_dt_min_temp.append(mean_squared_error(test_dataset['Minimum temperature'].values, dt_mini.predict(test_data_StandardScaler[0:61])))\r\n",
        "\r\n",
        "            splitter_.append(i)\r\n",
        "            criterion_.append(j)\r\n",
        "            max_depth_.append(k)\r\n",
        "            max_features_.append(l)\r\n",
        "            min_samples_split_.append(m)\r\n",
        "            random_state_.append(n)"
      ],
      "execution_count": null,
      "outputs": []
    },
    {
      "cell_type": "code",
      "metadata": {
        "id": "LihNU06BD_5V"
      },
      "source": [
        "#checking the minimun mean square error of the dt algorithm used for maximum temperature prediction\r\n",
        "min(scores_dt_min_temp)"
      ],
      "execution_count": null,
      "outputs": []
    },
    {
      "cell_type": "code",
      "metadata": {
        "id": "pHEUcSmdD_5X"
      },
      "source": [
        "#getting the index of the minimun mean square error of the dt algorithm from the list\r\n",
        "index_min = np.argmin(scores_dt_min_temp)\r\n",
        "index_min"
      ],
      "execution_count": null,
      "outputs": []
    },
    {
      "cell_type": "code",
      "metadata": {
        "id": "VvqPXedcD_5Y"
      },
      "source": [
        "#obtaining the parameters with the minimun mean square error of the KNN algorithm \r\n",
        "min_temp_dt_parameters = [splitter_[index_min], criterion_[index_min], max_depth_[index_min], max_features_[index_min], min_samples_split_[index_min],random_state_[index_min]]\r\n",
        "min_temp_dt_parameters"
      ],
      "execution_count": null,
      "outputs": []
    },
    {
      "cell_type": "code",
      "metadata": {
        "id": "pX5h_DshD_5Y"
      },
      "source": [
        "dt_min = DecisionTreeRegressor(splitter = 'random', criterion = 'mse', max_depth = 2, max_features = 'sqrt', min_samples_split = 2,random_state = 5)\r\n",
        "dt_min.fit(X_train_StandardScaler, Y_train_min_temp)"
      ],
      "execution_count": null,
      "outputs": []
    },
    {
      "cell_type": "code",
      "metadata": {
        "id": "BHduoFhaD_5Z"
      },
      "source": [
        "#printing the test data side by side with the predicted data for Maximum temperature\r\n",
        "print(np.concatenate((test_dataset['Minimum temperature'].values.reshape(len(test_dataset['Minimum temperature']),1), dt_min.predict(test_data_StandardScaler)[0:61].reshape(len(dt_max.predict(test_data_StandardScaler)[0:61]),1)),1))"
      ],
      "execution_count": null,
      "outputs": []
    },
    {
      "cell_type": "code",
      "metadata": {
        "id": "xvU5B1_HKV1C"
      },
      "source": [
        ""
      ],
      "execution_count": null,
      "outputs": []
    },
    {
      "cell_type": "markdown",
      "metadata": {
        "id": "HcvpI7caKWla"
      },
      "source": [
        "##SVR"
      ]
    },
    {
      "cell_type": "markdown",
      "metadata": {
        "id": "rdGCcP2oKWld"
      },
      "source": [
        "###SVR Maximum Temperature"
      ]
    },
    {
      "cell_type": "code",
      "metadata": {
        "id": "q9sGXtxQKWle"
      },
      "source": [
        "kernel =['linear', 'poly', 'rbf']\r\n",
        "gamma = ['auto', 'scale']\r\n",
        "degree = [3,4,5,10]\r\n",
        "C = [2.0,3.0,4.0]\r\n",
        "\r\n",
        "\r\n"
      ],
      "execution_count": null,
      "outputs": []
    },
    {
      "cell_type": "code",
      "metadata": {
        "id": "D_OMfhxbKWlf"
      },
      "source": [
        "#SVR for Maximum Temperature\r\n",
        "\r\n",
        "#declaring parameters for SVR algorithm to determine it performance on the test data\r\n",
        "scores_svr_max_temp = []\r\n",
        "kernel_ = []\r\n",
        "gamma_ =  []\r\n",
        "degree_ = []\r\n",
        "C_ = []\r\n",
        "\r\n",
        "\r\n",
        "\r\n",
        "for i in kernel:\r\n",
        "  for j in gamma:\r\n",
        "    for k in degree:\r\n",
        "      for l in C:\r\n",
        "            svr_maxi = SVR(kernel = i, gamma = j, degree = k, C = l )\r\n",
        "            svr_maxi.fit(X_train_StandardScaler, Y_train_min_temp)\r\n",
        "            scores_svr_max_temp.append(mean_squared_error(test_dataset['Maximum Temperature'].values, svr_maxi.predict(test_data_StandardScaler[0:61])))\r\n",
        "\r\n",
        "            kernel_.append(i)\r\n",
        "            gamma_.append(j)\r\n",
        "            degree_.append(k)\r\n",
        "            C_.append(l)"
      ],
      "execution_count": null,
      "outputs": []
    },
    {
      "cell_type": "code",
      "metadata": {
        "id": "R3EeiT9lKWlh"
      },
      "source": [
        "#checking the minimun mean square error of the dt algorithm used for maximum temperature prediction\r\n",
        "min(scores_svr_max_temp)"
      ],
      "execution_count": null,
      "outputs": []
    },
    {
      "cell_type": "code",
      "metadata": {
        "id": "P9GDyty5KWll"
      },
      "source": [
        "#getting the index of the minimun mean square error of the dt algorithm from the list\r\n",
        "index_max = np.argmin(scores_svr_max_temp)\r\n",
        "index_max"
      ],
      "execution_count": null,
      "outputs": []
    },
    {
      "cell_type": "code",
      "metadata": {
        "id": "jSMVfeuqKWln"
      },
      "source": [
        "#obtaining the parameters with the minimun mean square error of the KNN algorithm \r\n",
        "max_temp_svr_parameters = [splitter_[index_max], criterion_[index_max], max_depth_[index_max], max_features_[index_max], min_samples_split_[index_max],random_state_[index_max]]\r\n",
        "max_temp_svr_parameters"
      ],
      "execution_count": null,
      "outputs": []
    },
    {
      "cell_type": "code",
      "metadata": {
        "id": "99i2UjnmKWlo"
      },
      "source": [
        "svr_max = DecisionTreeRegressor(splitter = i, criterion = j, max_depth = k, max_features = l, min_samples_split = m,random_state = n)\r\n",
        "svr_max.fit(X_train_StandardScaler, Y_train_min_temp)"
      ],
      "execution_count": null,
      "outputs": []
    },
    {
      "cell_type": "code",
      "metadata": {
        "id": "Twc7Qd88KWlq"
      },
      "source": [
        "#printing the test data side by side with the predicted data for Maximum temperature\r\n",
        "print(np.concatenate((test_dataset['Maximum Temperature'].values.reshape(len(test_dataset['Maximum Temperature']),1), svr_max.predict(test_data_StandardScaler)[0:61].reshape(len(dt_max.predict(test_data_StandardScaler)[0:61]),1)),1))"
      ],
      "execution_count": null,
      "outputs": []
    },
    {
      "cell_type": "markdown",
      "metadata": {
        "id": "X6VejBOcKWlr"
      },
      "source": [
        "###SVR Minimum Temperature"
      ]
    },
    {
      "cell_type": "code",
      "metadata": {
        "id": "KEJRELzqKWlt"
      },
      "source": [
        "#svr for Minimum Temperature\r\n",
        "\r\n",
        "#declaring parameters for svr algorithm to determine it performance on the test data\r\n",
        "scores_svr_min_temp = []\r\n",
        "kernel_ = []\r\n",
        "gamma_ =  []\r\n",
        "degree_ = []\r\n",
        "C_ = []\r\n",
        "\r\n",
        "\r\n",
        "for i in kernel:\r\n",
        "  for j in gamma:\r\n",
        "    for k in degree:\r\n",
        "      for l in C:\r\n",
        "            svr_mini =  SVR(kernel = i, gamma = j, degree = k, C = l )\r\n",
        "            svr_mini.fit(X_train_StandardScaler, Y_train_min_temp)\r\n",
        "            scores_svr_min_temp.append(mean_squared_error(test_dataset['Minimum temperature'].values, svr_mini.predict(test_data_StandardScaler[0:61])))\r\n",
        "\r\n",
        "            kernel_.append(i)\r\n",
        "            gamma_.append(j)\r\n",
        "            degree_.append(k)\r\n",
        "            C_.append(l)"
      ],
      "execution_count": null,
      "outputs": []
    },
    {
      "cell_type": "code",
      "metadata": {
        "id": "xIGhs6LGKWlu"
      },
      "source": [
        "#checking the minimun mean square error of the dt algorithm used for maximum temperature prediction\r\n",
        "min(scores_svr_min_temp)"
      ],
      "execution_count": null,
      "outputs": []
    },
    {
      "cell_type": "code",
      "metadata": {
        "id": "0rhWidBXKWlv"
      },
      "source": [
        "#getting the index of the minimun mean square error of the dt algorithm from the list\r\n",
        "index_min = np.argmin(scores_svr_min_temp)\r\n",
        "index_min"
      ],
      "execution_count": null,
      "outputs": []
    },
    {
      "cell_type": "code",
      "metadata": {
        "id": "_-zM91mfKWlw"
      },
      "source": [
        "#obtaining the parameters with the minimun mean square error of the KNN algorithm \r\n",
        "min_temp_svr_parameters = [kernel_[index_min], gamma_[index_min], degree_[index_min], C_[index_min]]\r\n",
        "min_temp_svr_parameters"
      ],
      "execution_count": null,
      "outputs": []
    },
    {
      "cell_type": "code",
      "metadata": {
        "id": "OGiDdCzvKWlw"
      },
      "source": [
        "svr_min =  SVR(splitter = i, criterion = j, max_depth = k, max_features = l, min_samples_split = m,random_state = n)\r\n",
        "svr_min.fit(X_train_StandardScaler, Y_train_min_temp)"
      ],
      "execution_count": null,
      "outputs": []
    },
    {
      "cell_type": "code",
      "metadata": {
        "id": "bWWF2MtBKWlx"
      },
      "source": [
        "#printing the test data side by side with the predicted data for Maximum temperature\r\n",
        "print(np.concatenate((test_dataset['Minimum temperature'].values.reshape(len(test_dataset['Minimum temperature']),1), svr_min.predict(test_data_StandardScaler)[0:61].reshape(len(dt_max.predict(test_data_StandardScaler)[0:61]),1)),1))"
      ],
      "execution_count": null,
      "outputs": []
    },
    {
      "cell_type": "code",
      "metadata": {
        "id": "OIvfvR_cnKQ-"
      },
      "source": [
        "#Using Sum of squared residuals to evaluate the performance of the models\n",
        "from sklearn.metrics import r2_score\n",
        "from prettytable import PrettyTable\n",
        "\n",
        "rt = PrettyTable([\"Algorithm\", \"r2 for minimum temperature\",\"r2 for maximum temperature\", \"MSE for minimum temperature\",\"MSE for maximum temperature\",])\n",
        "rt.align[\"Algorithm\"] = \"l\" # Left align city names\n",
        "rt.padding_width = 1 # One space between column edges and contents (default)\n",
        "rt.add_row([\"MLP\",\n",
        "            '{:.2f}'.format(r2_score(test_dataset['Minimum temperature'].values, y_pred_min_mlp[0:61])),\n",
        "            '{:.2f}'.format(r2_score(test_dataset['Maximum Temperature'].values, y_pred_max_mlp[0:61])),\n",
        "            '{:.2f}'.format(mean_squared_error(test_dataset['Minimum temperature'].values, y_pred_min_mlp[0:61])),\n",
        "            '{:.2f}'.format(mean_squared_error(test_dataset['Maximum Temperature'].values, y_pred_max_mlp[0:61]))])\n",
        "\n",
        "rt.add_row([\"Decision Tree\",\n",
        "            '{:.2f}'.format(r2_score(test_dataset['Minimum temperature'].values, y_pred_min_dt[0:61])),\n",
        "            '{:.2f}'.format(r2_score(test_dataset['Maximum Temperature'].values, y_pred_max_dt[0:61])),\n",
        "            '{:.2f}'.format(mean_squared_error(test_dataset['Minimum temperature'].values, y_pred_min_dt[0:61])),\n",
        "            '{:.2f}'.format(mean_squared_error(test_dataset['Maximum Temperature'].values, y_pred_max_dt[0:61]))])\n",
        "\n",
        "rt.add_row([\"KNN\",\n",
        "            '{:.2f}'.format(r2_score(test_dataset['Minimum temperature'].values, y_pred_min_knn[0:61])),\n",
        "            '{:.2f}'.format(r2_score(test_dataset['Maximum Temperature'].values, y_pred_max_knn[0:61])),\n",
        "            '{:.2f}'.format(mean_squared_error(test_dataset['Minimum temperature'].values, y_pred_min_knn[0:61])),\n",
        "            '{:.2f}'.format(mean_squared_error(test_dataset['Maximum Temperature'].values, y_pred_max_knn[0:61]))])\n",
        "\n",
        "rt.add_row([\"Random Forest\",\n",
        "            '{:.2f}'.format(r2_score(test_dataset['Minimum temperature'].values, y_pred_min_rf[0:61])),\n",
        "            '{:.2f}'.format(r2_score(test_dataset['Maximum Temperature'].values, y_pred_max_rf[0:61])),\n",
        "            '{:.2f}'.format(mean_squared_error(test_dataset['Minimum temperature'].values, y_pred_min_rf[0:61])),\n",
        "            '{:.2f}'.format(mean_squared_error(test_dataset['Maximum Temperature'].values, y_pred_max_rf[0:61]))])\n",
        "\n",
        "rt.add_row([\"SVM\",\n",
        "            '{:.2f}'.format(r2_score(test_dataset['Minimum temperature'].values, y_pred_min_svm[0:61])),\n",
        "            '{:.2f}'.format(r2_score(test_dataset['Maximum Temperature'].values, y_pred_max_svm[0:61])),\n",
        "            '{:.2f}'.format(mean_squared_error(test_dataset['Minimum temperature'].values, y_pred_min_svm[0:61])),\n",
        "            '{:.2f}'.format(mean_squared_error(test_dataset['Maximum Temperature'].values, y_pred_max_svm[0:61]))])\n",
        "\n",
        "print(rt)"
      ],
      "execution_count": null,
      "outputs": []
    },
    {
      "cell_type": "code",
      "metadata": {
        "id": "_659pGD8DXdm"
      },
      "source": [
        "dataset_wt_weather_features.to_csv('dataset_with_public_holidays.csv')"
      ],
      "execution_count": null,
      "outputs": []
    },
    {
      "cell_type": "markdown",
      "metadata": {
        "id": "SRN4_mNkQHHZ"
      },
      "source": [
        "# Daily global solar exposure"
      ]
    },
    {
      "cell_type": "code",
      "metadata": {
        "id": "0PjwUsDbr9qY"
      },
      "source": [
        "Y_train_sun = dataset_wt_weather_features['Daily global solar exposure (MJ/m*m)']\n",
        "# clean\n",
        "Y_train_sun = Y_train_sun.fillna(Y_train_sun.mean())"
      ],
      "execution_count": null,
      "outputs": []
    },
    {
      "cell_type": "code",
      "metadata": {
        "id": "M4EBGQzpr9qY"
      },
      "source": [
        "# from sklearn.preprocessing import StandardScaler\n",
        "# scaler = StandardScaler()\n",
        "# X_train_scaled = scaler.fit_transform(X_train) \n",
        "X_train_StandardScaler"
      ],
      "execution_count": null,
      "outputs": []
    },
    {
      "cell_type": "code",
      "metadata": {
        "id": "qdb1c8bTr9qZ"
      },
      "source": [
        "# test_date\n",
        "# test_date_StandardScaler = scaler.fit_transform(test_date) \n",
        "test_date_StandardScaler"
      ],
      "execution_count": null,
      "outputs": []
    },
    {
      "cell_type": "code",
      "metadata": {
        "id": "E3FnBeR4r9qZ"
      },
      "source": [
        "#  ML models\n",
        "mlp_reg_sun = MLPRegressor(random_state=42)\n",
        "dct_sun = DecisionTreeRegressor(splitter='random',  max_depth=36, min_samples_split=140, random_state=42)\n",
        "knn_sun = KNeighborsRegressor(metric = 'manhattan', n_neighbors = 4)\n",
        "rf_sun = RandomForestRegressor(random_state=42)\n",
        "svm_sun = SVR(kernel = 'rbf', gamma = 100, C = 100, degree = 0) #Using Radial-basis function kernel\n"
      ],
      "execution_count": null,
      "outputs": []
    },
    {
      "cell_type": "code",
      "metadata": {
        "id": "nJiUpROur9qZ"
      },
      "source": [
        "mlp_reg_sun.fit(X_train_StandardScaler, Y_train_sun)\n",
        "dct_sun.fit(X_train_StandardScaler, Y_train_sun)\n",
        "knn_sun.fit(X_train_StandardScaler, Y_train_sun)\n",
        "rf_sun.fit(X_train_StandardScaler, Y_train_sun)\n",
        "svm_sun.fit(X_train_StandardScaler, Y_train_sun)"
      ],
      "execution_count": null,
      "outputs": []
    },
    {
      "cell_type": "code",
      "metadata": {
        "id": "ghPWVi02r9qZ"
      },
      "source": [
        "y_pred_sun_mlp = mlp_reg_sun.predict(test_date_StandardScaler)\n",
        "y_pred_sun_dt = dct_sun.predict(test_date_StandardScaler)\n",
        "y_pred_sun_knn = knn_sun.predict(test_date_StandardScaler)\n",
        "y_pred_sun_rf = rf_sun.predict(test_date_StandardScaler)\n",
        "y_pred_sun_svm = svm_sun.predict(test_date_StandardScaler)\n",
        "y_pred_sun_svm"
      ],
      "execution_count": null,
      "outputs": []
    },
    {
      "cell_type": "code",
      "metadata": {
        "id": "6XG2ZrnFr9qa"
      },
      "source": [
        "# from sklearn.metrics import r2_score\n",
        "# from prettytable import PrettyTable\n",
        "\n",
        "rt = PrettyTable([\"Algorithm\", \"r2\", \"MSE\"])\n",
        "rt.align[\"Algorithm\"] = \"l\" # Left align city names\n",
        "rt.padding_width = 1 # One space between column edges and contents (default)\n",
        "rt.add_row([\"MLP\",\n",
        "            '{:.2f}'.format(r2_score(test_dataset['Solar Exposure'].values, y_pred_sun_mlp[0:61])),\n",
        "            '{:.2f}'.format(mean_squared_error(test_dataset['Solar Exposure'].values, y_pred_sun_mlp[0:61]))])\n",
        "\n",
        "rt.add_row([\"Decision Tree\",\n",
        "            '{:.2f}'.format(r2_score(test_dataset['Solar Exposure'].values, y_pred_sun_dt[0:61])),\n",
        "            '{:.2f}'.format(mean_squared_error(test_dataset['Solar Exposure'].values, y_pred_sun_dt[0:61]))])\n",
        "\n",
        "rt.add_row([\"KNN\",\n",
        "            '{:.2f}'.format(r2_score(test_dataset['Solar Exposure'].values, y_pred_sun_knn[0:61])),\n",
        "            '{:.2f}'.format(mean_squared_error(test_dataset['Solar Exposure'].values, y_pred_sun_knn[0:61]))])\n",
        "\n",
        "rt.add_row([\"Random Forest\",\n",
        "            '{:.2f}'.format(r2_score(test_dataset['Solar Exposure'].values, y_pred_sun_rf[0:61])),\n",
        "            '{:.2f}'.format(mean_squared_error(test_dataset['Solar Exposure'].values, y_pred_sun_rf[0:61]))])\n",
        "\n",
        "rt.add_row([\"SVM\",\n",
        "            '{:.2f}'.format(r2_score(test_dataset['Solar Exposure'].values, y_pred_sun_svm[0:61])),\n",
        "            '{:.2f}'.format(mean_squared_error(test_dataset['Solar Exposure'].values, y_pred_sun_svm[0:61]))])\n",
        "\n",
        "print(rt)"
      ],
      "execution_count": null,
      "outputs": []
    },
    {
      "cell_type": "code",
      "metadata": {
        "id": "mgvUzHWqr9qa"
      },
      "source": [
        "scores = []\n",
        "kernel = []\n",
        "gamma = []\n",
        "C = []\n",
        "degree = []\n",
        "\n",
        "kernels = ['linear', 'rbf']\n",
        "gammas = [0.1, 1, 10, 100]\n",
        "Cs = [0.1, 1, 10, 100]\n",
        "degrees = [0, 1, 2, 3, 4, 5, 6]\n",
        "\n",
        "\n",
        "for i in kernels:\n",
        "  for j in gammas:\n",
        "    for k in Cs:\n",
        "        for l in degrees: \n",
        "          print(i,j,k,l)\n",
        "          svm = SVR(kernel=i, gamma=j, C=k, degree=l)\n",
        "          svm.fit(X_train_StandardScaler, Y_train_sun)\n",
        "          scores.append(mean_squared_error(test_dataset['Solar Exposure'].values, svm.predict(test_date_StandardScaler[0:61])))\n",
        "          kernel.append(i)\n",
        "          gamma.append(j)\n",
        "          C.append(k)\n",
        "          degree.append(l)"
      ],
      "execution_count": null,
      "outputs": []
    },
    {
      "cell_type": "code",
      "metadata": {
        "id": "uj5wN-9Fr9qa"
      },
      "source": [
        "min(scores)\n",
        "import numpy as np\n",
        "index = np.argmin(scores)\n",
        "index"
      ],
      "execution_count": null,
      "outputs": []
    },
    {
      "cell_type": "code",
      "metadata": {
        "id": "lqQ8bLSur9qa"
      },
      "source": [
        "p = [kernel[217], gamma[217], C[217], degree[217]]\n",
        "p"
      ],
      "execution_count": null,
      "outputs": []
    }
  ]
}