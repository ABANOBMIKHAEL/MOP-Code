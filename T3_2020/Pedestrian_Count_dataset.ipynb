{
  "nbformat": 4,
  "nbformat_minor": 0,
  "metadata": {
    "colab": {
      "name": "Pedestrian_Count_dataset.ipynb",
      "provenance": [],
      "collapsed_sections": []
    },
    "kernelspec": {
      "display_name": "Python 3",
      "name": "python3"
    }
  },
  "cells": [
    {
      "cell_type": "code",
      "metadata": {
        "colab": {
          "base_uri": "https://localhost:8080/"
        },
        "id": "uhXyz3430Vc9",
        "outputId": "109f20e4-a3fa-4272-81aa-da833cd405c6"
      },
      "source": [
        "#!/usr/bin/env python\n",
        "\n",
        "# make sure to install these packages before running:\n",
        "!pip install sodapy"
      ],
      "execution_count": 1,
      "outputs": [
        {
          "output_type": "stream",
          "text": [
            "Collecting sodapy\n",
            "  Downloading https://files.pythonhosted.org/packages/9e/74/95fb7d45bbe7f1de43caac45d7dd4807ef1e15881564a00eef489a3bb5c6/sodapy-2.1.0-py2.py3-none-any.whl\n",
            "Requirement already satisfied: requests>=2.20.0 in /usr/local/lib/python3.6/dist-packages (from sodapy) (2.23.0)\n",
            "Requirement already satisfied: urllib3!=1.25.0,!=1.25.1,<1.26,>=1.21.1 in /usr/local/lib/python3.6/dist-packages (from requests>=2.20.0->sodapy) (1.24.3)\n",
            "Requirement already satisfied: idna<3,>=2.5 in /usr/local/lib/python3.6/dist-packages (from requests>=2.20.0->sodapy) (2.10)\n",
            "Requirement already satisfied: chardet<4,>=3.0.2 in /usr/local/lib/python3.6/dist-packages (from requests>=2.20.0->sodapy) (3.0.4)\n",
            "Requirement already satisfied: certifi>=2017.4.17 in /usr/local/lib/python3.6/dist-packages (from requests>=2.20.0->sodapy) (2020.12.5)\n",
            "Installing collected packages: sodapy\n",
            "Successfully installed sodapy-2.1.0\n"
          ],
          "name": "stdout"
        }
      ]
    },
    {
      "cell_type": "code",
      "metadata": {
        "id": "SAo2mDNQ1B3W"
      },
      "source": [
        "#import the libraries \n",
        "import numpy as np\n",
        "import pandas as pd\n",
        "from pandas import DataFrame as df, Series as se\n",
        "#import the library for the API\n",
        "from sodapy import Socrata\n",
        "\n",
        "#Ignore warnings\n",
        "import warnings\n",
        "warnings.filterwarnings('ignore')"
      ],
      "execution_count": 2,
      "outputs": []
    },
    {
      "cell_type": "code",
      "metadata": {
        "colab": {
          "base_uri": "https://localhost:8080/"
        },
        "id": "8A-hsZ850zRO",
        "outputId": "62403ed8-22e0-4117-93ca-68a1cdeeb23f"
      },
      "source": [
        "# Unauthenticated client only works with public data sets. Note 'None'\n",
        "# in place of application token, and no username or password:\n",
        "client = Socrata(\"data.melbourne.vic.gov.au\", None)\n",
        "\n",
        "\n",
        "#getting the pedestrian count data from city of melbourne website from 2009-05-01 to \n",
        "#2020-10-31\n",
        "results = client.get(\"b2ak-trbp\", limit=3391522)\n",
        "\n",
        "# Convert to pandas DataFrame\n",
        "results_df = pd.DataFrame.from_records(results)\n"
      ],
      "execution_count": 3,
      "outputs": [
        {
          "output_type": "stream",
          "text": [
            "WARNING:root:Requests made without an app_token will be subject to strict throttling limits.\n"
          ],
          "name": "stderr"
        }
      ]
    },
    {
      "cell_type": "code",
      "metadata": {
        "colab": {
          "base_uri": "https://localhost:8080/",
          "height": 399
        },
        "id": "uDKAuzNB1HII",
        "outputId": "8df07768-2ee0-49fb-bdb3-d4d869db1f00"
      },
      "source": [
        "results_df"
      ],
      "execution_count": 4,
      "outputs": [
        {
          "output_type": "execute_result",
          "data": {
            "text/html": [
              "<div>\n",
              "<style scoped>\n",
              "    .dataframe tbody tr th:only-of-type {\n",
              "        vertical-align: middle;\n",
              "    }\n",
              "\n",
              "    .dataframe tbody tr th {\n",
              "        vertical-align: top;\n",
              "    }\n",
              "\n",
              "    .dataframe thead th {\n",
              "        text-align: right;\n",
              "    }\n",
              "</style>\n",
              "<table border=\"1\" class=\"dataframe\">\n",
              "  <thead>\n",
              "    <tr style=\"text-align: right;\">\n",
              "      <th></th>\n",
              "      <th>id</th>\n",
              "      <th>date_time</th>\n",
              "      <th>year</th>\n",
              "      <th>month</th>\n",
              "      <th>mdate</th>\n",
              "      <th>day</th>\n",
              "      <th>time</th>\n",
              "      <th>sensor_id</th>\n",
              "      <th>sensor_name</th>\n",
              "      <th>hourly_counts</th>\n",
              "    </tr>\n",
              "  </thead>\n",
              "  <tbody>\n",
              "    <tr>\n",
              "      <th>0</th>\n",
              "      <td>2887628</td>\n",
              "      <td>2019-11-01T17:00:00.000</td>\n",
              "      <td>2019</td>\n",
              "      <td>November</td>\n",
              "      <td>1</td>\n",
              "      <td>Friday</td>\n",
              "      <td>17</td>\n",
              "      <td>34</td>\n",
              "      <td>Flinders St-Spark La</td>\n",
              "      <td>300</td>\n",
              "    </tr>\n",
              "    <tr>\n",
              "      <th>1</th>\n",
              "      <td>2887629</td>\n",
              "      <td>2019-11-01T17:00:00.000</td>\n",
              "      <td>2019</td>\n",
              "      <td>November</td>\n",
              "      <td>1</td>\n",
              "      <td>Friday</td>\n",
              "      <td>17</td>\n",
              "      <td>39</td>\n",
              "      <td>Alfred Place</td>\n",
              "      <td>604</td>\n",
              "    </tr>\n",
              "    <tr>\n",
              "      <th>2</th>\n",
              "      <td>2887630</td>\n",
              "      <td>2019-11-01T17:00:00.000</td>\n",
              "      <td>2019</td>\n",
              "      <td>November</td>\n",
              "      <td>1</td>\n",
              "      <td>Friday</td>\n",
              "      <td>17</td>\n",
              "      <td>37</td>\n",
              "      <td>Lygon St (East)</td>\n",
              "      <td>216</td>\n",
              "    </tr>\n",
              "    <tr>\n",
              "      <th>3</th>\n",
              "      <td>2887631</td>\n",
              "      <td>2019-11-01T17:00:00.000</td>\n",
              "      <td>2019</td>\n",
              "      <td>November</td>\n",
              "      <td>1</td>\n",
              "      <td>Friday</td>\n",
              "      <td>17</td>\n",
              "      <td>40</td>\n",
              "      <td>Lonsdale St-Spring St (West)</td>\n",
              "      <td>627</td>\n",
              "    </tr>\n",
              "    <tr>\n",
              "      <th>4</th>\n",
              "      <td>2887632</td>\n",
              "      <td>2019-11-01T17:00:00.000</td>\n",
              "      <td>2019</td>\n",
              "      <td>November</td>\n",
              "      <td>1</td>\n",
              "      <td>Friday</td>\n",
              "      <td>17</td>\n",
              "      <td>36</td>\n",
              "      <td>Queen St (West)</td>\n",
              "      <td>774</td>\n",
              "    </tr>\n",
              "    <tr>\n",
              "      <th>...</th>\n",
              "      <td>...</td>\n",
              "      <td>...</td>\n",
              "      <td>...</td>\n",
              "      <td>...</td>\n",
              "      <td>...</td>\n",
              "      <td>...</td>\n",
              "      <td>...</td>\n",
              "      <td>...</td>\n",
              "      <td>...</td>\n",
              "      <td>...</td>\n",
              "    </tr>\n",
              "    <tr>\n",
              "      <th>3391517</th>\n",
              "      <td>3391518</td>\n",
              "      <td>2020-10-31T23:00:00.000</td>\n",
              "      <td>2020</td>\n",
              "      <td>October</td>\n",
              "      <td>31</td>\n",
              "      <td>Saturday</td>\n",
              "      <td>23</td>\n",
              "      <td>67</td>\n",
              "      <td>Flinders Ln -Degraves St (South)</td>\n",
              "      <td>0</td>\n",
              "    </tr>\n",
              "    <tr>\n",
              "      <th>3391518</th>\n",
              "      <td>3391519</td>\n",
              "      <td>2020-10-31T23:00:00.000</td>\n",
              "      <td>2020</td>\n",
              "      <td>October</td>\n",
              "      <td>31</td>\n",
              "      <td>Saturday</td>\n",
              "      <td>23</td>\n",
              "      <td>68</td>\n",
              "      <td>Flinders Ln -Degraves St (North)</td>\n",
              "      <td>0</td>\n",
              "    </tr>\n",
              "    <tr>\n",
              "      <th>3391519</th>\n",
              "      <td>3391520</td>\n",
              "      <td>2020-10-31T23:00:00.000</td>\n",
              "      <td>2020</td>\n",
              "      <td>October</td>\n",
              "      <td>31</td>\n",
              "      <td>Saturday</td>\n",
              "      <td>23</td>\n",
              "      <td>69</td>\n",
              "      <td>Flinders Ln -Degraves St (Crossing)</td>\n",
              "      <td>0</td>\n",
              "    </tr>\n",
              "    <tr>\n",
              "      <th>3391520</th>\n",
              "      <td>3391521</td>\n",
              "      <td>2020-10-31T23:00:00.000</td>\n",
              "      <td>2020</td>\n",
              "      <td>October</td>\n",
              "      <td>31</td>\n",
              "      <td>Saturday</td>\n",
              "      <td>23</td>\n",
              "      <td>70</td>\n",
              "      <td>Errol Street (East)</td>\n",
              "      <td>0</td>\n",
              "    </tr>\n",
              "    <tr>\n",
              "      <th>3391521</th>\n",
              "      <td>3391522</td>\n",
              "      <td>2020-10-31T23:00:00.000</td>\n",
              "      <td>2020</td>\n",
              "      <td>October</td>\n",
              "      <td>31</td>\n",
              "      <td>Saturday</td>\n",
              "      <td>23</td>\n",
              "      <td>71</td>\n",
              "      <td>Westwood Place</td>\n",
              "      <td>16</td>\n",
              "    </tr>\n",
              "  </tbody>\n",
              "</table>\n",
              "<p>3391522 rows × 10 columns</p>\n",
              "</div>"
            ],
            "text/plain": [
              "              id  ... hourly_counts\n",
              "0        2887628  ...           300\n",
              "1        2887629  ...           604\n",
              "2        2887630  ...           216\n",
              "3        2887631  ...           627\n",
              "4        2887632  ...           774\n",
              "...          ...  ...           ...\n",
              "3391517  3391518  ...             0\n",
              "3391518  3391519  ...             0\n",
              "3391519  3391520  ...             0\n",
              "3391520  3391521  ...             0\n",
              "3391521  3391522  ...            16\n",
              "\n",
              "[3391522 rows x 10 columns]"
            ]
          },
          "metadata": {
            "tags": []
          },
          "execution_count": 4
        }
      ]
    },
    {
      "cell_type": "code",
      "metadata": {
        "colab": {
          "base_uri": "https://localhost:8080/"
        },
        "id": "sg-J7ylnQmq8",
        "outputId": "abf6bb6d-9834-4027-b5dc-b353faa138bf"
      },
      "source": [
        "#Examining the data types of the features of the dataset  \n",
        "results_df.dtypes"
      ],
      "execution_count": 5,
      "outputs": [
        {
          "output_type": "execute_result",
          "data": {
            "text/plain": [
              "id               object\n",
              "date_time        object\n",
              "year             object\n",
              "month            object\n",
              "mdate            object\n",
              "day              object\n",
              "time             object\n",
              "sensor_id        object\n",
              "sensor_name      object\n",
              "hourly_counts    object\n",
              "dtype: object"
            ]
          },
          "metadata": {
            "tags": []
          },
          "execution_count": 5
        }
      ]
    },
    {
      "cell_type": "code",
      "metadata": {
        "id": "aCqhJ_1-utJd"
      },
      "source": [
        "results_df['date'] = results_df['mdate'] + '-' + results_df['month'] + '-' + results_df['year']\n",
        "results_df.drop(columns=['id',\t'date_time','year',\t'month',\t'mdate',\t'day',\t'time' ], inplace = True)"
      ],
      "execution_count": 6,
      "outputs": []
    },
    {
      "cell_type": "code",
      "metadata": {
        "colab": {
          "base_uri": "https://localhost:8080/",
          "height": 399
        },
        "id": "qM2L2SbQh2TQ",
        "outputId": "0a2f12ff-cdaa-41e9-d7a2-1469e174f94c"
      },
      "source": [
        "#converting 'sensor_id' and 'hourly_counts' features from object datatypes to int\n",
        "results_df[['sensor_id','hourly_counts']] = results_df[['sensor_id','hourly_counts']].astype('int')\n",
        "results_df"
      ],
      "execution_count": 7,
      "outputs": [
        {
          "output_type": "execute_result",
          "data": {
            "text/html": [
              "<div>\n",
              "<style scoped>\n",
              "    .dataframe tbody tr th:only-of-type {\n",
              "        vertical-align: middle;\n",
              "    }\n",
              "\n",
              "    .dataframe tbody tr th {\n",
              "        vertical-align: top;\n",
              "    }\n",
              "\n",
              "    .dataframe thead th {\n",
              "        text-align: right;\n",
              "    }\n",
              "</style>\n",
              "<table border=\"1\" class=\"dataframe\">\n",
              "  <thead>\n",
              "    <tr style=\"text-align: right;\">\n",
              "      <th></th>\n",
              "      <th>sensor_id</th>\n",
              "      <th>sensor_name</th>\n",
              "      <th>hourly_counts</th>\n",
              "      <th>date</th>\n",
              "    </tr>\n",
              "  </thead>\n",
              "  <tbody>\n",
              "    <tr>\n",
              "      <th>0</th>\n",
              "      <td>34</td>\n",
              "      <td>Flinders St-Spark La</td>\n",
              "      <td>300</td>\n",
              "      <td>1-November-2019</td>\n",
              "    </tr>\n",
              "    <tr>\n",
              "      <th>1</th>\n",
              "      <td>39</td>\n",
              "      <td>Alfred Place</td>\n",
              "      <td>604</td>\n",
              "      <td>1-November-2019</td>\n",
              "    </tr>\n",
              "    <tr>\n",
              "      <th>2</th>\n",
              "      <td>37</td>\n",
              "      <td>Lygon St (East)</td>\n",
              "      <td>216</td>\n",
              "      <td>1-November-2019</td>\n",
              "    </tr>\n",
              "    <tr>\n",
              "      <th>3</th>\n",
              "      <td>40</td>\n",
              "      <td>Lonsdale St-Spring St (West)</td>\n",
              "      <td>627</td>\n",
              "      <td>1-November-2019</td>\n",
              "    </tr>\n",
              "    <tr>\n",
              "      <th>4</th>\n",
              "      <td>36</td>\n",
              "      <td>Queen St (West)</td>\n",
              "      <td>774</td>\n",
              "      <td>1-November-2019</td>\n",
              "    </tr>\n",
              "    <tr>\n",
              "      <th>...</th>\n",
              "      <td>...</td>\n",
              "      <td>...</td>\n",
              "      <td>...</td>\n",
              "      <td>...</td>\n",
              "    </tr>\n",
              "    <tr>\n",
              "      <th>3391517</th>\n",
              "      <td>67</td>\n",
              "      <td>Flinders Ln -Degraves St (South)</td>\n",
              "      <td>0</td>\n",
              "      <td>31-October-2020</td>\n",
              "    </tr>\n",
              "    <tr>\n",
              "      <th>3391518</th>\n",
              "      <td>68</td>\n",
              "      <td>Flinders Ln -Degraves St (North)</td>\n",
              "      <td>0</td>\n",
              "      <td>31-October-2020</td>\n",
              "    </tr>\n",
              "    <tr>\n",
              "      <th>3391519</th>\n",
              "      <td>69</td>\n",
              "      <td>Flinders Ln -Degraves St (Crossing)</td>\n",
              "      <td>0</td>\n",
              "      <td>31-October-2020</td>\n",
              "    </tr>\n",
              "    <tr>\n",
              "      <th>3391520</th>\n",
              "      <td>70</td>\n",
              "      <td>Errol Street (East)</td>\n",
              "      <td>0</td>\n",
              "      <td>31-October-2020</td>\n",
              "    </tr>\n",
              "    <tr>\n",
              "      <th>3391521</th>\n",
              "      <td>71</td>\n",
              "      <td>Westwood Place</td>\n",
              "      <td>16</td>\n",
              "      <td>31-October-2020</td>\n",
              "    </tr>\n",
              "  </tbody>\n",
              "</table>\n",
              "<p>3391522 rows × 4 columns</p>\n",
              "</div>"
            ],
            "text/plain": [
              "         sensor_id  ...             date\n",
              "0               34  ...  1-November-2019\n",
              "1               39  ...  1-November-2019\n",
              "2               37  ...  1-November-2019\n",
              "3               40  ...  1-November-2019\n",
              "4               36  ...  1-November-2019\n",
              "...            ...  ...              ...\n",
              "3391517         67  ...  31-October-2020\n",
              "3391518         68  ...  31-October-2020\n",
              "3391519         69  ...  31-October-2020\n",
              "3391520         70  ...  31-October-2020\n",
              "3391521         71  ...  31-October-2020\n",
              "\n",
              "[3391522 rows x 4 columns]"
            ]
          },
          "metadata": {
            "tags": []
          },
          "execution_count": 7
        }
      ]
    },
    {
      "cell_type": "code",
      "metadata": {
        "colab": {
          "base_uri": "https://localhost:8080/"
        },
        "id": "_V_Z-ynAgQNg",
        "outputId": "ea6453bd-ea00-4fbd-c2c9-42781b7fb289"
      },
      "source": [
        "#Examining the features after data type conversion\n",
        "results_df.dtypes"
      ],
      "execution_count": 8,
      "outputs": [
        {
          "output_type": "execute_result",
          "data": {
            "text/plain": [
              "sensor_id         int64\n",
              "sensor_name      object\n",
              "hourly_counts     int64\n",
              "date             object\n",
              "dtype: object"
            ]
          },
          "metadata": {
            "tags": []
          },
          "execution_count": 8
        }
      ]
    },
    {
      "cell_type": "code",
      "metadata": {
        "colab": {
          "base_uri": "https://localhost:8080/",
          "height": 399
        },
        "id": "mRhb5BWHkxzi",
        "outputId": "6bb66a59-d019-4983-8317-ca371f483fa4"
      },
      "source": [
        "#converting date_time feature from object datatypes to date\n",
        "results_df['date'] = results_df['date'].astype('datetime64[ns]')\n",
        "results_df"
      ],
      "execution_count": 9,
      "outputs": [
        {
          "output_type": "execute_result",
          "data": {
            "text/html": [
              "<div>\n",
              "<style scoped>\n",
              "    .dataframe tbody tr th:only-of-type {\n",
              "        vertical-align: middle;\n",
              "    }\n",
              "\n",
              "    .dataframe tbody tr th {\n",
              "        vertical-align: top;\n",
              "    }\n",
              "\n",
              "    .dataframe thead th {\n",
              "        text-align: right;\n",
              "    }\n",
              "</style>\n",
              "<table border=\"1\" class=\"dataframe\">\n",
              "  <thead>\n",
              "    <tr style=\"text-align: right;\">\n",
              "      <th></th>\n",
              "      <th>sensor_id</th>\n",
              "      <th>sensor_name</th>\n",
              "      <th>hourly_counts</th>\n",
              "      <th>date</th>\n",
              "    </tr>\n",
              "  </thead>\n",
              "  <tbody>\n",
              "    <tr>\n",
              "      <th>0</th>\n",
              "      <td>34</td>\n",
              "      <td>Flinders St-Spark La</td>\n",
              "      <td>300</td>\n",
              "      <td>2019-11-01</td>\n",
              "    </tr>\n",
              "    <tr>\n",
              "      <th>1</th>\n",
              "      <td>39</td>\n",
              "      <td>Alfred Place</td>\n",
              "      <td>604</td>\n",
              "      <td>2019-11-01</td>\n",
              "    </tr>\n",
              "    <tr>\n",
              "      <th>2</th>\n",
              "      <td>37</td>\n",
              "      <td>Lygon St (East)</td>\n",
              "      <td>216</td>\n",
              "      <td>2019-11-01</td>\n",
              "    </tr>\n",
              "    <tr>\n",
              "      <th>3</th>\n",
              "      <td>40</td>\n",
              "      <td>Lonsdale St-Spring St (West)</td>\n",
              "      <td>627</td>\n",
              "      <td>2019-11-01</td>\n",
              "    </tr>\n",
              "    <tr>\n",
              "      <th>4</th>\n",
              "      <td>36</td>\n",
              "      <td>Queen St (West)</td>\n",
              "      <td>774</td>\n",
              "      <td>2019-11-01</td>\n",
              "    </tr>\n",
              "    <tr>\n",
              "      <th>...</th>\n",
              "      <td>...</td>\n",
              "      <td>...</td>\n",
              "      <td>...</td>\n",
              "      <td>...</td>\n",
              "    </tr>\n",
              "    <tr>\n",
              "      <th>3391517</th>\n",
              "      <td>67</td>\n",
              "      <td>Flinders Ln -Degraves St (South)</td>\n",
              "      <td>0</td>\n",
              "      <td>2020-10-31</td>\n",
              "    </tr>\n",
              "    <tr>\n",
              "      <th>3391518</th>\n",
              "      <td>68</td>\n",
              "      <td>Flinders Ln -Degraves St (North)</td>\n",
              "      <td>0</td>\n",
              "      <td>2020-10-31</td>\n",
              "    </tr>\n",
              "    <tr>\n",
              "      <th>3391519</th>\n",
              "      <td>69</td>\n",
              "      <td>Flinders Ln -Degraves St (Crossing)</td>\n",
              "      <td>0</td>\n",
              "      <td>2020-10-31</td>\n",
              "    </tr>\n",
              "    <tr>\n",
              "      <th>3391520</th>\n",
              "      <td>70</td>\n",
              "      <td>Errol Street (East)</td>\n",
              "      <td>0</td>\n",
              "      <td>2020-10-31</td>\n",
              "    </tr>\n",
              "    <tr>\n",
              "      <th>3391521</th>\n",
              "      <td>71</td>\n",
              "      <td>Westwood Place</td>\n",
              "      <td>16</td>\n",
              "      <td>2020-10-31</td>\n",
              "    </tr>\n",
              "  </tbody>\n",
              "</table>\n",
              "<p>3391522 rows × 4 columns</p>\n",
              "</div>"
            ],
            "text/plain": [
              "         sensor_id  ...       date\n",
              "0               34  ... 2019-11-01\n",
              "1               39  ... 2019-11-01\n",
              "2               37  ... 2019-11-01\n",
              "3               40  ... 2019-11-01\n",
              "4               36  ... 2019-11-01\n",
              "...            ...  ...        ...\n",
              "3391517         67  ... 2020-10-31\n",
              "3391518         68  ... 2020-10-31\n",
              "3391519         69  ... 2020-10-31\n",
              "3391520         70  ... 2020-10-31\n",
              "3391521         71  ... 2020-10-31\n",
              "\n",
              "[3391522 rows x 4 columns]"
            ]
          },
          "metadata": {
            "tags": []
          },
          "execution_count": 9
        }
      ]
    },
    {
      "cell_type": "code",
      "metadata": {
        "colab": {
          "base_uri": "https://localhost:8080/"
        },
        "id": "C1bMu0NImwDG",
        "outputId": "bb727205-09fb-4a16-e4b9-cd4b6fc806e2"
      },
      "source": [
        "#Examining the features after data type conversion\n",
        "results_df.dtypes"
      ],
      "execution_count": 10,
      "outputs": [
        {
          "output_type": "execute_result",
          "data": {
            "text/plain": [
              "sensor_id                 int64\n",
              "sensor_name              object\n",
              "hourly_counts             int64\n",
              "date             datetime64[ns]\n",
              "dtype: object"
            ]
          },
          "metadata": {
            "tags": []
          },
          "execution_count": 10
        }
      ]
    },
    {
      "cell_type": "code",
      "metadata": {
        "id": "CrR-Tfy2YbV1"
      },
      "source": [
        "#extracting data from 2015 till date\n",
        "results_df = results_df[results_df['date'] > '2014-12-31']"
      ],
      "execution_count": 11,
      "outputs": []
    },
    {
      "cell_type": "code",
      "metadata": {
        "colab": {
          "base_uri": "https://localhost:8080/",
          "height": 399
        },
        "id": "4rU9RP-sw4jL",
        "outputId": "abc4fc0d-962f-4166-a8e2-15cf74611b0d"
      },
      "source": [
        "results_df"
      ],
      "execution_count": 12,
      "outputs": [
        {
          "output_type": "execute_result",
          "data": {
            "text/html": [
              "<div>\n",
              "<style scoped>\n",
              "    .dataframe tbody tr th:only-of-type {\n",
              "        vertical-align: middle;\n",
              "    }\n",
              "\n",
              "    .dataframe tbody tr th {\n",
              "        vertical-align: top;\n",
              "    }\n",
              "\n",
              "    .dataframe thead th {\n",
              "        text-align: right;\n",
              "    }\n",
              "</style>\n",
              "<table border=\"1\" class=\"dataframe\">\n",
              "  <thead>\n",
              "    <tr style=\"text-align: right;\">\n",
              "      <th></th>\n",
              "      <th>sensor_id</th>\n",
              "      <th>sensor_name</th>\n",
              "      <th>hourly_counts</th>\n",
              "      <th>date</th>\n",
              "    </tr>\n",
              "  </thead>\n",
              "  <tbody>\n",
              "    <tr>\n",
              "      <th>0</th>\n",
              "      <td>34</td>\n",
              "      <td>Flinders St-Spark La</td>\n",
              "      <td>300</td>\n",
              "      <td>2019-11-01</td>\n",
              "    </tr>\n",
              "    <tr>\n",
              "      <th>1</th>\n",
              "      <td>39</td>\n",
              "      <td>Alfred Place</td>\n",
              "      <td>604</td>\n",
              "      <td>2019-11-01</td>\n",
              "    </tr>\n",
              "    <tr>\n",
              "      <th>2</th>\n",
              "      <td>37</td>\n",
              "      <td>Lygon St (East)</td>\n",
              "      <td>216</td>\n",
              "      <td>2019-11-01</td>\n",
              "    </tr>\n",
              "    <tr>\n",
              "      <th>3</th>\n",
              "      <td>40</td>\n",
              "      <td>Lonsdale St-Spring St (West)</td>\n",
              "      <td>627</td>\n",
              "      <td>2019-11-01</td>\n",
              "    </tr>\n",
              "    <tr>\n",
              "      <th>4</th>\n",
              "      <td>36</td>\n",
              "      <td>Queen St (West)</td>\n",
              "      <td>774</td>\n",
              "      <td>2019-11-01</td>\n",
              "    </tr>\n",
              "    <tr>\n",
              "      <th>...</th>\n",
              "      <td>...</td>\n",
              "      <td>...</td>\n",
              "      <td>...</td>\n",
              "      <td>...</td>\n",
              "    </tr>\n",
              "    <tr>\n",
              "      <th>3391517</th>\n",
              "      <td>67</td>\n",
              "      <td>Flinders Ln -Degraves St (South)</td>\n",
              "      <td>0</td>\n",
              "      <td>2020-10-31</td>\n",
              "    </tr>\n",
              "    <tr>\n",
              "      <th>3391518</th>\n",
              "      <td>68</td>\n",
              "      <td>Flinders Ln -Degraves St (North)</td>\n",
              "      <td>0</td>\n",
              "      <td>2020-10-31</td>\n",
              "    </tr>\n",
              "    <tr>\n",
              "      <th>3391519</th>\n",
              "      <td>69</td>\n",
              "      <td>Flinders Ln -Degraves St (Crossing)</td>\n",
              "      <td>0</td>\n",
              "      <td>2020-10-31</td>\n",
              "    </tr>\n",
              "    <tr>\n",
              "      <th>3391520</th>\n",
              "      <td>70</td>\n",
              "      <td>Errol Street (East)</td>\n",
              "      <td>0</td>\n",
              "      <td>2020-10-31</td>\n",
              "    </tr>\n",
              "    <tr>\n",
              "      <th>3391521</th>\n",
              "      <td>71</td>\n",
              "      <td>Westwood Place</td>\n",
              "      <td>16</td>\n",
              "      <td>2020-10-31</td>\n",
              "    </tr>\n",
              "  </tbody>\n",
              "</table>\n",
              "<p>2367574 rows × 4 columns</p>\n",
              "</div>"
            ],
            "text/plain": [
              "         sensor_id  ...       date\n",
              "0               34  ... 2019-11-01\n",
              "1               39  ... 2019-11-01\n",
              "2               37  ... 2019-11-01\n",
              "3               40  ... 2019-11-01\n",
              "4               36  ... 2019-11-01\n",
              "...            ...  ...        ...\n",
              "3391517         67  ... 2020-10-31\n",
              "3391518         68  ... 2020-10-31\n",
              "3391519         69  ... 2020-10-31\n",
              "3391520         70  ... 2020-10-31\n",
              "3391521         71  ... 2020-10-31\n",
              "\n",
              "[2367574 rows x 4 columns]"
            ]
          },
          "metadata": {
            "tags": []
          },
          "execution_count": 12
        }
      ]
    },
    {
      "cell_type": "code",
      "metadata": {
        "colab": {
          "base_uri": "https://localhost:8080/",
          "height": 399
        },
        "id": "Aw_DYevvllqD",
        "outputId": "e42b4051-7dd2-4cb6-ce59-7a5df7c4ead7"
      },
      "source": [
        "#Aggregating hourly pedestrian count for each by sensor-id\n",
        "new_results_df = pd.DataFrame(results_df.groupby(['date', 'sensor_id'])['hourly_counts'].sum())\n",
        "new_results_df = new_results_df.reset_index()\n",
        "new_results_df"
      ],
      "execution_count": 13,
      "outputs": [
        {
          "output_type": "execute_result",
          "data": {
            "text/html": [
              "<div>\n",
              "<style scoped>\n",
              "    .dataframe tbody tr th:only-of-type {\n",
              "        vertical-align: middle;\n",
              "    }\n",
              "\n",
              "    .dataframe tbody tr th {\n",
              "        vertical-align: top;\n",
              "    }\n",
              "\n",
              "    .dataframe thead th {\n",
              "        text-align: right;\n",
              "    }\n",
              "</style>\n",
              "<table border=\"1\" class=\"dataframe\">\n",
              "  <thead>\n",
              "    <tr style=\"text-align: right;\">\n",
              "      <th></th>\n",
              "      <th>date</th>\n",
              "      <th>sensor_id</th>\n",
              "      <th>hourly_counts</th>\n",
              "    </tr>\n",
              "  </thead>\n",
              "  <tbody>\n",
              "    <tr>\n",
              "      <th>0</th>\n",
              "      <td>2015-01-01</td>\n",
              "      <td>2</td>\n",
              "      <td>21217</td>\n",
              "    </tr>\n",
              "    <tr>\n",
              "      <th>1</th>\n",
              "      <td>2015-01-01</td>\n",
              "      <td>3</td>\n",
              "      <td>32695</td>\n",
              "    </tr>\n",
              "    <tr>\n",
              "      <th>2</th>\n",
              "      <td>2015-01-01</td>\n",
              "      <td>4</td>\n",
              "      <td>36958</td>\n",
              "    </tr>\n",
              "    <tr>\n",
              "      <th>3</th>\n",
              "      <td>2015-01-01</td>\n",
              "      <td>5</td>\n",
              "      <td>31224</td>\n",
              "    </tr>\n",
              "    <tr>\n",
              "      <th>4</th>\n",
              "      <td>2015-01-01</td>\n",
              "      <td>6</td>\n",
              "      <td>20457</td>\n",
              "    </tr>\n",
              "    <tr>\n",
              "      <th>...</th>\n",
              "      <td>...</td>\n",
              "      <td>...</td>\n",
              "      <td>...</td>\n",
              "    </tr>\n",
              "    <tr>\n",
              "      <th>98662</th>\n",
              "      <td>2020-10-31</td>\n",
              "      <td>67</td>\n",
              "      <td>4718</td>\n",
              "    </tr>\n",
              "    <tr>\n",
              "      <th>98663</th>\n",
              "      <td>2020-10-31</td>\n",
              "      <td>68</td>\n",
              "      <td>2447</td>\n",
              "    </tr>\n",
              "    <tr>\n",
              "      <th>98664</th>\n",
              "      <td>2020-10-31</td>\n",
              "      <td>69</td>\n",
              "      <td>3428</td>\n",
              "    </tr>\n",
              "    <tr>\n",
              "      <th>98665</th>\n",
              "      <td>2020-10-31</td>\n",
              "      <td>70</td>\n",
              "      <td>3035</td>\n",
              "    </tr>\n",
              "    <tr>\n",
              "      <th>98666</th>\n",
              "      <td>2020-10-31</td>\n",
              "      <td>71</td>\n",
              "      <td>358</td>\n",
              "    </tr>\n",
              "  </tbody>\n",
              "</table>\n",
              "<p>98667 rows × 3 columns</p>\n",
              "</div>"
            ],
            "text/plain": [
              "            date  sensor_id  hourly_counts\n",
              "0     2015-01-01          2          21217\n",
              "1     2015-01-01          3          32695\n",
              "2     2015-01-01          4          36958\n",
              "3     2015-01-01          5          31224\n",
              "4     2015-01-01          6          20457\n",
              "...          ...        ...            ...\n",
              "98662 2020-10-31         67           4718\n",
              "98663 2020-10-31         68           2447\n",
              "98664 2020-10-31         69           3428\n",
              "98665 2020-10-31         70           3035\n",
              "98666 2020-10-31         71            358\n",
              "\n",
              "[98667 rows x 3 columns]"
            ]
          },
          "metadata": {
            "tags": []
          },
          "execution_count": 13
        }
      ]
    },
    {
      "cell_type": "code",
      "metadata": {
        "id": "ccso3QE-Wt7P",
        "colab": {
          "base_uri": "https://localhost:8080/",
          "height": 399
        },
        "outputId": "de27d867-b78a-4226-8614-50ac30f8f27b"
      },
      "source": [
        "#renaming the hourly_count column\n",
        "new_results_df = new_results_df.rename(columns={\"hourly_counts\": \"Total_Pedestrian_Count\"})\n",
        "new_results_df"
      ],
      "execution_count": 14,
      "outputs": [
        {
          "output_type": "execute_result",
          "data": {
            "text/html": [
              "<div>\n",
              "<style scoped>\n",
              "    .dataframe tbody tr th:only-of-type {\n",
              "        vertical-align: middle;\n",
              "    }\n",
              "\n",
              "    .dataframe tbody tr th {\n",
              "        vertical-align: top;\n",
              "    }\n",
              "\n",
              "    .dataframe thead th {\n",
              "        text-align: right;\n",
              "    }\n",
              "</style>\n",
              "<table border=\"1\" class=\"dataframe\">\n",
              "  <thead>\n",
              "    <tr style=\"text-align: right;\">\n",
              "      <th></th>\n",
              "      <th>date</th>\n",
              "      <th>sensor_id</th>\n",
              "      <th>Total_Pedestrian_Count</th>\n",
              "    </tr>\n",
              "  </thead>\n",
              "  <tbody>\n",
              "    <tr>\n",
              "      <th>0</th>\n",
              "      <td>2015-01-01</td>\n",
              "      <td>2</td>\n",
              "      <td>21217</td>\n",
              "    </tr>\n",
              "    <tr>\n",
              "      <th>1</th>\n",
              "      <td>2015-01-01</td>\n",
              "      <td>3</td>\n",
              "      <td>32695</td>\n",
              "    </tr>\n",
              "    <tr>\n",
              "      <th>2</th>\n",
              "      <td>2015-01-01</td>\n",
              "      <td>4</td>\n",
              "      <td>36958</td>\n",
              "    </tr>\n",
              "    <tr>\n",
              "      <th>3</th>\n",
              "      <td>2015-01-01</td>\n",
              "      <td>5</td>\n",
              "      <td>31224</td>\n",
              "    </tr>\n",
              "    <tr>\n",
              "      <th>4</th>\n",
              "      <td>2015-01-01</td>\n",
              "      <td>6</td>\n",
              "      <td>20457</td>\n",
              "    </tr>\n",
              "    <tr>\n",
              "      <th>...</th>\n",
              "      <td>...</td>\n",
              "      <td>...</td>\n",
              "      <td>...</td>\n",
              "    </tr>\n",
              "    <tr>\n",
              "      <th>98662</th>\n",
              "      <td>2020-10-31</td>\n",
              "      <td>67</td>\n",
              "      <td>4718</td>\n",
              "    </tr>\n",
              "    <tr>\n",
              "      <th>98663</th>\n",
              "      <td>2020-10-31</td>\n",
              "      <td>68</td>\n",
              "      <td>2447</td>\n",
              "    </tr>\n",
              "    <tr>\n",
              "      <th>98664</th>\n",
              "      <td>2020-10-31</td>\n",
              "      <td>69</td>\n",
              "      <td>3428</td>\n",
              "    </tr>\n",
              "    <tr>\n",
              "      <th>98665</th>\n",
              "      <td>2020-10-31</td>\n",
              "      <td>70</td>\n",
              "      <td>3035</td>\n",
              "    </tr>\n",
              "    <tr>\n",
              "      <th>98666</th>\n",
              "      <td>2020-10-31</td>\n",
              "      <td>71</td>\n",
              "      <td>358</td>\n",
              "    </tr>\n",
              "  </tbody>\n",
              "</table>\n",
              "<p>98667 rows × 3 columns</p>\n",
              "</div>"
            ],
            "text/plain": [
              "            date  sensor_id  Total_Pedestrian_Count\n",
              "0     2015-01-01          2                   21217\n",
              "1     2015-01-01          3                   32695\n",
              "2     2015-01-01          4                   36958\n",
              "3     2015-01-01          5                   31224\n",
              "4     2015-01-01          6                   20457\n",
              "...          ...        ...                     ...\n",
              "98662 2020-10-31         67                    4718\n",
              "98663 2020-10-31         68                    2447\n",
              "98664 2020-10-31         69                    3428\n",
              "98665 2020-10-31         70                    3035\n",
              "98666 2020-10-31         71                     358\n",
              "\n",
              "[98667 rows x 3 columns]"
            ]
          },
          "metadata": {
            "tags": []
          },
          "execution_count": 14
        }
      ]
    },
    {
      "cell_type": "code",
      "metadata": {
        "colab": {
          "base_uri": "https://localhost:8080/",
          "height": 399
        },
        "id": "s-GzBFWlVKXi",
        "outputId": "28d0194a-8ae8-4a7e-86ec-4c63b65e4ee4"
      },
      "source": [
        "#Aggregating hourly pedestrian count for each day\r\n",
        "new_results_df_per_day = pd.DataFrame(new_results_df.groupby(['date'])['Total_Pedestrian_Count'].sum())\r\n",
        "new_results_df_per_day = new_results_df_per_day.reset_index()\r\n",
        "new_results_df_per_day = new_results_df_per_day.rename(columns={\"Total_Pedestrian_Count\": \"Total_Pedestrian_Count_per_day\"})\r\n",
        "new_results_df_per_day"
      ],
      "execution_count": 29,
      "outputs": [
        {
          "output_type": "execute_result",
          "data": {
            "text/html": [
              "<div>\n",
              "<style scoped>\n",
              "    .dataframe tbody tr th:only-of-type {\n",
              "        vertical-align: middle;\n",
              "    }\n",
              "\n",
              "    .dataframe tbody tr th {\n",
              "        vertical-align: top;\n",
              "    }\n",
              "\n",
              "    .dataframe thead th {\n",
              "        text-align: right;\n",
              "    }\n",
              "</style>\n",
              "<table border=\"1\" class=\"dataframe\">\n",
              "  <thead>\n",
              "    <tr style=\"text-align: right;\">\n",
              "      <th></th>\n",
              "      <th>date</th>\n",
              "      <th>Total_Pedestrian_Count_per_day</th>\n",
              "    </tr>\n",
              "  </thead>\n",
              "  <tbody>\n",
              "    <tr>\n",
              "      <th>0</th>\n",
              "      <td>2015-01-01</td>\n",
              "      <td>471563</td>\n",
              "    </tr>\n",
              "    <tr>\n",
              "      <th>1</th>\n",
              "      <td>2015-01-02</td>\n",
              "      <td>389048</td>\n",
              "    </tr>\n",
              "    <tr>\n",
              "      <th>2</th>\n",
              "      <td>2015-01-03</td>\n",
              "      <td>291761</td>\n",
              "    </tr>\n",
              "    <tr>\n",
              "      <th>3</th>\n",
              "      <td>2015-01-04</td>\n",
              "      <td>382364</td>\n",
              "    </tr>\n",
              "    <tr>\n",
              "      <th>4</th>\n",
              "      <td>2015-01-05</td>\n",
              "      <td>487220</td>\n",
              "    </tr>\n",
              "    <tr>\n",
              "      <th>...</th>\n",
              "      <td>...</td>\n",
              "      <td>...</td>\n",
              "    </tr>\n",
              "    <tr>\n",
              "      <th>2126</th>\n",
              "      <td>2020-10-27</td>\n",
              "      <td>177267</td>\n",
              "    </tr>\n",
              "    <tr>\n",
              "      <th>2127</th>\n",
              "      <td>2020-10-28</td>\n",
              "      <td>311278</td>\n",
              "    </tr>\n",
              "    <tr>\n",
              "      <th>2128</th>\n",
              "      <td>2020-10-29</td>\n",
              "      <td>263334</td>\n",
              "    </tr>\n",
              "    <tr>\n",
              "      <th>2129</th>\n",
              "      <td>2020-10-30</td>\n",
              "      <td>313225</td>\n",
              "    </tr>\n",
              "    <tr>\n",
              "      <th>2130</th>\n",
              "      <td>2020-10-31</td>\n",
              "      <td>370181</td>\n",
              "    </tr>\n",
              "  </tbody>\n",
              "</table>\n",
              "<p>2131 rows × 2 columns</p>\n",
              "</div>"
            ],
            "text/plain": [
              "           date  Total_Pedestrian_Count_per_day\n",
              "0    2015-01-01                          471563\n",
              "1    2015-01-02                          389048\n",
              "2    2015-01-03                          291761\n",
              "3    2015-01-04                          382364\n",
              "4    2015-01-05                          487220\n",
              "...         ...                             ...\n",
              "2126 2020-10-27                          177267\n",
              "2127 2020-10-28                          311278\n",
              "2128 2020-10-29                          263334\n",
              "2129 2020-10-30                          313225\n",
              "2130 2020-10-31                          370181\n",
              "\n",
              "[2131 rows x 2 columns]"
            ]
          },
          "metadata": {
            "tags": []
          },
          "execution_count": 29
        }
      ]
    },
    {
      "cell_type": "code",
      "metadata": {
        "colab": {
          "base_uri": "https://localhost:8080/"
        },
        "id": "Rt_YKzhIYwdE",
        "outputId": "57933160-dbaf-4c88-9f89-254d25a86b29"
      },
      "source": [
        "# Loading the weather dataset \r\n",
        "dataset = pd.read_csv('export_df.csv') #export_df_csv as created by Hung son on Trello card https://trello.com/c/7dcc09P9\r\n",
        "#converting date_time feature from object datatypes to date\r\n",
        "dataset['date'] = dataset['date'].astype('datetime64[ns]')\r\n",
        "\r\n",
        "dataset.dtypes"
      ],
      "execution_count": 260,
      "outputs": [
        {
          "output_type": "execute_result",
          "data": {
            "text/plain": [
              "date                                    datetime64[ns]\n",
              "Rainfall amount (millimetres)                  float64\n",
              "Minimum temperature (Degree C)                 float64\n",
              "Maximum temperature (Degree C)                 float64\n",
              "Daily global solar exposure (MJ/m*m)           float64\n",
              "dtype: object"
            ]
          },
          "metadata": {
            "tags": []
          },
          "execution_count": 260
        }
      ]
    },
    {
      "cell_type": "code",
      "metadata": {
        "colab": {
          "base_uri": "https://localhost:8080/"
        },
        "id": "KnN6OgT__1zJ",
        "outputId": "291aa40f-b49c-410a-fb4a-f8e53b5b7344"
      },
      "source": [
        "dataset.isna().sum()"
      ],
      "execution_count": 261,
      "outputs": [
        {
          "output_type": "execute_result",
          "data": {
            "text/plain": [
              "date                                    0\n",
              "Rainfall amount (millimetres)           8\n",
              "Minimum temperature (Degree C)          0\n",
              "Maximum temperature (Degree C)          0\n",
              "Daily global solar exposure (MJ/m*m)    1\n",
              "dtype: int64"
            ]
          },
          "metadata": {
            "tags": []
          },
          "execution_count": 261
        }
      ]
    },
    {
      "cell_type": "code",
      "metadata": {
        "colab": {
          "base_uri": "https://localhost:8080/",
          "height": 585
        },
        "id": "Mvdvpg2sfeXS",
        "outputId": "2a443a1c-bc9f-43b6-d574-5e063b185145"
      },
      "source": [
        "dataset_wt_weather_features = dataset.merge(new_results_df_per_day, left_on='date', right_on='date')\r\n",
        "\r\n",
        "dataset_wt_weather_features"
      ],
      "execution_count": 262,
      "outputs": [
        {
          "output_type": "execute_result",
          "data": {
            "text/html": [
              "<div>\n",
              "<style scoped>\n",
              "    .dataframe tbody tr th:only-of-type {\n",
              "        vertical-align: middle;\n",
              "    }\n",
              "\n",
              "    .dataframe tbody tr th {\n",
              "        vertical-align: top;\n",
              "    }\n",
              "\n",
              "    .dataframe thead th {\n",
              "        text-align: right;\n",
              "    }\n",
              "</style>\n",
              "<table border=\"1\" class=\"dataframe\">\n",
              "  <thead>\n",
              "    <tr style=\"text-align: right;\">\n",
              "      <th></th>\n",
              "      <th>date</th>\n",
              "      <th>Rainfall amount (millimetres)</th>\n",
              "      <th>Minimum temperature (Degree C)</th>\n",
              "      <th>Maximum temperature (Degree C)</th>\n",
              "      <th>Daily global solar exposure (MJ/m*m)</th>\n",
              "      <th>Total_Pedestrian_Count_per_day</th>\n",
              "    </tr>\n",
              "  </thead>\n",
              "  <tbody>\n",
              "    <tr>\n",
              "      <th>0</th>\n",
              "      <td>2015-01-01</td>\n",
              "      <td>0.0</td>\n",
              "      <td>13.3</td>\n",
              "      <td>26.9</td>\n",
              "      <td>23.6</td>\n",
              "      <td>471563</td>\n",
              "    </tr>\n",
              "    <tr>\n",
              "      <th>1</th>\n",
              "      <td>2015-01-02</td>\n",
              "      <td>0.0</td>\n",
              "      <td>15.4</td>\n",
              "      <td>38.8</td>\n",
              "      <td>26.8</td>\n",
              "      <td>389048</td>\n",
              "    </tr>\n",
              "    <tr>\n",
              "      <th>2</th>\n",
              "      <td>2015-01-03</td>\n",
              "      <td>0.0</td>\n",
              "      <td>20.0</td>\n",
              "      <td>38.2</td>\n",
              "      <td>26.5</td>\n",
              "      <td>291761</td>\n",
              "    </tr>\n",
              "    <tr>\n",
              "      <th>3</th>\n",
              "      <td>2015-01-04</td>\n",
              "      <td>4.6</td>\n",
              "      <td>16.3</td>\n",
              "      <td>21.4</td>\n",
              "      <td>25.2</td>\n",
              "      <td>382364</td>\n",
              "    </tr>\n",
              "    <tr>\n",
              "      <th>4</th>\n",
              "      <td>2015-01-05</td>\n",
              "      <td>0.0</td>\n",
              "      <td>15.0</td>\n",
              "      <td>22.0</td>\n",
              "      <td>30.7</td>\n",
              "      <td>487220</td>\n",
              "    </tr>\n",
              "    <tr>\n",
              "      <th>...</th>\n",
              "      <td>...</td>\n",
              "      <td>...</td>\n",
              "      <td>...</td>\n",
              "      <td>...</td>\n",
              "      <td>...</td>\n",
              "      <td>...</td>\n",
              "    </tr>\n",
              "    <tr>\n",
              "      <th>2126</th>\n",
              "      <td>2020-10-27</td>\n",
              "      <td>0.0</td>\n",
              "      <td>11.1</td>\n",
              "      <td>19.6</td>\n",
              "      <td>20.1</td>\n",
              "      <td>177267</td>\n",
              "    </tr>\n",
              "    <tr>\n",
              "      <th>2127</th>\n",
              "      <td>2020-10-28</td>\n",
              "      <td>0.0</td>\n",
              "      <td>9.5</td>\n",
              "      <td>20.9</td>\n",
              "      <td>26.7</td>\n",
              "      <td>311278</td>\n",
              "    </tr>\n",
              "    <tr>\n",
              "      <th>2128</th>\n",
              "      <td>2020-10-29</td>\n",
              "      <td>0.0</td>\n",
              "      <td>11.2</td>\n",
              "      <td>24.3</td>\n",
              "      <td>17.1</td>\n",
              "      <td>263334</td>\n",
              "    </tr>\n",
              "    <tr>\n",
              "      <th>2129</th>\n",
              "      <td>2020-10-30</td>\n",
              "      <td>0.0</td>\n",
              "      <td>12.9</td>\n",
              "      <td>18.6</td>\n",
              "      <td>21.0</td>\n",
              "      <td>313225</td>\n",
              "    </tr>\n",
              "    <tr>\n",
              "      <th>2130</th>\n",
              "      <td>2020-10-31</td>\n",
              "      <td>0.0</td>\n",
              "      <td>14.2</td>\n",
              "      <td>16.8</td>\n",
              "      <td>10.0</td>\n",
              "      <td>370181</td>\n",
              "    </tr>\n",
              "  </tbody>\n",
              "</table>\n",
              "<p>2131 rows × 6 columns</p>\n",
              "</div>"
            ],
            "text/plain": [
              "           date  ...  Total_Pedestrian_Count_per_day\n",
              "0    2015-01-01  ...                          471563\n",
              "1    2015-01-02  ...                          389048\n",
              "2    2015-01-03  ...                          291761\n",
              "3    2015-01-04  ...                          382364\n",
              "4    2015-01-05  ...                          487220\n",
              "...         ...  ...                             ...\n",
              "2126 2020-10-27  ...                          177267\n",
              "2127 2020-10-28  ...                          311278\n",
              "2128 2020-10-29  ...                          263334\n",
              "2129 2020-10-30  ...                          313225\n",
              "2130 2020-10-31  ...                          370181\n",
              "\n",
              "[2131 rows x 6 columns]"
            ]
          },
          "metadata": {
            "tags": []
          },
          "execution_count": 262
        }
      ]
    },
    {
      "cell_type": "code",
      "metadata": {
        "id": "rWBh5gQx0NZg"
      },
      "source": [
        "#writing the dataset into a csv file\r\n",
        "import csv  \r\n",
        "\r\n",
        "# field names  \r\n",
        "fields = []  \r\n",
        "for col in dataset_wt_weather_features.columns: \r\n",
        "    fields.append(col) \r\n",
        "\r\n",
        "# data rows of csv file  \r\n",
        "rows = dataset_wt_weather_features.values  \r\n",
        "    \r\n",
        "# name of the csv file  \r\n",
        "filename = \"dataset_wt_weather_features.csv\"\r\n",
        "    \r\n",
        "# writing to the csv file  \r\n",
        "with open(filename, 'w') as csvfile:\r\n",
        "\r\n",
        "    # creating a csv writer object  \r\n",
        "    csvwriter = csv.writer(csvfile)  \r\n",
        "        \r\n",
        "    # writing the fields  \r\n",
        "    csvwriter.writerow(fields)  \r\n",
        "        \r\n",
        "    # writing the data rows  \r\n",
        "    csvwriter.writerows(rows) "
      ],
      "execution_count": 238,
      "outputs": []
    },
    {
      "cell_type": "code",
      "metadata": {
        "id": "91x19r17Ouzi"
      },
      "source": [
        "#Incorporating the weekly index. Representing monday as 1 and sunday as 7.\r\n",
        "dataset_wt_weather_features['day'] = dataset_wt_weather_features.date.dt.dayofweek\r\n",
        "dataset_wt_weather_features['day'] = dataset_wt_weather_features['day'] + 1"
      ],
      "execution_count": 263,
      "outputs": []
    },
    {
      "cell_type": "code",
      "metadata": {
        "id": "pfMRWfjvPNnr"
      },
      "source": [
        "#Incorporating the monthly index. Representing January as 1 and december as 12.\r\n",
        "dataset_wt_weather_features['monthly_index'] = dataset_wt_weather_features.date.dt.month"
      ],
      "execution_count": 264,
      "outputs": []
    },
    {
      "cell_type": "code",
      "metadata": {
        "id": "mlwQqaOPlsfJ"
      },
      "source": [
        "#Public Holiday dataset\r\n",
        "public = pd.read_csv('Public_Holidays.csv')\r\n",
        "holidays = public[['Holiday']]"
      ],
      "execution_count": 265,
      "outputs": []
    },
    {
      "cell_type": "code",
      "metadata": {
        "colab": {
          "base_uri": "https://localhost:8080/",
          "height": 399
        },
        "id": "D-h6mZz6l0ZT",
        "outputId": "4da11fbd-6ba4-48be-bf9c-acddfc292270"
      },
      "source": [
        "#View the dataset\r\n",
        "holidays"
      ],
      "execution_count": 266,
      "outputs": [
        {
          "output_type": "execute_result",
          "data": {
            "text/html": [
              "<div>\n",
              "<style scoped>\n",
              "    .dataframe tbody tr th:only-of-type {\n",
              "        vertical-align: middle;\n",
              "    }\n",
              "\n",
              "    .dataframe tbody tr th {\n",
              "        vertical-align: top;\n",
              "    }\n",
              "\n",
              "    .dataframe thead th {\n",
              "        text-align: right;\n",
              "    }\n",
              "</style>\n",
              "<table border=\"1\" class=\"dataframe\">\n",
              "  <thead>\n",
              "    <tr style=\"text-align: right;\">\n",
              "      <th></th>\n",
              "      <th>Holiday</th>\n",
              "    </tr>\n",
              "  </thead>\n",
              "  <tbody>\n",
              "    <tr>\n",
              "      <th>0</th>\n",
              "      <td>2015-01-01</td>\n",
              "    </tr>\n",
              "    <tr>\n",
              "      <th>1</th>\n",
              "      <td>2015-01-26</td>\n",
              "    </tr>\n",
              "    <tr>\n",
              "      <th>2</th>\n",
              "      <td>2015-03-14</td>\n",
              "    </tr>\n",
              "    <tr>\n",
              "      <th>3</th>\n",
              "      <td>2015-03-25</td>\n",
              "    </tr>\n",
              "    <tr>\n",
              "      <th>4</th>\n",
              "      <td>2015-03-26</td>\n",
              "    </tr>\n",
              "    <tr>\n",
              "      <th>...</th>\n",
              "      <td>...</td>\n",
              "    </tr>\n",
              "    <tr>\n",
              "      <th>74</th>\n",
              "      <td>2020-04-12</td>\n",
              "    </tr>\n",
              "    <tr>\n",
              "      <th>75</th>\n",
              "      <td>2020-04-13</td>\n",
              "    </tr>\n",
              "    <tr>\n",
              "      <th>76</th>\n",
              "      <td>2020-04-25</td>\n",
              "    </tr>\n",
              "    <tr>\n",
              "      <th>77</th>\n",
              "      <td>2020-06-08</td>\n",
              "    </tr>\n",
              "    <tr>\n",
              "      <th>78</th>\n",
              "      <td>2020-10-23</td>\n",
              "    </tr>\n",
              "  </tbody>\n",
              "</table>\n",
              "<p>79 rows × 1 columns</p>\n",
              "</div>"
            ],
            "text/plain": [
              "       Holiday\n",
              "0   2015-01-01\n",
              "1   2015-01-26\n",
              "2   2015-03-14\n",
              "3   2015-03-25\n",
              "4   2015-03-26\n",
              "..         ...\n",
              "74  2020-04-12\n",
              "75  2020-04-13\n",
              "76  2020-04-25\n",
              "77  2020-06-08\n",
              "78  2020-10-23\n",
              "\n",
              "[79 rows x 1 columns]"
            ]
          },
          "metadata": {
            "tags": []
          },
          "execution_count": 266
        }
      ]
    },
    {
      "cell_type": "code",
      "metadata": {
        "id": "cmqJ6BH3oaO-"
      },
      "source": [
        "#converting Holiday feature from object datatypes to date\r\n",
        "holidays['Holiday'] = holidays['Holiday'].astype('datetime64[ns]')\r\n",
        "holidays['Public_Holiday'] = 'Public Holiday'"
      ],
      "execution_count": 267,
      "outputs": []
    },
    {
      "cell_type": "code",
      "metadata": {
        "colab": {
          "base_uri": "https://localhost:8080/"
        },
        "id": "jNRef1F_pEQS",
        "outputId": "9e51297d-5fb8-4507-a8ab-245600b29b0f"
      },
      "source": [
        "#Validating the changes in datatype\r\n",
        "holidays.dtypes"
      ],
      "execution_count": 268,
      "outputs": [
        {
          "output_type": "execute_result",
          "data": {
            "text/plain": [
              "Holiday           datetime64[ns]\n",
              "Public_Holiday            object\n",
              "dtype: object"
            ]
          },
          "metadata": {
            "tags": []
          },
          "execution_count": 268
        }
      ]
    },
    {
      "cell_type": "code",
      "metadata": {
        "id": "VLGYSyyW90gf"
      },
      "source": [
        "#Incorporating the public holiday information in the dataset\r\n",
        "dataset_wt_weather_features = dataset_wt_weather_features.set_index(\"date\").join(holidays.set_index(\"Holiday\"), how=\"outer\")"
      ],
      "execution_count": 269,
      "outputs": []
    },
    {
      "cell_type": "code",
      "metadata": {
        "id": "gke2TLJOALZ2"
      },
      "source": [
        "#Resetting the index\r\n",
        "dataset_wt_weather_features.reset_index(inplace = True)"
      ],
      "execution_count": 270,
      "outputs": []
    },
    {
      "cell_type": "code",
      "metadata": {
        "id": "nUi1bgjOAa68"
      },
      "source": [
        "#Renaming the columns\r\n",
        "dataset_wt_weather_features.rename(columns = {'index':'Date'}, inplace = True)"
      ],
      "execution_count": 271,
      "outputs": []
    },
    {
      "cell_type": "code",
      "metadata": {
        "id": "B8efRjuHBAy8"
      },
      "source": [
        "#Replacing the na values as 'not a holiday'\r\n",
        "dataset_wt_weather_features['Public_Holiday'].fillna('Not a public holiday', inplace=True)"
      ],
      "execution_count": 275,
      "outputs": []
    },
    {
      "cell_type": "code",
      "metadata": {
        "id": "OdR8LxEoCPhm"
      },
      "source": [
        "#Rearranging the columns \r\n",
        "dataset_wt_weather_features = dataset_wt_weather_features[['Date', 'day', 'monthly_index','Public_Holiday','Rainfall amount (millimetres)','Minimum temperature (Degree C)','Maximum temperature (Degree C)','Daily global solar exposure (MJ/m*m)', 'Total_Pedestrian_Count_per_day']]"
      ],
      "execution_count": 281,
      "outputs": []
    },
    {
      "cell_type": "code",
      "metadata": {
        "id": "_659pGD8DXdm"
      },
      "source": [
        "dataset_wt_weather_features.to_csv('dataset_with_public_holidays.csv')"
      ],
      "execution_count": 283,
      "outputs": []
    },
    {
      "cell_type": "code",
      "metadata": {
        "id": "G_bS1vWP6zSQ"
      },
      "source": [
        "#Importing the dataset containing status, location and directional information for each pedestrian sensor device installed throughout the city using the API.\n",
        "results2 = client.get(\"h57g-5234\", limit=2000)\n",
        "results_df2 = pd.DataFrame.from_records(results2)"
      ],
      "execution_count": 24,
      "outputs": []
    },
    {
      "cell_type": "code",
      "metadata": {
        "id": "DrotsxKL7c7l"
      },
      "source": [
        "#Converting 'sensor_id' and 'hourly_counts' features from object datatypes to int\n",
        "results_df2['sensor_id'] = results_df2['sensor_id'].astype('int')\n",
        "results_df2[['latitude','longitude']] = results_df2[['latitude','longitude']].astype('float')"
      ],
      "execution_count": 25,
      "outputs": []
    },
    {
      "cell_type": "code",
      "metadata": {
        "id": "h059f7WF7qTG"
      },
      "source": [
        "#Examining the features after data type conversion\n",
        "results_df2 = pd.DataFrame.from_records(results2)"
      ],
      "execution_count": 26,
      "outputs": []
    },
    {
      "cell_type": "code",
      "metadata": {
        "id": "Owy1hI-j9IHc"
      },
      "source": [
        "#Merging the datasets on sensor_id\n",
        "merged_dataset = new_results_df.set_index('sensor_id').join(results_df2.set_index('sensor_id'))[['date','sensor_description','latitude','longitude','Total_Pedestrian_Count']]"
      ],
      "execution_count": null,
      "outputs": []
    },
    {
      "cell_type": "code",
      "metadata": {
        "id": "o_YHvTS39hv7"
      },
      "source": [
        "#Validating the dataset\n",
        "merged_dataset"
      ],
      "execution_count": null,
      "outputs": []
    },
    {
      "cell_type": "code",
      "metadata": {
        "id": "u0MaOxZU9tTr"
      },
      "source": [
        "#Adding the day variable using the date\n",
        "merged_dataset['day'] = merged_dataset.date.dt.day_name()"
      ],
      "execution_count": null,
      "outputs": []
    },
    {
      "cell_type": "code",
      "metadata": {
        "id": "uc_9WPueAXnz"
      },
      "source": [
        "#Visualizing recorded observations based on sensor_ID\n",
        "z = merged_dataset.index.value_counts().plot(kind = 'bar', figsize = (20,10))\n",
        "z.set_xlabel(\"Sensor_ID\")\n",
        "z.set_ylabel(\"Frequency of observations\")\n",
        "z.set_title(\"Recorded observations based on each Sensor_ID\")\n",
        "\n",
        "z.plot()"
      ],
      "execution_count": null,
      "outputs": []
    }
  ]
}