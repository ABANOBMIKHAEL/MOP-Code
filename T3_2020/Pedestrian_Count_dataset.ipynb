{
  "nbformat": 4,
  "nbformat_minor": 0,
  "metadata": {
    "colab": {
      "name": "Pedestrian_Count_dataset.ipynb",
      "provenance": [],
      "collapsed_sections": []
    },
    "kernelspec": {
      "display_name": "Python 3",
      "name": "python3"
    }
  },
  "cells": [
    {
      "cell_type": "code",
      "metadata": {
        "colab": {
          "base_uri": "https://localhost:8080/"
        },
        "id": "uhXyz3430Vc9",
        "outputId": "80a81eea-7d46-4647-92ea-404c44557882"
      },
      "source": [
        "#!/usr/bin/env python\n",
        "\n",
        "# make sure to install these packages before running:\n",
        "!pip install sodapy"
      ],
      "execution_count": 1,
      "outputs": [
        {
          "output_type": "stream",
          "text": [
            "Collecting sodapy\n",
            "  Downloading https://files.pythonhosted.org/packages/9e/74/95fb7d45bbe7f1de43caac45d7dd4807ef1e15881564a00eef489a3bb5c6/sodapy-2.1.0-py2.py3-none-any.whl\n",
            "Requirement already satisfied: requests>=2.20.0 in /usr/local/lib/python3.6/dist-packages (from sodapy) (2.23.0)\n",
            "Requirement already satisfied: idna<3,>=2.5 in /usr/local/lib/python3.6/dist-packages (from requests>=2.20.0->sodapy) (2.10)\n",
            "Requirement already satisfied: certifi>=2017.4.17 in /usr/local/lib/python3.6/dist-packages (from requests>=2.20.0->sodapy) (2020.11.8)\n",
            "Requirement already satisfied: chardet<4,>=3.0.2 in /usr/local/lib/python3.6/dist-packages (from requests>=2.20.0->sodapy) (3.0.4)\n",
            "Requirement already satisfied: urllib3!=1.25.0,!=1.25.1,<1.26,>=1.21.1 in /usr/local/lib/python3.6/dist-packages (from requests>=2.20.0->sodapy) (1.24.3)\n",
            "Installing collected packages: sodapy\n",
            "Successfully installed sodapy-2.1.0\n"
          ],
          "name": "stdout"
        }
      ]
    },
    {
      "cell_type": "code",
      "metadata": {
        "id": "SAo2mDNQ1B3W"
      },
      "source": [
        "#import the libraries \n",
        "import numpy as np\n",
        "import pandas as pd\n",
        "from pandas import DataFrame as df, Series as se\n",
        "#import the library for the API\n",
        "from sodapy import Socrata"
      ],
      "execution_count": 2,
      "outputs": []
    },
    {
      "cell_type": "code",
      "metadata": {
        "colab": {
          "base_uri": "https://localhost:8080/"
        },
        "id": "8A-hsZ850zRO",
        "outputId": "5fcb4aaf-1fb0-4d66-99db-162f49924b71"
      },
      "source": [
        "# Unauthenticated client only works with public data sets. Note 'None'\n",
        "# in place of application token, and no username or password:\n",
        "client = Socrata(\"data.melbourne.vic.gov.au\", None)\n",
        "\n",
        "\n",
        "#getting the pedestrian count data from city of melbourne website from 2009-05-01 to \n",
        "#2020-10-31\n",
        "results = client.get(\"b2ak-trbp\", limit=3391522)\n",
        "\n",
        "# Convert to pandas DataFrame\n",
        "results_df = pd.DataFrame.from_records(results)\n"
      ],
      "execution_count": 3,
      "outputs": [
        {
          "output_type": "stream",
          "text": [
            "WARNING:root:Requests made without an app_token will be subject to strict throttling limits.\n"
          ],
          "name": "stderr"
        }
      ]
    },
    {
      "cell_type": "code",
      "metadata": {
        "colab": {
          "base_uri": "https://localhost:8080/",
          "height": 415
        },
        "id": "uDKAuzNB1HII",
        "outputId": "0c2f0057-b5a7-45f8-b1ff-ee82366403d7"
      },
      "source": [
        "results_df"
      ],
      "execution_count": null,
      "outputs": [
        {
          "output_type": "execute_result",
          "data": {
            "text/html": [
              "<div>\n",
              "<style scoped>\n",
              "    .dataframe tbody tr th:only-of-type {\n",
              "        vertical-align: middle;\n",
              "    }\n",
              "\n",
              "    .dataframe tbody tr th {\n",
              "        vertical-align: top;\n",
              "    }\n",
              "\n",
              "    .dataframe thead th {\n",
              "        text-align: right;\n",
              "    }\n",
              "</style>\n",
              "<table border=\"1\" class=\"dataframe\">\n",
              "  <thead>\n",
              "    <tr style=\"text-align: right;\">\n",
              "      <th></th>\n",
              "      <th>id</th>\n",
              "      <th>date_time</th>\n",
              "      <th>year</th>\n",
              "      <th>month</th>\n",
              "      <th>mdate</th>\n",
              "      <th>day</th>\n",
              "      <th>time</th>\n",
              "      <th>sensor_id</th>\n",
              "      <th>sensor_name</th>\n",
              "      <th>hourly_counts</th>\n",
              "    </tr>\n",
              "  </thead>\n",
              "  <tbody>\n",
              "    <tr>\n",
              "      <th>0</th>\n",
              "      <td>2887628</td>\n",
              "      <td>2019-11-01T17:00:00.000</td>\n",
              "      <td>2019</td>\n",
              "      <td>November</td>\n",
              "      <td>1</td>\n",
              "      <td>Friday</td>\n",
              "      <td>17</td>\n",
              "      <td>34</td>\n",
              "      <td>Flinders St-Spark La</td>\n",
              "      <td>300</td>\n",
              "    </tr>\n",
              "    <tr>\n",
              "      <th>1</th>\n",
              "      <td>2887629</td>\n",
              "      <td>2019-11-01T17:00:00.000</td>\n",
              "      <td>2019</td>\n",
              "      <td>November</td>\n",
              "      <td>1</td>\n",
              "      <td>Friday</td>\n",
              "      <td>17</td>\n",
              "      <td>39</td>\n",
              "      <td>Alfred Place</td>\n",
              "      <td>604</td>\n",
              "    </tr>\n",
              "    <tr>\n",
              "      <th>2</th>\n",
              "      <td>2887630</td>\n",
              "      <td>2019-11-01T17:00:00.000</td>\n",
              "      <td>2019</td>\n",
              "      <td>November</td>\n",
              "      <td>1</td>\n",
              "      <td>Friday</td>\n",
              "      <td>17</td>\n",
              "      <td>37</td>\n",
              "      <td>Lygon St (East)</td>\n",
              "      <td>216</td>\n",
              "    </tr>\n",
              "    <tr>\n",
              "      <th>3</th>\n",
              "      <td>2887631</td>\n",
              "      <td>2019-11-01T17:00:00.000</td>\n",
              "      <td>2019</td>\n",
              "      <td>November</td>\n",
              "      <td>1</td>\n",
              "      <td>Friday</td>\n",
              "      <td>17</td>\n",
              "      <td>40</td>\n",
              "      <td>Lonsdale St-Spring St (West)</td>\n",
              "      <td>627</td>\n",
              "    </tr>\n",
              "    <tr>\n",
              "      <th>4</th>\n",
              "      <td>2887632</td>\n",
              "      <td>2019-11-01T17:00:00.000</td>\n",
              "      <td>2019</td>\n",
              "      <td>November</td>\n",
              "      <td>1</td>\n",
              "      <td>Friday</td>\n",
              "      <td>17</td>\n",
              "      <td>36</td>\n",
              "      <td>Queen St (West)</td>\n",
              "      <td>774</td>\n",
              "    </tr>\n",
              "    <tr>\n",
              "      <th>...</th>\n",
              "      <td>...</td>\n",
              "      <td>...</td>\n",
              "      <td>...</td>\n",
              "      <td>...</td>\n",
              "      <td>...</td>\n",
              "      <td>...</td>\n",
              "      <td>...</td>\n",
              "      <td>...</td>\n",
              "      <td>...</td>\n",
              "      <td>...</td>\n",
              "    </tr>\n",
              "    <tr>\n",
              "      <th>3391517</th>\n",
              "      <td>3391518</td>\n",
              "      <td>2020-10-31T23:00:00.000</td>\n",
              "      <td>2020</td>\n",
              "      <td>October</td>\n",
              "      <td>31</td>\n",
              "      <td>Saturday</td>\n",
              "      <td>23</td>\n",
              "      <td>67</td>\n",
              "      <td>Flinders Ln -Degraves St (South)</td>\n",
              "      <td>0</td>\n",
              "    </tr>\n",
              "    <tr>\n",
              "      <th>3391518</th>\n",
              "      <td>3391519</td>\n",
              "      <td>2020-10-31T23:00:00.000</td>\n",
              "      <td>2020</td>\n",
              "      <td>October</td>\n",
              "      <td>31</td>\n",
              "      <td>Saturday</td>\n",
              "      <td>23</td>\n",
              "      <td>68</td>\n",
              "      <td>Flinders Ln -Degraves St (North)</td>\n",
              "      <td>0</td>\n",
              "    </tr>\n",
              "    <tr>\n",
              "      <th>3391519</th>\n",
              "      <td>3391520</td>\n",
              "      <td>2020-10-31T23:00:00.000</td>\n",
              "      <td>2020</td>\n",
              "      <td>October</td>\n",
              "      <td>31</td>\n",
              "      <td>Saturday</td>\n",
              "      <td>23</td>\n",
              "      <td>69</td>\n",
              "      <td>Flinders Ln -Degraves St (Crossing)</td>\n",
              "      <td>0</td>\n",
              "    </tr>\n",
              "    <tr>\n",
              "      <th>3391520</th>\n",
              "      <td>3391521</td>\n",
              "      <td>2020-10-31T23:00:00.000</td>\n",
              "      <td>2020</td>\n",
              "      <td>October</td>\n",
              "      <td>31</td>\n",
              "      <td>Saturday</td>\n",
              "      <td>23</td>\n",
              "      <td>70</td>\n",
              "      <td>Errol Street (East)</td>\n",
              "      <td>0</td>\n",
              "    </tr>\n",
              "    <tr>\n",
              "      <th>3391521</th>\n",
              "      <td>3391522</td>\n",
              "      <td>2020-10-31T23:00:00.000</td>\n",
              "      <td>2020</td>\n",
              "      <td>October</td>\n",
              "      <td>31</td>\n",
              "      <td>Saturday</td>\n",
              "      <td>23</td>\n",
              "      <td>71</td>\n",
              "      <td>Westwood Place</td>\n",
              "      <td>16</td>\n",
              "    </tr>\n",
              "  </tbody>\n",
              "</table>\n",
              "<p>3391522 rows × 10 columns</p>\n",
              "</div>"
            ],
            "text/plain": [
              "              id  ... hourly_counts\n",
              "0        2887628  ...           300\n",
              "1        2887629  ...           604\n",
              "2        2887630  ...           216\n",
              "3        2887631  ...           627\n",
              "4        2887632  ...           774\n",
              "...          ...  ...           ...\n",
              "3391517  3391518  ...             0\n",
              "3391518  3391519  ...             0\n",
              "3391519  3391520  ...             0\n",
              "3391520  3391521  ...             0\n",
              "3391521  3391522  ...            16\n",
              "\n",
              "[3391522 rows x 10 columns]"
            ]
          },
          "metadata": {
            "tags": []
          },
          "execution_count": 11
        }
      ]
    },
    {
      "cell_type": "code",
      "metadata": {
        "colab": {
          "base_uri": "https://localhost:8080/"
        },
        "id": "sg-J7ylnQmq8",
        "outputId": "326ad433-584c-455a-ce74-00b6200e73ca"
      },
      "source": [
        "#Examining the data types of the features of the dataset  \n",
        "results_df.dtypes"
      ],
      "execution_count": 4,
      "outputs": [
        {
          "output_type": "execute_result",
          "data": {
            "text/plain": [
              "id               object\n",
              "date_time        object\n",
              "year             object\n",
              "month            object\n",
              "mdate            object\n",
              "day              object\n",
              "time             object\n",
              "sensor_id        object\n",
              "sensor_name      object\n",
              "hourly_counts    object\n",
              "dtype: object"
            ]
          },
          "metadata": {
            "tags": []
          },
          "execution_count": 4
        }
      ]
    },
    {
      "cell_type": "code",
      "metadata": {
        "id": "aCqhJ_1-utJd"
      },
      "source": [
        "results_df['date'] = results_df['mdate'] + '-' + results_df['month'] + '-' + results_df['year']\n",
        "results_df.drop(columns=['id',\t'date_time','year',\t'month',\t'mdate',\t'day',\t'time' ], inplace = True)"
      ],
      "execution_count": 5,
      "outputs": []
    },
    {
      "cell_type": "code",
      "metadata": {
        "colab": {
          "base_uri": "https://localhost:8080/",
          "height": 399
        },
        "id": "qM2L2SbQh2TQ",
        "outputId": "1258dc1a-3fc8-4010-952c-e90425e90523"
      },
      "source": [
        "#converting 'sensor_id' and 'hourly_counts' features from object datatypes to int\n",
        "results_df[['sensor_id','hourly_counts']] = results_df[['sensor_id','hourly_counts']].astype('int')\n",
        "results_df"
      ],
      "execution_count": 6,
      "outputs": [
        {
          "output_type": "execute_result",
          "data": {
            "text/html": [
              "<div>\n",
              "<style scoped>\n",
              "    .dataframe tbody tr th:only-of-type {\n",
              "        vertical-align: middle;\n",
              "    }\n",
              "\n",
              "    .dataframe tbody tr th {\n",
              "        vertical-align: top;\n",
              "    }\n",
              "\n",
              "    .dataframe thead th {\n",
              "        text-align: right;\n",
              "    }\n",
              "</style>\n",
              "<table border=\"1\" class=\"dataframe\">\n",
              "  <thead>\n",
              "    <tr style=\"text-align: right;\">\n",
              "      <th></th>\n",
              "      <th>sensor_id</th>\n",
              "      <th>sensor_name</th>\n",
              "      <th>hourly_counts</th>\n",
              "      <th>date</th>\n",
              "    </tr>\n",
              "  </thead>\n",
              "  <tbody>\n",
              "    <tr>\n",
              "      <th>0</th>\n",
              "      <td>34</td>\n",
              "      <td>Flinders St-Spark La</td>\n",
              "      <td>300</td>\n",
              "      <td>1-November-2019</td>\n",
              "    </tr>\n",
              "    <tr>\n",
              "      <th>1</th>\n",
              "      <td>39</td>\n",
              "      <td>Alfred Place</td>\n",
              "      <td>604</td>\n",
              "      <td>1-November-2019</td>\n",
              "    </tr>\n",
              "    <tr>\n",
              "      <th>2</th>\n",
              "      <td>37</td>\n",
              "      <td>Lygon St (East)</td>\n",
              "      <td>216</td>\n",
              "      <td>1-November-2019</td>\n",
              "    </tr>\n",
              "    <tr>\n",
              "      <th>3</th>\n",
              "      <td>40</td>\n",
              "      <td>Lonsdale St-Spring St (West)</td>\n",
              "      <td>627</td>\n",
              "      <td>1-November-2019</td>\n",
              "    </tr>\n",
              "    <tr>\n",
              "      <th>4</th>\n",
              "      <td>36</td>\n",
              "      <td>Queen St (West)</td>\n",
              "      <td>774</td>\n",
              "      <td>1-November-2019</td>\n",
              "    </tr>\n",
              "    <tr>\n",
              "      <th>...</th>\n",
              "      <td>...</td>\n",
              "      <td>...</td>\n",
              "      <td>...</td>\n",
              "      <td>...</td>\n",
              "    </tr>\n",
              "    <tr>\n",
              "      <th>3391517</th>\n",
              "      <td>67</td>\n",
              "      <td>Flinders Ln -Degraves St (South)</td>\n",
              "      <td>0</td>\n",
              "      <td>31-October-2020</td>\n",
              "    </tr>\n",
              "    <tr>\n",
              "      <th>3391518</th>\n",
              "      <td>68</td>\n",
              "      <td>Flinders Ln -Degraves St (North)</td>\n",
              "      <td>0</td>\n",
              "      <td>31-October-2020</td>\n",
              "    </tr>\n",
              "    <tr>\n",
              "      <th>3391519</th>\n",
              "      <td>69</td>\n",
              "      <td>Flinders Ln -Degraves St (Crossing)</td>\n",
              "      <td>0</td>\n",
              "      <td>31-October-2020</td>\n",
              "    </tr>\n",
              "    <tr>\n",
              "      <th>3391520</th>\n",
              "      <td>70</td>\n",
              "      <td>Errol Street (East)</td>\n",
              "      <td>0</td>\n",
              "      <td>31-October-2020</td>\n",
              "    </tr>\n",
              "    <tr>\n",
              "      <th>3391521</th>\n",
              "      <td>71</td>\n",
              "      <td>Westwood Place</td>\n",
              "      <td>16</td>\n",
              "      <td>31-October-2020</td>\n",
              "    </tr>\n",
              "  </tbody>\n",
              "</table>\n",
              "<p>3391522 rows × 4 columns</p>\n",
              "</div>"
            ],
            "text/plain": [
              "         sensor_id  ...             date\n",
              "0               34  ...  1-November-2019\n",
              "1               39  ...  1-November-2019\n",
              "2               37  ...  1-November-2019\n",
              "3               40  ...  1-November-2019\n",
              "4               36  ...  1-November-2019\n",
              "...            ...  ...              ...\n",
              "3391517         67  ...  31-October-2020\n",
              "3391518         68  ...  31-October-2020\n",
              "3391519         69  ...  31-October-2020\n",
              "3391520         70  ...  31-October-2020\n",
              "3391521         71  ...  31-October-2020\n",
              "\n",
              "[3391522 rows x 4 columns]"
            ]
          },
          "metadata": {
            "tags": []
          },
          "execution_count": 6
        }
      ]
    },
    {
      "cell_type": "code",
      "metadata": {
        "colab": {
          "base_uri": "https://localhost:8080/"
        },
        "id": "_V_Z-ynAgQNg",
        "outputId": "489c73cd-1038-4346-fb87-69e63db39dcd"
      },
      "source": [
        "#Examining the features after data type conversion\n",
        "results_df.dtypes"
      ],
      "execution_count": 7,
      "outputs": [
        {
          "output_type": "execute_result",
          "data": {
            "text/plain": [
              "sensor_id         int64\n",
              "sensor_name      object\n",
              "hourly_counts     int64\n",
              "date             object\n",
              "dtype: object"
            ]
          },
          "metadata": {
            "tags": []
          },
          "execution_count": 7
        }
      ]
    },
    {
      "cell_type": "code",
      "metadata": {
        "colab": {
          "base_uri": "https://localhost:8080/",
          "height": 399
        },
        "id": "mRhb5BWHkxzi",
        "outputId": "3d8268a4-2f9e-4994-d9aa-0f8580f75712"
      },
      "source": [
        "#converting date_time feature from object datatypes to date\n",
        "results_df['date'] = results_df['date'].astype('datetime64[ns]')\n",
        "results_df"
      ],
      "execution_count": 8,
      "outputs": [
        {
          "output_type": "execute_result",
          "data": {
            "text/html": [
              "<div>\n",
              "<style scoped>\n",
              "    .dataframe tbody tr th:only-of-type {\n",
              "        vertical-align: middle;\n",
              "    }\n",
              "\n",
              "    .dataframe tbody tr th {\n",
              "        vertical-align: top;\n",
              "    }\n",
              "\n",
              "    .dataframe thead th {\n",
              "        text-align: right;\n",
              "    }\n",
              "</style>\n",
              "<table border=\"1\" class=\"dataframe\">\n",
              "  <thead>\n",
              "    <tr style=\"text-align: right;\">\n",
              "      <th></th>\n",
              "      <th>sensor_id</th>\n",
              "      <th>sensor_name</th>\n",
              "      <th>hourly_counts</th>\n",
              "      <th>date</th>\n",
              "    </tr>\n",
              "  </thead>\n",
              "  <tbody>\n",
              "    <tr>\n",
              "      <th>0</th>\n",
              "      <td>34</td>\n",
              "      <td>Flinders St-Spark La</td>\n",
              "      <td>300</td>\n",
              "      <td>2019-11-01</td>\n",
              "    </tr>\n",
              "    <tr>\n",
              "      <th>1</th>\n",
              "      <td>39</td>\n",
              "      <td>Alfred Place</td>\n",
              "      <td>604</td>\n",
              "      <td>2019-11-01</td>\n",
              "    </tr>\n",
              "    <tr>\n",
              "      <th>2</th>\n",
              "      <td>37</td>\n",
              "      <td>Lygon St (East)</td>\n",
              "      <td>216</td>\n",
              "      <td>2019-11-01</td>\n",
              "    </tr>\n",
              "    <tr>\n",
              "      <th>3</th>\n",
              "      <td>40</td>\n",
              "      <td>Lonsdale St-Spring St (West)</td>\n",
              "      <td>627</td>\n",
              "      <td>2019-11-01</td>\n",
              "    </tr>\n",
              "    <tr>\n",
              "      <th>4</th>\n",
              "      <td>36</td>\n",
              "      <td>Queen St (West)</td>\n",
              "      <td>774</td>\n",
              "      <td>2019-11-01</td>\n",
              "    </tr>\n",
              "    <tr>\n",
              "      <th>...</th>\n",
              "      <td>...</td>\n",
              "      <td>...</td>\n",
              "      <td>...</td>\n",
              "      <td>...</td>\n",
              "    </tr>\n",
              "    <tr>\n",
              "      <th>3391517</th>\n",
              "      <td>67</td>\n",
              "      <td>Flinders Ln -Degraves St (South)</td>\n",
              "      <td>0</td>\n",
              "      <td>2020-10-31</td>\n",
              "    </tr>\n",
              "    <tr>\n",
              "      <th>3391518</th>\n",
              "      <td>68</td>\n",
              "      <td>Flinders Ln -Degraves St (North)</td>\n",
              "      <td>0</td>\n",
              "      <td>2020-10-31</td>\n",
              "    </tr>\n",
              "    <tr>\n",
              "      <th>3391519</th>\n",
              "      <td>69</td>\n",
              "      <td>Flinders Ln -Degraves St (Crossing)</td>\n",
              "      <td>0</td>\n",
              "      <td>2020-10-31</td>\n",
              "    </tr>\n",
              "    <tr>\n",
              "      <th>3391520</th>\n",
              "      <td>70</td>\n",
              "      <td>Errol Street (East)</td>\n",
              "      <td>0</td>\n",
              "      <td>2020-10-31</td>\n",
              "    </tr>\n",
              "    <tr>\n",
              "      <th>3391521</th>\n",
              "      <td>71</td>\n",
              "      <td>Westwood Place</td>\n",
              "      <td>16</td>\n",
              "      <td>2020-10-31</td>\n",
              "    </tr>\n",
              "  </tbody>\n",
              "</table>\n",
              "<p>3391522 rows × 4 columns</p>\n",
              "</div>"
            ],
            "text/plain": [
              "         sensor_id  ...       date\n",
              "0               34  ... 2019-11-01\n",
              "1               39  ... 2019-11-01\n",
              "2               37  ... 2019-11-01\n",
              "3               40  ... 2019-11-01\n",
              "4               36  ... 2019-11-01\n",
              "...            ...  ...        ...\n",
              "3391517         67  ... 2020-10-31\n",
              "3391518         68  ... 2020-10-31\n",
              "3391519         69  ... 2020-10-31\n",
              "3391520         70  ... 2020-10-31\n",
              "3391521         71  ... 2020-10-31\n",
              "\n",
              "[3391522 rows x 4 columns]"
            ]
          },
          "metadata": {
            "tags": []
          },
          "execution_count": 8
        }
      ]
    },
    {
      "cell_type": "code",
      "metadata": {
        "colab": {
          "base_uri": "https://localhost:8080/"
        },
        "id": "C1bMu0NImwDG",
        "outputId": "da21a349-148b-4570-8deb-9093c49dd436"
      },
      "source": [
        "#Examining the features after data type conversion\n",
        "results_df.dtypes"
      ],
      "execution_count": 9,
      "outputs": [
        {
          "output_type": "execute_result",
          "data": {
            "text/plain": [
              "sensor_id                 int64\n",
              "sensor_name              object\n",
              "hourly_counts             int64\n",
              "date             datetime64[ns]\n",
              "dtype: object"
            ]
          },
          "metadata": {
            "tags": []
          },
          "execution_count": 9
        }
      ]
    },
    {
      "cell_type": "code",
      "metadata": {
        "id": "CrR-Tfy2YbV1"
      },
      "source": [
        "#extracting data from 2015 till date\n",
        "results_df = results_df[results_df['date'] > '2014-12-31']"
      ],
      "execution_count": 10,
      "outputs": []
    },
    {
      "cell_type": "code",
      "metadata": {
        "colab": {
          "base_uri": "https://localhost:8080/",
          "height": 399
        },
        "id": "4rU9RP-sw4jL",
        "outputId": "875275bc-b5ab-4430-8c3a-a5e90a3461a7"
      },
      "source": [
        "results_df"
      ],
      "execution_count": 11,
      "outputs": [
        {
          "output_type": "execute_result",
          "data": {
            "text/html": [
              "<div>\n",
              "<style scoped>\n",
              "    .dataframe tbody tr th:only-of-type {\n",
              "        vertical-align: middle;\n",
              "    }\n",
              "\n",
              "    .dataframe tbody tr th {\n",
              "        vertical-align: top;\n",
              "    }\n",
              "\n",
              "    .dataframe thead th {\n",
              "        text-align: right;\n",
              "    }\n",
              "</style>\n",
              "<table border=\"1\" class=\"dataframe\">\n",
              "  <thead>\n",
              "    <tr style=\"text-align: right;\">\n",
              "      <th></th>\n",
              "      <th>sensor_id</th>\n",
              "      <th>sensor_name</th>\n",
              "      <th>hourly_counts</th>\n",
              "      <th>date</th>\n",
              "    </tr>\n",
              "  </thead>\n",
              "  <tbody>\n",
              "    <tr>\n",
              "      <th>0</th>\n",
              "      <td>34</td>\n",
              "      <td>Flinders St-Spark La</td>\n",
              "      <td>300</td>\n",
              "      <td>2019-11-01</td>\n",
              "    </tr>\n",
              "    <tr>\n",
              "      <th>1</th>\n",
              "      <td>39</td>\n",
              "      <td>Alfred Place</td>\n",
              "      <td>604</td>\n",
              "      <td>2019-11-01</td>\n",
              "    </tr>\n",
              "    <tr>\n",
              "      <th>2</th>\n",
              "      <td>37</td>\n",
              "      <td>Lygon St (East)</td>\n",
              "      <td>216</td>\n",
              "      <td>2019-11-01</td>\n",
              "    </tr>\n",
              "    <tr>\n",
              "      <th>3</th>\n",
              "      <td>40</td>\n",
              "      <td>Lonsdale St-Spring St (West)</td>\n",
              "      <td>627</td>\n",
              "      <td>2019-11-01</td>\n",
              "    </tr>\n",
              "    <tr>\n",
              "      <th>4</th>\n",
              "      <td>36</td>\n",
              "      <td>Queen St (West)</td>\n",
              "      <td>774</td>\n",
              "      <td>2019-11-01</td>\n",
              "    </tr>\n",
              "    <tr>\n",
              "      <th>...</th>\n",
              "      <td>...</td>\n",
              "      <td>...</td>\n",
              "      <td>...</td>\n",
              "      <td>...</td>\n",
              "    </tr>\n",
              "    <tr>\n",
              "      <th>3391517</th>\n",
              "      <td>67</td>\n",
              "      <td>Flinders Ln -Degraves St (South)</td>\n",
              "      <td>0</td>\n",
              "      <td>2020-10-31</td>\n",
              "    </tr>\n",
              "    <tr>\n",
              "      <th>3391518</th>\n",
              "      <td>68</td>\n",
              "      <td>Flinders Ln -Degraves St (North)</td>\n",
              "      <td>0</td>\n",
              "      <td>2020-10-31</td>\n",
              "    </tr>\n",
              "    <tr>\n",
              "      <th>3391519</th>\n",
              "      <td>69</td>\n",
              "      <td>Flinders Ln -Degraves St (Crossing)</td>\n",
              "      <td>0</td>\n",
              "      <td>2020-10-31</td>\n",
              "    </tr>\n",
              "    <tr>\n",
              "      <th>3391520</th>\n",
              "      <td>70</td>\n",
              "      <td>Errol Street (East)</td>\n",
              "      <td>0</td>\n",
              "      <td>2020-10-31</td>\n",
              "    </tr>\n",
              "    <tr>\n",
              "      <th>3391521</th>\n",
              "      <td>71</td>\n",
              "      <td>Westwood Place</td>\n",
              "      <td>16</td>\n",
              "      <td>2020-10-31</td>\n",
              "    </tr>\n",
              "  </tbody>\n",
              "</table>\n",
              "<p>2367574 rows × 4 columns</p>\n",
              "</div>"
            ],
            "text/plain": [
              "         sensor_id  ...       date\n",
              "0               34  ... 2019-11-01\n",
              "1               39  ... 2019-11-01\n",
              "2               37  ... 2019-11-01\n",
              "3               40  ... 2019-11-01\n",
              "4               36  ... 2019-11-01\n",
              "...            ...  ...        ...\n",
              "3391517         67  ... 2020-10-31\n",
              "3391518         68  ... 2020-10-31\n",
              "3391519         69  ... 2020-10-31\n",
              "3391520         70  ... 2020-10-31\n",
              "3391521         71  ... 2020-10-31\n",
              "\n",
              "[2367574 rows x 4 columns]"
            ]
          },
          "metadata": {
            "tags": []
          },
          "execution_count": 11
        }
      ]
    },
    {
      "cell_type": "code",
      "metadata": {
        "colab": {
          "base_uri": "https://localhost:8080/",
          "height": 399
        },
        "id": "Aw_DYevvllqD",
        "outputId": "78eb3cba-f22d-4191-a967-68f0aa8c6fd4"
      },
      "source": [
        "#Aggregating hourly pedestrian count for each by sensor-id\n",
        "new_results_df = pd.DataFrame(results_df.groupby(['date', 'sensor_id'])['hourly_counts'].sum())\n",
        "new_results_df = new_results_df.reset_index()\n",
        "new_results_df"
      ],
      "execution_count": 12,
      "outputs": [
        {
          "output_type": "execute_result",
          "data": {
            "text/html": [
              "<div>\n",
              "<style scoped>\n",
              "    .dataframe tbody tr th:only-of-type {\n",
              "        vertical-align: middle;\n",
              "    }\n",
              "\n",
              "    .dataframe tbody tr th {\n",
              "        vertical-align: top;\n",
              "    }\n",
              "\n",
              "    .dataframe thead th {\n",
              "        text-align: right;\n",
              "    }\n",
              "</style>\n",
              "<table border=\"1\" class=\"dataframe\">\n",
              "  <thead>\n",
              "    <tr style=\"text-align: right;\">\n",
              "      <th></th>\n",
              "      <th>date</th>\n",
              "      <th>sensor_id</th>\n",
              "      <th>hourly_counts</th>\n",
              "    </tr>\n",
              "  </thead>\n",
              "  <tbody>\n",
              "    <tr>\n",
              "      <th>0</th>\n",
              "      <td>2015-01-01</td>\n",
              "      <td>2</td>\n",
              "      <td>21217</td>\n",
              "    </tr>\n",
              "    <tr>\n",
              "      <th>1</th>\n",
              "      <td>2015-01-01</td>\n",
              "      <td>3</td>\n",
              "      <td>32695</td>\n",
              "    </tr>\n",
              "    <tr>\n",
              "      <th>2</th>\n",
              "      <td>2015-01-01</td>\n",
              "      <td>4</td>\n",
              "      <td>36958</td>\n",
              "    </tr>\n",
              "    <tr>\n",
              "      <th>3</th>\n",
              "      <td>2015-01-01</td>\n",
              "      <td>5</td>\n",
              "      <td>31224</td>\n",
              "    </tr>\n",
              "    <tr>\n",
              "      <th>4</th>\n",
              "      <td>2015-01-01</td>\n",
              "      <td>6</td>\n",
              "      <td>20457</td>\n",
              "    </tr>\n",
              "    <tr>\n",
              "      <th>...</th>\n",
              "      <td>...</td>\n",
              "      <td>...</td>\n",
              "      <td>...</td>\n",
              "    </tr>\n",
              "    <tr>\n",
              "      <th>98662</th>\n",
              "      <td>2020-10-31</td>\n",
              "      <td>67</td>\n",
              "      <td>4718</td>\n",
              "    </tr>\n",
              "    <tr>\n",
              "      <th>98663</th>\n",
              "      <td>2020-10-31</td>\n",
              "      <td>68</td>\n",
              "      <td>2447</td>\n",
              "    </tr>\n",
              "    <tr>\n",
              "      <th>98664</th>\n",
              "      <td>2020-10-31</td>\n",
              "      <td>69</td>\n",
              "      <td>3428</td>\n",
              "    </tr>\n",
              "    <tr>\n",
              "      <th>98665</th>\n",
              "      <td>2020-10-31</td>\n",
              "      <td>70</td>\n",
              "      <td>3035</td>\n",
              "    </tr>\n",
              "    <tr>\n",
              "      <th>98666</th>\n",
              "      <td>2020-10-31</td>\n",
              "      <td>71</td>\n",
              "      <td>358</td>\n",
              "    </tr>\n",
              "  </tbody>\n",
              "</table>\n",
              "<p>98667 rows × 3 columns</p>\n",
              "</div>"
            ],
            "text/plain": [
              "            date  sensor_id  hourly_counts\n",
              "0     2015-01-01          2          21217\n",
              "1     2015-01-01          3          32695\n",
              "2     2015-01-01          4          36958\n",
              "3     2015-01-01          5          31224\n",
              "4     2015-01-01          6          20457\n",
              "...          ...        ...            ...\n",
              "98662 2020-10-31         67           4718\n",
              "98663 2020-10-31         68           2447\n",
              "98664 2020-10-31         69           3428\n",
              "98665 2020-10-31         70           3035\n",
              "98666 2020-10-31         71            358\n",
              "\n",
              "[98667 rows x 3 columns]"
            ]
          },
          "metadata": {
            "tags": []
          },
          "execution_count": 12
        }
      ]
    },
    {
      "cell_type": "code",
      "metadata": {
        "id": "ccso3QE-Wt7P",
        "colab": {
          "base_uri": "https://localhost:8080/",
          "height": 399
        },
        "outputId": "96528b50-7d64-44d6-b196-aa4a07f110b7"
      },
      "source": [
        "#renaming the hourly_count column\n",
        "new_results_df = new_results_df.rename(columns={\"hourly_counts\": \"Total_Pedestrian_Count\"})\n",
        "new_results_df"
      ],
      "execution_count": 13,
      "outputs": [
        {
          "output_type": "execute_result",
          "data": {
            "text/html": [
              "<div>\n",
              "<style scoped>\n",
              "    .dataframe tbody tr th:only-of-type {\n",
              "        vertical-align: middle;\n",
              "    }\n",
              "\n",
              "    .dataframe tbody tr th {\n",
              "        vertical-align: top;\n",
              "    }\n",
              "\n",
              "    .dataframe thead th {\n",
              "        text-align: right;\n",
              "    }\n",
              "</style>\n",
              "<table border=\"1\" class=\"dataframe\">\n",
              "  <thead>\n",
              "    <tr style=\"text-align: right;\">\n",
              "      <th></th>\n",
              "      <th>date</th>\n",
              "      <th>sensor_id</th>\n",
              "      <th>Total_Pedestrian_Count</th>\n",
              "    </tr>\n",
              "  </thead>\n",
              "  <tbody>\n",
              "    <tr>\n",
              "      <th>0</th>\n",
              "      <td>2015-01-01</td>\n",
              "      <td>2</td>\n",
              "      <td>21217</td>\n",
              "    </tr>\n",
              "    <tr>\n",
              "      <th>1</th>\n",
              "      <td>2015-01-01</td>\n",
              "      <td>3</td>\n",
              "      <td>32695</td>\n",
              "    </tr>\n",
              "    <tr>\n",
              "      <th>2</th>\n",
              "      <td>2015-01-01</td>\n",
              "      <td>4</td>\n",
              "      <td>36958</td>\n",
              "    </tr>\n",
              "    <tr>\n",
              "      <th>3</th>\n",
              "      <td>2015-01-01</td>\n",
              "      <td>5</td>\n",
              "      <td>31224</td>\n",
              "    </tr>\n",
              "    <tr>\n",
              "      <th>4</th>\n",
              "      <td>2015-01-01</td>\n",
              "      <td>6</td>\n",
              "      <td>20457</td>\n",
              "    </tr>\n",
              "    <tr>\n",
              "      <th>...</th>\n",
              "      <td>...</td>\n",
              "      <td>...</td>\n",
              "      <td>...</td>\n",
              "    </tr>\n",
              "    <tr>\n",
              "      <th>98662</th>\n",
              "      <td>2020-10-31</td>\n",
              "      <td>67</td>\n",
              "      <td>4718</td>\n",
              "    </tr>\n",
              "    <tr>\n",
              "      <th>98663</th>\n",
              "      <td>2020-10-31</td>\n",
              "      <td>68</td>\n",
              "      <td>2447</td>\n",
              "    </tr>\n",
              "    <tr>\n",
              "      <th>98664</th>\n",
              "      <td>2020-10-31</td>\n",
              "      <td>69</td>\n",
              "      <td>3428</td>\n",
              "    </tr>\n",
              "    <tr>\n",
              "      <th>98665</th>\n",
              "      <td>2020-10-31</td>\n",
              "      <td>70</td>\n",
              "      <td>3035</td>\n",
              "    </tr>\n",
              "    <tr>\n",
              "      <th>98666</th>\n",
              "      <td>2020-10-31</td>\n",
              "      <td>71</td>\n",
              "      <td>358</td>\n",
              "    </tr>\n",
              "  </tbody>\n",
              "</table>\n",
              "<p>98667 rows × 3 columns</p>\n",
              "</div>"
            ],
            "text/plain": [
              "            date  sensor_id  Total_Pedestrian_Count\n",
              "0     2015-01-01          2                   21217\n",
              "1     2015-01-01          3                   32695\n",
              "2     2015-01-01          4                   36958\n",
              "3     2015-01-01          5                   31224\n",
              "4     2015-01-01          6                   20457\n",
              "...          ...        ...                     ...\n",
              "98662 2020-10-31         67                    4718\n",
              "98663 2020-10-31         68                    2447\n",
              "98664 2020-10-31         69                    3428\n",
              "98665 2020-10-31         70                    3035\n",
              "98666 2020-10-31         71                     358\n",
              "\n",
              "[98667 rows x 3 columns]"
            ]
          },
          "metadata": {
            "tags": []
          },
          "execution_count": 13
        }
      ]
    },
    {
      "cell_type": "code",
      "metadata": {
        "id": "G_bS1vWP6zSQ"
      },
      "source": [
        "#Importing the dataset containing status, location and directional information for each pedestrian sensor device installed throughout the city using the API.\n",
        "results2 = client.get(\"h57g-5234\", limit=2000)\n",
        "results_df2 = pd.DataFrame.from_records(results2)"
      ],
      "execution_count": 15,
      "outputs": []
    },
    {
      "cell_type": "code",
      "metadata": {
        "id": "DrotsxKL7c7l"
      },
      "source": [
        "#Converting 'sensor_id' and 'hourly_counts' features from object datatypes to int\n",
        "results_df2['sensor_id'] = results_df2['sensor_id'].astype('int')\n",
        "results_df2[['latitude','longitude']] = results_df2[['latitude','longitude']].astype('float')"
      ],
      "execution_count": 17,
      "outputs": []
    },
    {
      "cell_type": "code",
      "metadata": {
        "id": "h059f7WF7qTG"
      },
      "source": [
        "#Examining the features after data type conversion\n",
        "results_df2 = pd.DataFrame.from_records(results2)"
      ],
      "execution_count": null,
      "outputs": []
    },
    {
      "cell_type": "code",
      "metadata": {
        "id": "Owy1hI-j9IHc"
      },
      "source": [
        "#Merging the datasets on sensor_id\n",
        "merged_dataset = new_results_df.set_index('sensor_id').join(results_df2.set_index('sensor_id'))[['date','sensor_description','latitude','longitude','Total_Pedestrian_Count']]"
      ],
      "execution_count": 22,
      "outputs": []
    },
    {
      "cell_type": "code",
      "metadata": {
        "colab": {
          "base_uri": "https://localhost:8080/",
          "height": 428
        },
        "id": "o_YHvTS39hv7",
        "outputId": "3713472c-8d98-4f70-e77c-2d9a502c98a2"
      },
      "source": [
        "#Validating the dataset\n",
        "merged_dataset"
      ],
      "execution_count": 23,
      "outputs": [
        {
          "output_type": "execute_result",
          "data": {
            "text/html": [
              "<div>\n",
              "<style scoped>\n",
              "    .dataframe tbody tr th:only-of-type {\n",
              "        vertical-align: middle;\n",
              "    }\n",
              "\n",
              "    .dataframe tbody tr th {\n",
              "        vertical-align: top;\n",
              "    }\n",
              "\n",
              "    .dataframe thead th {\n",
              "        text-align: right;\n",
              "    }\n",
              "</style>\n",
              "<table border=\"1\" class=\"dataframe\">\n",
              "  <thead>\n",
              "    <tr style=\"text-align: right;\">\n",
              "      <th></th>\n",
              "      <th>date</th>\n",
              "      <th>sensor_description</th>\n",
              "      <th>latitude</th>\n",
              "      <th>longitude</th>\n",
              "      <th>Total_Pedestrian_Count</th>\n",
              "    </tr>\n",
              "    <tr>\n",
              "      <th>sensor_id</th>\n",
              "      <th></th>\n",
              "      <th></th>\n",
              "      <th></th>\n",
              "      <th></th>\n",
              "      <th></th>\n",
              "    </tr>\n",
              "  </thead>\n",
              "  <tbody>\n",
              "    <tr>\n",
              "      <th>1</th>\n",
              "      <td>2015-02-17</td>\n",
              "      <td>Bourke Street Mall (North)</td>\n",
              "      <td>-37.813494</td>\n",
              "      <td>144.965153</td>\n",
              "      <td>23306</td>\n",
              "    </tr>\n",
              "    <tr>\n",
              "      <th>1</th>\n",
              "      <td>2015-02-18</td>\n",
              "      <td>Bourke Street Mall (North)</td>\n",
              "      <td>-37.813494</td>\n",
              "      <td>144.965153</td>\n",
              "      <td>25683</td>\n",
              "    </tr>\n",
              "    <tr>\n",
              "      <th>1</th>\n",
              "      <td>2015-02-19</td>\n",
              "      <td>Bourke Street Mall (North)</td>\n",
              "      <td>-37.813494</td>\n",
              "      <td>144.965153</td>\n",
              "      <td>29870</td>\n",
              "    </tr>\n",
              "    <tr>\n",
              "      <th>1</th>\n",
              "      <td>2015-02-20</td>\n",
              "      <td>Bourke Street Mall (North)</td>\n",
              "      <td>-37.813494</td>\n",
              "      <td>144.965153</td>\n",
              "      <td>33726</td>\n",
              "    </tr>\n",
              "    <tr>\n",
              "      <th>1</th>\n",
              "      <td>2015-02-21</td>\n",
              "      <td>Bourke Street Mall (North)</td>\n",
              "      <td>-37.813494</td>\n",
              "      <td>144.965153</td>\n",
              "      <td>36076</td>\n",
              "    </tr>\n",
              "    <tr>\n",
              "      <th>...</th>\n",
              "      <td>...</td>\n",
              "      <td>...</td>\n",
              "      <td>...</td>\n",
              "      <td>...</td>\n",
              "      <td>...</td>\n",
              "    </tr>\n",
              "    <tr>\n",
              "      <th>71</th>\n",
              "      <td>2020-10-27</td>\n",
              "      <td>Westwood Place</td>\n",
              "      <td>-37.812358</td>\n",
              "      <td>144.971370</td>\n",
              "      <td>493</td>\n",
              "    </tr>\n",
              "    <tr>\n",
              "      <th>71</th>\n",
              "      <td>2020-10-28</td>\n",
              "      <td>Westwood Place</td>\n",
              "      <td>-37.812358</td>\n",
              "      <td>144.971370</td>\n",
              "      <td>657</td>\n",
              "    </tr>\n",
              "    <tr>\n",
              "      <th>71</th>\n",
              "      <td>2020-10-29</td>\n",
              "      <td>Westwood Place</td>\n",
              "      <td>-37.812358</td>\n",
              "      <td>144.971370</td>\n",
              "      <td>387</td>\n",
              "    </tr>\n",
              "    <tr>\n",
              "      <th>71</th>\n",
              "      <td>2020-10-30</td>\n",
              "      <td>Westwood Place</td>\n",
              "      <td>-37.812358</td>\n",
              "      <td>144.971370</td>\n",
              "      <td>443</td>\n",
              "    </tr>\n",
              "    <tr>\n",
              "      <th>71</th>\n",
              "      <td>2020-10-31</td>\n",
              "      <td>Westwood Place</td>\n",
              "      <td>-37.812358</td>\n",
              "      <td>144.971370</td>\n",
              "      <td>358</td>\n",
              "    </tr>\n",
              "  </tbody>\n",
              "</table>\n",
              "<p>98667 rows × 5 columns</p>\n",
              "</div>"
            ],
            "text/plain": [
              "                date  ... Total_Pedestrian_Count\n",
              "sensor_id             ...                       \n",
              "1         2015-02-17  ...                  23306\n",
              "1         2015-02-18  ...                  25683\n",
              "1         2015-02-19  ...                  29870\n",
              "1         2015-02-20  ...                  33726\n",
              "1         2015-02-21  ...                  36076\n",
              "...              ...  ...                    ...\n",
              "71        2020-10-27  ...                    493\n",
              "71        2020-10-28  ...                    657\n",
              "71        2020-10-29  ...                    387\n",
              "71        2020-10-30  ...                    443\n",
              "71        2020-10-31  ...                    358\n",
              "\n",
              "[98667 rows x 5 columns]"
            ]
          },
          "metadata": {
            "tags": []
          },
          "execution_count": 23
        }
      ]
    },
    {
      "cell_type": "code",
      "metadata": {
        "id": "u0MaOxZU9tTr"
      },
      "source": [
        "#Adding the day variable using the date\n",
        "merged_dataset['day'] = merged_dataset.date.dt.day_name()"
      ],
      "execution_count": 47,
      "outputs": []
    },
    {
      "cell_type": "code",
      "metadata": {
        "colab": {
          "base_uri": "https://localhost:8080/",
          "height": 643
        },
        "id": "uc_9WPueAXnz",
        "outputId": "c07552f5-9da4-4047-866f-b8433e14a63a"
      },
      "source": [
        "#Visualizing recorded observations based on sensor_ID\n",
        "z = merged_dataset.index.value_counts().plot(kind = 'bar', figsize = (20,10))\n",
        "z.set_xlabel(\"Sensor_ID\")\n",
        "z.set_ylabel(\"Frequency of observations\")\n",
        "z.set_title(\"Recorded observations based on each Sensor_ID\")\n",
        "\n",
        "z.plot()"
      ],
      "execution_count": 73,
      "outputs": [
        {
          "output_type": "execute_result",
          "data": {
            "text/plain": [
              "[]"
            ]
          },
          "metadata": {
            "tags": []
          },
          "execution_count": 73
        },
        {
          "output_type": "display_data",
          "data": {
            "image/png": "[encoded data removed]",
            "text/plain": [
              "<Figure size 1440x720 with 1 Axes>"
            ]
          },
          "metadata": {
            "tags": [],
            "needs_background": "light"
          }
        }
      ]
    },
    {
      "cell_type": "code",
      "metadata": {
        "id": "gJbY5AHKDWCI"
      },
      "source": [
        ""
      ],
      "execution_count": null,
      "outputs": []
    }
  ]
}