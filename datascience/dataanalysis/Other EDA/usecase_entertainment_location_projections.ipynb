{
 "cells": [
  {
   "cell_type": "markdown",
   "id": "239a2761",
   "metadata": {},
   "source": [
    "<p style=\"font-family: helvetica,arial,sans-serif; font-size:1.8em;color:white; background-color: black; height:28px; \">&emsp;<b>Entertainment Location Projections</b></p>\n",
    "    \n",
    "<p style=\"font-family: helvetica,arial,sans-serif; font-size:1.6em;color:black; background-color: #DDDDDD; \">&emsp;<b>Authored by: </b>Barkha Javed, Rikky Kincaid</p>"
   ]
  },
  {
   "cell_type": "markdown",
   "id": "1546cdd5",
   "metadata": {},
   "source": [
    "<p style=\"font-family: helvetica,arial,sans-serif; font-size:1.6em;color:white; background-color: black; text-align:right\">\n",
    "<b>Duration:</b> 60 mins&emsp;</p>\n",
    "\n",
    "<p style=\"font-family: helvetica,arial,sans-serif; font-size:1.6em;color:black; background-color: #DDDDDD;\">&emsp;<b>Level:</b>Beginner&emsp;&emsp;&emsp;&emsp;&emsp;&emsp;&emsp;&emsp;<b>Pre-requisite Skills:</b>Python</p>"
   ]
  },
  {
   "cell_type": "markdown",
   "id": "48e38b9f",
   "metadata": {},
   "source": [
    "<p style=\"font-family: helvetica,arial,sans-serif; font-size:1.6em;color:white; background-color: black\">&emsp;<b>Scenario</b>"
   ]
  },
  {
   "cell_type": "markdown",
   "id": "b4594692",
   "metadata": {},
   "source": [
    "**As a council worker, I want to visualise and provide statistics on upcoming activities and planned works in entertainment and leisure, so that I can understand impact for my local area.**\n",
    "\n"
   ]
  },
  {
   "cell_type": "markdown",
   "id": "032867bd",
   "metadata": {},
   "source": [
    "<p style=\"font-family: helvetica,arial,sans-serif; font-size:1.6em;color:white; background-color: black\">&emsp;<b>What this Use Case will teach you</b>"
   ]
  },
  {
   "cell_type": "markdown",
   "id": "e1519038",
   "metadata": {},
   "source": [
    "At the end of this use case you will understand what ientertainment and leisure activities are happening in a local area\n",
    "\n",
    "This means learning how to:\n",
    "\n",
    "* Load and examine data on seating capacity of cafes, restaurants and pubs\n",
    "* Load and examine data on venues for event bookings\n",
    "* Load and examine data for city activities and planned works\n"
   ]
  },
  {
   "cell_type": "markdown",
   "id": "a78f533b",
   "metadata": {},
   "source": [
    "<p style=\"font-family: helvetica,arial,sans-serif; font-size:1.6em;color:white; background-color: black\">&emsp;<b>A brief introduction to the datasets used</b>"
   ]
  },
  {
   "cell_type": "markdown",
   "id": "4dff92db",
   "metadata": {},
   "source": [
    "Need to add descriptions - @Rikky to add more information about the datasets used - links to the datasets are under References, please read and add details\n",
    "\n",
    "#### Census of Land Use and Employment (CLUE) \n",
    "The City of Melbourne conducts a census of all local businesses every two years. The last published survey was in 2020, the next survey results are expected soon.\n",
    "\n",
    "The CLUE datasets to use include:\n",
    "* Bar, tavern, pub patron capacity\n",
    "* Cafe, restaurant, bistro seats \n",
    "\n",
    "#### City Activities and Planned Works\n",
    "* Geospatial events data, includes types such as traffic management, sport and recreation, reserved parking, public and  private events\n",
    "\n",
    "\n",
    "#### Development Activity Model Footprints\n",
    "\n",
    "Potentially - what is different in this to above"
   ]
  },
  {
   "cell_type": "markdown",
   "id": "ac3b46be",
   "metadata": {},
   "source": [
    "<p style=\"font-family: helvetica,arial,sans-serif; font-size:1.6em;color:white; background-color: black\">&emsp;<b>Accessing and Loading data</b>"
   ]
  },
  {
   "cell_type": "code",
   "execution_count": 2,
   "id": "f9ffc328",
   "metadata": {},
   "outputs": [],
   "source": [
    "#Libraries to be installed\n",
    "##!pip -q is to give less output\n",
    "!pip -q install sodapy\n",
    "!pip -q install seaborn\n",
    "!pip -q install pandas\n",
    "!pip -q install matplotlib\n",
    "!pip -q install numpy\n",
    "!pip -q install nbconvert\n",
    "!pip -q install keyboard\n",
    "!pip -q install geopandas\n",
    "!pip -q install requests"
   ]
  },
  {
   "cell_type": "code",
   "execution_count": 3,
   "id": "de0186b2",
   "metadata": {},
   "outputs": [],
   "source": [
    "#load libraries\n",
    "import os\n",
    "import io\n",
    "import time\n",
    "import keyboard\n",
    "import warnings\n",
    "warnings.filterwarnings('ignore')\n",
    "from datetime import datetime\n",
    "import requests\n",
    "\n",
    "import numpy as np\n",
    "import pandas as pd\n",
    "from sodapy import Socrata\n",
    "\n",
    "from IPython.core.display import display, HTML\n",
    "import geopandas as gpd\n",
    "\n",
    "import plotly.express as px\n",
    "import seaborn as sns\n",
    "import matplotlib.pyplot as plt\n",
    "%matplotlib inline\n",
    "from matplotlib import style\n",
    "style.use('ggplot')\n",
    "\n",
    "#Socrata client connection\n",
    "client = Socrata('data.melbourne.vic.gov.au', '9UAGAvkem9fqXDhBLElapjazL', None)\n"
   ]
  },
  {
   "cell_type": "markdown",
   "id": "0872bcce",
   "metadata": {},
   "source": [
    "### Load geospatial Event data"
   ]
  },
  {
   "cell_type": "code",
   "execution_count": 14,
   "id": "f847da05",
   "metadata": {},
   "outputs": [
    {
     "data": {
      "text/html": [
       "<div>\n",
       "<style scoped>\n",
       "    .dataframe tbody tr th:only-of-type {\n",
       "        vertical-align: middle;\n",
       "    }\n",
       "\n",
       "    .dataframe tbody tr th {\n",
       "        vertical-align: top;\n",
       "    }\n",
       "\n",
       "    .dataframe thead th {\n",
       "        text-align: right;\n",
       "    }\n",
       "</style>\n",
       "<table border=\"1\" class=\"dataframe\">\n",
       "  <thead>\n",
       "    <tr style=\"text-align: right;\">\n",
       "      <th></th>\n",
       "      <th>start_date</th>\n",
       "      <th>location</th>\n",
       "      <th>activity_id</th>\n",
       "      <th>end_date</th>\n",
       "      <th>status</th>\n",
       "      <th>source_id</th>\n",
       "      <th>notes</th>\n",
       "      <th>classification</th>\n",
       "      <th>small_area</th>\n",
       "      <th>geometry</th>\n",
       "    </tr>\n",
       "  </thead>\n",
       "  <tbody>\n",
       "    <tr>\n",
       "      <th>0</th>\n",
       "      <td>2022-04-25T00:00:00</td>\n",
       "      <td>17-23 Wills StreetMELBOURNE VIC 3000</td>\n",
       "      <td>SS-1076969-0-110168-ECW-Consent Extended-25042...</td>\n",
       "      <td>2022-06-05T00:00:00</td>\n",
       "      <td>Confirmed</td>\n",
       "      <td>ECW-2021-334</td>\n",
       "      <td>ePathway Consent for works</td>\n",
       "      <td>Structures</td>\n",
       "      <td>Melbourne (CBD)</td>\n",
       "      <td>MULTIPOLYGON (((144.95675 -37.81092, 144.95682...</td>\n",
       "    </tr>\n",
       "    <tr>\n",
       "      <th>1</th>\n",
       "      <td>2022-01-01T00:00:00</td>\n",
       "      <td>Therry Street between Victoria Street and Eliz...</td>\n",
       "      <td>WO-728357-1554230-1554230-61-Closed-0101202200...</td>\n",
       "      <td>2022-06-30T00:00:00</td>\n",
       "      <td>CONFIRMED</td>\n",
       "      <td>728357</td>\n",
       "      <td>-</td>\n",
       "      <td>Traffic Management</td>\n",
       "      <td>Melbourne (CBD)</td>\n",
       "      <td>MULTIPOLYGON (((144.96154 -37.80669, 144.96155...</td>\n",
       "    </tr>\n",
       "    <tr>\n",
       "      <th>2</th>\n",
       "      <td>2022-05-15T00:00:00</td>\n",
       "      <td>Canning Street between Dryburgh Street and Shi...</td>\n",
       "      <td>RP-59095-193964-21212-COU-Confirmed-1505202200...</td>\n",
       "      <td>2022-05-15T00:00:00</td>\n",
       "      <td>CONFIRMED</td>\n",
       "      <td>33104</td>\n",
       "      <td>None</td>\n",
       "      <td>Reserved Parking</td>\n",
       "      <td>North Melbourne</td>\n",
       "      <td>MULTIPOLYGON (((144.94331 -37.79619, 144.94434...</td>\n",
       "    </tr>\n",
       "    <tr>\n",
       "      <th>3</th>\n",
       "      <td>2022-05-07T00:00:00</td>\n",
       "      <td>111-149 Nicholson StreetCARLTON VIC 3053</td>\n",
       "      <td>SS-1102147-0-107153-ECW-Consent Extended-07052...</td>\n",
       "      <td>2022-06-02T00:00:00</td>\n",
       "      <td>Confirmed</td>\n",
       "      <td>ECW-2022-24</td>\n",
       "      <td>ePathway Consent for works</td>\n",
       "      <td>Structures</td>\n",
       "      <td>Carlton</td>\n",
       "      <td>MULTIPOLYGON (((144.97414 -37.79680, 144.97405...</td>\n",
       "    </tr>\n",
       "    <tr>\n",
       "      <th>4</th>\n",
       "      <td>2022-03-31T00:00:00</td>\n",
       "      <td>24-30 Barkly PlaceCARLTON VIC 3053</td>\n",
       "      <td>SS-1108795-0-100732-EHD-Permit Issued-31032022...</td>\n",
       "      <td>2022-07-30T00:00:00</td>\n",
       "      <td>CONFIRMED</td>\n",
       "      <td>EHD-2021-89/1</td>\n",
       "      <td>Hoarding</td>\n",
       "      <td>Structures</td>\n",
       "      <td>Carlton</td>\n",
       "      <td>MULTIPOLYGON (((144.96157 -37.80292, 144.96137...</td>\n",
       "    </tr>\n",
       "  </tbody>\n",
       "</table>\n",
       "</div>"
      ],
      "text/plain": [
       "            start_date                                           location  \\\n",
       "0  2022-04-25T00:00:00               17-23 Wills StreetMELBOURNE VIC 3000   \n",
       "1  2022-01-01T00:00:00  Therry Street between Victoria Street and Eliz...   \n",
       "2  2022-05-15T00:00:00  Canning Street between Dryburgh Street and Shi...   \n",
       "3  2022-05-07T00:00:00           111-149 Nicholson StreetCARLTON VIC 3053   \n",
       "4  2022-03-31T00:00:00                 24-30 Barkly PlaceCARLTON VIC 3053   \n",
       "\n",
       "                                         activity_id             end_date  \\\n",
       "0  SS-1076969-0-110168-ECW-Consent Extended-25042...  2022-06-05T00:00:00   \n",
       "1  WO-728357-1554230-1554230-61-Closed-0101202200...  2022-06-30T00:00:00   \n",
       "2  RP-59095-193964-21212-COU-Confirmed-1505202200...  2022-05-15T00:00:00   \n",
       "3  SS-1102147-0-107153-ECW-Consent Extended-07052...  2022-06-02T00:00:00   \n",
       "4  SS-1108795-0-100732-EHD-Permit Issued-31032022...  2022-07-30T00:00:00   \n",
       "\n",
       "      status      source_id                       notes      classification  \\\n",
       "0  Confirmed   ECW-2021-334  ePathway Consent for works          Structures   \n",
       "1  CONFIRMED         728357                           -  Traffic Management   \n",
       "2  CONFIRMED          33104                        None    Reserved Parking   \n",
       "3  Confirmed    ECW-2022-24  ePathway Consent for works          Structures   \n",
       "4  CONFIRMED  EHD-2021-89/1                    Hoarding          Structures   \n",
       "\n",
       "        small_area                                           geometry  \n",
       "0  Melbourne (CBD)  MULTIPOLYGON (((144.95675 -37.81092, 144.95682...  \n",
       "1  Melbourne (CBD)  MULTIPOLYGON (((144.96154 -37.80669, 144.96155...  \n",
       "2  North Melbourne  MULTIPOLYGON (((144.94331 -37.79619, 144.94434...  \n",
       "3          Carlton  MULTIPOLYGON (((144.97414 -37.79680, 144.97405...  \n",
       "4          Carlton  MULTIPOLYGON (((144.96157 -37.80292, 144.96137...  "
      ]
     },
     "execution_count": 14,
     "metadata": {},
     "output_type": "execute_result"
    }
   ],
   "source": [
    "#Import the geospatial city activity and planned works data from the CoM repository\n",
    "activities_url=\"https://data.melbourne.vic.gov.au/api/geospatial/txcy-uafv?method=export&format=GeoJSON\"\n",
    "activities_gdf=gpd.read_file(activities_url)\n",
    "activities_gdf.head(5)"
   ]
  },
  {
   "cell_type": "markdown",
   "id": "16d45a25",
   "metadata": {},
   "source": [
    "<p style=\"font-family: helvetica,arial,sans-serif; font-size:1.6em;color:white; background-color: black\">&emsp;<b>Examine Datasets </b>"
   ]
  },
  {
   "cell_type": "markdown",
   "id": "fa012212",
   "metadata": {},
   "source": [
    "### View Activities, Events by sensor location"
   ]
  },
  {
   "cell_type": "code",
   "execution_count": null,
   "id": "e06a2bb8",
   "metadata": {},
   "outputs": [],
   "source": []
  },
  {
   "cell_type": "code",
   "execution_count": null,
   "id": "4297690b",
   "metadata": {},
   "outputs": [],
   "source": []
  },
  {
   "cell_type": "markdown",
   "id": "34b7652b",
   "metadata": {},
   "source": [
    "<p style=\"font-family: helvetica,arial,sans-serif; font-size:1.6em;color:white; background-color: black\">&emsp;<b>Examine Datasets </b>"
   ]
  },
  {
   "cell_type": "code",
   "execution_count": null,
   "id": "94b7ad63",
   "metadata": {},
   "outputs": [],
   "source": []
  },
  {
   "cell_type": "markdown",
   "id": "085d1441",
   "metadata": {},
   "source": [
    "<p style=\"font-family: helvetica,arial,sans-serif; font-size:1.6em;color:black; background-color: #EEEEEE\">&emsp;<b>Congratulations!</b>"
   ]
  },
  {
   "cell_type": "markdown",
   "id": "e5136dd8",
   "metadata": {},
   "source": [
    "\n"
   ]
  },
  {
   "cell_type": "markdown",
   "id": "9b130608",
   "metadata": {},
   "source": [
    "<p style=\"font-family: helvetica,arial,sans-serif; font-size:1.6em;color:white; background-color: black\">&emsp;<b>References</b>"
   ]
  },
  {
   "cell_type": "markdown",
   "id": "cd20afff",
   "metadata": {},
   "source": [
    "City of Melbourne Open Data Team, 2014 - 2021,'Bar, tavern, pub patron capacity 2020', City of Melbourne, date retrieved 26 Nov 2022, <https://data.melbourne.vic.gov.au/Business/Bar-tavern-pub-patron-capacity-2020/9hjf-8i2d>\n",
    "\n",
    "City of Melbourne Open Data Team, 2014 - 2021,'Cafe, restaurant, bistro seats 2020', City of Melbourne, date retrieved 26 Nov 2022, <https://data.melbourne.vic.gov.au/Business/Cafe-restaurant-bistro-seats-2020/dyqx-cfn5>\n",
    "\n",
    "City of Melbourne Open Data Team, 2014 - 2021,'City Activities and Planned Works', City of Melbourne, date retrieved 26 Nov 2022, <https://data.melbourne.vic.gov.au/Events/City-Activities-and-Planned-Works/txcy-uafv>\n"
   ]
  },
  {
   "cell_type": "code",
   "execution_count": 4,
   "id": "503e90d9",
   "metadata": {},
   "outputs": [
    {
     "name": "stderr",
     "output_type": "stream",
     "text": [
      "[NbConvertApp] Converting notebook usecase_entertainment_location_projections.ipynb to html\n",
      "[NbConvertApp] Writing 596905 bytes to usecase_entertainment_location_projections.html\n"
     ]
    }
   ],
   "source": [
    "#save notebook, required so that step to convert to html, writes latest results to file\n",
    "#adapt for other OS, this is for Windows\n",
    "keyboard.press_and_release('ctrl+s')\n",
    "\n",
    "!jupyter nbconvert  usecase_entertainment_location_projections.ipynb --to html"
   ]
  },
  {
   "cell_type": "code",
   "execution_count": null,
   "id": "a4fef292",
   "metadata": {},
   "outputs": [],
   "source": []
  }
 ],
 "metadata": {
  "kernelspec": {
   "display_name": "Python 3 (ipykernel)",
   "language": "python",
   "name": "python3"
  },
  "language_info": {
   "codemirror_mode": {
    "name": "ipython",
    "version": 3
   },
   "file_extension": ".py",
   "mimetype": "text/x-python",
   "name": "python",
   "nbconvert_exporter": "python",
   "pygments_lexer": "ipython3",
   "version": "3.8.13"
  }
 },
 "nbformat": 4,
 "nbformat_minor": 5
}
