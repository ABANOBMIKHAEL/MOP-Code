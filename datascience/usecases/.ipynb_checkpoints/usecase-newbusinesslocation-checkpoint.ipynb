{
 "cells": [
  {
   "cell_type": "code",
   "execution_count": null,
   "metadata": {},
   "outputs": [],
   "source": [
    "'''\n",
    "dataset_ids = [{'name':'Seating','dataset_id':'dyqx-cfn5', 'desc':'Café, restaurant, bistro seats'},\n",
    "               {'name':'Dwellings','dataset_id':'rm92-h5tq', 'desc':'Residential dwellings'},\n",
    "               {'name':'Employment','dataset_id':'qnju-it8g', 'desc':'Employment per CLUE industry for blocks'}]\n",
    "\n",
    "for dataset_id in dataset_ids:\n",
    "    print(dataset_id['dataset_id'])\n",
    "'''"
   ]
  },
  {
   "cell_type": "markdown",
   "metadata": {},
   "source": [
    "# MELBOURNE OPEN DATA PLAYGROUND\n",
    "# New Business Location (Cafe or Restaurant)"
   ]
  },
  {
   "cell_type": "markdown",
   "metadata": {},
   "source": [
    "## Package/Library Imports"
   ]
  },
  {
   "cell_type": "code",
   "execution_count": 1,
   "metadata": {},
   "outputs": [],
   "source": [
    "import os\n",
    "import time\n",
    "\n",
    "from datetime import datetime\n",
    "import numpy as np\n",
    "import pandas as pd\n",
    "from sodapy import Socrata\n",
    "import plotly.express as px"
   ]
  },
  {
   "cell_type": "markdown",
   "metadata": {},
   "source": [
    "## Connect to Melbourne Open Data Portal using SodaPy"
   ]
  },
  {
   "cell_type": "code",
   "execution_count": 2,
   "metadata": {},
   "outputs": [
    {
     "name": "stderr",
     "output_type": "stream",
     "text": [
      "WARNING:root:Requests made without an app_token will be subject to strict throttling limits.\n"
     ]
    }
   ],
   "source": [
    "apptoken = os.environ.get(\"SODAPY_APPTOKEN\") # Anonymous app token\n",
    "domain = \"data.melbourne.vic.gov.au\"\n",
    "client = Socrata(domain, apptoken) # Open Dataset connection"
   ]
  },
  {
   "cell_type": "markdown",
   "metadata": {},
   "source": [
    "## Review Venue Seating Data"
   ]
  },
  {
   "cell_type": "code",
   "execution_count": null,
   "metadata": {},
   "outputs": [],
   "source": [
    "dataresource = client.get_all('dyqx-cfn5')\n",
    "dataset = pd.DataFrame.from_dict(dataresource)\n",
    "print(f'The shape of dataset is {dataset.shape}.')\n",
    "print('Below are the first 3 rows of this dataset:')\n",
    "dataset.head(3).T"
   ]
  },
  {
   "cell_type": "markdown",
   "metadata": {},
   "source": [
    "## Calculate Venue Seating by Location"
   ]
  },
  {
   "cell_type": "code",
   "execution_count": null,
   "metadata": {},
   "outputs": [],
   "source": [
    "#######################################################\n",
    "# Cast datatypes to enable aggregation\n",
    "integer_columns = ['census_year', 'block_id', 'property_id', 'base_property_id', 'industry_anzsic4_code', 'number_of_seats']\n",
    "fp_columns = ['x_coordinate', 'y_coordinate']\n",
    "\n",
    "dataset[integer_columns] = dataset[integer_columns].astype(int)\n",
    "dataset[fp_columns] = dataset[fp_columns].astype(float)\n",
    "dataset = dataset.convert_dtypes() # convert remaining to string\n",
    "\n",
    "#######################################################\n",
    "# Aggregate data\n",
    "groupbyfields = ['clue_small_area','block_id','y_coordinate','x_coordinate']\n",
    "aggregatebyfields = {'number_of_seats': [\"sum\"]}\n",
    "\n",
    "seatsByLocn = pd.DataFrame(dataset.groupby(groupbyfields, as_index=False).agg(aggregatebyfields))\n",
    "seatsByLocn.columns = seatsByLocn.columns.map(''.join) # flatten column header\n",
    "seatsByLocn.rename(columns={'clue_small_area': 'clue_area'}, inplace=True) #rename to match GeoJSON extract\n",
    "seatsByLocn.rename(columns={'number_of_seatssum': 'number_of_seats'}, inplace=True) #rename to match GeoJSON extract\n",
    "\n",
    "seatsByLocn['number_of_seats'] = seatsByLocn['number_of_seats'].astype(int)\n",
    "seatsByLocn.head(5)"
   ]
  },
  {
   "cell_type": "markdown",
   "metadata": {},
   "source": [
    "## Show Venue Seating as a Scatter Map"
   ]
  },
  {
   "cell_type": "code",
   "execution_count": null,
   "metadata": {},
   "outputs": [],
   "source": [
    "# Plot Venue seating using Scatter Map\n",
    "fig = px.scatter_mapbox(seatsByLocn, lat=\"y_coordinate\", lon=\"x_coordinate\", size=\"number_of_seats\",\n",
    "                        mapbox_style=\"stamen-toner\",\n",
    "                        zoom=12.5,\n",
    "                        center = {\"lat\": -37.813, \"lon\": 144.945},\n",
    "                        opacity=0.70,\n",
    "                        hover_name=\"clue_area\",\n",
    "                        hover_data={\"block_id\":False,\"number_of_seats\":True,\"x_coordinate\":True,\"y_coordinate\":True},\n",
    "                        color_discrete_sequence=['red'],\n",
    "                        labels={'number_of_seats':'Number of Seats', 'y_coordinate':'Lat','x_coordinate':'Long'},\n",
    "                        width=950, height=800)\n",
    "fig.show()"
   ]
  },
  {
   "cell_type": "markdown",
   "metadata": {},
   "source": [
    "## Get Block Polygon data in GeoJSON format for Choropleth Mapping\n",
    "\n",
    "Load the CLUE Blocks in GeoJSON format and verify the location keys."
   ]
  },
  {
   "cell_type": "code",
   "execution_count": null,
   "metadata": {},
   "outputs": [],
   "source": [
    "from urllib.request import urlopen\n",
    "import json\n",
    "\n",
    "geoJSON_Id = 'aia8-ryiq' # Melbourne CLUE Block polygons in GeoJSON format\n",
    "\n",
    "GeoJSONURL = 'https://'+domain+'/api/geospatial/'+geoJSON_Id+'?method=export&format=GeoJSON'\n",
    "with urlopen(GeoJSONURL) as response:\n",
    "    block = json.load(response)\n",
    "    \n",
    "block[\"features\"][0]['properties'].keys()"
   ]
  },
  {
   "cell_type": "markdown",
   "metadata": {},
   "source": [
    "## Combined Chloropleth & Scatter"
   ]
  },
  {
   "cell_type": "code",
   "execution_count": null,
   "metadata": {},
   "outputs": [],
   "source": [
    "# Get residential dwelling density\n",
    "dataresource2 = client.get_all('rm92-h5tq') # Melbourne CLUE Residential Dwellings\n",
    "dataset2 = pd.DataFrame.from_dict(dataresource2)\n",
    "\n",
    "# cast datatypes\n",
    "dataset2[['census_year', 'dwelling_number']] = dataset2[['census_year', 'dwelling_number']].astype(int)\n",
    "dataset2[['x_coordinate', 'y_coordinate']] = dataset2[['x_coordinate', 'y_coordinate']].astype(float)\n",
    "dataset2 = dataset2.convert_dtypes() # convert remaining to string\n",
    "dataset2.dtypes\n",
    "\n",
    "# create aggregate dataset\n",
    "groupbyfields = ['block_id','clue_small_area']\n",
    "aggregatebyfields = {'dwelling_number': [\"sum\"]}\n",
    "\n",
    "dwellingsByBlock = pd.DataFrame(dataset2.groupby(groupbyfields, as_index=False).agg(aggregatebyfields))\n",
    "dwellingsByBlock.columns = dwellingsByBlock.columns.map(''.join) # flatten column header\n",
    "dwellingsByBlock.rename(columns={'clue_small_area': 'clue_area'}, inplace=True) #rename to match GeoJSON extract\n",
    "dwellingsByBlock.rename(columns={'dwelling_numbersum': 'dwelling_count'}, inplace=True) #rename to match GeoJSON extract\n",
    "dwellingsByBlock.head(10)\n",
    "\n",
    "# Plot residential density using Choropleth Map\n",
    "range_max = dwellingsByBlock['dwelling_count'].max()\n",
    "\n",
    "fig = px.choropleth_mapbox(dwellingsByBlock, geojson=block, locations='block_id', color='dwelling_count',\n",
    "                           color_continuous_scale=[\"#FFFF88\", \"yellow\", \"orange\", \"orange\",\n",
    "                                                   \"orange\", \"darkorange\", \"red\", \"darkred\"],\n",
    "                           range_color=(0, range_max),\n",
    "                           featureidkey=\"properties.block_id\",\n",
    "                           mapbox_style=\"stamen-toner\", #\"carto-positron\",\n",
    "                           zoom=12.5,\n",
    "                           center = {\"lat\": -37.813, \"lon\": 144.945},\n",
    "                           opacity=0.5,\n",
    "                           hover_name='clue_area',\n",
    "                           hover_data={'block_id':True,'dwelling_count':True},\n",
    "                           labels={'dwelling_count':'Number of Dwellings','block_id':'CLUE Block Id'},\n",
    "                           title='New Business Location',\n",
    "                           width=950, height=800\n",
    "                          )\n",
    "\n",
    "# Plot Venue seating using Scatter Map\n",
    "fig2 = px.scatter_mapbox(seatsByLocn, lat=\"y_coordinate\", lon=\"x_coordinate\", size=\"number_of_seats\",\n",
    "                        mapbox_style=\"stamen-toner\",\n",
    "                        zoom=12.5,\n",
    "                        center = {\"lat\": -37.813, \"lon\": 144.945},\n",
    "                        opacity=0.70,\n",
    "                        hover_name=\"clue_area\",\n",
    "                        hover_data={\"block_id\":False,\"number_of_seats\":True,\"x_coordinate\":True,\"y_coordinate\":True},\n",
    "                        color_discrete_sequence=['black'],\n",
    "                        labels={'number_of_seats':'Number of Seats', 'y_coordinate':'Lat','x_coordinate':'Long'},\n",
    "                        width=950, height=800)\n",
    "fig.add_trace(fig2.data[0])\n",
    "fig.update_geos(fitbounds=\"locations\", visible=False)\n",
    "\n",
    "fig.show()"
   ]
  },
  {
   "cell_type": "code",
   "execution_count": null,
   "metadata": {},
   "outputs": [],
   "source": []
  }
 ],
 "metadata": {
  "interpreter": {
   "hash": "fd69f43f58546b570e94fd7eba7b65e6bcc7a5bbc4eab0408017d18902915d69"
  },
  "kernelspec": {
   "display_name": "Python 3",
   "language": "python",
   "name": "python3"
  },
  "language_info": {
   "codemirror_mode": {
    "name": "ipython",
    "version": 3
   },
   "file_extension": ".py",
   "mimetype": "text/x-python",
   "name": "python",
   "nbconvert_exporter": "python",
   "pygments_lexer": "ipython3",
   "version": "3.8.5"
  }
 },
 "nbformat": 4,
 "nbformat_minor": 2
}
