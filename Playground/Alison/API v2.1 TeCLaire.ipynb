{
 "cells": [
  {
   "cell_type": "markdown",
   "metadata": {},
   "source": [
    "Te Claire Code for API v2.1 City of Melburne data collection"
   ]
  },
  {
   "cell_type": "code",
   "execution_count": 4,
   "metadata": {},
   "outputs": [],
   "source": [
    "# Dependencies\n",
    "import warnings\n",
    "warnings.filterwarnings(\"ignore\")\n",
    "\n",
    "import requests\n",
    "import numpy as np\n",
    "import pandas as pd\n",
    "import io\n",
    "pd.set_option('display.max_columns', None)"
   ]
  },
  {
   "cell_type": "code",
   "execution_count": 6,
   "metadata": {},
   "outputs": [
    {
     "name": "stdout",
     "output_type": "stream",
     "text": [
      "       sensor_name                  timestamp  locationid  direction_1  \\\n",
      "299310    Col700_T  2023-06-11T00:00:00+00:00           9           72   \n",
      "273077    SprFli_T  2024-01-16T19:00:00+00:00          75           30   \n",
      "230538    Bou688_T  2023-08-22T21:00:00+00:00          58          794   \n",
      "545967    Eli501_T  2024-03-08T17:00:00+00:00          49           24   \n",
      "41658     BouHbr_T  2023-07-06T06:00:00+00:00          10          275   \n",
      "311686    BouBri_T  2023-06-03T18:00:00+00:00          57            2   \n",
      "503749      ACMI_T  2024-02-27T12:00:00+00:00          72           10   \n",
      "362060     Col12_T  2023-12-08T17:00:00+00:00          18          471   \n",
      "90696         AG_T  2023-09-29T13:00:00+00:00          29           71   \n",
      "340770      ACMI_T  2023-08-06T06:00:00+00:00          72          352   \n",
      "\n",
      "        direction_2  total_of_directions                    location  \n",
      "299310           93                  165  -37.81982992, 144.95102555  \n",
      "273077           18                   48  -37.81515276, 144.97467661  \n",
      "230538          127                  921  -37.81686075, 144.95358075  \n",
      "545967           20                   44  -37.80730068, 144.95956055  \n",
      "41658            61                  336  -37.81876474, 144.94710545  \n",
      "311686            4                    6   -37.8176735, 144.95025594  \n",
      "503749           31                   41  -37.81726338, 144.96872809  \n",
      "362060          126                  597  -37.81344862, 144.97305353  \n",
      "90696            94                  165  -37.81965809, 144.96863453  \n",
      "340770          448                  800  -37.81726338, 144.96872809  \n"
     ]
    }
   ],
   "source": [
    "# **Preferred Method**: Export Endpoint\n",
    "import requests\n",
    "import pandas as pd\n",
    "from io import StringIO\n",
    "\n",
    "# https://data.melbourne.vic.gov.au/explore/dataset/pedestrian-counting-system-monthly-counts-per-hour/information/\n",
    "dataset_id = 'pedestrian-counting-system-monthly-counts-per-hour'\n",
    "\n",
    "base_url = 'https://data.melbourne.vic.gov.au/api/explore/v2.1/catalog/datasets/'\n",
    "apikey = \"d3f95505ad78907e509ebbd90cef671d9e4a96547c08de1be32b13e7\"\n",
    "dataset_id = dataset_id\n",
    "format = 'csv'\n",
    "\n",
    "url = f'{base_url}{dataset_id}/exports/{format}'\n",
    "params = {\n",
    "    'select': '*',\n",
    "    'limit': -1,  # all records\n",
    "    'lang': 'en',\n",
    "    'timezone': 'UTC',\n",
    "    'api_key': apikey\n",
    "}\n",
    "\n",
    "# GET request\n",
    "response = requests.get(url, params=params)\n",
    "\n",
    "if response.status_code == 200:\n",
    "    # StringIO to read the CSV data\n",
    "    url_content = response.content.decode('utf-8')\n",
    "    pedestrian_hour = pd.read_csv(StringIO(url_content), delimiter=';')\n",
    "    print(pedestrian_hour.sample(10, random_state=999)) # Test\n",
    "else:\n",
    "    print(f'Request failed with status code {response.status_code}')"
   ]
  },
  {
   "cell_type": "code",
   "execution_count": 7,
   "metadata": {},
   "outputs": [
    {
     "name": "stdout",
     "output_type": "stream",
     "text": [
      "The dataset contains 549976 records.\n"
     ]
    }
   ],
   "source": [
    "\n",
    "###### Check number of records in dataset (dataset_id)\n",
    "num_records = len(pedestrian_hour)\n",
    "print(f'The dataset contains {num_records} records.')"
   ]
  }
 ],
 "metadata": {
  "kernelspec": {
   "display_name": "Python 3",
   "language": "python",
   "name": "python3"
  },
  "language_info": {
   "codemirror_mode": {
    "name": "ipython",
    "version": 3
   },
   "file_extension": ".py",
   "mimetype": "text/x-python",
   "name": "python",
   "nbconvert_exporter": "python",
   "pygments_lexer": "ipython3",
   "version": "3.10.10"
  }
 },
 "nbformat": 4,
 "nbformat_minor": 2
}
