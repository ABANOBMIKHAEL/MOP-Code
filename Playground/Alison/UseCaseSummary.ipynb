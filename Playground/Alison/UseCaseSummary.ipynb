{
 "cells": [
  {
   "cell_type": "markdown",
   "metadata": {},
   "source": [
    "### Use Case Summary"
   ]
  },
  {
   "cell_type": "markdown",
   "metadata": {},
   "source": [
    "Names of all use cases, location in GitHub and description of data collection methods used as well as last update of data collection method."
   ]
  },
  {
   "cell_type": "markdown",
   "metadata": {},
   "source": [
    "|    Use Case Name    | Use Case Location | Data Collection Method | Date Updated |\n",
    "| :-: | :-: | :-: | :-: |\n",
    "| Stretched | Gaussian | .843"
   ]
  }
 ],
 "metadata": {
  "language_info": {
   "name": "python"
  }
 },
 "nbformat": 4,
 "nbformat_minor": 2
}
