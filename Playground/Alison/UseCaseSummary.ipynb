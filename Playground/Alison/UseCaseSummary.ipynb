{
 "cells": [
  {
   "cell_type": "markdown",
   "metadata": {},
   "source": [
    "### Use Case Summary"
   ]
  },
  {
   "cell_type": "markdown",
   "metadata": {},
   "source": [
    "Names of all use cases, location in GitHub and description of data collection methods used as well as last update of data collection method."
   ]
  },
  {
   "cell_type": "markdown",
   "metadata": {},
   "source": [
    "\n",
    "\n",
    "|    Use Case Name    | Use Case Location | Data Collection Method | Notes |\n",
    "| :-: | :-: | :-: | :-: |\n",
    "| Melbourne Bicycle Network Routes and Road Safety: Part 1 | Published | Socrata \"SODAPY_APPTOKEN\"  | |\n",
    "| Melbourne Bicycle Network Routes and Road Safety: Part 2 | Published | Socrata \"SODAPY_APPTOKEN\" | |\n",
    "| Environmental Sensor Study: Melbourne | Published | Socrata \"SODAPY_APPTOKEN\" | |\n",
    "| Evaluate Business Location Using Pedestrian Traffic: Day and Night | Published | requests.get(url), csv| |\n",
    "| Green Roof Locations: Melbourne | Published | Socrata \"SODAPY_APPTOKEN\" | |\n",
    "| Green Wall Locations: Melbourne | Published | Socrata \"SODAPY_APPTOKEN\" | |\n",
    "| Liveability Analysis by Location| Published | requests.get(url), csv | |\n",
    "| New Business Location Use Case | Published | pd.read_csv(url) | |\n",
    "| Melbourne Pedestrian Network Routes and Road Safety: Part 1 | Published | Socrata \"SODAPY_APPTOKEN\" | |\n",
    "| Melbourne Pedestrian Network Routes and Road Safety: Part 2 | Published | Socrata \"SODAPY_APPTOKEN\" | |\n",
    "| Pedestrian Foot Traffic Business Case | Published | Socrata \"SODAPY_APPTOKEN\" | |\n",
    "| Smart Bin and Disposal Optimisation | Published | Socrata \"SODAPY_APPTOKEN\", .csv | needs rewrite |\n",
    "| Spot Parking Problems | Published | pd.read_csv(url) | |\n",
    "| Walkability | Published | gpd.read_file | |\n",
    "| Usecase Entertainement Locations | Published | requests.get(url) | |\n"
   ]
  },
  {
   "cell_type": "markdown",
   "metadata": {},
   "source": [
    "\n",
    "\n",
    "|    Use Case Name    | Use Case Location | Data Collection Method | Notes |\n",
    "| :-: | :-: | :-: | :-: |\n",
    "| Flexible Return To Office Options | Ready to Publish T1 2023 | requests.get()  | |\n",
    "| Small Area Population Growth & Active | Ready to Publish T1 2023 | requests.get() | |\n",
    "| Urban Heat Island Effect Reduction| Ready to Publish T1 2023 | requests.get() | |\n",
    "| Live events and the effect on foot traffic and business | Ready to Publish T1 2023 | requests.get()| |\n",
    "| Disability Services and Public Transport Analysis within CBD | Ready to Publish T1 2023 | requests.get(url) | |\n",
    "| High-rise Building and Public Transport | Ready to Publish T1 2023 | pd.read_csv | |\n",
    "| Supporting local businesses surrounding Tourist| Ready to Publish T1 2023 | requests.get(url) | |\n",
    "\n"
   ]
  }
 ],
 "metadata": {
  "language_info": {
   "name": "python"
  }
 },
 "nbformat": 4,
 "nbformat_minor": 2
}
