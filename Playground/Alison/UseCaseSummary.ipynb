{
 "cells": [
  {
   "cell_type": "markdown",
   "metadata": {},
   "source": [
    "### Use Case Summary"
   ]
  },
  {
   "cell_type": "markdown",
   "metadata": {},
   "source": [
    "Names of all use cases, location in GitHub and description of data collection methods used as well as last update of data collection method."
   ]
  },
  {
   "cell_type": "markdown",
   "metadata": {},
   "source": [
    "\n",
    "\n",
    "|    Use Case Name    | Use Case Location | Data Collection Method | Notes |\n",
    "| :-: | :-: | :-: | :-: |\n",
    "| Melbourne Bicycle Network Routes and Road Safety: Part 1 | Published | Socrata \"SODAPY_APPTOKEN\"  | Trello Card Created |\n",
    "| Environmental Sensor Study: Melbourne | Published | Socrata \"SODAPY_APPTOKEN\" | Trello Card Created |\n",
    "| Evaluate Business Location Using Pedestrian Traffic: Day and Night | Published | requests.get(url), csv| Trello Card Created |\n",
    "| Green Roof Locations: Melbourne | Published | Socrata \"SODAPY_APPTOKEN\" | Trello Card Created |\n",
    "| Green Wall Locations: Melbourne | Published | Socrata \"SODAPY_APPTOKEN\" | Trello Card Created |\n",
    "| Livability Analysis by Location | Published | requests.get(url), csv | Trello Card Created |\n",
    "| New Business Location Use Case | Published | pd.read_csv(url) | Trello Card Created |\n",
    "| Melbourne Pedestrian Network Routes and Road Safety: Part 2 | Published | Socrata \"SODAPY_APPTOKEN\" | Trello Card Created |\n",
    "| Pedestrian Foot Traffic Business Case | Published | Socrata \"SODAPY_APPTOKEN\" | Trello Card Created |\n",
    "| Smart Bin and Disposal Optimisation | Published | Socrata \"SODAPY_APPTOKEN\", .csv | Trello Card Created |\n",
    "| Spot Parking Problems | Published | pd.read_csv(url) | Trello Card Created - Also in Rework Completed|\n",
    "| Walkability | Published | gpd.read_file | Trello Card Updated |\n",
   ]
  },
  {
   "cell_type": "markdown",
   "metadata": {},
   "source": [
    "\n",
    "\n",
    "|    Use Case Name    | Use Case Location | Data Collection Method | Notes |\n",
    "| :-: | :-: | :-: | :-: |\n",
    "| Flexible Return To Office Options | Ready to Publish T1 2023 | requests.get() | |\n",
    "| Small Area Population Growth & Active | Ready to Publish T1 2023 | requests.get() | Trello Card Updated |\n",
    "| Urban Heat Island Effect Reduction | Ready to Publish T1 2023 | requests.get() | |\n",
    "| Live events and the effect on foot traffic and business | Ready to Publish T1 2023 | requests.get()| |\n",
    "| Disability Services and Public Transport Analysis within CBD | Ready to Publish T1 2023 | requests.get(url) | Use Case is really large and can't be viewed|\n",
    "| High-rise Building and Public Transport | Ready to Publish T1 2023 | pd.read_csv | Trello Card Updated |\n",
    "| Supporting local businesses surrounding Tourist | Ready to Publish T1 2023 | requests.get(url) | |\n",
    "\n"
   ]
  },
  {
   "cell_type": "markdown",
   "metadata": {},
   "source": [
    "\n",
    "\n",
    "|    Use Case Name    | Use Case Location | Data Collection Method | Notes |\n",
    "| :-: | :-: | :-: | :-: |\n",
    "| Population and Accidents | Ready to Publish T2 2023 | requests.get() | |\n",
    "| Real-time parking hotspots | Ready to Publish T2 2023 | requests.get() | Requests API key input, API key visible. Trello Card Created |\n",
    "| Self Designed Walking Tour | Ready to Publish T2 2023  | requests.get()| |\n",
    "| Smart Bin Waste_Collection AI Application | Ready to Publish T2 2023 | pd.read_csv() | Trello Card Created |\n",
    "| Urban Art Explorer | Ready to Publish T2 2023 | requests.get() | |\n",
    "| Urban Bar Explorer | Ready to Publish T2 2023 | requests.get() | |\n",
    "\n"
   ]
  },
  {
   "cell_type": "markdown",
   "metadata": {},
   "source": [
    "\n",
    "\n",
    "|    Use Case Name    | Use Case Location | Data Collection Method | Notes |\n",
    "| :-: | :-: | :-: | :-: |\n",
    "| ChildCare Facilities Analysis | Ready to Publish T3 2023 | requests.get()  | |\n",
    "| City Living Comfort | Ready to Publish T3 2023 | requests.get() | |\n",
    "| Impact of Planned Works | Ready to Publish T3 2023 | requests.get() | |\n",
    "| Laneways waterflow | Ready to Publish T3 2023 | requests.get()| |\n",
    "| Litter Traps & Public BBQ | Ready to Publish T3 2023 | pd.read_csv() | Trello Card Created |\n",
    "| Pedestrains Counts and Bus-stops | Ready to Publish T3 2023 | pd.read_csv() and requests.get() | Trello Card Created |\n",
    "| Projected Venue Growth | Ready to Publish T3 2023 | requests.get() | |\n",
    "| Urban Development Analysis | Ready to Publish T3 2023 | requests.get() | Requests API key input, API key visible. Trello Card Created |\n",
    "\n"
   ]
  },
  {
   "cell_type": "markdown",
   "metadata": {},
   "source": [
    "\n",
    "\n",
    "|    Use Case Name    | Use Case Location | Data Collection Method | Notes |\n",
    "| :-: | :-: | :-: | :-: |\n",
    "| Ideal Green Roof Locations: Melbourne | Rework Completed | requests.get()  | |\n",
    "| Pedestrian Traffic Analysis | Rework Completed | requests.get() | |\n",
    "| Spot parking problems | Rework Completed | pd.read_csv() | Also in Published. Trello Card Created|\n",
    "| Melbourne Bicycle Network Routes and Road Safety: Part 1 | Rework Completed | requests.get()| |\n",
    "\n",
    "\n"
   ]
  },
  {
   "cell_type": "markdown",
   "metadata": {},
   "source": [
    "\n",
    "\n",
    "|    Use Case Name    | Use Case Location | Data Collection Method | Notes |\n",
    "| :-: | :-: | :-: | :-: |\n",
    "| Business Energy Consumption | In Progress | requests.get()  | |\n",
    "| Urban Tree Planting | In Progress | requests.get()  | |\n",
    "| Live Music Event Planning | In Progress | requests.get()  | |\n",
    "| Pedestrian and Bus Stops | In Progress | requests.get()  | |\n",
    "| Argyle Square Additional Bins Events | In Progress | requests.get()  | |\n",
    "| Smart Bin Optimised Waster Collection Route | In Progress | requests.get()  | |\n",
    "| Enhancing Pedestiran Safety in Melbourne's Urban Areas | In Progress | requests.get()  | |\n",
    "| Support Services | In Progress | requests.get()  | |\n",
    "| Pedestrian Predistion / Walkability Map of CoM | In Progress | requests.get()  | |\n",
    "| Bird Habitat Analysis | In Progress | requests.get()  | |\n",
    "| Air Quality | In Progress | requests.get()  | |\n",
    "| Identify potential area for new cafe in Melbourne by using residential data Urban Investor | In Progress | requests.get()  | |\n",
    "| Customer Service Analysis | In Progress | requests.get()  | |\n",
    "| Art Finder | In Progress | requests.get()  | |\n",
    "| Business Establishments (land use) and Jobs | In Progress | requests.get()  | |\n",
    "| Impact of Greenhouse Gas Emissions | In Progress | requests.get()  | |\n",
    "| Real Estate | In Progress | requests.get()  | |\n",
    "| Impact of Employment on Housing Prices | In Progress | requests.get()  | |\n",
    "| Tree Canopy Changes | In Progress | requests.get()  | |\n",
    "| Guides | In Progress | requests.get()  | |\n",
    "| Soil Analysis Use Case | In Progress | requests.get()  | |\n",
    "| Mental Wellbeing | In Progress | requests.get()  | |\n",
    "| Water Flow Rates and Trees | In Progress | requests.get()  | |\n",
    "| Apply Predictive Learning for On-street Parking Availability | In Progress | requests.get()  | |\n",
    "| On-street Parking Bay Sensors Analysis | In Progress | requests.get()  | |\n",
    "| Biodiversity in Melbourne's Parks | In Progress | requests.get()  | |\n",
    "| Bird Culture Analysis | In Progress | requests.get()  | |\n",
    "| Jobs Forecasting and Current Industry Jobs In Melbourne | In Progress | requests.get()  | |\n",
    "| Melbourne Bicycle Network Routes and Road Safety: Part 2 | In Progress | Socrata \"SODAPY_APPTOKEN\" | Updating API |\n",
    "| Melbourne Liveability Assessment | In Progress | pd.read_csv()  | Updating API |\n",
    "| Entertainment Locations | In Progress | requests.get(url) | API Update and Re-write |\n"
    "\n",
    "\n"
   ]
  },
  {
   "cell_type": "markdown",
   "metadata": {},
   "source": [
    "\n",
    "\n",
    "|    Use Case Name    | Use Case Location | Data Collection Method | Notes |\n",
    "| :-: | :-: | :-: | :-: |\n",
    "| Melbourne Pedestrian Network Routes and Road Safety: Part 1 | Retired | Socrata \"SODAPY_APPTOKEN\", .csv | This usecase has been retired. It had a database external to CoM which was not publically available and has been lost. |\n",
    "\n",
    "\n"
   ]
  },
 ],
 "metadata": {
  "language_info": {
   "name": "python"
  }
 },
 "nbformat": 4,
 "nbformat_minor": 2
}
