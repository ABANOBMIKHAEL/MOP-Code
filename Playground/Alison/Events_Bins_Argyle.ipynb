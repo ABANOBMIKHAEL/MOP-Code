{
 "cells": [
  {
   "cell_type": "markdown",
   "metadata": {},
   "source": [
    "<div class=\"usecase-title\">{Bins for events Argyle Squrae}</div>\n",
    "\n",
    "<div class=\"usecase-authors\"><b>Authored by: </b> {Alison Collins}</div>"
   ]
  },
  {
   "cell_type": "markdown",
   "metadata": {},
   "source": [
    "<div class=\"usecase-duration\"><b>Duration:</b> {60} mins</div>\n",
    "\n",
    "<div class=\"usecase-level-skill\">\n",
    "    <div class=\"usecase-level\"><b>Level: </b>{Intermediate}</div>\n",
    "    <div class=\"usecase-skill\"><b>Pre-requisite Skills: </b>{Python}</div>\n",
    "</div>"
   ]
  },
  {
   "cell_type": "markdown",
   "metadata": {},
   "source": [
    "<div class=\"usecase-section-header\">Scenario</div>"
   ]
  },
  {
   "cell_type": "markdown",
   "metadata": {},
   "source": [
    "{If you are planning an event at Argyle Square you will need to know if you need to hire additional bins. This use case seeks to determine th ebin capacity during events and make recommendations on the need for more bins based on event attendee numbers.}"
   ]
  },
  {
   "cell_type": "markdown",
   "metadata": {},
   "source": [
    "<div class=\"usecase-section-header\">What this use case will teach you</div>"
   ]
  },
  {
   "cell_type": "markdown",
   "metadata": {},
   "source": [
    "At the end of this use case you will:\n",
    "- {list the skills demonstrated in your use case}"
   ]
  },
  {
   "cell_type": "markdown",
   "metadata": {},
   "source": [
    "<div class=\"usecase-section-header\">{Heading for introduction or background relating to problem}</div>"
   ]
  },
  {
   "cell_type": "markdown",
   "metadata": {},
   "source": [
    "{Write your introduction here. Keep it concise. We're not after \"War and Peace\" but enough background information to inform the reader on the rationale for solving this problem or background non-technical information that helps explain the approach. You may also wish to give information on the datasets, particularly how to source those not being imported from the client's open data portal.}\n",
    "\n"
   ]
  },
  {
   "cell_type": "code",
   "execution_count": 422,
   "metadata": {},
   "outputs": [],
   "source": [
    "# Dependencies\n",
    "import warnings\n",
    "warnings.filterwarnings(\"ignore\")\n",
    "#warnings.filterwarnings(\"ignore\")\n",
    "\n",
    "# Import required modules\n",
    "import requests\n",
    "import numpy as np\n",
    "import pandas as pd\n",
    "import io\n",
    "import seaborn as sns\n",
    "import matplotlib.pyplot as plt"
   ]
  },
  {
   "cell_type": "markdown",
   "metadata": {},
   "source": [
    "Import datasets using API"
   ]
  },
  {
   "cell_type": "code",
   "execution_count": 2,
   "metadata": {},
   "outputs": [],
   "source": [
    "from io import StringIO\n",
    "\n",
    "# Function to collect datasets using API\n",
    "def datasetcollect(dataset_id):\n",
    "    base_url = 'https://data.melbourne.vic.gov.au/api/explore/v2.1/catalog/datasets/'\n",
    "    #apikey = \" \"\n",
    "    dataset_id = dataset_id\n",
    "    format = 'csv'\n",
    "\n",
    "    url = f'{base_url}{dataset_id}/exports/{format}'\n",
    "    params = {\n",
    "        'select': '*',\n",
    "        'limit': -1,  # all records\n",
    "        'lang': 'en',\n",
    "        'timezone': 'UTC',\n",
    "        #'api_key': apikey\n",
    "    }\n",
    "\n",
    "    # GET request\n",
    "    response = requests.get(url, params=params)\n",
    "\n",
    "    if response.status_code == 200:\n",
    "        # StringIO to read the CSV data\n",
    "        url_content = response.content.decode('utf-8')\n",
    "        dataset = pd.read_csv(StringIO(url_content), delimiter=';')\n",
    "        return dataset\n",
    "    else:\n",
    "        print(f'Request failed with status code {response.status_code}')"
   ]
  },
  {
   "cell_type": "code",
   "execution_count": 3,
   "metadata": {},
   "outputs": [
    {
     "name": "stdout",
     "output_type": "stream",
     "text": [
      "350920\n"
     ]
    },
    {
     "data": {
      "text/html": [
       "<div>\n",
       "<style scoped>\n",
       "    .dataframe tbody tr th:only-of-type {\n",
       "        vertical-align: middle;\n",
       "    }\n",
       "\n",
       "    .dataframe tbody tr th {\n",
       "        vertical-align: top;\n",
       "    }\n",
       "\n",
       "    .dataframe thead th {\n",
       "        text-align: right;\n",
       "    }\n",
       "</style>\n",
       "<table border=\"1\" class=\"dataframe\">\n",
       "  <thead>\n",
       "    <tr style=\"text-align: right;\">\n",
       "      <th></th>\n",
       "      <th>dev_id</th>\n",
       "      <th>sensor_name</th>\n",
       "      <th>time</th>\n",
       "      <th>temperature</th>\n",
       "      <th>humidity</th>\n",
       "      <th>light</th>\n",
       "      <th>motion</th>\n",
       "      <th>visit</th>\n",
       "      <th>vdd</th>\n",
       "      <th>lat_long</th>\n",
       "    </tr>\n",
       "  </thead>\n",
       "  <tbody>\n",
       "    <tr>\n",
       "      <th>0</th>\n",
       "      <td>ers-55eb</td>\n",
       "      <td>NaN</td>\n",
       "      <td>2022-12-13T20:09:42+00:00</td>\n",
       "      <td>10.5</td>\n",
       "      <td>89</td>\n",
       "      <td>297</td>\n",
       "      <td>0</td>\n",
       "      <td>0</td>\n",
       "      <td>3638</td>\n",
       "      <td>NaN</td>\n",
       "    </tr>\n",
       "    <tr>\n",
       "      <th>1</th>\n",
       "      <td>ers-55ea</td>\n",
       "      <td>NaN</td>\n",
       "      <td>2022-12-13T20:26:03+00:00</td>\n",
       "      <td>10.6</td>\n",
       "      <td>88</td>\n",
       "      <td>136</td>\n",
       "      <td>0</td>\n",
       "      <td>0</td>\n",
       "      <td>3635</td>\n",
       "      <td>NaN</td>\n",
       "    </tr>\n",
       "    <tr>\n",
       "      <th>2</th>\n",
       "      <td>ers-55eb</td>\n",
       "      <td>NaN</td>\n",
       "      <td>2022-12-13T20:34:47+00:00</td>\n",
       "      <td>10.8</td>\n",
       "      <td>89</td>\n",
       "      <td>698</td>\n",
       "      <td>0</td>\n",
       "      <td>0</td>\n",
       "      <td>3638</td>\n",
       "      <td>NaN</td>\n",
       "    </tr>\n",
       "  </tbody>\n",
       "</table>\n",
       "</div>"
      ],
      "text/plain": [
       "     dev_id  sensor_name                       time  temperature  humidity  \\\n",
       "0  ers-55eb          NaN  2022-12-13T20:09:42+00:00         10.5        89   \n",
       "1  ers-55ea          NaN  2022-12-13T20:26:03+00:00         10.6        88   \n",
       "2  ers-55eb          NaN  2022-12-13T20:34:47+00:00         10.8        89   \n",
       "\n",
       "   light  motion  visit   vdd  lat_long  \n",
       "0    297       0      0  3638       NaN  \n",
       "1    136       0      0  3635       NaN  \n",
       "2    698       0      0  3638       NaN  "
      ]
     },
     "execution_count": 3,
     "metadata": {},
     "output_type": "execute_result"
    }
   ],
   "source": [
    "# Import stage activity dataset\n",
    "dataset_id = 'meshed-sensor-type-3'\n",
    "stage_activity_all = datasetcollect(dataset_id)\n",
    "print(len(stage_activity_all))\n",
    "stage_activity_all.head(3)"
   ]
  },
  {
   "cell_type": "code",
   "execution_count": 4,
   "metadata": {},
   "outputs": [
    {
     "name": "stdout",
     "output_type": "stream",
     "text": [
      "561783\n"
     ]
    },
    {
     "data": {
      "text/html": [
       "<div>\n",
       "<style scoped>\n",
       "    .dataframe tbody tr th:only-of-type {\n",
       "        vertical-align: middle;\n",
       "    }\n",
       "\n",
       "    .dataframe tbody tr th {\n",
       "        vertical-align: top;\n",
       "    }\n",
       "\n",
       "    .dataframe thead th {\n",
       "        text-align: right;\n",
       "    }\n",
       "</style>\n",
       "<table border=\"1\" class=\"dataframe\">\n",
       "  <thead>\n",
       "    <tr style=\"text-align: right;\">\n",
       "      <th></th>\n",
       "      <th>dev_id</th>\n",
       "      <th>time</th>\n",
       "      <th>temperature</th>\n",
       "      <th>distance</th>\n",
       "      <th>filllevel</th>\n",
       "      <th>battery</th>\n",
       "      <th>lat_long</th>\n",
       "      <th>sensor_name</th>\n",
       "      <th>fill_level</th>\n",
       "    </tr>\n",
       "  </thead>\n",
       "  <tbody>\n",
       "    <tr>\n",
       "      <th>0</th>\n",
       "      <td>r718x-6778</td>\n",
       "      <td>2023-02-26T08:16:47+00:00</td>\n",
       "      <td>19.0</td>\n",
       "      <td>209.0</td>\n",
       "      <td>73.0</td>\n",
       "      <td>3.6</td>\n",
       "      <td>-37.8025943, 144.9658434</td>\n",
       "      <td>r718x-bin sensor 8</td>\n",
       "      <td>71.0</td>\n",
       "    </tr>\n",
       "    <tr>\n",
       "      <th>1</th>\n",
       "      <td>r718x-6f16</td>\n",
       "      <td>2023-02-26T08:18:10+00:00</td>\n",
       "      <td>19.9</td>\n",
       "      <td>202.0</td>\n",
       "      <td>74.0</td>\n",
       "      <td>3.6</td>\n",
       "      <td>-37.8028794, 144.9662728</td>\n",
       "      <td>r718x-bin sensor 17</td>\n",
       "      <td>72.0</td>\n",
       "    </tr>\n",
       "    <tr>\n",
       "      <th>2</th>\n",
       "      <td>r718x-677d</td>\n",
       "      <td>2023-02-26T08:18:02+00:00</td>\n",
       "      <td>20.7</td>\n",
       "      <td>200.0</td>\n",
       "      <td>74.0</td>\n",
       "      <td>3.6</td>\n",
       "      <td>-37.8021051, 144.9654523</td>\n",
       "      <td>r718x-bin sensor 11</td>\n",
       "      <td>72.0</td>\n",
       "    </tr>\n",
       "  </tbody>\n",
       "</table>\n",
       "</div>"
      ],
      "text/plain": [
       "       dev_id                       time  temperature  distance  filllevel  \\\n",
       "0  r718x-6778  2023-02-26T08:16:47+00:00         19.0     209.0       73.0   \n",
       "1  r718x-6f16  2023-02-26T08:18:10+00:00         19.9     202.0       74.0   \n",
       "2  r718x-677d  2023-02-26T08:18:02+00:00         20.7     200.0       74.0   \n",
       "\n",
       "   battery                  lat_long          sensor_name  fill_level  \n",
       "0      3.6  -37.8025943, 144.9658434   r718x-bin sensor 8        71.0  \n",
       "1      3.6  -37.8028794, 144.9662728  r718x-bin sensor 17        72.0  \n",
       "2      3.6  -37.8021051, 144.9654523  r718x-bin sensor 11        72.0  "
      ]
     },
     "execution_count": 4,
     "metadata": {},
     "output_type": "execute_result"
    }
   ],
   "source": [
    "# Import bin sensor dataset\n",
    "dataset_id = 'netvox-r718x-bin-sensor'\n",
    "bin_sensor_all = datasetcollect(dataset_id)\n",
    "print(len(bin_sensor_all))\n",
    "bin_sensor_all.head(3)"
   ]
  },
  {
   "cell_type": "code",
   "execution_count": 5,
   "metadata": {},
   "outputs": [
    {
     "name": "stdout",
     "output_type": "stream",
     "text": [
      "109175\n"
     ]
    },
    {
     "data": {
      "text/html": [
       "<div>\n",
       "<style scoped>\n",
       "    .dataframe tbody tr th:only-of-type {\n",
       "        vertical-align: middle;\n",
       "    }\n",
       "\n",
       "    .dataframe tbody tr th {\n",
       "        vertical-align: top;\n",
       "    }\n",
       "\n",
       "    .dataframe thead th {\n",
       "        text-align: right;\n",
       "    }\n",
       "</style>\n",
       "<table border=\"1\" class=\"dataframe\">\n",
       "  <thead>\n",
       "    <tr style=\"text-align: right;\">\n",
       "      <th></th>\n",
       "      <th>datetime</th>\n",
       "      <th>keys1</th>\n",
       "      <th>total</th>\n",
       "      <th>dwell</th>\n",
       "      <th>sensor_name</th>\n",
       "      <th>sensor_type</th>\n",
       "      <th>lat_long</th>\n",
       "      <th>avg_dwell</th>\n",
       "    </tr>\n",
       "  </thead>\n",
       "  <tbody>\n",
       "    <tr>\n",
       "      <th>0</th>\n",
       "      <td>2022-08-25T22:00:00+00:00</td>\n",
       "      <td>8171</td>\n",
       "      <td>27</td>\n",
       "      <td>5697</td>\n",
       "      <td>Pedestrian Sensor-Birrarung Marr</td>\n",
       "      <td>Mobile phone counting</td>\n",
       "      <td>-37.8209898, 144.9759397</td>\n",
       "      <td>3.0</td>\n",
       "    </tr>\n",
       "    <tr>\n",
       "      <th>1</th>\n",
       "      <td>2022-08-26T08:00:00+00:00</td>\n",
       "      <td>8171</td>\n",
       "      <td>115</td>\n",
       "      <td>42090</td>\n",
       "      <td>Pedestrian Sensor-Birrarung Marr</td>\n",
       "      <td>Mobile phone counting</td>\n",
       "      <td>-37.8209898, 144.9759397</td>\n",
       "      <td>6.0</td>\n",
       "    </tr>\n",
       "    <tr>\n",
       "      <th>2</th>\n",
       "      <td>2022-08-26T02:00:00+00:00</td>\n",
       "      <td>7780</td>\n",
       "      <td>228</td>\n",
       "      <td>94848</td>\n",
       "      <td>Pedestrian Sensor-Argyle Sq</td>\n",
       "      <td>Mobile phone counting</td>\n",
       "      <td>-37.8025805, 144.9656012</td>\n",
       "      <td>6.0</td>\n",
       "    </tr>\n",
       "  </tbody>\n",
       "</table>\n",
       "</div>"
      ],
      "text/plain": [
       "                    datetime  keys1  total  dwell  \\\n",
       "0  2022-08-25T22:00:00+00:00   8171     27   5697   \n",
       "1  2022-08-26T08:00:00+00:00   8171    115  42090   \n",
       "2  2022-08-26T02:00:00+00:00   7780    228  94848   \n",
       "\n",
       "                        sensor_name            sensor_type  \\\n",
       "0  Pedestrian Sensor-Birrarung Marr  Mobile phone counting   \n",
       "1  Pedestrian Sensor-Birrarung Marr  Mobile phone counting   \n",
       "2       Pedestrian Sensor-Argyle Sq  Mobile phone counting   \n",
       "\n",
       "                   lat_long  avg_dwell  \n",
       "0  -37.8209898, 144.9759397        3.0  \n",
       "1  -37.8209898, 144.9759397        6.0  \n",
       "2  -37.8025805, 144.9656012        6.0  "
      ]
     },
     "execution_count": 5,
     "metadata": {},
     "output_type": "execute_result"
    }
   ],
   "source": [
    "# Import blix mobile phone counter dataset\n",
    "dataset_id = 'blix-visits'\n",
    "blix_phones_all = datasetcollect(dataset_id)\n",
    "print(len(blix_phones_all))\n",
    "blix_phones_all.head(3)"
   ]
  },
  {
   "cell_type": "markdown",
   "metadata": {},
   "source": [
    "Preprocessing of datasets"
   ]
  },
  {
   "cell_type": "code",
   "execution_count": 403,
   "metadata": {},
   "outputs": [],
   "source": [
    "# Delete unwanted columns from datasets\n",
    "\n",
    "# Drop columns from stage_activity dataframe\n",
    "stage_activity = stage_activity_all[['dev_id','time','motion','visit']]\n",
    "# Drop columns from stage_activity dataframe\n",
    "bin_sensor_cols = bin_sensor_all[['dev_id','time','filllevel']]\n",
    "# Drop columns from stage_activity dataframe\n",
    "blix_phones = blix_phones_all[['datetime','keys1','total','dwell','avg_dwell']]"
   ]
  },
  {
   "cell_type": "code",
   "execution_count": 404,
   "metadata": {},
   "outputs": [
    {
     "name": "stdout",
     "output_type": "stream",
     "text": [
      "Data types in Stage activity\n",
      "dev_id    object\n",
      "time      object\n",
      "motion     int64\n",
      "visit      int64\n",
      "dtype: object\n",
      "Data types in Bin Sensor\n",
      "dev_id        object\n",
      "time          object\n",
      "filllevel    float64\n",
      "dtype: object\n",
      "Data types in Blix Phones\n",
      "datetime      object\n",
      "keys1          int64\n",
      "total          int64\n",
      "dwell          int64\n",
      "avg_dwell    float64\n",
      "dtype: object\n"
     ]
    }
   ],
   "source": [
    "# check data types in columns\n",
    "\n",
    "print(\"Data types in Stage activity\")\n",
    "print(stage_activity.dtypes)\n",
    "\n",
    "print(\"Data types in Bin Sensor\")\n",
    "print(bin_sensor_cols.dtypes)\n",
    "\n",
    "print(\"Data types in Blix Phones\")\n",
    "print(blix_phones.dtypes)"
   ]
  },
  {
   "cell_type": "code",
   "execution_count": 405,
   "metadata": {},
   "outputs": [],
   "source": [
    "# convert date time columns to date time type\n",
    "\n",
    "stage_activity['date_time'] = pd.to_datetime(stage_activity['time'])\n",
    "stage_activity = stage_activity.drop(['time'], axis=1)\n",
    "\n",
    "bin_sensor_cols['date_time'] = pd.to_datetime(bin_sensor_cols['time'])\n",
    "bin_sensor_cols = bin_sensor_cols.drop(['time'], axis=1)\n",
    "\n",
    "blix_phones['date_time'] = pd.to_datetime(blix_phones['datetime'])\n",
    "blix_phones = blix_phones.drop(['datetime'], axis=1)"
   ]
  },
  {
   "cell_type": "code",
   "execution_count": 406,
   "metadata": {},
   "outputs": [
    {
     "name": "stdout",
     "output_type": "stream",
     "text": [
      "Date range in stage activity\n",
      "2022-11-29 06:05:16+00:00\n",
      "2024-03-27 07:28:36+00:00\n",
      "Date range in bin sensor\n",
      "2023-02-26 08:16:37+00:00\n",
      "2024-03-27 07:29:17+00:00\n",
      "Date range in blix phones\n",
      "2021-12-31 13:00:00+00:00\n",
      "2024-03-26 12:00:00+00:00\n"
     ]
    }
   ],
   "source": [
    "#Check oldest and most recent dates in datasets\n",
    "\n",
    "print(\"Date range in stage activity\")\n",
    "print(stage_activity[\"date_time\"].min())\n",
    "print(stage_activity[\"date_time\"].max())\n",
    "\n",
    "print(\"Date range in bin sensor\")\n",
    "print(bin_sensor_cols[\"date_time\"].min())\n",
    "print(bin_sensor_cols[\"date_time\"].max())\n",
    "\n",
    "print(\"Date range in blix phones\")\n",
    "print(blix_phones[\"date_time\"].min())\n",
    "print(blix_phones[\"date_time\"].max())"
   ]
  },
  {
   "cell_type": "code",
   "execution_count": 407,
   "metadata": {},
   "outputs": [],
   "source": [
    "# Drop rows so that all datasets have the same date range\n",
    "\n",
    "stage_activity= stage_activity[(stage_activity['date_time'] > '2023-2-26') & (stage_activity['date_time'] <= '2024-3-26')]\n",
    "\n",
    "bin_sensor= bin_sensor_cols[(bin_sensor_cols['date_time'] > '2023-2-26') & (bin_sensor_cols['date_time'] <= '2024-3-26')]\n",
    "\n",
    "blix_phones= blix_phones[(blix_phones['date_time'] > '2023-2-26') & (blix_phones['date_time'] <= '2024-3-26')]\n"
   ]
  },
  {
   "cell_type": "code",
   "execution_count": 408,
   "metadata": {},
   "outputs": [
    {
     "name": "stdout",
     "output_type": "stream",
     "text": [
      "min      0.0\n",
      "max    255.0\n",
      "Name: filllevel, dtype: float64\n",
      "133765\n",
      "0.0004560236235188577\n"
     ]
    },
    {
     "data": {
      "text/plain": [
       "133704"
      ]
     },
     "execution_count": 408,
     "metadata": {},
     "output_type": "execute_result"
    }
   ],
   "source": [
    "# BIN DATASET PREPROCESSING\n",
    "# Filter unwanted values from bin dataset \n",
    "\n",
    "# Keep only rows with bin sensors in the stage area\n",
    "filtered_bin_sensor = bin_sensor_cols[bin_sensor_cols[\"dev_id\"].isin([\"r718x-6778\", \"r718x-6775\",\"r718x-6f25\",\"r718x-677e\",\"r718x-6f31\"])]\n",
    "filtered_bin_sensor.head(3)\n",
    "\n",
    "# Check max and min values in bin fill levels\n",
    "# Max and min of filllevel column\n",
    "print(filtered_bin_sensor['filllevel'].agg(['min', 'max']))\n",
    "\n",
    "# Count the number of values greater than 100 in the bin fill coumns\n",
    "more = len(filtered_bin_sensor[filtered_bin_sensor['filllevel']>100])\n",
    "\n",
    "# Fnd percentage of values impacted  by value >100 in fill level\n",
    "# Count the number of rows in the dataframe\n",
    "total = len(filtered_bin_sensor)\n",
    "#check the length of the dataframe\n",
    "print(len(filtered_bin_sensor))\n",
    "# Calculate the percentage of data that has values greater than 100\n",
    "print(more/total)\n",
    "\n",
    "# As only 0.0456% of data is impacted by data inaccuracies, make the decision to drop these rows from the table.\n",
    "\n",
    "# Drop rows where bin fill column is greater than 100\n",
    "filtered_bin_sensor = filtered_bin_sensor.drop(filtered_bin_sensor[filtered_bin_sensor['filllevel'] > 100].index)\n",
    "# Check the length of the dataframe\n",
    "len(filtered_bin_sensor)\n"
   ]
  },
  {
   "cell_type": "code",
   "execution_count": 409,
   "metadata": {},
   "outputs": [],
   "source": [
    "# BIN DATASET PREPROCESSING: GROUP BY BIN THEN RESAMPLE\n",
    "\n",
    "# Set index to datetime column\n",
    "#filtered_bin_sensor.set_index('date_time', inplace=True)\n",
    "\n",
    "# Resample the data by hour\n",
    "#grouped_bin_sensor = filtered_bin_sensor.groupby('dev_id').resample('30min').max()\n",
    "#grouped_bin_sensor"
   ]
  },
  {
   "cell_type": "code",
   "execution_count": 410,
   "metadata": {},
   "outputs": [
    {
     "data": {
      "text/plain": [
       "date_time\n",
       "2023-02-26 08:00:00+00:00    74.0\n",
       "2023-02-26 09:00:00+00:00    74.0\n",
       "2023-02-26 10:00:00+00:00    74.0\n",
       "Freq: H, Name: filllevel, dtype: float64"
      ]
     },
     "execution_count": 410,
     "metadata": {},
     "output_type": "execute_result"
    }
   ],
   "source": [
    "# BIN DATASET PREPROCESSING: RESAMPLE HOURLY FILLLEVEL MAX WITHOUT GROUPING BY BIN\n",
    "\n",
    "# Set index to datetime column\n",
    "filtered_bin_sensor.set_index('date_time', inplace=True)\n",
    "\n",
    "# Resample the data by hour\n",
    "grouped_bin_sensor1 = filtered_bin_sensor.resample('H').filllevel.max()\n",
    "grouped_bin_sensor1.head(3)"
   ]
  },
  {
   "cell_type": "code",
   "execution_count": 411,
   "metadata": {},
   "outputs": [
    {
     "data": {
      "text/plain": [
       "date_time\n",
       "2023-02-26 00:00:00+00:00    0.0\n",
       "2023-02-26 01:00:00+00:00    1.0\n",
       "2023-02-26 02:00:00+00:00    1.0\n",
       "Freq: H, Name: motion, dtype: float64"
      ]
     },
     "execution_count": 411,
     "metadata": {},
     "output_type": "execute_result"
    }
   ],
   "source": [
    "# STAGE ACTIVITY DATASET PREPROCESSING: RESAMPLE HOURLY MAX WITHOUT GROUPING BY SENSOR\n",
    "\n",
    "# Set index to datetime column\n",
    "stage_a = stage_activity\n",
    "stage_a.set_index('date_time', inplace=True)\n",
    "\n",
    "# Resample the data by hour\n",
    "grouped_stage_activity = stage_a.resample('H').motion.max()\n",
    "grouped_stage_activity.head(3)"
   ]
  },
  {
   "cell_type": "code",
   "execution_count": 412,
   "metadata": {},
   "outputs": [
    {
     "data": {
      "text/html": [
       "<div>\n",
       "<style scoped>\n",
       "    .dataframe tbody tr th:only-of-type {\n",
       "        vertical-align: middle;\n",
       "    }\n",
       "\n",
       "    .dataframe tbody tr th {\n",
       "        vertical-align: top;\n",
       "    }\n",
       "\n",
       "    .dataframe thead th {\n",
       "        text-align: right;\n",
       "    }\n",
       "</style>\n",
       "<table border=\"1\" class=\"dataframe\">\n",
       "  <thead>\n",
       "    <tr style=\"text-align: right;\">\n",
       "      <th></th>\n",
       "      <th>filllevel</th>\n",
       "      <th>motion</th>\n",
       "    </tr>\n",
       "    <tr>\n",
       "      <th>date_time</th>\n",
       "      <th></th>\n",
       "      <th></th>\n",
       "    </tr>\n",
       "  </thead>\n",
       "  <tbody>\n",
       "    <tr>\n",
       "      <th>2023-02-26 08:00:00+00:00</th>\n",
       "      <td>74.0</td>\n",
       "      <td>0.0</td>\n",
       "    </tr>\n",
       "    <tr>\n",
       "      <th>2023-02-26 09:00:00+00:00</th>\n",
       "      <td>74.0</td>\n",
       "      <td>0.0</td>\n",
       "    </tr>\n",
       "    <tr>\n",
       "      <th>2023-02-26 10:00:00+00:00</th>\n",
       "      <td>74.0</td>\n",
       "      <td>0.0</td>\n",
       "    </tr>\n",
       "  </tbody>\n",
       "</table>\n",
       "</div>"
      ],
      "text/plain": [
       "                           filllevel  motion\n",
       "date_time                                   \n",
       "2023-02-26 08:00:00+00:00       74.0     0.0\n",
       "2023-02-26 09:00:00+00:00       74.0     0.0\n",
       "2023-02-26 10:00:00+00:00       74.0     0.0"
      ]
     },
     "execution_count": 412,
     "metadata": {},
     "output_type": "execute_result"
    }
   ],
   "source": [
    "# Merge grouped bin sensor and stage activity\n",
    "\n",
    "merged_dataframe_A = pd.merge(grouped_bin_sensor1, grouped_stage_activity, on=\"date_time\",how='outer')\n",
    "merged_dataframe_A.head(3)"
   ]
  },
  {
   "cell_type": "code",
   "execution_count": 413,
   "metadata": {},
   "outputs": [
    {
     "data": {
      "text/html": [
       "<div>\n",
       "<style scoped>\n",
       "    .dataframe tbody tr th:only-of-type {\n",
       "        vertical-align: middle;\n",
       "    }\n",
       "\n",
       "    .dataframe tbody tr th {\n",
       "        vertical-align: top;\n",
       "    }\n",
       "\n",
       "    .dataframe thead th {\n",
       "        text-align: right;\n",
       "    }\n",
       "</style>\n",
       "<table border=\"1\" class=\"dataframe\">\n",
       "  <thead>\n",
       "    <tr style=\"text-align: right;\">\n",
       "      <th></th>\n",
       "      <th>keys1</th>\n",
       "      <th>total</th>\n",
       "      <th>dwell</th>\n",
       "      <th>avg_dwell</th>\n",
       "      <th>date_time</th>\n",
       "    </tr>\n",
       "  </thead>\n",
       "  <tbody>\n",
       "    <tr>\n",
       "      <th>32826</th>\n",
       "      <td>7780</td>\n",
       "      <td>223</td>\n",
       "      <td>44377</td>\n",
       "      <td>3.0</td>\n",
       "      <td>2023-02-26 07:00:00+00:00</td>\n",
       "    </tr>\n",
       "    <tr>\n",
       "      <th>32828</th>\n",
       "      <td>7780</td>\n",
       "      <td>237</td>\n",
       "      <td>88638</td>\n",
       "      <td>6.0</td>\n",
       "      <td>2023-02-26 06:00:00+00:00</td>\n",
       "    </tr>\n",
       "    <tr>\n",
       "      <th>32833</th>\n",
       "      <td>7780</td>\n",
       "      <td>186</td>\n",
       "      <td>72726</td>\n",
       "      <td>6.0</td>\n",
       "      <td>2023-02-26 05:00:00+00:00</td>\n",
       "    </tr>\n",
       "  </tbody>\n",
       "</table>\n",
       "</div>"
      ],
      "text/plain": [
       "       keys1  total  dwell  avg_dwell                 date_time\n",
       "32826   7780    223  44377        3.0 2023-02-26 07:00:00+00:00\n",
       "32828   7780    237  88638        6.0 2023-02-26 06:00:00+00:00\n",
       "32833   7780    186  72726        6.0 2023-02-26 05:00:00+00:00"
      ]
     },
     "execution_count": 413,
     "metadata": {},
     "output_type": "execute_result"
    }
   ],
   "source": [
    "# BLIX_PHONE DATASET PREPROCESSING: Filter unwated data\n",
    "\n",
    "# Keep only rows with sensores in the stage area\n",
    "filtered_blix_phone = blix_phones[blix_phones[\"keys1\"].isin([7780])]\n",
    "filtered_blix_phone.head(3)"
   ]
  },
  {
   "cell_type": "code",
   "execution_count": 414,
   "metadata": {},
   "outputs": [
    {
     "data": {
      "text/html": [
       "<div>\n",
       "<style scoped>\n",
       "    .dataframe tbody tr th:only-of-type {\n",
       "        vertical-align: middle;\n",
       "    }\n",
       "\n",
       "    .dataframe tbody tr th {\n",
       "        vertical-align: top;\n",
       "    }\n",
       "\n",
       "    .dataframe thead th {\n",
       "        text-align: right;\n",
       "    }\n",
       "</style>\n",
       "<table border=\"1\" class=\"dataframe\">\n",
       "  <thead>\n",
       "    <tr style=\"text-align: right;\">\n",
       "      <th></th>\n",
       "      <th>filllevel</th>\n",
       "      <th>motion</th>\n",
       "      <th>total</th>\n",
       "    </tr>\n",
       "    <tr>\n",
       "      <th>date_time</th>\n",
       "      <th></th>\n",
       "      <th></th>\n",
       "      <th></th>\n",
       "    </tr>\n",
       "  </thead>\n",
       "  <tbody>\n",
       "    <tr>\n",
       "      <th>2023-02-26 08:00:00+00:00</th>\n",
       "      <td>74.0</td>\n",
       "      <td>0.0</td>\n",
       "      <td>177.0</td>\n",
       "    </tr>\n",
       "    <tr>\n",
       "      <th>2023-02-26 09:00:00+00:00</th>\n",
       "      <td>74.0</td>\n",
       "      <td>0.0</td>\n",
       "      <td>137.0</td>\n",
       "    </tr>\n",
       "    <tr>\n",
       "      <th>2023-02-26 10:00:00+00:00</th>\n",
       "      <td>74.0</td>\n",
       "      <td>0.0</td>\n",
       "      <td>77.0</td>\n",
       "    </tr>\n",
       "  </tbody>\n",
       "</table>\n",
       "</div>"
      ],
      "text/plain": [
       "                           filllevel  motion  total\n",
       "date_time                                          \n",
       "2023-02-26 08:00:00+00:00       74.0     0.0  177.0\n",
       "2023-02-26 09:00:00+00:00       74.0     0.0  137.0\n",
       "2023-02-26 10:00:00+00:00       74.0     0.0   77.0"
      ]
     },
     "execution_count": 414,
     "metadata": {},
     "output_type": "execute_result"
    }
   ],
   "source": [
    "# BLIX PHONES DATASET ALREADY SAMPLED BY HOUR\n",
    "\n",
    "# Set filtered_blix_phones index to datetime column\n",
    "filtered_blix_phone.set_index('date_time', inplace=True)\n",
    "\n",
    "# Merge grouped stage activity, grouped bin sensor and grouped blix phones\n",
    "merged_dataframe = pd.merge(merged_dataframe_A, filtered_blix_phone['total'], on=\"date_time\",how='outer')\n",
    "merged_dataframe.head(3)"
   ]
  },
  {
   "cell_type": "code",
   "execution_count": 415,
   "metadata": {},
   "outputs": [
    {
     "data": {
      "text/plain": [
       "368"
      ]
     },
     "execution_count": 415,
     "metadata": {},
     "output_type": "execute_result"
    }
   ],
   "source": [
    "# Count the number of rows with NaN values in any column\n",
    "merged_dataframe.isna().any(axis=1).sum()\n",
    "\n"
   ]
  },
  {
   "cell_type": "code",
   "execution_count": 416,
   "metadata": {},
   "outputs": [
    {
     "data": {
      "text/plain": [
       "9488"
      ]
     },
     "execution_count": 416,
     "metadata": {},
     "output_type": "execute_result"
    }
   ],
   "source": [
    "# Find the lenth of the merged dataframe\n",
    "len(merged_dataframe.index)"
   ]
  },
  {
   "cell_type": "markdown",
   "metadata": {},
   "source": [
    "Feature Correlation"
   ]
  },
  {
   "cell_type": "code",
   "execution_count": 417,
   "metadata": {},
   "outputs": [
    {
     "name": "stdout",
     "output_type": "stream",
     "text": [
      "date_time    datetime64[ns, UTC]\n",
      "filllevel                float64\n",
      "motion                   float64\n",
      "total                    float64\n",
      "dtype: object\n"
     ]
    },
    {
     "data": {
      "text/html": [
       "<div>\n",
       "<style scoped>\n",
       "    .dataframe tbody tr th:only-of-type {\n",
       "        vertical-align: middle;\n",
       "    }\n",
       "\n",
       "    .dataframe tbody tr th {\n",
       "        vertical-align: top;\n",
       "    }\n",
       "\n",
       "    .dataframe thead th {\n",
       "        text-align: right;\n",
       "    }\n",
       "</style>\n",
       "<table border=\"1\" class=\"dataframe\">\n",
       "  <thead>\n",
       "    <tr style=\"text-align: right;\">\n",
       "      <th></th>\n",
       "      <th>date_time</th>\n",
       "      <th>filllevel</th>\n",
       "      <th>motion</th>\n",
       "      <th>total</th>\n",
       "    </tr>\n",
       "  </thead>\n",
       "  <tbody>\n",
       "    <tr>\n",
       "      <th>0</th>\n",
       "      <td>2023-02-26 08:00:00+00:00</td>\n",
       "      <td>74.0</td>\n",
       "      <td>0.0</td>\n",
       "      <td>177.0</td>\n",
       "    </tr>\n",
       "    <tr>\n",
       "      <th>1</th>\n",
       "      <td>2023-02-26 09:00:00+00:00</td>\n",
       "      <td>74.0</td>\n",
       "      <td>0.0</td>\n",
       "      <td>137.0</td>\n",
       "    </tr>\n",
       "    <tr>\n",
       "      <th>2</th>\n",
       "      <td>2023-02-26 10:00:00+00:00</td>\n",
       "      <td>74.0</td>\n",
       "      <td>0.0</td>\n",
       "      <td>77.0</td>\n",
       "    </tr>\n",
       "  </tbody>\n",
       "</table>\n",
       "</div>"
      ],
      "text/plain": [
       "                  date_time  filllevel  motion  total\n",
       "0 2023-02-26 08:00:00+00:00       74.0     0.0  177.0\n",
       "1 2023-02-26 09:00:00+00:00       74.0     0.0  137.0\n",
       "2 2023-02-26 10:00:00+00:00       74.0     0.0   77.0"
      ]
     },
     "execution_count": 417,
     "metadata": {},
     "output_type": "execute_result"
    }
   ],
   "source": [
    "# add back in an index column to allow feature corelation with time as well\n",
    "merged_dataframe = merged_dataframe.reset_index()\n",
    "print(merged_dataframe.dtypes)\n",
    "merged_dataframe.head(3)\n"
   ]
  },
  {
   "cell_type": "code",
   "execution_count": 420,
   "metadata": {},
   "outputs": [
    {
     "name": "stdout",
     "output_type": "stream",
     "text": [
      "           date_time  filllevel  motion  total\n",
      "date_time       1.00       0.80    0.00  -0.02\n",
      "filllevel       0.80       1.00    0.01  -0.02\n",
      "motion          0.00       0.01    1.00   0.40\n",
      "total          -0.02      -0.02    0.40   1.00\n"
     ]
    }
   ],
   "source": [
    "# Calculate correlation matrix for all columns\n",
    "matrix = merged_dataframe.corr().round(2)\n",
    "print(matrix)"
   ]
  },
  {
   "cell_type": "code",
   "execution_count": 426,
   "metadata": {},
   "outputs": [
    {
     "data": {
      "image/png": "[encoded data removed]",
      "text/plain": [
       "<Figure size 640x480 with 2 Axes>"
      ]
     },
     "metadata": {},
     "output_type": "display_data"
    }
   ],
   "source": [
    "# Calculate correlation heatmap for all columns\n",
    "matrix = merged_dataframe.corr().round(2)\n",
    "mask = np.triu(np.ones_like(matrix, dtype=bool))\n",
    "sns.heatmap(matrix, annot=True, cmap='GnBu', mask=mask)\n",
    "\n",
    "plt.show()"
   ]
  },
  {
   "cell_type": "code",
   "execution_count": 419,
   "metadata": {},
   "outputs": [],
   "source": [
    "#!jupyter nbconvert --to html usecase_TEMPLATE_COPY.ipynb"
   ]
  }
 ],
 "metadata": {
  "kernelspec": {
   "display_name": "Python 3",
   "language": "python",
   "name": "python3"
  },
  "language_info": {
   "codemirror_mode": {
    "name": "ipython",
    "version": 3
   },
   "file_extension": ".py",
   "mimetype": "text/x-python",
   "name": "python",
   "nbconvert_exporter": "python",
   "pygments_lexer": "ipython3",
   "version": "3.10.10"
  },
  "vscode": {
   "interpreter": {
    "hash": "369f2c481f4da34e4445cda3fffd2e751bd1c4d706f27375911949ba6bb62e1c"
   }
  }
 },
 "nbformat": 4,
 "nbformat_minor": 4
}
