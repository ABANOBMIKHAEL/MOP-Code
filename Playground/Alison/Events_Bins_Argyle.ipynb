{
 "cells": [
  {
   "cell_type": "markdown",
   "metadata": {},
   "source": [
    "<div class=\"usecase-title\">{Bins for events Argyle Squrae}</div>\n",
    "\n",
    "<div class=\"usecase-authors\"><b>Authored by: </b> {Alison Collins}</div>"
   ]
  },
  {
   "cell_type": "markdown",
   "metadata": {},
   "source": [
    "<div class=\"usecase-duration\"><b>Duration:</b> {90} mins</div>\n",
    "\n",
    "<div class=\"usecase-level-skill\">\n",
    "    <div class=\"usecase-level\"><b>Level: </b>{Intermediate}</div>\n",
    "    <div class=\"usecase-skill\"><b>Pre-requisite Skills: </b>{Python}</div>\n",
    "</div>"
   ]
  },
  {
   "cell_type": "markdown",
   "metadata": {},
   "source": [
    "<div class=\"usecase-section-header\">Scenario</div>"
   ]
  },
  {
   "cell_type": "markdown",
   "metadata": {},
   "source": [
    "{If you are planning an event at Argyle Square you will need to know if you need to hire additional bins. This use case seeks to determine th ebin capacity during events and make recommendations on the need for more bins based on event attendee numbers.}"
   ]
  },
  {
   "cell_type": "markdown",
   "metadata": {},
   "source": [
    "<div class=\"usecase-section-header\">What this use case will teach you</div>"
   ]
  },
  {
   "cell_type": "markdown",
   "metadata": {},
   "source": [
    "At the end of this use case you will:\n",
    "- {list the skills demonstrated in your use case}"
   ]
  },
  {
   "cell_type": "markdown",
   "metadata": {},
   "source": [
    "<div class=\"usecase-section-header\">{Heading for introduction or background relating to problem}</div>"
   ]
  },
  {
   "cell_type": "markdown",
   "metadata": {},
   "source": [
    "{Write your introduction here. Keep it concise. We're not after \"War and Peace\" but enough background information to inform the reader on the rationale for solving this problem or background non-technical information that helps explain the approach. You may also wish to give information on the datasets, particularly how to source those not being imported from the client's open data portal.}\n",
    "\n"
   ]
  },
  {
   "cell_type": "code",
   "execution_count": 1,
   "metadata": {},
   "outputs": [],
   "source": [
    "# Import required modules\n",
    "import requests\n",
    "import pandas as pd\n",
    "import os"
   ]
  },
  {
   "cell_type": "code",
   "execution_count": 5,
   "metadata": {},
   "outputs": [
    {
     "data": {
      "text/html": [
       "<div>\n",
       "<style scoped>\n",
       "    .dataframe tbody tr th:only-of-type {\n",
       "        vertical-align: middle;\n",
       "    }\n",
       "\n",
       "    .dataframe tbody tr th {\n",
       "        vertical-align: top;\n",
       "    }\n",
       "\n",
       "    .dataframe thead th {\n",
       "        text-align: right;\n",
       "    }\n",
       "</style>\n",
       "<table border=\"1\" class=\"dataframe\">\n",
       "  <thead>\n",
       "    <tr style=\"text-align: right;\">\n",
       "      <th></th>\n",
       "      <th>dev_id</th>\n",
       "      <th>Sensor Name</th>\n",
       "      <th>date_measure</th>\n",
       "      <th>temperature</th>\n",
       "      <th>humidity</th>\n",
       "      <th>light</th>\n",
       "      <th>motion</th>\n",
       "      <th>visit</th>\n",
       "      <th>vdd</th>\n",
       "      <th>Lat Long</th>\n",
       "    </tr>\n",
       "  </thead>\n",
       "  <tbody>\n",
       "    <tr>\n",
       "      <th>0</th>\n",
       "      <td>ers-55eb</td>\n",
       "      <td>NaN</td>\n",
       "      <td>2022-12-14T07:09:42+11:00</td>\n",
       "      <td>10.5</td>\n",
       "      <td>89</td>\n",
       "      <td>297</td>\n",
       "      <td>0</td>\n",
       "      <td>0</td>\n",
       "      <td>3638</td>\n",
       "      <td>NaN</td>\n",
       "    </tr>\n",
       "    <tr>\n",
       "      <th>1</th>\n",
       "      <td>ers-55ea</td>\n",
       "      <td>NaN</td>\n",
       "      <td>2022-12-14T07:26:03+11:00</td>\n",
       "      <td>10.6</td>\n",
       "      <td>88</td>\n",
       "      <td>136</td>\n",
       "      <td>0</td>\n",
       "      <td>0</td>\n",
       "      <td>3635</td>\n",
       "      <td>NaN</td>\n",
       "    </tr>\n",
       "    <tr>\n",
       "      <th>2</th>\n",
       "      <td>ers-55eb</td>\n",
       "      <td>NaN</td>\n",
       "      <td>2022-12-14T07:34:47+11:00</td>\n",
       "      <td>10.8</td>\n",
       "      <td>89</td>\n",
       "      <td>698</td>\n",
       "      <td>0</td>\n",
       "      <td>0</td>\n",
       "      <td>3638</td>\n",
       "      <td>NaN</td>\n",
       "    </tr>\n",
       "    <tr>\n",
       "      <th>3</th>\n",
       "      <td>ers-55eb</td>\n",
       "      <td>NaN</td>\n",
       "      <td>2022-12-14T07:39:48+11:00</td>\n",
       "      <td>10.9</td>\n",
       "      <td>89</td>\n",
       "      <td>582</td>\n",
       "      <td>0</td>\n",
       "      <td>0</td>\n",
       "      <td>3638</td>\n",
       "      <td>NaN</td>\n",
       "    </tr>\n",
       "    <tr>\n",
       "      <th>4</th>\n",
       "      <td>ers-55ea</td>\n",
       "      <td>NaN</td>\n",
       "      <td>2022-12-14T07:41:06+11:00</td>\n",
       "      <td>10.9</td>\n",
       "      <td>88</td>\n",
       "      <td>858</td>\n",
       "      <td>0</td>\n",
       "      <td>0</td>\n",
       "      <td>3630</td>\n",
       "      <td>NaN</td>\n",
       "    </tr>\n",
       "  </tbody>\n",
       "</table>\n",
       "</div>"
      ],
      "text/plain": [
       "     dev_id  Sensor Name               date_measure  temperature  humidity  \\\n",
       "0  ers-55eb          NaN  2022-12-14T07:09:42+11:00         10.5        89   \n",
       "1  ers-55ea          NaN  2022-12-14T07:26:03+11:00         10.6        88   \n",
       "2  ers-55eb          NaN  2022-12-14T07:34:47+11:00         10.8        89   \n",
       "3  ers-55eb          NaN  2022-12-14T07:39:48+11:00         10.9        89   \n",
       "4  ers-55ea          NaN  2022-12-14T07:41:06+11:00         10.9        88   \n",
       "\n",
       "   light  motion  visit   vdd  Lat Long  \n",
       "0    297       0      0  3638       NaN  \n",
       "1    136       0      0  3635       NaN  \n",
       "2    698       0      0  3638       NaN  \n",
       "3    582       0      0  3638       NaN  \n",
       "4    858       0      0  3630       NaN  "
      ]
     },
     "execution_count": 5,
     "metadata": {},
     "output_type": "execute_result"
    }
   ],
   "source": [
    "#Import datasets using csv as API has limits \n",
    "ss = pd.read_csv(\"https://data.melbourne.vic.gov.au/api/explore/v2.1/catalog/datasets/meshed-sensor-type-3/exports/csv?lang=en&timezone=Australia%2FSydney&use_labels=true&delimiter=%2C\")\n",
    "ss.head()"
   ]
  },
  {
   "cell_type": "code",
   "execution_count": 2,
   "metadata": {},
   "outputs": [
    {
     "name": "stderr",
     "output_type": "stream",
     "text": [
      "[NbConvertApp] Converting notebook usecase_TEMPLATE_COPY.ipynb to html\n",
      "[NbConvertApp] Writing 588410 bytes to usecase_TEMPLATE_COPY.html\n"
     ]
    }
   ],
   "source": [
    "!jupyter nbconvert --to html usecase_TEMPLATE_COPY.ipynb"
   ]
  }
 ],
 "metadata": {
  "kernelspec": {
   "display_name": "Python 3",
   "language": "python",
   "name": "python3"
  },
  "language_info": {
   "codemirror_mode": {
    "name": "ipython",
    "version": 3
   },
   "file_extension": ".py",
   "mimetype": "text/x-python",
   "name": "python",
   "nbconvert_exporter": "python",
   "pygments_lexer": "ipython3",
   "version": "3.10.10"
  },
  "vscode": {
   "interpreter": {
    "hash": "369f2c481f4da34e4445cda3fffd2e751bd1c4d706f27375911949ba6bb62e1c"
   }
  }
 },
 "nbformat": 4,
 "nbformat_minor": 4
}
