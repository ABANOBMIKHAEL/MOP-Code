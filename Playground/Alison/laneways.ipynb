{
 "cells": [
  {
   "cell_type": "code",
   "execution_count": null,
   "metadata": {},
   "outputs": [],
   "source": []
  },
  {
   "cell_type": "markdown",
   "metadata": {},
   "source": [
    "<div class=\"usecase-section-header\">Greening Laneways to reduce overland water flow events</div>\n",
    "\n",
    "<div class=\"usecase-authors\"><b>Authored by: </b>Alison Collins</div>\n",
    "\n",
    "<div class=\"usecase-duration\"><b>Duration:</b>60 mins</div>\n",
    "<div class=\"usecase-level\"><b>Level: </b>beginner</div>\n",
    "<div class=\"usecase-skill\"><b>Pre-requisite Skills: </b>Python</div>\n",
    "\n",
    "<div class=\"usecase-section-header\">Scenario</div>"
   ]
  },
  {
   "cell_type": "markdown",
   "metadata": {},
   "source": [
    "1. As a city planner, I want to identify the laneways that could most benefit from planting to reduce overland water runoff as part of the Greening Your Laneway program.\n",
    "\n",
    "2. As a building manager or residence owner, I want to visualise the potential of laneway greening in reducing water damage to my property from overflow events."
   ]
  },
  {
   "cell_type": "markdown",
   "metadata": {},
   "source": [
    "<div class=\"usecase-section-header\">Learning Objectives</div>"
   ]
  },
  {
   "cell_type": "markdown",
   "metadata": {},
   "source": [
    "At the end of this use case you will be able to:\n",
    "* Work with spatial databases using Geopandas\n",
    "* Visualise spatial data on an interactive map"
   ]
  },
  {
   "cell_type": "markdown",
   "metadata": {},
   "source": [
    "<div class=\"usecase-section-header\">Greening Laneways to Reduce Runoff</div>"
   ]
  },
  {
   "cell_type": "markdown",
   "metadata": {},
   "source": [
    "##### **What is the Green Your Laneway Program?**\n",
    "\n",
    "The green laneways program was established in 2017 with aa pilot project of four Laneways: Katherine Place, Meyers Place, Guildford Lane and Coromandel Place. These laneways were greened using a mixture of potted plants on windowsills and nature strips as well as creeper vines. The benefits of greening laneways includes:\n",
    "\n",
    "- oxygen production for fresh air to breathe\n",
    "- storage of carbon dioxide, helping reduce green house gases\n",
    "- trees absorb water, helping reduce flooding events\n",
    "- evapotranspiration from leaves produces a cooling effect, reducing heat waves\n",
    "- provide habitats for wildlife\n",
    "- trees reduce cortisol in our brains, improving mental health and wellbeing\n",
    "\n",
    "More information:\n",
    "https://www.treesforcities.org/stories/trees-in-our-cities-10-reasons-we-need-to-plant-more\n",
    "\n",
    "\n",
    "##### **How do plants reduce surface water overflow?**\n",
    "\n",
    "Plants and soil will absorb some of the excess water during rain events. One problem that occurs within Melboune city is the runoff of water over roads. Due to non-permeable surfaces, water runs across the top of the land prior to enterinng a stormwater drain, causing \"rivers\" of water on roads and laneways in the CBD.  For this reason, consideration of the locations where water flows over land should be investigated in regards to choosing laneway locations for future greening projects."
   ]
  },
  {
   "cell_type": "markdown",
   "metadata": {},
   "source": [
    "<div class=\"usecase-section-header\">Relevant datasets</div>"
   ]
  },
  {
   "cell_type": "markdown",
   "metadata": {},
   "source": [
    "[Laneways with Greening Potential](https://data.melbourne.vic.gov.au/explore/dataset/laneways-with-greening-potential/export/)\n",
    "- The City of Melbourne collected data analysing the best potential type of plantings in each of the city laneways; farm plantings, park species, vertically growing species and forest type species. Each type of planting was given a categorical value of potential for types of planting: Highest, Good, Some or Lowest."
   ]
  },
  {
   "cell_type": "markdown",
   "metadata": {},
   "source": [
    "[Water flow routes over land (Urban Forest)](https://data.melbourne.vic.gov.au/explore/dataset/water-flow-routes-over-land-urban-forest/export/)\n",
    "- Data was collected in 2008 using an ESRI Spatial Analyst stream order tool. "
   ]
  },
  {
   "cell_type": "markdown",
   "metadata": {},
   "source": [
    "<div class=\"usecase-section-header\">Exploratory data analysis steps</div>"
   ]
  },
  {
   "cell_type": "markdown",
   "metadata": {},
   "source": [
    "1. Import modules\n",
    "2. Access and read in data sets as Geopandas files\n",
    "3. Map overlap locations of water runoff and laneways\n",
    "\n"
   ]
  },
  {
   "cell_type": "code",
   "execution_count": 4,
   "metadata": {},
   "outputs": [],
   "source": [
    "# Import modules\n",
    "import requests\n",
    "import pandas as pd\n",
    "import geopandas"
   ]
  },
  {
   "cell_type": "code",
   "execution_count": 5,
   "metadata": {},
   "outputs": [],
   "source": [
    "# Function to get data from website using API\n",
    "def get_data_single(base, SPECIFIC_PATH, apikey, offset=0):    \n",
    "    # Set the filters, limit retrieves 20 rows at a time, offset says where to start data collection\n",
    "    filters = f'records?limit={100}&offset={offset}&timezone=UTC'\n",
    "    # Make the url from base, data url and filters variables stored ouside loop\n",
    "    url = f'{base}{SPECIFIC_PATH}/{filters}&apikey={apikey}'\n",
    "    # print(url) - can be used locally to check if code is working if 404 error given\n",
    "    # Use the requests function to get the data\n",
    "    result = requests.get(url)\n",
    "    # Check that the request works, error code 200 = successful\n",
    "    if result.status_code == 200:\n",
    "        # Save results as a json file\n",
    "        result_json = result.json()\n",
    "        # Store a variable of max_results with total of dataset\n",
    "        max_results = result_json['total_count']\n",
    "        # Save the results key data to a list variable\n",
    "        records = result_json['results']\n",
    "    else:\n",
    "        # If data is not collected correctly return the error\n",
    "        print(\"ERROR GETTING DATA: \", result.status_code)\n",
    "        max_results = 0\n",
    "        records = []\n",
    "    # At end of function, return the json results in records, max_results count and offset\n",
    "    return [records, max_results, offset]\n",
    "\n",
    "\n",
    "def fetch_all_data(SPECIFIC_PATH):\n",
    "    # Collect data from API\n",
    "    # Set offset increment\n",
    "    # (needs to match offset in get data function)\n",
    "    OFFSET_INCREMENT = 100\n",
    "    # Base url (this should be the same for all datasets)\n",
    "    base_url = 'https://data.melbourne.vic.gov.au/api/explore/v2.1/catalog/datasets/'\n",
    "    # Set your API key\n",
    "    # Set path to your API key\n",
    "    # (needs to be a destination on your local device where API is kept)\n",
    "    path = 'C:/Users/alito/Documents/SIT764/MOP-Code/env.txt'\n",
    "    apikey_local = open(path, 'r')\n",
    "    apikey = apikey_local.read()   \n",
    "    # Call the get data function, passing in variables above, save to result\n",
    "    result = get_data_single(base_url, SPECIFIC_PATH, apikey)\n",
    "    # Save the records data returned in the get_data function to records list variable\n",
    "    records = result[0]\n",
    "    # Save the dataset size data returned in the get_data function to max_results variable\n",
    "    max_results = result[1] \n",
    "    # Increase the offset returned in the get_data function (result[2]) by the offset increment\n",
    "    offset = result[2] + OFFSET_INCREMENT\n",
    "    # Check the length of the data returned and compare it against the max_results variable\n",
    "    # If the length o fthe data is less than the max_results, run the while loop\n",
    "    while len(records) != max_results:\n",
    "        # Call the get data function again, passing in url, specific path and new offset value\n",
    "        data = get_data_single(base_url, SPECIFIC_PATH, apikey, offset)\n",
    "        # Add the data collected to the existing records list\n",
    "        records += data[0]\n",
    "        # Increase the offset by the offset increment\n",
    "        offset += OFFSET_INCREMENT\n",
    "    # Convert the records list of dictionaries into a pandas dataframe \n",
    "    df = pd.DataFrame(records)\n",
    "    # Print the dataframe\n",
    "    return df"
   ]
  },
  {
   "cell_type": "code",
   "execution_count": 11,
   "metadata": {},
   "outputs": [
    {
     "data": {
      "text/html": [
       "<div>\n",
       "<style scoped>\n",
       "    .dataframe tbody tr th:only-of-type {\n",
       "        vertical-align: middle;\n",
       "    }\n",
       "\n",
       "    .dataframe tbody tr th {\n",
       "        vertical-align: top;\n",
       "    }\n",
       "\n",
       "    .dataframe thead th {\n",
       "        text-align: right;\n",
       "    }\n",
       "</style>\n",
       "<table border=\"1\" class=\"dataframe\">\n",
       "  <thead>\n",
       "    <tr style=\"text-align: right;\">\n",
       "      <th></th>\n",
       "      <th>geo_point_2d</th>\n",
       "      <th>geo_shape</th>\n",
       "      <th>segid_1</th>\n",
       "      <th>mapbase_mc</th>\n",
       "      <th>insol_scor</th>\n",
       "      <th>verticalsu</th>\n",
       "      <th>segid</th>\n",
       "      <th>driveways</th>\n",
       "      <th>parklane</th>\n",
       "      <th>objectid</th>\n",
       "      <th>...</th>\n",
       "      <th>farmlane</th>\n",
       "      <th>walls</th>\n",
       "      <th>farm_rank</th>\n",
       "      <th>vert_rank</th>\n",
       "      <th>fores_rank</th>\n",
       "      <th>forest</th>\n",
       "      <th>park_rank</th>\n",
       "      <th>binsperct</th>\n",
       "      <th>mapbase_1</th>\n",
       "      <th>wsud</th>\n",
       "    </tr>\n",
       "  </thead>\n",
       "  <tbody>\n",
       "    <tr>\n",
       "      <th>0</th>\n",
       "      <td>{'lon': 144.9623447558369, 'lat': -37.81980050...</td>\n",
       "      <td>{'type': 'Feature', 'geometry': {'coordinates'...</td>\n",
       "      <td>10714</td>\n",
       "      <td>10714.0</td>\n",
       "      <td>6.492595</td>\n",
       "      <td>0.0</td>\n",
       "      <td>10714</td>\n",
       "      <td>1</td>\n",
       "      <td>53.830526</td>\n",
       "      <td>1</td>\n",
       "      <td>...</td>\n",
       "      <td>58.518386</td>\n",
       "      <td>Probably Unsuitable</td>\n",
       "      <td>Highest Potential</td>\n",
       "      <td>Lowest potential</td>\n",
       "      <td>Lowest potential</td>\n",
       "      <td>0.000000</td>\n",
       "      <td>Highest potential</td>\n",
       "      <td>0.0</td>\n",
       "      <td>Banana Alley</td>\n",
       "      <td>Probably Unsuitable</td>\n",
       "    </tr>\n",
       "    <tr>\n",
       "      <th>1</th>\n",
       "      <td>{'lon': 144.97170834375964, 'lat': -37.8109763...</td>\n",
       "      <td>{'type': 'Feature', 'geometry': {'coordinates'...</td>\n",
       "      <td>20229</td>\n",
       "      <td>20229.0</td>\n",
       "      <td>2.215613</td>\n",
       "      <td>0.0</td>\n",
       "      <td>20229</td>\n",
       "      <td>2</td>\n",
       "      <td>0.000000</td>\n",
       "      <td>5</td>\n",
       "      <td>...</td>\n",
       "      <td>0.000000</td>\n",
       "      <td>Probably Unsuitable</td>\n",
       "      <td>Lowest potential</td>\n",
       "      <td>Lowest potential</td>\n",
       "      <td>Good potential</td>\n",
       "      <td>49.153357</td>\n",
       "      <td>Lowest potential</td>\n",
       "      <td>60.0</td>\n",
       "      <td>Harwood Place</td>\n",
       "      <td>Consider</td>\n",
       "    </tr>\n",
       "  </tbody>\n",
       "</table>\n",
       "<p>2 rows × 23 columns</p>\n",
       "</div>"
      ],
      "text/plain": [
       "                                        geo_point_2d  \\\n",
       "0  {'lon': 144.9623447558369, 'lat': -37.81980050...   \n",
       "1  {'lon': 144.97170834375964, 'lat': -37.8109763...   \n",
       "\n",
       "                                           geo_shape  segid_1  mapbase_mc  \\\n",
       "0  {'type': 'Feature', 'geometry': {'coordinates'...    10714     10714.0   \n",
       "1  {'type': 'Feature', 'geometry': {'coordinates'...    20229     20229.0   \n",
       "\n",
       "   insol_scor  verticalsu  segid driveways   parklane  objectid  ...  \\\n",
       "0    6.492595         0.0  10714         1  53.830526         1  ...   \n",
       "1    2.215613         0.0  20229         2   0.000000         5  ...   \n",
       "\n",
       "    farmlane                walls          farm_rank         vert_rank  \\\n",
       "0  58.518386  Probably Unsuitable  Highest Potential  Lowest potential   \n",
       "1   0.000000  Probably Unsuitable   Lowest potential  Lowest potential   \n",
       "\n",
       "         fores_rank     forest          park_rank binsperct      mapbase_1  \\\n",
       "0  Lowest potential   0.000000  Highest potential       0.0   Banana Alley   \n",
       "1    Good potential  49.153357   Lowest potential      60.0  Harwood Place   \n",
       "\n",
       "                  wsud  \n",
       "0  Probably Unsuitable  \n",
       "1             Consider  \n",
       "\n",
       "[2 rows x 23 columns]"
      ]
     },
     "execution_count": 11,
     "metadata": {},
     "output_type": "execute_result"
    }
   ],
   "source": [
    "# Read in Laneways with Greening Potential Dataset\n",
    "# Set specific url \n",
    "SPECIFIC_PATH = 'laneways-with-greening-potential'\n",
    "# Collect data\n",
    "lane_df = fetch_all_data(SPECIFIC_PATH)     \n",
    "lane_df.head(2)"
   ]
  },
  {
   "cell_type": "code",
   "execution_count": 12,
   "metadata": {},
   "outputs": [
    {
     "data": {
      "text/html": [
       "<div>\n",
       "<style scoped>\n",
       "    .dataframe tbody tr th:only-of-type {\n",
       "        vertical-align: middle;\n",
       "    }\n",
       "\n",
       "    .dataframe tbody tr th {\n",
       "        vertical-align: top;\n",
       "    }\n",
       "\n",
       "    .dataframe thead th {\n",
       "        text-align: right;\n",
       "    }\n",
       "</style>\n",
       "<table border=\"1\" class=\"dataframe\">\n",
       "  <thead>\n",
       "    <tr style=\"text-align: right;\">\n",
       "      <th></th>\n",
       "      <th>geo_point_2d</th>\n",
       "      <th>geo_shape</th>\n",
       "      <th>grid_code</th>\n",
       "      <th>source</th>\n",
       "      <th>to_node</th>\n",
       "      <th>arcid</th>\n",
       "      <th>from_node</th>\n",
       "    </tr>\n",
       "  </thead>\n",
       "  <tbody>\n",
       "    <tr>\n",
       "      <th>0</th>\n",
       "      <td>{'lon': 144.93012309946076, 'lat': -37.8091117...</td>\n",
       "      <td>{'type': 'Feature', 'geometry': {'coordinates'...</td>\n",
       "      <td>3</td>\n",
       "      <td>2008 DEM to stream order using ESRI Spatial An...</td>\n",
       "      <td>3112</td>\n",
       "      <td>3502</td>\n",
       "      <td>3111</td>\n",
       "    </tr>\n",
       "    <tr>\n",
       "      <th>1</th>\n",
       "      <td>{'lon': 144.9260809159682, 'lat': -37.80905866...</td>\n",
       "      <td>{'type': 'Feature', 'geometry': {'coordinates'...</td>\n",
       "      <td>1</td>\n",
       "      <td>2008 DEM to stream order using ESRI Spatial An...</td>\n",
       "      <td>3117</td>\n",
       "      <td>3510</td>\n",
       "      <td>3116</td>\n",
       "    </tr>\n",
       "  </tbody>\n",
       "</table>\n",
       "</div>"
      ],
      "text/plain": [
       "                                        geo_point_2d  \\\n",
       "0  {'lon': 144.93012309946076, 'lat': -37.8091117...   \n",
       "1  {'lon': 144.9260809159682, 'lat': -37.80905866...   \n",
       "\n",
       "                                           geo_shape grid_code  \\\n",
       "0  {'type': 'Feature', 'geometry': {'coordinates'...         3   \n",
       "1  {'type': 'Feature', 'geometry': {'coordinates'...         1   \n",
       "\n",
       "                                              source to_node arcid from_node  \n",
       "0  2008 DEM to stream order using ESRI Spatial An...    3112  3502      3111  \n",
       "1  2008 DEM to stream order using ESRI Spatial An...    3117  3510      3116  "
      ]
     },
     "execution_count": 12,
     "metadata": {},
     "output_type": "execute_result"
    }
   ],
   "source": [
    "# Read in Water flow routes over land (Urban Forest) Dataset\n",
    "# Set specific url \n",
    "SPECIFIC_PATH = 'water-flow-routes-over-land-urban-forest'\n",
    "# Collect data\n",
    "water_df = fetch_all_data(SPECIFIC_PATH)     \n",
    "water_df.head(2)\n"
   ]
  },
  {
   "cell_type": "code",
   "execution_count": null,
   "metadata": {},
   "outputs": [],
   "source": []
  }
 ],
 "metadata": {
  "kernelspec": {
   "display_name": "Python 3",
   "language": "python",
   "name": "python3"
  },
  "language_info": {
   "codemirror_mode": {
    "name": "ipython",
    "version": 3
   },
   "file_extension": ".py",
   "mimetype": "text/x-python",
   "name": "python",
   "nbconvert_exporter": "python",
   "pygments_lexer": "ipython3",
   "version": "3.10.10"
  }
 },
 "nbformat": 4,
 "nbformat_minor": 2
}
