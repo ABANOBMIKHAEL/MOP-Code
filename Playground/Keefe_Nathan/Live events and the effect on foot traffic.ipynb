{
 "cells": [
  {
   "cell_type": "markdown",
   "id": "5ace0af9",
   "metadata": {},
   "source": [
    "# Live events and the effect on foot traffic\n",
    "__Authored by:__ Keefe Alpay and Nathan Clee <br>\n",
    "\n",
    "__Duration:__ 90 mins <br>\n",
    "__Level:__ Intermediate <br>\n",
    "__Pre-requisite Skills:__ Python <br>\n",
    "*** \n",
    "### Scenario \n",
    "* As the city council, we want determine if parking in Melbourne is adequate during live events <br>\n",
    "* As the city council, we want to know the effect of live events on foot traffic around the CBD in order to <br>\n",
    "* As a business owner, I want to know the foot traffic in certain areas\n",
    "\n",
    "### Exploratory Data Analysis Objectives \n",
    "* Analyse foot traffic"
   ]
  },
  {
   "cell_type": "markdown",
   "id": "a23baf26",
   "metadata": {},
   "source": []
  },
  {
   "cell_type": "markdown",
   "id": "8d903a5d",
   "metadata": {},
   "source": []
  },
  {
   "cell_type": "code",
   "execution_count": null,
   "id": "1ae5a8b8",
   "metadata": {},
   "outputs": [],
   "source": []
  }
 ],
 "metadata": {
  "kernelspec": {
   "display_name": "Python 3 (ipykernel)",
   "language": "python",
   "name": "python3"
  },
  "language_info": {
   "codemirror_mode": {
    "name": "ipython",
    "version": 3
   },
   "file_extension": ".py",
   "mimetype": "text/x-python",
   "name": "python",
   "nbconvert_exporter": "python",
   "pygments_lexer": "ipython3",
   "version": "3.9.13"
  }
 },
 "nbformat": 4,
 "nbformat_minor": 5
}
