{
 "cells": [
  {
   "cell_type": "markdown",
   "id": "5ace0af9",
   "metadata": {},
   "source": [
    "# Live events and the effect on foot traffic \n",
    "__Authored by:__ Keefe Alpay and Nathan Clee <br>\n",
    "\n",
    "__Duration:__ 90 mins <br>\n",
    "__Level:__ Intermediate <br>\n",
    "__Pre-requisite Skills:__ Python <br>\n",
    "*** \n",
    "### Scenario \n",
    "* As a business owner in the city of Melbourne, I wish to know where the pedestrian traffic are during live events. <br>\n",
    "* As the city council, we want to determine the impact of live events on pedestrian traffic and if possible, the forecast for future live events. <br>\n",
    "\n",
    "### Exploratory Data Analysis Objectives \n",
    "Live events are defined as events experienced in real-time, where an audience is present and engaged with a performance or an activity. Live events can include concerts, sporting events such as the Tennis or the AFL, festivals, conferences and theater productions.\n",
    "\n",
    "The goals for this analysis are:\n",
    "* Analyse foot traffic near locations where live events would occur (Marvel stadium, near flinders st station towards MCG)\n",
    "* Identify the volume of pedestrian traffic during live events \n",
    "* Project/predict the forecast for live events in a graph \n",
    "\n",
    "### Strategic Benefits for the City of Melbourne\n",
    "Analysing pedestrian foot traffic during live events can help Melbourne residents, business owners and the council in the following ways:\n",
    "* Businesses that undestand foot traffic can help them optimise their operations and better their marketing efforts. For example, when foot traffic is heavy during certain in the night, businesses can extend their trading hours, allowing more customers to shop. Businesses can also advertise their product or service in specific locations where foot traffic is heavy. \n",
    "* Foot traffic can benefit the city council by helping them understand how pedestrians use footpaths. The council can allocate resources to improve pedestrian experience by improving lighting in certain areas and investing in public transport to make busses and trams easily accessible during live events.\n",
    "\n",
    "***\n",
    "## City Of Melbourne Open Data Datasets\n",
    "### Pedestrian Counting System - Monthly (counts per hour)\n",
    "The first and most improtant dataset we are going to explore is the pedestrian foot traffic\n",
    "*__[Pedestrian Counting System - Monthly (counts per hour)](https://data.melbourne.vic.gov.au/explore/dataset/pedestrian-counting-system-monthly-counts-per-hour/information/)__*\n",
    "\n",
    "### Off-street car parks with capacity and type\n",
    "The second dataset is *__[Off-street car parks with capacity and type](https://data.melbourne.vic.gov.au/explore/dataset/off-street-car-parks-with-capacity-and-type/information/?sort=census_year&dataChart=eyJxdWVyaWVzIjpbeyJjaGFydHMiOlt7InR5cGUiOiJjb2x1bW4iLCJmdW5jIjoiU1VNIiwieUF4aXMiOiJwYXJraW5nX3NwYWNlcyIsInNjaWVudGlmaWNEaXNwbGF5Ijp0cnVlLCJjb2xvciI6InJhbmdlLWN1c3RvbSJ9XSwieEF4aXMiOiJjZW5zdXNfeWVhciIsIm1heHBvaW50cyI6IiIsInRpbWVzY2FsZSI6InllYXIiLCJzb3J0IjoiIiwic2VyaWVzQnJlYWtkb3duIjoicGFya2luZ190eXBlIiwic3RhY2tlZCI6Im5vcm1hbCIsImNvbmZpZyI6eyJkYXRhc2V0Ijoib2ZmLXN0cmVldC1jYXItcGFya3Mtd2l0aC1jYXBhY2l0eS1hbmQtdHlwZSIsIm9wdGlvbnMiOnsic29ydCI6ImNlbnN1c195ZWFyIn19fV0sImRpc3BsYXlMZWdlbmQiOnRydWUsImFsaWduTW9udGgiOnRydWUsInRpbWVzY2FsZSI6IiJ9&location=18,-37.81841,144.94547&basemap=mbs-7a7333)__* \n",
    "\n",
    "### On-street Parking Bay Sensors\n",
    "The third dataset is *__[On-street Parking Bay Sensors](https://data.melbourne.vic.gov.au/explore/dataset/on-street-parking-bay-sensors/information/?sort=last_updated&dataChart=eyJxdWVyaWVzIjpbeyJjaGFydHMiOlt7InR5cGUiOiJjb2x1bW4iLCJmdW5jIjoiQ09VTlQiLCJ5QXhpcyI6ImJheV9pZCIsInNjaWVudGlmaWNEaXNwbGF5Ijp0cnVlLCJjb2xvciI6IiNFNTBFNTYifV0sInhBeGlzIjoic3RhdHVzIiwibWF4cG9pbnRzIjo1MCwic29ydCI6IiIsImNvbmZpZyI6eyJkYXRhc2V0Ijoib24tc3RyZWV0LXBhcmtpbmctYmF5LXNlbnNvcnMiLCJvcHRpb25zIjp7InNvcnQiOiJsYXN0X3VwZGF0ZWQifX19XSwidGltZXNjYWxlIjoiIiwiZGlzcGxheUxlZ2VuZCI6dHJ1ZSwiYWxpZ25Nb250aCI6dHJ1ZX0%3D)__*\n"
   ]
  },
  {
   "cell_type": "markdown",
   "id": "13846a3d",
   "metadata": {},
   "source": [
    "<div class=\"alert alert-block alert-warning\">\n",
    "<b>DELETE THIS AFTER FINISH (Markdown cheatsheet):</b> https://www.ibm.com/docs/en/watson-studio-local/1.2.3?topic=notebooks-markdown-jupyter-cheatsheet\n",
    "</div>"
   ]
  },
  {
   "cell_type": "code",
   "execution_count": null,
   "id": "08bf2ded",
   "metadata": {},
   "outputs": [],
   "source": []
  }
 ],
 "metadata": {
  "kernelspec": {
   "display_name": "Python 3 (ipykernel)",
   "language": "python",
   "name": "python3"
  },
  "language_info": {
   "codemirror_mode": {
    "name": "ipython",
    "version": 3
   },
   "file_extension": ".py",
   "mimetype": "text/x-python",
   "name": "python",
   "nbconvert_exporter": "python",
   "pygments_lexer": "ipython3",
   "version": "3.9.13"
  }
 },
 "nbformat": 4,
 "nbformat_minor": 5
}
