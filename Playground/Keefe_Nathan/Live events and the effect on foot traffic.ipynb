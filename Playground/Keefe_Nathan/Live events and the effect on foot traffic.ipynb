{
 "cells": [
  {
   "cell_type": "markdown",
   "id": "5ace0af9",
   "metadata": {},
   "source": [
    "# Live events and the effect on foot traffic\n",
    "__Authored by:__ Keefe Alpay and Nathan Clee <br>\n",
    "\n",
    "__Duration:__ 90 mins <br>\n",
    "__Level:__ Intermediate <br>\n",
    "__Pre-requisite Skills:__ Python <br>\n",
    "*** \n",
    "### Scenario \n",
    "* As the city council, we want determine if parking in Melbourne is adequate during live events. <br>\n",
    "* As a city of Melbourne resident, I wish to know, in real-time, parking availability during live events <br>\n",
    "\n",
    "### Exploratory Data Analysis Objectives \n",
    "* Analyse foot traffic near locations where live events would occur\n",
    "* Identify if parking is sufficient during live events \n",
    "\n",
    "***\n",
    "## City Of Melbourne Open Data Datasets\n",
    "### Pedestrian Counting System - Monthly (counts per hour)\n",
    "The first and most improtant dataset we are going to explore is the pedestrian foot traffic\n",
    "*__[Pedestrian Counting System - Monthly (counts per hour)](https://data.melbourne.vic.gov.au/explore/dataset/pedestrian-counting-system-monthly-counts-per-hour/information/)__*\n",
    "\n",
    "### Off-street car parks with capacity and type\n",
    "The second dataset is *__[Off-street car parks with capacity and type](https://data.melbourne.vic.gov.au/explore/dataset/off-street-car-parks-with-capacity-and-type/information/?sort=census_year&dataChart=eyJxdWVyaWVzIjpbeyJjaGFydHMiOlt7InR5cGUiOiJjb2x1bW4iLCJmdW5jIjoiU1VNIiwieUF4aXMiOiJwYXJraW5nX3NwYWNlcyIsInNjaWVudGlmaWNEaXNwbGF5Ijp0cnVlLCJjb2xvciI6InJhbmdlLWN1c3RvbSJ9XSwieEF4aXMiOiJjZW5zdXNfeWVhciIsIm1heHBvaW50cyI6IiIsInRpbWVzY2FsZSI6InllYXIiLCJzb3J0IjoiIiwic2VyaWVzQnJlYWtkb3duIjoicGFya2luZ190eXBlIiwic3RhY2tlZCI6Im5vcm1hbCIsImNvbmZpZyI6eyJkYXRhc2V0Ijoib2ZmLXN0cmVldC1jYXItcGFya3Mtd2l0aC1jYXBhY2l0eS1hbmQtdHlwZSIsIm9wdGlvbnMiOnsic29ydCI6ImNlbnN1c195ZWFyIn19fV0sImRpc3BsYXlMZWdlbmQiOnRydWUsImFsaWduTW9udGgiOnRydWUsInRpbWVzY2FsZSI6IiJ9&location=18,-37.81841,144.94547&basemap=mbs-7a7333)__*\n",
    "\n",
    "### On-street Parking Bay Sensors\n",
    "The third dataset is *__[On-street Parking Bay Sensors](https://data.melbourne.vic.gov.au/explore/dataset/on-street-parking-bay-sensors/information/?sort=last_updated&dataChart=eyJxdWVyaWVzIjpbeyJjaGFydHMiOlt7InR5cGUiOiJjb2x1bW4iLCJmdW5jIjoiQ09VTlQiLCJ5QXhpcyI6ImJheV9pZCIsInNjaWVudGlmaWNEaXNwbGF5Ijp0cnVlLCJjb2xvciI6IiNFNTBFNTYifV0sInhBeGlzIjoic3RhdHVzIiwibWF4cG9pbnRzIjo1MCwic29ydCI6IiIsImNvbmZpZyI6eyJkYXRhc2V0Ijoib24tc3RyZWV0LXBhcmtpbmctYmF5LXNlbnNvcnMiLCJvcHRpb25zIjp7InNvcnQiOiJsYXN0X3VwZGF0ZWQifX19XSwidGltZXNjYWxlIjoiIiwiZGlzcGxheUxlZ2VuZCI6dHJ1ZSwiYWxpZ25Nb250aCI6dHJ1ZX0%3D)__*\n"
   ]
  },
  {
   "cell_type": "markdown",
   "id": "13846a3d",
   "metadata": {},
   "source": [
    "<div class=\"alert alert-block alert-warning\">\n",
    "<b>DELETE THIS AFTER FINISH (Markdown cheatsheet):</b> https://www.ibm.com/docs/en/watson-studio-local/1.2.3?topic=notebooks-markdown-jupyter-cheatsheet\n",
    "</div>"
   ]
  },
  {
   "cell_type": "code",
   "execution_count": null,
   "id": "08bf2ded",
   "metadata": {},
   "outputs": [],
   "source": []
  }
 ],
 "metadata": {
  "kernelspec": {
   "display_name": "Python 3 (ipykernel)",
   "language": "python",
   "name": "python3"
  },
  "language_info": {
   "codemirror_mode": {
    "name": "ipython",
    "version": 3
   },
   "file_extension": ".py",
   "mimetype": "text/x-python",
   "name": "python",
   "nbconvert_exporter": "python",
   "pygments_lexer": "ipython3",
   "version": "3.9.13"
  }
 },
 "nbformat": 4,
 "nbformat_minor": 5
}
