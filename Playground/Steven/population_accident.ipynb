{
 "cells": [
  {
   "cell_type": "code",
   "execution_count": 1,
   "metadata": {},
   "outputs": [],
   "source": [
    "import numpy as np\n",
    "import pandas as pd\n",
    "import requests"
   ]
  },
  {
   "cell_type": "code",
   "execution_count": null,
   "metadata": {},
   "outputs": [],
   "source": [
    "def get_data(base):\n",
    "    \n",
    "    url = f'{base}'\n",
    "    result = requests.get(url)\n",
    "    result_json = result.json()\n",
    "    max_results = result_json['total_count']\n",
    "    links = result_json['links']\n",
    "    records = result_json['records']\n",
    "    records_df = pd.json_normalize(records)\n",
    "    \n",
    "    # fix columns names\n",
    "    records_df.drop(columns=['links'],inplace=True)\n",
    "    column_names = records_df.columns.values.tolist()\n",
    "    \n",
    "    # Replace location.lat & location.lon\n",
    "    column_names = ['_'.join((a.split(\".\")[-2:])) if a.split('.')[-2]=='location' else a for a in column_names]\n",
    "    column_names = [i.split('.')[-1] for i in column_names]\n",
    "    records_df.columns = column_names\n",
    "    \n",
    "    next_url = None\n",
    "    \n",
    "    # get next url\n",
    "    if records_df.shape[0] != max_results: #added second cap to loop for truncation issue\n",
    "        for l in links:\n",
    "            if l['rel']=='next':\n",
    "                next_url = l'\n",
    "                \n",
    "    return [records_df, next_url, column_names]"
   ]
  },
  {
   "cell_type": "code",
   "execution_count": null,
   "metadata": {},
   "outputs": [],
   "source": [
    "#call the function \n",
    "df_new, url_next, column_names = get_data(BASE_URL,Res_Dataset)\n",
    "\n",
    "# Create new EMPTy dataframe with columns\n",
    "New_Res_Df = pd.DataFrame(columns=column_names)\n",
    "New_Res_Df\n",
    "\n",
    "# Create function to add API output to dataframe\n",
    "def add_to_dataframe(dataframe, new_data):\n",
    "    df = pd.concat([dataframe, new_data])\n",
    "    return df\n",
    "\n",
    "# Get the rest of the Dataset\n",
    "while url_next != None:\n",
    "    df_new, url_next, column_names = get_data(BASE_URL,Res_Dataset, New_Res_Df.shape[0])\n",
    "    New_Res_Df = add_to_dataframe(New_Res_Df, df_new)\n",
    "    print(New_Res_Df.shape)\n",
    "    if New_Res_Df.shape[0]>=9900: # Added for truncation issue\n",
    "        break"
   ]
  },
  {
   "cell_type": "code",
   "execution_count": 5,
   "metadata": {},
   "outputs": [],
   "source": [
    "r = requests.get(f'https://vicdata.vicroads.vic.gov.au/server/rest/services/SMOP/SMOP_Open_Data_040521/FeatureServer/1/query?outFields=*&where=1%3D1\"ArithmeticError')"
   ]
  },
  {
   "cell_type": "code",
   "execution_count": 6,
   "metadata": {},
   "outputs": [
    {
     "data": {
      "text/plain": [
       "<Response [200]>"
      ]
     },
     "execution_count": 6,
     "metadata": {},
     "output_type": "execute_result"
    }
   ],
   "source": [
    "r"
   ]
  },
  {
   "cell_type": "code",
   "execution_count": 14,
   "metadata": {},
   "outputs": [],
   "source": [
    "result = requests.get(f'https://vicdata.vicroads.vic.gov.au/server/rest/services/SMOP/SMOP_Open_Data_040521/FeatureServer/1/query?where=1%3D1&outFields=*&outSR=4326&f=json')"
   ]
  },
  {
   "cell_type": "code",
   "execution_count": 17,
   "metadata": {},
   "outputs": [],
   "source": [
    "result_geojson = requests.get(f'https://vicdata.vicroads.vic.gov.au/server/rest/services/SMOP/SMOP_Open_Data_040521/FeatureServer/1/query?outFields=*&where=1%3D1&f=geojson')"
   ]
  },
  {
   "cell_type": "code",
   "execution_count": 18,
   "metadata": {},
   "outputs": [
    {
     "data": {
      "text/plain": [
       "<Response [200]>"
      ]
     },
     "execution_count": 18,
     "metadata": {},
     "output_type": "execute_result"
    }
   ],
   "source": [
    "result_geojson"
   ]
  },
  {
   "cell_type": "code",
   "execution_count": null,
   "metadata": {},
   "outputs": [],
   "source": []
  },
  {
   "cell_type": "code",
   "execution_count": null,
   "metadata": {},
   "outputs": [],
   "source": []
  }
 ],
 "metadata": {
  "kernelspec": {
   "display_name": "Python 3.9.12 ('base')",
   "language": "python",
   "name": "python3"
  },
  "language_info": {
   "codemirror_mode": {
    "name": "ipython",
    "version": 3
   },
   "file_extension": ".py",
   "mimetype": "text/x-python",
   "name": "python",
   "nbconvert_exporter": "python",
   "pygments_lexer": "ipython3",
   "version": "3.9.12"
  },
  "orig_nbformat": 4,
  "vscode": {
   "interpreter": {
    "hash": "00bd831c53de52cee16e552ea13cca9c838ef1c874ebe408d7c288ec76d7b8ea"
   }
  }
 },
 "nbformat": 4,
 "nbformat_minor": 2
}
