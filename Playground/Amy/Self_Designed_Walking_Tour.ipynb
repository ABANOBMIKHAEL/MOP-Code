{
 "cells": [
  {
   "cell_type": "markdown",
   "metadata": {},
   "source": [
    "<div class=\"usecase-title\">Self Designed Walking Tour</div>\n",
    "\n",
    "<div class=\"usecase-authors\"><b>Authored by: </b> Amy Tran</div>"
   ]
  },
  {
   "cell_type": "markdown",
   "metadata": {},
   "source": [
    "<div class=\"usecase-duration\"><b>Duration:</b> 60 mins</div>\n",
    "\n",
    "<div class=\"usecase-level-skill\">\n",
    "    <div class=\"usecase-level\"><b>Level: </b>Intermediate</div>\n",
    "    <div class=\"usecase-skill\"><b>Pre-requisite Skills: </b>Python</div>\n",
    "</div>"
   ]
  },
  {
   "cell_type": "markdown",
   "metadata": {},
   "source": [
    "<div class=\"usecase-section-header\">Scenario</div>"
   ]
  },
  {
   "cell_type": "markdown",
   "metadata": {},
   "source": [
    "As international and domestic tourists are returning to Melbourne after Covid, a tool that helps visitors create their own walking experience is beneficial. Based on the visitor’s preference, the tool will suggest appropriate walking route that incorporates landmarks or places of interest. "
   ]
  },
  {
   "cell_type": "markdown",
   "metadata": {},
   "source": [
    "<div class=\"usecase-section-header\">What this use case will teach you</div>"
   ]
  },
  {
   "cell_type": "markdown",
   "metadata": {},
   "source": [
    "At the end of this use case you will:\n",
    "- Load relevant datasets required for analysis\n",
    "- Map city landmark"
   ]
  },
  {
   "cell_type": "markdown",
   "metadata": {},
   "source": [
    "<div class=\"usecase-section-header\">Python Libraries</div>"
   ]
  },
  {
   "cell_type": "code",
   "execution_count": 1,
   "metadata": {},
   "outputs": [],
   "source": [
    "import pandas as pd\n",
    "import numpy as np\n",
    "import requests\n",
    "from datetime import datetime\n",
    "import plotly.express as px\n",
    "import geopy.distance\n",
    "\n",
    "#pip install plotly==5.8.0\n",
    "#pip install geopy"
   ]
  },
  {
   "cell_type": "markdown",
   "metadata": {},
   "source": [
    "<div class=\"usecase-section-header\">Data Extraction</div>"
   ]
  },
  {
   "cell_type": "code",
   "execution_count": 3,
   "metadata": {},
   "outputs": [],
   "source": [
    "def get_data(base, url, size = 0):\n",
    "    target_filters = f'records?limit={10}&offset={size}&timezone=UTC'\n",
    "    target_url = f'{base}{url}/{target_filters}'\n",
    "    result = session.get(target_url+f'&apikey={API_KEY}')\n",
    "    status_code = result.status_code\n",
    "    if status_code == 200:\n",
    "        result_json = result.json()\n",
    "        max_results = result_json['total_count']\n",
    "        links = result_json['links']\n",
    "        records = result_json['records']\n",
    "        records_df = pd.json_normalize(records)\n",
    "    \n",
    "        #Update column labels\n",
    "        records_df.drop(columns=['links'],inplace=True)\n",
    "        column_names = records_df.columns.values.tolist()\n",
    "\n",
    "        #Replace geolocation.lat & geolocation.lon\n",
    "        column_names = ['_'.join((a.split(\".\")[-2:])) if a.split('.')[-2]=='geolocation' else a for a in column_names]\n",
    "        column_names = [i.split('.')[-1] for i in column_names]\n",
    "        records_df.columns = column_names\n",
    "    \n",
    "        next_url = None\n",
    "             \n",
    "        #Obtain next url\n",
    "        if records_df.shape[0] != max_results:\n",
    "            for l in links:\n",
    "                if l['rel'] == 'next':\n",
    "                    next_url = l['href']\n",
    "    \n",
    "        return[records_df, next_url, column_names, max_results, status_code]\n",
    "    else: return[None, None, None, None, status_code]"
   ]
  },
  {
   "cell_type": "code",
   "execution_count": 8,
   "metadata": {},
   "outputs": [
    {
     "name": "stdout",
     "output_type": "stream",
     "text": [
      "Download completed: 8 rows, 9 columns extracted\n"
     ]
    }
   ],
   "source": [
    "#Extract self guided walks data \n",
    "session = requests.Session()\n",
    "base = 'https://data.melbourne.vic.gov.au/api/v2/catalog/datasets/'\n",
    "url = 'self-guided-walks'\n",
    "\n",
    "target_url = f'{base}{url}/exports/json'\n",
    "result = session.get(target_url)\n",
    "result_json = result.json()\n",
    "data = pd.json_normalize(result_json)\n",
    "walks = data.copy()\n",
    "#Rename Longitude and Latitude columns\n",
    "walks = walks.rename(columns = {'geo_point_2d.lon' : 'lon', 'geo_point_2d.lat' : 'lat'})\n",
    "print('Download completed:', walks.shape[0], 'rows,', walks.shape[1], 'columns extracted' )"
   ]
  },
  {
   "cell_type": "code",
   "execution_count": 9,
   "metadata": {},
   "outputs": [
    {
     "name": "stdout",
     "output_type": "stream",
     "text": [
      "Download completed: 242 rows, 5 columns extracted\n"
     ]
    }
   ],
   "source": [
    "#Extract landmarks and places of interest data \n",
    "session = requests.Session()\n",
    "base = 'https://data.melbourne.vic.gov.au/api/v2/catalog/datasets/'\n",
    "url = 'landmarks-and-places-of-interest-including-schools-theatres-health-services-spor'\n",
    "\n",
    "target_url = f'{base}{url}/exports/json'\n",
    "result = session.get(target_url)\n",
    "result_json = result.json()\n",
    "data = pd.json_normalize(result_json)\n",
    "landmarks = data.copy()\n",
    "#Rename Longitude and Latitude columns\n",
    "landmarks = landmarks.rename(columns = {'geo_point_2d.lon' : 'lon', 'geo_point_2d.lat' : 'lat'})\n",
    "print('Download completed:', landmarks.shape[0], 'rows,', landmarks.shape[1], 'columns extracted' )"
   ]
  }
 ],
 "metadata": {
  "kernelspec": {
   "display_name": "base",
   "language": "python",
   "name": "python3"
  },
  "language_info": {
   "codemirror_mode": {
    "name": "ipython",
    "version": 3
   },
   "file_extension": ".py",
   "mimetype": "text/x-python",
   "name": "python",
   "nbconvert_exporter": "python",
   "pygments_lexer": "ipython3",
   "version": "3.8.5"
  },
  "orig_nbformat": 4
 },
 "nbformat": 4,
 "nbformat_minor": 2
}
