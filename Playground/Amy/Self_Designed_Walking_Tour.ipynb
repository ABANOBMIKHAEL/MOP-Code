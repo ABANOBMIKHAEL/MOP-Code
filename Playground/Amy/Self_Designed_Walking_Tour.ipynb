{
 "cells": [
  {
   "cell_type": "markdown",
   "metadata": {},
   "source": [
    "<div class=\"usecase-title\">Self Designed Walking Tour</div>\n",
    "\n",
    "<div class=\"usecase-authors\"><b>Authored by: </b> Amy Tran</div>"
   ]
  },
  {
   "cell_type": "markdown",
   "metadata": {},
   "source": [
    "<div class=\"usecase-duration\"><b>Duration:</b> 60 mins</div>\n",
    "\n",
    "<div class=\"usecase-level-skill\">\n",
    "    <div class=\"usecase-level\"><b>Level: </b>Intermediate</div>\n",
    "    <div class=\"usecase-skill\"><b>Pre-requisite Skills: </b>Python</div>\n",
    "</div>"
   ]
  },
  {
   "cell_type": "markdown",
   "metadata": {},
   "source": [
    "<div class=\"usecase-section-header\">Scenario</div>"
   ]
  },
  {
   "cell_type": "markdown",
   "metadata": {},
   "source": [
    "As international and domestic tourists are returning to Melbourne after Covid, a tool that helps visitors create their own walking experience is beneficial. Based on the visitor’s preference, the tool will suggest appropriate walking route that incorporates landmarks or places of interest. "
   ]
  },
  {
   "cell_type": "markdown",
   "metadata": {},
   "source": [
    "<div class=\"usecase-section-header\">What this use case will teach you</div>"
   ]
  },
  {
   "cell_type": "markdown",
   "metadata": {},
   "source": [
    "At the end of this use case you will:\n",
    "- Load relevant datasets required for analysis\n",
    "- Map city landmark"
   ]
  },
  {
   "cell_type": "markdown",
   "metadata": {},
   "source": [
    "<div class=\"usecase-section-header\">Python Libraries</div>"
   ]
  },
  {
   "cell_type": "code",
   "execution_count": 2,
   "metadata": {},
   "outputs": [],
   "source": [
    "import pandas as pd\n",
    "import numpy as np\n",
    "import requests\n",
    "from datetime import datetime\n",
    "import plotly.express as px\n",
    "import geopy.distance\n",
    "\n",
    "#pip install plotly==5.8.0\n",
    "#pip install geopy"
   ]
  },
  {
   "cell_type": "markdown",
   "metadata": {},
   "source": [
    "<div class=\"usecase-section-header\">Data Extraction</div>"
   ]
  },
  {
   "cell_type": "code",
   "execution_count": 4,
   "metadata": {},
   "outputs": [],
   "source": [
    "def get_data(base, url, size = 0):\n",
    "    target_filters = f'records?limit={10}&offset={size}&timezone=UTC'\n",
    "    target_url = f'{base}{url}/{target_filters}'\n",
    "    result = session.get(target_url+f'&apikey={API_KEY}')\n",
    "    status_code = result.status_code\n",
    "    if status_code == 200:\n",
    "        result_json = result.json()\n",
    "        max_results = result_json['total_count']\n",
    "        links = result_json['links']\n",
    "        records = result_json['records']\n",
    "        records_df = pd.json_normalize(records)\n",
    "    \n",
    "        #Update column labels\n",
    "        records_df.drop(columns=['links'],inplace=True)\n",
    "        column_names = records_df.columns.values.tolist()\n",
    "\n",
    "        #Replace geolocation.lat & geolocation.lon\n",
    "        column_names = ['_'.join((a.split(\".\")[-2:])) if a.split('.')[-2]=='geolocation' else a for a in column_names]\n",
    "        column_names = [i.split('.')[-1] for i in column_names]\n",
    "        records_df.columns = column_names\n",
    "    \n",
    "        next_url = None\n",
    "             \n",
    "        #Obtain next url\n",
    "        if records_df.shape[0] != max_results:\n",
    "            for l in links:\n",
    "                if l['rel'] == 'next':\n",
    "                    next_url = l['href']\n",
    "    \n",
    "        return[records_df, next_url, column_names, max_results, status_code]\n",
    "    else: return[None, None, None, None, status_code]"
   ]
  },
  {
   "cell_type": "code",
   "execution_count": 11,
   "metadata": {},
   "outputs": [
    {
     "name": "stdout",
     "output_type": "stream",
     "text": [
      "Completed: 8 rows, 9 columns extracted\n"
     ]
    }
   ],
   "source": [
    "#Extract laneways-with-greening-potential data \n",
    "session = requests.Session()\n",
    "base = 'https://data.melbourne.vic.gov.au/api/v2/catalog/datasets/'\n",
    "url = 'self-guided-walks'\n",
    "\n",
    "target_url = f'{base}{url}/exports/json'\n",
    "result = session.get(target_url)\n",
    "result_json = result.json()\n",
    "data = pd.json_normalize(result_json)\n",
    "walks = data.copy()\n",
    "#Rename Longitude and Latitude columns\n",
    "walks = walks.rename(columns = {'geo_point_2d.lon' : 'lon', 'geo_point_2d.lat' : 'lat'})\n",
    "print('Completed:', walks.shape[0], 'rows,', walks.shape[1], 'columns extracted' )"
   ]
  },
  {
   "cell_type": "code",
   "execution_count": 12,
   "metadata": {},
   "outputs": [
    {
     "data": {
      "text/html": [
       "<div>\n",
       "<style scoped>\n",
       "    .dataframe tbody tr th:only-of-type {\n",
       "        vertical-align: middle;\n",
       "    }\n",
       "\n",
       "    .dataframe tbody tr th {\n",
       "        vertical-align: top;\n",
       "    }\n",
       "\n",
       "    .dataframe thead th {\n",
       "        text-align: right;\n",
       "    }\n",
       "</style>\n",
       "<table border=\"1\" class=\"dataframe\">\n",
       "  <thead>\n",
       "    <tr style=\"text-align: right;\">\n",
       "      <th></th>\n",
       "      <th>distance</th>\n",
       "      <th>name</th>\n",
       "      <th>ref</th>\n",
       "      <th>time</th>\n",
       "      <th>lon</th>\n",
       "      <th>lat</th>\n",
       "      <th>geo_shape.type</th>\n",
       "      <th>geo_shape.geometry.coordinates</th>\n",
       "      <th>geo_shape.geometry.type</th>\n",
       "    </tr>\n",
       "  </thead>\n",
       "  <tbody>\n",
       "    <tr>\n",
       "      <th>0</th>\n",
       "      <td>3.5</td>\n",
       "      <td>Melbourne Music Walk</td>\n",
       "      <td>2</td>\n",
       "      <td>1.5</td>\n",
       "      <td>144.968357</td>\n",
       "      <td>-37.813502</td>\n",
       "      <td>Feature</td>\n",
       "      <td>[[[144.968808624716, -37.821216567104], [144.9...</td>\n",
       "      <td>MultiLineString</td>\n",
       "    </tr>\n",
       "    <tr>\n",
       "      <th>1</th>\n",
       "      <td>3.35</td>\n",
       "      <td>The Cosmopolitan</td>\n",
       "      <td>5</td>\n",
       "      <td>2 Hours</td>\n",
       "      <td>144.968310</td>\n",
       "      <td>-37.813787</td>\n",
       "      <td>Feature</td>\n",
       "      <td>[[144.9676848541881, -37.81761724626771], [144...</td>\n",
       "      <td>LineString</td>\n",
       "    </tr>\n",
       "    <tr>\n",
       "      <th>2</th>\n",
       "      <td>4.19</td>\n",
       "      <td>A Walk in the Park</td>\n",
       "      <td>1</td>\n",
       "      <td>2 Hours</td>\n",
       "      <td>144.974801</td>\n",
       "      <td>-37.814702</td>\n",
       "      <td>Feature</td>\n",
       "      <td>[[[144.967542565756, -37.817302659845], [144.9...</td>\n",
       "      <td>MultiLineString</td>\n",
       "    </tr>\n",
       "    <tr>\n",
       "      <th>3</th>\n",
       "      <td>5.48</td>\n",
       "      <td>Elegant Enclave</td>\n",
       "      <td>7</td>\n",
       "      <td>2</td>\n",
       "      <td>144.979662</td>\n",
       "      <td>-37.814751</td>\n",
       "      <td>Feature</td>\n",
       "      <td>[[[144.969044079955, -37.817186640655], [144.9...</td>\n",
       "      <td>MultiLineString</td>\n",
       "    </tr>\n",
       "    <tr>\n",
       "      <th>4</th>\n",
       "      <td>4.75</td>\n",
       "      <td>Sports &amp; Entertainment</td>\n",
       "      <td>6</td>\n",
       "      <td>2 Hours</td>\n",
       "      <td>144.976500</td>\n",
       "      <td>-37.823276</td>\n",
       "      <td>Feature</td>\n",
       "      <td>[[144.96769834830815, -37.81762413706883], [14...</td>\n",
       "      <td>LineString</td>\n",
       "    </tr>\n",
       "    <tr>\n",
       "      <th>5</th>\n",
       "      <td>5.24</td>\n",
       "      <td>On the Waterfront</td>\n",
       "      <td>3</td>\n",
       "      <td>2 Hours</td>\n",
       "      <td>144.959143</td>\n",
       "      <td>-37.821733</td>\n",
       "      <td>Feature</td>\n",
       "      <td>[[[144.967996616066, -37.818218223256], [144.9...</td>\n",
       "      <td>MultiLineString</td>\n",
       "    </tr>\n",
       "    <tr>\n",
       "      <th>6</th>\n",
       "      <td>2.26</td>\n",
       "      <td>Arcades &amp; Lanes</td>\n",
       "      <td>4</td>\n",
       "      <td>1.5 Hours</td>\n",
       "      <td>144.964261</td>\n",
       "      <td>-37.815192</td>\n",
       "      <td>Feature</td>\n",
       "      <td>[[[144.967363582879, -37.817821881871], [144.9...</td>\n",
       "      <td>MultiLineString</td>\n",
       "    </tr>\n",
       "    <tr>\n",
       "      <th>7</th>\n",
       "      <td>5.61</td>\n",
       "      <td>Secret Gardens</td>\n",
       "      <td>2</td>\n",
       "      <td>2.5 Hours</td>\n",
       "      <td>144.974916</td>\n",
       "      <td>-37.825217</td>\n",
       "      <td>Feature</td>\n",
       "      <td>[[144.96768788280298, -37.81762805497954], [14...</td>\n",
       "      <td>LineString</td>\n",
       "    </tr>\n",
       "  </tbody>\n",
       "</table>\n",
       "</div>"
      ],
      "text/plain": [
       "  distance                    name ref       time         lon        lat  \\\n",
       "0      3.5    Melbourne Music Walk   2        1.5  144.968357 -37.813502   \n",
       "1     3.35        The Cosmopolitan   5    2 Hours  144.968310 -37.813787   \n",
       "2     4.19      A Walk in the Park   1    2 Hours  144.974801 -37.814702   \n",
       "3     5.48         Elegant Enclave   7          2  144.979662 -37.814751   \n",
       "4     4.75  Sports & Entertainment   6    2 Hours  144.976500 -37.823276   \n",
       "5     5.24       On the Waterfront   3    2 Hours  144.959143 -37.821733   \n",
       "6     2.26         Arcades & Lanes   4  1.5 Hours  144.964261 -37.815192   \n",
       "7     5.61          Secret Gardens   2  2.5 Hours  144.974916 -37.825217   \n",
       "\n",
       "  geo_shape.type                     geo_shape.geometry.coordinates  \\\n",
       "0        Feature  [[[144.968808624716, -37.821216567104], [144.9...   \n",
       "1        Feature  [[144.9676848541881, -37.81761724626771], [144...   \n",
       "2        Feature  [[[144.967542565756, -37.817302659845], [144.9...   \n",
       "3        Feature  [[[144.969044079955, -37.817186640655], [144.9...   \n",
       "4        Feature  [[144.96769834830815, -37.81762413706883], [14...   \n",
       "5        Feature  [[[144.967996616066, -37.818218223256], [144.9...   \n",
       "6        Feature  [[[144.967363582879, -37.817821881871], [144.9...   \n",
       "7        Feature  [[144.96768788280298, -37.81762805497954], [14...   \n",
       "\n",
       "  geo_shape.geometry.type  \n",
       "0         MultiLineString  \n",
       "1              LineString  \n",
       "2         MultiLineString  \n",
       "3         MultiLineString  \n",
       "4              LineString  \n",
       "5         MultiLineString  \n",
       "6         MultiLineString  \n",
       "7              LineString  "
      ]
     },
     "execution_count": 12,
     "metadata": {},
     "output_type": "execute_result"
    }
   ],
   "source": [
    "walks"
   ]
  }
 ],
 "metadata": {
  "kernelspec": {
   "display_name": "base",
   "language": "python",
   "name": "python3"
  },
  "language_info": {
   "codemirror_mode": {
    "name": "ipython",
    "version": 3
   },
   "file_extension": ".py",
   "mimetype": "text/x-python",
   "name": "python",
   "nbconvert_exporter": "python",
   "pygments_lexer": "ipython3",
   "version": "3.8.5"
  },
  "orig_nbformat": 4
 },
 "nbformat": 4,
 "nbformat_minor": 2
}
