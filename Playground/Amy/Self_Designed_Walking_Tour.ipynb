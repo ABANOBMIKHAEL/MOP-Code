{
 "cells": [
  {
   "cell_type": "markdown",
   "metadata": {},
   "source": [
    "<div class=\"usecase-title\">Self Designed Walking Tour</div>\n",
    "\n",
    "<div class=\"usecase-authors\"><b>Authored by: </b> Amy Tran</div>"
   ]
  },
  {
   "cell_type": "markdown",
   "metadata": {},
   "source": [
    "<div class=\"usecase-duration\"><b>Duration:</b> 60 mins</div>\n",
    "\n",
    "<div class=\"usecase-level-skill\">\n",
    "    <div class=\"usecase-level\"><b>Level: </b>Intermediate</div>\n",
    "    <div class=\"usecase-skill\"><b>Pre-requisite Skills: </b>Python</div>\n",
    "</div>"
   ]
  },
  {
   "cell_type": "markdown",
   "metadata": {},
   "source": [
    "<div class=\"usecase-section-header\">Scenario</div>"
   ]
  },
  {
   "cell_type": "markdown",
   "metadata": {},
   "source": [
    "As international and domestic tourists are returning to Melbourne after Covid, a tool that helps visitors create their own walking experience is beneficial. Based on the visitor’s preference, the tool will suggest appropriate walking route that incorporates landmarks or places of interest. "
   ]
  },
  {
   "cell_type": "markdown",
   "metadata": {},
   "source": [
    "<div class=\"usecase-section-header\">What this use case will teach you</div>"
   ]
  },
  {
   "cell_type": "markdown",
   "metadata": {},
   "source": [
    "At the end of this use case you will:\n",
    "- Load relevant datasets required for analysis\n",
    "- Map city landmark"
   ]
  },
  {
   "cell_type": "markdown",
   "metadata": {},
   "source": [
    "<div class=\"usecase-section-header\">Python Libraries</div>"
   ]
  },
  {
   "cell_type": "code",
   "execution_count": 10,
   "metadata": {},
   "outputs": [],
   "source": [
    "import pandas as pd\n",
    "import numpy as np\n",
    "import requests\n",
    "from datetime import datetime\n",
    "import plotly.express as px\n",
    "import geopy.distance\n",
    "\n",
    "#pip install plotly==5.8.0\n",
    "#pip install geopy"
   ]
  },
  {
   "cell_type": "markdown",
   "metadata": {},
   "source": [
    "<div class=\"usecase-section-header\">Data Extraction</div>"
   ]
  },
  {
   "cell_type": "code",
   "execution_count": 12,
   "metadata": {},
   "outputs": [],
   "source": [
    "def get_data(base, url, size = 0):\n",
    "    target_filters = f'records?limit={10}&offset={size}&timezone=UTC'\n",
    "    target_url = f'{base}{url}/{target_filters}'\n",
    "    result = session.get(target_url+f'&apikey={API_KEY}')\n",
    "    status_code = result.status_code\n",
    "    if status_code == 200:\n",
    "        result_json = result.json()\n",
    "        max_results = result_json['total_count']\n",
    "        links = result_json['links']\n",
    "        records = result_json['records']\n",
    "        records_df = pd.json_normalize(records)\n",
    "    \n",
    "        #Update column labels\n",
    "        records_df.drop(columns=['links'],inplace=True)\n",
    "        column_names = records_df.columns.values.tolist()\n",
    "\n",
    "        #Replace geolocation.lat & geolocation.lon\n",
    "        column_names = ['_'.join((a.split(\".\")[-2:])) if a.split('.')[-2]=='geolocation' else a for a in column_names]\n",
    "        column_names = [i.split('.')[-1] for i in column_names]\n",
    "        records_df.columns = column_names\n",
    "    \n",
    "        next_url = None\n",
    "             \n",
    "        #Obtain next url\n",
    "        if records_df.shape[0] != max_results:\n",
    "            for l in links:\n",
    "                if l['rel'] == 'next':\n",
    "                    next_url = l['href']\n",
    "    \n",
    "        return[records_df, next_url, column_names, max_results, status_code]\n",
    "    else: return[None, None, None, None, status_code]"
   ]
  },
  {
   "cell_type": "code",
   "execution_count": 13,
   "metadata": {},
   "outputs": [
    {
     "name": "stdout",
     "output_type": "stream",
     "text": [
      "Download completed: 8 rows, 9 columns extracted\n"
     ]
    }
   ],
   "source": [
    "#Extract self guided walks data \n",
    "session = requests.Session()\n",
    "base = 'https://data.melbourne.vic.gov.au/api/v2/catalog/datasets/'\n",
    "url = 'self-guided-walks'\n",
    "\n",
    "target_url = f'{base}{url}/exports/json'\n",
    "result = session.get(target_url)\n",
    "result_json = result.json()\n",
    "data = pd.json_normalize(result_json)\n",
    "walks = data.copy()\n",
    "#Rename Longitude and Latitude columns\n",
    "walks = walks.rename(columns = {'geo_point_2d.lon' : 'lon', 'geo_point_2d.lat' : 'lat'})\n",
    "print('Download completed:', walks.shape[0], 'rows,', walks.shape[1], 'columns extracted' )"
   ]
  },
  {
   "cell_type": "code",
   "execution_count": 174,
   "metadata": {},
   "outputs": [
    {
     "name": "stdout",
     "output_type": "stream",
     "text": [
      "Download completed: 242 rows, 5 columns extracted\n"
     ]
    }
   ],
   "source": [
    "#Extract landmarks and places of interest data \n",
    "session = requests.Session()\n",
    "base = 'https://data.melbourne.vic.gov.au/api/v2/catalog/datasets/'\n",
    "url = 'landmarks-and-places-of-interest-including-schools-theatres-health-services-spor'\n",
    "\n",
    "target_url = f'{base}{url}/exports/json'\n",
    "result = session.get(target_url)\n",
    "result_json = result.json()\n",
    "data = pd.json_normalize(result_json)\n",
    "landmarks = data.copy()\n",
    "#Rename Longitude and Latitude columns\n",
    "landmarks = landmarks.rename(columns = {'co_ordinates.lon' : 'lon', 'co_ordinates.lat' : 'lat'})\n",
    "print('Download completed:', landmarks.shape[0], 'rows,', landmarks.shape[1], 'columns extracted' )"
   ]
  },
  {
   "cell_type": "code",
   "execution_count": 158,
   "metadata": {},
   "outputs": [],
   "source": [
    "#Select a walk\n",
    "my_walk = 'Melbourne Music Walk'\n",
    "selected_walk = walks[(walks['name'] == my_walk)]\n",
    "selected_walk = selected_walk.loc[:,'geo_shape.geometry.coordinates']\n",
    "\n",
    "no_of_coordinates = len(selected_walk[0][0])\n",
    "coordinate_lon = []\n",
    "coordinate_lat = []\n",
    "\n",
    "no_of_coordinates = len(selected_walk[0][0])\n",
    "\n",
    "for i in range(no_of_coordinates):\n",
    "    lon = selected_walk[0][0][i][0]\n",
    "    lat = selected_walk[0][0][i][1]\n",
    "    coordinate_lon.append(lon)\n",
    "    coordinate_lat.append(lat)\n",
    "\n",
    "#Creat a dataframe containing each pair of latitude and longitude  in walk coordinates\n",
    "walk_coordinates = pd.DataFrame({'lon': coordinate_lon, 'lat': coordinate_lat})"
   ]
  },
  {
   "cell_type": "code",
   "execution_count": 201,
   "metadata": {},
   "outputs": [],
   "source": [
    "#Select landmark categories of interest\n",
    "my_landmarks = ['Theatre Live','Art Gallery/Museum']\n",
    "selected_landmarks = landmarks[landmarks.sub_theme.isin(my_landmarks)]\n",
    "selected_landmarks.reset_index(drop = True, inplace = True)"
   ]
  },
  {
   "cell_type": "code",
   "execution_count": 177,
   "metadata": {},
   "outputs": [],
   "source": [
    "#Create function to calculate distance between 2 coordinates\n",
    "import geopy.distance\n",
    "def distance(lat1, lon1, lat2, lon2):\n",
    "    coords_1 = (lat1, lon1)\n",
    "    coords_2 = (lat2, lon2)\n",
    "    km = geopy.distance.geodesic(coords_1, coords_2).km\n",
    "    return (km)"
   ]
  },
  {
   "cell_type": "code",
   "execution_count": 324,
   "metadata": {},
   "outputs": [
    {
     "name": "stderr",
     "output_type": "stream",
     "text": [
      "<ipython-input-324-4bbf2b55c145>:33: SettingWithCopyWarning: \n",
      "A value is trying to be set on a copy of a slice from a DataFrame\n",
      "\n",
      "See the caveats in the documentation: https://pandas.pydata.org/pandas-docs/stable/user_guide/indexing.html#returning-a-view-versus-a-copy\n",
      "  final_suggestions.drop_duplicates(inplace = True)\n"
     ]
    }
   ],
   "source": [
    "#Calculate distance (km) between each walk coordinates to the landmarks of interest\n",
    "distance_parameter = 0.5 #Set distance parameter\n",
    "\n",
    "#len(walk_coordinates)\n",
    "#len(selected_landmarks)\n",
    "\n",
    "all_suggestions = pd.DataFrame()\n",
    "\n",
    "for i in range(len(walk_coordinates)):\n",
    "    suggested_landmarks = []\n",
    "    suggested_landmarks_lon = []\n",
    "    suggested_landmarks_lat = []\n",
    "    suggested_landmarks_walk_distance = []\n",
    "    \n",
    "    for j in range(len(selected_landmarks)):\n",
    "        walk_distance = distance(walk_coordinates.lat[i], walk_coordinates.lon[i], selected_landmarks.lat[j], selected_landmarks.lon[j])\n",
    "        if walk_distance <= distance_parameter:\n",
    "            suggested_landmarks.append(selected_landmarks.feature_name[j])\n",
    "            suggested_landmarks_lon.append(selected_landmarks.lon[j])\n",
    "            suggested_landmarks_lat.append(selected_landmarks.lat[j])\n",
    "            suggested_landmarks_walk_distance.append(walk_distance)\n",
    "\n",
    "    suggestions = pd.DataFrame({'landmarks': suggested_landmarks, 'lon': suggested_landmarks_lon,\n",
    "                                'lat': suggested_landmarks_lat, 'walking_distance':suggested_landmarks_walk_distance})\n",
    "    \n",
    "    #Select top 3 suggested landmarks based on shortest walking distance\n",
    "    top3_suggestions = suggestions.sort_values('walking_distance', ascending = True).head(3)\n",
    "\n",
    "    all_suggestions = pd.concat([all_suggestions, top3_suggestions])\n",
    "    all_suggestions.reset_index(drop = True, inplace = True)\n",
    "    \n",
    "final_suggestions = all_suggestions[['landmarks', 'lon','lat']]\n",
    "final_suggestions.drop_duplicates(inplace = True)\n",
    "final_suggestions.reset_index(drop = True, inplace = True)\n"
   ]
  },
  {
   "cell_type": "code",
   "execution_count": 326,
   "metadata": {},
   "outputs": [
    {
     "name": "stdout",
     "output_type": "stream",
     "text": [
      "                                        landmarks         lon        lat\n",
      "0                                   State Theatre  144.968470 -37.821281\n",
      "1                                  FairFax Studio  144.968836 -37.821668\n",
      "2                                       Playhouse  144.968338 -37.821812\n",
      "3                                      Hamer Hall  144.967992 -37.819990\n",
      "4   Australian Centre For The Moving Image (ACMI)  144.969070 -37.817611\n",
      "5                                  Regent Theatre  144.967917 -37.816001\n",
      "6                                   Forum Theatre  144.969387 -37.816485\n",
      "7            The Ian Potter Centre: NGV Australia  144.969899 -37.817483\n",
      "8                           Her Majesty's Theatre  144.969520 -37.810998\n",
      "9                                Princess Theatre  144.972327 -37.810726\n",
      "10       The Museum Of Australian Chinese History  144.969234 -37.810769\n",
      "11                                 Comedy Theatre  144.970133 -37.810205\n",
      "12  Old Melbourne Gaol Crime & Justice Experience  144.965464 -37.807764\n",
      "13                              Athanaeum Theatre  144.967323 -37.814954\n"
     ]
    }
   ],
   "source": [
    "print(final_suggestions)"
   ]
  }
 ],
 "metadata": {
  "kernelspec": {
   "display_name": "base",
   "language": "python",
   "name": "python3"
  },
  "language_info": {
   "codemirror_mode": {
    "name": "ipython",
    "version": 3
   },
   "file_extension": ".py",
   "mimetype": "text/x-python",
   "name": "python",
   "nbconvert_exporter": "python",
   "pygments_lexer": "ipython3",
   "version": "3.8.5"
  },
  "orig_nbformat": 4
 },
 "nbformat": 4,
 "nbformat_minor": 2
}
