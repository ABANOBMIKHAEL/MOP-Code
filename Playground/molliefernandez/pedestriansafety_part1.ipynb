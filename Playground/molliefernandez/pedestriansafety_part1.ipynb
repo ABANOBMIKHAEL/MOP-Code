{
  "cells": [
    {
      "cell_type": "markdown",
      "metadata": {
        "id": "3-IvyNUpReNb"
      },
      "source": [
        "<div class=\"usecase-title\">Melbourne Pedestrian Network Routes and Road Safety: Part 1</div>\n",
        "\n",
        "<div class=\"usecase-authors\"><b>Authored by: </b> Bree McLennan and Jack Pham</div>"
      ]
    },
    {
      "cell_type": "markdown",
      "metadata": {
        "id": "Ow28WxxpReNd"
      },
      "source": [
        "<div class=\"usecase-duration\"><b>Duration:</b> 120 mins</div>\n",
        "\n",
        "<div class=\"usecase-level-skill\">\n",
        "    <div class=\"usecase-level\"><b>Level: </b>Intermediate</div>\n",
        "    <div class=\"usecase-skill\"><b>Pre-requisite Skills: </b>Python, Data engineering and analysis</div>\n",
        "</div>"
      ]
    },
    {
      "cell_type": "markdown",
      "metadata": {
        "id": "9N2vvTLkReNe"
      },
      "source": [
        "<div class=\"usecase-section-header\">Scenario</div>"
      ]
    },
    {
      "cell_type": "markdown",
      "metadata": {
        "id": "NJTN-_OMReNe"
      },
      "source": [
        "**From a citizen and pedestrian perspective:** We want a safe journey in Melbourne. Which intersections are safest and which are the riskiest from a road safety perspective? Where are accident hot-spots occurring and under what circumstance?\n",
        "\n",
        "**From a council perspective:** As a council we want to invest in road safety initiatives which can effectively reduce serious injuries and fatalities. Are the current approaches to road network design having the impact we expected?\n",
        "\n",
        "This use case is an extension from the Melbourne Bicycle Network Route & Road Safety analysis that was created in Trimester 1 2022. We can utilise the VicRoads traffic accident data and aggregate this with the pedestrian paths Melbourne open dataset."
      ]
    },
    {
      "cell_type": "markdown",
      "metadata": {
        "id": "hZmNCI1fReNf"
      },
      "source": [
        "<div class=\"usecase-section-header\">Objectives for the Exploratory Data Analysis</div>"
      ]
    },
    {
      "cell_type": "markdown",
      "metadata": {
        "id": "k6Icwa7rReNf"
      },
      "source": [
        "Using the power of data aggregation, we can combine Melbourne Open datasets such as transport networks and events\n",
        "With open government datasets including traffic accident ‘crash stats’ from Victoria Police and traffic event data from VicRoads and begin to observe, analyze and report on geographical patterns between these datasets.\n",
        "\n",
        "We can ask questions such as:\n",
        "\n",
        "1. Pedestrian accidents occurring on designated footpath areas or on different areas? Where, specifically? And Why?\n",
        "2. What are the accident circumstances?\n",
        "3. Do accidents co-occur with road-works, weather events or other disruptive events?\n",
        "\n",
        "\n",
        "Goals for exploratory data analysis:\n",
        "\n",
        "1. Analyse the frequency, timing and characteristics of traffic accidents involving pedestrians in Melbourne\n",
        "2. Analyse the geographical location of these accidents and compare to the locations of the pedestrian footpath network\n",
        "3. Report on sections of roadway where higher accident rates are observed\n"
      ]
    },
    {
      "cell_type": "markdown",
      "metadata": {
        "id": "ug_8EHA5ReNf"
      },
      "source": [
        "<div class=\"usecase-section-header\">Strategic benefits for City of Melbourne</div>"
      ]
    },
    {
      "cell_type": "markdown",
      "metadata": {
        "id": "RK8SlS3YReNf"
      },
      "source": [
        "This use case and exploratory data analysis project can support the City of Melbourne in the following ways:\n",
        "\n",
        "1. Support for the ‘Safety and Well-being’ strategic vision and goals\n",
        "\n",
        "2. Influence the creation of a ‘key risk indicator’ to monitor progress on the reduction of the 'Number of transport-related injuries and fatalities’ on Melbourne roads\n",
        "\n",
        "3. Support further discussion between City of Melbourne and Victorian Road Safety partner agencies to improve road network design and infrastructure programs"
      ]
    },
    {
      "cell_type": "markdown",
      "metadata": {
        "id": "tJq0TmEWReNg"
      },
      "source": [
        "<div class=\"usecase-section-header\">Background on Related Road Safety Initiatives in Victoria</div>"
      ]
    },
    {
      "cell_type": "markdown",
      "metadata": {
        "id": "rtr5nkGEReNg"
      },
      "source": [
        "To cite some key pedestrian road safety statistics, sourced from the Transport Accident Commission:\n",
        "\n",
        "In the last five years, 175 pedestrians have been killed on Victorian roads. There are many more who are injured or seriously injured. Pedestrians make up around 15% of the total number of road deaths each year.\n",
        "\n",
        "-\tJust over one third (36%) are aged 70+\n",
        "-\tTwo thirds (67%) are male\n",
        "-\tAlmost four in ten (38%) are killed on 60km/h roads\n",
        "    -\tPedestrian deaths still occur in areas of 40km/h and 50km/h zones.\n",
        "-\t70% are killed in Metro Melbourne\n",
        "-\tOne third of fatal accidents involve the pedestrian crossing the street and being struck by a vehicle.\n",
        "\n",
        "The approach to aggregating key data sources and analysing geographical attributes is currently used by the TAC (Transport Accident Commission) in Victoria when analysing accident hot-spots and reviewing whether the design of the road could be improved to reduce road trauma.\n",
        "    \n",
        "This type of analysis was used by TAC in recent years to assess fatal accident hotspots in Geelong.\n",
        "\n",
        "The TAC in partnership with the Victorian Road Safety partnering agencies discovered a cluster of fatal accidents occurring over a 5-year period along a specific stretch of road at Thompsons Road, North Geelong.\n",
        "    \n",
        "The analysis informed a strategic decision for road safety partners (Victoria Police, VicRoads, City of Greater Geelong, TAC) to re-design the road to make it safer.\n",
        "    \n",
        "The road re-design has resulted in a substantial reduction in road trauma along Thompsons Road in North Geelong.\n",
        "\n",
        "A similar analysis technique and approach could be applied to the City of Melbourne road network\n",
        "\n",
        "\n",
        "**REFERENCE:**\n",
        "\n",
        "[1] https://regionalroads.vic.gov.au/map/barwon-south-west-improvements/thompson-road-safety-improvements\n"
      ]
    },
    {
      "cell_type": "markdown",
      "metadata": {
        "id": "47Iv6Q-wReNg"
      },
      "source": [
        "<div class=\"usecase-section-header\">Exploratory Data Analysis Workflow Steps</div>\n",
        "\n",
        "1. Document the data considerations and risk assessments\n",
        "\n",
        "2. Prepare the Traffic Accident 'crash-stats' source data (this is handled by a separate python notebook)\n",
        "\n",
        "3. Access and read-in the Melbourne Pedestrian Network dataset via the SOCRATA API\n",
        "\n",
        "4. Explore the Melbourne Pedestrian Newtwork dataset as a geoJSON file\n",
        "\n",
        "5. Read-in the pre-processed Traffic Accident 'crash-stats' dataset\n",
        "\n",
        "6. Explore the Traffic Accident 'crash-stats' dataset\n",
        "\n",
        "7. Visualise the geographical features of the Melbourne Pedestrian Network overlayed with Traffic Accident 'crash-stats' dataset\n",
        "\n",
        "**Dataset list:**\n",
        "1. Melbourne Open Data Pedestrian Network\n",
        "2. VicRoads Accident data"
      ]
    },
    {
      "cell_type": "markdown",
      "metadata": {
        "id": "wnnrou2sReNg"
      },
      "source": [
        "<div class=\"usecase-section-header\">Data Considerations</div>"
      ]
    },
    {
      "cell_type": "markdown",
      "metadata": {
        "id": "Gk1gk5FNReNh"
      },
      "source": [
        "**1. Information Security and Sensitivity**\n",
        "\n",
        "For the purpose of analysis, the analysis datasets contain de-identified data. No personally identifiable names or contact details are used or included.\n",
        "\n",
        "**2. Converting raw traffic accident 'crash-stats' data into useful dataset**\n",
        "\n",
        "After initial observation of the traffic accident data in its raw form, the raw data was prepared and converted into a working ‘.csv’ file and imported into this notebook for further analysis.\n",
        "\n",
        "The following process was used for converting the raw data into a working dataset:\n",
        "\n",
        "1. The accident context domains 'person', 'accident' and 'node' were used to form the foundation of the working dataset\n",
        "\n",
        "    - From the domain 'person', the variable 'road user type' was used to identify 'Pedestrians'\n",
        "    - From the domain 'accident', the variable 'accidentdate' was used to filter for accident records on and after '1st Jan 2008'    \n",
        "    - From the domain 'node', the variable 'lga_name' was used to identify the broad geographical area of 'MELBOURNE' city\n",
        "    \n",
        "    \n",
        "2. A series of two inner merges were then performed to construct the working dataset\n",
        "\n",
        "    - First inner merge on the filtered 'accident' domain and filtered 'person' domain using the primary key 'accident_no'\n",
        "    - Second inner merge on the output from the step described above, and on the filtered 'node' domain, using 'accident_no'\n",
        "    \n",
        "    \n",
        "3. To obtain additional traffic accident descriptive features, five additional data domains were left joined in sequence\n",
        "\n",
        "    - 'surface conditions' using the primary key 'accident_no' to join\n",
        "    - 'SUB DCA' using the primary key 'accident_no' to join\n",
        "    - 'Atmospheric Conditions' using the primary key 'accident_no' to join\n",
        "    - 'Accident Location' using the primary key 'accident_no' to join\n",
        "    - 'Accident Event' using the primary key 'accident_no' to join\n",
        "\n",
        "4. Variable naming conventions were applied\n",
        "\n",
        "Variable features which were created in the working dataset use a three-letter acronym prefix to denote the expected general data type values:\n",
        "\n",
        "- NUM: Numeric values which have a range beyond binary format, may include NA (Missing/Null).\n",
        "- BIN: Binary values. 1 and 0 only.\n",
        "- CAT: Categorical value. Structured and consistent groupings.\n",
        "- TXT: Free/unstructured text.\n",
        "- TIM: Time values. Specifically formatted as HH:MM:SS.ss.\n",
        "- DAT: Date vaues. Specifically formatted as Y-M-D.\n",
        "- KEY: Primary Key values. Features which uniquely identify the context and records.\n",
        "\n",
        "A suffix beginning with an underscore was also used to denote the context data domain origin for each feature. For example \"_person\" denotes a variable which originated from the accident person domain dataset.\n",
        "\n",
        "Manual data inspection notes:\n",
        "- The resulting working dataset contains 2028 records and 34 features (columns)\n",
        "- The working dataset records represents 2028 pedestrians who have experienced accidents in the city of Melbourne between 1st January 2008 and 31st March 2020\n",
        "- The primary keys for the working dataset are 'KEYAccidentNumber' and 'KEYPersonID'. The reason for the combination is an accident record can describe multiple pedestrians involved in the accident event, therefore the accident number can be 'duplicated' but differentiated by using the person ID.\n",
        "- The geographical longitude and latitudes are recorded consistently as part of the work practice when recording accidents in the source system\n",
        "\n",
        "\n",
        "After creating the working dataset, data opportunities were discovered to create new variables to assist with the analysis:\n",
        "\n",
        "- Concatenate accident day of week with accident hour\n",
        "- Concatenate accident road name and type\n",
        "- Create an accident hour grouping and concatenate with accident day of week\n",
        "\n",
        "**3. Data cleaning & pre processing**\n",
        "\n",
        "Excess text whitespace characters were detected in variables 'TIMAccidentTime_accident' and 'CATDCADesc_accident', these were removed.\n",
        "\n",
        "**4. Geographical Location Data**\n",
        "\n",
        "In order to answer queries on geographical locations for accidents, the analysis dataset requires longitude and latitude data in order to instruct geographical mapping tools and visualisations. The longitude and latitude data is captured when accident records are entered into the source system.\n",
        "\n",
        "**5. Additional Data**\n",
        "\n",
        "None identified.\n",
        "\n",
        "**6. Data Integrity Checks and Filtering**\n",
        "\n",
        "- No duplicated data or records were identified\n",
        "- All records contain a primary key value and less than 10 records were removed due to missing geographical identifies\n"
      ]
    },
    {
      "cell_type": "markdown",
      "metadata": {
        "id": "d9Qlzp5dReNh"
      },
      "source": [
        "<div class=\"usecase-section-header\">Setting Up for Analysis</div>"
      ]
    },
    {
      "cell_type": "markdown",
      "metadata": {
        "id": "agmt3yiWReNh"
      },
      "source": [
        "To begin the analysis we first import the necessary libraries to support our exploratory data analysis using Melbourne Open data.\n",
        "\n",
        "The following are core packages required for this exercise:\n",
        "\n",
        "- json // Assists with parsing JSON (JavaScript Object Notation) from strings or files.\n",
        "- folium // Assists with visualising data that's been manipulated in Python on an interactive leaflet map.\n",
        "- seaborn // Assists with visualization of data. It provides a high-level interface for drawing attractive and informative statistical graphics.\n"
      ]
    },
    {
      "cell_type": "code",
      "execution_count": null,
      "metadata": {
        "id": "o10-YhNDReNh"
      },
      "outputs": [],
      "source": [
        "###################################################################\n",
        "# Libraries used for this use case and exploratory data analysis\n",
        "###################################################################\n",
        "\n",
        "import os\n",
        "import time\n",
        "import sys\n",
        "from io import StringIO\n",
        "from google.colab import drive\n",
        "import requests\n",
        "sys.path.insert(1, '../') # so that we can import d2i_tools from the parent folder.\n",
        "\n",
        "import warnings\n",
        "warnings.simplefilter(\"ignore\")\n",
        "\n",
        "from datetime import datetime, date\n",
        "import numpy as np\n",
        "import pandas as pd\n",
        "import geopandas\n",
        "import json\n",
        "import plotly.express as px\n",
        "import folium\n",
        "from folium.plugins import MarkerCluster\n",
        "import seaborn as sns\n",
        "import geopandas as gpd\n",
        "import matplotlib.pyplot as plt\n",
        "from shapely.geometry import Point"
      ]
    },
    {
      "cell_type": "markdown",
      "metadata": {
        "id": "U55mr8mNReNi"
      },
      "source": [
        "To connect to the Melbourne Open Data Portal we must establish a connection using the sodapy library by specifying a domain, being the website domain where the data is hosted, and an application access token which can be requested from the City of Melbourne Open Data portal by registering __[here](https://data.melbourne.vic.gov.au/signup)__\n",
        "\n",
        "For this exercise we will access the domain without an application token."
      ]
    },
    {
      "cell_type": "code",
      "source": [
        "# Mount our drive and give access to our Google Drive files\n",
        "#drive.mount('/content/drive')\n",
        "#with open('/content/drive/My Drive/API_KEY.txt', 'r') as file:\n",
        "#    api_key = file.read().strip()\n",
        "\n",
        "#api_key = os.getenv(api_key)"
      ],
      "metadata": {
        "id": "3nuOCrgkg0xc"
      },
      "execution_count": null,
      "outputs": []
    },
    {
      "cell_type": "markdown",
      "metadata": {
        "id": "y8kHW12tReNj"
      },
      "source": [
        "Next, we will look at the **Pedestrian-Network** dataset, to better understand its structure and how we can use it.\n",
        "\n",
        "Our data requirements from this use case include the following:\n",
        "- Visualising the pedestrian network to learn where the foot paths are located\n",
        "\n",
        "For this exercise, we start by examining the **Pedestrian-Network** dataset.\n",
        "Each dataset in the Melbourne Open Data Portal has a unique identifier which can be used to retrieve the dataset using the sodapy library.\n",
        "\n",
        "The **Pedestrian-Network** dataset unique identifier is **'pedestrian-netowrk'**.\n",
        "We will pass this identifier into the command below to retrieve this data.\n",
        "\n",
        "This dataset is placed in a Pandas dataframe and we will inspect the metadata."
      ]
    },
    {
      "cell_type": "code",
      "source": [
        "# Here we define the City of Melbourne Open Data base URL where we will be getting our datasets\n",
        "base_url = 'https://data.melbourne.vic.gov.au/api/explore/v2.1/catalog/datasets/'\n",
        "#apikey = api_key"
      ],
      "metadata": {
        "id": "WkA8spIdhXXR"
      },
      "execution_count": null,
      "outputs": []
    },
    {
      "cell_type": "markdown",
      "metadata": {
        "id": "B6RQPQ6TReNj"
      },
      "source": [
        "**Working with the Melbourne Pedestrian Network Routes Dataset as a JSON file**\n",
        "\n",
        "The code below describes how to access the **Pedestrian Network** dataset as a JSON file through a City of Melbourne API."
      ]
    },
    {
      "cell_type": "code",
      "source": [
        "#https://data.melbourne.vic.gov.au/explore/dataset/pedestrian-network/information/\n",
        "data2 = 'pedestrian-network'\n",
        "\n",
        "dataset_id2 = data2\n",
        "format = 'csv'\n",
        "\n",
        "url = f'{base_url}{dataset_id2}/exports/{format}'\n",
        "params = {\n",
        "    'select': '*',\n",
        "    'limit': -1,  # all records\n",
        "    'lang': 'en',\n",
        "    'timezone': 'UTC',\n",
        "    #'api_key': apikey\n",
        "}\n",
        "\n",
        "# GET request\n",
        "response = requests.get(url, params=params)\n",
        "\n",
        "if response.status_code == 200:\n",
        "    # StringIO to read the CSV data\n",
        "    url_content = response.content.decode('utf-8')\n",
        "    pedestrianpath = pd.read_csv(StringIO(url_content), delimiter=';')\n",
        "    print(pedestrianpath.sample(10, random_state=999)) # Test\n",
        "else:\n",
        "    print(f'Request failed with status code {response.status_code}')\n"
      ],
      "metadata": {
        "colab": {
          "base_uri": "https://localhost:8080/"
        },
        "id": "zctUXYvkhbYG",
        "outputId": "00c1caf1-e9c6-4a63-c7a8-9f0925808dbe"
      },
      "execution_count": null,
      "outputs": [
        {
          "output_type": "stream",
          "name": "stdout",
          "text": [
            "                               geo_point_2d  \\\n",
            "49514    -37.815952909399996, 144.963390578   \n",
            "54656       -37.8195036105, 144.94793257695   \n",
            "6471   -37.803717186300005, 144.95268752075   \n",
            "18742      -37.82984333675, 144.98649070115   \n",
            "24320   -37.794219108549996, 144.9319100859   \n",
            "56425        -37.8344752653, 144.9799287856   \n",
            "57846  -37.796659978150004, 144.94559100585   \n",
            "32368  -37.811248810500004, 144.96532351385   \n",
            "21289       -37.79598388425, 144.9671224824   \n",
            "80409    -37.8157498324, 144.96926704459997   \n",
            "\n",
            "                                               geo_shape  objectid  neworkid  \n",
            "49514  {\"coordinates\": [[144.9632832386, -37.81598424...     57244       NaN  \n",
            "54656  {\"coordinates\": [[144.947943704, -37.819677104...     64940       NaN  \n",
            "6471   {\"coordinates\": [[144.9526895912, -37.80370020...     44892       NaN  \n",
            "18742  {\"coordinates\": [[144.9865376872, -37.82984897...     35346       NaN  \n",
            "24320  {\"coordinates\": [[144.9319027415, -37.79425749...     23060       NaN  \n",
            "56425  {\"coordinates\": [144.9799287856, -37.834475265...      6911  104896.0  \n",
            "57846  {\"coordinates\": [[144.9456036177, -37.79659010...     65745       NaN  \n",
            "32368  {\"coordinates\": [[144.9652640992, -37.81126631...     29869       NaN  \n",
            "21289  {\"coordinates\": [[144.9671074625, -37.79605713...     31258       NaN  \n",
            "80409  {\"coordinates\": [[144.9692443775, -37.81575710...     40915       NaN  \n"
          ]
        }
      ]
    },
    {
      "cell_type": "markdown",
      "metadata": {
        "id": "r5clsbV0ReNk"
      },
      "source": [
        "**Accessing the first record in the JSON file**\n",
        "\n",
        "To observe the type of data and values stored within the JSON file we can use the following code to observe the first record."
      ]
    },
    {
      "cell_type": "markdown",
      "metadata": {
        "id": "e_r1QLAtReNk"
      },
      "source": [
        "**Observing the JSON Full Structure and Properties**\n",
        "\n",
        "By calling the variable 'pedestrianpath' we can observe the full structure, properties and values of the JSON file."
      ]
    },
    {
      "cell_type": "code",
      "execution_count": null,
      "metadata": {
        "id": "BeQzWHdRReNl",
        "colab": {
          "base_uri": "https://localhost:8080/",
          "height": 597
        },
        "outputId": "62009f07-b410-4842-b1da-9b6f07f939e5"
      },
      "outputs": [
        {
          "output_type": "execute_result",
          "data": {
            "text/plain": [
              "                                  geo_point_2d  \\\n",
              "0          -37.791128630450004, 144.9250621319   \n",
              "1            -37.790885197, 144.92478186034998   \n",
              "2          -37.79063325525, 144.92244485650002   \n",
              "3          -37.790601697949995, 144.9253671047   \n",
              "4                 -37.790968201, 144.942393422   \n",
              "...                                        ...   \n",
              "85321  -37.805990468599994, 144.95575000309998   \n",
              "85322          -37.80598728145, 144.9557292294   \n",
              "85323         -37.80598330475, 144.95569451255   \n",
              "85324           -37.8061205253, 144.9644909242   \n",
              "85325     -37.806155077499994, 144.96448402655   \n",
              "\n",
              "                                               geo_shape  objectid  neworkid  \n",
              "0      {\"coordinates\": [[144.9251354935, -37.79109699...      5735       NaN  \n",
              "1      {\"coordinates\": [[144.9247703611, -37.79089170...      5738       NaN  \n",
              "2      {\"coordinates\": [[144.9224965319, -37.79068385...      5740       NaN  \n",
              "3      {\"coordinates\": [[144.9254894579, -37.79073841...      5743       NaN  \n",
              "4      {\"coordinates\": [[144.9424411919, -37.79097389...      5744       NaN  \n",
              "...                                                  ...       ...       ...  \n",
              "85321  {\"coordinates\": [[144.9557649197, -37.80599275...     15720       NaN  \n",
              "85322  {\"coordinates\": [[144.9557350865, -37.80598818...     15721       NaN  \n",
              "85323  {\"coordinates\": [[144.9557233723, -37.80598638...     15722       NaN  \n",
              "85324  {\"coordinates\": [[144.9644952333, -37.80609894...     15732       NaN  \n",
              "85325  {\"coordinates\": [[144.9644866151, -37.80614210...     15733       NaN  \n",
              "\n",
              "[85326 rows x 4 columns]"
            ],
            "text/html": [
              "\n",
              "  <div id=\"df-f56e8874-132f-4af9-a016-0a1af1455bff\" class=\"colab-df-container\">\n",
              "    <div>\n",
              "<style scoped>\n",
              "    .dataframe tbody tr th:only-of-type {\n",
              "        vertical-align: middle;\n",
              "    }\n",
              "\n",
              "    .dataframe tbody tr th {\n",
              "        vertical-align: top;\n",
              "    }\n",
              "\n",
              "    .dataframe thead th {\n",
              "        text-align: right;\n",
              "    }\n",
              "</style>\n",
              "<table border=\"1\" class=\"dataframe\">\n",
              "  <thead>\n",
              "    <tr style=\"text-align: right;\">\n",
              "      <th></th>\n",
              "      <th>geo_point_2d</th>\n",
              "      <th>geo_shape</th>\n",
              "      <th>objectid</th>\n",
              "      <th>neworkid</th>\n",
              "    </tr>\n",
              "  </thead>\n",
              "  <tbody>\n",
              "    <tr>\n",
              "      <th>0</th>\n",
              "      <td>-37.791128630450004, 144.9250621319</td>\n",
              "      <td>{\"coordinates\": [[144.9251354935, -37.79109699...</td>\n",
              "      <td>5735</td>\n",
              "      <td>NaN</td>\n",
              "    </tr>\n",
              "    <tr>\n",
              "      <th>1</th>\n",
              "      <td>-37.790885197, 144.92478186034998</td>\n",
              "      <td>{\"coordinates\": [[144.9247703611, -37.79089170...</td>\n",
              "      <td>5738</td>\n",
              "      <td>NaN</td>\n",
              "    </tr>\n",
              "    <tr>\n",
              "      <th>2</th>\n",
              "      <td>-37.79063325525, 144.92244485650002</td>\n",
              "      <td>{\"coordinates\": [[144.9224965319, -37.79068385...</td>\n",
              "      <td>5740</td>\n",
              "      <td>NaN</td>\n",
              "    </tr>\n",
              "    <tr>\n",
              "      <th>3</th>\n",
              "      <td>-37.790601697949995, 144.9253671047</td>\n",
              "      <td>{\"coordinates\": [[144.9254894579, -37.79073841...</td>\n",
              "      <td>5743</td>\n",
              "      <td>NaN</td>\n",
              "    </tr>\n",
              "    <tr>\n",
              "      <th>4</th>\n",
              "      <td>-37.790968201, 144.942393422</td>\n",
              "      <td>{\"coordinates\": [[144.9424411919, -37.79097389...</td>\n",
              "      <td>5744</td>\n",
              "      <td>NaN</td>\n",
              "    </tr>\n",
              "    <tr>\n",
              "      <th>...</th>\n",
              "      <td>...</td>\n",
              "      <td>...</td>\n",
              "      <td>...</td>\n",
              "      <td>...</td>\n",
              "    </tr>\n",
              "    <tr>\n",
              "      <th>85321</th>\n",
              "      <td>-37.805990468599994, 144.95575000309998</td>\n",
              "      <td>{\"coordinates\": [[144.9557649197, -37.80599275...</td>\n",
              "      <td>15720</td>\n",
              "      <td>NaN</td>\n",
              "    </tr>\n",
              "    <tr>\n",
              "      <th>85322</th>\n",
              "      <td>-37.80598728145, 144.9557292294</td>\n",
              "      <td>{\"coordinates\": [[144.9557350865, -37.80598818...</td>\n",
              "      <td>15721</td>\n",
              "      <td>NaN</td>\n",
              "    </tr>\n",
              "    <tr>\n",
              "      <th>85323</th>\n",
              "      <td>-37.80598330475, 144.95569451255</td>\n",
              "      <td>{\"coordinates\": [[144.9557233723, -37.80598638...</td>\n",
              "      <td>15722</td>\n",
              "      <td>NaN</td>\n",
              "    </tr>\n",
              "    <tr>\n",
              "      <th>85324</th>\n",
              "      <td>-37.8061205253, 144.9644909242</td>\n",
              "      <td>{\"coordinates\": [[144.9644952333, -37.80609894...</td>\n",
              "      <td>15732</td>\n",
              "      <td>NaN</td>\n",
              "    </tr>\n",
              "    <tr>\n",
              "      <th>85325</th>\n",
              "      <td>-37.806155077499994, 144.96448402655</td>\n",
              "      <td>{\"coordinates\": [[144.9644866151, -37.80614210...</td>\n",
              "      <td>15733</td>\n",
              "      <td>NaN</td>\n",
              "    </tr>\n",
              "  </tbody>\n",
              "</table>\n",
              "<p>85326 rows × 4 columns</p>\n",
              "</div>\n",
              "    <div class=\"colab-df-buttons\">\n",
              "\n",
              "  <div class=\"colab-df-container\">\n",
              "    <button class=\"colab-df-convert\" onclick=\"convertToInteractive('df-f56e8874-132f-4af9-a016-0a1af1455bff')\"\n",
              "            title=\"Convert this dataframe to an interactive table.\"\n",
              "            style=\"display:none;\">\n",
              "\n",
              "  <svg xmlns=\"http://www.w3.org/2000/svg\" height=\"24px\" viewBox=\"0 -960 960 960\">\n",
              "    <path d=\"M120-120v-720h720v720H120Zm60-500h600v-160H180v160Zm220 220h160v-160H400v160Zm0 220h160v-160H400v160ZM180-400h160v-160H180v160Zm440 0h160v-160H620v160ZM180-180h160v-160H180v160Zm440 0h160v-160H620v160Z\"/>\n",
              "  </svg>\n",
              "    </button>\n",
              "\n",
              "  <style>\n",
              "    .colab-df-container {\n",
              "      display:flex;\n",
              "      gap: 12px;\n",
              "    }\n",
              "\n",
              "    .colab-df-convert {\n",
              "      background-color: #E8F0FE;\n",
              "      border: none;\n",
              "      border-radius: 50%;\n",
              "      cursor: pointer;\n",
              "      display: none;\n",
              "      fill: #1967D2;\n",
              "      height: 32px;\n",
              "      padding: 0 0 0 0;\n",
              "      width: 32px;\n",
              "    }\n",
              "\n",
              "    .colab-df-convert:hover {\n",
              "      background-color: #E2EBFA;\n",
              "      box-shadow: 0px 1px 2px rgba(60, 64, 67, 0.3), 0px 1px 3px 1px rgba(60, 64, 67, 0.15);\n",
              "      fill: #174EA6;\n",
              "    }\n",
              "\n",
              "    .colab-df-buttons div {\n",
              "      margin-bottom: 4px;\n",
              "    }\n",
              "\n",
              "    [theme=dark] .colab-df-convert {\n",
              "      background-color: #3B4455;\n",
              "      fill: #D2E3FC;\n",
              "    }\n",
              "\n",
              "    [theme=dark] .colab-df-convert:hover {\n",
              "      background-color: #434B5C;\n",
              "      box-shadow: 0px 1px 3px 1px rgba(0, 0, 0, 0.15);\n",
              "      filter: drop-shadow(0px 1px 2px rgba(0, 0, 0, 0.3));\n",
              "      fill: #FFFFFF;\n",
              "    }\n",
              "  </style>\n",
              "\n",
              "    <script>\n",
              "      const buttonEl =\n",
              "        document.querySelector('#df-f56e8874-132f-4af9-a016-0a1af1455bff button.colab-df-convert');\n",
              "      buttonEl.style.display =\n",
              "        google.colab.kernel.accessAllowed ? 'block' : 'none';\n",
              "\n",
              "      async function convertToInteractive(key) {\n",
              "        const element = document.querySelector('#df-f56e8874-132f-4af9-a016-0a1af1455bff');\n",
              "        const dataTable =\n",
              "          await google.colab.kernel.invokeFunction('convertToInteractive',\n",
              "                                                    [key], {});\n",
              "        if (!dataTable) return;\n",
              "\n",
              "        const docLinkHtml = 'Like what you see? Visit the ' +\n",
              "          '<a target=\"_blank\" href=https://colab.research.google.com/notebooks/data_table.ipynb>data table notebook</a>'\n",
              "          + ' to learn more about interactive tables.';\n",
              "        element.innerHTML = '';\n",
              "        dataTable['output_type'] = 'display_data';\n",
              "        await google.colab.output.renderOutput(dataTable, element);\n",
              "        const docLink = document.createElement('div');\n",
              "        docLink.innerHTML = docLinkHtml;\n",
              "        element.appendChild(docLink);\n",
              "      }\n",
              "    </script>\n",
              "  </div>\n",
              "\n",
              "\n",
              "<div id=\"df-a9e12823-f36b-446b-b24f-cb04e48a3d14\">\n",
              "  <button class=\"colab-df-quickchart\" onclick=\"quickchart('df-a9e12823-f36b-446b-b24f-cb04e48a3d14')\"\n",
              "            title=\"Suggest charts\"\n",
              "            style=\"display:none;\">\n",
              "\n",
              "<svg xmlns=\"http://www.w3.org/2000/svg\" height=\"24px\"viewBox=\"0 0 24 24\"\n",
              "     width=\"24px\">\n",
              "    <g>\n",
              "        <path d=\"M19 3H5c-1.1 0-2 .9-2 2v14c0 1.1.9 2 2 2h14c1.1 0 2-.9 2-2V5c0-1.1-.9-2-2-2zM9 17H7v-7h2v7zm4 0h-2V7h2v10zm4 0h-2v-4h2v4z\"/>\n",
              "    </g>\n",
              "</svg>\n",
              "  </button>\n",
              "\n",
              "<style>\n",
              "  .colab-df-quickchart {\n",
              "      --bg-color: #E8F0FE;\n",
              "      --fill-color: #1967D2;\n",
              "      --hover-bg-color: #E2EBFA;\n",
              "      --hover-fill-color: #174EA6;\n",
              "      --disabled-fill-color: #AAA;\n",
              "      --disabled-bg-color: #DDD;\n",
              "  }\n",
              "\n",
              "  [theme=dark] .colab-df-quickchart {\n",
              "      --bg-color: #3B4455;\n",
              "      --fill-color: #D2E3FC;\n",
              "      --hover-bg-color: #434B5C;\n",
              "      --hover-fill-color: #FFFFFF;\n",
              "      --disabled-bg-color: #3B4455;\n",
              "      --disabled-fill-color: #666;\n",
              "  }\n",
              "\n",
              "  .colab-df-quickchart {\n",
              "    background-color: var(--bg-color);\n",
              "    border: none;\n",
              "    border-radius: 50%;\n",
              "    cursor: pointer;\n",
              "    display: none;\n",
              "    fill: var(--fill-color);\n",
              "    height: 32px;\n",
              "    padding: 0;\n",
              "    width: 32px;\n",
              "  }\n",
              "\n",
              "  .colab-df-quickchart:hover {\n",
              "    background-color: var(--hover-bg-color);\n",
              "    box-shadow: 0 1px 2px rgba(60, 64, 67, 0.3), 0 1px 3px 1px rgba(60, 64, 67, 0.15);\n",
              "    fill: var(--button-hover-fill-color);\n",
              "  }\n",
              "\n",
              "  .colab-df-quickchart-complete:disabled,\n",
              "  .colab-df-quickchart-complete:disabled:hover {\n",
              "    background-color: var(--disabled-bg-color);\n",
              "    fill: var(--disabled-fill-color);\n",
              "    box-shadow: none;\n",
              "  }\n",
              "\n",
              "  .colab-df-spinner {\n",
              "    border: 2px solid var(--fill-color);\n",
              "    border-color: transparent;\n",
              "    border-bottom-color: var(--fill-color);\n",
              "    animation:\n",
              "      spin 1s steps(1) infinite;\n",
              "  }\n",
              "\n",
              "  @keyframes spin {\n",
              "    0% {\n",
              "      border-color: transparent;\n",
              "      border-bottom-color: var(--fill-color);\n",
              "      border-left-color: var(--fill-color);\n",
              "    }\n",
              "    20% {\n",
              "      border-color: transparent;\n",
              "      border-left-color: var(--fill-color);\n",
              "      border-top-color: var(--fill-color);\n",
              "    }\n",
              "    30% {\n",
              "      border-color: transparent;\n",
              "      border-left-color: var(--fill-color);\n",
              "      border-top-color: var(--fill-color);\n",
              "      border-right-color: var(--fill-color);\n",
              "    }\n",
              "    40% {\n",
              "      border-color: transparent;\n",
              "      border-right-color: var(--fill-color);\n",
              "      border-top-color: var(--fill-color);\n",
              "    }\n",
              "    60% {\n",
              "      border-color: transparent;\n",
              "      border-right-color: var(--fill-color);\n",
              "    }\n",
              "    80% {\n",
              "      border-color: transparent;\n",
              "      border-right-color: var(--fill-color);\n",
              "      border-bottom-color: var(--fill-color);\n",
              "    }\n",
              "    90% {\n",
              "      border-color: transparent;\n",
              "      border-bottom-color: var(--fill-color);\n",
              "    }\n",
              "  }\n",
              "</style>\n",
              "\n",
              "  <script>\n",
              "    async function quickchart(key) {\n",
              "      const quickchartButtonEl =\n",
              "        document.querySelector('#' + key + ' button');\n",
              "      quickchartButtonEl.disabled = true;  // To prevent multiple clicks.\n",
              "      quickchartButtonEl.classList.add('colab-df-spinner');\n",
              "      try {\n",
              "        const charts = await google.colab.kernel.invokeFunction(\n",
              "            'suggestCharts', [key], {});\n",
              "      } catch (error) {\n",
              "        console.error('Error during call to suggestCharts:', error);\n",
              "      }\n",
              "      quickchartButtonEl.classList.remove('colab-df-spinner');\n",
              "      quickchartButtonEl.classList.add('colab-df-quickchart-complete');\n",
              "    }\n",
              "    (() => {\n",
              "      let quickchartButtonEl =\n",
              "        document.querySelector('#df-a9e12823-f36b-446b-b24f-cb04e48a3d14 button');\n",
              "      quickchartButtonEl.style.display =\n",
              "        google.colab.kernel.accessAllowed ? 'block' : 'none';\n",
              "    })();\n",
              "  </script>\n",
              "</div>\n",
              "\n",
              "  <div id=\"id_400f3a47-2574-4b4b-96b4-673d0bb6af23\">\n",
              "    <style>\n",
              "      .colab-df-generate {\n",
              "        background-color: #E8F0FE;\n",
              "        border: none;\n",
              "        border-radius: 50%;\n",
              "        cursor: pointer;\n",
              "        display: none;\n",
              "        fill: #1967D2;\n",
              "        height: 32px;\n",
              "        padding: 0 0 0 0;\n",
              "        width: 32px;\n",
              "      }\n",
              "\n",
              "      .colab-df-generate:hover {\n",
              "        background-color: #E2EBFA;\n",
              "        box-shadow: 0px 1px 2px rgba(60, 64, 67, 0.3), 0px 1px 3px 1px rgba(60, 64, 67, 0.15);\n",
              "        fill: #174EA6;\n",
              "      }\n",
              "\n",
              "      [theme=dark] .colab-df-generate {\n",
              "        background-color: #3B4455;\n",
              "        fill: #D2E3FC;\n",
              "      }\n",
              "\n",
              "      [theme=dark] .colab-df-generate:hover {\n",
              "        background-color: #434B5C;\n",
              "        box-shadow: 0px 1px 3px 1px rgba(0, 0, 0, 0.15);\n",
              "        filter: drop-shadow(0px 1px 2px rgba(0, 0, 0, 0.3));\n",
              "        fill: #FFFFFF;\n",
              "      }\n",
              "    </style>\n",
              "    <button class=\"colab-df-generate\" onclick=\"generateWithVariable('pedestrianpath')\"\n",
              "            title=\"Generate code using this dataframe.\"\n",
              "            style=\"display:none;\">\n",
              "\n",
              "  <svg xmlns=\"http://www.w3.org/2000/svg\" height=\"24px\"viewBox=\"0 0 24 24\"\n",
              "       width=\"24px\">\n",
              "    <path d=\"M7,19H8.4L18.45,9,17,7.55,7,17.6ZM5,21V16.75L18.45,3.32a2,2,0,0,1,2.83,0l1.4,1.43a1.91,1.91,0,0,1,.58,1.4,1.91,1.91,0,0,1-.58,1.4L9.25,21ZM18.45,9,17,7.55Zm-12,3A5.31,5.31,0,0,0,4.9,8.1,5.31,5.31,0,0,0,1,6.5,5.31,5.31,0,0,0,4.9,4.9,5.31,5.31,0,0,0,6.5,1,5.31,5.31,0,0,0,8.1,4.9,5.31,5.31,0,0,0,12,6.5,5.46,5.46,0,0,0,6.5,12Z\"/>\n",
              "  </svg>\n",
              "    </button>\n",
              "    <script>\n",
              "      (() => {\n",
              "      const buttonEl =\n",
              "        document.querySelector('#id_400f3a47-2574-4b4b-96b4-673d0bb6af23 button.colab-df-generate');\n",
              "      buttonEl.style.display =\n",
              "        google.colab.kernel.accessAllowed ? 'block' : 'none';\n",
              "\n",
              "      buttonEl.onclick = () => {\n",
              "        google.colab.notebook.generateWithVariable('pedestrianpath');\n",
              "      }\n",
              "      })();\n",
              "    </script>\n",
              "  </div>\n",
              "\n",
              "    </div>\n",
              "  </div>\n"
            ],
            "application/vnd.google.colaboratory.intrinsic+json": {
              "type": "dataframe",
              "variable_name": "pedestrianpath",
              "summary": "{\n  \"name\": \"pedestrianpath\",\n  \"rows\": 85326,\n  \"fields\": [\n    {\n      \"column\": \"geo_point_2d\",\n      \"properties\": {\n        \"dtype\": \"string\",\n        \"num_unique_values\": 84915,\n        \"samples\": [\n          \"-37.81082750065, 144.96414321715\",\n          \"-37.7988590041, 144.96964659920002\",\n          \"-37.8127884697, 144.98379026995002\"\n        ],\n        \"semantic_type\": \"\",\n        \"description\": \"\"\n      }\n    },\n    {\n      \"column\": \"geo_shape\",\n      \"properties\": {\n        \"dtype\": \"string\",\n        \"num_unique_values\": 84938,\n        \"samples\": [\n          \"{\\\"coordinates\\\": [[144.9507634685, -37.8081111834], [144.9506972968, -37.808143369]], \\\"type\\\": \\\"LineString\\\"}\",\n          \"{\\\"coordinates\\\": [[144.9235582545, -37.7939975503], [144.9235683023, -37.7939920014]], \\\"type\\\": \\\"LineString\\\"}\",\n          \"{\\\"coordinates\\\": [144.9382367379, -37.7992982332], \\\"type\\\": \\\"Point\\\"}\"\n        ],\n        \"semantic_type\": \"\",\n        \"description\": \"\"\n      }\n    },\n    {\n      \"column\": \"objectid\",\n      \"properties\": {\n        \"dtype\": \"number\",\n        \"std\": 21576,\n        \"min\": 1,\n        \"max\": 71060,\n        \"num_unique_values\": 71060,\n        \"samples\": [\n          61388,\n          13013,\n          20096\n        ],\n        \"semantic_type\": \"\",\n        \"description\": \"\"\n      }\n    },\n    {\n      \"column\": \"neworkid\",\n      \"properties\": {\n        \"dtype\": \"number\",\n        \"std\": 221390.67733119093,\n        \"min\": 100001.0,\n        \"max\": 691493.0,\n        \"num_unique_values\": 14266,\n        \"samples\": [\n          110866.0,\n          102188.0,\n          108116.0\n        ],\n        \"semantic_type\": \"\",\n        \"description\": \"\"\n      }\n    }\n  ]\n}"
            }
          },
          "metadata": {},
          "execution_count": 23
        }
      ],
      "source": [
        "pedestrianpath\n",
        "# To observe just the geographical longitude and Latitude coordinates we can use:\n",
        "#pedestrianpath['geo-shape'][0]['geo_point_2d']"
      ]
    },
    {
      "cell_type": "code",
      "source": [
        "# Example DataFrame\n",
        "data = pedestrianpath\n",
        "geo_pedestrianpath = pd.DataFrame(data)\n",
        "\n",
        "# Split the Coordinates column into two separate columns\n",
        "geo_pedestrianpath[['lat', 'lon']] = geo_pedestrianpath['geo_point_2d'].str.split(',', expand=True)\n",
        "\n",
        "# Print the updated DataFrame\n",
        "print(geo_pedestrianpath)"
      ],
      "metadata": {
        "colab": {
          "base_uri": "https://localhost:8080/"
        },
        "id": "NE_YI-v5lLsG",
        "outputId": "c39dcf8a-b1ab-4e38-87a0-72e4dacf7930"
      },
      "execution_count": null,
      "outputs": [
        {
          "output_type": "stream",
          "name": "stdout",
          "text": [
            "                                  geo_point_2d  \\\n",
            "0          -37.791128630450004, 144.9250621319   \n",
            "1            -37.790885197, 144.92478186034998   \n",
            "2          -37.79063325525, 144.92244485650002   \n",
            "3          -37.790601697949995, 144.9253671047   \n",
            "4                 -37.790968201, 144.942393422   \n",
            "...                                        ...   \n",
            "85321  -37.805990468599994, 144.95575000309998   \n",
            "85322          -37.80598728145, 144.9557292294   \n",
            "85323         -37.80598330475, 144.95569451255   \n",
            "85324           -37.8061205253, 144.9644909242   \n",
            "85325     -37.806155077499994, 144.96448402655   \n",
            "\n",
            "                                               geo_shape  objectid  neworkid  \\\n",
            "0      {\"coordinates\": [[144.9251354935, -37.79109699...      5735       NaN   \n",
            "1      {\"coordinates\": [[144.9247703611, -37.79089170...      5738       NaN   \n",
            "2      {\"coordinates\": [[144.9224965319, -37.79068385...      5740       NaN   \n",
            "3      {\"coordinates\": [[144.9254894579, -37.79073841...      5743       NaN   \n",
            "4      {\"coordinates\": [[144.9424411919, -37.79097389...      5744       NaN   \n",
            "...                                                  ...       ...       ...   \n",
            "85321  {\"coordinates\": [[144.9557649197, -37.80599275...     15720       NaN   \n",
            "85322  {\"coordinates\": [[144.9557350865, -37.80598818...     15721       NaN   \n",
            "85323  {\"coordinates\": [[144.9557233723, -37.80598638...     15722       NaN   \n",
            "85324  {\"coordinates\": [[144.9644952333, -37.80609894...     15732       NaN   \n",
            "85325  {\"coordinates\": [[144.9644866151, -37.80614210...     15733       NaN   \n",
            "\n",
            "                       lat                  lon  \n",
            "0      -37.791128630450004       144.9250621319  \n",
            "1            -37.790885197   144.92478186034998  \n",
            "2          -37.79063325525   144.92244485650002  \n",
            "3      -37.790601697949995       144.9253671047  \n",
            "4            -37.790968201        144.942393422  \n",
            "...                    ...                  ...  \n",
            "85321  -37.805990468599994   144.95575000309998  \n",
            "85322      -37.80598728145       144.9557292294  \n",
            "85323      -37.80598330475      144.95569451255  \n",
            "85324       -37.8061205253       144.9644909242  \n",
            "85325  -37.806155077499994      144.96448402655  \n",
            "\n",
            "[85326 rows x 6 columns]\n"
          ]
        }
      ]
    },
    {
      "cell_type": "code",
      "source": [
        "# Removing columns\n",
        "#columns_to_remove = ['X', 'Y']\n",
        "#pedestrian = geo_pedestrianpath.drop(columns=columns_to_remove)\n",
        "#pedestrian.head()\n"
      ],
      "metadata": {
        "id": "s8EvItgZlnHO"
      },
      "execution_count": null,
      "outputs": []
    },
    {
      "cell_type": "code",
      "source": [
        "# Create a GeoDataFrame from the DataFrame\n",
        "geometry = [Point(lon, lat) for lon, lat in zip(geo_pedestrianpath['lon'], geo_pedestrianpath['lat'])]\n",
        "gpd_pedestrianpath = gpd.GeoDataFrame(geo_pedestrianpath, geometry=geometry, crs=\"EPSG:4326\")\n",
        "\n",
        "# Drop the latitude and longitude columns if you no longer need them\n",
        "gpd_pedestrianpath.drop(columns=['lat', 'lon'], inplace=True)\n",
        "\n",
        "# Display the GeoDataFrame\n",
        "print(gpd_pedestrianpath)"
      ],
      "metadata": {
        "colab": {
          "base_uri": "https://localhost:8080/"
        },
        "id": "bJ9_zFLsk66z",
        "outputId": "417d50e0-e9e1-4e0d-9b31-b27c73cba21d"
      },
      "execution_count": null,
      "outputs": [
        {
          "output_type": "stream",
          "name": "stdout",
          "text": [
            "                                  geo_point_2d  \\\n",
            "0          -37.791128630450004, 144.9250621319   \n",
            "1            -37.790885197, 144.92478186034998   \n",
            "2          -37.79063325525, 144.92244485650002   \n",
            "3          -37.790601697949995, 144.9253671047   \n",
            "4                 -37.790968201, 144.942393422   \n",
            "...                                        ...   \n",
            "85321  -37.805990468599994, 144.95575000309998   \n",
            "85322          -37.80598728145, 144.9557292294   \n",
            "85323         -37.80598330475, 144.95569451255   \n",
            "85324           -37.8061205253, 144.9644909242   \n",
            "85325     -37.806155077499994, 144.96448402655   \n",
            "\n",
            "                                               geo_shape  objectid  neworkid  \\\n",
            "0      {\"coordinates\": [[144.9251354935, -37.79109699...      5735       NaN   \n",
            "1      {\"coordinates\": [[144.9247703611, -37.79089170...      5738       NaN   \n",
            "2      {\"coordinates\": [[144.9224965319, -37.79068385...      5740       NaN   \n",
            "3      {\"coordinates\": [[144.9254894579, -37.79073841...      5743       NaN   \n",
            "4      {\"coordinates\": [[144.9424411919, -37.79097389...      5744       NaN   \n",
            "...                                                  ...       ...       ...   \n",
            "85321  {\"coordinates\": [[144.9557649197, -37.80599275...     15720       NaN   \n",
            "85322  {\"coordinates\": [[144.9557350865, -37.80598818...     15721       NaN   \n",
            "85323  {\"coordinates\": [[144.9557233723, -37.80598638...     15722       NaN   \n",
            "85324  {\"coordinates\": [[144.9644952333, -37.80609894...     15732       NaN   \n",
            "85325  {\"coordinates\": [[144.9644866151, -37.80614210...     15733       NaN   \n",
            "\n",
            "                          geometry  \n",
            "0      POINT (144.92506 -37.79113)  \n",
            "1      POINT (144.92478 -37.79089)  \n",
            "2      POINT (144.92244 -37.79063)  \n",
            "3      POINT (144.92537 -37.79060)  \n",
            "4      POINT (144.94239 -37.79097)  \n",
            "...                            ...  \n",
            "85321  POINT (144.95575 -37.80599)  \n",
            "85322  POINT (144.95573 -37.80599)  \n",
            "85323  POINT (144.95569 -37.80598)  \n",
            "85324  POINT (144.96449 -37.80612)  \n",
            "85325  POINT (144.96448 -37.80616)  \n",
            "\n",
            "[85326 rows x 5 columns]\n"
          ]
        }
      ]
    },
    {
      "cell_type": "markdown",
      "metadata": {
        "id": "4hlEQdAcReNl"
      },
      "source": [
        "**Visualising the Melbourne Pedestrian Network on a Map**\n",
        "\n",
        "To visualise the JSON file containing the Melbourne Pedestrian Network we can use the 'folium' and 'json' and 'geopandas' packages and the following code."
      ]
    },
    {
      "cell_type": "code",
      "execution_count": null,
      "metadata": {
        "id": "A0nPLMEkReNl"
      },
      "outputs": [],
      "source": [
        "m = folium.Map([-37.81368709240999, 144.95738102347036], zoom_start=12)\n",
        "\n",
        "folium.Choropleth(\n",
        "    #gpd_pedestrianpath[gpd_pedestrianpath.geometry.length>0.0015], #Optional: select only lines above specified length to plot\n",
        "    gpd_pedestrianpath,\n",
        "    line_weight=3,\n",
        "    line_color='#056b8a',\n",
        "    control_scale=True,\n",
        "    prefer_canvas=True,\n",
        "    width=800,\n",
        "    height=580\n",
        ").add_to(m)\n",
        "\n",
        "m"
      ]
    },
    {
      "cell_type": "markdown",
      "metadata": {
        "id": "XdLSGW1MReNm"
      },
      "source": [
        "<div class=\"usecase-section-header\">Exploring the Traffic Accident 'Crash-Stats' Dataset</div>"
      ]
    },
    {
      "cell_type": "markdown",
      "metadata": {
        "id": "BlKvrFD-ReNm"
      },
      "source": [
        "This section focuses on setting up the Traffic Accident 'Crash-Stats' dataset and preparing it for use in the exploratory data analysis alongside the Melbourne Pedestrian Network dataset.\n",
        "\n",
        "The raw input dataset contains the following structure:"
      ]
    },
    {
      "cell_type": "code",
      "execution_count": null,
      "metadata": {
        "id": "CSjWBoZlReNp",
        "colab": {
          "base_uri": "https://localhost:8080/",
          "height": 391
        },
        "outputId": "fe92e639-7938-4e4c-b6c9-0ca374a190fe"
      },
      "outputs": [
        {
          "output_type": "error",
          "ename": "FileNotFoundError",
          "evalue": "[Errno 2] No such file or directory: 'interactive_dependencies/Accidents_Pedestrians_Melbourne_2008to2020.csv'",
          "traceback": [
            "\u001b[0;31m---------------------------------------------------------------------------\u001b[0m",
            "\u001b[0;31mFileNotFoundError\u001b[0m                         Traceback (most recent call last)",
            "\u001b[0;32m<ipython-input-29-cce5b6f32026>\u001b[0m in \u001b[0;36m<cell line: 2>\u001b[0;34m()\u001b[0m\n\u001b[1;32m      1\u001b[0m \u001b[0;31m#Read in the dataset\u001b[0m\u001b[0;34m\u001b[0m\u001b[0;34m\u001b[0m\u001b[0m\n\u001b[0;32m----> 2\u001b[0;31m \u001b[0mraw_accidents_pedestrians\u001b[0m \u001b[0;34m=\u001b[0m \u001b[0mpd\u001b[0m\u001b[0;34m.\u001b[0m\u001b[0mread_csv\u001b[0m\u001b[0;34m(\u001b[0m\u001b[0;34m'interactive_dependencies/Accidents_Pedestrians_Melbourne_2008to2020.csv'\u001b[0m\u001b[0;34m,\u001b[0m \u001b[0mparse_dates\u001b[0m\u001b[0;34m=\u001b[0m\u001b[0;34m[\u001b[0m\u001b[0;34m'DATAccidentDate_accident'\u001b[0m\u001b[0;34m]\u001b[0m\u001b[0;34m)\u001b[0m\u001b[0;34m\u001b[0m\u001b[0;34m\u001b[0m\u001b[0m\n\u001b[0m\u001b[1;32m      3\u001b[0m \u001b[0mraw_accidents_pedestrians\u001b[0m\u001b[0;34m.\u001b[0m\u001b[0minfo\u001b[0m\u001b[0;34m(\u001b[0m\u001b[0;34m)\u001b[0m \u001b[0;31m# see summary information of the data\u001b[0m\u001b[0;34m\u001b[0m\u001b[0;34m\u001b[0m\u001b[0m\n",
            "\u001b[0;32m/usr/local/lib/python3.10/dist-packages/pandas/util/_decorators.py\u001b[0m in \u001b[0;36mwrapper\u001b[0;34m(*args, **kwargs)\u001b[0m\n\u001b[1;32m    209\u001b[0m                 \u001b[0;32melse\u001b[0m\u001b[0;34m:\u001b[0m\u001b[0;34m\u001b[0m\u001b[0;34m\u001b[0m\u001b[0m\n\u001b[1;32m    210\u001b[0m                     \u001b[0mkwargs\u001b[0m\u001b[0;34m[\u001b[0m\u001b[0mnew_arg_name\u001b[0m\u001b[0;34m]\u001b[0m \u001b[0;34m=\u001b[0m \u001b[0mnew_arg_value\u001b[0m\u001b[0;34m\u001b[0m\u001b[0;34m\u001b[0m\u001b[0m\n\u001b[0;32m--> 211\u001b[0;31m             \u001b[0;32mreturn\u001b[0m \u001b[0mfunc\u001b[0m\u001b[0;34m(\u001b[0m\u001b[0;34m*\u001b[0m\u001b[0margs\u001b[0m\u001b[0;34m,\u001b[0m \u001b[0;34m**\u001b[0m\u001b[0mkwargs\u001b[0m\u001b[0;34m)\u001b[0m\u001b[0;34m\u001b[0m\u001b[0;34m\u001b[0m\u001b[0m\n\u001b[0m\u001b[1;32m    212\u001b[0m \u001b[0;34m\u001b[0m\u001b[0m\n\u001b[1;32m    213\u001b[0m         \u001b[0;32mreturn\u001b[0m \u001b[0mcast\u001b[0m\u001b[0;34m(\u001b[0m\u001b[0mF\u001b[0m\u001b[0;34m,\u001b[0m \u001b[0mwrapper\u001b[0m\u001b[0;34m)\u001b[0m\u001b[0;34m\u001b[0m\u001b[0;34m\u001b[0m\u001b[0m\n",
            "\u001b[0;32m/usr/local/lib/python3.10/dist-packages/pandas/util/_decorators.py\u001b[0m in \u001b[0;36mwrapper\u001b[0;34m(*args, **kwargs)\u001b[0m\n\u001b[1;32m    329\u001b[0m                     \u001b[0mstacklevel\u001b[0m\u001b[0;34m=\u001b[0m\u001b[0mfind_stack_level\u001b[0m\u001b[0;34m(\u001b[0m\u001b[0;34m)\u001b[0m\u001b[0;34m,\u001b[0m\u001b[0;34m\u001b[0m\u001b[0;34m\u001b[0m\u001b[0m\n\u001b[1;32m    330\u001b[0m                 )\n\u001b[0;32m--> 331\u001b[0;31m             \u001b[0;32mreturn\u001b[0m \u001b[0mfunc\u001b[0m\u001b[0;34m(\u001b[0m\u001b[0;34m*\u001b[0m\u001b[0margs\u001b[0m\u001b[0;34m,\u001b[0m \u001b[0;34m**\u001b[0m\u001b[0mkwargs\u001b[0m\u001b[0;34m)\u001b[0m\u001b[0;34m\u001b[0m\u001b[0;34m\u001b[0m\u001b[0m\n\u001b[0m\u001b[1;32m    332\u001b[0m \u001b[0;34m\u001b[0m\u001b[0m\n\u001b[1;32m    333\u001b[0m         \u001b[0;31m# error: \"Callable[[VarArg(Any), KwArg(Any)], Any]\" has no\u001b[0m\u001b[0;34m\u001b[0m\u001b[0;34m\u001b[0m\u001b[0m\n",
            "\u001b[0;32m/usr/local/lib/python3.10/dist-packages/pandas/io/parsers/readers.py\u001b[0m in \u001b[0;36mread_csv\u001b[0;34m(filepath_or_buffer, sep, delimiter, header, names, index_col, usecols, squeeze, prefix, mangle_dupe_cols, dtype, engine, converters, true_values, false_values, skipinitialspace, skiprows, skipfooter, nrows, na_values, keep_default_na, na_filter, verbose, skip_blank_lines, parse_dates, infer_datetime_format, keep_date_col, date_parser, dayfirst, cache_dates, iterator, chunksize, compression, thousands, decimal, lineterminator, quotechar, quoting, doublequote, escapechar, comment, encoding, encoding_errors, dialect, error_bad_lines, warn_bad_lines, on_bad_lines, delim_whitespace, low_memory, memory_map, float_precision, storage_options)\u001b[0m\n\u001b[1;32m    948\u001b[0m     \u001b[0mkwds\u001b[0m\u001b[0;34m.\u001b[0m\u001b[0mupdate\u001b[0m\u001b[0;34m(\u001b[0m\u001b[0mkwds_defaults\u001b[0m\u001b[0;34m)\u001b[0m\u001b[0;34m\u001b[0m\u001b[0;34m\u001b[0m\u001b[0m\n\u001b[1;32m    949\u001b[0m \u001b[0;34m\u001b[0m\u001b[0m\n\u001b[0;32m--> 950\u001b[0;31m     \u001b[0;32mreturn\u001b[0m \u001b[0m_read\u001b[0m\u001b[0;34m(\u001b[0m\u001b[0mfilepath_or_buffer\u001b[0m\u001b[0;34m,\u001b[0m \u001b[0mkwds\u001b[0m\u001b[0;34m)\u001b[0m\u001b[0;34m\u001b[0m\u001b[0;34m\u001b[0m\u001b[0m\n\u001b[0m\u001b[1;32m    951\u001b[0m \u001b[0;34m\u001b[0m\u001b[0m\n\u001b[1;32m    952\u001b[0m \u001b[0;34m\u001b[0m\u001b[0m\n",
            "\u001b[0;32m/usr/local/lib/python3.10/dist-packages/pandas/io/parsers/readers.py\u001b[0m in \u001b[0;36m_read\u001b[0;34m(filepath_or_buffer, kwds)\u001b[0m\n\u001b[1;32m    603\u001b[0m \u001b[0;34m\u001b[0m\u001b[0m\n\u001b[1;32m    604\u001b[0m     \u001b[0;31m# Create the parser.\u001b[0m\u001b[0;34m\u001b[0m\u001b[0;34m\u001b[0m\u001b[0m\n\u001b[0;32m--> 605\u001b[0;31m     \u001b[0mparser\u001b[0m \u001b[0;34m=\u001b[0m \u001b[0mTextFileReader\u001b[0m\u001b[0;34m(\u001b[0m\u001b[0mfilepath_or_buffer\u001b[0m\u001b[0;34m,\u001b[0m \u001b[0;34m**\u001b[0m\u001b[0mkwds\u001b[0m\u001b[0;34m)\u001b[0m\u001b[0;34m\u001b[0m\u001b[0;34m\u001b[0m\u001b[0m\n\u001b[0m\u001b[1;32m    606\u001b[0m \u001b[0;34m\u001b[0m\u001b[0m\n\u001b[1;32m    607\u001b[0m     \u001b[0;32mif\u001b[0m \u001b[0mchunksize\u001b[0m \u001b[0;32mor\u001b[0m \u001b[0miterator\u001b[0m\u001b[0;34m:\u001b[0m\u001b[0;34m\u001b[0m\u001b[0;34m\u001b[0m\u001b[0m\n",
            "\u001b[0;32m/usr/local/lib/python3.10/dist-packages/pandas/io/parsers/readers.py\u001b[0m in \u001b[0;36m__init__\u001b[0;34m(self, f, engine, **kwds)\u001b[0m\n\u001b[1;32m   1440\u001b[0m \u001b[0;34m\u001b[0m\u001b[0m\n\u001b[1;32m   1441\u001b[0m         \u001b[0mself\u001b[0m\u001b[0;34m.\u001b[0m\u001b[0mhandles\u001b[0m\u001b[0;34m:\u001b[0m \u001b[0mIOHandles\u001b[0m \u001b[0;34m|\u001b[0m \u001b[0;32mNone\u001b[0m \u001b[0;34m=\u001b[0m \u001b[0;32mNone\u001b[0m\u001b[0;34m\u001b[0m\u001b[0;34m\u001b[0m\u001b[0m\n\u001b[0;32m-> 1442\u001b[0;31m         \u001b[0mself\u001b[0m\u001b[0;34m.\u001b[0m\u001b[0m_engine\u001b[0m \u001b[0;34m=\u001b[0m \u001b[0mself\u001b[0m\u001b[0;34m.\u001b[0m\u001b[0m_make_engine\u001b[0m\u001b[0;34m(\u001b[0m\u001b[0mf\u001b[0m\u001b[0;34m,\u001b[0m \u001b[0mself\u001b[0m\u001b[0;34m.\u001b[0m\u001b[0mengine\u001b[0m\u001b[0;34m)\u001b[0m\u001b[0;34m\u001b[0m\u001b[0;34m\u001b[0m\u001b[0m\n\u001b[0m\u001b[1;32m   1443\u001b[0m \u001b[0;34m\u001b[0m\u001b[0m\n\u001b[1;32m   1444\u001b[0m     \u001b[0;32mdef\u001b[0m \u001b[0mclose\u001b[0m\u001b[0;34m(\u001b[0m\u001b[0mself\u001b[0m\u001b[0;34m)\u001b[0m \u001b[0;34m->\u001b[0m \u001b[0;32mNone\u001b[0m\u001b[0;34m:\u001b[0m\u001b[0;34m\u001b[0m\u001b[0;34m\u001b[0m\u001b[0m\n",
            "\u001b[0;32m/usr/local/lib/python3.10/dist-packages/pandas/io/parsers/readers.py\u001b[0m in \u001b[0;36m_make_engine\u001b[0;34m(self, f, engine)\u001b[0m\n\u001b[1;32m   1733\u001b[0m                 \u001b[0;32mif\u001b[0m \u001b[0;34m\"b\"\u001b[0m \u001b[0;32mnot\u001b[0m \u001b[0;32min\u001b[0m \u001b[0mmode\u001b[0m\u001b[0;34m:\u001b[0m\u001b[0;34m\u001b[0m\u001b[0;34m\u001b[0m\u001b[0m\n\u001b[1;32m   1734\u001b[0m                     \u001b[0mmode\u001b[0m \u001b[0;34m+=\u001b[0m \u001b[0;34m\"b\"\u001b[0m\u001b[0;34m\u001b[0m\u001b[0;34m\u001b[0m\u001b[0m\n\u001b[0;32m-> 1735\u001b[0;31m             self.handles = get_handle(\n\u001b[0m\u001b[1;32m   1736\u001b[0m                 \u001b[0mf\u001b[0m\u001b[0;34m,\u001b[0m\u001b[0;34m\u001b[0m\u001b[0;34m\u001b[0m\u001b[0m\n\u001b[1;32m   1737\u001b[0m                 \u001b[0mmode\u001b[0m\u001b[0;34m,\u001b[0m\u001b[0;34m\u001b[0m\u001b[0;34m\u001b[0m\u001b[0m\n",
            "\u001b[0;32m/usr/local/lib/python3.10/dist-packages/pandas/io/common.py\u001b[0m in \u001b[0;36mget_handle\u001b[0;34m(path_or_buf, mode, encoding, compression, memory_map, is_text, errors, storage_options)\u001b[0m\n\u001b[1;32m    854\u001b[0m         \u001b[0;32mif\u001b[0m \u001b[0mioargs\u001b[0m\u001b[0;34m.\u001b[0m\u001b[0mencoding\u001b[0m \u001b[0;32mand\u001b[0m \u001b[0;34m\"b\"\u001b[0m \u001b[0;32mnot\u001b[0m \u001b[0;32min\u001b[0m \u001b[0mioargs\u001b[0m\u001b[0;34m.\u001b[0m\u001b[0mmode\u001b[0m\u001b[0;34m:\u001b[0m\u001b[0;34m\u001b[0m\u001b[0;34m\u001b[0m\u001b[0m\n\u001b[1;32m    855\u001b[0m             \u001b[0;31m# Encoding\u001b[0m\u001b[0;34m\u001b[0m\u001b[0;34m\u001b[0m\u001b[0m\n\u001b[0;32m--> 856\u001b[0;31m             handle = open(\n\u001b[0m\u001b[1;32m    857\u001b[0m                 \u001b[0mhandle\u001b[0m\u001b[0;34m,\u001b[0m\u001b[0;34m\u001b[0m\u001b[0;34m\u001b[0m\u001b[0m\n\u001b[1;32m    858\u001b[0m                 \u001b[0mioargs\u001b[0m\u001b[0;34m.\u001b[0m\u001b[0mmode\u001b[0m\u001b[0;34m,\u001b[0m\u001b[0;34m\u001b[0m\u001b[0;34m\u001b[0m\u001b[0m\n",
            "\u001b[0;31mFileNotFoundError\u001b[0m: [Errno 2] No such file or directory: 'interactive_dependencies/Accidents_Pedestrians_Melbourne_2008to2020.csv'"
          ]
        }
      ],
      "source": [
        "#Read in the dataset\n",
        "raw_accidents_pedestrians = pd.read_csv('interactive_dependencies/Accidents_Pedestrians_Melbourne_2008to2020.csv', parse_dates=['DATAccidentDate_accident'])\n",
        "raw_accidents_pedestrians.info() # see summary information of the data"
      ]
    },
    {
      "cell_type": "markdown",
      "metadata": {
        "id": "7Ky_K_x2ReNq"
      },
      "source": [
        "**Setting up the Working Accident 'Crash-Stats' Dataset**\n",
        "\n",
        "The working dataset will have the following structure."
      ]
    },
    {
      "cell_type": "code",
      "execution_count": null,
      "metadata": {
        "id": "VBFMjRM9ReNq"
      },
      "outputs": [],
      "source": [
        "#Create a copy of the raw source dataset\n",
        "wrk_accident_pedestrians = raw_accidents_pedestrians.copy()\n",
        "\n",
        "#Create new features from the accident date variable such as a numerical representation of weekday name, week of the year\n",
        "#day of the year and a separate variable to hold the year of accident.\n",
        "wrk_accident_pedestrians['NUMDayOfWeek'] = wrk_accident_pedestrians['DATAccidentDate_accident'].dt.strftime('%w')\n",
        "wrk_accident_pedestrians['NUMWeekOfYear'] = wrk_accident_pedestrians['DATAccidentDate_accident'].dt.strftime('%W')\n",
        "wrk_accident_pedestrians['NUMDayOfYear'] = wrk_accident_pedestrians['DATAccidentDate_accident'].dt.strftime('%j')\n",
        "wrk_accident_pedestrians['NUMYearOfAcc'] = wrk_accident_pedestrians['DATAccidentDate_accident'].dt.strftime('%Y')\n",
        "\n",
        "#Convert the time of accident to a string and clean up excess white space\n",
        "wrk_accident_pedestrians.TIMAccidentTime_accident = wrk_accident_pedestrians.TIMAccidentTime_accident.astype('string')\n",
        "wrk_accident_pedestrians.TIMAccidentTime_accident = wrk_accident_pedestrians.TIMAccidentTime_accident.str.rstrip()\n",
        "\n",
        "#Using the time of accident variable, create new features including accident hour, minute and second\n",
        "wrk_accident_pedestrians[['hour','minute','second']] = wrk_accident_pedestrians['TIMAccidentTime_accident'].astype(str).str.split(':', expand=True).astype(str)\n",
        "\n",
        "#Create a new feature to combine the week day name and hour of accident\n",
        "wrk_accident_pedestrians['CATWeekDayHour'] = wrk_accident_pedestrians[['CATDayOfWeek_accident', 'hour']].agg(' '.join, axis=1)\n",
        "\n",
        "#Set the time format for the time of accident variable\n",
        "wrk_accident_pedestrians['TIMAccidentTime_accident'] = pd.to_datetime(wrk_accident_pedestrians['TIMAccidentTime_accident'], format='%H:%M:%S').dt.time\n",
        "\n",
        "#Clean up the text white space in the DCA description variable\n",
        "wrk_accident_pedestrians.CATDCADesc_accident = wrk_accident_pedestrians.CATDCADesc_accident.str.rstrip()\n",
        "\n",
        "#Create and apply a group mapping for the hour of accident\n",
        "mapping = {'00': 'Early Morning', '01': 'Early Morning', '02': 'Early Morning', '03': 'Early Morning', '04': 'Early Morning', '05': 'Early Morning',\n",
        "           '06': 'Morning', '07': 'Morning', '08': 'Morning',  '09': 'Late Morning',  '10': 'Late Morning', '11': 'Late Morning',\n",
        "           '12': 'Early Afternoon', '13': 'Early Afternoon', '14':'Early Afternoon',  '15': 'Late Afternoon', '16': 'Late Afternoon',\n",
        "           '17': 'Evening', '18': 'Evening', '19': 'Evening', '20': 'Night', '21': 'Night', '22': 'Night', '23': 'Night' }\n",
        "wrk_accident_pedestrians['hourgroup'] = wrk_accident_pedestrians.hour.map(mapping)\n",
        "\n",
        "#Create a new feature which concatenates the week day name and accident hour group mapping\n",
        "wrk_accident_pedestrians['CATWeekDayHourGroup'] = wrk_accident_pedestrians[['CATDayOfWeek_accident', 'hourgroup']].agg(' '.join, axis=1)\n",
        "\n",
        "#Convert all categorical variables to strings\n",
        "wrk_accident_pedestrians.CATAccidentTypeDesc_accident = wrk_accident_pedestrians.CATAccidentTypeDesc_accident.astype('string')\n",
        "wrk_accident_pedestrians['CATDayOfWeek_accident'] = wrk_accident_pedestrians['CATDayOfWeek_accident'].astype('string')\n",
        "wrk_accident_pedestrians['CATDCADesc_accident'] = wrk_accident_pedestrians['CATDCADesc_accident'].astype('string')\n",
        "wrk_accident_pedestrians['CATMelwaysPage_accident'] = wrk_accident_pedestrians['CATMelwaysPage_accident'].astype('string')\n",
        "wrk_accident_pedestrians['CATMelwaysGridRef_X_accident'] = wrk_accident_pedestrians['CATMelwaysGridRef_X_accident'].astype('string')\n",
        "wrk_accident_pedestrians['CATMelwaysGridRef_Y_accident'] = wrk_accident_pedestrians['CATMelwaysGridRef_Y_accident'].astype('string')\n",
        "wrk_accident_pedestrians['CATLightConditionDesc_accident'] = wrk_accident_pedestrians['CATLightConditionDesc_accident'].astype('string')\n",
        "wrk_accident_pedestrians['CATRoadUserTypeDesc_person'] = wrk_accident_pedestrians['CATRoadUserTypeDesc_person'].astype('string')\n",
        "wrk_accident_pedestrians['CATTakenHospital_person'] = wrk_accident_pedestrians['CATTakenHospital_person'].astype('string')\n",
        "wrk_accident_pedestrians['CATInjuryLevelDesc_person'] = wrk_accident_pedestrians['CATInjuryLevelDesc_person'].astype('string')\n",
        "wrk_accident_pedestrians['CATAgeGroup_person'] = wrk_accident_pedestrians['CATAgeGroup_person'].astype('string')\n",
        "wrk_accident_pedestrians['CATPostcode_person'] = wrk_accident_pedestrians['CATPostcode_person'].astype('string')\n",
        "wrk_accident_pedestrians['CATGender_person'] = wrk_accident_pedestrians['CATGender_person'].astype('string')\n",
        "wrk_accident_pedestrians['CATLGAName_node'] = wrk_accident_pedestrians['CATLGAName_node'].astype('string')\n",
        "wrk_accident_pedestrians['CATDEGUrbanName_node'] = wrk_accident_pedestrians['CATDEGUrbanName_node'].astype('string')\n",
        "wrk_accident_pedestrians['CATPostcode_node'] = wrk_accident_pedestrians['CATPostcode_node'].astype('string')\n",
        "wrk_accident_pedestrians['CATSurfaceConditionDesc_surface'] = wrk_accident_pedestrians['CATSurfaceConditionDesc_surface'].astype('string')\n",
        "wrk_accident_pedestrians['CATSubDCACodeDesc_subdca'] = wrk_accident_pedestrians['CATSubDCACodeDesc_subdca'].astype('string')\n",
        "wrk_accident_pedestrians['CATAtmosphericConditionDesc_atmosphere'] = wrk_accident_pedestrians['CATAtmosphericConditionDesc_atmosphere'].astype('string')\n",
        "wrk_accident_pedestrians['CATRoadName_acclocation'] = wrk_accident_pedestrians['CATRoadName_acclocation'].astype('string')\n",
        "wrk_accident_pedestrians['CATRoadNameInt_acclocation'] = wrk_accident_pedestrians['CATRoadNameInt_acclocation'].astype('string')\n",
        "wrk_accident_pedestrians['CATRoadType_acclocation'] = wrk_accident_pedestrians['CATRoadType_acclocation'].astype('string')\n",
        "wrk_accident_pedestrians['CATRoadTypeInt_acclocation'] = wrk_accident_pedestrians['CATRoadTypeInt_acclocation'].astype('string')\n",
        "wrk_accident_pedestrians['CATEventTypeDesc_accevent'] = wrk_accident_pedestrians['CATEventTypeDesc_accevent'].astype('string')\n",
        "wrk_accident_pedestrians['CATObjectTypeDesc_accevent'] = wrk_accident_pedestrians['CATObjectTypeDesc_accevent'].astype('string')\n",
        "\n",
        "#Create a new feature which concatenates the accident road name and type variables\n",
        "wrk_accident_pedestrians['CATAccidentRoadGroup'] = wrk_accident_pedestrians['CATRoadName_acclocation'].fillna('') + ' ' + wrk_accident_pedestrians['CATRoadType_acclocation'].fillna('')\n",
        "\n",
        "#Convert all numerical variables to integer, except for longitude and latitude which will remain as a floating point.\n",
        "wrk_accident_pedestrians['NUMVehiclesInvolved_accident'] = wrk_accident_pedestrians['NUMVehiclesInvolved_accident'].astype(int)\n",
        "wrk_accident_pedestrians['NUMPersonsInvolved_accident'] = wrk_accident_pedestrians['NUMPersonsInvolved_accident'].astype(int)\n",
        "wrk_accident_pedestrians['NUMPersonsInjured_accident'] = wrk_accident_pedestrians['NUMPersonsInjured_accident'].astype(int)\n",
        "wrk_accident_pedestrians['NUMRecordCount'] = 1\n",
        "\n",
        "#Print the information summary for the working dataset\n",
        "wrk_accident_pedestrians.info()"
      ]
    },
    {
      "cell_type": "markdown",
      "metadata": {
        "id": "bTQSRZbaReNq"
      },
      "source": [
        "**Inspecting the value sets for each variable in the working dataset**\n",
        "\n",
        "Here we will broadly check the value sets for each variable. The information from this check will\n",
        "inform what types of values to expect for each column and cultivate thinking on what values constitute\n",
        "missing or invalid entries and how to deal with this situation."
      ]
    },
    {
      "cell_type": "code",
      "execution_count": null,
      "metadata": {
        "id": "jINAd_56ReNq"
      },
      "outputs": [],
      "source": [
        "# function to describe all columns with helpful summary statistics\n",
        "def describe_all_columns(x):\n",
        "    print('Column summary:')\n",
        "    #select the summary function based on the input data type\n",
        "    if x.dtypes == 'float64' or x.dtypes == 'int64':\n",
        "        print(x.describe())\n",
        "    else:\n",
        "        #select the summary function based on the input data type\n",
        "        print(x.describe(include=[np.object]))\n",
        "        print(x.unique())\n",
        "\n",
        "for i in wrk_accident_pedestrians.columns: #for each column in the dataframe\n",
        "    #print out summary statistics results\n",
        "    print('Column %s is of type %s.' % (wrk_accident_pedestrians[i].name, wrk_accident_pedestrians[i].dtypes))\n",
        "    describe_all_columns(wrk_accident_pedestrians[i])\n",
        "    print('\\n\\n')"
      ]
    },
    {
      "cell_type": "markdown",
      "metadata": {
        "id": "ulupE401ReNq"
      },
      "source": [
        "**Inspecting 'Accidents Per Year (All-Time)'**\n",
        "\n",
        "In this section we will explore and observe how many pedestrian accidents have occurred each year.\n",
        "\n",
        "**Important Note:** The year 2020 is under-developed as an accident year as the last record date in the dataset is March 2020.\n",
        "\n",
        "We will use 'seaborn' and 'matplotlib' libraries for visualisations."
      ]
    },
    {
      "cell_type": "code",
      "execution_count": null,
      "metadata": {
        "id": "sWO6It4xReNr"
      },
      "outputs": [],
      "source": [
        "# Time series plots\n",
        "# Accidents per hour (all time)\n",
        "\n",
        "#Create a summary dataset to display results\n",
        "wrk_accident_pedestrians_yeargrp = wrk_accident_pedestrians.groupby('NUMYearOfAcc').agg(NUMAccidentsPerYear=('NUMYearOfAcc', 'count'))\n",
        "wrk_accident_pedestrians_yeargrp.reset_index(drop=False, inplace=True)\n",
        "print(wrk_accident_pedestrians_yeargrp)\n",
        "\n",
        "#Plot the summarised data\n",
        "sns.set(font_scale=1.5)\n",
        "sns.set_style(\"whitegrid\")\n",
        "g = sns.catplot(y=\"NUMYearOfAcc\", hue=\"CATInjuryLevelDesc_person\",\n",
        "            kind=\"count\",\n",
        "            palette=\"colorblind\",\n",
        "            alpha=1,\n",
        "            height=8,\n",
        "            aspect=1,\n",
        "            data=wrk_accident_pedestrians.sort_values(by='NUMYearOfAcc'))\n",
        "g.despine(left=True)\n",
        "g.set_axis_labels(\"Count of Accidents\", \"Year of Accident\")\n",
        "g.legend.set_title(\"Injury Level\")\n",
        "ax = plt.gca()\n",
        "ax.set_title(\"Pedestrian Accidents Per Year (all time)\")"
      ]
    },
    {
      "cell_type": "markdown",
      "metadata": {
        "id": "jL22dlBfReNr"
      },
      "source": [
        "**Inspecting 'Accidents per Weekday (All-Time)'**\n",
        "\n",
        "In this section we will explore and observe how many pedestrian accidents have occurred by weekday.\n",
        "\n",
        "We will use 'seaborn' and 'matplotlib' libraries for visualisations."
      ]
    },
    {
      "cell_type": "code",
      "execution_count": null,
      "metadata": {
        "id": "PBw4S9ePReNr"
      },
      "outputs": [],
      "source": [
        "# Time series plots\n",
        "# Accidents per week-day (all time)\n",
        "\n",
        "#Create a summary dataset to display results\n",
        "wrk_accident_pedestrians_weekdaygrp = wrk_accident_pedestrians.loc[:,'CATDayOfWeek_accident'].value_counts().to_frame()\n",
        "wrk_accident_pedestrians_weekdaygrp.reset_index(drop=False, inplace=True)\n",
        "print(wrk_accident_pedestrians_weekdaygrp)\n",
        "\n",
        "#Plot the summarised data\n",
        "sns.set(font_scale=1.5)\n",
        "sns.set_style(\"whitegrid\")\n",
        "g = sns.catplot(x=\"CATDayOfWeek_accident\", y=\"NUMRecordCount\", hue=\"CATInjuryLevelDesc_person\",\n",
        "            kind=\"bar\",\n",
        "            palette=\"colorblind\",\n",
        "            alpha=1,\n",
        "            height=8,\n",
        "            aspect=2,\n",
        "            data=wrk_accident_pedestrians.sort_values(by='NUMDayOfWeek'),\n",
        "            estimator=sum)\n",
        "g.despine(left=True)\n",
        "g.set_axis_labels(\"Weekday of Accident\", \"Count of Accidents\",)\n",
        "g.legend.set_title(\"Injury Level\")\n",
        "ax = plt.gca()\n",
        "ax.set_title(\"Pedestrian Accidents Per Weekday (all time)\")"
      ]
    },
    {
      "cell_type": "markdown",
      "metadata": {
        "id": "5-bD9_wnReNr"
      },
      "source": [
        "**Inspecting 'Accidents per Day (All-Days, Detailed)'**\n",
        "\n",
        "In this section we will explore and observe how many pedestrian accidents\n",
        "have occurred each day since the earliest date recorded in the dataset.\n",
        "\n",
        "We will use 'seaborn' and 'matplotlib' libraries for visualisations."
      ]
    },
    {
      "cell_type": "code",
      "execution_count": null,
      "metadata": {
        "id": "y7CEI5ujReNs"
      },
      "outputs": [],
      "source": [
        "# Time series plots\n",
        "# Accidents per day (all-time)\n",
        "\n",
        "#Create a summary dataset to display results\n",
        "wrk_accident_pedestrians_daygrp = wrk_accident_pedestrians.loc[:,'DATAccidentDate_accident'].value_counts().to_frame()\n",
        "wrk_accident_pedestrians_daygrp.reset_index(drop=False, inplace=True)\n",
        "print(wrk_accident_pedestrians_daygrp)\n",
        "\n",
        "#Plot the summarised data\n",
        "sns.set(font_scale=1.5)\n",
        "sns.set_style(\"whitegrid\")\n",
        "plt.figure(figsize = (15,8))\n",
        "g = sns.lineplot(x=\"DATAccidentDate_accident\", y=\"NUMRecordCount\",\n",
        "            palette=\"colorblind\",\n",
        "            alpha=1,\n",
        "            data=wrk_accident_pedestrians.sort_values(by='DATAccidentDate_accident'),\n",
        "            estimator=sum)\n",
        "plt.xticks(rotation=15)\n",
        "ax = plt.gca()\n",
        "ax.set_title(\"Pedestrian Accidents Per Day (all time)\")"
      ]
    },
    {
      "cell_type": "markdown",
      "metadata": {
        "id": "C8F4UfeeReNs"
      },
      "source": [
        "**Inspecting 'Accidents per Weekday and Hour grouping (All-Time)'**\n",
        "\n",
        "In this section we will explore and observe how many pedestrian accidents have occurred each weekday and hour grouping.\n",
        "\n",
        "We will use 'seaborn' and 'matplotlib' libraries for visualisations."
      ]
    },
    {
      "cell_type": "code",
      "execution_count": null,
      "metadata": {
        "id": "qNoPPPiNReNs"
      },
      "outputs": [],
      "source": [
        "# Time series plots\n",
        "# Accidents per Weekday and Hour Grouping (all time)\n",
        "\n",
        "#Create a summary dataset to display results\n",
        "wrk_accident_pedestrians_weekdayhrgrp = wrk_accident_pedestrians.loc[:,'CATWeekDayHourGroup'].value_counts().to_frame()\n",
        "wrk_accident_pedestrians_weekdayhrgrp.reset_index(drop=False, inplace=True)\n",
        "print(wrk_accident_pedestrians_weekdayhrgrp)\n",
        "\n",
        "#Plot the summarised data\n",
        "sns.set(font_scale=1.5)\n",
        "sns.set_style(\"whitegrid\")\n",
        "g = sns.catplot(x=\"CATWeekDayHourGroup\", y=\"NUMRecordCount\",\n",
        "            kind=\"bar\",\n",
        "            palette=\"colorblind\",\n",
        "            alpha=1,\n",
        "            height=8,\n",
        "            aspect=2,\n",
        "            data=wrk_accident_pedestrians.sort_values(by=['NUMDayOfWeek']),\n",
        "            estimator=sum)\n",
        "g.despine(left=True)\n",
        "g.set_axis_labels(\"Weekday Hour of Accident\", \"Count of Accidents\",)\n",
        "plt.xticks(rotation=90)\n",
        "ax = plt.gca()\n",
        "ax.set_title(\"Pedestrian Accidents Per Weekday and Hour Grouping (all time)\")"
      ]
    },
    {
      "cell_type": "markdown",
      "metadata": {
        "id": "Q1yn2AZFReNs"
      },
      "source": [
        "**Inspecting the 'Geography of Pedestrian Accident Occurrences'**\n",
        "\n",
        "In this section we will explore and observe the frequency of pedestrian accidents by geographical locations.\n",
        "\n",
        "We will use 'seaborn' and 'matplotlib' libraries for visualisations."
      ]
    },
    {
      "cell_type": "code",
      "execution_count": null,
      "metadata": {
        "id": "8ZtIZvXLReNs"
      },
      "outputs": [],
      "source": [
        "# Geographical analysis. Streets with most accidents\n",
        "# Which roads have the most frequent accidents?\n",
        "\n",
        "#Create a summary dataset to display results\n",
        "wrk_accident_pedestrians_roadsgrp = wrk_accident_pedestrians.loc[:,'CATAccidentRoadGroup'].value_counts().to_frame()\n",
        "wrk_accident_pedestrians_roadsgrp.reset_index(drop=False, inplace=True)\n",
        "wrk_accident_pedestrians_roadsgrp = wrk_accident_pedestrians_roadsgrp.head(50)\n",
        "print(wrk_accident_pedestrians_roadsgrp)\n",
        "\n",
        "#Plot the summarised data\n",
        "sns.set(font_scale=1.5)\n",
        "sns.set_style(\"whitegrid\")\n",
        "g = sns.catplot(x=\"CATAccidentRoadGroup\", y=\"NUMRecordCount\", hue=\"CATInjuryLevelDesc_person\",\n",
        "            kind=\"bar\",\n",
        "            palette=\"colorblind\",\n",
        "            alpha=1,\n",
        "            height=8,\n",
        "            aspect=2,\n",
        "            order=wrk_accident_pedestrians.CATAccidentRoadGroup.value_counts().iloc[:50].index,\n",
        "            data=wrk_accident_pedestrians.sort_values(by=['CATAccidentRoadGroup']),\n",
        "            estimator=sum)\n",
        "g.despine(left=True)\n",
        "plt.xticks(rotation=90)\n",
        "g.set_axis_labels(\"Road Name\", \"Count of Accidents\",)\n",
        "g.legend.set_title(\"Injury Level\")\n",
        "ax = plt.gca()\n",
        "ax.set_title(\"Pedestrian Accident Location - Roads Names (all time)\")"
      ]
    },
    {
      "cell_type": "markdown",
      "metadata": {
        "id": "TVjNQqQTReNt"
      },
      "source": [
        "<div class=\"usecase-section-header\">Visualising the Pedestrian Accident Data on a Map</div>"
      ]
    },
    {
      "cell_type": "markdown",
      "metadata": {
        "id": "J3N4IgLwReNt"
      },
      "source": [
        "**Creating the first map visual to observe where pedestrian accidents are occurring**"
      ]
    },
    {
      "cell_type": "code",
      "execution_count": null,
      "metadata": {
        "id": "PFxcQR2VReNt"
      },
      "outputs": [],
      "source": [
        "import folium\n",
        "from folium.plugins import MarkerCluster\n",
        "def map_visualization(data):\n",
        "    locations = []\n",
        "    for i in range(len(data)):\n",
        "        row =data.iloc[i]\n",
        "        location = [(row.NUMLatitude_node,row.NUMLongitude_node)]*int(row.NUMRecordCount)\n",
        "        locations += location\n",
        "\n",
        "    marker_cluster  = MarkerCluster(\n",
        "      locations=locations,\n",
        "      overlay=True,\n",
        "      control=True,\n",
        "      )\n",
        "    m = folium.Map(location=[-37.81368709240999, 144.95738102347036], tiles=\"Cartodb Positron\", zoom_start=13)\n",
        "    marker_cluster.add_to(m)\n",
        "\n",
        "    folium.LayerControl().add_to(m)\n",
        "\n",
        "    m\n",
        "    return m\n",
        "map_visualization(wrk_accident_pedestrians)"
      ]
    },
    {
      "cell_type": "markdown",
      "metadata": {
        "id": "nNZ9BvP1ReNt"
      },
      "source": [
        "<div class=\"usecase-section-header\">Visualising the Melbourne Pedestrian Route Network and Pedestrian Accident Data</div>"
      ]
    },
    {
      "cell_type": "markdown",
      "metadata": {
        "id": "HZfpSTGZReNu"
      },
      "source": [
        "**Creating an Alternative Map Visual to Distinguish Accidents by Year and Injury Type**\n",
        "\n",
        "To observe the Melbourne Pedestrian Route JSON map overlayed with the Pedestrian Accident Data we can use the following code.\n",
        "\n",
        "Filtering of both the Pedestrian Routes and Accident records will be performed to improve efficiency and performance of the geographical visualisations.\n",
        "\n",
        "The Pedestrian Routes will be filtered to only 'High Traffic' footpaths\n",
        "The Accident records will be filtered to only those pedestrians who sustained serious or fatal injuries."
      ]
    },
    {
      "cell_type": "code",
      "execution_count": null,
      "metadata": {
        "id": "IGMriFPLReNu"
      },
      "outputs": [],
      "source": [
        "#Filter the accident dataset to persons who sustained serious or fatal injuries.\n",
        "wrk_accident_pedestrians_filtered = wrk_accident_pedestrians.apply(\n",
        "        lambda row: row[wrk_accident_pedestrians['CATInjuryLevelDesc_person'].isin(['Serious injury','Fatality'])])\n",
        "\n",
        "# Function to change the marker color\n",
        "# according to the injury level\n",
        "def color(CATInjuryLevelDesc_person):\n",
        "    if CATInjuryLevelDesc_person == \"Not injured\":\n",
        "        col = 'green'\n",
        "    elif CATInjuryLevelDesc_person == \"Other injury\":\n",
        "        col = 'blue'\n",
        "    elif CATInjuryLevelDesc_person == \"Serious injury\":\n",
        "        col = 'orange'\n",
        "    elif CATInjuryLevelDesc_person == \"Fatality\":\n",
        "        col = 'red'\n",
        "    else:\n",
        "        col='black'\n",
        "    return col\n",
        "\n",
        "# Creating a map object using Map() function.\n",
        "# Location parameter takes latitudes and\n",
        "# longitudes as starting location.\n",
        "# (Map will be centered at those co-ordinates)\n",
        "m = folium.Map(location=[-37.81368709240999, 144.95738102347036],\n",
        "                zoom_start=12,\n",
        "                tiles=\"cartodbpositron\",\n",
        "                control_scale=True,\n",
        "                prefer_canvas=True,\n",
        "                width=800,\n",
        "                height=580)\n",
        "\n",
        "#Create a feature group by accident year\n",
        "Year2008 = folium.FeatureGroup(name = 'Accident Year 2008')\n",
        "Year2009 = folium.FeatureGroup(name = 'Accident Year 2009')\n",
        "Year2010 = folium.FeatureGroup(name = 'Accident Year 2010')\n",
        "Year2011 = folium.FeatureGroup(name = 'Accident Year 2011')\n",
        "Year2012 = folium.FeatureGroup(name = 'Accident Year 2012')\n",
        "Year2013 = folium.FeatureGroup(name = 'Accident Year 2013')\n",
        "Year2014 = folium.FeatureGroup(name = 'Accident Year 2014')\n",
        "Year2015 = folium.FeatureGroup(name = 'Accident Year 2015')\n",
        "Year2016 = folium.FeatureGroup(name = 'Accident Year 2016')\n",
        "Year2017 = folium.FeatureGroup(name = 'Accident Year 2017')\n",
        "Year2018 = folium.FeatureGroup(name = 'Accident Year 2018')\n",
        "Year2019 = folium.FeatureGroup(name = 'Accident Year 2019')\n",
        "Year2020 = folium.FeatureGroup(name = 'Accident Year 2020')\n",
        "\n",
        "#Loop through each row of the working dataset\n",
        "for i, v in wrk_accident_pedestrians_filtered.iterrows():\n",
        "\n",
        "    accyear = int(v['NUMYearOfAcc'])\n",
        "    popup = \"\"\"\n",
        "    Accident ID : <b>%s</b><br>\n",
        "    Year : <b>%s</b><br>\n",
        "    Injury : <b>%s</b><br>\n",
        "    Long : <b>%s</b><br>\n",
        "    Lat: <b>%s</b><br>\n",
        "    \"\"\" % (v['KEYAccidentNumber'], v['NUMYearOfAcc'],\n",
        "           v['CATInjuryLevelDesc_person'], v['NUMLongitude_node'],\n",
        "           v['NUMLatitude_node'])\n",
        "\n",
        "    # For each accident year in the dataset determine\n",
        "    # all marker points and add as separate layers so we can control the display for them\n",
        "    if accyear == 2008:\n",
        "        folium.Marker(location = [v['NUMLatitude_node'],v['NUMLongitude_node']],\n",
        "                           tooltip = popup,\n",
        "                           icon=folium.Icon(color=color(v['CATInjuryLevelDesc_person']),\n",
        "                           icon_color='yellow',icon = 'male', prefix='fa')).add_to(Year2008)\n",
        "\n",
        "    if accyear == 2009:\n",
        "        folium.Marker(location = [v['NUMLatitude_node'],v['NUMLongitude_node']],\n",
        "                           tooltip = popup,\n",
        "                           icon=folium.Icon(color=color(v['CATInjuryLevelDesc_person']),\n",
        "                           icon_color='yellow',icon = 'male', prefix='fa')).add_to(Year2009)\n",
        "\n",
        "    if accyear == 2010:\n",
        "        folium.Marker(location = [v['NUMLatitude_node'],v['NUMLongitude_node']],\n",
        "                           tooltip = popup,\n",
        "                           icon=folium.Icon(color=color(v['CATInjuryLevelDesc_person']),\n",
        "                           icon_color='yellow',icon = 'male', prefix='fa')).add_to(Year2010)\n",
        "\n",
        "    if accyear == 2011:\n",
        "        folium.Marker(location = [v['NUMLatitude_node'],v['NUMLongitude_node']],\n",
        "                           tooltip = popup,\n",
        "                           icon=folium.Icon(color=color(v['CATInjuryLevelDesc_person']),\n",
        "                           icon_color='yellow',icon = 'male', prefix='fa')).add_to(Year2011)\n",
        "\n",
        "    if accyear == 2012:\n",
        "        folium.Marker(location = [v['NUMLatitude_node'],v['NUMLongitude_node']],\n",
        "                           tooltip = popup,\n",
        "                           icon=folium.Icon(color=color(v['CATInjuryLevelDesc_person']),\n",
        "                           icon_color='yellow',icon = 'male', prefix='fa')).add_to(Year2012)\n",
        "\n",
        "    if accyear == 2013:\n",
        "        folium.Marker(location = [v['NUMLatitude_node'],v['NUMLongitude_node']],\n",
        "                           tooltip = popup,\n",
        "                           icon=folium.Icon(color=color(v['CATInjuryLevelDesc_person']),\n",
        "                           icon_color='yellow',icon = 'male', prefix='fa')).add_to(Year2013)\n",
        "\n",
        "    if accyear == 2014:\n",
        "        folium.Marker(location = [v['NUMLatitude_node'],v['NUMLongitude_node']],\n",
        "                           tooltip = popup,\n",
        "                           icon=folium.Icon(color=color(v['CATInjuryLevelDesc_person']),\n",
        "                           icon_color='yellow',icon = 'male', prefix='fa')).add_to(Year2014)\n",
        "\n",
        "    if accyear == 2015:\n",
        "        folium.Marker(location = [v['NUMLatitude_node'],v['NUMLongitude_node']],\n",
        "                           tooltip = popup,\n",
        "                           icon=folium.Icon(color=color(v['CATInjuryLevelDesc_person']),\n",
        "                           icon_color='yellow',icon = 'male', prefix='fa')).add_to(Year2015)\n",
        "\n",
        "    if accyear == 2016:\n",
        "        folium.Marker(location = [v['NUMLatitude_node'],v['NUMLongitude_node']],\n",
        "                           tooltip = popup,\n",
        "                           icon=folium.Icon(color=color(v['CATInjuryLevelDesc_person']),\n",
        "                           icon_color='yellow',icon = 'male', prefix='fa')).add_to(Year2016)\n",
        "\n",
        "    if accyear == 2017:\n",
        "        folium.Marker(location = [v['NUMLatitude_node'],v['NUMLongitude_node']],\n",
        "                           tooltip = popup,\n",
        "                           icon=folium.Icon(color=color(v['CATInjuryLevelDesc_person']),\n",
        "                           icon_color='yellow',icon = 'male', prefix='fa')).add_to(Year2017)\n",
        "\n",
        "    if accyear == 2018:\n",
        "        folium.Marker(location = [v['NUMLatitude_node'],v['NUMLongitude_node']],\n",
        "                           tooltip = popup,\n",
        "                           icon=folium.Icon(color=color(v['CATInjuryLevelDesc_person']),\n",
        "                           icon_color='yellow',icon = 'male', prefix='fa')).add_to(Year2018)\n",
        "\n",
        "    if accyear == 2019:\n",
        "        folium.Marker(location = [v['NUMLatitude_node'],\n",
        "                                  v['NUMLongitude_node']],\n",
        "                           tooltip = popup,\n",
        "                           icon=folium.Icon(color=color(v['CATInjuryLevelDesc_person']),\n",
        "                           icon_color='yellow',icon = 'male', prefix='fa')).add_to(Year2019)\n",
        "\n",
        "    if accyear == 2020:\n",
        "        folium.Marker(location = [v['NUMLatitude_node'],\n",
        "                                 v['NUMLongitude_node']],\n",
        "                           tooltip = popup,\n",
        "                           icon=folium.Icon(color=color(v['CATInjuryLevelDesc_person']),\n",
        "                           icon_color='yellow',icon = 'male', prefix='fa')).add_to(Year2020)\n",
        "\n",
        "#Add the layers to the base map\n",
        "Year2008.add_to(m)\n",
        "Year2009.add_to(m)\n",
        "Year2010.add_to(m)\n",
        "Year2011.add_to(m)\n",
        "Year2012.add_to(m)\n",
        "Year2013.add_to(m)\n",
        "Year2014.add_to(m)\n",
        "Year2015.add_to(m)\n",
        "Year2016.add_to(m)\n",
        "Year2017.add_to(m)\n",
        "Year2018.add_to(m)\n",
        "Year2019.add_to(m)\n",
        "Year2020.add_to(m)\n",
        "\n",
        "#Add in the pedestrian footpaths as a layer\n",
        "folium.Choropleth(\n",
        "    #gpd_pedestrianpath[gpd_pedestrianpath.geometry.length>0.0015], #Optional: select only lines above specified length to plot\n",
        "    gpd_pedestrianpath,\n",
        "    name = \"Pedestrian Paths\",\n",
        "    line_weight=3,\n",
        "    line_color='#056b8a',\n",
        "    control_scale=True,\n",
        "    prefer_canvas=True,\n",
        "    width=800,\n",
        "    height=580\n",
        ").add_to(m)\n",
        "\n",
        "#Add the map control\n",
        "folium.LayerControl(collapsed = False).add_to(m)\n",
        "\n",
        "#Show the map\n",
        "m\n",
        "\n",
        "#Save the map\n",
        "#m.save('geoJSON_pedestrianaccidents_map.html')"
      ]
    },
    {
      "cell_type": "markdown",
      "metadata": {
        "id": "Tz__hT77ReNu"
      },
      "source": [
        "<div class=\"usecase-section-header\">Findings and Opportunities</div>"
      ]
    },
    {
      "cell_type": "markdown",
      "metadata": {
        "id": "KIHmxwitReNu"
      },
      "source": [
        "This analysis has provided a comprehensive starting point for inspecting the Melbourne Open Data Pedestrian Network dataset and Traffic Accidents (Pedestrians) data.\n",
        "\n",
        "**We achieved in this analysis:**\n",
        "\n",
        "- A series of visualisations which illustrate the frequency, timing and basic characteristics of pedestrian accidents occurring in Melbourne between the years 2008 and 2020\n",
        "- A series of map visualisations which illustrate the precise location of where pedestrian accidents have occurred and a means to visually compare the locations to the pedestrian path network\n",
        "\n",
        "\n",
        "**We learned from this analysis:**\n",
        "\n",
        "- How to interpret, analyse and visualise JSON files\n",
        "- How to convert JSON files to geopandas dataframe for easier analysis, filtering and efficiency\n",
        "- How to create geographical maps with JSON files and dataframes to display geographical features\n",
        "- As a preliminary view, we observed that a majority of pedestrian accidents did occurr on 'High-Traffic' pedestrian network routes\n",
        "\n",
        "    At a broad level:\n",
        "    \n",
        "    The total number of pedestrian accidents where pedestrians have been seriously of fatally injured has been reducing over time between the years of 2017 and 2019 (excluding the year 2020 as it was under-developed with only 3 months of data). More than 60 pedestrians in 2017 to less than 30 in 2019. This appears to be a positive and optimistic trend.\n",
        "\n",
        "    Overall, the week days of Wednesday and Friday appear to have the highest numbers of seriously and fatally injured pedestrians. Separate to this Wednesday afternoons & evening, Friday evening & night and Sunday early morning indicate the highest numbers of accidents involving pedestrians.\n",
        "\n",
        "    The top three roads with the higest number of seriously injured pedestrian include St Kilda Road, Elizabeth Street and Flinders Street.\n",
        "\n",
        "**Observations for further opportunities**\n",
        "\n",
        "- What are the traffic accident circumstances? Are pedestrians being struck by cars an increasing or decreasing problem?\n",
        "- Do accidents co-occur with road-works, weather events or other disruptive or social events?\n",
        "- Report on sections of footpath and roadway where higher accident rates are observed\n",
        "- Part 2 of the Pedestrian Network and Road Safety exploratory data analysis will dive deeper into the timing, geography, circumstance and 'hotspots' of pedestrian accidents.\n"
      ]
    },
    {
      "cell_type": "markdown",
      "metadata": {
        "id": "Z2PSfddJReNu"
      },
      "source": [
        "<div class=\"usecase-section-header\">References</div>"
      ]
    },
    {
      "cell_type": "markdown",
      "metadata": {
        "id": "_rIJPIgaReNv"
      },
      "source": [
        "[1] Thompson Road North Geelong Road Safety Improvements https://regionalroads.vic.gov.au/map/barwon-south-west-improvements/thompson-road-safety-improvements\n",
        "\n",
        "[2] Victorian 'Crash-Stat's dataset https://discover.data.vic.gov.au/dataset/crash-stats-data-extract/resource/392b88c0-f010-491f-ac92-531c293de2e9\n",
        "\n",
        "[3] Pedestrian Routes Dataset https://data.melbourne.vic.gov.au/Transport/Pedestrian-Network/4id4-tydi\n",
        "\n",
        "\n",
        "**Technical References**\n",
        "\n",
        "[4] Accessing geoJSON data https://stackoverflow.com/questions/48263802/finding-location-using-geojson-file-using-python\n",
        "\n",
        "[5] Accessing geoJSON data https://medium.com/analytics-vidhya/measure-driving-distance-time-and-plot-routes-between-two-geographical-locations-using-python-39995dfea7e\n",
        "\n",
        "[6] Visualising a geoJSON dataset https://python-visualization.github.io/folium/quickstart.html#GeoJSON/TopoJSON-Overlays\n",
        "\n",
        "[7] Visualising categorised data on a map https://www.geeksforgeeks.org/python-adding-markers-to-volcano-locations-using-folium-package/\n",
        "\n",
        "[8] Creating point plot group layers with folium https://towardsdatascience.com/creating-an-interactive-map-of-wildfire-data-using-folium-in-python-7d6373b6334a\n",
        "\n",
        "[9] Ideas for further opportunities - Time Series Analysis https://geohackweek.github.io/ghw2018_web_portal_inlandwater_co2/InteractiveTimeSeries.html"
      ]
    },
    {
      "cell_type": "code",
      "execution_count": null,
      "metadata": {
        "id": "kLroSW3ZReNv"
      },
      "outputs": [],
      "source": [
        "!jupyter nbconvert --to html usecase-pedestriansafety-part1.ipynb"
      ]
    }
  ],
  "metadata": {
    "kernelspec": {
      "display_name": "Python 3.10.5 64-bit",
      "language": "python",
      "name": "python3"
    },
    "language_info": {
      "codemirror_mode": {
        "name": "ipython",
        "version": 3
      },
      "file_extension": ".py",
      "mimetype": "text/x-python",
      "name": "python",
      "nbconvert_exporter": "python",
      "pygments_lexer": "ipython3",
      "version": "3.8.16"
    },
    "vscode": {
      "interpreter": {
        "hash": "369f2c481f4da34e4445cda3fffd2e751bd1c4d706f27375911949ba6bb62e1c"
      }
    },
    "colab": {
      "provenance": []
    }
  },
  "nbformat": 4,
  "nbformat_minor": 0
}