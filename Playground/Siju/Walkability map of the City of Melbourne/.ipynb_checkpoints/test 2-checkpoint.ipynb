{
 "cells": [
  {
   "cell_type": "code",
   "execution_count": 1,
   "id": "8402e7cf-5f38-4f9d-a7f3-dd1fb213b1b9",
   "metadata": {
    "tags": []
   },
   "outputs": [],
   "source": [
    "import geopandas as gpd\n",
    "\n",
    "# 提供的 GeoJSON 文件下载地址\n",
    "geojson_url = \"https://data.melbourne.vic.gov.au/api/explore/v2.1/catalog/datasets/pedestrian-network/exports/geojson?lang=en&timezone=Australia%2FSydney\"\n",
    "\n",
    "# 从 GeoJSON URL 读取数据\n",
    "gdf = gpd.read_file(geojson_url)"
   ]
  },
  {
   "cell_type": "code",
   "execution_count": 2,
   "id": "087d4ee0-16a8-433e-97c3-58bc27db569d",
   "metadata": {
    "tags": []
   },
   "outputs": [
    {
     "data": {
      "text/html": [
       "<div>\n",
       "<style scoped>\n",
       "    .dataframe tbody tr th:only-of-type {\n",
       "        vertical-align: middle;\n",
       "    }\n",
       "\n",
       "    .dataframe tbody tr th {\n",
       "        vertical-align: top;\n",
       "    }\n",
       "\n",
       "    .dataframe thead th {\n",
       "        text-align: right;\n",
       "    }\n",
       "</style>\n",
       "<table border=\"1\" class=\"dataframe\">\n",
       "  <thead>\n",
       "    <tr style=\"text-align: right;\">\n",
       "      <th></th>\n",
       "      <th>geo_point_2d</th>\n",
       "      <th>objectid</th>\n",
       "      <th>neworkid</th>\n",
       "      <th>geometry</th>\n",
       "    </tr>\n",
       "  </thead>\n",
       "  <tbody>\n",
       "    <tr>\n",
       "      <th>0</th>\n",
       "      <td>{'lon': 144.9250621319, 'lat': -37.79112863045...</td>\n",
       "      <td>5735</td>\n",
       "      <td>None</td>\n",
       "      <td>LINESTRING (144.92514 -37.79110, 144.92499 -37...</td>\n",
       "    </tr>\n",
       "    <tr>\n",
       "      <th>1</th>\n",
       "      <td>{'lon': 144.92478186034998, 'lat': -37.790885197}</td>\n",
       "      <td>5738</td>\n",
       "      <td>None</td>\n",
       "      <td>LINESTRING (144.92477 -37.79089, 144.92479 -37...</td>\n",
       "    </tr>\n",
       "    <tr>\n",
       "      <th>2</th>\n",
       "      <td>{'lon': 144.92244485650002, 'lat': -37.7906332...</td>\n",
       "      <td>5740</td>\n",
       "      <td>None</td>\n",
       "      <td>LINESTRING (144.92250 -37.79068, 144.92239 -37...</td>\n",
       "    </tr>\n",
       "    <tr>\n",
       "      <th>3</th>\n",
       "      <td>{'lon': 144.9253671047, 'lat': -37.79060169794...</td>\n",
       "      <td>5743</td>\n",
       "      <td>None</td>\n",
       "      <td>LINESTRING (144.92549 -37.79074, 144.92524 -37...</td>\n",
       "    </tr>\n",
       "    <tr>\n",
       "      <th>4</th>\n",
       "      <td>{'lon': 144.942393422, 'lat': -37.790968201}</td>\n",
       "      <td>5744</td>\n",
       "      <td>None</td>\n",
       "      <td>LINESTRING (144.94244 -37.79097, 144.94235 -37...</td>\n",
       "    </tr>\n",
       "    <tr>\n",
       "      <th>...</th>\n",
       "      <td>...</td>\n",
       "      <td>...</td>\n",
       "      <td>...</td>\n",
       "      <td>...</td>\n",
       "    </tr>\n",
       "    <tr>\n",
       "      <th>85321</th>\n",
       "      <td>{'lon': 144.95575000309998, 'lat': -37.8059904...</td>\n",
       "      <td>15720</td>\n",
       "      <td>None</td>\n",
       "      <td>LINESTRING (144.95576 -37.80599, 144.95574 -37...</td>\n",
       "    </tr>\n",
       "    <tr>\n",
       "      <th>85322</th>\n",
       "      <td>{'lon': 144.9557292294, 'lat': -37.80598728145}</td>\n",
       "      <td>15721</td>\n",
       "      <td>None</td>\n",
       "      <td>LINESTRING (144.95574 -37.80599, 144.95572 -37...</td>\n",
       "    </tr>\n",
       "    <tr>\n",
       "      <th>85323</th>\n",
       "      <td>{'lon': 144.95569451255, 'lat': -37.80598330475}</td>\n",
       "      <td>15722</td>\n",
       "      <td>None</td>\n",
       "      <td>LINESTRING (144.95572 -37.80599, 144.95567 -37...</td>\n",
       "    </tr>\n",
       "    <tr>\n",
       "      <th>85324</th>\n",
       "      <td>{'lon': 144.9644909242, 'lat': -37.8061205253}</td>\n",
       "      <td>15732</td>\n",
       "      <td>None</td>\n",
       "      <td>LINESTRING (144.96450 -37.80610, 144.96449 -37...</td>\n",
       "    </tr>\n",
       "    <tr>\n",
       "      <th>85325</th>\n",
       "      <td>{'lon': 144.96448402655, 'lat': -37.8061550774...</td>\n",
       "      <td>15733</td>\n",
       "      <td>None</td>\n",
       "      <td>LINESTRING (144.96449 -37.80614, 144.96448 -37...</td>\n",
       "    </tr>\n",
       "  </tbody>\n",
       "</table>\n",
       "<p>85326 rows × 4 columns</p>\n",
       "</div>"
      ],
      "text/plain": [
       "                                            geo_point_2d objectid neworkid  \\\n",
       "0      {'lon': 144.9250621319, 'lat': -37.79112863045...     5735     None   \n",
       "1      {'lon': 144.92478186034998, 'lat': -37.790885197}     5738     None   \n",
       "2      {'lon': 144.92244485650002, 'lat': -37.7906332...     5740     None   \n",
       "3      {'lon': 144.9253671047, 'lat': -37.79060169794...     5743     None   \n",
       "4           {'lon': 144.942393422, 'lat': -37.790968201}     5744     None   \n",
       "...                                                  ...      ...      ...   \n",
       "85321  {'lon': 144.95575000309998, 'lat': -37.8059904...    15720     None   \n",
       "85322    {'lon': 144.9557292294, 'lat': -37.80598728145}    15721     None   \n",
       "85323   {'lon': 144.95569451255, 'lat': -37.80598330475}    15722     None   \n",
       "85324     {'lon': 144.9644909242, 'lat': -37.8061205253}    15732     None   \n",
       "85325  {'lon': 144.96448402655, 'lat': -37.8061550774...    15733     None   \n",
       "\n",
       "                                                geometry  \n",
       "0      LINESTRING (144.92514 -37.79110, 144.92499 -37...  \n",
       "1      LINESTRING (144.92477 -37.79089, 144.92479 -37...  \n",
       "2      LINESTRING (144.92250 -37.79068, 144.92239 -37...  \n",
       "3      LINESTRING (144.92549 -37.79074, 144.92524 -37...  \n",
       "4      LINESTRING (144.94244 -37.79097, 144.94235 -37...  \n",
       "...                                                  ...  \n",
       "85321  LINESTRING (144.95576 -37.80599, 144.95574 -37...  \n",
       "85322  LINESTRING (144.95574 -37.80599, 144.95572 -37...  \n",
       "85323  LINESTRING (144.95572 -37.80599, 144.95567 -37...  \n",
       "85324  LINESTRING (144.96450 -37.80610, 144.96449 -37...  \n",
       "85325  LINESTRING (144.96449 -37.80614, 144.96448 -37...  \n",
       "\n",
       "[85326 rows x 4 columns]"
      ]
     },
     "execution_count": 2,
     "metadata": {},
     "output_type": "execute_result"
    }
   ],
   "source": [
    "gdf"
   ]
  },
  {
   "cell_type": "code",
   "execution_count": 9,
   "id": "3a0a8adf-508e-4235-b2cb-cabff5cd4611",
   "metadata": {
    "tags": []
   },
   "outputs": [],
   "source": [
    "from ipyleaflet import Map, GeoJSON, basemaps, TileLayer\n",
    "import geopandas as gpd\n",
    "import json"
   ]
  },
  {
   "cell_type": "code",
   "execution_count": 11,
   "id": "fd9bde1f-9c4f-4fb6-8c33-e648e8ddf8de",
   "metadata": {},
   "outputs": [
    {
     "data": {
      "application/vnd.jupyter.widget-view+json": {
       "model_id": "40f9a1d09d8d4f048d441a4e6bd26269",
       "version_major": 2,
       "version_minor": 0
      },
      "text/plain": [
       "Map(center=[-37.8155, 144.95], controls=(ZoomControl(options=['position', 'zoom_in_text', 'zoom_in_title', 'zo…"
      ]
     },
     "execution_count": 11,
     "metadata": {},
     "output_type": "execute_result"
    }
   ],
   "source": [
    "# 过滤，只保留 LineString 和 MultiLineString 类型的对象\n",
    "gdf_L = gdf[gdf['geometry'].geom_type.isin(['LineString', 'MultiLineString'])]\n",
    "\n",
    "# 创建 ipyleaflet 地图\n",
    "m = Map(center=(-37.8155, 144.95), zoom=13, basemap=basemaps.OpenStreetMap.Mapnik, scroll_wheel_zoom=True)\n",
    "\n",
    "# 将过滤后的 GeoDataFrame 转换为 GeoJSON\n",
    "geojson_data = json.loads(gdf_L.to_json())\n",
    "\n",
    "# 创建 GeoJSON 图层\n",
    "geo_layer = GeoJSON(data=geojson_data, style={'color': 'blue', 'weight': 2})\n",
    "\n",
    "# 将图层添加到地图上\n",
    "m.add_layer(geo_layer)\n",
    "\n",
    "# 显示地图\n",
    "m"
   ]
  },
  {
   "cell_type": "code",
   "execution_count": null,
   "id": "1a34e39c-0208-4bed-8a69-0c35f4ef574b",
   "metadata": {},
   "outputs": [],
   "source": []
  },
  {
   "cell_type": "code",
   "execution_count": null,
   "id": "a6ed955e-ebbc-41ff-9017-4e78a435a3f2",
   "metadata": {},
   "outputs": [],
   "source": []
  }
 ],
 "metadata": {
  "kernelspec": {
   "display_name": "Python 3 (ipykernel)",
   "language": "python",
   "name": "python3"
  },
  "language_info": {
   "codemirror_mode": {
    "name": "ipython",
    "version": 3
   },
   "file_extension": ".py",
   "mimetype": "text/x-python",
   "name": "python",
   "nbconvert_exporter": "python",
   "pygments_lexer": "ipython3",
   "version": "3.11.5"
  }
 },
 "nbformat": 4,
 "nbformat_minor": 5
}
