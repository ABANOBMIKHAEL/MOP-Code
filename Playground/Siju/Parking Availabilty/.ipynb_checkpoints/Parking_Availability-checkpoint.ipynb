{
 "cells": [
  {
   "cell_type": "markdown",
   "metadata": {
    "id": "IXT8Up-u4dm9"
   },
   "source": [
    "_**DELETE BEFORE PUBLISHING**_\n",
    "\n",
    "_This is a template also containing the style guide for use cases. The styling uses the use-case css when uploaded to the website, which will not be visible on your local machine._\n",
    "\n",
    "_Change any text marked with {} and delete any cells marked DELETE_\n",
    "\n",
    "***"
   ]
  },
  {
   "cell_type": "code",
   "execution_count": null,
   "metadata": {
    "id": "vmf1cM894dnA"
   },
   "outputs": [],
   "source": [
    "# DELETE BEFORE PUBLISHING\n",
    "# This is just here so you can preview the styling on your local machine\n",
    "\n",
    "from IPython.core.display import HTML\n",
    "HTML(\"\"\"\n",
    "<style>\n",
    ".usecase-title, .usecase-duration, .usecase-section-header {\n",
    "    padding-left: 15px;\n",
    "    padding-bottom: 10px;\n",
    "    padding-top: 10px;\n",
    "    padding-right: 15px;\n",
    "    background-color: #0f9295;\n",
    "    color: #fff;\n",
    "}\n",
    "\n",
    ".usecase-title {\n",
    "    font-size: 1.7em;\n",
    "    font-weight: bold;\n",
    "}\n",
    "\n",
    ".usecase-authors, .usecase-level, .usecase-skill {\n",
    "    padding-left: 15px;\n",
    "    padding-bottom: 7px;\n",
    "    padding-top: 7px;\n",
    "    background-color: #baeaeb;\n",
    "    font-size: 1.4em;\n",
    "    color: #121212;\n",
    "}\n",
    "\n",
    ".usecase-level-skill  {\n",
    "    display: flex;\n",
    "}\n",
    "\n",
    ".usecase-level, .usecase-skill {\n",
    "    width: 50%;\n",
    "}\n",
    "\n",
    ".usecase-duration, .usecase-skill {\n",
    "    text-align: right;\n",
    "    padding-right: 15px;\n",
    "    padding-bottom: 8px;\n",
    "    font-size: 1.4em;\n",
    "}\n",
    "\n",
    ".usecase-section-header {\n",
    "    font-weight: bold;\n",
    "    font-size: 1.5em;\n",
    "}\n",
    "\n",
    ".usecase-subsection-header, .usecase-subsection-blurb {\n",
    "    font-weight: bold;\n",
    "    font-size: 1.2em;\n",
    "    color: #121212;\n",
    "}\n",
    "\n",
    ".usecase-subsection-blurb {\n",
    "    font-size: 1em;\n",
    "    font-style: italic;\n",
    "}\n",
    "</style>\n",
    "\"\"\")"
   ]
  },
  {
   "cell_type": "markdown",
   "metadata": {
    "id": "cf1x9kFI4dnC"
   },
   "source": [
    "<div class=\"usecase-title\">Parking Availability</div>\n",
    "\n",
    "<div class=\"usecase-authors\"><b>Authored by: </b> Angie Hollingworth, Siju Deng</div>"
   ]
  },
  {
   "cell_type": "markdown",
   "metadata": {
    "id": "nacjuu1-4dnC"
   },
   "source": [
    "<div class=\"usecase-duration\"><b>Duration:</b> {90} mins</div>\n",
    "\n",
    "<div class=\"usecase-level-skill\">\n",
    "    <div class=\"usecase-level\"><b>Level: </b>{Intermediate}</div>\n",
    "    <div class=\"usecase-skill\"><b>Pre-requisite Skills: </b>{Python, and add any more skills needed}</div>\n",
    "</div>"
   ]
  },
  {
   "cell_type": "markdown",
   "metadata": {
    "id": "gAVd7J_S4dnC"
   },
   "source": [
    "<div class=\"usecase-section-header\">Scenario</div>"
   ]
  },
  {
   "cell_type": "markdown",
   "metadata": {
    "id": "EHy4EjiC4dnC"
   },
   "source": [
    "{Using User Story format, write a description of the problem you are trying to solve for this use case.}"
   ]
  },
  {
   "cell_type": "markdown",
   "metadata": {
    "id": "2-PQsseT4dnD"
   },
   "source": [
    "<div class=\"usecase-section-header\">What this use case will teach you</div>"
   ]
  },
  {
   "cell_type": "markdown",
   "metadata": {
    "id": "5qIB0VxA4dnD"
   },
   "source": [
    "At the end of this use case you will:\n",
    "- {list the skills demonstrated in your use case}"
   ]
  },
  {
   "cell_type": "markdown",
   "metadata": {
    "id": "uDBGUZIs4dnD"
   },
   "source": [
    "<div class=\"usecase-section-header\">{Heading for introduction or background relating to problem}</div>"
   ]
  },
  {
   "cell_type": "markdown",
   "metadata": {
    "id": "DROeqc-54dnD"
   },
   "source": [
    "{Write your introduction here. Keep it concise. We're not after \"War and Peace\" but enough background information to inform the reader on the rationale for solving this problem or background non-technical information that helps explain the approach. You may also wish to give information on the datasets, particularly how to source those not being imported from the client's open data portal.}\n",
    "\n"
   ]
  },
  {
   "cell_type": "markdown",
   "metadata": {
    "id": "6Ob-ttls4dnD",
    "tags": []
   },
   "source": [
    "***\n",
    "\n",
    "_**DELETE BEFORE PUBLISHING**_\n",
    "\n",
    "## Style guide for use cases\n",
    "\n",
    "### Headers\n",
    "\n",
    "For styling within your markdown cells, there are two choices you can use for headers.\n",
    "\n",
    "1) You can use HTML classes specific to the use case styling:\n",
    "\n",
    "```<p class=\"usecase-subsection-header\">This is a subsection header.</p>```\n",
    "\n",
    "<p style=\"font-weight: bold; font-size: 1.2em;\">This is a subsection header.</p>\n",
    "\n",
    "```<p class=\"usecase-subsection-blurb\">This is a blurb header.</p>```\n",
    "\n",
    "<p style=\"font-weight: bold; font-size: 1em; font-style:italic;\">This is a blurb header.</p>\n",
    "\n",
    "\n",
    "2) Or if you like you can use the markdown header styles:\n",
    "\n",
    "```# for h1```\n",
    "\n",
    "```## for h2```\n",
    "\n",
    "```### for h3```\n",
    "\n",
    "```#### for h4```\n",
    "\n",
    "```##### for h5```\n",
    "\n",
    "## Plot colour schemes\n",
    "\n",
    "General advice:\n",
    "1. Use the same colour or colour palette throughout your notebook, unless variety is necessary\n",
    "2. Select a palette based on the type of data being represented\n",
    "3. Consider accessibility (colourblindness, low vision)\n",
    "\n",
    "#### 1) If all of your plots only use 1-2 colors use one of the company style colors:\n",
    "\n",
    "| Light theme | Dark Theme |\n",
    "|-----|-----|\n",
    "|<p style=\"color:#2af598;\">#2af598</p>|<p style=\"color:#08af64;\">#08af64</p>|\n",
    "|<p style=\"color:#22e4ac;\">#22e4ac</p>|<p style=\"color:#14a38e;\">#14a38e</p>|\n",
    "|<p style=\"color:#1bd7bb;\">#1bd7bb</p>|<p style=\"color:#0f9295;\">#0f9295</p>|\n",
    "|<p style=\"color:#14c9cb;\">#14c9cb</p>|<p style=\"color:#056b8a;\">#056b8a</p>|\n",
    "|<p style=\"color:#0fbed8;\">#0fbed8</p>|<p style=\"color:#121212;\">#121212</p>|\n",
    "|<p style=\"color:#08b3e5;\">#08b3e5</p>||\n",
    "\n",
    "\n",
    "#### 2) If your plot needs multiple colors, choose an appropriate palette using either of the following tutorials:\n",
    "- https://seaborn.pydata.org/tutorial/color_palettes.html\n",
    "- https://matplotlib.org/stable/tutorials/colors/colormaps.html\n",
    "\n",
    "#### 3) Consider accessibility as well.\n",
    "\n",
    "For qualitative plotting Seaborn's 'colorblind' palette is recommended. For maps with sequential or diverging it is recommended to use one of the Color Brewer schemes which can be previewed at https://colorbrewer2.org/.\n",
    "\n",
    "If you want to design your own colour scheme, it should use the same principles as Cynthia Brewer's research (with variation not only in hue but also, saturation or luminance).\n",
    "\n",
    "### References\n",
    "\n",
    "Be sure to acknowledge your sources and any attributions using links or a reference list.\n",
    "\n",
    "If you have quite a few references, you might wish to have a dedicated section for references at the end of your document, linked using footnote style numbers.\n",
    "\n",
    "You can connect your in-text reference by adding the number with a HTML link: ```<a href=\"#fn-1\">[1]</a>```\n",
    "\n",
    "and add a matching ID in the reference list using the ```<fn>``` tag: ```<fn id=\"fn-1\">[1] Author (Year) _Title_, Publisher, Publication location.</fn>```"
   ]
  },
  {
   "cell_type": "markdown",
   "metadata": {
    "id": "Ypj1zG8b4dnE"
   },
   "source": [
    "### new"
   ]
  },
  {
   "cell_type": "code",
   "execution_count": 34,
   "metadata": {
    "id": "YxrXOHjK4dnE",
    "outputId": "bb4b489b-7af4-43d2-d26f-f6b72456db2b",
    "tags": []
   },
   "outputs": [
    {
     "data": {
      "text/html": [
       "<div>\n",
       "<style scoped>\n",
       "    .dataframe tbody tr th:only-of-type {\n",
       "        vertical-align: middle;\n",
       "    }\n",
       "\n",
       "    .dataframe tbody tr th {\n",
       "        vertical-align: top;\n",
       "    }\n",
       "\n",
       "    .dataframe thead th {\n",
       "        text-align: right;\n",
       "    }\n",
       "</style>\n",
       "<table border=\"1\" class=\"dataframe\">\n",
       "  <thead>\n",
       "    <tr style=\"text-align: right;\">\n",
       "      <th></th>\n",
       "      <th>lastupdated</th>\n",
       "      <th>status_timestamp</th>\n",
       "      <th>zone_number</th>\n",
       "      <th>status_description</th>\n",
       "      <th>parkingbay_id</th>\n",
       "      <th>location</th>\n",
       "    </tr>\n",
       "  </thead>\n",
       "  <tbody>\n",
       "    <tr>\n",
       "      <th>0</th>\n",
       "      <td>2023-07-20T05:44:36+00:00</td>\n",
       "      <td>2023-07-19T21:24:38+00:00</td>\n",
       "      <td>7358</td>\n",
       "      <td>Unoccupied</td>\n",
       "      <td>7075</td>\n",
       "      <td>{'lon': 144.969, 'lat': -37.815}</td>\n",
       "    </tr>\n",
       "    <tr>\n",
       "      <th>1</th>\n",
       "      <td>2023-07-20T05:44:36+00:00</td>\n",
       "      <td>2023-07-20T05:23:46+00:00</td>\n",
       "      <td>7358</td>\n",
       "      <td>Present</td>\n",
       "      <td>7076</td>\n",
       "      <td>{'lon': 144.969, 'lat': -37.815}</td>\n",
       "    </tr>\n",
       "    <tr>\n",
       "      <th>2</th>\n",
       "      <td>2023-07-20T05:44:36+00:00</td>\n",
       "      <td>2023-07-20T04:46:01+00:00</td>\n",
       "      <td>7358</td>\n",
       "      <td>Unoccupied</td>\n",
       "      <td>7077</td>\n",
       "      <td>{'lon': 144.969, 'lat': -37.815}</td>\n",
       "    </tr>\n",
       "    <tr>\n",
       "      <th>3</th>\n",
       "      <td>2023-07-24T06:44:36+00:00</td>\n",
       "      <td>2023-07-24T06:16:08+00:00</td>\n",
       "      <td>7638</td>\n",
       "      <td>Unoccupied</td>\n",
       "      <td>5852</td>\n",
       "      <td>{'lon': 144.968, 'lat': -37.813}</td>\n",
       "    </tr>\n",
       "    <tr>\n",
       "      <th>4</th>\n",
       "      <td>2023-07-24T06:44:36+00:00</td>\n",
       "      <td>2023-07-24T05:50:20+00:00</td>\n",
       "      <td>7638</td>\n",
       "      <td>Unoccupied</td>\n",
       "      <td>5874</td>\n",
       "      <td>{'lon': 144.968, 'lat': -37.813}</td>\n",
       "    </tr>\n",
       "    <tr>\n",
       "      <th>5</th>\n",
       "      <td>2023-07-24T06:44:36+00:00</td>\n",
       "      <td>2023-07-24T03:45:31+00:00</td>\n",
       "      <td>7674</td>\n",
       "      <td>Present</td>\n",
       "      <td>8149</td>\n",
       "      <td>{'lon': 144.969, 'lat': -37.814}</td>\n",
       "    </tr>\n",
       "    <tr>\n",
       "      <th>6</th>\n",
       "      <td>2023-07-24T06:44:36+00:00</td>\n",
       "      <td>2023-07-24T06:38:36+00:00</td>\n",
       "      <td>7674</td>\n",
       "      <td>Present</td>\n",
       "      <td>8148</td>\n",
       "      <td>{'lon': 144.969, 'lat': -37.814}</td>\n",
       "    </tr>\n",
       "    <tr>\n",
       "      <th>7</th>\n",
       "      <td>2023-07-24T06:44:36+00:00</td>\n",
       "      <td>2023-07-24T06:11:22+00:00</td>\n",
       "      <td>7674</td>\n",
       "      <td>Present</td>\n",
       "      <td>8146</td>\n",
       "      <td>{'lon': 144.969, 'lat': -37.814}</td>\n",
       "    </tr>\n",
       "    <tr>\n",
       "      <th>8</th>\n",
       "      <td>2023-07-24T06:44:36+00:00</td>\n",
       "      <td>2023-07-24T06:18:04+00:00</td>\n",
       "      <td>7674</td>\n",
       "      <td>Present</td>\n",
       "      <td>8139</td>\n",
       "      <td>{'lon': 144.969, 'lat': -37.815}</td>\n",
       "    </tr>\n",
       "    <tr>\n",
       "      <th>9</th>\n",
       "      <td>2023-07-24T06:44:36+00:00</td>\n",
       "      <td>2023-07-24T06:20:01+00:00</td>\n",
       "      <td>7674</td>\n",
       "      <td>Present</td>\n",
       "      <td>8138</td>\n",
       "      <td>{'lon': 144.969, 'lat': -37.815}</td>\n",
       "    </tr>\n",
       "  </tbody>\n",
       "</table>\n",
       "</div>"
      ],
      "text/plain": [
       "                 lastupdated           status_timestamp  zone_number  \\\n",
       "0  2023-07-20T05:44:36+00:00  2023-07-19T21:24:38+00:00         7358   \n",
       "1  2023-07-20T05:44:36+00:00  2023-07-20T05:23:46+00:00         7358   \n",
       "2  2023-07-20T05:44:36+00:00  2023-07-20T04:46:01+00:00         7358   \n",
       "3  2023-07-24T06:44:36+00:00  2023-07-24T06:16:08+00:00         7638   \n",
       "4  2023-07-24T06:44:36+00:00  2023-07-24T05:50:20+00:00         7638   \n",
       "5  2023-07-24T06:44:36+00:00  2023-07-24T03:45:31+00:00         7674   \n",
       "6  2023-07-24T06:44:36+00:00  2023-07-24T06:38:36+00:00         7674   \n",
       "7  2023-07-24T06:44:36+00:00  2023-07-24T06:11:22+00:00         7674   \n",
       "8  2023-07-24T06:44:36+00:00  2023-07-24T06:18:04+00:00         7674   \n",
       "9  2023-07-24T06:44:36+00:00  2023-07-24T06:20:01+00:00         7674   \n",
       "\n",
       "  status_description  parkingbay_id                          location  \n",
       "0         Unoccupied           7075  {'lon': 144.969, 'lat': -37.815}  \n",
       "1            Present           7076  {'lon': 144.969, 'lat': -37.815}  \n",
       "2         Unoccupied           7077  {'lon': 144.969, 'lat': -37.815}  \n",
       "3         Unoccupied           5852  {'lon': 144.968, 'lat': -37.813}  \n",
       "4         Unoccupied           5874  {'lon': 144.968, 'lat': -37.813}  \n",
       "5            Present           8149  {'lon': 144.969, 'lat': -37.814}  \n",
       "6            Present           8148  {'lon': 144.969, 'lat': -37.814}  \n",
       "7            Present           8146  {'lon': 144.969, 'lat': -37.814}  \n",
       "8            Present           8139  {'lon': 144.969, 'lat': -37.815}  \n",
       "9            Present           8138  {'lon': 144.969, 'lat': -37.815}  "
      ]
     },
     "metadata": {},
     "output_type": "display_data"
    }
   ],
   "source": [
    "## try 10 api\n",
    "import requests\n",
    "import pandas as pd\n",
    "\n",
    "BASE_URL = 'https://data.melbourne.vic.gov.au/api/explore/v2.1/catalog/datasets/'\n",
    "SENSOR_DATASET = 'on-street-parking-bay-sensors'\n",
    "NUMBER_OF_RECORDS = 10\n",
    "API_KEY = 'api_key=558000cd83c1d1ba8c4a5e09e0063424750542b70b132293e63b645a'\n",
    "\n",
    "FILTERS = f'records?limit={NUMBER_OF_RECORDS}&offset=0&timezone=UTC'\n",
    "SENSOR_URL = f'{BASE_URL}{SENSOR_DATASET}/{FILTERS}&{API_KEY}'\n",
    "\n",
    "try:\n",
    "    result = requests.get(SENSOR_URL)\n",
    "    result.raise_for_status()\n",
    "    result_json = result.json()\n",
    "    records = result_json.get('results')\n",
    "    if records is None:\n",
    "        print(\"No 'results' field in the response\")\n",
    "    else:\n",
    "        data = []\n",
    "        for record in records:\n",
    "            record['location']['lat'] = round(record['location']['lat'], 3)\n",
    "            record['location']['lon'] = round(record['location']['lon'], 3)\n",
    "            data.append(record)\n",
    "        df = pd.DataFrame(data)\n",
    "        # Print the DataFrame\n",
    "        display(df)\n",
    "except requests.RequestException as e:\n",
    "    print(f\"Request failed: {e}\")\n"
   ]
  },
  {
   "cell_type": "markdown",
   "metadata": {
    "id": "V_1OE4Q94dnE",
    "tags": []
   },
   "source": []
  },
  {
   "cell_type": "code",
   "execution_count": 35,
   "metadata": {
    "id": "mK_zkmcU4dnE",
    "outputId": "1b7ef9fd-b41b-4cd7-c940-5f181ab667d4",
    "tags": []
   },
   "outputs": [
    {
     "data": {
      "text/html": [
       "<div>\n",
       "<style scoped>\n",
       "    .dataframe tbody tr th:only-of-type {\n",
       "        vertical-align: middle;\n",
       "    }\n",
       "\n",
       "    .dataframe tbody tr th {\n",
       "        vertical-align: top;\n",
       "    }\n",
       "\n",
       "    .dataframe thead th {\n",
       "        text-align: right;\n",
       "    }\n",
       "</style>\n",
       "<table border=\"1\" class=\"dataframe\">\n",
       "  <thead>\n",
       "    <tr style=\"text-align: right;\">\n",
       "      <th></th>\n",
       "      <th>lastupdated</th>\n",
       "      <th>status_timestamp</th>\n",
       "      <th>zone_number</th>\n",
       "      <th>status_description</th>\n",
       "      <th>parkingbay_id</th>\n",
       "      <th>location_lat</th>\n",
       "      <th>location_lon</th>\n",
       "    </tr>\n",
       "  </thead>\n",
       "  <tbody>\n",
       "    <tr>\n",
       "      <th>0</th>\n",
       "      <td>2023-07-20T05:44:36+00:00</td>\n",
       "      <td>2023-07-19T21:24:38+00:00</td>\n",
       "      <td>7358.0</td>\n",
       "      <td>Unoccupied</td>\n",
       "      <td>7075</td>\n",
       "      <td>-37.815</td>\n",
       "      <td>144.969</td>\n",
       "    </tr>\n",
       "    <tr>\n",
       "      <th>1</th>\n",
       "      <td>2023-07-20T05:44:36+00:00</td>\n",
       "      <td>2023-07-20T05:23:46+00:00</td>\n",
       "      <td>7358.0</td>\n",
       "      <td>Present</td>\n",
       "      <td>7076</td>\n",
       "      <td>-37.815</td>\n",
       "      <td>144.969</td>\n",
       "    </tr>\n",
       "    <tr>\n",
       "      <th>2</th>\n",
       "      <td>2023-07-20T05:44:36+00:00</td>\n",
       "      <td>2023-07-20T04:46:01+00:00</td>\n",
       "      <td>7358.0</td>\n",
       "      <td>Unoccupied</td>\n",
       "      <td>7077</td>\n",
       "      <td>-37.815</td>\n",
       "      <td>144.969</td>\n",
       "    </tr>\n",
       "    <tr>\n",
       "      <th>3</th>\n",
       "      <td>2023-07-24T06:44:36+00:00</td>\n",
       "      <td>2023-07-24T06:16:08+00:00</td>\n",
       "      <td>7638.0</td>\n",
       "      <td>Unoccupied</td>\n",
       "      <td>5852</td>\n",
       "      <td>-37.813</td>\n",
       "      <td>144.968</td>\n",
       "    </tr>\n",
       "    <tr>\n",
       "      <th>4</th>\n",
       "      <td>2023-07-24T06:44:36+00:00</td>\n",
       "      <td>2023-07-24T05:50:20+00:00</td>\n",
       "      <td>7638.0</td>\n",
       "      <td>Unoccupied</td>\n",
       "      <td>5874</td>\n",
       "      <td>-37.813</td>\n",
       "      <td>144.968</td>\n",
       "    </tr>\n",
       "    <tr>\n",
       "      <th>...</th>\n",
       "      <td>...</td>\n",
       "      <td>...</td>\n",
       "      <td>...</td>\n",
       "      <td>...</td>\n",
       "      <td>...</td>\n",
       "      <td>...</td>\n",
       "      <td>...</td>\n",
       "    </tr>\n",
       "    <tr>\n",
       "      <th>4985</th>\n",
       "      <td>2023-08-23T05:48:36+00:00</td>\n",
       "      <td>2023-08-23T05:44:19+00:00</td>\n",
       "      <td>7363.0</td>\n",
       "      <td>Unoccupied</td>\n",
       "      <td>61846</td>\n",
       "      <td>-37.815</td>\n",
       "      <td>144.970</td>\n",
       "    </tr>\n",
       "    <tr>\n",
       "      <th>4986</th>\n",
       "      <td>2023-08-23T05:48:36+00:00</td>\n",
       "      <td>2023-08-23T03:36:58+00:00</td>\n",
       "      <td>7454.0</td>\n",
       "      <td>Present</td>\n",
       "      <td>60026</td>\n",
       "      <td>-37.816</td>\n",
       "      <td>144.973</td>\n",
       "    </tr>\n",
       "    <tr>\n",
       "      <th>4987</th>\n",
       "      <td>2023-08-23T05:48:36+00:00</td>\n",
       "      <td>2023-08-23T04:39:11+00:00</td>\n",
       "      <td>7363.0</td>\n",
       "      <td>Present</td>\n",
       "      <td>61841</td>\n",
       "      <td>-37.815</td>\n",
       "      <td>144.970</td>\n",
       "    </tr>\n",
       "    <tr>\n",
       "      <th>4988</th>\n",
       "      <td>2023-08-23T05:48:36+00:00</td>\n",
       "      <td>2023-08-23T03:39:53+00:00</td>\n",
       "      <td>7529.0</td>\n",
       "      <td>Unoccupied</td>\n",
       "      <td>62712</td>\n",
       "      <td>-37.813</td>\n",
       "      <td>144.971</td>\n",
       "    </tr>\n",
       "    <tr>\n",
       "      <th>4989</th>\n",
       "      <td>2023-08-23T05:48:36+00:00</td>\n",
       "      <td>2023-08-23T05:11:04+00:00</td>\n",
       "      <td>7356.0</td>\n",
       "      <td>Present</td>\n",
       "      <td>61933</td>\n",
       "      <td>-37.815</td>\n",
       "      <td>144.967</td>\n",
       "    </tr>\n",
       "  </tbody>\n",
       "</table>\n",
       "<p>4990 rows × 7 columns</p>\n",
       "</div>"
      ],
      "text/plain": [
       "                    lastupdated           status_timestamp  zone_number  \\\n",
       "0     2023-07-20T05:44:36+00:00  2023-07-19T21:24:38+00:00       7358.0   \n",
       "1     2023-07-20T05:44:36+00:00  2023-07-20T05:23:46+00:00       7358.0   \n",
       "2     2023-07-20T05:44:36+00:00  2023-07-20T04:46:01+00:00       7358.0   \n",
       "3     2023-07-24T06:44:36+00:00  2023-07-24T06:16:08+00:00       7638.0   \n",
       "4     2023-07-24T06:44:36+00:00  2023-07-24T05:50:20+00:00       7638.0   \n",
       "...                         ...                        ...          ...   \n",
       "4985  2023-08-23T05:48:36+00:00  2023-08-23T05:44:19+00:00       7363.0   \n",
       "4986  2023-08-23T05:48:36+00:00  2023-08-23T03:36:58+00:00       7454.0   \n",
       "4987  2023-08-23T05:48:36+00:00  2023-08-23T04:39:11+00:00       7363.0   \n",
       "4988  2023-08-23T05:48:36+00:00  2023-08-23T03:39:53+00:00       7529.0   \n",
       "4989  2023-08-23T05:48:36+00:00  2023-08-23T05:11:04+00:00       7356.0   \n",
       "\n",
       "     status_description  parkingbay_id  location_lat  location_lon  \n",
       "0            Unoccupied           7075       -37.815       144.969  \n",
       "1               Present           7076       -37.815       144.969  \n",
       "2            Unoccupied           7077       -37.815       144.969  \n",
       "3            Unoccupied           5852       -37.813       144.968  \n",
       "4            Unoccupied           5874       -37.813       144.968  \n",
       "...                 ...            ...           ...           ...  \n",
       "4985         Unoccupied          61846       -37.815       144.970  \n",
       "4986            Present          60026       -37.816       144.973  \n",
       "4987            Present          61841       -37.815       144.970  \n",
       "4988         Unoccupied          62712       -37.813       144.971  \n",
       "4989            Present          61933       -37.815       144.967  \n",
       "\n",
       "[4990 rows x 7 columns]"
      ]
     },
     "metadata": {},
     "output_type": "display_data"
    }
   ],
   "source": [
    "## try all api\n",
    "\n",
    "import requests\n",
    "import pandas as pd\n",
    "\n",
    "BASE_URL = 'https://data.melbourne.vic.gov.au/api/explore/v2.1/catalog/datasets/'\n",
    "SENSOR_DATASET = 'on-street-parking-bay-sensors'\n",
    "API_KEY = 'api_key=558000cd83c1d1ba8c4a5e09e0063424750542b70b132293e63b645a'\n",
    "NUMBER_OF_RECORDS = 100  # Max API\n",
    "OFFSET = 0  # Start\n",
    "all_records = []\n",
    "\n",
    "while True:\n",
    "    FILTERS = f'{SENSOR_DATASET}/records?limit={NUMBER_OF_RECORDS}&offset={OFFSET}&timezone=UTC'\n",
    "    SENSOR_URL = f'{BASE_URL}{FILTERS}&{API_KEY}'\n",
    "    result = requests.get(SENSOR_URL)\n",
    "    result_json = result.json()\n",
    "    records = result_json.get('results')\n",
    "    if records is None:\n",
    "        print(\"No 'results' field in the response\")\n",
    "        break\n",
    "    else:\n",
    "        all_records.extend(records)\n",
    "        if len(records) < NUMBER_OF_RECORDS:\n",
    "            break\n",
    "        else:\n",
    "            OFFSET += NUMBER_OF_RECORDS\n",
    "\n",
    "# To DataFrame.\n",
    "df = pd.DataFrame(all_records)\n",
    "df['location_lat'] = df['location'].apply(lambda x: round(x['lat'], 3))\n",
    "df['location_lon'] = df['location'].apply(lambda x: round(x['lon'], 3))\n",
    "df.drop(columns=['location'], inplace=True)\n",
    "\n",
    "# Print the DataFrame\n",
    "display(df)"
   ]
  },
  {
   "cell_type": "markdown",
   "metadata": {
    "id": "SnNCfT9r4dnF"
   },
   "source": [
    "### old"
   ]
  },
  {
   "cell_type": "code",
   "execution_count": null,
   "metadata": {
    "id": "Q2EROxDY4dnF"
   },
   "outputs": [],
   "source": [
    "# import pandas as pd\n",
    "# from sodapy import Socrata\n",
    "\n",
    "# # find the parking dataset @ https://data.melbourne.vic.gov.au/Transport/On-street-Parking-Bay-Sensors/vh2v-4nfs\n",
    "# parking_dataset_id = 'vh2v-4nfs'\n",
    "# # app tokens are just used to manage throttling (not authentication)\n",
    "# app_token = '[your app token]' #find out about app tokens @ https://dev.socrata.com/docs/app-tokens.html\n",
    "# bucket = 'opendataplayground.deakin'\n",
    "\n",
    "# # Access open data through Socrata client\n",
    "# client = Socrata(\n",
    "#     \"data.melbourne.vic.gov.au\",\n",
    "#     app_token,\n",
    "#     timeout=120\n",
    "# )\n",
    "\n",
    "# # read snapshot of parking sensors status\n",
    "# api_results = client.get_all(parking_dataset_id)\n",
    "# parking_sensors = pd.DataFrame.from_dict(api_results)\n",
    "# parking_sensors = parking_sensors.astype({'lat':'float64', 'lon':'float64'})\n",
    "# # remove duplicates found in the parking sensor data\n",
    "# parking_sensors = parking_sensors.drop_duplicates()\n",
    "# parking_sensors[['lat', 'lon', 'status']].to_json('./latest_parking_sensors.json')\n"
   ]
  },
  {
   "cell_type": "code",
   "execution_count": null,
   "metadata": {
    "id": "H49rbC4J4dnF"
   },
   "outputs": [],
   "source": [
    "import requests\n",
    "import json"
   ]
  },
  {
   "cell_type": "code",
   "execution_count": null,
   "metadata": {
    "id": "zgjyYHlY4dnF",
    "outputId": "7fde3186-e358-497c-8635-580c4d2bc7f8"
   },
   "outputs": [
    {
     "ename": "ModuleNotFoundError",
     "evalue": "No module named 'keys'",
     "output_type": "error",
     "traceback": [
      "\u001b[1;31m---------------------------------------------------------------------------\u001b[0m",
      "\u001b[1;31mModuleNotFoundError\u001b[0m                       Traceback (most recent call last)",
      "Cell \u001b[1;32mIn[12], line 1\u001b[0m\n\u001b[1;32m----> 1\u001b[0m \u001b[38;5;28;01mimport\u001b[39;00m \u001b[38;5;21;01mkeys\u001b[39;00m \u001b[38;5;28;01mas\u001b[39;00m \u001b[38;5;21;01mkeys\u001b[39;00m\n",
      "\u001b[1;31mModuleNotFoundError\u001b[0m: No module named 'keys'"
     ]
    }
   ],
   "source": [
    "import keys as keys\n",
    "# keys.API"
   ]
  },
  {
   "cell_type": "code",
   "execution_count": null,
   "metadata": {
    "id": "wHmxskCJ4dnF"
   },
   "outputs": [],
   "source": [
    "BASE_URL = 'https://data.melbourne.vic.gov.au/api/v2/catalog/datasets/'\n",
    "\n",
    "#Dataset name\n",
    "SENSOR_DATASET = 'on-street-parking-bay-sensors'\n",
    "NUMBER_OF_RECORDS = 10\n",
    "\n",
    "# Add a filter for the number of results returned\n",
    "FILTERS = 'records?limit={0}&offset=0&timezone=UTC'.format(NUMBER_OF_RECORDS)\n",
    "# Same as\n",
    "FILTERS = f'records?limit={NUMBER_OF_RECORDS}&offset=0&timezone=UTC'"
   ]
  },
  {
   "cell_type": "code",
   "execution_count": null,
   "metadata": {
    "id": "xWJ3epQ34dnF",
    "outputId": "0bc648c2-5711-49a8-bee9-a27135db6c6d"
   },
   "outputs": [
    {
     "data": {
      "text/plain": [
       "'https://data.melbourne.vic.gov.au/api/v2/catalog/datasets/on-street-parking-bay-sensors/records?limit=10&offset=0&timezone=UTC'"
      ]
     },
     "execution_count": 13,
     "metadata": {},
     "output_type": "execute_result"
    }
   ],
   "source": [
    "SERSOR_URL = f'{BASE_URL}{SENSOR_DATASET}/{FILTERS}'\n",
    "SERSOR_URL"
   ]
  },
  {
   "cell_type": "code",
   "execution_count": null,
   "metadata": {
    "id": "-3dWBtAn4dnF"
   },
   "outputs": [],
   "source": [
    "# Use requests to get the data\n",
    "result = requests.get(SERSOR_URL)\n",
    "result_json = result.json()"
   ]
  },
  {
   "cell_type": "code",
   "execution_count": null,
   "metadata": {
    "id": "eQooIVXs4dnF"
   },
   "outputs": [],
   "source": [
    "records = result_json['records']"
   ]
  },
  {
   "cell_type": "markdown",
   "metadata": {
    "id": "Y5rmpzWR4dnG"
   },
   "source": [
    "#### Function to get full dataset"
   ]
  },
  {
   "cell_type": "markdown",
   "metadata": {
    "id": "EGc0syDl4dnG"
   },
   "source": [
    "### new"
   ]
  },
  {
   "cell_type": "code",
   "execution_count": 36,
   "metadata": {
    "id": "l9OQAGSI4dnG",
    "outputId": "79ca89f1-98d0-4913-b0a1-29ce568ecb41",
    "tags": []
   },
   "outputs": [
    {
     "name": "stdout",
     "output_type": "stream",
     "text": [
      "lastupdated            object\n",
      "status_timestamp       object\n",
      "zone_number           float64\n",
      "status_description     object\n",
      "parkingbay_id           int64\n",
      "location_lat          float64\n",
      "location_lon          float64\n",
      "dtype: object\n"
     ]
    }
   ],
   "source": [
    "print(df.dtypes)"
   ]
  },
  {
   "cell_type": "code",
   "execution_count": 37,
   "metadata": {
    "id": "7tNe2vBQ4dnG",
    "tags": []
   },
   "outputs": [],
   "source": [
    "parking_sensors = df"
   ]
  },
  {
   "cell_type": "code",
   "execution_count": 38,
   "metadata": {
    "id": "-kTQcTQX4dnG",
    "outputId": "81fc264c-f300-46a2-fed9-073b2270d185",
    "tags": []
   },
   "outputs": [
    {
     "name": "stdout",
     "output_type": "stream",
     "text": [
      "Index(['lastupdated', 'status_timestamp', 'zone_number', 'status_description',\n",
      "       'parkingbay_id', 'location_lat', 'location_lon'],\n",
      "      dtype='object')\n"
     ]
    }
   ],
   "source": [
    "print(parking_sensors.columns)"
   ]
  },
  {
   "cell_type": "code",
   "execution_count": 39,
   "metadata": {
    "id": "cXXEqy264dnG",
    "outputId": "357efb13-69b2-4f9b-c9ea-360928a445fb",
    "tags": []
   },
   "outputs": [
    {
     "name": "stdout",
     "output_type": "stream",
     "text": [
      "                 lastupdated          status_timestamp  zone_number  \\\n",
      "0  2023-07-20T05:44:36+00:00 2023-07-20 07:24:38+10:00       7358.0   \n",
      "1  2023-07-20T05:44:36+00:00 2023-07-20 15:23:46+10:00       7358.0   \n",
      "2  2023-07-20T05:44:36+00:00 2023-07-20 14:46:01+10:00       7358.0   \n",
      "3  2023-07-24T06:44:36+00:00 2023-07-24 16:16:08+10:00       7638.0   \n",
      "4  2023-07-24T06:44:36+00:00 2023-07-24 15:50:20+10:00       7638.0   \n",
      "\n",
      "  status_description  parkingbay_id  location_lat  location_lon  \n",
      "0         Unoccupied           7075       -37.815       144.969  \n",
      "1            Present           7076       -37.815       144.969  \n",
      "2         Unoccupied           7077       -37.815       144.969  \n",
      "3         Unoccupied           5852       -37.813       144.968  \n",
      "4         Unoccupied           5874       -37.813       144.968  \n"
     ]
    }
   ],
   "source": [
    "import pandas as pd\n",
    "# location flot\n",
    "parking_sensors = parking_sensors.astype({'location_lat':'float64', 'location_lon':'float64'})\n",
    "parking_sensors.drop_duplicates(inplace=True)\n",
    "parking_sensors.reset_index(drop=True, inplace=True)\n",
    "# time\n",
    "time_zone = 'Australia/Melbourne'\n",
    "parking_sensors['status_timestamp'] = pd.to_datetime(parking_sensors['status_timestamp']).dt.tz_convert(time_zone)\n",
    "parking_sensors[['location_lat', 'location_lon', 'status_description']].to_json('./latest_parking_sensors.json')\n",
    "print(parking_sensors.head())"
   ]
  },
  {
   "cell_type": "markdown",
   "metadata": {
    "id": "2uXNbwe-4dnG"
   },
   "source": [
    "### old"
   ]
  },
  {
   "cell_type": "code",
   "execution_count": null,
   "metadata": {
    "id": "32TZPMdk4dnG"
   },
   "outputs": [],
   "source": [
    "# Use links & iterate calls\n",
    "\n",
    "def get_data(base, data_url, size = 0):\n",
    "\n",
    "    filters = f'records?limit={10}&offset={size}&timezone=UTC'\n",
    "    url = f'{base}{data_url}/{filters}'\n",
    "    result = requests.get(url)\n",
    "    result_json = result.json()\n",
    "    max_results = result_json['total_count']\n",
    "    links = result_json['links']\n",
    "    records = result_json['records']\n",
    "    records_df = pd.json_normalize(records)\n",
    "\n",
    "    # fix columns names\n",
    "    records_df.drop(columns=['links'],inplace=True)\n",
    "    column_names = records_df.columns.values.tolist()\n",
    "\n",
    "    # Replace location.lat & location.lon\n",
    "    column_names = ['_'.join((a.split(\".\")[-2:])) if a.split('.')[-2]=='location' else a for a in column_names]\n",
    "    column_names = [i.split('.')[-1] for i in column_names]\n",
    "    records_df.columns = column_names\n",
    "\n",
    "    next_url = None\n",
    "\n",
    "    # get next url\n",
    "    if records_df.shape[0] != max_results:\n",
    "        for l in links:\n",
    "            if l['rel']=='next':\n",
    "                next_url = l['href']\n",
    "\n",
    "    return [records_df, next_url, column_names]"
   ]
  },
  {
   "cell_type": "code",
   "execution_count": null,
   "metadata": {
    "id": "Wqzp9zf54dnG"
   },
   "outputs": [],
   "source": [
    "df_new, url_next, column_names = get_data(BASE_URL,SENSOR_DATASET)"
   ]
  },
  {
   "cell_type": "code",
   "execution_count": null,
   "metadata": {
    "id": "861sOuP24dnG"
   },
   "outputs": [],
   "source": [
    "# Create new EMPTY dataframe with columns\n",
    "\n",
    "NEW_SENSOR_DF = pd.DataFrame(columns=column_names)"
   ]
  },
  {
   "cell_type": "code",
   "execution_count": null,
   "metadata": {
    "id": "QU83Dv9f4dnG"
   },
   "outputs": [],
   "source": [
    "# Create function to add API output to dataframe\n",
    "def add_to_dataframe(dataframe, new_data):\n",
    "    df = pd.concat([dataframe, new_data])\n",
    "    return df"
   ]
  },
  {
   "cell_type": "code",
   "execution_count": null,
   "metadata": {
    "id": "mZWeAS224dnG"
   },
   "outputs": [],
   "source": [
    "# Add initial output to datframe\n",
    "NEW_SENSOR_DF = add_to_dataframe(NEW_SENSOR_DF, df_new)"
   ]
  },
  {
   "cell_type": "code",
   "execution_count": null,
   "metadata": {
    "id": "c0BFf1S24dnG",
    "outputId": "5cda0ca9-f57c-4918-c9e7-d27dda82d15e"
   },
   "outputs": [
    {
     "data": {
      "text/html": [
       "<div>\n",
       "<style scoped>\n",
       "    .dataframe tbody tr th:only-of-type {\n",
       "        vertical-align: middle;\n",
       "    }\n",
       "\n",
       "    .dataframe tbody tr th {\n",
       "        vertical-align: top;\n",
       "    }\n",
       "\n",
       "    .dataframe thead th {\n",
       "        text-align: right;\n",
       "    }\n",
       "</style>\n",
       "<table border=\"1\" class=\"dataframe\">\n",
       "  <thead>\n",
       "    <tr style=\"text-align: right;\">\n",
       "      <th></th>\n",
       "      <th>id</th>\n",
       "      <th>timestamp</th>\n",
       "      <th>size</th>\n",
       "      <th>location_lon</th>\n",
       "      <th>location_lat</th>\n",
       "      <th>lon</th>\n",
       "      <th>lat</th>\n",
       "      <th>st_marker_id</th>\n",
       "      <th>status</th>\n",
       "      <th>bay_id</th>\n",
       "      <th>parking_zone</th>\n",
       "      <th>last_updated</th>\n",
       "    </tr>\n",
       "  </thead>\n",
       "  <tbody>\n",
       "    <tr>\n",
       "      <th>0</th>\n",
       "      <td>80cf5560abd8566d54c3bf475cad815c8d0b5498</td>\n",
       "      <td>2023-03-28T03:37:57.446Z</td>\n",
       "      <td>163</td>\n",
       "      <td>144.949454</td>\n",
       "      <td>-37.804578</td>\n",
       "      <td>144.949454</td>\n",
       "      <td>-37.804578</td>\n",
       "      <td>9575</td>\n",
       "      <td>Present</td>\n",
       "      <td>None</td>\n",
       "      <td>7725</td>\n",
       "      <td>2023-03-28T03:37:57.549000+00:00</td>\n",
       "    </tr>\n",
       "    <tr>\n",
       "      <th>1</th>\n",
       "      <td>a5e4ea85288d429569861fa75c0c290debfb8450</td>\n",
       "      <td>2023-03-28T03:37:57.446Z</td>\n",
       "      <td>165</td>\n",
       "      <td>144.949466</td>\n",
       "      <td>-37.804509</td>\n",
       "      <td>144.949466</td>\n",
       "      <td>-37.804509</td>\n",
       "      <td>9576</td>\n",
       "      <td>Present</td>\n",
       "      <td>None</td>\n",
       "      <td>7725</td>\n",
       "      <td>2023-03-28T03:37:57.550000+00:00</td>\n",
       "    </tr>\n",
       "    <tr>\n",
       "      <th>2</th>\n",
       "      <td>b4f87729dfbf5a3d2a346da4d4011fa31569c462</td>\n",
       "      <td>2023-03-28T03:37:57.446Z</td>\n",
       "      <td>170</td>\n",
       "      <td>144.949529</td>\n",
       "      <td>-37.804146</td>\n",
       "      <td>144.949529</td>\n",
       "      <td>-37.804146</td>\n",
       "      <td>9581</td>\n",
       "      <td>Unoccupied</td>\n",
       "      <td>None</td>\n",
       "      <td>7725</td>\n",
       "      <td>2023-03-28T03:37:57.550000+00:00</td>\n",
       "    </tr>\n",
       "    <tr>\n",
       "      <th>3</th>\n",
       "      <td>4058022ca6d50e6aa536a170f885090f810c2f37</td>\n",
       "      <td>2023-03-28T03:37:57.446Z</td>\n",
       "      <td>163</td>\n",
       "      <td>144.949254</td>\n",
       "      <td>-37.804641</td>\n",
       "      <td>144.949254</td>\n",
       "      <td>-37.804641</td>\n",
       "      <td>9599</td>\n",
       "      <td>Present</td>\n",
       "      <td>None</td>\n",
       "      <td>7725</td>\n",
       "      <td>2023-03-28T03:37:57.552000+00:00</td>\n",
       "    </tr>\n",
       "    <tr>\n",
       "      <th>4</th>\n",
       "      <td>3237e58df36a56eba7c31df4fa8cab69863dc024</td>\n",
       "      <td>2023-03-28T03:37:57.446Z</td>\n",
       "      <td>170</td>\n",
       "      <td>144.949445</td>\n",
       "      <td>-37.803542</td>\n",
       "      <td>144.949445</td>\n",
       "      <td>-37.803542</td>\n",
       "      <td>9605</td>\n",
       "      <td>Unoccupied</td>\n",
       "      <td>None</td>\n",
       "      <td>7725</td>\n",
       "      <td>2023-03-28T03:37:57.552000+00:00</td>\n",
       "    </tr>\n",
       "  </tbody>\n",
       "</table>\n",
       "</div>"
      ],
      "text/plain": [
       "                                         id                 timestamp size  \\\n",
       "0  80cf5560abd8566d54c3bf475cad815c8d0b5498  2023-03-28T03:37:57.446Z  163   \n",
       "1  a5e4ea85288d429569861fa75c0c290debfb8450  2023-03-28T03:37:57.446Z  165   \n",
       "2  b4f87729dfbf5a3d2a346da4d4011fa31569c462  2023-03-28T03:37:57.446Z  170   \n",
       "3  4058022ca6d50e6aa536a170f885090f810c2f37  2023-03-28T03:37:57.446Z  163   \n",
       "4  3237e58df36a56eba7c31df4fa8cab69863dc024  2023-03-28T03:37:57.446Z  170   \n",
       "\n",
       "   location_lon  location_lat         lon        lat st_marker_id      status  \\\n",
       "0    144.949454    -37.804578  144.949454 -37.804578         9575     Present   \n",
       "1    144.949466    -37.804509  144.949466 -37.804509         9576     Present   \n",
       "2    144.949529    -37.804146  144.949529 -37.804146         9581  Unoccupied   \n",
       "3    144.949254    -37.804641  144.949254 -37.804641         9599     Present   \n",
       "4    144.949445    -37.803542  144.949445 -37.803542         9605  Unoccupied   \n",
       "\n",
       "  bay_id parking_zone                      last_updated  \n",
       "0   None         7725  2023-03-28T03:37:57.549000+00:00  \n",
       "1   None         7725  2023-03-28T03:37:57.550000+00:00  \n",
       "2   None         7725  2023-03-28T03:37:57.550000+00:00  \n",
       "3   None         7725  2023-03-28T03:37:57.552000+00:00  \n",
       "4   None         7725  2023-03-28T03:37:57.552000+00:00  "
      ]
     },
     "execution_count": 35,
     "metadata": {},
     "output_type": "execute_result"
    }
   ],
   "source": [
    "NEW_SENSOR_DF.head()"
   ]
  },
  {
   "cell_type": "code",
   "execution_count": null,
   "metadata": {
    "id": "DPcvCG0D4dnG"
   },
   "outputs": [],
   "source": [
    "# Get the rest of the Dataset\n",
    "while url_next != None:\n",
    "    df_new, url_next, column_names = get_data(BASE_URL,SENSOR_DATASET, NEW_SENSOR_DF.shape[0])\n",
    "    NEW_SENSOR_DF = add_to_dataframe(NEW_SENSOR_DF, df_new)"
   ]
  },
  {
   "cell_type": "code",
   "execution_count": null,
   "metadata": {
    "id": "jqzpJZzl4dnG",
    "outputId": "d5309e90-4378-440c-ac3b-8fb5801bf469"
   },
   "outputs": [
    {
     "data": {
      "text/plain": [
       "(406, 12)"
      ]
     },
     "execution_count": 37,
     "metadata": {},
     "output_type": "execute_result"
    }
   ],
   "source": [
    "NEW_SENSOR_DF.shape"
   ]
  },
  {
   "cell_type": "code",
   "execution_count": null,
   "metadata": {
    "id": "4BTs6cNf4dnH",
    "outputId": "4e3b70cd-a666-4fd3-ddae-c0e154e00125"
   },
   "outputs": [
    {
     "data": {
      "text/html": [
       "<div>\n",
       "<style scoped>\n",
       "    .dataframe tbody tr th:only-of-type {\n",
       "        vertical-align: middle;\n",
       "    }\n",
       "\n",
       "    .dataframe tbody tr th {\n",
       "        vertical-align: top;\n",
       "    }\n",
       "\n",
       "    .dataframe thead th {\n",
       "        text-align: right;\n",
       "    }\n",
       "</style>\n",
       "<table border=\"1\" class=\"dataframe\">\n",
       "  <thead>\n",
       "    <tr style=\"text-align: right;\">\n",
       "      <th></th>\n",
       "      <th>id</th>\n",
       "      <th>timestamp</th>\n",
       "      <th>size</th>\n",
       "      <th>location_lon</th>\n",
       "      <th>location_lat</th>\n",
       "      <th>lon</th>\n",
       "      <th>lat</th>\n",
       "      <th>st_marker_id</th>\n",
       "      <th>status</th>\n",
       "      <th>bay_id</th>\n",
       "      <th>parking_zone</th>\n",
       "      <th>last_updated</th>\n",
       "    </tr>\n",
       "  </thead>\n",
       "  <tbody>\n",
       "    <tr>\n",
       "      <th>0</th>\n",
       "      <td>80cf5560abd8566d54c3bf475cad815c8d0b5498</td>\n",
       "      <td>2023-03-28T03:37:57.446Z</td>\n",
       "      <td>163</td>\n",
       "      <td>144.949454</td>\n",
       "      <td>-37.804578</td>\n",
       "      <td>144.949454</td>\n",
       "      <td>-37.804578</td>\n",
       "      <td>9575</td>\n",
       "      <td>Present</td>\n",
       "      <td>None</td>\n",
       "      <td>7725</td>\n",
       "      <td>2023-03-28T03:37:57.549000+00:00</td>\n",
       "    </tr>\n",
       "    <tr>\n",
       "      <th>1</th>\n",
       "      <td>a5e4ea85288d429569861fa75c0c290debfb8450</td>\n",
       "      <td>2023-03-28T03:37:57.446Z</td>\n",
       "      <td>165</td>\n",
       "      <td>144.949466</td>\n",
       "      <td>-37.804509</td>\n",
       "      <td>144.949466</td>\n",
       "      <td>-37.804509</td>\n",
       "      <td>9576</td>\n",
       "      <td>Present</td>\n",
       "      <td>None</td>\n",
       "      <td>7725</td>\n",
       "      <td>2023-03-28T03:37:57.550000+00:00</td>\n",
       "    </tr>\n",
       "    <tr>\n",
       "      <th>2</th>\n",
       "      <td>b4f87729dfbf5a3d2a346da4d4011fa31569c462</td>\n",
       "      <td>2023-03-28T03:37:57.446Z</td>\n",
       "      <td>170</td>\n",
       "      <td>144.949529</td>\n",
       "      <td>-37.804146</td>\n",
       "      <td>144.949529</td>\n",
       "      <td>-37.804146</td>\n",
       "      <td>9581</td>\n",
       "      <td>Unoccupied</td>\n",
       "      <td>None</td>\n",
       "      <td>7725</td>\n",
       "      <td>2023-03-28T03:37:57.550000+00:00</td>\n",
       "    </tr>\n",
       "    <tr>\n",
       "      <th>3</th>\n",
       "      <td>4058022ca6d50e6aa536a170f885090f810c2f37</td>\n",
       "      <td>2023-03-28T03:37:57.446Z</td>\n",
       "      <td>163</td>\n",
       "      <td>144.949254</td>\n",
       "      <td>-37.804641</td>\n",
       "      <td>144.949254</td>\n",
       "      <td>-37.804641</td>\n",
       "      <td>9599</td>\n",
       "      <td>Present</td>\n",
       "      <td>None</td>\n",
       "      <td>7725</td>\n",
       "      <td>2023-03-28T03:37:57.552000+00:00</td>\n",
       "    </tr>\n",
       "    <tr>\n",
       "      <th>4</th>\n",
       "      <td>3237e58df36a56eba7c31df4fa8cab69863dc024</td>\n",
       "      <td>2023-03-28T03:37:57.446Z</td>\n",
       "      <td>170</td>\n",
       "      <td>144.949445</td>\n",
       "      <td>-37.803542</td>\n",
       "      <td>144.949445</td>\n",
       "      <td>-37.803542</td>\n",
       "      <td>9605</td>\n",
       "      <td>Unoccupied</td>\n",
       "      <td>None</td>\n",
       "      <td>7725</td>\n",
       "      <td>2023-03-28T03:37:57.552000+00:00</td>\n",
       "    </tr>\n",
       "    <tr>\n",
       "      <th>...</th>\n",
       "      <td>...</td>\n",
       "      <td>...</td>\n",
       "      <td>...</td>\n",
       "      <td>...</td>\n",
       "      <td>...</td>\n",
       "      <td>...</td>\n",
       "      <td>...</td>\n",
       "      <td>...</td>\n",
       "      <td>...</td>\n",
       "      <td>...</td>\n",
       "      <td>...</td>\n",
       "      <td>...</td>\n",
       "    </tr>\n",
       "    <tr>\n",
       "      <th>1</th>\n",
       "      <td>556629fe202642dcddaf6cffed08b4bbbaa12349</td>\n",
       "      <td>2023-03-28T03:37:57.446Z</td>\n",
       "      <td>162</td>\n",
       "      <td>144.948668</td>\n",
       "      <td>-37.820150</td>\n",
       "      <td>144.948668</td>\n",
       "      <td>-37.820150</td>\n",
       "      <td>21371</td>\n",
       "      <td>Present</td>\n",
       "      <td>None</td>\n",
       "      <td>7163</td>\n",
       "      <td>2023-03-28T03:37:57.831000+00:00</td>\n",
       "    </tr>\n",
       "    <tr>\n",
       "      <th>2</th>\n",
       "      <td>bd46f4c2523d4674b206920dd936efd8636dd804</td>\n",
       "      <td>2023-03-28T03:37:57.446Z</td>\n",
       "      <td>165</td>\n",
       "      <td>144.944451</td>\n",
       "      <td>-37.819635</td>\n",
       "      <td>144.944451</td>\n",
       "      <td>-37.819635</td>\n",
       "      <td>13424</td>\n",
       "      <td>Unoccupied</td>\n",
       "      <td>None</td>\n",
       "      <td>7178</td>\n",
       "      <td>2023-03-28T03:37:57.832000+00:00</td>\n",
       "    </tr>\n",
       "    <tr>\n",
       "      <th>3</th>\n",
       "      <td>91972c45a7318cd4794d6af481c9e19612f0748d</td>\n",
       "      <td>2023-03-28T03:37:57.446Z</td>\n",
       "      <td>169</td>\n",
       "      <td>144.956288</td>\n",
       "      <td>-37.801899</td>\n",
       "      <td>144.956288</td>\n",
       "      <td>-37.801899</td>\n",
       "      <td>13909</td>\n",
       "      <td>Unoccupied</td>\n",
       "      <td>None</td>\n",
       "      <td>7711</td>\n",
       "      <td>2023-03-28T03:37:57.834000+00:00</td>\n",
       "    </tr>\n",
       "    <tr>\n",
       "      <th>4</th>\n",
       "      <td>295204a667c905851cc20ac6d3bceeee52c48029</td>\n",
       "      <td>2023-03-28T03:37:57.446Z</td>\n",
       "      <td>167</td>\n",
       "      <td>144.946193</td>\n",
       "      <td>-37.820846</td>\n",
       "      <td>144.946193</td>\n",
       "      <td>-37.820846</td>\n",
       "      <td>20927</td>\n",
       "      <td>Unoccupied</td>\n",
       "      <td>None</td>\n",
       "      <td>7214</td>\n",
       "      <td>2023-03-28T03:37:57.835000+00:00</td>\n",
       "    </tr>\n",
       "    <tr>\n",
       "      <th>5</th>\n",
       "      <td>9b28494008784c6b11660074dc172e4b29144dc1</td>\n",
       "      <td>2023-03-28T03:37:57.446Z</td>\n",
       "      <td>166</td>\n",
       "      <td>144.946220</td>\n",
       "      <td>-37.820956</td>\n",
       "      <td>144.946220</td>\n",
       "      <td>-37.820956</td>\n",
       "      <td>20929</td>\n",
       "      <td>Present</td>\n",
       "      <td>None</td>\n",
       "      <td>7214</td>\n",
       "      <td>2023-03-28T03:37:57.835000+00:00</td>\n",
       "    </tr>\n",
       "  </tbody>\n",
       "</table>\n",
       "<p>406 rows × 12 columns</p>\n",
       "</div>"
      ],
      "text/plain": [
       "                                          id                 timestamp size  \\\n",
       "0   80cf5560abd8566d54c3bf475cad815c8d0b5498  2023-03-28T03:37:57.446Z  163   \n",
       "1   a5e4ea85288d429569861fa75c0c290debfb8450  2023-03-28T03:37:57.446Z  165   \n",
       "2   b4f87729dfbf5a3d2a346da4d4011fa31569c462  2023-03-28T03:37:57.446Z  170   \n",
       "3   4058022ca6d50e6aa536a170f885090f810c2f37  2023-03-28T03:37:57.446Z  163   \n",
       "4   3237e58df36a56eba7c31df4fa8cab69863dc024  2023-03-28T03:37:57.446Z  170   \n",
       "..                                       ...                       ...  ...   \n",
       "1   556629fe202642dcddaf6cffed08b4bbbaa12349  2023-03-28T03:37:57.446Z  162   \n",
       "2   bd46f4c2523d4674b206920dd936efd8636dd804  2023-03-28T03:37:57.446Z  165   \n",
       "3   91972c45a7318cd4794d6af481c9e19612f0748d  2023-03-28T03:37:57.446Z  169   \n",
       "4   295204a667c905851cc20ac6d3bceeee52c48029  2023-03-28T03:37:57.446Z  167   \n",
       "5   9b28494008784c6b11660074dc172e4b29144dc1  2023-03-28T03:37:57.446Z  166   \n",
       "\n",
       "    location_lon  location_lat         lon        lat st_marker_id  \\\n",
       "0     144.949454    -37.804578  144.949454 -37.804578         9575   \n",
       "1     144.949466    -37.804509  144.949466 -37.804509         9576   \n",
       "2     144.949529    -37.804146  144.949529 -37.804146         9581   \n",
       "3     144.949254    -37.804641  144.949254 -37.804641         9599   \n",
       "4     144.949445    -37.803542  144.949445 -37.803542         9605   \n",
       "..           ...           ...         ...        ...          ...   \n",
       "1     144.948668    -37.820150  144.948668 -37.820150        21371   \n",
       "2     144.944451    -37.819635  144.944451 -37.819635        13424   \n",
       "3     144.956288    -37.801899  144.956288 -37.801899        13909   \n",
       "4     144.946193    -37.820846  144.946193 -37.820846        20927   \n",
       "5     144.946220    -37.820956  144.946220 -37.820956        20929   \n",
       "\n",
       "        status bay_id parking_zone                      last_updated  \n",
       "0      Present   None         7725  2023-03-28T03:37:57.549000+00:00  \n",
       "1      Present   None         7725  2023-03-28T03:37:57.550000+00:00  \n",
       "2   Unoccupied   None         7725  2023-03-28T03:37:57.550000+00:00  \n",
       "3      Present   None         7725  2023-03-28T03:37:57.552000+00:00  \n",
       "4   Unoccupied   None         7725  2023-03-28T03:37:57.552000+00:00  \n",
       "..         ...    ...          ...                               ...  \n",
       "1      Present   None         7163  2023-03-28T03:37:57.831000+00:00  \n",
       "2   Unoccupied   None         7178  2023-03-28T03:37:57.832000+00:00  \n",
       "3   Unoccupied   None         7711  2023-03-28T03:37:57.834000+00:00  \n",
       "4   Unoccupied   None         7214  2023-03-28T03:37:57.835000+00:00  \n",
       "5      Present   None         7214  2023-03-28T03:37:57.835000+00:00  \n",
       "\n",
       "[406 rows x 12 columns]"
      ]
     },
     "execution_count": 38,
     "metadata": {},
     "output_type": "execute_result"
    }
   ],
   "source": [
    "NEW_SENSOR_DF"
   ]
  },
  {
   "cell_type": "code",
   "execution_count": null,
   "metadata": {
    "id": "KOiiB_PK4dnK"
   },
   "outputs": [],
   "source": [
    "sensor_df = NEW_SENSOR_DF.copy()"
   ]
  },
  {
   "cell_type": "code",
   "execution_count": null,
   "metadata": {
    "id": "uSS7e9lo4dnL",
    "outputId": "55991cea-52b7-44ea-bb5b-94393551d2c1"
   },
   "outputs": [
    {
     "data": {
      "text/html": [
       "<div>\n",
       "<style scoped>\n",
       "    .dataframe tbody tr th:only-of-type {\n",
       "        vertical-align: middle;\n",
       "    }\n",
       "\n",
       "    .dataframe tbody tr th {\n",
       "        vertical-align: top;\n",
       "    }\n",
       "\n",
       "    .dataframe thead th {\n",
       "        text-align: right;\n",
       "    }\n",
       "</style>\n",
       "<table border=\"1\" class=\"dataframe\">\n",
       "  <thead>\n",
       "    <tr style=\"text-align: right;\">\n",
       "      <th></th>\n",
       "      <th>id</th>\n",
       "      <th>timestamp</th>\n",
       "      <th>size</th>\n",
       "      <th>location_lon</th>\n",
       "      <th>location_lat</th>\n",
       "      <th>lon</th>\n",
       "      <th>lat</th>\n",
       "      <th>st_marker_id</th>\n",
       "      <th>status</th>\n",
       "      <th>bay_id</th>\n",
       "      <th>parking_zone</th>\n",
       "      <th>last_updated</th>\n",
       "    </tr>\n",
       "  </thead>\n",
       "  <tbody>\n",
       "    <tr>\n",
       "      <th>0</th>\n",
       "      <td>80cf5560abd8566d54c3bf475cad815c8d0b5498</td>\n",
       "      <td>2023-03-28T03:37:57.446Z</td>\n",
       "      <td>163</td>\n",
       "      <td>144.949454</td>\n",
       "      <td>-37.804578</td>\n",
       "      <td>144.949454</td>\n",
       "      <td>-37.804578</td>\n",
       "      <td>9575</td>\n",
       "      <td>Present</td>\n",
       "      <td>None</td>\n",
       "      <td>7725</td>\n",
       "      <td>2023-03-28T03:37:57.549000+00:00</td>\n",
       "    </tr>\n",
       "    <tr>\n",
       "      <th>1</th>\n",
       "      <td>a5e4ea85288d429569861fa75c0c290debfb8450</td>\n",
       "      <td>2023-03-28T03:37:57.446Z</td>\n",
       "      <td>165</td>\n",
       "      <td>144.949466</td>\n",
       "      <td>-37.804509</td>\n",
       "      <td>144.949466</td>\n",
       "      <td>-37.804509</td>\n",
       "      <td>9576</td>\n",
       "      <td>Present</td>\n",
       "      <td>None</td>\n",
       "      <td>7725</td>\n",
       "      <td>2023-03-28T03:37:57.550000+00:00</td>\n",
       "    </tr>\n",
       "    <tr>\n",
       "      <th>2</th>\n",
       "      <td>b4f87729dfbf5a3d2a346da4d4011fa31569c462</td>\n",
       "      <td>2023-03-28T03:37:57.446Z</td>\n",
       "      <td>170</td>\n",
       "      <td>144.949529</td>\n",
       "      <td>-37.804146</td>\n",
       "      <td>144.949529</td>\n",
       "      <td>-37.804146</td>\n",
       "      <td>9581</td>\n",
       "      <td>Unoccupied</td>\n",
       "      <td>None</td>\n",
       "      <td>7725</td>\n",
       "      <td>2023-03-28T03:37:57.550000+00:00</td>\n",
       "    </tr>\n",
       "    <tr>\n",
       "      <th>3</th>\n",
       "      <td>4058022ca6d50e6aa536a170f885090f810c2f37</td>\n",
       "      <td>2023-03-28T03:37:57.446Z</td>\n",
       "      <td>163</td>\n",
       "      <td>144.949254</td>\n",
       "      <td>-37.804641</td>\n",
       "      <td>144.949254</td>\n",
       "      <td>-37.804641</td>\n",
       "      <td>9599</td>\n",
       "      <td>Present</td>\n",
       "      <td>None</td>\n",
       "      <td>7725</td>\n",
       "      <td>2023-03-28T03:37:57.552000+00:00</td>\n",
       "    </tr>\n",
       "    <tr>\n",
       "      <th>4</th>\n",
       "      <td>3237e58df36a56eba7c31df4fa8cab69863dc024</td>\n",
       "      <td>2023-03-28T03:37:57.446Z</td>\n",
       "      <td>170</td>\n",
       "      <td>144.949445</td>\n",
       "      <td>-37.803542</td>\n",
       "      <td>144.949445</td>\n",
       "      <td>-37.803542</td>\n",
       "      <td>9605</td>\n",
       "      <td>Unoccupied</td>\n",
       "      <td>None</td>\n",
       "      <td>7725</td>\n",
       "      <td>2023-03-28T03:37:57.552000+00:00</td>\n",
       "    </tr>\n",
       "    <tr>\n",
       "      <th>...</th>\n",
       "      <td>...</td>\n",
       "      <td>...</td>\n",
       "      <td>...</td>\n",
       "      <td>...</td>\n",
       "      <td>...</td>\n",
       "      <td>...</td>\n",
       "      <td>...</td>\n",
       "      <td>...</td>\n",
       "      <td>...</td>\n",
       "      <td>...</td>\n",
       "      <td>...</td>\n",
       "      <td>...</td>\n",
       "    </tr>\n",
       "    <tr>\n",
       "      <th>1</th>\n",
       "      <td>556629fe202642dcddaf6cffed08b4bbbaa12349</td>\n",
       "      <td>2023-03-28T03:37:57.446Z</td>\n",
       "      <td>162</td>\n",
       "      <td>144.948668</td>\n",
       "      <td>-37.820150</td>\n",
       "      <td>144.948668</td>\n",
       "      <td>-37.820150</td>\n",
       "      <td>21371</td>\n",
       "      <td>Present</td>\n",
       "      <td>None</td>\n",
       "      <td>7163</td>\n",
       "      <td>2023-03-28T03:37:57.831000+00:00</td>\n",
       "    </tr>\n",
       "    <tr>\n",
       "      <th>2</th>\n",
       "      <td>bd46f4c2523d4674b206920dd936efd8636dd804</td>\n",
       "      <td>2023-03-28T03:37:57.446Z</td>\n",
       "      <td>165</td>\n",
       "      <td>144.944451</td>\n",
       "      <td>-37.819635</td>\n",
       "      <td>144.944451</td>\n",
       "      <td>-37.819635</td>\n",
       "      <td>13424</td>\n",
       "      <td>Unoccupied</td>\n",
       "      <td>None</td>\n",
       "      <td>7178</td>\n",
       "      <td>2023-03-28T03:37:57.832000+00:00</td>\n",
       "    </tr>\n",
       "    <tr>\n",
       "      <th>3</th>\n",
       "      <td>91972c45a7318cd4794d6af481c9e19612f0748d</td>\n",
       "      <td>2023-03-28T03:37:57.446Z</td>\n",
       "      <td>169</td>\n",
       "      <td>144.956288</td>\n",
       "      <td>-37.801899</td>\n",
       "      <td>144.956288</td>\n",
       "      <td>-37.801899</td>\n",
       "      <td>13909</td>\n",
       "      <td>Unoccupied</td>\n",
       "      <td>None</td>\n",
       "      <td>7711</td>\n",
       "      <td>2023-03-28T03:37:57.834000+00:00</td>\n",
       "    </tr>\n",
       "    <tr>\n",
       "      <th>4</th>\n",
       "      <td>295204a667c905851cc20ac6d3bceeee52c48029</td>\n",
       "      <td>2023-03-28T03:37:57.446Z</td>\n",
       "      <td>167</td>\n",
       "      <td>144.946193</td>\n",
       "      <td>-37.820846</td>\n",
       "      <td>144.946193</td>\n",
       "      <td>-37.820846</td>\n",
       "      <td>20927</td>\n",
       "      <td>Unoccupied</td>\n",
       "      <td>None</td>\n",
       "      <td>7214</td>\n",
       "      <td>2023-03-28T03:37:57.835000+00:00</td>\n",
       "    </tr>\n",
       "    <tr>\n",
       "      <th>5</th>\n",
       "      <td>9b28494008784c6b11660074dc172e4b29144dc1</td>\n",
       "      <td>2023-03-28T03:37:57.446Z</td>\n",
       "      <td>166</td>\n",
       "      <td>144.946220</td>\n",
       "      <td>-37.820956</td>\n",
       "      <td>144.946220</td>\n",
       "      <td>-37.820956</td>\n",
       "      <td>20929</td>\n",
       "      <td>Present</td>\n",
       "      <td>None</td>\n",
       "      <td>7214</td>\n",
       "      <td>2023-03-28T03:37:57.835000+00:00</td>\n",
       "    </tr>\n",
       "  </tbody>\n",
       "</table>\n",
       "<p>406 rows × 12 columns</p>\n",
       "</div>"
      ],
      "text/plain": [
       "                                          id                 timestamp size  \\\n",
       "0   80cf5560abd8566d54c3bf475cad815c8d0b5498  2023-03-28T03:37:57.446Z  163   \n",
       "1   a5e4ea85288d429569861fa75c0c290debfb8450  2023-03-28T03:37:57.446Z  165   \n",
       "2   b4f87729dfbf5a3d2a346da4d4011fa31569c462  2023-03-28T03:37:57.446Z  170   \n",
       "3   4058022ca6d50e6aa536a170f885090f810c2f37  2023-03-28T03:37:57.446Z  163   \n",
       "4   3237e58df36a56eba7c31df4fa8cab69863dc024  2023-03-28T03:37:57.446Z  170   \n",
       "..                                       ...                       ...  ...   \n",
       "1   556629fe202642dcddaf6cffed08b4bbbaa12349  2023-03-28T03:37:57.446Z  162   \n",
       "2   bd46f4c2523d4674b206920dd936efd8636dd804  2023-03-28T03:37:57.446Z  165   \n",
       "3   91972c45a7318cd4794d6af481c9e19612f0748d  2023-03-28T03:37:57.446Z  169   \n",
       "4   295204a667c905851cc20ac6d3bceeee52c48029  2023-03-28T03:37:57.446Z  167   \n",
       "5   9b28494008784c6b11660074dc172e4b29144dc1  2023-03-28T03:37:57.446Z  166   \n",
       "\n",
       "    location_lon  location_lat         lon        lat st_marker_id  \\\n",
       "0     144.949454    -37.804578  144.949454 -37.804578         9575   \n",
       "1     144.949466    -37.804509  144.949466 -37.804509         9576   \n",
       "2     144.949529    -37.804146  144.949529 -37.804146         9581   \n",
       "3     144.949254    -37.804641  144.949254 -37.804641         9599   \n",
       "4     144.949445    -37.803542  144.949445 -37.803542         9605   \n",
       "..           ...           ...         ...        ...          ...   \n",
       "1     144.948668    -37.820150  144.948668 -37.820150        21371   \n",
       "2     144.944451    -37.819635  144.944451 -37.819635        13424   \n",
       "3     144.956288    -37.801899  144.956288 -37.801899        13909   \n",
       "4     144.946193    -37.820846  144.946193 -37.820846        20927   \n",
       "5     144.946220    -37.820956  144.946220 -37.820956        20929   \n",
       "\n",
       "        status bay_id parking_zone                      last_updated  \n",
       "0      Present   None         7725  2023-03-28T03:37:57.549000+00:00  \n",
       "1      Present   None         7725  2023-03-28T03:37:57.550000+00:00  \n",
       "2   Unoccupied   None         7725  2023-03-28T03:37:57.550000+00:00  \n",
       "3      Present   None         7725  2023-03-28T03:37:57.552000+00:00  \n",
       "4   Unoccupied   None         7725  2023-03-28T03:37:57.552000+00:00  \n",
       "..         ...    ...          ...                               ...  \n",
       "1      Present   None         7163  2023-03-28T03:37:57.831000+00:00  \n",
       "2   Unoccupied   None         7178  2023-03-28T03:37:57.832000+00:00  \n",
       "3   Unoccupied   None         7711  2023-03-28T03:37:57.834000+00:00  \n",
       "4   Unoccupied   None         7214  2023-03-28T03:37:57.835000+00:00  \n",
       "5      Present   None         7214  2023-03-28T03:37:57.835000+00:00  \n",
       "\n",
       "[406 rows x 12 columns]"
      ]
     },
     "execution_count": 40,
     "metadata": {},
     "output_type": "execute_result"
    }
   ],
   "source": [
    "sensor_df"
   ]
  },
  {
   "cell_type": "code",
   "execution_count": null,
   "metadata": {
    "id": "q8EXFPIA4dnL"
   },
   "outputs": [],
   "source": [
    "parking_sensors = sensor_df.astype({'lat':'float64', 'lon':'float64'})"
   ]
  },
  {
   "cell_type": "code",
   "execution_count": null,
   "metadata": {
    "id": "dY7b2LS34dnL"
   },
   "outputs": [],
   "source": [
    "# parking_sensors = parking_sensors.astype({'lat':'float64', 'lon':'float64'})"
   ]
  },
  {
   "cell_type": "code",
   "execution_count": null,
   "metadata": {
    "id": "2lnk8By94dnL",
    "outputId": "4e3787c4-2b69-45dc-e513-c812e426a888"
   },
   "outputs": [
    {
     "data": {
      "text/html": [
       "<div>\n",
       "<style scoped>\n",
       "    .dataframe tbody tr th:only-of-type {\n",
       "        vertical-align: middle;\n",
       "    }\n",
       "\n",
       "    .dataframe tbody tr th {\n",
       "        vertical-align: top;\n",
       "    }\n",
       "\n",
       "    .dataframe thead th {\n",
       "        text-align: right;\n",
       "    }\n",
       "</style>\n",
       "<table border=\"1\" class=\"dataframe\">\n",
       "  <thead>\n",
       "    <tr style=\"text-align: right;\">\n",
       "      <th></th>\n",
       "      <th>id</th>\n",
       "      <th>timestamp</th>\n",
       "      <th>size</th>\n",
       "      <th>location_lon</th>\n",
       "      <th>location_lat</th>\n",
       "      <th>lon</th>\n",
       "      <th>lat</th>\n",
       "      <th>st_marker_id</th>\n",
       "      <th>status</th>\n",
       "      <th>bay_id</th>\n",
       "      <th>parking_zone</th>\n",
       "      <th>last_updated</th>\n",
       "    </tr>\n",
       "  </thead>\n",
       "  <tbody>\n",
       "    <tr>\n",
       "      <th>0</th>\n",
       "      <td>80cf5560abd8566d54c3bf475cad815c8d0b5498</td>\n",
       "      <td>2023-03-28T03:37:57.446Z</td>\n",
       "      <td>163</td>\n",
       "      <td>144.949454</td>\n",
       "      <td>-37.804578</td>\n",
       "      <td>144.949454</td>\n",
       "      <td>-37.804578</td>\n",
       "      <td>9575</td>\n",
       "      <td>Present</td>\n",
       "      <td>None</td>\n",
       "      <td>7725</td>\n",
       "      <td>2023-03-28T03:37:57.549000+00:00</td>\n",
       "    </tr>\n",
       "    <tr>\n",
       "      <th>1</th>\n",
       "      <td>a5e4ea85288d429569861fa75c0c290debfb8450</td>\n",
       "      <td>2023-03-28T03:37:57.446Z</td>\n",
       "      <td>165</td>\n",
       "      <td>144.949466</td>\n",
       "      <td>-37.804509</td>\n",
       "      <td>144.949466</td>\n",
       "      <td>-37.804509</td>\n",
       "      <td>9576</td>\n",
       "      <td>Present</td>\n",
       "      <td>None</td>\n",
       "      <td>7725</td>\n",
       "      <td>2023-03-28T03:37:57.550000+00:00</td>\n",
       "    </tr>\n",
       "    <tr>\n",
       "      <th>2</th>\n",
       "      <td>b4f87729dfbf5a3d2a346da4d4011fa31569c462</td>\n",
       "      <td>2023-03-28T03:37:57.446Z</td>\n",
       "      <td>170</td>\n",
       "      <td>144.949529</td>\n",
       "      <td>-37.804146</td>\n",
       "      <td>144.949529</td>\n",
       "      <td>-37.804146</td>\n",
       "      <td>9581</td>\n",
       "      <td>Unoccupied</td>\n",
       "      <td>None</td>\n",
       "      <td>7725</td>\n",
       "      <td>2023-03-28T03:37:57.550000+00:00</td>\n",
       "    </tr>\n",
       "    <tr>\n",
       "      <th>3</th>\n",
       "      <td>4058022ca6d50e6aa536a170f885090f810c2f37</td>\n",
       "      <td>2023-03-28T03:37:57.446Z</td>\n",
       "      <td>163</td>\n",
       "      <td>144.949254</td>\n",
       "      <td>-37.804641</td>\n",
       "      <td>144.949254</td>\n",
       "      <td>-37.804641</td>\n",
       "      <td>9599</td>\n",
       "      <td>Present</td>\n",
       "      <td>None</td>\n",
       "      <td>7725</td>\n",
       "      <td>2023-03-28T03:37:57.552000+00:00</td>\n",
       "    </tr>\n",
       "    <tr>\n",
       "      <th>4</th>\n",
       "      <td>3237e58df36a56eba7c31df4fa8cab69863dc024</td>\n",
       "      <td>2023-03-28T03:37:57.446Z</td>\n",
       "      <td>170</td>\n",
       "      <td>144.949445</td>\n",
       "      <td>-37.803542</td>\n",
       "      <td>144.949445</td>\n",
       "      <td>-37.803542</td>\n",
       "      <td>9605</td>\n",
       "      <td>Unoccupied</td>\n",
       "      <td>None</td>\n",
       "      <td>7725</td>\n",
       "      <td>2023-03-28T03:37:57.552000+00:00</td>\n",
       "    </tr>\n",
       "    <tr>\n",
       "      <th>...</th>\n",
       "      <td>...</td>\n",
       "      <td>...</td>\n",
       "      <td>...</td>\n",
       "      <td>...</td>\n",
       "      <td>...</td>\n",
       "      <td>...</td>\n",
       "      <td>...</td>\n",
       "      <td>...</td>\n",
       "      <td>...</td>\n",
       "      <td>...</td>\n",
       "      <td>...</td>\n",
       "      <td>...</td>\n",
       "    </tr>\n",
       "    <tr>\n",
       "      <th>1</th>\n",
       "      <td>556629fe202642dcddaf6cffed08b4bbbaa12349</td>\n",
       "      <td>2023-03-28T03:37:57.446Z</td>\n",
       "      <td>162</td>\n",
       "      <td>144.948668</td>\n",
       "      <td>-37.820150</td>\n",
       "      <td>144.948668</td>\n",
       "      <td>-37.820150</td>\n",
       "      <td>21371</td>\n",
       "      <td>Present</td>\n",
       "      <td>None</td>\n",
       "      <td>7163</td>\n",
       "      <td>2023-03-28T03:37:57.831000+00:00</td>\n",
       "    </tr>\n",
       "    <tr>\n",
       "      <th>2</th>\n",
       "      <td>bd46f4c2523d4674b206920dd936efd8636dd804</td>\n",
       "      <td>2023-03-28T03:37:57.446Z</td>\n",
       "      <td>165</td>\n",
       "      <td>144.944451</td>\n",
       "      <td>-37.819635</td>\n",
       "      <td>144.944451</td>\n",
       "      <td>-37.819635</td>\n",
       "      <td>13424</td>\n",
       "      <td>Unoccupied</td>\n",
       "      <td>None</td>\n",
       "      <td>7178</td>\n",
       "      <td>2023-03-28T03:37:57.832000+00:00</td>\n",
       "    </tr>\n",
       "    <tr>\n",
       "      <th>3</th>\n",
       "      <td>91972c45a7318cd4794d6af481c9e19612f0748d</td>\n",
       "      <td>2023-03-28T03:37:57.446Z</td>\n",
       "      <td>169</td>\n",
       "      <td>144.956288</td>\n",
       "      <td>-37.801899</td>\n",
       "      <td>144.956288</td>\n",
       "      <td>-37.801899</td>\n",
       "      <td>13909</td>\n",
       "      <td>Unoccupied</td>\n",
       "      <td>None</td>\n",
       "      <td>7711</td>\n",
       "      <td>2023-03-28T03:37:57.834000+00:00</td>\n",
       "    </tr>\n",
       "    <tr>\n",
       "      <th>4</th>\n",
       "      <td>295204a667c905851cc20ac6d3bceeee52c48029</td>\n",
       "      <td>2023-03-28T03:37:57.446Z</td>\n",
       "      <td>167</td>\n",
       "      <td>144.946193</td>\n",
       "      <td>-37.820846</td>\n",
       "      <td>144.946193</td>\n",
       "      <td>-37.820846</td>\n",
       "      <td>20927</td>\n",
       "      <td>Unoccupied</td>\n",
       "      <td>None</td>\n",
       "      <td>7214</td>\n",
       "      <td>2023-03-28T03:37:57.835000+00:00</td>\n",
       "    </tr>\n",
       "    <tr>\n",
       "      <th>5</th>\n",
       "      <td>9b28494008784c6b11660074dc172e4b29144dc1</td>\n",
       "      <td>2023-03-28T03:37:57.446Z</td>\n",
       "      <td>166</td>\n",
       "      <td>144.946220</td>\n",
       "      <td>-37.820956</td>\n",
       "      <td>144.946220</td>\n",
       "      <td>-37.820956</td>\n",
       "      <td>20929</td>\n",
       "      <td>Present</td>\n",
       "      <td>None</td>\n",
       "      <td>7214</td>\n",
       "      <td>2023-03-28T03:37:57.835000+00:00</td>\n",
       "    </tr>\n",
       "  </tbody>\n",
       "</table>\n",
       "<p>406 rows × 12 columns</p>\n",
       "</div>"
      ],
      "text/plain": [
       "                                          id                 timestamp size  \\\n",
       "0   80cf5560abd8566d54c3bf475cad815c8d0b5498  2023-03-28T03:37:57.446Z  163   \n",
       "1   a5e4ea85288d429569861fa75c0c290debfb8450  2023-03-28T03:37:57.446Z  165   \n",
       "2   b4f87729dfbf5a3d2a346da4d4011fa31569c462  2023-03-28T03:37:57.446Z  170   \n",
       "3   4058022ca6d50e6aa536a170f885090f810c2f37  2023-03-28T03:37:57.446Z  163   \n",
       "4   3237e58df36a56eba7c31df4fa8cab69863dc024  2023-03-28T03:37:57.446Z  170   \n",
       "..                                       ...                       ...  ...   \n",
       "1   556629fe202642dcddaf6cffed08b4bbbaa12349  2023-03-28T03:37:57.446Z  162   \n",
       "2   bd46f4c2523d4674b206920dd936efd8636dd804  2023-03-28T03:37:57.446Z  165   \n",
       "3   91972c45a7318cd4794d6af481c9e19612f0748d  2023-03-28T03:37:57.446Z  169   \n",
       "4   295204a667c905851cc20ac6d3bceeee52c48029  2023-03-28T03:37:57.446Z  167   \n",
       "5   9b28494008784c6b11660074dc172e4b29144dc1  2023-03-28T03:37:57.446Z  166   \n",
       "\n",
       "    location_lon  location_lat         lon        lat st_marker_id  \\\n",
       "0     144.949454    -37.804578  144.949454 -37.804578         9575   \n",
       "1     144.949466    -37.804509  144.949466 -37.804509         9576   \n",
       "2     144.949529    -37.804146  144.949529 -37.804146         9581   \n",
       "3     144.949254    -37.804641  144.949254 -37.804641         9599   \n",
       "4     144.949445    -37.803542  144.949445 -37.803542         9605   \n",
       "..           ...           ...         ...        ...          ...   \n",
       "1     144.948668    -37.820150  144.948668 -37.820150        21371   \n",
       "2     144.944451    -37.819635  144.944451 -37.819635        13424   \n",
       "3     144.956288    -37.801899  144.956288 -37.801899        13909   \n",
       "4     144.946193    -37.820846  144.946193 -37.820846        20927   \n",
       "5     144.946220    -37.820956  144.946220 -37.820956        20929   \n",
       "\n",
       "        status bay_id parking_zone                      last_updated  \n",
       "0      Present   None         7725  2023-03-28T03:37:57.549000+00:00  \n",
       "1      Present   None         7725  2023-03-28T03:37:57.550000+00:00  \n",
       "2   Unoccupied   None         7725  2023-03-28T03:37:57.550000+00:00  \n",
       "3      Present   None         7725  2023-03-28T03:37:57.552000+00:00  \n",
       "4   Unoccupied   None         7725  2023-03-28T03:37:57.552000+00:00  \n",
       "..         ...    ...          ...                               ...  \n",
       "1      Present   None         7163  2023-03-28T03:37:57.831000+00:00  \n",
       "2   Unoccupied   None         7178  2023-03-28T03:37:57.832000+00:00  \n",
       "3   Unoccupied   None         7711  2023-03-28T03:37:57.834000+00:00  \n",
       "4   Unoccupied   None         7214  2023-03-28T03:37:57.835000+00:00  \n",
       "5      Present   None         7214  2023-03-28T03:37:57.835000+00:00  \n",
       "\n",
       "[406 rows x 12 columns]"
      ]
     },
     "execution_count": 50,
     "metadata": {},
     "output_type": "execute_result"
    }
   ],
   "source": [
    "parking_sensors"
   ]
  },
  {
   "cell_type": "code",
   "execution_count": null,
   "metadata": {
    "id": "FeKHcxp04dnL"
   },
   "outputs": [],
   "source": [
    "parking_sensors.drop_duplicates(inplace= True)"
   ]
  },
  {
   "cell_type": "code",
   "execution_count": null,
   "metadata": {
    "id": "AmkzZs_Q4dnL"
   },
   "outputs": [],
   "source": [
    "parking_sensors.reset_index(inplace= True)"
   ]
  },
  {
   "cell_type": "code",
   "execution_count": null,
   "metadata": {
    "id": "8E8g5lk14dnL",
    "outputId": "9e07d4c0-8ff8-4fad-e201-a19aeaaf671d"
   },
   "outputs": [
    {
     "data": {
      "text/plain": [
       "['index',\n",
       " 'id',\n",
       " 'timestamp',\n",
       " 'size',\n",
       " 'location_lon',\n",
       " 'location_lat',\n",
       " 'lon',\n",
       " 'lat',\n",
       " 'st_marker_id',\n",
       " 'status',\n",
       " 'bay_id',\n",
       " 'parking_zone',\n",
       " 'last_updated']"
      ]
     },
     "execution_count": 58,
     "metadata": {},
     "output_type": "execute_result"
    }
   ],
   "source": [
    "parking_sensors.columns.values.tolist()"
   ]
  },
  {
   "cell_type": "code",
   "execution_count": null,
   "metadata": {
    "id": "E9G-PDD44dnL"
   },
   "outputs": [],
   "source": [
    "parking_sensors[['lat', 'lon', 'status']].to_json('./latest_parking_sensors.json')"
   ]
  },
  {
   "cell_type": "code",
   "execution_count": null,
   "metadata": {
    "id": "aOp-hp9z4dnL",
    "outputId": "cf83e06d-e989-4288-ab73-12f04686e110"
   },
   "outputs": [
    {
     "data": {
      "text/plain": [
       "index             int64\n",
       "id               object\n",
       "timestamp        object\n",
       "size             object\n",
       "location_lon    float64\n",
       "location_lat    float64\n",
       "lon             float64\n",
       "lat             float64\n",
       "st_marker_id     object\n",
       "status           object\n",
       "bay_id           object\n",
       "parking_zone     object\n",
       "last_updated     object\n",
       "dtype: object"
      ]
     },
     "execution_count": 78,
     "metadata": {},
     "output_type": "execute_result"
    }
   ],
   "source": [
    "parking_sensors.dtypes"
   ]
  },
  {
   "cell_type": "code",
   "execution_count": null,
   "metadata": {
    "id": "0xZh0xr34dnL"
   },
   "outputs": [],
   "source": [
    "time_zone = 'Australia/Melbourne'"
   ]
  },
  {
   "cell_type": "code",
   "execution_count": null,
   "metadata": {
    "id": "eKXvDDUs4dnL"
   },
   "outputs": [],
   "source": [
    "parking_sensors['timestamp'] = pd.to_datetime(parking_sensors['timestamp'] ).dt.tz_convert(time_zone)"
   ]
  },
  {
   "cell_type": "code",
   "execution_count": null,
   "metadata": {
    "id": "RGo1tPzG4dnM",
    "outputId": "2cf73b90-5c5b-42d5-de90-7ca39e26d859"
   },
   "outputs": [
    {
     "data": {
      "text/plain": [
       "0     2023-03-28 14:37:57.446000+11:00\n",
       "1     2023-03-28 14:37:57.446000+11:00\n",
       "2     2023-03-28 14:37:57.446000+11:00\n",
       "3     2023-03-28 14:37:57.446000+11:00\n",
       "4     2023-03-28 14:37:57.446000+11:00\n",
       "                    ...               \n",
       "401   2023-03-28 14:37:57.446000+11:00\n",
       "402   2023-03-28 14:37:57.446000+11:00\n",
       "403   2023-03-28 14:37:57.446000+11:00\n",
       "404   2023-03-28 14:37:57.446000+11:00\n",
       "405   2023-03-28 14:37:57.446000+11:00\n",
       "Name: timestamp, Length: 406, dtype: datetime64[ns, Australia/Melbourne]"
      ]
     },
     "execution_count": 88,
     "metadata": {},
     "output_type": "execute_result"
    }
   ],
   "source": [
    "parking_sensors['timestamp']"
   ]
  },
  {
   "cell_type": "markdown",
   "metadata": {
    "id": "Foi9h1_34dnM"
   },
   "source": [
    "Add a javascript block to display the map"
   ]
  },
  {
   "cell_type": "code",
   "execution_count": null,
   "metadata": {
    "id": "ywIlRpV44dnM"
   },
   "outputs": [],
   "source": [
    "# from datetime import datetime\n",
    "# from os.path import isfile\n",
    "\n",
    "# # fetch the latest parkign data and append to parking sensor file collection\n",
    "# def update_latest_parking_data():\n",
    "#     # connect to melbourne open data apis\n",
    "#     client = Socrata(\n",
    "#         \"data.melbourne.vic.gov.au\",\n",
    "#         \"EC65cHicC3xqFXHHvAUICVXEr\", # app token, just used to reduce throttling, not authentication\n",
    "#         timeout=120\n",
    "#     )\n",
    "\n",
    "#     # add another number to the csv\n",
    "#     df = pd.DataFrame(client.get(\"vh2v-4nfs\", limit=200000))\n",
    "#     df.drop(columns = ['location', 'lat', 'lon', ':@computed_region_evbi_jbp8'], inplace = True)\n",
    "#     df['datetime'] = datetime.today().replace(microsecond=0) + datetime.timedelta(hours = 10) #Melbourne Time\n",
    "\n",
    "#     # if file already exists than we just want to append to the file\n",
    "#     # else we want to write a new file\n",
    "#     write_mode = 'w' if isfile('parking_sensor_data.csv') else 'a'\n",
    "\n",
    "#     df.to_csv('parking_sensor_data.csv', mode=write_mode, index = False)\n",
    "\n",
    "# import time\n",
    "\n",
    "# # simply press keys `ctrl + c` to stop the loop\n",
    "# try:\n",
    "#     while True:\n",
    "#         update_latest_parking_data()\n",
    "#         # wait for 15 minutes before fetching next latest\n",
    "#         time.sleep(15*60)\n",
    "# except KeyboardInterrupt:\n",
    "#     print('Finished fetching parking data.')\n"
   ]
  },
  {
   "cell_type": "markdown",
   "metadata": {
    "id": "mDJpQwqk4dnM"
   },
   "source": [
    "### new"
   ]
  },
  {
   "cell_type": "code",
   "execution_count": 3,
   "metadata": {
    "id": "et0qNJ6M6JtE",
    "tags": []
   },
   "outputs": [],
   "source": [
    "import requests\n",
    "import pandas as pd\n",
    "from datetime import datetime, timedelta\n",
    "from os.path import isfile\n",
    "\n",
    "BASE_URL = 'https://data.melbourne.vic.gov.au/api/explore/v2.1/catalog/datasets/'\n",
    "SENSOR_DATASET = 'on-street-parking-bay-sensors'\n",
    "API_KEY = 'api_key=YOUR_API_KEY'\n",
    "NUMBER_OF_RECORDS = 100  # Max API\n",
    "\n",
    "def fetch_data(offset=0):\n",
    "    FILTERS = f'{SENSOR_DATASET}/records?limit={NUMBER_OF_RECORDS}&offset={offset}&timezone=UTC'\n",
    "    SENSOR_URL = f'{BASE_URL}{FILTERS}&{API_KEY}'\n",
    "    result = requests.get(SENSOR_URL)\n",
    "    result_json = result.json()\n",
    "    return result_json.get('results')\n",
    "\n",
    "def process_data(records):\n",
    "    df = pd.DataFrame(records)\n",
    "    df.drop(columns=['location'], inplace=True, errors='ignore')\n",
    "    return df\n",
    "\n",
    "def update_latest_parking_data():\n",
    "    OFFSET = 0\n",
    "    all_records = []\n",
    "\n",
    "    while True:\n",
    "        records = fetch_data(OFFSET)\n",
    "        if not records:\n",
    "            break\n",
    "        all_records.extend(records)\n",
    "        if len(records) < NUMBER_OF_RECORDS:\n",
    "            break\n",
    "        OFFSET += NUMBER_OF_RECORDS\n",
    "\n",
    "    df = process_data(all_records)\n",
    "    df['datetime'] = datetime.today().replace(microsecond=0) + timedelta(hours=10)  # Melbourne Time\n",
    "\n",
    "    write_mode = 'a' if isfile('parking_sensor_data.csv') else 'w'\n",
    "    df.to_csv('parking_sensor_data.csv', mode=write_mode, index=False)\n",
    "\n",
    "# Run the function to fetch and save data\n",
    "update_latest_parking_data()\n"
   ]
  },
  {
   "cell_type": "code",
   "execution_count": 4,
   "metadata": {
    "colab": {
     "base_uri": "https://localhost:8080/",
     "height": 424
    },
    "id": "O_ZvMpvv6pAV",
    "outputId": "be8f1e79-3c26-40a7-a371-6abb97d4d6ca",
    "tags": []
   },
   "outputs": [
    {
     "data": {
      "text/html": [
       "<div>\n",
       "<style scoped>\n",
       "    .dataframe tbody tr th:only-of-type {\n",
       "        vertical-align: middle;\n",
       "    }\n",
       "\n",
       "    .dataframe tbody tr th {\n",
       "        vertical-align: top;\n",
       "    }\n",
       "\n",
       "    .dataframe thead th {\n",
       "        text-align: right;\n",
       "    }\n",
       "</style>\n",
       "<table border=\"1\" class=\"dataframe\">\n",
       "  <thead>\n",
       "    <tr style=\"text-align: right;\">\n",
       "      <th></th>\n",
       "      <th>lastupdated</th>\n",
       "      <th>status_timestamp</th>\n",
       "      <th>zone_number</th>\n",
       "      <th>status_description</th>\n",
       "      <th>parkingbay_id</th>\n",
       "      <th>datetime</th>\n",
       "    </tr>\n",
       "  </thead>\n",
       "  <tbody>\n",
       "    <tr>\n",
       "      <th>0</th>\n",
       "      <td>2023-07-20T05:44:36+00:00</td>\n",
       "      <td>2023-07-19T21:24:38+00:00</td>\n",
       "      <td>7358.0</td>\n",
       "      <td>Unoccupied</td>\n",
       "      <td>7075</td>\n",
       "      <td>2023-08-13 13:17:40</td>\n",
       "    </tr>\n",
       "    <tr>\n",
       "      <th>1</th>\n",
       "      <td>2023-07-20T05:44:36+00:00</td>\n",
       "      <td>2023-07-20T05:23:46+00:00</td>\n",
       "      <td>7358.0</td>\n",
       "      <td>Present</td>\n",
       "      <td>7076</td>\n",
       "      <td>2023-08-13 13:17:40</td>\n",
       "    </tr>\n",
       "    <tr>\n",
       "      <th>2</th>\n",
       "      <td>2023-07-20T05:44:36+00:00</td>\n",
       "      <td>2023-07-20T04:46:01+00:00</td>\n",
       "      <td>7358.0</td>\n",
       "      <td>Unoccupied</td>\n",
       "      <td>7077</td>\n",
       "      <td>2023-08-13 13:17:40</td>\n",
       "    </tr>\n",
       "    <tr>\n",
       "      <th>3</th>\n",
       "      <td>2023-07-24T06:44:36+00:00</td>\n",
       "      <td>2023-07-24T06:16:08+00:00</td>\n",
       "      <td>7638.0</td>\n",
       "      <td>Unoccupied</td>\n",
       "      <td>5852</td>\n",
       "      <td>2023-08-13 13:17:40</td>\n",
       "    </tr>\n",
       "    <tr>\n",
       "      <th>4</th>\n",
       "      <td>2023-07-24T06:44:36+00:00</td>\n",
       "      <td>2023-07-24T05:50:20+00:00</td>\n",
       "      <td>7638.0</td>\n",
       "      <td>Unoccupied</td>\n",
       "      <td>5874</td>\n",
       "      <td>2023-08-13 13:17:40</td>\n",
       "    </tr>\n",
       "    <tr>\n",
       "      <th>...</th>\n",
       "      <td>...</td>\n",
       "      <td>...</td>\n",
       "      <td>...</td>\n",
       "      <td>...</td>\n",
       "      <td>...</td>\n",
       "      <td>...</td>\n",
       "    </tr>\n",
       "    <tr>\n",
       "      <th>14773</th>\n",
       "      <td>2023-08-23T04:36:36+00:00</td>\n",
       "      <td>2023-08-23T04:28:39+00:00</td>\n",
       "      <td>7363.0</td>\n",
       "      <td>Present</td>\n",
       "      <td>61846</td>\n",
       "      <td>2023-08-24 00:37:10</td>\n",
       "    </tr>\n",
       "    <tr>\n",
       "      <th>14774</th>\n",
       "      <td>2023-08-23T04:36:36+00:00</td>\n",
       "      <td>2023-08-23T03:36:58+00:00</td>\n",
       "      <td>7454.0</td>\n",
       "      <td>Present</td>\n",
       "      <td>60026</td>\n",
       "      <td>2023-08-24 00:37:10</td>\n",
       "    </tr>\n",
       "    <tr>\n",
       "      <th>14775</th>\n",
       "      <td>2023-08-23T04:36:36+00:00</td>\n",
       "      <td>2023-08-23T04:13:10+00:00</td>\n",
       "      <td>7363.0</td>\n",
       "      <td>Present</td>\n",
       "      <td>61841</td>\n",
       "      <td>2023-08-24 00:37:10</td>\n",
       "    </tr>\n",
       "    <tr>\n",
       "      <th>14776</th>\n",
       "      <td>2023-08-23T04:36:36+00:00</td>\n",
       "      <td>2023-08-23T02:25:16+00:00</td>\n",
       "      <td>7529.0</td>\n",
       "      <td>Unoccupied</td>\n",
       "      <td>62712</td>\n",
       "      <td>2023-08-24 00:37:10</td>\n",
       "    </tr>\n",
       "    <tr>\n",
       "      <th>14777</th>\n",
       "      <td>2023-08-23T04:36:36+00:00</td>\n",
       "      <td>2023-08-23T04:29:43+00:00</td>\n",
       "      <td>7356.0</td>\n",
       "      <td>Unoccupied</td>\n",
       "      <td>61933</td>\n",
       "      <td>2023-08-24 00:37:10</td>\n",
       "    </tr>\n",
       "  </tbody>\n",
       "</table>\n",
       "<p>14778 rows × 6 columns</p>\n",
       "</div>"
      ],
      "text/plain": [
       "                     lastupdated           status_timestamp zone_number  \\\n",
       "0      2023-07-20T05:44:36+00:00  2023-07-19T21:24:38+00:00      7358.0   \n",
       "1      2023-07-20T05:44:36+00:00  2023-07-20T05:23:46+00:00      7358.0   \n",
       "2      2023-07-20T05:44:36+00:00  2023-07-20T04:46:01+00:00      7358.0   \n",
       "3      2023-07-24T06:44:36+00:00  2023-07-24T06:16:08+00:00      7638.0   \n",
       "4      2023-07-24T06:44:36+00:00  2023-07-24T05:50:20+00:00      7638.0   \n",
       "...                          ...                        ...         ...   \n",
       "14773  2023-08-23T04:36:36+00:00  2023-08-23T04:28:39+00:00      7363.0   \n",
       "14774  2023-08-23T04:36:36+00:00  2023-08-23T03:36:58+00:00      7454.0   \n",
       "14775  2023-08-23T04:36:36+00:00  2023-08-23T04:13:10+00:00      7363.0   \n",
       "14776  2023-08-23T04:36:36+00:00  2023-08-23T02:25:16+00:00      7529.0   \n",
       "14777  2023-08-23T04:36:36+00:00  2023-08-23T04:29:43+00:00      7356.0   \n",
       "\n",
       "      status_description parkingbay_id             datetime  \n",
       "0             Unoccupied          7075  2023-08-13 13:17:40  \n",
       "1                Present          7076  2023-08-13 13:17:40  \n",
       "2             Unoccupied          7077  2023-08-13 13:17:40  \n",
       "3             Unoccupied          5852  2023-08-13 13:17:40  \n",
       "4             Unoccupied          5874  2023-08-13 13:17:40  \n",
       "...                  ...           ...                  ...  \n",
       "14773            Present         61846  2023-08-24 00:37:10  \n",
       "14774            Present         60026  2023-08-24 00:37:10  \n",
       "14775            Present         61841  2023-08-24 00:37:10  \n",
       "14776         Unoccupied         62712  2023-08-24 00:37:10  \n",
       "14777         Unoccupied         61933  2023-08-24 00:37:10  \n",
       "\n",
       "[14778 rows x 6 columns]"
      ]
     },
     "metadata": {},
     "output_type": "display_data"
    }
   ],
   "source": [
    "loaded_df = pd.read_csv('parking_sensor_data.csv')\n",
    "display(loaded_df)"
   ]
  },
  {
   "cell_type": "code",
   "execution_count": 40,
   "metadata": {
    "tags": []
   },
   "outputs": [
    {
     "name": "stdout",
     "output_type": "stream",
     "text": [
      "['Unoccupied' 'Present']\n"
     ]
    }
   ],
   "source": [
    "print(df['status_description'].unique())"
   ]
  },
  {
   "cell_type": "code",
   "execution_count": 61,
   "metadata": {
    "tags": []
   },
   "outputs": [
    {
     "data": {
      "image/png": "[encoded data removed]",
      "text/plain": [
       "<Figure size 960x480 with 1 Axes>"
      ]
     },
     "metadata": {},
     "output_type": "display_data"
    },
    {
     "data": {
      "image/png": "[encoded data removed]",
      "text/plain": [
       "<Figure size 960x480 with 1 Axes>"
      ]
     },
     "metadata": {},
     "output_type": "display_data"
    }
   ],
   "source": [
    "import matplotlib.pyplot as plt\n",
    "import seaborn as sns\n",
    "import pandas as pd\n",
    "from datetime import datetime\n",
    "\n",
    "def get_daily_percentage_availability(df):\n",
    "    df = df.copy()\n",
    "    df['DayOfWeek'] = df['lastupdated'].dt.day_of_week\n",
    "    counts = df.groupby('DayOfWeek').status_description.value_counts().unstack().fillna(0)\n",
    "    counts['Percentage'] = counts['Unoccupied'] / (counts['Unoccupied'] + counts['Present'])\n",
    "    return counts.reset_index()[['DayOfWeek', 'Percentage']]\n",
    "\n",
    "def get_hourly_availability_trend(df):\n",
    "    df['Hours'] = df['lastupdated'].dt.hour\n",
    "    counts = df.groupby('Hours').status_description.value_counts().unstack().fillna(0)\n",
    "    \n",
    "    # Ensure both 'Unoccupied' and 'Present' columns exist\n",
    "    if 'Unoccupied' not in counts:\n",
    "        counts['Unoccupied'] = 0\n",
    "    if 'Present' not in counts:\n",
    "        counts['Present'] = 0\n",
    "\n",
    "    counts['Availability'] = counts['Unoccupied'] / (counts['Present'] + counts['Unoccupied'])\n",
    "    return counts.reset_index()[['Hours', 'Availability']]\n",
    "\n",
    "\n",
    "def visualize_trend(expected, current, x_column='DayOfWeek', y_column='Percentage'):\n",
    "    sns.set(font_scale=1.5)\n",
    "    plt.figure(figsize=(12, 6), dpi=80)\n",
    "    sns.set_style(\"whitegrid\")\n",
    "    plt.ylabel(\"% Available\", labelpad=14)\n",
    "    plt.title(\"Parking Availability\", y=1)\n",
    "    plt.bar(expected[x_column], expected[y_column], alpha=0.4, label=\"Expected\")\n",
    "    if current is not None:\n",
    "        plt.bar(current[x_column], current[y_column], alpha=0.4, label=\"Current\")\n",
    "    plt.legend(loc=\"lower left\", borderaxespad=1)\n",
    "    plt.show()\n",
    "\n",
    "# Filter out invalid date-time strings from 'lastupdated' column\n",
    "loaded_df = loaded_df[loaded_df['lastupdated'] != 'lastupdated']\n",
    "\n",
    "# Now, convert the 'lastupdated' column to datetime\n",
    "loaded_df['lastupdated'] = pd.to_datetime(loaded_df['lastupdated'])\n",
    "\n",
    "\n",
    "# Daily Analysis\n",
    "daily_percentage = get_daily_percentage_availability(loaded_df)\n",
    "current_df = loaded_df[loaded_df['lastupdated'].dt.date == datetime.now().date()]\n",
    "current_daily_percentage = get_daily_percentage_availability(current_df)\n",
    "visualize_trend(daily_percentage, current_daily_percentage)\n",
    "\n",
    "# Hourly Analysis\n",
    "expected_hourly = get_hourly_availability_trend(loaded_df)\n",
    "current_hour_df = loaded_df[loaded_df['lastupdated'].dt.hour == datetime.now().hour]\n",
    "current_hourly = get_hourly_availability_trend(current_hour_df)\n",
    "visualize_trend(expected_hourly, current_hourly, 'Hours', 'Availability')\n",
    "\n"
   ]
  },
  {
   "cell_type": "code",
   "execution_count": 58,
   "metadata": {
    "tags": []
   },
   "outputs": [
    {
     "name": "stderr",
     "output_type": "stream",
     "text": [
      "C:\\Users\\asas3\\AppData\\Local\\Temp\\ipykernel_23784\\1140071401.py:10: SettingWithCopyWarning: \n",
      "A value is trying to be set on a copy of a slice from a DataFrame.\n",
      "Try using .loc[row_indexer,col_indexer] = value instead\n",
      "\n",
      "See the caveats in the documentation: https://pandas.pydata.org/pandas-docs/stable/user_guide/indexing.html#returning-a-view-versus-a-copy\n",
      "  df['Date'] = df['lastupdated'].dt.date\n"
     ]
    },
    {
     "data": {
      "image/png": "[encoded data removed]",
      "text/plain": [
       "<Figure size 1200x600 with 1 Axes>"
      ]
     },
     "metadata": {},
     "output_type": "display_data"
    },
    {
     "ename": "AttributeError",
     "evalue": "'int' object has no attribute 'where'",
     "output_type": "error",
     "traceback": [
      "\u001b[1;31m---------------------------------------------------------------------------\u001b[0m",
      "\u001b[1;31mAttributeError\u001b[0m                            Traceback (most recent call last)",
      "Cell \u001b[1;32mIn[58], line 46\u001b[0m\n\u001b[0;32m     44\u001b[0m expected_hourly \u001b[38;5;241m=\u001b[39m get_hourly_availability_trend(loaded_df)\n\u001b[0;32m     45\u001b[0m current_hour_df \u001b[38;5;241m=\u001b[39m loaded_df[loaded_df[\u001b[38;5;124m'\u001b[39m\u001b[38;5;124mlastupdated\u001b[39m\u001b[38;5;124m'\u001b[39m]\u001b[38;5;241m.\u001b[39mdt\u001b[38;5;241m.\u001b[39mhour \u001b[38;5;241m==\u001b[39m datetime\u001b[38;5;241m.\u001b[39mnow()\u001b[38;5;241m.\u001b[39mhour]\n\u001b[1;32m---> 46\u001b[0m current_hourly \u001b[38;5;241m=\u001b[39m get_hourly_availability_trend(current_hour_df)\n\u001b[0;32m     47\u001b[0m visualize_trend(expected_hourly, current_hourly, \u001b[38;5;124m'\u001b[39m\u001b[38;5;124mHours\u001b[39m\u001b[38;5;124m'\u001b[39m, \u001b[38;5;124m'\u001b[39m\u001b[38;5;124mAvailability\u001b[39m\u001b[38;5;124m'\u001b[39m)\n",
      "Cell \u001b[1;32mIn[58], line 21\u001b[0m, in \u001b[0;36mget_hourly_availability_trend\u001b[1;34m(df)\u001b[0m\n\u001b[0;32m     19\u001b[0m \u001b[38;5;66;03m# Handle division by zero\u001b[39;00m\n\u001b[0;32m     20\u001b[0m denominator \u001b[38;5;241m=\u001b[39m (counts\u001b[38;5;241m.\u001b[39mget(\u001b[38;5;124m'\u001b[39m\u001b[38;5;124mPresent\u001b[39m\u001b[38;5;124m'\u001b[39m, \u001b[38;5;241m0\u001b[39m) \u001b[38;5;241m+\u001b[39m counts\u001b[38;5;241m.\u001b[39mget(\u001b[38;5;124m'\u001b[39m\u001b[38;5;124mUnoccupied\u001b[39m\u001b[38;5;124m'\u001b[39m, \u001b[38;5;241m0\u001b[39m))\n\u001b[1;32m---> 21\u001b[0m counts[\u001b[38;5;124m'\u001b[39m\u001b[38;5;124mAvailability\u001b[39m\u001b[38;5;124m'\u001b[39m] \u001b[38;5;241m=\u001b[39m counts\u001b[38;5;241m.\u001b[39mget(\u001b[38;5;124m'\u001b[39m\u001b[38;5;124mUnoccupied\u001b[39m\u001b[38;5;124m'\u001b[39m, \u001b[38;5;241m0\u001b[39m) \u001b[38;5;241m/\u001b[39m denominator\u001b[38;5;241m.\u001b[39mwhere(denominator \u001b[38;5;241m!=\u001b[39m \u001b[38;5;241m0\u001b[39m, \u001b[38;5;241m1\u001b[39m)\n\u001b[0;32m     23\u001b[0m \u001b[38;5;28;01mreturn\u001b[39;00m counts\u001b[38;5;241m.\u001b[39mreset_index()[[\u001b[38;5;124m'\u001b[39m\u001b[38;5;124mHours\u001b[39m\u001b[38;5;124m'\u001b[39m, \u001b[38;5;124m'\u001b[39m\u001b[38;5;124mAvailability\u001b[39m\u001b[38;5;124m'\u001b[39m]]\n",
      "\u001b[1;31mAttributeError\u001b[0m: 'int' object has no attribute 'where'"
     ]
    }
   ],
   "source": [
    "import pandas as pd\n",
    "import matplotlib.pyplot as plt\n",
    "from datetime import datetime\n",
    "\n",
    "# Load the data from the CSV file\n",
    "loaded_df = pd.read_csv('parking_sensor_data.csv')\n",
    "loaded_df['lastupdated'] = pd.to_datetime(loaded_df['lastupdated'], errors='coerce')\n",
    "\n",
    "def get_daily_percentage_availability(df):\n",
    "    df['Date'] = df['lastupdated'].dt.date\n",
    "    counts = df.groupby('Date').status_description.value_counts().unstack().fillna(0)\n",
    "    counts['Availability'] = counts.get('Unoccupied', 0) / (counts.get('Present', 0) + counts.get('Unoccupied', 0))\n",
    "    return counts.reset_index()[['Date', 'Availability']]\n",
    "\n",
    "def get_hourly_availability_trend(df):\n",
    "    df['Hours'] = df['lastupdated'].dt.hour\n",
    "    counts = df.groupby('Hours').status_description.value_counts().unstack().fillna(0)\n",
    "    \n",
    "    # Handle division by zero\n",
    "    denominator = (counts.get('Present', 0) + counts.get('Unoccupied', 0))\n",
    "    counts['Availability'] = counts.get('Unoccupied', 0) / denominator.where(denominator != 0, 1)\n",
    "    \n",
    "    return counts.reset_index()[['Hours', 'Availability']]\n",
    "\n",
    "\n",
    "def visualize_trend(expected, current, x_label, y_label):\n",
    "    plt.figure(figsize=(12, 6))\n",
    "    plt.plot(expected[x_label], expected[y_label], label='Expected', marker='o')\n",
    "    plt.plot(current[x_label], current[y_label], label='Current', marker='o', linestyle='--')\n",
    "    plt.xlabel(x_label)\n",
    "    plt.ylabel(y_label)\n",
    "    plt.title(f'{y_label} Trend based on {x_label}')\n",
    "    plt.legend()\n",
    "    plt.grid(True)\n",
    "    plt.show()\n",
    "\n",
    "# Daily Analysis\n",
    "daily_percentage = get_daily_percentage_availability(loaded_df)\n",
    "current_df = loaded_df[loaded_df['lastupdated'].dt.date == datetime.now().date()]\n",
    "current_daily_percentage = get_daily_percentage_availability(current_df)\n",
    "visualize_trend(daily_percentage, current_daily_percentage, 'Date', 'Availability')\n",
    "\n",
    "# Hourly Analysis\n",
    "expected_hourly = get_hourly_availability_trend(loaded_df)\n",
    "current_hour_df = loaded_df[loaded_df['lastupdated'].dt.hour == datetime.now().hour]\n",
    "current_hourly = get_hourly_availability_trend(current_hour_df)\n",
    "visualize_trend(expected_hourly, current_hourly, 'Hours', 'Availability')"
   ]
  },
  {
   "cell_type": "code",
   "execution_count": 53,
   "metadata": {
    "tags": []
   },
   "outputs": [
    {
     "name": "stdout",
     "output_type": "stream",
     "text": [
      "<DatetimeArray>\n",
      "['2023-07-20 05:44:36+00:00', '2023-07-24 06:44:36+00:00',\n",
      " '2023-07-26 21:02:36+00:00', '2023-07-27 00:44:35+00:00',\n",
      " '2023-08-02 06:16:36+00:00', '2023-08-06 23:06:35+00:00',\n",
      " '2023-08-13 03:16:36+00:00', '2023-08-09 23:22:36+00:00',\n",
      " '2023-08-13 03:20:36+00:00', '2023-08-15 01:44:36+00:00',\n",
      " '2023-08-21 04:44:36+00:00', '2023-08-23 04:36:36+00:00']\n",
      "Length: 12, dtype: datetime64[ns, UTC]\n"
     ]
    }
   ],
   "source": [
    "print(loaded_df['lastupdated'].unique())"
   ]
  },
  {
   "cell_type": "markdown",
   "metadata": {
    "id": "AdAatH_44dnM"
   },
   "source": [
    "### old"
   ]
  },
  {
   "cell_type": "code",
   "execution_count": null,
   "metadata": {},
   "outputs": [],
   "source": []
  },
  {
   "cell_type": "code",
   "execution_count": null,
   "metadata": {
    "id": "shEdc3kZ4dnM",
    "outputId": "d47fd565-6640-4b54-a02b-b117c6e76a81"
   },
   "outputs": [
    {
     "ename": "AttributeError",
     "evalue": "type object 'datetime.datetime' has no attribute 'timedelta'",
     "output_type": "error",
     "traceback": [
      "\u001b[1;31m---------------------------------------------------------------------------\u001b[0m",
      "\u001b[1;31mAttributeError\u001b[0m                            Traceback (most recent call last)",
      "\u001b[1;32m<ipython-input-91-c2fa79f1de36>\u001b[0m in \u001b[0;36m<module>\u001b[1;34m\u001b[0m\n\u001b[0;32m     28\u001b[0m \u001b[1;32mtry\u001b[0m\u001b[1;33m:\u001b[0m\u001b[1;33m\u001b[0m\u001b[1;33m\u001b[0m\u001b[0m\n\u001b[0;32m     29\u001b[0m     \u001b[1;32mwhile\u001b[0m \u001b[1;32mTrue\u001b[0m\u001b[1;33m:\u001b[0m\u001b[1;33m\u001b[0m\u001b[1;33m\u001b[0m\u001b[0m\n\u001b[1;32m---> 30\u001b[1;33m         \u001b[0mupdate_latest_parking_data\u001b[0m\u001b[1;33m(\u001b[0m\u001b[1;33m)\u001b[0m\u001b[1;33m\u001b[0m\u001b[1;33m\u001b[0m\u001b[0m\n\u001b[0m\u001b[0;32m     31\u001b[0m         \u001b[1;31m# wait for 15 minutes before fetching next latest\u001b[0m\u001b[1;33m\u001b[0m\u001b[1;33m\u001b[0m\u001b[1;33m\u001b[0m\u001b[0m\n\u001b[0;32m     32\u001b[0m         \u001b[0mtime\u001b[0m\u001b[1;33m.\u001b[0m\u001b[0msleep\u001b[0m\u001b[1;33m(\u001b[0m\u001b[1;36m15\u001b[0m\u001b[1;33m*\u001b[0m\u001b[1;36m60\u001b[0m\u001b[1;33m)\u001b[0m\u001b[1;33m\u001b[0m\u001b[1;33m\u001b[0m\u001b[0m\n",
      "\u001b[1;32m<ipython-input-91-c2fa79f1de36>\u001b[0m in \u001b[0;36mupdate_latest_parking_data\u001b[1;34m()\u001b[0m\n\u001b[0;32m     15\u001b[0m \u001b[1;31m#     df = pd.DataFrame(client.get(\"vh2v-4nfs\", limit=200000))\u001b[0m\u001b[1;33m\u001b[0m\u001b[1;33m\u001b[0m\u001b[1;33m\u001b[0m\u001b[0m\n\u001b[0;32m     16\u001b[0m     \u001b[0mnew_df\u001b[0m\u001b[1;33m.\u001b[0m\u001b[0mdrop\u001b[0m\u001b[1;33m(\u001b[0m\u001b[0mcolumns\u001b[0m \u001b[1;33m=\u001b[0m \u001b[1;33m[\u001b[0m\u001b[1;34m'location_lat'\u001b[0m\u001b[1;33m,\u001b[0m\u001b[1;34m'location_lon'\u001b[0m\u001b[1;33m,\u001b[0m \u001b[1;34m'lat'\u001b[0m\u001b[1;33m,\u001b[0m \u001b[1;34m'lon'\u001b[0m\u001b[1;33m]\u001b[0m\u001b[1;33m,\u001b[0m \u001b[0minplace\u001b[0m \u001b[1;33m=\u001b[0m \u001b[1;32mTrue\u001b[0m\u001b[1;33m)\u001b[0m\u001b[1;33m\u001b[0m\u001b[1;33m\u001b[0m\u001b[0m\n\u001b[1;32m---> 17\u001b[1;33m     \u001b[0mnew_df\u001b[0m\u001b[1;33m[\u001b[0m\u001b[1;34m'datetime'\u001b[0m\u001b[1;33m]\u001b[0m \u001b[1;33m=\u001b[0m \u001b[0mdatetime\u001b[0m\u001b[1;33m.\u001b[0m\u001b[0mtoday\u001b[0m\u001b[1;33m(\u001b[0m\u001b[1;33m)\u001b[0m\u001b[1;33m.\u001b[0m\u001b[0mreplace\u001b[0m\u001b[1;33m(\u001b[0m\u001b[0mmicrosecond\u001b[0m\u001b[1;33m=\u001b[0m\u001b[1;36m0\u001b[0m\u001b[1;33m)\u001b[0m \u001b[1;33m+\u001b[0m \u001b[0mdatetime\u001b[0m\u001b[1;33m.\u001b[0m\u001b[0mtimedelta\u001b[0m\u001b[1;33m(\u001b[0m\u001b[0mhours\u001b[0m \u001b[1;33m=\u001b[0m \u001b[1;36m10\u001b[0m\u001b[1;33m)\u001b[0m \u001b[1;31m#Melbourne Time\u001b[0m\u001b[1;33m\u001b[0m\u001b[1;33m\u001b[0m\u001b[0m\n\u001b[0m\u001b[0;32m     18\u001b[0m \u001b[1;33m\u001b[0m\u001b[0m\n\u001b[0;32m     19\u001b[0m     \u001b[1;31m# if file already exists than we just want to append to the file\u001b[0m\u001b[1;33m\u001b[0m\u001b[1;33m\u001b[0m\u001b[1;33m\u001b[0m\u001b[0m\n",
      "\u001b[1;31mAttributeError\u001b[0m: type object 'datetime.datetime' has no attribute 'timedelta'"
     ]
    }
   ],
   "source": [
    "from datetime import datetime\n",
    "from os.path import isfile\n",
    "\n",
    "# fetch the latest parkign data and append to parking sensor file collection\n",
    "def update_latest_parking_data():\n",
    "    df, url_next, column_names = get_data(BASE_URL,SENSOR_DATASET)\n",
    "    new_df =  pd.DataFrame(columns=column_names)\n",
    "    new_df = add_to_dataframe(new_df, df)\n",
    "    # Get the rest of the Dataset\n",
    "    while url_next != None:\n",
    "        df_new, url_next, column_names = get_data(BASE_URL,SENSOR_DATASET, new_df.shape[0])\n",
    "        new_df = add_to_dataframe(new_df, df_new)\n",
    "\n",
    "    # add another number to the csv\n",
    "#     df = pd.DataFrame(client.get(\"vh2v-4nfs\", limit=200000))\n",
    "    new_df.drop(columns = ['location_lat','location_lon', 'lat', 'lon'], inplace = True)\n",
    "    new_df['datetime'] = datetime.today().replace(microsecond=0) + datetime.timedelta(hours = 10) #Melbourne Time\n",
    "\n",
    "    # if file already exists than we just want to append to the file\n",
    "    # else we want to write a new file\n",
    "    write_mode = 'w' if isfile('parking_sensor_data.csv') else 'a'\n",
    "\n",
    "    new_df.to_csv('parking_sensor_data.csv', mode=write_mode, index = False)\n",
    "\n",
    "import time\n",
    "\n",
    "# simply press keys `ctrl + c` to stop the loop\n",
    "try:\n",
    "    while True:\n",
    "        update_latest_parking_data()\n",
    "        # wait for 15 minutes before fetching next latest\n",
    "        time.sleep(15*60)\n",
    "except KeyboardInterrupt:\n",
    "    print('Finished fetching parking data.')"
   ]
  },
  {
   "cell_type": "code",
   "execution_count": 15,
   "metadata": {
    "id": "01pkiRga4dnM",
    "outputId": "e54ea40e-92d8-49fd-986f-56c278f39a58",
    "tags": []
   },
   "outputs": [
    {
     "name": "stderr",
     "output_type": "stream",
     "text": [
      "C:\\Users\\asas3\\AppData\\Local\\Temp\\ipykernel_23784\\55761061.py:5: FutureWarning: The argument 'infer_datetime_format' is deprecated and will be removed in a future version. A strict version of it is now the default, see https://pandas.pydata.org/pdeps/0004-consistent-to-datetime-parsing.html. You can safely remove this argument.\n",
      "  df = pd.read_csv('parkingsensor.csv', parse_dates=True, infer_datetime_format=True)\n"
     ]
    },
    {
     "ename": "FileNotFoundError",
     "evalue": "[Errno 2] No such file or directory: 'parkingsensor.csv'",
     "output_type": "error",
     "traceback": [
      "\u001b[1;31m---------------------------------------------------------------------------\u001b[0m",
      "\u001b[1;31mFileNotFoundError\u001b[0m                         Traceback (most recent call last)",
      "Cell \u001b[1;32mIn[15], line 5\u001b[0m\n\u001b[0;32m      3\u001b[0m \u001b[38;5;28;01mimport\u001b[39;00m \u001b[38;5;21;01mseaborn\u001b[39;00m \u001b[38;5;28;01mas\u001b[39;00m \u001b[38;5;21;01msns\u001b[39;00m\n\u001b[0;32m      4\u001b[0m \u001b[38;5;66;03m# load data from csv file\u001b[39;00m\n\u001b[1;32m----> 5\u001b[0m df \u001b[38;5;241m=\u001b[39m pd\u001b[38;5;241m.\u001b[39mread_csv(\u001b[38;5;124m'\u001b[39m\u001b[38;5;124mparkingsensor.csv\u001b[39m\u001b[38;5;124m'\u001b[39m, parse_dates\u001b[38;5;241m=\u001b[39m\u001b[38;5;28;01mTrue\u001b[39;00m, infer_datetime_format\u001b[38;5;241m=\u001b[39m\u001b[38;5;28;01mTrue\u001b[39;00m)\n\u001b[0;32m      6\u001b[0m df[\u001b[38;5;124m'\u001b[39m\u001b[38;5;124mdatetime\u001b[39m\u001b[38;5;124m'\u001b[39m] \u001b[38;5;241m=\u001b[39m pd\u001b[38;5;241m.\u001b[39mto_datetime(df[\u001b[38;5;124m'\u001b[39m\u001b[38;5;124mdatetime\u001b[39m\u001b[38;5;124m'\u001b[39m], infer_datetime_format\u001b[38;5;241m=\u001b[39m\u001b[38;5;28;01mTrue\u001b[39;00m, utc\u001b[38;5;241m=\u001b[39m\u001b[38;5;28;01mTrue\u001b[39;00m)\n\u001b[0;32m      8\u001b[0m \u001b[38;5;66;03m# subset of data for only todays date\u001b[39;00m\n",
      "File \u001b[1;32m~\\.conda\\envs\\Python311_R361\\Lib\\site-packages\\pandas\\io\\parsers\\readers.py:912\u001b[0m, in \u001b[0;36mread_csv\u001b[1;34m(filepath_or_buffer, sep, delimiter, header, names, index_col, usecols, dtype, engine, converters, true_values, false_values, skipinitialspace, skiprows, skipfooter, nrows, na_values, keep_default_na, na_filter, verbose, skip_blank_lines, parse_dates, infer_datetime_format, keep_date_col, date_parser, date_format, dayfirst, cache_dates, iterator, chunksize, compression, thousands, decimal, lineterminator, quotechar, quoting, doublequote, escapechar, comment, encoding, encoding_errors, dialect, on_bad_lines, delim_whitespace, low_memory, memory_map, float_precision, storage_options, dtype_backend)\u001b[0m\n\u001b[0;32m    899\u001b[0m kwds_defaults \u001b[38;5;241m=\u001b[39m _refine_defaults_read(\n\u001b[0;32m    900\u001b[0m     dialect,\n\u001b[0;32m    901\u001b[0m     delimiter,\n\u001b[1;32m   (...)\u001b[0m\n\u001b[0;32m    908\u001b[0m     dtype_backend\u001b[38;5;241m=\u001b[39mdtype_backend,\n\u001b[0;32m    909\u001b[0m )\n\u001b[0;32m    910\u001b[0m kwds\u001b[38;5;241m.\u001b[39mupdate(kwds_defaults)\n\u001b[1;32m--> 912\u001b[0m \u001b[38;5;28;01mreturn\u001b[39;00m _read(filepath_or_buffer, kwds)\n",
      "File \u001b[1;32m~\\.conda\\envs\\Python311_R361\\Lib\\site-packages\\pandas\\io\\parsers\\readers.py:577\u001b[0m, in \u001b[0;36m_read\u001b[1;34m(filepath_or_buffer, kwds)\u001b[0m\n\u001b[0;32m    574\u001b[0m _validate_names(kwds\u001b[38;5;241m.\u001b[39mget(\u001b[38;5;124m\"\u001b[39m\u001b[38;5;124mnames\u001b[39m\u001b[38;5;124m\"\u001b[39m, \u001b[38;5;28;01mNone\u001b[39;00m))\n\u001b[0;32m    576\u001b[0m \u001b[38;5;66;03m# Create the parser.\u001b[39;00m\n\u001b[1;32m--> 577\u001b[0m parser \u001b[38;5;241m=\u001b[39m TextFileReader(filepath_or_buffer, \u001b[38;5;241m*\u001b[39m\u001b[38;5;241m*\u001b[39mkwds)\n\u001b[0;32m    579\u001b[0m \u001b[38;5;28;01mif\u001b[39;00m chunksize \u001b[38;5;129;01mor\u001b[39;00m iterator:\n\u001b[0;32m    580\u001b[0m     \u001b[38;5;28;01mreturn\u001b[39;00m parser\n",
      "File \u001b[1;32m~\\.conda\\envs\\Python311_R361\\Lib\\site-packages\\pandas\\io\\parsers\\readers.py:1407\u001b[0m, in \u001b[0;36mTextFileReader.__init__\u001b[1;34m(self, f, engine, **kwds)\u001b[0m\n\u001b[0;32m   1404\u001b[0m     \u001b[38;5;28mself\u001b[39m\u001b[38;5;241m.\u001b[39moptions[\u001b[38;5;124m\"\u001b[39m\u001b[38;5;124mhas_index_names\u001b[39m\u001b[38;5;124m\"\u001b[39m] \u001b[38;5;241m=\u001b[39m kwds[\u001b[38;5;124m\"\u001b[39m\u001b[38;5;124mhas_index_names\u001b[39m\u001b[38;5;124m\"\u001b[39m]\n\u001b[0;32m   1406\u001b[0m \u001b[38;5;28mself\u001b[39m\u001b[38;5;241m.\u001b[39mhandles: IOHandles \u001b[38;5;241m|\u001b[39m \u001b[38;5;28;01mNone\u001b[39;00m \u001b[38;5;241m=\u001b[39m \u001b[38;5;28;01mNone\u001b[39;00m\n\u001b[1;32m-> 1407\u001b[0m \u001b[38;5;28mself\u001b[39m\u001b[38;5;241m.\u001b[39m_engine \u001b[38;5;241m=\u001b[39m \u001b[38;5;28mself\u001b[39m\u001b[38;5;241m.\u001b[39m_make_engine(f, \u001b[38;5;28mself\u001b[39m\u001b[38;5;241m.\u001b[39mengine)\n",
      "File \u001b[1;32m~\\.conda\\envs\\Python311_R361\\Lib\\site-packages\\pandas\\io\\parsers\\readers.py:1661\u001b[0m, in \u001b[0;36mTextFileReader._make_engine\u001b[1;34m(self, f, engine)\u001b[0m\n\u001b[0;32m   1659\u001b[0m     \u001b[38;5;28;01mif\u001b[39;00m \u001b[38;5;124m\"\u001b[39m\u001b[38;5;124mb\u001b[39m\u001b[38;5;124m\"\u001b[39m \u001b[38;5;129;01mnot\u001b[39;00m \u001b[38;5;129;01min\u001b[39;00m mode:\n\u001b[0;32m   1660\u001b[0m         mode \u001b[38;5;241m+\u001b[39m\u001b[38;5;241m=\u001b[39m \u001b[38;5;124m\"\u001b[39m\u001b[38;5;124mb\u001b[39m\u001b[38;5;124m\"\u001b[39m\n\u001b[1;32m-> 1661\u001b[0m \u001b[38;5;28mself\u001b[39m\u001b[38;5;241m.\u001b[39mhandles \u001b[38;5;241m=\u001b[39m get_handle(\n\u001b[0;32m   1662\u001b[0m     f,\n\u001b[0;32m   1663\u001b[0m     mode,\n\u001b[0;32m   1664\u001b[0m     encoding\u001b[38;5;241m=\u001b[39m\u001b[38;5;28mself\u001b[39m\u001b[38;5;241m.\u001b[39moptions\u001b[38;5;241m.\u001b[39mget(\u001b[38;5;124m\"\u001b[39m\u001b[38;5;124mencoding\u001b[39m\u001b[38;5;124m\"\u001b[39m, \u001b[38;5;28;01mNone\u001b[39;00m),\n\u001b[0;32m   1665\u001b[0m     compression\u001b[38;5;241m=\u001b[39m\u001b[38;5;28mself\u001b[39m\u001b[38;5;241m.\u001b[39moptions\u001b[38;5;241m.\u001b[39mget(\u001b[38;5;124m\"\u001b[39m\u001b[38;5;124mcompression\u001b[39m\u001b[38;5;124m\"\u001b[39m, \u001b[38;5;28;01mNone\u001b[39;00m),\n\u001b[0;32m   1666\u001b[0m     memory_map\u001b[38;5;241m=\u001b[39m\u001b[38;5;28mself\u001b[39m\u001b[38;5;241m.\u001b[39moptions\u001b[38;5;241m.\u001b[39mget(\u001b[38;5;124m\"\u001b[39m\u001b[38;5;124mmemory_map\u001b[39m\u001b[38;5;124m\"\u001b[39m, \u001b[38;5;28;01mFalse\u001b[39;00m),\n\u001b[0;32m   1667\u001b[0m     is_text\u001b[38;5;241m=\u001b[39mis_text,\n\u001b[0;32m   1668\u001b[0m     errors\u001b[38;5;241m=\u001b[39m\u001b[38;5;28mself\u001b[39m\u001b[38;5;241m.\u001b[39moptions\u001b[38;5;241m.\u001b[39mget(\u001b[38;5;124m\"\u001b[39m\u001b[38;5;124mencoding_errors\u001b[39m\u001b[38;5;124m\"\u001b[39m, \u001b[38;5;124m\"\u001b[39m\u001b[38;5;124mstrict\u001b[39m\u001b[38;5;124m\"\u001b[39m),\n\u001b[0;32m   1669\u001b[0m     storage_options\u001b[38;5;241m=\u001b[39m\u001b[38;5;28mself\u001b[39m\u001b[38;5;241m.\u001b[39moptions\u001b[38;5;241m.\u001b[39mget(\u001b[38;5;124m\"\u001b[39m\u001b[38;5;124mstorage_options\u001b[39m\u001b[38;5;124m\"\u001b[39m, \u001b[38;5;28;01mNone\u001b[39;00m),\n\u001b[0;32m   1670\u001b[0m )\n\u001b[0;32m   1671\u001b[0m \u001b[38;5;28;01massert\u001b[39;00m \u001b[38;5;28mself\u001b[39m\u001b[38;5;241m.\u001b[39mhandles \u001b[38;5;129;01mis\u001b[39;00m \u001b[38;5;129;01mnot\u001b[39;00m \u001b[38;5;28;01mNone\u001b[39;00m\n\u001b[0;32m   1672\u001b[0m f \u001b[38;5;241m=\u001b[39m \u001b[38;5;28mself\u001b[39m\u001b[38;5;241m.\u001b[39mhandles\u001b[38;5;241m.\u001b[39mhandle\n",
      "File \u001b[1;32m~\\.conda\\envs\\Python311_R361\\Lib\\site-packages\\pandas\\io\\common.py:859\u001b[0m, in \u001b[0;36mget_handle\u001b[1;34m(path_or_buf, mode, encoding, compression, memory_map, is_text, errors, storage_options)\u001b[0m\n\u001b[0;32m    854\u001b[0m \u001b[38;5;28;01melif\u001b[39;00m \u001b[38;5;28misinstance\u001b[39m(handle, \u001b[38;5;28mstr\u001b[39m):\n\u001b[0;32m    855\u001b[0m     \u001b[38;5;66;03m# Check whether the filename is to be opened in binary mode.\u001b[39;00m\n\u001b[0;32m    856\u001b[0m     \u001b[38;5;66;03m# Binary mode does not support 'encoding' and 'newline'.\u001b[39;00m\n\u001b[0;32m    857\u001b[0m     \u001b[38;5;28;01mif\u001b[39;00m ioargs\u001b[38;5;241m.\u001b[39mencoding \u001b[38;5;129;01mand\u001b[39;00m \u001b[38;5;124m\"\u001b[39m\u001b[38;5;124mb\u001b[39m\u001b[38;5;124m\"\u001b[39m \u001b[38;5;129;01mnot\u001b[39;00m \u001b[38;5;129;01min\u001b[39;00m ioargs\u001b[38;5;241m.\u001b[39mmode:\n\u001b[0;32m    858\u001b[0m         \u001b[38;5;66;03m# Encoding\u001b[39;00m\n\u001b[1;32m--> 859\u001b[0m         handle \u001b[38;5;241m=\u001b[39m \u001b[38;5;28mopen\u001b[39m(\n\u001b[0;32m    860\u001b[0m             handle,\n\u001b[0;32m    861\u001b[0m             ioargs\u001b[38;5;241m.\u001b[39mmode,\n\u001b[0;32m    862\u001b[0m             encoding\u001b[38;5;241m=\u001b[39mioargs\u001b[38;5;241m.\u001b[39mencoding,\n\u001b[0;32m    863\u001b[0m             errors\u001b[38;5;241m=\u001b[39merrors,\n\u001b[0;32m    864\u001b[0m             newline\u001b[38;5;241m=\u001b[39m\u001b[38;5;124m\"\u001b[39m\u001b[38;5;124m\"\u001b[39m,\n\u001b[0;32m    865\u001b[0m         )\n\u001b[0;32m    866\u001b[0m     \u001b[38;5;28;01melse\u001b[39;00m:\n\u001b[0;32m    867\u001b[0m         \u001b[38;5;66;03m# Binary mode\u001b[39;00m\n\u001b[0;32m    868\u001b[0m         handle \u001b[38;5;241m=\u001b[39m \u001b[38;5;28mopen\u001b[39m(handle, ioargs\u001b[38;5;241m.\u001b[39mmode)\n",
      "\u001b[1;31mFileNotFoundError\u001b[0m: [Errno 2] No such file or directory: 'parkingsensor.csv'"
     ]
    }
   ],
   "source": [
    "import matplotlib.pyplot as plt\n",
    "from matplotlib.pyplot import figure\n",
    "import seaborn as sns\n",
    "# load data from csv file\n",
    "df = pd.read_csv('parkingsensor.csv', parse_dates=True, infer_datetime_format=True)\n",
    "df['datetime'] = pd.to_datetime(df['datetime'], infer_datetime_format=True, utc=True)\n",
    "\n",
    "# subset of data for only todays date\n",
    "current_df = df[df['datetime'].dt.date == datetime.now().date()]\n",
    "\n",
    "# subset of data for only current hour\n",
    "current_hour_df = df[df['datetime'].dt.hour == datetime.now().hour]\n",
    "\n",
    "'''\n",
    "This function will take in a data frame with entries for each sensor with respective day of week, and status columns\n",
    "and return a dataframe of the form [{'DayOfWeek': string, 'Percentage': float32}]\n",
    "'''\n",
    "def get_daily_percentage_availability(df):\n",
    "    df['DayOfWeek'] = df['datetime'].dt.day_of_week\n",
    "    DailyParkingCounts = df.groupby('DayOfWeek').status.value_counts()\n",
    "    DailyParkingCounts = DailyParkingCounts.unstack().reset_index()\n",
    "    DailyParkingCounts['Percentage'] = (DailyParkingCounts['Unoccupied'] / (DailyParkingCounts['Unoccupied'] + DailyParkingCounts['Present']))\n",
    "    DailyParkingCounts.reset_index(drop=True)\n",
    "    return DailyParkingCounts[['DayOfWeek', 'Percentage']]\n",
    "\n",
    "'''\n",
    "Same as above function except deal with hourly availability as opposed to daily\n",
    "'''\n",
    "def get_hourly_availability_trend(df):\n",
    "    df['Hours'] = df['datetime'].dt.hour\n",
    "    DailyAvailability = df.groupby('Hours').status.value_counts()\n",
    "    DailyAvailability = DailyAvailability.unstack().reset_index()\n",
    "    DailyAvailability['Availability'] = DailyAvailability['Unoccupied'] / (DailyAvailability['Present'] + DailyAvailability['Unoccupied'])\n",
    "    DailyAvailability = DailyAvailability.reset_index(drop=True)\n",
    "    return DailyAvailability[['Hours', 'Availability']]\n",
    "\n",
    "'''\n",
    "    This function takes in an expected daily trend DataFrame as produced by the function above,\n",
    "    and also a smaller 'current' DataFrame which has the same schema but with data only covering the current day\n",
    "    of parking sensor activity.\n",
    "\n",
    "    The output will be a visualization of the expected and current trends\n",
    "'''\n",
    "def visualize_trend(expected, current, x_column='DayOfWeek', y_column = 'Percentage'):\n",
    "    # Visualize the results\n",
    "    sns.set(font_scale=1.5)\n",
    "    plt.figure(figsize=(12, 6), dpi=80)\n",
    "    sns.set_style(\"whitegrid\")\n",
    "\n",
    "    plt.ylabel(\"% Available\", labelpad=14)\n",
    "    plt.title(\"Parking Availability\", y=1)\n",
    "\n",
    "    plt.bar(expected[x_column], expected[y_column], alpha=0.4 , label=\"Expected\")\n",
    "    plt.bar(current[x_column], current[y_column], alpha=0.4 , label=\"Current\")\n",
    "    # plt.bar(WednesdayCount['Day_Of_Week'], WednesdayCount['Parking_Availabilities'],alpha=0.4, label=\"Available Now\")\n",
    "    plt.legend(loc =\"lower left\", borderaxespad=1)\n",
    "    plt.show()\n",
    "\n",
    "### Daily Analysis\n",
    "daily_percentage = get_daily_percentage_availability(df)\n",
    "# perform analysis limited to today\n",
    "current_daily_percentage = get_daily_percentage_availability(current_df)\n",
    "#visualize daily results\n",
    "visualize_trend(daily_percentage, current_daily_percentage)\n",
    "\n",
    "### Hourly Analysis\n",
    "expected_hourly = get_hourly_availability_trend(df)\n",
    "current_hourly = get_hourly_availability_trend(current_hour_df)\n",
    "visualize_trend(expected_hourly, current_hourly, 'Hours', 'Availability')\n",
    "\n",
    "\n",
    "\n",
    "\n"
   ]
  },
  {
   "cell_type": "code",
   "execution_count": null,
   "metadata": {},
   "outputs": [],
   "source": []
  }
 ],
 "metadata": {
  "accelerator": "GPU",
  "colab": {
   "gpuType": "A100",
   "provenance": []
  },
  "kernelspec": {
   "display_name": "Python 3 (ipykernel)",
   "language": "python",
   "name": "python3"
  },
  "language_info": {
   "codemirror_mode": {
    "name": "ipython",
    "version": 3
   },
   "file_extension": ".py",
   "mimetype": "text/x-python",
   "name": "python",
   "nbconvert_exporter": "python",
   "pygments_lexer": "ipython3",
   "version": "3.11.4"
  },
  "vscode": {
   "interpreter": {
    "hash": "369f2c481f4da34e4445cda3fffd2e751bd1c4d706f27375911949ba6bb62e1c"
   }
  }
 },
 "nbformat": 4,
 "nbformat_minor": 4
}
