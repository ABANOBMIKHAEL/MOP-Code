{
 "cells": [
  {
   "cell_type": "markdown",
   "id": "ffee6100-7cc1-4fbc-857b-3f1e291a5547",
   "metadata": {},
   "source": [
    "# SIT731 T3: Task 1P"
   ]
  },
  {
   "cell_type": "markdown",
   "id": "60aeef02-a455-448c-9991-fa55e52edc52",
   "metadata": {},
   "source": [
    "* **Name**: Manasa Nagaraja \n",
    "* **Student Number**: 222586756 \n",
    "* **Email Address**: s222586756@deakin.edu.au\n",
    "* **PostGraduate**: SIT731"
   ]
  },
  {
   "cell_type": "markdown",
   "id": "97441992-7abf-4437-9d04-bda22244a459",
   "metadata": {},
   "source": [
    "# Introduction"
   ]
  },
  {
   "cell_type": "markdown",
   "id": "a147acce-be00-4a0b-890d-47cd314c7e78",
   "metadata": {},
   "source": [
    "In Task 1P we learn about the iteration using a for loop and conditional statements and Data visualizations in Python using Libraries in this code we  will Input three Python lists of identical lengths lists for name, heights and weights and A for loop iterates through the lists  to print the name,height, and weight of each individual."
   ]
  },
  {
   "cell_type": "markdown",
   "id": "c61a6567-8829-4bec-b0fc-bf49286a6b8b",
   "metadata": {},
   "source": [
    "**Code Blocks**"
   ]
  },
  {
   "cell_type": "code",
   "execution_count": 78,
   "id": "9e8b76a0-288b-442b-903b-ab5b8d0b800d",
   "metadata": {},
   "outputs": [
    {
     "name": "stdout",
     "output_type": "stream",
     "text": [
      "Name: Manu, Height: 173 cm, Weight: 61 kg\n",
      "Name: Nishu, Height: 161 cm, Weight: 79 kg\n",
      "Name: Kats, Height: 180 cm, Weight: 83 kg\n",
      "Name: Matt, Height: 158 cm, Weight: 58 kg\n",
      "Name: Nagi, Height: 177 cm, Weight: 57 kg\n"
     ]
    }
   ],
   "source": [
    "import matplotlib.pyplot as plt\n",
    "# Loading the  Basic data\n",
    "names = [\"Manu\", \"Nishu\", \"Kats\", \"Matt\", \"Nagi\"]\n",
    "heights = [173, 161, 180, 158, 177]  # in cms\n",
    "weights = [61, 79, 83, 58, 57]  # in kgs\n",
    "\n",
    "# To Display the data\n",
    "for i in range(len(names)): # Loop iterates through each person's data and \n",
    "    print(f\"Name: {names[i]}, Height: {heights[i]} cm, Weight: {weights[i]} kg\") # prints their name, height, and weight.\n"
   ]
  },
  {
   "cell_type": "markdown",
   "id": "f3eb113e-ffef-488c-8bd0-f4da7905a749",
   "metadata": {},
   "source": [
    "**The code defines lists representing names, heights, and weights of individuals and for loop is used to print the entered data,\n",
    "and print statements provide a clear and readable display of the information**"
   ]
  },
  {
   "cell_type": "markdown",
   "id": "6c23db9b-1d1e-4c2c-ac32-ec7864c518bc",
   "metadata": {},
   "source": [
    "In the below code defines a function value_bmi that takes two lists ('weights' and 'heights') as input, calculates regular BMI and a new BMI with exponent 2.5 for each corresponding weight and height pair, and returns two lists ('rg_bmis' and 'new_bmis') containing the calculated BMI values. The main script initializes an empty list 'bmis' and then calls the function with specific weight and height data, storing the results in 'rg_bmis' and 'new_bmis'.In the for loop we Convert height to meters and use the BMI formula where weight (kg) / height^2 (m^2) and Add the calculated BMI to the list"
   ]
  },
  {
   "cell_type": "markdown",
   "id": "551225e3-d341-4579-bef5-ace368152f63",
   "metadata": {},
   "source": [
    "**Code Block**"
   ]
  },
  {
   "cell_type": "code",
   "execution_count": 79,
   "id": "cf22120c-a898-43c0-9a64-b425abf845b6",
   "metadata": {},
   "outputs": [],
   "source": [
    "#Define a function to calculate regular BMI and a new BMI with exponent 2.5\n",
    "def value_bmi(weights, heights): \n",
    "    rg_bmis = []\n",
    "    new_bmis = []\n",
    "\n",
    "    for i in range(len(weights)):\n",
    "        height_in_meters = heights[i] / 100  # Converting height to meters\n",
    "\n",
    "        # Regular BMI calculation\n",
    "        rg_bmi = weights[i] / (height_in_meters ** 2)\n",
    "        rg_bmis.append(rg_bmi)\n",
    "\n",
    "        # New BMI calculation with exponent 2.5\n",
    "        new_bmi = 1.3 * (weights[i] / (height_in_meters ** 2.5))\n",
    "        new_bmis.append(new_bmi)\n",
    "\n",
    "    return rg_bmis, new_bmis # return the lists of regular and new BMI Values\n",
    "\n",
    "# Call the function and get the results\n",
    "rg_bmis, new_bmis = value_bmi(weights, heights)"
   ]
  },
  {
   "cell_type": "markdown",
   "id": "3faee9c4-7ce3-46d6-83d2-1a71fd03e9bc",
   "metadata": {},
   "source": [
    "**The code defines a function to calculate regular and new BMI values based on provided weights and heights, and it demonstrates how to call the function with specific data to obtain the results.The for loop iterates through the names list and calculates the BMI for each individual based on their height and weight and the function value_bmi is called with arguments weights and heights. The returned values, which are lists of regular and new BMI values, are assigned to the variables rg_bmis and new_bmis.**"
   ]
  },
  {
   "cell_type": "code",
   "execution_count": null,
   "id": "71678fe8-424d-468c-917c-2150bb635904",
   "metadata": {},
   "outputs": [],
   "source": []
  },
  {
   "cell_type": "markdown",
   "id": "7e4ffc86-41d2-4415-8277-cfcbd489776e",
   "metadata": {},
   "source": [
    "In below code we will have to Categorize individuals based on their BMI and print the results and the for loop iterates through each person's data, where i represents the index of the person in the lists of names and BMIs and Inside the loop, it extracts the name and BMI of the current person for ease of reference and It checks the BMI against defined ranges to determine the person's BMI category (underweight, normal, overweight, or obese)\n",
    "and then It then prints a formatted statement for each person, indicating their name, BMI and Category"
   ]
  },
  {
   "cell_type": "markdown",
   "id": "0bb9d264-eb6e-4cc5-a898-623b51fab3de",
   "metadata": {},
   "source": [
    "**Code Block**"
   ]
  },
  {
   "cell_type": "code",
   "execution_count": 80,
   "id": "ee492ff4-b9ab-4b71-a1c3-47682a748d0c",
   "metadata": {},
   "outputs": [
    {
     "name": "stdout",
     "output_type": "stream",
     "text": [
      "##Manu\t    has BMI of 20.38 which is normal.\n",
      "##Nishu\t    has BMI of 30.48 which is obese.\n",
      "##Kats\t    has BMI of 25.62 which is overweight.\n",
      "##Matt\t    has BMI of 23.23 which is normal.\n",
      "##Nagi\t    has BMI of 18.19 which is underweight.\n"
     ]
    }
   ],
   "source": [
    "for i in range(len(names)):\n",
    "    name = names[i]\n",
    "    rg_bmi = rg_bmis[i]\n",
    "\n",
    "    if rg_bmi < 18.5:\n",
    "        bmi_category = \"underweight\" \n",
    "       \n",
    "    elif  rg_bmi < 25.0:\n",
    "        bmi_category = \"normal\" #i.e bmi in (18.5 to 25 ) is normal\n",
    "     \n",
    "    elif  rg_bmi < 30.0:\n",
    "        bmi_category = \"overweight\" #i.e bmi in (25 to 30 ) is overweight\n",
    "     \n",
    "    else:\n",
    "        bmi_category = \"obese\" #i.e bmi >= 30 is obese \n",
    "  \n",
    "\n",
    "    print(f\"##{name}\\t    has BMI of {rg_bmi:.2f} which is {bmi_category}.\") # To Display the data"
   ]
  },
  {
   "cell_type": "markdown",
   "id": "9ee99543-bb0b-484a-b29a-e569a3581814",
   "metadata": {},
   "source": [
    "**A for loop iterates through the 'names' and 'bmis' lists. For each individual,and  it determines the BMI category\n",
    "based on the thresholds and this code helps in categorizing individuals based on their BMI and printing a descriptive statement for each person, making it easier to interpret and understand their health status.**"
   ]
  },
  {
   "cell_type": "code",
   "execution_count": null,
   "id": "acb442d9-414b-4f59-aea3-7ca39b3097a0",
   "metadata": {},
   "outputs": [],
   "source": []
  },
  {
   "cell_type": "markdown",
   "id": "1ab884e4-3b9c-4b20-8059-135184ad8e48",
   "metadata": {},
   "source": [
    "In the below Code we create a bar plot to visualize BMI values with colors based on categories and The code goes through each person's BMI and assigns them a category and determined categories are stored in the bmi_categories list and It checks the BMI against defined ranges to determine the person's BMI category (underweight, normal, overweight, or obese)and then It then prints a formatted statement for each person, indicating their name, BMI and Category and Using matplotlib, a bar plot is created. Each bar represents a person's BMI, and the color of the bar is determined by their BMI category. The colors are taken from the categories_colors and plot y-axis label of 'BMI' and a title and set at intervals of 5 and we have displayed the plot but using plt.show()"
   ]
  },
  {
   "cell_type": "markdown",
   "id": "c952c601-331d-47eb-a653-13fa0dcc5f65",
   "metadata": {},
   "source": [
    "**Code Block**"
   ]
  },
  {
   "cell_type": "code",
   "execution_count": 81,
   "id": "b209d547-b60f-4263-b16c-c1990daa3dbd",
   "metadata": {},
   "outputs": [
    {
     "data": {
      "image/png": "[encoded data removed]",
      "text/plain": [
       "<Figure size 640x480 with 1 Axes>"
      ]
     },
     "metadata": {},
     "output_type": "display_data"
    }
   ],
   "source": [
    "categories_colors = {\n",
    "    \"underweight\": \"skyblue\",\n",
    "    \"normal\": \"antiquewhite\",\n",
    "    \"overweight\": \"pink\",\n",
    "    \"obese\": \"firebrick\"\n",
    "}\n",
    "\n",
    "# List to store BMI categories\n",
    "bmi_categories = []\n",
    "\n",
    "# Determine BMI categories for each person\n",
    "for rg_bmi in rg_bmis:\n",
    "    if rg_bmi < 18.5:\n",
    "        bmi_category = \"underweight\"\n",
    "    elif 18.5 <= rg_bmi < 25.0:\n",
    "        bmi_category = \"normal\"  # i.e BMI in [18.5, 25) is normal\n",
    "    elif 25.0 <= rg_bmi < 30.0:\n",
    "        bmi_category = \"overweight\"  # i.e BMI in [25, 30) is overweight\n",
    "    else:\n",
    "        bmi_category = \"obese\"  # i.e BMI >= 30 is obese\n",
    "\n",
    "    bmi_categories.append(bmi_category)\n",
    "\n",
    "# To create a bar plot\n",
    "fig, ax = plt.subplots()\n",
    "bars = ax.bar(names, rg_bmis, color=[categories_colors[category] for category in bmi_categories])\n",
    "\n",
    "# To add labels and title\n",
    "ax.set_ylabel('BMI')\n",
    "ax.set_title(\"My Friends' BMIs\")\n",
    "\n",
    "ax.set_yticks(range(0, 35, 5))\n",
    "\n",
    "# To Display the plot\n",
    "plt.show()"
   ]
  },
  {
   "cell_type": "markdown",
   "id": "46cd1d44-56be-464c-8a0e-5899f7767346",
   "metadata": {},
   "source": [
    "**Matplotlib is used to create a bar plot. Each bar is colored according to its BMI category,\n",
    "utilizing the predefined colors from 'categories_colors'. Labels, title, and y-axis ticks are added for clarity and This visualization enhances\n",
    "the interpretation of BMI data and provides a clear comparison of individuals weight and their status**"
   ]
  },
  {
   "cell_type": "code",
   "execution_count": null,
   "id": "f9c082c2-743d-4eed-9b98-e806309c038f",
   "metadata": {},
   "outputs": [],
   "source": []
  },
  {
   "cell_type": "markdown",
   "id": "8562d843-1a60-42e9-85d8-18eab400ff02",
   "metadata": {},
   "source": [
    "\n",
    "## The BMI (Body Mass Index) \n",
    "\n",
    "BMI  is a reasonable indicator of body fat for both adults and children and It should be used as a measure to track weight status in populations\n",
    "and as a screening tool to identify potential weight problems in individuals and  is used to assess body weight in relation to height,\n",
    "and while it serves as a quick and easy measure for evaluating general health, it has its share of benefits and limitations.\n",
    "\n",
    "The Benefits are from medical perspective :\n",
    "\n",
    "* It provides a quick screening tool for healthcare professionals to identify potential weight-related issues and also  reducing the risk of heart\n",
    "  disease,diabetes, stroke, and high blood pressure, maintaining a healthy weight can also lower the risk of several different types of cancer.\n",
    "* It is a useful initial assessment tool for identifying individuals who may need further evaluation or intervention.\n",
    "  and from From a societal perspective, the benefits of BMI lie in its accessibility and applicability to large populations. \n",
    "* It provides a standardized measure that can be easily communicated and understood by the general public.\n",
    "\n",
    "The Limitation of BMI for both medical and Societal are that it doesn't differentiate between muscle and fat and As muscle weighs more than fat, \n",
    "individuals with a high muscle mass may be classified as overweight or obese, even if they have a low body fat percentage. Depending on BMI for \n",
    "health assessments can lead to stigmatization and discrimination.Using BMI as the sole criterion for defining beauty standards or eligibility for \n",
    "certain jobs can perpetuate unrealistic body ideals and contribute to body image issues.It does not account for variations in body composition \n",
    "among different ethnicities and does not consider lifestyle factors.\n",
    "                                                                                                           \n",
    "From a medical perspective, BMI serves as an initial screening tool, but its accuracy in assessing individual health is limited. Societally, the\n",
    "BMI helps broad discussions on weight-related issues, but its misuse can contribute to harmful stereotypes and discriminatory\n",
    "practices. A comprehensive understanding of an individual's health requires considering various factors beyond BMI, including lifestyle, genetics, \n",
    "and overall well-being.                                                                                                           \n",
    "                                                                                                                                                                                                               "
   ]
  },
  {
   "cell_type": "code",
   "execution_count": null,
   "id": "e97a0530-bf7e-47d7-bed6-a292f20560d3",
   "metadata": {},
   "outputs": [],
   "source": []
  },
  {
   "cell_type": "markdown",
   "id": "881f9912-75d8-4625-bdf4-2121f0fe0aeb",
   "metadata": {},
   "source": [
    "# Additional Tasks for Postgraduate (SIT731) Students (*)"
   ]
  },
  {
   "cell_type": "markdown",
   "id": "de6b40cb-776a-4c06-8929-35a22a42ca96",
   "metadata": {},
   "source": [
    "In the below code we calculate both the regular BMI and a new BMI with an exponent of 2.5 using a modified formula and here We begin\n",
    "by setting up for loop that iterates over elements in the names list and corresponding BMI values in rg_bmis and new_bmis lists and  the code extracts the current name, regular BMI (rg_bmi), and new BMI (new_bmi) respectively and It checks the BMI against defined ranges to determine the person's BMI category (underweight, normal, overweight, or obese) and then It then prints a formatted statement for each person displaying the results so that the output strings are like \"{name} has BMI of {bmi} which is {bmi_category}. The new BMI index is {new_bmi}.\""
   ]
  },
  {
   "cell_type": "markdown",
   "id": "1e50c502-4ff3-4cb7-8673-02982572f2fd",
   "metadata": {},
   "source": [
    "**Code Block**"
   ]
  },
  {
   "cell_type": "code",
   "execution_count": 85,
   "id": "dc34b46a-01e2-479d-8798-f3b0d7c6abdd",
   "metadata": {},
   "outputs": [
    {
     "name": "stdout",
     "output_type": "stream",
     "text": [
      "##Manu\t    has BMI of 20.38 which is normal. The New BMI index value is 20.14.\n",
      "##Nishu\t    has BMI of 30.48 which is obese. The New BMI index value is 31.23.\n",
      "##Kats\t    has BMI of 25.62 which is overweight. The New BMI index value is 24.82.\n",
      "##Matt\t    has BMI of 23.23 which is normal. The New BMI index value is 24.03.\n",
      "##Nagi\t    has BMI of 18.19 which is underweight. The New BMI index value is 17.78.\n"
     ]
    }
   ],
   "source": [
    "# Determine BMI categories for each person\n",
    "for i in range(len(names)): # Iterate over each person in the dataset\n",
    "    name = names[i]\n",
    "    rg_bmi = rg_bmis[i]\n",
    "    new_bmi = new_bmis[i]\n",
    "    if rg_bmi < 18.5:\n",
    "        bmi_category = \"underweight\"\n",
    "    elif 18.5 <= rg_bmi < 25.0:\n",
    "        bmi_category = \"normal\"  # i.e BMI in [18.5, 25) is normal\n",
    "    elif 25.0 <= rg_bmi < 30.0:\n",
    "        bmi_category = \"overweight\"  # i.e BMI in [25, 30) is overweight\n",
    "    else:\n",
    "        bmi_category = \"obese\"  # i.e BMI >= 30 is obese\n",
    "    # Print the person's name and corresponding BMI values\n",
    "    print(f\"##{name}\\t    has BMI of {rg_bmi:.2f} which is {bmi_category}. The New BMI index value is {new_bmi:.2f}.\")"
   ]
  },
  {
   "cell_type": "markdown",
   "id": "6207b688-9f76-4232-86d7-857e75425a89",
   "metadata": {},
   "source": [
    "**Here the loop iterates over the elements in the names list and corresponding BMI values, printing a formatted string for each element. The string includes the name, regular BMI, and new BMI, and the loop continues until all elements in the names list have been processed. The results are then displayed for each individual.**\n"
   ]
  },
  {
   "cell_type": "markdown",
   "id": "b7fd10c1-1572-4270-97d9-ee90186b3076",
   "metadata": {},
   "source": [
    "# The Possible advantage of this measure:"
   ]
  },
  {
   "cell_type": "markdown",
   "id": "4cae0a84-42cd-4ca7-b31e-1a76aea6044f",
   "metadata": {},
   "source": [
    "* BMI is often used in large-scale population studies due to its ease of measurement and it provides a quick snapshot of the\n",
    "prevalence of underweight, normal weight, overweight, and obesity within a population \n",
    "* BMI is related with different health risks, and individuals with a higher BMI are generally more likely to experience \n",
    "health issues such as cardiovascular diseases, diabetes, and certain types of cancers and BMI is a simple and quick measure\n",
    "that only requires height and weight data. This simplicity makes it easy to calculate and interpret, making it widely applicable in various settings."
   ]
  },
  {
   "cell_type": "markdown",
   "id": "8b1fd269-f565-482f-a8f1-0eaa1088aef0",
   "metadata": {},
   "source": [
    "# The disadvantages are:\n"
   ]
  },
  {
   "cell_type": "markdown",
   "id": "6ade2e85-85cd-4249-93b1-6e74a40054f8",
   "metadata": {},
   "source": [
    "* BMI does not provide information on the distribution of fat in the body. Two individuals with the same BMI may have different fat distributions,\n",
    "and abdominal fat, in particular, is associated with higher health risks.\n",
    "* BMI may not be suitable for certain populations, such as the elderly or those with specific medical conditions.\n",
    "It may underestimate body fat in older adults and overestimate it in individuals with low muscle mass.\n",
    "* BMI does not account for variations in body composition based on ethnicity and gender. \n",
    "Different populations may have varying relationships between BMI and body fat percentage."
   ]
  },
  {
   "cell_type": "markdown",
   "id": "1f0a281a-1787-47cb-a3f0-a0f6053b8b59",
   "metadata": {},
   "source": [
    "## Conclusion\n",
    "The analysis provides valuable insights into the health status of individuals in the dataset based on BMI calculations.\n",
    "The input data on names, heights, and weights was used to compute both traditional BMI values and a modified version with an exponent of 2.5. \n",
    "The categorization of BMI into underweight, normal weight, overweight, and obese categories further enhances the interpretation of the results and \n",
    "The visual representation of BMI categories through a color-coded bar plot aids in understanding the distribution of weight statuses among\n",
    "Individuals.This analysis serves as a starting point for a broader exploration of health-related data,and also helps in understanding of individuals\n",
    "well-being beyond traditional BMI metrics."
   ]
  }
 ],
 "metadata": {
  "kernelspec": {
   "display_name": "Python 3 (ipykernel)",
   "language": "python",
   "name": "python3"
  },
  "language_info": {
   "codemirror_mode": {
    "name": "ipython",
    "version": 3
   },
   "file_extension": ".py",
   "mimetype": "text/x-python",
   "name": "python",
   "nbconvert_exporter": "python",
   "pygments_lexer": "ipython3",
   "version": "3.10.0rc1"
  }
 },
 "nbformat": 4,
 "nbformat_minor": 5
}
