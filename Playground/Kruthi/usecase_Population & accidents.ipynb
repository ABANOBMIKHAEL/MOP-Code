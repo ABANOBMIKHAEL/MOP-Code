{
 "cells": [
  {
   "cell_type": "markdown",
   "id": "8da0bf87",
   "metadata": {},
   "source": [
    "# Transport & Safety - Enhancing Pedestrian Experiences, Road Crossing Safety, and Accident Prevention in Melbourne\n",
    "\n",
    "## Authored by:  Kruthi Shetty"
   ]
  },
  {
   "cell_type": "markdown",
   "id": "92f65e5f",
   "metadata": {},
   "source": [
    "**Duration:** 120 mins <br>\n",
    "**Level:** Intermediate <br>\n",
    "**Pre-requisite Skills:** Python, Data Engineering and Analysis"
   ]
  },
  {
   "cell_type": "markdown",
   "id": "c3a5a783",
   "metadata": {},
   "source": [
    "### Scenario"
   ]
  },
  {
   "cell_type": "markdown",
   "id": "fc16826e",
   "metadata": {},
   "source": [
    "**As an elderly person my main priority is to move through Melbourne's streets safely, especially while crossing roadways. To ensure my wellbeing and confidence in travelling around, I hope the city would take my particular requirements and worries into consideration.** <br>\n",
    "Personal safety is a pedestrian's main worry when navigating the city, especially when they have to cross roadways. Elderly pedestrians in particular want the city to implement modifications and enhancements that would enhance their general sense of wellbeing and confidence while they move. They want an urban environment that takes their safety concerns and needs into consideration, especially when it comes to crossing roadways. They want to be able to walk about the city with confidence and a sense of security.\n",
    "\n",
    "**As a council ensuring the safety of our residents is a key concern, we are dedicated to investing in traffic safety programmes that have a real and noticeable impact on lowering collisions, injuries, and deaths. We must constantly evaluate how well our present methods for designing the road network are working and see if they are in line with our safety objectives.** <br>\n",
    "The council is aware that seniors face specific demands and difficulties while traversing city streets, notably at junctions and when crossing streets. Reduced mobility, slower walking rates, and possible sensory impairments are only a few of these difficulties. The council is aware that it is crucial to address road safety from the standpoint of an elderly person. The creation of an inclusive and accessible urban environment is under the purview of the council. The council can plan and implement infrastructure upgrades that increase safety and accessibility by taking into account the worries and needs of older pedestrians."
   ]
  },
  {
   "cell_type": "markdown",
   "id": "2fdef34e",
   "metadata": {},
   "source": [
    "**What Will This Use Case Teach You?**"
   ]
  },
  {
   "cell_type": "markdown",
   "id": "cd9a6ba7",
   "metadata": {},
   "source": [
    "At the end of this use case you will:\n",
    "- Learn how to import the dataset into a Pandas dataframe from different sources.\n",
    "- Understand how to clean the data by eliminating any pointless columns and dealing with missing values, and organise data in the format needed for visualization.\n",
    "- Learn how to visualize by utilizing libraries like Matplotlib, Seaborn, or Folium (for interactive maps) to create heatmaps.\n",
    "- Use the data to create heatmaps to plot the density of pedestrian accidents, traffic intersections, and other relevant data points on the map to visualize high-risk areas and accident hotspots.\n"
   ]
  },
  {
   "cell_type": "markdown",
   "id": "08c2281b",
   "metadata": {},
   "source": [
    "### Introduction"
   ]
  },
  {
   "cell_type": "markdown",
   "id": "2d0d0ef5",
   "metadata": {},
   "source": [
    "Melbourne's streets and landmarks are a draw for both visitors and locals since they are located in the centre of a thriving urban dynamic and cultural variety. However, in the middle of all this urban activity, pedestrian safety must come first. In order to improve pedestrian experiences and address the urgent problem of road safety, this use case combines data science with urban design. All pedestrians, particularly the elderly, should feel safe and confident when navigating the streets, especially when crossing roads. Keeping efficient traffic flow and pedestrian safety in balance is a difficult task that calls for a multifaceted strategy.\n",
    "\n",
    "In this use case, we set out on a data-driven quest to understand pedestrian incidents, pinpoint accident hotspots, and provide suggestions for practical road safety improvements. This study shows how pedestrian age has a substantial impact on accident rates, leading us to consider creative solutions like the Singaporean practise. The idea of giving the elderly and disabled the ability to touch a card on the traffic signal to extend the crossing time has opportunities for improving pedestrian safety."
   ]
  },
  {
   "cell_type": "markdown",
   "id": "68def1ee",
   "metadata": {},
   "source": [
    "### Datasets List"
   ]
  },
  {
   "cell_type": "code",
   "execution_count": null,
   "id": "eebab83c",
   "metadata": {},
   "outputs": [],
   "source": []
  }
 ],
 "metadata": {
  "kernelspec": {
   "display_name": "Python 3 (ipykernel)",
   "language": "python",
   "name": "python3"
  },
  "language_info": {
   "codemirror_mode": {
    "name": "ipython",
    "version": 3
   },
   "file_extension": ".py",
   "mimetype": "text/x-python",
   "name": "python",
   "nbconvert_exporter": "python",
   "pygments_lexer": "ipython3",
   "version": "3.9.12"
  }
 },
 "nbformat": 4,
 "nbformat_minor": 5
}
