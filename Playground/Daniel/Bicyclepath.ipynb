{
 "cells": [
  {
   "cell_type": "code",
   "execution_count": 3,
   "id": "0e751d8a",
   "metadata": {},
   "outputs": [
    {
     "ename": "KeyError",
     "evalue": "'records'",
     "output_type": "error",
     "traceback": [
      "\u001b[1;31m---------------------------------------------------------------------------\u001b[0m",
      "\u001b[1;31mKeyError\u001b[0m                                  Traceback (most recent call last)",
      "Cell \u001b[1;32mIn[3], line 8\u001b[0m\n\u001b[0;32m      5\u001b[0m data \u001b[38;5;241m=\u001b[39m response\u001b[38;5;241m.\u001b[39mjson()\n\u001b[0;32m      7\u001b[0m ID \u001b[38;5;241m=\u001b[39m []\n\u001b[1;32m----> 8\u001b[0m \u001b[38;5;28;01mfor\u001b[39;00m record \u001b[38;5;129;01min\u001b[39;00m \u001b[43mdata\u001b[49m\u001b[43m[\u001b[49m\u001b[38;5;124;43m'\u001b[39;49m\u001b[38;5;124;43mrecords\u001b[39;49m\u001b[38;5;124;43m'\u001b[39;49m\u001b[43m]\u001b[49m:\n\u001b[0;32m      9\u001b[0m     ID\u001b[38;5;241m.\u001b[39mappend({\n\u001b[0;32m     10\u001b[0m         \u001b[38;5;124m'\u001b[39m\u001b[38;5;124mTitle\u001b[39m\u001b[38;5;124m'\u001b[39m: record[\u001b[38;5;124m'\u001b[39m\u001b[38;5;124mfields\u001b[39m\u001b[38;5;124m'\u001b[39m][\u001b[38;5;124m'\u001b[39m\u001b[38;5;124mtitle\u001b[39m\u001b[38;5;124m'\u001b[39m],\n\u001b[0;32m     11\u001b[0m         \u001b[38;5;124m'\u001b[39m\u001b[38;5;124mDescription\u001b[39m\u001b[38;5;124m'\u001b[39m: record[\u001b[38;5;124m'\u001b[39m\u001b[38;5;124mfields\u001b[39m\u001b[38;5;124m'\u001b[39m][\u001b[38;5;124m'\u001b[39m\u001b[38;5;124mdescription\u001b[39m\u001b[38;5;124m'\u001b[39m],\n\u001b[0;32m     12\u001b[0m         \u001b[38;5;124m'\u001b[39m\u001b[38;5;124mCoordinates\u001b[39m\u001b[38;5;124m'\u001b[39m: record[\u001b[38;5;124m'\u001b[39m\u001b[38;5;124mfields\u001b[39m\u001b[38;5;124m'\u001b[39m][\u001b[38;5;124m'\u001b[39m\u001b[38;5;124mgeo_point_2d\u001b[39m\u001b[38;5;124m'\u001b[39m],\n\u001b[0;32m     13\u001b[0m     })\n\u001b[0;32m     15\u001b[0m df1 \u001b[38;5;241m=\u001b[39m pd\u001b[38;5;241m.\u001b[39mDataFrame(ID)\n",
      "\u001b[1;31mKeyError\u001b[0m: 'records'"
     ]
    }
   ],
   "source": [
    "import requests\n",
    "import pandas as pd\n",
    "\n",
    "response = requests.get(f'https://data.melbourne.vic.gov.au/api/records/1.0/search/?dataset=outdoor-artworks&q=&rows=300')\n",
    "data = response.json()\n",
    "\n",
    "ID = []\n",
    "for record in data['records']:\n",
    "    ID.append({\n",
    "        'Title': record['fields']['title'],\n",
    "        'Description': record['fields']['description'],\n",
    "        'Coordinates': record['fields']['geo_point_2d'],\n",
    "    })\n",
    "\n",
    "df1 = pd.DataFrame(ID)\n"
   ]
  },
  {
   "cell_type": "markdown",
   "id": "a8ec4dd2",
   "metadata": {},
   "source": []
  },
  {
   "cell_type": "code",
   "execution_count": 11,
   "id": "29689002",
   "metadata": {},
   "outputs": [
    {
     "name": "stdout",
     "output_type": "stream",
     "text": [
      "                                               Title  \\\n",
      "0                      Beyond the Ocean of Existence   \n",
      "1                                              Vault   \n",
      "2                                  Stanford Fountain   \n",
      "3                                       Shadow Trees   \n",
      "4                                       Fairies Tree   \n",
      "..                                               ...   \n",
      "197  William Ievers (Snr) Memorial Drinking Fountain   \n",
      "198                            Mary Gilbert Memorial   \n",
      "199                         Railway Viewing Platform   \n",
      "200                            Conservatory Fountain   \n",
      "201                      Henderson Drinking Fountain   \n",
      "\n",
      "                                           Description  \\\n",
      "0    A patinated bronze sculpture, Beyond the Ocean...   \n",
      "1    Yellow painted welded plate steel sculpture.<b...   \n",
      "2    William Stanford's bluestone fountain features...   \n",
      "3    Shadow Trees is an assemblage construction of ...   \n",
      "4    Series of carvings on stump of one of the orig...   \n",
      "..                                                 ...   \n",
      "197  Shrine like architectural structure surmounted...   \n",
      "198  A torso figure of Mary Gilbert<br>Ailsa O'Conn...   \n",
      "199  This is a curious addition to the City of Melb...   \n",
      "200  (Aka Boy with Serpent or Ornamental Fountain)<...   \n",
      "201  Also known as North Melbourne Drinking Fountai...   \n",
      "\n",
      "                                   Coordinates  \n",
      "0     [-37.81642362550678, 144.96706152142454]  \n",
      "1     [-37.82607139191802, 144.96773271682704]  \n",
      "2     [-37.81243425403014, 144.97395547173446]  \n",
      "3     [-37.820624039208646, 144.9409520071531]  \n",
      "4     [-37.81340997178163, 144.98110223857506]  \n",
      "..                                         ...  \n",
      "197  [-37.802834190764166, 144.96638556021273]  \n",
      "198    [-37.81407567751222, 144.9785602548242]  \n",
      "199   [-37.80881692877836, 144.94368830128568]  \n",
      "200    [-37.81387432873141, 144.9785955087628]  \n",
      "201  [-37.803341823088594, 144.94973917434706]  \n",
      "\n",
      "[202 rows x 3 columns]\n"
     ]
    }
   ],
   "source": [
    "print(df1)"
   ]
  },
  {
   "cell_type": "code",
   "execution_count": null,
   "id": "fef76883",
   "metadata": {},
   "outputs": [],
   "source": []
  }
 ],
 "metadata": {
  "kernelspec": {
   "display_name": "Python 3 (ipykernel)",
   "language": "python",
   "name": "python3"
  },
  "language_info": {
   "codemirror_mode": {
    "name": "ipython",
    "version": 3
   },
   "file_extension": ".py",
   "mimetype": "text/x-python",
   "name": "python",
   "nbconvert_exporter": "python",
   "pygments_lexer": "ipython3",
   "version": "3.10.9"
  }
 },
 "nbformat": 4,
 "nbformat_minor": 5
}
