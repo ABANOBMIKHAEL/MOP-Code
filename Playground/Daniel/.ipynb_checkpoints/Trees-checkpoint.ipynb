{
 "cells": [
  {
   "cell_type": "code",
   "execution_count": 82,
   "id": "0e751d8a",
   "metadata": {},
   "outputs": [],
   "source": [
    "#Importing required library\n",
    "import requests\n",
    "import pandas as pd\n",
    "import os\n",
    "import numpy as np\n",
    "envar = open('env.txt','r')\n",
    "Envar2 = envar.read()\n",
    "\n",
    "Base_url = ('https://data.melbourne.vic.gov.au/api/explore/v2.1/catalog/datasets/')\n",
    "APIKEY = (\"Cityofmelb\", Envar2)\n",
    "\n",
    "response = requests.get(f'https://data.melbourne.vic.gov.au/api/explore/v2.1/catalog/datasets/trees-with-species-and-dimensions-urban-forest/records?limit=100')\n",
    "data = response.json()\n",
    "\n",
    "ID = []\n",
    "for result in data['results']:\n",
    "    ID.append({\n",
    "        'Name': result['common_name'],\n",
    "        'Scientific Name': result[\"genus\"],\n",
    "        'Geo location': result['geolocation'],\n",
    "    })\n",
    "\n",
    "df = pd.DataFrame(ID)\n",
    "\n",
    "\n",
    "\n"
   ]
  },
  {
   "cell_type": "markdown",
   "id": "a8ec4dd2",
   "metadata": {},
   "source": []
  },
  {
   "cell_type": "code",
   "execution_count": 60,
   "id": "29689002",
   "metadata": {},
   "outputs": [],
   "source": [
    "import pandas as pd\n",
    "import os\n",
    "import requests\n",
    "\n",
    "def fetch_data(base_url, dataset,api_key, num_records=99, offset= 0):\n",
    "    all_records = [] \n",
    "    max_offset = 9999 # Maximum number of requests\n",
    "    while True:\n",
    "        # maximum limit check\n",
    "        if offset > max_offset:\n",
    "            break\n",
    "# Create API request URL\n",
    "        filters = f'{dataset}/records?limit={num_records}&offset={offset}'\n",
    "        url = f' {base_url}{filters}&api_key={api_key}'\n",
    "        \n",
    "        # Start request\n",
    "        try:\n",
    "            result = requests.get(url, timeout=10)\n",
    "            result. raise_for_status()\n",
    "            records = result.json().get('results')\n",
    "        except requests.exceptions.RequestException as e:\n",
    "            raise Exception(f\"API request failed: {e}\")\n",
    "        if records is None:\n",
    "            break\n",
    "        \n",
    "        all_records.extend(records)\n",
    "        if len(records) < num_records:\n",
    "            break\n",
    "            \n",
    "        offset += num_records\n",
    "        \n",
    "        # next cycle offset offset + num_records\n",
    "        # DataFrame all data\n",
    "        \n",
    "    df = pd.DataFrame(all_records)\n",
    "    return df"
   ]
  },
  {
   "cell_type": "code",
   "execution_count": 61,
   "id": "fef76883",
   "metadata": {},
   "outputs": [
    {
     "ename": "Exception",
     "evalue": "API request failed: 400 Client Error: Bad Request for url: https://data.melbourne.vic.gov.au/api/explore/v2.1/catalog/datasets/trees-with-species-and-dimensions-urban-forest/records?limit=99&offset=9999&api_key=('Cityofmelb',%20'4961b5a955fa74da16e336c3a17058c0750e89d36856f74e5e3041f0%5Cn')",
     "output_type": "error",
     "traceback": [
      "\u001b[1;31m---------------------------------------------------------------------------\u001b[0m",
      "\u001b[1;31mHTTPError\u001b[0m                                 Traceback (most recent call last)",
      "Cell \u001b[1;32mIn[60], line 19\u001b[0m, in \u001b[0;36mfetch_data\u001b[1;34m(base_url, dataset, api_key, num_records, offset)\u001b[0m\n\u001b[0;32m     18\u001b[0m result \u001b[38;5;241m=\u001b[39m requests\u001b[38;5;241m.\u001b[39mget(url, timeout\u001b[38;5;241m=\u001b[39m\u001b[38;5;241m10\u001b[39m)\n\u001b[1;32m---> 19\u001b[0m \u001b[43mresult\u001b[49m\u001b[38;5;241;43m.\u001b[39;49m\u001b[43m \u001b[49m\u001b[43mraise_for_status\u001b[49m\u001b[43m(\u001b[49m\u001b[43m)\u001b[49m\n\u001b[0;32m     20\u001b[0m records \u001b[38;5;241m=\u001b[39m result\u001b[38;5;241m.\u001b[39mjson()\u001b[38;5;241m.\u001b[39mget(\u001b[38;5;124m'\u001b[39m\u001b[38;5;124mresults\u001b[39m\u001b[38;5;124m'\u001b[39m)\n",
      "File \u001b[1;32m~\\anaconda\\lib\\site-packages\\requests\\models.py:1021\u001b[0m, in \u001b[0;36mResponse.raise_for_status\u001b[1;34m(self)\u001b[0m\n\u001b[0;32m   1020\u001b[0m \u001b[38;5;28;01mif\u001b[39;00m http_error_msg:\n\u001b[1;32m-> 1021\u001b[0m     \u001b[38;5;28;01mraise\u001b[39;00m HTTPError(http_error_msg, response\u001b[38;5;241m=\u001b[39m\u001b[38;5;28mself\u001b[39m)\n",
      "\u001b[1;31mHTTPError\u001b[0m: 400 Client Error: Bad Request for url: https://data.melbourne.vic.gov.au/api/explore/v2.1/catalog/datasets/trees-with-species-and-dimensions-urban-forest/records?limit=99&offset=9999&api_key=('Cityofmelb',%20'4961b5a955fa74da16e336c3a17058c0750e89d36856f74e5e3041f0%5Cn')",
      "\nDuring handling of the above exception, another exception occurred:\n",
      "\u001b[1;31mException\u001b[0m                                 Traceback (most recent call last)",
      "Cell \u001b[1;32mIn[61], line 2\u001b[0m\n\u001b[0;32m      1\u001b[0m Treedataset\u001b[38;5;241m=\u001b[39m \u001b[38;5;124m'\u001b[39m\u001b[38;5;124mtrees-with-species-and-dimensions-urban-forest\u001b[39m\u001b[38;5;124m'\u001b[39m\n\u001b[1;32m----> 2\u001b[0m df \u001b[38;5;241m=\u001b[39m \u001b[43mfetch_data\u001b[49m\u001b[43m(\u001b[49m\u001b[43mBase_url\u001b[49m\u001b[43m,\u001b[49m\u001b[43mTreedataset\u001b[49m\u001b[43m,\u001b[49m\u001b[43mAPIKEY\u001b[49m\u001b[43m)\u001b[49m\n\u001b[0;32m      3\u001b[0m \u001b[38;5;28mprint\u001b[39m(df)\n",
      "Cell \u001b[1;32mIn[60], line 22\u001b[0m, in \u001b[0;36mfetch_data\u001b[1;34m(base_url, dataset, api_key, num_records, offset)\u001b[0m\n\u001b[0;32m     20\u001b[0m     records \u001b[38;5;241m=\u001b[39m result\u001b[38;5;241m.\u001b[39mjson()\u001b[38;5;241m.\u001b[39mget(\u001b[38;5;124m'\u001b[39m\u001b[38;5;124mresults\u001b[39m\u001b[38;5;124m'\u001b[39m)\n\u001b[0;32m     21\u001b[0m \u001b[38;5;28;01mexcept\u001b[39;00m requests\u001b[38;5;241m.\u001b[39mexceptions\u001b[38;5;241m.\u001b[39mRequestException \u001b[38;5;28;01mas\u001b[39;00m e:\n\u001b[1;32m---> 22\u001b[0m     \u001b[38;5;28;01mraise\u001b[39;00m \u001b[38;5;167;01mException\u001b[39;00m(\u001b[38;5;124mf\u001b[39m\u001b[38;5;124m\"\u001b[39m\u001b[38;5;124mAPI request failed: \u001b[39m\u001b[38;5;132;01m{\u001b[39;00me\u001b[38;5;132;01m}\u001b[39;00m\u001b[38;5;124m\"\u001b[39m)\n\u001b[0;32m     23\u001b[0m \u001b[38;5;28;01mif\u001b[39;00m records \u001b[38;5;129;01mis\u001b[39;00m \u001b[38;5;28;01mNone\u001b[39;00m:\n\u001b[0;32m     24\u001b[0m     \u001b[38;5;28;01mbreak\u001b[39;00m\n",
      "\u001b[1;31mException\u001b[0m: API request failed: 400 Client Error: Bad Request for url: https://data.melbourne.vic.gov.au/api/explore/v2.1/catalog/datasets/trees-with-species-and-dimensions-urban-forest/records?limit=99&offset=9999&api_key=('Cityofmelb',%20'4961b5a955fa74da16e336c3a17058c0750e89d36856f74e5e3041f0%5Cn')"
     ]
    }
   ],
   "source": [
    "Treedataset= 'trees-with-species-and-dimensions-urban-forest'\n",
    "df = fetch_data(Base_url,Treedataset,APIKEY)\n",
    "print(df)"
   ]
  },
  {
   "cell_type": "code",
   "execution_count": 73,
   "id": "21525828",
   "metadata": {},
   "outputs": [
    {
     "ename": "KeyError",
     "evalue": "'common_name'",
     "output_type": "error",
     "traceback": [
      "\u001b[1;31m---------------------------------------------------------------------------\u001b[0m",
      "\u001b[1;31mKeyError\u001b[0m                                  Traceback (most recent call last)",
      "File \u001b[1;32m~\\anaconda\\lib\\site-packages\\pandas\\core\\indexes\\base.py:3802\u001b[0m, in \u001b[0;36mIndex.get_loc\u001b[1;34m(self, key, method, tolerance)\u001b[0m\n\u001b[0;32m   3801\u001b[0m \u001b[38;5;28;01mtry\u001b[39;00m:\n\u001b[1;32m-> 3802\u001b[0m     \u001b[38;5;28;01mreturn\u001b[39;00m \u001b[38;5;28;43mself\u001b[39;49m\u001b[38;5;241;43m.\u001b[39;49m\u001b[43m_engine\u001b[49m\u001b[38;5;241;43m.\u001b[39;49m\u001b[43mget_loc\u001b[49m\u001b[43m(\u001b[49m\u001b[43mcasted_key\u001b[49m\u001b[43m)\u001b[49m\n\u001b[0;32m   3803\u001b[0m \u001b[38;5;28;01mexcept\u001b[39;00m \u001b[38;5;167;01mKeyError\u001b[39;00m \u001b[38;5;28;01mas\u001b[39;00m err:\n",
      "File \u001b[1;32m~\\anaconda\\lib\\site-packages\\pandas\\_libs\\index.pyx:138\u001b[0m, in \u001b[0;36mpandas._libs.index.IndexEngine.get_loc\u001b[1;34m()\u001b[0m\n",
      "File \u001b[1;32m~\\anaconda\\lib\\site-packages\\pandas\\_libs\\index.pyx:165\u001b[0m, in \u001b[0;36mpandas._libs.index.IndexEngine.get_loc\u001b[1;34m()\u001b[0m\n",
      "File \u001b[1;32mpandas\\_libs\\hashtable_class_helper.pxi:5745\u001b[0m, in \u001b[0;36mpandas._libs.hashtable.PyObjectHashTable.get_item\u001b[1;34m()\u001b[0m\n",
      "File \u001b[1;32mpandas\\_libs\\hashtable_class_helper.pxi:5753\u001b[0m, in \u001b[0;36mpandas._libs.hashtable.PyObjectHashTable.get_item\u001b[1;34m()\u001b[0m\n",
      "\u001b[1;31mKeyError\u001b[0m: 'common_name'",
      "\nThe above exception was the direct cause of the following exception:\n",
      "\u001b[1;31mKeyError\u001b[0m                                  Traceback (most recent call last)",
      "Cell \u001b[1;32mIn[73], line 7\u001b[0m\n\u001b[0;32m      2\u001b[0m tree_df \u001b[38;5;241m=\u001b[39m pd\u001b[38;5;241m.\u001b[39mread_csv(treelink)\n\u001b[0;32m      3\u001b[0m tree_df\n\u001b[1;32m----> 7\u001b[0m Trep \u001b[38;5;241m=\u001b[39m tree_df\u001b[38;5;241m.\u001b[39mloc[\u001b[43mtree_df\u001b[49m\u001b[43m[\u001b[49m\u001b[38;5;124;43m'\u001b[39;49m\u001b[38;5;124;43mcommon_name\u001b[39;49m\u001b[38;5;124;43m'\u001b[39;49m\u001b[43m]\u001b[49m]\n",
      "File \u001b[1;32m~\\anaconda\\lib\\site-packages\\pandas\\core\\frame.py:3807\u001b[0m, in \u001b[0;36mDataFrame.__getitem__\u001b[1;34m(self, key)\u001b[0m\n\u001b[0;32m   3805\u001b[0m \u001b[38;5;28;01mif\u001b[39;00m \u001b[38;5;28mself\u001b[39m\u001b[38;5;241m.\u001b[39mcolumns\u001b[38;5;241m.\u001b[39mnlevels \u001b[38;5;241m>\u001b[39m \u001b[38;5;241m1\u001b[39m:\n\u001b[0;32m   3806\u001b[0m     \u001b[38;5;28;01mreturn\u001b[39;00m \u001b[38;5;28mself\u001b[39m\u001b[38;5;241m.\u001b[39m_getitem_multilevel(key)\n\u001b[1;32m-> 3807\u001b[0m indexer \u001b[38;5;241m=\u001b[39m \u001b[38;5;28;43mself\u001b[39;49m\u001b[38;5;241;43m.\u001b[39;49m\u001b[43mcolumns\u001b[49m\u001b[38;5;241;43m.\u001b[39;49m\u001b[43mget_loc\u001b[49m\u001b[43m(\u001b[49m\u001b[43mkey\u001b[49m\u001b[43m)\u001b[49m\n\u001b[0;32m   3808\u001b[0m \u001b[38;5;28;01mif\u001b[39;00m is_integer(indexer):\n\u001b[0;32m   3809\u001b[0m     indexer \u001b[38;5;241m=\u001b[39m [indexer]\n",
      "File \u001b[1;32m~\\anaconda\\lib\\site-packages\\pandas\\core\\indexes\\base.py:3804\u001b[0m, in \u001b[0;36mIndex.get_loc\u001b[1;34m(self, key, method, tolerance)\u001b[0m\n\u001b[0;32m   3802\u001b[0m     \u001b[38;5;28;01mreturn\u001b[39;00m \u001b[38;5;28mself\u001b[39m\u001b[38;5;241m.\u001b[39m_engine\u001b[38;5;241m.\u001b[39mget_loc(casted_key)\n\u001b[0;32m   3803\u001b[0m \u001b[38;5;28;01mexcept\u001b[39;00m \u001b[38;5;167;01mKeyError\u001b[39;00m \u001b[38;5;28;01mas\u001b[39;00m err:\n\u001b[1;32m-> 3804\u001b[0m     \u001b[38;5;28;01mraise\u001b[39;00m \u001b[38;5;167;01mKeyError\u001b[39;00m(key) \u001b[38;5;28;01mfrom\u001b[39;00m \u001b[38;5;21;01merr\u001b[39;00m\n\u001b[0;32m   3805\u001b[0m \u001b[38;5;28;01mexcept\u001b[39;00m \u001b[38;5;167;01mTypeError\u001b[39;00m:\n\u001b[0;32m   3806\u001b[0m     \u001b[38;5;66;03m# If we have a listlike key, _check_indexing_error will raise\u001b[39;00m\n\u001b[0;32m   3807\u001b[0m     \u001b[38;5;66;03m#  InvalidIndexError. Otherwise we fall through and re-raise\u001b[39;00m\n\u001b[0;32m   3808\u001b[0m     \u001b[38;5;66;03m#  the TypeError.\u001b[39;00m\n\u001b[0;32m   3809\u001b[0m     \u001b[38;5;28mself\u001b[39m\u001b[38;5;241m.\u001b[39m_check_indexing_error(key)\n",
      "\u001b[1;31mKeyError\u001b[0m: 'common_name'"
     ]
    }
   ],
   "source": [
    "treelink = 'https://data.melbourne.vic.gov.au/api/explore/v2.1/catalog/datasets/trees-with-species-and-dimensions-urban-forest/exports/csv?lang=en&timezone=Australia%2FSydney&use_labels=true&delimiter=%2C'\n",
    "tree_df = pd.read_csv(treelink)\n",
    "tree_df\n",
    "\n",
    "\n",
    "\n",
    "Trep = tree_df.loc[tree_df['Common_Name']]"
   ]
  },
  {
   "cell_type": "code",
   "execution_count": 109,
   "id": "4e702b43",
   "metadata": {},
   "outputs": [
    {
     "name": "stdout",
     "output_type": "stream",
     "text": [
      "        CoM ID           Common Name           Scientific Name       Genus  \\\n",
      "0      1440992         River red gum  Eucalyptus camaldulensis  Eucalyptus   \n",
      "1      1286119         River red gum  Eucalyptus camaldulensis  Eucalyptus   \n",
      "2      1439848  European nettle tree          Celtis australis      Celtis   \n",
      "3      1584631          Swamp Sheoak           Casuarina obesa   Casuarina   \n",
      "4      1286271         Golden Poplar      Populus x canadensis     Populus   \n",
      "...        ...                   ...                       ...         ...   \n",
      "76923  1526689               Red Box   Eucalyptus polyanthemos  Eucalyptus   \n",
      "76924  1783637      Lightwood Wattle            Acacia implexa      Acacia   \n",
      "76925  1023894          London Plane     Platanus x acerifolia    Platanus   \n",
      "76926  1287085             Jacaranda     Jacaranda mimosifolia   Jacaranda   \n",
      "76927  1783452  Lemon scented myrtle     Backhousia citriodora  Backhousia   \n",
      "\n",
      "              Family  Diameter Breast Height  Year Planted Date Planted  \\\n",
      "0          Myrtaceae                     NaN          2009   2009-12-14   \n",
      "1          Myrtaceae                    80.0          2008   2008-07-16   \n",
      "2        Cannabaceae                     4.0          2009   2009-09-08   \n",
      "3      Casuarinaceae                     NaN          2015   2015-06-18   \n",
      "4         Salicaceae                    35.0          2008   2008-12-18   \n",
      "...              ...                     ...           ...          ...   \n",
      "76923      Myrtaceae                     NaN          2013   2013-01-22   \n",
      "76924       Fabaceae                     NaN          2020   2020-05-19   \n",
      "76925    Platanaceae                    18.0          1899   1999-12-30   \n",
      "76926   Bignoniaceae                     6.0          2008   2008-08-25   \n",
      "76927      Myrtaceae                     NaN          2020   2020-12-05   \n",
      "\n",
      "      Age Description Useful Life Expectency  Useful Life Expectency Value  \\\n",
      "0                 NaN                    NaN                           NaN   \n",
      "1              Mature            31-60 years                          60.0   \n",
      "2            Juvenile            31-60 years                          60.0   \n",
      "3                 NaN                    NaN                           NaN   \n",
      "4         Semi-Mature            31-60 years                          60.0   \n",
      "...               ...                    ...                           ...   \n",
      "76923             NaN                    NaN                           NaN   \n",
      "76924             NaN                    NaN                           NaN   \n",
      "76925     Semi-Mature            11-20 years                          20.0   \n",
      "76926        Juvenile            11-20 years                          20.0   \n",
      "76927             NaN                    NaN                           NaN   \n",
      "\n",
      "       Precinct Located in  UploadDate  \\\n",
      "0           NaN       Park  2021-01-10   \n",
      "1           NaN       Park  2021-01-10   \n",
      "2           NaN     Street  2021-01-10   \n",
      "3           NaN       Park  2021-01-10   \n",
      "4           NaN     Street  2021-01-10   \n",
      "...         ...        ...         ...   \n",
      "76923       NaN       Park  2021-01-10   \n",
      "76924       NaN       Park  2021-01-10   \n",
      "76925       NaN     Street  2021-01-10   \n",
      "76926       NaN     Street  2021-01-10   \n",
      "76927       NaN       Park  2021-01-10   \n",
      "\n",
      "                            CoordinateLocation   Latitude   Longitude  \\\n",
      "0         -37.789042536009, 144.94750113149306 -37.789043  144.947501   \n",
      "1        -37.78989006812276, 144.9256959906416 -37.789890  144.925696   \n",
      "2      -37.795227592098875, 144.91940533967247 -37.795228  144.919405   \n",
      "3      -37.795178798251044, 144.95235531785673 -37.795179  144.952355   \n",
      "4        -37.7904175404039, 144.92779056976474 -37.790418  144.927791   \n",
      "...                                        ...        ...         ...   \n",
      "76923   -37.77968423847431, 144.96217220362632 -37.779684  144.962172   \n",
      "76924  -37.781052359602995, 144.95237974656814 -37.781052  144.952380   \n",
      "76925    -37.8092487661872, 144.96541492209963 -37.809249  144.965415   \n",
      "76926   -37.83631076544197, 144.98513657513598 -37.836311  144.985137   \n",
      "76927    -37.81621736150108, 144.9801744499791 -37.816217  144.980174   \n",
      "\n",
      "         Easting    Northing                              geolocation  \n",
      "0      319271.37  5815606.69     -37.789042536009, 144.94750113149306  \n",
      "1      317353.24  5815470.25    -37.78989006812276, 144.9256959906416  \n",
      "2      316812.46  5814865.65  -37.795227592098875, 144.91940533967247  \n",
      "3      319713.76  5814935.15  -37.795178798251044, 144.95235531785673  \n",
      "4      317538.99  5815415.81    -37.7904175404039, 144.92779056976474  \n",
      "...          ...         ...                                      ...  \n",
      "76923  320540.70  5816673.41   -37.77968423847431, 144.96217220362632  \n",
      "76924  319681.57  5816502.75  -37.781052359602995, 144.95237974656814  \n",
      "76925  320897.72  5813398.98    -37.8092487661872, 144.96541492209963  \n",
      "76926  322698.76  5810433.65   -37.83631076544197, 144.98513657513598  \n",
      "76927  322213.84  5812653.90    -37.81621736150108, 144.9801744499791  \n",
      "\n",
      "[76928 rows x 20 columns]\n"
     ]
    }
   ],
   "source": [
    "\n",
    "print(tree_df)\n"
   ]
  },
  {
   "cell_type": "code",
   "execution_count": 110,
   "id": "872b6111",
   "metadata": {},
   "outputs": [],
   "source": [
    "Trep = pd.DataFrame()\n",
    "Trep['Common Name']= tree_df['Common Name']\n",
    "Trep['Genus']= tree_df['Genus']\n",
    "Trep['Location']= tree_df[\"geolocation\"]\n"
   ]
  },
  {
   "cell_type": "code",
   "execution_count": 112,
   "id": "484f551d",
   "metadata": {},
   "outputs": [
    {
     "name": "stdout",
     "output_type": "stream",
     "text": [
      "                Common Name       Genus  \\\n",
      "0             River red gum  Eucalyptus   \n",
      "1             River red gum  Eucalyptus   \n",
      "2      European nettle tree      Celtis   \n",
      "3              Swamp Sheoak   Casuarina   \n",
      "4             Golden Poplar     Populus   \n",
      "...                     ...         ...   \n",
      "76923               Red Box  Eucalyptus   \n",
      "76924      Lightwood Wattle      Acacia   \n",
      "76925          London Plane    Platanus   \n",
      "76926             Jacaranda   Jacaranda   \n",
      "76927  Lemon scented myrtle  Backhousia   \n",
      "\n",
      "                                      Location  \n",
      "0         -37.789042536009, 144.94750113149306  \n",
      "1        -37.78989006812276, 144.9256959906416  \n",
      "2      -37.795227592098875, 144.91940533967247  \n",
      "3      -37.795178798251044, 144.95235531785673  \n",
      "4        -37.7904175404039, 144.92779056976474  \n",
      "...                                        ...  \n",
      "76923   -37.77968423847431, 144.96217220362632  \n",
      "76924  -37.781052359602995, 144.95237974656814  \n",
      "76925    -37.8092487661872, 144.96541492209963  \n",
      "76926   -37.83631076544197, 144.98513657513598  \n",
      "76927    -37.81621736150108, 144.9801744499791  \n",
      "\n",
      "[76928 rows x 3 columns]\n"
     ]
    }
   ],
   "source": [
    "print(Trep)"
   ]
  }
 ],
 "metadata": {
  "kernelspec": {
   "display_name": "Python 3 (ipykernel)",
   "language": "python",
   "name": "python3"
  },
  "language_info": {
   "codemirror_mode": {
    "name": "ipython",
    "version": 3
   },
   "file_extension": ".py",
   "mimetype": "text/x-python",
   "name": "python",
   "nbconvert_exporter": "python",
   "pygments_lexer": "ipython3",
   "version": "3.10.9"
  }
 },
 "nbformat": 4,
 "nbformat_minor": 5
}
