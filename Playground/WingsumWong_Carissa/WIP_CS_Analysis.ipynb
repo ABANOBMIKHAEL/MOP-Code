{
  "nbformat": 4,
  "nbformat_minor": 0,
  "metadata": {
    "colab": {
      "provenance": []
    },
    "kernelspec": {
      "name": "python3",
      "display_name": "Python 3"
    },
    "language_info": {
      "name": "python"
    }
  },
  "cells": [
    {
      "cell_type": "markdown",
      "source": [
        "# **Import modules & fetch data from Open Data Melbourne**"
      ],
      "metadata": {
        "id": "NQ5FFMzPYV0v"
      }
    },
    {
      "cell_type": "markdown",
      "source": [
        "### *Method #1 - with limited records (<10000)*"
      ],
      "metadata": {
        "id": "byk3PKTa3TKx"
      }
    },
    {
      "cell_type": "code",
      "execution_count": null,
      "metadata": {
        "id": "I5prRTEURk9K"
      },
      "outputs": [],
      "source": [
        "# import requests\n",
        "# import pandas as pd\n",
        "# import os\n",
        "\n",
        "# # define function to fetch data from website using API\n",
        "\n",
        "# def fetch_data(base_url, dataset, api_key, num_records = 99, offset = 0):\n",
        "#     all_records = []\n",
        "#     max_offset = 9900  # maximum number of requests\n",
        "\n",
        "#     while True:\n",
        "#         # maximum limit check\n",
        "#         if offset > max_offset:\n",
        "#             break\n",
        "\n",
        "#         # create API request URL\n",
        "#         filters = f'{dataset}/records?limit={num_records}&offset={offset}'\n",
        "#         url = f'{base_url}{filters}&api_key={api_key}'\n",
        "\n",
        "#         # start request\n",
        "#         try:\n",
        "#             result = requests.get(url, timeout=10)\n",
        "#             result.raise_for_status()\n",
        "#             records = result.json().get('results')\n",
        "#         except requests.exceptions.RequestException as e:\n",
        "#             raise Exception(f\"API request failed: {e}\")\n",
        "#         if records is None:\n",
        "#             break\n",
        "#         all_records.extend(records)\n",
        "#         if len(records) < num_records:\n",
        "#             break\n",
        "\n",
        "#         # next cycle offset\n",
        "#         offset += num_records\n",
        "\n",
        "#     # dataframe all data\n",
        "#     df = pd.DataFrame(all_records)\n",
        "#     return df\n",
        "\n",
        "# API_KEY = os.environ.get('MELBOURNE_API_KEY', input(\"Please enter your API key: \"))\n",
        "# BASE_URL = 'https://data.melbourne.vic.gov.au/api/explore/v2.1/catalog/datasets/'"
      ]
    },
    {
      "cell_type": "code",
      "source": [
        "# # get data\n",
        "# df_id = 'customer-service-requests-with-resolution-time'\n",
        "\n",
        "# df = fetch_data(BASE_URL, df_id, API_KEY)\n",
        "\n",
        "# print(f'Number of records: {len(df)}')"
      ],
      "metadata": {
        "id": "i8WQAxjkBb5Q"
      },
      "execution_count": null,
      "outputs": []
    },
    {
      "cell_type": "markdown",
      "source": [
        "### *Method #2 - with unlimited data records (credit to Te's API tutorial)*"
      ],
      "metadata": {
        "id": "KGqcNjkP3gzY"
      }
    },
    {
      "cell_type": "code",
      "source": [
        "from google.colab import drive\n",
        "import requests\n",
        "import os\n",
        "from io import StringIO\n",
        "\n",
        "import pandas as pd\n",
        "import calendar"
      ],
      "metadata": {
        "id": "H57h8LUL3fGL"
      },
      "execution_count": null,
      "outputs": []
    },
    {
      "cell_type": "code",
      "source": [
        "drive.mount('/content/gdrive')\n",
        "\n",
        "with open('/content/gdrive/My Drive/Colab Notebooks/apiKey.txt', 'r') as file:\n",
        "    api_key = file.read().strip()\n",
        "\n",
        "api_key = os.getenv(api_key)"
      ],
      "metadata": {
        "colab": {
          "base_uri": "https://localhost:8080/"
        },
        "id": "yeckFTQ9366x",
        "outputId": "de0cd8d1-226b-448e-e9f2-90590d4513e5"
      },
      "execution_count": null,
      "outputs": [
        {
          "output_type": "stream",
          "name": "stdout",
          "text": [
            "Drive already mounted at /content/gdrive; to attempt to forcibly remount, call drive.mount(\"/content/gdrive\", force_remount=True).\n"
          ]
        }
      ]
    },
    {
      "cell_type": "markdown",
      "source": [
        "# **Dataset:** Melbourne Visitor Contact Stats"
      ],
      "metadata": {
        "id": "_djH1SA04FC_"
      }
    },
    {
      "cell_type": "markdown",
      "source": [
        "## Load dataset"
      ],
      "metadata": {
        "id": "geB2AC2j4ZvG"
      }
    },
    {
      "cell_type": "code",
      "source": [
        "# export endpoint\n",
        "\n",
        "# https://data.melbourne.vic.gov.au/explore/dataset/melbourne-visitor-contact-stats/table/\n",
        "dataset1_id = 'melbourne-visitor-contact-stats'\n",
        "\n",
        "base_URL = 'https://data.melbourne.vic.gov.au/api/explore/v2.1/catalog/datasets/'\n",
        "apikey = api_key\n",
        "dataset1_id = dataset1_id\n",
        "format = 'csv'\n",
        "\n",
        "url = f'{base_URL}{dataset1_id}/exports/{format}'\n",
        "params = {\n",
        "    'select': '*',\n",
        "    'limit': -1,  # all records\n",
        "    'lang': 'en',\n",
        "    'timezone': 'UTC',\n",
        "    'api_key': apikey\n",
        "}\n",
        "\n",
        "# GET request\n",
        "response = requests.get(url, params = params)\n",
        "\n",
        "if response.status_code == 200:\n",
        "    # StringIO to read the CSV data\n",
        "    url_content = response.content.decode('utf-8')\n",
        "    MelVisitor_stat = pd.read_csv(StringIO(url_content), delimiter = ';')\n",
        "    print(MelVisitor_stat.sample(3, random_state = 999))    # test\n",
        "else:\n",
        "    print(f'Request failed with status code {response.status_code}')"
      ],
      "metadata": {
        "colab": {
          "base_uri": "https://localhost:8080/"
        },
        "id": "4BYMbUwP4Epg",
        "outputId": "38a6a2ae-d377-4fd4-ae2a-88a25c889956"
      },
      "execution_count": null,
      "outputs": [
        {
          "output_type": "stream",
          "name": "stdout",
          "text": [
            "           date  number_of_contacts                   source  year     month\n",
            "258  2017-01-11               21253  Melbourne Visitor Booth  2017  November\n",
            "0    2018-01-12               21661  Melbourne Visitor Booth  2018  December\n",
            "247  2018-01-05                   0      Cruise Ship Program  2018       May\n"
          ]
        }
      ]
    },
    {
      "cell_type": "code",
      "source": [
        "# check length in dataset 1 (dataset1_id)\n",
        "\n",
        "print(f'The dataset contains {len(MelVisitor_stat)} records.')"
      ],
      "metadata": {
        "colab": {
          "base_uri": "https://localhost:8080/"
        },
        "id": "m3znpbNm4Tg8",
        "outputId": "600693e2-7e74-4eb9-d0a4-e858586eb60f"
      },
      "execution_count": null,
      "outputs": [
        {
          "output_type": "stream",
          "name": "stdout",
          "text": [
            "The dataset contains 476 records.\n"
          ]
        }
      ]
    },
    {
      "cell_type": "markdown",
      "source": [
        "## Data cleansing"
      ],
      "metadata": {
        "id": "u-ePhS8M4djR"
      }
    },
    {
      "cell_type": "code",
      "source": [
        "print(f'Number of missing values in each column:\\n\\n{MelVisitor_stat.isna().sum()}')"
      ],
      "metadata": {
        "colab": {
          "base_uri": "https://localhost:8080/"
        },
        "id": "tKxIM0nB4jB4",
        "outputId": "e8f04d53-9064-4b1c-9d6f-893d7c94e2d0"
      },
      "execution_count": null,
      "outputs": [
        {
          "output_type": "stream",
          "name": "stdout",
          "text": [
            "Number of missing values in each column:\n",
            "\n",
            "date                  0\n",
            "number_of_contacts    0\n",
            "source                0\n",
            "year                  0\n",
            "month                 0\n",
            "dtype: int64\n"
          ]
        }
      ]
    },
    {
      "cell_type": "code",
      "source": [
        "print(f\"Number of unique sources: {MelVisitor_stat['source'].nunique()}\\n\")\n",
        "print(f\"{MelVisitor_stat['source'].unique()}\")"
      ],
      "metadata": {
        "colab": {
          "base_uri": "https://localhost:8080/"
        },
        "id": "uG9Eq2bX4mZe",
        "outputId": "ea6cc749-66e4-4c7e-f85b-b232c1559ea7"
      },
      "execution_count": null,
      "outputs": [
        {
          "output_type": "stream",
          "name": "stdout",
          "text": [
            "Number of unique sources: 12\n",
            "\n",
            "['Melbourne Visitor Booth' 'Melbourne Greeter Service'\n",
            " 'Melbourne Visitor Shuttle' 'Melbourne Visitor Centre'\n",
            " 'City Ambassador Program' 'Inbox email enquiries' 'Inbox email Inquiries'\n",
            " 'Cruise Ship Program' \"Cooks' Cottage\" 'Fitzroy Gardens Visitor Centre'\n",
            " 'Melbourne Visitor Hub at Town Hall' 'Queen Victoria Market Visitor Hub']\n"
          ]
        }
      ]
    },
    {
      "cell_type": "markdown",
      "source": [
        "Based on the analysis of unique values from the 'source' column, and considering the termination and opening of certain visitor service centers as follows, 'Inbox email enquiries' and 'Inbox email Inquiries' have been identified as duplicates representing the same source. To ensure consistency and avoid misleading results, these entries have been consolidated under a single label. Furthermore, while the Melbourne Visitor Hub at Town Hall could be regarded as a continuation or relocation of the Melbourne Visitor Centre, they will be analyzed as separate entities in this analysis due to their distinct locations and potential differences in visitor interactions.\n",
        "\n",
        "Significant dates to note include:\n",
        "*   The Melbourne Visitor Shuttle ceased operations in September 2017\n",
        "*   The Melbourne Visitor Centre was closed on Sunday, 19th of August, 2018\n",
        "*   The Melbourne Visitor Hub at Town Hall opened on Monday, 20th of August, 2018\n",
        "*   The Visitor Hub at Queen Victoria Market opened in late November 2018"
      ],
      "metadata": {
        "id": "nNH2knav4rRV"
      }
    },
    {
      "cell_type": "code",
      "source": [
        "# replacing 'Inbox email Inquiries' with 'Inbox email enquires' to ensure consistency\n",
        "MelVisitor_stat['source'] = MelVisitor_stat['source'].replace(\n",
        "    {'Inbox email Inquiries': 'Inbox email enquiries'})\n",
        "\n",
        "print(f\"Number of unique sources: {MelVisitor_stat['source'].nunique()}\\n\\n{MelVisitor_stat['source'].unique()}\")"
      ],
      "metadata": {
        "colab": {
          "base_uri": "https://localhost:8080/"
        },
        "id": "9DXX3eRY4oS6",
        "outputId": "35e8d5ba-2c37-4675-fe04-807490cc76f8"
      },
      "execution_count": null,
      "outputs": [
        {
          "output_type": "stream",
          "name": "stdout",
          "text": [
            "Number of unique sources: 11\n",
            "\n",
            "['Melbourne Visitor Booth' 'Melbourne Greeter Service'\n",
            " 'Melbourne Visitor Shuttle' 'Melbourne Visitor Centre'\n",
            " 'City Ambassador Program' 'Inbox email enquiries' 'Cruise Ship Program'\n",
            " \"Cooks' Cottage\" 'Fitzroy Gardens Visitor Centre'\n",
            " 'Melbourne Visitor Hub at Town Hall' 'Queen Victoria Market Visitor Hub']\n"
          ]
        }
      ]
    },
    {
      "cell_type": "code",
      "source": [
        "MelVisitor_stat"
      ],
      "metadata": {
        "colab": {
          "base_uri": "https://localhost:8080/",
          "height": 411
        },
        "id": "3DWIahKW2LST",
        "outputId": "70d93737-1d97-4580-ff6e-6ecf3414ddb7"
      },
      "execution_count": null,
      "outputs": [
        {
          "output_type": "execute_result",
          "data": {
            "text/plain": [
              "           date  number_of_contacts                          source  year  \\\n",
              "0    2018-01-12               21661         Melbourne Visitor Booth  2018   \n",
              "1    2018-01-12                 171       Melbourne Greeter Service  2018   \n",
              "2    2015-01-09                9028       Melbourne Visitor Shuttle  2015   \n",
              "3    2015-01-07               68793        Melbourne Visitor Centre  2015   \n",
              "4    2014-01-11               25151         City Ambassador Program  2014   \n",
              "..          ...                 ...                             ...   ...   \n",
              "471  2016-01-01               25546  Fitzroy Gardens Visitor Centre  2016   \n",
              "472  2018-01-02                6402                  Cooks' Cottage  2018   \n",
              "473  2017-01-10                   0       Melbourne Visitor Shuttle  2017   \n",
              "474  2017-01-07               50134        Melbourne Visitor Centre  2017   \n",
              "475  2014-01-07                   0  Fitzroy Gardens Visitor Centre  2014   \n",
              "\n",
              "         month  \n",
              "0     December  \n",
              "1     December  \n",
              "2    September  \n",
              "3         July  \n",
              "4     November  \n",
              "..         ...  \n",
              "471    January  \n",
              "472   February  \n",
              "473    October  \n",
              "474       July  \n",
              "475       July  \n",
              "\n",
              "[476 rows x 5 columns]"
            ],
            "text/html": [
              "\n",
              "  <div id=\"df-4a5d2642-a5bd-418d-bfde-7eb159f0e1bd\" class=\"colab-df-container\">\n",
              "    <div>\n",
              "<style scoped>\n",
              "    .dataframe tbody tr th:only-of-type {\n",
              "        vertical-align: middle;\n",
              "    }\n",
              "\n",
              "    .dataframe tbody tr th {\n",
              "        vertical-align: top;\n",
              "    }\n",
              "\n",
              "    .dataframe thead th {\n",
              "        text-align: right;\n",
              "    }\n",
              "</style>\n",
              "<table border=\"1\" class=\"dataframe\">\n",
              "  <thead>\n",
              "    <tr style=\"text-align: right;\">\n",
              "      <th></th>\n",
              "      <th>date</th>\n",
              "      <th>number_of_contacts</th>\n",
              "      <th>source</th>\n",
              "      <th>year</th>\n",
              "      <th>month</th>\n",
              "    </tr>\n",
              "  </thead>\n",
              "  <tbody>\n",
              "    <tr>\n",
              "      <th>0</th>\n",
              "      <td>2018-01-12</td>\n",
              "      <td>21661</td>\n",
              "      <td>Melbourne Visitor Booth</td>\n",
              "      <td>2018</td>\n",
              "      <td>December</td>\n",
              "    </tr>\n",
              "    <tr>\n",
              "      <th>1</th>\n",
              "      <td>2018-01-12</td>\n",
              "      <td>171</td>\n",
              "      <td>Melbourne Greeter Service</td>\n",
              "      <td>2018</td>\n",
              "      <td>December</td>\n",
              "    </tr>\n",
              "    <tr>\n",
              "      <th>2</th>\n",
              "      <td>2015-01-09</td>\n",
              "      <td>9028</td>\n",
              "      <td>Melbourne Visitor Shuttle</td>\n",
              "      <td>2015</td>\n",
              "      <td>September</td>\n",
              "    </tr>\n",
              "    <tr>\n",
              "      <th>3</th>\n",
              "      <td>2015-01-07</td>\n",
              "      <td>68793</td>\n",
              "      <td>Melbourne Visitor Centre</td>\n",
              "      <td>2015</td>\n",
              "      <td>July</td>\n",
              "    </tr>\n",
              "    <tr>\n",
              "      <th>4</th>\n",
              "      <td>2014-01-11</td>\n",
              "      <td>25151</td>\n",
              "      <td>City Ambassador Program</td>\n",
              "      <td>2014</td>\n",
              "      <td>November</td>\n",
              "    </tr>\n",
              "    <tr>\n",
              "      <th>...</th>\n",
              "      <td>...</td>\n",
              "      <td>...</td>\n",
              "      <td>...</td>\n",
              "      <td>...</td>\n",
              "      <td>...</td>\n",
              "    </tr>\n",
              "    <tr>\n",
              "      <th>471</th>\n",
              "      <td>2016-01-01</td>\n",
              "      <td>25546</td>\n",
              "      <td>Fitzroy Gardens Visitor Centre</td>\n",
              "      <td>2016</td>\n",
              "      <td>January</td>\n",
              "    </tr>\n",
              "    <tr>\n",
              "      <th>472</th>\n",
              "      <td>2018-01-02</td>\n",
              "      <td>6402</td>\n",
              "      <td>Cooks' Cottage</td>\n",
              "      <td>2018</td>\n",
              "      <td>February</td>\n",
              "    </tr>\n",
              "    <tr>\n",
              "      <th>473</th>\n",
              "      <td>2017-01-10</td>\n",
              "      <td>0</td>\n",
              "      <td>Melbourne Visitor Shuttle</td>\n",
              "      <td>2017</td>\n",
              "      <td>October</td>\n",
              "    </tr>\n",
              "    <tr>\n",
              "      <th>474</th>\n",
              "      <td>2017-01-07</td>\n",
              "      <td>50134</td>\n",
              "      <td>Melbourne Visitor Centre</td>\n",
              "      <td>2017</td>\n",
              "      <td>July</td>\n",
              "    </tr>\n",
              "    <tr>\n",
              "      <th>475</th>\n",
              "      <td>2014-01-07</td>\n",
              "      <td>0</td>\n",
              "      <td>Fitzroy Gardens Visitor Centre</td>\n",
              "      <td>2014</td>\n",
              "      <td>July</td>\n",
              "    </tr>\n",
              "  </tbody>\n",
              "</table>\n",
              "<p>476 rows × 5 columns</p>\n",
              "</div>\n",
              "    <div class=\"colab-df-buttons\">\n",
              "\n",
              "  <div class=\"colab-df-container\">\n",
              "    <button class=\"colab-df-convert\" onclick=\"convertToInteractive('df-4a5d2642-a5bd-418d-bfde-7eb159f0e1bd')\"\n",
              "            title=\"Convert this dataframe to an interactive table.\"\n",
              "            style=\"display:none;\">\n",
              "\n",
              "  <svg xmlns=\"http://www.w3.org/2000/svg\" height=\"24px\" viewBox=\"0 -960 960 960\">\n",
              "    <path d=\"M120-120v-720h720v720H120Zm60-500h600v-160H180v160Zm220 220h160v-160H400v160Zm0 220h160v-160H400v160ZM180-400h160v-160H180v160Zm440 0h160v-160H620v160ZM180-180h160v-160H180v160Zm440 0h160v-160H620v160Z\"/>\n",
              "  </svg>\n",
              "    </button>\n",
              "\n",
              "  <style>\n",
              "    .colab-df-container {\n",
              "      display:flex;\n",
              "      gap: 12px;\n",
              "    }\n",
              "\n",
              "    .colab-df-convert {\n",
              "      background-color: #E8F0FE;\n",
              "      border: none;\n",
              "      border-radius: 50%;\n",
              "      cursor: pointer;\n",
              "      display: none;\n",
              "      fill: #1967D2;\n",
              "      height: 32px;\n",
              "      padding: 0 0 0 0;\n",
              "      width: 32px;\n",
              "    }\n",
              "\n",
              "    .colab-df-convert:hover {\n",
              "      background-color: #E2EBFA;\n",
              "      box-shadow: 0px 1px 2px rgba(60, 64, 67, 0.3), 0px 1px 3px 1px rgba(60, 64, 67, 0.15);\n",
              "      fill: #174EA6;\n",
              "    }\n",
              "\n",
              "    .colab-df-buttons div {\n",
              "      margin-bottom: 4px;\n",
              "    }\n",
              "\n",
              "    [theme=dark] .colab-df-convert {\n",
              "      background-color: #3B4455;\n",
              "      fill: #D2E3FC;\n",
              "    }\n",
              "\n",
              "    [theme=dark] .colab-df-convert:hover {\n",
              "      background-color: #434B5C;\n",
              "      box-shadow: 0px 1px 3px 1px rgba(0, 0, 0, 0.15);\n",
              "      filter: drop-shadow(0px 1px 2px rgba(0, 0, 0, 0.3));\n",
              "      fill: #FFFFFF;\n",
              "    }\n",
              "  </style>\n",
              "\n",
              "    <script>\n",
              "      const buttonEl =\n",
              "        document.querySelector('#df-4a5d2642-a5bd-418d-bfde-7eb159f0e1bd button.colab-df-convert');\n",
              "      buttonEl.style.display =\n",
              "        google.colab.kernel.accessAllowed ? 'block' : 'none';\n",
              "\n",
              "      async function convertToInteractive(key) {\n",
              "        const element = document.querySelector('#df-4a5d2642-a5bd-418d-bfde-7eb159f0e1bd');\n",
              "        const dataTable =\n",
              "          await google.colab.kernel.invokeFunction('convertToInteractive',\n",
              "                                                    [key], {});\n",
              "        if (!dataTable) return;\n",
              "\n",
              "        const docLinkHtml = 'Like what you see? Visit the ' +\n",
              "          '<a target=\"_blank\" href=https://colab.research.google.com/notebooks/data_table.ipynb>data table notebook</a>'\n",
              "          + ' to learn more about interactive tables.';\n",
              "        element.innerHTML = '';\n",
              "        dataTable['output_type'] = 'display_data';\n",
              "        await google.colab.output.renderOutput(dataTable, element);\n",
              "        const docLink = document.createElement('div');\n",
              "        docLink.innerHTML = docLinkHtml;\n",
              "        element.appendChild(docLink);\n",
              "      }\n",
              "    </script>\n",
              "  </div>\n",
              "\n",
              "\n",
              "<div id=\"df-c011613a-a793-4701-b57f-818978a51e58\">\n",
              "  <button class=\"colab-df-quickchart\" onclick=\"quickchart('df-c011613a-a793-4701-b57f-818978a51e58')\"\n",
              "            title=\"Suggest charts\"\n",
              "            style=\"display:none;\">\n",
              "\n",
              "<svg xmlns=\"http://www.w3.org/2000/svg\" height=\"24px\"viewBox=\"0 0 24 24\"\n",
              "     width=\"24px\">\n",
              "    <g>\n",
              "        <path d=\"M19 3H5c-1.1 0-2 .9-2 2v14c0 1.1.9 2 2 2h14c1.1 0 2-.9 2-2V5c0-1.1-.9-2-2-2zM9 17H7v-7h2v7zm4 0h-2V7h2v10zm4 0h-2v-4h2v4z\"/>\n",
              "    </g>\n",
              "</svg>\n",
              "  </button>\n",
              "\n",
              "<style>\n",
              "  .colab-df-quickchart {\n",
              "      --bg-color: #E8F0FE;\n",
              "      --fill-color: #1967D2;\n",
              "      --hover-bg-color: #E2EBFA;\n",
              "      --hover-fill-color: #174EA6;\n",
              "      --disabled-fill-color: #AAA;\n",
              "      --disabled-bg-color: #DDD;\n",
              "  }\n",
              "\n",
              "  [theme=dark] .colab-df-quickchart {\n",
              "      --bg-color: #3B4455;\n",
              "      --fill-color: #D2E3FC;\n",
              "      --hover-bg-color: #434B5C;\n",
              "      --hover-fill-color: #FFFFFF;\n",
              "      --disabled-bg-color: #3B4455;\n",
              "      --disabled-fill-color: #666;\n",
              "  }\n",
              "\n",
              "  .colab-df-quickchart {\n",
              "    background-color: var(--bg-color);\n",
              "    border: none;\n",
              "    border-radius: 50%;\n",
              "    cursor: pointer;\n",
              "    display: none;\n",
              "    fill: var(--fill-color);\n",
              "    height: 32px;\n",
              "    padding: 0;\n",
              "    width: 32px;\n",
              "  }\n",
              "\n",
              "  .colab-df-quickchart:hover {\n",
              "    background-color: var(--hover-bg-color);\n",
              "    box-shadow: 0 1px 2px rgba(60, 64, 67, 0.3), 0 1px 3px 1px rgba(60, 64, 67, 0.15);\n",
              "    fill: var(--button-hover-fill-color);\n",
              "  }\n",
              "\n",
              "  .colab-df-quickchart-complete:disabled,\n",
              "  .colab-df-quickchart-complete:disabled:hover {\n",
              "    background-color: var(--disabled-bg-color);\n",
              "    fill: var(--disabled-fill-color);\n",
              "    box-shadow: none;\n",
              "  }\n",
              "\n",
              "  .colab-df-spinner {\n",
              "    border: 2px solid var(--fill-color);\n",
              "    border-color: transparent;\n",
              "    border-bottom-color: var(--fill-color);\n",
              "    animation:\n",
              "      spin 1s steps(1) infinite;\n",
              "  }\n",
              "\n",
              "  @keyframes spin {\n",
              "    0% {\n",
              "      border-color: transparent;\n",
              "      border-bottom-color: var(--fill-color);\n",
              "      border-left-color: var(--fill-color);\n",
              "    }\n",
              "    20% {\n",
              "      border-color: transparent;\n",
              "      border-left-color: var(--fill-color);\n",
              "      border-top-color: var(--fill-color);\n",
              "    }\n",
              "    30% {\n",
              "      border-color: transparent;\n",
              "      border-left-color: var(--fill-color);\n",
              "      border-top-color: var(--fill-color);\n",
              "      border-right-color: var(--fill-color);\n",
              "    }\n",
              "    40% {\n",
              "      border-color: transparent;\n",
              "      border-right-color: var(--fill-color);\n",
              "      border-top-color: var(--fill-color);\n",
              "    }\n",
              "    60% {\n",
              "      border-color: transparent;\n",
              "      border-right-color: var(--fill-color);\n",
              "    }\n",
              "    80% {\n",
              "      border-color: transparent;\n",
              "      border-right-color: var(--fill-color);\n",
              "      border-bottom-color: var(--fill-color);\n",
              "    }\n",
              "    90% {\n",
              "      border-color: transparent;\n",
              "      border-bottom-color: var(--fill-color);\n",
              "    }\n",
              "  }\n",
              "</style>\n",
              "\n",
              "  <script>\n",
              "    async function quickchart(key) {\n",
              "      const quickchartButtonEl =\n",
              "        document.querySelector('#' + key + ' button');\n",
              "      quickchartButtonEl.disabled = true;  // To prevent multiple clicks.\n",
              "      quickchartButtonEl.classList.add('colab-df-spinner');\n",
              "      try {\n",
              "        const charts = await google.colab.kernel.invokeFunction(\n",
              "            'suggestCharts', [key], {});\n",
              "      } catch (error) {\n",
              "        console.error('Error during call to suggestCharts:', error);\n",
              "      }\n",
              "      quickchartButtonEl.classList.remove('colab-df-spinner');\n",
              "      quickchartButtonEl.classList.add('colab-df-quickchart-complete');\n",
              "    }\n",
              "    (() => {\n",
              "      let quickchartButtonEl =\n",
              "        document.querySelector('#df-c011613a-a793-4701-b57f-818978a51e58 button');\n",
              "      quickchartButtonEl.style.display =\n",
              "        google.colab.kernel.accessAllowed ? 'block' : 'none';\n",
              "    })();\n",
              "  </script>\n",
              "</div>\n",
              "\n",
              "  <div id=\"id_3a6f16de-982b-4891-870e-57a1b46e1b0c\">\n",
              "    <style>\n",
              "      .colab-df-generate {\n",
              "        background-color: #E8F0FE;\n",
              "        border: none;\n",
              "        border-radius: 50%;\n",
              "        cursor: pointer;\n",
              "        display: none;\n",
              "        fill: #1967D2;\n",
              "        height: 32px;\n",
              "        padding: 0 0 0 0;\n",
              "        width: 32px;\n",
              "      }\n",
              "\n",
              "      .colab-df-generate:hover {\n",
              "        background-color: #E2EBFA;\n",
              "        box-shadow: 0px 1px 2px rgba(60, 64, 67, 0.3), 0px 1px 3px 1px rgba(60, 64, 67, 0.15);\n",
              "        fill: #174EA6;\n",
              "      }\n",
              "\n",
              "      [theme=dark] .colab-df-generate {\n",
              "        background-color: #3B4455;\n",
              "        fill: #D2E3FC;\n",
              "      }\n",
              "\n",
              "      [theme=dark] .colab-df-generate:hover {\n",
              "        background-color: #434B5C;\n",
              "        box-shadow: 0px 1px 3px 1px rgba(0, 0, 0, 0.15);\n",
              "        filter: drop-shadow(0px 1px 2px rgba(0, 0, 0, 0.3));\n",
              "        fill: #FFFFFF;\n",
              "      }\n",
              "    </style>\n",
              "    <button class=\"colab-df-generate\" onclick=\"generateWithVariable('MelVisitor_stat')\"\n",
              "            title=\"Generate code using this dataframe.\"\n",
              "            style=\"display:none;\">\n",
              "\n",
              "  <svg xmlns=\"http://www.w3.org/2000/svg\" height=\"24px\"viewBox=\"0 0 24 24\"\n",
              "       width=\"24px\">\n",
              "    <path d=\"M7,19H8.4L18.45,9,17,7.55,7,17.6ZM5,21V16.75L18.45,3.32a2,2,0,0,1,2.83,0l1.4,1.43a1.91,1.91,0,0,1,.58,1.4,1.91,1.91,0,0,1-.58,1.4L9.25,21ZM18.45,9,17,7.55Zm-12,3A5.31,5.31,0,0,0,4.9,8.1,5.31,5.31,0,0,0,1,6.5,5.31,5.31,0,0,0,4.9,4.9,5.31,5.31,0,0,0,6.5,1,5.31,5.31,0,0,0,8.1,4.9,5.31,5.31,0,0,0,12,6.5,5.46,5.46,0,0,0,6.5,12Z\"/>\n",
              "  </svg>\n",
              "    </button>\n",
              "    <script>\n",
              "      (() => {\n",
              "      const buttonEl =\n",
              "        document.querySelector('#id_3a6f16de-982b-4891-870e-57a1b46e1b0c button.colab-df-generate');\n",
              "      buttonEl.style.display =\n",
              "        google.colab.kernel.accessAllowed ? 'block' : 'none';\n",
              "\n",
              "      buttonEl.onclick = () => {\n",
              "        google.colab.notebook.generateWithVariable('MelVisitor_stat');\n",
              "      }\n",
              "      })();\n",
              "    </script>\n",
              "  </div>\n",
              "\n",
              "    </div>\n",
              "  </div>\n"
            ],
            "application/vnd.google.colaboratory.intrinsic+json": {
              "type": "dataframe",
              "variable_name": "MelVisitor_stat",
              "summary": "{\n  \"name\": \"MelVisitor_stat\",\n  \"rows\": 476,\n  \"fields\": [\n    {\n      \"column\": \"date\",\n      \"properties\": {\n        \"dtype\": \"object\",\n        \"num_unique_values\": 54,\n        \"samples\": [\n          \"2015-01-05\",\n          \"2017-01-11\",\n          \"2018-01-05\"\n        ],\n        \"semantic_type\": \"\",\n        \"description\": \"\"\n      }\n    },\n    {\n      \"column\": \"number_of_contacts\",\n      \"properties\": {\n        \"dtype\": \"number\",\n        \"std\": 20329,\n        \"min\": 0,\n        \"max\": 95573,\n        \"num_unique_values\": 427,\n        \"samples\": [\n          3953,\n          33009,\n          8043\n        ],\n        \"semantic_type\": \"\",\n        \"description\": \"\"\n      }\n    },\n    {\n      \"column\": \"source\",\n      \"properties\": {\n        \"dtype\": \"category\",\n        \"num_unique_values\": 11,\n        \"samples\": [\n          \"Inbox email enquiries\",\n          \"Melbourne Visitor Booth\",\n          \"Melbourne Visitor Hub at Town Hall\"\n        ],\n        \"semantic_type\": \"\",\n        \"description\": \"\"\n      }\n    },\n    {\n      \"column\": \"year\",\n      \"properties\": {\n        \"dtype\": \"number\",\n        \"std\": 1,\n        \"min\": 2014,\n        \"max\": 2018,\n        \"num_unique_values\": 5,\n        \"samples\": [\n          2015,\n          2016,\n          2014\n        ],\n        \"semantic_type\": \"\",\n        \"description\": \"\"\n      }\n    },\n    {\n      \"column\": \"month\",\n      \"properties\": {\n        \"dtype\": \"category\",\n        \"num_unique_values\": 12,\n        \"samples\": [\n          \"June\",\n          \"January\",\n          \"December\"\n        ],\n        \"semantic_type\": \"\",\n        \"description\": \"\"\n      }\n    }\n  ]\n}"
            }
          },
          "metadata": {},
          "execution_count": 10
        }
      ]
    },
    {
      "cell_type": "markdown",
      "source": [
        "## Aggregation"
      ],
      "metadata": {
        "id": "x-vals294733"
      }
    },
    {
      "cell_type": "markdown",
      "source": [
        "The aim is to calculate the total number of contacts at Visitor Service Centres, aggregated by year and month, which will help us understand potential trends in visitor engagement over the years, providing insight into how engagement levels have changed over time."
      ],
      "metadata": {
        "id": "rRsPVRkB5SJ4"
      }
    },
    {
      "cell_type": "code",
      "source": [
        "print(MelVisitor_stat.dtypes)"
      ],
      "metadata": {
        "colab": {
          "base_uri": "https://localhost:8080/"
        },
        "id": "zfHQF1zv4oL1",
        "outputId": "57e31a27-0dba-47f6-aaeb-6bf4e0ca0fb5"
      },
      "execution_count": null,
      "outputs": [
        {
          "output_type": "stream",
          "name": "stdout",
          "text": [
            "date                  object\n",
            "number_of_contacts     int64\n",
            "source                object\n",
            "year                   int64\n",
            "month                 object\n",
            "dtype: object\n"
          ]
        }
      ]
    },
    {
      "cell_type": "code",
      "source": [
        "# convert column 'date' to date format\n",
        "MelVisitor_stat['date'] = pd.to_datetime(MelVisitor_stat['date'])\n",
        "\n",
        "# convert column 'month' from strings to numbers\n",
        "month_num = {month: index for index, month in enumerate(calendar.month_name) if month}\n",
        "\n",
        "MelVisitor_stat['month'] = MelVisitor_stat['month'].map(month_num)"
      ],
      "metadata": {
        "id": "FfoKeecW4oBz"
      },
      "execution_count": null,
      "outputs": []
    },
    {
      "cell_type": "code",
      "source": [
        "print(MelVisitor_stat.dtypes)"
      ],
      "metadata": {
        "colab": {
          "base_uri": "https://localhost:8080/"
        },
        "id": "aBbJe79i5YFK",
        "outputId": "9126eecb-e38b-4a4a-9773-a0b9c4f3fa76"
      },
      "execution_count": null,
      "outputs": [
        {
          "output_type": "stream",
          "name": "stdout",
          "text": [
            "date                  datetime64[ns]\n",
            "number_of_contacts             int64\n",
            "source                        object\n",
            "year                           int64\n",
            "month                          int64\n",
            "dtype: object\n"
          ]
        }
      ]
    },
    {
      "cell_type": "code",
      "source": [
        "# check the first few rows to confirm the conversion\n",
        "print(MelVisitor_stat['date'].head())"
      ],
      "metadata": {
        "colab": {
          "base_uri": "https://localhost:8080/"
        },
        "id": "DeLbUHPR5YCr",
        "outputId": "02aff516-574b-42a0-ac3a-73e6a8000e7d"
      },
      "execution_count": null,
      "outputs": [
        {
          "output_type": "stream",
          "name": "stdout",
          "text": [
            "0   2018-01-12\n",
            "1   2018-01-12\n",
            "2   2015-01-09\n",
            "3   2015-01-07\n",
            "4   2014-01-11\n",
            "Name: date, dtype: datetime64[ns]\n"
          ]
        }
      ]
    },
    {
      "cell_type": "code",
      "source": [
        "sum_contacts = MelVisitor_stat.groupby(['year', 'month'])['number_of_contacts'].sum().reset_index()\n",
        "sum_contacts = sum_contacts.sort_values(by = ['year', 'month'], ascending = [True, True])"
      ],
      "metadata": {
        "id": "66vz_9aK5b3n"
      },
      "execution_count": null,
      "outputs": []
    },
    {
      "cell_type": "code",
      "source": [
        "print(sum_contacts.head(10))"
      ],
      "metadata": {
        "colab": {
          "base_uri": "https://localhost:8080/"
        },
        "id": "dYtWg-mi5b1Y",
        "outputId": "3cc64b2a-e22e-411c-f373-bc1232ce3edb"
      },
      "execution_count": null,
      "outputs": [
        {
          "output_type": "stream",
          "name": "stdout",
          "text": [
            "   year  month  number_of_contacts\n",
            "0  2014      7              162589\n",
            "1  2014      8              137713\n",
            "2  2014      9              136758\n",
            "3  2014     10              150532\n",
            "4  2014     11              164042\n",
            "5  2014     12              193392\n",
            "6  2015      1              206044\n",
            "7  2015      2              194113\n",
            "8  2015      3              205147\n",
            "9  2015      4              166348\n"
          ]
        }
      ]
    },
    {
      "cell_type": "code",
      "source": [
        "print(type(sum_contacts))"
      ],
      "metadata": {
        "colab": {
          "base_uri": "https://localhost:8080/"
        },
        "id": "0_SNSg-u5g2s",
        "outputId": "514b2b75-03ad-4e02-e158-7b733334dd78"
      },
      "execution_count": null,
      "outputs": [
        {
          "output_type": "stream",
          "name": "stdout",
          "text": [
            "<class 'pandas.core.frame.DataFrame'>\n"
          ]
        }
      ]
    },
    {
      "cell_type": "markdown",
      "source": [
        "## Observations"
      ],
      "metadata": {
        "id": "eazHKnY95hja"
      }
    },
    {
      "cell_type": "code",
      "source": [
        "# create 'date' column formatted as a string \"YYYY-MM\"\n",
        "sum_contacts['date'] = sum_contacts['year'].astype(str) + '-' + sum_contacts['month'].astype(str).str.zfill(2)\n",
        "\n",
        "sum_contacts.head(2)"
      ],
      "metadata": {
        "colab": {
          "base_uri": "https://localhost:8080/",
          "height": 109
        },
        "id": "-S0JtOCt5ovF",
        "outputId": "9d970090-1f2a-4fa1-cc49-48420ac89f18"
      },
      "execution_count": null,
      "outputs": [
        {
          "output_type": "execute_result",
          "data": {
            "text/plain": [
              "   year  month  number_of_contacts     date\n",
              "0  2014      7              162589  2014-07\n",
              "1  2014      8              137713  2014-08"
            ],
            "text/html": [
              "\n",
              "  <div id=\"df-872e0413-5af8-45f4-9aa8-e2da7884f685\" class=\"colab-df-container\">\n",
              "    <div>\n",
              "<style scoped>\n",
              "    .dataframe tbody tr th:only-of-type {\n",
              "        vertical-align: middle;\n",
              "    }\n",
              "\n",
              "    .dataframe tbody tr th {\n",
              "        vertical-align: top;\n",
              "    }\n",
              "\n",
              "    .dataframe thead th {\n",
              "        text-align: right;\n",
              "    }\n",
              "</style>\n",
              "<table border=\"1\" class=\"dataframe\">\n",
              "  <thead>\n",
              "    <tr style=\"text-align: right;\">\n",
              "      <th></th>\n",
              "      <th>year</th>\n",
              "      <th>month</th>\n",
              "      <th>number_of_contacts</th>\n",
              "      <th>date</th>\n",
              "    </tr>\n",
              "  </thead>\n",
              "  <tbody>\n",
              "    <tr>\n",
              "      <th>0</th>\n",
              "      <td>2014</td>\n",
              "      <td>7</td>\n",
              "      <td>162589</td>\n",
              "      <td>2014-07</td>\n",
              "    </tr>\n",
              "    <tr>\n",
              "      <th>1</th>\n",
              "      <td>2014</td>\n",
              "      <td>8</td>\n",
              "      <td>137713</td>\n",
              "      <td>2014-08</td>\n",
              "    </tr>\n",
              "  </tbody>\n",
              "</table>\n",
              "</div>\n",
              "    <div class=\"colab-df-buttons\">\n",
              "\n",
              "  <div class=\"colab-df-container\">\n",
              "    <button class=\"colab-df-convert\" onclick=\"convertToInteractive('df-872e0413-5af8-45f4-9aa8-e2da7884f685')\"\n",
              "            title=\"Convert this dataframe to an interactive table.\"\n",
              "            style=\"display:none;\">\n",
              "\n",
              "  <svg xmlns=\"http://www.w3.org/2000/svg\" height=\"24px\" viewBox=\"0 -960 960 960\">\n",
              "    <path d=\"M120-120v-720h720v720H120Zm60-500h600v-160H180v160Zm220 220h160v-160H400v160Zm0 220h160v-160H400v160ZM180-400h160v-160H180v160Zm440 0h160v-160H620v160ZM180-180h160v-160H180v160Zm440 0h160v-160H620v160Z\"/>\n",
              "  </svg>\n",
              "    </button>\n",
              "\n",
              "  <style>\n",
              "    .colab-df-container {\n",
              "      display:flex;\n",
              "      gap: 12px;\n",
              "    }\n",
              "\n",
              "    .colab-df-convert {\n",
              "      background-color: #E8F0FE;\n",
              "      border: none;\n",
              "      border-radius: 50%;\n",
              "      cursor: pointer;\n",
              "      display: none;\n",
              "      fill: #1967D2;\n",
              "      height: 32px;\n",
              "      padding: 0 0 0 0;\n",
              "      width: 32px;\n",
              "    }\n",
              "\n",
              "    .colab-df-convert:hover {\n",
              "      background-color: #E2EBFA;\n",
              "      box-shadow: 0px 1px 2px rgba(60, 64, 67, 0.3), 0px 1px 3px 1px rgba(60, 64, 67, 0.15);\n",
              "      fill: #174EA6;\n",
              "    }\n",
              "\n",
              "    .colab-df-buttons div {\n",
              "      margin-bottom: 4px;\n",
              "    }\n",
              "\n",
              "    [theme=dark] .colab-df-convert {\n",
              "      background-color: #3B4455;\n",
              "      fill: #D2E3FC;\n",
              "    }\n",
              "\n",
              "    [theme=dark] .colab-df-convert:hover {\n",
              "      background-color: #434B5C;\n",
              "      box-shadow: 0px 1px 3px 1px rgba(0, 0, 0, 0.15);\n",
              "      filter: drop-shadow(0px 1px 2px rgba(0, 0, 0, 0.3));\n",
              "      fill: #FFFFFF;\n",
              "    }\n",
              "  </style>\n",
              "\n",
              "    <script>\n",
              "      const buttonEl =\n",
              "        document.querySelector('#df-872e0413-5af8-45f4-9aa8-e2da7884f685 button.colab-df-convert');\n",
              "      buttonEl.style.display =\n",
              "        google.colab.kernel.accessAllowed ? 'block' : 'none';\n",
              "\n",
              "      async function convertToInteractive(key) {\n",
              "        const element = document.querySelector('#df-872e0413-5af8-45f4-9aa8-e2da7884f685');\n",
              "        const dataTable =\n",
              "          await google.colab.kernel.invokeFunction('convertToInteractive',\n",
              "                                                    [key], {});\n",
              "        if (!dataTable) return;\n",
              "\n",
              "        const docLinkHtml = 'Like what you see? Visit the ' +\n",
              "          '<a target=\"_blank\" href=https://colab.research.google.com/notebooks/data_table.ipynb>data table notebook</a>'\n",
              "          + ' to learn more about interactive tables.';\n",
              "        element.innerHTML = '';\n",
              "        dataTable['output_type'] = 'display_data';\n",
              "        await google.colab.output.renderOutput(dataTable, element);\n",
              "        const docLink = document.createElement('div');\n",
              "        docLink.innerHTML = docLinkHtml;\n",
              "        element.appendChild(docLink);\n",
              "      }\n",
              "    </script>\n",
              "  </div>\n",
              "\n",
              "\n",
              "<div id=\"df-04c58ae3-9c0f-463b-a0d6-304783f86c46\">\n",
              "  <button class=\"colab-df-quickchart\" onclick=\"quickchart('df-04c58ae3-9c0f-463b-a0d6-304783f86c46')\"\n",
              "            title=\"Suggest charts\"\n",
              "            style=\"display:none;\">\n",
              "\n",
              "<svg xmlns=\"http://www.w3.org/2000/svg\" height=\"24px\"viewBox=\"0 0 24 24\"\n",
              "     width=\"24px\">\n",
              "    <g>\n",
              "        <path d=\"M19 3H5c-1.1 0-2 .9-2 2v14c0 1.1.9 2 2 2h14c1.1 0 2-.9 2-2V5c0-1.1-.9-2-2-2zM9 17H7v-7h2v7zm4 0h-2V7h2v10zm4 0h-2v-4h2v4z\"/>\n",
              "    </g>\n",
              "</svg>\n",
              "  </button>\n",
              "\n",
              "<style>\n",
              "  .colab-df-quickchart {\n",
              "      --bg-color: #E8F0FE;\n",
              "      --fill-color: #1967D2;\n",
              "      --hover-bg-color: #E2EBFA;\n",
              "      --hover-fill-color: #174EA6;\n",
              "      --disabled-fill-color: #AAA;\n",
              "      --disabled-bg-color: #DDD;\n",
              "  }\n",
              "\n",
              "  [theme=dark] .colab-df-quickchart {\n",
              "      --bg-color: #3B4455;\n",
              "      --fill-color: #D2E3FC;\n",
              "      --hover-bg-color: #434B5C;\n",
              "      --hover-fill-color: #FFFFFF;\n",
              "      --disabled-bg-color: #3B4455;\n",
              "      --disabled-fill-color: #666;\n",
              "  }\n",
              "\n",
              "  .colab-df-quickchart {\n",
              "    background-color: var(--bg-color);\n",
              "    border: none;\n",
              "    border-radius: 50%;\n",
              "    cursor: pointer;\n",
              "    display: none;\n",
              "    fill: var(--fill-color);\n",
              "    height: 32px;\n",
              "    padding: 0;\n",
              "    width: 32px;\n",
              "  }\n",
              "\n",
              "  .colab-df-quickchart:hover {\n",
              "    background-color: var(--hover-bg-color);\n",
              "    box-shadow: 0 1px 2px rgba(60, 64, 67, 0.3), 0 1px 3px 1px rgba(60, 64, 67, 0.15);\n",
              "    fill: var(--button-hover-fill-color);\n",
              "  }\n",
              "\n",
              "  .colab-df-quickchart-complete:disabled,\n",
              "  .colab-df-quickchart-complete:disabled:hover {\n",
              "    background-color: var(--disabled-bg-color);\n",
              "    fill: var(--disabled-fill-color);\n",
              "    box-shadow: none;\n",
              "  }\n",
              "\n",
              "  .colab-df-spinner {\n",
              "    border: 2px solid var(--fill-color);\n",
              "    border-color: transparent;\n",
              "    border-bottom-color: var(--fill-color);\n",
              "    animation:\n",
              "      spin 1s steps(1) infinite;\n",
              "  }\n",
              "\n",
              "  @keyframes spin {\n",
              "    0% {\n",
              "      border-color: transparent;\n",
              "      border-bottom-color: var(--fill-color);\n",
              "      border-left-color: var(--fill-color);\n",
              "    }\n",
              "    20% {\n",
              "      border-color: transparent;\n",
              "      border-left-color: var(--fill-color);\n",
              "      border-top-color: var(--fill-color);\n",
              "    }\n",
              "    30% {\n",
              "      border-color: transparent;\n",
              "      border-left-color: var(--fill-color);\n",
              "      border-top-color: var(--fill-color);\n",
              "      border-right-color: var(--fill-color);\n",
              "    }\n",
              "    40% {\n",
              "      border-color: transparent;\n",
              "      border-right-color: var(--fill-color);\n",
              "      border-top-color: var(--fill-color);\n",
              "    }\n",
              "    60% {\n",
              "      border-color: transparent;\n",
              "      border-right-color: var(--fill-color);\n",
              "    }\n",
              "    80% {\n",
              "      border-color: transparent;\n",
              "      border-right-color: var(--fill-color);\n",
              "      border-bottom-color: var(--fill-color);\n",
              "    }\n",
              "    90% {\n",
              "      border-color: transparent;\n",
              "      border-bottom-color: var(--fill-color);\n",
              "    }\n",
              "  }\n",
              "</style>\n",
              "\n",
              "  <script>\n",
              "    async function quickchart(key) {\n",
              "      const quickchartButtonEl =\n",
              "        document.querySelector('#' + key + ' button');\n",
              "      quickchartButtonEl.disabled = true;  // To prevent multiple clicks.\n",
              "      quickchartButtonEl.classList.add('colab-df-spinner');\n",
              "      try {\n",
              "        const charts = await google.colab.kernel.invokeFunction(\n",
              "            'suggestCharts', [key], {});\n",
              "      } catch (error) {\n",
              "        console.error('Error during call to suggestCharts:', error);\n",
              "      }\n",
              "      quickchartButtonEl.classList.remove('colab-df-spinner');\n",
              "      quickchartButtonEl.classList.add('colab-df-quickchart-complete');\n",
              "    }\n",
              "    (() => {\n",
              "      let quickchartButtonEl =\n",
              "        document.querySelector('#df-04c58ae3-9c0f-463b-a0d6-304783f86c46 button');\n",
              "      quickchartButtonEl.style.display =\n",
              "        google.colab.kernel.accessAllowed ? 'block' : 'none';\n",
              "    })();\n",
              "  </script>\n",
              "</div>\n",
              "\n",
              "    </div>\n",
              "  </div>\n"
            ],
            "application/vnd.google.colaboratory.intrinsic+json": {
              "type": "dataframe",
              "variable_name": "sum_contacts",
              "summary": "{\n  \"name\": \"sum_contacts\",\n  \"rows\": 54,\n  \"fields\": [\n    {\n      \"column\": \"year\",\n      \"properties\": {\n        \"dtype\": \"number\",\n        \"std\": 1,\n        \"min\": 2014,\n        \"max\": 2018,\n        \"num_unique_values\": 5,\n        \"samples\": [\n          2015,\n          2018,\n          2016\n        ],\n        \"semantic_type\": \"\",\n        \"description\": \"\"\n      }\n    },\n    {\n      \"column\": \"month\",\n      \"properties\": {\n        \"dtype\": \"number\",\n        \"std\": 3,\n        \"min\": 1,\n        \"max\": 12,\n        \"num_unique_values\": 12,\n        \"samples\": [\n          5,\n          4,\n          7\n        ],\n        \"semantic_type\": \"\",\n        \"description\": \"\"\n      }\n    },\n    {\n      \"column\": \"number_of_contacts\",\n      \"properties\": {\n        \"dtype\": \"number\",\n        \"std\": 34451,\n        \"min\": 68762,\n        \"max\": 209366,\n        \"num_unique_values\": 54,\n        \"samples\": [\n          202290,\n          90307,\n          105188\n        ],\n        \"semantic_type\": \"\",\n        \"description\": \"\"\n      }\n    },\n    {\n      \"column\": \"date\",\n      \"properties\": {\n        \"dtype\": \"object\",\n        \"num_unique_values\": 54,\n        \"samples\": [\n          \"2016-02\",\n          \"2018-08\",\n          \"2018-07\"\n        ],\n        \"semantic_type\": \"\",\n        \"description\": \"\"\n      }\n    }\n  ]\n}"
            }
          },
          "metadata": {},
          "execution_count": 18
        }
      ]
    },
    {
      "cell_type": "code",
      "source": [
        "# !pip install plotly\n",
        "\n",
        "# import matplotlib.pyplot as plt\n",
        "# import seaborn as sns\n",
        "import plotly.express as px"
      ],
      "metadata": {
        "id": "0UMJVC4f5rNp"
      },
      "execution_count": null,
      "outputs": []
    },
    {
      "cell_type": "code",
      "source": [
        "# create interactive line plot\n",
        "fig_line = px.line(sum_contacts, x = 'date', y = 'number_of_contacts',\n",
        "                               title = 'Total Number of Contacts at Visitor Service Centres Over Time',\n",
        "                               labels = {'date': 'Date', 'number_of_contacts': 'Number of Contacts'})\n",
        "\n",
        "# improve layout\n",
        "fig_line.update_layout(\n",
        "    title = {\n",
        "        'text': 'Total Number of Contacts at Visitor Service Centres Over Time',\n",
        "        'y': 0.9,\n",
        "        'x': 0.5,\n",
        "        'xanchor': 'center',\n",
        "        'yanchor': 'top'\n",
        "        },\n",
        "    hovermode = 'closest',  # show tooltip for the closest point\n",
        "    xaxis = dict(tickmode = 'auto', nticks = 20, dtick = \"M3\", tickformat = \"%Y-%m\")\n",
        ")\n",
        "\n",
        "# show the plot\n",
        "fig_line.show()"
      ],
      "metadata": {
        "colab": {
          "base_uri": "https://localhost:8080/",
          "height": 542
        },
        "id": "qSyjS2lg_32G",
        "outputId": "70e2d8b7-54df-4e41-8bde-43b8dfb174b7"
      },
      "execution_count": null,
      "outputs": [
        {
          "output_type": "display_data",
          "data": {
            "text/html": [
              "<html>\n",
              "<head><meta charset=\"utf-8\" /></head>\n",
              "<body>\n",
              "    <div>            <script src=\"https://cdnjs.cloudflare.com/ajax/libs/mathjax/2.7.5/MathJax.js?config=TeX-AMS-MML_SVG\"></script><script type=\"text/javascript\">if (window.MathJax && window.MathJax.Hub && window.MathJax.Hub.Config) {window.MathJax.Hub.Config({SVG: {font: \"STIX-Web\"}});}</script>                <script type=\"text/javascript\">window.PlotlyConfig = {MathJaxConfig: 'local'};</script>\n",
              "        <script charset=\"utf-8\" src=\"https://cdn.plot.ly/plotly-2.24.1.min.js\"></script>                <div id=\"2814bd3b-1b3d-4421-a7d3-2fb436ed0345\" class=\"plotly-graph-div\" style=\"height:525px; width:100%;\"></div>            <script type=\"text/javascript\">                                    window.PLOTLYENV=window.PLOTLYENV || {};                                    if (document.getElementById(\"2814bd3b-1b3d-4421-a7d3-2fb436ed0345\")) {                    Plotly.newPlot(                        \"2814bd3b-1b3d-4421-a7d3-2fb436ed0345\",                        [{\"hovertemplate\":\"Date=%{x}\\u003cbr\\u003eNumber of Contacts=%{y}\\u003cextra\\u003e\\u003c\\u002fextra\\u003e\",\"legendgroup\":\"\",\"line\":{\"color\":\"#636efa\",\"dash\":\"solid\"},\"marker\":{\"symbol\":\"circle\"},\"mode\":\"lines\",\"name\":\"\",\"orientation\":\"v\",\"showlegend\":false,\"x\":[\"2014-07\",\"2014-08\",\"2014-09\",\"2014-10\",\"2014-11\",\"2014-12\",\"2015-01\",\"2015-02\",\"2015-03\",\"2015-04\",\"2015-05\",\"2015-06\",\"2015-07\",\"2015-08\",\"2015-09\",\"2015-10\",\"2015-11\",\"2015-12\",\"2016-01\",\"2016-02\",\"2016-03\",\"2016-04\",\"2016-05\",\"2016-06\",\"2016-07\",\"2016-08\",\"2016-09\",\"2016-10\",\"2016-11\",\"2016-12\",\"2017-01\",\"2017-02\",\"2017-03\",\"2017-04\",\"2017-05\",\"2017-06\",\"2017-07\",\"2017-08\",\"2017-09\",\"2017-10\",\"2017-11\",\"2017-12\",\"2018-01\",\"2018-02\",\"2018-03\",\"2018-04\",\"2018-05\",\"2018-06\",\"2018-07\",\"2018-08\",\"2018-09\",\"2018-10\",\"2018-11\",\"2018-12\"],\"xaxis\":\"x\",\"y\":[162589,137713,136758,150532,164042,193392,206044,194113,205147,166348,126563,130338,170756,145456,146611,160415,185395,183543,209366,202290,180710,149826,118435,111048,153928,116621,134658,162973,163540,176644,196439,161809,160068,146273,109543,110404,128662,115375,111051,137365,149143,163786,153271,141036,137577,118425,88165,84951,105188,90307,68762,92319,95254,137356],\"yaxis\":\"y\",\"type\":\"scatter\"}],                        {\"template\":{\"data\":{\"histogram2dcontour\":[{\"type\":\"histogram2dcontour\",\"colorbar\":{\"outlinewidth\":0,\"ticks\":\"\"},\"colorscale\":[[0.0,\"#0d0887\"],[0.1111111111111111,\"#46039f\"],[0.2222222222222222,\"#7201a8\"],[0.3333333333333333,\"#9c179e\"],[0.4444444444444444,\"#bd3786\"],[0.5555555555555556,\"#d8576b\"],[0.6666666666666666,\"#ed7953\"],[0.7777777777777778,\"#fb9f3a\"],[0.8888888888888888,\"#fdca26\"],[1.0,\"#f0f921\"]]}],\"choropleth\":[{\"type\":\"choropleth\",\"colorbar\":{\"outlinewidth\":0,\"ticks\":\"\"}}],\"histogram2d\":[{\"type\":\"histogram2d\",\"colorbar\":{\"outlinewidth\":0,\"ticks\":\"\"},\"colorscale\":[[0.0,\"#0d0887\"],[0.1111111111111111,\"#46039f\"],[0.2222222222222222,\"#7201a8\"],[0.3333333333333333,\"#9c179e\"],[0.4444444444444444,\"#bd3786\"],[0.5555555555555556,\"#d8576b\"],[0.6666666666666666,\"#ed7953\"],[0.7777777777777778,\"#fb9f3a\"],[0.8888888888888888,\"#fdca26\"],[1.0,\"#f0f921\"]]}],\"heatmap\":[{\"type\":\"heatmap\",\"colorbar\":{\"outlinewidth\":0,\"ticks\":\"\"},\"colorscale\":[[0.0,\"#0d0887\"],[0.1111111111111111,\"#46039f\"],[0.2222222222222222,\"#7201a8\"],[0.3333333333333333,\"#9c179e\"],[0.4444444444444444,\"#bd3786\"],[0.5555555555555556,\"#d8576b\"],[0.6666666666666666,\"#ed7953\"],[0.7777777777777778,\"#fb9f3a\"],[0.8888888888888888,\"#fdca26\"],[1.0,\"#f0f921\"]]}],\"heatmapgl\":[{\"type\":\"heatmapgl\",\"colorbar\":{\"outlinewidth\":0,\"ticks\":\"\"},\"colorscale\":[[0.0,\"#0d0887\"],[0.1111111111111111,\"#46039f\"],[0.2222222222222222,\"#7201a8\"],[0.3333333333333333,\"#9c179e\"],[0.4444444444444444,\"#bd3786\"],[0.5555555555555556,\"#d8576b\"],[0.6666666666666666,\"#ed7953\"],[0.7777777777777778,\"#fb9f3a\"],[0.8888888888888888,\"#fdca26\"],[1.0,\"#f0f921\"]]}],\"contourcarpet\":[{\"type\":\"contourcarpet\",\"colorbar\":{\"outlinewidth\":0,\"ticks\":\"\"}}],\"contour\":[{\"type\":\"contour\",\"colorbar\":{\"outlinewidth\":0,\"ticks\":\"\"},\"colorscale\":[[0.0,\"#0d0887\"],[0.1111111111111111,\"#46039f\"],[0.2222222222222222,\"#7201a8\"],[0.3333333333333333,\"#9c179e\"],[0.4444444444444444,\"#bd3786\"],[0.5555555555555556,\"#d8576b\"],[0.6666666666666666,\"#ed7953\"],[0.7777777777777778,\"#fb9f3a\"],[0.8888888888888888,\"#fdca26\"],[1.0,\"#f0f921\"]]}],\"surface\":[{\"type\":\"surface\",\"colorbar\":{\"outlinewidth\":0,\"ticks\":\"\"},\"colorscale\":[[0.0,\"#0d0887\"],[0.1111111111111111,\"#46039f\"],[0.2222222222222222,\"#7201a8\"],[0.3333333333333333,\"#9c179e\"],[0.4444444444444444,\"#bd3786\"],[0.5555555555555556,\"#d8576b\"],[0.6666666666666666,\"#ed7953\"],[0.7777777777777778,\"#fb9f3a\"],[0.8888888888888888,\"#fdca26\"],[1.0,\"#f0f921\"]]}],\"mesh3d\":[{\"type\":\"mesh3d\",\"colorbar\":{\"outlinewidth\":0,\"ticks\":\"\"}}],\"scatter\":[{\"fillpattern\":{\"fillmode\":\"overlay\",\"size\":10,\"solidity\":0.2},\"type\":\"scatter\"}],\"parcoords\":[{\"type\":\"parcoords\",\"line\":{\"colorbar\":{\"outlinewidth\":0,\"ticks\":\"\"}}}],\"scatterpolargl\":[{\"type\":\"scatterpolargl\",\"marker\":{\"colorbar\":{\"outlinewidth\":0,\"ticks\":\"\"}}}],\"bar\":[{\"error_x\":{\"color\":\"#2a3f5f\"},\"error_y\":{\"color\":\"#2a3f5f\"},\"marker\":{\"line\":{\"color\":\"#E5ECF6\",\"width\":0.5},\"pattern\":{\"fillmode\":\"overlay\",\"size\":10,\"solidity\":0.2}},\"type\":\"bar\"}],\"scattergeo\":[{\"type\":\"scattergeo\",\"marker\":{\"colorbar\":{\"outlinewidth\":0,\"ticks\":\"\"}}}],\"scatterpolar\":[{\"type\":\"scatterpolar\",\"marker\":{\"colorbar\":{\"outlinewidth\":0,\"ticks\":\"\"}}}],\"histogram\":[{\"marker\":{\"pattern\":{\"fillmode\":\"overlay\",\"size\":10,\"solidity\":0.2}},\"type\":\"histogram\"}],\"scattergl\":[{\"type\":\"scattergl\",\"marker\":{\"colorbar\":{\"outlinewidth\":0,\"ticks\":\"\"}}}],\"scatter3d\":[{\"type\":\"scatter3d\",\"line\":{\"colorbar\":{\"outlinewidth\":0,\"ticks\":\"\"}},\"marker\":{\"colorbar\":{\"outlinewidth\":0,\"ticks\":\"\"}}}],\"scattermapbox\":[{\"type\":\"scattermapbox\",\"marker\":{\"colorbar\":{\"outlinewidth\":0,\"ticks\":\"\"}}}],\"scatterternary\":[{\"type\":\"scatterternary\",\"marker\":{\"colorbar\":{\"outlinewidth\":0,\"ticks\":\"\"}}}],\"scattercarpet\":[{\"type\":\"scattercarpet\",\"marker\":{\"colorbar\":{\"outlinewidth\":0,\"ticks\":\"\"}}}],\"carpet\":[{\"aaxis\":{\"endlinecolor\":\"#2a3f5f\",\"gridcolor\":\"white\",\"linecolor\":\"white\",\"minorgridcolor\":\"white\",\"startlinecolor\":\"#2a3f5f\"},\"baxis\":{\"endlinecolor\":\"#2a3f5f\",\"gridcolor\":\"white\",\"linecolor\":\"white\",\"minorgridcolor\":\"white\",\"startlinecolor\":\"#2a3f5f\"},\"type\":\"carpet\"}],\"table\":[{\"cells\":{\"fill\":{\"color\":\"#EBF0F8\"},\"line\":{\"color\":\"white\"}},\"header\":{\"fill\":{\"color\":\"#C8D4E3\"},\"line\":{\"color\":\"white\"}},\"type\":\"table\"}],\"barpolar\":[{\"marker\":{\"line\":{\"color\":\"#E5ECF6\",\"width\":0.5},\"pattern\":{\"fillmode\":\"overlay\",\"size\":10,\"solidity\":0.2}},\"type\":\"barpolar\"}],\"pie\":[{\"automargin\":true,\"type\":\"pie\"}]},\"layout\":{\"autotypenumbers\":\"strict\",\"colorway\":[\"#636efa\",\"#EF553B\",\"#00cc96\",\"#ab63fa\",\"#FFA15A\",\"#19d3f3\",\"#FF6692\",\"#B6E880\",\"#FF97FF\",\"#FECB52\"],\"font\":{\"color\":\"#2a3f5f\"},\"hovermode\":\"closest\",\"hoverlabel\":{\"align\":\"left\"},\"paper_bgcolor\":\"white\",\"plot_bgcolor\":\"#E5ECF6\",\"polar\":{\"bgcolor\":\"#E5ECF6\",\"angularaxis\":{\"gridcolor\":\"white\",\"linecolor\":\"white\",\"ticks\":\"\"},\"radialaxis\":{\"gridcolor\":\"white\",\"linecolor\":\"white\",\"ticks\":\"\"}},\"ternary\":{\"bgcolor\":\"#E5ECF6\",\"aaxis\":{\"gridcolor\":\"white\",\"linecolor\":\"white\",\"ticks\":\"\"},\"baxis\":{\"gridcolor\":\"white\",\"linecolor\":\"white\",\"ticks\":\"\"},\"caxis\":{\"gridcolor\":\"white\",\"linecolor\":\"white\",\"ticks\":\"\"}},\"coloraxis\":{\"colorbar\":{\"outlinewidth\":0,\"ticks\":\"\"}},\"colorscale\":{\"sequential\":[[0.0,\"#0d0887\"],[0.1111111111111111,\"#46039f\"],[0.2222222222222222,\"#7201a8\"],[0.3333333333333333,\"#9c179e\"],[0.4444444444444444,\"#bd3786\"],[0.5555555555555556,\"#d8576b\"],[0.6666666666666666,\"#ed7953\"],[0.7777777777777778,\"#fb9f3a\"],[0.8888888888888888,\"#fdca26\"],[1.0,\"#f0f921\"]],\"sequentialminus\":[[0.0,\"#0d0887\"],[0.1111111111111111,\"#46039f\"],[0.2222222222222222,\"#7201a8\"],[0.3333333333333333,\"#9c179e\"],[0.4444444444444444,\"#bd3786\"],[0.5555555555555556,\"#d8576b\"],[0.6666666666666666,\"#ed7953\"],[0.7777777777777778,\"#fb9f3a\"],[0.8888888888888888,\"#fdca26\"],[1.0,\"#f0f921\"]],\"diverging\":[[0,\"#8e0152\"],[0.1,\"#c51b7d\"],[0.2,\"#de77ae\"],[0.3,\"#f1b6da\"],[0.4,\"#fde0ef\"],[0.5,\"#f7f7f7\"],[0.6,\"#e6f5d0\"],[0.7,\"#b8e186\"],[0.8,\"#7fbc41\"],[0.9,\"#4d9221\"],[1,\"#276419\"]]},\"xaxis\":{\"gridcolor\":\"white\",\"linecolor\":\"white\",\"ticks\":\"\",\"title\":{\"standoff\":15},\"zerolinecolor\":\"white\",\"automargin\":true,\"zerolinewidth\":2},\"yaxis\":{\"gridcolor\":\"white\",\"linecolor\":\"white\",\"ticks\":\"\",\"title\":{\"standoff\":15},\"zerolinecolor\":\"white\",\"automargin\":true,\"zerolinewidth\":2},\"scene\":{\"xaxis\":{\"backgroundcolor\":\"#E5ECF6\",\"gridcolor\":\"white\",\"linecolor\":\"white\",\"showbackground\":true,\"ticks\":\"\",\"zerolinecolor\":\"white\",\"gridwidth\":2},\"yaxis\":{\"backgroundcolor\":\"#E5ECF6\",\"gridcolor\":\"white\",\"linecolor\":\"white\",\"showbackground\":true,\"ticks\":\"\",\"zerolinecolor\":\"white\",\"gridwidth\":2},\"zaxis\":{\"backgroundcolor\":\"#E5ECF6\",\"gridcolor\":\"white\",\"linecolor\":\"white\",\"showbackground\":true,\"ticks\":\"\",\"zerolinecolor\":\"white\",\"gridwidth\":2}},\"shapedefaults\":{\"line\":{\"color\":\"#2a3f5f\"}},\"annotationdefaults\":{\"arrowcolor\":\"#2a3f5f\",\"arrowhead\":0,\"arrowwidth\":1},\"geo\":{\"bgcolor\":\"white\",\"landcolor\":\"#E5ECF6\",\"subunitcolor\":\"white\",\"showland\":true,\"showlakes\":true,\"lakecolor\":\"white\"},\"title\":{\"x\":0.05},\"mapbox\":{\"style\":\"light\"}}},\"xaxis\":{\"anchor\":\"y\",\"domain\":[0.0,1.0],\"title\":{\"text\":\"Date\"},\"tickmode\":\"auto\",\"nticks\":20,\"dtick\":\"M3\",\"tickformat\":\"%Y-%m\"},\"yaxis\":{\"anchor\":\"x\",\"domain\":[0.0,1.0],\"title\":{\"text\":\"Number of Contacts\"}},\"legend\":{\"tracegroupgap\":0},\"title\":{\"text\":\"Total Number of Contacts at Visitor Service Centres Over Time\",\"y\":0.9,\"x\":0.5,\"xanchor\":\"center\",\"yanchor\":\"top\"},\"hovermode\":\"closest\"},                        {\"responsive\": true}                    ).then(function(){\n",
              "                            \n",
              "var gd = document.getElementById('2814bd3b-1b3d-4421-a7d3-2fb436ed0345');\n",
              "var x = new MutationObserver(function (mutations, observer) {{\n",
              "        var display = window.getComputedStyle(gd).display;\n",
              "        if (!display || display === 'none') {{\n",
              "            console.log([gd, 'removed!']);\n",
              "            Plotly.purge(gd);\n",
              "            observer.disconnect();\n",
              "        }}\n",
              "}});\n",
              "\n",
              "// Listen for the removal of the full notebook cells\n",
              "var notebookContainer = gd.closest('#notebook-container');\n",
              "if (notebookContainer) {{\n",
              "    x.observe(notebookContainer, {childList: true});\n",
              "}}\n",
              "\n",
              "// Listen for the clearing of the current output cell\n",
              "var outputEl = gd.closest('.output');\n",
              "if (outputEl) {{\n",
              "    x.observe(outputEl, {childList: true});\n",
              "}}\n",
              "\n",
              "                        })                };                            </script>        </div>\n",
              "</body>\n",
              "</html>"
            ]
          },
          "metadata": {}
        }
      ]
    },
    {
      "cell_type": "markdown",
      "source": [
        "This line chart reveals notable trends in the number of contacts at Visitor Service Centres over time. It is particularly striking that contact volumes peak from December to March each year, while the period from May to September typically experiences the lowest number of visitor contacts. These observations could provide valuable insights for customer service centers, as they may correlate with fluctuations in the volume or nature of customer service requests. To explore this further, additional datasets will be analyzed to examine the relationship between periods of high visitor engagement and increased customer service requests. The integration of these data will allow for a more comprehensive analysis of trends and may reveal actionable correlations between visitor contact stats and customer service requests."
      ],
      "metadata": {
        "id": "4m0RL6vk5uLh"
      }
    },
    {
      "cell_type": "markdown",
      "source": [
        "# **Dataset:** Customer service requests, with resolution time"
      ],
      "metadata": {
        "id": "d2dxUkojWfVD"
      }
    },
    {
      "cell_type": "markdown",
      "source": [
        "## Load dataset"
      ],
      "metadata": {
        "id": "KKgHRgTzf1Bc"
      }
    },
    {
      "cell_type": "code",
      "source": [
        "# export endpoint\n",
        "\n",
        "# https://data.melbourne.vic.gov.au/explore/dataset/customer-service-requests-with-resolution-time/information/\n",
        "dataset2_id = 'customer-service-requests-with-resolution-time'\n",
        "\n",
        "base_URL = 'https://data.melbourne.vic.gov.au/api/explore/v2.1/catalog/datasets/'\n",
        "apikey = api_key\n",
        "dataset2_id = dataset2_id\n",
        "format = 'csv'\n",
        "\n",
        "url = f'{base_URL}{dataset2_id}/exports/{format}'\n",
        "params = {\n",
        "    'select': '*',\n",
        "    'limit': -1,  # all records\n",
        "    'lang': 'en',\n",
        "    'timezone': 'UTC',\n",
        "    'api_key': apikey\n",
        "}\n",
        "\n",
        "# GET request\n",
        "response = requests.get(url, params=params)\n",
        "\n",
        "if response.status_code == 200:\n",
        "    # StringIO to read the CSV data\n",
        "    url_content = response.content.decode('utf-8')\n",
        "    CS_TTR = pd.read_csv(StringIO(url_content), delimiter = ';')\n",
        "    print(CS_TTR.sample(2, random_state = 999))    # test\n",
        "else:\n",
        "    print(f'Request failed with status code {response.status_code}')"
      ],
      "metadata": {
        "id": "yWyagClIeybm",
        "colab": {
          "base_uri": "https://localhost:8080/"
        },
        "outputId": "3df5c314-9ef9-43c1-cde5-3abb855a85f3"
      },
      "execution_count": null,
      "outputs": [
        {
          "output_type": "stream",
          "name": "stdout",
          "text": [
            "      request_status date_received date_completed           suburb  \\\n",
            "22471         CLOSED    2015-10-19     2015-10-28              NaN   \n",
            "4040          CLOSED    2016-04-07     2016-04-14  North Melbourne   \n",
            "\n",
            "                                category              service_desc  \\\n",
            "22471  Waste, Street Cleaning and Litter  Street Cleaning services   \n",
            "4040                            Graffiti          Graffiti Removal   \n",
            "\n",
            "       days_to_complete  \n",
            "22471                 9  \n",
            "4040                  7  \n"
          ]
        }
      ]
    },
    {
      "cell_type": "code",
      "source": [
        "# check length in dataset 2 (dataset2_id)\n",
        "\n",
        "print(f'The dataset contains {len(CS_TTR)} records.')"
      ],
      "metadata": {
        "id": "aDW5TJCTkg4u",
        "colab": {
          "base_uri": "https://localhost:8080/"
        },
        "outputId": "3a5a4f4e-f1c8-4d97-c040-6100880fd103"
      },
      "execution_count": null,
      "outputs": [
        {
          "output_type": "stream",
          "name": "stdout",
          "text": [
            "The dataset contains 46479 records.\n"
          ]
        }
      ]
    },
    {
      "cell_type": "code",
      "source": [
        "print(f'Number of missing values in each column:\\n\\n{CS_TTR.isna().sum()}')"
      ],
      "metadata": {
        "id": "sQwd9kpOk-u4",
        "colab": {
          "base_uri": "https://localhost:8080/"
        },
        "outputId": "94b3276f-340d-4e68-b709-d93d3f96eb28"
      },
      "execution_count": null,
      "outputs": [
        {
          "output_type": "stream",
          "name": "stdout",
          "text": [
            "Number of missing values in each column:\n",
            "\n",
            "request_status          0\n",
            "date_received           0\n",
            "date_completed        848\n",
            "suburb              24894\n",
            "category                0\n",
            "service_desc            0\n",
            "days_to_complete        0\n",
            "dtype: int64\n"
          ]
        }
      ]
    },
    {
      "cell_type": "markdown",
      "source": [
        "## Data cleansing"
      ],
      "metadata": {
        "id": "nlu4-fMlyjY-"
      }
    },
    {
      "cell_type": "code",
      "source": [
        "print(CS_TTR.dtypes)"
      ],
      "metadata": {
        "id": "rb68biU4yoz6",
        "colab": {
          "base_uri": "https://localhost:8080/"
        },
        "outputId": "3551384f-2236-4303-87af-f4b9fc7f0a87"
      },
      "execution_count": null,
      "outputs": [
        {
          "output_type": "stream",
          "name": "stdout",
          "text": [
            "request_status      object\n",
            "date_received       object\n",
            "date_completed      object\n",
            "suburb              object\n",
            "category            object\n",
            "service_desc        object\n",
            "days_to_complete     int64\n",
            "dtype: object\n"
          ]
        }
      ]
    },
    {
      "cell_type": "markdown",
      "source": [
        "*Upon reviewing the dataset and its schema, it became clear that the date columns were not in the correct datetime format, a necessary conversion for any time-based calculations in later analysis. The 'suburb' and 'category' columns, which contain categorical data, could potentially be encoded for more efficient processing in subsequent steps. However, I will refrain from encoding at this stage, as these columns may be merged with another dataset to create a more comprehensive analysis later on.*"
      ],
      "metadata": {
        "id": "_e44Q7Ma6Pjn"
      }
    },
    {
      "cell_type": "code",
      "source": [
        "# convert columns 'date_received' and 'date_completed' to datetime object\n",
        "\n",
        "CS_TTR['date_received'] = pd.to_datetime(CS_TTR['date_received'])\n",
        "CS_TTR['date_completed'] = pd.to_datetime(CS_TTR['date_completed'], errors = 'coerce')"
      ],
      "metadata": {
        "id": "_hZsAB5X6PTf"
      },
      "execution_count": null,
      "outputs": []
    },
    {
      "cell_type": "code",
      "source": [
        "print(CS_TTR.dtypes)"
      ],
      "metadata": {
        "id": "p8WK6T6a6oRO",
        "colab": {
          "base_uri": "https://localhost:8080/"
        },
        "outputId": "e90bc1a8-baaf-4188-d90b-05516e3499dd"
      },
      "execution_count": null,
      "outputs": [
        {
          "output_type": "stream",
          "name": "stdout",
          "text": [
            "request_status              object\n",
            "date_received       datetime64[ns]\n",
            "date_completed      datetime64[ns]\n",
            "suburb                      object\n",
            "category                    object\n",
            "service_desc                object\n",
            "days_to_complete             int64\n",
            "dtype: object\n"
          ]
        }
      ]
    },
    {
      "cell_type": "markdown",
      "source": [
        "*I have determined that it is reasonable to presume that some requests may not have been completed at the time the data was collected. Consequently, it is appropriate to maintain these records as 'NaN' instead of imputing artificial completion dates. These rows will be preserved within the 'date_completed' column, as they are indicative of actual service requests, irrespective of their completion status. However, they may need to be excluded from future analyses involving resolution times.*\n",
        "\n",
        "*Previously, I entertained the idea of performing a geographical analysis, but I have since decided against it due to the current lack of sufficient geographical data. Adhering to my initial objectives, which focus on the volume of requests, categories, and resolution times, I deemed the 'suburb' information non-essential. Moreover, given that more than half of the dataset's records lack 'suburb' data, removing these rows could significantly diminish the dataset's size and introduce potential biases.*\n",
        "\n",
        "*Given these considerations, reclassifying the missing 'suburb' data as 'Unknown' or 'Not Applicable' appears to be the most prudent course of action. This will preserve the integrity of the dataset and maintain the option for geographical analysis should it become pertinent in the future.*"
      ],
      "metadata": {
        "id": "hjFPGkQ76WF9"
      }
    },
    {
      "cell_type": "code",
      "source": [
        "# replace the 'NaN' values in 'suburb' column with 'Unknown'\n",
        "\n",
        "CS_TTR['suburb'].fillna('Unknown', inplace = True)"
      ],
      "metadata": {
        "id": "UykhDEnE6YSt"
      },
      "execution_count": null,
      "outputs": []
    },
    {
      "cell_type": "markdown",
      "source": [
        "# **Dataset:** Customer Service Requests (with digital channel information)"
      ],
      "metadata": {
        "id": "gu7LWSpK681v"
      }
    },
    {
      "cell_type": "markdown",
      "source": [
        "## Load dataset"
      ],
      "metadata": {
        "id": "sB_eBs857Cod"
      }
    },
    {
      "cell_type": "code",
      "source": [
        "# export endpoint\n",
        "\n",
        "# https://data.melbourne.vic.gov.au/explore/dataset/customer-service-requests-with-digital-channel-information/table/\n",
        "dataset3_id = 'customer-service-requests-with-digital-channel-information'\n",
        "\n",
        "base_URL = 'https://data.melbourne.vic.gov.au/api/explore/v2.1/catalog/datasets/'\n",
        "apikey = api_key\n",
        "dataset3_id = dataset3_id\n",
        "format = 'csv'\n",
        "\n",
        "url = f'{base_URL}{dataset3_id}/exports/{format}'\n",
        "params = {\n",
        "    'select': '*',\n",
        "    'limit': -1,  # all records\n",
        "    'lang': 'en',\n",
        "    'timezone': 'UTC',\n",
        "    'api_key': apikey\n",
        "}\n",
        "\n",
        "# GET request\n",
        "response = requests.get(url, params = params)\n",
        "\n",
        "if response.status_code == 200:\n",
        "    # StringIO to read the CSV data\n",
        "    url_content = response.content.decode('utf-8')\n",
        "    CS_digital = pd.read_csv(StringIO(url_content), delimiter = ';')\n",
        "    print(CS_digital.sample(2, random_state = 999))    # test\n",
        "else:\n",
        "    print(f'Request failed with status code {response.status_code}')"
      ],
      "metadata": {
        "id": "dTwp9kC56saP",
        "colab": {
          "base_uri": "https://localhost:8080/"
        },
        "outputId": "0dabf210-9956-4099-9e0b-b447c266cfd8"
      },
      "execution_count": null,
      "outputs": [
        {
          "output_type": "stream",
          "name": "stdout",
          "text": [
            "                   service_type                date_opened  \\\n",
            "37845        Syringe Management  2018-01-09T13:20:00+00:00   \n",
            "381    Tree Maintenance Request  2018-02-10T11:14:00+00:00   \n",
            "\n",
            "                     date_closed  status case_origin     suburb  \n",
            "37845  2018-01-09T14:00:00+00:00  Closed         Web  Southbank  \n",
            "381    2018-02-21T13:36:00+00:00  Closed         Web  Melbourne  \n"
          ]
        }
      ]
    },
    {
      "cell_type": "code",
      "source": [
        "# check length in dataset 3 (dataset3_id)\n",
        "\n",
        "print(f'The dataset contains {len(CS_digital)} records.')"
      ],
      "metadata": {
        "id": "wdfWUlDF6sT6",
        "colab": {
          "base_uri": "https://localhost:8080/"
        },
        "outputId": "23e20121-b276-4db5-df6d-642454250e6d"
      },
      "execution_count": null,
      "outputs": [
        {
          "output_type": "stream",
          "name": "stdout",
          "text": [
            "The dataset contains 42221 records.\n"
          ]
        }
      ]
    },
    {
      "cell_type": "code",
      "source": [
        "print(CS_digital.isna().sum())"
      ],
      "metadata": {
        "id": "CF3DoNv56sJJ",
        "colab": {
          "base_uri": "https://localhost:8080/"
        },
        "outputId": "f53b9151-4de3-42d1-e030-8acf70529366"
      },
      "execution_count": null,
      "outputs": [
        {
          "output_type": "stream",
          "name": "stdout",
          "text": [
            "service_type        0\n",
            "date_opened         0\n",
            "date_closed      9491\n",
            "status              0\n",
            "case_origin         0\n",
            "suburb          22618\n",
            "dtype: int64\n"
          ]
        }
      ]
    },
    {
      "cell_type": "code",
      "source": [
        "print(CS_digital.dtypes)"
      ],
      "metadata": {
        "id": "a9L586UN7aOc",
        "colab": {
          "base_uri": "https://localhost:8080/"
        },
        "outputId": "acc6cef6-6252-4b21-d181-261b88ae0ce8"
      },
      "execution_count": null,
      "outputs": [
        {
          "output_type": "stream",
          "name": "stdout",
          "text": [
            "service_type    object\n",
            "date_opened     object\n",
            "date_closed     object\n",
            "status          object\n",
            "case_origin     object\n",
            "suburb          object\n",
            "dtype: object\n"
          ]
        }
      ]
    },
    {
      "cell_type": "code",
      "source": [
        "CS_digital['date_opened'] = pd.to_datetime(CS_digital['date_opened'])\n",
        "CS_digital['date_closed'] = pd.to_datetime(CS_digital['date_closed'])"
      ],
      "metadata": {
        "id": "avdeBs3h7idC"
      },
      "execution_count": null,
      "outputs": []
    },
    {
      "cell_type": "code",
      "source": [
        "print(CS_digital.dtypes)"
      ],
      "metadata": {
        "id": "3kUTdRxe7mW8",
        "colab": {
          "base_uri": "https://localhost:8080/"
        },
        "outputId": "84f6edfc-c909-4bbd-c585-7080b4ce8980"
      },
      "execution_count": null,
      "outputs": [
        {
          "output_type": "stream",
          "name": "stdout",
          "text": [
            "service_type                 object\n",
            "date_opened     datetime64[ns, UTC]\n",
            "date_closed     datetime64[ns, UTC]\n",
            "status                       object\n",
            "case_origin                  object\n",
            "suburb                       object\n",
            "dtype: object\n"
          ]
        }
      ]
    },
    {
      "cell_type": "code",
      "source": [
        "# replace the 'NaN' values in 'suburb' column with 'Unknown'\n",
        "\n",
        "CS_digital['suburb'].fillna('Unknown', inplace = True)"
      ],
      "metadata": {
        "id": "HNoelkqn7qoV"
      },
      "execution_count": null,
      "outputs": []
    },
    {
      "cell_type": "code",
      "source": [
        "CS_digital_copy = CS_digital.copy()"
      ],
      "metadata": {
        "id": "UxKrFjkD7u2o"
      },
      "execution_count": null,
      "outputs": []
    },
    {
      "cell_type": "code",
      "source": [
        "# to convert the datetime object contain date values only\n",
        "\n",
        "CS_digital_copy['date_opened'] = pd.to_datetime(CS_digital['date_opened'].dt.date)\n",
        "CS_digital_copy['date_closed'] = pd.to_datetime(CS_digital['date_closed'].dt.date)"
      ],
      "metadata": {
        "id": "NDZ1TZLO73pF"
      },
      "execution_count": null,
      "outputs": []
    },
    {
      "cell_type": "code",
      "source": [
        "print(CS_digital_copy.head(2))"
      ],
      "metadata": {
        "id": "3pgdmJRw73m5",
        "colab": {
          "base_uri": "https://localhost:8080/"
        },
        "outputId": "84c127a6-382a-4291-8de2-b2fe4242e53c"
      },
      "execution_count": null,
      "outputs": [
        {
          "output_type": "stream",
          "name": "stdout",
          "text": [
            "                    service_type date_opened date_closed status case_origin  \\\n",
            "0  Infringement Review - Parking  2018-05-31         NaT    New       Phone   \n",
            "1  Infringement Review - Parking  2018-04-24         NaT    New        Mail   \n",
            "\n",
            "    suburb  \n",
            "0  Unknown  \n",
            "1  Unknown  \n"
          ]
        }
      ]
    },
    {
      "cell_type": "code",
      "source": [
        "print(CS_digital_copy.dtypes)"
      ],
      "metadata": {
        "id": "4ewY4Iqv73k9",
        "colab": {
          "base_uri": "https://localhost:8080/"
        },
        "outputId": "f4762ca2-8e15-4c73-ef17-e9eb4592d6c6"
      },
      "execution_count": null,
      "outputs": [
        {
          "output_type": "stream",
          "name": "stdout",
          "text": [
            "service_type            object\n",
            "date_opened     datetime64[ns]\n",
            "date_closed     datetime64[ns]\n",
            "status                  object\n",
            "case_origin             object\n",
            "suburb                  object\n",
            "dtype: object\n"
          ]
        }
      ]
    },
    {
      "cell_type": "markdown",
      "source": [
        "# **Combining datasets**"
      ],
      "metadata": {
        "id": "yRKZborA8W2d"
      }
    },
    {
      "cell_type": "code",
      "source": [
        "# align and rename columns in these two dataset\n",
        "\n",
        "CS_digital_copy = CS_digital_copy.rename(\n",
        "    columns = {\n",
        "        'date_opened': 'date_received',\n",
        "        'date_closed': 'date_completed'\n",
        "    }\n",
        ")\n",
        "\n",
        "CS_TTR = CS_TTR.rename(\n",
        "    columns = {'service_desc': 'service_type','request_status': 'status'}\n",
        ")"
      ],
      "metadata": {
        "id": "P0BYIcsX73Y6"
      },
      "execution_count": null,
      "outputs": []
    },
    {
      "cell_type": "code",
      "source": [
        "print(CS_digital_copy.head(2))"
      ],
      "metadata": {
        "id": "e3x8kPcp84YU",
        "colab": {
          "base_uri": "https://localhost:8080/"
        },
        "outputId": "dbde7c99-904e-425a-c1b4-9c3e11e56544"
      },
      "execution_count": null,
      "outputs": [
        {
          "output_type": "stream",
          "name": "stdout",
          "text": [
            "                    service_type date_received date_completed status  \\\n",
            "0  Infringement Review - Parking    2018-05-31            NaT    New   \n",
            "1  Infringement Review - Parking    2018-04-24            NaT    New   \n",
            "\n",
            "  case_origin   suburb  \n",
            "0       Phone  Unknown  \n",
            "1        Mail  Unknown  \n"
          ]
        }
      ]
    },
    {
      "cell_type": "code",
      "source": [
        "print(CS_TTR.head(2))"
      ],
      "metadata": {
        "id": "QFMfQOBe84Mn",
        "colab": {
          "base_uri": "https://localhost:8080/"
        },
        "outputId": "17b9e741-ed1a-4352-9a39-6cb002e79f5d"
      },
      "execution_count": null,
      "outputs": [
        {
          "output_type": "stream",
          "name": "stdout",
          "text": [
            "   status date_received date_completed          suburb  \\\n",
            "0  CLOSED    2016-05-05     2016-05-12         Carlton   \n",
            "1  CLOSED    2014-11-20     2014-11-21  East Melbourne   \n",
            "\n",
            "                            category           service_type  days_to_complete  \n",
            "0                           Graffiti       Graffiti Removal                 7  \n",
            "1  Waste, Street Cleaning and Litter  Missed Bin Collection                 1  \n"
          ]
        }
      ]
    },
    {
      "cell_type": "code",
      "source": [
        "df = pd.concat([CS_TTR, CS_digital_copy], ignore_index = True)"
      ],
      "metadata": {
        "id": "yk_Rsrjs9EGB"
      },
      "execution_count": null,
      "outputs": []
    },
    {
      "cell_type": "code",
      "source": [
        "print(df.head(2))"
      ],
      "metadata": {
        "id": "FszuF8oB9IM3",
        "colab": {
          "base_uri": "https://localhost:8080/"
        },
        "outputId": "a4353e29-f97c-45eb-f7e8-b0dd85db4b08"
      },
      "execution_count": null,
      "outputs": [
        {
          "output_type": "stream",
          "name": "stdout",
          "text": [
            "   status date_received date_completed          suburb  \\\n",
            "0  CLOSED    2016-05-05     2016-05-12         Carlton   \n",
            "1  CLOSED    2014-11-20     2014-11-21  East Melbourne   \n",
            "\n",
            "                            category           service_type  days_to_complete  \\\n",
            "0                           Graffiti       Graffiti Removal               7.0   \n",
            "1  Waste, Street Cleaning and Litter  Missed Bin Collection               1.0   \n",
            "\n",
            "  case_origin  \n",
            "0         NaN  \n",
            "1         NaN  \n"
          ]
        }
      ]
    },
    {
      "cell_type": "code",
      "source": [
        "# check length in the merged dataset\n",
        "\n",
        "print(f'This combined dataset contains {len(df)} records.')"
      ],
      "metadata": {
        "id": "BuhPEv2W9LO4",
        "colab": {
          "base_uri": "https://localhost:8080/"
        },
        "outputId": "46f82838-da7f-4f68-c73e-7be4d40db053"
      },
      "execution_count": null,
      "outputs": [
        {
          "output_type": "stream",
          "name": "stdout",
          "text": [
            "This combined dataset contains 88700 records.\n"
          ]
        }
      ]
    },
    {
      "cell_type": "code",
      "source": [
        "print(df.dtypes)"
      ],
      "metadata": {
        "id": "_Ao_Qig49LLZ",
        "colab": {
          "base_uri": "https://localhost:8080/"
        },
        "outputId": "0c481750-5f9a-4bc4-9fc1-47c0ffba0d68"
      },
      "execution_count": null,
      "outputs": [
        {
          "output_type": "stream",
          "name": "stdout",
          "text": [
            "status                      object\n",
            "date_received       datetime64[ns]\n",
            "date_completed      datetime64[ns]\n",
            "suburb                      object\n",
            "category                    object\n",
            "service_type                object\n",
            "days_to_complete           float64\n",
            "case_origin                 object\n",
            "dtype: object\n"
          ]
        }
      ]
    },
    {
      "cell_type": "code",
      "source": [
        "print(f'Number of missing values in each column:\\n\\n{df.isna().sum()}')"
      ],
      "metadata": {
        "id": "_geU1Exz9LIH",
        "colab": {
          "base_uri": "https://localhost:8080/"
        },
        "outputId": "0959c7e4-df2b-4d43-9757-d71798efa9bb"
      },
      "execution_count": null,
      "outputs": [
        {
          "output_type": "stream",
          "name": "stdout",
          "text": [
            "Number of missing values in each column:\n",
            "\n",
            "status                  0\n",
            "date_received           0\n",
            "date_completed      10339\n",
            "suburb                  0\n",
            "category            42221\n",
            "service_type            0\n",
            "days_to_complete    42221\n",
            "case_origin         46479\n",
            "dtype: int64\n"
          ]
        }
      ]
    },
    {
      "cell_type": "code",
      "source": [
        "# filling 'NaN' in 'case_origin' column with 'Unknown'\n",
        "df['case_origin'].fillna('Unknown', inplace = True)"
      ],
      "metadata": {
        "id": "1RRX8o-u9LFW"
      },
      "execution_count": null,
      "outputs": []
    },
    {
      "cell_type": "code",
      "source": [
        "print(f'Number of missing values in each column:\\n\\n{df.isna().sum()}')"
      ],
      "metadata": {
        "id": "DZCssDdf9rFj",
        "colab": {
          "base_uri": "https://localhost:8080/"
        },
        "outputId": "4ed503a9-a3c9-4344-b1cb-bd4645b1abcb"
      },
      "execution_count": null,
      "outputs": [
        {
          "output_type": "stream",
          "name": "stdout",
          "text": [
            "Number of missing values in each column:\n",
            "\n",
            "status                  0\n",
            "date_received           0\n",
            "date_completed      10339\n",
            "suburb                  0\n",
            "category            42221\n",
            "service_type            0\n",
            "days_to_complete    42221\n",
            "case_origin             0\n",
            "dtype: int64\n"
          ]
        }
      ]
    },
    {
      "cell_type": "code",
      "source": [
        "print(df[df['category'].isna()]['service_type'].unique())"
      ],
      "metadata": {
        "id": "rpW6knQH99Zt",
        "colab": {
          "base_uri": "https://localhost:8080/"
        },
        "outputId": "104e7ae3-0d08-44c1-e7f9-134aa4f727cd"
      },
      "execution_count": null,
      "outputs": [
        {
          "output_type": "stream",
          "name": "stdout",
          "text": [
            "['Infringement Review - Parking' 'Graffiti Removal Request'\n",
            " 'Illegally Dumped Rubbish' 'Request for Parking Officer' 'Rough Sleeping'\n",
            " 'Infringement Review' 'Tree Maintenance Request' 'Abandoned Vehicles'\n",
            " 'Syringe Management' 'Infringement Review - Local Law' 'Ratepayer waste'\n",
            " 'General Enquiry' 'Other' 'Infringement Review - Animal Management']\n"
          ]
        }
      ]
    },
    {
      "cell_type": "code",
      "source": [
        "print(f\"Number of categories: {df['category'].nunique()}\\n\\n{df['category'].unique()}\")"
      ],
      "metadata": {
        "id": "OfbKhrbU__Bh",
        "colab": {
          "base_uri": "https://localhost:8080/"
        },
        "outputId": "02990ecf-302e-409d-93b8-d85070e5ec12"
      },
      "execution_count": null,
      "outputs": [
        {
          "output_type": "stream",
          "name": "stdout",
          "text": [
            "Number of categories: 6\n",
            "\n",
            "['Graffiti' 'Waste, Street Cleaning and Litter' 'Parks and Trees'\n",
            " 'Roads and Traffic' 'Asset maintenance' 'Parking' nan]\n"
          ]
        }
      ]
    },
    {
      "cell_type": "code",
      "source": [
        "print(f\"Unique values in 'Waste, Street Cleaning and Litter' category: \\n\\n{df[df['category'] == 'Waste, Street Cleaning and Litter']['service_type'].unique()}\")"
      ],
      "metadata": {
        "id": "0S13r3Uz-E5q",
        "colab": {
          "base_uri": "https://localhost:8080/"
        },
        "outputId": "e7d17fcf-8ac6-4552-bcf6-97f73c0a05e2"
      },
      "execution_count": null,
      "outputs": [
        {
          "output_type": "stream",
          "name": "stdout",
          "text": [
            "Unique values in 'Waste, Street Cleaning and Litter' category: \n",
            "\n",
            "['Missed Bin Collection' 'Street Cleaning services' 'Damaged Bins'\n",
            " 'Public Litter Bin' 'Missing Bin' 'Waste collection services'\n",
            " 'Dumped Rubbish' 'Syringe pick-up services' 'Organic Waste'\n",
            " 'Waste Compactor' 'Waterways']\n"
          ]
        }
      ]
    },
    {
      "cell_type": "code",
      "source": [
        "print(f\"Unique values in 'Graffiti' category: \\n\\n{df[df['category'] == 'Graffiti']['service_type'].unique()}\")"
      ],
      "metadata": {
        "id": "SWh7w6Vv-J7c",
        "colab": {
          "base_uri": "https://localhost:8080/"
        },
        "outputId": "92b38498-b6f9-410d-d58f-ea50028a2960"
      },
      "execution_count": null,
      "outputs": [
        {
          "output_type": "stream",
          "name": "stdout",
          "text": [
            "Unique values in 'Graffiti' category: \n",
            "\n",
            "['Graffiti Removal']\n"
          ]
        }
      ]
    },
    {
      "cell_type": "code",
      "source": [
        "print(f\"Unique values in 'Roads and Traffic' category: \\n\\n{df[df['category'] == 'Roads and Traffic']['service_type'].unique()}\")"
      ],
      "metadata": {
        "id": "pPWBovXEAX45",
        "colab": {
          "base_uri": "https://localhost:8080/"
        },
        "outputId": "7f132b72-4765-4529-b525-19fdc53a1747"
      },
      "execution_count": null,
      "outputs": [
        {
          "output_type": "stream",
          "name": "stdout",
          "text": [
            "Unique values in 'Roads and Traffic' category: \n",
            "\n",
            "['Road and Footpath Maintenance' 'Traffic Management' 'Drain Maintenance']\n"
          ]
        }
      ]
    },
    {
      "cell_type": "code",
      "source": [
        "print(f\"Unique values in 'Parking' category:\\n\\n{df[df['category'] == 'Parking']['service_type'].unique()}\")"
      ],
      "metadata": {
        "id": "-UQSJEhAAXpb",
        "colab": {
          "base_uri": "https://localhost:8080/"
        },
        "outputId": "0ffe8896-aa20-4c8c-b83d-4b53e289e84b"
      },
      "execution_count": null,
      "outputs": [
        {
          "output_type": "stream",
          "name": "stdout",
          "text": [
            "Unique values in 'Parking' category:\n",
            "\n",
            "['Parking Compliance Services' 'Parking Meter Service']\n"
          ]
        }
      ]
    },
    {
      "cell_type": "code",
      "source": [
        "print(f\"Unique values in 'Parks and Trees' category:\\n\\n{df[df['category'] == 'Parks and Trees']['service_type'].unique()}\")"
      ],
      "metadata": {
        "id": "0v8JO_nCAXjI",
        "colab": {
          "base_uri": "https://localhost:8080/"
        },
        "outputId": "41a266c0-c4bc-4fef-f5fd-cf9bac2dbb7e"
      },
      "execution_count": null,
      "outputs": [
        {
          "output_type": "stream",
          "name": "stdout",
          "text": [
            "Unique values in 'Parks and Trees' category:\n",
            "\n",
            "['Park Cleaning' 'Tree Maintenance Services'\n",
            " 'Condition of Assets in Parks' 'Lawns and Irrigation'\n",
            " 'Sport and Playground Facilities']\n"
          ]
        }
      ]
    },
    {
      "cell_type": "code",
      "source": [
        "print(f\"Unique values in 'Asset maintenance' category:\\n\\n{df[df['category'] == 'Asset maintenance']['service_type'].unique()}\")"
      ],
      "metadata": {
        "id": "25P9Fmj9AXdx",
        "colab": {
          "base_uri": "https://localhost:8080/"
        },
        "outputId": "7608f17b-a4cf-414f-a90d-7055228dae71"
      },
      "execution_count": null,
      "outputs": [
        {
          "output_type": "stream",
          "name": "stdout",
          "text": [
            "Unique values in 'Asset maintenance' category:\n",
            "\n",
            "['Street Maintenance' 'Street Lighting Maintenance' 'Public Toilets'\n",
            " 'Bridge Maintenance' 'Bike pod services']\n"
          ]
        }
      ]
    },
    {
      "cell_type": "markdown",
      "source": [
        "After examination, each service type will be grouped to:\n",
        "\n",
        "**[Graffiti]**\n",
        "*   Graffiti Removal\n",
        "*   Graffiti Removal Request\n",
        "\n",
        "**[Waste, Street Cleaning and Litter]**\n",
        "*   Missed Bin Collection\n",
        "*   Street Cleaning services\n",
        "*   Damaged Bins\n",
        "*   Public Litter Bin\n",
        "*   Missing Bin\n",
        "*   Waste collection services\n",
        "*   Dumped Rubbish\n",
        "*   Syringe pick-up services\n",
        "*   Organic Waste\n",
        "*   Waste Compactor\n",
        "*   Waterways\n",
        "*   Syringe Management\n",
        "*   Illegally Dumped Rubbish\n",
        "*   Ratepayer waste\n",
        "\n",
        "**[Parks and Trees]**\n",
        "*   Park Cleaning\n",
        "*   Tree Maintenance Services\n",
        "*   Condition of Assets in Parks\n",
        "*   Lawns and Irrigation\n",
        "*   Sport and Playground Facilities\n",
        "*   Tree Maintenance Request\n",
        "*   Rough Sleeping\n",
        "\n",
        "**[Roads and Traffic]**\n",
        "*   Road and Footpath Maintenance\n",
        "*   Traffic Management\n",
        "*   Drain Maintenance\n",
        "\n",
        "**[Asset maintenance]**\n",
        "*   Street Maintenance\n",
        "*   Street Lighting Maintenance\n",
        "*   Public Toilets\n",
        "*   Bridge Maintenance\n",
        "*   Bike pod services\n",
        "\n",
        "**[Parking]**\n",
        "*   Parking Compliance Services\n",
        "*   Parking Meter Service\n",
        "*   Request for Parking Officer\n",
        "*   Abandoned Vehicles\n",
        "\n",
        "**[General]**\n",
        "*   Infringement Review\n",
        "*   Infringement Review - Parking\n",
        "*   Infringement Review - Animal Management\n",
        "*   Infringement Review - Local Law\n",
        "*   General Enquiry\n",
        "*   Other"
      ],
      "metadata": {
        "id": "vm9j7OmP-QY9"
      }
    },
    {
      "cell_type": "code",
      "source": [
        "# define categorization mapping\n",
        "\n",
        "categorization = {\n",
        "    'Infringement Review': 'General',\n",
        "    'Infringement Review - Parking': 'General',\n",
        "    'Infringement Review - Animal Management': 'General',\n",
        "    'Infringement Review - Local Law': 'General',\n",
        "    'General Enquiry': 'General',\n",
        "    'Other': 'General',\n",
        "    'Graffiti Removal Request': 'Graffiti',\n",
        "    'Syringe Management': 'Waste, Street Cleaning and Litter',\n",
        "    'Illegally Dumped Rubbish': 'Waste, Street Cleaning and Litter',\n",
        "    'Ratepayer waste': 'Waste, Street Cleaning and Litter',\n",
        "    'Request for Parking Officer': 'Parking',\n",
        "    'Abandoned Vehicles': 'Parking',\n",
        "    'Tree Maintenance Request': 'Parks and Trees',\n",
        "    'Rough Sleeping': 'Parks and Trees'\n",
        "    }\n",
        "\n",
        "# missing_category = df['category'].isnull()\n",
        "\n",
        "# apply the categorization\n",
        "df.loc[df['category'].isnull(), 'category'] = df[df['category'].isnull()]['service_type'].map(categorization)"
      ],
      "metadata": {
        "id": "apsMWidi-ZIj"
      },
      "execution_count": null,
      "outputs": []
    },
    {
      "cell_type": "code",
      "source": [
        "print(df.isna().sum())"
      ],
      "metadata": {
        "id": "ZVF51RTZA_s0",
        "colab": {
          "base_uri": "https://localhost:8080/"
        },
        "outputId": "571ada12-55d0-4d86-ff41-1602908b609b"
      },
      "execution_count": null,
      "outputs": [
        {
          "output_type": "stream",
          "name": "stdout",
          "text": [
            "status                  0\n",
            "date_received           0\n",
            "date_completed      10339\n",
            "suburb                  0\n",
            "category                0\n",
            "service_type            0\n",
            "days_to_complete    42221\n",
            "case_origin             0\n",
            "dtype: int64\n"
          ]
        }
      ]
    },
    {
      "cell_type": "code",
      "source": [
        "# address the duplication in service types\n",
        "\n",
        "replacements = {\n",
        "    'Graffiti Removal Request': 'Graffiti Removal',\n",
        "    'Syringe pick-up services': 'Syringe Management',\n",
        "    'Tree Maintenance Request': 'Tree Maintenance Services',\n",
        "    'Infringement Review': 'Infringement Review - Undefined',\n",
        "    'Dumped Rubbish': 'Illegally Dumped Rubbish',}\n",
        "\n",
        "df['service_type'] = df['service_type'].replace(replacements)"
      ],
      "metadata": {
        "id": "TMmwktTfBQ-_"
      },
      "execution_count": null,
      "outputs": []
    },
    {
      "cell_type": "code",
      "source": [
        "print(f\"All unique service types: {df['service_type'].nunique()}\\n\\n{df['service_type'].unique()}\")"
      ],
      "metadata": {
        "id": "zFSJqN1cIQyi",
        "colab": {
          "base_uri": "https://localhost:8080/"
        },
        "outputId": "38a10d6f-d362-4b96-a8fa-7c7d35edb538"
      },
      "execution_count": null,
      "outputs": [
        {
          "output_type": "stream",
          "name": "stdout",
          "text": [
            "All unique service types: 37\n",
            "\n",
            "['Graffiti Removal' 'Missed Bin Collection' 'Street Cleaning services'\n",
            " 'Damaged Bins' 'Public Litter Bin' 'Park Cleaning'\n",
            " 'Tree Maintenance Services' 'Condition of Assets in Parks'\n",
            " 'Road and Footpath Maintenance' 'Missing Bin' 'Lawns and Irrigation'\n",
            " 'Waste collection services' 'Illegally Dumped Rubbish'\n",
            " 'Syringe Management' 'Street Maintenance' 'Parking Compliance Services'\n",
            " 'Street Lighting Maintenance' 'Public Toilets' 'Traffic Management'\n",
            " 'Sport and Playground Facilities' 'Drain Maintenance' 'Organic Waste'\n",
            " 'Bridge Maintenance' 'Parking Meter Service' 'Waste Compactor'\n",
            " 'Bike pod services' 'Waterways' 'Infringement Review - Parking'\n",
            " 'Request for Parking Officer' 'Rough Sleeping'\n",
            " 'Infringement Review - Undefined' 'Abandoned Vehicles'\n",
            " 'Infringement Review - Local Law' 'Ratepayer waste' 'General Enquiry'\n",
            " 'Other' 'Infringement Review - Animal Management']\n"
          ]
        }
      ]
    },
    {
      "cell_type": "code",
      "source": [
        "print(f\"All unique status: {df['status'].nunique()}\\n\\n{df['status'].unique()}\")"
      ],
      "metadata": {
        "id": "e-5EdoYzO0KD",
        "colab": {
          "base_uri": "https://localhost:8080/"
        },
        "outputId": "db1eba05-c778-4b94-b13d-72ca5083877e"
      },
      "execution_count": null,
      "outputs": [
        {
          "output_type": "stream",
          "name": "stdout",
          "text": [
            "All unique status: 15\n",
            "\n",
            "['CLOSED' 'WIP' 'NEW' 'REASSIGNED' 'ACTIONED' 'New' 'Closed'\n",
            " 'Assigned for Action' 'In Progress' 'Closed as Duplicate'\n",
            " 'Awaiting Customer Information' 'Escalated' 'Actioned' 'TL Action'\n",
            " 'Pending Closure']\n"
          ]
        }
      ]
    },
    {
      "cell_type": "code",
      "source": [
        "# # convert 'status' to lower case to standardize it\n",
        "# df['status'] = df['status'].str.lower()\n",
        "\n",
        "# capitalize only the first letter of each word in 'status'\n",
        "df['status'] = df['status'].str.title()\n",
        "\n",
        "# address the duplication in 'status' column\n",
        "status_replacement = {\n",
        "    'Wip': 'In Progress'\n",
        "}\n",
        "\n",
        "df['status'] = df['status'].replace(status_replacement)"
      ],
      "metadata": {
        "id": "7GYjZqnsYi7H"
      },
      "execution_count": null,
      "outputs": []
    },
    {
      "cell_type": "code",
      "source": [
        "print(f\"All unique status: {df['status'].nunique()}\\n\\n{df['status'].unique()}\")"
      ],
      "metadata": {
        "id": "8q3UrtY3Qny3",
        "colab": {
          "base_uri": "https://localhost:8080/"
        },
        "outputId": "8ae8a970-2a0a-40c4-bba1-1a3f5c99fa09"
      },
      "execution_count": null,
      "outputs": [
        {
          "output_type": "stream",
          "name": "stdout",
          "text": [
            "All unique status: 11\n",
            "\n",
            "['Closed' 'In Progress' 'New' 'Reassigned' 'Actioned'\n",
            " 'Assigned For Action' 'Closed As Duplicate'\n",
            " 'Awaiting Customer Information' 'Escalated' 'Tl Action' 'Pending Closure']\n"
          ]
        }
      ]
    },
    {
      "cell_type": "code",
      "source": [
        "print(f\"All unique suburb: {df['suburb'].nunique()}\\n\\n{df['suburb'].unique()}\")"
      ],
      "metadata": {
        "id": "jAqHEbRsQ2VV",
        "colab": {
          "base_uri": "https://localhost:8080/"
        },
        "outputId": "a157eb41-edf6-4188-ba4a-f2ca09a9b8e3"
      },
      "execution_count": null,
      "outputs": [
        {
          "output_type": "stream",
          "name": "stdout",
          "text": [
            "All unique suburb: 45\n",
            "\n",
            "['Carlton' 'East Melbourne' 'Melbourne' 'Southbank' 'North Melbourne'\n",
            " 'Parkville' 'Docklands' 'West Melbourne' 'South Yarra' 'Kensington'\n",
            " 'Carlton North' 'Port Melbourne' 'Unknown' 'South Wharf' 'Flemington'\n",
            " 'carlton' 'Melbourne CBD' 'Kensignton' 'Princes Hill' 'Richmond'\n",
            " 'Southgate Promenade' 'West Melb' 'kensington' 'north melbourne'\n",
            " 'west melb' 'North melbourne' 'Deer Park' 'melbourne' 'Batman Ave'\n",
            " 'Fitzroy' 'MELBOURNE' 'North Adelaide' 'South Melbourne' 'Melb CBD'\n",
            " 'Jolimont' 'Brunswick' 'Elizabeth' 'West melbourne' 'Royal Park'\n",
            " 'west melbourne' 'Prahran' 'Nth melbourne' 'CARLTON' 'EAST MELBOURNE'\n",
            " 'Reservoir']\n"
          ]
        }
      ]
    },
    {
      "cell_type": "code",
      "source": [
        "# capitalize only the first letter of each word in 'suburb' to standardize it\n",
        "df['suburb'] = df['suburb'].str.title()\n",
        "\n",
        "# address the duplication in 'suburb' column\n",
        "corrections = {\n",
        "    'Nth Melbourne': 'North Melbourne',\n",
        "    'Kensignton': 'Kensington',\n",
        "    'Melbourne Cbd': 'Melbourne CBD',\n",
        "    'Melb Cbd': 'Melbourne CBD',\n",
        "    'West Melb': 'West Melbourne'\n",
        "}\n",
        "\n",
        "df['suburb'] = df['suburb'].replace(corrections)"
      ],
      "metadata": {
        "id": "xzT8Nr4DX1mz"
      },
      "execution_count": null,
      "outputs": []
    },
    {
      "cell_type": "code",
      "source": [
        "print(f\"All unique suburb: {df['suburb'].nunique()}\\n\\n{df['suburb'].unique()}\")"
      ],
      "metadata": {
        "id": "WJ4PJEQ1dGbf",
        "colab": {
          "base_uri": "https://localhost:8080/"
        },
        "outputId": "4c9af94f-b5a6-4cf4-d4e2-617d84a344ac"
      },
      "execution_count": null,
      "outputs": [
        {
          "output_type": "stream",
          "name": "stdout",
          "text": [
            "All unique suburb: 30\n",
            "\n",
            "['Carlton' 'East Melbourne' 'Melbourne' 'Southbank' 'North Melbourne'\n",
            " 'Parkville' 'Docklands' 'West Melbourne' 'South Yarra' 'Kensington'\n",
            " 'Carlton North' 'Port Melbourne' 'Unknown' 'South Wharf' 'Flemington'\n",
            " 'Melbourne CBD' 'Princes Hill' 'Richmond' 'Southgate Promenade'\n",
            " 'Deer Park' 'Batman Ave' 'Fitzroy' 'North Adelaide' 'South Melbourne'\n",
            " 'Jolimont' 'Brunswick' 'Elizabeth' 'Royal Park' 'Prahran' 'Reservoir']\n"
          ]
        }
      ]
    },
    {
      "cell_type": "code",
      "source": [
        "df.head(3)"
      ],
      "metadata": {
        "id": "-yvB95mFI6MD",
        "colab": {
          "base_uri": "https://localhost:8080/",
          "height": 172
        },
        "outputId": "8820ea92-6c20-4302-d136-c3884e8373ab"
      },
      "execution_count": null,
      "outputs": [
        {
          "output_type": "execute_result",
          "data": {
            "text/plain": [
              "   status date_received date_completed          suburb  \\\n",
              "0  Closed    2016-05-05     2016-05-12         Carlton   \n",
              "1  Closed    2014-11-20     2014-11-21  East Melbourne   \n",
              "2  Closed    2014-11-27     2014-12-01         Carlton   \n",
              "\n",
              "                            category           service_type  days_to_complete  \\\n",
              "0                           Graffiti       Graffiti Removal               7.0   \n",
              "1  Waste, Street Cleaning and Litter  Missed Bin Collection               1.0   \n",
              "2  Waste, Street Cleaning and Litter  Missed Bin Collection               4.0   \n",
              "\n",
              "  case_origin  \n",
              "0     Unknown  \n",
              "1     Unknown  \n",
              "2     Unknown  "
            ],
            "text/html": [
              "\n",
              "  <div id=\"df-0f1eeaa7-3d1f-405e-9afa-2b4decf5664f\" class=\"colab-df-container\">\n",
              "    <div>\n",
              "<style scoped>\n",
              "    .dataframe tbody tr th:only-of-type {\n",
              "        vertical-align: middle;\n",
              "    }\n",
              "\n",
              "    .dataframe tbody tr th {\n",
              "        vertical-align: top;\n",
              "    }\n",
              "\n",
              "    .dataframe thead th {\n",
              "        text-align: right;\n",
              "    }\n",
              "</style>\n",
              "<table border=\"1\" class=\"dataframe\">\n",
              "  <thead>\n",
              "    <tr style=\"text-align: right;\">\n",
              "      <th></th>\n",
              "      <th>status</th>\n",
              "      <th>date_received</th>\n",
              "      <th>date_completed</th>\n",
              "      <th>suburb</th>\n",
              "      <th>category</th>\n",
              "      <th>service_type</th>\n",
              "      <th>days_to_complete</th>\n",
              "      <th>case_origin</th>\n",
              "    </tr>\n",
              "  </thead>\n",
              "  <tbody>\n",
              "    <tr>\n",
              "      <th>0</th>\n",
              "      <td>Closed</td>\n",
              "      <td>2016-05-05</td>\n",
              "      <td>2016-05-12</td>\n",
              "      <td>Carlton</td>\n",
              "      <td>Graffiti</td>\n",
              "      <td>Graffiti Removal</td>\n",
              "      <td>7.0</td>\n",
              "      <td>Unknown</td>\n",
              "    </tr>\n",
              "    <tr>\n",
              "      <th>1</th>\n",
              "      <td>Closed</td>\n",
              "      <td>2014-11-20</td>\n",
              "      <td>2014-11-21</td>\n",
              "      <td>East Melbourne</td>\n",
              "      <td>Waste, Street Cleaning and Litter</td>\n",
              "      <td>Missed Bin Collection</td>\n",
              "      <td>1.0</td>\n",
              "      <td>Unknown</td>\n",
              "    </tr>\n",
              "    <tr>\n",
              "      <th>2</th>\n",
              "      <td>Closed</td>\n",
              "      <td>2014-11-27</td>\n",
              "      <td>2014-12-01</td>\n",
              "      <td>Carlton</td>\n",
              "      <td>Waste, Street Cleaning and Litter</td>\n",
              "      <td>Missed Bin Collection</td>\n",
              "      <td>4.0</td>\n",
              "      <td>Unknown</td>\n",
              "    </tr>\n",
              "  </tbody>\n",
              "</table>\n",
              "</div>\n",
              "    <div class=\"colab-df-buttons\">\n",
              "\n",
              "  <div class=\"colab-df-container\">\n",
              "    <button class=\"colab-df-convert\" onclick=\"convertToInteractive('df-0f1eeaa7-3d1f-405e-9afa-2b4decf5664f')\"\n",
              "            title=\"Convert this dataframe to an interactive table.\"\n",
              "            style=\"display:none;\">\n",
              "\n",
              "  <svg xmlns=\"http://www.w3.org/2000/svg\" height=\"24px\" viewBox=\"0 -960 960 960\">\n",
              "    <path d=\"M120-120v-720h720v720H120Zm60-500h600v-160H180v160Zm220 220h160v-160H400v160Zm0 220h160v-160H400v160ZM180-400h160v-160H180v160Zm440 0h160v-160H620v160ZM180-180h160v-160H180v160Zm440 0h160v-160H620v160Z\"/>\n",
              "  </svg>\n",
              "    </button>\n",
              "\n",
              "  <style>\n",
              "    .colab-df-container {\n",
              "      display:flex;\n",
              "      gap: 12px;\n",
              "    }\n",
              "\n",
              "    .colab-df-convert {\n",
              "      background-color: #E8F0FE;\n",
              "      border: none;\n",
              "      border-radius: 50%;\n",
              "      cursor: pointer;\n",
              "      display: none;\n",
              "      fill: #1967D2;\n",
              "      height: 32px;\n",
              "      padding: 0 0 0 0;\n",
              "      width: 32px;\n",
              "    }\n",
              "\n",
              "    .colab-df-convert:hover {\n",
              "      background-color: #E2EBFA;\n",
              "      box-shadow: 0px 1px 2px rgba(60, 64, 67, 0.3), 0px 1px 3px 1px rgba(60, 64, 67, 0.15);\n",
              "      fill: #174EA6;\n",
              "    }\n",
              "\n",
              "    .colab-df-buttons div {\n",
              "      margin-bottom: 4px;\n",
              "    }\n",
              "\n",
              "    [theme=dark] .colab-df-convert {\n",
              "      background-color: #3B4455;\n",
              "      fill: #D2E3FC;\n",
              "    }\n",
              "\n",
              "    [theme=dark] .colab-df-convert:hover {\n",
              "      background-color: #434B5C;\n",
              "      box-shadow: 0px 1px 3px 1px rgba(0, 0, 0, 0.15);\n",
              "      filter: drop-shadow(0px 1px 2px rgba(0, 0, 0, 0.3));\n",
              "      fill: #FFFFFF;\n",
              "    }\n",
              "  </style>\n",
              "\n",
              "    <script>\n",
              "      const buttonEl =\n",
              "        document.querySelector('#df-0f1eeaa7-3d1f-405e-9afa-2b4decf5664f button.colab-df-convert');\n",
              "      buttonEl.style.display =\n",
              "        google.colab.kernel.accessAllowed ? 'block' : 'none';\n",
              "\n",
              "      async function convertToInteractive(key) {\n",
              "        const element = document.querySelector('#df-0f1eeaa7-3d1f-405e-9afa-2b4decf5664f');\n",
              "        const dataTable =\n",
              "          await google.colab.kernel.invokeFunction('convertToInteractive',\n",
              "                                                    [key], {});\n",
              "        if (!dataTable) return;\n",
              "\n",
              "        const docLinkHtml = 'Like what you see? Visit the ' +\n",
              "          '<a target=\"_blank\" href=https://colab.research.google.com/notebooks/data_table.ipynb>data table notebook</a>'\n",
              "          + ' to learn more about interactive tables.';\n",
              "        element.innerHTML = '';\n",
              "        dataTable['output_type'] = 'display_data';\n",
              "        await google.colab.output.renderOutput(dataTable, element);\n",
              "        const docLink = document.createElement('div');\n",
              "        docLink.innerHTML = docLinkHtml;\n",
              "        element.appendChild(docLink);\n",
              "      }\n",
              "    </script>\n",
              "  </div>\n",
              "\n",
              "\n",
              "<div id=\"df-7acef2d4-c6b9-4e5e-85e8-1e06df04b994\">\n",
              "  <button class=\"colab-df-quickchart\" onclick=\"quickchart('df-7acef2d4-c6b9-4e5e-85e8-1e06df04b994')\"\n",
              "            title=\"Suggest charts\"\n",
              "            style=\"display:none;\">\n",
              "\n",
              "<svg xmlns=\"http://www.w3.org/2000/svg\" height=\"24px\"viewBox=\"0 0 24 24\"\n",
              "     width=\"24px\">\n",
              "    <g>\n",
              "        <path d=\"M19 3H5c-1.1 0-2 .9-2 2v14c0 1.1.9 2 2 2h14c1.1 0 2-.9 2-2V5c0-1.1-.9-2-2-2zM9 17H7v-7h2v7zm4 0h-2V7h2v10zm4 0h-2v-4h2v4z\"/>\n",
              "    </g>\n",
              "</svg>\n",
              "  </button>\n",
              "\n",
              "<style>\n",
              "  .colab-df-quickchart {\n",
              "      --bg-color: #E8F0FE;\n",
              "      --fill-color: #1967D2;\n",
              "      --hover-bg-color: #E2EBFA;\n",
              "      --hover-fill-color: #174EA6;\n",
              "      --disabled-fill-color: #AAA;\n",
              "      --disabled-bg-color: #DDD;\n",
              "  }\n",
              "\n",
              "  [theme=dark] .colab-df-quickchart {\n",
              "      --bg-color: #3B4455;\n",
              "      --fill-color: #D2E3FC;\n",
              "      --hover-bg-color: #434B5C;\n",
              "      --hover-fill-color: #FFFFFF;\n",
              "      --disabled-bg-color: #3B4455;\n",
              "      --disabled-fill-color: #666;\n",
              "  }\n",
              "\n",
              "  .colab-df-quickchart {\n",
              "    background-color: var(--bg-color);\n",
              "    border: none;\n",
              "    border-radius: 50%;\n",
              "    cursor: pointer;\n",
              "    display: none;\n",
              "    fill: var(--fill-color);\n",
              "    height: 32px;\n",
              "    padding: 0;\n",
              "    width: 32px;\n",
              "  }\n",
              "\n",
              "  .colab-df-quickchart:hover {\n",
              "    background-color: var(--hover-bg-color);\n",
              "    box-shadow: 0 1px 2px rgba(60, 64, 67, 0.3), 0 1px 3px 1px rgba(60, 64, 67, 0.15);\n",
              "    fill: var(--button-hover-fill-color);\n",
              "  }\n",
              "\n",
              "  .colab-df-quickchart-complete:disabled,\n",
              "  .colab-df-quickchart-complete:disabled:hover {\n",
              "    background-color: var(--disabled-bg-color);\n",
              "    fill: var(--disabled-fill-color);\n",
              "    box-shadow: none;\n",
              "  }\n",
              "\n",
              "  .colab-df-spinner {\n",
              "    border: 2px solid var(--fill-color);\n",
              "    border-color: transparent;\n",
              "    border-bottom-color: var(--fill-color);\n",
              "    animation:\n",
              "      spin 1s steps(1) infinite;\n",
              "  }\n",
              "\n",
              "  @keyframes spin {\n",
              "    0% {\n",
              "      border-color: transparent;\n",
              "      border-bottom-color: var(--fill-color);\n",
              "      border-left-color: var(--fill-color);\n",
              "    }\n",
              "    20% {\n",
              "      border-color: transparent;\n",
              "      border-left-color: var(--fill-color);\n",
              "      border-top-color: var(--fill-color);\n",
              "    }\n",
              "    30% {\n",
              "      border-color: transparent;\n",
              "      border-left-color: var(--fill-color);\n",
              "      border-top-color: var(--fill-color);\n",
              "      border-right-color: var(--fill-color);\n",
              "    }\n",
              "    40% {\n",
              "      border-color: transparent;\n",
              "      border-right-color: var(--fill-color);\n",
              "      border-top-color: var(--fill-color);\n",
              "    }\n",
              "    60% {\n",
              "      border-color: transparent;\n",
              "      border-right-color: var(--fill-color);\n",
              "    }\n",
              "    80% {\n",
              "      border-color: transparent;\n",
              "      border-right-color: var(--fill-color);\n",
              "      border-bottom-color: var(--fill-color);\n",
              "    }\n",
              "    90% {\n",
              "      border-color: transparent;\n",
              "      border-bottom-color: var(--fill-color);\n",
              "    }\n",
              "  }\n",
              "</style>\n",
              "\n",
              "  <script>\n",
              "    async function quickchart(key) {\n",
              "      const quickchartButtonEl =\n",
              "        document.querySelector('#' + key + ' button');\n",
              "      quickchartButtonEl.disabled = true;  // To prevent multiple clicks.\n",
              "      quickchartButtonEl.classList.add('colab-df-spinner');\n",
              "      try {\n",
              "        const charts = await google.colab.kernel.invokeFunction(\n",
              "            'suggestCharts', [key], {});\n",
              "      } catch (error) {\n",
              "        console.error('Error during call to suggestCharts:', error);\n",
              "      }\n",
              "      quickchartButtonEl.classList.remove('colab-df-spinner');\n",
              "      quickchartButtonEl.classList.add('colab-df-quickchart-complete');\n",
              "    }\n",
              "    (() => {\n",
              "      let quickchartButtonEl =\n",
              "        document.querySelector('#df-7acef2d4-c6b9-4e5e-85e8-1e06df04b994 button');\n",
              "      quickchartButtonEl.style.display =\n",
              "        google.colab.kernel.accessAllowed ? 'block' : 'none';\n",
              "    })();\n",
              "  </script>\n",
              "</div>\n",
              "\n",
              "    </div>\n",
              "  </div>\n"
            ],
            "application/vnd.google.colaboratory.intrinsic+json": {
              "type": "dataframe",
              "variable_name": "df",
              "summary": "{\n  \"name\": \"df\",\n  \"rows\": 88700,\n  \"fields\": [\n    {\n      \"column\": \"status\",\n      \"properties\": {\n        \"dtype\": \"category\",\n        \"num_unique_values\": 11,\n        \"samples\": [\n          \"Assigned For Action\",\n          \"Closed\",\n          \"Tl Action\"\n        ],\n        \"semantic_type\": \"\",\n        \"description\": \"\"\n      }\n    },\n    {\n      \"column\": \"date_received\",\n      \"properties\": {\n        \"dtype\": \"date\",\n        \"min\": \"2014-11-10 00:00:00\",\n        \"max\": \"2018-09-30 00:00:00\",\n        \"num_unique_values\": 1001,\n        \"samples\": [\n          \"2015-12-22 00:00:00\",\n          \"2018-04-29 00:00:00\",\n          \"2018-07-25 00:00:00\"\n        ],\n        \"semantic_type\": \"\",\n        \"description\": \"\"\n      }\n    },\n    {\n      \"column\": \"date_completed\",\n      \"properties\": {\n        \"dtype\": \"date\",\n        \"min\": \"2014-11-10 00:00:00\",\n        \"max\": \"2018-10-17 00:00:00\",\n        \"num_unique_values\": 1012,\n        \"samples\": [\n          \"2016-01-02 00:00:00\",\n          \"2015-11-01 00:00:00\",\n          \"2018-08-04 00:00:00\"\n        ],\n        \"semantic_type\": \"\",\n        \"description\": \"\"\n      }\n    },\n    {\n      \"column\": \"suburb\",\n      \"properties\": {\n        \"dtype\": \"category\",\n        \"num_unique_values\": 30,\n        \"samples\": [\n          \"Royal Park\",\n          \"Melbourne CBD\",\n          \"South Melbourne\"\n        ],\n        \"semantic_type\": \"\",\n        \"description\": \"\"\n      }\n    },\n    {\n      \"column\": \"category\",\n      \"properties\": {\n        \"dtype\": \"category\",\n        \"num_unique_values\": 7,\n        \"samples\": [\n          \"Graffiti\",\n          \"Waste, Street Cleaning and Litter\",\n          \"Parking\"\n        ],\n        \"semantic_type\": \"\",\n        \"description\": \"\"\n      }\n    },\n    {\n      \"column\": \"service_type\",\n      \"properties\": {\n        \"dtype\": \"category\",\n        \"num_unique_values\": 37,\n        \"samples\": [\n          \"Public Toilets\",\n          \"Syringe Management\",\n          \"Public Litter Bin\"\n        ],\n        \"semantic_type\": \"\",\n        \"description\": \"\"\n      }\n    },\n    {\n      \"column\": \"days_to_complete\",\n      \"properties\": {\n        \"dtype\": \"number\",\n        \"std\": 39.651448100124156,\n        \"min\": 1.0,\n        \"max\": 724.0,\n        \"num_unique_values\": 450,\n        \"samples\": [\n          330.0,\n          254.0,\n          87.0\n        ],\n        \"semantic_type\": \"\",\n        \"description\": \"\"\n      }\n    },\n    {\n      \"column\": \"case_origin\",\n      \"properties\": {\n        \"dtype\": \"category\",\n        \"num_unique_values\": 10,\n        \"samples\": [\n          \"SMS\",\n          \"Phone\",\n          \"Snap Send Solve\"\n        ],\n        \"semantic_type\": \"\",\n        \"description\": \"\"\n      }\n    }\n  ]\n}"
            }
          },
          "metadata": {},
          "execution_count": 67
        }
      ]
    },
    {
      "cell_type": "code",
      "source": [
        "print(df.isnull().sum())"
      ],
      "metadata": {
        "id": "F3z3zjzCIoyv",
        "colab": {
          "base_uri": "https://localhost:8080/"
        },
        "outputId": "1ba405ef-de76-4403-e966-ea61a8e05092"
      },
      "execution_count": null,
      "outputs": [
        {
          "output_type": "stream",
          "name": "stdout",
          "text": [
            "status                  0\n",
            "date_received           0\n",
            "date_completed      10339\n",
            "suburb                  0\n",
            "category                0\n",
            "service_type            0\n",
            "days_to_complete    42221\n",
            "case_origin             0\n",
            "dtype: int64\n"
          ]
        }
      ]
    },
    {
      "cell_type": "code",
      "source": [
        "# address the missing values in 'days_to_complete' column\n",
        "# calculate the difference in days\n",
        "\n",
        "df['days_to_complete'] = (df['date_completed'] - df['date_received']).dt.days"
      ],
      "metadata": {
        "id": "Fy3Ra9nZIo8a"
      },
      "execution_count": null,
      "outputs": []
    },
    {
      "cell_type": "code",
      "source": [
        "print(df.isnull().sum())"
      ],
      "metadata": {
        "id": "p7cUfseahFWr",
        "colab": {
          "base_uri": "https://localhost:8080/"
        },
        "outputId": "f8f3096a-d094-40ba-8733-d241274a688c"
      },
      "execution_count": null,
      "outputs": [
        {
          "output_type": "stream",
          "name": "stdout",
          "text": [
            "status                  0\n",
            "date_received           0\n",
            "date_completed      10339\n",
            "suburb                  0\n",
            "category                0\n",
            "service_type            0\n",
            "days_to_complete    10339\n",
            "case_origin             0\n",
            "dtype: int64\n"
          ]
        }
      ]
    },
    {
      "cell_type": "code",
      "source": [
        "print(df.dtypes)"
      ],
      "metadata": {
        "id": "VhSFhYswMRYz",
        "colab": {
          "base_uri": "https://localhost:8080/"
        },
        "outputId": "9ffde1a1-6d0f-4080-d6bc-56bafc4d567f"
      },
      "execution_count": null,
      "outputs": [
        {
          "output_type": "stream",
          "name": "stdout",
          "text": [
            "status                      object\n",
            "date_received       datetime64[ns]\n",
            "date_completed      datetime64[ns]\n",
            "suburb                      object\n",
            "category                    object\n",
            "service_type                object\n",
            "days_to_complete           float64\n",
            "case_origin                 object\n",
            "dtype: object\n"
          ]
        }
      ]
    },
    {
      "cell_type": "code",
      "source": [
        "# convert 'days_to_complete' to a nullable integer type\n",
        "\n",
        "df['days_to_complete'] = df['days_to_complete'].astype('Int64')"
      ],
      "metadata": {
        "id": "YqXa6y6ZhLlU"
      },
      "execution_count": null,
      "outputs": []
    },
    {
      "cell_type": "code",
      "source": [
        "print(df.dtypes)"
      ],
      "metadata": {
        "id": "zc7-hNCLhTjn",
        "colab": {
          "base_uri": "https://localhost:8080/"
        },
        "outputId": "6d100d25-7ac0-4010-b629-3817983ce8ad"
      },
      "execution_count": null,
      "outputs": [
        {
          "output_type": "stream",
          "name": "stdout",
          "text": [
            "status                      object\n",
            "date_received       datetime64[ns]\n",
            "date_completed      datetime64[ns]\n",
            "suburb                      object\n",
            "category                    object\n",
            "service_type                object\n",
            "days_to_complete             Int64\n",
            "case_origin                 object\n",
            "dtype: object\n"
          ]
        }
      ]
    },
    {
      "cell_type": "code",
      "source": [
        "df = df.sort_values(by = 'date_received', ascending = True).reset_index(drop = True)"
      ],
      "metadata": {
        "id": "_A7MOUgfIowF"
      },
      "execution_count": null,
      "outputs": []
    },
    {
      "cell_type": "code",
      "source": [
        "df"
      ],
      "metadata": {
        "id": "5OI88NMyOmKj",
        "colab": {
          "base_uri": "https://localhost:8080/",
          "height": 560
        },
        "outputId": "68e4d4e6-a57e-45b9-f823-f6e184967df0"
      },
      "execution_count": null,
      "outputs": [
        {
          "output_type": "execute_result",
          "data": {
            "text/plain": [
              "       status date_received date_completed      suburb  \\\n",
              "0      Closed    2014-11-10     2015-09-20     Unknown   \n",
              "1      Closed    2014-11-10     2014-11-10     Unknown   \n",
              "2      Closed    2014-11-10     2014-11-12   Parkville   \n",
              "3      Closed    2014-11-10     2014-11-11  Kensington   \n",
              "4      Closed    2014-11-10     2014-11-12     Unknown   \n",
              "...       ...           ...            ...         ...   \n",
              "88695     New    2018-09-30            NaT     Unknown   \n",
              "88696     New    2018-09-30            NaT     Unknown   \n",
              "88697  Closed    2018-09-30     2018-09-30     Carlton   \n",
              "88698     New    2018-09-30            NaT     Unknown   \n",
              "88699     New    2018-09-30            NaT     Unknown   \n",
              "\n",
              "                                category                   service_type  \\\n",
              "0                                Parking          Parking Meter Service   \n",
              "1      Waste, Street Cleaning and Litter       Street Cleaning services   \n",
              "2      Waste, Street Cleaning and Litter          Missed Bin Collection   \n",
              "3      Waste, Street Cleaning and Litter       Illegally Dumped Rubbish   \n",
              "4      Waste, Street Cleaning and Litter       Illegally Dumped Rubbish   \n",
              "...                                  ...                            ...   \n",
              "88695                            General  Infringement Review - Parking   \n",
              "88696                            General  Infringement Review - Parking   \n",
              "88697                            Parking    Request for Parking Officer   \n",
              "88698                            General  Infringement Review - Parking   \n",
              "88699                            General  Infringement Review - Parking   \n",
              "\n",
              "       days_to_complete case_origin  \n",
              "0                   314     Unknown  \n",
              "1                     0     Unknown  \n",
              "2                     2     Unknown  \n",
              "3                     1     Unknown  \n",
              "4                     2     Unknown  \n",
              "...                 ...         ...  \n",
              "88695              <NA>         Web  \n",
              "88696              <NA>         Web  \n",
              "88697                 0         Web  \n",
              "88698              <NA>         Web  \n",
              "88699              <NA>         Web  \n",
              "\n",
              "[88700 rows x 8 columns]"
            ],
            "text/html": [
              "\n",
              "  <div id=\"df-e6b05dec-6935-4fdd-b4d2-c43782e459d3\" class=\"colab-df-container\">\n",
              "    <div>\n",
              "<style scoped>\n",
              "    .dataframe tbody tr th:only-of-type {\n",
              "        vertical-align: middle;\n",
              "    }\n",
              "\n",
              "    .dataframe tbody tr th {\n",
              "        vertical-align: top;\n",
              "    }\n",
              "\n",
              "    .dataframe thead th {\n",
              "        text-align: right;\n",
              "    }\n",
              "</style>\n",
              "<table border=\"1\" class=\"dataframe\">\n",
              "  <thead>\n",
              "    <tr style=\"text-align: right;\">\n",
              "      <th></th>\n",
              "      <th>status</th>\n",
              "      <th>date_received</th>\n",
              "      <th>date_completed</th>\n",
              "      <th>suburb</th>\n",
              "      <th>category</th>\n",
              "      <th>service_type</th>\n",
              "      <th>days_to_complete</th>\n",
              "      <th>case_origin</th>\n",
              "    </tr>\n",
              "  </thead>\n",
              "  <tbody>\n",
              "    <tr>\n",
              "      <th>0</th>\n",
              "      <td>Closed</td>\n",
              "      <td>2014-11-10</td>\n",
              "      <td>2015-09-20</td>\n",
              "      <td>Unknown</td>\n",
              "      <td>Parking</td>\n",
              "      <td>Parking Meter Service</td>\n",
              "      <td>314</td>\n",
              "      <td>Unknown</td>\n",
              "    </tr>\n",
              "    <tr>\n",
              "      <th>1</th>\n",
              "      <td>Closed</td>\n",
              "      <td>2014-11-10</td>\n",
              "      <td>2014-11-10</td>\n",
              "      <td>Unknown</td>\n",
              "      <td>Waste, Street Cleaning and Litter</td>\n",
              "      <td>Street Cleaning services</td>\n",
              "      <td>0</td>\n",
              "      <td>Unknown</td>\n",
              "    </tr>\n",
              "    <tr>\n",
              "      <th>2</th>\n",
              "      <td>Closed</td>\n",
              "      <td>2014-11-10</td>\n",
              "      <td>2014-11-12</td>\n",
              "      <td>Parkville</td>\n",
              "      <td>Waste, Street Cleaning and Litter</td>\n",
              "      <td>Missed Bin Collection</td>\n",
              "      <td>2</td>\n",
              "      <td>Unknown</td>\n",
              "    </tr>\n",
              "    <tr>\n",
              "      <th>3</th>\n",
              "      <td>Closed</td>\n",
              "      <td>2014-11-10</td>\n",
              "      <td>2014-11-11</td>\n",
              "      <td>Kensington</td>\n",
              "      <td>Waste, Street Cleaning and Litter</td>\n",
              "      <td>Illegally Dumped Rubbish</td>\n",
              "      <td>1</td>\n",
              "      <td>Unknown</td>\n",
              "    </tr>\n",
              "    <tr>\n",
              "      <th>4</th>\n",
              "      <td>Closed</td>\n",
              "      <td>2014-11-10</td>\n",
              "      <td>2014-11-12</td>\n",
              "      <td>Unknown</td>\n",
              "      <td>Waste, Street Cleaning and Litter</td>\n",
              "      <td>Illegally Dumped Rubbish</td>\n",
              "      <td>2</td>\n",
              "      <td>Unknown</td>\n",
              "    </tr>\n",
              "    <tr>\n",
              "      <th>...</th>\n",
              "      <td>...</td>\n",
              "      <td>...</td>\n",
              "      <td>...</td>\n",
              "      <td>...</td>\n",
              "      <td>...</td>\n",
              "      <td>...</td>\n",
              "      <td>...</td>\n",
              "      <td>...</td>\n",
              "    </tr>\n",
              "    <tr>\n",
              "      <th>88695</th>\n",
              "      <td>New</td>\n",
              "      <td>2018-09-30</td>\n",
              "      <td>NaT</td>\n",
              "      <td>Unknown</td>\n",
              "      <td>General</td>\n",
              "      <td>Infringement Review - Parking</td>\n",
              "      <td>&lt;NA&gt;</td>\n",
              "      <td>Web</td>\n",
              "    </tr>\n",
              "    <tr>\n",
              "      <th>88696</th>\n",
              "      <td>New</td>\n",
              "      <td>2018-09-30</td>\n",
              "      <td>NaT</td>\n",
              "      <td>Unknown</td>\n",
              "      <td>General</td>\n",
              "      <td>Infringement Review - Parking</td>\n",
              "      <td>&lt;NA&gt;</td>\n",
              "      <td>Web</td>\n",
              "    </tr>\n",
              "    <tr>\n",
              "      <th>88697</th>\n",
              "      <td>Closed</td>\n",
              "      <td>2018-09-30</td>\n",
              "      <td>2018-09-30</td>\n",
              "      <td>Carlton</td>\n",
              "      <td>Parking</td>\n",
              "      <td>Request for Parking Officer</td>\n",
              "      <td>0</td>\n",
              "      <td>Web</td>\n",
              "    </tr>\n",
              "    <tr>\n",
              "      <th>88698</th>\n",
              "      <td>New</td>\n",
              "      <td>2018-09-30</td>\n",
              "      <td>NaT</td>\n",
              "      <td>Unknown</td>\n",
              "      <td>General</td>\n",
              "      <td>Infringement Review - Parking</td>\n",
              "      <td>&lt;NA&gt;</td>\n",
              "      <td>Web</td>\n",
              "    </tr>\n",
              "    <tr>\n",
              "      <th>88699</th>\n",
              "      <td>New</td>\n",
              "      <td>2018-09-30</td>\n",
              "      <td>NaT</td>\n",
              "      <td>Unknown</td>\n",
              "      <td>General</td>\n",
              "      <td>Infringement Review - Parking</td>\n",
              "      <td>&lt;NA&gt;</td>\n",
              "      <td>Web</td>\n",
              "    </tr>\n",
              "  </tbody>\n",
              "</table>\n",
              "<p>88700 rows × 8 columns</p>\n",
              "</div>\n",
              "    <div class=\"colab-df-buttons\">\n",
              "\n",
              "  <div class=\"colab-df-container\">\n",
              "    <button class=\"colab-df-convert\" onclick=\"convertToInteractive('df-e6b05dec-6935-4fdd-b4d2-c43782e459d3')\"\n",
              "            title=\"Convert this dataframe to an interactive table.\"\n",
              "            style=\"display:none;\">\n",
              "\n",
              "  <svg xmlns=\"http://www.w3.org/2000/svg\" height=\"24px\" viewBox=\"0 -960 960 960\">\n",
              "    <path d=\"M120-120v-720h720v720H120Zm60-500h600v-160H180v160Zm220 220h160v-160H400v160Zm0 220h160v-160H400v160ZM180-400h160v-160H180v160Zm440 0h160v-160H620v160ZM180-180h160v-160H180v160Zm440 0h160v-160H620v160Z\"/>\n",
              "  </svg>\n",
              "    </button>\n",
              "\n",
              "  <style>\n",
              "    .colab-df-container {\n",
              "      display:flex;\n",
              "      gap: 12px;\n",
              "    }\n",
              "\n",
              "    .colab-df-convert {\n",
              "      background-color: #E8F0FE;\n",
              "      border: none;\n",
              "      border-radius: 50%;\n",
              "      cursor: pointer;\n",
              "      display: none;\n",
              "      fill: #1967D2;\n",
              "      height: 32px;\n",
              "      padding: 0 0 0 0;\n",
              "      width: 32px;\n",
              "    }\n",
              "\n",
              "    .colab-df-convert:hover {\n",
              "      background-color: #E2EBFA;\n",
              "      box-shadow: 0px 1px 2px rgba(60, 64, 67, 0.3), 0px 1px 3px 1px rgba(60, 64, 67, 0.15);\n",
              "      fill: #174EA6;\n",
              "    }\n",
              "\n",
              "    .colab-df-buttons div {\n",
              "      margin-bottom: 4px;\n",
              "    }\n",
              "\n",
              "    [theme=dark] .colab-df-convert {\n",
              "      background-color: #3B4455;\n",
              "      fill: #D2E3FC;\n",
              "    }\n",
              "\n",
              "    [theme=dark] .colab-df-convert:hover {\n",
              "      background-color: #434B5C;\n",
              "      box-shadow: 0px 1px 3px 1px rgba(0, 0, 0, 0.15);\n",
              "      filter: drop-shadow(0px 1px 2px rgba(0, 0, 0, 0.3));\n",
              "      fill: #FFFFFF;\n",
              "    }\n",
              "  </style>\n",
              "\n",
              "    <script>\n",
              "      const buttonEl =\n",
              "        document.querySelector('#df-e6b05dec-6935-4fdd-b4d2-c43782e459d3 button.colab-df-convert');\n",
              "      buttonEl.style.display =\n",
              "        google.colab.kernel.accessAllowed ? 'block' : 'none';\n",
              "\n",
              "      async function convertToInteractive(key) {\n",
              "        const element = document.querySelector('#df-e6b05dec-6935-4fdd-b4d2-c43782e459d3');\n",
              "        const dataTable =\n",
              "          await google.colab.kernel.invokeFunction('convertToInteractive',\n",
              "                                                    [key], {});\n",
              "        if (!dataTable) return;\n",
              "\n",
              "        const docLinkHtml = 'Like what you see? Visit the ' +\n",
              "          '<a target=\"_blank\" href=https://colab.research.google.com/notebooks/data_table.ipynb>data table notebook</a>'\n",
              "          + ' to learn more about interactive tables.';\n",
              "        element.innerHTML = '';\n",
              "        dataTable['output_type'] = 'display_data';\n",
              "        await google.colab.output.renderOutput(dataTable, element);\n",
              "        const docLink = document.createElement('div');\n",
              "        docLink.innerHTML = docLinkHtml;\n",
              "        element.appendChild(docLink);\n",
              "      }\n",
              "    </script>\n",
              "  </div>\n",
              "\n",
              "\n",
              "<div id=\"df-25b3691e-4fce-43e2-8016-fcde8ea6fd05\">\n",
              "  <button class=\"colab-df-quickchart\" onclick=\"quickchart('df-25b3691e-4fce-43e2-8016-fcde8ea6fd05')\"\n",
              "            title=\"Suggest charts\"\n",
              "            style=\"display:none;\">\n",
              "\n",
              "<svg xmlns=\"http://www.w3.org/2000/svg\" height=\"24px\"viewBox=\"0 0 24 24\"\n",
              "     width=\"24px\">\n",
              "    <g>\n",
              "        <path d=\"M19 3H5c-1.1 0-2 .9-2 2v14c0 1.1.9 2 2 2h14c1.1 0 2-.9 2-2V5c0-1.1-.9-2-2-2zM9 17H7v-7h2v7zm4 0h-2V7h2v10zm4 0h-2v-4h2v4z\"/>\n",
              "    </g>\n",
              "</svg>\n",
              "  </button>\n",
              "\n",
              "<style>\n",
              "  .colab-df-quickchart {\n",
              "      --bg-color: #E8F0FE;\n",
              "      --fill-color: #1967D2;\n",
              "      --hover-bg-color: #E2EBFA;\n",
              "      --hover-fill-color: #174EA6;\n",
              "      --disabled-fill-color: #AAA;\n",
              "      --disabled-bg-color: #DDD;\n",
              "  }\n",
              "\n",
              "  [theme=dark] .colab-df-quickchart {\n",
              "      --bg-color: #3B4455;\n",
              "      --fill-color: #D2E3FC;\n",
              "      --hover-bg-color: #434B5C;\n",
              "      --hover-fill-color: #FFFFFF;\n",
              "      --disabled-bg-color: #3B4455;\n",
              "      --disabled-fill-color: #666;\n",
              "  }\n",
              "\n",
              "  .colab-df-quickchart {\n",
              "    background-color: var(--bg-color);\n",
              "    border: none;\n",
              "    border-radius: 50%;\n",
              "    cursor: pointer;\n",
              "    display: none;\n",
              "    fill: var(--fill-color);\n",
              "    height: 32px;\n",
              "    padding: 0;\n",
              "    width: 32px;\n",
              "  }\n",
              "\n",
              "  .colab-df-quickchart:hover {\n",
              "    background-color: var(--hover-bg-color);\n",
              "    box-shadow: 0 1px 2px rgba(60, 64, 67, 0.3), 0 1px 3px 1px rgba(60, 64, 67, 0.15);\n",
              "    fill: var(--button-hover-fill-color);\n",
              "  }\n",
              "\n",
              "  .colab-df-quickchart-complete:disabled,\n",
              "  .colab-df-quickchart-complete:disabled:hover {\n",
              "    background-color: var(--disabled-bg-color);\n",
              "    fill: var(--disabled-fill-color);\n",
              "    box-shadow: none;\n",
              "  }\n",
              "\n",
              "  .colab-df-spinner {\n",
              "    border: 2px solid var(--fill-color);\n",
              "    border-color: transparent;\n",
              "    border-bottom-color: var(--fill-color);\n",
              "    animation:\n",
              "      spin 1s steps(1) infinite;\n",
              "  }\n",
              "\n",
              "  @keyframes spin {\n",
              "    0% {\n",
              "      border-color: transparent;\n",
              "      border-bottom-color: var(--fill-color);\n",
              "      border-left-color: var(--fill-color);\n",
              "    }\n",
              "    20% {\n",
              "      border-color: transparent;\n",
              "      border-left-color: var(--fill-color);\n",
              "      border-top-color: var(--fill-color);\n",
              "    }\n",
              "    30% {\n",
              "      border-color: transparent;\n",
              "      border-left-color: var(--fill-color);\n",
              "      border-top-color: var(--fill-color);\n",
              "      border-right-color: var(--fill-color);\n",
              "    }\n",
              "    40% {\n",
              "      border-color: transparent;\n",
              "      border-right-color: var(--fill-color);\n",
              "      border-top-color: var(--fill-color);\n",
              "    }\n",
              "    60% {\n",
              "      border-color: transparent;\n",
              "      border-right-color: var(--fill-color);\n",
              "    }\n",
              "    80% {\n",
              "      border-color: transparent;\n",
              "      border-right-color: var(--fill-color);\n",
              "      border-bottom-color: var(--fill-color);\n",
              "    }\n",
              "    90% {\n",
              "      border-color: transparent;\n",
              "      border-bottom-color: var(--fill-color);\n",
              "    }\n",
              "  }\n",
              "</style>\n",
              "\n",
              "  <script>\n",
              "    async function quickchart(key) {\n",
              "      const quickchartButtonEl =\n",
              "        document.querySelector('#' + key + ' button');\n",
              "      quickchartButtonEl.disabled = true;  // To prevent multiple clicks.\n",
              "      quickchartButtonEl.classList.add('colab-df-spinner');\n",
              "      try {\n",
              "        const charts = await google.colab.kernel.invokeFunction(\n",
              "            'suggestCharts', [key], {});\n",
              "      } catch (error) {\n",
              "        console.error('Error during call to suggestCharts:', error);\n",
              "      }\n",
              "      quickchartButtonEl.classList.remove('colab-df-spinner');\n",
              "      quickchartButtonEl.classList.add('colab-df-quickchart-complete');\n",
              "    }\n",
              "    (() => {\n",
              "      let quickchartButtonEl =\n",
              "        document.querySelector('#df-25b3691e-4fce-43e2-8016-fcde8ea6fd05 button');\n",
              "      quickchartButtonEl.style.display =\n",
              "        google.colab.kernel.accessAllowed ? 'block' : 'none';\n",
              "    })();\n",
              "  </script>\n",
              "</div>\n",
              "\n",
              "  <div id=\"id_32afa97a-509b-450a-be74-b59d1bb302f0\">\n",
              "    <style>\n",
              "      .colab-df-generate {\n",
              "        background-color: #E8F0FE;\n",
              "        border: none;\n",
              "        border-radius: 50%;\n",
              "        cursor: pointer;\n",
              "        display: none;\n",
              "        fill: #1967D2;\n",
              "        height: 32px;\n",
              "        padding: 0 0 0 0;\n",
              "        width: 32px;\n",
              "      }\n",
              "\n",
              "      .colab-df-generate:hover {\n",
              "        background-color: #E2EBFA;\n",
              "        box-shadow: 0px 1px 2px rgba(60, 64, 67, 0.3), 0px 1px 3px 1px rgba(60, 64, 67, 0.15);\n",
              "        fill: #174EA6;\n",
              "      }\n",
              "\n",
              "      [theme=dark] .colab-df-generate {\n",
              "        background-color: #3B4455;\n",
              "        fill: #D2E3FC;\n",
              "      }\n",
              "\n",
              "      [theme=dark] .colab-df-generate:hover {\n",
              "        background-color: #434B5C;\n",
              "        box-shadow: 0px 1px 3px 1px rgba(0, 0, 0, 0.15);\n",
              "        filter: drop-shadow(0px 1px 2px rgba(0, 0, 0, 0.3));\n",
              "        fill: #FFFFFF;\n",
              "      }\n",
              "    </style>\n",
              "    <button class=\"colab-df-generate\" onclick=\"generateWithVariable('df')\"\n",
              "            title=\"Generate code using this dataframe.\"\n",
              "            style=\"display:none;\">\n",
              "\n",
              "  <svg xmlns=\"http://www.w3.org/2000/svg\" height=\"24px\"viewBox=\"0 0 24 24\"\n",
              "       width=\"24px\">\n",
              "    <path d=\"M7,19H8.4L18.45,9,17,7.55,7,17.6ZM5,21V16.75L18.45,3.32a2,2,0,0,1,2.83,0l1.4,1.43a1.91,1.91,0,0,1,.58,1.4,1.91,1.91,0,0,1-.58,1.4L9.25,21ZM18.45,9,17,7.55Zm-12,3A5.31,5.31,0,0,0,4.9,8.1,5.31,5.31,0,0,0,1,6.5,5.31,5.31,0,0,0,4.9,4.9,5.31,5.31,0,0,0,6.5,1,5.31,5.31,0,0,0,8.1,4.9,5.31,5.31,0,0,0,12,6.5,5.46,5.46,0,0,0,6.5,12Z\"/>\n",
              "  </svg>\n",
              "    </button>\n",
              "    <script>\n",
              "      (() => {\n",
              "      const buttonEl =\n",
              "        document.querySelector('#id_32afa97a-509b-450a-be74-b59d1bb302f0 button.colab-df-generate');\n",
              "      buttonEl.style.display =\n",
              "        google.colab.kernel.accessAllowed ? 'block' : 'none';\n",
              "\n",
              "      buttonEl.onclick = () => {\n",
              "        google.colab.notebook.generateWithVariable('df');\n",
              "      }\n",
              "      })();\n",
              "    </script>\n",
              "  </div>\n",
              "\n",
              "    </div>\n",
              "  </div>\n"
            ],
            "application/vnd.google.colaboratory.intrinsic+json": {
              "type": "dataframe",
              "variable_name": "df",
              "summary": "{\n  \"name\": \"df\",\n  \"rows\": 88700,\n  \"fields\": [\n    {\n      \"column\": \"status\",\n      \"properties\": {\n        \"dtype\": \"category\",\n        \"num_unique_values\": 11,\n        \"samples\": [\n          \"Closed As Duplicate\",\n          \"Closed\",\n          \"Awaiting Customer Information\"\n        ],\n        \"semantic_type\": \"\",\n        \"description\": \"\"\n      }\n    },\n    {\n      \"column\": \"date_received\",\n      \"properties\": {\n        \"dtype\": \"date\",\n        \"min\": \"2014-11-10 00:00:00\",\n        \"max\": \"2018-09-30 00:00:00\",\n        \"num_unique_values\": 1001,\n        \"samples\": [\n          \"2016-04-15 00:00:00\",\n          \"2018-08-02 00:00:00\",\n          \"2018-01-13 00:00:00\"\n        ],\n        \"semantic_type\": \"\",\n        \"description\": \"\"\n      }\n    },\n    {\n      \"column\": \"date_completed\",\n      \"properties\": {\n        \"dtype\": \"date\",\n        \"min\": \"2014-11-10 00:00:00\",\n        \"max\": \"2018-10-17 00:00:00\",\n        \"num_unique_values\": 1012,\n        \"samples\": [\n          \"2016-09-22 00:00:00\",\n          \"2016-06-22 00:00:00\",\n          \"2018-10-02 00:00:00\"\n        ],\n        \"semantic_type\": \"\",\n        \"description\": \"\"\n      }\n    },\n    {\n      \"column\": \"suburb\",\n      \"properties\": {\n        \"dtype\": \"category\",\n        \"num_unique_values\": 30,\n        \"samples\": [\n          \"Royal Park\",\n          \"Brunswick\",\n          \"Southgate Promenade\"\n        ],\n        \"semantic_type\": \"\",\n        \"description\": \"\"\n      }\n    },\n    {\n      \"column\": \"category\",\n      \"properties\": {\n        \"dtype\": \"category\",\n        \"num_unique_values\": 7,\n        \"samples\": [\n          \"Parking\",\n          \"Waste, Street Cleaning and Litter\",\n          \"Graffiti\"\n        ],\n        \"semantic_type\": \"\",\n        \"description\": \"\"\n      }\n    },\n    {\n      \"column\": \"service_type\",\n      \"properties\": {\n        \"dtype\": \"category\",\n        \"num_unique_values\": 37,\n        \"samples\": [\n          \"Traffic Management\",\n          \"Lawns and Irrigation\",\n          \"Parking Compliance Services\"\n        ],\n        \"semantic_type\": \"\",\n        \"description\": \"\"\n      }\n    },\n    {\n      \"column\": \"days_to_complete\",\n      \"properties\": {\n        \"dtype\": \"Int64\",\n        \"num_unique_values\": 372,\n        \"samples\": [\n          220,\n          48,\n          24\n        ],\n        \"semantic_type\": \"\",\n        \"description\": \"\"\n      }\n    },\n    {\n      \"column\": \"case_origin\",\n      \"properties\": {\n        \"dtype\": \"category\",\n        \"num_unique_values\": 10,\n        \"samples\": [\n          \"Face-to-Face\",\n          \"Phone\",\n          \"Email\"\n        ],\n        \"semantic_type\": \"\",\n        \"description\": \"\"\n      }\n    }\n  ]\n}"
            }
          },
          "metadata": {},
          "execution_count": 75
        }
      ]
    },
    {
      "cell_type": "markdown",
      "source": [
        "## Aggregation"
      ],
      "metadata": {
        "id": "5QiE-TTLvh1d"
      }
    },
    {
      "cell_type": "code",
      "source": [
        "# extract year and month from 'date_received'\n",
        "df['rec_year'] = df['date_received'].dt.year\n",
        "df['rec_month'] = df['date_received'].dt.month"
      ],
      "metadata": {
        "id": "vTAuTrO9tBDf"
      },
      "execution_count": null,
      "outputs": []
    },
    {
      "cell_type": "code",
      "source": [
        "df.head(5)"
      ],
      "metadata": {
        "id": "DA7Z4DWkvAgM",
        "colab": {
          "base_uri": "https://localhost:8080/",
          "height": 415
        },
        "outputId": "486f8913-cf29-4e5f-fc8a-57e262ee4abb"
      },
      "execution_count": null,
      "outputs": [
        {
          "output_type": "execute_result",
          "data": {
            "text/plain": [
              "   status date_received date_completed      suburb  \\\n",
              "0  Closed    2014-11-10     2015-09-20     Unknown   \n",
              "1  Closed    2014-11-10     2014-11-10     Unknown   \n",
              "2  Closed    2014-11-10     2014-11-12   Parkville   \n",
              "3  Closed    2014-11-10     2014-11-11  Kensington   \n",
              "4  Closed    2014-11-10     2014-11-12     Unknown   \n",
              "\n",
              "                            category              service_type  \\\n",
              "0                            Parking     Parking Meter Service   \n",
              "1  Waste, Street Cleaning and Litter  Street Cleaning services   \n",
              "2  Waste, Street Cleaning and Litter     Missed Bin Collection   \n",
              "3  Waste, Street Cleaning and Litter  Illegally Dumped Rubbish   \n",
              "4  Waste, Street Cleaning and Litter  Illegally Dumped Rubbish   \n",
              "\n",
              "   days_to_complete case_origin  rec_year  rec_month  \n",
              "0               314     Unknown      2014         11  \n",
              "1                 0     Unknown      2014         11  \n",
              "2                 2     Unknown      2014         11  \n",
              "3                 1     Unknown      2014         11  \n",
              "4                 2     Unknown      2014         11  "
            ],
            "text/html": [
              "\n",
              "  <div id=\"df-9aa31022-e83a-49fe-9764-1fa4297ce51a\" class=\"colab-df-container\">\n",
              "    <div>\n",
              "<style scoped>\n",
              "    .dataframe tbody tr th:only-of-type {\n",
              "        vertical-align: middle;\n",
              "    }\n",
              "\n",
              "    .dataframe tbody tr th {\n",
              "        vertical-align: top;\n",
              "    }\n",
              "\n",
              "    .dataframe thead th {\n",
              "        text-align: right;\n",
              "    }\n",
              "</style>\n",
              "<table border=\"1\" class=\"dataframe\">\n",
              "  <thead>\n",
              "    <tr style=\"text-align: right;\">\n",
              "      <th></th>\n",
              "      <th>status</th>\n",
              "      <th>date_received</th>\n",
              "      <th>date_completed</th>\n",
              "      <th>suburb</th>\n",
              "      <th>category</th>\n",
              "      <th>service_type</th>\n",
              "      <th>days_to_complete</th>\n",
              "      <th>case_origin</th>\n",
              "      <th>rec_year</th>\n",
              "      <th>rec_month</th>\n",
              "    </tr>\n",
              "  </thead>\n",
              "  <tbody>\n",
              "    <tr>\n",
              "      <th>0</th>\n",
              "      <td>Closed</td>\n",
              "      <td>2014-11-10</td>\n",
              "      <td>2015-09-20</td>\n",
              "      <td>Unknown</td>\n",
              "      <td>Parking</td>\n",
              "      <td>Parking Meter Service</td>\n",
              "      <td>314</td>\n",
              "      <td>Unknown</td>\n",
              "      <td>2014</td>\n",
              "      <td>11</td>\n",
              "    </tr>\n",
              "    <tr>\n",
              "      <th>1</th>\n",
              "      <td>Closed</td>\n",
              "      <td>2014-11-10</td>\n",
              "      <td>2014-11-10</td>\n",
              "      <td>Unknown</td>\n",
              "      <td>Waste, Street Cleaning and Litter</td>\n",
              "      <td>Street Cleaning services</td>\n",
              "      <td>0</td>\n",
              "      <td>Unknown</td>\n",
              "      <td>2014</td>\n",
              "      <td>11</td>\n",
              "    </tr>\n",
              "    <tr>\n",
              "      <th>2</th>\n",
              "      <td>Closed</td>\n",
              "      <td>2014-11-10</td>\n",
              "      <td>2014-11-12</td>\n",
              "      <td>Parkville</td>\n",
              "      <td>Waste, Street Cleaning and Litter</td>\n",
              "      <td>Missed Bin Collection</td>\n",
              "      <td>2</td>\n",
              "      <td>Unknown</td>\n",
              "      <td>2014</td>\n",
              "      <td>11</td>\n",
              "    </tr>\n",
              "    <tr>\n",
              "      <th>3</th>\n",
              "      <td>Closed</td>\n",
              "      <td>2014-11-10</td>\n",
              "      <td>2014-11-11</td>\n",
              "      <td>Kensington</td>\n",
              "      <td>Waste, Street Cleaning and Litter</td>\n",
              "      <td>Illegally Dumped Rubbish</td>\n",
              "      <td>1</td>\n",
              "      <td>Unknown</td>\n",
              "      <td>2014</td>\n",
              "      <td>11</td>\n",
              "    </tr>\n",
              "    <tr>\n",
              "      <th>4</th>\n",
              "      <td>Closed</td>\n",
              "      <td>2014-11-10</td>\n",
              "      <td>2014-11-12</td>\n",
              "      <td>Unknown</td>\n",
              "      <td>Waste, Street Cleaning and Litter</td>\n",
              "      <td>Illegally Dumped Rubbish</td>\n",
              "      <td>2</td>\n",
              "      <td>Unknown</td>\n",
              "      <td>2014</td>\n",
              "      <td>11</td>\n",
              "    </tr>\n",
              "  </tbody>\n",
              "</table>\n",
              "</div>\n",
              "    <div class=\"colab-df-buttons\">\n",
              "\n",
              "  <div class=\"colab-df-container\">\n",
              "    <button class=\"colab-df-convert\" onclick=\"convertToInteractive('df-9aa31022-e83a-49fe-9764-1fa4297ce51a')\"\n",
              "            title=\"Convert this dataframe to an interactive table.\"\n",
              "            style=\"display:none;\">\n",
              "\n",
              "  <svg xmlns=\"http://www.w3.org/2000/svg\" height=\"24px\" viewBox=\"0 -960 960 960\">\n",
              "    <path d=\"M120-120v-720h720v720H120Zm60-500h600v-160H180v160Zm220 220h160v-160H400v160Zm0 220h160v-160H400v160ZM180-400h160v-160H180v160Zm440 0h160v-160H620v160ZM180-180h160v-160H180v160Zm440 0h160v-160H620v160Z\"/>\n",
              "  </svg>\n",
              "    </button>\n",
              "\n",
              "  <style>\n",
              "    .colab-df-container {\n",
              "      display:flex;\n",
              "      gap: 12px;\n",
              "    }\n",
              "\n",
              "    .colab-df-convert {\n",
              "      background-color: #E8F0FE;\n",
              "      border: none;\n",
              "      border-radius: 50%;\n",
              "      cursor: pointer;\n",
              "      display: none;\n",
              "      fill: #1967D2;\n",
              "      height: 32px;\n",
              "      padding: 0 0 0 0;\n",
              "      width: 32px;\n",
              "    }\n",
              "\n",
              "    .colab-df-convert:hover {\n",
              "      background-color: #E2EBFA;\n",
              "      box-shadow: 0px 1px 2px rgba(60, 64, 67, 0.3), 0px 1px 3px 1px rgba(60, 64, 67, 0.15);\n",
              "      fill: #174EA6;\n",
              "    }\n",
              "\n",
              "    .colab-df-buttons div {\n",
              "      margin-bottom: 4px;\n",
              "    }\n",
              "\n",
              "    [theme=dark] .colab-df-convert {\n",
              "      background-color: #3B4455;\n",
              "      fill: #D2E3FC;\n",
              "    }\n",
              "\n",
              "    [theme=dark] .colab-df-convert:hover {\n",
              "      background-color: #434B5C;\n",
              "      box-shadow: 0px 1px 3px 1px rgba(0, 0, 0, 0.15);\n",
              "      filter: drop-shadow(0px 1px 2px rgba(0, 0, 0, 0.3));\n",
              "      fill: #FFFFFF;\n",
              "    }\n",
              "  </style>\n",
              "\n",
              "    <script>\n",
              "      const buttonEl =\n",
              "        document.querySelector('#df-9aa31022-e83a-49fe-9764-1fa4297ce51a button.colab-df-convert');\n",
              "      buttonEl.style.display =\n",
              "        google.colab.kernel.accessAllowed ? 'block' : 'none';\n",
              "\n",
              "      async function convertToInteractive(key) {\n",
              "        const element = document.querySelector('#df-9aa31022-e83a-49fe-9764-1fa4297ce51a');\n",
              "        const dataTable =\n",
              "          await google.colab.kernel.invokeFunction('convertToInteractive',\n",
              "                                                    [key], {});\n",
              "        if (!dataTable) return;\n",
              "\n",
              "        const docLinkHtml = 'Like what you see? Visit the ' +\n",
              "          '<a target=\"_blank\" href=https://colab.research.google.com/notebooks/data_table.ipynb>data table notebook</a>'\n",
              "          + ' to learn more about interactive tables.';\n",
              "        element.innerHTML = '';\n",
              "        dataTable['output_type'] = 'display_data';\n",
              "        await google.colab.output.renderOutput(dataTable, element);\n",
              "        const docLink = document.createElement('div');\n",
              "        docLink.innerHTML = docLinkHtml;\n",
              "        element.appendChild(docLink);\n",
              "      }\n",
              "    </script>\n",
              "  </div>\n",
              "\n",
              "\n",
              "<div id=\"df-d439f6fb-8d7d-4f1b-8248-de79204c38d7\">\n",
              "  <button class=\"colab-df-quickchart\" onclick=\"quickchart('df-d439f6fb-8d7d-4f1b-8248-de79204c38d7')\"\n",
              "            title=\"Suggest charts\"\n",
              "            style=\"display:none;\">\n",
              "\n",
              "<svg xmlns=\"http://www.w3.org/2000/svg\" height=\"24px\"viewBox=\"0 0 24 24\"\n",
              "     width=\"24px\">\n",
              "    <g>\n",
              "        <path d=\"M19 3H5c-1.1 0-2 .9-2 2v14c0 1.1.9 2 2 2h14c1.1 0 2-.9 2-2V5c0-1.1-.9-2-2-2zM9 17H7v-7h2v7zm4 0h-2V7h2v10zm4 0h-2v-4h2v4z\"/>\n",
              "    </g>\n",
              "</svg>\n",
              "  </button>\n",
              "\n",
              "<style>\n",
              "  .colab-df-quickchart {\n",
              "      --bg-color: #E8F0FE;\n",
              "      --fill-color: #1967D2;\n",
              "      --hover-bg-color: #E2EBFA;\n",
              "      --hover-fill-color: #174EA6;\n",
              "      --disabled-fill-color: #AAA;\n",
              "      --disabled-bg-color: #DDD;\n",
              "  }\n",
              "\n",
              "  [theme=dark] .colab-df-quickchart {\n",
              "      --bg-color: #3B4455;\n",
              "      --fill-color: #D2E3FC;\n",
              "      --hover-bg-color: #434B5C;\n",
              "      --hover-fill-color: #FFFFFF;\n",
              "      --disabled-bg-color: #3B4455;\n",
              "      --disabled-fill-color: #666;\n",
              "  }\n",
              "\n",
              "  .colab-df-quickchart {\n",
              "    background-color: var(--bg-color);\n",
              "    border: none;\n",
              "    border-radius: 50%;\n",
              "    cursor: pointer;\n",
              "    display: none;\n",
              "    fill: var(--fill-color);\n",
              "    height: 32px;\n",
              "    padding: 0;\n",
              "    width: 32px;\n",
              "  }\n",
              "\n",
              "  .colab-df-quickchart:hover {\n",
              "    background-color: var(--hover-bg-color);\n",
              "    box-shadow: 0 1px 2px rgba(60, 64, 67, 0.3), 0 1px 3px 1px rgba(60, 64, 67, 0.15);\n",
              "    fill: var(--button-hover-fill-color);\n",
              "  }\n",
              "\n",
              "  .colab-df-quickchart-complete:disabled,\n",
              "  .colab-df-quickchart-complete:disabled:hover {\n",
              "    background-color: var(--disabled-bg-color);\n",
              "    fill: var(--disabled-fill-color);\n",
              "    box-shadow: none;\n",
              "  }\n",
              "\n",
              "  .colab-df-spinner {\n",
              "    border: 2px solid var(--fill-color);\n",
              "    border-color: transparent;\n",
              "    border-bottom-color: var(--fill-color);\n",
              "    animation:\n",
              "      spin 1s steps(1) infinite;\n",
              "  }\n",
              "\n",
              "  @keyframes spin {\n",
              "    0% {\n",
              "      border-color: transparent;\n",
              "      border-bottom-color: var(--fill-color);\n",
              "      border-left-color: var(--fill-color);\n",
              "    }\n",
              "    20% {\n",
              "      border-color: transparent;\n",
              "      border-left-color: var(--fill-color);\n",
              "      border-top-color: var(--fill-color);\n",
              "    }\n",
              "    30% {\n",
              "      border-color: transparent;\n",
              "      border-left-color: var(--fill-color);\n",
              "      border-top-color: var(--fill-color);\n",
              "      border-right-color: var(--fill-color);\n",
              "    }\n",
              "    40% {\n",
              "      border-color: transparent;\n",
              "      border-right-color: var(--fill-color);\n",
              "      border-top-color: var(--fill-color);\n",
              "    }\n",
              "    60% {\n",
              "      border-color: transparent;\n",
              "      border-right-color: var(--fill-color);\n",
              "    }\n",
              "    80% {\n",
              "      border-color: transparent;\n",
              "      border-right-color: var(--fill-color);\n",
              "      border-bottom-color: var(--fill-color);\n",
              "    }\n",
              "    90% {\n",
              "      border-color: transparent;\n",
              "      border-bottom-color: var(--fill-color);\n",
              "    }\n",
              "  }\n",
              "</style>\n",
              "\n",
              "  <script>\n",
              "    async function quickchart(key) {\n",
              "      const quickchartButtonEl =\n",
              "        document.querySelector('#' + key + ' button');\n",
              "      quickchartButtonEl.disabled = true;  // To prevent multiple clicks.\n",
              "      quickchartButtonEl.classList.add('colab-df-spinner');\n",
              "      try {\n",
              "        const charts = await google.colab.kernel.invokeFunction(\n",
              "            'suggestCharts', [key], {});\n",
              "      } catch (error) {\n",
              "        console.error('Error during call to suggestCharts:', error);\n",
              "      }\n",
              "      quickchartButtonEl.classList.remove('colab-df-spinner');\n",
              "      quickchartButtonEl.classList.add('colab-df-quickchart-complete');\n",
              "    }\n",
              "    (() => {\n",
              "      let quickchartButtonEl =\n",
              "        document.querySelector('#df-d439f6fb-8d7d-4f1b-8248-de79204c38d7 button');\n",
              "      quickchartButtonEl.style.display =\n",
              "        google.colab.kernel.accessAllowed ? 'block' : 'none';\n",
              "    })();\n",
              "  </script>\n",
              "</div>\n",
              "\n",
              "    </div>\n",
              "  </div>\n"
            ],
            "application/vnd.google.colaboratory.intrinsic+json": {
              "type": "dataframe",
              "variable_name": "df",
              "summary": "{\n  \"name\": \"df\",\n  \"rows\": 88700,\n  \"fields\": [\n    {\n      \"column\": \"status\",\n      \"properties\": {\n        \"dtype\": \"category\",\n        \"num_unique_values\": 11,\n        \"samples\": [\n          \"Closed As Duplicate\",\n          \"Closed\",\n          \"Awaiting Customer Information\"\n        ],\n        \"semantic_type\": \"\",\n        \"description\": \"\"\n      }\n    },\n    {\n      \"column\": \"date_received\",\n      \"properties\": {\n        \"dtype\": \"date\",\n        \"min\": \"2014-11-10 00:00:00\",\n        \"max\": \"2018-09-30 00:00:00\",\n        \"num_unique_values\": 1001,\n        \"samples\": [\n          \"2016-04-15 00:00:00\",\n          \"2018-08-02 00:00:00\",\n          \"2018-01-13 00:00:00\"\n        ],\n        \"semantic_type\": \"\",\n        \"description\": \"\"\n      }\n    },\n    {\n      \"column\": \"date_completed\",\n      \"properties\": {\n        \"dtype\": \"date\",\n        \"min\": \"2014-11-10 00:00:00\",\n        \"max\": \"2018-10-17 00:00:00\",\n        \"num_unique_values\": 1012,\n        \"samples\": [\n          \"2016-09-22 00:00:00\",\n          \"2016-06-22 00:00:00\",\n          \"2018-10-02 00:00:00\"\n        ],\n        \"semantic_type\": \"\",\n        \"description\": \"\"\n      }\n    },\n    {\n      \"column\": \"suburb\",\n      \"properties\": {\n        \"dtype\": \"category\",\n        \"num_unique_values\": 30,\n        \"samples\": [\n          \"Royal Park\",\n          \"Brunswick\",\n          \"Southgate Promenade\"\n        ],\n        \"semantic_type\": \"\",\n        \"description\": \"\"\n      }\n    },\n    {\n      \"column\": \"category\",\n      \"properties\": {\n        \"dtype\": \"category\",\n        \"num_unique_values\": 7,\n        \"samples\": [\n          \"Parking\",\n          \"Waste, Street Cleaning and Litter\",\n          \"Graffiti\"\n        ],\n        \"semantic_type\": \"\",\n        \"description\": \"\"\n      }\n    },\n    {\n      \"column\": \"service_type\",\n      \"properties\": {\n        \"dtype\": \"category\",\n        \"num_unique_values\": 37,\n        \"samples\": [\n          \"Traffic Management\",\n          \"Lawns and Irrigation\",\n          \"Parking Compliance Services\"\n        ],\n        \"semantic_type\": \"\",\n        \"description\": \"\"\n      }\n    },\n    {\n      \"column\": \"days_to_complete\",\n      \"properties\": {\n        \"dtype\": \"Int64\",\n        \"num_unique_values\": 372,\n        \"samples\": [\n          220,\n          48,\n          24\n        ],\n        \"semantic_type\": \"\",\n        \"description\": \"\"\n      }\n    },\n    {\n      \"column\": \"case_origin\",\n      \"properties\": {\n        \"dtype\": \"category\",\n        \"num_unique_values\": 10,\n        \"samples\": [\n          \"Face-to-Face\",\n          \"Phone\",\n          \"Email\"\n        ],\n        \"semantic_type\": \"\",\n        \"description\": \"\"\n      }\n    },\n    {\n      \"column\": \"rec_year\",\n      \"properties\": {\n        \"dtype\": \"int32\",\n        \"num_unique_values\": 4,\n        \"samples\": [\n          2015,\n          2018,\n          2014\n        ],\n        \"semantic_type\": \"\",\n        \"description\": \"\"\n      }\n    },\n    {\n      \"column\": \"rec_month\",\n      \"properties\": {\n        \"dtype\": \"int32\",\n        \"num_unique_values\": 12,\n        \"samples\": [\n          9,\n          8,\n          11\n        ],\n        \"semantic_type\": \"\",\n        \"description\": \"\"\n      }\n    }\n  ]\n}"
            }
          },
          "metadata": {},
          "execution_count": 77
        }
      ]
    },
    {
      "cell_type": "code",
      "source": [
        "df[df['suburb'] != 'Unknown']"
      ],
      "metadata": {
        "colab": {
          "base_uri": "https://localhost:8080/",
          "height": 744
        },
        "id": "777bg_l7zwFp",
        "outputId": "d3b879c0-5130-41b1-d8ec-2f06bf6d9615"
      },
      "execution_count": null,
      "outputs": [
        {
          "output_type": "execute_result",
          "data": {
            "text/plain": [
              "       status date_received date_completed          suburb  \\\n",
              "2      Closed    2014-11-10     2014-11-12       Parkville   \n",
              "3      Closed    2014-11-10     2014-11-11      Kensington   \n",
              "10     Closed    2014-11-10     2014-11-11  East Melbourne   \n",
              "14     Closed    2014-11-10     2014-11-13      Kensington   \n",
              "17     Closed    2014-11-10     2014-11-21       Melbourne   \n",
              "...       ...           ...            ...             ...   \n",
              "88686  Closed    2018-09-30     2018-10-04       Parkville   \n",
              "88687  Closed    2018-09-30     2018-10-09       Melbourne   \n",
              "88688  Closed    2018-09-30     2018-09-30       Southbank   \n",
              "88693  Closed    2018-09-30     2018-09-30       Melbourne   \n",
              "88697  Closed    2018-09-30     2018-09-30         Carlton   \n",
              "\n",
              "                                category                  service_type  \\\n",
              "2      Waste, Street Cleaning and Litter         Missed Bin Collection   \n",
              "3      Waste, Street Cleaning and Litter      Illegally Dumped Rubbish   \n",
              "10                       Parks and Trees  Condition of Assets in Parks   \n",
              "14     Waste, Street Cleaning and Litter                   Missing Bin   \n",
              "17                       Parks and Trees     Tree Maintenance Services   \n",
              "...                                  ...                           ...   \n",
              "88686  Waste, Street Cleaning and Litter      Illegally Dumped Rubbish   \n",
              "88687                            Parking            Abandoned Vehicles   \n",
              "88688                            Parking   Request for Parking Officer   \n",
              "88693                    Parks and Trees                Rough Sleeping   \n",
              "88697                            Parking   Request for Parking Officer   \n",
              "\n",
              "       days_to_complete case_origin  rec_year  rec_month  \n",
              "2                     2     Unknown      2014         11  \n",
              "3                     1     Unknown      2014         11  \n",
              "10                    1     Unknown      2014         11  \n",
              "14                    3     Unknown      2014         11  \n",
              "17                   11     Unknown      2014         11  \n",
              "...                 ...         ...       ...        ...  \n",
              "88686                 4         Web      2018          9  \n",
              "88687                 9         Web      2018          9  \n",
              "88688                 0         Web      2018          9  \n",
              "88693                 0       Phone      2018          9  \n",
              "88697                 0         Web      2018          9  \n",
              "\n",
              "[41188 rows x 10 columns]"
            ],
            "text/html": [
              "\n",
              "  <div id=\"df-4521c1fc-6424-4b78-afdb-a03adc9b36e0\" class=\"colab-df-container\">\n",
              "    <div>\n",
              "<style scoped>\n",
              "    .dataframe tbody tr th:only-of-type {\n",
              "        vertical-align: middle;\n",
              "    }\n",
              "\n",
              "    .dataframe tbody tr th {\n",
              "        vertical-align: top;\n",
              "    }\n",
              "\n",
              "    .dataframe thead th {\n",
              "        text-align: right;\n",
              "    }\n",
              "</style>\n",
              "<table border=\"1\" class=\"dataframe\">\n",
              "  <thead>\n",
              "    <tr style=\"text-align: right;\">\n",
              "      <th></th>\n",
              "      <th>status</th>\n",
              "      <th>date_received</th>\n",
              "      <th>date_completed</th>\n",
              "      <th>suburb</th>\n",
              "      <th>category</th>\n",
              "      <th>service_type</th>\n",
              "      <th>days_to_complete</th>\n",
              "      <th>case_origin</th>\n",
              "      <th>rec_year</th>\n",
              "      <th>rec_month</th>\n",
              "    </tr>\n",
              "  </thead>\n",
              "  <tbody>\n",
              "    <tr>\n",
              "      <th>2</th>\n",
              "      <td>Closed</td>\n",
              "      <td>2014-11-10</td>\n",
              "      <td>2014-11-12</td>\n",
              "      <td>Parkville</td>\n",
              "      <td>Waste, Street Cleaning and Litter</td>\n",
              "      <td>Missed Bin Collection</td>\n",
              "      <td>2</td>\n",
              "      <td>Unknown</td>\n",
              "      <td>2014</td>\n",
              "      <td>11</td>\n",
              "    </tr>\n",
              "    <tr>\n",
              "      <th>3</th>\n",
              "      <td>Closed</td>\n",
              "      <td>2014-11-10</td>\n",
              "      <td>2014-11-11</td>\n",
              "      <td>Kensington</td>\n",
              "      <td>Waste, Street Cleaning and Litter</td>\n",
              "      <td>Illegally Dumped Rubbish</td>\n",
              "      <td>1</td>\n",
              "      <td>Unknown</td>\n",
              "      <td>2014</td>\n",
              "      <td>11</td>\n",
              "    </tr>\n",
              "    <tr>\n",
              "      <th>10</th>\n",
              "      <td>Closed</td>\n",
              "      <td>2014-11-10</td>\n",
              "      <td>2014-11-11</td>\n",
              "      <td>East Melbourne</td>\n",
              "      <td>Parks and Trees</td>\n",
              "      <td>Condition of Assets in Parks</td>\n",
              "      <td>1</td>\n",
              "      <td>Unknown</td>\n",
              "      <td>2014</td>\n",
              "      <td>11</td>\n",
              "    </tr>\n",
              "    <tr>\n",
              "      <th>14</th>\n",
              "      <td>Closed</td>\n",
              "      <td>2014-11-10</td>\n",
              "      <td>2014-11-13</td>\n",
              "      <td>Kensington</td>\n",
              "      <td>Waste, Street Cleaning and Litter</td>\n",
              "      <td>Missing Bin</td>\n",
              "      <td>3</td>\n",
              "      <td>Unknown</td>\n",
              "      <td>2014</td>\n",
              "      <td>11</td>\n",
              "    </tr>\n",
              "    <tr>\n",
              "      <th>17</th>\n",
              "      <td>Closed</td>\n",
              "      <td>2014-11-10</td>\n",
              "      <td>2014-11-21</td>\n",
              "      <td>Melbourne</td>\n",
              "      <td>Parks and Trees</td>\n",
              "      <td>Tree Maintenance Services</td>\n",
              "      <td>11</td>\n",
              "      <td>Unknown</td>\n",
              "      <td>2014</td>\n",
              "      <td>11</td>\n",
              "    </tr>\n",
              "    <tr>\n",
              "      <th>...</th>\n",
              "      <td>...</td>\n",
              "      <td>...</td>\n",
              "      <td>...</td>\n",
              "      <td>...</td>\n",
              "      <td>...</td>\n",
              "      <td>...</td>\n",
              "      <td>...</td>\n",
              "      <td>...</td>\n",
              "      <td>...</td>\n",
              "      <td>...</td>\n",
              "    </tr>\n",
              "    <tr>\n",
              "      <th>88686</th>\n",
              "      <td>Closed</td>\n",
              "      <td>2018-09-30</td>\n",
              "      <td>2018-10-04</td>\n",
              "      <td>Parkville</td>\n",
              "      <td>Waste, Street Cleaning and Litter</td>\n",
              "      <td>Illegally Dumped Rubbish</td>\n",
              "      <td>4</td>\n",
              "      <td>Web</td>\n",
              "      <td>2018</td>\n",
              "      <td>9</td>\n",
              "    </tr>\n",
              "    <tr>\n",
              "      <th>88687</th>\n",
              "      <td>Closed</td>\n",
              "      <td>2018-09-30</td>\n",
              "      <td>2018-10-09</td>\n",
              "      <td>Melbourne</td>\n",
              "      <td>Parking</td>\n",
              "      <td>Abandoned Vehicles</td>\n",
              "      <td>9</td>\n",
              "      <td>Web</td>\n",
              "      <td>2018</td>\n",
              "      <td>9</td>\n",
              "    </tr>\n",
              "    <tr>\n",
              "      <th>88688</th>\n",
              "      <td>Closed</td>\n",
              "      <td>2018-09-30</td>\n",
              "      <td>2018-09-30</td>\n",
              "      <td>Southbank</td>\n",
              "      <td>Parking</td>\n",
              "      <td>Request for Parking Officer</td>\n",
              "      <td>0</td>\n",
              "      <td>Web</td>\n",
              "      <td>2018</td>\n",
              "      <td>9</td>\n",
              "    </tr>\n",
              "    <tr>\n",
              "      <th>88693</th>\n",
              "      <td>Closed</td>\n",
              "      <td>2018-09-30</td>\n",
              "      <td>2018-09-30</td>\n",
              "      <td>Melbourne</td>\n",
              "      <td>Parks and Trees</td>\n",
              "      <td>Rough Sleeping</td>\n",
              "      <td>0</td>\n",
              "      <td>Phone</td>\n",
              "      <td>2018</td>\n",
              "      <td>9</td>\n",
              "    </tr>\n",
              "    <tr>\n",
              "      <th>88697</th>\n",
              "      <td>Closed</td>\n",
              "      <td>2018-09-30</td>\n",
              "      <td>2018-09-30</td>\n",
              "      <td>Carlton</td>\n",
              "      <td>Parking</td>\n",
              "      <td>Request for Parking Officer</td>\n",
              "      <td>0</td>\n",
              "      <td>Web</td>\n",
              "      <td>2018</td>\n",
              "      <td>9</td>\n",
              "    </tr>\n",
              "  </tbody>\n",
              "</table>\n",
              "<p>41188 rows × 10 columns</p>\n",
              "</div>\n",
              "    <div class=\"colab-df-buttons\">\n",
              "\n",
              "  <div class=\"colab-df-container\">\n",
              "    <button class=\"colab-df-convert\" onclick=\"convertToInteractive('df-4521c1fc-6424-4b78-afdb-a03adc9b36e0')\"\n",
              "            title=\"Convert this dataframe to an interactive table.\"\n",
              "            style=\"display:none;\">\n",
              "\n",
              "  <svg xmlns=\"http://www.w3.org/2000/svg\" height=\"24px\" viewBox=\"0 -960 960 960\">\n",
              "    <path d=\"M120-120v-720h720v720H120Zm60-500h600v-160H180v160Zm220 220h160v-160H400v160Zm0 220h160v-160H400v160ZM180-400h160v-160H180v160Zm440 0h160v-160H620v160ZM180-180h160v-160H180v160Zm440 0h160v-160H620v160Z\"/>\n",
              "  </svg>\n",
              "    </button>\n",
              "\n",
              "  <style>\n",
              "    .colab-df-container {\n",
              "      display:flex;\n",
              "      gap: 12px;\n",
              "    }\n",
              "\n",
              "    .colab-df-convert {\n",
              "      background-color: #E8F0FE;\n",
              "      border: none;\n",
              "      border-radius: 50%;\n",
              "      cursor: pointer;\n",
              "      display: none;\n",
              "      fill: #1967D2;\n",
              "      height: 32px;\n",
              "      padding: 0 0 0 0;\n",
              "      width: 32px;\n",
              "    }\n",
              "\n",
              "    .colab-df-convert:hover {\n",
              "      background-color: #E2EBFA;\n",
              "      box-shadow: 0px 1px 2px rgba(60, 64, 67, 0.3), 0px 1px 3px 1px rgba(60, 64, 67, 0.15);\n",
              "      fill: #174EA6;\n",
              "    }\n",
              "\n",
              "    .colab-df-buttons div {\n",
              "      margin-bottom: 4px;\n",
              "    }\n",
              "\n",
              "    [theme=dark] .colab-df-convert {\n",
              "      background-color: #3B4455;\n",
              "      fill: #D2E3FC;\n",
              "    }\n",
              "\n",
              "    [theme=dark] .colab-df-convert:hover {\n",
              "      background-color: #434B5C;\n",
              "      box-shadow: 0px 1px 3px 1px rgba(0, 0, 0, 0.15);\n",
              "      filter: drop-shadow(0px 1px 2px rgba(0, 0, 0, 0.3));\n",
              "      fill: #FFFFFF;\n",
              "    }\n",
              "  </style>\n",
              "\n",
              "    <script>\n",
              "      const buttonEl =\n",
              "        document.querySelector('#df-4521c1fc-6424-4b78-afdb-a03adc9b36e0 button.colab-df-convert');\n",
              "      buttonEl.style.display =\n",
              "        google.colab.kernel.accessAllowed ? 'block' : 'none';\n",
              "\n",
              "      async function convertToInteractive(key) {\n",
              "        const element = document.querySelector('#df-4521c1fc-6424-4b78-afdb-a03adc9b36e0');\n",
              "        const dataTable =\n",
              "          await google.colab.kernel.invokeFunction('convertToInteractive',\n",
              "                                                    [key], {});\n",
              "        if (!dataTable) return;\n",
              "\n",
              "        const docLinkHtml = 'Like what you see? Visit the ' +\n",
              "          '<a target=\"_blank\" href=https://colab.research.google.com/notebooks/data_table.ipynb>data table notebook</a>'\n",
              "          + ' to learn more about interactive tables.';\n",
              "        element.innerHTML = '';\n",
              "        dataTable['output_type'] = 'display_data';\n",
              "        await google.colab.output.renderOutput(dataTable, element);\n",
              "        const docLink = document.createElement('div');\n",
              "        docLink.innerHTML = docLinkHtml;\n",
              "        element.appendChild(docLink);\n",
              "      }\n",
              "    </script>\n",
              "  </div>\n",
              "\n",
              "\n",
              "<div id=\"df-a011b593-55b2-49bc-b0ac-db016a305fd4\">\n",
              "  <button class=\"colab-df-quickchart\" onclick=\"quickchart('df-a011b593-55b2-49bc-b0ac-db016a305fd4')\"\n",
              "            title=\"Suggest charts\"\n",
              "            style=\"display:none;\">\n",
              "\n",
              "<svg xmlns=\"http://www.w3.org/2000/svg\" height=\"24px\"viewBox=\"0 0 24 24\"\n",
              "     width=\"24px\">\n",
              "    <g>\n",
              "        <path d=\"M19 3H5c-1.1 0-2 .9-2 2v14c0 1.1.9 2 2 2h14c1.1 0 2-.9 2-2V5c0-1.1-.9-2-2-2zM9 17H7v-7h2v7zm4 0h-2V7h2v10zm4 0h-2v-4h2v4z\"/>\n",
              "    </g>\n",
              "</svg>\n",
              "  </button>\n",
              "\n",
              "<style>\n",
              "  .colab-df-quickchart {\n",
              "      --bg-color: #E8F0FE;\n",
              "      --fill-color: #1967D2;\n",
              "      --hover-bg-color: #E2EBFA;\n",
              "      --hover-fill-color: #174EA6;\n",
              "      --disabled-fill-color: #AAA;\n",
              "      --disabled-bg-color: #DDD;\n",
              "  }\n",
              "\n",
              "  [theme=dark] .colab-df-quickchart {\n",
              "      --bg-color: #3B4455;\n",
              "      --fill-color: #D2E3FC;\n",
              "      --hover-bg-color: #434B5C;\n",
              "      --hover-fill-color: #FFFFFF;\n",
              "      --disabled-bg-color: #3B4455;\n",
              "      --disabled-fill-color: #666;\n",
              "  }\n",
              "\n",
              "  .colab-df-quickchart {\n",
              "    background-color: var(--bg-color);\n",
              "    border: none;\n",
              "    border-radius: 50%;\n",
              "    cursor: pointer;\n",
              "    display: none;\n",
              "    fill: var(--fill-color);\n",
              "    height: 32px;\n",
              "    padding: 0;\n",
              "    width: 32px;\n",
              "  }\n",
              "\n",
              "  .colab-df-quickchart:hover {\n",
              "    background-color: var(--hover-bg-color);\n",
              "    box-shadow: 0 1px 2px rgba(60, 64, 67, 0.3), 0 1px 3px 1px rgba(60, 64, 67, 0.15);\n",
              "    fill: var(--button-hover-fill-color);\n",
              "  }\n",
              "\n",
              "  .colab-df-quickchart-complete:disabled,\n",
              "  .colab-df-quickchart-complete:disabled:hover {\n",
              "    background-color: var(--disabled-bg-color);\n",
              "    fill: var(--disabled-fill-color);\n",
              "    box-shadow: none;\n",
              "  }\n",
              "\n",
              "  .colab-df-spinner {\n",
              "    border: 2px solid var(--fill-color);\n",
              "    border-color: transparent;\n",
              "    border-bottom-color: var(--fill-color);\n",
              "    animation:\n",
              "      spin 1s steps(1) infinite;\n",
              "  }\n",
              "\n",
              "  @keyframes spin {\n",
              "    0% {\n",
              "      border-color: transparent;\n",
              "      border-bottom-color: var(--fill-color);\n",
              "      border-left-color: var(--fill-color);\n",
              "    }\n",
              "    20% {\n",
              "      border-color: transparent;\n",
              "      border-left-color: var(--fill-color);\n",
              "      border-top-color: var(--fill-color);\n",
              "    }\n",
              "    30% {\n",
              "      border-color: transparent;\n",
              "      border-left-color: var(--fill-color);\n",
              "      border-top-color: var(--fill-color);\n",
              "      border-right-color: var(--fill-color);\n",
              "    }\n",
              "    40% {\n",
              "      border-color: transparent;\n",
              "      border-right-color: var(--fill-color);\n",
              "      border-top-color: var(--fill-color);\n",
              "    }\n",
              "    60% {\n",
              "      border-color: transparent;\n",
              "      border-right-color: var(--fill-color);\n",
              "    }\n",
              "    80% {\n",
              "      border-color: transparent;\n",
              "      border-right-color: var(--fill-color);\n",
              "      border-bottom-color: var(--fill-color);\n",
              "    }\n",
              "    90% {\n",
              "      border-color: transparent;\n",
              "      border-bottom-color: var(--fill-color);\n",
              "    }\n",
              "  }\n",
              "</style>\n",
              "\n",
              "  <script>\n",
              "    async function quickchart(key) {\n",
              "      const quickchartButtonEl =\n",
              "        document.querySelector('#' + key + ' button');\n",
              "      quickchartButtonEl.disabled = true;  // To prevent multiple clicks.\n",
              "      quickchartButtonEl.classList.add('colab-df-spinner');\n",
              "      try {\n",
              "        const charts = await google.colab.kernel.invokeFunction(\n",
              "            'suggestCharts', [key], {});\n",
              "      } catch (error) {\n",
              "        console.error('Error during call to suggestCharts:', error);\n",
              "      }\n",
              "      quickchartButtonEl.classList.remove('colab-df-spinner');\n",
              "      quickchartButtonEl.classList.add('colab-df-quickchart-complete');\n",
              "    }\n",
              "    (() => {\n",
              "      let quickchartButtonEl =\n",
              "        document.querySelector('#df-a011b593-55b2-49bc-b0ac-db016a305fd4 button');\n",
              "      quickchartButtonEl.style.display =\n",
              "        google.colab.kernel.accessAllowed ? 'block' : 'none';\n",
              "    })();\n",
              "  </script>\n",
              "</div>\n",
              "\n",
              "    </div>\n",
              "  </div>\n"
            ],
            "application/vnd.google.colaboratory.intrinsic+json": {
              "type": "dataframe",
              "summary": "{\n  \"name\": \"df[df['suburb'] != 'Unknown']\",\n  \"rows\": 41188,\n  \"fields\": [\n    {\n      \"column\": \"status\",\n      \"properties\": {\n        \"dtype\": \"category\",\n        \"num_unique_values\": 9,\n        \"samples\": [\n          \"Assigned For Action\",\n          \"Reassigned\",\n          \"Closed As Duplicate\"\n        ],\n        \"semantic_type\": \"\",\n        \"description\": \"\"\n      }\n    },\n    {\n      \"column\": \"date_received\",\n      \"properties\": {\n        \"dtype\": \"date\",\n        \"min\": \"2014-11-10 00:00:00\",\n        \"max\": \"2018-09-30 00:00:00\",\n        \"num_unique_values\": 998,\n        \"samples\": [\n          \"2016-02-09 00:00:00\",\n          \"2018-03-08 00:00:00\",\n          \"2015-06-08 00:00:00\"\n        ],\n        \"semantic_type\": \"\",\n        \"description\": \"\"\n      }\n    },\n    {\n      \"column\": \"date_completed\",\n      \"properties\": {\n        \"dtype\": \"date\",\n        \"min\": \"2014-11-10 00:00:00\",\n        \"max\": \"2018-10-17 00:00:00\",\n        \"num_unique_values\": 880,\n        \"samples\": [\n          \"2016-10-10 00:00:00\",\n          \"2015-09-22 00:00:00\",\n          \"2018-07-27 00:00:00\"\n        ],\n        \"semantic_type\": \"\",\n        \"description\": \"\"\n      }\n    },\n    {\n      \"column\": \"suburb\",\n      \"properties\": {\n        \"dtype\": \"category\",\n        \"num_unique_values\": 29,\n        \"samples\": [\n          \"Richmond\",\n          \"Deer Park\",\n          \"South Wharf\"\n        ],\n        \"semantic_type\": \"\",\n        \"description\": \"\"\n      }\n    },\n    {\n      \"column\": \"category\",\n      \"properties\": {\n        \"dtype\": \"category\",\n        \"num_unique_values\": 7,\n        \"samples\": [\n          \"Waste, Street Cleaning and Litter\",\n          \"Parks and Trees\",\n          \"Asset maintenance\"\n        ],\n        \"semantic_type\": \"\",\n        \"description\": \"\"\n      }\n    },\n    {\n      \"column\": \"service_type\",\n      \"properties\": {\n        \"dtype\": \"category\",\n        \"num_unique_values\": 30,\n        \"samples\": [\n          \"Abandoned Vehicles\",\n          \"Sport and Playground Facilities\",\n          \"Bridge Maintenance\"\n        ],\n        \"semantic_type\": \"\",\n        \"description\": \"\"\n      }\n    },\n    {\n      \"column\": \"days_to_complete\",\n      \"properties\": {\n        \"dtype\": \"Int64\",\n        \"num_unique_values\": 163,\n        \"samples\": [\n          353,\n          213,\n          153\n        ],\n        \"semantic_type\": \"\",\n        \"description\": \"\"\n      }\n    },\n    {\n      \"column\": \"case_origin\",\n      \"properties\": {\n        \"dtype\": \"category\",\n        \"num_unique_values\": 10,\n        \"samples\": [\n          \"Face-to-Face\",\n          \"Phone\",\n          \"Email\"\n        ],\n        \"semantic_type\": \"\",\n        \"description\": \"\"\n      }\n    },\n    {\n      \"column\": \"rec_year\",\n      \"properties\": {\n        \"dtype\": \"int32\",\n        \"num_unique_values\": 4,\n        \"samples\": [\n          2015,\n          2018,\n          2014\n        ],\n        \"semantic_type\": \"\",\n        \"description\": \"\"\n      }\n    },\n    {\n      \"column\": \"rec_month\",\n      \"properties\": {\n        \"dtype\": \"int32\",\n        \"num_unique_values\": 12,\n        \"samples\": [\n          9,\n          8,\n          11\n        ],\n        \"semantic_type\": \"\",\n        \"description\": \"\"\n      }\n    }\n  ]\n}"
            }
          },
          "metadata": {},
          "execution_count": 78
        }
      ]
    },
    {
      "cell_type": "code",
      "source": [
        "# group by 'category', 'year' and 'month', then count the number of cases\n",
        "mth_sum_category = df.groupby(['category', 'rec_year', 'rec_month']).size().reset_index(name = 'total_cases')\n",
        "\n",
        "# rename columns for better readability\n",
        "mth_sum_category.rename(columns = {'rec_year': 'year', 'rec_month': 'month'}, inplace = True)\n",
        "\n",
        "# sort the results\n",
        "mth_sum_category.sort_values(by = ['year', 'month', 'category'], inplace = True)"
      ],
      "metadata": {
        "id": "Rbz8si2PvIKK"
      },
      "execution_count": null,
      "outputs": []
    },
    {
      "cell_type": "code",
      "source": [
        "# create 'date' column formatted as a string \"YYYY-MM\"\n",
        "mth_sum_category['date'] = mth_sum_category['year'].astype(str) + '-' + mth_sum_category['month'].astype(str).str.zfill(2)\n",
        "\n",
        "mth_sum_category = mth_sum_category[['category', 'year', 'month', 'date', 'total_cases']]"
      ],
      "metadata": {
        "id": "WQwkxfWieMZP"
      },
      "execution_count": null,
      "outputs": []
    },
    {
      "cell_type": "code",
      "source": [
        "mth_sum_category.reset_index(drop = True)"
      ],
      "metadata": {
        "colab": {
          "base_uri": "https://localhost:8080/",
          "height": 411
        },
        "id": "Zu-aU_tYiCdW",
        "outputId": "39f116c5-87e6-4ada-ec00-ef3e4afa38cf"
      },
      "execution_count": null,
      "outputs": [
        {
          "output_type": "execute_result",
          "data": {
            "text/plain": [
              "                              category  year  month     date  total_cases\n",
              "0                    Asset maintenance  2014     11  2014-11           56\n",
              "1                             Graffiti  2014     11  2014-11          120\n",
              "2                              Parking  2014     11  2014-11           57\n",
              "3                      Parks and Trees  2014     11  2014-11          234\n",
              "4                    Roads and Traffic  2014     11  2014-11          124\n",
              "..                                 ...   ...    ...      ...          ...\n",
              "190                            General  2018      9  2018-09         2248\n",
              "191                           Graffiti  2018      9  2018-09          497\n",
              "192                            Parking  2018      9  2018-09         1046\n",
              "193                    Parks and Trees  2018      9  2018-09          327\n",
              "194  Waste, Street Cleaning and Litter  2018      9  2018-09          630\n",
              "\n",
              "[195 rows x 5 columns]"
            ],
            "text/html": [
              "\n",
              "  <div id=\"df-9425e48c-b564-4f2d-af0f-43d7f525ffdd\" class=\"colab-df-container\">\n",
              "    <div>\n",
              "<style scoped>\n",
              "    .dataframe tbody tr th:only-of-type {\n",
              "        vertical-align: middle;\n",
              "    }\n",
              "\n",
              "    .dataframe tbody tr th {\n",
              "        vertical-align: top;\n",
              "    }\n",
              "\n",
              "    .dataframe thead th {\n",
              "        text-align: right;\n",
              "    }\n",
              "</style>\n",
              "<table border=\"1\" class=\"dataframe\">\n",
              "  <thead>\n",
              "    <tr style=\"text-align: right;\">\n",
              "      <th></th>\n",
              "      <th>category</th>\n",
              "      <th>year</th>\n",
              "      <th>month</th>\n",
              "      <th>date</th>\n",
              "      <th>total_cases</th>\n",
              "    </tr>\n",
              "  </thead>\n",
              "  <tbody>\n",
              "    <tr>\n",
              "      <th>0</th>\n",
              "      <td>Asset maintenance</td>\n",
              "      <td>2014</td>\n",
              "      <td>11</td>\n",
              "      <td>2014-11</td>\n",
              "      <td>56</td>\n",
              "    </tr>\n",
              "    <tr>\n",
              "      <th>1</th>\n",
              "      <td>Graffiti</td>\n",
              "      <td>2014</td>\n",
              "      <td>11</td>\n",
              "      <td>2014-11</td>\n",
              "      <td>120</td>\n",
              "    </tr>\n",
              "    <tr>\n",
              "      <th>2</th>\n",
              "      <td>Parking</td>\n",
              "      <td>2014</td>\n",
              "      <td>11</td>\n",
              "      <td>2014-11</td>\n",
              "      <td>57</td>\n",
              "    </tr>\n",
              "    <tr>\n",
              "      <th>3</th>\n",
              "      <td>Parks and Trees</td>\n",
              "      <td>2014</td>\n",
              "      <td>11</td>\n",
              "      <td>2014-11</td>\n",
              "      <td>234</td>\n",
              "    </tr>\n",
              "    <tr>\n",
              "      <th>4</th>\n",
              "      <td>Roads and Traffic</td>\n",
              "      <td>2014</td>\n",
              "      <td>11</td>\n",
              "      <td>2014-11</td>\n",
              "      <td>124</td>\n",
              "    </tr>\n",
              "    <tr>\n",
              "      <th>...</th>\n",
              "      <td>...</td>\n",
              "      <td>...</td>\n",
              "      <td>...</td>\n",
              "      <td>...</td>\n",
              "      <td>...</td>\n",
              "    </tr>\n",
              "    <tr>\n",
              "      <th>190</th>\n",
              "      <td>General</td>\n",
              "      <td>2018</td>\n",
              "      <td>9</td>\n",
              "      <td>2018-09</td>\n",
              "      <td>2248</td>\n",
              "    </tr>\n",
              "    <tr>\n",
              "      <th>191</th>\n",
              "      <td>Graffiti</td>\n",
              "      <td>2018</td>\n",
              "      <td>9</td>\n",
              "      <td>2018-09</td>\n",
              "      <td>497</td>\n",
              "    </tr>\n",
              "    <tr>\n",
              "      <th>192</th>\n",
              "      <td>Parking</td>\n",
              "      <td>2018</td>\n",
              "      <td>9</td>\n",
              "      <td>2018-09</td>\n",
              "      <td>1046</td>\n",
              "    </tr>\n",
              "    <tr>\n",
              "      <th>193</th>\n",
              "      <td>Parks and Trees</td>\n",
              "      <td>2018</td>\n",
              "      <td>9</td>\n",
              "      <td>2018-09</td>\n",
              "      <td>327</td>\n",
              "    </tr>\n",
              "    <tr>\n",
              "      <th>194</th>\n",
              "      <td>Waste, Street Cleaning and Litter</td>\n",
              "      <td>2018</td>\n",
              "      <td>9</td>\n",
              "      <td>2018-09</td>\n",
              "      <td>630</td>\n",
              "    </tr>\n",
              "  </tbody>\n",
              "</table>\n",
              "<p>195 rows × 5 columns</p>\n",
              "</div>\n",
              "    <div class=\"colab-df-buttons\">\n",
              "\n",
              "  <div class=\"colab-df-container\">\n",
              "    <button class=\"colab-df-convert\" onclick=\"convertToInteractive('df-9425e48c-b564-4f2d-af0f-43d7f525ffdd')\"\n",
              "            title=\"Convert this dataframe to an interactive table.\"\n",
              "            style=\"display:none;\">\n",
              "\n",
              "  <svg xmlns=\"http://www.w3.org/2000/svg\" height=\"24px\" viewBox=\"0 -960 960 960\">\n",
              "    <path d=\"M120-120v-720h720v720H120Zm60-500h600v-160H180v160Zm220 220h160v-160H400v160Zm0 220h160v-160H400v160ZM180-400h160v-160H180v160Zm440 0h160v-160H620v160ZM180-180h160v-160H180v160Zm440 0h160v-160H620v160Z\"/>\n",
              "  </svg>\n",
              "    </button>\n",
              "\n",
              "  <style>\n",
              "    .colab-df-container {\n",
              "      display:flex;\n",
              "      gap: 12px;\n",
              "    }\n",
              "\n",
              "    .colab-df-convert {\n",
              "      background-color: #E8F0FE;\n",
              "      border: none;\n",
              "      border-radius: 50%;\n",
              "      cursor: pointer;\n",
              "      display: none;\n",
              "      fill: #1967D2;\n",
              "      height: 32px;\n",
              "      padding: 0 0 0 0;\n",
              "      width: 32px;\n",
              "    }\n",
              "\n",
              "    .colab-df-convert:hover {\n",
              "      background-color: #E2EBFA;\n",
              "      box-shadow: 0px 1px 2px rgba(60, 64, 67, 0.3), 0px 1px 3px 1px rgba(60, 64, 67, 0.15);\n",
              "      fill: #174EA6;\n",
              "    }\n",
              "\n",
              "    .colab-df-buttons div {\n",
              "      margin-bottom: 4px;\n",
              "    }\n",
              "\n",
              "    [theme=dark] .colab-df-convert {\n",
              "      background-color: #3B4455;\n",
              "      fill: #D2E3FC;\n",
              "    }\n",
              "\n",
              "    [theme=dark] .colab-df-convert:hover {\n",
              "      background-color: #434B5C;\n",
              "      box-shadow: 0px 1px 3px 1px rgba(0, 0, 0, 0.15);\n",
              "      filter: drop-shadow(0px 1px 2px rgba(0, 0, 0, 0.3));\n",
              "      fill: #FFFFFF;\n",
              "    }\n",
              "  </style>\n",
              "\n",
              "    <script>\n",
              "      const buttonEl =\n",
              "        document.querySelector('#df-9425e48c-b564-4f2d-af0f-43d7f525ffdd button.colab-df-convert');\n",
              "      buttonEl.style.display =\n",
              "        google.colab.kernel.accessAllowed ? 'block' : 'none';\n",
              "\n",
              "      async function convertToInteractive(key) {\n",
              "        const element = document.querySelector('#df-9425e48c-b564-4f2d-af0f-43d7f525ffdd');\n",
              "        const dataTable =\n",
              "          await google.colab.kernel.invokeFunction('convertToInteractive',\n",
              "                                                    [key], {});\n",
              "        if (!dataTable) return;\n",
              "\n",
              "        const docLinkHtml = 'Like what you see? Visit the ' +\n",
              "          '<a target=\"_blank\" href=https://colab.research.google.com/notebooks/data_table.ipynb>data table notebook</a>'\n",
              "          + ' to learn more about interactive tables.';\n",
              "        element.innerHTML = '';\n",
              "        dataTable['output_type'] = 'display_data';\n",
              "        await google.colab.output.renderOutput(dataTable, element);\n",
              "        const docLink = document.createElement('div');\n",
              "        docLink.innerHTML = docLinkHtml;\n",
              "        element.appendChild(docLink);\n",
              "      }\n",
              "    </script>\n",
              "  </div>\n",
              "\n",
              "\n",
              "<div id=\"df-c51eacd9-2453-423c-afc7-b99f6921d8e7\">\n",
              "  <button class=\"colab-df-quickchart\" onclick=\"quickchart('df-c51eacd9-2453-423c-afc7-b99f6921d8e7')\"\n",
              "            title=\"Suggest charts\"\n",
              "            style=\"display:none;\">\n",
              "\n",
              "<svg xmlns=\"http://www.w3.org/2000/svg\" height=\"24px\"viewBox=\"0 0 24 24\"\n",
              "     width=\"24px\">\n",
              "    <g>\n",
              "        <path d=\"M19 3H5c-1.1 0-2 .9-2 2v14c0 1.1.9 2 2 2h14c1.1 0 2-.9 2-2V5c0-1.1-.9-2-2-2zM9 17H7v-7h2v7zm4 0h-2V7h2v10zm4 0h-2v-4h2v4z\"/>\n",
              "    </g>\n",
              "</svg>\n",
              "  </button>\n",
              "\n",
              "<style>\n",
              "  .colab-df-quickchart {\n",
              "      --bg-color: #E8F0FE;\n",
              "      --fill-color: #1967D2;\n",
              "      --hover-bg-color: #E2EBFA;\n",
              "      --hover-fill-color: #174EA6;\n",
              "      --disabled-fill-color: #AAA;\n",
              "      --disabled-bg-color: #DDD;\n",
              "  }\n",
              "\n",
              "  [theme=dark] .colab-df-quickchart {\n",
              "      --bg-color: #3B4455;\n",
              "      --fill-color: #D2E3FC;\n",
              "      --hover-bg-color: #434B5C;\n",
              "      --hover-fill-color: #FFFFFF;\n",
              "      --disabled-bg-color: #3B4455;\n",
              "      --disabled-fill-color: #666;\n",
              "  }\n",
              "\n",
              "  .colab-df-quickchart {\n",
              "    background-color: var(--bg-color);\n",
              "    border: none;\n",
              "    border-radius: 50%;\n",
              "    cursor: pointer;\n",
              "    display: none;\n",
              "    fill: var(--fill-color);\n",
              "    height: 32px;\n",
              "    padding: 0;\n",
              "    width: 32px;\n",
              "  }\n",
              "\n",
              "  .colab-df-quickchart:hover {\n",
              "    background-color: var(--hover-bg-color);\n",
              "    box-shadow: 0 1px 2px rgba(60, 64, 67, 0.3), 0 1px 3px 1px rgba(60, 64, 67, 0.15);\n",
              "    fill: var(--button-hover-fill-color);\n",
              "  }\n",
              "\n",
              "  .colab-df-quickchart-complete:disabled,\n",
              "  .colab-df-quickchart-complete:disabled:hover {\n",
              "    background-color: var(--disabled-bg-color);\n",
              "    fill: var(--disabled-fill-color);\n",
              "    box-shadow: none;\n",
              "  }\n",
              "\n",
              "  .colab-df-spinner {\n",
              "    border: 2px solid var(--fill-color);\n",
              "    border-color: transparent;\n",
              "    border-bottom-color: var(--fill-color);\n",
              "    animation:\n",
              "      spin 1s steps(1) infinite;\n",
              "  }\n",
              "\n",
              "  @keyframes spin {\n",
              "    0% {\n",
              "      border-color: transparent;\n",
              "      border-bottom-color: var(--fill-color);\n",
              "      border-left-color: var(--fill-color);\n",
              "    }\n",
              "    20% {\n",
              "      border-color: transparent;\n",
              "      border-left-color: var(--fill-color);\n",
              "      border-top-color: var(--fill-color);\n",
              "    }\n",
              "    30% {\n",
              "      border-color: transparent;\n",
              "      border-left-color: var(--fill-color);\n",
              "      border-top-color: var(--fill-color);\n",
              "      border-right-color: var(--fill-color);\n",
              "    }\n",
              "    40% {\n",
              "      border-color: transparent;\n",
              "      border-right-color: var(--fill-color);\n",
              "      border-top-color: var(--fill-color);\n",
              "    }\n",
              "    60% {\n",
              "      border-color: transparent;\n",
              "      border-right-color: var(--fill-color);\n",
              "    }\n",
              "    80% {\n",
              "      border-color: transparent;\n",
              "      border-right-color: var(--fill-color);\n",
              "      border-bottom-color: var(--fill-color);\n",
              "    }\n",
              "    90% {\n",
              "      border-color: transparent;\n",
              "      border-bottom-color: var(--fill-color);\n",
              "    }\n",
              "  }\n",
              "</style>\n",
              "\n",
              "  <script>\n",
              "    async function quickchart(key) {\n",
              "      const quickchartButtonEl =\n",
              "        document.querySelector('#' + key + ' button');\n",
              "      quickchartButtonEl.disabled = true;  // To prevent multiple clicks.\n",
              "      quickchartButtonEl.classList.add('colab-df-spinner');\n",
              "      try {\n",
              "        const charts = await google.colab.kernel.invokeFunction(\n",
              "            'suggestCharts', [key], {});\n",
              "      } catch (error) {\n",
              "        console.error('Error during call to suggestCharts:', error);\n",
              "      }\n",
              "      quickchartButtonEl.classList.remove('colab-df-spinner');\n",
              "      quickchartButtonEl.classList.add('colab-df-quickchart-complete');\n",
              "    }\n",
              "    (() => {\n",
              "      let quickchartButtonEl =\n",
              "        document.querySelector('#df-c51eacd9-2453-423c-afc7-b99f6921d8e7 button');\n",
              "      quickchartButtonEl.style.display =\n",
              "        google.colab.kernel.accessAllowed ? 'block' : 'none';\n",
              "    })();\n",
              "  </script>\n",
              "</div>\n",
              "\n",
              "    </div>\n",
              "  </div>\n"
            ],
            "application/vnd.google.colaboratory.intrinsic+json": {
              "type": "dataframe",
              "summary": "{\n  \"name\": \"mth_sum_category\",\n  \"rows\": 195,\n  \"fields\": [\n    {\n      \"column\": \"category\",\n      \"properties\": {\n        \"dtype\": \"category\",\n        \"num_unique_values\": 7,\n        \"samples\": [\n          \"Asset maintenance\",\n          \"Graffiti\",\n          \"Waste, Street Cleaning and Litter\"\n        ],\n        \"semantic_type\": \"\",\n        \"description\": \"\"\n      }\n    },\n    {\n      \"column\": \"year\",\n      \"properties\": {\n        \"dtype\": \"int32\",\n        \"num_unique_values\": 4,\n        \"samples\": [\n          2015,\n          2018,\n          2014\n        ],\n        \"semantic_type\": \"\",\n        \"description\": \"\"\n      }\n    },\n    {\n      \"column\": \"month\",\n      \"properties\": {\n        \"dtype\": \"int32\",\n        \"num_unique_values\": 12,\n        \"samples\": [\n          9,\n          8,\n          11\n        ],\n        \"semantic_type\": \"\",\n        \"description\": \"\"\n      }\n    },\n    {\n      \"column\": \"date\",\n      \"properties\": {\n        \"dtype\": \"object\",\n        \"num_unique_values\": 34,\n        \"samples\": [\n          \"2016-02\",\n          \"2016-06\",\n          \"2018-03\"\n        ],\n        \"semantic_type\": \"\",\n        \"description\": \"\"\n      }\n    },\n    {\n      \"column\": \"total_cases\",\n      \"properties\": {\n        \"dtype\": \"number\",\n        \"std\": 501,\n        \"min\": 11,\n        \"max\": 2508,\n        \"num_unique_values\": 166,\n        \"samples\": [\n          209,\n          492,\n          91\n        ],\n        \"semantic_type\": \"\",\n        \"description\": \"\"\n      }\n    }\n  ]\n}"
            }
          },
          "metadata": {},
          "execution_count": 81
        }
      ]
    },
    {
      "cell_type": "code",
      "source": [
        "# find the sum of all the cases across each category when the month is 11\n",
        "november_cases_sum = mth_sum_category[mth_sum_category['month'] == 11]['total_cases'].sum()\n",
        "november_cases_sum"
      ],
      "metadata": {
        "colab": {
          "base_uri": "https://localhost:8080/"
        },
        "id": "i_shC7Pt8T3Y",
        "outputId": "b3cf7724-42c1-4d66-bbe4-da7ac9c0aea1"
      },
      "execution_count": null,
      "outputs": [
        {
          "output_type": "execute_result",
          "data": {
            "text/plain": [
              "3520"
            ]
          },
          "metadata": {},
          "execution_count": 92
        }
      ]
    },
    {
      "cell_type": "markdown",
      "source": [
        "# **Observations**"
      ],
      "metadata": {
        "id": "ooPJBKyWM1om"
      }
    },
    {
      "cell_type": "markdown",
      "source": [
        "### Heat map"
      ],
      "metadata": {
        "id": "yIrO3P6uNnQx"
      }
    },
    {
      "cell_type": "code",
      "source": [
        "# use pivot_table to handle potential duplicate entries by aggregating them\n",
        "heatmap_data = mth_sum_category.pivot_table(index = 'category',\n",
        "                                            columns = 'month',\n",
        "                                            values = 'total_cases',\n",
        "                                            aggfunc = 'sum').fillna(0)\n",
        "\n",
        "# create interactive heatmap\n",
        "fig_heatmap = px.imshow(heatmap_data,\n",
        "                        labels = dict(x = \"Month\", y = \"Category\", color = \"Total Cases\"),\n",
        "                        x = [f'mth {i}' for i in range(1, 13)],    # months are numbered from 1 through 12\n",
        "                        y = heatmap_data.index,\n",
        "                        color_continuous_scale = \"deep\")\n",
        "\n",
        "fig_heatmap.update_layout(title = {'text': 'Density of Cases Across Months and Categories',\n",
        "                                   'y': 0.95, 'x': 0.5,\n",
        "                                   'xanchor': 'center',\n",
        "                                   'yanchor': 'top'},\n",
        "                          coloraxis_colorbar = dict(title = dict(side = 'right', text = 'Total Cases'),\n",
        "                                                    yanchor = 'middle',\n",
        "                                                    ticks = 'outside',\n",
        "                                                    ticksuffix = ' '))\n",
        "\n",
        "fig_heatmap.show()"
      ],
      "metadata": {
        "colab": {
          "base_uri": "https://localhost:8080/",
          "height": 542
        },
        "id": "4LeWG_R4Obnq",
        "outputId": "220c7020-6086-4618-ff4d-1a51b50b761b"
      },
      "execution_count": null,
      "outputs": [
        {
          "output_type": "display_data",
          "data": {
            "text/html": [
              "<html>\n",
              "<head><meta charset=\"utf-8\" /></head>\n",
              "<body>\n",
              "    <div>            <script src=\"https://cdnjs.cloudflare.com/ajax/libs/mathjax/2.7.5/MathJax.js?config=TeX-AMS-MML_SVG\"></script><script type=\"text/javascript\">if (window.MathJax && window.MathJax.Hub && window.MathJax.Hub.Config) {window.MathJax.Hub.Config({SVG: {font: \"STIX-Web\"}});}</script>                <script type=\"text/javascript\">window.PlotlyConfig = {MathJaxConfig: 'local'};</script>\n",
              "        <script charset=\"utf-8\" src=\"https://cdn.plot.ly/plotly-2.24.1.min.js\"></script>                <div id=\"160bace2-f42b-43c1-979e-ed75f4001601\" class=\"plotly-graph-div\" style=\"height:525px; width:100%;\"></div>            <script type=\"text/javascript\">                                    window.PLOTLYENV=window.PLOTLYENV || {};                                    if (document.getElementById(\"160bace2-f42b-43c1-979e-ed75f4001601\")) {                    Plotly.newPlot(                        \"160bace2-f42b-43c1-979e-ed75f4001601\",                        [{\"coloraxis\":\"coloraxis\",\"name\":\"0\",\"x\":[\"mth 1\",\"mth 2\",\"mth 3\",\"mth 4\",\"mth 5\",\"mth 6\",\"mth 7\",\"mth 8\",\"mth 9\",\"mth 10\",\"mth 11\",\"mth 12\"],\"y\":[\"Asset maintenance\",\"General\",\"Graffiti\",\"Parking\",\"Parks and Trees\",\"Roads and Traffic\",\"Waste, Street Cleaning and Litter\"],\"z\":[[112.0,173.0,176.0,160.0,171.0,152.0,162.0,134.0,155.0,130.0,131.0,116.0],[2168.0,2055.0,2291.0,2268.0,2508.0,2295.0,2372.0,2395.0,2248.0,0.0,0.0,0.0],[1065.0,1265.0,1223.0,1337.0,1262.0,1086.0,1446.0,1458.0,1349.0,849.0,549.0,535.0],[1080.0,1245.0,1438.0,1337.0,1412.0,1158.0,1258.0,1434.0,1211.0,172.0,156.0,166.0],[1291.0,1392.0,1265.0,1026.0,1011.0,790.0,970.0,806.0,783.0,635.0,658.0,745.0],[376.0,488.0,466.0,428.0,455.0,407.0,403.0,453.0,474.0,499.0,397.0,386.0],[2164.0,2324.0,2200.0,2063.0,2111.0,2060.0,1982.0,2139.0,2352.0,1622.0,1629.0,1587.0]],\"type\":\"heatmap\",\"xaxis\":\"x\",\"yaxis\":\"y\",\"hovertemplate\":\"Month: %{x}\\u003cbr\\u003eCategory: %{y}\\u003cbr\\u003eTotal Cases: %{z}\\u003cextra\\u003e\\u003c\\u002fextra\\u003e\"}],                        {\"template\":{\"data\":{\"histogram2dcontour\":[{\"type\":\"histogram2dcontour\",\"colorbar\":{\"outlinewidth\":0,\"ticks\":\"\"},\"colorscale\":[[0.0,\"#0d0887\"],[0.1111111111111111,\"#46039f\"],[0.2222222222222222,\"#7201a8\"],[0.3333333333333333,\"#9c179e\"],[0.4444444444444444,\"#bd3786\"],[0.5555555555555556,\"#d8576b\"],[0.6666666666666666,\"#ed7953\"],[0.7777777777777778,\"#fb9f3a\"],[0.8888888888888888,\"#fdca26\"],[1.0,\"#f0f921\"]]}],\"choropleth\":[{\"type\":\"choropleth\",\"colorbar\":{\"outlinewidth\":0,\"ticks\":\"\"}}],\"histogram2d\":[{\"type\":\"histogram2d\",\"colorbar\":{\"outlinewidth\":0,\"ticks\":\"\"},\"colorscale\":[[0.0,\"#0d0887\"],[0.1111111111111111,\"#46039f\"],[0.2222222222222222,\"#7201a8\"],[0.3333333333333333,\"#9c179e\"],[0.4444444444444444,\"#bd3786\"],[0.5555555555555556,\"#d8576b\"],[0.6666666666666666,\"#ed7953\"],[0.7777777777777778,\"#fb9f3a\"],[0.8888888888888888,\"#fdca26\"],[1.0,\"#f0f921\"]]}],\"heatmap\":[{\"type\":\"heatmap\",\"colorbar\":{\"outlinewidth\":0,\"ticks\":\"\"},\"colorscale\":[[0.0,\"#0d0887\"],[0.1111111111111111,\"#46039f\"],[0.2222222222222222,\"#7201a8\"],[0.3333333333333333,\"#9c179e\"],[0.4444444444444444,\"#bd3786\"],[0.5555555555555556,\"#d8576b\"],[0.6666666666666666,\"#ed7953\"],[0.7777777777777778,\"#fb9f3a\"],[0.8888888888888888,\"#fdca26\"],[1.0,\"#f0f921\"]]}],\"heatmapgl\":[{\"type\":\"heatmapgl\",\"colorbar\":{\"outlinewidth\":0,\"ticks\":\"\"},\"colorscale\":[[0.0,\"#0d0887\"],[0.1111111111111111,\"#46039f\"],[0.2222222222222222,\"#7201a8\"],[0.3333333333333333,\"#9c179e\"],[0.4444444444444444,\"#bd3786\"],[0.5555555555555556,\"#d8576b\"],[0.6666666666666666,\"#ed7953\"],[0.7777777777777778,\"#fb9f3a\"],[0.8888888888888888,\"#fdca26\"],[1.0,\"#f0f921\"]]}],\"contourcarpet\":[{\"type\":\"contourcarpet\",\"colorbar\":{\"outlinewidth\":0,\"ticks\":\"\"}}],\"contour\":[{\"type\":\"contour\",\"colorbar\":{\"outlinewidth\":0,\"ticks\":\"\"},\"colorscale\":[[0.0,\"#0d0887\"],[0.1111111111111111,\"#46039f\"],[0.2222222222222222,\"#7201a8\"],[0.3333333333333333,\"#9c179e\"],[0.4444444444444444,\"#bd3786\"],[0.5555555555555556,\"#d8576b\"],[0.6666666666666666,\"#ed7953\"],[0.7777777777777778,\"#fb9f3a\"],[0.8888888888888888,\"#fdca26\"],[1.0,\"#f0f921\"]]}],\"surface\":[{\"type\":\"surface\",\"colorbar\":{\"outlinewidth\":0,\"ticks\":\"\"},\"colorscale\":[[0.0,\"#0d0887\"],[0.1111111111111111,\"#46039f\"],[0.2222222222222222,\"#7201a8\"],[0.3333333333333333,\"#9c179e\"],[0.4444444444444444,\"#bd3786\"],[0.5555555555555556,\"#d8576b\"],[0.6666666666666666,\"#ed7953\"],[0.7777777777777778,\"#fb9f3a\"],[0.8888888888888888,\"#fdca26\"],[1.0,\"#f0f921\"]]}],\"mesh3d\":[{\"type\":\"mesh3d\",\"colorbar\":{\"outlinewidth\":0,\"ticks\":\"\"}}],\"scatter\":[{\"fillpattern\":{\"fillmode\":\"overlay\",\"size\":10,\"solidity\":0.2},\"type\":\"scatter\"}],\"parcoords\":[{\"type\":\"parcoords\",\"line\":{\"colorbar\":{\"outlinewidth\":0,\"ticks\":\"\"}}}],\"scatterpolargl\":[{\"type\":\"scatterpolargl\",\"marker\":{\"colorbar\":{\"outlinewidth\":0,\"ticks\":\"\"}}}],\"bar\":[{\"error_x\":{\"color\":\"#2a3f5f\"},\"error_y\":{\"color\":\"#2a3f5f\"},\"marker\":{\"line\":{\"color\":\"#E5ECF6\",\"width\":0.5},\"pattern\":{\"fillmode\":\"overlay\",\"size\":10,\"solidity\":0.2}},\"type\":\"bar\"}],\"scattergeo\":[{\"type\":\"scattergeo\",\"marker\":{\"colorbar\":{\"outlinewidth\":0,\"ticks\":\"\"}}}],\"scatterpolar\":[{\"type\":\"scatterpolar\",\"marker\":{\"colorbar\":{\"outlinewidth\":0,\"ticks\":\"\"}}}],\"histogram\":[{\"marker\":{\"pattern\":{\"fillmode\":\"overlay\",\"size\":10,\"solidity\":0.2}},\"type\":\"histogram\"}],\"scattergl\":[{\"type\":\"scattergl\",\"marker\":{\"colorbar\":{\"outlinewidth\":0,\"ticks\":\"\"}}}],\"scatter3d\":[{\"type\":\"scatter3d\",\"line\":{\"colorbar\":{\"outlinewidth\":0,\"ticks\":\"\"}},\"marker\":{\"colorbar\":{\"outlinewidth\":0,\"ticks\":\"\"}}}],\"scattermapbox\":[{\"type\":\"scattermapbox\",\"marker\":{\"colorbar\":{\"outlinewidth\":0,\"ticks\":\"\"}}}],\"scatterternary\":[{\"type\":\"scatterternary\",\"marker\":{\"colorbar\":{\"outlinewidth\":0,\"ticks\":\"\"}}}],\"scattercarpet\":[{\"type\":\"scattercarpet\",\"marker\":{\"colorbar\":{\"outlinewidth\":0,\"ticks\":\"\"}}}],\"carpet\":[{\"aaxis\":{\"endlinecolor\":\"#2a3f5f\",\"gridcolor\":\"white\",\"linecolor\":\"white\",\"minorgridcolor\":\"white\",\"startlinecolor\":\"#2a3f5f\"},\"baxis\":{\"endlinecolor\":\"#2a3f5f\",\"gridcolor\":\"white\",\"linecolor\":\"white\",\"minorgridcolor\":\"white\",\"startlinecolor\":\"#2a3f5f\"},\"type\":\"carpet\"}],\"table\":[{\"cells\":{\"fill\":{\"color\":\"#EBF0F8\"},\"line\":{\"color\":\"white\"}},\"header\":{\"fill\":{\"color\":\"#C8D4E3\"},\"line\":{\"color\":\"white\"}},\"type\":\"table\"}],\"barpolar\":[{\"marker\":{\"line\":{\"color\":\"#E5ECF6\",\"width\":0.5},\"pattern\":{\"fillmode\":\"overlay\",\"size\":10,\"solidity\":0.2}},\"type\":\"barpolar\"}],\"pie\":[{\"automargin\":true,\"type\":\"pie\"}]},\"layout\":{\"autotypenumbers\":\"strict\",\"colorway\":[\"#636efa\",\"#EF553B\",\"#00cc96\",\"#ab63fa\",\"#FFA15A\",\"#19d3f3\",\"#FF6692\",\"#B6E880\",\"#FF97FF\",\"#FECB52\"],\"font\":{\"color\":\"#2a3f5f\"},\"hovermode\":\"closest\",\"hoverlabel\":{\"align\":\"left\"},\"paper_bgcolor\":\"white\",\"plot_bgcolor\":\"#E5ECF6\",\"polar\":{\"bgcolor\":\"#E5ECF6\",\"angularaxis\":{\"gridcolor\":\"white\",\"linecolor\":\"white\",\"ticks\":\"\"},\"radialaxis\":{\"gridcolor\":\"white\",\"linecolor\":\"white\",\"ticks\":\"\"}},\"ternary\":{\"bgcolor\":\"#E5ECF6\",\"aaxis\":{\"gridcolor\":\"white\",\"linecolor\":\"white\",\"ticks\":\"\"},\"baxis\":{\"gridcolor\":\"white\",\"linecolor\":\"white\",\"ticks\":\"\"},\"caxis\":{\"gridcolor\":\"white\",\"linecolor\":\"white\",\"ticks\":\"\"}},\"coloraxis\":{\"colorbar\":{\"outlinewidth\":0,\"ticks\":\"\"}},\"colorscale\":{\"sequential\":[[0.0,\"#0d0887\"],[0.1111111111111111,\"#46039f\"],[0.2222222222222222,\"#7201a8\"],[0.3333333333333333,\"#9c179e\"],[0.4444444444444444,\"#bd3786\"],[0.5555555555555556,\"#d8576b\"],[0.6666666666666666,\"#ed7953\"],[0.7777777777777778,\"#fb9f3a\"],[0.8888888888888888,\"#fdca26\"],[1.0,\"#f0f921\"]],\"sequentialminus\":[[0.0,\"#0d0887\"],[0.1111111111111111,\"#46039f\"],[0.2222222222222222,\"#7201a8\"],[0.3333333333333333,\"#9c179e\"],[0.4444444444444444,\"#bd3786\"],[0.5555555555555556,\"#d8576b\"],[0.6666666666666666,\"#ed7953\"],[0.7777777777777778,\"#fb9f3a\"],[0.8888888888888888,\"#fdca26\"],[1.0,\"#f0f921\"]],\"diverging\":[[0,\"#8e0152\"],[0.1,\"#c51b7d\"],[0.2,\"#de77ae\"],[0.3,\"#f1b6da\"],[0.4,\"#fde0ef\"],[0.5,\"#f7f7f7\"],[0.6,\"#e6f5d0\"],[0.7,\"#b8e186\"],[0.8,\"#7fbc41\"],[0.9,\"#4d9221\"],[1,\"#276419\"]]},\"xaxis\":{\"gridcolor\":\"white\",\"linecolor\":\"white\",\"ticks\":\"\",\"title\":{\"standoff\":15},\"zerolinecolor\":\"white\",\"automargin\":true,\"zerolinewidth\":2},\"yaxis\":{\"gridcolor\":\"white\",\"linecolor\":\"white\",\"ticks\":\"\",\"title\":{\"standoff\":15},\"zerolinecolor\":\"white\",\"automargin\":true,\"zerolinewidth\":2},\"scene\":{\"xaxis\":{\"backgroundcolor\":\"#E5ECF6\",\"gridcolor\":\"white\",\"linecolor\":\"white\",\"showbackground\":true,\"ticks\":\"\",\"zerolinecolor\":\"white\",\"gridwidth\":2},\"yaxis\":{\"backgroundcolor\":\"#E5ECF6\",\"gridcolor\":\"white\",\"linecolor\":\"white\",\"showbackground\":true,\"ticks\":\"\",\"zerolinecolor\":\"white\",\"gridwidth\":2},\"zaxis\":{\"backgroundcolor\":\"#E5ECF6\",\"gridcolor\":\"white\",\"linecolor\":\"white\",\"showbackground\":true,\"ticks\":\"\",\"zerolinecolor\":\"white\",\"gridwidth\":2}},\"shapedefaults\":{\"line\":{\"color\":\"#2a3f5f\"}},\"annotationdefaults\":{\"arrowcolor\":\"#2a3f5f\",\"arrowhead\":0,\"arrowwidth\":1},\"geo\":{\"bgcolor\":\"white\",\"landcolor\":\"#E5ECF6\",\"subunitcolor\":\"white\",\"showland\":true,\"showlakes\":true,\"lakecolor\":\"white\"},\"title\":{\"x\":0.05},\"mapbox\":{\"style\":\"light\"}}},\"xaxis\":{\"anchor\":\"y\",\"domain\":[0.0,1.0],\"scaleanchor\":\"y\",\"constrain\":\"domain\",\"title\":{\"text\":\"Month\"}},\"yaxis\":{\"anchor\":\"x\",\"domain\":[0.0,1.0],\"autorange\":\"reversed\",\"constrain\":\"domain\",\"title\":{\"text\":\"Category\"}},\"coloraxis\":{\"colorbar\":{\"title\":{\"text\":\"Total Cases\",\"side\":\"right\"},\"yanchor\":\"middle\",\"ticks\":\"outside\",\"ticksuffix\":\" \"},\"colorscale\":[[0.0,\"rgb(253, 253, 204)\"],[0.09090909090909091,\"rgb(206, 236, 179)\"],[0.18181818181818182,\"rgb(156, 219, 165)\"],[0.2727272727272727,\"rgb(111, 201, 163)\"],[0.36363636363636365,\"rgb(86, 177, 163)\"],[0.45454545454545453,\"rgb(76, 153, 160)\"],[0.5454545454545454,\"rgb(68, 130, 155)\"],[0.6363636363636364,\"rgb(62, 108, 150)\"],[0.7272727272727273,\"rgb(62, 82, 143)\"],[0.8181818181818182,\"rgb(64, 60, 115)\"],[0.9090909090909091,\"rgb(54, 43, 77)\"],[1.0,\"rgb(39, 26, 44)\"]]},\"margin\":{\"t\":60},\"title\":{\"text\":\"Density of Cases Across Months and Categories\",\"y\":0.95,\"x\":0.5,\"xanchor\":\"center\",\"yanchor\":\"top\"}},                        {\"responsive\": true}                    ).then(function(){\n",
              "                            \n",
              "var gd = document.getElementById('160bace2-f42b-43c1-979e-ed75f4001601');\n",
              "var x = new MutationObserver(function (mutations, observer) {{\n",
              "        var display = window.getComputedStyle(gd).display;\n",
              "        if (!display || display === 'none') {{\n",
              "            console.log([gd, 'removed!']);\n",
              "            Plotly.purge(gd);\n",
              "            observer.disconnect();\n",
              "        }}\n",
              "}});\n",
              "\n",
              "// Listen for the removal of the full notebook cells\n",
              "var notebookContainer = gd.closest('#notebook-container');\n",
              "if (notebookContainer) {{\n",
              "    x.observe(notebookContainer, {childList: true});\n",
              "}}\n",
              "\n",
              "// Listen for the clearing of the current output cell\n",
              "var outputEl = gd.closest('.output');\n",
              "if (outputEl) {{\n",
              "    x.observe(outputEl, {childList: true});\n",
              "}}\n",
              "\n",
              "                        })                };                            </script>        </div>\n",
              "</body>\n",
              "</html>"
            ]
          },
          "metadata": {}
        }
      ]
    },
    {
      "cell_type": "markdown",
      "source": [
        "*The heatmap of case density across months and categories shows distinct patterns that may suggest seasonal trends and category-specific demand for services. For example, certain categories like 'Waste, Street Cleaning and Litter' show a consistent spread of cases throughout the year, while others like 'Geneal' may exhibit more variability. The heatmap can be leveraged to anticipate service demand, optimize resource allocation, and enhance service delivery efficiency based on the observed patterns. Further analysis might explore the reasons behind high and low case volumes and investigate any anomalies to ensure responsive and effective service management.*"
      ],
      "metadata": {
        "id": "CYqp76Pfai5S"
      }
    },
    {
      "cell_type": "markdown",
      "source": [
        "### Tree map"
      ],
      "metadata": {
        "id": "s-_Bo42pb-mZ"
      }
    },
    {
      "cell_type": "code",
      "source": [
        "# aggregate the data for the treemap\n",
        "treemap_data = df.groupby(['rec_year', 'category', 'service_type']).size().reset_index(name = 'total_cases')\n",
        "\n",
        "# rename column\n",
        "treemap_data.rename(columns = {'rec_year': 'year'}, inplace = True)"
      ],
      "metadata": {
        "id": "_OruRK7IdM2_"
      },
      "execution_count": null,
      "outputs": []
    },
    {
      "cell_type": "code",
      "source": [
        "# create treemap\n",
        "fig_treemap = px.treemap(treemap_data,\n",
        "                         path = ['category', 'service_type'],   # define hierarchy\n",
        "                         values = 'total_cases',   # size of the grid\n",
        "                         title = 'Distribution of Service Types Across Categories Over Time')\n",
        "\n",
        "fig_treemap.update_layout(\n",
        "    margin = dict(t = 50, l = 25, r = 25, b = 25),\n",
        "    title = {'text': \"Distribution of Service Types Across Categories\",\n",
        "             'y': 0.94,\n",
        "             'x': 0.5,\n",
        "             'xanchor': 'center',\n",
        "             'yanchor': 'top'\n",
        "             }\n",
        "    )\n",
        "\n",
        "# show figure\n",
        "fig_treemap.show()"
      ],
      "metadata": {
        "colab": {
          "base_uri": "https://localhost:8080/",
          "height": 542
        },
        "id": "VHzLHSsZbI09",
        "outputId": "0e6d3f82-528c-49c1-803d-baebb1b05d40"
      },
      "execution_count": null,
      "outputs": [
        {
          "output_type": "display_data",
          "data": {
            "text/html": [
              "<html>\n",
              "<head><meta charset=\"utf-8\" /></head>\n",
              "<body>\n",
              "    <div>            <script src=\"https://cdnjs.cloudflare.com/ajax/libs/mathjax/2.7.5/MathJax.js?config=TeX-AMS-MML_SVG\"></script><script type=\"text/javascript\">if (window.MathJax && window.MathJax.Hub && window.MathJax.Hub.Config) {window.MathJax.Hub.Config({SVG: {font: \"STIX-Web\"}});}</script>                <script type=\"text/javascript\">window.PlotlyConfig = {MathJaxConfig: 'local'};</script>\n",
              "        <script charset=\"utf-8\" src=\"https://cdn.plot.ly/plotly-2.24.1.min.js\"></script>                <div id=\"34ca75c3-e183-4b48-9146-a780d1ed09ba\" class=\"plotly-graph-div\" style=\"height:525px; width:100%;\"></div>            <script type=\"text/javascript\">                                    window.PLOTLYENV=window.PLOTLYENV || {};                                    if (document.getElementById(\"34ca75c3-e183-4b48-9146-a780d1ed09ba\")) {                    Plotly.newPlot(                        \"34ca75c3-e183-4b48-9146-a780d1ed09ba\",                        [{\"branchvalues\":\"total\",\"domain\":{\"x\":[0.0,1.0],\"y\":[0.0,1.0]},\"hovertemplate\":\"labels=%{label}\\u003cbr\\u003etotal_cases=%{value}\\u003cbr\\u003eparent=%{parent}\\u003cbr\\u003eid=%{id}\\u003cextra\\u003e\\u003c\\u002fextra\\u003e\",\"ids\":[\"Parking\\u002fAbandoned Vehicles\",\"Asset maintenance\\u002fBike pod services\",\"Asset maintenance\\u002fBridge Maintenance\",\"Parks and Trees\\u002fCondition of Assets in Parks\",\"Waste, Street Cleaning and Litter\\u002fDamaged Bins\",\"Roads and Traffic\\u002fDrain Maintenance\",\"General\\u002fGeneral Enquiry\",\"Graffiti\\u002fGraffiti Removal\",\"Waste, Street Cleaning and Litter\\u002fIllegally Dumped Rubbish\",\"General\\u002fInfringement Review - Animal Management\",\"General\\u002fInfringement Review - Local Law\",\"General\\u002fInfringement Review - Parking\",\"General\\u002fInfringement Review - Undefined\",\"Parks and Trees\\u002fLawns and Irrigation\",\"Waste, Street Cleaning and Litter\\u002fMissed Bin Collection\",\"Waste, Street Cleaning and Litter\\u002fMissing Bin\",\"Waste, Street Cleaning and Litter\\u002fOrganic Waste\",\"General\\u002fOther\",\"Parks and Trees\\u002fPark Cleaning\",\"Parking\\u002fParking Compliance Services\",\"Parking\\u002fParking Meter Service\",\"Waste, Street Cleaning and Litter\\u002fPublic Litter Bin\",\"Asset maintenance\\u002fPublic Toilets\",\"Waste, Street Cleaning and Litter\\u002fRatepayer waste\",\"Parking\\u002fRequest for Parking Officer\",\"Roads and Traffic\\u002fRoad and Footpath Maintenance\",\"Parks and Trees\\u002fRough Sleeping\",\"Parks and Trees\\u002fSport and Playground Facilities\",\"Waste, Street Cleaning and Litter\\u002fStreet Cleaning services\",\"Asset maintenance\\u002fStreet Lighting Maintenance\",\"Asset maintenance\\u002fStreet Maintenance\",\"Waste, Street Cleaning and Litter\\u002fSyringe Management\",\"Roads and Traffic\\u002fTraffic Management\",\"Parks and Trees\\u002fTree Maintenance Services\",\"Waste, Street Cleaning and Litter\\u002fWaste Compactor\",\"Waste, Street Cleaning and Litter\\u002fWaste collection services\",\"Waste, Street Cleaning and Litter\\u002fWaterways\",\"Asset maintenance\",\"General\",\"Graffiti\",\"Parking\",\"Parks and Trees\",\"Roads and Traffic\",\"Waste, Street Cleaning and Litter\"],\"labels\":[\"Abandoned Vehicles\",\"Bike pod services\",\"Bridge Maintenance\",\"Condition of Assets in Parks\",\"Damaged Bins\",\"Drain Maintenance\",\"General Enquiry\",\"Graffiti Removal\",\"Illegally Dumped Rubbish\",\"Infringement Review - Animal Management\",\"Infringement Review - Local Law\",\"Infringement Review - Parking\",\"Infringement Review - Undefined\",\"Lawns and Irrigation\",\"Missed Bin Collection\",\"Missing Bin\",\"Organic Waste\",\"Other\",\"Park Cleaning\",\"Parking Compliance Services\",\"Parking Meter Service\",\"Public Litter Bin\",\"Public Toilets\",\"Ratepayer waste\",\"Request for Parking Officer\",\"Road and Footpath Maintenance\",\"Rough Sleeping\",\"Sport and Playground Facilities\",\"Street Cleaning services\",\"Street Lighting Maintenance\",\"Street Maintenance\",\"Syringe Management\",\"Traffic Management\",\"Tree Maintenance Services\",\"Waste Compactor\",\"Waste collection services\",\"Waterways\",\"Asset maintenance\",\"General\",\"Graffiti\",\"Parking\",\"Parks and Trees\",\"Roads and Traffic\",\"Waste, Street Cleaning and Litter\"],\"name\":\"\",\"parents\":[\"Parking\",\"Asset maintenance\",\"Asset maintenance\",\"Parks and Trees\",\"Waste, Street Cleaning and Litter\",\"Roads and Traffic\",\"General\",\"Graffiti\",\"Waste, Street Cleaning and Litter\",\"General\",\"General\",\"General\",\"General\",\"Parks and Trees\",\"Waste, Street Cleaning and Litter\",\"Waste, Street Cleaning and Litter\",\"Waste, Street Cleaning and Litter\",\"General\",\"Parks and Trees\",\"Parking\",\"Parking\",\"Waste, Street Cleaning and Litter\",\"Asset maintenance\",\"Waste, Street Cleaning and Litter\",\"Parking\",\"Roads and Traffic\",\"Parks and Trees\",\"Parks and Trees\",\"Waste, Street Cleaning and Litter\",\"Asset maintenance\",\"Asset maintenance\",\"Waste, Street Cleaning and Litter\",\"Roads and Traffic\",\"Parks and Trees\",\"Waste, Street Cleaning and Litter\",\"Waste, Street Cleaning and Litter\",\"Waste, Street Cleaning and Litter\",\"\",\"\",\"\",\"\",\"\",\"\",\"\"],\"values\":[586,57,80,1766,2424,793,26,13424,6945,27,129,20133,251,805,4940,2208,18,34,1267,1053,1114,1720,116,316,9314,2603,1771,127,1670,645,874,1412,1836,5636,40,2527,13,1772,20600,13424,12067,11372,5232,24233],\"type\":\"treemap\"}],                        {\"template\":{\"data\":{\"histogram2dcontour\":[{\"type\":\"histogram2dcontour\",\"colorbar\":{\"outlinewidth\":0,\"ticks\":\"\"},\"colorscale\":[[0.0,\"#0d0887\"],[0.1111111111111111,\"#46039f\"],[0.2222222222222222,\"#7201a8\"],[0.3333333333333333,\"#9c179e\"],[0.4444444444444444,\"#bd3786\"],[0.5555555555555556,\"#d8576b\"],[0.6666666666666666,\"#ed7953\"],[0.7777777777777778,\"#fb9f3a\"],[0.8888888888888888,\"#fdca26\"],[1.0,\"#f0f921\"]]}],\"choropleth\":[{\"type\":\"choropleth\",\"colorbar\":{\"outlinewidth\":0,\"ticks\":\"\"}}],\"histogram2d\":[{\"type\":\"histogram2d\",\"colorbar\":{\"outlinewidth\":0,\"ticks\":\"\"},\"colorscale\":[[0.0,\"#0d0887\"],[0.1111111111111111,\"#46039f\"],[0.2222222222222222,\"#7201a8\"],[0.3333333333333333,\"#9c179e\"],[0.4444444444444444,\"#bd3786\"],[0.5555555555555556,\"#d8576b\"],[0.6666666666666666,\"#ed7953\"],[0.7777777777777778,\"#fb9f3a\"],[0.8888888888888888,\"#fdca26\"],[1.0,\"#f0f921\"]]}],\"heatmap\":[{\"type\":\"heatmap\",\"colorbar\":{\"outlinewidth\":0,\"ticks\":\"\"},\"colorscale\":[[0.0,\"#0d0887\"],[0.1111111111111111,\"#46039f\"],[0.2222222222222222,\"#7201a8\"],[0.3333333333333333,\"#9c179e\"],[0.4444444444444444,\"#bd3786\"],[0.5555555555555556,\"#d8576b\"],[0.6666666666666666,\"#ed7953\"],[0.7777777777777778,\"#fb9f3a\"],[0.8888888888888888,\"#fdca26\"],[1.0,\"#f0f921\"]]}],\"heatmapgl\":[{\"type\":\"heatmapgl\",\"colorbar\":{\"outlinewidth\":0,\"ticks\":\"\"},\"colorscale\":[[0.0,\"#0d0887\"],[0.1111111111111111,\"#46039f\"],[0.2222222222222222,\"#7201a8\"],[0.3333333333333333,\"#9c179e\"],[0.4444444444444444,\"#bd3786\"],[0.5555555555555556,\"#d8576b\"],[0.6666666666666666,\"#ed7953\"],[0.7777777777777778,\"#fb9f3a\"],[0.8888888888888888,\"#fdca26\"],[1.0,\"#f0f921\"]]}],\"contourcarpet\":[{\"type\":\"contourcarpet\",\"colorbar\":{\"outlinewidth\":0,\"ticks\":\"\"}}],\"contour\":[{\"type\":\"contour\",\"colorbar\":{\"outlinewidth\":0,\"ticks\":\"\"},\"colorscale\":[[0.0,\"#0d0887\"],[0.1111111111111111,\"#46039f\"],[0.2222222222222222,\"#7201a8\"],[0.3333333333333333,\"#9c179e\"],[0.4444444444444444,\"#bd3786\"],[0.5555555555555556,\"#d8576b\"],[0.6666666666666666,\"#ed7953\"],[0.7777777777777778,\"#fb9f3a\"],[0.8888888888888888,\"#fdca26\"],[1.0,\"#f0f921\"]]}],\"surface\":[{\"type\":\"surface\",\"colorbar\":{\"outlinewidth\":0,\"ticks\":\"\"},\"colorscale\":[[0.0,\"#0d0887\"],[0.1111111111111111,\"#46039f\"],[0.2222222222222222,\"#7201a8\"],[0.3333333333333333,\"#9c179e\"],[0.4444444444444444,\"#bd3786\"],[0.5555555555555556,\"#d8576b\"],[0.6666666666666666,\"#ed7953\"],[0.7777777777777778,\"#fb9f3a\"],[0.8888888888888888,\"#fdca26\"],[1.0,\"#f0f921\"]]}],\"mesh3d\":[{\"type\":\"mesh3d\",\"colorbar\":{\"outlinewidth\":0,\"ticks\":\"\"}}],\"scatter\":[{\"fillpattern\":{\"fillmode\":\"overlay\",\"size\":10,\"solidity\":0.2},\"type\":\"scatter\"}],\"parcoords\":[{\"type\":\"parcoords\",\"line\":{\"colorbar\":{\"outlinewidth\":0,\"ticks\":\"\"}}}],\"scatterpolargl\":[{\"type\":\"scatterpolargl\",\"marker\":{\"colorbar\":{\"outlinewidth\":0,\"ticks\":\"\"}}}],\"bar\":[{\"error_x\":{\"color\":\"#2a3f5f\"},\"error_y\":{\"color\":\"#2a3f5f\"},\"marker\":{\"line\":{\"color\":\"#E5ECF6\",\"width\":0.5},\"pattern\":{\"fillmode\":\"overlay\",\"size\":10,\"solidity\":0.2}},\"type\":\"bar\"}],\"scattergeo\":[{\"type\":\"scattergeo\",\"marker\":{\"colorbar\":{\"outlinewidth\":0,\"ticks\":\"\"}}}],\"scatterpolar\":[{\"type\":\"scatterpolar\",\"marker\":{\"colorbar\":{\"outlinewidth\":0,\"ticks\":\"\"}}}],\"histogram\":[{\"marker\":{\"pattern\":{\"fillmode\":\"overlay\",\"size\":10,\"solidity\":0.2}},\"type\":\"histogram\"}],\"scattergl\":[{\"type\":\"scattergl\",\"marker\":{\"colorbar\":{\"outlinewidth\":0,\"ticks\":\"\"}}}],\"scatter3d\":[{\"type\":\"scatter3d\",\"line\":{\"colorbar\":{\"outlinewidth\":0,\"ticks\":\"\"}},\"marker\":{\"colorbar\":{\"outlinewidth\":0,\"ticks\":\"\"}}}],\"scattermapbox\":[{\"type\":\"scattermapbox\",\"marker\":{\"colorbar\":{\"outlinewidth\":0,\"ticks\":\"\"}}}],\"scatterternary\":[{\"type\":\"scatterternary\",\"marker\":{\"colorbar\":{\"outlinewidth\":0,\"ticks\":\"\"}}}],\"scattercarpet\":[{\"type\":\"scattercarpet\",\"marker\":{\"colorbar\":{\"outlinewidth\":0,\"ticks\":\"\"}}}],\"carpet\":[{\"aaxis\":{\"endlinecolor\":\"#2a3f5f\",\"gridcolor\":\"white\",\"linecolor\":\"white\",\"minorgridcolor\":\"white\",\"startlinecolor\":\"#2a3f5f\"},\"baxis\":{\"endlinecolor\":\"#2a3f5f\",\"gridcolor\":\"white\",\"linecolor\":\"white\",\"minorgridcolor\":\"white\",\"startlinecolor\":\"#2a3f5f\"},\"type\":\"carpet\"}],\"table\":[{\"cells\":{\"fill\":{\"color\":\"#EBF0F8\"},\"line\":{\"color\":\"white\"}},\"header\":{\"fill\":{\"color\":\"#C8D4E3\"},\"line\":{\"color\":\"white\"}},\"type\":\"table\"}],\"barpolar\":[{\"marker\":{\"line\":{\"color\":\"#E5ECF6\",\"width\":0.5},\"pattern\":{\"fillmode\":\"overlay\",\"size\":10,\"solidity\":0.2}},\"type\":\"barpolar\"}],\"pie\":[{\"automargin\":true,\"type\":\"pie\"}]},\"layout\":{\"autotypenumbers\":\"strict\",\"colorway\":[\"#636efa\",\"#EF553B\",\"#00cc96\",\"#ab63fa\",\"#FFA15A\",\"#19d3f3\",\"#FF6692\",\"#B6E880\",\"#FF97FF\",\"#FECB52\"],\"font\":{\"color\":\"#2a3f5f\"},\"hovermode\":\"closest\",\"hoverlabel\":{\"align\":\"left\"},\"paper_bgcolor\":\"white\",\"plot_bgcolor\":\"#E5ECF6\",\"polar\":{\"bgcolor\":\"#E5ECF6\",\"angularaxis\":{\"gridcolor\":\"white\",\"linecolor\":\"white\",\"ticks\":\"\"},\"radialaxis\":{\"gridcolor\":\"white\",\"linecolor\":\"white\",\"ticks\":\"\"}},\"ternary\":{\"bgcolor\":\"#E5ECF6\",\"aaxis\":{\"gridcolor\":\"white\",\"linecolor\":\"white\",\"ticks\":\"\"},\"baxis\":{\"gridcolor\":\"white\",\"linecolor\":\"white\",\"ticks\":\"\"},\"caxis\":{\"gridcolor\":\"white\",\"linecolor\":\"white\",\"ticks\":\"\"}},\"coloraxis\":{\"colorbar\":{\"outlinewidth\":0,\"ticks\":\"\"}},\"colorscale\":{\"sequential\":[[0.0,\"#0d0887\"],[0.1111111111111111,\"#46039f\"],[0.2222222222222222,\"#7201a8\"],[0.3333333333333333,\"#9c179e\"],[0.4444444444444444,\"#bd3786\"],[0.5555555555555556,\"#d8576b\"],[0.6666666666666666,\"#ed7953\"],[0.7777777777777778,\"#fb9f3a\"],[0.8888888888888888,\"#fdca26\"],[1.0,\"#f0f921\"]],\"sequentialminus\":[[0.0,\"#0d0887\"],[0.1111111111111111,\"#46039f\"],[0.2222222222222222,\"#7201a8\"],[0.3333333333333333,\"#9c179e\"],[0.4444444444444444,\"#bd3786\"],[0.5555555555555556,\"#d8576b\"],[0.6666666666666666,\"#ed7953\"],[0.7777777777777778,\"#fb9f3a\"],[0.8888888888888888,\"#fdca26\"],[1.0,\"#f0f921\"]],\"diverging\":[[0,\"#8e0152\"],[0.1,\"#c51b7d\"],[0.2,\"#de77ae\"],[0.3,\"#f1b6da\"],[0.4,\"#fde0ef\"],[0.5,\"#f7f7f7\"],[0.6,\"#e6f5d0\"],[0.7,\"#b8e186\"],[0.8,\"#7fbc41\"],[0.9,\"#4d9221\"],[1,\"#276419\"]]},\"xaxis\":{\"gridcolor\":\"white\",\"linecolor\":\"white\",\"ticks\":\"\",\"title\":{\"standoff\":15},\"zerolinecolor\":\"white\",\"automargin\":true,\"zerolinewidth\":2},\"yaxis\":{\"gridcolor\":\"white\",\"linecolor\":\"white\",\"ticks\":\"\",\"title\":{\"standoff\":15},\"zerolinecolor\":\"white\",\"automargin\":true,\"zerolinewidth\":2},\"scene\":{\"xaxis\":{\"backgroundcolor\":\"#E5ECF6\",\"gridcolor\":\"white\",\"linecolor\":\"white\",\"showbackground\":true,\"ticks\":\"\",\"zerolinecolor\":\"white\",\"gridwidth\":2},\"yaxis\":{\"backgroundcolor\":\"#E5ECF6\",\"gridcolor\":\"white\",\"linecolor\":\"white\",\"showbackground\":true,\"ticks\":\"\",\"zerolinecolor\":\"white\",\"gridwidth\":2},\"zaxis\":{\"backgroundcolor\":\"#E5ECF6\",\"gridcolor\":\"white\",\"linecolor\":\"white\",\"showbackground\":true,\"ticks\":\"\",\"zerolinecolor\":\"white\",\"gridwidth\":2}},\"shapedefaults\":{\"line\":{\"color\":\"#2a3f5f\"}},\"annotationdefaults\":{\"arrowcolor\":\"#2a3f5f\",\"arrowhead\":0,\"arrowwidth\":1},\"geo\":{\"bgcolor\":\"white\",\"landcolor\":\"#E5ECF6\",\"subunitcolor\":\"white\",\"showland\":true,\"showlakes\":true,\"lakecolor\":\"white\"},\"title\":{\"x\":0.05},\"mapbox\":{\"style\":\"light\"}}},\"legend\":{\"tracegroupgap\":0},\"title\":{\"text\":\"Distribution of Service Types Across Categories\",\"y\":0.94,\"x\":0.5,\"xanchor\":\"center\",\"yanchor\":\"top\"},\"margin\":{\"t\":50,\"l\":25,\"r\":25,\"b\":25}},                        {\"responsive\": true}                    ).then(function(){\n",
              "                            \n",
              "var gd = document.getElementById('34ca75c3-e183-4b48-9146-a780d1ed09ba');\n",
              "var x = new MutationObserver(function (mutations, observer) {{\n",
              "        var display = window.getComputedStyle(gd).display;\n",
              "        if (!display || display === 'none') {{\n",
              "            console.log([gd, 'removed!']);\n",
              "            Plotly.purge(gd);\n",
              "            observer.disconnect();\n",
              "        }}\n",
              "}});\n",
              "\n",
              "// Listen for the removal of the full notebook cells\n",
              "var notebookContainer = gd.closest('#notebook-container');\n",
              "if (notebookContainer) {{\n",
              "    x.observe(notebookContainer, {childList: true});\n",
              "}}\n",
              "\n",
              "// Listen for the clearing of the current output cell\n",
              "var outputEl = gd.closest('.output');\n",
              "if (outputEl) {{\n",
              "    x.observe(outputEl, {childList: true});\n",
              "}}\n",
              "\n",
              "                        })                };                            </script>        </div>\n",
              "</body>\n",
              "</html>"
            ]
          },
          "metadata": {}
        }
      ]
    },
    {
      "cell_type": "markdown",
      "source": [
        "*The treemap provides a revealing snapshot of service demand distribution across various categories. Notably, requests for parking infringement reviews dominate the 'General' category, standing out as the most high-demand service across the board. This significant volume suggests a potential area for policy review or enhanced enforcement measures, as it may reflect widespread parking violations.*\n",
        "\n",
        "*Graffiti removal emerges as the second most sought-after service, highlighting the need for resource allocation to manage this issue effectively. The prominence of these two service types may necessitate a reassessment of current policies and initiatives to address the underlying causes of these frequent requests.*\n",
        "\n",
        "*On the other end of the spectrum, 'Asset maintenance' appears to attract the fewest requests, indicating a lower relative demand or, possibly, higher efficiency in addressing these issues. In contrast, the 'Waste, Street Cleaning, and Litter' category, along with 'General' services, show a higher incidence of requests. This pattern points to waste management and general municipal services as significant areas of public concern. Such insights are invaluable for city planners and service coordinators, offering a data-driven basis for budgeting and staffing decisions to improve services that residents frequently utilize.*"
      ],
      "metadata": {
        "id": "Pqr9IfxUiHcc"
      }
    },
    {
      "cell_type": "markdown",
      "source": [
        "### Stacked area chart"
      ],
      "metadata": {
        "id": "MfIGKcnU8VD7"
      }
    },
    {
      "cell_type": "code",
      "source": [
        "# create a stacked area chart\n",
        "fig_stackedarea = px.area(mth_sum_category, x = 'date', y = 'total_cases', color = 'category')\n",
        "\n",
        "fig_stackedarea.update_layout(\n",
        "    margin = dict(t = 50, l = 25, r = 25, b = 25),\n",
        "    title = {'text': \"Cumulative Count of Service Requests Over Time by Category\",\n",
        "             'y': 0.95,\n",
        "             'x': 0.44,\n",
        "             'xanchor': 'center',\n",
        "             'yanchor': 'top'\n",
        "             })\n",
        "\n",
        "# rename y and x axis label\n",
        "fig_stackedarea.update_layout(yaxis_title = 'Sum of Service Requests Across All Categories', xaxis_title = 'Date')\n",
        "\n",
        "# show figure\n",
        "fig_stackedarea.show()"
      ],
      "metadata": {
        "id": "soVXCBs5akeX",
        "colab": {
          "base_uri": "https://localhost:8080/",
          "height": 542
        },
        "outputId": "f8fcbcf1-89f3-4f9f-a599-7be36ea48155"
      },
      "execution_count": null,
      "outputs": [
        {
          "output_type": "display_data",
          "data": {
            "text/html": [
              "<html>\n",
              "<head><meta charset=\"utf-8\" /></head>\n",
              "<body>\n",
              "    <div>            <script src=\"https://cdnjs.cloudflare.com/ajax/libs/mathjax/2.7.5/MathJax.js?config=TeX-AMS-MML_SVG\"></script><script type=\"text/javascript\">if (window.MathJax && window.MathJax.Hub && window.MathJax.Hub.Config) {window.MathJax.Hub.Config({SVG: {font: \"STIX-Web\"}});}</script>                <script type=\"text/javascript\">window.PlotlyConfig = {MathJaxConfig: 'local'};</script>\n",
              "        <script charset=\"utf-8\" src=\"https://cdn.plot.ly/plotly-2.24.1.min.js\"></script>                <div id=\"e372b0be-8eda-4cbd-b5f0-cc2f77b353d2\" class=\"plotly-graph-div\" style=\"height:525px; width:100%;\"></div>            <script type=\"text/javascript\">                                    window.PLOTLYENV=window.PLOTLYENV || {};                                    if (document.getElementById(\"e372b0be-8eda-4cbd-b5f0-cc2f77b353d2\")) {                    Plotly.newPlot(                        \"e372b0be-8eda-4cbd-b5f0-cc2f77b353d2\",                        [{\"fillpattern\":{\"shape\":\"\"},\"hovertemplate\":\"category=Asset maintenance\\u003cbr\\u003edate=%{x}\\u003cbr\\u003etotal_cases=%{y}\\u003cextra\\u003e\\u003c\\u002fextra\\u003e\",\"legendgroup\":\"Asset maintenance\",\"line\":{\"color\":\"#636efa\"},\"marker\":{\"symbol\":\"circle\"},\"mode\":\"lines\",\"name\":\"Asset maintenance\",\"orientation\":\"v\",\"showlegend\":true,\"stackgroup\":\"1\",\"x\":[\"2014-11\",\"2014-12\",\"2015-01\",\"2015-02\",\"2015-03\",\"2015-04\",\"2015-05\",\"2015-06\",\"2015-07\",\"2015-08\",\"2015-09\",\"2015-10\",\"2015-11\",\"2015-12\",\"2016-01\",\"2016-02\",\"2016-03\",\"2016-04\",\"2016-05\",\"2016-06\",\"2016-07\",\"2016-08\",\"2016-09\",\"2016-10\",\"2016-11\"],\"xaxis\":\"x\",\"y\":[56,53,59,82,95,72,85,83,86,72,85,78,62,63,53,91,81,88,86,69,76,62,70,52,13],\"yaxis\":\"y\",\"type\":\"scatter\"},{\"fillpattern\":{\"shape\":\"\"},\"hovertemplate\":\"category=Graffiti\\u003cbr\\u003edate=%{x}\\u003cbr\\u003etotal_cases=%{y}\\u003cextra\\u003e\\u003c\\u002fextra\\u003e\",\"legendgroup\":\"Graffiti\",\"line\":{\"color\":\"#EF553B\"},\"marker\":{\"symbol\":\"circle\"},\"mode\":\"lines\",\"name\":\"Graffiti\",\"orientation\":\"v\",\"showlegend\":true,\"stackgroup\":\"1\",\"x\":[\"2014-11\",\"2014-12\",\"2015-01\",\"2015-02\",\"2015-03\",\"2015-04\",\"2015-05\",\"2015-06\",\"2015-07\",\"2015-08\",\"2015-09\",\"2015-10\",\"2015-11\",\"2015-12\",\"2016-01\",\"2016-02\",\"2016-03\",\"2016-04\",\"2016-05\",\"2016-06\",\"2016-07\",\"2016-08\",\"2016-09\",\"2016-10\",\"2016-11\",\"2018-01\",\"2018-02\",\"2018-03\",\"2018-04\",\"2018-05\",\"2018-06\",\"2018-07\",\"2018-08\",\"2018-09\"],\"xaxis\":\"x\",\"y\":[120,173,196,268,273,247,296,261,420,371,301,393,370,362,413,486,491,655,494,428,500,590,551,456,59,456,511,459,435,472,397,526,497,497],\"yaxis\":\"y\",\"type\":\"scatter\"},{\"fillpattern\":{\"shape\":\"\"},\"hovertemplate\":\"category=Parking\\u003cbr\\u003edate=%{x}\\u003cbr\\u003etotal_cases=%{y}\\u003cextra\\u003e\\u003c\\u002fextra\\u003e\",\"legendgroup\":\"Parking\",\"line\":{\"color\":\"#00cc96\"},\"marker\":{\"symbol\":\"circle\"},\"mode\":\"lines\",\"name\":\"Parking\",\"orientation\":\"v\",\"showlegend\":true,\"stackgroup\":\"1\",\"x\":[\"2014-11\",\"2014-12\",\"2015-01\",\"2015-02\",\"2015-03\",\"2015-04\",\"2015-05\",\"2015-06\",\"2015-07\",\"2015-08\",\"2015-09\",\"2015-10\",\"2015-11\",\"2015-12\",\"2016-01\",\"2016-02\",\"2016-03\",\"2016-04\",\"2016-05\",\"2016-06\",\"2016-07\",\"2016-08\",\"2016-09\",\"2016-10\",\"2016-11\",\"2018-01\",\"2018-02\",\"2018-03\",\"2018-04\",\"2018-05\",\"2018-06\",\"2018-07\",\"2018-08\",\"2018-09\"],\"xaxis\":\"x\",\"y\":[57,73,76,85,92,109,77,88,97,102,102,86,88,93,89,92,104,101,107,90,96,103,63,86,11,915,1068,1242,1127,1228,980,1065,1229,1046],\"yaxis\":\"y\",\"type\":\"scatter\"},{\"fillpattern\":{\"shape\":\"\"},\"hovertemplate\":\"category=Parks and Trees\\u003cbr\\u003edate=%{x}\\u003cbr\\u003etotal_cases=%{y}\\u003cextra\\u003e\\u003c\\u002fextra\\u003e\",\"legendgroup\":\"Parks and Trees\",\"line\":{\"color\":\"#ab63fa\"},\"marker\":{\"symbol\":\"circle\"},\"mode\":\"lines\",\"name\":\"Parks and Trees\",\"orientation\":\"v\",\"showlegend\":true,\"stackgroup\":\"1\",\"x\":[\"2014-11\",\"2014-12\",\"2015-01\",\"2015-02\",\"2015-03\",\"2015-04\",\"2015-05\",\"2015-06\",\"2015-07\",\"2015-08\",\"2015-09\",\"2015-10\",\"2015-11\",\"2015-12\",\"2016-01\",\"2016-02\",\"2016-03\",\"2016-04\",\"2016-05\",\"2016-06\",\"2016-07\",\"2016-08\",\"2016-09\",\"2016-10\",\"2016-11\",\"2018-01\",\"2018-02\",\"2018-03\",\"2018-04\",\"2018-05\",\"2018-06\",\"2018-07\",\"2018-08\",\"2018-09\"],\"xaxis\":\"x\",\"y\":[234,369,401,424,427,294,336,286,354,250,268,334,361,376,371,373,346,275,264,209,216,216,188,301,63,519,595,492,457,411,295,400,340,327],\"yaxis\":\"y\",\"type\":\"scatter\"},{\"fillpattern\":{\"shape\":\"\"},\"hovertemplate\":\"category=Roads and Traffic\\u003cbr\\u003edate=%{x}\\u003cbr\\u003etotal_cases=%{y}\\u003cextra\\u003e\\u003c\\u002fextra\\u003e\",\"legendgroup\":\"Roads and Traffic\",\"line\":{\"color\":\"#FFA15A\"},\"marker\":{\"symbol\":\"circle\"},\"mode\":\"lines\",\"name\":\"Roads and Traffic\",\"orientation\":\"v\",\"showlegend\":true,\"stackgroup\":\"1\",\"x\":[\"2014-11\",\"2014-12\",\"2015-01\",\"2015-02\",\"2015-03\",\"2015-04\",\"2015-05\",\"2015-06\",\"2015-07\",\"2015-08\",\"2015-09\",\"2015-10\",\"2015-11\",\"2015-12\",\"2016-01\",\"2016-02\",\"2016-03\",\"2016-04\",\"2016-05\",\"2016-06\",\"2016-07\",\"2016-08\",\"2016-09\",\"2016-10\",\"2016-11\"],\"xaxis\":\"x\",\"y\":[124,197,185,232,212,203,225,203,172,200,225,206,228,189,191,256,254,225,230,204,231,253,249,293,45],\"yaxis\":\"y\",\"type\":\"scatter\"},{\"fillpattern\":{\"shape\":\"\"},\"hovertemplate\":\"category=Waste, Street Cleaning and Litter\\u003cbr\\u003edate=%{x}\\u003cbr\\u003etotal_cases=%{y}\\u003cextra\\u003e\\u003c\\u002fextra\\u003e\",\"legendgroup\":\"Waste, Street Cleaning and Litter\",\"line\":{\"color\":\"#19d3f3\"},\"marker\":{\"symbol\":\"circle\"},\"mode\":\"lines\",\"name\":\"Waste, Street Cleaning and Litter\",\"orientation\":\"v\",\"showlegend\":true,\"stackgroup\":\"1\",\"x\":[\"2014-11\",\"2014-12\",\"2015-01\",\"2015-02\",\"2015-03\",\"2015-04\",\"2015-05\",\"2015-06\",\"2015-07\",\"2015-08\",\"2015-09\",\"2015-10\",\"2015-11\",\"2015-12\",\"2016-01\",\"2016-02\",\"2016-03\",\"2016-04\",\"2016-05\",\"2016-06\",\"2016-07\",\"2016-08\",\"2016-09\",\"2016-10\",\"2016-11\",\"2018-01\",\"2018-02\",\"2018-03\",\"2018-04\",\"2018-05\",\"2018-06\",\"2018-07\",\"2018-08\",\"2018-09\"],\"xaxis\":\"x\",\"y\":[565,735,786,861,842,735,648,679,770,742,716,810,873,852,955,1010,955,960,1092,1037,894,1072,1006,812,191,423,453,403,368,371,344,318,325,630],\"yaxis\":\"y\",\"type\":\"scatter\"},{\"fillpattern\":{\"shape\":\"\"},\"hovertemplate\":\"category=General\\u003cbr\\u003edate=%{x}\\u003cbr\\u003etotal_cases=%{y}\\u003cextra\\u003e\\u003c\\u002fextra\\u003e\",\"legendgroup\":\"General\",\"line\":{\"color\":\"#FF6692\"},\"marker\":{\"symbol\":\"circle\"},\"mode\":\"lines\",\"name\":\"General\",\"orientation\":\"v\",\"showlegend\":true,\"stackgroup\":\"1\",\"x\":[\"2018-01\",\"2018-02\",\"2018-03\",\"2018-04\",\"2018-05\",\"2018-06\",\"2018-07\",\"2018-08\",\"2018-09\"],\"xaxis\":\"x\",\"y\":[2168,2055,2291,2268,2508,2295,2372,2395,2248],\"yaxis\":\"y\",\"type\":\"scatter\"}],                        {\"template\":{\"data\":{\"histogram2dcontour\":[{\"type\":\"histogram2dcontour\",\"colorbar\":{\"outlinewidth\":0,\"ticks\":\"\"},\"colorscale\":[[0.0,\"#0d0887\"],[0.1111111111111111,\"#46039f\"],[0.2222222222222222,\"#7201a8\"],[0.3333333333333333,\"#9c179e\"],[0.4444444444444444,\"#bd3786\"],[0.5555555555555556,\"#d8576b\"],[0.6666666666666666,\"#ed7953\"],[0.7777777777777778,\"#fb9f3a\"],[0.8888888888888888,\"#fdca26\"],[1.0,\"#f0f921\"]]}],\"choropleth\":[{\"type\":\"choropleth\",\"colorbar\":{\"outlinewidth\":0,\"ticks\":\"\"}}],\"histogram2d\":[{\"type\":\"histogram2d\",\"colorbar\":{\"outlinewidth\":0,\"ticks\":\"\"},\"colorscale\":[[0.0,\"#0d0887\"],[0.1111111111111111,\"#46039f\"],[0.2222222222222222,\"#7201a8\"],[0.3333333333333333,\"#9c179e\"],[0.4444444444444444,\"#bd3786\"],[0.5555555555555556,\"#d8576b\"],[0.6666666666666666,\"#ed7953\"],[0.7777777777777778,\"#fb9f3a\"],[0.8888888888888888,\"#fdca26\"],[1.0,\"#f0f921\"]]}],\"heatmap\":[{\"type\":\"heatmap\",\"colorbar\":{\"outlinewidth\":0,\"ticks\":\"\"},\"colorscale\":[[0.0,\"#0d0887\"],[0.1111111111111111,\"#46039f\"],[0.2222222222222222,\"#7201a8\"],[0.3333333333333333,\"#9c179e\"],[0.4444444444444444,\"#bd3786\"],[0.5555555555555556,\"#d8576b\"],[0.6666666666666666,\"#ed7953\"],[0.7777777777777778,\"#fb9f3a\"],[0.8888888888888888,\"#fdca26\"],[1.0,\"#f0f921\"]]}],\"heatmapgl\":[{\"type\":\"heatmapgl\",\"colorbar\":{\"outlinewidth\":0,\"ticks\":\"\"},\"colorscale\":[[0.0,\"#0d0887\"],[0.1111111111111111,\"#46039f\"],[0.2222222222222222,\"#7201a8\"],[0.3333333333333333,\"#9c179e\"],[0.4444444444444444,\"#bd3786\"],[0.5555555555555556,\"#d8576b\"],[0.6666666666666666,\"#ed7953\"],[0.7777777777777778,\"#fb9f3a\"],[0.8888888888888888,\"#fdca26\"],[1.0,\"#f0f921\"]]}],\"contourcarpet\":[{\"type\":\"contourcarpet\",\"colorbar\":{\"outlinewidth\":0,\"ticks\":\"\"}}],\"contour\":[{\"type\":\"contour\",\"colorbar\":{\"outlinewidth\":0,\"ticks\":\"\"},\"colorscale\":[[0.0,\"#0d0887\"],[0.1111111111111111,\"#46039f\"],[0.2222222222222222,\"#7201a8\"],[0.3333333333333333,\"#9c179e\"],[0.4444444444444444,\"#bd3786\"],[0.5555555555555556,\"#d8576b\"],[0.6666666666666666,\"#ed7953\"],[0.7777777777777778,\"#fb9f3a\"],[0.8888888888888888,\"#fdca26\"],[1.0,\"#f0f921\"]]}],\"surface\":[{\"type\":\"surface\",\"colorbar\":{\"outlinewidth\":0,\"ticks\":\"\"},\"colorscale\":[[0.0,\"#0d0887\"],[0.1111111111111111,\"#46039f\"],[0.2222222222222222,\"#7201a8\"],[0.3333333333333333,\"#9c179e\"],[0.4444444444444444,\"#bd3786\"],[0.5555555555555556,\"#d8576b\"],[0.6666666666666666,\"#ed7953\"],[0.7777777777777778,\"#fb9f3a\"],[0.8888888888888888,\"#fdca26\"],[1.0,\"#f0f921\"]]}],\"mesh3d\":[{\"type\":\"mesh3d\",\"colorbar\":{\"outlinewidth\":0,\"ticks\":\"\"}}],\"scatter\":[{\"fillpattern\":{\"fillmode\":\"overlay\",\"size\":10,\"solidity\":0.2},\"type\":\"scatter\"}],\"parcoords\":[{\"type\":\"parcoords\",\"line\":{\"colorbar\":{\"outlinewidth\":0,\"ticks\":\"\"}}}],\"scatterpolargl\":[{\"type\":\"scatterpolargl\",\"marker\":{\"colorbar\":{\"outlinewidth\":0,\"ticks\":\"\"}}}],\"bar\":[{\"error_x\":{\"color\":\"#2a3f5f\"},\"error_y\":{\"color\":\"#2a3f5f\"},\"marker\":{\"line\":{\"color\":\"#E5ECF6\",\"width\":0.5},\"pattern\":{\"fillmode\":\"overlay\",\"size\":10,\"solidity\":0.2}},\"type\":\"bar\"}],\"scattergeo\":[{\"type\":\"scattergeo\",\"marker\":{\"colorbar\":{\"outlinewidth\":0,\"ticks\":\"\"}}}],\"scatterpolar\":[{\"type\":\"scatterpolar\",\"marker\":{\"colorbar\":{\"outlinewidth\":0,\"ticks\":\"\"}}}],\"histogram\":[{\"marker\":{\"pattern\":{\"fillmode\":\"overlay\",\"size\":10,\"solidity\":0.2}},\"type\":\"histogram\"}],\"scattergl\":[{\"type\":\"scattergl\",\"marker\":{\"colorbar\":{\"outlinewidth\":0,\"ticks\":\"\"}}}],\"scatter3d\":[{\"type\":\"scatter3d\",\"line\":{\"colorbar\":{\"outlinewidth\":0,\"ticks\":\"\"}},\"marker\":{\"colorbar\":{\"outlinewidth\":0,\"ticks\":\"\"}}}],\"scattermapbox\":[{\"type\":\"scattermapbox\",\"marker\":{\"colorbar\":{\"outlinewidth\":0,\"ticks\":\"\"}}}],\"scatterternary\":[{\"type\":\"scatterternary\",\"marker\":{\"colorbar\":{\"outlinewidth\":0,\"ticks\":\"\"}}}],\"scattercarpet\":[{\"type\":\"scattercarpet\",\"marker\":{\"colorbar\":{\"outlinewidth\":0,\"ticks\":\"\"}}}],\"carpet\":[{\"aaxis\":{\"endlinecolor\":\"#2a3f5f\",\"gridcolor\":\"white\",\"linecolor\":\"white\",\"minorgridcolor\":\"white\",\"startlinecolor\":\"#2a3f5f\"},\"baxis\":{\"endlinecolor\":\"#2a3f5f\",\"gridcolor\":\"white\",\"linecolor\":\"white\",\"minorgridcolor\":\"white\",\"startlinecolor\":\"#2a3f5f\"},\"type\":\"carpet\"}],\"table\":[{\"cells\":{\"fill\":{\"color\":\"#EBF0F8\"},\"line\":{\"color\":\"white\"}},\"header\":{\"fill\":{\"color\":\"#C8D4E3\"},\"line\":{\"color\":\"white\"}},\"type\":\"table\"}],\"barpolar\":[{\"marker\":{\"line\":{\"color\":\"#E5ECF6\",\"width\":0.5},\"pattern\":{\"fillmode\":\"overlay\",\"size\":10,\"solidity\":0.2}},\"type\":\"barpolar\"}],\"pie\":[{\"automargin\":true,\"type\":\"pie\"}]},\"layout\":{\"autotypenumbers\":\"strict\",\"colorway\":[\"#636efa\",\"#EF553B\",\"#00cc96\",\"#ab63fa\",\"#FFA15A\",\"#19d3f3\",\"#FF6692\",\"#B6E880\",\"#FF97FF\",\"#FECB52\"],\"font\":{\"color\":\"#2a3f5f\"},\"hovermode\":\"closest\",\"hoverlabel\":{\"align\":\"left\"},\"paper_bgcolor\":\"white\",\"plot_bgcolor\":\"#E5ECF6\",\"polar\":{\"bgcolor\":\"#E5ECF6\",\"angularaxis\":{\"gridcolor\":\"white\",\"linecolor\":\"white\",\"ticks\":\"\"},\"radialaxis\":{\"gridcolor\":\"white\",\"linecolor\":\"white\",\"ticks\":\"\"}},\"ternary\":{\"bgcolor\":\"#E5ECF6\",\"aaxis\":{\"gridcolor\":\"white\",\"linecolor\":\"white\",\"ticks\":\"\"},\"baxis\":{\"gridcolor\":\"white\",\"linecolor\":\"white\",\"ticks\":\"\"},\"caxis\":{\"gridcolor\":\"white\",\"linecolor\":\"white\",\"ticks\":\"\"}},\"coloraxis\":{\"colorbar\":{\"outlinewidth\":0,\"ticks\":\"\"}},\"colorscale\":{\"sequential\":[[0.0,\"#0d0887\"],[0.1111111111111111,\"#46039f\"],[0.2222222222222222,\"#7201a8\"],[0.3333333333333333,\"#9c179e\"],[0.4444444444444444,\"#bd3786\"],[0.5555555555555556,\"#d8576b\"],[0.6666666666666666,\"#ed7953\"],[0.7777777777777778,\"#fb9f3a\"],[0.8888888888888888,\"#fdca26\"],[1.0,\"#f0f921\"]],\"sequentialminus\":[[0.0,\"#0d0887\"],[0.1111111111111111,\"#46039f\"],[0.2222222222222222,\"#7201a8\"],[0.3333333333333333,\"#9c179e\"],[0.4444444444444444,\"#bd3786\"],[0.5555555555555556,\"#d8576b\"],[0.6666666666666666,\"#ed7953\"],[0.7777777777777778,\"#fb9f3a\"],[0.8888888888888888,\"#fdca26\"],[1.0,\"#f0f921\"]],\"diverging\":[[0,\"#8e0152\"],[0.1,\"#c51b7d\"],[0.2,\"#de77ae\"],[0.3,\"#f1b6da\"],[0.4,\"#fde0ef\"],[0.5,\"#f7f7f7\"],[0.6,\"#e6f5d0\"],[0.7,\"#b8e186\"],[0.8,\"#7fbc41\"],[0.9,\"#4d9221\"],[1,\"#276419\"]]},\"xaxis\":{\"gridcolor\":\"white\",\"linecolor\":\"white\",\"ticks\":\"\",\"title\":{\"standoff\":15},\"zerolinecolor\":\"white\",\"automargin\":true,\"zerolinewidth\":2},\"yaxis\":{\"gridcolor\":\"white\",\"linecolor\":\"white\",\"ticks\":\"\",\"title\":{\"standoff\":15},\"zerolinecolor\":\"white\",\"automargin\":true,\"zerolinewidth\":2},\"scene\":{\"xaxis\":{\"backgroundcolor\":\"#E5ECF6\",\"gridcolor\":\"white\",\"linecolor\":\"white\",\"showbackground\":true,\"ticks\":\"\",\"zerolinecolor\":\"white\",\"gridwidth\":2},\"yaxis\":{\"backgroundcolor\":\"#E5ECF6\",\"gridcolor\":\"white\",\"linecolor\":\"white\",\"showbackground\":true,\"ticks\":\"\",\"zerolinecolor\":\"white\",\"gridwidth\":2},\"zaxis\":{\"backgroundcolor\":\"#E5ECF6\",\"gridcolor\":\"white\",\"linecolor\":\"white\",\"showbackground\":true,\"ticks\":\"\",\"zerolinecolor\":\"white\",\"gridwidth\":2}},\"shapedefaults\":{\"line\":{\"color\":\"#2a3f5f\"}},\"annotationdefaults\":{\"arrowcolor\":\"#2a3f5f\",\"arrowhead\":0,\"arrowwidth\":1},\"geo\":{\"bgcolor\":\"white\",\"landcolor\":\"#E5ECF6\",\"subunitcolor\":\"white\",\"showland\":true,\"showlakes\":true,\"lakecolor\":\"white\"},\"title\":{\"x\":0.05},\"mapbox\":{\"style\":\"light\"}}},\"xaxis\":{\"anchor\":\"y\",\"domain\":[0.0,1.0],\"title\":{\"text\":\"Date\"}},\"yaxis\":{\"anchor\":\"x\",\"domain\":[0.0,1.0],\"title\":{\"text\":\"Sum of Service Requests Across All Categories\"}},\"legend\":{\"title\":{\"text\":\"category\"},\"tracegroupgap\":0},\"margin\":{\"t\":50,\"l\":25,\"r\":25,\"b\":25},\"title\":{\"text\":\"Cumulative Count of Service Requests Over Time by Category\",\"y\":0.95,\"x\":0.44,\"xanchor\":\"center\",\"yanchor\":\"top\"}},                        {\"responsive\": true}                    ).then(function(){\n",
              "                            \n",
              "var gd = document.getElementById('e372b0be-8eda-4cbd-b5f0-cc2f77b353d2');\n",
              "var x = new MutationObserver(function (mutations, observer) {{\n",
              "        var display = window.getComputedStyle(gd).display;\n",
              "        if (!display || display === 'none') {{\n",
              "            console.log([gd, 'removed!']);\n",
              "            Plotly.purge(gd);\n",
              "            observer.disconnect();\n",
              "        }}\n",
              "}});\n",
              "\n",
              "// Listen for the removal of the full notebook cells\n",
              "var notebookContainer = gd.closest('#notebook-container');\n",
              "if (notebookContainer) {{\n",
              "    x.observe(notebookContainer, {childList: true});\n",
              "}}\n",
              "\n",
              "// Listen for the clearing of the current output cell\n",
              "var outputEl = gd.closest('.output');\n",
              "if (outputEl) {{\n",
              "    x.observe(outputEl, {childList: true});\n",
              "}}\n",
              "\n",
              "                        })                };                            </script>        </div>\n",
              "</body>\n",
              "</html>"
            ]
          },
          "metadata": {}
        }
      ]
    },
    {
      "cell_type": "markdown",
      "source": [
        "*The stacked area chart suggests a data recording gap between late 2016 and 2018, as indicated by the service request count dropping to zero. This likely points to an issue in data collection rather than a complete lack of service requests. Following this period, there is a marked resurgence in service requests, with the overall count surpassing 5000 cases from March 2018 onwards. The 'General' category sees an especially sharp increase, accounting for over 2000 requests per month by mid-2018, which may reflect an increased need for these services or a change in how cases are reported. The demand for graffiti removal services appears stable, suggesting a consistent need for this service throughout the time frame. In contrast, the asset maintenance category shows a downward trend, possibly indicating enhanced efficiency in infrastructure upkeep or a shift in service reporting protocols.*"
      ],
      "metadata": {
        "id": "PQrLPLxsnuRm"
      }
    },
    {
      "cell_type": "markdown",
      "source": [
        "### Scatter plot"
      ],
      "metadata": {
        "id": "3maAqOZaBlv8"
      }
    },
    {
      "cell_type": "markdown",
      "source": [
        "Find the relationship between visitor numbers and service requests in the 'Waste, Street Cleaning and Litter' category and visually inspect potential correlations between two quantitative variables using scatter plot."
      ],
      "metadata": {
        "id": "JI2RXVNsDEf6"
      }
    },
    {
      "cell_type": "code",
      "source": [
        "# filter the data\n",
        "cat_waste = df[(df['category'] == 'Waste, Street Cleaning and Litter')]    # & (df['date_completed'].isna())\n",
        "\n",
        "# group 'cat_waste' by year and month and count the number of cases\n",
        "waste_cases_by_month = cat_waste.groupby(['rec_year', 'rec_month']).size().reset_index(name = 'waste_cases')\n",
        "\n",
        "# merge 'sum_contacts' with 'waste_cases_by_month' on year and month\n",
        "waste_cases_by_month = pd.merge(sum_contacts, waste_cases_by_month, left_on = ['year', 'month'], right_on = ['rec_year', 'rec_month'])\n",
        "\n",
        "# drop redunant 'rec_year' and\t'rec_month' columns\n",
        "waste_cases_by_month.drop(['rec_year', 'rec_month'], axis = 1, inplace = True)"
      ],
      "metadata": {
        "id": "aCbhDUClBn15"
      },
      "execution_count": null,
      "outputs": []
    },
    {
      "cell_type": "code",
      "source": [
        "waste_cases_by_month.head(3)"
      ],
      "metadata": {
        "colab": {
          "base_uri": "https://localhost:8080/",
          "height": 140
        },
        "id": "pwMrfjBEDksv",
        "outputId": "d754a34d-8cca-422f-dc50-25786bd1ab5f"
      },
      "execution_count": null,
      "outputs": [
        {
          "output_type": "execute_result",
          "data": {
            "text/plain": [
              "   year  month  number_of_contacts     date  waste_cases\n",
              "0  2014     11              164042  2014-11          565\n",
              "1  2014     12              193392  2014-12          735\n",
              "2  2015      1              206044  2015-01          786"
            ],
            "text/html": [
              "\n",
              "  <div id=\"df-36d19a13-2987-44ce-a3d0-06bfaff3d9e9\" class=\"colab-df-container\">\n",
              "    <div>\n",
              "<style scoped>\n",
              "    .dataframe tbody tr th:only-of-type {\n",
              "        vertical-align: middle;\n",
              "    }\n",
              "\n",
              "    .dataframe tbody tr th {\n",
              "        vertical-align: top;\n",
              "    }\n",
              "\n",
              "    .dataframe thead th {\n",
              "        text-align: right;\n",
              "    }\n",
              "</style>\n",
              "<table border=\"1\" class=\"dataframe\">\n",
              "  <thead>\n",
              "    <tr style=\"text-align: right;\">\n",
              "      <th></th>\n",
              "      <th>year</th>\n",
              "      <th>month</th>\n",
              "      <th>number_of_contacts</th>\n",
              "      <th>date</th>\n",
              "      <th>waste_cases</th>\n",
              "    </tr>\n",
              "  </thead>\n",
              "  <tbody>\n",
              "    <tr>\n",
              "      <th>0</th>\n",
              "      <td>2014</td>\n",
              "      <td>11</td>\n",
              "      <td>164042</td>\n",
              "      <td>2014-11</td>\n",
              "      <td>565</td>\n",
              "    </tr>\n",
              "    <tr>\n",
              "      <th>1</th>\n",
              "      <td>2014</td>\n",
              "      <td>12</td>\n",
              "      <td>193392</td>\n",
              "      <td>2014-12</td>\n",
              "      <td>735</td>\n",
              "    </tr>\n",
              "    <tr>\n",
              "      <th>2</th>\n",
              "      <td>2015</td>\n",
              "      <td>1</td>\n",
              "      <td>206044</td>\n",
              "      <td>2015-01</td>\n",
              "      <td>786</td>\n",
              "    </tr>\n",
              "  </tbody>\n",
              "</table>\n",
              "</div>\n",
              "    <div class=\"colab-df-buttons\">\n",
              "\n",
              "  <div class=\"colab-df-container\">\n",
              "    <button class=\"colab-df-convert\" onclick=\"convertToInteractive('df-36d19a13-2987-44ce-a3d0-06bfaff3d9e9')\"\n",
              "            title=\"Convert this dataframe to an interactive table.\"\n",
              "            style=\"display:none;\">\n",
              "\n",
              "  <svg xmlns=\"http://www.w3.org/2000/svg\" height=\"24px\" viewBox=\"0 -960 960 960\">\n",
              "    <path d=\"M120-120v-720h720v720H120Zm60-500h600v-160H180v160Zm220 220h160v-160H400v160Zm0 220h160v-160H400v160ZM180-400h160v-160H180v160Zm440 0h160v-160H620v160ZM180-180h160v-160H180v160Zm440 0h160v-160H620v160Z\"/>\n",
              "  </svg>\n",
              "    </button>\n",
              "\n",
              "  <style>\n",
              "    .colab-df-container {\n",
              "      display:flex;\n",
              "      gap: 12px;\n",
              "    }\n",
              "\n",
              "    .colab-df-convert {\n",
              "      background-color: #E8F0FE;\n",
              "      border: none;\n",
              "      border-radius: 50%;\n",
              "      cursor: pointer;\n",
              "      display: none;\n",
              "      fill: #1967D2;\n",
              "      height: 32px;\n",
              "      padding: 0 0 0 0;\n",
              "      width: 32px;\n",
              "    }\n",
              "\n",
              "    .colab-df-convert:hover {\n",
              "      background-color: #E2EBFA;\n",
              "      box-shadow: 0px 1px 2px rgba(60, 64, 67, 0.3), 0px 1px 3px 1px rgba(60, 64, 67, 0.15);\n",
              "      fill: #174EA6;\n",
              "    }\n",
              "\n",
              "    .colab-df-buttons div {\n",
              "      margin-bottom: 4px;\n",
              "    }\n",
              "\n",
              "    [theme=dark] .colab-df-convert {\n",
              "      background-color: #3B4455;\n",
              "      fill: #D2E3FC;\n",
              "    }\n",
              "\n",
              "    [theme=dark] .colab-df-convert:hover {\n",
              "      background-color: #434B5C;\n",
              "      box-shadow: 0px 1px 3px 1px rgba(0, 0, 0, 0.15);\n",
              "      filter: drop-shadow(0px 1px 2px rgba(0, 0, 0, 0.3));\n",
              "      fill: #FFFFFF;\n",
              "    }\n",
              "  </style>\n",
              "\n",
              "    <script>\n",
              "      const buttonEl =\n",
              "        document.querySelector('#df-36d19a13-2987-44ce-a3d0-06bfaff3d9e9 button.colab-df-convert');\n",
              "      buttonEl.style.display =\n",
              "        google.colab.kernel.accessAllowed ? 'block' : 'none';\n",
              "\n",
              "      async function convertToInteractive(key) {\n",
              "        const element = document.querySelector('#df-36d19a13-2987-44ce-a3d0-06bfaff3d9e9');\n",
              "        const dataTable =\n",
              "          await google.colab.kernel.invokeFunction('convertToInteractive',\n",
              "                                                    [key], {});\n",
              "        if (!dataTable) return;\n",
              "\n",
              "        const docLinkHtml = 'Like what you see? Visit the ' +\n",
              "          '<a target=\"_blank\" href=https://colab.research.google.com/notebooks/data_table.ipynb>data table notebook</a>'\n",
              "          + ' to learn more about interactive tables.';\n",
              "        element.innerHTML = '';\n",
              "        dataTable['output_type'] = 'display_data';\n",
              "        await google.colab.output.renderOutput(dataTable, element);\n",
              "        const docLink = document.createElement('div');\n",
              "        docLink.innerHTML = docLinkHtml;\n",
              "        element.appendChild(docLink);\n",
              "      }\n",
              "    </script>\n",
              "  </div>\n",
              "\n",
              "\n",
              "<div id=\"df-afa598e6-ec68-42b7-b7e9-90554af6f8af\">\n",
              "  <button class=\"colab-df-quickchart\" onclick=\"quickchart('df-afa598e6-ec68-42b7-b7e9-90554af6f8af')\"\n",
              "            title=\"Suggest charts\"\n",
              "            style=\"display:none;\">\n",
              "\n",
              "<svg xmlns=\"http://www.w3.org/2000/svg\" height=\"24px\"viewBox=\"0 0 24 24\"\n",
              "     width=\"24px\">\n",
              "    <g>\n",
              "        <path d=\"M19 3H5c-1.1 0-2 .9-2 2v14c0 1.1.9 2 2 2h14c1.1 0 2-.9 2-2V5c0-1.1-.9-2-2-2zM9 17H7v-7h2v7zm4 0h-2V7h2v10zm4 0h-2v-4h2v4z\"/>\n",
              "    </g>\n",
              "</svg>\n",
              "  </button>\n",
              "\n",
              "<style>\n",
              "  .colab-df-quickchart {\n",
              "      --bg-color: #E8F0FE;\n",
              "      --fill-color: #1967D2;\n",
              "      --hover-bg-color: #E2EBFA;\n",
              "      --hover-fill-color: #174EA6;\n",
              "      --disabled-fill-color: #AAA;\n",
              "      --disabled-bg-color: #DDD;\n",
              "  }\n",
              "\n",
              "  [theme=dark] .colab-df-quickchart {\n",
              "      --bg-color: #3B4455;\n",
              "      --fill-color: #D2E3FC;\n",
              "      --hover-bg-color: #434B5C;\n",
              "      --hover-fill-color: #FFFFFF;\n",
              "      --disabled-bg-color: #3B4455;\n",
              "      --disabled-fill-color: #666;\n",
              "  }\n",
              "\n",
              "  .colab-df-quickchart {\n",
              "    background-color: var(--bg-color);\n",
              "    border: none;\n",
              "    border-radius: 50%;\n",
              "    cursor: pointer;\n",
              "    display: none;\n",
              "    fill: var(--fill-color);\n",
              "    height: 32px;\n",
              "    padding: 0;\n",
              "    width: 32px;\n",
              "  }\n",
              "\n",
              "  .colab-df-quickchart:hover {\n",
              "    background-color: var(--hover-bg-color);\n",
              "    box-shadow: 0 1px 2px rgba(60, 64, 67, 0.3), 0 1px 3px 1px rgba(60, 64, 67, 0.15);\n",
              "    fill: var(--button-hover-fill-color);\n",
              "  }\n",
              "\n",
              "  .colab-df-quickchart-complete:disabled,\n",
              "  .colab-df-quickchart-complete:disabled:hover {\n",
              "    background-color: var(--disabled-bg-color);\n",
              "    fill: var(--disabled-fill-color);\n",
              "    box-shadow: none;\n",
              "  }\n",
              "\n",
              "  .colab-df-spinner {\n",
              "    border: 2px solid var(--fill-color);\n",
              "    border-color: transparent;\n",
              "    border-bottom-color: var(--fill-color);\n",
              "    animation:\n",
              "      spin 1s steps(1) infinite;\n",
              "  }\n",
              "\n",
              "  @keyframes spin {\n",
              "    0% {\n",
              "      border-color: transparent;\n",
              "      border-bottom-color: var(--fill-color);\n",
              "      border-left-color: var(--fill-color);\n",
              "    }\n",
              "    20% {\n",
              "      border-color: transparent;\n",
              "      border-left-color: var(--fill-color);\n",
              "      border-top-color: var(--fill-color);\n",
              "    }\n",
              "    30% {\n",
              "      border-color: transparent;\n",
              "      border-left-color: var(--fill-color);\n",
              "      border-top-color: var(--fill-color);\n",
              "      border-right-color: var(--fill-color);\n",
              "    }\n",
              "    40% {\n",
              "      border-color: transparent;\n",
              "      border-right-color: var(--fill-color);\n",
              "      border-top-color: var(--fill-color);\n",
              "    }\n",
              "    60% {\n",
              "      border-color: transparent;\n",
              "      border-right-color: var(--fill-color);\n",
              "    }\n",
              "    80% {\n",
              "      border-color: transparent;\n",
              "      border-right-color: var(--fill-color);\n",
              "      border-bottom-color: var(--fill-color);\n",
              "    }\n",
              "    90% {\n",
              "      border-color: transparent;\n",
              "      border-bottom-color: var(--fill-color);\n",
              "    }\n",
              "  }\n",
              "</style>\n",
              "\n",
              "  <script>\n",
              "    async function quickchart(key) {\n",
              "      const quickchartButtonEl =\n",
              "        document.querySelector('#' + key + ' button');\n",
              "      quickchartButtonEl.disabled = true;  // To prevent multiple clicks.\n",
              "      quickchartButtonEl.classList.add('colab-df-spinner');\n",
              "      try {\n",
              "        const charts = await google.colab.kernel.invokeFunction(\n",
              "            'suggestCharts', [key], {});\n",
              "      } catch (error) {\n",
              "        console.error('Error during call to suggestCharts:', error);\n",
              "      }\n",
              "      quickchartButtonEl.classList.remove('colab-df-spinner');\n",
              "      quickchartButtonEl.classList.add('colab-df-quickchart-complete');\n",
              "    }\n",
              "    (() => {\n",
              "      let quickchartButtonEl =\n",
              "        document.querySelector('#df-afa598e6-ec68-42b7-b7e9-90554af6f8af button');\n",
              "      quickchartButtonEl.style.display =\n",
              "        google.colab.kernel.accessAllowed ? 'block' : 'none';\n",
              "    })();\n",
              "  </script>\n",
              "</div>\n",
              "\n",
              "    </div>\n",
              "  </div>\n"
            ],
            "application/vnd.google.colaboratory.intrinsic+json": {
              "type": "dataframe",
              "variable_name": "waste_cases_by_month",
              "summary": "{\n  \"name\": \"waste_cases_by_month\",\n  \"rows\": 34,\n  \"fields\": [\n    {\n      \"column\": \"year\",\n      \"properties\": {\n        \"dtype\": \"number\",\n        \"std\": 1,\n        \"min\": 2014,\n        \"max\": 2018,\n        \"num_unique_values\": 4,\n        \"samples\": [\n          2015,\n          2018,\n          2014\n        ],\n        \"semantic_type\": \"\",\n        \"description\": \"\"\n      }\n    },\n    {\n      \"column\": \"month\",\n      \"properties\": {\n        \"dtype\": \"number\",\n        \"std\": 3,\n        \"min\": 1,\n        \"max\": 12,\n        \"num_unique_values\": 12,\n        \"samples\": [\n          9,\n          8,\n          11\n        ],\n        \"semantic_type\": \"\",\n        \"description\": \"\"\n      }\n    },\n    {\n      \"column\": \"number_of_contacts\",\n      \"properties\": {\n        \"dtype\": \"number\",\n        \"std\": 37832,\n        \"min\": 68762,\n        \"max\": 209366,\n        \"num_unique_values\": 34,\n        \"samples\": [\n          202290,\n          111048,\n          137577\n        ],\n        \"semantic_type\": \"\",\n        \"description\": \"\"\n      }\n    },\n    {\n      \"column\": \"date\",\n      \"properties\": {\n        \"dtype\": \"object\",\n        \"num_unique_values\": 34,\n        \"samples\": [\n          \"2016-02\",\n          \"2016-06\",\n          \"2018-03\"\n        ],\n        \"semantic_type\": \"\",\n        \"description\": \"\"\n      }\n    },\n    {\n      \"column\": \"waste_cases\",\n      \"properties\": {\n        \"dtype\": \"number\",\n        \"std\": 252,\n        \"min\": 191,\n        \"max\": 1092,\n        \"num_unique_values\": 32,\n        \"samples\": [\n          318,\n          960,\n          453\n        ],\n        \"semantic_type\": \"\",\n        \"description\": \"\"\n      }\n    }\n  ]\n}"
            }
          },
          "metadata": {},
          "execution_count": 115
        }
      ]
    },
    {
      "cell_type": "code",
      "source": [
        "# create scatter plot\n",
        "fig_scatter = px.scatter(waste_cases_by_month, x = 'number_of_contacts', y = 'waste_cases',\n",
        "                         labels = {'number_of_contacts': 'Number of Visitors',\n",
        "                                   'waste_cases': 'Waste Service Requests'},\n",
        "                         title = 'Relationship Between Visitor Numbers and Waste Service Requests')\n",
        "\n",
        "fig_scatter.show()"
      ],
      "metadata": {
        "colab": {
          "base_uri": "https://localhost:8080/",
          "height": 542
        },
        "id": "HSVpZAeyMP5b",
        "outputId": "48efb95b-487c-4668-fd4a-53c246e31941"
      },
      "execution_count": null,
      "outputs": [
        {
          "output_type": "display_data",
          "data": {
            "text/html": [
              "<html>\n",
              "<head><meta charset=\"utf-8\" /></head>\n",
              "<body>\n",
              "    <div>            <script src=\"https://cdnjs.cloudflare.com/ajax/libs/mathjax/2.7.5/MathJax.js?config=TeX-AMS-MML_SVG\"></script><script type=\"text/javascript\">if (window.MathJax && window.MathJax.Hub && window.MathJax.Hub.Config) {window.MathJax.Hub.Config({SVG: {font: \"STIX-Web\"}});}</script>                <script type=\"text/javascript\">window.PlotlyConfig = {MathJaxConfig: 'local'};</script>\n",
              "        <script charset=\"utf-8\" src=\"https://cdn.plot.ly/plotly-2.24.1.min.js\"></script>                <div id=\"c123440c-1506-48bc-bb1e-55a1a4a976a0\" class=\"plotly-graph-div\" style=\"height:525px; width:100%;\"></div>            <script type=\"text/javascript\">                                    window.PLOTLYENV=window.PLOTLYENV || {};                                    if (document.getElementById(\"c123440c-1506-48bc-bb1e-55a1a4a976a0\")) {                    Plotly.newPlot(                        \"c123440c-1506-48bc-bb1e-55a1a4a976a0\",                        [{\"hovertemplate\":\"Number of Visitors=%{x}\\u003cbr\\u003eWaste Service Requests=%{y}\\u003cextra\\u003e\\u003c\\u002fextra\\u003e\",\"legendgroup\":\"\",\"marker\":{\"color\":\"#636efa\",\"symbol\":\"circle\"},\"mode\":\"markers\",\"name\":\"\",\"orientation\":\"v\",\"showlegend\":false,\"x\":[164042,193392,206044,194113,205147,166348,126563,130338,170756,145456,146611,160415,185395,183543,209366,202290,180710,149826,118435,111048,153928,116621,134658,162973,163540,153271,141036,137577,118425,88165,84951,105188,90307,68762],\"xaxis\":\"x\",\"y\":[565,735,786,861,842,735,648,679,770,742,716,810,873,852,955,1010,955,960,1092,1037,894,1072,1006,812,191,423,453,403,368,371,344,318,325,630],\"yaxis\":\"y\",\"type\":\"scatter\"}],                        {\"template\":{\"data\":{\"histogram2dcontour\":[{\"type\":\"histogram2dcontour\",\"colorbar\":{\"outlinewidth\":0,\"ticks\":\"\"},\"colorscale\":[[0.0,\"#0d0887\"],[0.1111111111111111,\"#46039f\"],[0.2222222222222222,\"#7201a8\"],[0.3333333333333333,\"#9c179e\"],[0.4444444444444444,\"#bd3786\"],[0.5555555555555556,\"#d8576b\"],[0.6666666666666666,\"#ed7953\"],[0.7777777777777778,\"#fb9f3a\"],[0.8888888888888888,\"#fdca26\"],[1.0,\"#f0f921\"]]}],\"choropleth\":[{\"type\":\"choropleth\",\"colorbar\":{\"outlinewidth\":0,\"ticks\":\"\"}}],\"histogram2d\":[{\"type\":\"histogram2d\",\"colorbar\":{\"outlinewidth\":0,\"ticks\":\"\"},\"colorscale\":[[0.0,\"#0d0887\"],[0.1111111111111111,\"#46039f\"],[0.2222222222222222,\"#7201a8\"],[0.3333333333333333,\"#9c179e\"],[0.4444444444444444,\"#bd3786\"],[0.5555555555555556,\"#d8576b\"],[0.6666666666666666,\"#ed7953\"],[0.7777777777777778,\"#fb9f3a\"],[0.8888888888888888,\"#fdca26\"],[1.0,\"#f0f921\"]]}],\"heatmap\":[{\"type\":\"heatmap\",\"colorbar\":{\"outlinewidth\":0,\"ticks\":\"\"},\"colorscale\":[[0.0,\"#0d0887\"],[0.1111111111111111,\"#46039f\"],[0.2222222222222222,\"#7201a8\"],[0.3333333333333333,\"#9c179e\"],[0.4444444444444444,\"#bd3786\"],[0.5555555555555556,\"#d8576b\"],[0.6666666666666666,\"#ed7953\"],[0.7777777777777778,\"#fb9f3a\"],[0.8888888888888888,\"#fdca26\"],[1.0,\"#f0f921\"]]}],\"heatmapgl\":[{\"type\":\"heatmapgl\",\"colorbar\":{\"outlinewidth\":0,\"ticks\":\"\"},\"colorscale\":[[0.0,\"#0d0887\"],[0.1111111111111111,\"#46039f\"],[0.2222222222222222,\"#7201a8\"],[0.3333333333333333,\"#9c179e\"],[0.4444444444444444,\"#bd3786\"],[0.5555555555555556,\"#d8576b\"],[0.6666666666666666,\"#ed7953\"],[0.7777777777777778,\"#fb9f3a\"],[0.8888888888888888,\"#fdca26\"],[1.0,\"#f0f921\"]]}],\"contourcarpet\":[{\"type\":\"contourcarpet\",\"colorbar\":{\"outlinewidth\":0,\"ticks\":\"\"}}],\"contour\":[{\"type\":\"contour\",\"colorbar\":{\"outlinewidth\":0,\"ticks\":\"\"},\"colorscale\":[[0.0,\"#0d0887\"],[0.1111111111111111,\"#46039f\"],[0.2222222222222222,\"#7201a8\"],[0.3333333333333333,\"#9c179e\"],[0.4444444444444444,\"#bd3786\"],[0.5555555555555556,\"#d8576b\"],[0.6666666666666666,\"#ed7953\"],[0.7777777777777778,\"#fb9f3a\"],[0.8888888888888888,\"#fdca26\"],[1.0,\"#f0f921\"]]}],\"surface\":[{\"type\":\"surface\",\"colorbar\":{\"outlinewidth\":0,\"ticks\":\"\"},\"colorscale\":[[0.0,\"#0d0887\"],[0.1111111111111111,\"#46039f\"],[0.2222222222222222,\"#7201a8\"],[0.3333333333333333,\"#9c179e\"],[0.4444444444444444,\"#bd3786\"],[0.5555555555555556,\"#d8576b\"],[0.6666666666666666,\"#ed7953\"],[0.7777777777777778,\"#fb9f3a\"],[0.8888888888888888,\"#fdca26\"],[1.0,\"#f0f921\"]]}],\"mesh3d\":[{\"type\":\"mesh3d\",\"colorbar\":{\"outlinewidth\":0,\"ticks\":\"\"}}],\"scatter\":[{\"fillpattern\":{\"fillmode\":\"overlay\",\"size\":10,\"solidity\":0.2},\"type\":\"scatter\"}],\"parcoords\":[{\"type\":\"parcoords\",\"line\":{\"colorbar\":{\"outlinewidth\":0,\"ticks\":\"\"}}}],\"scatterpolargl\":[{\"type\":\"scatterpolargl\",\"marker\":{\"colorbar\":{\"outlinewidth\":0,\"ticks\":\"\"}}}],\"bar\":[{\"error_x\":{\"color\":\"#2a3f5f\"},\"error_y\":{\"color\":\"#2a3f5f\"},\"marker\":{\"line\":{\"color\":\"#E5ECF6\",\"width\":0.5},\"pattern\":{\"fillmode\":\"overlay\",\"size\":10,\"solidity\":0.2}},\"type\":\"bar\"}],\"scattergeo\":[{\"type\":\"scattergeo\",\"marker\":{\"colorbar\":{\"outlinewidth\":0,\"ticks\":\"\"}}}],\"scatterpolar\":[{\"type\":\"scatterpolar\",\"marker\":{\"colorbar\":{\"outlinewidth\":0,\"ticks\":\"\"}}}],\"histogram\":[{\"marker\":{\"pattern\":{\"fillmode\":\"overlay\",\"size\":10,\"solidity\":0.2}},\"type\":\"histogram\"}],\"scattergl\":[{\"type\":\"scattergl\",\"marker\":{\"colorbar\":{\"outlinewidth\":0,\"ticks\":\"\"}}}],\"scatter3d\":[{\"type\":\"scatter3d\",\"line\":{\"colorbar\":{\"outlinewidth\":0,\"ticks\":\"\"}},\"marker\":{\"colorbar\":{\"outlinewidth\":0,\"ticks\":\"\"}}}],\"scattermapbox\":[{\"type\":\"scattermapbox\",\"marker\":{\"colorbar\":{\"outlinewidth\":0,\"ticks\":\"\"}}}],\"scatterternary\":[{\"type\":\"scatterternary\",\"marker\":{\"colorbar\":{\"outlinewidth\":0,\"ticks\":\"\"}}}],\"scattercarpet\":[{\"type\":\"scattercarpet\",\"marker\":{\"colorbar\":{\"outlinewidth\":0,\"ticks\":\"\"}}}],\"carpet\":[{\"aaxis\":{\"endlinecolor\":\"#2a3f5f\",\"gridcolor\":\"white\",\"linecolor\":\"white\",\"minorgridcolor\":\"white\",\"startlinecolor\":\"#2a3f5f\"},\"baxis\":{\"endlinecolor\":\"#2a3f5f\",\"gridcolor\":\"white\",\"linecolor\":\"white\",\"minorgridcolor\":\"white\",\"startlinecolor\":\"#2a3f5f\"},\"type\":\"carpet\"}],\"table\":[{\"cells\":{\"fill\":{\"color\":\"#EBF0F8\"},\"line\":{\"color\":\"white\"}},\"header\":{\"fill\":{\"color\":\"#C8D4E3\"},\"line\":{\"color\":\"white\"}},\"type\":\"table\"}],\"barpolar\":[{\"marker\":{\"line\":{\"color\":\"#E5ECF6\",\"width\":0.5},\"pattern\":{\"fillmode\":\"overlay\",\"size\":10,\"solidity\":0.2}},\"type\":\"barpolar\"}],\"pie\":[{\"automargin\":true,\"type\":\"pie\"}]},\"layout\":{\"autotypenumbers\":\"strict\",\"colorway\":[\"#636efa\",\"#EF553B\",\"#00cc96\",\"#ab63fa\",\"#FFA15A\",\"#19d3f3\",\"#FF6692\",\"#B6E880\",\"#FF97FF\",\"#FECB52\"],\"font\":{\"color\":\"#2a3f5f\"},\"hovermode\":\"closest\",\"hoverlabel\":{\"align\":\"left\"},\"paper_bgcolor\":\"white\",\"plot_bgcolor\":\"#E5ECF6\",\"polar\":{\"bgcolor\":\"#E5ECF6\",\"angularaxis\":{\"gridcolor\":\"white\",\"linecolor\":\"white\",\"ticks\":\"\"},\"radialaxis\":{\"gridcolor\":\"white\",\"linecolor\":\"white\",\"ticks\":\"\"}},\"ternary\":{\"bgcolor\":\"#E5ECF6\",\"aaxis\":{\"gridcolor\":\"white\",\"linecolor\":\"white\",\"ticks\":\"\"},\"baxis\":{\"gridcolor\":\"white\",\"linecolor\":\"white\",\"ticks\":\"\"},\"caxis\":{\"gridcolor\":\"white\",\"linecolor\":\"white\",\"ticks\":\"\"}},\"coloraxis\":{\"colorbar\":{\"outlinewidth\":0,\"ticks\":\"\"}},\"colorscale\":{\"sequential\":[[0.0,\"#0d0887\"],[0.1111111111111111,\"#46039f\"],[0.2222222222222222,\"#7201a8\"],[0.3333333333333333,\"#9c179e\"],[0.4444444444444444,\"#bd3786\"],[0.5555555555555556,\"#d8576b\"],[0.6666666666666666,\"#ed7953\"],[0.7777777777777778,\"#fb9f3a\"],[0.8888888888888888,\"#fdca26\"],[1.0,\"#f0f921\"]],\"sequentialminus\":[[0.0,\"#0d0887\"],[0.1111111111111111,\"#46039f\"],[0.2222222222222222,\"#7201a8\"],[0.3333333333333333,\"#9c179e\"],[0.4444444444444444,\"#bd3786\"],[0.5555555555555556,\"#d8576b\"],[0.6666666666666666,\"#ed7953\"],[0.7777777777777778,\"#fb9f3a\"],[0.8888888888888888,\"#fdca26\"],[1.0,\"#f0f921\"]],\"diverging\":[[0,\"#8e0152\"],[0.1,\"#c51b7d\"],[0.2,\"#de77ae\"],[0.3,\"#f1b6da\"],[0.4,\"#fde0ef\"],[0.5,\"#f7f7f7\"],[0.6,\"#e6f5d0\"],[0.7,\"#b8e186\"],[0.8,\"#7fbc41\"],[0.9,\"#4d9221\"],[1,\"#276419\"]]},\"xaxis\":{\"gridcolor\":\"white\",\"linecolor\":\"white\",\"ticks\":\"\",\"title\":{\"standoff\":15},\"zerolinecolor\":\"white\",\"automargin\":true,\"zerolinewidth\":2},\"yaxis\":{\"gridcolor\":\"white\",\"linecolor\":\"white\",\"ticks\":\"\",\"title\":{\"standoff\":15},\"zerolinecolor\":\"white\",\"automargin\":true,\"zerolinewidth\":2},\"scene\":{\"xaxis\":{\"backgroundcolor\":\"#E5ECF6\",\"gridcolor\":\"white\",\"linecolor\":\"white\",\"showbackground\":true,\"ticks\":\"\",\"zerolinecolor\":\"white\",\"gridwidth\":2},\"yaxis\":{\"backgroundcolor\":\"#E5ECF6\",\"gridcolor\":\"white\",\"linecolor\":\"white\",\"showbackground\":true,\"ticks\":\"\",\"zerolinecolor\":\"white\",\"gridwidth\":2},\"zaxis\":{\"backgroundcolor\":\"#E5ECF6\",\"gridcolor\":\"white\",\"linecolor\":\"white\",\"showbackground\":true,\"ticks\":\"\",\"zerolinecolor\":\"white\",\"gridwidth\":2}},\"shapedefaults\":{\"line\":{\"color\":\"#2a3f5f\"}},\"annotationdefaults\":{\"arrowcolor\":\"#2a3f5f\",\"arrowhead\":0,\"arrowwidth\":1},\"geo\":{\"bgcolor\":\"white\",\"landcolor\":\"#E5ECF6\",\"subunitcolor\":\"white\",\"showland\":true,\"showlakes\":true,\"lakecolor\":\"white\"},\"title\":{\"x\":0.05},\"mapbox\":{\"style\":\"light\"}}},\"xaxis\":{\"anchor\":\"y\",\"domain\":[0.0,1.0],\"title\":{\"text\":\"Number of Visitors\"}},\"yaxis\":{\"anchor\":\"x\",\"domain\":[0.0,1.0],\"title\":{\"text\":\"Waste Service Requests\"}},\"legend\":{\"tracegroupgap\":0},\"title\":{\"text\":\"Relationship Between Visitor Numbers and Waste Service Requests\"}},                        {\"responsive\": true}                    ).then(function(){\n",
              "                            \n",
              "var gd = document.getElementById('c123440c-1506-48bc-bb1e-55a1a4a976a0');\n",
              "var x = new MutationObserver(function (mutations, observer) {{\n",
              "        var display = window.getComputedStyle(gd).display;\n",
              "        if (!display || display === 'none') {{\n",
              "            console.log([gd, 'removed!']);\n",
              "            Plotly.purge(gd);\n",
              "            observer.disconnect();\n",
              "        }}\n",
              "}});\n",
              "\n",
              "// Listen for the removal of the full notebook cells\n",
              "var notebookContainer = gd.closest('#notebook-container');\n",
              "if (notebookContainer) {{\n",
              "    x.observe(notebookContainer, {childList: true});\n",
              "}}\n",
              "\n",
              "// Listen for the clearing of the current output cell\n",
              "var outputEl = gd.closest('.output');\n",
              "if (outputEl) {{\n",
              "    x.observe(outputEl, {childList: true});\n",
              "}}\n",
              "\n",
              "                        })                };                            </script>        </div>\n",
              "</body>\n",
              "</html>"
            ]
          },
          "metadata": {}
        }
      ]
    }
  ]
}