{
 "cells": [
  {
   "cell_type": "code",
   "execution_count": 42,
   "metadata": {},
   "outputs": [
    {
     "data": {
      "text/html": [
       "\n",
       "<style>\n",
       ".usecase-title, .usecase-duration, .usecase-section-header {\n",
       "    padding-left: 15px;\n",
       "    padding-bottom: 10px;\n",
       "    padding-top: 10px;\n",
       "    padding-right: 15px;\n",
       "    background-color: #0f9295;\n",
       "    color: #fff;\n",
       "}\n",
       "\n",
       ".usecase-title {\n",
       "    font-size: 1.7em;\n",
       "    font-weight: bold;\n",
       "}\n",
       "\n",
       ".usecase-authors, .usecase-level, .usecase-skill {\n",
       "    padding-left: 15px;\n",
       "    padding-bottom: 7px;\n",
       "    padding-top: 7px;\n",
       "    background-color: #baeaeb;\n",
       "    font-size: 1.4em;\n",
       "    color: #121212;\n",
       "}\n",
       "\n",
       ".usecase-level-skill  {\n",
       "    display: flex;\n",
       "}\n",
       "\n",
       ".usecase-level, .usecase-skill {\n",
       "    width: 50%;\n",
       "}\n",
       "\n",
       ".usecase-duration, .usecase-skill {\n",
       "    text-align: right;\n",
       "    padding-right: 15px;\n",
       "    padding-bottom: 8px;\n",
       "    font-size: 1.4em;\n",
       "}\n",
       "\n",
       ".usecase-section-header {\n",
       "    font-weight: bold;\n",
       "    font-size: 1.5em;\n",
       "}\n",
       "\n",
       ".usecase-subsection-header, .usecase-subsection-blurb {\n",
       "    font-weight: bold;\n",
       "    font-size: 1.2em;\n",
       "    color: #121212;\n",
       "}\n",
       "\n",
       ".usecase-subsection-blurb {\n",
       "    font-size: 1em;\n",
       "    font-style: italic;\n",
       "}\n",
       "</style>\n"
      ],
      "text/plain": [
       "<IPython.core.display.HTML object>"
      ]
     },
     "execution_count": 42,
     "metadata": {},
     "output_type": "execute_result"
    }
   ],
   "source": [
    "# DELETE BEFORE PUBLISHING\n",
    "# This is just here so you can preview the styling on your local machine\n",
    "\n",
    "from IPython.core.display import HTML\n",
    "HTML(\"\"\"\n",
    "<style>\n",
    ".usecase-title, .usecase-duration, .usecase-section-header {\n",
    "    padding-left: 15px;\n",
    "    padding-bottom: 10px;\n",
    "    padding-top: 10px;\n",
    "    padding-right: 15px;\n",
    "    background-color: #0f9295;\n",
    "    color: #fff;\n",
    "}\n",
    "\n",
    ".usecase-title {\n",
    "    font-size: 1.7em;\n",
    "    font-weight: bold;\n",
    "}\n",
    "\n",
    ".usecase-authors, .usecase-level, .usecase-skill {\n",
    "    padding-left: 15px;\n",
    "    padding-bottom: 7px;\n",
    "    padding-top: 7px;\n",
    "    background-color: #baeaeb;\n",
    "    font-size: 1.4em;\n",
    "    color: #121212;\n",
    "}\n",
    "\n",
    ".usecase-level-skill  {\n",
    "    display: flex;\n",
    "}\n",
    "\n",
    ".usecase-level, .usecase-skill {\n",
    "    width: 50%;\n",
    "}\n",
    "\n",
    ".usecase-duration, .usecase-skill {\n",
    "    text-align: right;\n",
    "    padding-right: 15px;\n",
    "    padding-bottom: 8px;\n",
    "    font-size: 1.4em;\n",
    "}\n",
    "\n",
    ".usecase-section-header {\n",
    "    font-weight: bold;\n",
    "    font-size: 1.5em;\n",
    "}\n",
    "\n",
    ".usecase-subsection-header, .usecase-subsection-blurb {\n",
    "    font-weight: bold;\n",
    "    font-size: 1.2em;\n",
    "    color: #121212;\n",
    "}\n",
    "\n",
    ".usecase-subsection-blurb {\n",
    "    font-size: 1em;\n",
    "    font-style: italic;\n",
    "}\n",
    "</style>\n",
    "\"\"\")"
   ]
  },
  {
   "cell_type": "markdown",
   "metadata": {},
   "source": [
    "<div class=\"usecase-title\">Population and Job forecasting </div>\n",
    "\n",
    "<div class=\"usecase-authors\"><b>Authored by: Rhutuvaruni Kharade and Tharusha Chao</div>"
   ]
  },
  {
   "cell_type": "markdown",
   "metadata": {},
   "source": [
    "<div class=\"usecase-duration\"><b>Duration:</b> 100 mins</div>\n",
    "\n",
    "<div class=\"usecase-level-skill\">\n",
    "    <div class=\"usecase-level\"><b>Level: </b>Intermediate</div>\n",
    "    <div class=\"usecase-skill\"><b>Pre-requisite Skills: </b>Python, PowerBI, Tableau</div>\n",
    "</div>"
   ]
  },
  {
   "cell_type": "markdown",
   "metadata": {},
   "source": [
    "<div class=\"usecase-section-header\">Scenario</div>"
   ]
  },
  {
   "cell_type": "markdown",
   "metadata": {},
   "source": [
    "<b>As a citizen and a job seeker, I want to find a job in the field that currently has a lot of demand in this area. </b>\n",
    "Job seekers are often worried about which jobs are in high demand or in low demand? Which industry will have higher number of jobs in future ? Which areas have highest numbers of jobs based on a particular industry ? Its important for them to know which jobs they should study for and which city has highest concentration of such jobs so they can plan their living and stay in such areas. By understanding the number of jobs based on a cities, job seekers can ensure that they can get a job or live in close vicinity of that job if they live in a particular areas. \n",
    "\n",
    "<b>As a business owner I want to establish my business where there is a high demand for my service. I want to make sure that the city I am planning to establish my business in has a higher population so I can attract more customers and potential candidates to work for my company. </b>\n",
    "Business owners need to know in which city they should establish their company in. This is based on the population of the area. Number of people living in a particular area can motivate business owners to have their business in such locations. This will also attract many job seekers in these places which will help the businesses find the right candidates (employees) to work for them. \n",
    "\n"
   ]
  },
  {
   "cell_type": "markdown",
   "metadata": {},
   "source": [
    "<div class=\"usecase-section-header\">What this use case will teach you</div>"
   ]
  },
  {
   "cell_type": "markdown",
   "metadata": {},
   "source": [
    "At the end of this use case you will - \n",
    "- Learn how to make open the data in the form of pandas dataframe and save it for futher use.\n",
    "- Have learned how to clean, transform, analyze, visualize data and report outcomes (findings) effectively.\n",
    "- Use the data to create effective visualization like scatterplots, heatmaps, histograms, etc to aid an understanding of the data to technical and non-technical readers\n",
    "- using dashboards for effective story telling to both techical and non-technical audiences. \n",
    "- Using version control tools to collaborate and contribute to the project//\n"
   ]
  },
  {
   "cell_type": "markdown",
   "metadata": {},
   "source": [
    "<div class=\"usecase-section-header\">Introduction</div>"
   ]
  },
  {
   "cell_type": "markdown",
   "metadata": {},
   "source": [
    "<div class=\"usecase-section-header\">Datasets Used </div>"
   ]
  },
  {
   "cell_type": "markdown",
   "metadata": {},
   "source": [
    "<div class=\"usecase-section-header\">Roadmap</div>"
   ]
  },
  {
   "cell_type": "markdown",
   "metadata": {},
   "source": [
    "<div class=\"usecase-section-header\">Importing libraries </div>"
   ]
  },
  {
   "cell_type": "code",
   "execution_count": 49,
   "metadata": {},
   "outputs": [],
   "source": [
    "# importing libraries \n",
    "import pandas as pd \n",
    "import seaborn as sns \n",
    "import numpy as np "
   ]
  },
  {
   "cell_type": "markdown",
   "metadata": {},
   "source": [
    "<div class=\"usecase-section-header\">Connecting to Dataset and Testing </div>"
   ]
  },
  {
   "cell_type": "code",
   "execution_count": 50,
   "metadata": {},
   "outputs": [],
   "source": [
    "# aim : api stuff, creating requests and parsing json \n",
    "# job data - City of Melbourne Jobs Forecasts by Small Area 2021-2041\n",
    "job_data_link = 'https://data.melbourne.vic.gov.au/api/explore/v2.1/catalog/datasets/city-of-melbourne-jobs-forecasts-by-small-area-2020-2040/records?limit=20'\n",
    "req = requests.get(job_data_link)\n",
    "res = req.json()['results']\n",
    "job = pd.DataFrame(res)\n",
    "\n",
    "# population data - City of Melbourne Population Forecasts by Small Area 2021-2041\n",
    "pop_data_link = 'https://data.melbourne.vic.gov.au/api/explore/v2.1/catalog/datasets/city-of-melbourne-population-forecasts-by-small-area-2020-2040/records?limit=20'\n",
    "req = requests.get(pop_data_link)\n",
    "res = req.json()['results']\n",
    "pop = pd.DataFrame(res)\n",
    "\n",
    "# REFS\n",
    "# https://www.dataquest.io/blog/python-api-tutorial/\n",
    "# https://www.youtube.com/watch?v=SNv7E-cXCu0&t=295s"
   ]
  },
  {
   "cell_type": "markdown",
   "metadata": {},
   "source": [
    "This project focuses on finding the relationship between jobs and population. Jobs in different industry impact the population in the area. This project will look at this impact and will also give reader a brief idea about how population changes with respect to the number of jobs in a particular area. The data is sourced from City of Melbourne Open Data which is open source and will be used throughout this project. The dataset will be cleaned, transformed, analyzed, visualized and finally relevant insights will be reported and documented. These findings will help stakeholders, policy makers and other readers for futher decision making.  \n"
   ]
  },
  {
   "cell_type": "code",
   "execution_count": 46,
   "metadata": {},
   "outputs": [
    {
     "data": {
      "text/html": [
       "<div>\n",
       "<style scoped>\n",
       "    .dataframe tbody tr th:only-of-type {\n",
       "        vertical-align: middle;\n",
       "    }\n",
       "\n",
       "    .dataframe tbody tr th {\n",
       "        vertical-align: top;\n",
       "    }\n",
       "\n",
       "    .dataframe thead th {\n",
       "        text-align: right;\n",
       "    }\n",
       "</style>\n",
       "<table border=\"1\" class=\"dataframe\">\n",
       "  <thead>\n",
       "    <tr style=\"text-align: right;\">\n",
       "      <th></th>\n",
       "      <th>geography</th>\n",
       "      <th>year</th>\n",
       "      <th>category</th>\n",
       "      <th>industry_space_use</th>\n",
       "      <th>value</th>\n",
       "    </tr>\n",
       "  </thead>\n",
       "  <tbody>\n",
       "    <tr>\n",
       "      <th>0</th>\n",
       "      <td>City of Melbourne</td>\n",
       "      <td>2023</td>\n",
       "      <td>Jobs by industry</td>\n",
       "      <td>Accommodation</td>\n",
       "      <td>10286</td>\n",
       "    </tr>\n",
       "    <tr>\n",
       "      <th>1</th>\n",
       "      <td>City of Melbourne</td>\n",
       "      <td>2026</td>\n",
       "      <td>Jobs by industry</td>\n",
       "      <td>Accommodation</td>\n",
       "      <td>11631</td>\n",
       "    </tr>\n",
       "    <tr>\n",
       "      <th>2</th>\n",
       "      <td>City of Melbourne</td>\n",
       "      <td>2032</td>\n",
       "      <td>Jobs by industry</td>\n",
       "      <td>Accommodation</td>\n",
       "      <td>13207</td>\n",
       "    </tr>\n",
       "    <tr>\n",
       "      <th>3</th>\n",
       "      <td>City of Melbourne</td>\n",
       "      <td>2034</td>\n",
       "      <td>Jobs by industry</td>\n",
       "      <td>Accommodation</td>\n",
       "      <td>13420</td>\n",
       "    </tr>\n",
       "    <tr>\n",
       "      <th>4</th>\n",
       "      <td>City of Melbourne</td>\n",
       "      <td>2035</td>\n",
       "      <td>Jobs by industry</td>\n",
       "      <td>Accommodation</td>\n",
       "      <td>13529</td>\n",
       "    </tr>\n",
       "    <tr>\n",
       "      <th>5</th>\n",
       "      <td>City of Melbourne</td>\n",
       "      <td>2021</td>\n",
       "      <td>Jobs by industry</td>\n",
       "      <td>Admin and support services</td>\n",
       "      <td>15813</td>\n",
       "    </tr>\n",
       "    <tr>\n",
       "      <th>6</th>\n",
       "      <td>City of Melbourne</td>\n",
       "      <td>2025</td>\n",
       "      <td>Jobs by industry</td>\n",
       "      <td>Admin and support services</td>\n",
       "      <td>17852</td>\n",
       "    </tr>\n",
       "    <tr>\n",
       "      <th>7</th>\n",
       "      <td>City of Melbourne</td>\n",
       "      <td>2026</td>\n",
       "      <td>Jobs by industry</td>\n",
       "      <td>Admin and support services</td>\n",
       "      <td>18361</td>\n",
       "    </tr>\n",
       "    <tr>\n",
       "      <th>8</th>\n",
       "      <td>City of Melbourne</td>\n",
       "      <td>2032</td>\n",
       "      <td>Jobs by industry</td>\n",
       "      <td>Admin and support services</td>\n",
       "      <td>20098</td>\n",
       "    </tr>\n",
       "    <tr>\n",
       "      <th>9</th>\n",
       "      <td>City of Melbourne</td>\n",
       "      <td>2035</td>\n",
       "      <td>Jobs by industry</td>\n",
       "      <td>Admin and support services</td>\n",
       "      <td>21208</td>\n",
       "    </tr>\n",
       "  </tbody>\n",
       "</table>\n",
       "</div>"
      ],
      "text/plain": [
       "           geography  year          category          industry_space_use  \\\n",
       "0  City of Melbourne  2023  Jobs by industry               Accommodation   \n",
       "1  City of Melbourne  2026  Jobs by industry               Accommodation   \n",
       "2  City of Melbourne  2032  Jobs by industry               Accommodation   \n",
       "3  City of Melbourne  2034  Jobs by industry               Accommodation   \n",
       "4  City of Melbourne  2035  Jobs by industry               Accommodation   \n",
       "5  City of Melbourne  2021  Jobs by industry  Admin and support services   \n",
       "6  City of Melbourne  2025  Jobs by industry  Admin and support services   \n",
       "7  City of Melbourne  2026  Jobs by industry  Admin and support services   \n",
       "8  City of Melbourne  2032  Jobs by industry  Admin and support services   \n",
       "9  City of Melbourne  2035  Jobs by industry  Admin and support services   \n",
       "\n",
       "   value  \n",
       "0  10286  \n",
       "1  11631  \n",
       "2  13207  \n",
       "3  13420  \n",
       "4  13529  \n",
       "5  15813  \n",
       "6  17852  \n",
       "7  18361  \n",
       "8  20098  \n",
       "9  21208  "
      ]
     },
     "execution_count": 46,
     "metadata": {},
     "output_type": "execute_result"
    }
   ],
   "source": [
    "job.head(10)"
   ]
  },
  {
   "cell_type": "code",
   "execution_count": 73,
   "metadata": {},
   "outputs": [
    {
     "name": "stdout",
     "output_type": "stream",
     "text": [
      "<class 'pandas.core.frame.DataFrame'>\n",
      "RangeIndex: 20 entries, 0 to 19\n",
      "Data columns (total 5 columns):\n",
      " #   Column              Non-Null Count  Dtype \n",
      "---  ------              --------------  ----- \n",
      " 0   geography           20 non-null     object\n",
      " 1   year                20 non-null     object\n",
      " 2   category            20 non-null     object\n",
      " 3   industry_space_use  20 non-null     object\n",
      " 4   value               20 non-null     int64 \n",
      "dtypes: int64(1), object(4)\n",
      "memory usage: 932.0+ bytes\n"
     ]
    }
   ],
   "source": [
    "job.info()\n"
   ]
  },
  {
   "cell_type": "markdown",
   "metadata": {},
   "source": [
    "<div class=\"usecase-section-header\">About Jobs Forecast Dataset. </div>"
   ]
  },
  {
   "cell_type": "markdown",
   "metadata": {},
   "source": [
    "<p>This dataset provides jobs forecasts by single year for 2021 to 2041. Prepared by SGS Economics and Planning (Jan-Jun 2022), forecasts are available for the municipality and small areas, as well as by industry and space use type.\n",
    "\n",
    "The dataset contains the following variables (features): \n",
    "<ul>\n",
    "    <li> <b>geography:</b> Geographical area (Melbourne LGA or small areas used for the City of Melbourne's CLUE analysis). Small areas mostly correspond to traditional suburb boundaries. This is a categorical variable of type <b>object</b>\n",
    "    </li><hr>    \n",
    "    <li>\n",
    "        <b>year:</b> This variables shows the year the job were created. This is a numerical variable of type <b>object</b>  \n",
    "    </li><hr>\n",
    "    <li>\n",
    "        <b>category:</b> This variables shows the category of the job that was created in that particular year. This is a numerical variable of type <b>object</b>  \n",
    "    </li><hr>\n",
    "</ul>\n",
    "</p>"
   ]
  },
  {
   "cell_type": "code",
   "execution_count": 47,
   "metadata": {},
   "outputs": [
    {
     "data": {
      "text/html": [
       "<div>\n",
       "<style scoped>\n",
       "    .dataframe tbody tr th:only-of-type {\n",
       "        vertical-align: middle;\n",
       "    }\n",
       "\n",
       "    .dataframe tbody tr th {\n",
       "        vertical-align: top;\n",
       "    }\n",
       "\n",
       "    .dataframe thead th {\n",
       "        text-align: right;\n",
       "    }\n",
       "</style>\n",
       "<table border=\"1\" class=\"dataframe\">\n",
       "  <thead>\n",
       "    <tr style=\"text-align: right;\">\n",
       "      <th></th>\n",
       "      <th>geography</th>\n",
       "      <th>year</th>\n",
       "      <th>gender</th>\n",
       "      <th>age</th>\n",
       "      <th>value</th>\n",
       "    </tr>\n",
       "  </thead>\n",
       "  <tbody>\n",
       "    <tr>\n",
       "      <th>0</th>\n",
       "      <td>City of Melbourne</td>\n",
       "      <td>2022</td>\n",
       "      <td>Female</td>\n",
       "      <td>Age 0-4</td>\n",
       "      <td>2212</td>\n",
       "    </tr>\n",
       "    <tr>\n",
       "      <th>1</th>\n",
       "      <td>City of Melbourne</td>\n",
       "      <td>2024</td>\n",
       "      <td>Female</td>\n",
       "      <td>Age 0-4</td>\n",
       "      <td>2818</td>\n",
       "    </tr>\n",
       "    <tr>\n",
       "      <th>2</th>\n",
       "      <td>City of Melbourne</td>\n",
       "      <td>2029</td>\n",
       "      <td>Female</td>\n",
       "      <td>Age 0-4</td>\n",
       "      <td>4310</td>\n",
       "    </tr>\n",
       "    <tr>\n",
       "      <th>3</th>\n",
       "      <td>City of Melbourne</td>\n",
       "      <td>2031</td>\n",
       "      <td>Female</td>\n",
       "      <td>Age 0-4</td>\n",
       "      <td>4736</td>\n",
       "    </tr>\n",
       "    <tr>\n",
       "      <th>4</th>\n",
       "      <td>City of Melbourne</td>\n",
       "      <td>2032</td>\n",
       "      <td>Female</td>\n",
       "      <td>Age 0-4</td>\n",
       "      <td>4931</td>\n",
       "    </tr>\n",
       "    <tr>\n",
       "      <th>5</th>\n",
       "      <td>City of Melbourne</td>\n",
       "      <td>2033</td>\n",
       "      <td>Female</td>\n",
       "      <td>Age 0-4</td>\n",
       "      <td>5102</td>\n",
       "    </tr>\n",
       "    <tr>\n",
       "      <th>6</th>\n",
       "      <td>City of Melbourne</td>\n",
       "      <td>2035</td>\n",
       "      <td>Female</td>\n",
       "      <td>Age 0-4</td>\n",
       "      <td>5352</td>\n",
       "    </tr>\n",
       "    <tr>\n",
       "      <th>7</th>\n",
       "      <td>City of Melbourne</td>\n",
       "      <td>2036</td>\n",
       "      <td>Female</td>\n",
       "      <td>Age 0-4</td>\n",
       "      <td>5433</td>\n",
       "    </tr>\n",
       "    <tr>\n",
       "      <th>8</th>\n",
       "      <td>City of Melbourne</td>\n",
       "      <td>2041</td>\n",
       "      <td>Female</td>\n",
       "      <td>Age 0-4</td>\n",
       "      <td>5808</td>\n",
       "    </tr>\n",
       "    <tr>\n",
       "      <th>9</th>\n",
       "      <td>City of Melbourne</td>\n",
       "      <td>2022</td>\n",
       "      <td>Male</td>\n",
       "      <td>Age 0-4</td>\n",
       "      <td>2399</td>\n",
       "    </tr>\n",
       "  </tbody>\n",
       "</table>\n",
       "</div>"
      ],
      "text/plain": [
       "           geography  year  gender      age  value\n",
       "0  City of Melbourne  2022  Female  Age 0-4   2212\n",
       "1  City of Melbourne  2024  Female  Age 0-4   2818\n",
       "2  City of Melbourne  2029  Female  Age 0-4   4310\n",
       "3  City of Melbourne  2031  Female  Age 0-4   4736\n",
       "4  City of Melbourne  2032  Female  Age 0-4   4931\n",
       "5  City of Melbourne  2033  Female  Age 0-4   5102\n",
       "6  City of Melbourne  2035  Female  Age 0-4   5352\n",
       "7  City of Melbourne  2036  Female  Age 0-4   5433\n",
       "8  City of Melbourne  2041  Female  Age 0-4   5808\n",
       "9  City of Melbourne  2022    Male  Age 0-4   2399"
      ]
     },
     "execution_count": 47,
     "metadata": {},
     "output_type": "execute_result"
    }
   ],
   "source": [
    "pop.head(10)"
   ]
  },
  {
   "cell_type": "code",
   "execution_count": null,
   "metadata": {},
   "outputs": [],
   "source": []
  },
  {
   "cell_type": "code",
   "execution_count": null,
   "metadata": {},
   "outputs": [],
   "source": []
  },
  {
   "cell_type": "code",
   "execution_count": null,
   "metadata": {},
   "outputs": [],
   "source": []
  },
  {
   "cell_type": "code",
   "execution_count": null,
   "metadata": {},
   "outputs": [],
   "source": []
  },
  {
   "cell_type": "markdown",
   "metadata": {},
   "source": [
    "<div class=\"usecase-section-header\">References</div>\n",
    "<ul>\n",
    "    <li></li>\n",
    "</ul>"
   ]
  },
  {
   "cell_type": "markdown",
   "metadata": {},
   "source": [
    "<h3> Rhuth's Work Above </h3>\n",
    "<h1>MAIN SECTION </h1> \n",
    "<h3> Tharusha's Work Below </h3>"
   ]
  },
  {
   "cell_type": "markdown",
   "metadata": {},
   "source": []
  },
  {
   "cell_type": "code",
   "execution_count": 1,
   "metadata": {},
   "outputs": [
    {
     "name": "stdout",
     "output_type": "stream",
     "text": [
      "HELLO THIS CHANGE IS FROM THARUSHA CAO , SEE ME\n"
     ]
    }
   ],
   "source": [
    "print(\"HELLO THIS CHANGE IS FROM THARUSHA CAO , SEE ME\")"
   ]
  }
 ],
 "metadata": {
  "kernelspec": {
   "display_name": "Python 3 (ipykernel)",
   "language": "python",
   "name": "python3"
  },
  "language_info": {
   "codemirror_mode": {
    "name": "ipython",
    "version": 3
   },
   "file_extension": ".py",
   "mimetype": "text/x-python",
   "name": "python",
   "nbconvert_exporter": "python",
   "pygments_lexer": "ipython3",
   "version": "3.11.2"
  },
  "vscode": {
   "interpreter": {
    "hash": "ad2bdc8ecc057115af97d19610ffacc2b4e99fae6737bb82f5d7fb13d2f2c186"
   }
  }
 },
 "nbformat": 4,
 "nbformat_minor": 4
}
