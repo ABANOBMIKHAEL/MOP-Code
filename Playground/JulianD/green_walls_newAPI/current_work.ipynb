{
 "cells": [
  {
   "cell_type": "code",
   "execution_count": 2,
   "id": "398350df",
   "metadata": {},
   "outputs": [],
   "source": [
    "#File manipulation\n",
    "import os\n",
    "from datetime import datetime\n",
    "\n",
    "#Data manipulation\n",
    "import requests\n",
    "import numpy as np\n",
    "import pandas as pd\n",
    "import geopandas as gpd\n",
    "import seaborn as sns\n",
    "from shapely.geometry import Polygon\n",
    "\n",
    "#Visualisation\n",
    "import matplotlib.pyplot as plt\n",
    "import branca.colormap as cm\n",
    "import folium\n",
    "from folium.plugins import MarkerCluster"
   ]
  },
  {
   "cell_type": "markdown",
   "id": "7cba90a3",
   "metadata": {},
   "source": [
    "# 2.1 api microclimate sensor readings"
   ]
  },
  {
   "cell_type": "markdown",
   "id": "178dd828",
   "metadata": {},
   "source": [
    "https://data.melbourne.vic.gov.au/api/explore/v2.1/catalog/datasets/microclimate-sensor-readings/records?limit=10&offset=0&timezone=UTC&include_links="
   ]
  },
  {
   "cell_type": "code",
   "execution_count": 5,
   "id": "0fa147c0",
   "metadata": {},
   "outputs": [],
   "source": [
    "BASE_URL = 'https://data.melbourne.vic.gov.au/api/explore/v2.1/catalog/datasets/'\n",
    "\n",
    "#Dataset name\n",
    "SENSOR_DATASET = 'microclimate-sensor-readings'\n",
    "NUMBER_OF_RECORDS = 10\n",
    "\n",
    "# Add a filter for the number of results returned\n",
    "FILTERS = f'records?limit={NUMBER_OF_RECORDS}&offset=0&timezone=UTC'"
   ]
  },
  {
   "cell_type": "code",
   "execution_count": 6,
   "id": "c6317836",
   "metadata": {},
   "outputs": [
    {
     "data": {
      "text/plain": [
       "'https://data.melbourne.vic.gov.au/api/explore/v2.1/catalog/datasets/microclimate-sensor-readings/records?limit=10&offset=0&timezone=UTC'"
      ]
     },
     "execution_count": 6,
     "metadata": {},
     "output_type": "execute_result"
    }
   ],
   "source": [
    "SENSOR_URL = f'{BASE_URL}{SENSOR_DATASET}/{FILTERS}'\n",
    "SENSOR_URL"
   ]
  },
  {
   "cell_type": "code",
   "execution_count": 9,
   "id": "66d4ba56",
   "metadata": {},
   "outputs": [],
   "source": [
    "# Use requests to get the data\n",
    "result = requests.get(SENSOR_URL)"
   ]
  },
  {
   "cell_type": "code",
   "execution_count": 10,
   "id": "3af71b4a",
   "metadata": {},
   "outputs": [
    {
     "data": {
      "text/plain": [
       "<Response [200]>"
      ]
     },
     "execution_count": 10,
     "metadata": {},
     "output_type": "execute_result"
    }
   ],
   "source": [
    "result"
   ]
  },
  {
   "cell_type": "code",
   "execution_count": 11,
   "id": "acfde9c2",
   "metadata": {},
   "outputs": [
    {
     "data": {
      "text/plain": [
       "'{\"total_count\": 1340, \"results\": [{\"local_time\": \"2023-07-26T14:15:02+00:00\", \"id\": 7595165, \"site_id\": 1014, \"sensor_id\": \"5b\", \"value\": 80.14, \"type\": \"TPH.RH\", \"units\": \"%\", \"gatewayhub_id\": \"arc1045\", \"site_status\": \"C\"}, {\"local_time\": \"2023-07-26T14:15:05+00:00\", \"id\": 7595073, \"site_id\": 1011, \"sensor_id\": \"5b\", \"value\": 75.54, \"type\": \"TPH.RH\", \"units\": \"%\", \"gatewayhub_id\": \"arc1055\", \"site_status\": \"C\"}, {\"local_time\": \"2023-07-26T14:15:05+00:00\", \"id\": 7595078, \"site_id\": 1011, \"sensor_id\": \"5c\", \"value\": 1028.8, \"type\": \"TPH.PRESSURE\", \"units\": \"hPa\", \"gatewayhub_id\": \"arc1055\", \"site_status\": \"C\"}, {\"local_time\": \"2023-07-26T14:15:05+00:00\", \"id\": 7595112, \"site_id\": 1012, \"sensor_id\": \"5a\", \"value\": 8.72, \"type\": \"TPH.TEMP\", \"units\": \"C\", \"gatewayhub_id\": \"arc1048\", \"site_status\": \"C\"}, {\"local_time\": \"2023-07-26T14:15:07+00:00\", \"id\": 7595204, \"site_id\": 1016, \"sensor_id\": \"5a\", \"value\": 9.35, \"type\": \"TPH.TEMP\", \"units\": \"C\", \"gatewayhub_id\": \"arc1049\", \"site_status\": \"C\"}, {\"local_time\": \"2023-07-26T14:15:07+00:00\", \"id\": 7595214, \"site_id\": 1016, \"sensor_id\": \"5c\", \"value\": 1029.2, \"type\": \"TPH.PRESSURE\", \"units\": \"hPa\", \"gatewayhub_id\": \"arc1049\", \"site_status\": \"C\"}, {\"local_time\": \"2023-07-26T14:15:10+00:00\", \"id\": 7595022, \"site_id\": 1009, \"sensor_id\": \"0a\", \"value\": 8.8, \"type\": \"PM2.5\", \"units\": \"ug/m^3\", \"gatewayhub_id\": \"arc1050\", \"site_status\": \"C\"}, {\"local_time\": \"2023-07-26T14:15:11+00:00\", \"id\": 7595139, \"site_id\": 1014, \"sensor_id\": \"0b\", \"value\": 26.6, \"type\": \"PM10\", \"units\": \"ug/m^3\", \"gatewayhub_id\": \"arc1045\", \"site_status\": \"C\"}, {\"local_time\": \"2023-07-26T14:15:16+00:00\", \"id\": 7595178, \"site_id\": 1016, \"sensor_id\": \"0a\", \"value\": 13.0, \"type\": \"PM2.5\", \"units\": \"ug/m^3\", \"gatewayhub_id\": \"arc1049\", \"site_status\": \"C\"}, {\"local_time\": \"2023-07-26T14:15:16+00:00\", \"id\": 7595187, \"site_id\": 1016, \"sensor_id\": \"0b\", \"value\": 40.9, \"type\": \"PM10\", \"units\": \"ug/m^3\", \"gatewayhub_id\": \"arc1049\", \"site_status\": \"C\"}]}'"
      ]
     },
     "execution_count": 11,
     "metadata": {},
     "output_type": "execute_result"
    }
   ],
   "source": [
    "result.text"
   ]
  },
  {
   "cell_type": "code",
   "execution_count": 12,
   "id": "e7d28a78",
   "metadata": {},
   "outputs": [
    {
     "data": {
      "text/plain": [
       "{'total_count': 1340,\n",
       " 'results': [{'local_time': '2023-07-26T14:15:02+00:00',\n",
       "   'id': 7595165,\n",
       "   'site_id': 1014,\n",
       "   'sensor_id': '5b',\n",
       "   'value': 80.14,\n",
       "   'type': 'TPH.RH',\n",
       "   'units': '%',\n",
       "   'gatewayhub_id': 'arc1045',\n",
       "   'site_status': 'C'},\n",
       "  {'local_time': '2023-07-26T14:15:05+00:00',\n",
       "   'id': 7595073,\n",
       "   'site_id': 1011,\n",
       "   'sensor_id': '5b',\n",
       "   'value': 75.54,\n",
       "   'type': 'TPH.RH',\n",
       "   'units': '%',\n",
       "   'gatewayhub_id': 'arc1055',\n",
       "   'site_status': 'C'},\n",
       "  {'local_time': '2023-07-26T14:15:05+00:00',\n",
       "   'id': 7595078,\n",
       "   'site_id': 1011,\n",
       "   'sensor_id': '5c',\n",
       "   'value': 1028.8,\n",
       "   'type': 'TPH.PRESSURE',\n",
       "   'units': 'hPa',\n",
       "   'gatewayhub_id': 'arc1055',\n",
       "   'site_status': 'C'},\n",
       "  {'local_time': '2023-07-26T14:15:05+00:00',\n",
       "   'id': 7595112,\n",
       "   'site_id': 1012,\n",
       "   'sensor_id': '5a',\n",
       "   'value': 8.72,\n",
       "   'type': 'TPH.TEMP',\n",
       "   'units': 'C',\n",
       "   'gatewayhub_id': 'arc1048',\n",
       "   'site_status': 'C'},\n",
       "  {'local_time': '2023-07-26T14:15:07+00:00',\n",
       "   'id': 7595204,\n",
       "   'site_id': 1016,\n",
       "   'sensor_id': '5a',\n",
       "   'value': 9.35,\n",
       "   'type': 'TPH.TEMP',\n",
       "   'units': 'C',\n",
       "   'gatewayhub_id': 'arc1049',\n",
       "   'site_status': 'C'},\n",
       "  {'local_time': '2023-07-26T14:15:07+00:00',\n",
       "   'id': 7595214,\n",
       "   'site_id': 1016,\n",
       "   'sensor_id': '5c',\n",
       "   'value': 1029.2,\n",
       "   'type': 'TPH.PRESSURE',\n",
       "   'units': 'hPa',\n",
       "   'gatewayhub_id': 'arc1049',\n",
       "   'site_status': 'C'},\n",
       "  {'local_time': '2023-07-26T14:15:10+00:00',\n",
       "   'id': 7595022,\n",
       "   'site_id': 1009,\n",
       "   'sensor_id': '0a',\n",
       "   'value': 8.8,\n",
       "   'type': 'PM2.5',\n",
       "   'units': 'ug/m^3',\n",
       "   'gatewayhub_id': 'arc1050',\n",
       "   'site_status': 'C'},\n",
       "  {'local_time': '2023-07-26T14:15:11+00:00',\n",
       "   'id': 7595139,\n",
       "   'site_id': 1014,\n",
       "   'sensor_id': '0b',\n",
       "   'value': 26.6,\n",
       "   'type': 'PM10',\n",
       "   'units': 'ug/m^3',\n",
       "   'gatewayhub_id': 'arc1045',\n",
       "   'site_status': 'C'},\n",
       "  {'local_time': '2023-07-26T14:15:16+00:00',\n",
       "   'id': 7595178,\n",
       "   'site_id': 1016,\n",
       "   'sensor_id': '0a',\n",
       "   'value': 13.0,\n",
       "   'type': 'PM2.5',\n",
       "   'units': 'ug/m^3',\n",
       "   'gatewayhub_id': 'arc1049',\n",
       "   'site_status': 'C'},\n",
       "  {'local_time': '2023-07-26T14:15:16+00:00',\n",
       "   'id': 7595187,\n",
       "   'site_id': 1016,\n",
       "   'sensor_id': '0b',\n",
       "   'value': 40.9,\n",
       "   'type': 'PM10',\n",
       "   'units': 'ug/m^3',\n",
       "   'gatewayhub_id': 'arc1049',\n",
       "   'site_status': 'C'}]}"
      ]
     },
     "execution_count": 12,
     "metadata": {},
     "output_type": "execute_result"
    }
   ],
   "source": [
    "result.json()"
   ]
  },
  {
   "cell_type": "code",
   "execution_count": 13,
   "id": "f23bf6f3",
   "metadata": {},
   "outputs": [],
   "source": [
    "result_json = result.json()"
   ]
  },
  {
   "cell_type": "code",
   "execution_count": 14,
   "id": "542a0523",
   "metadata": {},
   "outputs": [],
   "source": [
    "result_json = result.json()"
   ]
  },
  {
   "cell_type": "code",
   "execution_count": 15,
   "id": "fc513d2c",
   "metadata": {},
   "outputs": [
    {
     "data": {
      "text/plain": [
       "dict_keys(['total_count', 'results'])"
      ]
     },
     "execution_count": 15,
     "metadata": {},
     "output_type": "execute_result"
    }
   ],
   "source": [
    "result_json.keys()"
   ]
  },
  {
   "cell_type": "code",
   "execution_count": 16,
   "id": "0cb6b70a",
   "metadata": {},
   "outputs": [
    {
     "data": {
      "text/plain": [
       "1340"
      ]
     },
     "execution_count": 16,
     "metadata": {},
     "output_type": "execute_result"
    }
   ],
   "source": [
    "result_json['total_count']"
   ]
  },
  {
   "cell_type": "code",
   "execution_count": 18,
   "id": "4ddf6239",
   "metadata": {},
   "outputs": [
    {
     "data": {
      "text/plain": [
       "[{'local_time': '2023-07-26T14:15:02+00:00',\n",
       "  'id': 7595165,\n",
       "  'site_id': 1014,\n",
       "  'sensor_id': '5b',\n",
       "  'value': 80.14,\n",
       "  'type': 'TPH.RH',\n",
       "  'units': '%',\n",
       "  'gatewayhub_id': 'arc1045',\n",
       "  'site_status': 'C'},\n",
       " {'local_time': '2023-07-26T14:15:05+00:00',\n",
       "  'id': 7595073,\n",
       "  'site_id': 1011,\n",
       "  'sensor_id': '5b',\n",
       "  'value': 75.54,\n",
       "  'type': 'TPH.RH',\n",
       "  'units': '%',\n",
       "  'gatewayhub_id': 'arc1055',\n",
       "  'site_status': 'C'},\n",
       " {'local_time': '2023-07-26T14:15:05+00:00',\n",
       "  'id': 7595078,\n",
       "  'site_id': 1011,\n",
       "  'sensor_id': '5c',\n",
       "  'value': 1028.8,\n",
       "  'type': 'TPH.PRESSURE',\n",
       "  'units': 'hPa',\n",
       "  'gatewayhub_id': 'arc1055',\n",
       "  'site_status': 'C'},\n",
       " {'local_time': '2023-07-26T14:15:05+00:00',\n",
       "  'id': 7595112,\n",
       "  'site_id': 1012,\n",
       "  'sensor_id': '5a',\n",
       "  'value': 8.72,\n",
       "  'type': 'TPH.TEMP',\n",
       "  'units': 'C',\n",
       "  'gatewayhub_id': 'arc1048',\n",
       "  'site_status': 'C'},\n",
       " {'local_time': '2023-07-26T14:15:07+00:00',\n",
       "  'id': 7595204,\n",
       "  'site_id': 1016,\n",
       "  'sensor_id': '5a',\n",
       "  'value': 9.35,\n",
       "  'type': 'TPH.TEMP',\n",
       "  'units': 'C',\n",
       "  'gatewayhub_id': 'arc1049',\n",
       "  'site_status': 'C'},\n",
       " {'local_time': '2023-07-26T14:15:07+00:00',\n",
       "  'id': 7595214,\n",
       "  'site_id': 1016,\n",
       "  'sensor_id': '5c',\n",
       "  'value': 1029.2,\n",
       "  'type': 'TPH.PRESSURE',\n",
       "  'units': 'hPa',\n",
       "  'gatewayhub_id': 'arc1049',\n",
       "  'site_status': 'C'},\n",
       " {'local_time': '2023-07-26T14:15:10+00:00',\n",
       "  'id': 7595022,\n",
       "  'site_id': 1009,\n",
       "  'sensor_id': '0a',\n",
       "  'value': 8.8,\n",
       "  'type': 'PM2.5',\n",
       "  'units': 'ug/m^3',\n",
       "  'gatewayhub_id': 'arc1050',\n",
       "  'site_status': 'C'},\n",
       " {'local_time': '2023-07-26T14:15:11+00:00',\n",
       "  'id': 7595139,\n",
       "  'site_id': 1014,\n",
       "  'sensor_id': '0b',\n",
       "  'value': 26.6,\n",
       "  'type': 'PM10',\n",
       "  'units': 'ug/m^3',\n",
       "  'gatewayhub_id': 'arc1045',\n",
       "  'site_status': 'C'},\n",
       " {'local_time': '2023-07-26T14:15:16+00:00',\n",
       "  'id': 7595178,\n",
       "  'site_id': 1016,\n",
       "  'sensor_id': '0a',\n",
       "  'value': 13.0,\n",
       "  'type': 'PM2.5',\n",
       "  'units': 'ug/m^3',\n",
       "  'gatewayhub_id': 'arc1049',\n",
       "  'site_status': 'C'},\n",
       " {'local_time': '2023-07-26T14:15:16+00:00',\n",
       "  'id': 7595187,\n",
       "  'site_id': 1016,\n",
       "  'sensor_id': '0b',\n",
       "  'value': 40.9,\n",
       "  'type': 'PM10',\n",
       "  'units': 'ug/m^3',\n",
       "  'gatewayhub_id': 'arc1049',\n",
       "  'site_status': 'C'}]"
      ]
     },
     "execution_count": 18,
     "metadata": {},
     "output_type": "execute_result"
    }
   ],
   "source": [
    "result_json['results']"
   ]
  },
  {
   "cell_type": "code",
   "execution_count": 23,
   "id": "b6f7817f",
   "metadata": {},
   "outputs": [],
   "source": [
    "results = result_json['results']"
   ]
  },
  {
   "cell_type": "code",
   "execution_count": 24,
   "id": "1cbd555e",
   "metadata": {},
   "outputs": [
    {
     "data": {
      "text/plain": [
       "10"
      ]
     },
     "execution_count": 24,
     "metadata": {},
     "output_type": "execute_result"
    }
   ],
   "source": [
    "len(results)"
   ]
  },
  {
   "cell_type": "code",
   "execution_count": 26,
   "id": "b7fe7c2b",
   "metadata": {},
   "outputs": [
    {
     "name": "stdout",
     "output_type": "stream",
     "text": [
      "{'local_time': '2023-07-26T14:15:02+00:00', 'id': 7595165, 'site_id': 1014, 'sensor_id': '5b', 'value': 80.14, 'type': 'TPH.RH', 'units': '%', 'gatewayhub_id': 'arc1045', 'site_status': 'C'}\n",
      "{'local_time': '2023-07-26T14:15:05+00:00', 'id': 7595073, 'site_id': 1011, 'sensor_id': '5b', 'value': 75.54, 'type': 'TPH.RH', 'units': '%', 'gatewayhub_id': 'arc1055', 'site_status': 'C'}\n",
      "{'local_time': '2023-07-26T14:15:05+00:00', 'id': 7595078, 'site_id': 1011, 'sensor_id': '5c', 'value': 1028.8, 'type': 'TPH.PRESSURE', 'units': 'hPa', 'gatewayhub_id': 'arc1055', 'site_status': 'C'}\n",
      "{'local_time': '2023-07-26T14:15:05+00:00', 'id': 7595112, 'site_id': 1012, 'sensor_id': '5a', 'value': 8.72, 'type': 'TPH.TEMP', 'units': 'C', 'gatewayhub_id': 'arc1048', 'site_status': 'C'}\n",
      "{'local_time': '2023-07-26T14:15:07+00:00', 'id': 7595204, 'site_id': 1016, 'sensor_id': '5a', 'value': 9.35, 'type': 'TPH.TEMP', 'units': 'C', 'gatewayhub_id': 'arc1049', 'site_status': 'C'}\n"
     ]
    }
   ],
   "source": [
    "for i in results[:5]:\n",
    "    print(i)"
   ]
  },
  {
   "cell_type": "code",
   "execution_count": 32,
   "id": "6b6bb51c",
   "metadata": {},
   "outputs": [],
   "source": [
    "pm10_df = pd.json_normalize(results)"
   ]
  },
  {
   "cell_type": "code",
   "execution_count": 33,
   "id": "6a648cd5",
   "metadata": {},
   "outputs": [
    {
     "data": {
      "text/html": [
       "<div>\n",
       "<style scoped>\n",
       "    .dataframe tbody tr th:only-of-type {\n",
       "        vertical-align: middle;\n",
       "    }\n",
       "\n",
       "    .dataframe tbody tr th {\n",
       "        vertical-align: top;\n",
       "    }\n",
       "\n",
       "    .dataframe thead th {\n",
       "        text-align: right;\n",
       "    }\n",
       "</style>\n",
       "<table border=\"1\" class=\"dataframe\">\n",
       "  <thead>\n",
       "    <tr style=\"text-align: right;\">\n",
       "      <th></th>\n",
       "      <th>local_time</th>\n",
       "      <th>id</th>\n",
       "      <th>site_id</th>\n",
       "      <th>sensor_id</th>\n",
       "      <th>value</th>\n",
       "      <th>type</th>\n",
       "      <th>units</th>\n",
       "      <th>gatewayhub_id</th>\n",
       "      <th>site_status</th>\n",
       "    </tr>\n",
       "  </thead>\n",
       "  <tbody>\n",
       "    <tr>\n",
       "      <th>0</th>\n",
       "      <td>2023-07-26T14:15:02+00:00</td>\n",
       "      <td>7595165</td>\n",
       "      <td>1014</td>\n",
       "      <td>5b</td>\n",
       "      <td>80.14</td>\n",
       "      <td>TPH.RH</td>\n",
       "      <td>%</td>\n",
       "      <td>arc1045</td>\n",
       "      <td>C</td>\n",
       "    </tr>\n",
       "    <tr>\n",
       "      <th>1</th>\n",
       "      <td>2023-07-26T14:15:05+00:00</td>\n",
       "      <td>7595073</td>\n",
       "      <td>1011</td>\n",
       "      <td>5b</td>\n",
       "      <td>75.54</td>\n",
       "      <td>TPH.RH</td>\n",
       "      <td>%</td>\n",
       "      <td>arc1055</td>\n",
       "      <td>C</td>\n",
       "    </tr>\n",
       "    <tr>\n",
       "      <th>2</th>\n",
       "      <td>2023-07-26T14:15:05+00:00</td>\n",
       "      <td>7595078</td>\n",
       "      <td>1011</td>\n",
       "      <td>5c</td>\n",
       "      <td>1028.80</td>\n",
       "      <td>TPH.PRESSURE</td>\n",
       "      <td>hPa</td>\n",
       "      <td>arc1055</td>\n",
       "      <td>C</td>\n",
       "    </tr>\n",
       "    <tr>\n",
       "      <th>3</th>\n",
       "      <td>2023-07-26T14:15:05+00:00</td>\n",
       "      <td>7595112</td>\n",
       "      <td>1012</td>\n",
       "      <td>5a</td>\n",
       "      <td>8.72</td>\n",
       "      <td>TPH.TEMP</td>\n",
       "      <td>C</td>\n",
       "      <td>arc1048</td>\n",
       "      <td>C</td>\n",
       "    </tr>\n",
       "    <tr>\n",
       "      <th>4</th>\n",
       "      <td>2023-07-26T14:15:07+00:00</td>\n",
       "      <td>7595204</td>\n",
       "      <td>1016</td>\n",
       "      <td>5a</td>\n",
       "      <td>9.35</td>\n",
       "      <td>TPH.TEMP</td>\n",
       "      <td>C</td>\n",
       "      <td>arc1049</td>\n",
       "      <td>C</td>\n",
       "    </tr>\n",
       "    <tr>\n",
       "      <th>5</th>\n",
       "      <td>2023-07-26T14:15:07+00:00</td>\n",
       "      <td>7595214</td>\n",
       "      <td>1016</td>\n",
       "      <td>5c</td>\n",
       "      <td>1029.20</td>\n",
       "      <td>TPH.PRESSURE</td>\n",
       "      <td>hPa</td>\n",
       "      <td>arc1049</td>\n",
       "      <td>C</td>\n",
       "    </tr>\n",
       "    <tr>\n",
       "      <th>6</th>\n",
       "      <td>2023-07-26T14:15:10+00:00</td>\n",
       "      <td>7595022</td>\n",
       "      <td>1009</td>\n",
       "      <td>0a</td>\n",
       "      <td>8.80</td>\n",
       "      <td>PM2.5</td>\n",
       "      <td>ug/m^3</td>\n",
       "      <td>arc1050</td>\n",
       "      <td>C</td>\n",
       "    </tr>\n",
       "    <tr>\n",
       "      <th>7</th>\n",
       "      <td>2023-07-26T14:15:11+00:00</td>\n",
       "      <td>7595139</td>\n",
       "      <td>1014</td>\n",
       "      <td>0b</td>\n",
       "      <td>26.60</td>\n",
       "      <td>PM10</td>\n",
       "      <td>ug/m^3</td>\n",
       "      <td>arc1045</td>\n",
       "      <td>C</td>\n",
       "    </tr>\n",
       "    <tr>\n",
       "      <th>8</th>\n",
       "      <td>2023-07-26T14:15:16+00:00</td>\n",
       "      <td>7595178</td>\n",
       "      <td>1016</td>\n",
       "      <td>0a</td>\n",
       "      <td>13.00</td>\n",
       "      <td>PM2.5</td>\n",
       "      <td>ug/m^3</td>\n",
       "      <td>arc1049</td>\n",
       "      <td>C</td>\n",
       "    </tr>\n",
       "    <tr>\n",
       "      <th>9</th>\n",
       "      <td>2023-07-26T14:15:16+00:00</td>\n",
       "      <td>7595187</td>\n",
       "      <td>1016</td>\n",
       "      <td>0b</td>\n",
       "      <td>40.90</td>\n",
       "      <td>PM10</td>\n",
       "      <td>ug/m^3</td>\n",
       "      <td>arc1049</td>\n",
       "      <td>C</td>\n",
       "    </tr>\n",
       "  </tbody>\n",
       "</table>\n",
       "</div>"
      ],
      "text/plain": [
       "                  local_time       id  site_id sensor_id    value  \\\n",
       "0  2023-07-26T14:15:02+00:00  7595165     1014        5b    80.14   \n",
       "1  2023-07-26T14:15:05+00:00  7595073     1011        5b    75.54   \n",
       "2  2023-07-26T14:15:05+00:00  7595078     1011        5c  1028.80   \n",
       "3  2023-07-26T14:15:05+00:00  7595112     1012        5a     8.72   \n",
       "4  2023-07-26T14:15:07+00:00  7595204     1016        5a     9.35   \n",
       "5  2023-07-26T14:15:07+00:00  7595214     1016        5c  1029.20   \n",
       "6  2023-07-26T14:15:10+00:00  7595022     1009        0a     8.80   \n",
       "7  2023-07-26T14:15:11+00:00  7595139     1014        0b    26.60   \n",
       "8  2023-07-26T14:15:16+00:00  7595178     1016        0a    13.00   \n",
       "9  2023-07-26T14:15:16+00:00  7595187     1016        0b    40.90   \n",
       "\n",
       "           type   units gatewayhub_id site_status  \n",
       "0        TPH.RH       %       arc1045           C  \n",
       "1        TPH.RH       %       arc1055           C  \n",
       "2  TPH.PRESSURE     hPa       arc1055           C  \n",
       "3      TPH.TEMP       C       arc1048           C  \n",
       "4      TPH.TEMP       C       arc1049           C  \n",
       "5  TPH.PRESSURE     hPa       arc1049           C  \n",
       "6         PM2.5  ug/m^3       arc1050           C  \n",
       "7          PM10  ug/m^3       arc1045           C  \n",
       "8         PM2.5  ug/m^3       arc1049           C  \n",
       "9          PM10  ug/m^3       arc1049           C  "
      ]
     },
     "execution_count": 33,
     "metadata": {},
     "output_type": "execute_result"
    }
   ],
   "source": [
    "pm10_df"
   ]
  },
  {
   "cell_type": "code",
   "execution_count": 34,
   "id": "d9741885",
   "metadata": {},
   "outputs": [
    {
     "data": {
      "text/plain": [
       "(10, 9)"
      ]
     },
     "execution_count": 34,
     "metadata": {},
     "output_type": "execute_result"
    }
   ],
   "source": [
    "pm10_df.shape"
   ]
  },
  {
   "cell_type": "code",
   "execution_count": 47,
   "id": "b09cecbd",
   "metadata": {},
   "outputs": [
    {
     "data": {
      "text/plain": [
       "local_time       datetime64[ns, UTC]\n",
       "id                             Int32\n",
       "site_id                        Int32\n",
       "sensor_id                     string\n",
       "value                        Float64\n",
       "type                          string\n",
       "units                         string\n",
       "gatewayhub_id                 string\n",
       "site_status                   string\n",
       "dtype: object"
      ]
     },
     "execution_count": 47,
     "metadata": {},
     "output_type": "execute_result"
    }
   ],
   "source": [
    "pm10_df[['id', 'site_id']] = pm10_df[['id', 'site_id']].astype(int)\n",
    "pm10_df[['value']] = pm10_df[['value']].astype(float)\n",
    "pm10_df['local_time'] = pd.to_datetime(pm10_df['local_time'] )\n",
    "pm10_df = pm10_df.convert_dtypes()\n",
    "\n",
    "pm10_df.dtypes"
   ]
  },
  {
   "cell_type": "code",
   "execution_count": 49,
   "id": "69b8330e",
   "metadata": {},
   "outputs": [
    {
     "data": {
      "text/html": [
       "<div>\n",
       "<style scoped>\n",
       "    .dataframe tbody tr th:only-of-type {\n",
       "        vertical-align: middle;\n",
       "    }\n",
       "\n",
       "    .dataframe tbody tr th {\n",
       "        vertical-align: top;\n",
       "    }\n",
       "\n",
       "    .dataframe thead th {\n",
       "        text-align: right;\n",
       "    }\n",
       "</style>\n",
       "<table border=\"1\" class=\"dataframe\">\n",
       "  <thead>\n",
       "    <tr style=\"text-align: right;\">\n",
       "      <th></th>\n",
       "      <th>site_id</th>\n",
       "      <th>value_count</th>\n",
       "      <th>value_mean</th>\n",
       "    </tr>\n",
       "  </thead>\n",
       "  <tbody>\n",
       "    <tr>\n",
       "      <th>0</th>\n",
       "      <td>1009</td>\n",
       "      <td>1</td>\n",
       "      <td>8.8</td>\n",
       "    </tr>\n",
       "    <tr>\n",
       "      <th>1</th>\n",
       "      <td>1011</td>\n",
       "      <td>2</td>\n",
       "      <td>552.17</td>\n",
       "    </tr>\n",
       "    <tr>\n",
       "      <th>2</th>\n",
       "      <td>1012</td>\n",
       "      <td>1</td>\n",
       "      <td>8.72</td>\n",
       "    </tr>\n",
       "    <tr>\n",
       "      <th>3</th>\n",
       "      <td>1014</td>\n",
       "      <td>2</td>\n",
       "      <td>53.37</td>\n",
       "    </tr>\n",
       "    <tr>\n",
       "      <th>4</th>\n",
       "      <td>1016</td>\n",
       "      <td>4</td>\n",
       "      <td>273.1125</td>\n",
       "    </tr>\n",
       "  </tbody>\n",
       "</table>\n",
       "</div>"
      ],
      "text/plain": [
       "   site_id  value_count  value_mean\n",
       "0     1009            1         8.8\n",
       "1     1011            2      552.17\n",
       "2     1012            1        8.72\n",
       "3     1014            2       53.37\n",
       "4     1016            4    273.1125"
      ]
     },
     "execution_count": 49,
     "metadata": {},
     "output_type": "execute_result"
    }
   ],
   "source": [
    "groupbyfields = ['site_id']\n",
    "aggregatebyfields = [\"count\", \"mean\"]\n",
    "\n",
    "# Create new DataFrame with value counts and mean values for each site.\n",
    "pm10SiteCount = pd.DataFrame(pm10_df.groupby(groupbyfields, as_index=False)['value'].agg(aggregatebyfields)\n",
    "                             .add_prefix('value_'))\n",
    "pm10SiteCount = pm10SiteCount.reset_index()\n",
    "pm10SiteCount"
   ]
  },
  {
   "cell_type": "code",
   "execution_count": 51,
   "id": "7e9c3fa9",
   "metadata": {},
   "outputs": [
    {
     "data": {
      "text/html": [
       "<div>\n",
       "<style scoped>\n",
       "    .dataframe tbody tr th:only-of-type {\n",
       "        vertical-align: middle;\n",
       "    }\n",
       "\n",
       "    .dataframe tbody tr th {\n",
       "        vertical-align: top;\n",
       "    }\n",
       "\n",
       "    .dataframe thead th {\n",
       "        text-align: right;\n",
       "    }\n",
       "</style>\n",
       "<table border=\"1\" class=\"dataframe\">\n",
       "  <thead>\n",
       "    <tr style=\"text-align: right;\">\n",
       "      <th></th>\n",
       "      <th>local_time</th>\n",
       "      <th>id</th>\n",
       "      <th>site_id</th>\n",
       "      <th>sensor_id</th>\n",
       "      <th>value</th>\n",
       "      <th>type</th>\n",
       "      <th>units</th>\n",
       "      <th>gatewayhub_id</th>\n",
       "      <th>site_status</th>\n",
       "    </tr>\n",
       "  </thead>\n",
       "  <tbody>\n",
       "    <tr>\n",
       "      <th>0</th>\n",
       "      <td>2023-07-26 14:15:02+00:00</td>\n",
       "      <td>7595165</td>\n",
       "      <td>1014</td>\n",
       "      <td>5b</td>\n",
       "      <td>80.14</td>\n",
       "      <td>TPH.RH</td>\n",
       "      <td>%</td>\n",
       "      <td>arc1045</td>\n",
       "      <td>C</td>\n",
       "    </tr>\n",
       "    <tr>\n",
       "      <th>1</th>\n",
       "      <td>2023-07-26 14:15:05+00:00</td>\n",
       "      <td>7595073</td>\n",
       "      <td>1011</td>\n",
       "      <td>5b</td>\n",
       "      <td>75.54</td>\n",
       "      <td>TPH.RH</td>\n",
       "      <td>%</td>\n",
       "      <td>arc1055</td>\n",
       "      <td>C</td>\n",
       "    </tr>\n",
       "    <tr>\n",
       "      <th>2</th>\n",
       "      <td>2023-07-26 14:15:05+00:00</td>\n",
       "      <td>7595078</td>\n",
       "      <td>1011</td>\n",
       "      <td>5c</td>\n",
       "      <td>1028.8</td>\n",
       "      <td>TPH.PRESSURE</td>\n",
       "      <td>hPa</td>\n",
       "      <td>arc1055</td>\n",
       "      <td>C</td>\n",
       "    </tr>\n",
       "    <tr>\n",
       "      <th>3</th>\n",
       "      <td>2023-07-26 14:15:05+00:00</td>\n",
       "      <td>7595112</td>\n",
       "      <td>1012</td>\n",
       "      <td>5a</td>\n",
       "      <td>8.72</td>\n",
       "      <td>TPH.TEMP</td>\n",
       "      <td>C</td>\n",
       "      <td>arc1048</td>\n",
       "      <td>C</td>\n",
       "    </tr>\n",
       "    <tr>\n",
       "      <th>4</th>\n",
       "      <td>2023-07-26 14:15:07+00:00</td>\n",
       "      <td>7595204</td>\n",
       "      <td>1016</td>\n",
       "      <td>5a</td>\n",
       "      <td>9.35</td>\n",
       "      <td>TPH.TEMP</td>\n",
       "      <td>C</td>\n",
       "      <td>arc1049</td>\n",
       "      <td>C</td>\n",
       "    </tr>\n",
       "    <tr>\n",
       "      <th>5</th>\n",
       "      <td>2023-07-26 14:15:07+00:00</td>\n",
       "      <td>7595214</td>\n",
       "      <td>1016</td>\n",
       "      <td>5c</td>\n",
       "      <td>1029.2</td>\n",
       "      <td>TPH.PRESSURE</td>\n",
       "      <td>hPa</td>\n",
       "      <td>arc1049</td>\n",
       "      <td>C</td>\n",
       "    </tr>\n",
       "    <tr>\n",
       "      <th>6</th>\n",
       "      <td>2023-07-26 14:15:10+00:00</td>\n",
       "      <td>7595022</td>\n",
       "      <td>1009</td>\n",
       "      <td>0a</td>\n",
       "      <td>8.8</td>\n",
       "      <td>PM2.5</td>\n",
       "      <td>ug/m^3</td>\n",
       "      <td>arc1050</td>\n",
       "      <td>C</td>\n",
       "    </tr>\n",
       "    <tr>\n",
       "      <th>7</th>\n",
       "      <td>2023-07-26 14:15:11+00:00</td>\n",
       "      <td>7595139</td>\n",
       "      <td>1014</td>\n",
       "      <td>0b</td>\n",
       "      <td>26.6</td>\n",
       "      <td>PM10</td>\n",
       "      <td>ug/m^3</td>\n",
       "      <td>arc1045</td>\n",
       "      <td>C</td>\n",
       "    </tr>\n",
       "    <tr>\n",
       "      <th>8</th>\n",
       "      <td>2023-07-26 14:15:16+00:00</td>\n",
       "      <td>7595178</td>\n",
       "      <td>1016</td>\n",
       "      <td>0a</td>\n",
       "      <td>13.0</td>\n",
       "      <td>PM2.5</td>\n",
       "      <td>ug/m^3</td>\n",
       "      <td>arc1049</td>\n",
       "      <td>C</td>\n",
       "    </tr>\n",
       "    <tr>\n",
       "      <th>9</th>\n",
       "      <td>2023-07-26 14:15:16+00:00</td>\n",
       "      <td>7595187</td>\n",
       "      <td>1016</td>\n",
       "      <td>0b</td>\n",
       "      <td>40.9</td>\n",
       "      <td>PM10</td>\n",
       "      <td>ug/m^3</td>\n",
       "      <td>arc1049</td>\n",
       "      <td>C</td>\n",
       "    </tr>\n",
       "  </tbody>\n",
       "</table>\n",
       "</div>"
      ],
      "text/plain": [
       "                 local_time       id  site_id sensor_id   value          type  \\\n",
       "0 2023-07-26 14:15:02+00:00  7595165     1014        5b   80.14        TPH.RH   \n",
       "1 2023-07-26 14:15:05+00:00  7595073     1011        5b   75.54        TPH.RH   \n",
       "2 2023-07-26 14:15:05+00:00  7595078     1011        5c  1028.8  TPH.PRESSURE   \n",
       "3 2023-07-26 14:15:05+00:00  7595112     1012        5a    8.72      TPH.TEMP   \n",
       "4 2023-07-26 14:15:07+00:00  7595204     1016        5a    9.35      TPH.TEMP   \n",
       "5 2023-07-26 14:15:07+00:00  7595214     1016        5c  1029.2  TPH.PRESSURE   \n",
       "6 2023-07-26 14:15:10+00:00  7595022     1009        0a     8.8         PM2.5   \n",
       "7 2023-07-26 14:15:11+00:00  7595139     1014        0b    26.6          PM10   \n",
       "8 2023-07-26 14:15:16+00:00  7595178     1016        0a    13.0         PM2.5   \n",
       "9 2023-07-26 14:15:16+00:00  7595187     1016        0b    40.9          PM10   \n",
       "\n",
       "    units gatewayhub_id site_status  \n",
       "0       %       arc1045           C  \n",
       "1       %       arc1055           C  \n",
       "2     hPa       arc1055           C  \n",
       "3       C       arc1048           C  \n",
       "4       C       arc1049           C  \n",
       "5     hPa       arc1049           C  \n",
       "6  ug/m^3       arc1050           C  \n",
       "7  ug/m^3       arc1045           C  \n",
       "8  ug/m^3       arc1049           C  \n",
       "9  ug/m^3       arc1049           C  "
      ]
     },
     "execution_count": 51,
     "metadata": {},
     "output_type": "execute_result"
    }
   ],
   "source": [
    "pm10_df"
   ]
  },
  {
   "cell_type": "code",
   "execution_count": 54,
   "id": "48113f46",
   "metadata": {},
   "outputs": [
    {
     "data": {
      "text/plain": [
       "<IntegerArray>\n",
       "[1014, 1011, 1012, 1016, 1009]\n",
       "Length: 5, dtype: Int32"
      ]
     },
     "execution_count": 54,
     "metadata": {},
     "output_type": "execute_result"
    }
   ],
   "source": [
    "pm10_df['site_id'].unique()"
   ]
  },
  {
   "cell_type": "markdown",
   "id": "de37f074",
   "metadata": {},
   "source": [
    "# reading same data from csv file"
   ]
  },
  {
   "cell_type": "code",
   "execution_count": 58,
   "id": "07fe948e",
   "metadata": {},
   "outputs": [],
   "source": [
    "df = pd.read_csv('data.csv')"
   ]
  },
  {
   "cell_type": "code",
   "execution_count": 59,
   "id": "a1c1ba97",
   "metadata": {},
   "outputs": [
    {
     "data": {
      "text/html": [
       "<div>\n",
       "<style scoped>\n",
       "    .dataframe tbody tr th:only-of-type {\n",
       "        vertical-align: middle;\n",
       "    }\n",
       "\n",
       "    .dataframe tbody tr th {\n",
       "        vertical-align: top;\n",
       "    }\n",
       "\n",
       "    .dataframe thead th {\n",
       "        text-align: right;\n",
       "    }\n",
       "</style>\n",
       "<table border=\"1\" class=\"dataframe\">\n",
       "  <thead>\n",
       "    <tr style=\"text-align: right;\">\n",
       "      <th></th>\n",
       "      <th>Local_Time</th>\n",
       "      <th>ID</th>\n",
       "      <th>Site_ID</th>\n",
       "      <th>Sensor_ID</th>\n",
       "      <th>Value</th>\n",
       "      <th>Type</th>\n",
       "      <th>Units</th>\n",
       "      <th>Gatewayhub_ID</th>\n",
       "      <th>Site_Status</th>\n",
       "    </tr>\n",
       "  </thead>\n",
       "  <tbody>\n",
       "    <tr>\n",
       "      <th>0</th>\n",
       "      <td>2023-07-27T00:15:02+10:00</td>\n",
       "      <td>7595165</td>\n",
       "      <td>1014</td>\n",
       "      <td>5b</td>\n",
       "      <td>80.14</td>\n",
       "      <td>TPH.RH</td>\n",
       "      <td>%</td>\n",
       "      <td>arc1045</td>\n",
       "      <td>C</td>\n",
       "    </tr>\n",
       "    <tr>\n",
       "      <th>1</th>\n",
       "      <td>2023-07-27T00:15:05+10:00</td>\n",
       "      <td>7595073</td>\n",
       "      <td>1011</td>\n",
       "      <td>5b</td>\n",
       "      <td>75.54</td>\n",
       "      <td>TPH.RH</td>\n",
       "      <td>%</td>\n",
       "      <td>arc1055</td>\n",
       "      <td>C</td>\n",
       "    </tr>\n",
       "    <tr>\n",
       "      <th>2</th>\n",
       "      <td>2023-07-27T00:15:05+10:00</td>\n",
       "      <td>7595078</td>\n",
       "      <td>1011</td>\n",
       "      <td>5c</td>\n",
       "      <td>1028.80</td>\n",
       "      <td>TPH.PRESSURE</td>\n",
       "      <td>hPa</td>\n",
       "      <td>arc1055</td>\n",
       "      <td>C</td>\n",
       "    </tr>\n",
       "    <tr>\n",
       "      <th>3</th>\n",
       "      <td>2023-07-27T00:15:05+10:00</td>\n",
       "      <td>7595112</td>\n",
       "      <td>1012</td>\n",
       "      <td>5a</td>\n",
       "      <td>8.72</td>\n",
       "      <td>TPH.TEMP</td>\n",
       "      <td>C</td>\n",
       "      <td>arc1048</td>\n",
       "      <td>C</td>\n",
       "    </tr>\n",
       "    <tr>\n",
       "      <th>4</th>\n",
       "      <td>2023-07-27T00:15:07+10:00</td>\n",
       "      <td>7595204</td>\n",
       "      <td>1016</td>\n",
       "      <td>5a</td>\n",
       "      <td>9.35</td>\n",
       "      <td>TPH.TEMP</td>\n",
       "      <td>C</td>\n",
       "      <td>arc1049</td>\n",
       "      <td>C</td>\n",
       "    </tr>\n",
       "    <tr>\n",
       "      <th>...</th>\n",
       "      <td>...</td>\n",
       "      <td>...</td>\n",
       "      <td>...</td>\n",
       "      <td>...</td>\n",
       "      <td>...</td>\n",
       "      <td>...</td>\n",
       "      <td>...</td>\n",
       "      <td>...</td>\n",
       "      <td>...</td>\n",
       "    </tr>\n",
       "    <tr>\n",
       "      <th>1335</th>\n",
       "      <td>2023-07-27T09:00:02+10:00</td>\n",
       "      <td>7596665</td>\n",
       "      <td>1011</td>\n",
       "      <td>5a</td>\n",
       "      <td>9.33</td>\n",
       "      <td>TPH.TEMP</td>\n",
       "      <td>C</td>\n",
       "      <td>arc1055</td>\n",
       "      <td>C</td>\n",
       "    </tr>\n",
       "    <tr>\n",
       "      <th>1336</th>\n",
       "      <td>2023-07-27T09:00:02+10:00</td>\n",
       "      <td>7596670</td>\n",
       "      <td>1011</td>\n",
       "      <td>5b</td>\n",
       "      <td>75.80</td>\n",
       "      <td>TPH.RH</td>\n",
       "      <td>%</td>\n",
       "      <td>arc1055</td>\n",
       "      <td>C</td>\n",
       "    </tr>\n",
       "    <tr>\n",
       "      <th>1337</th>\n",
       "      <td>2023-07-27T09:00:02+10:00</td>\n",
       "      <td>7596767</td>\n",
       "      <td>1014</td>\n",
       "      <td>5c</td>\n",
       "      <td>1028.20</td>\n",
       "      <td>TPH.PRESSURE</td>\n",
       "      <td>hPa</td>\n",
       "      <td>arc1045</td>\n",
       "      <td>C</td>\n",
       "    </tr>\n",
       "    <tr>\n",
       "      <th>1338</th>\n",
       "      <td>2023-07-27T09:00:11+10:00</td>\n",
       "      <td>7596625</td>\n",
       "      <td>1009</td>\n",
       "      <td>0b</td>\n",
       "      <td>23.60</td>\n",
       "      <td>PM10</td>\n",
       "      <td>ug/m^3</td>\n",
       "      <td>arc1050</td>\n",
       "      <td>C</td>\n",
       "    </tr>\n",
       "    <tr>\n",
       "      <th>1339</th>\n",
       "      <td>2023-07-27T09:00:11+10:00</td>\n",
       "      <td>7596648</td>\n",
       "      <td>1011</td>\n",
       "      <td>0b</td>\n",
       "      <td>26.50</td>\n",
       "      <td>PM10</td>\n",
       "      <td>ug\\/m^3</td>\n",
       "      <td>arc1055</td>\n",
       "      <td>C</td>\n",
       "    </tr>\n",
       "  </tbody>\n",
       "</table>\n",
       "<p>1340 rows × 9 columns</p>\n",
       "</div>"
      ],
      "text/plain": [
       "                     Local_Time       ID  Site_ID Sensor_ID    Value  \\\n",
       "0     2023-07-27T00:15:02+10:00  7595165     1014        5b    80.14   \n",
       "1     2023-07-27T00:15:05+10:00  7595073     1011        5b    75.54   \n",
       "2     2023-07-27T00:15:05+10:00  7595078     1011        5c  1028.80   \n",
       "3     2023-07-27T00:15:05+10:00  7595112     1012        5a     8.72   \n",
       "4     2023-07-27T00:15:07+10:00  7595204     1016        5a     9.35   \n",
       "...                         ...      ...      ...       ...      ...   \n",
       "1335  2023-07-27T09:00:02+10:00  7596665     1011        5a     9.33   \n",
       "1336  2023-07-27T09:00:02+10:00  7596670     1011        5b    75.80   \n",
       "1337  2023-07-27T09:00:02+10:00  7596767     1014        5c  1028.20   \n",
       "1338  2023-07-27T09:00:11+10:00  7596625     1009        0b    23.60   \n",
       "1339  2023-07-27T09:00:11+10:00  7596648     1011        0b    26.50   \n",
       "\n",
       "              Type    Units Gatewayhub_ID Site_Status  \n",
       "0           TPH.RH        %       arc1045           C  \n",
       "1           TPH.RH        %       arc1055           C  \n",
       "2     TPH.PRESSURE      hPa       arc1055           C  \n",
       "3         TPH.TEMP        C       arc1048           C  \n",
       "4         TPH.TEMP        C       arc1049           C  \n",
       "...            ...      ...           ...         ...  \n",
       "1335      TPH.TEMP        C       arc1055           C  \n",
       "1336        TPH.RH        %       arc1055           C  \n",
       "1337  TPH.PRESSURE      hPa       arc1045           C  \n",
       "1338          PM10   ug/m^3       arc1050           C  \n",
       "1339          PM10  ug\\/m^3       arc1055           C  \n",
       "\n",
       "[1340 rows x 9 columns]"
      ]
     },
     "execution_count": 59,
     "metadata": {},
     "output_type": "execute_result"
    }
   ],
   "source": [
    "df"
   ]
  },
  {
   "cell_type": "code",
   "execution_count": 60,
   "id": "6c96fc8c",
   "metadata": {},
   "outputs": [
    {
     "data": {
      "text/plain": [
       "array(['TPH.RH', 'TPH.PRESSURE', 'TPH.TEMP', 'PM2.5', 'PM10', 'WS',\n",
       "       'PM2.5-EPA-1h', 'PM10-EPA-1h', 'PM10-EPA-1h-NOPK',\n",
       "       'TPH.TEMP-EPA-1h', 'TPH.RH-EPA-1h', 'PM2.5-EPA-1h-PKIND',\n",
       "       'PM10-EPA-1h-NOPK-EPA-24h', 'PM10-EPA-24h', 'PM10-EPA-1h-PKIND',\n",
       "       'PM2.5-EPA-1h-NOPK-EPA-24h', 'PM2.5-EPA-24h', 'PM2.5-EPA-1h-NOPK'],\n",
       "      dtype=object)"
      ]
     },
     "execution_count": 60,
     "metadata": {},
     "output_type": "execute_result"
    }
   ],
   "source": [
    "df['Type'].unique()"
   ]
  },
  {
   "cell_type": "code",
   "execution_count": null,
   "id": "607a3289",
   "metadata": {},
   "outputs": [],
   "source": [
    "# find all rows with \"PM10-EPA-1h-NOPK-EPA-24h\" as the type"
   ]
  }
 ],
 "metadata": {
  "kernelspec": {
   "display_name": "Python 3 (ipykernel)",
   "language": "python",
   "name": "python3"
  },
  "language_info": {
   "codemirror_mode": {
    "name": "ipython",
    "version": 3
   },
   "file_extension": ".py",
   "mimetype": "text/x-python",
   "name": "python",
   "nbconvert_exporter": "python",
   "pygments_lexer": "ipython3",
   "version": "3.9.7"
  }
 },
 "nbformat": 4,
 "nbformat_minor": 5
}
