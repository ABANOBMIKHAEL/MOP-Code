{
 "cells": [
  {
   "cell_type": "markdown",
   "metadata": {},
   "source": [
    "<div class=\"usecase-title\">Bird Habitat Analysis T1 2024</div>\n",
    "\n",
    "<div class=\"usecase-authors\"><b>Authored by: </b>Katrine Chan</div>"
   ]
  },
  {
   "cell_type": "markdown",
   "metadata": {},
   "source": [
    "<div class=\"usecase-duration\"><b>Duration:</b> 90 mins</div>\n",
    "\n",
    "<div class=\"usecase-level-skill\">\n",
    "    <div class=\"usecase-level\"><b>Level: </b>Intermediate</div>\n",
    "    <div class=\"usecase-skill\"><b>Pre-requisite Skills: </b>Python </div>\n",
    "</div>"
   ]
  },
  {
   "cell_type": "markdown",
   "metadata": {},
   "source": [
    "<div class=\"usecase-section-header\"><i><b>Scenario</i></b></div>"
   ]
  },
  {
   "cell_type": "markdown",
   "metadata": {},
   "source": [
    "\n",
    "As a member of the council, I am eager to explore bird habitats within Melbourne city.  Imagine a city without birds, bird habitats are not only a source of beauty and wonder but also a sign of a healty ecosystem, reflecting the quality of air, water and vegetation of a city.  A thorough analysis of bird habitats will enable us to identify critical habitats and biodiverstiy hotspots within Melbourne, guiding conservation priorities and land management decisions.  This investigation aligns closely with the mission to prioritise the environment and biodiversity in the City of Melbourne. Through this analysis, I aim to discover:\n",
    "\n",
    "* The types of birds commonly found in the City of Melbourne\n",
    "* How changes in vegetation may influence bird sightings/activities\n",
    "* Develop a habitat suitability models using machien learning techniuqes based on environmental variables such as vegetation cover \n"
   ]
  },
  {
   "cell_type": "markdown",
   "metadata": {},
   "source": [
    "<div class=\"usecase-section-header\"><i><b>What this use case will teach you</i></b></div>"
   ]
  },
  {
   "cell_type": "markdown",
   "metadata": {},
   "source": [
    "At the end of this use case you will:\n",
    "* Have gained an understanding of using APIs\n",
    "* Have learned how to fetch datasets using APIs\n",
    "* Become familiar with performing data pre-processing\n",
    "* Learned how to visualize real-life data using appropriate visualisation tools\n",
    "* Learned how to work with more than one dataset\n",
    "* Learned what a habitat preference modelling is and how to perform one"
   ]
  },
  {
   "cell_type": "markdown",
   "metadata": {},
   "source": [
    "<div class=\"usecase-section-header\"><i><b>Introduction</i></b></div>"
   ]
  },
  {
   "cell_type": "markdown",
   "metadata": {},
   "source": [
    "To complete our bird habitat analysis, two datasets will be used.  These datasets will include below:\n",
    "\n",
    "* Bird survey result for areas in the city of Melbourne in February and March 2018 - \n",
    "The bird survey contains data from multiple river and wetland sites in Melbourne. Surveys were conducted by Ecology Australia during February and March 2018, recording species richness and numbers. \n",
    "* Tree canopies public realm 2018 (Urban Forest) - \n",
    "Tree canopy within City of Melbourne mapped using 2018 aerial photos and LiDAR. The canopy polygons represent actual tree canopy extents on public property (land managed by the City of Melbourne) across the city. \n",
    "\n",
    "\n"
   ]
  },
  {
   "cell_type": "markdown",
   "metadata": {
    "tags": []
   },
   "source": [
    "<div style=\"color: blue;\"> Self Notes: \n",
    "\n",
    "\n",
    "- Most common bird species, habitat preferences in terms of trees, analysing migration patterns\n",
    "\n",
    "- Speciies observed location, date, etc\n",
    "\n",
    "- vegetation type, land use? \n",
    "\n",
    "- data cleansing, missingn data, formatting \n",
    "\n",
    "- start with EDA using existing data on bird habitat and then forestation. \n",
    "\n",
    "- merging bird watch data with forestation data \n",
    "\n",
    "- visualisation uisng maps, histograms and plots \n",
    "\n",
    "- predictive modelling to help forecast bird distribution based on environmental factors </div>"
   ]
  },
  {
   "cell_type": "markdown",
   "metadata": {
    "tags": []
   },
   "source": [
    "# **Part 1  - Import modules**"
   ]
  },
  {
   "cell_type": "code",
   "execution_count": 16,
   "metadata": {
    "tags": []
   },
   "outputs": [],
   "source": [
    "# importing required modules\n",
    "\n",
    "import requests\n",
    "import pandas as pd\n",
    "from io import StringIO\n",
    "\n",
    "\n"
   ]
  },
  {
   "cell_type": "markdown",
   "metadata": {
    "tags": []
   },
   "source": [
    "# **Part 2  - Fetching Bird Data from Melbourne Open Data**\n",
    "\n"
   ]
  },
  {
   "cell_type": "code",
   "execution_count": 19,
   "metadata": {
    "tags": []
   },
   "outputs": [
    {
     "name": "stdout",
     "output_type": "stream",
     "text": [
      "    sighting_date                   common_name  \\\n",
      "194    2018-02-28        New Holland Honeyeater   \n",
      "490    2018-02-15       White-plumed Honeyeater   \n",
      "253    2018-02-15               Brown Thornbill   \n",
      "279    2018-02-15  Phylidonyris novaehollandiae   \n",
      "94     2018-02-15                 Chestnut Teal   \n",
      "151    2018-02-15            Australasian Grebe   \n",
      "233    2018-02-28                   Magpie-lark   \n",
      "124    2018-03-19              Rainbow Lorikeet   \n",
      "457    2018-02-15                   Silver Gull   \n",
      "211    2018-02-28                Willie Wagtail   \n",
      "\n",
      "                     scientific_name  sighting_count  \\\n",
      "194     Phylidonyris novaehollandiae               0   \n",
      "490       Lichenostomus penicillatus              56   \n",
      "253                Acanthiza pusilla               0   \n",
      "279           New Holland Honeyeater               0   \n",
      "94                     Anas castanea              29   \n",
      "151      Tachybaptus novaehollandiae               4   \n",
      "233              Grallina cyanoleuca               2   \n",
      "124         Trichoglossus haematodus              22   \n",
      "457  Chroicocephalus novaehollandiae               6   \n",
      "211             Rhipidura leucophrys               2   \n",
      "\n",
      "     victorian_biodiversity_atlas_code      lat       lon  \\\n",
      "194                              10631 -37.8038  144.9118   \n",
      "490                              10625 -37.7792  144.9482   \n",
      "253                              10475 -37.8054  144.9364   \n",
      "279                              10631 -37.8054  144.9364   \n",
      "94                               10210 -37.8054  144.9364   \n",
      "151                              10061 -37.7792  144.9482   \n",
      "233                              10415 -37.8028  144.9249   \n",
      "124                              10254 -37.8054  144.9364   \n",
      "457                              10125 -37.8054  144.9364   \n",
      "211                              10364 -37.8038  144.9118   \n",
      "\n",
      "                                             loc1_desc     lat2      lon2  \\\n",
      "194  Dynon Road Tidal Canal Wildlife Sanctuary Down...      NaN       NaN   \n",
      "490  Royal Park un-named drain at Upstream Limit at... -37.7820  144.9403   \n",
      "253  Moonee Ponds Creek Downstream Limit at Dynon Road -37.7891  144.9372   \n",
      "279  Moonee Ponds Creek Downstream Limit at Dynon Road -37.7891  144.9372   \n",
      "94   Moonee Ponds Creek Downstream Limit at Dynon Road -37.7891  144.9372   \n",
      "151  Royal Park un-named drain at Upstream Limit at... -37.7820  144.9403   \n",
      "233              Dynon Road Tidal Canal Upstream Limit      NaN       NaN   \n",
      "124  Moonee Ponds Creek Downstream Limit at Dynon Road -37.7891  144.9372   \n",
      "457  Moonee Ponds Creek Downstream Limit at Dynon Road -37.7891  144.9372   \n",
      "211  Dynon Road Tidal Canal Wildlife Sanctuary Down...      NaN       NaN   \n",
      "\n",
      "                                             loc2_desc  \\\n",
      "194                                                NaN   \n",
      "490  Royal Park un-named drain at Downstream Limit ...   \n",
      "253  Moonee Ponds Creek Upstream Limit at Racecours...   \n",
      "279  Moonee Ponds Creek Upstream Limit at Racecours...   \n",
      "94   Moonee Ponds Creek Upstream Limit at Racecours...   \n",
      "151  Royal Park un-named drain at Downstream Limit ...   \n",
      "233                                                NaN   \n",
      "124  Moonee Ponds Creek Upstream Limit at Racecours...   \n",
      "457  Moonee Ponds Creek Upstream Limit at Racecours...   \n",
      "211                                                NaN   \n",
      "\n",
      "                                     site_name                 location_2  \\\n",
      "194  Dynon Road Tidal Canal Wildlife Sanctuary                        NaN   \n",
      "490                                 Royal Park   POINT (144.9403 -37.782)   \n",
      "253                         Moonee Ponds Creek  POINT (144.9372 -37.7891)   \n",
      "279                         Moonee Ponds Creek  POINT (144.9372 -37.7891)   \n",
      "94                          Moonee Ponds Creek  POINT (144.9372 -37.7891)   \n",
      "151                                 Royal Park   POINT (144.9403 -37.782)   \n",
      "233                     Dynon Road Tidal Drain                        NaN   \n",
      "124                         Moonee Ponds Creek  POINT (144.9372 -37.7891)   \n",
      "457                         Moonee Ponds Creek  POINT (144.9372 -37.7891)   \n",
      "211  Dynon Road Tidal Canal Wildlife Sanctuary                        NaN   \n",
      "\n",
      "             location_1  \n",
      "194  -37.8038, 144.9118  \n",
      "490  -37.7792, 144.9482  \n",
      "253  -37.8054, 144.9364  \n",
      "279  -37.8054, 144.9364  \n",
      "94   -37.8054, 144.9364  \n",
      "151  -37.7792, 144.9482  \n",
      "233  -37.8028, 144.9249  \n",
      "124  -37.8054, 144.9364  \n",
      "457  -37.8054, 144.9364  \n",
      "211  -37.8038, 144.9118  \n"
     ]
    }
   ],
   "source": [
    "\n",
    "# https://data.melbourne.vic.gov.au/explore/dataset/bird-survey-results-for-areas-in-the-city-of-melbourne-february-and-march-2018/information/\n",
    "dataset_id = 'bird-survey-results-for-areas-in-the-city-of-melbourne-february-and-march-2018'\n",
    "\n",
    "base_url = 'https://data.melbourne.vic.gov.au/api/explore/v2.1/catalog/datasets/'\n",
    "apikey = '4c44c55c760b7d02daa2cec6c2f9694dd83a235304201abab776f260'\n",
    "dataset_id = dataset_id\n",
    "format = 'csv'\n",
    "\n",
    "url = f'{base_url}{dataset_id}/exports/{format}'\n",
    "params = {\n",
    "    'select': '*',\n",
    "    'limit': -1, # all records\n",
    "    'lang': 'en',\n",
    "    'timezone': 'UTC',\n",
    "    'api_key': apikey\n",
    "}\n",
    "\n",
    "#GET request \n",
    "response = requests.get(url, params = params)\n",
    "\n",
    "if response.status_code == 200:\n",
    "    # StringIO to read the CSV data\n",
    "    url_content = response.content.decode('utf-8')\n",
    "    bird_df = pd.read_csv(StringIO(url_content), delimiter= ';')\n",
    "    print(bird_df.sample(10, random_state = 999))\n",
    "else: \n",
    "    print(f'Request failed with status code{response.status_code}')"
   ]
  },
  {
   "cell_type": "code",
   "execution_count": 21,
   "metadata": {
    "tags": []
   },
   "outputs": [
    {
     "name": "stdout",
     "output_type": "stream",
     "text": [
      "498\n"
     ]
    }
   ],
   "source": [
    "num_records = len(bird_df)\n",
    "print(num_records)"
   ]
  },
  {
   "cell_type": "markdown",
   "metadata": {
    "tags": []
   },
   "source": [
    "# **Part 3  - Pre-processing Bird Data Melbourne Open Data**"
   ]
  },
  {
   "cell_type": "code",
   "execution_count": null,
   "metadata": {},
   "outputs": [],
   "source": []
  },
  {
   "cell_type": "code",
   "execution_count": null,
   "metadata": {},
   "outputs": [],
   "source": []
  },
  {
   "cell_type": "markdown",
   "metadata": {
    "tags": []
   },
   "source": [
    "# **Part 4 - Fetching Urban Vegetation Data**\n",
    "\n"
   ]
  },
  {
   "cell_type": "code",
   "execution_count": 22,
   "metadata": {
    "tags": []
   },
   "outputs": [
    {
     "name": "stdout",
     "output_type": "stream",
     "text": [
      "                                  geo_point_2d  \\\n",
      "4993      -37.8145751551352, 144.9805895596095   \n",
      "31513  -37.811588080384624, 144.99040585561755   \n",
      "18171   -37.78616959177923, 144.95382302087543   \n",
      "7396    -37.79089429044354, 144.92768549788764   \n",
      "31227    -37.82301993173705, 144.9416856152476   \n",
      "20428   -37.82674112740275, 144.97512551907522   \n",
      "4737     -37.81591180158867, 144.9744943079432   \n",
      "4481    -37.817795135955464, 144.9726307355313   \n",
      "29950    -37.83716631249747, 144.9779636716906   \n",
      "20014     -37.8110065481589, 144.9357091714089   \n",
      "\n",
      "                                               geo_shape  objectid  \\\n",
      "4993   {\"coordinates\": [[[[144.98056781409096, -37.81...      9397   \n",
      "31513  {\"coordinates\": [[[[144.99040644351783, -37.81...     11175   \n",
      "18171  {\"coordinates\": [[[[144.95382083324688, -37.78...     28617   \n",
      "7396   {\"coordinates\": [[[[144.92767708810658, -37.79...     25380   \n",
      "31227  {\"coordinates\": [[[[144.94168228689136, -37.82...      5436   \n",
      "20428  {\"coordinates\": [[[[144.9751606587511, -37.826...      3878   \n",
      "4737   {\"coordinates\": [[[[144.97449448652245, -37.81...      8625   \n",
      "4481   {\"coordinates\": [[[[144.97263517750702, -37.81...      7940   \n",
      "29950  {\"coordinates\": [[[[144.97784274866694, -37.83...      1092   \n",
      "20014  {\"coordinates\": [[[[144.93571697607092, -37.81...     10975   \n",
      "\n",
      "       shape_leng  shape_area  \n",
      "4993    61.710447  206.310391  \n",
      "31513   12.340230    8.577420  \n",
      "18171    3.188692    0.759673  \n",
      "7396     5.004602    1.942535  \n",
      "31227    7.710808    4.340710  \n",
      "20428  139.015668  198.814813  \n",
      "4737     5.957993    2.621484  \n",
      "4481     4.722771    1.241372  \n",
      "29950   65.704061  203.880823  \n",
      "20014   17.652140   22.683366  \n"
     ]
    }
   ],
   "source": [
    "# https://data.melbourne.vic.gov.au/explore/dataset/tree-canopies-public-realm-2018-urban-forest/information/\n",
    "dataset_id = 'tree-canopies-public-realm-2018-urban-forest'\n",
    "\n",
    "base_url = 'https://data.melbourne.vic.gov.au/api/explore/v2.1/catalog/datasets/'\n",
    "apikey = '4c44c55c760b7d02daa2cec6c2f9694dd83a235304201abab776f260'\n",
    "dataset_id = dataset_id\n",
    "format = 'csv'\n",
    "\n",
    "url = f'{base_url}{dataset_id}/exports/{format}'\n",
    "params = {\n",
    "    'select': '*',\n",
    "    'limit': -1, # all records\n",
    "    'lang': 'en',\n",
    "    'timezone': 'UTC',\n",
    "    'api_key': apikey\n",
    "}\n",
    "\n",
    "#GET request \n",
    "response = requests.get(url, params = params)\n",
    "\n",
    "if response.status_code == 200:\n",
    "    # StringIO to read the CSV data\n",
    "    url_content = response.content.decode('utf-8')\n",
    "    canopies_df = pd.read_csv(StringIO(url_content), delimiter= ';')\n",
    "    print(canopies_df.sample(10, random_state = 999))\n",
    "else: \n",
    "    print(f'Request failed with status code{response.status_code}')"
   ]
  },
  {
   "cell_type": "code",
   "execution_count": 23,
   "metadata": {
    "tags": []
   },
   "outputs": [
    {
     "name": "stdout",
     "output_type": "stream",
     "text": [
      "32787\n"
     ]
    }
   ],
   "source": [
    "num_records = len(canopies_df)\n",
    "print(num_records)"
   ]
  },
  {
   "cell_type": "code",
   "execution_count": 28,
   "metadata": {
    "tags": []
   },
   "outputs": [
    {
     "ename": "KeyError",
     "evalue": "'Geo Point'",
     "output_type": "error",
     "traceback": [
      "\u001b[0;31m---------------------------------------------------------------------------\u001b[0m",
      "\u001b[0;31mKeyError\u001b[0m                                  Traceback (most recent call last)",
      "File \u001b[0;32m/opt/anaconda3/envs/MelbourneCityOpenData/lib/python3.8/site-packages/pandas/core/indexes/base.py:3653\u001b[0m, in \u001b[0;36mIndex.get_loc\u001b[0;34m(self, key)\u001b[0m\n\u001b[1;32m   3652\u001b[0m \u001b[38;5;28;01mtry\u001b[39;00m:\n\u001b[0;32m-> 3653\u001b[0m     \u001b[38;5;28;01mreturn\u001b[39;00m \u001b[38;5;28;43mself\u001b[39;49m\u001b[38;5;241;43m.\u001b[39;49m\u001b[43m_engine\u001b[49m\u001b[38;5;241;43m.\u001b[39;49m\u001b[43mget_loc\u001b[49m\u001b[43m(\u001b[49m\u001b[43mcasted_key\u001b[49m\u001b[43m)\u001b[49m\n\u001b[1;32m   3654\u001b[0m \u001b[38;5;28;01mexcept\u001b[39;00m \u001b[38;5;167;01mKeyError\u001b[39;00m \u001b[38;5;28;01mas\u001b[39;00m err:\n",
      "File \u001b[0;32m/opt/anaconda3/envs/MelbourneCityOpenData/lib/python3.8/site-packages/pandas/_libs/index.pyx:147\u001b[0m, in \u001b[0;36mpandas._libs.index.IndexEngine.get_loc\u001b[0;34m()\u001b[0m\n",
      "File \u001b[0;32m/opt/anaconda3/envs/MelbourneCityOpenData/lib/python3.8/site-packages/pandas/_libs/index.pyx:176\u001b[0m, in \u001b[0;36mpandas._libs.index.IndexEngine.get_loc\u001b[0;34m()\u001b[0m\n",
      "File \u001b[0;32mpandas/_libs/hashtable_class_helper.pxi:7080\u001b[0m, in \u001b[0;36mpandas._libs.hashtable.PyObjectHashTable.get_item\u001b[0;34m()\u001b[0m\n",
      "File \u001b[0;32mpandas/_libs/hashtable_class_helper.pxi:7088\u001b[0m, in \u001b[0;36mpandas._libs.hashtable.PyObjectHashTable.get_item\u001b[0;34m()\u001b[0m\n",
      "\u001b[0;31mKeyError\u001b[0m: 'Geo Point'",
      "\nThe above exception was the direct cause of the following exception:\n",
      "\u001b[0;31mKeyError\u001b[0m                                  Traceback (most recent call last)",
      "Cell \u001b[0;32mIn[28], line 5\u001b[0m\n\u001b[1;32m      2\u001b[0m \u001b[38;5;28;01mfrom\u001b[39;00m \u001b[38;5;21;01mfolium\u001b[39;00m\u001b[38;5;21;01m.\u001b[39;00m\u001b[38;5;21;01mplugins\u001b[39;00m \u001b[38;5;28;01mimport\u001b[39;00m MarkerCluster\n\u001b[1;32m      4\u001b[0m \u001b[38;5;66;03m# Find the center of the map\u001b[39;00m\n\u001b[0;32m----> 5\u001b[0m center_lat, center_lon \u001b[38;5;241m=\u001b[39m \u001b[43mcanopies_df\u001b[49m\u001b[43m[\u001b[49m\u001b[38;5;124;43m'\u001b[39;49m\u001b[38;5;124;43mGeo Point\u001b[39;49m\u001b[38;5;124;43m'\u001b[39;49m\u001b[43m]\u001b[49m\u001b[38;5;241m.\u001b[39miloc[\u001b[38;5;241m0\u001b[39m]\u001b[38;5;241m.\u001b[39msplit(\u001b[38;5;124m'\u001b[39m\u001b[38;5;124m, \u001b[39m\u001b[38;5;124m'\u001b[39m)\n\u001b[1;32m      7\u001b[0m \u001b[38;5;66;03m# Create a map centered at the specified location\u001b[39;00m\n\u001b[1;32m      8\u001b[0m my_map \u001b[38;5;241m=\u001b[39m folium\u001b[38;5;241m.\u001b[39mMap(location\u001b[38;5;241m=\u001b[39m[\u001b[38;5;28mfloat\u001b[39m(center_lat), \u001b[38;5;28mfloat\u001b[39m(center_lon)], zoom_start\u001b[38;5;241m=\u001b[39m\u001b[38;5;241m10\u001b[39m)\n",
      "File \u001b[0;32m/opt/anaconda3/envs/MelbourneCityOpenData/lib/python3.8/site-packages/pandas/core/frame.py:3761\u001b[0m, in \u001b[0;36mDataFrame.__getitem__\u001b[0;34m(self, key)\u001b[0m\n\u001b[1;32m   3759\u001b[0m \u001b[38;5;28;01mif\u001b[39;00m \u001b[38;5;28mself\u001b[39m\u001b[38;5;241m.\u001b[39mcolumns\u001b[38;5;241m.\u001b[39mnlevels \u001b[38;5;241m>\u001b[39m \u001b[38;5;241m1\u001b[39m:\n\u001b[1;32m   3760\u001b[0m     \u001b[38;5;28;01mreturn\u001b[39;00m \u001b[38;5;28mself\u001b[39m\u001b[38;5;241m.\u001b[39m_getitem_multilevel(key)\n\u001b[0;32m-> 3761\u001b[0m indexer \u001b[38;5;241m=\u001b[39m \u001b[38;5;28;43mself\u001b[39;49m\u001b[38;5;241;43m.\u001b[39;49m\u001b[43mcolumns\u001b[49m\u001b[38;5;241;43m.\u001b[39;49m\u001b[43mget_loc\u001b[49m\u001b[43m(\u001b[49m\u001b[43mkey\u001b[49m\u001b[43m)\u001b[49m\n\u001b[1;32m   3762\u001b[0m \u001b[38;5;28;01mif\u001b[39;00m is_integer(indexer):\n\u001b[1;32m   3763\u001b[0m     indexer \u001b[38;5;241m=\u001b[39m [indexer]\n",
      "File \u001b[0;32m/opt/anaconda3/envs/MelbourneCityOpenData/lib/python3.8/site-packages/pandas/core/indexes/base.py:3655\u001b[0m, in \u001b[0;36mIndex.get_loc\u001b[0;34m(self, key)\u001b[0m\n\u001b[1;32m   3653\u001b[0m     \u001b[38;5;28;01mreturn\u001b[39;00m \u001b[38;5;28mself\u001b[39m\u001b[38;5;241m.\u001b[39m_engine\u001b[38;5;241m.\u001b[39mget_loc(casted_key)\n\u001b[1;32m   3654\u001b[0m \u001b[38;5;28;01mexcept\u001b[39;00m \u001b[38;5;167;01mKeyError\u001b[39;00m \u001b[38;5;28;01mas\u001b[39;00m err:\n\u001b[0;32m-> 3655\u001b[0m     \u001b[38;5;28;01mraise\u001b[39;00m \u001b[38;5;167;01mKeyError\u001b[39;00m(key) \u001b[38;5;28;01mfrom\u001b[39;00m \u001b[38;5;21;01merr\u001b[39;00m\n\u001b[1;32m   3656\u001b[0m \u001b[38;5;28;01mexcept\u001b[39;00m \u001b[38;5;167;01mTypeError\u001b[39;00m:\n\u001b[1;32m   3657\u001b[0m     \u001b[38;5;66;03m# If we have a listlike key, _check_indexing_error will raise\u001b[39;00m\n\u001b[1;32m   3658\u001b[0m     \u001b[38;5;66;03m#  InvalidIndexError. Otherwise we fall through and re-raise\u001b[39;00m\n\u001b[1;32m   3659\u001b[0m     \u001b[38;5;66;03m#  the TypeError.\u001b[39;00m\n\u001b[1;32m   3660\u001b[0m     \u001b[38;5;28mself\u001b[39m\u001b[38;5;241m.\u001b[39m_check_indexing_error(key)\n",
      "\u001b[0;31mKeyError\u001b[0m: 'Geo Point'"
     ]
    }
   ],
   "source": [
    "\n"
   ]
  },
  {
   "cell_type": "markdown",
   "metadata": {
    "tags": []
   },
   "source": [
    "# **Part 5 - Pre-processing Urban Vegetation Data**"
   ]
  },
  {
   "cell_type": "markdown",
   "metadata": {},
   "source": [
    "# **References**\n"
   ]
  },
  {
   "cell_type": "markdown",
   "metadata": {},
   "source": []
  }
 ],
 "metadata": {
  "kernelspec": {
   "display_name": "Python 3 (ipykernel)",
   "language": "python",
   "name": "python3"
  },
  "language_info": {
   "codemirror_mode": {
    "name": "ipython",
    "version": 3
   },
   "file_extension": ".py",
   "mimetype": "text/x-python",
   "name": "python",
   "nbconvert_exporter": "python",
   "pygments_lexer": "ipython3",
   "version": "3.8.18"
  },
  "vscode": {
   "interpreter": {
    "hash": "369f2c481f4da34e4445cda3fffd2e751bd1c4d706f27375911949ba6bb62e1c"
   }
  }
 },
 "nbformat": 4,
 "nbformat_minor": 4
}
