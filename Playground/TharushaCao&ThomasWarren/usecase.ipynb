{
 "cells": [
  {
   "cell_type": "markdown",
   "metadata": {},
   "source": [
    "_**DELETE BEFORE PUBLISHING**_\n",
    "\n",
    "_This is a template also containing the style guide for use cases. The styling uses the use-case css when uploaded to the website, which will not be visible on your local machine._\n",
    "\n",
    "_Change any text marked with {} and delete any cells marked DELETE_\n",
    "\n",
    "***"
   ]
  },
  {
   "cell_type": "code",
   "execution_count": 1,
   "metadata": {},
   "outputs": [
    {
     "data": {
      "text/html": [
       "\n",
       "<style>\n",
       ".usecase-title, .usecase-duration, .usecase-section-header {\n",
       "    padding-left: 15px;\n",
       "    padding-bottom: 10px;\n",
       "    padding-top: 10px;\n",
       "    padding-right: 15px;\n",
       "    background-color: #0f9295;\n",
       "    color: #fff;\n",
       "}\n",
       "\n",
       ".usecase-title {\n",
       "    font-size: 1.7em;\n",
       "    font-weight: bold;\n",
       "}\n",
       "\n",
       ".usecase-authors, .usecase-level, .usecase-skill {\n",
       "    padding-left: 15px;\n",
       "    padding-bottom: 7px;\n",
       "    padding-top: 7px;\n",
       "    background-color: #baeaeb;\n",
       "    font-size: 1.4em;\n",
       "    color: #121212;\n",
       "}\n",
       "\n",
       ".usecase-level-skill  {\n",
       "    display: flex;\n",
       "}\n",
       "\n",
       ".usecase-level, .usecase-skill {\n",
       "    width: 50%;\n",
       "}\n",
       "\n",
       ".usecase-duration, .usecase-skill {\n",
       "    text-align: right;\n",
       "    padding-right: 15px;\n",
       "    padding-bottom: 8px;\n",
       "    font-size: 1.4em;\n",
       "}\n",
       "\n",
       ".usecase-section-header {\n",
       "    font-weight: bold;\n",
       "    font-size: 1.5em;\n",
       "}\n",
       "\n",
       ".usecase-subsection-header, .usecase-subsection-blurb {\n",
       "    font-weight: bold;\n",
       "    font-size: 1.2em;\n",
       "    color: #121212;\n",
       "}\n",
       "\n",
       ".usecase-subsection-blurb {\n",
       "    font-size: 1em;\n",
       "    font-style: italic;\n",
       "}\n",
       "</style>\n"
      ],
      "text/plain": [
       "<IPython.core.display.HTML object>"
      ]
     },
     "execution_count": 1,
     "metadata": {},
     "output_type": "execute_result"
    }
   ],
   "source": [
    "# DELETE BEFORE PUBLISHING\n",
    "# This is just here so you can preview the styling on your local machine\n",
    "\n",
    "from IPython.core.display import HTML\n",
    "HTML(\"\"\"\n",
    "<style>\n",
    ".usecase-title, .usecase-duration, .usecase-section-header {\n",
    "    padding-left: 15px;\n",
    "    padding-bottom: 10px;\n",
    "    padding-top: 10px;\n",
    "    padding-right: 15px;\n",
    "    background-color: #0f9295;\n",
    "    color: #fff;\n",
    "}\n",
    "\n",
    ".usecase-title {\n",
    "    font-size: 1.7em;\n",
    "    font-weight: bold;\n",
    "}\n",
    "\n",
    ".usecase-authors, .usecase-level, .usecase-skill {\n",
    "    padding-left: 15px;\n",
    "    padding-bottom: 7px;\n",
    "    padding-top: 7px;\n",
    "    background-color: #baeaeb;\n",
    "    font-size: 1.4em;\n",
    "    color: #121212;\n",
    "}\n",
    "\n",
    ".usecase-level-skill  {\n",
    "    display: flex;\n",
    "}\n",
    "\n",
    ".usecase-level, .usecase-skill {\n",
    "    width: 50%;\n",
    "}\n",
    "\n",
    ".usecase-duration, .usecase-skill {\n",
    "    text-align: right;\n",
    "    padding-right: 15px;\n",
    "    padding-bottom: 8px;\n",
    "    font-size: 1.4em;\n",
    "}\n",
    "\n",
    ".usecase-section-header {\n",
    "    font-weight: bold;\n",
    "    font-size: 1.5em;\n",
    "}\n",
    "\n",
    ".usecase-subsection-header, .usecase-subsection-blurb {\n",
    "    font-weight: bold;\n",
    "    font-size: 1.2em;\n",
    "    color: #121212;\n",
    "}\n",
    "\n",
    ".usecase-subsection-blurb {\n",
    "    font-size: 1em;\n",
    "    font-style: italic;\n",
    "}\n",
    "</style>\n",
    "\"\"\")"
   ]
  },
  {
   "cell_type": "markdown",
   "metadata": {},
   "source": [
    "<div class=\"usecase-title\">Litter Traps & Public BBQ - Reduce Melbourn River litter near public BBQ's</div>\n",
    "\n",
    "<div class=\"usecase-authors\"><b>Authored by: </b> Tharusha Cao, Thomas Warren  </div>"
   ]
  },
  {
   "cell_type": "markdown",
   "metadata": {},
   "source": [
    "<div class=\"usecase-duration\"><b>Duration:</b> 180 mins</div>\n",
    "\n",
    "<div class=\"usecase-level-skill\">\n",
    "    <div class=\"usecase-level\"><b>Level: </b>Beginner</div>\n",
    "    <div class=\"usecase-skill\"><b>Pre-requisite Skills: </b>Python</div>\n",
    "</div>"
   ]
  },
  {
   "cell_type": "markdown",
   "metadata": {},
   "source": [
    "<div class=\"usecase-section-header\">Scenario</div>"
   ]
  },
  {
   "cell_type": "markdown",
   "metadata": {},
   "source": [
    "1. As a City PLanner i want to ensure the future development will make sure less pollution on the river\n",
    "\n",
    "2. As a Citizen i want to enjoy a clean view and non polluted water while still be able to enjoy outdoor activities\n"
   ]
  },
  {
   "cell_type": "markdown",
   "metadata": {},
   "source": [
    "<div class=\"usecase-section-header\">What this use case will teach you</div>\n"
   ]
  },
  {
   "cell_type": "markdown",
   "metadata": {},
   "source": [
    "At the end of this use case you will:\n",
    "- Find if more litter traps are needed\n",
    "- Learn data analysis\n",
    "\n",
    "### What data analysis techniques will be used ?\n",
    "\n"
   ]
  },
  {
   "cell_type": "markdown",
   "metadata": {},
   "source": [
    "<div class=\"usecase-section-header\">Increase in river pollution?</div>"
   ]
  },
  {
   "cell_type": "markdown",
   "metadata": {},
   "source": [
    "{Write your introduction here. Keep it concise. We're not after \"War and Peace\" but enough background information to inform the reader on the rationale for solving this problem or background non-technical information that helps explain the approach. You may also wish to give information on the datasets, particularly how to source those not being imported from the client's open data portal.}\n",
    "\n"
   ]
  },
  {
   "cell_type": "markdown",
   "metadata": {},
   "source": [
    "***\n",
    "\n",
    "_**DELETE BEFORE PUBLISHING**_\n",
    "\n",
    "## Style guide for use cases\n",
    "\n",
    "### Headers\n",
    "\n",
    "For styling within your markdown cells, there are two choices you can use for headers.\n",
    "\n",
    "1) You can use HTML classes specific to the use case styling:\n",
    "\n",
    "```<p class=\"usecase-subsection-header\">This is a subsection header.</p>```\n",
    "\n",
    "<p style=\"font-weight: bold; font-size: 1.2em;\">This is a subsection header.</p>\n",
    "\n",
    "```<p class=\"usecase-subsection-blurb\">This is a blurb header.</p>```\n",
    "\n",
    "<p style=\"font-weight: bold; font-size: 1em; font-style:italic;\">This is a blurb header.</p>\n",
    "\n",
    "\n",
    "2) Or if you like you can use the markdown header styles:\n",
    "\n",
    "```# for h1```\n",
    "\n",
    "```## for h2```\n",
    "\n",
    "```### for h3```\n",
    "\n",
    "```#### for h4```\n",
    "\n",
    "```##### for h5```\n",
    "\n",
    "## Plot colour schemes\n",
    "\n",
    "General advice:\n",
    "1. Use the same colour or colour palette throughout your notebook, unless variety is necessary\n",
    "2. Select a palette based on the type of data being represented\n",
    "3. Consider accessibility (colourblindness, low vision)\n",
    "\n",
    "#### 1) If all of your plots only use 1-2 colors use one of the company style colors:\n",
    "\n",
    "| Light theme | Dark Theme |\n",
    "|-----|-----|\n",
    "|<p style=\"color:#2af598;\">#2af598</p>|<p style=\"color:#08af64;\">#08af64</p>|\n",
    "|<p style=\"color:#22e4ac;\">#22e4ac</p>|<p style=\"color:#14a38e;\">#14a38e</p>|\n",
    "|<p style=\"color:#1bd7bb;\">#1bd7bb</p>|<p style=\"color:#0f9295;\">#0f9295</p>|\n",
    "|<p style=\"color:#14c9cb;\">#14c9cb</p>|<p style=\"color:#056b8a;\">#056b8a</p>|\n",
    "|<p style=\"color:#0fbed8;\">#0fbed8</p>|<p style=\"color:#121212;\">#121212</p>|\n",
    "|<p style=\"color:#08b3e5;\">#08b3e5</p>||\n",
    "\n",
    "\n",
    "#### 2) If your plot needs multiple colors, choose an appropriate palette using either of the following tutorials:\n",
    "- https://seaborn.pydata.org/tutorial/color_palettes.html\n",
    "- https://matplotlib.org/stable/tutorials/colors/colormaps.html\n",
    "\n",
    "#### 3) Consider accessibility as well.\n",
    "\n",
    "For qualitative plotting Seaborn's 'colorblind' palette is recommended. For maps with sequential or diverging it is recommended to use one of the Color Brewer schemes which can be previewed at https://colorbrewer2.org/.\n",
    "\n",
    "If you want to design your own colour scheme, it should use the same principles as Cynthia Brewer's research (with variation not only in hue but also, saturation or luminance).\n",
    "\n",
    "### References\n",
    "\n",
    "Be sure to acknowledge your sources and any attributions using links or a reference list.\n",
    "\n",
    "If you have quite a few references, you might wish to have a dedicated section for references at the end of your document, linked using footnote style numbers.\n",
    "\n",
    "You can connect your in-text reference by adding the number with a HTML link: ```<a href=\"#fn-1\">[1]</a>```\n",
    "\n",
    "and add a matching ID in the reference list using the ```<fn>``` tag: ```<fn id=\"fn-1\">[1] Author (Year) _Title_, Publisher, Publication location.</fn>```"
   ]
  },
  {
   "cell_type": "markdown",
   "metadata": {},
   "source": []
  },
  {
   "cell_type": "code",
   "execution_count": 2,
   "metadata": {},
   "outputs": [],
   "source": [
    "###################################################################\n",
    "# Libraries used Will be :\n",
    "###################################################################\n",
    "\n"
   ]
  },
  {
   "cell_type": "code",
   "execution_count": 1,
   "metadata": {},
   "outputs": [
    {
     "name": "stdout",
     "output_type": "stream",
     "text": [
      "Requirement already satisfied: requests in d:\\python\\envs\\capstoneteamproject\\lib\\site-packages (2.31.0)\n",
      "Requirement already satisfied: charset-normalizer<4,>=2 in d:\\python\\envs\\capstoneteamproject\\lib\\site-packages (from requests) (3.3.2)\n",
      "Requirement already satisfied: idna<4,>=2.5 in d:\\python\\envs\\capstoneteamproject\\lib\\site-packages (from requests) (3.4)\n",
      "Requirement already satisfied: urllib3<3,>=1.21.1 in d:\\python\\envs\\capstoneteamproject\\lib\\site-packages (from requests) (2.1.0)\n",
      "Requirement already satisfied: certifi>=2017.4.17 in d:\\python\\envs\\capstoneteamproject\\lib\\site-packages (from requests) (2023.7.22)\n",
      "Requirement already satisfied: pandas in d:\\python\\envs\\capstoneteamproject\\lib\\site-packages (2.1.3)\n",
      "Requirement already satisfied: numpy<2,>=1.23.2 in d:\\python\\envs\\capstoneteamproject\\lib\\site-packages (from pandas) (1.26.2)\n",
      "Requirement already satisfied: python-dateutil>=2.8.2 in d:\\python\\envs\\capstoneteamproject\\lib\\site-packages (from pandas) (2.8.2)\n",
      "Requirement already satisfied: pytz>=2020.1 in d:\\python\\envs\\capstoneteamproject\\lib\\site-packages (from pandas) (2023.3.post1)\n",
      "Requirement already satisfied: tzdata>=2022.1 in d:\\python\\envs\\capstoneteamproject\\lib\\site-packages (from pandas) (2023.3)\n",
      "Requirement already satisfied: six>=1.5 in d:\\python\\envs\\capstoneteamproject\\lib\\site-packages (from python-dateutil>=2.8.2->pandas) (1.16.0)\n"
     ]
    }
   ],
   "source": [
    "!pip install requests\n",
    "!pip install pandas"
   ]
  },
  {
   "cell_type": "code",
   "execution_count": 1,
   "metadata": {},
   "outputs": [],
   "source": [
    "import requests\n",
    "import pandas as pd"
   ]
  },
  {
   "cell_type": "code",
   "execution_count": 2,
   "metadata": {},
   "outputs": [],
   "source": [
    "# Function that extracts the data from the JSON \n",
    "def get_data(base, data_url, offset = 0):\n",
    "    \n",
    "    filters = f'records?limit={100}&offset={offset}&timezone=UTC'\n",
    "    url = f'{base}{data_url}/{filters}'\n",
    "    result = requests.get(url)\n",
    "    # if you need to extract more than 9900 records, enter the api key like below\n",
    "    result = requests.get(url + f'&apikey={\"b2fa87faf7f7445402589661df46ea39e81cb1ae78a2fcd4b67fcff0\"}')\n",
    "    result_json = result.json()\n",
    "    max_results = result_json['total_count']\n",
    "    links = result_json['links']\n",
    "    records = result_json['records']\n",
    "    records_df = pd.json_normalize(records)\n",
    "    \n",
    "    # fix columns names\n",
    "    records_df.drop(columns=['links'],inplace=True)\n",
    "    column_names = records_df.columns.values.tolist()\n",
    "    \n",
    "    column_names = [i.split('.')[-1] for i in column_names]\n",
    "    records_df.columns = column_names\n",
    "    \n",
    "    next_url = None\n",
    "    \n",
    "    # get next url\n",
    "    if records_df.shape[0] != max_results:\n",
    "        for l in links:\n",
    "            if l['rel']=='next':\n",
    "                next_url = l['href']\n",
    "                \n",
    "    return [records_df, next_url, column_names]"
   ]
  },
  {
   "cell_type": "code",
   "execution_count": 3,
   "metadata": {},
   "outputs": [],
   "source": [
    "# Appends each set of data \n",
    "def add_to_dataframe(dataframe, new_data):\n",
    "    df = pd.concat([dataframe, new_data])\n",
    "    return df"
   ]
  },
  {
   "cell_type": "code",
   "execution_count": 4,
   "metadata": {},
   "outputs": [],
   "source": [
    "\n",
    "# Extracts the data from the url to produce a pandas dataset\n",
    "def extract_dataframe(dataset):\n",
    "    df_new, url_next, column_names = get_data(base_url, dataset)\n",
    "    df = pd.DataFrame(columns=column_names)\n",
    "    while url_next != None:\n",
    "        df_new, url_next, column_names = get_data(base_url, dataset, df.shape[0])\n",
    "        df = add_to_dataframe(df, df_new)\n",
    "        # This limits the dataset to only 9900 entries, should be removed if you want to import more data\n",
    "        # To get more than 9900, enter the API key in the get data function\n",
    "        if df.shape[0] == 9900:\n",
    "            break\n",
    "    return df"
   ]
  },
  {
   "cell_type": "code",
   "execution_count": 5,
   "metadata": {},
   "outputs": [],
   "source": [
    "# Base url for v2 api\n",
    "base_url = 'https://data.melbourne.vic.gov.au/api/explore/v2.0/catalog/datasets/'\n",
    "\n",
    "# A filter at the end of the url\n",
    "number_of_records = 100\n",
    "filters = f'records?limit={number_of_records}&offset=0&timezone=UTC'\n",
    "\n",
    "# The generated url\n",
    "# dataset_url = f'{base_url}{dataset}/{filters}'"
   ]
  },
  {
   "cell_type": "code",
   "execution_count": 6,
   "metadata": {},
   "outputs": [],
   "source": [
    "# Call the function and produce a dataframe\n",
    "#cafe_res_sc_dataframe = extract_dataframe(\"cafes-and-restaurants-with-seating-capacity\")\n",
    "#public_BBQ_dataframe = extract_dataframe(\"public-barbecues\")\n",
    "df = extract_dataframe(\"litter-traps\")"
   ]
  },
  {
   "cell_type": "code",
   "execution_count": 7,
   "metadata": {},
   "outputs": [
    {
     "data": {
      "text/html": [
       "<div>\n",
       "<style scoped>\n",
       "    .dataframe tbody tr th:only-of-type {\n",
       "        vertical-align: middle;\n",
       "    }\n",
       "\n",
       "    .dataframe tbody tr th {\n",
       "        vertical-align: top;\n",
       "    }\n",
       "\n",
       "    .dataframe thead th {\n",
       "        text-align: right;\n",
       "    }\n",
       "</style>\n",
       "<table border=\"1\" class=\"dataframe\">\n",
       "  <thead>\n",
       "    <tr style=\"text-align: right;\">\n",
       "      <th></th>\n",
       "      <th>id</th>\n",
       "      <th>timestamp</th>\n",
       "      <th>size</th>\n",
       "      <th>asset_number</th>\n",
       "      <th>asset_description</th>\n",
       "      <th>construct_material_lupvalue</th>\n",
       "      <th>inspection_frequency</th>\n",
       "      <th>maintained_by</th>\n",
       "      <th>object_type_lupvalue</th>\n",
       "      <th>lat</th>\n",
       "      <th>lon</th>\n",
       "      <th>lon</th>\n",
       "      <th>lat</th>\n",
       "    </tr>\n",
       "  </thead>\n",
       "  <tbody>\n",
       "  </tbody>\n",
       "</table>\n",
       "</div>"
      ],
      "text/plain": [
       "Empty DataFrame\n",
       "Columns: [id, timestamp, size, asset_number, asset_description, construct_material_lupvalue, inspection_frequency, maintained_by, object_type_lupvalue, lat, lon, lon, lat]\n",
       "Index: []"
      ]
     },
     "execution_count": 7,
     "metadata": {},
     "output_type": "execute_result"
    }
   ],
   "source": [
    "df"
   ]
  },
  {
   "cell_type": "code",
   "execution_count": null,
   "metadata": {},
   "outputs": [],
   "source": []
  },
  {
   "cell_type": "code",
   "execution_count": 8,
   "metadata": {},
   "outputs": [
    {
     "name": "stdout",
     "output_type": "stream",
     "text": [
      "DataFrame is empty.\n"
     ]
    }
   ],
   "source": [
    "if not df.empty:\n",
    "    first_entry = df.iloc[0]\n",
    "    print(first_entry)\n",
    "else:\n",
    "    print(\"DataFrame is empty.\")\n"
   ]
  },
  {
   "cell_type": "code",
   "execution_count": 9,
   "metadata": {},
   "outputs": [],
   "source": [
    "#============================DATAFRAME is Empty ======================================#\n",
    "# until we fix it lets just upload manually"
   ]
  },
  {
   "cell_type": "code",
   "execution_count": null,
   "metadata": {},
   "outputs": [],
   "source": []
  }
 ],
 "metadata": {
  "kernelspec": {
   "display_name": "Python 3 (ipykernel)",
   "language": "python",
   "name": "python3"
  },
  "language_info": {
   "codemirror_mode": {
    "name": "ipython",
    "version": 3
   },
   "file_extension": ".py",
   "mimetype": "text/x-python",
   "name": "python",
   "nbconvert_exporter": "python",
   "pygments_lexer": "ipython3",
   "version": "3.11.5"
  },
  "vscode": {
   "interpreter": {
    "hash": "369f2c481f4da34e4445cda3fffd2e751bd1c4d706f27375911949ba6bb62e1c"
   }
  }
 },
 "nbformat": 4,
 "nbformat_minor": 4
}
