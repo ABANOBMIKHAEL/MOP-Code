{
 "cells": [
  {
   "cell_type": "markdown",
   "metadata": {},
   "source": [
    "_**DELETE BEFORE PUBLISHING**_\n",
    "\n",
    "_This is a template also containing the style guide for use cases. The styling uses the use-case css when uploaded to the website, which will not be visible on your local machine._\n",
    "\n",
    "_Change any text marked with {} and delete any cells marked DELETE_\n",
    "\n",
    "***"
   ]
  },
  {
   "cell_type": "code",
   "execution_count": 1,
   "metadata": {},
   "outputs": [
    {
     "data": {
      "text/html": [
       "\n",
       "<style>\n",
       ".usecase-title, .usecase-duration, .usecase-section-header {\n",
       "    padding-left: 15px;\n",
       "    padding-bottom: 10px;\n",
       "    padding-top: 10px;\n",
       "    padding-right: 15px;\n",
       "    background-color: #0f9295;\n",
       "    color: #fff;\n",
       "}\n",
       "\n",
       ".usecase-title {\n",
       "    font-size: 1.7em;\n",
       "    font-weight: bold;\n",
       "}\n",
       "\n",
       ".usecase-authors, .usecase-level, .usecase-skill {\n",
       "    padding-left: 15px;\n",
       "    padding-bottom: 7px;\n",
       "    padding-top: 7px;\n",
       "    background-color: #baeaeb;\n",
       "    font-size: 1.4em;\n",
       "    color: #121212;\n",
       "}\n",
       "\n",
       ".usecase-level-skill  {\n",
       "    display: flex;\n",
       "}\n",
       "\n",
       ".usecase-level, .usecase-skill {\n",
       "    width: 50%;\n",
       "}\n",
       "\n",
       ".usecase-duration, .usecase-skill {\n",
       "    text-align: right;\n",
       "    padding-right: 15px;\n",
       "    padding-bottom: 8px;\n",
       "    font-size: 1.4em;\n",
       "}\n",
       "\n",
       ".usecase-section-header {\n",
       "    font-weight: bold;\n",
       "    font-size: 1.5em;\n",
       "}\n",
       "\n",
       ".usecase-subsection-header, .usecase-subsection-blurb {\n",
       "    font-weight: bold;\n",
       "    font-size: 1.2em;\n",
       "    color: #121212;\n",
       "}\n",
       "\n",
       ".usecase-subsection-blurb {\n",
       "    font-size: 1em;\n",
       "    font-style: italic;\n",
       "}\n",
       "</style>\n"
      ],
      "text/plain": [
       "<IPython.core.display.HTML object>"
      ]
     },
     "execution_count": 1,
     "metadata": {},
     "output_type": "execute_result"
    }
   ],
   "source": [
    "# DELETE BEFORE PUBLISHING\n",
    "# This is just here so you can preview the styling on your local machine\n",
    "\n",
    "from IPython.core.display import HTML\n",
    "HTML(\"\"\"\n",
    "<style>\n",
    ".usecase-title, .usecase-duration, .usecase-section-header {\n",
    "    padding-left: 15px;\n",
    "    padding-bottom: 10px;\n",
    "    padding-top: 10px;\n",
    "    padding-right: 15px;\n",
    "    background-color: #0f9295;\n",
    "    color: #fff;\n",
    "}\n",
    "\n",
    ".usecase-title {\n",
    "    font-size: 1.7em;\n",
    "    font-weight: bold;\n",
    "}\n",
    "\n",
    ".usecase-authors, .usecase-level, .usecase-skill {\n",
    "    padding-left: 15px;\n",
    "    padding-bottom: 7px;\n",
    "    padding-top: 7px;\n",
    "    background-color: #baeaeb;\n",
    "    font-size: 1.4em;\n",
    "    color: #121212;\n",
    "}\n",
    "\n",
    ".usecase-level-skill  {\n",
    "    display: flex;\n",
    "}\n",
    "\n",
    ".usecase-level, .usecase-skill {\n",
    "    width: 50%;\n",
    "}\n",
    "\n",
    ".usecase-duration, .usecase-skill {\n",
    "    text-align: right;\n",
    "    padding-right: 15px;\n",
    "    padding-bottom: 8px;\n",
    "    font-size: 1.4em;\n",
    "}\n",
    "\n",
    ".usecase-section-header {\n",
    "    font-weight: bold;\n",
    "    font-size: 1.5em;\n",
    "}\n",
    "\n",
    ".usecase-subsection-header, .usecase-subsection-blurb {\n",
    "    font-weight: bold;\n",
    "    font-size: 1.2em;\n",
    "    color: #121212;\n",
    "}\n",
    "\n",
    ".usecase-subsection-blurb {\n",
    "    font-size: 1em;\n",
    "    font-style: italic;\n",
    "}\n",
    "</style>\n",
    "\"\"\")"
   ]
  },
  {
   "cell_type": "markdown",
   "metadata": {},
   "source": [
    "***\n",
    "\n",
    "_**DELETE BEFORE PUBLISHING**_\n",
    "\n",
    "## Style guide for use cases\n",
    "\n",
    "### Headers\n",
    "\n",
    "For styling within your markdown cells, there are two choices you can use for headers.\n",
    "\n",
    "1) You can use HTML classes specific to the use case styling:\n",
    "\n",
    "```<p class=\"usecase-subsection-header\">This is a subsection header.</p>```\n",
    "\n",
    "<p style=\"font-weight: bold; font-size: 1.2em;\">This is a subsection header.</p>\n",
    "\n",
    "```<p class=\"usecase-subsection-blurb\">This is a blurb header.</p>```\n",
    "\n",
    "<p style=\"font-weight: bold; font-size: 1em; font-style:italic;\">This is a blurb header.</p>\n",
    "\n",
    "\n",
    "2) Or if you like you can use the markdown header styles:\n",
    "\n",
    "```# for h1```\n",
    "\n",
    "```## for h2```\n",
    "\n",
    "```### for h3```\n",
    "\n",
    "```#### for h4```\n",
    "\n",
    "```##### for h5```\n",
    "\n",
    "## Plot colour schemes\n",
    "\n",
    "General advice:\n",
    "1. Use the same colour or colour palette throughout your notebook, unless variety is necessary\n",
    "2. Select a palette based on the type of data being represented\n",
    "3. Consider accessibility (colourblindness, low vision)\n",
    "\n",
    "#### 1) If all of your plots only use 1-2 colors use one of the company style colors:\n",
    "\n",
    "| Light theme | Dark Theme |\n",
    "|-----|-----|\n",
    "|<p style=\"color:#2af598;\">#2af598</p>|<p style=\"color:#08af64;\">#08af64</p>|\n",
    "|<p style=\"color:#22e4ac;\">#22e4ac</p>|<p style=\"color:#14a38e;\">#14a38e</p>|\n",
    "|<p style=\"color:#1bd7bb;\">#1bd7bb</p>|<p style=\"color:#0f9295;\">#0f9295</p>|\n",
    "|<p style=\"color:#14c9cb;\">#14c9cb</p>|<p style=\"color:#056b8a;\">#056b8a</p>|\n",
    "|<p style=\"color:#0fbed8;\">#0fbed8</p>|<p style=\"color:#121212;\">#121212</p>|\n",
    "|<p style=\"color:#08b3e5;\">#08b3e5</p>||\n",
    "\n",
    "\n",
    "#### 2) If your plot needs multiple colors, choose an appropriate palette using either of the following tutorials:\n",
    "- https://seaborn.pydata.org/tutorial/color_palettes.html\n",
    "- https://matplotlib.org/stable/tutorials/colors/colormaps.html\n",
    "\n",
    "#### 3) Consider accessibility as well.\n",
    "\n",
    "For qualitative plotting Seaborn's 'colorblind' palette is recommended. For maps with sequential or diverging it is recommended to use one of the Color Brewer schemes which can be previewed at https://colorbrewer2.org/.\n",
    "\n",
    "If you want to design your own colour scheme, it should use the same principles as Cynthia Brewer's research (with variation not only in hue but also, saturation or luminance).\n",
    "\n",
    "### References\n",
    "\n",
    "Be sure to acknowledge your sources and any attributions using links or a reference list.\n",
    "\n",
    "If you have quite a few references, you might wish to have a dedicated section for references at the end of your document, linked using footnote style numbers.\n",
    "\n",
    "You can connect your in-text reference by adding the number with a HTML link: ```<a href=\"#fn-1\">[1]</a>```\n",
    "\n",
    "and add a matching ID in the reference list using the ```<fn>``` tag: ```<fn id=\"fn-1\">[1] Author (Year) _Title_, Publisher, Publication location.</fn>```"
   ]
  },
  {
   "cell_type": "markdown",
   "metadata": {},
   "source": [
    "<div class=\"usecase-title\">Flexible Return To Office Options</div>\n",
    "\n",
    "<div class=\"usecase-authors\"><b>Authored by: </b>Angie Hollingworth</div>"
   ]
  },
  {
   "cell_type": "markdown",
   "metadata": {},
   "source": [
    "<div class=\"usecase-duration\"><b>Duration:</b> {90} mins</div>\n",
    "\n",
    "<div class=\"usecase-level-skill\">\n",
    "    <div class=\"usecase-level\"><b>Level: </b>{Intermediate}</div>\n",
    "    <div class=\"usecase-skill\"><b>Pre-requisite Skills: </b>{Python, and add any more skills needed}</div>\n",
    "</div>"
   ]
  },
  {
   "cell_type": "markdown",
   "metadata": {},
   "source": [
    "<div class=\"usecase-section-header\">Scenario</div>"
   ]
  },
  {
   "cell_type": "markdown",
   "metadata": {},
   "source": [
    "{Using User Story format, write a description of the problem you are trying to solve for this use case.}"
   ]
  },
  {
   "cell_type": "markdown",
   "metadata": {},
   "source": [
    "<div class=\"usecase-section-header\">What this use case will teach you</div>"
   ]
  },
  {
   "cell_type": "markdown",
   "metadata": {},
   "source": [
    "At the end of this use case you will:\n",
    "- {list the skills demonstrated in your use case}"
   ]
  },
  {
   "cell_type": "markdown",
   "metadata": {},
   "source": [
    "<div class=\"usecase-section-header\">{Heading for introduction or background relating to problem}</div>"
   ]
  },
  {
   "cell_type": "markdown",
   "metadata": {},
   "source": [
    "{Write your introduction here. Keep it concise. We're not after \"War and Peace\" but enough background information to inform the reader on the rationale for solving this problem or background non-technical information that helps explain the approach. You may also wish to give information on the datasets, particularly how to source those not being imported from the client's open data portal.}\n",
    "\n"
   ]
  },
  {
   "cell_type": "markdown",
   "metadata": {},
   "source": []
  },
  {
   "cell_type": "markdown",
   "metadata": {},
   "source": [
    "<div class=\"usecase-section-header\">Python Library Installs</div>"
   ]
  },
  {
   "cell_type": "markdown",
   "metadata": {},
   "source": [
    "{Write your introduction here. Keep it concise. We're not after \"War and Peace\" but enough background information to inform the reader on the rationale for solving this problem or background non-technical information that helps explain the approach. You may also wish to give information on the datasets, particularly how to source those not being imported from the client's open data portal.}\n",
    "\n"
   ]
  },
  {
   "cell_type": "code",
   "execution_count": 25,
   "metadata": {},
   "outputs": [],
   "source": [
    "import numpy as np\n",
    "import pandas as pd\n",
    "\n",
    "\n",
    "# import geopandas as gpd\n",
    "# from shapely.geometry import Point, LineString, shape\n",
    "\n",
    "import json\n",
    "# import plotly.express as px\n",
    "import folium\n",
    "# from folium.plugins import MarkerCluster\n",
    "# import seaborn as sns\n",
    "import matplotlib.pyplot as plt\n",
    "\n",
    "import requests"
   ]
  },
  {
   "cell_type": "markdown",
   "metadata": {},
   "source": [
    "<div class=\"usecase-section-header\">Datasets</div>"
   ]
  },
  {
   "cell_type": "markdown",
   "metadata": {},
   "source": [
    "{Write your introduction here. Keep it concise. We're not after \"War and Peace\" but enough background information to inform the reader on the rationale for solving this problem or background non-technical information that helps explain the approach. You may also wish to give information on the datasets, particularly how to source those not being imported from the client's open data portal.}\n",
    "\n"
   ]
  },
  {
   "cell_type": "code",
   "execution_count": 3,
   "metadata": {},
   "outputs": [],
   "source": [
    "seats_dataset= 'cafes-and-restaurants-with-seating-capacity'\n",
    "coworking_dataset = 'coworking-spaces'"
   ]
  },
  {
   "cell_type": "code",
   "execution_count": 69,
   "metadata": {},
   "outputs": [],
   "source": [
    "# BASE_URL = 'https://data.melbourne.vic.gov.au/api/v2/catalog/datasets/'\n",
    "BASE_URL = 'https://data.melbourne.vic.gov.au/api/records/1.0/search/?dataset='\n",
    "NUMBER_OF_RECORDS = 300"
   ]
  },
  {
   "cell_type": "code",
   "execution_count": 88,
   "metadata": {},
   "outputs": [
    {
     "name": "stdout",
     "output_type": "stream",
     "text": [
      "(coworking-spaces) Total Records: 66\n"
     ]
    }
   ],
   "source": [
    "# check the number records for Co-Working paces\n",
    "num_records_url = f'https://data.melbourne.vic.gov.au/api/records/1.0/search/?dataset={coworking_dataset}'\n",
    "r = requests.get(num_records_url)\n",
    "data_size = r.json()['nhits']  \n",
    "print(f'({coworking_dataset}) Total Records: {data_size}')"
   ]
  },
  {
   "cell_type": "markdown",
   "metadata": {},
   "source": [
    "As the dataset will fit in one API call, let's get the data as a JSON dump"
   ]
  },
  {
   "cell_type": "code",
   "execution_count": 91,
   "metadata": {},
   "outputs": [],
   "source": [
    "filter = f'exports/json?limit={NUMBER_OF_RECORDS}&offset=0&timezone=UTC'\n",
    "url = f'{BASE_URL}{coworking_dataset}/{filter}'\n",
    "coworking_result = requests.get(url)\n",
    "coworking_result_json = coworking_result.json()\n",
    "coworking = pd.DataFrame(coworking_result_json)"
   ]
  },
  {
   "cell_type": "code",
   "execution_count": 93,
   "metadata": {},
   "outputs": [
    {
     "data": {
      "text/html": [
       "<div>\n",
       "<style scoped>\n",
       "    .dataframe tbody tr th:only-of-type {\n",
       "        vertical-align: middle;\n",
       "    }\n",
       "\n",
       "    .dataframe tbody tr th {\n",
       "        vertical-align: top;\n",
       "    }\n",
       "\n",
       "    .dataframe thead th {\n",
       "        text-align: right;\n",
       "    }\n",
       "</style>\n",
       "<table border=\"1\" class=\"dataframe\">\n",
       "  <thead>\n",
       "    <tr style=\"text-align: right;\">\n",
       "      <th></th>\n",
       "      <th>organisation</th>\n",
       "      <th>address</th>\n",
       "      <th>website</th>\n",
       "      <th>latitude</th>\n",
       "      <th>longitude</th>\n",
       "      <th>geopoint</th>\n",
       "    </tr>\n",
       "  </thead>\n",
       "  <tbody>\n",
       "    <tr>\n",
       "      <th>0</th>\n",
       "      <td>11th Space</td>\n",
       "      <td>Level 11/580 Collins St, Melbourne VIC 3000</td>\n",
       "      <td>https://11thspace.com/</td>\n",
       "      <td>-37.818523</td>\n",
       "      <td>144.955364</td>\n",
       "      <td>{'lon': 144.9553637, 'lat': -37.818523}</td>\n",
       "    </tr>\n",
       "    <tr>\n",
       "      <th>1</th>\n",
       "      <td>360 Collins</td>\n",
       "      <td>360 Collins Street, Melbourne 3000</td>\n",
       "      <td>https://officespace.com.au/melbourne/153369/</td>\n",
       "      <td>-37.816002</td>\n",
       "      <td>144.962311</td>\n",
       "      <td>{'lon': 144.962311, 'lat': -37.816002}</td>\n",
       "    </tr>\n",
       "    <tr>\n",
       "      <th>2</th>\n",
       "      <td>ACMI X</td>\n",
       "      <td>Level 4, 2 Kavanagh Street, Southbank 3006</td>\n",
       "      <td>https://www.acmi.net.au/acmi-x/</td>\n",
       "      <td>-37.821801</td>\n",
       "      <td>144.967594</td>\n",
       "      <td>{'lon': 144.9675938, 'lat': -37.8218014}</td>\n",
       "    </tr>\n",
       "    <tr>\n",
       "      <th>3</th>\n",
       "      <td>Clik Collective</td>\n",
       "      <td>2 Chelmsford Street, Kensington 3031</td>\n",
       "      <td>http://clikcollective.com.au</td>\n",
       "      <td>-37.796415</td>\n",
       "      <td>144.931696</td>\n",
       "      <td>{'lon': 144.9316956, 'lat': -37.7964148}</td>\n",
       "    </tr>\n",
       "    <tr>\n",
       "      <th>4</th>\n",
       "      <td>Hatch Quarter</td>\n",
       "      <td>7/677 La Trobe Street, Docklands 3008</td>\n",
       "      <td>http://www.hatchquarter.com.au/</td>\n",
       "      <td>-37.814600</td>\n",
       "      <td>144.947310</td>\n",
       "      <td>{'lon': 144.94731, 'lat': -37.8146}</td>\n",
       "    </tr>\n",
       "  </tbody>\n",
       "</table>\n",
       "</div>"
      ],
      "text/plain": [
       "      organisation                                      address   \n",
       "0       11th Space  Level 11/580 Collins St, Melbourne VIC 3000  \\\n",
       "1      360 Collins           360 Collins Street, Melbourne 3000   \n",
       "2           ACMI X   Level 4, 2 Kavanagh Street, Southbank 3006   \n",
       "3  Clik Collective         2 Chelmsford Street, Kensington 3031   \n",
       "4    Hatch Quarter        7/677 La Trobe Street, Docklands 3008   \n",
       "\n",
       "                                        website   latitude   longitude   \n",
       "0                        https://11thspace.com/ -37.818523  144.955364  \\\n",
       "1  https://officespace.com.au/melbourne/153369/ -37.816002  144.962311   \n",
       "2               https://www.acmi.net.au/acmi-x/ -37.821801  144.967594   \n",
       "3                  http://clikcollective.com.au -37.796415  144.931696   \n",
       "4               http://www.hatchquarter.com.au/ -37.814600  144.947310   \n",
       "\n",
       "                                   geopoint  \n",
       "0   {'lon': 144.9553637, 'lat': -37.818523}  \n",
       "1    {'lon': 144.962311, 'lat': -37.816002}  \n",
       "2  {'lon': 144.9675938, 'lat': -37.8218014}  \n",
       "3  {'lon': 144.9316956, 'lat': -37.7964148}  \n",
       "4       {'lon': 144.94731, 'lat': -37.8146}  "
      ]
     },
     "execution_count": 93,
     "metadata": {},
     "output_type": "execute_result"
    }
   ],
   "source": [
    "coworking.head()"
   ]
  },
  {
   "cell_type": "code",
   "execution_count": 89,
   "metadata": {},
   "outputs": [],
   "source": [
    "# BASE_URL = 'https://data.melbourne.vic.gov.au/api/v2/catalog/datasets/'\n",
    "# NUMBER_OF_RECORDS = 300\n",
    "\n",
    "\n",
    "def get_data(data, filters = None):\n",
    "    '''Get the data set from API calss and return a datframe'''\n",
    "    print(data)\n",
    "    result_size = 300\n",
    "    offset = 0\n",
    "    \n",
    "    if filters == None:\n",
    "        #Check for additonal filters\n",
    "        filter = f'exports/json?limit={NUMBER_OF_RECORDS}&offset=0&timezone=UTC'\n",
    "        size_url = f'https://data.melbourne.vic.gov.au/api/records/1.0/search/?dataset={data}'\n",
    "    \n",
    "    else:\n",
    "        filter = f'exports/json?limit={NUMBER_OF_RECORDS}&offset={offset}&timezone=UTC&{filters[0]}.{filters[1]}={filters[2]}'\n",
    "#         filter = f'exports/json?limit={NUMBER_OF_RECORDS}&offset={offset}&timezone=UTC&{filters}'    \n",
    "    \n",
    "        size_url = f'https://data.melbourne.vic.gov.au/api/records/1.0/search/?dataset={data}&q&{filters[0]}={filters[1]}:{filters[2]}'\n",
    "    \n",
    "    print(filter)\n",
    "    #get data size\n",
    "    r = requests.get(size_url)\n",
    "    data_size = r.json()['nhits']  \n",
    "    print(f'({data}) Total Records: {data_size}')\n",
    "    \n",
    "    url = f'{BASE_URL}{data}/{filter}'\n",
    "    print(url)\n",
    "    \n",
    "    #get data\n",
    "    result = requests.get(url)\n",
    "    result_json = result.json()\n",
    "    df = pd.DataFrame(result_json)\n",
    "    \n",
    "    df_size = df.shape[0]\n",
    "    if df_size == data_size:\n",
    "        return df\n",
    "    \n",
    "    # Get the rest of the dataset\n",
    "    while df_size< data_size:\n",
    "        #uodate the offset\n",
    "        offset += 300\n",
    "        \n",
    "        #reset the filters\n",
    "        if filters == None:\n",
    "            filter = f'exports/json?limit={NUMBER_OF_RECORDS}&refine.census_year=2021&offset=0&timezone=UTC'\n",
    "        else:\n",
    "            filter = f'exports/json?limit={NUMBER_OF_RECORDS}&offset={offset}&timezone=UTC&{filters[0]}.{filters[1]}={filters[2]}'\n",
    "        \n",
    "        #Create a new url\n",
    "        url = f'{BASE_URL}{data}/{filter}'\n",
    "        \n",
    "        #call the API and get the next lot of data\n",
    "        result = requests.get(url)\n",
    "        result_json = result.json()\n",
    "        \n",
    "        #put the next lot of data into a placeholder dataframe\n",
    "        new_df = pd.DataFrame(result_json)\n",
    "        \n",
    "        #join new data to the previous data\n",
    "        df = pd.concat([df, new_df])\n",
    "        #reset shape\n",
    "        df_size = df.shape[0]\n",
    "    \n",
    "    #return ful dataframe    \n",
    "    return df"
   ]
  },
  {
   "cell_type": "markdown",
   "metadata": {},
   "source": [
    "https://data.melbourne.vic.gov.au/api/records/1.0/search/?dataset=cafes-and-restaurants-with-seating-capacity&q=&rows=100&start=100&refine.census_year=2021"
   ]
  },
  {
   "cell_type": "markdown",
   "metadata": {},
   "source": [
    "https://data.melbourne.vic.gov.au/explore/api/v2.0/catalog/datasets/cafes-and-restaurants-with-seating-capacity/records?limit=10&offset=0&refine=census_year%3D2021&timezone=UTC"
   ]
  },
  {
   "cell_type": "code",
   "execution_count": 90,
   "metadata": {},
   "outputs": [
    {
     "name": "stdout",
     "output_type": "stream",
     "text": [
      "coworking-spaces\n",
      "exports/json?limit=300&offset=0&timezone=UTC\n",
      "(coworking-spaces) Total Records: 66\n",
      "https://data.melbourne.vic.gov.au/api/v2/catalog/datasets/coworking-spaces/exports/json?limit=300&offset=0&timezone=UTC\n",
      "cafes-and-restaurants-with-seating-capacity\n",
      "exports/json?limit=300&offset=0&timezone=UTC&refine.census_year=2021\n"
     ]
    },
    {
     "ename": "KeyError",
     "evalue": "'nhits'",
     "output_type": "error",
     "traceback": [
      "\u001b[1;31m---------------------------------------------------------------------------\u001b[0m",
      "\u001b[1;31mKeyError\u001b[0m                                  Traceback (most recent call last)",
      "\u001b[1;32m<ipython-input-90-3bc26428c09e>\u001b[0m in \u001b[0;36m<module>\u001b[1;34m\u001b[0m\n\u001b[0;32m      1\u001b[0m \u001b[0mcowork\u001b[0m \u001b[1;33m=\u001b[0m \u001b[0mget_data\u001b[0m\u001b[1;33m(\u001b[0m\u001b[0mcoworking_dataset\u001b[0m\u001b[1;33m)\u001b[0m\u001b[1;33m\u001b[0m\u001b[1;33m\u001b[0m\u001b[0m\n\u001b[0;32m      2\u001b[0m \u001b[1;31m# print(cowork)\u001b[0m\u001b[1;33m\u001b[0m\u001b[1;33m\u001b[0m\u001b[1;33m\u001b[0m\u001b[0m\n\u001b[1;32m----> 3\u001b[1;33m \u001b[0mseats\u001b[0m \u001b[1;33m=\u001b[0m \u001b[0mget_data\u001b[0m\u001b[1;33m(\u001b[0m\u001b[0mseats_dataset\u001b[0m\u001b[1;33m,\u001b[0m \u001b[1;33m[\u001b[0m\u001b[1;34m'refine'\u001b[0m\u001b[1;33m,\u001b[0m\u001b[1;34m'census_year'\u001b[0m\u001b[1;33m,\u001b[0m\u001b[1;34m'2021'\u001b[0m\u001b[1;33m]\u001b[0m\u001b[1;33m)\u001b[0m\u001b[1;33m\u001b[0m\u001b[1;33m\u001b[0m\u001b[0m\n\u001b[0m",
      "\u001b[1;32m<ipython-input-89-ab79f67dd01c>\u001b[0m in \u001b[0;36mget_data\u001b[1;34m(data, filters)\u001b[0m\n\u001b[0;32m     23\u001b[0m     \u001b[1;31m#get data size\u001b[0m\u001b[1;33m\u001b[0m\u001b[1;33m\u001b[0m\u001b[1;33m\u001b[0m\u001b[0m\n\u001b[0;32m     24\u001b[0m     \u001b[0mr\u001b[0m \u001b[1;33m=\u001b[0m \u001b[0mrequests\u001b[0m\u001b[1;33m.\u001b[0m\u001b[0mget\u001b[0m\u001b[1;33m(\u001b[0m\u001b[0msize_url\u001b[0m\u001b[1;33m)\u001b[0m\u001b[1;33m\u001b[0m\u001b[1;33m\u001b[0m\u001b[0m\n\u001b[1;32m---> 25\u001b[1;33m     \u001b[0mdata_size\u001b[0m \u001b[1;33m=\u001b[0m \u001b[0mr\u001b[0m\u001b[1;33m.\u001b[0m\u001b[0mjson\u001b[0m\u001b[1;33m(\u001b[0m\u001b[1;33m)\u001b[0m\u001b[1;33m[\u001b[0m\u001b[1;34m'nhits'\u001b[0m\u001b[1;33m]\u001b[0m\u001b[1;33m\u001b[0m\u001b[1;33m\u001b[0m\u001b[0m\n\u001b[0m\u001b[0;32m     26\u001b[0m     \u001b[0mprint\u001b[0m\u001b[1;33m(\u001b[0m\u001b[1;34mf'({data}) Total Records: {data_size}'\u001b[0m\u001b[1;33m)\u001b[0m\u001b[1;33m\u001b[0m\u001b[1;33m\u001b[0m\u001b[0m\n\u001b[0;32m     27\u001b[0m \u001b[1;33m\u001b[0m\u001b[0m\n",
      "\u001b[1;31mKeyError\u001b[0m: 'nhits'"
     ]
    }
   ],
   "source": [
    "cowork = get_data(coworking_dataset)\n",
    "# print(cowork)\n",
    "seats = get_data(seats_dataset, ['refine','census_year','2021'])\n"
   ]
  },
  {
   "cell_type": "code",
   "execution_count": 83,
   "metadata": {},
   "outputs": [
    {
     "data": {
      "text/html": [
       "<div>\n",
       "<style scoped>\n",
       "    .dataframe tbody tr th:only-of-type {\n",
       "        vertical-align: middle;\n",
       "    }\n",
       "\n",
       "    .dataframe tbody tr th {\n",
       "        vertical-align: top;\n",
       "    }\n",
       "\n",
       "    .dataframe thead th {\n",
       "        text-align: right;\n",
       "    }\n",
       "</style>\n",
       "<table border=\"1\" class=\"dataframe\">\n",
       "  <thead>\n",
       "    <tr style=\"text-align: right;\">\n",
       "      <th></th>\n",
       "      <th>organisation</th>\n",
       "      <th>address</th>\n",
       "      <th>website</th>\n",
       "      <th>latitude</th>\n",
       "      <th>longitude</th>\n",
       "      <th>geopoint</th>\n",
       "    </tr>\n",
       "  </thead>\n",
       "  <tbody>\n",
       "    <tr>\n",
       "      <th>0</th>\n",
       "      <td>11th Space</td>\n",
       "      <td>Level 11/580 Collins St, Melbourne VIC 3000</td>\n",
       "      <td>https://11thspace.com/</td>\n",
       "      <td>-37.818523</td>\n",
       "      <td>144.955364</td>\n",
       "      <td>{'lon': 144.9553637, 'lat': -37.818523}</td>\n",
       "    </tr>\n",
       "    <tr>\n",
       "      <th>1</th>\n",
       "      <td>360 Collins</td>\n",
       "      <td>360 Collins Street, Melbourne 3000</td>\n",
       "      <td>https://officespace.com.au/melbourne/153369/</td>\n",
       "      <td>-37.816002</td>\n",
       "      <td>144.962311</td>\n",
       "      <td>{'lon': 144.962311, 'lat': -37.816002}</td>\n",
       "    </tr>\n",
       "    <tr>\n",
       "      <th>2</th>\n",
       "      <td>ACMI X</td>\n",
       "      <td>Level 4, 2 Kavanagh Street, Southbank 3006</td>\n",
       "      <td>https://www.acmi.net.au/acmi-x/</td>\n",
       "      <td>-37.821801</td>\n",
       "      <td>144.967594</td>\n",
       "      <td>{'lon': 144.9675938, 'lat': -37.8218014}</td>\n",
       "    </tr>\n",
       "    <tr>\n",
       "      <th>3</th>\n",
       "      <td>Clik Collective</td>\n",
       "      <td>2 Chelmsford Street, Kensington 3031</td>\n",
       "      <td>http://clikcollective.com.au</td>\n",
       "      <td>-37.796415</td>\n",
       "      <td>144.931696</td>\n",
       "      <td>{'lon': 144.9316956, 'lat': -37.7964148}</td>\n",
       "    </tr>\n",
       "    <tr>\n",
       "      <th>4</th>\n",
       "      <td>Hatch Quarter</td>\n",
       "      <td>7/677 La Trobe Street, Docklands 3008</td>\n",
       "      <td>http://www.hatchquarter.com.au/</td>\n",
       "      <td>-37.814600</td>\n",
       "      <td>144.947310</td>\n",
       "      <td>{'lon': 144.94731, 'lat': -37.8146}</td>\n",
       "    </tr>\n",
       "  </tbody>\n",
       "</table>\n",
       "</div>"
      ],
      "text/plain": [
       "      organisation                                      address   \n",
       "0       11th Space  Level 11/580 Collins St, Melbourne VIC 3000  \\\n",
       "1      360 Collins           360 Collins Street, Melbourne 3000   \n",
       "2           ACMI X   Level 4, 2 Kavanagh Street, Southbank 3006   \n",
       "3  Clik Collective         2 Chelmsford Street, Kensington 3031   \n",
       "4    Hatch Quarter        7/677 La Trobe Street, Docklands 3008   \n",
       "\n",
       "                                        website   latitude   longitude   \n",
       "0                        https://11thspace.com/ -37.818523  144.955364  \\\n",
       "1  https://officespace.com.au/melbourne/153369/ -37.816002  144.962311   \n",
       "2               https://www.acmi.net.au/acmi-x/ -37.821801  144.967594   \n",
       "3                  http://clikcollective.com.au -37.796415  144.931696   \n",
       "4               http://www.hatchquarter.com.au/ -37.814600  144.947310   \n",
       "\n",
       "                                   geopoint  \n",
       "0   {'lon': 144.9553637, 'lat': -37.818523}  \n",
       "1    {'lon': 144.962311, 'lat': -37.816002}  \n",
       "2  {'lon': 144.9675938, 'lat': -37.8218014}  \n",
       "3  {'lon': 144.9316956, 'lat': -37.7964148}  \n",
       "4       {'lon': 144.94731, 'lat': -37.8146}  "
      ]
     },
     "execution_count": 83,
     "metadata": {},
     "output_type": "execute_result"
    }
   ],
   "source": [
    "cowork.head()"
   ]
  },
  {
   "cell_type": "code",
   "execution_count": 68,
   "metadata": {},
   "outputs": [
    {
     "data": {
      "text/plain": [
       "array(['2002', '2003', '2004', '2014', '2015'], dtype=object)"
      ]
     },
     "execution_count": 68,
     "metadata": {},
     "output_type": "execute_result"
    }
   ],
   "source": [
    "seats['census_year'].unique()"
   ]
  },
  {
   "cell_type": "markdown",
   "metadata": {},
   "source": [
    "<div class=\"usecase-section-header\">Visulaise the Data</div>"
   ]
  },
  {
   "cell_type": "code",
   "execution_count": 27,
   "metadata": {},
   "outputs": [
    {
     "data": {
      "text/html": [
       "<div style=\"width:100%;\"><div style=\"position:relative;width:100%;height:0;padding-bottom:60%;\"><span style=\"color:#565656\">Make this Notebook Trusted to load map: File -> Trust Notebook</span><iframe srcdoc=\"&lt;!DOCTYPE html&gt;\n",
       "&lt;html&gt;\n",
       "&lt;head&gt;\n",
       "    \n",
       "    &lt;meta http-equiv=&quot;content-type&quot; content=&quot;text/html; charset=UTF-8&quot; /&gt;\n",
       "    \n",
       "        &lt;script&gt;\n",
       "            L_NO_TOUCH = false;\n",
       "            L_DISABLE_3D = false;\n",
       "        &lt;/script&gt;\n",
       "    \n",
       "    &lt;style&gt;html, body {width: 100%;height: 100%;margin: 0;padding: 0;}&lt;/style&gt;\n",
       "    &lt;style&gt;#map {position:absolute;top:0;bottom:0;right:0;left:0;}&lt;/style&gt;\n",
       "    &lt;script src=&quot;https://cdn.jsdelivr.net/npm/leaflet@1.6.0/dist/leaflet.js&quot;&gt;&lt;/script&gt;\n",
       "    &lt;script src=&quot;https://code.jquery.com/jquery-1.12.4.min.js&quot;&gt;&lt;/script&gt;\n",
       "    &lt;script src=&quot;https://maxcdn.bootstrapcdn.com/bootstrap/3.2.0/js/bootstrap.min.js&quot;&gt;&lt;/script&gt;\n",
       "    &lt;script src=&quot;https://cdnjs.cloudflare.com/ajax/libs/Leaflet.awesome-markers/2.0.2/leaflet.awesome-markers.js&quot;&gt;&lt;/script&gt;\n",
       "    &lt;link rel=&quot;stylesheet&quot; href=&quot;https://cdn.jsdelivr.net/npm/leaflet@1.6.0/dist/leaflet.css&quot;/&gt;\n",
       "    &lt;link rel=&quot;stylesheet&quot; href=&quot;https://maxcdn.bootstrapcdn.com/bootstrap/3.2.0/css/bootstrap.min.css&quot;/&gt;\n",
       "    &lt;link rel=&quot;stylesheet&quot; href=&quot;https://maxcdn.bootstrapcdn.com/bootstrap/3.2.0/css/bootstrap-theme.min.css&quot;/&gt;\n",
       "    &lt;link rel=&quot;stylesheet&quot; href=&quot;https://maxcdn.bootstrapcdn.com/font-awesome/4.6.3/css/font-awesome.min.css&quot;/&gt;\n",
       "    &lt;link rel=&quot;stylesheet&quot; href=&quot;https://cdnjs.cloudflare.com/ajax/libs/Leaflet.awesome-markers/2.0.2/leaflet.awesome-markers.css&quot;/&gt;\n",
       "    &lt;link rel=&quot;stylesheet&quot; href=&quot;https://cdn.jsdelivr.net/gh/python-visualization/folium/folium/templates/leaflet.awesome.rotate.min.css&quot;/&gt;\n",
       "    \n",
       "            &lt;meta name=&quot;viewport&quot; content=&quot;width=device-width,\n",
       "                initial-scale=1.0, maximum-scale=1.0, user-scalable=no&quot; /&gt;\n",
       "            &lt;style&gt;\n",
       "                #map_68b2cfc5e118e402b0adeecf1cf858f2 {\n",
       "                    position: relative;\n",
       "                    width: 800.0px;\n",
       "                    height: 580.0px;\n",
       "                    left: 0.0%;\n",
       "                    top: 0.0%;\n",
       "                }\n",
       "            &lt;/style&gt;\n",
       "        \n",
       "&lt;/head&gt;\n",
       "&lt;body&gt;\n",
       "    \n",
       "    \n",
       "            &lt;div class=&quot;folium-map&quot; id=&quot;map_68b2cfc5e118e402b0adeecf1cf858f2&quot; &gt;&lt;/div&gt;\n",
       "        \n",
       "&lt;/body&gt;\n",
       "&lt;script&gt;\n",
       "    \n",
       "    \n",
       "            var map_68b2cfc5e118e402b0adeecf1cf858f2 = L.map(\n",
       "                &quot;map_68b2cfc5e118e402b0adeecf1cf858f2&quot;,\n",
       "                {\n",
       "                    center: [-37.81368709240999, 144.95738102347036],\n",
       "                    crs: L.CRS.EPSG3857,\n",
       "                    zoom: 13,\n",
       "                    zoomControl: true,\n",
       "                    preferCanvas: true,\n",
       "                }\n",
       "            );\n",
       "            L.control.scale().addTo(map_68b2cfc5e118e402b0adeecf1cf858f2);\n",
       "\n",
       "            \n",
       "\n",
       "        \n",
       "    \n",
       "            var tile_layer_77fbbde7afa6be1a8789df64693a8f6a = L.tileLayer(\n",
       "                &quot;https://cartodb-basemaps-{s}.global.ssl.fastly.net/light_all/{z}/{x}/{y}.png&quot;,\n",
       "                {&quot;attribution&quot;: &quot;\\u0026copy; \\u003ca href=\\&quot;http://www.openstreetmap.org/copyright\\&quot;\\u003eOpenStreetMap\\u003c/a\\u003e contributors \\u0026copy; \\u003ca href=\\&quot;http://cartodb.com/attributions\\&quot;\\u003eCartoDB\\u003c/a\\u003e, CartoDB \\u003ca href =\\&quot;http://cartodb.com/attributions\\&quot;\\u003eattributions\\u003c/a\\u003e&quot;, &quot;detectRetina&quot;: false, &quot;maxNativeZoom&quot;: 18, &quot;maxZoom&quot;: 18, &quot;minZoom&quot;: 0, &quot;noWrap&quot;: false, &quot;opacity&quot;: 1, &quot;subdomains&quot;: &quot;abc&quot;, &quot;tms&quot;: false}\n",
       "            ).addTo(map_68b2cfc5e118e402b0adeecf1cf858f2);\n",
       "        \n",
       "&lt;/script&gt;\n",
       "&lt;/html&gt;\" style=\"position:absolute;width:100%;height:100%;left:0;top:0;border:none !important;\" allowfullscreen webkitallowfullscreen mozallowfullscreen></iframe></div></div>"
      ],
      "text/plain": [
       "<folium.folium.Map at 0x1d398d38940>"
      ]
     },
     "execution_count": 27,
     "metadata": {},
     "output_type": "execute_result"
    }
   ],
   "source": [
    "#Create the base layer map\n",
    "m = folium.Map(\n",
    "    # Lat, Lon for Melbourne CBD\n",
    "    location=[-37.81368709240999, 144.95738102347036], \n",
    "    tiles=\"cartodbpositron\",\n",
    "    zoom_start=13, \n",
    "    control_scale=True,\n",
    "    prefer_canvas=True, \n",
    "    width=800, \n",
    "    height=580\n",
    ")\n",
    "\n",
    "style = {'fillColor': '#08af64', 'color': '#08af64'}\n",
    "\n",
    "\n",
    "m"
   ]
  },
  {
   "cell_type": "code",
   "execution_count": null,
   "metadata": {},
   "outputs": [],
   "source": []
  }
 ],
 "metadata": {
  "kernelspec": {
   "display_name": "Python 3",
   "language": "python",
   "name": "python3"
  },
  "language_info": {
   "codemirror_mode": {
    "name": "ipython",
    "version": 3
   },
   "file_extension": ".py",
   "mimetype": "text/x-python",
   "name": "python",
   "nbconvert_exporter": "python",
   "pygments_lexer": "ipython3",
   "version": "3.8.3"
  },
  "vscode": {
   "interpreter": {
    "hash": "369f2c481f4da34e4445cda3fffd2e751bd1c4d706f27375911949ba6bb62e1c"
   }
  }
 },
 "nbformat": 4,
 "nbformat_minor": 4
}
