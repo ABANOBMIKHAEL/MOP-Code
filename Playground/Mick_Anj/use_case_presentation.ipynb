{
 "cells": [
  {
   "cell_type": "markdown",
   "metadata": {},
   "source": [
    "_**DELETE BEFORE PUBLISHING**_\n",
    "\n",
    "_This is a template also containing the style guide for use cases. The styling uses the use-case css when uploaded to the website, which will not be visible on your local machine._\n",
    "\n",
    "_Change any text marked with {} and delete any cells marked DELETE_\n",
    "\n",
    "***"
   ]
  },
  {
   "cell_type": "code",
   "execution_count": 10,
   "metadata": {},
   "outputs": [
    {
     "data": {
      "text/html": [
       "\n",
       "<style>\n",
       ".usecase-title, .usecase-duration, .usecase-section-header {\n",
       "    padding: 12px;\n",
       "    background-color: #0f9295;\n",
       "    color: #fff;\n",
       "}\n",
       "\n",
       ".usecase-title {\n",
       "    font-size: 1.6em;\n",
       "    font-weight: bold;\n",
       "}\n",
       "\n",
       ".usecase-authors, .usecase-level, .usecase-skill {\n",
       "    padding: 12px;\n",
       "    background-color: #baeaeb;\n",
       "    font-size: 1.4em;\n",
       "    color: #121212;\n",
       "}\n",
       "\n",
       ".usecase-level-skill  {\n",
       "    display: flex;\n",
       "}\n",
       "\n",
       ".usecase-level, .usecase-skill {\n",
       "    width: 50%;\n",
       "}\n",
       "\n",
       ".usecase-duration, .usecase-skill {\n",
       "    text-align: right;\n",
       "    padding: 12px;\n",
       "    font-size: 1.4em;\n",
       "}\n",
       "\n",
       ".usecase-section-header {\n",
       "    font-weight: bold;\n",
       "    font-size: 1.2em;\n",
       "    padding: 8px;\n",
       "}\n",
       "\n",
       ".usecase-subsection-header, .usecase-subsection-blurb {\n",
       "    font-weight: bold;\n",
       "    font-size: 1.2em;\n",
       "    color: #121212;\n",
       "}\n",
       "\n",
       ".usecase-subsection-blurb {\n",
       "    font-size: 1em;\n",
       "    font-style: italic;\n",
       "}\n",
       "\n",
       "p {\n",
       "    font-family: Sans-serif;\n",
       "    font-size: 15px; \n",
       "}\n",
       "\n",
       "ul {\n",
       "    font-family: Sans-serif;\n",
       "    font-size: 15px;\n",
       "}\n",
       "\n",
       "</style>\n"
      ],
      "text/plain": [
       "<IPython.core.display.HTML object>"
      ]
     },
     "execution_count": 10,
     "metadata": {},
     "output_type": "execute_result"
    }
   ],
   "source": [
    "# DELETE BEFORE PUBLISHING\n",
    "# This is just here so you can preview the styling on your local machine\n",
    "\n",
    "from IPython.core.display import HTML\n",
    "HTML(\"\"\"\n",
    "<style>\n",
    ".usecase-title, .usecase-duration, .usecase-section-header {\n",
    "    padding: 12px;\n",
    "    background-color: #0f9295;\n",
    "    color: #fff;\n",
    "}\n",
    "\n",
    ".usecase-title {\n",
    "    font-size: 1.6em;\n",
    "    font-weight: bold;\n",
    "}\n",
    "\n",
    ".usecase-authors, .usecase-level, .usecase-skill {\n",
    "    padding: 12px;\n",
    "    background-color: #baeaeb;\n",
    "    font-size: 1.4em;\n",
    "    color: #121212;\n",
    "}\n",
    "\n",
    ".usecase-level-skill  {\n",
    "    display: flex;\n",
    "}\n",
    "\n",
    ".usecase-level, .usecase-skill {\n",
    "    width: 50%;\n",
    "}\n",
    "\n",
    ".usecase-duration, .usecase-skill {\n",
    "    text-align: right;\n",
    "    padding: 12px;\n",
    "    font-size: 1.4em;\n",
    "}\n",
    "\n",
    ".usecase-section-header {\n",
    "    font-weight: bold;\n",
    "    font-size: 1.2em;\n",
    "    padding: 8px;\n",
    "}\n",
    "\n",
    ".usecase-subsection-header, .usecase-subsection-blurb {\n",
    "    font-weight: bold;\n",
    "    font-size: 1.2em;\n",
    "    color: #121212;\n",
    "}\n",
    "\n",
    ".usecase-subsection-blurb {\n",
    "    font-size: 1em;\n",
    "    font-style: italic;\n",
    "}\n",
    "\n",
    "p {\n",
    "    font-family: Sans-serif;\n",
    "    font-size: 15px; \n",
    "}\n",
    "\n",
    "ul {\n",
    "    font-family: Sans-serif;\n",
    "    font-size: 15px;\n",
    "}\n",
    "\n",
    "</style>\n",
    "\"\"\")"
   ]
  },
  {
   "cell_type": "markdown",
   "metadata": {},
   "source": [
    "***\n",
    "\n",
    "_**DELETE BEFORE PUBLISHING**_\n",
    "\n",
    "## Style guide for use cases\n",
    "\n",
    "### Headers\n",
    "\n",
    "For styling within your markdown cells, there are two choices you can use for headers.\n",
    "\n",
    "1) You can use HTML classes specific to the use case styling:\n",
    "\n",
    "```<p class=\"usecase-subsection-header\">This is a subsection header.</p>```\n",
    "\n",
    "<p style=\"font-weight: bold; font-size: 1.2em;\">This is a subsection header.</p>\n",
    "\n",
    "```<p class=\"usecase-subsection-blurb\">This is a blurb header.</p>```\n",
    "\n",
    "<p style=\"font-weight: bold; font-size: 1em; font-style:italic;\">This is a blurb header.</p>\n",
    "\n",
    "\n",
    "2) Or if you like you can use the markdown header styles:\n",
    "\n",
    "```# for h1```\n",
    "\n",
    "```## for h2```\n",
    "\n",
    "```### for h3```\n",
    "\n",
    "```#### for h4```\n",
    "\n",
    "```##### for h5```\n",
    "\n",
    "## Plot colour schemes\n",
    "\n",
    "General advice:\n",
    "1. Use the same colour or colour palette throughout your notebook, unless variety is necessary\n",
    "2. Select a palette based on the type of data being represented\n",
    "3. Consider accessibility (colourblindness, low vision)\n",
    "\n",
    "#### 1) If all of your plots only use 1-2 colors use one of the company style colors:\n",
    "\n",
    "| Light theme | Dark Theme |\n",
    "|-----|-----|\n",
    "|<p style=\"color:#2af598;\">#2af598</p>|<p style=\"color:#08af64;\">#08af64</p>|\n",
    "|<p style=\"color:#22e4ac;\">#22e4ac</p>|<p style=\"color:#14a38e;\">#14a38e</p>|\n",
    "|<p style=\"color:#1bd7bb;\">#1bd7bb</p>|<p style=\"color:#0f9295;\">#0f9295</p>|\n",
    "|<p style=\"color:#14c9cb;\">#14c9cb</p>|<p style=\"color:#056b8a;\">#056b8a</p>|\n",
    "|<p style=\"color:#0fbed8;\">#0fbed8</p>|<p style=\"color:#121212;\">#121212</p>|\n",
    "|<p style=\"color:#08b3e5;\">#08b3e5</p>||\n",
    "\n",
    "\n",
    "#### 2) If your plot needs multiple colors, choose an appropriate palette using either of the following tutorials:\n",
    "- https://seaborn.pydata.org/tutorial/color_palettes.html\n",
    "- https://matplotlib.org/stable/tutorials/colors/colormaps.html\n",
    "\n",
    "#### 3) Consider accessibility as well.\n",
    "\n",
    "For qualitative plotting Seaborn's 'colorblind' palette is recommended. For maps with sequential or diverging it is recommended to use one of the Color Brewer schemes which can be previewed at https://colorbrewer2.org/.\n",
    "\n",
    "If you want to design your own colour scheme, it should use the same principles as Cynthia Brewer's research (with variation not only in hue but also, saturation or luminance).\n",
    "\n",
    "### References\n",
    "\n",
    "Be sure to acknowledge your sources and any attributions using links or a reference list.\n",
    "\n",
    "If you have quite a few references, you might wish to have a dedicated section for references at the end of your document, linked using footnote style numbers.\n",
    "\n",
    "You can connect your in-text reference by adding the number with a HTML link: ```<a href=\"#fn-1\">[1]</a>```\n",
    "\n",
    "and add a matching ID in the reference list using the ```<fn>``` tag: ```<fn id=\"fn-1\">[1] Author (Year) _Title_, Publisher, Publication location.</fn>```"
   ]
  },
  {
   "cell_type": "markdown",
   "metadata": {},
   "source": [
    "------"
   ]
  },
  {
   "cell_type": "markdown",
   "metadata": {},
   "source": [
    "------"
   ]
  },
  {
   "cell_type": "markdown",
   "metadata": {},
   "source": [
    "<div class=\"usecase-title\">Small Area Population Growth & Transportation Needs Analysis</div>\n",
    "\n",
    "<div class=\"usecase-authors\"><b>Authored by: </b>Angie Hollingworth and Mick Wiedermann</div>"
   ]
  },
  {
   "cell_type": "markdown",
   "metadata": {},
   "source": [
    "<div class=\"usecase-duration\"><b>Duration:</b>90 mins</div>\n",
    "\n",
    "<div class=\"usecase-level-skill\">\n",
    "    <div class=\"usecase-level\"><b>Level: </b>Intermediate</div>\n",
    "    <div class=\"usecase-skill\"><b>Pre-requisite Skills: </b>Python</div>\n",
    "</div>"
   ]
  },
  {
   "cell_type": "markdown",
   "metadata": {},
   "source": [
    "<div class=\"usecase-section-header\">Scenario</div>"
   ]
  },
  {
   "cell_type": "markdown",
   "metadata": {},
   "source": [
    "<p>\n",
    "    As a city planner, City of Melbourne investor, or business owner, knowing where potential growth hotspots are projected to develop helps to better plan for meeting future needs and identify opportunities.\n",
    "    <ul>  \n",
    "        <li>As a city planner, I want to identify which routes I should prioritise for public transport upgrades and which for active transport upgrades.</li>  \n",
    "        <li>As a business owner, I need to know which areas could have a greater demand for my goods or services when planning to establish a new business location.</li>   \n",
    "        <li>As an investor, I'd like to know which suburbs are set to grow more rapidly than the average so I can minimise my risk</li>  \n",
    "    </ul>\n",
    "</p>"
   ]
  },
  {
   "cell_type": "markdown",
   "metadata": {},
   "source": [
    "<div class=\"usecase-section-header\">What this use case will teach you</div>"
   ]
  },
  {
   "cell_type": "markdown",
   "metadata": {},
   "source": [
    "<p>\n",
    "    At the end of this use case you will:\n",
    "    <ul>\n",
    "        <li>be able to work with GeoPandas and visualise spatial data on interactive maps</li>\n",
    "        <li>{list the skills demonstrated in your use case}</li>\n",
    "    </ul>\n",
    "</p>"
   ]
  },
  {
   "cell_type": "markdown",
   "metadata": {},
   "source": [
    "<div class=\"usecase-section-header\">{Heading for introduction or background relating to problem}</div>"
   ]
  },
  {
   "cell_type": "markdown",
   "metadata": {},
   "source": [
    "{Write your introduction here. Keep it concise. We're not after \"War and Peace\" but enough background information to inform the reader on the rationale for solving this problem or background non-technical information that helps explain the approach. You may also wish to give information on the datasets, particularly how to source those not being imported from the client's open data portal.}\n",
    "\n"
   ]
  },
  {
   "cell_type": "markdown",
   "metadata": {},
   "source": [
    "<div class=\"usecase-section-header\">Which Melbourne Open Data should I use?</div>"
   ]
  },
  {
   "cell_type": "markdown",
   "metadata": {},
   "source": [
    "### Population Growth Forecast Data\n",
    "Our first and arguably the most important dataset for this analisys is the *City of Melbourne Population Forecasts by Small Area 2020-2040* from Melbourne Open Data which you can read more about [here](https://data.melbourne.vic.gov.au/People/City-of-Melbourne-Population-Forecasts-by-Small-Ar/sp4r-xphj). In summary, the dataset provides population forecasts by single year for 2020 to 2040. Prepared by SGS Economics and Planning (Jan-Jun 2021), forecasts are available for the municipality and small areas, as well as by gender and 5 year age groups.\n",
    "\n",
    "### Victorian Suburbs Geospatial Data\n",
    "In order to visualise our population forcasts as a map overlay, we need the geographical coorinates of the suburbs we'll be examining. For this we'll use the *VIC Suburb/Locality Boundaries - PSMA Administrative Boundaries GeoJSON* dataset from the Australian Government site data.gov.au which you can read more about [here](https://data.gov.au/dataset/ds-dga-af33dd8c-0534-4e18-9245-fc64440f742e/distribution/dist-dga-d467c550-fdf0-480f-85ca-79a6a30b700b/details?q=). \n"
   ]
  },
  {
   "cell_type": "markdown",
   "metadata": {},
   "source": [
    "Before importing out datasets, we shall first import the necessary libraries to support our exploratory data analysis and visualisation.\n",
    "\n",
    "The following are core packages required for this exercise:\n",
    "\n",
    "- {List each non-standard package and why briefly why you're using it. No need to list commonly used packages like numpy, maths,os, time, pandas}\n",
    "- GeoPandas: Allows us to plot patial data and overlay that data on maps. \n",
    "- Folium: "
   ]
  },
  {
   "cell_type": "code",
   "execution_count": 2,
   "metadata": {},
   "outputs": [],
   "source": [
    "# For importing the data and using API\n",
    "from sodapy import Socrata\n",
    "import os\n",
    "import zipfile as zf\n",
    "import requests\n",
    "from io import BytesIO \n",
    "\n",
    "# Working with the data\n",
    "import numpy as np\n",
    "import pandas as pd\n",
    "import geopandas as gpd\n",
    "\n",
    "# Visualisation\n",
    "import matplotlib.pylab as plt\n",
    "import folium"
   ]
  },
  {
   "cell_type": "markdown",
   "metadata": {},
   "source": [
    "<div class=\"usecase-section-header\">Importing the data</div>\n",
    "<p>\n",
    "    To connect to the <b>Melbourne Open Data Portal</b> we must establish a connection using the sodapy library by specifying a domain, being the website domain where the data is hosted, and an application access token which can be requested from the City of Melbourne Open Data portal by registering \n",
    "<a href=\"https://data.melbourne.vic.gov.au/signup\">here</a>.\n",
    "</p>\n",
    "<p>\n",
    "    For this exercise we will access the domain without an application token. Each dataset in the Melbourne Open Data Portal has a unique identifier which can be used to retrieve the dataset using the sodapy library.\n",
    "</p>\n",
    "<p>\n",
    "    The <b>City of Melbourne Population Forecasts by Small Area 2020-2040</b> dataset unique identifier is <b>sp4r-xphj</b>.\n",
    "    We will pass this identifier into the sodapy command below to retrieve this data placing it into a Pandas dataframe.\n",
    "</p>"
   ]
  },
  {
   "cell_type": "code",
   "execution_count": 3,
   "metadata": {},
   "outputs": [
    {
     "name": "stderr",
     "output_type": "stream",
     "text": [
      "WARNING:root:Requests made without an app_token will be subject to strict throttling limits.\n"
     ]
    }
   ],
   "source": [
    "apptoken = os.environ.get(\"SODAPY_APPTOKEN\") # Anonymous App Token\n",
    "domain = \"data.melbourne.vic.gov.au\"\n",
    "client = Socrata(domain, apptoken)           # Open Dataset Connection\n",
    "pop_data_unique_identifier = 'sp4r-xphj'   \n",
    "\n",
    "population_data = pd.DataFrame.from_dict(client.get_all(pop_data_unique_identifier))"
   ]
  },
  {
   "cell_type": "markdown",
   "metadata": {},
   "source": [
    "<p>\n",
    "    The next Dataset we need to import is the <b>Victorian Suburbs/Locality Boundaries</b> from the Australian Government site, data.gov.au, which is freely available for download via the below URL. As the data includes geometric data, we will import this data into a GeoPandas Dataframe. \n",
    "</p>"
   ]
  },
  {
   "cell_type": "code",
   "execution_count": 4,
   "metadata": {},
   "outputs": [],
   "source": [
    "suburb_geo_data_url = ('https://data.gov.au/geoserver/vic-suburb-locality-boundaries-psma-administrative-'\n",
    "    + 'boundaries/wfs?request=GetFeature&typeName=ckan_af33dd8c_0534_4e18_9245_fc64440f742e&outputFormat=json')\n",
    "vic_suburb_data = gpd.read_file(suburb_geo_data_url)"
   ]
  },
  {
   "cell_type": "markdown",
   "metadata": {},
   "source": [
    "<p>Now, we will look at each specific dataset to better understand its structure and how we can use it.</p>\n",
    "<p>\n",
    "    Our data requirements from this use case include the following:\n",
    "    <ul>\n",
    "        <li>Number of residents per suburb</li>\n",
    "        <li>Number of residents per year</li>\n",
    "        <li>Suburb geometry and location</li>\n",
    "        <li>There will be more.....</li>\n",
    "    </ul>\n",
    "</p>\n",
    "<p>\n",
    "    We shall start by examining the first five rows of the <b>City of Melbourne Population Forecasts by Small Area 2020-2040</b> dataset to confirm it has been importaed correctly.\n",
    "</p>"
   ]
  },
  {
   "cell_type": "code",
   "execution_count": 5,
   "metadata": {},
   "outputs": [
    {
     "name": "stdout",
     "output_type": "stream",
     "text": [
      "Number of (rows, columns): (16989, 5)\n"
     ]
    },
    {
     "data": {
      "text/html": [
       "<div>\n",
       "<style scoped>\n",
       "    .dataframe tbody tr th:only-of-type {\n",
       "        vertical-align: middle;\n",
       "    }\n",
       "\n",
       "    .dataframe tbody tr th {\n",
       "        vertical-align: top;\n",
       "    }\n",
       "\n",
       "    .dataframe thead th {\n",
       "        text-align: right;\n",
       "    }\n",
       "</style>\n",
       "<table border=\"1\" class=\"dataframe\">\n",
       "  <thead>\n",
       "    <tr style=\"text-align: right;\">\n",
       "      <th></th>\n",
       "      <th>geography</th>\n",
       "      <th>year</th>\n",
       "      <th>gender</th>\n",
       "      <th>age</th>\n",
       "      <th>value</th>\n",
       "    </tr>\n",
       "  </thead>\n",
       "  <tbody>\n",
       "    <tr>\n",
       "      <th>0</th>\n",
       "      <td>City of Melbourne</td>\n",
       "      <td>2020</td>\n",
       "      <td>Female</td>\n",
       "      <td>Age 0-4</td>\n",
       "      <td>2683</td>\n",
       "    </tr>\n",
       "    <tr>\n",
       "      <th>1</th>\n",
       "      <td>City of Melbourne</td>\n",
       "      <td>2021</td>\n",
       "      <td>Female</td>\n",
       "      <td>Age 0-4</td>\n",
       "      <td>2945</td>\n",
       "    </tr>\n",
       "    <tr>\n",
       "      <th>2</th>\n",
       "      <td>City of Melbourne</td>\n",
       "      <td>2022</td>\n",
       "      <td>Female</td>\n",
       "      <td>Age 0-4</td>\n",
       "      <td>3212</td>\n",
       "    </tr>\n",
       "    <tr>\n",
       "      <th>3</th>\n",
       "      <td>City of Melbourne</td>\n",
       "      <td>2023</td>\n",
       "      <td>Female</td>\n",
       "      <td>Age 0-4</td>\n",
       "      <td>3515</td>\n",
       "    </tr>\n",
       "    <tr>\n",
       "      <th>4</th>\n",
       "      <td>City of Melbourne</td>\n",
       "      <td>2024</td>\n",
       "      <td>Female</td>\n",
       "      <td>Age 0-4</td>\n",
       "      <td>3833</td>\n",
       "    </tr>\n",
       "  </tbody>\n",
       "</table>\n",
       "</div>"
      ],
      "text/plain": [
       "           geography  year  gender      age value\n",
       "0  City of Melbourne  2020  Female  Age 0-4  2683\n",
       "1  City of Melbourne  2021  Female  Age 0-4  2945\n",
       "2  City of Melbourne  2022  Female  Age 0-4  3212\n",
       "3  City of Melbourne  2023  Female  Age 0-4  3515\n",
       "4  City of Melbourne  2024  Female  Age 0-4  3833"
      ]
     },
     "execution_count": 5,
     "metadata": {},
     "output_type": "execute_result"
    }
   ],
   "source": [
    "print(f'Number of (rows, columns): {population_data.shape}')\n",
    "population_data.head()       "
   ]
  },
  {
   "cell_type": "markdown",
   "metadata": {},
   "source": [
    "<p>\n",
    "    Moving onto the <b>Victorian Suburbs/Locality Boundaries</b> dataset, as this is quite a large dataset and we only require two columns of information being <b>vic_loca_2</b> the suburb name, and <b>geometry</b>, which holds the geographical location and boundries of our suburb, we will extract those columns only and examin the first few rows of our dataset. \n",
    "</p>"
   ]
  },
  {
   "cell_type": "code",
   "execution_count": 6,
   "metadata": {},
   "outputs": [
    {
     "name": "stdout",
     "output_type": "stream",
     "text": [
      "Number of (rows, columns): (2973, 2)\n"
     ]
    },
    {
     "data": {
      "text/html": [
       "<div>\n",
       "<style scoped>\n",
       "    .dataframe tbody tr th:only-of-type {\n",
       "        vertical-align: middle;\n",
       "    }\n",
       "\n",
       "    .dataframe tbody tr th {\n",
       "        vertical-align: top;\n",
       "    }\n",
       "\n",
       "    .dataframe thead th {\n",
       "        text-align: right;\n",
       "    }\n",
       "</style>\n",
       "<table border=\"1\" class=\"dataframe\">\n",
       "  <thead>\n",
       "    <tr style=\"text-align: right;\">\n",
       "      <th></th>\n",
       "      <th>suburb</th>\n",
       "      <th>geometry</th>\n",
       "    </tr>\n",
       "  </thead>\n",
       "  <tbody>\n",
       "    <tr>\n",
       "      <th>0</th>\n",
       "      <td>UNDERBOOL</td>\n",
       "      <td>MULTIPOLYGON (((141.74552 -35.07229, 141.74552...</td>\n",
       "    </tr>\n",
       "    <tr>\n",
       "      <th>1</th>\n",
       "      <td>NURRAN</td>\n",
       "      <td>MULTIPOLYGON (((148.66877 -37.39571, 148.66876...</td>\n",
       "    </tr>\n",
       "    <tr>\n",
       "      <th>2</th>\n",
       "      <td>WOORNDOO</td>\n",
       "      <td>MULTIPOLYGON (((142.92288 -37.97886, 142.90449...</td>\n",
       "    </tr>\n",
       "    <tr>\n",
       "      <th>3</th>\n",
       "      <td>DEPTFORD</td>\n",
       "      <td>MULTIPOLYGON (((147.82336 -37.66001, 147.82313...</td>\n",
       "    </tr>\n",
       "    <tr>\n",
       "      <th>4</th>\n",
       "      <td>YANAC</td>\n",
       "      <td>MULTIPOLYGON (((141.27978 -35.99859, 141.27989...</td>\n",
       "    </tr>\n",
       "  </tbody>\n",
       "</table>\n",
       "</div>"
      ],
      "text/plain": [
       "      suburb                                           geometry\n",
       "0  UNDERBOOL  MULTIPOLYGON (((141.74552 -35.07229, 141.74552...\n",
       "1     NURRAN  MULTIPOLYGON (((148.66877 -37.39571, 148.66876...\n",
       "2   WOORNDOO  MULTIPOLYGON (((142.92288 -37.97886, 142.90449...\n",
       "3   DEPTFORD  MULTIPOLYGON (((147.82336 -37.66001, 147.82313...\n",
       "4      YANAC  MULTIPOLYGON (((141.27978 -35.99859, 141.27989..."
      ]
     },
     "execution_count": 6,
     "metadata": {},
     "output_type": "execute_result"
    }
   ],
   "source": [
    "vic_suburb_data_reduced = vic_suburb_data[['vic_loca_2', 'geometry']] # Selecting our required columns\n",
    "vic_suburb_data_reduced.columns = ['suburb', 'geometry']              # Renaming for clarity\n",
    "print(f'Number of (rows, columns): {vic_suburb_data_reduced.shape}')\n",
    "vic_suburb_data_reduced.head()"
   ]
  },
  {
   "cell_type": "markdown",
   "metadata": {},
   "source": [
    "<div class=\"usecase-section-header\">Filtering Our Data</div>\n",
    "<p>\n",
    "    As we can see in the data preview above, the population data has many suburbs that are outside of our target area. By passing the dataset to the following function while specifying our year of interest, the function will remove any unnecasary suburbs, clean, and return a summarised version of our data containing our sububs of interest for the year specified.  \n",
    "</p>"
   ]
  },
  {
   "cell_type": "code",
   "execution_count": 7,
   "metadata": {},
   "outputs": [],
   "source": [
    "def pop_data_by_year(dataset, year):\n",
    "    \"\"\"\n",
    "    Filters and cleans the Population dataset returning a new pandas dataframe focused on the year passed to the function.\n",
    "    \n",
    "    Note that the year must be between 2020 and 2040 inclusive. \n",
    "    \"\"\"\n",
    "    # Extract the colomns of interest into \"summary\".\n",
    "    summary = dataset[['geography', 'year', 'value']]\n",
    "    # Convert datatypes and rename geography to suburb\n",
    "    summary = summary.astype({'year':int, 'value':float, 'geography':str})\n",
    "    summary.rename(columns={'geography':'suburb'}, inplace=True)\n",
    "    # Extract the data matching the year passed from the summary.\n",
    "    data = summary[summary['year'] == year]\n",
    "   \n",
    "    # Grouping the data by suburb while summing the population values. \n",
    "    data = pd.DataFrame(data.groupby('suburb')['value'].sum())\n",
    "    data = data.reset_index()\n",
    "    # Renaming the column \"value\" to \"population_year\" where year represents the year passed.\n",
    "    data.rename(columns={'value':f'population_{year}'}, inplace=True)\n",
    "    \n",
    "    # Cleaning the data and reset indexes\n",
    "    data['suburb'] = data['suburb'].replace(['Melbourne (CBD)', 'Melbourne (Remainder)'], ['Melbourne', 'Melbourne'])\n",
    "    data = pd.DataFrame(data.groupby('suburb')[f'population_{year}'].sum())\n",
    "    data = data.reset_index()\n",
    "    \n",
    "    # Removing unrequired data.\n",
    "    subs_to_delete = ['West Melbourne (Industrial)', 'City of Melbourne']\n",
    "    subs = [data.index[data['suburb']==sub].tolist()[0] for sub in subs_to_delete]\n",
    "    data.drop(subs, inplace = True)\n",
    "\n",
    "    data = data.reset_index(drop=True)\n",
    "    data['suburb'] = data['suburb'].replace(['West Melbourne (Residential)'], ['West Melbourne'])\n",
    "    \n",
    "    # Sorting the data\n",
    "    data.sort_values('suburb', inplace = True)\n",
    "    data = data.reset_index(drop=True)\n",
    "    data['suburb'] = data['suburb'].astype(str)\n",
    "    \n",
    "    return data"
   ]
  },
  {
   "cell_type": "markdown",
   "metadata": {},
   "source": [
    "Utilising the function above to examine a single year"
   ]
  },
  {
   "cell_type": "code",
   "execution_count": 8,
   "metadata": {},
   "outputs": [
    {
     "data": {
      "text/html": [
       "<div>\n",
       "<style scoped>\n",
       "    .dataframe tbody tr th:only-of-type {\n",
       "        vertical-align: middle;\n",
       "    }\n",
       "\n",
       "    .dataframe tbody tr th {\n",
       "        vertical-align: top;\n",
       "    }\n",
       "\n",
       "    .dataframe thead th {\n",
       "        text-align: right;\n",
       "    }\n",
       "</style>\n",
       "<table border=\"1\" class=\"dataframe\">\n",
       "  <thead>\n",
       "    <tr style=\"text-align: right;\">\n",
       "      <th></th>\n",
       "      <th>suburb</th>\n",
       "      <th>population_2030</th>\n",
       "    </tr>\n",
       "  </thead>\n",
       "  <tbody>\n",
       "    <tr>\n",
       "      <th>0</th>\n",
       "      <td>Carlton</td>\n",
       "      <td>86749.87</td>\n",
       "    </tr>\n",
       "    <tr>\n",
       "      <th>1</th>\n",
       "      <td>Docklands</td>\n",
       "      <td>69207.61</td>\n",
       "    </tr>\n",
       "    <tr>\n",
       "      <th>2</th>\n",
       "      <td>East Melbourne</td>\n",
       "      <td>23736.45</td>\n",
       "    </tr>\n",
       "    <tr>\n",
       "      <th>3</th>\n",
       "      <td>Kensington</td>\n",
       "      <td>49074.21</td>\n",
       "    </tr>\n",
       "    <tr>\n",
       "      <th>4</th>\n",
       "      <td>Melbourne</td>\n",
       "      <td>249852.84</td>\n",
       "    </tr>\n",
       "    <tr>\n",
       "      <th>5</th>\n",
       "      <td>North Melbourne</td>\n",
       "      <td>83938.89</td>\n",
       "    </tr>\n",
       "    <tr>\n",
       "      <th>6</th>\n",
       "      <td>Parkville</td>\n",
       "      <td>39775.58</td>\n",
       "    </tr>\n",
       "    <tr>\n",
       "      <th>7</th>\n",
       "      <td>Port Melbourne</td>\n",
       "      <td>4842.04</td>\n",
       "    </tr>\n",
       "    <tr>\n",
       "      <th>8</th>\n",
       "      <td>South Yarra</td>\n",
       "      <td>17033.03</td>\n",
       "    </tr>\n",
       "    <tr>\n",
       "      <th>9</th>\n",
       "      <td>Southbank</td>\n",
       "      <td>122042.52</td>\n",
       "    </tr>\n",
       "    <tr>\n",
       "      <th>10</th>\n",
       "      <td>West Melbourne</td>\n",
       "      <td>41834.72</td>\n",
       "    </tr>\n",
       "  </tbody>\n",
       "</table>\n",
       "</div>"
      ],
      "text/plain": [
       "             suburb  population_2030\n",
       "0           Carlton         86749.87\n",
       "1         Docklands         69207.61\n",
       "2    East Melbourne         23736.45\n",
       "3        Kensington         49074.21\n",
       "4         Melbourne        249852.84\n",
       "5   North Melbourne         83938.89\n",
       "6         Parkville         39775.58\n",
       "7    Port Melbourne          4842.04\n",
       "8       South Yarra         17033.03\n",
       "9         Southbank        122042.52\n",
       "10   West Melbourne         41834.72"
      ]
     },
     "execution_count": 8,
     "metadata": {},
     "output_type": "execute_result"
    }
   ],
   "source": [
    "pop_data_2030 = pop_data_by_year(population_data, 2030)\n",
    "pop_data_2030 "
   ]
  },
  {
   "cell_type": "markdown",
   "metadata": {},
   "source": [
    "Next we want to ensure our geographical data only includes the suburbs of interest matching the suburbs contained within our population dataset. "
   ]
  },
  {
   "cell_type": "code",
   "execution_count": 9,
   "metadata": {},
   "outputs": [
    {
     "data": {
      "text/html": [
       "<div>\n",
       "<style scoped>\n",
       "    .dataframe tbody tr th:only-of-type {\n",
       "        vertical-align: middle;\n",
       "    }\n",
       "\n",
       "    .dataframe tbody tr th {\n",
       "        vertical-align: top;\n",
       "    }\n",
       "\n",
       "    .dataframe thead th {\n",
       "        text-align: right;\n",
       "    }\n",
       "</style>\n",
       "<table border=\"1\" class=\"dataframe\">\n",
       "  <thead>\n",
       "    <tr style=\"text-align: right;\">\n",
       "      <th></th>\n",
       "      <th>suburb</th>\n",
       "      <th>geometry</th>\n",
       "    </tr>\n",
       "  </thead>\n",
       "  <tbody>\n",
       "    <tr>\n",
       "      <th>0</th>\n",
       "      <td>Carlton</td>\n",
       "      <td>MULTIPOLYGON (((144.97401 -37.80311, 144.97320...</td>\n",
       "    </tr>\n",
       "    <tr>\n",
       "      <th>1</th>\n",
       "      <td>Docklands</td>\n",
       "      <td>MULTIPOLYGON (((144.95376 -37.82363, 144.95336...</td>\n",
       "    </tr>\n",
       "    <tr>\n",
       "      <th>2</th>\n",
       "      <td>East Melbourne</td>\n",
       "      <td>MULTIPOLYGON (((144.97136 -37.80773, 144.97308...</td>\n",
       "    </tr>\n",
       "    <tr>\n",
       "      <th>3</th>\n",
       "      <td>Kensington</td>\n",
       "      <td>MULTIPOLYGON (((144.92282 -37.79913, 144.91977...</td>\n",
       "    </tr>\n",
       "    <tr>\n",
       "      <th>4</th>\n",
       "      <td>Melbourne</td>\n",
       "      <td>MULTIPOLYGON (((144.97797 -37.83867, 144.97803...</td>\n",
       "    </tr>\n",
       "    <tr>\n",
       "      <th>5</th>\n",
       "      <td>North Melbourne</td>\n",
       "      <td>MULTIPOLYGON (((144.95599 -37.80588, 144.95360...</td>\n",
       "    </tr>\n",
       "    <tr>\n",
       "      <th>6</th>\n",
       "      <td>Parkville</td>\n",
       "      <td>MULTIPOLYGON (((144.96521 -37.79315, 144.96460...</td>\n",
       "    </tr>\n",
       "    <tr>\n",
       "      <th>7</th>\n",
       "      <td>Port Melbourne</td>\n",
       "      <td>MULTIPOLYGON (((144.90749 -37.84326, 144.90652...</td>\n",
       "    </tr>\n",
       "    <tr>\n",
       "      <th>8</th>\n",
       "      <td>South Yarra</td>\n",
       "      <td>MULTIPOLYGON (((145.00455 -37.84131, 145.00453...</td>\n",
       "    </tr>\n",
       "    <tr>\n",
       "      <th>9</th>\n",
       "      <td>Southbank</td>\n",
       "      <td>MULTIPOLYGON (((144.97041 -37.83016, 144.97030...</td>\n",
       "    </tr>\n",
       "    <tr>\n",
       "      <th>10</th>\n",
       "      <td>West Melbourne</td>\n",
       "      <td>MULTIPOLYGON (((144.91648 -37.79826, 144.91754...</td>\n",
       "    </tr>\n",
       "  </tbody>\n",
       "</table>\n",
       "</div>"
      ],
      "text/plain": [
       "             suburb                                           geometry\n",
       "0           Carlton  MULTIPOLYGON (((144.97401 -37.80311, 144.97320...\n",
       "1         Docklands  MULTIPOLYGON (((144.95376 -37.82363, 144.95336...\n",
       "2    East Melbourne  MULTIPOLYGON (((144.97136 -37.80773, 144.97308...\n",
       "3        Kensington  MULTIPOLYGON (((144.92282 -37.79913, 144.91977...\n",
       "4         Melbourne  MULTIPOLYGON (((144.97797 -37.83867, 144.97803...\n",
       "5   North Melbourne  MULTIPOLYGON (((144.95599 -37.80588, 144.95360...\n",
       "6         Parkville  MULTIPOLYGON (((144.96521 -37.79315, 144.96460...\n",
       "7    Port Melbourne  MULTIPOLYGON (((144.90749 -37.84326, 144.90652...\n",
       "8       South Yarra  MULTIPOLYGON (((145.00455 -37.84131, 145.00453...\n",
       "9         Southbank  MULTIPOLYGON (((144.97041 -37.83016, 144.97030...\n",
       "10   West Melbourne  MULTIPOLYGON (((144.91648 -37.79826, 144.91754..."
      ]
     },
     "execution_count": 9,
     "metadata": {},
     "output_type": "execute_result"
    }
   ],
   "source": [
    "# Extract the suburbs of interest that match the population_data into \"target_suburbs\".\n",
    "target_suburbs = pop_data_2030['suburb'].str.upper()\n",
    "\n",
    "# Locate the index of the target suburbs and store as a list in \"subs\"\n",
    "subs = [vic_suburb_data.index[vic_suburb_data_reduced['suburb']==sub].tolist()[0] for sub in target_suburbs]\n",
    "\n",
    "# Create a new dataframe for the melbourne suburbs \"mel_suburbs\" and reformat.\n",
    "mel_suburb_data = pd.DataFrame(vic_suburb_data_reduced.iloc[subs])\n",
    "mel_suburb_data = mel_suburb_data.reset_index(drop=True)\n",
    "mel_suburb_data['suburb'] = mel_suburb_data['suburb'].str.title()\n",
    "mel_suburb_data "
   ]
  },
  {
   "cell_type": "markdown",
   "metadata": {},
   "source": []
  },
  {
   "cell_type": "markdown",
   "metadata": {},
   "source": [
    "<p>\n",
    "    \n",
    "</p>"
   ]
  }
 ],
 "metadata": {
  "kernelspec": {
   "display_name": "Python 3.9.10 64-bit",
   "language": "python",
   "name": "python3"
  },
  "language_info": {
   "codemirror_mode": {
    "name": "ipython",
    "version": 3
   },
   "file_extension": ".py",
   "mimetype": "text/x-python",
   "name": "python",
   "nbconvert_exporter": "python",
   "pygments_lexer": "ipython3",
   "version": "3.9.10"
  },
  "vscode": {
   "interpreter": {
    "hash": "aee8b7b246df8f9039afb4144a1f6fd8d2ca17a180786b69acc140d282b71a49"
   }
  }
 },
 "nbformat": 4,
 "nbformat_minor": 4
}
