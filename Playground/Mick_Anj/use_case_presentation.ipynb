{
 "cells": [
  {
   "cell_type": "markdown",
   "metadata": {},
   "source": [
    "_**DELETE BEFORE PUBLISHING**_\n",
    "\n",
    "_This is a template also containing the style guide for use cases. The styling uses the use-case css when uploaded to the website, which will not be visible on your local machine._\n",
    "\n",
    "_Change any text marked with {} and delete any cells marked DELETE_\n",
    "\n",
    "***"
   ]
  },
  {
   "cell_type": "code",
   "execution_count": 1,
   "metadata": {},
   "outputs": [
    {
     "data": {
      "text/html": [
       "\n",
       "<style>\n",
       ".usecase-title, .usecase-duration, .usecase-section-header {\n",
       "    padding-left: 15px;\n",
       "    padding-bottom: 8px;\n",
       "    padding-top: 8px;\n",
       "    padding-right: 15px;\n",
       "    background-color: #0f9295;\n",
       "    color: #fff;\n",
       "}\n",
       "\n",
       ".usecase-title {\n",
       "    font-size: 1.7em;\n",
       "    font-weight: bold;\n",
       "}\n",
       "\n",
       ".usecase-authors, .usecase-level, .usecase-skill {\n",
       "    padding-left: 15px;\n",
       "    padding-bottom: 6px;\n",
       "    padding-top: 6px;\n",
       "    background-color: #baeaeb;\n",
       "    font-size: 1.4em;\n",
       "    color: #121212;\n",
       "}\n",
       "\n",
       ".usecase-level-skill  {\n",
       "    display: flex;\n",
       "}\n",
       "\n",
       ".usecase-level, .usecase-skill {\n",
       "    width: 50%;\n",
       "}\n",
       "\n",
       ".usecase-duration, .usecase-skill {\n",
       "    text-align: right;\n",
       "    padding-right: 15px;\n",
       "    padding-bottom: 6px;\n",
       "    font-size: 1.4em;\n",
       "}\n",
       "\n",
       ".usecase-section-header {\n",
       "    font-weight: bold;\n",
       "    font-size: 1.5em;\n",
       "}\n",
       "\n",
       ".usecase-subsection-header, .usecase-subsection-blurb {\n",
       "    font-weight: bold;\n",
       "    font-size: 1.2em;\n",
       "    color: #121212;\n",
       "}\n",
       "\n",
       ".usecase-subsection-blurb {\n",
       "    font-size: 1em;\n",
       "    font-style: italic;\n",
       "}\n",
       "</style>\n"
      ],
      "text/plain": [
       "<IPython.core.display.HTML object>"
      ]
     },
     "execution_count": 1,
     "metadata": {},
     "output_type": "execute_result"
    }
   ],
   "source": [
    "# DELETE BEFORE PUBLISHING\n",
    "# This is just here so you can preview the styling on your local machine\n",
    "\n",
    "from IPython.core.display import HTML\n",
    "HTML(\"\"\"\n",
    "<style>\n",
    ".usecase-title, .usecase-duration, .usecase-section-header {\n",
    "    padding-left: 15px;\n",
    "    padding-bottom: 8px;\n",
    "    padding-top: 8px;\n",
    "    padding-right: 15px;\n",
    "    background-color: #0f9295;\n",
    "    color: #fff;\n",
    "}\n",
    "\n",
    ".usecase-title {\n",
    "    font-size: 1.7em;\n",
    "    font-weight: bold;\n",
    "}\n",
    "\n",
    ".usecase-authors, .usecase-level, .usecase-skill {\n",
    "    padding-left: 15px;\n",
    "    padding-bottom: 6px;\n",
    "    padding-top: 6px;\n",
    "    background-color: #baeaeb;\n",
    "    font-size: 1.4em;\n",
    "    color: #121212;\n",
    "}\n",
    "\n",
    ".usecase-level-skill  {\n",
    "    display: flex;\n",
    "}\n",
    "\n",
    ".usecase-level, .usecase-skill {\n",
    "    width: 50%;\n",
    "}\n",
    "\n",
    ".usecase-duration, .usecase-skill {\n",
    "    text-align: right;\n",
    "    padding-right: 15px;\n",
    "    padding-bottom: 6px;\n",
    "    font-size: 1.4em;\n",
    "}\n",
    "\n",
    ".usecase-section-header {\n",
    "    font-weight: bold;\n",
    "    font-size: 1.5em;\n",
    "}\n",
    "\n",
    ".usecase-subsection-header, .usecase-subsection-blurb {\n",
    "    font-weight: bold;\n",
    "    font-size: 1.2em;\n",
    "    color: #121212;\n",
    "}\n",
    "\n",
    ".usecase-subsection-blurb {\n",
    "    font-size: 1em;\n",
    "    font-style: italic;\n",
    "}\n",
    "</style>\n",
    "\"\"\")"
   ]
  },
  {
   "cell_type": "markdown",
   "metadata": {},
   "source": [
    "***\n",
    "\n",
    "_**DELETE BEFORE PUBLISHING**_\n",
    "\n",
    "## Style guide for use cases\n",
    "\n",
    "### Headers\n",
    "\n",
    "For styling within your markdown cells, there are two choices you can use for headers.\n",
    "\n",
    "1) You can use HTML classes specific to the use case styling:\n",
    "\n",
    "```<p class=\"usecase-subsection-header\">This is a subsection header.</p>```\n",
    "\n",
    "<p style=\"font-weight: bold; font-size: 1.2em;\">This is a subsection header.</p>\n",
    "\n",
    "```<p class=\"usecase-subsection-blurb\">This is a blurb header.</p>```\n",
    "\n",
    "<p style=\"font-weight: bold; font-size: 1em; font-style:italic;\">This is a blurb header.</p>\n",
    "\n",
    "\n",
    "2) Or if you like you can use the markdown header styles:\n",
    "\n",
    "```# for h1```\n",
    "\n",
    "```## for h2```\n",
    "\n",
    "```### for h3```\n",
    "\n",
    "```#### for h4```\n",
    "\n",
    "```##### for h5```\n",
    "\n",
    "## Plot colour schemes\n",
    "\n",
    "General advice:\n",
    "1. Use the same colour or colour palette throughout your notebook, unless variety is necessary\n",
    "2. Select a palette based on the type of data being represented\n",
    "3. Consider accessibility (colourblindness, low vision)\n",
    "\n",
    "#### 1) If all of your plots only use 1-2 colors use one of the company style colors:\n",
    "\n",
    "| Light theme | Dark Theme |\n",
    "|-----|-----|\n",
    "|<p style=\"color:#2af598;\">#2af598</p>|<p style=\"color:#08af64;\">#08af64</p>|\n",
    "|<p style=\"color:#22e4ac;\">#22e4ac</p>|<p style=\"color:#14a38e;\">#14a38e</p>|\n",
    "|<p style=\"color:#1bd7bb;\">#1bd7bb</p>|<p style=\"color:#0f9295;\">#0f9295</p>|\n",
    "|<p style=\"color:#14c9cb;\">#14c9cb</p>|<p style=\"color:#056b8a;\">#056b8a</p>|\n",
    "|<p style=\"color:#0fbed8;\">#0fbed8</p>|<p style=\"color:#121212;\">#121212</p>|\n",
    "|<p style=\"color:#08b3e5;\">#08b3e5</p>||\n",
    "\n",
    "\n",
    "#### 2) If your plot needs multiple colors, choose an appropriate palette using either of the following tutorials:\n",
    "- https://seaborn.pydata.org/tutorial/color_palettes.html\n",
    "- https://matplotlib.org/stable/tutorials/colors/colormaps.html\n",
    "\n",
    "#### 3) Consider accessibility as well.\n",
    "\n",
    "For qualitative plotting Seaborn's 'colorblind' palette is recommended. For maps with sequential or diverging it is recommended to use one of the Color Brewer schemes which can be previewed at https://colorbrewer2.org/.\n",
    "\n",
    "If you want to design your own colour scheme, it should use the same principles as Cynthia Brewer's research (with variation not only in hue but also, saturation or luminance).\n",
    "\n",
    "### References\n",
    "\n",
    "Be sure to acknowledge your sources and any attributions using links or a reference list.\n",
    "\n",
    "If you have quite a few references, you might wish to have a dedicated section for references at the end of your document, linked using footnote style numbers.\n",
    "\n",
    "You can connect your in-text reference by adding the number with a HTML link: ```<a href=\"#fn-1\">[1]</a>```\n",
    "\n",
    "and add a matching ID in the reference list using the ```<fn>``` tag: ```<fn id=\"fn-1\">[1] Author (Year) _Title_, Publisher, Publication location.</fn>```"
   ]
  },
  {
   "cell_type": "markdown",
   "metadata": {},
   "source": [
    "------"
   ]
  },
  {
   "cell_type": "markdown",
   "metadata": {},
   "source": [
    "------"
   ]
  },
  {
   "cell_type": "markdown",
   "metadata": {},
   "source": [
    "<div class=\"usecase-title\">Small Area Population Growth & Active Transport Needs Analysis</div>\n",
    "\n",
    "<div class=\"usecase-authors\"><b>Authored by: </b>Angie Hollingworth and Mick Wiedermann</div>"
   ]
  },
  {
   "cell_type": "markdown",
   "metadata": {},
   "source": [
    "<div class=\"usecase-duration\"><b>Duration:</b> 90 mins</div>\n",
    "\n",
    "<div class=\"usecase-level-skill\">\n",
    "    <div class=\"usecase-level\"><b>Level: </b>Intermediate</div>\n",
    "    <div class=\"usecase-skill\"><b>Pre-requisite Skills: </b>Python</div>\n",
    "</div>"
   ]
  },
  {
   "cell_type": "markdown",
   "metadata": {},
   "source": [
    "<div class=\"usecase-section-header\">Scenario</div>"
   ]
  },
  {
   "cell_type": "markdown",
   "metadata": {},
   "source": [
    "- As a future resident of Melbourne, I want to live close to active and/or public transport routes. I prefer not to use my car in and around the city, where shall I live?\n",
    "- As a city council, we wish to increase the sustainability of our city and reduce the number of motor vehicles coming and going to lower emissions. What infrastructure investment will help achieve this goal?\n",
    "- As a city council, we wish to see our highest areas of non-car traffic to identify where we could increase services for our residents\n"
   ]
  },
  {
   "cell_type": "markdown",
   "metadata": {},
   "source": [
    "<div class=\"usecase-section-header\">Exploratory Data Analysis Objectives</div>"
   ]
  },
  {
   "cell_type": "markdown",
   "metadata": {},
   "source": [
    "The goals for this analysis (Part A) are: \n",
    "- Analyse population growth at the suburb level to quantify the speed of growth of each suburb relative to one another.   \n",
    "- Analyse the existing active transportation routes’ current demand and access relative to the forecast growth of the population.  \n",
    "- Identify key areas where active transportation routes could experience higher demand therefore may require additional infrastructure. \n",
    "\n",
    "Population Growth & Public Transport Needs Analysis (Part B) will extend this analysis and include public transport, trams, buses, and trains.  \n"
   ]
  },
  {
   "cell_type": "markdown",
   "metadata": {},
   "source": [
    "<div class=\"usecase-section-header\">Strategic Benefits for the City of Melbourne</div>"
   ]
  },
  {
   "cell_type": "markdown",
   "metadata": {},
   "source": [
    "This use case and analysis in conjunction with Part B, can help Melbourne City meet strategic and sustainability goals in the following ways: \n",
    "- Support discussions with infrastructure-related partners for the location of new or upgraded, public and active transportation routes to reduce the use of motorised vehicles in turn reducing emissions helping to meet the climate and biodiversity emergency objective.\n",
    "- Encouraging additional purpose-designed bike paths in heavy use areas can remove bicycles from the road and reduce the number of bike-related injuries helping to meet the safety and well-being objective. \n",
    "- Identify areas of higher active transport traffic (foot/bicycle etc) in comparison with predicted population growth to establish a use-case for more resources to encourage a greater use of active transport paths and or bike lanes \n"
   ]
  },
  {
   "cell_type": "markdown",
   "metadata": {},
   "source": [
    "<div class=\"usecase-section-header\">Why Inner-City Transport Routes Matter </div>"
   ]
  },
  {
   "cell_type": "markdown",
   "metadata": {},
   "source": [
    "Melbourne City is the first in Australia to make a [Voluntary Local Review (VLR) Declaration](https://www.melbourne.vic.gov.au/about-council/vision-goals/Pages/united-nations-sustainable-development-goals.aspx) which is a United Nations initiative for local and regional governments worldwide to formally commit to and report their local progress toward the seventeen Sustainable Development Goals.\n",
    "\n",
    "By examining the active and public transport routes and usage within Melbourne City, in conjunction with the population growth forecasts, we hope to identify areas with existing and projected increased demand for additional active and public transport routes. \n",
    "\n",
    "The hope is that by ensuring that the appropriate sustainable transport options are available and easily accessible, we would discourage the use of motorised vehicles within Melbourne City reducing emissions while creating a more sustainable city.   \n",
    "\n",
    "This will help Melbourne City to achieve two of the UN sustainability goals namely sustainable cities and communities, and climate action, along with a key strategic objective, the [climate and biodiversity emergency](https://www.melbourne.vic.gov.au/about-council/vision-goals/Pages/council-plan.aspx) objective which prioritises the reduction of emissions."
   ]
  },
  {
   "cell_type": "markdown",
   "metadata": {},
   "source": [
    "<div class=\"usecase-section-header\">Data Requirments</div>"
   ]
  },
  {
   "cell_type": "markdown",
   "metadata": {},
   "source": [
    "## Melbourne Open Data Datasets\n",
    "### Population Growth Forecast Data\n",
    "Our first and arguably the most important dataset for this analysis is the [*City of Melbourne Population Forecasts by Small Area 2021-2041*](https://data.melbourne.vic.gov.au/People/City-of-Melbourne-Population-Forecasts-by-Small-Ar/sp4r-xphj) from Melbourne Open Data which provides population forecasts by single year for 2021 to 2041. Prepared by SGS Economics and Planning (Jan-Jun 2021), forecasts are available for the municipality and small areas, as well as by gender and 5-year age groups.\n",
    "\n",
    "### Super Tuesday Bike Count data\n",
    "To understand the current volume of cyclists on bike paths, we can use the [*Annual Bike Counts (Super Tuesday)*](https://data.melbourne.vic.gov.au/Transport/Annual-Bike-Counts-Super-Tuesday-/uyp8-7ii8)) dataset. In summary, the dataset contains observed bike counts from sites across the city and is part of Australia’s biggest annual commuter bike path count dataset. Later datasets for Super Tuesday include greater information about the types oof bike path user (walker, bike rider, gender etc)\n",
    "\n",
    "### Bike Path Geospatial data\n",
    "For this analysis we are looking solely at the Active transport routes. For a visual representation of the bike paths/routes, we require geospatial data. The following dataset [*Bicycle routes, including informal, on-road and off-road routes*](https://data.melbourne.vic.gov.au/Transport/Bicycle-routes-including-informal-on-road-and-off-/24aw-nd3i) contains information about each of the paths along with the geospatial data. \n",
    "\n",
    "## Other Datasets\n",
    "### Victorian Suburbs Geospatial Data\n",
    "In order to visualise our population forecasts as a map overlay, we need the geographical coordinates of the suburbs we'll be examining. For this we'll use the *VIC Suburb/Locality Boundaries - PSMA Administrative Boundaries GeoJSON* dataset from the Australian Government site [data.gov.au](https://data.gov.au/dataset/ds-dga-af33dd8c-0534-4e18-9245-fc64440f742e/distribution/dist-dga-d467c550-fdf0-480f-85ca-79a6a30b700b/details?q=). \n"
   ]
  },
  {
   "cell_type": "markdown",
   "metadata": {},
   "source": [
    "<div class=\"usecase-section-header\">Importing the data</div>"
   ]
  },
  {
   "cell_type": "markdown",
   "metadata": {},
   "source": [
    "Before importing our datasets, we shall first import the necessary libraries to support our exploratory data analysis and visualisation.\n",
    "\n",
    "The following are the core packages required for this analysis:\n",
    "\n",
    "- {List each non-standard package and why briefly why you're using it. No need to list commonly used packages like numpy, maths,os, time, pandas}\n",
    "- GeoPandas: Allows us to plot patial data and overlay that data on maps. \n",
    "- Folium: "
   ]
  },
  {
   "cell_type": "code",
   "execution_count": 2,
   "metadata": {},
   "outputs": [],
   "source": [
    "# For importing the data and using API\n",
    "from sodapy import Socrata\n",
    "from urllib.request import urlopen\n",
    "import os\n",
    "import zipfile as zf\n",
    "import requests\n",
    "from io import BytesIO \n",
    "\n",
    "# Working with the data\n",
    "from shapely.geometry import Polygon, Point\n",
    "import numpy as np\n",
    "import pandas as pd\n",
    "import geopandas as gpd\n",
    "import json\n",
    "\n",
    "# Visualisation\n",
    "from IPython.display import IFrame, display, HTML\n",
    "import matplotlib.pylab as plt\n",
    "import seaborn as sns\n",
    "import warnings\n",
    "import folium\n",
    "from folium import plugins\n",
    "from folium.plugins import HeatMap"
   ]
  },
  {
   "cell_type": "markdown",
   "metadata": {},
   "source": [
    "To connect to the *Melbourne Open Data Portal* we must establish a connection using the sodapy library by specifying a domain, being the website domain where the data is hosted, and an application access token that can be requested from the City of Melbourne Open Data portal by registering [here](https://data.melbourne.vic.gov.au/signup)\n",
    "\n",
    "For this exercise, we will access the domain without an application token. Each dataset in the Melbourne Open Data Portal has a unique identifier that can be used to retrieve the dataset using the sodapy library.\n",
    "\n",
    "The *City of Melbourne Population Forecasts by Small Area 2021-2041* dataset unique identifier is *sp4r-xphj*. We will pass this identifier into the sodapy command below to retrieve this data placing it into a Pandas dataframe.\n"
   ]
  },
  {
   "cell_type": "code",
   "execution_count": 3,
   "metadata": {},
   "outputs": [
    {
     "name": "stderr",
     "output_type": "stream",
     "text": [
      "WARNING:root:Requests made without an app_token will be subject to strict throttling limits.\n"
     ]
    },
    {
     "data": {
      "text/html": [
       "<div>\n",
       "<style scoped>\n",
       "    .dataframe tbody tr th:only-of-type {\n",
       "        vertical-align: middle;\n",
       "    }\n",
       "\n",
       "    .dataframe tbody tr th {\n",
       "        vertical-align: top;\n",
       "    }\n",
       "\n",
       "    .dataframe thead th {\n",
       "        text-align: right;\n",
       "    }\n",
       "</style>\n",
       "<table border=\"1\" class=\"dataframe\">\n",
       "  <thead>\n",
       "    <tr style=\"text-align: right;\">\n",
       "      <th></th>\n",
       "      <th>geography</th>\n",
       "      <th>year</th>\n",
       "      <th>gender</th>\n",
       "      <th>age</th>\n",
       "      <th>value</th>\n",
       "    </tr>\n",
       "  </thead>\n",
       "  <tbody>\n",
       "    <tr>\n",
       "      <th>17047</th>\n",
       "      <td>West Melbourne (Residential)</td>\n",
       "      <td>2037</td>\n",
       "      <td>Not applicable</td>\n",
       "      <td>Total population</td>\n",
       "      <td>14854</td>\n",
       "    </tr>\n",
       "    <tr>\n",
       "      <th>17048</th>\n",
       "      <td>West Melbourne (Residential)</td>\n",
       "      <td>2038</td>\n",
       "      <td>Not applicable</td>\n",
       "      <td>Total population</td>\n",
       "      <td>14815</td>\n",
       "    </tr>\n",
       "    <tr>\n",
       "      <th>17049</th>\n",
       "      <td>West Melbourne (Residential)</td>\n",
       "      <td>2039</td>\n",
       "      <td>Not applicable</td>\n",
       "      <td>Total population</td>\n",
       "      <td>14794</td>\n",
       "    </tr>\n",
       "    <tr>\n",
       "      <th>17050</th>\n",
       "      <td>West Melbourne (Residential)</td>\n",
       "      <td>2040</td>\n",
       "      <td>Not applicable</td>\n",
       "      <td>Total population</td>\n",
       "      <td>14824</td>\n",
       "    </tr>\n",
       "    <tr>\n",
       "      <th>17051</th>\n",
       "      <td>West Melbourne (Residential)</td>\n",
       "      <td>2041</td>\n",
       "      <td>Not applicable</td>\n",
       "      <td>Total population</td>\n",
       "      <td>14814</td>\n",
       "    </tr>\n",
       "  </tbody>\n",
       "</table>\n",
       "</div>"
      ],
      "text/plain": [
       "                          geography  year          gender               age  \\\n",
       "17047  West Melbourne (Residential)  2037  Not applicable  Total population   \n",
       "17048  West Melbourne (Residential)  2038  Not applicable  Total population   \n",
       "17049  West Melbourne (Residential)  2039  Not applicable  Total population   \n",
       "17050  West Melbourne (Residential)  2040  Not applicable  Total population   \n",
       "17051  West Melbourne (Residential)  2041  Not applicable  Total population   \n",
       "\n",
       "       value  \n",
       "17047  14854  \n",
       "17048  14815  \n",
       "17049  14794  \n",
       "17050  14824  \n",
       "17051  14814  "
      ]
     },
     "execution_count": 3,
     "metadata": {},
     "output_type": "execute_result"
    }
   ],
   "source": [
    "apptoken = os.environ.get(\"SODAPY_APPTOKEN\") # Anonymous App Token\n",
    "domain = \"data.melbourne.vic.gov.au\"\n",
    "client = Socrata(domain, apptoken)           # Open Dataset Connection\n",
    "pop_data_unique_identifier = 'sp4r-xphj'   \n",
    "\n",
    "# Population Forecast Data\n",
    "population_data = pd.DataFrame.from_dict(client.get_all(pop_data_unique_identifier))\n",
    "population_data.tail()"
   ]
  },
  {
   "cell_type": "markdown",
   "metadata": {},
   "source": [
    "Next, we’ll use the same app token, domain, and client to import the remaining datasets described above from the Melbourne Open Data Portal. "
   ]
  },
  {
   "cell_type": "code",
   "execution_count": 4,
   "metadata": {},
   "outputs": [],
   "source": [
    "# Bike Path Geographical Data\n",
    "bike_geo_data_unique_identifier = 'hmuz-nz6m'\n",
    "bike_path_data_url = 'https://'+ domain +'/api/geospatial/'+ bike_geo_data_unique_identifier +'?method=export&format=GeoJSON'\n",
    "with urlopen(bike_path_data_url) as result:\n",
    "    bike_path_data = json.load(result) \n",
    "\n",
    "# Bike Count Data\n",
    "bike_count_data_unique_identifier = 'uyp8-7ii8'\n",
    "bike_count_data = pd.DataFrame.from_dict(client.get_all(bike_count_data_unique_identifier))"
   ]
  },
  {
   "cell_type": "markdown",
   "metadata": {},
   "source": [
    "The last Dataset we need to import is the *Victorian Suburbs/Locality Boundaries* from the Australian Government site, data.gov.au, which is freely available for download via the below URL. As the data includes geometric data, we will also import this data into a GeoPandas dataframe."
   ]
  },
  {
   "cell_type": "code",
   "execution_count": 5,
   "metadata": {},
   "outputs": [
    {
     "data": {
      "text/html": [
       "<div>\n",
       "<style scoped>\n",
       "    .dataframe tbody tr th:only-of-type {\n",
       "        vertical-align: middle;\n",
       "    }\n",
       "\n",
       "    .dataframe tbody tr th {\n",
       "        vertical-align: top;\n",
       "    }\n",
       "\n",
       "    .dataframe thead th {\n",
       "        text-align: right;\n",
       "    }\n",
       "</style>\n",
       "<table border=\"1\" class=\"dataframe\">\n",
       "  <thead>\n",
       "    <tr style=\"text-align: right;\">\n",
       "      <th></th>\n",
       "      <th>suburb</th>\n",
       "      <th>geometry</th>\n",
       "    </tr>\n",
       "  </thead>\n",
       "  <tbody>\n",
       "    <tr>\n",
       "      <th>0</th>\n",
       "      <td>UNDERBOOL</td>\n",
       "      <td>MULTIPOLYGON (((141.74552 -35.07229, 141.74552...</td>\n",
       "    </tr>\n",
       "    <tr>\n",
       "      <th>1</th>\n",
       "      <td>NURRAN</td>\n",
       "      <td>MULTIPOLYGON (((148.66877 -37.39571, 148.66876...</td>\n",
       "    </tr>\n",
       "    <tr>\n",
       "      <th>2</th>\n",
       "      <td>WOORNDOO</td>\n",
       "      <td>MULTIPOLYGON (((142.92288 -37.97886, 142.90449...</td>\n",
       "    </tr>\n",
       "    <tr>\n",
       "      <th>3</th>\n",
       "      <td>DEPTFORD</td>\n",
       "      <td>MULTIPOLYGON (((147.82336 -37.66001, 147.82313...</td>\n",
       "    </tr>\n",
       "    <tr>\n",
       "      <th>4</th>\n",
       "      <td>YANAC</td>\n",
       "      <td>MULTIPOLYGON (((141.27978 -35.99859, 141.27989...</td>\n",
       "    </tr>\n",
       "  </tbody>\n",
       "</table>\n",
       "</div>"
      ],
      "text/plain": [
       "      suburb                                           geometry\n",
       "0  UNDERBOOL  MULTIPOLYGON (((141.74552 -35.07229, 141.74552...\n",
       "1     NURRAN  MULTIPOLYGON (((148.66877 -37.39571, 148.66876...\n",
       "2   WOORNDOO  MULTIPOLYGON (((142.92288 -37.97886, 142.90449...\n",
       "3   DEPTFORD  MULTIPOLYGON (((147.82336 -37.66001, 147.82313...\n",
       "4      YANAC  MULTIPOLYGON (((141.27978 -35.99859, 141.27989..."
      ]
     },
     "execution_count": 5,
     "metadata": {},
     "output_type": "execute_result"
    }
   ],
   "source": [
    "# Suburb Geographical Data\n",
    "suburb_geo_data_url = ('https://data.gov.au/geoserver/vic-suburb-locality-boundaries-psma-administrative-'\n",
    "    + 'boundaries/wfs?request=GetFeature&typeName=ckan_af33dd8c_0534_4e18_9245_fc64440f742e&outputFormat=json')\n",
    "\n",
    "vic_suburb_data = gpd.read_file(suburb_geo_data_url)\n",
    "vic_suburbs_reduced = vic_suburb_data[['vic_loca_2', 'geometry']]\n",
    "vic_suburbs_reduced = vic_suburbs_reduced.rename(columns={'vic_loca_2':'suburb'})\n",
    "\n",
    "vic_suburbs_reduced.head()"
   ]
  },
  {
   "cell_type": "markdown",
   "metadata": {},
   "source": [
    "<div class=\"usecase-section-header\">Cleaning and Preparing Our Data</div>"
   ]
  },
  {
   "cell_type": "markdown",
   "metadata": {},
   "source": [
    "As we know from reading the data descriptions and dictionaries from each of the datasets, most have data that we don’t require. In this section, we will extract the data we need and join various sets ready for analysis. \n",
    "\n",
    "### Population Forecast and Suburb Geospatial Data\n",
    "Starting with the population and suburb geospatial data, we need to remove suburbs from the geospatial data that are not included in our population forecast data. Also, we need to match the City of Melbourne suburbs by name which require a merge of certain fields and renaming of others. \n",
    "\n",
    "By passing the population dataset to the following two functions, we can clean the dataset to return only the columns (information) that we require whilst also formatting the column names and data types. The second function will return a new data frame with either the population totals by suburb for the year specified or all years if the boolean parameter is set to true.   "
   ]
  },
  {
   "cell_type": "code",
   "execution_count": 6,
   "metadata": {},
   "outputs": [],
   "source": [
    "def prepare_pop_data(dataset):\n",
    "    \"\"\"\n",
    "    Filters and cleans the Population dataset returning a new pandas dataframe.\n",
    "    \n",
    "        dataset: The City of Melbourne Population Forecasts by Small Area 2021-2041. \n",
    "    \"\"\"\n",
    "    # Excluding the population totals & average age\n",
    "    dataset = dataset.loc[dataset['gender'] == 'Total']\n",
    "    dataset = dataset.loc[dataset['age'] != 'Average age']\n",
    "    \n",
    "    # Extract the colomns of interest into \"summary\" and rename geography.\n",
    "    summary = dataset[['geography', 'year', 'value', 'age']]\n",
    "    summary = summary.rename(columns={'geography':'suburb'})\n",
    "    \n",
    "    # Convert datatypes and rename geography to suburb\n",
    "    summary = summary.astype({'year':int, 'value':float, 'suburb':'string'})\n",
    "\n",
    "    # Consolidating and updateing suburb names to match the Geospatial data.\n",
    "    summary['suburb'] = summary['suburb'].replace(['Melbourne (CBD)', 'Melbourne (Remainder)'], ['Melbourne', 'Melbourne'])\n",
    "    summary['suburb'] = summary['suburb'].replace(['West Melbourne (Residential)'], ['West Melbourne'])\n",
    "    \n",
    "    # Removing unrequired data.  \n",
    "    summary.drop(summary.index[summary['suburb'] == 'West Melbourne (Industrial)'], inplace=True)\n",
    "    summary.drop(summary.index[summary['suburb'] == 'City of Melbourne'], inplace=True)\n",
    "    summary.drop(summary.index[summary['suburb'] == 'Port Melbourne'], inplace=True)\n",
    "    \n",
    "    # Sorting the data and resetting the indexes.\n",
    "    summary.sort_values(['suburb'], inplace = True)\n",
    "    summary = summary.reset_index(drop=True)\n",
    "    '''\n",
    "    n.b Port Melbourne Population count is very small and doesn't seem to be acurate. This jumps in subsequent years skewing the data,\n",
    "        for that reason we have chosen to exclude port melbourne from the analisys. \n",
    "    Melbourne (Remainder) and Melbourne (CBD) were combined to match the Geospatial data.\n",
    "    '''\n",
    "    summary = gpd.GeoDataFrame(summary)\n",
    "\n",
    "    return summary"
   ]
  },
  {
   "cell_type": "code",
   "execution_count": 7,
   "metadata": {},
   "outputs": [],
   "source": [
    "def population_by_year(grouped_data, year, all_years=False):\n",
    "    \"\"\"\n",
    "    Returns Geo DataFrame of the population by suburb of the year specified or all years if set to True.\n",
    "    \n",
    "        dataset: The original \"population_data\" dataset. \n",
    "        year:    The desired year for the population totals.\n",
    "        all_years (bool, optional): If True, will return a summary of all years.\n",
    "    \"\"\"\n",
    "    grouped_data = grouped_data[['suburb', 'year', 'value']]\n",
    "    \n",
    "    if all_years:\n",
    "        grouped_data = grouped_data.groupby(['suburb', 'year'])['value'].sum()\n",
    "    else:\n",
    "        grouped_data = grouped_data.loc[grouped_data['year'] == year]\n",
    "        grouped_data = grouped_data.groupby(['suburb', 'year'])['value'].sum()\n",
    "        grouped_data = grouped_data.reset_index()\n",
    "    \n",
    "    grouped_data = grouped_data.rename(columns={'value': year})\n",
    "    grouped_data = grouped_data.drop(columns=['year'])\n",
    "    grouped_data = grouped_data.astype({'suburb':'string'})\n",
    "    grouped_data = gpd.GeoDataFrame(grouped_data)\n",
    "    \n",
    "    return grouped_data\n"
   ]
  },
  {
   "cell_type": "code",
   "execution_count": 8,
   "metadata": {},
   "outputs": [
    {
     "data": {
      "text/html": [
       "<div>\n",
       "<style scoped>\n",
       "    .dataframe tbody tr th:only-of-type {\n",
       "        vertical-align: middle;\n",
       "    }\n",
       "\n",
       "    .dataframe tbody tr th {\n",
       "        vertical-align: top;\n",
       "    }\n",
       "\n",
       "    .dataframe thead th {\n",
       "        text-align: right;\n",
       "    }\n",
       "</style>\n",
       "<table border=\"1\" class=\"dataframe\">\n",
       "  <thead>\n",
       "    <tr style=\"text-align: right;\">\n",
       "      <th></th>\n",
       "      <th>suburb</th>\n",
       "      <th>year</th>\n",
       "      <th>value</th>\n",
       "      <th>age</th>\n",
       "    </tr>\n",
       "  </thead>\n",
       "  <tbody>\n",
       "    <tr>\n",
       "      <th>0</th>\n",
       "      <td>Carlton</td>\n",
       "      <td>2021</td>\n",
       "      <td>349.0</td>\n",
       "      <td>Age 0-4</td>\n",
       "    </tr>\n",
       "    <tr>\n",
       "      <th>1</th>\n",
       "      <td>Carlton</td>\n",
       "      <td>2035</td>\n",
       "      <td>5230.0</td>\n",
       "      <td>Age 25-29</td>\n",
       "    </tr>\n",
       "    <tr>\n",
       "      <th>2</th>\n",
       "      <td>Carlton</td>\n",
       "      <td>2035</td>\n",
       "      <td>7792.0</td>\n",
       "      <td>Age 20-24</td>\n",
       "    </tr>\n",
       "    <tr>\n",
       "      <th>3</th>\n",
       "      <td>Carlton</td>\n",
       "      <td>2035</td>\n",
       "      <td>2465.0</td>\n",
       "      <td>Age 15-19</td>\n",
       "    </tr>\n",
       "    <tr>\n",
       "      <th>4</th>\n",
       "      <td>Carlton</td>\n",
       "      <td>2035</td>\n",
       "      <td>675.0</td>\n",
       "      <td>Age 10-14</td>\n",
       "    </tr>\n",
       "  </tbody>\n",
       "</table>\n",
       "</div>"
      ],
      "text/plain": [
       "    suburb  year   value        age\n",
       "0  Carlton  2021   349.0    Age 0-4\n",
       "1  Carlton  2035  5230.0  Age 25-29\n",
       "2  Carlton  2035  7792.0  Age 20-24\n",
       "3  Carlton  2035  2465.0  Age 15-19\n",
       "4  Carlton  2035   675.0  Age 10-14"
      ]
     },
     "execution_count": 8,
     "metadata": {},
     "output_type": "execute_result"
    }
   ],
   "source": [
    "# Clean the initial dataset to contain only the information we require\n",
    "\n",
    "population_data_preped = prepare_pop_data(population_data)\n",
    "population_data_preped.head()"
   ]
  },
  {
   "cell_type": "code",
   "execution_count": 9,
   "metadata": {},
   "outputs": [
    {
     "data": {
      "text/html": [
       "<div>\n",
       "<style scoped>\n",
       "    .dataframe tbody tr th:only-of-type {\n",
       "        vertical-align: middle;\n",
       "    }\n",
       "\n",
       "    .dataframe tbody tr th {\n",
       "        vertical-align: top;\n",
       "    }\n",
       "\n",
       "    .dataframe thead th {\n",
       "        text-align: right;\n",
       "    }\n",
       "</style>\n",
       "<table border=\"1\" class=\"dataframe\">\n",
       "  <thead>\n",
       "    <tr style=\"text-align: right;\">\n",
       "      <th></th>\n",
       "      <th>suburb</th>\n",
       "      <th>2022</th>\n",
       "    </tr>\n",
       "  </thead>\n",
       "  <tbody>\n",
       "    <tr>\n",
       "      <th>0</th>\n",
       "      <td>Carlton</td>\n",
       "      <td>17630.0</td>\n",
       "    </tr>\n",
       "    <tr>\n",
       "      <th>1</th>\n",
       "      <td>Docklands</td>\n",
       "      <td>16221.0</td>\n",
       "    </tr>\n",
       "    <tr>\n",
       "      <th>2</th>\n",
       "      <td>East Melbourne</td>\n",
       "      <td>5092.0</td>\n",
       "    </tr>\n",
       "    <tr>\n",
       "      <th>3</th>\n",
       "      <td>Kensington</td>\n",
       "      <td>11117.0</td>\n",
       "    </tr>\n",
       "    <tr>\n",
       "      <th>4</th>\n",
       "      <td>Melbourne</td>\n",
       "      <td>47781.0</td>\n",
       "    </tr>\n",
       "  </tbody>\n",
       "</table>\n",
       "</div>"
      ],
      "text/plain": [
       "           suburb     2022\n",
       "0         Carlton  17630.0\n",
       "1       Docklands  16221.0\n",
       "2  East Melbourne   5092.0\n",
       "3      Kensington  11117.0\n",
       "4       Melbourne  47781.0"
      ]
     },
     "execution_count": 9,
     "metadata": {},
     "output_type": "execute_result"
    }
   ],
   "source": [
    "# Reducing the dataset size with the pop_data_by_year function above.\n",
    "\n",
    "population_2022 = population_by_year(population_data_preped, 2022)\n",
    "population_2022.head()"
   ]
  },
  {
   "cell_type": "markdown",
   "metadata": {},
   "source": [
    "Next, we’ll utilise our reduced dataset above to filter and extract the suburbs of interest from the geospatial data. "
   ]
  },
  {
   "cell_type": "code",
   "execution_count": 10,
   "metadata": {},
   "outputs": [
    {
     "data": {
      "text/html": [
       "<div>\n",
       "<style scoped>\n",
       "    .dataframe tbody tr th:only-of-type {\n",
       "        vertical-align: middle;\n",
       "    }\n",
       "\n",
       "    .dataframe tbody tr th {\n",
       "        vertical-align: top;\n",
       "    }\n",
       "\n",
       "    .dataframe thead th {\n",
       "        text-align: right;\n",
       "    }\n",
       "</style>\n",
       "<table border=\"1\" class=\"dataframe\">\n",
       "  <thead>\n",
       "    <tr style=\"text-align: right;\">\n",
       "      <th></th>\n",
       "      <th>suburb</th>\n",
       "      <th>geometry</th>\n",
       "    </tr>\n",
       "  </thead>\n",
       "  <tbody>\n",
       "    <tr>\n",
       "      <th>0</th>\n",
       "      <td>Carlton</td>\n",
       "      <td>MULTIPOLYGON (((144.97401 -37.80311, 144.97320...</td>\n",
       "    </tr>\n",
       "    <tr>\n",
       "      <th>1</th>\n",
       "      <td>Docklands</td>\n",
       "      <td>MULTIPOLYGON (((144.95376 -37.82363, 144.95336...</td>\n",
       "    </tr>\n",
       "    <tr>\n",
       "      <th>2</th>\n",
       "      <td>East Melbourne</td>\n",
       "      <td>MULTIPOLYGON (((144.97136 -37.80773, 144.97308...</td>\n",
       "    </tr>\n",
       "    <tr>\n",
       "      <th>3</th>\n",
       "      <td>Kensington</td>\n",
       "      <td>MULTIPOLYGON (((144.92282 -37.79913, 144.91977...</td>\n",
       "    </tr>\n",
       "    <tr>\n",
       "      <th>4</th>\n",
       "      <td>Melbourne</td>\n",
       "      <td>MULTIPOLYGON (((144.97797 -37.83867, 144.97803...</td>\n",
       "    </tr>\n",
       "    <tr>\n",
       "      <th>5</th>\n",
       "      <td>North Melbourne</td>\n",
       "      <td>MULTIPOLYGON (((144.95599 -37.80588, 144.95360...</td>\n",
       "    </tr>\n",
       "    <tr>\n",
       "      <th>6</th>\n",
       "      <td>Parkville</td>\n",
       "      <td>MULTIPOLYGON (((144.96521 -37.79315, 144.96460...</td>\n",
       "    </tr>\n",
       "    <tr>\n",
       "      <th>7</th>\n",
       "      <td>South Yarra</td>\n",
       "      <td>MULTIPOLYGON (((145.00455 -37.84131, 145.00453...</td>\n",
       "    </tr>\n",
       "    <tr>\n",
       "      <th>8</th>\n",
       "      <td>Southbank</td>\n",
       "      <td>MULTIPOLYGON (((144.97041 -37.83016, 144.97030...</td>\n",
       "    </tr>\n",
       "    <tr>\n",
       "      <th>9</th>\n",
       "      <td>West Melbourne</td>\n",
       "      <td>MULTIPOLYGON (((144.91648 -37.79826, 144.91754...</td>\n",
       "    </tr>\n",
       "  </tbody>\n",
       "</table>\n",
       "</div>"
      ],
      "text/plain": [
       "            suburb                                           geometry\n",
       "0          Carlton  MULTIPOLYGON (((144.97401 -37.80311, 144.97320...\n",
       "1        Docklands  MULTIPOLYGON (((144.95376 -37.82363, 144.95336...\n",
       "2   East Melbourne  MULTIPOLYGON (((144.97136 -37.80773, 144.97308...\n",
       "3       Kensington  MULTIPOLYGON (((144.92282 -37.79913, 144.91977...\n",
       "4        Melbourne  MULTIPOLYGON (((144.97797 -37.83867, 144.97803...\n",
       "5  North Melbourne  MULTIPOLYGON (((144.95599 -37.80588, 144.95360...\n",
       "6        Parkville  MULTIPOLYGON (((144.96521 -37.79315, 144.96460...\n",
       "7      South Yarra  MULTIPOLYGON (((145.00455 -37.84131, 145.00453...\n",
       "8        Southbank  MULTIPOLYGON (((144.97041 -37.83016, 144.97030...\n",
       "9   West Melbourne  MULTIPOLYGON (((144.91648 -37.79826, 144.91754..."
      ]
     },
     "execution_count": 10,
     "metadata": {},
     "output_type": "execute_result"
    }
   ],
   "source": [
    "# Extract the suburbs of interest that match the population_data into \"target_suburbs\".\n",
    "target_subs = population_2022['suburb'].str.upper()\n",
    "\n",
    "# Locate the index of the target suburbs and store as a list in \"subs\"\n",
    "subs = [vic_suburbs_reduced.index[vic_suburbs_reduced['suburb']==sub].tolist()[0] for sub in target_subs]\n",
    "\n",
    "#Remove unwanted rows and keep data in geo dataframe format\n",
    "city_suburbs = vic_suburbs_reduced.take(list(subs))\n",
    "city_suburbs.reset_index(drop=True, inplace = True)\n",
    "city_suburbs['suburb'] = city_suburbs['suburb'].str.title()\n",
    "city_suburbs = city_suburbs.astype({'suburb':'string'}) \n",
    "\n",
    "city_suburbs"
   ]
  },
  {
   "cell_type": "markdown",
   "metadata": {},
   "source": [
    "This DataFrame now only includes suburbs found in our population dataset and their geospatial data (suburb outline). "
   ]
  },
  {
   "cell_type": "markdown",
   "metadata": {},
   "source": [
    "### Bike Count and Path Geospatial Data  "
   ]
  },
  {
   "cell_type": "markdown",
   "metadata": {},
   "source": [
    "A quick preview of our bike data shows that we have far more attributes (columns) than required. Let's extract the columns of interest for the most recent year and remove any NaN fields. Further, we need to update the data types for the extracted columns and combine the latitude and longitude into a single column containing a Point object which we’ll call geometry.  "
   ]
  },
  {
   "cell_type": "code",
   "execution_count": 11,
   "metadata": {},
   "outputs": [
    {
     "data": {
      "text/html": [
       "<div>\n",
       "<style scoped>\n",
       "    .dataframe tbody tr th:only-of-type {\n",
       "        vertical-align: middle;\n",
       "    }\n",
       "\n",
       "    .dataframe tbody tr th {\n",
       "        vertical-align: top;\n",
       "    }\n",
       "\n",
       "    .dataframe thead th {\n",
       "        text-align: right;\n",
       "    }\n",
       "</style>\n",
       "<table border=\"1\" class=\"dataframe\">\n",
       "  <thead>\n",
       "    <tr style=\"text-align: right;\">\n",
       "      <th></th>\n",
       "      <th>state</th>\n",
       "      <th>electorate</th>\n",
       "      <th>site_id</th>\n",
       "      <th>latitude</th>\n",
       "      <th>longitude</th>\n",
       "      <th>legs</th>\n",
       "      <th>description</th>\n",
       "      <th>layout_1</th>\n",
       "      <th>layout_1_enter</th>\n",
       "      <th>layout_2</th>\n",
       "      <th>...</th>\n",
       "      <th>female</th>\n",
       "      <th>male</th>\n",
       "      <th>_7_00_am</th>\n",
       "      <th>_7_15_am</th>\n",
       "      <th>_7_30_am</th>\n",
       "      <th>_7_45_am</th>\n",
       "      <th>_8_00_am</th>\n",
       "      <th>_8_15_am</th>\n",
       "      <th>_8_30_am</th>\n",
       "      <th>_8_45_am</th>\n",
       "    </tr>\n",
       "  </thead>\n",
       "  <tbody>\n",
       "    <tr>\n",
       "      <th>0</th>\n",
       "      <td>VIC</td>\n",
       "      <td>Melbourne</td>\n",
       "      <td>4399</td>\n",
       "      <td>-37.787979</td>\n",
       "      <td>144.959</td>\n",
       "      <td>2</td>\n",
       "      <td>Royal Pde/shared path [N], Royal Pde/shared pa...</td>\n",
       "      <td>5</td>\n",
       "      <td>185</td>\n",
       "      <td>186</td>\n",
       "      <td>...</td>\n",
       "      <td>NaN</td>\n",
       "      <td>NaN</td>\n",
       "      <td>NaN</td>\n",
       "      <td>NaN</td>\n",
       "      <td>NaN</td>\n",
       "      <td>NaN</td>\n",
       "      <td>NaN</td>\n",
       "      <td>NaN</td>\n",
       "      <td>NaN</td>\n",
       "      <td>NaN</td>\n",
       "    </tr>\n",
       "  </tbody>\n",
       "</table>\n",
       "<p>1 rows × 66 columns</p>\n",
       "</div>"
      ],
      "text/plain": [
       "  state electorate site_id    latitude longitude legs  \\\n",
       "0   VIC  Melbourne    4399  -37.787979   144.959    2   \n",
       "\n",
       "                                         description layout_1 layout_1_enter  \\\n",
       "0  Royal Pde/shared path [N], Royal Pde/shared pa...        5            185   \n",
       "\n",
       "  layout_2  ... female male _7_00_am _7_15_am _7_30_am _7_45_am _8_00_am  \\\n",
       "0      186  ...    NaN  NaN      NaN      NaN      NaN      NaN      NaN   \n",
       "\n",
       "  _8_15_am _8_30_am _8_45_am  \n",
       "0      NaN      NaN      NaN  \n",
       "\n",
       "[1 rows x 66 columns]"
      ]
     },
     "execution_count": 11,
     "metadata": {},
     "output_type": "execute_result"
    }
   ],
   "source": [
    "# View the output from the bike_count dataset that we imported earlier\n",
    "\n",
    "bike_count_data.head(1)"
   ]
  },
  {
   "cell_type": "code",
   "execution_count": 12,
   "metadata": {},
   "outputs": [
    {
     "data": {
      "text/html": [
       "<div>\n",
       "<style scoped>\n",
       "    .dataframe tbody tr th:only-of-type {\n",
       "        vertical-align: middle;\n",
       "    }\n",
       "\n",
       "    .dataframe tbody tr th {\n",
       "        vertical-align: top;\n",
       "    }\n",
       "\n",
       "    .dataframe thead th {\n",
       "        text-align: right;\n",
       "    }\n",
       "</style>\n",
       "<table border=\"1\" class=\"dataframe\">\n",
       "  <thead>\n",
       "    <tr style=\"text-align: right;\">\n",
       "      <th></th>\n",
       "      <th>latitude</th>\n",
       "      <th>longitude</th>\n",
       "      <th>total</th>\n",
       "      <th>year</th>\n",
       "      <th>description</th>\n",
       "      <th>geometry</th>\n",
       "    </tr>\n",
       "  </thead>\n",
       "  <tbody>\n",
       "    <tr>\n",
       "      <th>0</th>\n",
       "      <td>-37.825963</td>\n",
       "      <td>144.960053</td>\n",
       "      <td>249</td>\n",
       "      <td>2017</td>\n",
       "      <td>Queens Bridge St [N], City Rd [NE], Morray St ...</td>\n",
       "      <td>POINT (-37.82596 144.96005)</td>\n",
       "    </tr>\n",
       "    <tr>\n",
       "      <th>1</th>\n",
       "      <td>-37.787979</td>\n",
       "      <td>144.959000</td>\n",
       "      <td>1425</td>\n",
       "      <td>2017</td>\n",
       "      <td>Royal Pde/shared path [N], Royal Pde/shared pa...</td>\n",
       "      <td>POINT (-37.78798 144.95900)</td>\n",
       "    </tr>\n",
       "    <tr>\n",
       "      <th>2</th>\n",
       "      <td>-37.793993</td>\n",
       "      <td>144.941956</td>\n",
       "      <td>42</td>\n",
       "      <td>2017</td>\n",
       "      <td>Melrose St [N], Melrose St [S], Mark St [W]</td>\n",
       "      <td>POINT (-37.79399 144.94196)</td>\n",
       "    </tr>\n",
       "    <tr>\n",
       "      <th>3</th>\n",
       "      <td>-37.794117</td>\n",
       "      <td>144.927689</td>\n",
       "      <td>114</td>\n",
       "      <td>2017</td>\n",
       "      <td>McCracken St [N], Macaulay Rd [E], Kensington ...</td>\n",
       "      <td>POINT (-37.79412 144.92769)</td>\n",
       "    </tr>\n",
       "    <tr>\n",
       "      <th>4</th>\n",
       "      <td>-37.794540</td>\n",
       "      <td>144.930987</td>\n",
       "      <td>247</td>\n",
       "      <td>2017</td>\n",
       "      <td>Macaulay Rd - east end [E], Eastwood St [S], M...</td>\n",
       "      <td>POINT (-37.79454 144.93099)</td>\n",
       "    </tr>\n",
       "  </tbody>\n",
       "</table>\n",
       "</div>"
      ],
      "text/plain": [
       "    latitude   longitude  total  year  \\\n",
       "0 -37.825963  144.960053    249  2017   \n",
       "1 -37.787979  144.959000   1425  2017   \n",
       "2 -37.793993  144.941956     42  2017   \n",
       "3 -37.794117  144.927689    114  2017   \n",
       "4 -37.794540  144.930987    247  2017   \n",
       "\n",
       "                                         description  \\\n",
       "0  Queens Bridge St [N], City Rd [NE], Morray St ...   \n",
       "1  Royal Pde/shared path [N], Royal Pde/shared pa...   \n",
       "2        Melrose St [N], Melrose St [S], Mark St [W]   \n",
       "3  McCracken St [N], Macaulay Rd [E], Kensington ...   \n",
       "4  Macaulay Rd - east end [E], Eastwood St [S], M...   \n",
       "\n",
       "                      geometry  \n",
       "0  POINT (-37.82596 144.96005)  \n",
       "1  POINT (-37.78798 144.95900)  \n",
       "2  POINT (-37.79399 144.94196)  \n",
       "3  POINT (-37.79412 144.92769)  \n",
       "4  POINT (-37.79454 144.93099)  "
      ]
     },
     "execution_count": 12,
     "metadata": {},
     "output_type": "execute_result"
    }
   ],
   "source": [
    "# Reduce the dataset to only include columns needed for the analysis & mapping\n",
    "bike_count_data =  gpd.GeoDataFrame(bike_count_data[['latitude','longitude','total','year', 'description']])\n",
    "\n",
    "# Drop missing data\n",
    "bike_count_data.dropna(inplace=True)   \n",
    "\n",
    "# Get a list of years that the bike counts were completed. Covert values to an integer data type. \n",
    "years = [int(x) for x in bike_count_data['year'].unique()]\n",
    "\n",
    "# Extracting the most recent year of data.\n",
    "bike_count_data = bike_count_data.loc[bike_count_data['year'] == str(max(years))]\n",
    "\n",
    "# Updating the data types\n",
    "degs = ['latitude','longitude']\n",
    "for col in degs:\n",
    "    bike_count_data[col] = bike_count_data[col].astype(float)\n",
    "bike_count_data['total'] = bike_count_data['total'].astype(int)\n",
    "bike_count_data.reset_index(drop=True, inplace = True)\n",
    "\n",
    "# Change the latitude & longitude vaules to a GeoPandas Point object for mapping\n",
    "df_geometry = [Point(xy) for xy in zip(bike_count_data['latitude'], bike_count_data['longitude'])]\n",
    "\n",
    "# Create a GeoPandasDataFrame with the above cleaned dataset\n",
    "bike_count_data = gpd.GeoDataFrame(bike_count_data, crs = 4326, geometry = df_geometry)\n",
    "\n",
    "bike_count_data.head()"
   ]
  },
  {
   "cell_type": "markdown",
   "metadata": {},
   "source": [
    "Finally, the bike path data is contained within a dictionary rather than a Pandas DataFrame. In this instance the dataset only contains relevant fields, so we have nothing to remove.  "
   ]
  },
  {
   "cell_type": "code",
   "execution_count": 13,
   "metadata": {},
   "outputs": [
    {
     "name": "stdout",
     "output_type": "stream",
     "text": [
      "dict_keys(['type', 'features'])\n"
     ]
    },
    {
     "data": {
      "text/plain": [
       "dict_keys(['name', 'direction', 'info', 'status', 'notes', 'type'])"
      ]
     },
     "execution_count": 13,
     "metadata": {},
     "output_type": "execute_result"
    }
   ],
   "source": [
    "# Viewing the attributes of the bike path data we imported earlier.  \n",
    "\n",
    "print(bike_path_data.keys())\n",
    "bike_path_data['features'][0]['properties'].keys()"
   ]
  },
  {
   "cell_type": "markdown",
   "metadata": {},
   "source": [
    "<div class=\"usecase-section-header\">Analysing Our Datasets</div>"
   ]
  },
  {
   "cell_type": "markdown",
   "metadata": {},
   "source": [
    "## Population Growth Analysis\n",
    "To begin our analysis, we'll first take a look at the population forecast data in five year intervals. We will utilise our population by year function to build a new data frame and then plot the data as a column plot. "
   ]
  },
  {
   "cell_type": "code",
   "execution_count": 14,
   "metadata": {},
   "outputs": [
    {
     "data": {
      "text/html": [
       "<div>\n",
       "<style scoped>\n",
       "    .dataframe tbody tr th:only-of-type {\n",
       "        vertical-align: middle;\n",
       "    }\n",
       "\n",
       "    .dataframe tbody tr th {\n",
       "        vertical-align: top;\n",
       "    }\n",
       "\n",
       "    .dataframe thead th {\n",
       "        text-align: right;\n",
       "    }\n",
       "</style>\n",
       "<table border=\"1\" class=\"dataframe\">\n",
       "  <thead>\n",
       "    <tr style=\"text-align: right;\">\n",
       "      <th></th>\n",
       "      <th>suburb</th>\n",
       "      <th>2021</th>\n",
       "      <th>2026</th>\n",
       "      <th>2031</th>\n",
       "      <th>2036</th>\n",
       "      <th>2041</th>\n",
       "    </tr>\n",
       "  </thead>\n",
       "  <tbody>\n",
       "    <tr>\n",
       "      <th>0</th>\n",
       "      <td>Carlton</td>\n",
       "      <td>17185.0</td>\n",
       "      <td>20745.0</td>\n",
       "      <td>26374.0</td>\n",
       "      <td>33358.0</td>\n",
       "      <td>35878.0</td>\n",
       "    </tr>\n",
       "    <tr>\n",
       "      <th>1</th>\n",
       "      <td>Docklands</td>\n",
       "      <td>15926.0</td>\n",
       "      <td>19998.0</td>\n",
       "      <td>25292.0</td>\n",
       "      <td>28781.0</td>\n",
       "      <td>32430.0</td>\n",
       "    </tr>\n",
       "    <tr>\n",
       "      <th>2</th>\n",
       "      <td>East Melbourne</td>\n",
       "      <td>4965.0</td>\n",
       "      <td>6204.0</td>\n",
       "      <td>7445.0</td>\n",
       "      <td>7948.0</td>\n",
       "      <td>8032.0</td>\n",
       "    </tr>\n",
       "    <tr>\n",
       "      <th>3</th>\n",
       "      <td>Kensington</td>\n",
       "      <td>10932.0</td>\n",
       "      <td>12940.0</td>\n",
       "      <td>15846.0</td>\n",
       "      <td>17093.0</td>\n",
       "      <td>17653.0</td>\n",
       "    </tr>\n",
       "    <tr>\n",
       "      <th>4</th>\n",
       "      <td>Melbourne</td>\n",
       "      <td>46946.0</td>\n",
       "      <td>59179.0</td>\n",
       "      <td>74981.0</td>\n",
       "      <td>85236.0</td>\n",
       "      <td>94002.0</td>\n",
       "    </tr>\n",
       "  </tbody>\n",
       "</table>\n",
       "</div>"
      ],
      "text/plain": [
       "           suburb     2021     2026     2031     2036     2041\n",
       "0         Carlton  17185.0  20745.0  26374.0  33358.0  35878.0\n",
       "1       Docklands  15926.0  19998.0  25292.0  28781.0  32430.0\n",
       "2  East Melbourne   4965.0   6204.0   7445.0   7948.0   8032.0\n",
       "3      Kensington  10932.0  12940.0  15846.0  17093.0  17653.0\n",
       "4       Melbourne  46946.0  59179.0  74981.0  85236.0  94002.0"
      ]
     },
     "execution_count": 14,
     "metadata": {},
     "output_type": "execute_result"
    }
   ],
   "source": [
    "population_2021 = population_by_year(population_data_preped, 2021)\n",
    "population_2026 = population_by_year(population_data_preped, 2026)\n",
    "population_2031 = population_by_year(population_data_preped, 2031)\n",
    "population_2036 = population_by_year(population_data_preped, 2036)\n",
    "population_2041 = population_by_year(population_data_preped, 2041)\n",
    "\n",
    "population_5y_intervals = population_2021.merge(population_2026, left_on='suburb', right_on='suburb')\n",
    "population_5y_intervals = population_5y_intervals.merge(population_2031, left_on='suburb', right_on='suburb')\n",
    "population_5y_intervals = population_5y_intervals.merge(population_2036, left_on='suburb', right_on='suburb')\n",
    "population_5y_intervals = population_5y_intervals.merge(population_2041, left_on='suburb', right_on='suburb')\n",
    "\n",
    "population_5y_intervals = gpd.GeoDataFrame(population_5y_intervals)\n",
    "population_5y_intervals.head()"
   ]
  },
  {
   "cell_type": "code",
   "execution_count": 15,
   "metadata": {},
   "outputs": [
    {
     "data": {
      "image/png": "[encoded data removed]",
      "text/plain": [
       "<Figure size 1080x576 with 1 Axes>"
      ]
     },
     "metadata": {},
     "output_type": "display_data"
    }
   ],
   "source": [
    "sns.set_style('darkgrid')\n",
    "ax = population_5y_intervals.plot(x= 'suburb', kind='bar', stacked=False,figsize = (15,8))\n",
    "plt.style.use('seaborn-colorblind')\n",
    "ax.set_xticklabels(population_5y_intervals.suburb, rotation=45)\n",
    "plt.title('Population Counts by 5 Year Intervals\\n', size=14)\n",
    "plt.ylabel('Population Counts\\n', size=12)\n",
    "plt.xlabel('City of Melbourne Suburbs', size=12)\n",
    "ax.plot();"
   ]
  },
  {
   "cell_type": "markdown",
   "metadata": {},
   "source": [
    "Fancy words about our observation above go here - I'll add to the doc as a draft.\n",
    "\n",
    "More fancy words about visulaising the data as a Choropleth map.\n",
    "\n",
    "The following function will return a GeoPandas DataFrame with our population and suburb geospatial datasets joined with the population for the two years passed and the difference between the two years as both a number and percentage. We can then plot the change between any two given years as a number or percentage."
   ]
  },
  {
   "cell_type": "code",
   "execution_count": 30,
   "metadata": {},
   "outputs": [],
   "source": [
    "def population_change(pop_data_preped, city_suburbs, year_1, year_2):\n",
    "    \n",
    "    start_year = population_by_year(pop_data_preped, year_1)\n",
    "    end_year = population_by_year(pop_data_preped, year_2)\n",
    "\n",
    "    combined = start_year.merge(end_year, left_on='suburb', right_on='suburb')\n",
    "    \n",
    "    combined['change #'] = combined[list(end_year)[1]] - combined[list(start_year)[1]]\n",
    "    combined['change %'] = (combined[list(combined)[3]] / combined[list(start_year)[1]])*100\n",
    "    combined['geometry'] = city_suburbs['geometry']\n",
    "    \n",
    "    return gpd.GeoDataFrame(combined)"
   ]
  },
  {
   "cell_type": "code",
   "execution_count": 31,
   "metadata": {},
   "outputs": [
    {
     "name": "stdout",
     "output_type": "stream",
     "text": [
      "suburb        string\n",
      "2021         float64\n",
      "2041         float64\n",
      "change #     float64\n",
      "change %     float64\n",
      "geometry    geometry\n",
      "dtype: object\n"
     ]
    },
    {
     "data": {
      "text/html": [
       "<div>\n",
       "<style scoped>\n",
       "    .dataframe tbody tr th:only-of-type {\n",
       "        vertical-align: middle;\n",
       "    }\n",
       "\n",
       "    .dataframe tbody tr th {\n",
       "        vertical-align: top;\n",
       "    }\n",
       "\n",
       "    .dataframe thead th {\n",
       "        text-align: right;\n",
       "    }\n",
       "</style>\n",
       "<table border=\"1\" class=\"dataframe\">\n",
       "  <thead>\n",
       "    <tr style=\"text-align: right;\">\n",
       "      <th></th>\n",
       "      <th>suburb</th>\n",
       "      <th>2021</th>\n",
       "      <th>2041</th>\n",
       "      <th>change #</th>\n",
       "      <th>change %</th>\n",
       "      <th>geometry</th>\n",
       "    </tr>\n",
       "  </thead>\n",
       "  <tbody>\n",
       "    <tr>\n",
       "      <th>0</th>\n",
       "      <td>Carlton</td>\n",
       "      <td>17185.0</td>\n",
       "      <td>35878.0</td>\n",
       "      <td>18693.0</td>\n",
       "      <td>108.775095</td>\n",
       "      <td>MULTIPOLYGON (((144.97401 -37.80311, 144.97320...</td>\n",
       "    </tr>\n",
       "    <tr>\n",
       "      <th>1</th>\n",
       "      <td>Docklands</td>\n",
       "      <td>15926.0</td>\n",
       "      <td>32430.0</td>\n",
       "      <td>16504.0</td>\n",
       "      <td>103.629285</td>\n",
       "      <td>MULTIPOLYGON (((144.95376 -37.82363, 144.95336...</td>\n",
       "    </tr>\n",
       "    <tr>\n",
       "      <th>2</th>\n",
       "      <td>East Melbourne</td>\n",
       "      <td>4965.0</td>\n",
       "      <td>8032.0</td>\n",
       "      <td>3067.0</td>\n",
       "      <td>61.772407</td>\n",
       "      <td>MULTIPOLYGON (((144.97136 -37.80773, 144.97308...</td>\n",
       "    </tr>\n",
       "    <tr>\n",
       "      <th>3</th>\n",
       "      <td>Kensington</td>\n",
       "      <td>10932.0</td>\n",
       "      <td>17653.0</td>\n",
       "      <td>6721.0</td>\n",
       "      <td>61.480059</td>\n",
       "      <td>MULTIPOLYGON (((144.92282 -37.79913, 144.91977...</td>\n",
       "    </tr>\n",
       "    <tr>\n",
       "      <th>4</th>\n",
       "      <td>Melbourne</td>\n",
       "      <td>46946.0</td>\n",
       "      <td>94002.0</td>\n",
       "      <td>47056.0</td>\n",
       "      <td>100.234312</td>\n",
       "      <td>MULTIPOLYGON (((144.97797 -37.83867, 144.97803...</td>\n",
       "    </tr>\n",
       "  </tbody>\n",
       "</table>\n",
       "</div>"
      ],
      "text/plain": [
       "           suburb     2021     2041  change #    change %  \\\n",
       "0         Carlton  17185.0  35878.0   18693.0  108.775095   \n",
       "1       Docklands  15926.0  32430.0   16504.0  103.629285   \n",
       "2  East Melbourne   4965.0   8032.0    3067.0   61.772407   \n",
       "3      Kensington  10932.0  17653.0    6721.0   61.480059   \n",
       "4       Melbourne  46946.0  94002.0   47056.0  100.234312   \n",
       "\n",
       "                                            geometry  \n",
       "0  MULTIPOLYGON (((144.97401 -37.80311, 144.97320...  \n",
       "1  MULTIPOLYGON (((144.95376 -37.82363, 144.95336...  \n",
       "2  MULTIPOLYGON (((144.97136 -37.80773, 144.97308...  \n",
       "3  MULTIPOLYGON (((144.92282 -37.79913, 144.91977...  \n",
       "4  MULTIPOLYGON (((144.97797 -37.83867, 144.97803...  "
      ]
     },
     "execution_count": 31,
     "metadata": {},
     "output_type": "execute_result"
    }
   ],
   "source": [
    "pop_diff_2021_2041 = population_change(population_data_preped, city_suburbs, 2021, 2041)\n",
    "\n",
    "print(pop_diff_2021_2041.dtypes) # REMOVE WHEN RESOLVED\n",
    "\n",
    "pop_diff_2021_2041.head()"
   ]
  },
  {
   "cell_type": "markdown",
   "metadata": {},
   "source": [
    "Now we have a change data frame lets take a look at the change as a choropleth map."
   ]
  },
  {
   "cell_type": "code",
   "execution_count": 18,
   "metadata": {},
   "outputs": [
    {
     "name": "stdout",
     "output_type": "stream",
     "text": [
      "<class 'geopandas.geodataframe.GeoDataFrame'>\n"
     ]
    },
    {
     "data": {
      "text/plain": [
       "dtype('float64')"
      ]
     },
     "execution_count": 18,
     "metadata": {},
     "output_type": "execute_result"
    }
   ],
   "source": [
    "print(type(pop_diff_2021_2041))\n",
    "pop_change_20y = pop_diff_2021_2041.explore(column ='change %', tiles='CartoDB positron', cmap='YlOrRd') #winter\n",
    "pop_diff_2021_2041['change %'].dtypes\n",
    "\n",
    "# Map won't render... TypeError: '<' not supported between instances of 'int' and 'str'\n",
    "# The issue seems to be created when we prepare_pop_data(). "
   ]
  },
  {
   "cell_type": "code",
   "execution_count": null,
   "metadata": {},
   "outputs": [],
   "source": []
  },
  {
   "cell_type": "code",
   "execution_count": null,
   "metadata": {},
   "outputs": [],
   "source": []
  },
  {
   "cell_type": "markdown",
   "metadata": {},
   "source": [
    "## Ignore below for now - Will add above when we arrive at that section."
   ]
  },
  {
   "cell_type": "markdown",
   "metadata": {},
   "source": [
    "#### Create a function for generating the bike datasets \n",
    "This function will create the two componants we need to mapping the bike data, and also remove any unwanted extra features\n"
   ]
  },
  {
   "cell_type": "code",
   "execution_count": 19,
   "metadata": {},
   "outputs": [],
   "source": [
    "# def get_bike_data(bikecounts, bikepaths):\n",
    "#     ''' Take in the dataset identifiers to create & clean associated datasets'''\n",
    "    \n",
    "#     # Bike paths\n",
    "#     # Call the api with the bike_geo_data_unique_identifier\n",
    "#     bike_geo_data_url = 'https://'+ domain +'/api/geospatial/'+ bikepaths +'?method=export&format=GeoJSON'\n",
    "#     with urlopen(bike_geo_data_url) as result:\n",
    "#         # Output is a json file (as seen earlier)\n",
    "#         bike_route_data = json.load(result)\n",
    "    \n",
    "#     # Bike Counts\n",
    "#     #Create a dataset woth the bike_count_data_unique_identifier \n",
    "#     bikecountdf =  pd.DataFrame.from_dict(client.get_all(bikecounts))\n",
    "#     # Reduce the dataset to only include columns needed for the analysis & mapping\n",
    "#     bikecountdf =  gpd.GeoDataFrame(bikecountdf[['latitude','longitude','total','year', 'description']])\n",
    "#     # Drop missing data\n",
    "#     bikecountdf.dropna(inplace=True)   \n",
    "\n",
    "#     # Get a list of years that the bike counts were completed. Covert values to int \n",
    "#     years = [int(x) for x in bikecountdf['year'].unique()]\n",
    "\n",
    "#     # Extracting the most recent year of data.\n",
    "#     bikecountdf = bikecountdf.loc[bikecountdf['year'] == str(max(years))]\n",
    "    \n",
    "#     # Updating the data types\n",
    "#     degs = ['latitude','longitude']\n",
    "#     for col in degs:\n",
    "#         bikecountdf[col] = bikecountdf[col].astype(float)\n",
    "#     bikecountdf['total'] = bikecountdf['total'].astype(int)\n",
    "#     bikecountdf.reset_index(drop=True, inplace = True)\n",
    "#     # Change the latitude & longitude vaules to a GeoPandas Point object for mapping\n",
    "#     df_geometry = [Point(xy) for xy in zip(bikecountdf['latitude'], bikecountdf['longitude'])]\n",
    "    \n",
    "#     # Create a GeoPandasDataFrame with the above cleaned dataset\n",
    "#     bikecountdf = gpd.GeoDataFrame(bikecountdf, crs = 4326, geometry = df_geometry)\n",
    "    \n",
    "#     return bikecountdf, bike_route_data"
   ]
  },
  {
   "cell_type": "code",
   "execution_count": 20,
   "metadata": {},
   "outputs": [],
   "source": [
    "# # Let's use our data identifiers from earlier\n",
    "# print(f'Dataset Identifiers:\\nBike Geo data: {bike_geo_data_unique_identifier}\\nBike Counts: {bike_count_data_unique_identifier}')"
   ]
  },
  {
   "cell_type": "code",
   "execution_count": 21,
   "metadata": {},
   "outputs": [
    {
     "name": "stdout",
     "output_type": "stream",
     "text": [
      "Index(['latitude', 'longitude', 'total', 'year', 'description', 'geometry'], dtype='object') <class 'geopandas.geodataframe.GeoDataFrame'>\n",
      "dict_keys(['type', 'features']) <class 'dict'>\n"
     ]
    }
   ],
   "source": [
    "# Create and view the returned data frames\n",
    "# bike_count_data, bike_paths = get_bike_data(bike_count_data_unique_identifier,bike_geo_data_unique_identifier)\n",
    "bike_paths = bike_path_data\n",
    "print(bike_count_data.keys(), type(bike_count_data))\n",
    "print(bike_paths.keys(), type(bike_paths))"
   ]
  },
  {
   "cell_type": "markdown",
   "metadata": {},
   "source": []
  },
  {
   "cell_type": "markdown",
   "metadata": {},
   "source": [
    "Visualise the bike data"
   ]
  },
  {
   "cell_type": "code",
   "execution_count": 22,
   "metadata": {},
   "outputs": [],
   "source": [
    "def create_map_layer_with_path_features(bike_routes):    \n",
    "    # Get various bike path routes\n",
    "    \n",
    "    bike_paths_types = []\n",
    "    \n",
    "    # Iterate through the bike path data and look at features\n",
    "    for feature in bike_routes['features']:\n",
    "        \n",
    "        # Set the route feature type to a variable\n",
    "        r_type = feature['properties']['type']\n",
    "        \n",
    "        # check if the type is already in the list of unique featers (bike_paths_types)\n",
    "        if bike_paths_types.count(r_type) == 0:\n",
    "            \n",
    "            # Add unique path type to list\n",
    "            bike_paths_types.append(feature['properties']['type'])\n",
    "    \n",
    "    colours = ['#056b8a', '#14a38e', '#2af598', '#08b3e5', '#08af64'] \n",
    "    \n",
    "    routes = []\n",
    "    # Loop through the bike path types\n",
    "    for i, route_type in enumerate(bike_paths_types):\n",
    "        # create a copy of the bike path json dataset\n",
    "        route_json = bike_routes.copy()\n",
    "        # remove any features (bike routes) that do not match the route for the loop\n",
    "        route_json['features'] = [path for path in route_json['features'] if path['properties']['type'] == route_type]\n",
    "        \n",
    "        # Add colour property to dataset\n",
    "        # for each feature in the new json file, add a __colour property and add the colour value [i]\n",
    "        for data in route_json['features']:\n",
    "            data['properties']['__colour'] = colours[i]\n",
    "        \n",
    "        # create the folium map layer\n",
    "        g = folium.GeoJson(\n",
    "                    route_json,\n",
    "                    name=f'{route_type}',            \n",
    "                    style_function=lambda x:{\n",
    "                        \"color\": x[\"properties\"][\"__colour\"],\n",
    "                        \"fillColor\": x[\"properties\"][\"__colour\"],},\n",
    "                    tooltip=folium.features.GeoJsonTooltip(fields=['name','direction','type','notes'])\n",
    "                    )\n",
    "        # add the map layer to the list of layers\n",
    "        routes.extend([g])\n",
    "        \n",
    "    return routes"
   ]
  },
  {
   "cell_type": "code",
   "execution_count": 23,
   "metadata": {},
   "outputs": [],
   "source": [
    "def draw_heatMap(data, bikepath, city_map, colour = 'blue'):\n",
    "    '''Function for creting a Folium map with layers for the two bike datasets'''\n",
    "    m =  city_map.explore(name = 'Melbourne City Suburbs',style_kwds = dict(color= '#22e4ac', fillOpacity = 0.4, opacity = 0.4))\n",
    "    \n",
    "    # Create bikepath layer\n",
    "    # Add bike routes to map layers   \n",
    "    bike_routes = create_map_layer_with_path_features(bikepath) #call the above function to create the coloured bike path layers\n",
    "    for r in bike_routes:\n",
    "        r.add_to(m)\n",
    "        \n",
    "    # Create Bike count heat map layer\n",
    "    labels = data['description']\n",
    "    data = list(map(list, zip(data['latitude'], data['longitude'],data['total'])))        \n",
    "    HeatMap(data, name='Bike Counts').add_to(m)\n",
    "    \n",
    "    # Create markers with the bike ocunt data\n",
    "    for i, loc in enumerate(data):\n",
    "        folium.Marker(location=[loc[0], loc[1]],\n",
    "                      popup=f'<strong>{labels[i]}</strong>',\n",
    "                      tooltip=f'Bike Count: {loc[2]}',\n",
    "                      icon = folium.DivIcon(html =f\"\"\"<div style=\"color: {colour};\">  </div>\"\"\")\n",
    "                     ).add_to(m)\n",
    "        \n",
    "    # Add layer control to switch on and off map features\n",
    "    folium.LayerControl().add_to(m)\n",
    "    \n",
    "    return m # Map with layers"
   ]
  },
  {
   "cell_type": "code",
   "execution_count": 24,
   "metadata": {},
   "outputs": [],
   "source": [
    "#bike_map = draw_heatMap(bike_count_data,bike_paths, city_suburbs, colour = 'green')\n",
    "#bike_map"
   ]
  },
  {
   "cell_type": "markdown",
   "metadata": {},
   "source": [
    "Lets take a look at the total growth of the population from the first year our dataset contains to the last year. "
   ]
  },
  {
   "cell_type": "code",
   "execution_count": null,
   "metadata": {},
   "outputs": [],
   "source": [
    "\n"
   ]
  },
  {
   "cell_type": "markdown",
   "metadata": {},
   "source": [
    "Examining the map above it seems that the north-west suburbs of Melbourne will outpace the others. Lets take a look at the change at each 5 year interval, 2020 to 2025, 2025 to 2030, 2030 to 2035, and finally 2035 to 2040 to see if the growth rate matches the above choropleth map. \n",
    "\n",
    "To do this we'll write two small functions, one to return the map as above, and a second to allow us to examine the maps side by side."
   ]
  },
  {
   "cell_type": "code",
   "execution_count": 25,
   "metadata": {},
   "outputs": [],
   "source": [
    "def change_map(population_data, colour):\n",
    "    geo_layer = population_data.explore(column ='change %', tiles='CartoDB positron', cmap=colour)\n",
    "    folium.LayerControl().add_to(geo_layer)\n",
    "    \n",
    "    return geo_layer \n",
    "\n",
    "def map_compare(map_1, map_2):\n",
    "    warnings.filterwarnings('ignore')\n",
    "    htmlmap = HTML('<iframe srcdoc=\"{}\" style=\"float:left; width: {}px; height: {}px; display:inline-block; width: 49%; margin: 0 auto; border: 2px solid #0f9295\"></iframe>'\n",
    "        '<iframe srcdoc=\"{}\" style=\"float:right; width: {}px; height: {}px; display:inline-block; width: 49%; margin: 0 auto; border: 2px solid #0f9295\"></iframe>'\n",
    "        .format(map_1.get_root().render().replace('\"', '&quot;'),400,400,\n",
    "                map_2.get_root().render().replace('\"', '&quot;'),400,400))\n",
    "        \n",
    "    return display(htmlmap) "
   ]
  },
  {
   "cell_type": "code",
   "execution_count": 36,
   "metadata": {},
   "outputs": [],
   "source": [
    "pop_change_1 = population_change(population_data_preped, city_suburbs, 2021, 2025)  # Enter the two years to compare\n",
    "map_2021_2025 = change_map(pop_change_1, 'YlOrRd') \n",
    "\n",
    "pop_change_2 = population_change(population_data_preped, city_suburbs, 2025, 2030) \n",
    "map_2025_2030 = change_map(pop_change_2, 'YlOrRd')\n",
    "\n",
    "pop_change_3 = population_change(population_data_preped, city_suburbs, 2030, 2035) \n",
    "map_2030_2035 = change_map(pop_change_3, 'YlOrRd')\n",
    "\n",
    "pop_change_4 = population_change(population_data_preped, city_suburbs, 2035, 2040) \n",
    "map_2035_2040 = change_map(pop_change_4, 'YlOrRd')\n",
    "\n",
    "# growth_5y_10y = map_compare(map_2021_2025, map_2025_2030)\n",
    "# growth_15y_20y = map_compare(map_2030_2035, map_2035_2040)\n",
    "\n",
    "# growth_5y_10y\n",
    "# growth_15y_20y"
   ]
  },
  {
   "cell_type": "markdown",
   "metadata": {},
   "source": [
    "<p>\n",
    "    \n",
    "</p>"
   ]
  },
  {
   "cell_type": "code",
   "execution_count": null,
   "metadata": {},
   "outputs": [],
   "source": []
  }
 ],
 "metadata": {
  "kernelspec": {
   "display_name": "Python 3 (ipykernel)",
   "language": "python",
   "name": "python3"
  },
  "language_info": {
   "codemirror_mode": {
    "name": "ipython",
    "version": 3
   },
   "file_extension": ".py",
   "mimetype": "text/x-python",
   "name": "python",
   "nbconvert_exporter": "python",
   "pygments_lexer": "ipython3",
   "version": "3.9.7"
  },
  "vscode": {
   "interpreter": {
    "hash": "aee8b7b246df8f9039afb4144a1f6fd8d2ca17a180786b69acc140d282b71a49"
   }
  }
 },
 "nbformat": 4,
 "nbformat_minor": 4
}
