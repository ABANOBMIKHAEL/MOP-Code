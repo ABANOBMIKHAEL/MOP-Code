{
 "cells": [
  {
   "cell_type": "markdown",
   "metadata": {},
   "source": [
    "_**DELETE BEFORE PUBLISHING**_\n",
    "\n",
    "_This is a template also containing the style guide for use cases. The styling uses the use-case css when uploaded to the website, which will not be visible on your local machine._\n",
    "\n",
    "_Change any text marked with {} and delete any cells marked DELETE_\n",
    "\n",
    "***"
   ]
  },
  {
   "cell_type": "code",
   "execution_count": 1,
   "metadata": {},
   "outputs": [
    {
     "data": {
      "text/html": [
       "\n",
       "<style>\n",
       ".usecase-title, .usecase-duration, .usecase-section-header {\n",
       "    padding-left: 15px;\n",
       "    padding-bottom: 8px;\n",
       "    padding-top: 8px;\n",
       "    padding-right: 15px;\n",
       "    background-color: #0f9295;\n",
       "    color: #fff;\n",
       "}\n",
       "\n",
       ".usecase-title {\n",
       "    font-size: 1.7em;\n",
       "    font-weight: bold;\n",
       "}\n",
       "\n",
       ".usecase-authors, .usecase-level, .usecase-skill {\n",
       "    padding-left: 15px;\n",
       "    padding-bottom: 6px;\n",
       "    padding-top: 6px;\n",
       "    background-color: #baeaeb;\n",
       "    font-size: 1.4em;\n",
       "    color: #121212;\n",
       "}\n",
       "\n",
       ".usecase-level-skill  {\n",
       "    display: flex;\n",
       "}\n",
       "\n",
       ".usecase-level, .usecase-skill {\n",
       "    width: 50%;\n",
       "}\n",
       "\n",
       ".usecase-duration, .usecase-skill {\n",
       "    text-align: right;\n",
       "    padding-right: 15px;\n",
       "    padding-bottom: 6px;\n",
       "    font-size: 1.4em;\n",
       "}\n",
       "\n",
       ".usecase-section-header {\n",
       "    font-weight: bold;\n",
       "    font-size: 1.5em;\n",
       "}\n",
       "\n",
       ".usecase-subsection-header, .usecase-subsection-blurb {\n",
       "    font-weight: bold;\n",
       "    font-size: 1.2em;\n",
       "    color: #121212;\n",
       "}\n",
       "\n",
       ".usecase-subsection-blurb {\n",
       "    font-size: 1em;\n",
       "    font-style: italic;\n",
       "}\n",
       "</style>\n"
      ],
      "text/plain": [
       "<IPython.core.display.HTML object>"
      ]
     },
     "execution_count": 1,
     "metadata": {},
     "output_type": "execute_result"
    }
   ],
   "source": [
    "# DELETE BEFORE PUBLISHING\n",
    "# This is just here so you can preview the styling on your local machine\n",
    "\n",
    "from IPython.core.display import HTML\n",
    "HTML(\"\"\"\n",
    "<style>\n",
    ".usecase-title, .usecase-duration, .usecase-section-header {\n",
    "    padding-left: 15px;\n",
    "    padding-bottom: 8px;\n",
    "    padding-top: 8px;\n",
    "    padding-right: 15px;\n",
    "    background-color: #0f9295;\n",
    "    color: #fff;\n",
    "}\n",
    "\n",
    ".usecase-title {\n",
    "    font-size: 1.7em;\n",
    "    font-weight: bold;\n",
    "}\n",
    "\n",
    ".usecase-authors, .usecase-level, .usecase-skill {\n",
    "    padding-left: 15px;\n",
    "    padding-bottom: 6px;\n",
    "    padding-top: 6px;\n",
    "    background-color: #baeaeb;\n",
    "    font-size: 1.4em;\n",
    "    color: #121212;\n",
    "}\n",
    "\n",
    ".usecase-level-skill  {\n",
    "    display: flex;\n",
    "}\n",
    "\n",
    ".usecase-level, .usecase-skill {\n",
    "    width: 50%;\n",
    "}\n",
    "\n",
    ".usecase-duration, .usecase-skill {\n",
    "    text-align: right;\n",
    "    padding-right: 15px;\n",
    "    padding-bottom: 6px;\n",
    "    font-size: 1.4em;\n",
    "}\n",
    "\n",
    ".usecase-section-header {\n",
    "    font-weight: bold;\n",
    "    font-size: 1.5em;\n",
    "}\n",
    "\n",
    ".usecase-subsection-header, .usecase-subsection-blurb {\n",
    "    font-weight: bold;\n",
    "    font-size: 1.2em;\n",
    "    color: #121212;\n",
    "}\n",
    "\n",
    ".usecase-subsection-blurb {\n",
    "    font-size: 1em;\n",
    "    font-style: italic;\n",
    "}\n",
    "</style>\n",
    "\"\"\")"
   ]
  },
  {
   "cell_type": "markdown",
   "metadata": {},
   "source": [
    "***\n",
    "\n",
    "_**DELETE BEFORE PUBLISHING**_\n",
    "\n",
    "## Style guide for use cases\n",
    "\n",
    "### Headers\n",
    "\n",
    "For styling within your markdown cells, there are two choices you can use for headers.\n",
    "\n",
    "1) You can use HTML classes specific to the use case styling:\n",
    "\n",
    "```<p class=\"usecase-subsection-header\">This is a subsection header.</p>```\n",
    "\n",
    "<p style=\"font-weight: bold; font-size: 1.2em;\">This is a subsection header.</p>\n",
    "\n",
    "```<p class=\"usecase-subsection-blurb\">This is a blurb header.</p>```\n",
    "\n",
    "<p style=\"font-weight: bold; font-size: 1em; font-style:italic;\">This is a blurb header.</p>\n",
    "\n",
    "\n",
    "2) Or if you like you can use the markdown header styles:\n",
    "\n",
    "```# for h1```\n",
    "\n",
    "```## for h2```\n",
    "\n",
    "```### for h3```\n",
    "\n",
    "```#### for h4```\n",
    "\n",
    "```##### for h5```\n",
    "\n",
    "## Plot colour schemes\n",
    "\n",
    "General advice:\n",
    "1. Use the same colour or colour palette throughout your notebook, unless variety is necessary\n",
    "2. Select a palette based on the type of data being represented\n",
    "3. Consider accessibility (colourblindness, low vision)\n",
    "\n",
    "#### 1) If all of your plots only use 1-2 colors use one of the company style colors:\n",
    "\n",
    "| Light theme | Dark Theme |\n",
    "|-----|-----|\n",
    "|<p style=\"color:#2af598;\">#2af598</p>|<p style=\"color:#08af64;\">#08af64</p>|\n",
    "|<p style=\"color:#22e4ac;\">#22e4ac</p>|<p style=\"color:#14a38e;\">#14a38e</p>|\n",
    "|<p style=\"color:#1bd7bb;\">#1bd7bb</p>|<p style=\"color:#0f9295;\">#0f9295</p>|\n",
    "|<p style=\"color:#14c9cb;\">#14c9cb</p>|<p style=\"color:#056b8a;\">#056b8a</p>|\n",
    "|<p style=\"color:#0fbed8;\">#0fbed8</p>|<p style=\"color:#121212;\">#121212</p>|\n",
    "|<p style=\"color:#08b3e5;\">#08b3e5</p>||\n",
    "\n",
    "\n",
    "#### 2) If your plot needs multiple colors, choose an appropriate palette using either of the following tutorials:\n",
    "- https://seaborn.pydata.org/tutorial/color_palettes.html\n",
    "- https://matplotlib.org/stable/tutorials/colors/colormaps.html\n",
    "\n",
    "#### 3) Consider accessibility as well.\n",
    "\n",
    "For qualitative plotting Seaborn's 'colorblind' palette is recommended. For maps with sequential or diverging it is recommended to use one of the Color Brewer schemes which can be previewed at https://colorbrewer2.org/.\n",
    "\n",
    "If you want to design your own colour scheme, it should use the same principles as Cynthia Brewer's research (with variation not only in hue but also, saturation or luminance).\n",
    "\n",
    "### References\n",
    "\n",
    "Be sure to acknowledge your sources and any attributions using links or a reference list.\n",
    "\n",
    "If you have quite a few references, you might wish to have a dedicated section for references at the end of your document, linked using footnote style numbers.\n",
    "\n",
    "You can connect your in-text reference by adding the number with a HTML link: ```<a href=\"#fn-1\">[1]</a>```\n",
    "\n",
    "and add a matching ID in the reference list using the ```<fn>``` tag: ```<fn id=\"fn-1\">[1] Author (Year) _Title_, Publisher, Publication location.</fn>```"
   ]
  },
  {
   "cell_type": "markdown",
   "metadata": {},
   "source": [
    "------"
   ]
  },
  {
   "cell_type": "markdown",
   "metadata": {},
   "source": [
    "------"
   ]
  },
  {
   "cell_type": "markdown",
   "metadata": {},
   "source": [
    "<div class=\"usecase-title\">Small Area Population Growth & Transportation Needs Analysis</div>\n",
    "\n",
    "<div class=\"usecase-authors\"><b>Authored by: </b>Angie Hollingworth and Mick Wiedermann</div>"
   ]
  },
  {
   "cell_type": "markdown",
   "metadata": {},
   "source": [
    "<div class=\"usecase-duration\"><b>Duration:</b> 90 mins</div>\n",
    "\n",
    "<div class=\"usecase-level-skill\">\n",
    "    <div class=\"usecase-level\"><b>Level: </b>Intermediate</div>\n",
    "    <div class=\"usecase-skill\"><b>Pre-requisite Skills: </b>Python</div>\n",
    "</div>"
   ]
  },
  {
   "cell_type": "markdown",
   "metadata": {},
   "source": [
    "<div class=\"usecase-section-header\">Scenario</div>"
   ]
  },
  {
   "cell_type": "markdown",
   "metadata": {},
   "source": [
    "- As a future resident of Melbourne, I want to live close to active and/or public transport routes. I prefer not to use my car in and around the city, where shall I live?\n",
    "- As a city council, we wish to increase the sustainability of our city and reduce the number of motor vehicles coming and going to lower emissions. What infrastructure investment will help achieve this goal?\n",
    "- As a city council, we wish to see our highest areas of non-car traffic to identify where we could increase services for our residents\n"
   ]
  },
  {
   "cell_type": "markdown",
   "metadata": {},
   "source": [
    "<div class=\"usecase-section-header\">Exploratory Data Analysis Objectives</div>"
   ]
  },
  {
   "cell_type": "markdown",
   "metadata": {},
   "source": [
    "The goals for this analysis are:\n",
    "- Analyse population growth at the suburb level to quantify the speed of growth of each suburb relative to one another.  \n",
    "- Analyse the existing public and active transportation routes’ current demand and access relative to the forecast growth of the population. \n",
    "- Identify key areas where public and active transportation routes could be upgraded or installed. \n"
   ]
  },
  {
   "cell_type": "markdown",
   "metadata": {},
   "source": [
    "<div class=\"usecase-section-header\">Strategic Benefits for the City of Melbourne</div>"
   ]
  },
  {
   "cell_type": "markdown",
   "metadata": {},
   "source": [
    "This use case and analysis can help Melbourne City meet strategic and sustainability goals in the following ways: \n",
    "- Support discussions with infrastructure-related partners for the location of new or upgraded, public and active transportation routes to reduce the use of motorised vehicles in turn reducing emissions helping to meet the climate and biodiversity emergency objective.\n",
    "- Encouraging additional purpose-designed bike paths in heavy use areas can remove bicycles from the road and reduce the number of bike-related injuries helping to meet the safety and well-being objective. \n",
    "- Identify areas of higher non-motorised vehicle traffic (foot/bicycle/tram etc) to something… (thinking specific hot spots, maybe services like drink fountains, or chairs etc…)\n"
   ]
  },
  {
   "cell_type": "markdown",
   "metadata": {},
   "source": [
    "<div class=\"usecase-section-header\">Why Inner-City Transport Routes Matter </div>"
   ]
  },
  {
   "cell_type": "markdown",
   "metadata": {},
   "source": [
    "Melbourne City is the first in Australia to make a [Voluntary Local Review (VLR) Declaration](https://www.melbourne.vic.gov.au/about-council/vision-goals/Pages/united-nations-sustainable-development-goals.aspx) which is a United Nations initiative for local and regional governments worldwide to formally commit to and report their local progress toward the seventeen Sustainable Development Goals.\n",
    "\n",
    "By examining the active and public transport routes and usage within Melbourne City, in conjunction with the population growth forecasts, we hope to identify areas with existing and projected increased demand for additional active and public transport routes. \n",
    "\n",
    "The hope is that by ensuring that the appropriate sustainable transport options are available and easily accessible, we would discourage the use of motorised vehicles within Melbourne City reducing emissions while creating a more sustainable city.   \n",
    "\n",
    "This will help Melbourne City to achieve two of the UN sustainability goals namely sustainable cities and communities, and climate action, along with a key strategic objective, the [climate and biodiversity emergency](https://www.melbourne.vic.gov.au/about-council/vision-goals/Pages/council-plan.aspx) objective which prioritises the reduction of emissions."
   ]
  },
  {
   "cell_type": "markdown",
   "metadata": {},
   "source": [
    "<div class=\"usecase-section-header\">Data Requirments</div>"
   ]
  },
  {
   "cell_type": "markdown",
   "metadata": {},
   "source": [
    "## Melbourne Open Data Datasets\n",
    "### Population Growth Forecast Data\n",
    "Our first and arguably the most important dataset for this analysis is the [*City of Melbourne Population Forecasts by Small Area 2020-2040*](https://data.melbourne.vic.gov.au/People/City-of-Melbourne-Population-Forecasts-by-Small-Ar/sp4r-xphj) from Melbourne Open Data which provides population forecasts by single year for 2020 to 2040. Prepared by SGS Economics and Planning (Jan-Jun 2021), forecasts are available for the municipality and small areas, as well as by gender and 5-year age groups.\n",
    "\n",
    "### Tram Tracks, Bike Paths, and Bus Stops Geospatial data\n",
    "For a visual representation of the current public and active transport routes, we require geospatial data for trams, bike paths, and bus stops. We can utilise the following to meet these requirements:\n",
    "- The [*Tram Tracks*](https://data.melbourne.vic.gov.au/Transport/Tram-tracks/wqka-kyhz), dataset contains the line number and geospatial data.\n",
    "- The [*Bicycle routes, including informal, on-road and off-road routes*](https://data.melbourne.vic.gov.au/Transport/Bicycle-routes-including-informal-on-road-and-off-/24aw-nd3i) dataset contains information about each of the paths along with the geospatial data.\n",
    "- Lastly, the [*Bus stops*](https://data.melbourne.vic.gov.au/Transport/Bus-stops/ss79-v558) dataset includes a range of information along with the latitude and longitude of Melbourne City bus stops. \n",
    "\n",
    "### Super Tuesday Bike Count data\n",
    "To understand the current volume of cyclists on bike paths, we can use the [*Annual Bike Counts (Super Tuesday)*](https://data.melbourne.vic.gov.au/Transport/Annual-Bike-Counts-Super-Tuesday-/uyp8-7ii8)) dataset. In summary, the dataset contains observed bike counts from sites across the city and is part of Australia’s biggest annual commuter bike count dataset. \n",
    "\n",
    "### Tram and Bus Usage Data - Not Currently Available\n",
    "This analysis would be more complete with tram and bus patron data to provide daily numbers on each mode of transport as well as numbers on where and when patrons access the services. This dataset is not currently available, so we’ll infer the patronage from known population use ratios onto the population growth forecast.\n",
    "\n",
    "## Other Datasets\n",
    "### Victorian Suburbs Geospatial Data\n",
    "In order to visualise our population forecasts as a map overlay, we need the geographical coordinates of the suburbs we'll be examining. For this we'll use the *VIC Suburb/Locality Boundaries - PSMA Administrative Boundaries GeoJSON* dataset from the Australian Government site [data.gov.au](https://data.gov.au/dataset/ds-dga-af33dd8c-0534-4e18-9245-fc64440f742e/distribution/dist-dga-d467c550-fdf0-480f-85ca-79a6a30b700b/details?q=). \n"
   ]
  },
  {
   "cell_type": "markdown",
   "metadata": {},
   "source": [
    "<div class=\"usecase-section-header\">Importing the data</div>"
   ]
  },
  {
   "cell_type": "markdown",
   "metadata": {},
   "source": [
    "Before importing our datasets, we shall first import the necessary libraries to support our exploratory data analysis and visualisation.\n",
    "\n",
    "The following are the core packages required for this analysis:\n",
    "\n",
    "- {List each non-standard package and why briefly why you're using it. No need to list commonly used packages like numpy, maths,os, time, pandas}\n",
    "- GeoPandas: Allows us to plot patial data and overlay that data on maps. \n",
    "- Folium: "
   ]
  },
  {
   "cell_type": "code",
   "execution_count": 2,
   "metadata": {},
   "outputs": [],
   "source": [
    "# For importing the data and using API\n",
    "from sodapy import Socrata\n",
    "from urllib.request import urlopen\n",
    "import os\n",
    "import zipfile as zf\n",
    "import requests\n",
    "from io import BytesIO \n",
    "\n",
    "# Working with the data\n",
    "from shapely.geometry import Polygon, Point\n",
    "import numpy as np\n",
    "import pandas as pd\n",
    "import geopandas as gpd\n",
    "import json\n",
    "\n",
    "# Visualisation\n",
    "from IPython.display import IFrame, display, HTML\n",
    "import matplotlib.pylab as plt\n",
    "import warnings\n",
    "import folium"
   ]
  },
  {
   "cell_type": "markdown",
   "metadata": {},
   "source": [
    "To connect to the *Melbourne Open Data Portal* we must establish a connection using the sodapy library by specifying a domain, being the website domain where the data is hosted, and an application access token that can be requested from the City of Melbourne Open Data portal by registering [here](https://data.melbourne.vic.gov.au/signup)\n",
    "\n",
    "For this exercise, we will access the domain without an application token. Each dataset in the Melbourne Open Data Portal has a unique identifier that can be used to retrieve the dataset using the sodapy library.\n",
    "\n",
    "The *City of Melbourne Population Forecasts by Small Area 2020-2040* dataset unique identifier is *sp4r-xphj*. We will pass this identifier into the sodapy command below to retrieve this data placing it into a Pandas dataframe.\n"
   ]
  },
  {
   "cell_type": "code",
   "execution_count": 3,
   "metadata": {},
   "outputs": [
    {
     "name": "stderr",
     "output_type": "stream",
     "text": [
      "WARNING:root:Requests made without an app_token will be subject to strict throttling limits.\n"
     ]
    },
    {
     "data": {
      "text/html": [
       "<div>\n",
       "<style scoped>\n",
       "    .dataframe tbody tr th:only-of-type {\n",
       "        vertical-align: middle;\n",
       "    }\n",
       "\n",
       "    .dataframe tbody tr th {\n",
       "        vertical-align: top;\n",
       "    }\n",
       "\n",
       "    .dataframe thead th {\n",
       "        text-align: right;\n",
       "    }\n",
       "</style>\n",
       "<table border=\"1\" class=\"dataframe\">\n",
       "  <thead>\n",
       "    <tr style=\"text-align: right;\">\n",
       "      <th></th>\n",
       "      <th>geography</th>\n",
       "      <th>year</th>\n",
       "      <th>gender</th>\n",
       "      <th>age</th>\n",
       "      <th>value</th>\n",
       "    </tr>\n",
       "  </thead>\n",
       "  <tbody>\n",
       "    <tr>\n",
       "      <th>17047</th>\n",
       "      <td>West Melbourne (Residential)</td>\n",
       "      <td>2037</td>\n",
       "      <td>Not applicable</td>\n",
       "      <td>Total population</td>\n",
       "      <td>14854</td>\n",
       "    </tr>\n",
       "    <tr>\n",
       "      <th>17048</th>\n",
       "      <td>West Melbourne (Residential)</td>\n",
       "      <td>2038</td>\n",
       "      <td>Not applicable</td>\n",
       "      <td>Total population</td>\n",
       "      <td>14815</td>\n",
       "    </tr>\n",
       "    <tr>\n",
       "      <th>17049</th>\n",
       "      <td>West Melbourne (Residential)</td>\n",
       "      <td>2039</td>\n",
       "      <td>Not applicable</td>\n",
       "      <td>Total population</td>\n",
       "      <td>14794</td>\n",
       "    </tr>\n",
       "    <tr>\n",
       "      <th>17050</th>\n",
       "      <td>West Melbourne (Residential)</td>\n",
       "      <td>2040</td>\n",
       "      <td>Not applicable</td>\n",
       "      <td>Total population</td>\n",
       "      <td>14824</td>\n",
       "    </tr>\n",
       "    <tr>\n",
       "      <th>17051</th>\n",
       "      <td>West Melbourne (Residential)</td>\n",
       "      <td>2041</td>\n",
       "      <td>Not applicable</td>\n",
       "      <td>Total population</td>\n",
       "      <td>14814</td>\n",
       "    </tr>\n",
       "  </tbody>\n",
       "</table>\n",
       "</div>"
      ],
      "text/plain": [
       "                          geography  year          gender               age  \\\n",
       "17047  West Melbourne (Residential)  2037  Not applicable  Total population   \n",
       "17048  West Melbourne (Residential)  2038  Not applicable  Total population   \n",
       "17049  West Melbourne (Residential)  2039  Not applicable  Total population   \n",
       "17050  West Melbourne (Residential)  2040  Not applicable  Total population   \n",
       "17051  West Melbourne (Residential)  2041  Not applicable  Total population   \n",
       "\n",
       "       value  \n",
       "17047  14854  \n",
       "17048  14815  \n",
       "17049  14794  \n",
       "17050  14824  \n",
       "17051  14814  "
      ]
     },
     "execution_count": 3,
     "metadata": {},
     "output_type": "execute_result"
    }
   ],
   "source": [
    "apptoken = os.environ.get(\"SODAPY_APPTOKEN\") # Anonymous App Token\n",
    "domain = \"data.melbourne.vic.gov.au\"\n",
    "client = Socrata(domain, apptoken)           # Open Dataset Connection\n",
    "pop_data_unique_identifier = 'sp4r-xphj'   \n",
    "\n",
    "# Population Forecast Data\n",
    "population_data = pd.DataFrame.from_dict(client.get_all(pop_data_unique_identifier))\n",
    "population_data.tail()"
   ]
  },
  {
   "cell_type": "markdown",
   "metadata": {},
   "source": [
    "Next, we’ll use the same app token, domain, and client to import the remaining datasets described above from the Melbourne Open Data Portal. "
   ]
  },
  {
   "cell_type": "code",
   "execution_count": 4,
   "metadata": {},
   "outputs": [],
   "source": [
    "# Tram Track Geographical Data\n",
    "tram_geo_data_unique_identifier = 'au2t-98pn' \n",
    "tram_track_data = gpd.GeoDataFrame.from_dict(client.get_all(tram_geo_data_unique_identifier))\n",
    "\n",
    "# Bike Path Geographical Data\n",
    "bike_geo_data_unique_identifier = 'hmuz-nz6m'\n",
    "bike_path_data_url = 'https://'+ domain +'/api/geospatial/'+ bike_geo_data_unique_identifier +'?method=export&format=GeoJSON'\n",
    "with urlopen(bike_path_data_url) as result:\n",
    "    bike_path_data = json.load(result) \n",
    "\n",
    "# Bus Stop Geographical Data\n",
    "bus_geo_data_unique_identifier = 'vzsu-xnf6'\n",
    "bus_stop_data = gpd.GeoDataFrame.from_dict(client.get_all(bus_geo_data_unique_identifier))\n",
    "\n",
    "# Bike Count Data\n",
    "bike_count_data_unique_identifier = 'uyp8-7ii8'\n",
    "bike_count_data = pd.DataFrame.from_dict(client.get_all(bike_count_data_unique_identifier))"
   ]
  },
  {
   "cell_type": "markdown",
   "metadata": {},
   "source": [
    "The last Dataset we need to import is the *Victorian Suburbs/Locality Boundaries* from the Australian Government site, data.gov.au, which is freely available for download via the below URL. As the data includes geometric data, we will also import this data into a GeoPandas dataframe."
   ]
  },
  {
   "cell_type": "code",
   "execution_count": 5,
   "metadata": {},
   "outputs": [],
   "source": [
    "# Suburb Geographical Data\n",
    "suburb_geo_data_url = ('https://data.gov.au/geoserver/vic-suburb-locality-boundaries-psma-administrative-'\n",
    "    + 'boundaries/wfs?request=GetFeature&typeName=ckan_af33dd8c_0534_4e18_9245_fc64440f742e&outputFormat=json')\n",
    "vic_suburb_data = gpd.read_file(suburb_geo_data_url)"
   ]
  },
  {
   "cell_type": "markdown",
   "metadata": {},
   "source": [
    "<div class=\"usecase-section-header\">Cleaning and Preparing Our Data</div>"
   ]
  },
  {
   "cell_type": "markdown",
   "metadata": {},
   "source": [
    "As we know from reading the data descriptions and dictionaries from each of the datasets, most have data that we don’t require. In this section, we will extract the data we need and join various sets ready for analysis. \n",
    "\n",
    "#### Population Forecast and Suburb Geospatial Data\n",
    "Starting with the population and suburb geospatial data, we need to remove suburbs from the geospatial data that are not included in our population forecast data. Also, we need to match the City of Melbourne suburbs by name which require a merge of certain fields and renaming of others. \n",
    "\n",
    "By passing the population dataset to the following function while specifying our year of interest, the function will remove any unnecessary suburbs, clean, and return a summarised version of our data as a Pandas dataframe containing our suburbs of interest for the year specified.  "
   ]
  },
  {
   "cell_type": "code",
   "execution_count": 6,
   "metadata": {},
   "outputs": [],
   "source": [
    "def pop_data_by_year(dataset, year):\n",
    "    \"\"\"\n",
    "    Filters and cleans the Population dataset returning a new pandas dataframe focused on the year passed to the function.\n",
    "    \n",
    "    Note that the year must be between 2020 and 2040 inclusive. \n",
    "    \"\"\"\n",
    "    dataset = dataset.loc[dataset['age'] == 'Total population']\n",
    "    # Extract the colomns of interest into \"summary\".\n",
    "    summary = dataset[['geography', 'year', 'value']]\n",
    "    # Convert datatypes and rename geography to suburb\n",
    "    summary = summary.astype({'year':int, 'value':float, 'geography':str})\n",
    "    summary.rename(columns={'geography':'suburb'}, inplace=True)\n",
    "    # Extract the data matching the year passed from the summary.\n",
    "    data = summary[summary['year'] == year]\n",
    "   \n",
    "    # Grouping the data by suburb while summing the population values. \n",
    "    data = pd.DataFrame(data.groupby('suburb')['value'].sum())\n",
    "    data = data.reset_index()\n",
    "    # Renaming the column \"value\" to \"population_year\" where year represents the year passed.\n",
    "    data.rename(columns={'value':f'pop_{year}'}, inplace=True)\n",
    "    \n",
    "    # Cleaning the data and reset indexes\n",
    "    data['suburb'] = data['suburb'].replace(['Melbourne (CBD)', 'Melbourne (Remainder)'], ['Melbourne', 'Melbourne'])\n",
    "    data = pd.DataFrame(data.groupby('suburb')[f'pop_{year}'].sum())\n",
    "    data = data.reset_index()\n",
    "    \n",
    "    # Removing unrequired data.\n",
    "    subs_to_delete = ['West Melbourne (Industrial)', 'City of Melbourne', 'Port Melbourne']\n",
    "    subs = [data.index[data['suburb']==sub].tolist()[0] for sub in subs_to_delete]\n",
    "    data.drop(subs, inplace = True)\n",
    "\n",
    "    data = data.reset_index(drop=True)\n",
    "    data['suburb'] = data['suburb'].replace(['West Melbourne (Residential)'], ['West Melbourne'])\n",
    "    \n",
    "    # Sorting the data.\n",
    "    data.sort_values('suburb', inplace = True)\n",
    "    data = data.reset_index(drop=True)\n",
    "    data['suburb'] = data['suburb'].astype(str)\n",
    "    \n",
    "    '''\n",
    "    n.b Port melbourne Population count is very small. Melbourne (Remainder) was added to increase the numbers\n",
    "    Although the actual population count should be more than 17,000, and not 2 as seen in the dataset'''\n",
    "    \n",
    "    return data"
   ]
  },
  {
   "cell_type": "code",
   "execution_count": 7,
   "metadata": {},
   "outputs": [
    {
     "ename": "IndexError",
     "evalue": "list index out of range",
     "output_type": "error",
     "traceback": [
      "\u001b[0;31m---------------------------------------------------------------------------\u001b[0m",
      "\u001b[0;31mIndexError\u001b[0m                                Traceback (most recent call last)",
      "\u001b[1;32m/Users/michaelwiedermann/DEV/MOP-Code/Playground/Mick_Anj/use_case_presentation.ipynb Cell 30\u001b[0m in \u001b[0;36m<cell line: 2>\u001b[0;34m()\u001b[0m\n\u001b[1;32m      <a href='vscode-notebook-cell:/Users/michaelwiedermann/DEV/MOP-Code/Playground/Mick_Anj/use_case_presentation.ipynb#X41sZmlsZQ%3D%3D?line=0'>1</a>\u001b[0m \u001b[39m# Reducing the dataset size with the pop_data_by_year function above.\u001b[39;00m\n\u001b[0;32m----> <a href='vscode-notebook-cell:/Users/michaelwiedermann/DEV/MOP-Code/Playground/Mick_Anj/use_case_presentation.ipynb#X41sZmlsZQ%3D%3D?line=1'>2</a>\u001b[0m population_2020 \u001b[39m=\u001b[39m pop_data_by_year(population_data, \u001b[39m2020\u001b[39;49m)\n\u001b[1;32m      <a href='vscode-notebook-cell:/Users/michaelwiedermann/DEV/MOP-Code/Playground/Mick_Anj/use_case_presentation.ipynb#X41sZmlsZQ%3D%3D?line=2'>3</a>\u001b[0m population_2020\n",
      "\u001b[1;32m/Users/michaelwiedermann/DEV/MOP-Code/Playground/Mick_Anj/use_case_presentation.ipynb Cell 30\u001b[0m in \u001b[0;36mpop_data_by_year\u001b[0;34m(dataset, year)\u001b[0m\n\u001b[1;32m     <a href='vscode-notebook-cell:/Users/michaelwiedermann/DEV/MOP-Code/Playground/Mick_Anj/use_case_presentation.ipynb#X41sZmlsZQ%3D%3D?line=26'>27</a>\u001b[0m \u001b[39m# Removing unrequired data.\u001b[39;00m\n\u001b[1;32m     <a href='vscode-notebook-cell:/Users/michaelwiedermann/DEV/MOP-Code/Playground/Mick_Anj/use_case_presentation.ipynb#X41sZmlsZQ%3D%3D?line=27'>28</a>\u001b[0m subs_to_delete \u001b[39m=\u001b[39m [\u001b[39m'\u001b[39m\u001b[39mWest Melbourne (Industrial)\u001b[39m\u001b[39m'\u001b[39m, \u001b[39m'\u001b[39m\u001b[39mCity of Melbourne\u001b[39m\u001b[39m'\u001b[39m, \u001b[39m'\u001b[39m\u001b[39mPort Melbourne\u001b[39m\u001b[39m'\u001b[39m]\n\u001b[0;32m---> <a href='vscode-notebook-cell:/Users/michaelwiedermann/DEV/MOP-Code/Playground/Mick_Anj/use_case_presentation.ipynb#X41sZmlsZQ%3D%3D?line=28'>29</a>\u001b[0m subs \u001b[39m=\u001b[39m [data\u001b[39m.\u001b[39mindex[data[\u001b[39m'\u001b[39m\u001b[39msuburb\u001b[39m\u001b[39m'\u001b[39m]\u001b[39m==\u001b[39msub]\u001b[39m.\u001b[39mtolist()[\u001b[39m0\u001b[39m] \u001b[39mfor\u001b[39;00m sub \u001b[39min\u001b[39;00m subs_to_delete]\n\u001b[1;32m     <a href='vscode-notebook-cell:/Users/michaelwiedermann/DEV/MOP-Code/Playground/Mick_Anj/use_case_presentation.ipynb#X41sZmlsZQ%3D%3D?line=29'>30</a>\u001b[0m data\u001b[39m.\u001b[39mdrop(subs, inplace \u001b[39m=\u001b[39m \u001b[39mTrue\u001b[39;00m)\n\u001b[1;32m     <a href='vscode-notebook-cell:/Users/michaelwiedermann/DEV/MOP-Code/Playground/Mick_Anj/use_case_presentation.ipynb#X41sZmlsZQ%3D%3D?line=31'>32</a>\u001b[0m data \u001b[39m=\u001b[39m data\u001b[39m.\u001b[39mreset_index(drop\u001b[39m=\u001b[39m\u001b[39mTrue\u001b[39;00m)\n",
      "\u001b[1;32m/Users/michaelwiedermann/DEV/MOP-Code/Playground/Mick_Anj/use_case_presentation.ipynb Cell 30\u001b[0m in \u001b[0;36m<listcomp>\u001b[0;34m(.0)\u001b[0m\n\u001b[1;32m     <a href='vscode-notebook-cell:/Users/michaelwiedermann/DEV/MOP-Code/Playground/Mick_Anj/use_case_presentation.ipynb#X41sZmlsZQ%3D%3D?line=26'>27</a>\u001b[0m \u001b[39m# Removing unrequired data.\u001b[39;00m\n\u001b[1;32m     <a href='vscode-notebook-cell:/Users/michaelwiedermann/DEV/MOP-Code/Playground/Mick_Anj/use_case_presentation.ipynb#X41sZmlsZQ%3D%3D?line=27'>28</a>\u001b[0m subs_to_delete \u001b[39m=\u001b[39m [\u001b[39m'\u001b[39m\u001b[39mWest Melbourne (Industrial)\u001b[39m\u001b[39m'\u001b[39m, \u001b[39m'\u001b[39m\u001b[39mCity of Melbourne\u001b[39m\u001b[39m'\u001b[39m, \u001b[39m'\u001b[39m\u001b[39mPort Melbourne\u001b[39m\u001b[39m'\u001b[39m]\n\u001b[0;32m---> <a href='vscode-notebook-cell:/Users/michaelwiedermann/DEV/MOP-Code/Playground/Mick_Anj/use_case_presentation.ipynb#X41sZmlsZQ%3D%3D?line=28'>29</a>\u001b[0m subs \u001b[39m=\u001b[39m [data\u001b[39m.\u001b[39;49mindex[data[\u001b[39m'\u001b[39;49m\u001b[39msuburb\u001b[39;49m\u001b[39m'\u001b[39;49m]\u001b[39m==\u001b[39;49msub]\u001b[39m.\u001b[39;49mtolist()[\u001b[39m0\u001b[39;49m] \u001b[39mfor\u001b[39;00m sub \u001b[39min\u001b[39;00m subs_to_delete]\n\u001b[1;32m     <a href='vscode-notebook-cell:/Users/michaelwiedermann/DEV/MOP-Code/Playground/Mick_Anj/use_case_presentation.ipynb#X41sZmlsZQ%3D%3D?line=29'>30</a>\u001b[0m data\u001b[39m.\u001b[39mdrop(subs, inplace \u001b[39m=\u001b[39m \u001b[39mTrue\u001b[39;00m)\n\u001b[1;32m     <a href='vscode-notebook-cell:/Users/michaelwiedermann/DEV/MOP-Code/Playground/Mick_Anj/use_case_presentation.ipynb#X41sZmlsZQ%3D%3D?line=31'>32</a>\u001b[0m data \u001b[39m=\u001b[39m data\u001b[39m.\u001b[39mreset_index(drop\u001b[39m=\u001b[39m\u001b[39mTrue\u001b[39;00m)\n",
      "\u001b[0;31mIndexError\u001b[0m: list index out of range"
     ]
    }
   ],
   "source": [
    "# Reducing the dataset size with the pop_data_by_year function above.\n",
    "population_2020 = pop_data_by_year(population_data, 2020)\n",
    "population_2020"
   ]
  },
  {
   "cell_type": "markdown",
   "metadata": {},
   "source": [
    "Next, we’ll utilise our reduced dataset above to filter and extract the suburbs of interest from the geospatial data. "
   ]
  },
  {
   "cell_type": "code",
   "execution_count": null,
   "metadata": {},
   "outputs": [],
   "source": [
    "\n",
    "# Extract the suburbs of interest that match the population_data into \"target_suburbs\".\n",
    "target_suburbs = population_2020['suburb'].str.upper()\n",
    "\n",
    "# Extracting and renaming the columns of interest from the geospatial suburb data. \n",
    "vic_suburb_data_reduced = vic_suburb_data[['vic_loca_2', 'geometry']]\n",
    "vic_suburb_data_reduced = vic_suburb_data_reduced.rename(columns={'vic_loca_2':'suburb'})#, inplace=True)\n",
    "\n",
    "# Locate the index of the target suburbs and store as a list in \"subs\"\n",
    "subs = [vic_suburb_data.index[vic_suburb_data_reduced['suburb']==sub].tolist()[0] for sub in target_suburbs]\n",
    "\n",
    "# Create a new dataframe for the melbourne suburbs \"mel_suburbs\" and reformat.\n",
    "mel_suburb_data = pd.DataFrame(vic_suburb_data_reduced.iloc[subs])\n",
    "mel_suburb_data = mel_suburb_data.reset_index(drop=True)\n",
    "mel_suburb_data['suburb'] = mel_suburb_data['suburb'].str.title()\n",
    "mel_suburb_data "
   ]
  },
  {
   "cell_type": "markdown",
   "metadata": {},
   "source": [
    "We now have the population forecast and suburb geospatial data ready for joining, analysis and visualisation. Moving on to the active transport datasets, bike paths and bike counts.  \n",
    "\n",
    "#### Bike Count and Path Geospatial Data  "
   ]
  },
  {
   "cell_type": "code",
   "execution_count": 8,
   "metadata": {},
   "outputs": [
    {
     "data": {
      "text/html": [
       "<div>\n",
       "<style scoped>\n",
       "    .dataframe tbody tr th:only-of-type {\n",
       "        vertical-align: middle;\n",
       "    }\n",
       "\n",
       "    .dataframe tbody tr th {\n",
       "        vertical-align: top;\n",
       "    }\n",
       "\n",
       "    .dataframe thead th {\n",
       "        text-align: right;\n",
       "    }\n",
       "</style>\n",
       "<table border=\"1\" class=\"dataframe\">\n",
       "  <thead>\n",
       "    <tr style=\"text-align: right;\">\n",
       "      <th></th>\n",
       "      <th>state</th>\n",
       "      <th>electorate</th>\n",
       "      <th>site_id</th>\n",
       "      <th>latitude</th>\n",
       "      <th>longitude</th>\n",
       "      <th>legs</th>\n",
       "      <th>description</th>\n",
       "      <th>layout_1</th>\n",
       "      <th>layout_1_enter</th>\n",
       "      <th>layout_2</th>\n",
       "      <th>...</th>\n",
       "      <th>female</th>\n",
       "      <th>male</th>\n",
       "      <th>_7_00_am</th>\n",
       "      <th>_7_15_am</th>\n",
       "      <th>_7_30_am</th>\n",
       "      <th>_7_45_am</th>\n",
       "      <th>_8_00_am</th>\n",
       "      <th>_8_15_am</th>\n",
       "      <th>_8_30_am</th>\n",
       "      <th>_8_45_am</th>\n",
       "    </tr>\n",
       "  </thead>\n",
       "  <tbody>\n",
       "    <tr>\n",
       "      <th>0</th>\n",
       "      <td>VIC</td>\n",
       "      <td>Melbourne</td>\n",
       "      <td>4399</td>\n",
       "      <td>-37.787979</td>\n",
       "      <td>144.959</td>\n",
       "      <td>2</td>\n",
       "      <td>Royal Pde/shared path [N], Royal Pde/shared pa...</td>\n",
       "      <td>5</td>\n",
       "      <td>185</td>\n",
       "      <td>186</td>\n",
       "      <td>...</td>\n",
       "      <td>NaN</td>\n",
       "      <td>NaN</td>\n",
       "      <td>NaN</td>\n",
       "      <td>NaN</td>\n",
       "      <td>NaN</td>\n",
       "      <td>NaN</td>\n",
       "      <td>NaN</td>\n",
       "      <td>NaN</td>\n",
       "      <td>NaN</td>\n",
       "      <td>NaN</td>\n",
       "    </tr>\n",
       "    <tr>\n",
       "      <th>1</th>\n",
       "      <td>VIC</td>\n",
       "      <td>Melbourne</td>\n",
       "      <td>4405</td>\n",
       "      <td>-37.793993</td>\n",
       "      <td>144.941956</td>\n",
       "      <td>3</td>\n",
       "      <td>Melrose St [N], Melrose St [S], Mark St [W]</td>\n",
       "      <td>8</td>\n",
       "      <td>188</td>\n",
       "      <td>188</td>\n",
       "      <td>...</td>\n",
       "      <td>NaN</td>\n",
       "      <td>NaN</td>\n",
       "      <td>NaN</td>\n",
       "      <td>NaN</td>\n",
       "      <td>NaN</td>\n",
       "      <td>NaN</td>\n",
       "      <td>NaN</td>\n",
       "      <td>NaN</td>\n",
       "      <td>NaN</td>\n",
       "      <td>NaN</td>\n",
       "    </tr>\n",
       "  </tbody>\n",
       "</table>\n",
       "<p>2 rows × 66 columns</p>\n",
       "</div>"
      ],
      "text/plain": [
       "  state electorate site_id    latitude   longitude legs  \\\n",
       "0   VIC  Melbourne    4399  -37.787979     144.959    2   \n",
       "1   VIC  Melbourne    4405  -37.793993  144.941956    3   \n",
       "\n",
       "                                         description layout_1 layout_1_enter  \\\n",
       "0  Royal Pde/shared path [N], Royal Pde/shared pa...        5            185   \n",
       "1        Melrose St [N], Melrose St [S], Mark St [W]        8            188   \n",
       "\n",
       "  layout_2  ... female male _7_00_am _7_15_am _7_30_am _7_45_am _8_00_am  \\\n",
       "0      186  ...    NaN  NaN      NaN      NaN      NaN      NaN      NaN   \n",
       "1      188  ...    NaN  NaN      NaN      NaN      NaN      NaN      NaN   \n",
       "\n",
       "  _8_15_am _8_30_am _8_45_am  \n",
       "0      NaN      NaN      NaN  \n",
       "1      NaN      NaN      NaN  \n",
       "\n",
       "[2 rows x 66 columns]"
      ]
     },
     "execution_count": 8,
     "metadata": {},
     "output_type": "execute_result"
    }
   ],
   "source": [
    "bike_count_data.head(2)"
   ]
  },
  {
   "attachments": {},
   "cell_type": "markdown",
   "metadata": {},
   "source": [
    "A quick preview of our bike data shows that we have far more attributes than required. Let us extract the columns of interest for the most recent year and remove any N/A fields. Further, we need to update the data types for the extracted columns and combine the latitude and longitude into a single column containing a Point object which we’ll call geometry.  "
   ]
  },
  {
   "cell_type": "code",
   "execution_count": 9,
   "metadata": {},
   "outputs": [
    {
     "data": {
      "text/html": [
       "<div>\n",
       "<style scoped>\n",
       "    .dataframe tbody tr th:only-of-type {\n",
       "        vertical-align: middle;\n",
       "    }\n",
       "\n",
       "    .dataframe tbody tr th {\n",
       "        vertical-align: top;\n",
       "    }\n",
       "\n",
       "    .dataframe thead th {\n",
       "        text-align: right;\n",
       "    }\n",
       "</style>\n",
       "<table border=\"1\" class=\"dataframe\">\n",
       "  <thead>\n",
       "    <tr style=\"text-align: right;\">\n",
       "      <th></th>\n",
       "      <th>latitude</th>\n",
       "      <th>longitude</th>\n",
       "      <th>total</th>\n",
       "      <th>year</th>\n",
       "      <th>description</th>\n",
       "      <th>geometry</th>\n",
       "    </tr>\n",
       "  </thead>\n",
       "  <tbody>\n",
       "    <tr>\n",
       "      <th>0</th>\n",
       "      <td>-37.825963</td>\n",
       "      <td>144.960053</td>\n",
       "      <td>249</td>\n",
       "      <td>2017</td>\n",
       "      <td>Queens Bridge St [N], City Rd [NE], Morray St ...</td>\n",
       "      <td>POINT (-37.82596 144.96005)</td>\n",
       "    </tr>\n",
       "    <tr>\n",
       "      <th>1</th>\n",
       "      <td>-37.787979</td>\n",
       "      <td>144.959000</td>\n",
       "      <td>1425</td>\n",
       "      <td>2017</td>\n",
       "      <td>Royal Pde/shared path [N], Royal Pde/shared pa...</td>\n",
       "      <td>POINT (-37.78798 144.95900)</td>\n",
       "    </tr>\n",
       "    <tr>\n",
       "      <th>2</th>\n",
       "      <td>-37.793993</td>\n",
       "      <td>144.941956</td>\n",
       "      <td>42</td>\n",
       "      <td>2017</td>\n",
       "      <td>Melrose St [N], Melrose St [S], Mark St [W]</td>\n",
       "      <td>POINT (-37.79399 144.94196)</td>\n",
       "    </tr>\n",
       "    <tr>\n",
       "      <th>3</th>\n",
       "      <td>-37.794117</td>\n",
       "      <td>144.927689</td>\n",
       "      <td>114</td>\n",
       "      <td>2017</td>\n",
       "      <td>McCracken St [N], Macaulay Rd [E], Kensington ...</td>\n",
       "      <td>POINT (-37.79412 144.92769)</td>\n",
       "    </tr>\n",
       "    <tr>\n",
       "      <th>4</th>\n",
       "      <td>-37.794540</td>\n",
       "      <td>144.930987</td>\n",
       "      <td>247</td>\n",
       "      <td>2017</td>\n",
       "      <td>Macaulay Rd - east end [E], Eastwood St [S], M...</td>\n",
       "      <td>POINT (-37.79454 144.93099)</td>\n",
       "    </tr>\n",
       "  </tbody>\n",
       "</table>\n",
       "</div>"
      ],
      "text/plain": [
       "    latitude   longitude  total  year  \\\n",
       "0 -37.825963  144.960053    249  2017   \n",
       "1 -37.787979  144.959000   1425  2017   \n",
       "2 -37.793993  144.941956     42  2017   \n",
       "3 -37.794117  144.927689    114  2017   \n",
       "4 -37.794540  144.930987    247  2017   \n",
       "\n",
       "                                         description  \\\n",
       "0  Queens Bridge St [N], City Rd [NE], Morray St ...   \n",
       "1  Royal Pde/shared path [N], Royal Pde/shared pa...   \n",
       "2        Melrose St [N], Melrose St [S], Mark St [W]   \n",
       "3  McCracken St [N], Macaulay Rd [E], Kensington ...   \n",
       "4  Macaulay Rd - east end [E], Eastwood St [S], M...   \n",
       "\n",
       "                      geometry  \n",
       "0  POINT (-37.82596 144.96005)  \n",
       "1  POINT (-37.78798 144.95900)  \n",
       "2  POINT (-37.79399 144.94196)  \n",
       "3  POINT (-37.79412 144.92769)  \n",
       "4  POINT (-37.79454 144.93099)  "
      ]
     },
     "execution_count": 9,
     "metadata": {},
     "output_type": "execute_result"
    }
   ],
   "source": [
    "# Extracting the columns of interest and removing N/A fields\n",
    "bike_count_data =  gpd.GeoDataFrame(bike_count_data[['latitude','longitude','total','year', 'description']])\n",
    "bike_count_data.dropna(inplace=True)   \n",
    "\n",
    "# Coverts the year column to an int datatype\n",
    "years = [int(x) for x in bike_count_data['year'].unique()]\n",
    "\n",
    "# Extracting the most recent year of data.\n",
    "bike_count_data = bike_count_data.loc[bike_count_data['year'] == str(max(years))]\n",
    "\n",
    "# Updateing the data types \n",
    "bike_count_data['latitude'] = bike_count_data['latitude'].astype(float)\n",
    "bike_count_data['longitude'] = bike_count_data['longitude'].astype(float)\n",
    "bike_count_data['total'] = bike_count_data['total'].astype(int)\n",
    "bike_count_data.reset_index(drop=True, inplace = True)\n",
    "df_geometry = [Point(xy) for xy in zip(bike_count_data['latitude'], bike_count_data['longitude'])]\n",
    "bike_count_data = gpd.GeoDataFrame(bike_count_data, crs = 4326, geometry = df_geometry)\n",
    "\n",
    "bike_count_data.head()"
   ]
  },
  {
   "attachments": {},
   "cell_type": "markdown",
   "metadata": {},
   "source": [
    "The bike path data only contains relevant fields as we can see below.  "
   ]
  },
  {
   "cell_type": "code",
   "execution_count": 13,
   "metadata": {},
   "outputs": [
    {
     "data": {
      "text/plain": [
       "dict_keys(['name', 'direction', 'info', 'status', 'notes', 'type'])"
      ]
     },
     "execution_count": 13,
     "metadata": {},
     "output_type": "execute_result"
    }
   ],
   "source": [
    "bike_path_data[\"features\"][0]['properties'].keys()"
   ]
  },
  {
   "cell_type": "markdown",
   "metadata": {},
   "source": []
  },
  {
   "cell_type": "code",
   "execution_count": null,
   "metadata": {},
   "outputs": [],
   "source": []
  },
  {
   "cell_type": "markdown",
   "metadata": {},
   "source": [
    "## ADD In Cleaning and Previewing Remaing Datasets HERE ^^^"
   ]
  },
  {
   "cell_type": "code",
   "execution_count": null,
   "metadata": {},
   "outputs": [],
   "source": []
  },
  {
   "cell_type": "markdown",
   "metadata": {},
   "source": [
    "------"
   ]
  },
  {
   "cell_type": "markdown",
   "metadata": {},
   "source": [
    "## Ignore below"
   ]
  },
  {
   "cell_type": "code",
   "execution_count": null,
   "metadata": {},
   "outputs": [],
   "source": []
  },
  {
   "cell_type": "markdown",
   "metadata": {},
   "source": [
    "To get our first look at the data we need to join our two datasets together. The following function will return a GeoPandas DataFrame with our two datasets joined. It will also extract the population growth between any two years of interest. We can then choose to plot a single year as a map of population density or the change between any two given years as a number or percentage."
   ]
  },
  {
   "cell_type": "code",
   "execution_count": 10,
   "metadata": {},
   "outputs": [],
   "source": [
    "def population_diff(population_data, year_1, year_2):\n",
    "    \n",
    "    start_year = pop_data_by_year(population_data, year_1)\n",
    "    end_year = pop_data_by_year(population_data, year_2)\n",
    "\n",
    "    combined = start_year.merge(end_year, left_on='suburb', right_on='suburb')\n",
    "    \n",
    "    combined['change #'] = combined[list(end_year)[1]] - combined[list(start_year)[1]]\n",
    "    combined['change %'] = (combined[list(combined)[3]] / combined[list(start_year)[1]])*100\n",
    "    combined['geometry'] = mel_suburb_data['geometry']\n",
    "    \n",
    "    return gpd.GeoDataFrame(combined)"
   ]
  },
  {
   "cell_type": "code",
   "execution_count": 11,
   "metadata": {},
   "outputs": [
    {
     "ename": "IndexError",
     "evalue": "list index out of range",
     "output_type": "error",
     "traceback": [
      "\u001b[0;31m---------------------------------------------------------------------------\u001b[0m",
      "\u001b[0;31mIndexError\u001b[0m                                Traceback (most recent call last)",
      "\u001b[1;32m/Users/michaelwiedermann/DEV/MOP-Code/Playground/Mick_Anj/use_case_presentation.ipynb Cell 46\u001b[0m in \u001b[0;36m<cell line: 1>\u001b[0;34m()\u001b[0m\n\u001b[0;32m----> <a href='vscode-notebook-cell:/Users/michaelwiedermann/DEV/MOP-Code/Playground/Mick_Anj/use_case_presentation.ipynb#X63sZmlsZQ%3D%3D?line=0'>1</a>\u001b[0m pop_diff_2020_2040 \u001b[39m=\u001b[39m population_diff(population_data, \u001b[39m2020\u001b[39;49m, \u001b[39m2040\u001b[39;49m)\n\u001b[1;32m      <a href='vscode-notebook-cell:/Users/michaelwiedermann/DEV/MOP-Code/Playground/Mick_Anj/use_case_presentation.ipynb#X63sZmlsZQ%3D%3D?line=1'>2</a>\u001b[0m pop_diff_2020_2040\u001b[39m.\u001b[39mhead(\u001b[39m11\u001b[39m)\n",
      "\u001b[1;32m/Users/michaelwiedermann/DEV/MOP-Code/Playground/Mick_Anj/use_case_presentation.ipynb Cell 46\u001b[0m in \u001b[0;36mpopulation_diff\u001b[0;34m(population_data, year_1, year_2)\u001b[0m\n\u001b[1;32m      <a href='vscode-notebook-cell:/Users/michaelwiedermann/DEV/MOP-Code/Playground/Mick_Anj/use_case_presentation.ipynb#X63sZmlsZQ%3D%3D?line=0'>1</a>\u001b[0m \u001b[39mdef\u001b[39;00m \u001b[39mpopulation_diff\u001b[39m(population_data, year_1, year_2):\n\u001b[0;32m----> <a href='vscode-notebook-cell:/Users/michaelwiedermann/DEV/MOP-Code/Playground/Mick_Anj/use_case_presentation.ipynb#X63sZmlsZQ%3D%3D?line=2'>3</a>\u001b[0m     start_year \u001b[39m=\u001b[39m pop_data_by_year(population_data, year_1)\n\u001b[1;32m      <a href='vscode-notebook-cell:/Users/michaelwiedermann/DEV/MOP-Code/Playground/Mick_Anj/use_case_presentation.ipynb#X63sZmlsZQ%3D%3D?line=3'>4</a>\u001b[0m     end_year \u001b[39m=\u001b[39m pop_data_by_year(population_data, year_2)\n\u001b[1;32m      <a href='vscode-notebook-cell:/Users/michaelwiedermann/DEV/MOP-Code/Playground/Mick_Anj/use_case_presentation.ipynb#X63sZmlsZQ%3D%3D?line=5'>6</a>\u001b[0m     combined \u001b[39m=\u001b[39m start_year\u001b[39m.\u001b[39mmerge(end_year, left_on\u001b[39m=\u001b[39m\u001b[39m'\u001b[39m\u001b[39msuburb\u001b[39m\u001b[39m'\u001b[39m, right_on\u001b[39m=\u001b[39m\u001b[39m'\u001b[39m\u001b[39msuburb\u001b[39m\u001b[39m'\u001b[39m)\n",
      "\u001b[1;32m/Users/michaelwiedermann/DEV/MOP-Code/Playground/Mick_Anj/use_case_presentation.ipynb Cell 46\u001b[0m in \u001b[0;36mpop_data_by_year\u001b[0;34m(dataset, year)\u001b[0m\n\u001b[1;32m     <a href='vscode-notebook-cell:/Users/michaelwiedermann/DEV/MOP-Code/Playground/Mick_Anj/use_case_presentation.ipynb#X63sZmlsZQ%3D%3D?line=26'>27</a>\u001b[0m \u001b[39m# Removing unrequired data.\u001b[39;00m\n\u001b[1;32m     <a href='vscode-notebook-cell:/Users/michaelwiedermann/DEV/MOP-Code/Playground/Mick_Anj/use_case_presentation.ipynb#X63sZmlsZQ%3D%3D?line=27'>28</a>\u001b[0m subs_to_delete \u001b[39m=\u001b[39m [\u001b[39m'\u001b[39m\u001b[39mWest Melbourne (Industrial)\u001b[39m\u001b[39m'\u001b[39m, \u001b[39m'\u001b[39m\u001b[39mCity of Melbourne\u001b[39m\u001b[39m'\u001b[39m, \u001b[39m'\u001b[39m\u001b[39mPort Melbourne\u001b[39m\u001b[39m'\u001b[39m]\n\u001b[0;32m---> <a href='vscode-notebook-cell:/Users/michaelwiedermann/DEV/MOP-Code/Playground/Mick_Anj/use_case_presentation.ipynb#X63sZmlsZQ%3D%3D?line=28'>29</a>\u001b[0m subs \u001b[39m=\u001b[39m [data\u001b[39m.\u001b[39mindex[data[\u001b[39m'\u001b[39m\u001b[39msuburb\u001b[39m\u001b[39m'\u001b[39m]\u001b[39m==\u001b[39msub]\u001b[39m.\u001b[39mtolist()[\u001b[39m0\u001b[39m] \u001b[39mfor\u001b[39;00m sub \u001b[39min\u001b[39;00m subs_to_delete]\n\u001b[1;32m     <a href='vscode-notebook-cell:/Users/michaelwiedermann/DEV/MOP-Code/Playground/Mick_Anj/use_case_presentation.ipynb#X63sZmlsZQ%3D%3D?line=29'>30</a>\u001b[0m data\u001b[39m.\u001b[39mdrop(subs, inplace \u001b[39m=\u001b[39m \u001b[39mTrue\u001b[39;00m)\n\u001b[1;32m     <a href='vscode-notebook-cell:/Users/michaelwiedermann/DEV/MOP-Code/Playground/Mick_Anj/use_case_presentation.ipynb#X63sZmlsZQ%3D%3D?line=31'>32</a>\u001b[0m data \u001b[39m=\u001b[39m data\u001b[39m.\u001b[39mreset_index(drop\u001b[39m=\u001b[39m\u001b[39mTrue\u001b[39;00m)\n",
      "\u001b[1;32m/Users/michaelwiedermann/DEV/MOP-Code/Playground/Mick_Anj/use_case_presentation.ipynb Cell 46\u001b[0m in \u001b[0;36m<listcomp>\u001b[0;34m(.0)\u001b[0m\n\u001b[1;32m     <a href='vscode-notebook-cell:/Users/michaelwiedermann/DEV/MOP-Code/Playground/Mick_Anj/use_case_presentation.ipynb#X63sZmlsZQ%3D%3D?line=26'>27</a>\u001b[0m \u001b[39m# Removing unrequired data.\u001b[39;00m\n\u001b[1;32m     <a href='vscode-notebook-cell:/Users/michaelwiedermann/DEV/MOP-Code/Playground/Mick_Anj/use_case_presentation.ipynb#X63sZmlsZQ%3D%3D?line=27'>28</a>\u001b[0m subs_to_delete \u001b[39m=\u001b[39m [\u001b[39m'\u001b[39m\u001b[39mWest Melbourne (Industrial)\u001b[39m\u001b[39m'\u001b[39m, \u001b[39m'\u001b[39m\u001b[39mCity of Melbourne\u001b[39m\u001b[39m'\u001b[39m, \u001b[39m'\u001b[39m\u001b[39mPort Melbourne\u001b[39m\u001b[39m'\u001b[39m]\n\u001b[0;32m---> <a href='vscode-notebook-cell:/Users/michaelwiedermann/DEV/MOP-Code/Playground/Mick_Anj/use_case_presentation.ipynb#X63sZmlsZQ%3D%3D?line=28'>29</a>\u001b[0m subs \u001b[39m=\u001b[39m [data\u001b[39m.\u001b[39;49mindex[data[\u001b[39m'\u001b[39;49m\u001b[39msuburb\u001b[39;49m\u001b[39m'\u001b[39;49m]\u001b[39m==\u001b[39;49msub]\u001b[39m.\u001b[39;49mtolist()[\u001b[39m0\u001b[39;49m] \u001b[39mfor\u001b[39;00m sub \u001b[39min\u001b[39;00m subs_to_delete]\n\u001b[1;32m     <a href='vscode-notebook-cell:/Users/michaelwiedermann/DEV/MOP-Code/Playground/Mick_Anj/use_case_presentation.ipynb#X63sZmlsZQ%3D%3D?line=29'>30</a>\u001b[0m data\u001b[39m.\u001b[39mdrop(subs, inplace \u001b[39m=\u001b[39m \u001b[39mTrue\u001b[39;00m)\n\u001b[1;32m     <a href='vscode-notebook-cell:/Users/michaelwiedermann/DEV/MOP-Code/Playground/Mick_Anj/use_case_presentation.ipynb#X63sZmlsZQ%3D%3D?line=31'>32</a>\u001b[0m data \u001b[39m=\u001b[39m data\u001b[39m.\u001b[39mreset_index(drop\u001b[39m=\u001b[39m\u001b[39mTrue\u001b[39;00m)\n",
      "\u001b[0;31mIndexError\u001b[0m: list index out of range"
     ]
    }
   ],
   "source": [
    "pop_diff_2020_2040 = population_diff(population_data, 2020, 2040)\n",
    "pop_diff_2020_2040.head(11)"
   ]
  },
  {
   "cell_type": "markdown",
   "metadata": {},
   "source": [
    "Lets take a look at the total growth of the population from the first year our dataset contains to the last year. "
   ]
  },
  {
   "cell_type": "code",
   "execution_count": null,
   "metadata": {},
   "outputs": [],
   "source": [
    "growth_20y = pop_diff_2020_2040.explore(column ='change %', tiles='CartoDB positron', cmap='YlOrRd') #winter\n",
    "growth_20y \n"
   ]
  },
  {
   "cell_type": "markdown",
   "metadata": {},
   "source": [
    "Examining the map above it seems that the north-west suburbs of Melbourne will outpace the others. Lets take a look at the change at each 5 year interval, 2020 to 2025, 2025 to 2030, 2030 to 2035, and finally 2035 to 2040 to see if the growth rate matches the above choropleth map. \n",
    "\n",
    "To do this we'll write two small functions, one to return the map as above, and a second to allow us to examine the maps side by side."
   ]
  },
  {
   "cell_type": "code",
   "execution_count": null,
   "metadata": {},
   "outputs": [],
   "source": [
    "def change_map(population_data, colour):\n",
    "    geo_layer = population_data.explore(column ='change %', tiles='CartoDB positron', cmap=colour)\n",
    "    folium.LayerControl().add_to(geo_layer)\n",
    "    \n",
    "    return geo_layer \n",
    "\n",
    "def map_compare(map_1, map_2):\n",
    "    warnings.filterwarnings('ignore')\n",
    "    htmlmap = HTML('<iframe srcdoc=\"{}\" style=\"float:left; width: {}px; height: {}px; display:inline-block; width: 49%; margin: 0 auto; border: 2px solid #0f9295\"></iframe>'\n",
    "        '<iframe srcdoc=\"{}\" style=\"float:right; width: {}px; height: {}px; display:inline-block; width: 49%; margin: 0 auto; border: 2px solid #0f9295\"></iframe>'\n",
    "        .format(map_1.get_root().render().replace('\"', '&quot;'),400,400,\n",
    "                map_2.get_root().render().replace('\"', '&quot;'),400,400))\n",
    "        \n",
    "    return display(htmlmap) "
   ]
  },
  {
   "cell_type": "code",
   "execution_count": null,
   "metadata": {},
   "outputs": [],
   "source": [
    "pop_change_1 = population_diff(population_data, 2020, 2025)  # Enter the two years to compare\n",
    "map_2020_2025 = change_map(pop_change_1, 'YlOrRd') \n",
    "\n",
    "pop_change_2 = population_diff(population_data, 2025, 2030) \n",
    "map_2025_2030 = change_map(pop_change_2, 'YlOrRd')\n",
    "\n",
    "pop_change_3 = population_diff(population_data, 2030, 2035) \n",
    "map_2030_2035 = change_map(pop_change_3, 'YlOrRd')\n",
    "\n",
    "pop_change_4 = population_diff(population_data, 2035, 2040) \n",
    "map_2035_2040 = change_map(pop_change_4, 'YlOrRd')\n",
    "\n",
    "growth_5y_10y = map_compare(map_2020_2025, map_2025_2030)\n",
    "growth_15y_20y = map_compare(map_2030_2035, map_2035_2040)\n",
    "\n",
    "growth_5y_10y\n",
    "growth_15y_20y"
   ]
  },
  {
   "cell_type": "markdown",
   "metadata": {},
   "source": [
    "<p>\n",
    "    \n",
    "</p>"
   ]
  }
 ],
 "metadata": {
  "kernelspec": {
   "display_name": "Python 3 (ipykernel)",
   "language": "python",
   "name": "python3"
  },
  "language_info": {
   "codemirror_mode": {
    "name": "ipython",
    "version": 3
   },
   "file_extension": ".py",
   "mimetype": "text/x-python",
   "name": "python",
   "nbconvert_exporter": "python",
   "pygments_lexer": "ipython3",
   "version": "3.9.10"
  },
  "vscode": {
   "interpreter": {
    "hash": "aee8b7b246df8f9039afb4144a1f6fd8d2ca17a180786b69acc140d282b71a49"
   }
  }
 },
 "nbformat": 4,
 "nbformat_minor": 4
}
