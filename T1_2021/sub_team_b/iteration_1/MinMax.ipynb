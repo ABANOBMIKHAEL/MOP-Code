{
 "cells": [
  {
   "cell_type": "code",
   "execution_count": 24,
   "metadata": {},
   "outputs": [],
   "source": [
    "#libraries\n",
    "import pandas as pd\n",
    "import numpy as np\n",
    "import time\n",
    "import datetime\n",
    "import matplotlib as plt\n",
    "import scipy "
   ]
  },
  {
   "cell_type": "code",
   "execution_count": 25,
   "metadata": {},
   "outputs": [
    {
     "data": {
      "text/html": [
       "<div>\n",
       "<style scoped>\n",
       "    .dataframe tbody tr th:only-of-type {\n",
       "        vertical-align: middle;\n",
       "    }\n",
       "\n",
       "    .dataframe tbody tr th {\n",
       "        vertical-align: top;\n",
       "    }\n",
       "\n",
       "    .dataframe thead th {\n",
       "        text-align: right;\n",
       "    }\n",
       "</style>\n",
       "<table border=\"1\" class=\"dataframe\">\n",
       "  <thead>\n",
       "    <tr style=\"text-align: right;\">\n",
       "      <th></th>\n",
       "      <th>Product code</th>\n",
       "      <th>Bureau of Meteorology station number</th>\n",
       "      <th>Year</th>\n",
       "      <th>Month</th>\n",
       "      <th>Day</th>\n",
       "      <th>Day of the Year</th>\n",
       "      <th>Minimum temperature (Degree C)</th>\n",
       "      <th>Maximum temperature (Degree C)</th>\n",
       "    </tr>\n",
       "  </thead>\n",
       "  <tbody>\n",
       "    <tr>\n",
       "      <th>0</th>\n",
       "      <td>IDCJAC0010</td>\n",
       "      <td>86338</td>\n",
       "      <td>2015</td>\n",
       "      <td>1</td>\n",
       "      <td>1</td>\n",
       "      <td>1</td>\n",
       "      <td>13.3</td>\n",
       "      <td>26.9</td>\n",
       "    </tr>\n",
       "    <tr>\n",
       "      <th>1</th>\n",
       "      <td>IDCJAC0010</td>\n",
       "      <td>86338</td>\n",
       "      <td>2015</td>\n",
       "      <td>1</td>\n",
       "      <td>2</td>\n",
       "      <td>2</td>\n",
       "      <td>15.4</td>\n",
       "      <td>38.8</td>\n",
       "    </tr>\n",
       "    <tr>\n",
       "      <th>2</th>\n",
       "      <td>IDCJAC0010</td>\n",
       "      <td>86338</td>\n",
       "      <td>2015</td>\n",
       "      <td>1</td>\n",
       "      <td>3</td>\n",
       "      <td>3</td>\n",
       "      <td>20.0</td>\n",
       "      <td>38.2</td>\n",
       "    </tr>\n",
       "    <tr>\n",
       "      <th>3</th>\n",
       "      <td>IDCJAC0010</td>\n",
       "      <td>86338</td>\n",
       "      <td>2015</td>\n",
       "      <td>1</td>\n",
       "      <td>4</td>\n",
       "      <td>4</td>\n",
       "      <td>16.3</td>\n",
       "      <td>21.4</td>\n",
       "    </tr>\n",
       "    <tr>\n",
       "      <th>4</th>\n",
       "      <td>IDCJAC0010</td>\n",
       "      <td>86338</td>\n",
       "      <td>2015</td>\n",
       "      <td>1</td>\n",
       "      <td>5</td>\n",
       "      <td>5</td>\n",
       "      <td>15.0</td>\n",
       "      <td>22.0</td>\n",
       "    </tr>\n",
       "    <tr>\n",
       "      <th>...</th>\n",
       "      <td>...</td>\n",
       "      <td>...</td>\n",
       "      <td>...</td>\n",
       "      <td>...</td>\n",
       "      <td>...</td>\n",
       "      <td>...</td>\n",
       "      <td>...</td>\n",
       "      <td>...</td>\n",
       "    </tr>\n",
       "    <tr>\n",
       "      <th>2284</th>\n",
       "      <td>IDCJAC0010</td>\n",
       "      <td>86338</td>\n",
       "      <td>2021</td>\n",
       "      <td>4</td>\n",
       "      <td>3</td>\n",
       "      <td>93</td>\n",
       "      <td>15.1</td>\n",
       "      <td>31.6</td>\n",
       "    </tr>\n",
       "    <tr>\n",
       "      <th>2285</th>\n",
       "      <td>IDCJAC0010</td>\n",
       "      <td>86338</td>\n",
       "      <td>2021</td>\n",
       "      <td>4</td>\n",
       "      <td>4</td>\n",
       "      <td>94</td>\n",
       "      <td>15.2</td>\n",
       "      <td>24.5</td>\n",
       "    </tr>\n",
       "    <tr>\n",
       "      <th>2286</th>\n",
       "      <td>IDCJAC0010</td>\n",
       "      <td>86338</td>\n",
       "      <td>2021</td>\n",
       "      <td>4</td>\n",
       "      <td>5</td>\n",
       "      <td>95</td>\n",
       "      <td>16.0</td>\n",
       "      <td>19.0</td>\n",
       "    </tr>\n",
       "    <tr>\n",
       "      <th>2287</th>\n",
       "      <td>IDCJAC0010</td>\n",
       "      <td>86338</td>\n",
       "      <td>2021</td>\n",
       "      <td>4</td>\n",
       "      <td>6</td>\n",
       "      <td>96</td>\n",
       "      <td>12.8</td>\n",
       "      <td>20.2</td>\n",
       "    </tr>\n",
       "    <tr>\n",
       "      <th>2288</th>\n",
       "      <td>IDCJAC0010</td>\n",
       "      <td>86338</td>\n",
       "      <td>2021</td>\n",
       "      <td>4</td>\n",
       "      <td>7</td>\n",
       "      <td>97</td>\n",
       "      <td>14.9</td>\n",
       "      <td>23.0</td>\n",
       "    </tr>\n",
       "  </tbody>\n",
       "</table>\n",
       "<p>2289 rows × 8 columns</p>\n",
       "</div>"
      ],
      "text/plain": [
       "     Product code  Bureau of Meteorology station number  Year  Month  Day  \\\n",
       "0      IDCJAC0010                                 86338  2015      1    1   \n",
       "1      IDCJAC0010                                 86338  2015      1    2   \n",
       "2      IDCJAC0010                                 86338  2015      1    3   \n",
       "3      IDCJAC0010                                 86338  2015      1    4   \n",
       "4      IDCJAC0010                                 86338  2015      1    5   \n",
       "...           ...                                   ...   ...    ...  ...   \n",
       "2284   IDCJAC0010                                 86338  2021      4    3   \n",
       "2285   IDCJAC0010                                 86338  2021      4    4   \n",
       "2286   IDCJAC0010                                 86338  2021      4    5   \n",
       "2287   IDCJAC0010                                 86338  2021      4    6   \n",
       "2288   IDCJAC0010                                 86338  2021      4    7   \n",
       "\n",
       "      Day of the Year  Minimum temperature (Degree C)  \\\n",
       "0                   1                            13.3   \n",
       "1                   2                            15.4   \n",
       "2                   3                            20.0   \n",
       "3                   4                            16.3   \n",
       "4                   5                            15.0   \n",
       "...               ...                             ...   \n",
       "2284               93                            15.1   \n",
       "2285               94                            15.2   \n",
       "2286               95                            16.0   \n",
       "2287               96                            12.8   \n",
       "2288               97                            14.9   \n",
       "\n",
       "      Maximum temperature (Degree C)  \n",
       "0                               26.9  \n",
       "1                               38.8  \n",
       "2                               38.2  \n",
       "3                               21.4  \n",
       "4                               22.0  \n",
       "...                              ...  \n",
       "2284                            31.6  \n",
       "2285                            24.5  \n",
       "2286                            19.0  \n",
       "2287                            20.2  \n",
       "2288                            23.0  \n",
       "\n",
       "[2289 rows x 8 columns]"
      ]
     },
     "execution_count": 25,
     "metadata": {},
     "output_type": "execute_result"
    }
   ],
   "source": [
    "#import Min Max Temperature (already formatted in Excel)\n",
    "\n",
    "MinMax = pd.read_csv('Min Max Temp.csv')\n",
    "MinMax"
   ]
  },
  {
   "cell_type": "code",
   "execution_count": 26,
   "metadata": {},
   "outputs": [
    {
     "data": {
      "text/plain": [
       "(2289, 8)"
      ]
     },
     "execution_count": 26,
     "metadata": {},
     "output_type": "execute_result"
    }
   ],
   "source": [
    "MinMax.shape"
   ]
  },
  {
   "cell_type": "code",
   "execution_count": 27,
   "metadata": {},
   "outputs": [
    {
     "name": "stdout",
     "output_type": "stream",
     "text": [
      "<class 'pandas.core.frame.DataFrame'>\n",
      "RangeIndex: 2289 entries, 0 to 2288\n",
      "Data columns (total 8 columns):\n",
      " #   Column                                Non-Null Count  Dtype  \n",
      "---  ------                                --------------  -----  \n",
      " 0   Product code                          2289 non-null   object \n",
      " 1   Bureau of Meteorology station number  2289 non-null   int64  \n",
      " 2   Year                                  2289 non-null   int64  \n",
      " 3   Month                                 2289 non-null   int64  \n",
      " 4   Day                                   2289 non-null   int64  \n",
      " 5   Day of the Year                       2289 non-null   int64  \n",
      " 6   Minimum temperature (Degree C)        2289 non-null   float64\n",
      " 7   Maximum temperature (Degree C)        2289 non-null   float64\n",
      "dtypes: float64(2), int64(5), object(1)\n",
      "memory usage: 143.2+ KB\n"
     ]
    }
   ],
   "source": [
    "MinMax.info()"
   ]
  },
  {
   "cell_type": "code",
   "execution_count": 28,
   "metadata": {},
   "outputs": [
    {
     "data": {
      "text/plain": [
       "Product code                            0\n",
       "Bureau of Meteorology station number    0\n",
       "Year                                    0\n",
       "Month                                   0\n",
       "Day                                     0\n",
       "Day of the Year                         0\n",
       "Minimum temperature (Degree C)          0\n",
       "Maximum temperature (Degree C)          0\n",
       "dtype: int64"
      ]
     },
     "execution_count": 28,
     "metadata": {},
     "output_type": "execute_result"
    }
   ],
   "source": [
    "#Check for missing values\n",
    "\n",
    "MinMax.isnull().sum()"
   ]
  },
  {
   "cell_type": "code",
   "execution_count": 29,
   "metadata": {},
   "outputs": [
    {
     "data": {
      "text/plain": [
       "(2289, 6)"
      ]
     },
     "execution_count": 29,
     "metadata": {},
     "output_type": "execute_result"
    }
   ],
   "source": [
    "#Delete columns that are irrelevant for prediction\n",
    "\n",
    "MinMax = MinMax.drop(columns = [\"Product code\", \"Bureau of Meteorology station number\"])\n",
    "MinMax.shape"
   ]
  },
  {
   "cell_type": "code",
   "execution_count": 30,
   "metadata": {},
   "outputs": [
    {
     "data": {
      "text/html": [
       "<div>\n",
       "<style scoped>\n",
       "    .dataframe tbody tr th:only-of-type {\n",
       "        vertical-align: middle;\n",
       "    }\n",
       "\n",
       "    .dataframe tbody tr th {\n",
       "        vertical-align: top;\n",
       "    }\n",
       "\n",
       "    .dataframe thead th {\n",
       "        text-align: right;\n",
       "    }\n",
       "</style>\n",
       "<table border=\"1\" class=\"dataframe\">\n",
       "  <thead>\n",
       "    <tr style=\"text-align: right;\">\n",
       "      <th></th>\n",
       "      <th>Year</th>\n",
       "      <th>Month</th>\n",
       "      <th>Day</th>\n",
       "      <th>Day of the Year</th>\n",
       "      <th>Min</th>\n",
       "      <th>Max</th>\n",
       "    </tr>\n",
       "  </thead>\n",
       "  <tbody>\n",
       "    <tr>\n",
       "      <th>0</th>\n",
       "      <td>2015</td>\n",
       "      <td>1</td>\n",
       "      <td>1</td>\n",
       "      <td>1</td>\n",
       "      <td>13.3</td>\n",
       "      <td>26.9</td>\n",
       "    </tr>\n",
       "    <tr>\n",
       "      <th>1</th>\n",
       "      <td>2015</td>\n",
       "      <td>1</td>\n",
       "      <td>2</td>\n",
       "      <td>2</td>\n",
       "      <td>15.4</td>\n",
       "      <td>38.8</td>\n",
       "    </tr>\n",
       "    <tr>\n",
       "      <th>2</th>\n",
       "      <td>2015</td>\n",
       "      <td>1</td>\n",
       "      <td>3</td>\n",
       "      <td>3</td>\n",
       "      <td>20.0</td>\n",
       "      <td>38.2</td>\n",
       "    </tr>\n",
       "    <tr>\n",
       "      <th>3</th>\n",
       "      <td>2015</td>\n",
       "      <td>1</td>\n",
       "      <td>4</td>\n",
       "      <td>4</td>\n",
       "      <td>16.3</td>\n",
       "      <td>21.4</td>\n",
       "    </tr>\n",
       "    <tr>\n",
       "      <th>4</th>\n",
       "      <td>2015</td>\n",
       "      <td>1</td>\n",
       "      <td>5</td>\n",
       "      <td>5</td>\n",
       "      <td>15.0</td>\n",
       "      <td>22.0</td>\n",
       "    </tr>\n",
       "    <tr>\n",
       "      <th>...</th>\n",
       "      <td>...</td>\n",
       "      <td>...</td>\n",
       "      <td>...</td>\n",
       "      <td>...</td>\n",
       "      <td>...</td>\n",
       "      <td>...</td>\n",
       "    </tr>\n",
       "    <tr>\n",
       "      <th>2284</th>\n",
       "      <td>2021</td>\n",
       "      <td>4</td>\n",
       "      <td>3</td>\n",
       "      <td>93</td>\n",
       "      <td>15.1</td>\n",
       "      <td>31.6</td>\n",
       "    </tr>\n",
       "    <tr>\n",
       "      <th>2285</th>\n",
       "      <td>2021</td>\n",
       "      <td>4</td>\n",
       "      <td>4</td>\n",
       "      <td>94</td>\n",
       "      <td>15.2</td>\n",
       "      <td>24.5</td>\n",
       "    </tr>\n",
       "    <tr>\n",
       "      <th>2286</th>\n",
       "      <td>2021</td>\n",
       "      <td>4</td>\n",
       "      <td>5</td>\n",
       "      <td>95</td>\n",
       "      <td>16.0</td>\n",
       "      <td>19.0</td>\n",
       "    </tr>\n",
       "    <tr>\n",
       "      <th>2287</th>\n",
       "      <td>2021</td>\n",
       "      <td>4</td>\n",
       "      <td>6</td>\n",
       "      <td>96</td>\n",
       "      <td>12.8</td>\n",
       "      <td>20.2</td>\n",
       "    </tr>\n",
       "    <tr>\n",
       "      <th>2288</th>\n",
       "      <td>2021</td>\n",
       "      <td>4</td>\n",
       "      <td>7</td>\n",
       "      <td>97</td>\n",
       "      <td>14.9</td>\n",
       "      <td>23.0</td>\n",
       "    </tr>\n",
       "  </tbody>\n",
       "</table>\n",
       "<p>2289 rows × 6 columns</p>\n",
       "</div>"
      ],
      "text/plain": [
       "      Year  Month  Day  Day of the Year   Min   Max\n",
       "0     2015      1    1                1  13.3  26.9\n",
       "1     2015      1    2                2  15.4  38.8\n",
       "2     2015      1    3                3  20.0  38.2\n",
       "3     2015      1    4                4  16.3  21.4\n",
       "4     2015      1    5                5  15.0  22.0\n",
       "...    ...    ...  ...              ...   ...   ...\n",
       "2284  2021      4    3               93  15.1  31.6\n",
       "2285  2021      4    4               94  15.2  24.5\n",
       "2286  2021      4    5               95  16.0  19.0\n",
       "2287  2021      4    6               96  12.8  20.2\n",
       "2288  2021      4    7               97  14.9  23.0\n",
       "\n",
       "[2289 rows x 6 columns]"
      ]
     },
     "execution_count": 30,
     "metadata": {},
     "output_type": "execute_result"
    }
   ],
   "source": [
    "#Rename min and max columns for easier coding\n",
    "\n",
    "MinMax = MinMax.rename(columns = {'Minimum temperature (Degree C)': 'Min'})\n",
    "MinMax = MinMax.rename(columns = {'Maximum temperature (Degree C)': 'Max'})\n",
    "MinMax\n"
   ]
  },
  {
   "cell_type": "code",
   "execution_count": 31,
   "metadata": {},
   "outputs": [
    {
     "name": "stdout",
     "output_type": "stream",
     "text": [
      "r value is: -0.009218111769541591\n",
      "r value is: -0.010700769733552119\n"
     ]
    }
   ],
   "source": [
    "#Test for predictive values of columns\n",
    "from scipy import stats\n",
    "a = MinMax['Day']\n",
    "b = MinMax['Min']\n",
    "c = MinMax['Max']\n",
    "print(\"r value (Min) is:\", stats.pearsonr(a,b)[0])\n",
    "print(\"r value (Max) is:\", stats.pearsonr(a,c)[0])"
   ]
  },
  {
   "cell_type": "code",
   "execution_count": 32,
   "metadata": {},
   "outputs": [
    {
     "name": "stdout",
     "output_type": "stream",
     "text": [
      "r value is: -0.28855363275401014\n",
      "r value is: -0.19512225024695978\n"
     ]
    }
   ],
   "source": [
    "#Test for predictive values of columns\n",
    "a = MinMax['Day of the Year']\n",
    "b = MinMax['Min']\n",
    "c = MinMax['Max']\n",
    "print(\"r value (Min) is:\", stats.pearsonr(a,b)[0])\n",
    "print(\"r value (Max) is:\", stats.pearsonr(a,c)[0])"
   ]
  },
  {
   "cell_type": "code",
   "execution_count": 33,
   "metadata": {},
   "outputs": [
    {
     "name": "stdout",
     "output_type": "stream",
     "text": [
      "r value is: 0.031119063230355272\n",
      "r value is: 0.034747609209749716\n"
     ]
    }
   ],
   "source": [
    "#Test for predictive values of columns\n",
    "a = MinMax['Year']\n",
    "b = MinMax['Min']\n",
    "c = MinMax['Max']\n",
    "print(\"r value (Min) is:\", stats.pearsonr(a,b)[0])\n",
    "print(\"r value (Max) is:\", stats.pearsonr(a,c)[0])"
   ]
  },
  {
   "cell_type": "code",
   "execution_count": 35,
   "metadata": {},
   "outputs": [
    {
     "name": "stdout",
     "output_type": "stream",
     "text": [
      "r value (Min) is: -0.2910706019009437\n",
      "r value (Max) is: -0.19692108832941452\n"
     ]
    }
   ],
   "source": [
    "a = MinMax['Month']\n",
    "b = MinMax['Min']\n",
    "c = MinMax['Max']\n",
    "print(\"r value (Min) is:\", stats.pearsonr(a,b)[0])\n",
    "print(\"r value (Max) is:\", stats.pearsonr(a,c)[0])"
   ]
  },
  {
   "cell_type": "markdown",
   "metadata": {},
   "source": [
    "#### Day of the Month < r = |0.01| and Year < r = |0.04| consider removing for better prediction. "
   ]
  },
  {
   "cell_type": "code",
   "execution_count": null,
   "metadata": {},
   "outputs": [],
   "source": []
  },
  {
   "cell_type": "code",
   "execution_count": null,
   "metadata": {},
   "outputs": [],
   "source": []
  }
 ],
 "metadata": {
  "kernelspec": {
   "display_name": "Python 3",
   "language": "python",
   "name": "python3"
  },
  "language_info": {
   "codemirror_mode": {
    "name": "ipython",
    "version": 3
   },
   "file_extension": ".py",
   "mimetype": "text/x-python",
   "name": "python",
   "nbconvert_exporter": "python",
   "pygments_lexer": "ipython3",
   "version": "3.7.6"
  }
 },
 "nbformat": 4,
 "nbformat_minor": 4
}
