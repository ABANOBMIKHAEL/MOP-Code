{
 "cells": [
  {
   "cell_type": "code",
   "execution_count": 75,
   "metadata": {},
   "outputs": [],
   "source": [
    "#libraries\n",
    "import pandas as pd\n",
    "import numpy as np\n",
    "import time\n",
    "import datetime\n",
    "import matplotlib.pyplot as plt\n",
    "import scipy \n",
    "import seaborn as sns\n",
    "from scipy.stats import skew"
   ]
  },
  {
   "cell_type": "code",
   "execution_count": 5,
   "metadata": {},
   "outputs": [
    {
     "data": {
      "text/html": [
       "<div>\n",
       "<style scoped>\n",
       "    .dataframe tbody tr th:only-of-type {\n",
       "        vertical-align: middle;\n",
       "    }\n",
       "\n",
       "    .dataframe tbody tr th {\n",
       "        vertical-align: top;\n",
       "    }\n",
       "\n",
       "    .dataframe thead th {\n",
       "        text-align: right;\n",
       "    }\n",
       "</style>\n",
       "<table border=\"1\" class=\"dataframe\">\n",
       "  <thead>\n",
       "    <tr style=\"text-align: right;\">\n",
       "      <th></th>\n",
       "      <th>Product code</th>\n",
       "      <th>Bureau of Meteorology station number</th>\n",
       "      <th>Year</th>\n",
       "      <th>Month</th>\n",
       "      <th>Day</th>\n",
       "      <th>Day of the Year</th>\n",
       "      <th>Day of the Week</th>\n",
       "      <th>Minimum temperature (Degree C)</th>\n",
       "      <th>Maximum temperature (Degree C)</th>\n",
       "    </tr>\n",
       "  </thead>\n",
       "  <tbody>\n",
       "    <tr>\n",
       "      <th>0</th>\n",
       "      <td>IDCJAC0010</td>\n",
       "      <td>86338</td>\n",
       "      <td>2015</td>\n",
       "      <td>1</td>\n",
       "      <td>1</td>\n",
       "      <td>1</td>\n",
       "      <td>Thursday</td>\n",
       "      <td>13.3</td>\n",
       "      <td>26.9</td>\n",
       "    </tr>\n",
       "    <tr>\n",
       "      <th>1</th>\n",
       "      <td>IDCJAC0010</td>\n",
       "      <td>86338</td>\n",
       "      <td>2015</td>\n",
       "      <td>1</td>\n",
       "      <td>2</td>\n",
       "      <td>2</td>\n",
       "      <td>Friday</td>\n",
       "      <td>15.4</td>\n",
       "      <td>38.8</td>\n",
       "    </tr>\n",
       "    <tr>\n",
       "      <th>2</th>\n",
       "      <td>IDCJAC0010</td>\n",
       "      <td>86338</td>\n",
       "      <td>2015</td>\n",
       "      <td>1</td>\n",
       "      <td>3</td>\n",
       "      <td>3</td>\n",
       "      <td>Saturday</td>\n",
       "      <td>20.0</td>\n",
       "      <td>38.2</td>\n",
       "    </tr>\n",
       "    <tr>\n",
       "      <th>3</th>\n",
       "      <td>IDCJAC0010</td>\n",
       "      <td>86338</td>\n",
       "      <td>2015</td>\n",
       "      <td>1</td>\n",
       "      <td>4</td>\n",
       "      <td>4</td>\n",
       "      <td>Sunday</td>\n",
       "      <td>16.3</td>\n",
       "      <td>21.4</td>\n",
       "    </tr>\n",
       "    <tr>\n",
       "      <th>4</th>\n",
       "      <td>IDCJAC0010</td>\n",
       "      <td>86338</td>\n",
       "      <td>2015</td>\n",
       "      <td>1</td>\n",
       "      <td>5</td>\n",
       "      <td>5</td>\n",
       "      <td>Monday</td>\n",
       "      <td>15.0</td>\n",
       "      <td>22.0</td>\n",
       "    </tr>\n",
       "    <tr>\n",
       "      <th>...</th>\n",
       "      <td>...</td>\n",
       "      <td>...</td>\n",
       "      <td>...</td>\n",
       "      <td>...</td>\n",
       "      <td>...</td>\n",
       "      <td>...</td>\n",
       "      <td>...</td>\n",
       "      <td>...</td>\n",
       "      <td>...</td>\n",
       "    </tr>\n",
       "    <tr>\n",
       "      <th>2284</th>\n",
       "      <td>IDCJAC0010</td>\n",
       "      <td>86338</td>\n",
       "      <td>2021</td>\n",
       "      <td>4</td>\n",
       "      <td>3</td>\n",
       "      <td>93</td>\n",
       "      <td>Saturday</td>\n",
       "      <td>15.1</td>\n",
       "      <td>31.6</td>\n",
       "    </tr>\n",
       "    <tr>\n",
       "      <th>2285</th>\n",
       "      <td>IDCJAC0010</td>\n",
       "      <td>86338</td>\n",
       "      <td>2021</td>\n",
       "      <td>4</td>\n",
       "      <td>4</td>\n",
       "      <td>94</td>\n",
       "      <td>Sunday</td>\n",
       "      <td>15.2</td>\n",
       "      <td>24.5</td>\n",
       "    </tr>\n",
       "    <tr>\n",
       "      <th>2286</th>\n",
       "      <td>IDCJAC0010</td>\n",
       "      <td>86338</td>\n",
       "      <td>2021</td>\n",
       "      <td>4</td>\n",
       "      <td>5</td>\n",
       "      <td>95</td>\n",
       "      <td>Monday</td>\n",
       "      <td>16.0</td>\n",
       "      <td>19.0</td>\n",
       "    </tr>\n",
       "    <tr>\n",
       "      <th>2287</th>\n",
       "      <td>IDCJAC0010</td>\n",
       "      <td>86338</td>\n",
       "      <td>2021</td>\n",
       "      <td>4</td>\n",
       "      <td>6</td>\n",
       "      <td>96</td>\n",
       "      <td>Tuesday</td>\n",
       "      <td>12.8</td>\n",
       "      <td>20.2</td>\n",
       "    </tr>\n",
       "    <tr>\n",
       "      <th>2288</th>\n",
       "      <td>IDCJAC0010</td>\n",
       "      <td>86338</td>\n",
       "      <td>2021</td>\n",
       "      <td>4</td>\n",
       "      <td>7</td>\n",
       "      <td>97</td>\n",
       "      <td>Wednesday</td>\n",
       "      <td>14.9</td>\n",
       "      <td>23.0</td>\n",
       "    </tr>\n",
       "  </tbody>\n",
       "</table>\n",
       "<p>2289 rows × 9 columns</p>\n",
       "</div>"
      ],
      "text/plain": [
       "     Product code  Bureau of Meteorology station number  Year  Month  Day  \\\n",
       "0      IDCJAC0010                                 86338  2015      1    1   \n",
       "1      IDCJAC0010                                 86338  2015      1    2   \n",
       "2      IDCJAC0010                                 86338  2015      1    3   \n",
       "3      IDCJAC0010                                 86338  2015      1    4   \n",
       "4      IDCJAC0010                                 86338  2015      1    5   \n",
       "...           ...                                   ...   ...    ...  ...   \n",
       "2284   IDCJAC0010                                 86338  2021      4    3   \n",
       "2285   IDCJAC0010                                 86338  2021      4    4   \n",
       "2286   IDCJAC0010                                 86338  2021      4    5   \n",
       "2287   IDCJAC0010                                 86338  2021      4    6   \n",
       "2288   IDCJAC0010                                 86338  2021      4    7   \n",
       "\n",
       "      Day of the Year Day of the Week  Minimum temperature (Degree C)  \\\n",
       "0                   1        Thursday                            13.3   \n",
       "1                   2          Friday                            15.4   \n",
       "2                   3        Saturday                            20.0   \n",
       "3                   4          Sunday                            16.3   \n",
       "4                   5          Monday                            15.0   \n",
       "...               ...             ...                             ...   \n",
       "2284               93        Saturday                            15.1   \n",
       "2285               94          Sunday                            15.2   \n",
       "2286               95          Monday                            16.0   \n",
       "2287               96         Tuesday                            12.8   \n",
       "2288               97       Wednesday                            14.9   \n",
       "\n",
       "      Maximum temperature (Degree C)  \n",
       "0                               26.9  \n",
       "1                               38.8  \n",
       "2                               38.2  \n",
       "3                               21.4  \n",
       "4                               22.0  \n",
       "...                              ...  \n",
       "2284                            31.6  \n",
       "2285                            24.5  \n",
       "2286                            19.0  \n",
       "2287                            20.2  \n",
       "2288                            23.0  \n",
       "\n",
       "[2289 rows x 9 columns]"
      ]
     },
     "execution_count": 5,
     "metadata": {},
     "output_type": "execute_result"
    }
   ],
   "source": [
    "#import Min Max Temperature (already formatted in Excel)\n",
    "\n",
    "MinMax = pd.read_csv('Min Max Temp.csv')\n",
    "MinMax"
   ]
  },
  {
   "cell_type": "code",
   "execution_count": 6,
   "metadata": {},
   "outputs": [
    {
     "data": {
      "text/plain": [
       "(2289, 9)"
      ]
     },
     "execution_count": 6,
     "metadata": {},
     "output_type": "execute_result"
    }
   ],
   "source": [
    "MinMax.shape"
   ]
  },
  {
   "cell_type": "code",
   "execution_count": 7,
   "metadata": {},
   "outputs": [
    {
     "name": "stdout",
     "output_type": "stream",
     "text": [
      "<class 'pandas.core.frame.DataFrame'>\n",
      "RangeIndex: 2289 entries, 0 to 2288\n",
      "Data columns (total 9 columns):\n",
      " #   Column                                Non-Null Count  Dtype  \n",
      "---  ------                                --------------  -----  \n",
      " 0   Product code                          2289 non-null   object \n",
      " 1   Bureau of Meteorology station number  2289 non-null   int64  \n",
      " 2   Year                                  2289 non-null   int64  \n",
      " 3   Month                                 2289 non-null   int64  \n",
      " 4   Day                                   2289 non-null   int64  \n",
      " 5   Day of the Year                       2289 non-null   int64  \n",
      " 6   Day of the Week                       2289 non-null   object \n",
      " 7   Minimum temperature (Degree C)        2289 non-null   float64\n",
      " 8   Maximum temperature (Degree C)        2289 non-null   float64\n",
      "dtypes: float64(2), int64(5), object(2)\n",
      "memory usage: 161.1+ KB\n"
     ]
    }
   ],
   "source": [
    "MinMax.info()"
   ]
  },
  {
   "cell_type": "code",
   "execution_count": 8,
   "metadata": {},
   "outputs": [
    {
     "data": {
      "text/plain": [
       "Product code                            0\n",
       "Bureau of Meteorology station number    0\n",
       "Year                                    0\n",
       "Month                                   0\n",
       "Day                                     0\n",
       "Day of the Year                         0\n",
       "Day of the Week                         0\n",
       "Minimum temperature (Degree C)          0\n",
       "Maximum temperature (Degree C)          0\n",
       "dtype: int64"
      ]
     },
     "execution_count": 8,
     "metadata": {},
     "output_type": "execute_result"
    }
   ],
   "source": [
    "#Check for missing values\n",
    "\n",
    "MinMax.isnull().sum()"
   ]
  },
  {
   "cell_type": "code",
   "execution_count": 9,
   "metadata": {},
   "outputs": [
    {
     "data": {
      "text/plain": [
       "(2289, 7)"
      ]
     },
     "execution_count": 9,
     "metadata": {},
     "output_type": "execute_result"
    }
   ],
   "source": [
    "#Delete columns that are irrelevant for prediction\n",
    "\n",
    "MinMax = MinMax.drop(columns = [\"Product code\", \"Bureau of Meteorology station number\"])\n",
    "MinMax.shape"
   ]
  },
  {
   "cell_type": "code",
   "execution_count": 10,
   "metadata": {},
   "outputs": [
    {
     "data": {
      "text/html": [
       "<div>\n",
       "<style scoped>\n",
       "    .dataframe tbody tr th:only-of-type {\n",
       "        vertical-align: middle;\n",
       "    }\n",
       "\n",
       "    .dataframe tbody tr th {\n",
       "        vertical-align: top;\n",
       "    }\n",
       "\n",
       "    .dataframe thead th {\n",
       "        text-align: right;\n",
       "    }\n",
       "</style>\n",
       "<table border=\"1\" class=\"dataframe\">\n",
       "  <thead>\n",
       "    <tr style=\"text-align: right;\">\n",
       "      <th></th>\n",
       "      <th>Year</th>\n",
       "      <th>Month</th>\n",
       "      <th>Day</th>\n",
       "      <th>Day of the Year</th>\n",
       "      <th>Day of the Week</th>\n",
       "      <th>Min</th>\n",
       "      <th>Max</th>\n",
       "    </tr>\n",
       "  </thead>\n",
       "  <tbody>\n",
       "    <tr>\n",
       "      <th>0</th>\n",
       "      <td>2015</td>\n",
       "      <td>1</td>\n",
       "      <td>1</td>\n",
       "      <td>1</td>\n",
       "      <td>Thursday</td>\n",
       "      <td>13.3</td>\n",
       "      <td>26.9</td>\n",
       "    </tr>\n",
       "    <tr>\n",
       "      <th>1</th>\n",
       "      <td>2015</td>\n",
       "      <td>1</td>\n",
       "      <td>2</td>\n",
       "      <td>2</td>\n",
       "      <td>Friday</td>\n",
       "      <td>15.4</td>\n",
       "      <td>38.8</td>\n",
       "    </tr>\n",
       "    <tr>\n",
       "      <th>2</th>\n",
       "      <td>2015</td>\n",
       "      <td>1</td>\n",
       "      <td>3</td>\n",
       "      <td>3</td>\n",
       "      <td>Saturday</td>\n",
       "      <td>20.0</td>\n",
       "      <td>38.2</td>\n",
       "    </tr>\n",
       "    <tr>\n",
       "      <th>3</th>\n",
       "      <td>2015</td>\n",
       "      <td>1</td>\n",
       "      <td>4</td>\n",
       "      <td>4</td>\n",
       "      <td>Sunday</td>\n",
       "      <td>16.3</td>\n",
       "      <td>21.4</td>\n",
       "    </tr>\n",
       "    <tr>\n",
       "      <th>4</th>\n",
       "      <td>2015</td>\n",
       "      <td>1</td>\n",
       "      <td>5</td>\n",
       "      <td>5</td>\n",
       "      <td>Monday</td>\n",
       "      <td>15.0</td>\n",
       "      <td>22.0</td>\n",
       "    </tr>\n",
       "    <tr>\n",
       "      <th>...</th>\n",
       "      <td>...</td>\n",
       "      <td>...</td>\n",
       "      <td>...</td>\n",
       "      <td>...</td>\n",
       "      <td>...</td>\n",
       "      <td>...</td>\n",
       "      <td>...</td>\n",
       "    </tr>\n",
       "    <tr>\n",
       "      <th>2284</th>\n",
       "      <td>2021</td>\n",
       "      <td>4</td>\n",
       "      <td>3</td>\n",
       "      <td>93</td>\n",
       "      <td>Saturday</td>\n",
       "      <td>15.1</td>\n",
       "      <td>31.6</td>\n",
       "    </tr>\n",
       "    <tr>\n",
       "      <th>2285</th>\n",
       "      <td>2021</td>\n",
       "      <td>4</td>\n",
       "      <td>4</td>\n",
       "      <td>94</td>\n",
       "      <td>Sunday</td>\n",
       "      <td>15.2</td>\n",
       "      <td>24.5</td>\n",
       "    </tr>\n",
       "    <tr>\n",
       "      <th>2286</th>\n",
       "      <td>2021</td>\n",
       "      <td>4</td>\n",
       "      <td>5</td>\n",
       "      <td>95</td>\n",
       "      <td>Monday</td>\n",
       "      <td>16.0</td>\n",
       "      <td>19.0</td>\n",
       "    </tr>\n",
       "    <tr>\n",
       "      <th>2287</th>\n",
       "      <td>2021</td>\n",
       "      <td>4</td>\n",
       "      <td>6</td>\n",
       "      <td>96</td>\n",
       "      <td>Tuesday</td>\n",
       "      <td>12.8</td>\n",
       "      <td>20.2</td>\n",
       "    </tr>\n",
       "    <tr>\n",
       "      <th>2288</th>\n",
       "      <td>2021</td>\n",
       "      <td>4</td>\n",
       "      <td>7</td>\n",
       "      <td>97</td>\n",
       "      <td>Wednesday</td>\n",
       "      <td>14.9</td>\n",
       "      <td>23.0</td>\n",
       "    </tr>\n",
       "  </tbody>\n",
       "</table>\n",
       "<p>2289 rows × 7 columns</p>\n",
       "</div>"
      ],
      "text/plain": [
       "      Year  Month  Day  Day of the Year Day of the Week   Min   Max\n",
       "0     2015      1    1                1        Thursday  13.3  26.9\n",
       "1     2015      1    2                2          Friday  15.4  38.8\n",
       "2     2015      1    3                3        Saturday  20.0  38.2\n",
       "3     2015      1    4                4          Sunday  16.3  21.4\n",
       "4     2015      1    5                5          Monday  15.0  22.0\n",
       "...    ...    ...  ...              ...             ...   ...   ...\n",
       "2284  2021      4    3               93        Saturday  15.1  31.6\n",
       "2285  2021      4    4               94          Sunday  15.2  24.5\n",
       "2286  2021      4    5               95          Monday  16.0  19.0\n",
       "2287  2021      4    6               96         Tuesday  12.8  20.2\n",
       "2288  2021      4    7               97       Wednesday  14.9  23.0\n",
       "\n",
       "[2289 rows x 7 columns]"
      ]
     },
     "execution_count": 10,
     "metadata": {},
     "output_type": "execute_result"
    }
   ],
   "source": [
    "#Rename min and max columns for easier coding\n",
    "\n",
    "MinMax = MinMax.rename(columns = {'Minimum temperature (Degree C)': 'Min'})\n",
    "MinMax = MinMax.rename(columns = {'Maximum temperature (Degree C)': 'Max'})\n",
    "MinMax\n"
   ]
  },
  {
   "cell_type": "code",
   "execution_count": 11,
   "metadata": {},
   "outputs": [
    {
     "name": "stdout",
     "output_type": "stream",
     "text": [
      "r value (Min) is: -0.009218111769541591\n",
      "r value (Max) is: -0.010700769733552119\n"
     ]
    }
   ],
   "source": [
    "#Test for predictive values of columns\n",
    "from scipy import stats\n",
    "a = MinMax['Day']\n",
    "b = MinMax['Min']\n",
    "c = MinMax['Max']\n",
    "print(\"r value (Min) is:\", stats.pearsonr(a,b)[0])\n",
    "print(\"r value (Max) is:\", stats.pearsonr(a,c)[0])"
   ]
  },
  {
   "cell_type": "code",
   "execution_count": 12,
   "metadata": {},
   "outputs": [
    {
     "name": "stdout",
     "output_type": "stream",
     "text": [
      "r value (Min) is: -0.28855363275401014\n",
      "r value (Max) is: -0.19512225024695978\n"
     ]
    }
   ],
   "source": [
    "#Test for predictive values of columns\n",
    "a = MinMax['Day of the Year']\n",
    "b = MinMax['Min']\n",
    "c = MinMax['Max']\n",
    "print(\"r value (Min) is:\", stats.pearsonr(a,b)[0])\n",
    "print(\"r value (Max) is:\", stats.pearsonr(a,c)[0])"
   ]
  },
  {
   "cell_type": "code",
   "execution_count": 13,
   "metadata": {},
   "outputs": [
    {
     "name": "stdout",
     "output_type": "stream",
     "text": [
      "r value (Min) is: 0.031119063230355272\n",
      "r value (Max) is: 0.034747609209749716\n"
     ]
    }
   ],
   "source": [
    "#Test for predictive values of columns\n",
    "a = MinMax['Year']\n",
    "b = MinMax['Min']\n",
    "c = MinMax['Max']\n",
    "print(\"r value (Min) is:\", stats.pearsonr(a,b)[0])\n",
    "print(\"r value (Max) is:\", stats.pearsonr(a,c)[0])"
   ]
  },
  {
   "cell_type": "code",
   "execution_count": 14,
   "metadata": {},
   "outputs": [
    {
     "name": "stdout",
     "output_type": "stream",
     "text": [
      "r value (Min) is: -0.2910706019009437\n",
      "r value (Max) is: -0.19692108832941452\n"
     ]
    }
   ],
   "source": [
    "a = MinMax['Month']\n",
    "b = MinMax['Min']\n",
    "c = MinMax['Max']\n",
    "print(\"r value (Min) is:\", stats.pearsonr(a,b)[0])\n",
    "print(\"r value (Max) is:\", stats.pearsonr(a,c)[0])"
   ]
  },
  {
   "cell_type": "markdown",
   "metadata": {},
   "source": [
    "#### Day of the Month < r = |0.01| and Year < r = |0.04| consider removing for better prediction. "
   ]
  },
  {
   "cell_type": "code",
   "execution_count": 15,
   "metadata": {},
   "outputs": [
    {
     "data": {
      "text/plain": [
       "Year                 int64\n",
       "Month                int64\n",
       "Day                 object\n",
       "Day of the Year      int64\n",
       "Day of the Week     object\n",
       "Min                float64\n",
       "Max                float64\n",
       "dtype: object"
      ]
     },
     "execution_count": 15,
     "metadata": {},
     "output_type": "execute_result"
    }
   ],
   "source": [
    "MinMax['Day'] = MinMax['Day'].astype(str)\n",
    "MinMax.dtypes"
   ]
  },
  {
   "cell_type": "code",
   "execution_count": 16,
   "metadata": {},
   "outputs": [
    {
     "data": {
      "image/png": "[encoded data removed]",
      "text/plain": [
       "<Figure size 864x576 with 1 Axes>"
      ]
     },
     "metadata": {
      "needs_background": "light"
     },
     "output_type": "display_data"
    }
   ],
   "source": [
    "#Box plots of Day of Month for Minimum temperature\n",
    "from matplotlib import figure\n",
    "\n",
    "plt.figure(figsize=(12,8))\n",
    "sns.boxplot(x= 'Day', y= 'Min',data = MinMax)\n",
    "plt.show()\n"
   ]
  },
  {
   "cell_type": "code",
   "execution_count": 17,
   "metadata": {},
   "outputs": [
    {
     "data": {
      "image/png": "[encoded data removed]",
      "text/plain": [
       "<Figure size 864x576 with 1 Axes>"
      ]
     },
     "metadata": {
      "needs_background": "light"
     },
     "output_type": "display_data"
    }
   ],
   "source": [
    "#Box plots of Day of Month for Maximum temperature\n",
    "\n",
    "plt.figure(figsize=(12,8))\n",
    "sns.boxplot(x= 'Day', y= 'Max',data = MinMax)\n",
    "plt.show()"
   ]
  },
  {
   "cell_type": "code",
   "execution_count": 18,
   "metadata": {},
   "outputs": [
    {
     "data": {
      "image/png": "[encoded data removed]",
      "text/plain": [
       "<Figure size 864x576 with 1 Axes>"
      ]
     },
     "metadata": {
      "needs_background": "light"
     },
     "output_type": "display_data"
    }
   ],
   "source": [
    "#Box plots of Day of the Week for Minimum temperature\n",
    "\n",
    "plt.figure(figsize=(12,8))\n",
    "sns.boxplot(x= 'Day of the Week', y= 'Min',data = MinMax)\n",
    "plt.show()"
   ]
  },
  {
   "cell_type": "code",
   "execution_count": 19,
   "metadata": {},
   "outputs": [
    {
     "data": {
      "image/png": "[encoded data removed]",
      "text/plain": [
       "<Figure size 864x576 with 1 Axes>"
      ]
     },
     "metadata": {
      "needs_background": "light"
     },
     "output_type": "display_data"
    }
   ],
   "source": [
    "#Box plots of Day of the Week for Maximum temperature\n",
    "\n",
    "plt.figure(figsize=(12,8))\n",
    "sns.boxplot(x= 'Day of the Week', y= 'Max',data = MinMax)\n",
    "plt.show()"
   ]
  },
  {
   "cell_type": "code",
   "execution_count": 20,
   "metadata": {},
   "outputs": [
    {
     "data": {
      "image/png": "[encoded data removed]",
      "text/plain": [
       "<Figure size 864x576 with 1 Axes>"
      ]
     },
     "metadata": {
      "needs_background": "light"
     },
     "output_type": "display_data"
    }
   ],
   "source": [
    "#Box plots of Month for Minumum temperature\n",
    "\n",
    "plt.figure(figsize=(12,8))\n",
    "sns.boxplot(x= 'Month', y= 'Min',data = MinMax)\n",
    "plt.show()\n"
   ]
  },
  {
   "cell_type": "code",
   "execution_count": 21,
   "metadata": {},
   "outputs": [
    {
     "data": {
      "image/png": "[encoded data removed]",
      "text/plain": [
       "<Figure size 864x576 with 1 Axes>"
      ]
     },
     "metadata": {
      "needs_background": "light"
     },
     "output_type": "display_data"
    }
   ],
   "source": [
    "#Box plots of Month for Maximum temperature\n",
    "\n",
    "plt.figure(figsize=(12,8))\n",
    "sns.boxplot(x= 'Month', y= 'Max',data = MinMax)\n",
    "plt.show()"
   ]
  },
  {
   "cell_type": "code",
   "execution_count": 22,
   "metadata": {},
   "outputs": [
    {
     "data": {
      "text/plain": [
       "<matplotlib.axes._subplots.AxesSubplot at 0x7fdbeab07990>"
      ]
     },
     "execution_count": 22,
     "metadata": {},
     "output_type": "execute_result"
    },
    {
     "data": {
      "image/png": "[encoded data removed]",
      "text/plain": [
       "<Figure size 864x576 with 1 Axes>"
      ]
     },
     "metadata": {
      "needs_background": "light"
     },
     "output_type": "display_data"
    }
   ],
   "source": [
    "#Box plots of Year for Max temperature\n",
    "\n",
    "plt.figure(figsize=(12,8))\n",
    "sns.boxplot(x= 'Year', y= 'Max',data = MinMax)"
   ]
  },
  {
   "cell_type": "code",
   "execution_count": 23,
   "metadata": {},
   "outputs": [
    {
     "data": {
      "image/png": "[encoded data removed]",
      "text/plain": [
       "<Figure size 864x576 with 1 Axes>"
      ]
     },
     "metadata": {
      "needs_background": "light"
     },
     "output_type": "display_data"
    }
   ],
   "source": [
    "#Box plots of Year for Minumum temperature\n",
    "\n",
    "plt.figure(figsize=(12,8))\n",
    "sns.boxplot(x = 'Year', y = 'Min', data = MinMax)\n",
    "plt.show()"
   ]
  },
  {
   "cell_type": "markdown",
   "metadata": {},
   "source": [
    "#### Day of the Week, Day of the Month do not show any identifiable differences consider removing before predicting.  Month does have a clear trend. Year has more variation in the extreames. "
   ]
  },
  {
   "cell_type": "code",
   "execution_count": 24,
   "metadata": {},
   "outputs": [
    {
     "data": {
      "image/png": "[encoded data removed]",
      "text/plain": [
       "<Figure size 432x288 with 1 Axes>"
      ]
     },
     "metadata": {
      "needs_background": "light"
     },
     "output_type": "display_data"
    },
    {
     "data": {
      "text/plain": [
       "<Figure size 432x288 with 0 Axes>"
      ]
     },
     "metadata": {},
     "output_type": "display_data"
    }
   ],
   "source": [
    "#Histogram of Minimum Temperature\n",
    "\n",
    "plt.hist(MinMax['Min'], edgecolor = 'black', bins=30)\n",
    "plt.title('Minimum Temperature')\n",
    "plt.xlabel('bins')\n",
    "plt.ylabel('counts')\n",
    "plt.show()\n",
    "plt.clf()\n",
    "\n",
    "\n"
   ]
  },
  {
   "cell_type": "code",
   "execution_count": 80,
   "metadata": {},
   "outputs": [
    {
     "name": "stdout",
     "output_type": "stream",
     "text": [
      "count    2289.000000\n",
      "mean       11.753997\n",
      "std         4.257914\n",
      "min         0.600000\n",
      "25%         8.700000\n",
      "50%        11.500000\n",
      "75%        14.700000\n",
      "max        28.000000\n",
      "Name: Min, dtype: float64\n",
      "skew: 0.24535447832318097\n"
     ]
    }
   ],
   "source": [
    "#Summary Statistics\n",
    "\n",
    "print(MinMax['Min'].describe())\n",
    "print('skew:', MinMax['Min'].skew())"
   ]
  },
  {
   "cell_type": "code",
   "execution_count": 26,
   "metadata": {},
   "outputs": [
    {
     "data": {
      "image/png": "[encoded data removed]",
      "text/plain": [
       "<Figure size 432x288 with 1 Axes>"
      ]
     },
     "metadata": {
      "needs_background": "light"
     },
     "output_type": "display_data"
    },
    {
     "data": {
      "text/plain": [
       "<Figure size 432x288 with 0 Axes>"
      ]
     },
     "metadata": {},
     "output_type": "display_data"
    }
   ],
   "source": [
    "#Histogram of Maximum Temperature\n",
    "\n",
    "plt.hist(MinMax['Max'], edgecolor = 'black', bins=30)\n",
    "plt.title('Maximum Temperature')\n",
    "plt.xlabel('bins')\n",
    "plt.ylabel('counts')\n",
    "plt.show()\n",
    "plt.clf()"
   ]
  },
  {
   "cell_type": "code",
   "execution_count": 81,
   "metadata": {},
   "outputs": [
    {
     "name": "stdout",
     "output_type": "stream",
     "text": [
      "count    2289.000000\n",
      "mean       20.632591\n",
      "std         6.251114\n",
      "min         9.000000\n",
      "25%        15.800000\n",
      "50%        19.400000\n",
      "75%        24.300000\n",
      "max        43.500000\n",
      "Name: Max, dtype: float64\n",
      "skew: 0.8671657266097922\n"
     ]
    }
   ],
   "source": [
    "#Summary Statistics\n",
    "\n",
    "print(MinMax['Max'].describe())\n",
    "print('skew:', MinMax['Max'].skew())"
   ]
  },
  {
   "cell_type": "markdown",
   "metadata": {},
   "source": [
    "### From the two histograms we can see that the Minimum temperatures have a bell shape but Max temperature is positively skewed"
   ]
  },
  {
   "cell_type": "markdown",
   "metadata": {},
   "source": [
    "#### Maximum temperature needs further investigation.  So sepearte by year and see what is going on."
   ]
  },
  {
   "cell_type": "code",
   "execution_count": 61,
   "metadata": {},
   "outputs": [
    {
     "data": {
      "image/png": "[encoded data removed]",
      "text/plain": [
       "<Figure size 432x288 with 1 Axes>"
      ]
     },
     "metadata": {
      "needs_background": "light"
     },
     "output_type": "display_data"
    },
    {
     "data": {
      "image/png": "[encoded data removed]",
      "text/plain": [
       "<Figure size 432x288 with 1 Axes>"
      ]
     },
     "metadata": {
      "needs_background": "light"
     },
     "output_type": "display_data"
    },
    {
     "data": {
      "image/png": "[encoded data removed]",
      "text/plain": [
       "<Figure size 432x288 with 1 Axes>"
      ]
     },
     "metadata": {
      "needs_background": "light"
     },
     "output_type": "display_data"
    },
    {
     "data": {
      "image/png": "[encoded data removed]",
      "text/plain": [
       "<Figure size 432x288 with 1 Axes>"
      ]
     },
     "metadata": {
      "needs_background": "light"
     },
     "output_type": "display_data"
    },
    {
     "data": {
      "image/png": "[encoded data removed]",
      "text/plain": [
       "<Figure size 432x288 with 1 Axes>"
      ]
     },
     "metadata": {
      "needs_background": "light"
     },
     "output_type": "display_data"
    },
    {
     "data": {
      "image/png": "[encoded data removed]",
      "text/plain": [
       "<Figure size 432x288 with 1 Axes>"
      ]
     },
     "metadata": {
      "needs_background": "light"
     },
     "output_type": "display_data"
    }
   ],
   "source": [
    "#Histogram by Year (Max 2015)\n",
    "\n",
    "plt.hist(MinMax['Max'].iloc[0:365], edgecolor = 'black', bins=30)\n",
    "plt.title('Maximum Temperature in 2015')\n",
    "plt.xlabel('bins')\n",
    "plt.ylabel('counts')\n",
    "plt.xlim([0,45])\n",
    "plt.show()\n",
    "plt.clf()\n",
    "\n",
    "#Max 2016\n",
    "\n",
    "plt.hist(MinMax['Max'].iloc[365:731], edgecolor = 'black', bins=30)\n",
    "plt.title('Maximum Temperature in 2016')\n",
    "plt.xlabel('bins')\n",
    "plt.ylabel('counts')\n",
    "plt.xlim([0,45])\n",
    "plt.show()\n",
    "plt.clf()\n",
    "\n",
    "#Max2017\n",
    "\n",
    "plt.hist(MinMax['Max'].iloc[731:1096], edgecolor = 'black', bins=30)\n",
    "plt.title('Maximum Temperature in 2017')\n",
    "plt.xlabel('bins')\n",
    "plt.ylabel('counts')\n",
    "plt.xlim([0,45])\n",
    "plt.show()\n",
    "\n",
    "#Max 2018\n",
    "\n",
    "plt.hist(MinMax['Max'].iloc[1096:1461], edgecolor = 'black', bins=30)\n",
    "plt.title('Maximum Temperature in 2018')\n",
    "plt.xlabel('bins')\n",
    "plt.ylabel('counts')\n",
    "plt.xlim([0,45])\n",
    "plt.show()\n",
    "plt.clf()\n",
    "\n",
    "#Max 2019\n",
    "\n",
    "plt.hist(MinMax['Max'].iloc[1461:1826], edgecolor = 'black', bins=30)\n",
    "plt.title('Maximum Temperature in 2019')\n",
    "plt.xlabel('bins')\n",
    "plt.ylabel('counts')\n",
    "plt.xlim([0,45])\n",
    "plt.show()\n",
    "\n",
    "\n",
    "#Max 2020\n",
    "plt.hist(MinMax['Max'].iloc[1826:2192], edgecolor = 'black', bins=30)\n",
    "plt.title('Maximum Temperature in 2020')\n",
    "plt.xlabel('bins')\n",
    "plt.ylabel('counts')\n",
    "plt.xlim([0,45])\n",
    "plt.show()"
   ]
  },
  {
   "cell_type": "markdown",
   "metadata": {},
   "source": [
    "#### When aggregated the max temperature follows quite a smooth positively skewed graph.  Yearly it is difficult to see trends.  At first it may seem that if a year has extreame values then it will have a shallower mode and vice versa.  This may give some insight into predicting this years weather data as there may be some extreame temperatures this year.  Further investigation needed.  Histogram summary statistics needed."
   ]
  },
  {
   "cell_type": "code",
   "execution_count": 73,
   "metadata": {},
   "outputs": [
    {
     "name": "stdout",
     "output_type": "stream",
     "text": [
      "count    365.000000\n",
      "mean      20.359178\n",
      "std        6.649688\n",
      "min        9.800000\n",
      "25%       15.000000\n",
      "50%       18.800000\n",
      "75%       24.600000\n",
      "max       41.200000\n",
      "Name: Max, dtype: float64\n",
      "skew: 0.8438026497073926\n"
     ]
    }
   ],
   "source": [
    "#2015\n",
    "\n",
    "\n",
    "print(MinMax['Max'].iloc[0:365].describe())\n",
    "\n",
    "print('skew:', MinMax['Max'].iloc[0:365].skew())"
   ]
  },
  {
   "cell_type": "code",
   "execution_count": 74,
   "metadata": {},
   "outputs": [
    {
     "name": "stdout",
     "output_type": "stream",
     "text": [
      "count    366.000000\n",
      "mean      20.325410\n",
      "std        5.895425\n",
      "min       10.600000\n",
      "25%       15.800000\n",
      "50%       19.050000\n",
      "75%       23.675000\n",
      "max       42.200000\n",
      "Name: Max, dtype: float64\n",
      "skew: 0.9428768963686318\n"
     ]
    }
   ],
   "source": [
    "#2016\n",
    "\n",
    "print(MinMax['Max'].iloc[365:731].describe())\n",
    "print('skew:', MinMax['Max'].iloc[365:731].skew())"
   ]
  },
  {
   "cell_type": "code",
   "execution_count": 82,
   "metadata": {},
   "outputs": [
    {
     "name": "stdout",
     "output_type": "stream",
     "text": [
      "count    365.000000\n",
      "mean      20.875616\n",
      "std        6.434931\n",
      "min        9.000000\n",
      "25%       15.800000\n",
      "50%       19.000000\n",
      "75%       25.300000\n",
      "max       37.800000\n",
      "Name: Max, dtype: float64\n",
      "skew: 0.9428768963686318\n"
     ]
    }
   ],
   "source": [
    "#2017\n",
    "\n",
    "print(MinMax['Max'].iloc[731:1096].describe())\n",
    "print('skew:', MinMax['Max'].iloc[365:731].skew())"
   ]
  },
  {
   "cell_type": "code",
   "execution_count": 84,
   "metadata": {},
   "outputs": [
    {
     "name": "stdout",
     "output_type": "stream",
     "text": [
      "count    365.000000\n",
      "mean      20.722192\n",
      "std        6.164260\n",
      "min       10.600000\n",
      "25%       15.500000\n",
      "50%       19.800000\n",
      "75%       24.200000\n",
      "max       41.700000\n",
      "Name: Max, dtype: float64\n",
      "skew: 0.8225639805853807\n"
     ]
    }
   ],
   "source": [
    "#2018\n",
    "\n",
    "print(MinMax['Max'].iloc[1096:1461].describe())\n",
    "print('skew:', MinMax['Max'].iloc[1096:1461].skew())"
   ]
  },
  {
   "cell_type": "code",
   "execution_count": 85,
   "metadata": {},
   "outputs": [
    {
     "name": "stdout",
     "output_type": "stream",
     "text": [
      "count    365.000000\n",
      "mean      20.756164\n",
      "std        6.558104\n",
      "min        9.600000\n",
      "25%       15.800000\n",
      "50%       19.600000\n",
      "75%       23.900000\n",
      "max       43.500000\n",
      "Name: Max, dtype: float64\n",
      "skew: 1.1043210523172733\n"
     ]
    }
   ],
   "source": [
    "#2019\n",
    "\n",
    "print(MinMax['Max'].iloc[1461:1826].describe())\n",
    "print('skew:', MinMax['Max'].iloc[1461:1826].skew())"
   ]
  },
  {
   "cell_type": "code",
   "execution_count": 86,
   "metadata": {},
   "outputs": [
    {
     "name": "stdout",
     "output_type": "stream",
     "text": [
      "count    366.000000\n",
      "mean      19.856557\n",
      "std        5.810614\n",
      "min       10.300000\n",
      "25%       15.625000\n",
      "50%       18.650000\n",
      "75%       22.800000\n",
      "max       42.900000\n",
      "Name: Max, dtype: float64\n",
      "skew: 0.9758570474392516\n"
     ]
    }
   ],
   "source": [
    "#2020\n",
    "\n",
    "print(MinMax['Max'].iloc[1826:2192].describe())\n",
    "print('skew:', MinMax['Max'].iloc[1826:2192].skew())"
   ]
  },
  {
   "cell_type": "markdown",
   "metadata": {},
   "source": [
    "#### Depending on the max values of 2021 it may be possible to detect the overal shape of 2021's histogram.  Is it more like 2019 with a lot of skew or perhaps like 2018.  Let's test to find out."
   ]
  },
  {
   "cell_type": "code",
   "execution_count": 91,
   "metadata": {},
   "outputs": [
    {
     "data": {
      "image/png": "[encoded data removed]",
      "text/plain": [
       "<Figure size 432x288 with 1 Axes>"
      ]
     },
     "metadata": {
      "needs_background": "light"
     },
     "output_type": "display_data"
    },
    {
     "name": "stdout",
     "output_type": "stream",
     "text": [
      "count    97.000000\n",
      "mean     24.031959\n",
      "std       4.904856\n",
      "min      17.700000\n",
      "25%      20.200000\n",
      "50%      22.600000\n",
      "75%      26.700000\n",
      "max      39.200000\n",
      "Name: Max, dtype: float64\n",
      "skew: 0.9758570474392516\n"
     ]
    }
   ],
   "source": [
    "#Max 2021\n",
    "plt.hist(MinMax['Max'].iloc[2192:], edgecolor = 'black', bins=20)\n",
    "plt.title('Maximum Temperature in 2021')\n",
    "plt.xlabel('bins')\n",
    "plt.ylabel('counts')\n",
    "plt.xlim([0,45])\n",
    "plt.show()\n",
    "\n",
    "#Max 2020\n",
    "print(MinMax['Max'].iloc[2192:].describe())\n",
    "print('skew:', MinMax['Max'].iloc[1826:2192:].skew())"
   ]
  },
  {
   "cell_type": "markdown",
   "metadata": {},
   "source": [
    "#### Still not enough information.  Look at histograms of the first 96 days of each year and see which one most closely resembles the first 96 days of 2021.  Then get a similarity score and see if the machine learning algorithm can beat the accuracy of the year chosen. If not then use the year chosen as the prediction."
   ]
  },
  {
   "cell_type": "code",
   "execution_count": 93,
   "metadata": {},
   "outputs": [
    {
     "data": {
      "image/png": "[encoded data removed]",
      "text/plain": [
       "<Figure size 432x288 with 1 Axes>"
      ]
     },
     "metadata": {
      "needs_background": "light"
     },
     "output_type": "display_data"
    },
    {
     "data": {
      "image/png": "[encoded data removed]",
      "text/plain": [
       "<Figure size 432x288 with 1 Axes>"
      ]
     },
     "metadata": {
      "needs_background": "light"
     },
     "output_type": "display_data"
    },
    {
     "data": {
      "image/png": "[encoded data removed]",
      "text/plain": [
       "<Figure size 432x288 with 1 Axes>"
      ]
     },
     "metadata": {
      "needs_background": "light"
     },
     "output_type": "display_data"
    },
    {
     "data": {
      "image/png": "[encoded data removed]",
      "text/plain": [
       "<Figure size 432x288 with 1 Axes>"
      ]
     },
     "metadata": {
      "needs_background": "light"
     },
     "output_type": "display_data"
    },
    {
     "data": {
      "image/png": "[encoded data removed]",
      "text/plain": [
       "<Figure size 432x288 with 1 Axes>"
      ]
     },
     "metadata": {
      "needs_background": "light"
     },
     "output_type": "display_data"
    },
    {
     "data": {
      "image/png": "[encoded data removed]",
      "text/plain": [
       "<Figure size 432x288 with 1 Axes>"
      ]
     },
     "metadata": {
      "needs_background": "light"
     },
     "output_type": "display_data"
    },
    {
     "data": {
      "image/png": "[encoded data removed]",
      "text/plain": [
       "<Figure size 432x288 with 1 Axes>"
      ]
     },
     "metadata": {
      "needs_background": "light"
     },
     "output_type": "display_data"
    },
    {
     "data": {
      "image/png": "[encoded data removed]",
      "text/plain": [
       "<Figure size 432x288 with 1 Axes>"
      ]
     },
     "metadata": {
      "needs_background": "light"
     },
     "output_type": "display_data"
    }
   ],
   "source": [
    "#First 96 days of each year.\n",
    "\n",
    "#Target Year 2021\n",
    "\n",
    "plt.hist(MinMax['Max'].iloc[2192:], edgecolor = 'black', bins=20)\n",
    "plt.title('Target Year 2021')\n",
    "plt.xlabel('bins')\n",
    "plt.ylabel('counts')\n",
    "plt.xlim([0,45])\n",
    "plt.show()\n",
    "\n",
    "#Max 2015\n",
    "\n",
    "plt.hist(MinMax['Max'].iloc[0:96], edgecolor = 'black', bins=20)\n",
    "plt.title('Maximum Temperature in 2015')\n",
    "plt.xlabel('bins')\n",
    "plt.ylabel('counts')\n",
    "plt.xlim([0,45])\n",
    "plt.show()\n",
    "plt.clf()\n",
    "\n",
    "#Max 2016\n",
    "\n",
    "plt.hist(MinMax['Max'].iloc[365:461], edgecolor = 'black', bins=20)\n",
    "plt.title('Maximum Temperature in 2016')\n",
    "plt.xlabel('bins')\n",
    "plt.ylabel('counts')\n",
    "plt.xlim([0,45])\n",
    "plt.show()\n",
    "plt.clf()\n",
    "\n",
    "#Max2017\n",
    "\n",
    "plt.hist(MinMax['Max'].iloc[731:827], edgecolor = 'black', bins=20)\n",
    "plt.title('Maximum Temperature in 2017')\n",
    "plt.xlabel('bins')\n",
    "plt.ylabel('counts')\n",
    "plt.xlim([0,45])\n",
    "plt.show()\n",
    "\n",
    "#Max 2018\n",
    "\n",
    "plt.hist(MinMax['Max'].iloc[1096:1192], edgecolor = 'black', bins=20)\n",
    "plt.title('Maximum Temperature in 2018')\n",
    "plt.xlabel('bins')\n",
    "plt.ylabel('counts')\n",
    "plt.xlim([0,45])\n",
    "plt.show()\n",
    "plt.clf()\n",
    "\n",
    "#Max 2019\n",
    "\n",
    "plt.hist(MinMax['Max'].iloc[1461:1557], edgecolor = 'black', bins=20)\n",
    "plt.title('Maximum Temperature in 2019')\n",
    "plt.xlabel('bins')\n",
    "plt.ylabel('counts')\n",
    "plt.xlim([0,45])\n",
    "plt.show()\n",
    "\n",
    "\n",
    "#Max 2020\n",
    "plt.hist(MinMax['Max'].iloc[1826:1922], edgecolor = 'black', bins=20)\n",
    "plt.title('Maximum Temperature in 2020')\n",
    "plt.xlabel('bins')\n",
    "plt.ylabel('counts')\n",
    "plt.xlim([0,45])\n",
    "plt.show()\n",
    "\n",
    "\n",
    "#Target Year 2021\n",
    "\n",
    "plt.hist(MinMax['Max'].iloc[2192:], edgecolor = 'black', bins=20)\n",
    "plt.title('Target Year 2021')\n",
    "plt.xlabel('bins')\n",
    "plt.ylabel('counts')\n",
    "plt.xlim([0,45])\n",
    "plt.show()"
   ]
  },
  {
   "cell_type": "markdown",
   "metadata": {},
   "source": [
    "#### Looks similar to 2016 or 2018.  Let's find the simliarity score of each year's first 96 days and then compare with 2021. And this can be our benchmark for the ML algorithms."
   ]
  },
  {
   "cell_type": "code",
   "execution_count": 99,
   "metadata": {},
   "outputs": [
    {
     "name": "stdout",
     "output_type": "stream",
     "text": [
      "x=2015, y=2021 Ks_2sampResult(statistic=0.1092139175257732, pvalue=0.5575608068386082)\n",
      "x=2016, y=2021 Ks_2sampResult(statistic=0.18395618556701032, pvalue=0.05932586904347725)\n",
      "x=2017, y=2021 Ks_2sampResult(statistic=0.234106529209622, pvalue=0.007463106478503567)\n",
      "x=2018, y=2021 Ks_2sampResult(statistic=0.23636168384879724, pvalue=0.0063942749847359925)\n",
      "x=2019, y=2021 Ks_2sampResult(statistic=0.234643470790378, pvalue=0.0070238341233427315)\n",
      "x=2030, y=2021 Ks_2sampResult(statistic=0.09901202749140893, pvalue=0.6759793062920387)\n"
     ]
    }
   ],
   "source": [
    "#KS 2 sample test for Max values\n",
    "\n",
    "#2015\n",
    "\n",
    "print('x=2015, y=2021', stats.ks_2samp(MinMax['Max'].iloc[0:96], MinMax['Max'].iloc[2192:]))\n",
    "\n",
    "#2016\n",
    "print('x=2016, y=2021', stats.ks_2samp(MinMax['Max'].iloc[365:461], MinMax['Max'].iloc[2192:]))\n",
    "\n",
    "#2017\n",
    "print('x=2017, y=2021', stats.ks_2samp(MinMax['Max'].iloc[731:827], MinMax['Max'].iloc[2192:]))\n",
    "\n",
    "#2018\n",
    "print('x=2018, y=2021', stats.ks_2samp(MinMax['Max'].iloc[1096:1192], MinMax['Max'].iloc[2192:]))\n",
    "\n",
    "#2019\n",
    "print('x=2019, y=2021', stats.ks_2samp(MinMax['Max'].iloc[1461:1557], MinMax['Max'].iloc[2192:]))\n",
    "\n",
    "#2020\n",
    "print('x=2030, y=2021', stats.ks_2samp(MinMax['Max'].iloc[1826:1922], MinMax['Max'].iloc[2192:]))"
   ]
  },
  {
   "cell_type": "markdown",
   "metadata": {},
   "source": [
    "#### It seems as if 2018 has the highest KS statistic with 0.236.  An ordered KS test might give further insight into the data and also eliminate day to day variation"
   ]
  },
  {
   "cell_type": "code",
   "execution_count": 106,
   "metadata": {},
   "outputs": [
    {
     "data": {
      "text/plain": [
       "Ks_2sampResult(statistic=0.1092139175257732, pvalue=0.5575608068386082)"
      ]
     },
     "execution_count": 106,
     "metadata": {},
     "output_type": "execute_result"
    }
   ],
   "source": [
    "stats.ks_2samp(MinMax['Max'][0:96].sort_values(), MinMax['Max'][2192:].sort_values())"
   ]
  },
  {
   "cell_type": "code",
   "execution_count": 107,
   "metadata": {},
   "outputs": [
    {
     "data": {
      "text/plain": [
       "Ks_2sampResult(statistic=0.18395618556701032, pvalue=0.05932586904347725)"
      ]
     },
     "execution_count": 107,
     "metadata": {},
     "output_type": "execute_result"
    }
   ],
   "source": [
    "stats.ks_2samp(MinMax['Max'][365:461].sort_values(), MinMax['Max'][2192:].sort_values())"
   ]
  },
  {
   "cell_type": "markdown",
   "metadata": {},
   "source": [
    "#### KS test doesn't order???  Methodology may be wrong (ie. wrong test).  Help needed"
   ]
  },
  {
   "cell_type": "code",
   "execution_count": null,
   "metadata": {},
   "outputs": [],
   "source": []
  }
 ],
 "metadata": {
  "kernelspec": {
   "display_name": "Python 3",
   "language": "python",
   "name": "python3"
  },
  "language_info": {
   "codemirror_mode": {
    "name": "ipython",
    "version": 3
   },
   "file_extension": ".py",
   "mimetype": "text/x-python",
   "name": "python",
   "nbconvert_exporter": "python",
   "pygments_lexer": "ipython3",
   "version": "3.7.6"
  }
 },
 "nbformat": 4,
 "nbformat_minor": 4
}
