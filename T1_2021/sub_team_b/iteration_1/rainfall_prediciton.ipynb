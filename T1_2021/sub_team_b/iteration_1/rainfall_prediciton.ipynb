{
 "metadata": {
  "language_info": {
   "codemirror_mode": {
    "name": "ipython",
    "version": 3
   },
   "file_extension": ".py",
   "mimetype": "text/x-python",
   "name": "python",
   "nbconvert_exporter": "python",
   "pygments_lexer": "ipython3",
   "version": "3.9.2"
  },
  "orig_nbformat": 2,
  "kernelspec": {
   "name": "python392jvsc74a57bd0edcfe1e97213b713098d27a9bfb28b3c90d79ac08738e2c0433d3780f443c2d3",
   "display_name": "Python 3.9.2 64-bit ('py392': conda)"
  },
  "metadata": {
   "interpreter": {
    "hash": "edcfe1e97213b713098d27a9bfb28b3c90d79ac08738e2c0433d3780f443c2d3"
   }
  }
 },
 "nbformat": 4,
 "nbformat_minor": 2,
 "cells": [
  {
   "cell_type": "code",
   "execution_count": 1,
   "metadata": {},
   "outputs": [],
   "source": [
    "import pandas as pd\n",
    "import numpy as np\n",
    "from matplotlib import pyplot as plt\n",
    "import seaborn as sns\n",
    "import warnings\n",
    "from datetime import datetime, timedelta\n",
    "warnings.filterwarnings(\"ignore\")"
   ]
  },
  {
   "cell_type": "code",
   "execution_count": 2,
   "metadata": {},
   "outputs": [
    {
     "output_type": "execute_result",
     "data": {
      "text/plain": [
       "            date  Year Month day of week  Rainfall amount (millimetres)\n",
       "0     2015-01-01  2015   Jan    Thursday                            0.0\n",
       "1     2015-01-02  2015   Jan      Friday                            0.0\n",
       "2     2015-01-03  2015   Jan    Saturday                            0.0\n",
       "3     2015-01-04  2015   Jan      Sunday                            4.2\n",
       "4     2015-01-05  2015   Jan      Monday                            0.0\n",
       "...          ...   ...   ...         ...                            ...\n",
       "2246  2021-02-24  2021   Feb   Wednesday                            0.0\n",
       "2247  2021-02-25  2021   Feb    Thursday                            0.0\n",
       "2248  2021-02-26  2021   Feb      Friday                            0.4\n",
       "2249  2021-02-27  2021   Feb    Saturday                            0.0\n",
       "2250  2021-02-28  2021   Feb      Sunday                            0.0\n",
       "\n",
       "[2251 rows x 5 columns]"
      ],
      "text/html": "<div>\n<style scoped>\n    .dataframe tbody tr th:only-of-type {\n        vertical-align: middle;\n    }\n\n    .dataframe tbody tr th {\n        vertical-align: top;\n    }\n\n    .dataframe thead th {\n        text-align: right;\n    }\n</style>\n<table border=\"1\" class=\"dataframe\">\n  <thead>\n    <tr style=\"text-align: right;\">\n      <th></th>\n      <th>date</th>\n      <th>Year</th>\n      <th>Month</th>\n      <th>day of week</th>\n      <th>Rainfall amount (millimetres)</th>\n    </tr>\n  </thead>\n  <tbody>\n    <tr>\n      <th>0</th>\n      <td>2015-01-01</td>\n      <td>2015</td>\n      <td>Jan</td>\n      <td>Thursday</td>\n      <td>0.0</td>\n    </tr>\n    <tr>\n      <th>1</th>\n      <td>2015-01-02</td>\n      <td>2015</td>\n      <td>Jan</td>\n      <td>Friday</td>\n      <td>0.0</td>\n    </tr>\n    <tr>\n      <th>2</th>\n      <td>2015-01-03</td>\n      <td>2015</td>\n      <td>Jan</td>\n      <td>Saturday</td>\n      <td>0.0</td>\n    </tr>\n    <tr>\n      <th>3</th>\n      <td>2015-01-04</td>\n      <td>2015</td>\n      <td>Jan</td>\n      <td>Sunday</td>\n      <td>4.2</td>\n    </tr>\n    <tr>\n      <th>4</th>\n      <td>2015-01-05</td>\n      <td>2015</td>\n      <td>Jan</td>\n      <td>Monday</td>\n      <td>0.0</td>\n    </tr>\n    <tr>\n      <th>...</th>\n      <td>...</td>\n      <td>...</td>\n      <td>...</td>\n      <td>...</td>\n      <td>...</td>\n    </tr>\n    <tr>\n      <th>2246</th>\n      <td>2021-02-24</td>\n      <td>2021</td>\n      <td>Feb</td>\n      <td>Wednesday</td>\n      <td>0.0</td>\n    </tr>\n    <tr>\n      <th>2247</th>\n      <td>2021-02-25</td>\n      <td>2021</td>\n      <td>Feb</td>\n      <td>Thursday</td>\n      <td>0.0</td>\n    </tr>\n    <tr>\n      <th>2248</th>\n      <td>2021-02-26</td>\n      <td>2021</td>\n      <td>Feb</td>\n      <td>Friday</td>\n      <td>0.4</td>\n    </tr>\n    <tr>\n      <th>2249</th>\n      <td>2021-02-27</td>\n      <td>2021</td>\n      <td>Feb</td>\n      <td>Saturday</td>\n      <td>0.0</td>\n    </tr>\n    <tr>\n      <th>2250</th>\n      <td>2021-02-28</td>\n      <td>2021</td>\n      <td>Feb</td>\n      <td>Sunday</td>\n      <td>0.0</td>\n    </tr>\n  </tbody>\n</table>\n<p>2251 rows × 5 columns</p>\n</div>"
     },
     "metadata": {},
     "execution_count": 2
    }
   ],
   "source": [
    "rainfall  = pd.read_csv('rainfall_dataset.csv')\n",
    "df = rainfall[['date', 'Rainfall amount (millimetres)']]\n",
    "df['date'] = pd.to_datetime(df['date'], format='%Y-%m-%d')\n",
    "\n",
    "rainfall"
   ]
  },
  {
   "cell_type": "code",
   "execution_count": 3,
   "metadata": {},
   "outputs": [
    {
     "output_type": "execute_result",
     "data": {
      "text/plain": [
       "      dayofyear  dayofweek  month  year  Rainfall amount (millimetres)\n",
       "0             1          4      1  2015                            0.0\n",
       "1             2          5      1  2015                            0.0\n",
       "2             3          6      1  2015                            0.0\n",
       "3             4          7      1  2015                            4.2\n",
       "4             5          1      1  2015                            0.0\n",
       "...         ...        ...    ...   ...                            ...\n",
       "2246         55          3      2  2021                            0.0\n",
       "2247         56          4      2  2021                            0.0\n",
       "2248         57          5      2  2021                            0.4\n",
       "2249         58          6      2  2021                            0.0\n",
       "2250         59          7      2  2021                            0.0\n",
       "\n",
       "[2251 rows x 5 columns]"
      ],
      "text/html": "<div>\n<style scoped>\n    .dataframe tbody tr th:only-of-type {\n        vertical-align: middle;\n    }\n\n    .dataframe tbody tr th {\n        vertical-align: top;\n    }\n\n    .dataframe thead th {\n        text-align: right;\n    }\n</style>\n<table border=\"1\" class=\"dataframe\">\n  <thead>\n    <tr style=\"text-align: right;\">\n      <th></th>\n      <th>dayofyear</th>\n      <th>dayofweek</th>\n      <th>month</th>\n      <th>year</th>\n      <th>Rainfall amount (millimetres)</th>\n    </tr>\n  </thead>\n  <tbody>\n    <tr>\n      <th>0</th>\n      <td>1</td>\n      <td>4</td>\n      <td>1</td>\n      <td>2015</td>\n      <td>0.0</td>\n    </tr>\n    <tr>\n      <th>1</th>\n      <td>2</td>\n      <td>5</td>\n      <td>1</td>\n      <td>2015</td>\n      <td>0.0</td>\n    </tr>\n    <tr>\n      <th>2</th>\n      <td>3</td>\n      <td>6</td>\n      <td>1</td>\n      <td>2015</td>\n      <td>0.0</td>\n    </tr>\n    <tr>\n      <th>3</th>\n      <td>4</td>\n      <td>7</td>\n      <td>1</td>\n      <td>2015</td>\n      <td>4.2</td>\n    </tr>\n    <tr>\n      <th>4</th>\n      <td>5</td>\n      <td>1</td>\n      <td>1</td>\n      <td>2015</td>\n      <td>0.0</td>\n    </tr>\n    <tr>\n      <th>...</th>\n      <td>...</td>\n      <td>...</td>\n      <td>...</td>\n      <td>...</td>\n      <td>...</td>\n    </tr>\n    <tr>\n      <th>2246</th>\n      <td>55</td>\n      <td>3</td>\n      <td>2</td>\n      <td>2021</td>\n      <td>0.0</td>\n    </tr>\n    <tr>\n      <th>2247</th>\n      <td>56</td>\n      <td>4</td>\n      <td>2</td>\n      <td>2021</td>\n      <td>0.0</td>\n    </tr>\n    <tr>\n      <th>2248</th>\n      <td>57</td>\n      <td>5</td>\n      <td>2</td>\n      <td>2021</td>\n      <td>0.4</td>\n    </tr>\n    <tr>\n      <th>2249</th>\n      <td>58</td>\n      <td>6</td>\n      <td>2</td>\n      <td>2021</td>\n      <td>0.0</td>\n    </tr>\n    <tr>\n      <th>2250</th>\n      <td>59</td>\n      <td>7</td>\n      <td>2</td>\n      <td>2021</td>\n      <td>0.0</td>\n    </tr>\n  </tbody>\n</table>\n<p>2251 rows × 5 columns</p>\n</div>"
     },
     "metadata": {},
     "execution_count": 3
    }
   ],
   "source": [
    "#get columns with number value\n",
    "df['month'] = df['date'].dt.month\n",
    "df['dayofweek']= df['date'].dt.dayofweek+1\n",
    "df['dayofyear'] = df['date'].dt.dayofyear\n",
    "df['year'] = df['date'].dt.year\n",
    "\n",
    "#order column\n",
    "col = ['dayofyear','dayofweek', 'month', 'year', 'Rainfall amount (millimetres)']\n",
    "df = df[col]\n",
    "df"
   ]
  },
  {
   "cell_type": "code",
   "execution_count": 4,
   "metadata": {},
   "outputs": [
    {
     "output_type": "execute_result",
     "data": {
      "text/plain": [
       "dayofyear                        0\n",
       "dayofweek                        0\n",
       "month                            0\n",
       "year                             0\n",
       "Rainfall amount (millimetres)    0\n",
       "dtype: int64"
      ]
     },
     "metadata": {},
     "execution_count": 4
    }
   ],
   "source": [
    "#check missing value \n",
    "df.isnull().sum()"
   ]
  },
  {
   "cell_type": "code",
   "execution_count": 5,
   "metadata": {},
   "outputs": [
    {
     "output_type": "execute_result",
     "data": {
      "text/plain": [
       "(2251, 5)"
      ]
     },
     "metadata": {},
     "execution_count": 5
    }
   ],
   "source": [
    "#date shape\n",
    "df.shape"
   ]
  },
  {
   "cell_type": "code",
   "execution_count": 6,
   "metadata": {},
   "outputs": [],
   "source": [
    "#train data range 2015 - 2020\n",
    "#test data in 2021\n",
    "#train_condition = (2015 <= df['year']) & (df['year']< 2021)\n",
    "#test_condition = df['year']>=2021\n",
    "#\n",
    "#train_data = df[train_condition]\n",
    "#test_data = df[test_condition]\n",
    "#X_train = train_data.iloc[:,:-1]\n",
    "#Y_train = train_data.iloc[:,-1]\n",
    "#print(X_train, Y_train)\n",
    "#X_test = test_data.iloc[:,:-1]\n",
    "#Y_test = test_data.iloc[:,-1]"
   ]
  },
  {
   "source": [
    "**split dataset**"
   ],
   "cell_type": "markdown",
   "metadata": {}
  },
  {
   "cell_type": "code",
   "execution_count": 7,
   "metadata": {},
   "outputs": [],
   "source": [
    "from sklearn.model_selection import train_test_split\n",
    "X_train, X_test, y_train, y_test = train_test_split(df.iloc[:,:-1],df.iloc[:,-1],test_size=0.33, random_state=42 )\n"
   ]
  },
  {
   "cell_type": "code",
   "execution_count": 8,
   "metadata": {},
   "outputs": [
    {
     "output_type": "execute_result",
     "data": {
      "text/plain": [
       "      dayofyear  dayofweek  month  year\n",
       "1976        151          6      5  2020\n",
       "265         266          3      9  2015\n",
       "376          12          2      1  2016\n",
       "1352        257          5      9  2018\n",
       "1508         48          7      2  2019\n",
       "...         ...        ...    ...   ...\n",
       "1638        178          4      6  2019\n",
       "1095        365          7     12  2017\n",
       "1130         35          7      2  2018\n",
       "1294        199          3      7  2018\n",
       "860         130          3      5  2017\n",
       "\n",
       "[1508 rows x 4 columns]"
      ],
      "text/html": "<div>\n<style scoped>\n    .dataframe tbody tr th:only-of-type {\n        vertical-align: middle;\n    }\n\n    .dataframe tbody tr th {\n        vertical-align: top;\n    }\n\n    .dataframe thead th {\n        text-align: right;\n    }\n</style>\n<table border=\"1\" class=\"dataframe\">\n  <thead>\n    <tr style=\"text-align: right;\">\n      <th></th>\n      <th>dayofyear</th>\n      <th>dayofweek</th>\n      <th>month</th>\n      <th>year</th>\n    </tr>\n  </thead>\n  <tbody>\n    <tr>\n      <th>1976</th>\n      <td>151</td>\n      <td>6</td>\n      <td>5</td>\n      <td>2020</td>\n    </tr>\n    <tr>\n      <th>265</th>\n      <td>266</td>\n      <td>3</td>\n      <td>9</td>\n      <td>2015</td>\n    </tr>\n    <tr>\n      <th>376</th>\n      <td>12</td>\n      <td>2</td>\n      <td>1</td>\n      <td>2016</td>\n    </tr>\n    <tr>\n      <th>1352</th>\n      <td>257</td>\n      <td>5</td>\n      <td>9</td>\n      <td>2018</td>\n    </tr>\n    <tr>\n      <th>1508</th>\n      <td>48</td>\n      <td>7</td>\n      <td>2</td>\n      <td>2019</td>\n    </tr>\n    <tr>\n      <th>...</th>\n      <td>...</td>\n      <td>...</td>\n      <td>...</td>\n      <td>...</td>\n    </tr>\n    <tr>\n      <th>1638</th>\n      <td>178</td>\n      <td>4</td>\n      <td>6</td>\n      <td>2019</td>\n    </tr>\n    <tr>\n      <th>1095</th>\n      <td>365</td>\n      <td>7</td>\n      <td>12</td>\n      <td>2017</td>\n    </tr>\n    <tr>\n      <th>1130</th>\n      <td>35</td>\n      <td>7</td>\n      <td>2</td>\n      <td>2018</td>\n    </tr>\n    <tr>\n      <th>1294</th>\n      <td>199</td>\n      <td>3</td>\n      <td>7</td>\n      <td>2018</td>\n    </tr>\n    <tr>\n      <th>860</th>\n      <td>130</td>\n      <td>3</td>\n      <td>5</td>\n      <td>2017</td>\n    </tr>\n  </tbody>\n</table>\n<p>1508 rows × 4 columns</p>\n</div>"
     },
     "metadata": {},
     "execution_count": 8
    }
   ],
   "source": [
    "X_train"
   ]
  },
  {
   "cell_type": "code",
   "execution_count": 9,
   "metadata": {},
   "outputs": [
    {
     "output_type": "execute_result",
     "data": {
      "text/plain": [
       "      dayofyear  dayofweek  month  year\n",
       "1666        206          4      7  2019\n",
       "1809        349          7     12  2019\n",
       "582         218          5      8  2016\n",
       "247         248          6      9  2015\n",
       "1820        360          4     12  2019\n",
       "...         ...        ...    ...   ...\n",
       "2             3          6      1  2015\n",
       "2228         37          6      2  2021\n",
       "576         212          6      7  2016\n",
       "1436        341          5     12  2018\n",
       "339         340          7     12  2015\n",
       "\n",
       "[743 rows x 4 columns]"
      ],
      "text/html": "<div>\n<style scoped>\n    .dataframe tbody tr th:only-of-type {\n        vertical-align: middle;\n    }\n\n    .dataframe tbody tr th {\n        vertical-align: top;\n    }\n\n    .dataframe thead th {\n        text-align: right;\n    }\n</style>\n<table border=\"1\" class=\"dataframe\">\n  <thead>\n    <tr style=\"text-align: right;\">\n      <th></th>\n      <th>dayofyear</th>\n      <th>dayofweek</th>\n      <th>month</th>\n      <th>year</th>\n    </tr>\n  </thead>\n  <tbody>\n    <tr>\n      <th>1666</th>\n      <td>206</td>\n      <td>4</td>\n      <td>7</td>\n      <td>2019</td>\n    </tr>\n    <tr>\n      <th>1809</th>\n      <td>349</td>\n      <td>7</td>\n      <td>12</td>\n      <td>2019</td>\n    </tr>\n    <tr>\n      <th>582</th>\n      <td>218</td>\n      <td>5</td>\n      <td>8</td>\n      <td>2016</td>\n    </tr>\n    <tr>\n      <th>247</th>\n      <td>248</td>\n      <td>6</td>\n      <td>9</td>\n      <td>2015</td>\n    </tr>\n    <tr>\n      <th>1820</th>\n      <td>360</td>\n      <td>4</td>\n      <td>12</td>\n      <td>2019</td>\n    </tr>\n    <tr>\n      <th>...</th>\n      <td>...</td>\n      <td>...</td>\n      <td>...</td>\n      <td>...</td>\n    </tr>\n    <tr>\n      <th>2</th>\n      <td>3</td>\n      <td>6</td>\n      <td>1</td>\n      <td>2015</td>\n    </tr>\n    <tr>\n      <th>2228</th>\n      <td>37</td>\n      <td>6</td>\n      <td>2</td>\n      <td>2021</td>\n    </tr>\n    <tr>\n      <th>576</th>\n      <td>212</td>\n      <td>6</td>\n      <td>7</td>\n      <td>2016</td>\n    </tr>\n    <tr>\n      <th>1436</th>\n      <td>341</td>\n      <td>5</td>\n      <td>12</td>\n      <td>2018</td>\n    </tr>\n    <tr>\n      <th>339</th>\n      <td>340</td>\n      <td>7</td>\n      <td>12</td>\n      <td>2015</td>\n    </tr>\n  </tbody>\n</table>\n<p>743 rows × 4 columns</p>\n</div>"
     },
     "metadata": {},
     "execution_count": 9
    }
   ],
   "source": [
    "X_test"
   ]
  },
  {
   "cell_type": "code",
   "execution_count": 10,
   "metadata": {},
   "outputs": [
    {
     "output_type": "execute_result",
     "data": {
      "text/plain": [
       "1976    0.0\n",
       "265     0.0\n",
       "376     0.8\n",
       "1352    0.0\n",
       "1508    0.0\n",
       "       ... \n",
       "1638    0.0\n",
       "1095    0.2\n",
       "1130    0.0\n",
       "1294    1.2\n",
       "860     0.0\n",
       "Name: Rainfall amount (millimetres), Length: 1508, dtype: float64"
      ]
     },
     "metadata": {},
     "execution_count": 10
    }
   ],
   "source": [
    "y_train"
   ]
  },
  {
   "cell_type": "code",
   "execution_count": 11,
   "metadata": {},
   "outputs": [
    {
     "output_type": "execute_result",
     "data": {
      "text/plain": [
       "1666    0.0\n",
       "1809    0.0\n",
       "582     0.0\n",
       "247     0.0\n",
       "1820    0.0\n",
       "       ... \n",
       "2       0.0\n",
       "2228    1.6\n",
       "576     2.4\n",
       "1436    0.0\n",
       "339     0.0\n",
       "Name: Rainfall amount (millimetres), Length: 743, dtype: float64"
      ]
     },
     "metadata": {},
     "execution_count": 11
    }
   ],
   "source": [
    "y_test"
   ]
  },
  {
   "cell_type": "code",
   "execution_count": 12,
   "metadata": {},
   "outputs": [],
   "source": [
    "from sklearn.neighbors import KNeighborsRegressor\n",
    "from sklearn.tree import DecisionTreeRegressor\n",
    "from sklearn.ensemble import RandomForestRegressor\n",
    "from sklearn.neural_network import MLPRegressor\n",
    "from sklearn.svm import SVR\n",
    "from sklearn.model_selection import GridSearchCV\n",
    "from sklearn.preprocessing import StandardScaler\n"
   ]
  },
  {
   "cell_type": "code",
   "execution_count": 13,
   "metadata": {},
   "outputs": [
    {
     "output_type": "execute_result",
     "data": {
      "text/plain": [
       "array([[-0.258987  ,  1.00591117, -0.39424171,  1.36408862],\n",
       "       [ 0.81056091, -0.49846639,  0.74467879, -1.47321571],\n",
       "       [-1.55174491, -0.99992558, -1.53316222, -0.90575484],\n",
       "       ...,\n",
       "       [-1.33783533,  1.50737035, -1.2484321 ,  0.22916689],\n",
       "       [ 0.187433  , -0.49846639,  0.17521854,  0.22916689],\n",
       "       [-0.45429575, -0.49846639, -0.39424171, -0.33829398]])"
      ]
     },
     "metadata": {},
     "execution_count": 13
    }
   ],
   "source": [
    "#using standard scaler\n",
    "scaler = StandardScaler()\n",
    "#fit get the mean and standard deviation of the train features \n",
    "#while tranform applies the standardation formular\n",
    "X_train_StandardScaler = scaler.fit_transform(X_train) \n",
    "X_train_StandardScaler"
   ]
  },
  {
   "cell_type": "code",
   "execution_count": 14,
   "metadata": {},
   "outputs": [
    {
     "output_type": "execute_result",
     "data": {
      "text/plain": [
       "array([[ 0.24798612, -0.01003914,  0.17293131,  0.78510655],\n",
       "       [ 1.60008121,  1.48177702,  1.6133793 ,  0.78510655],\n",
       "       [ 0.36144864,  0.48723291,  0.46102091, -0.87839392],\n",
       "       ...,\n",
       "       [ 0.30471738,  0.98450497,  0.17293131, -0.87839392],\n",
       "       [ 1.52443953,  0.48723291,  1.6133793 ,  0.23060639],\n",
       "       [ 1.51498432,  1.48177702,  1.6133793 , -1.43289408]])"
      ]
     },
     "metadata": {},
     "execution_count": 14
    }
   ],
   "source": [
    "X_test_StandardScaler = scaler.fit_transform(X_test) \n",
    "X_test_StandardScaler"
   ]
  },
  {
   "source": [
    "# KNN"
   ],
   "cell_type": "markdown",
   "metadata": {}
  },
  {
   "cell_type": "code",
   "execution_count": 15,
   "metadata": {},
   "outputs": [],
   "source": [
    "#KNN parameters\n",
    "n_neighbors = [2,4,5,10,25]\n",
    "leaf_size = [10,20,30,50,100,500]\n",
    "metric = ['euclidean','chebyshev','manhattan']\n",
    "weights = ['uniform', 'distance']\n",
    "algorithm = ['auto', 'ball_tree', 'kd_tree', 'brute'] \n",
    "\n",
    "\n",
    "#declaring parameters for KNN algorithm to determine it performance on the test data\n",
    "scores_ = []\n",
    "neighbor = []\n",
    "leaf_size_ = []\n",
    "metric_ = []\n",
    "weight = []\n",
    "algorithm_ = []\n",
    "\n",
    "for i in n_neighbors:\n",
    "  for j in leaf_size:\n",
    "    for k in metric:\n",
    "      for l in weights:\n",
    "        for m in algorithm:\n",
    "          knn_maxi = KNeighborsRegressor(n_neighbors = i, leaf_size = j, metric = k, weights = l, algorithm = m)\n",
    "          knn_maxi.fit(X_train_StandardScaler, y_train)\n",
    "          scores_.append(mean_squared_error(y_test.values, knn_maxi.predict(X_test_StandardScaler)))\n",
    "          \n",
    "          neighbor.append(i)\n",
    "          leaf_size_.append(j)\n",
    "          metric_.append(k)\n",
    "          weight.append(l)\n",
    "          algorithm_.append(m)\n"
   ]
  },
  {
   "cell_type": "code",
   "execution_count": 16,
   "metadata": {},
   "outputs": [
    {
     "output_type": "execute_result",
     "data": {
      "text/plain": [
       "27.191755365797736"
      ]
     },
     "metadata": {},
     "execution_count": 16
    }
   ],
   "source": [
    "#checking the minimun mean square error of the KNN algorithm used for rainfall prediction\n",
    "min(scores_)"
   ]
  },
  {
   "cell_type": "code",
   "execution_count": 17,
   "metadata": {},
   "outputs": [
    {
     "output_type": "execute_result",
     "data": {
      "text/plain": [
       "585"
      ]
     },
     "metadata": {},
     "execution_count": 17
    }
   ],
   "source": [
    "#getting the index of the minimun mean square error of the KNN algorithm from the list\n",
    "index_max = np.argmin(scores_)\n",
    "index_max"
   ]
  },
  {
   "cell_type": "code",
   "execution_count": 18,
   "metadata": {},
   "outputs": [
    {
     "output_type": "execute_result",
     "data": {
      "text/plain": [
       "[25, 10, 'chebyshev', 'uniform', 'ball_tree']"
      ]
     },
     "metadata": {},
     "execution_count": 18
    }
   ],
   "source": [
    "#obtaining the parameters with the minimun mean square error of the KNN algorithm \n",
    "rainfall_knn_parameters = [neighbor[index_max], leaf_size_[index_max], metric_[index_max], weight[index_max], algorithm_[index_max]]\n",
    "rainfall_knn_parameters"
   ]
  },
  {
   "cell_type": "code",
   "execution_count": 19,
   "metadata": {},
   "outputs": [
    {
     "output_type": "execute_result",
     "data": {
      "text/plain": [
       "KNeighborsRegressor(algorithm='ball_tree', leaf_size=10, metric='chebyshev',\n",
       "                    n_neighbors=25)"
      ]
     },
     "metadata": {},
     "execution_count": 19
    }
   ],
   "source": [
    "#assign best parameter\n",
    "knn_max = KNeighborsRegressor(n_neighbors = neighbor[index_max], leaf_size = leaf_size_[index_max],  metric = metric_[index_max], weights = weight[index_max], algorithm = algorithm_[index_max])\n",
    "knn_max.fit(X_train_StandardScaler, y_train)\n"
   ]
  },
  {
   "cell_type": "code",
   "execution_count": 20,
   "metadata": {},
   "outputs": [
    {
     "output_type": "execute_result",
     "data": {
      "text/plain": [
       "array([1.288, 1.568, 2.128, 0.176, 1.24 ])"
      ]
     },
     "metadata": {},
     "execution_count": 20
    }
   ],
   "source": [
    "knn_max.predict(X_test_StandardScaler)[:5]\n"
   ]
  },
  {
   "cell_type": "code",
   "execution_count": 21,
   "metadata": {},
   "outputs": [
    {
     "output_type": "execute_result",
     "data": {
      "text/plain": [
       "array([[0.   , 1.288],\n",
       "       [0.   , 1.568],\n",
       "       [0.   , 2.128],\n",
       "       ...,\n",
       "       [2.4  , 2.568],\n",
       "       [0.   , 1.84 ],\n",
       "       [0.   , 1.8  ]])"
      ]
     },
     "metadata": {},
     "execution_count": 21
    }
   ],
   "source": [
    "#printing the test data side by side with the predicted data\n",
    "np.concatenate((y_test.values.reshape(len(y_test),1), knn_max.predict(X_test_StandardScaler).reshape(len(y_test),1)),1)"
   ]
  },
  {
   "source": [
    "## MLP"
   ],
   "cell_type": "markdown",
   "metadata": {}
  },
  {
   "cell_type": "code",
   "execution_count": 22,
   "metadata": {},
   "outputs": [],
   "source": [
    "hidden_layer_sizes = []\n",
    "for i in range(1,10):\n",
    "  hidden_layer_sizes.append(((i,i,i)))\n",
    "\n",
    "activation = ['tanh', 'relu', 'logistic', 'identity']\n",
    "solver = ['lbfgs', 'sgd', 'adam']\n",
    "alpha = [0.0001, 0.05, 0.01, .001]\n",
    "learning_rate = ['constant','adaptive', 'invscaling']"
   ]
  },
  {
   "cell_type": "code",
   "execution_count": 24,
   "metadata": {},
   "outputs": [],
   "source": [
    "#MLP for rainfall \n",
    "\n",
    "#declaring parameters for MLP algorithm to determine it performance on the test data\n",
    "scores_mlp_max_rainfall = []\n",
    "hidden_layer_sizes_ = []\n",
    "solver_ = []\n",
    "activation_ = []\n",
    "alpha_ = []\n",
    "learning_rate_ = []\n",
    "\n",
    "\n",
    "for i in hidden_layer_sizes:\n",
    "  for j in activation:\n",
    "    for k in solver:\n",
    "      for l in alpha:\n",
    "        for m in learning_rate:\n",
    "\n",
    "          mlp_maxi = MLPRegressor(hidden_layer_sizes = i, activation = j, solver = k, alpha = l, learning_rate = m)\n",
    "          mlp_maxi.fit(X_train_StandardScaler, y_train)\n",
    "       \n",
    "          scores_mlp_max_rainfall.append(mean_squared_error(y_test.values, knn_maxi.predict(X_test_StandardScaler)))\n",
    "          hidden_layer_sizes_.append(i)\n",
    "          activation_.append(j)\n",
    "          solver_.append(k)\n",
    "          alpha_.append(l)\n",
    "          learning_rate_.append(m)"
   ]
  },
  {
   "cell_type": "code",
   "execution_count": 28,
   "metadata": {},
   "outputs": [
    {
     "output_type": "execute_result",
     "data": {
      "text/plain": [
       "28.080610717110428"
      ]
     },
     "metadata": {},
     "execution_count": 28
    }
   ],
   "source": [
    "#checking the minimun mean square error of the MLP algorithm used for prediction\n",
    "min(scores_mlp_max_rainfall)"
   ]
  },
  {
   "cell_type": "code",
   "execution_count": 29,
   "metadata": {},
   "outputs": [
    {
     "output_type": "execute_result",
     "data": {
      "text/plain": [
       "0"
      ]
     },
     "metadata": {},
     "execution_count": 29
    }
   ],
   "source": [
    "#getting the index of the minimun mean square error of the KNN algorithm from the list\n",
    "index_min = np.argmin(scores_mlp_max_rainfall)\n",
    "index_min"
   ]
  },
  {
   "cell_type": "code",
   "execution_count": 30,
   "metadata": {},
   "outputs": [
    {
     "output_type": "execute_result",
     "data": {
      "text/plain": [
       "[(5, 5, 5), 'tanh', 'lbfgs', 0.001, 'constant']"
      ]
     },
     "metadata": {},
     "execution_count": 30
    }
   ],
   "source": [
    "#obtaining the parameters with the minimun mean square error of the mlp algorithm \n",
    "rainfall_mlp_parameters = [hidden_layer_sizes_[index_max], activation_[index_max], solver_[index_max], alpha_[index_max], learning_rate_[index_max]]\n",
    "rainfall_mlp_parameters"
   ]
  },
  {
   "cell_type": "code",
   "execution_count": 32,
   "metadata": {},
   "outputs": [
    {
     "output_type": "execute_result",
     "data": {
      "text/plain": [
       "MLPRegressor(alpha=0.001, hidden_layer_sizes=(2, 2, 2),\n",
       "             learning_rate='invscaling', solver='sgd')"
      ]
     },
     "metadata": {},
     "execution_count": 32
    }
   ],
   "source": [
    "mlp_max = MLPRegressor(hidden_layer_sizes = (2, 2, 2), activation = 'relu', solver = 'sgd' , alpha = 0.001, learning_rate = 'invscaling')\n",
    "mlp_max.fit(X_train_StandardScaler, y_train)"
   ]
  },
  {
   "cell_type": "code",
   "execution_count": 33,
   "metadata": {},
   "outputs": [
    {
     "output_type": "execute_result",
     "data": {
      "text/plain": [
       "array([[ 0.        , -0.41538732],\n",
       "       [ 0.        , -0.41538732],\n",
       "       [ 0.        , -0.2529807 ],\n",
       "       ...,\n",
       "       [ 2.4       , -0.20335721],\n",
       "       [ 0.        , -0.41538732],\n",
       "       [ 0.        , -0.24241638]])"
      ]
     },
     "metadata": {},
     "execution_count": 33
    }
   ],
   "source": [
    "#printing the test data side by side with the predicted data\n",
    "np.concatenate((y_test.values.reshape(len(y_test),1), mlp_max.predict(X_test_StandardScaler).reshape(len(y_test),1)),1)"
   ]
  },
  {
   "source": [
    "## Decision tree"
   ],
   "cell_type": "markdown",
   "metadata": {}
  },
  {
   "cell_type": "code",
   "execution_count": 34,
   "metadata": {},
   "outputs": [],
   "source": [
    "splitter=['best','random']\n",
    "criterion = ['mse', 'friedman_mse', 'mae']\n",
    "max_depth = [1,2,3,4,5,10,20,30,40]\n",
    "max_features =['auto','sqrt','log2'] \n",
    "min_samples_split= [2,3,4,5,10,20,30,40]\n",
    "random_state= [1,2,3,4,5,6,7,8,9,42]"
   ]
  },
  {
   "cell_type": "code",
   "execution_count": 35,
   "metadata": {},
   "outputs": [],
   "source": [
    "#DT for Maximum Temperature\n",
    "\n",
    "#declaring parameters for DT algorithm to determine it performance on the test data\n",
    "scores_dt_rainfall = []\n",
    "splitter_ = []\n",
    "criterion_ =  []\n",
    "max_depth_ = []\n",
    "max_features_ = []\n",
    "min_samples_split_ = []\n",
    "random_state_ = []\n",
    "\n",
    "\n",
    "for i in splitter:\n",
    "  for j in criterion:\n",
    "    for k in max_depth:\n",
    "      for l in max_features:\n",
    "        for m in min_samples_split:\n",
    "          for n in random_state:\n",
    "            dt_maxi = DecisionTreeRegressor(splitter = i, criterion = j, max_depth = k, max_features = l, min_samples_split = m,random_state = n )\n",
    "            dt_maxi.fit(X_train_StandardScaler, y_train)\n",
    "            \n",
    "            scores_dt_rainfall.append(mean_squared_error(y_test.values, knn_maxi.predict(X_test_StandardScaler)))\n",
    "\n",
    "            splitter_.append(i)\n",
    "            criterion_.append(j)\n",
    "            max_depth_.append(k)\n",
    "            max_features_.append(l)\n",
    "            min_samples_split_.append(m)\n",
    "            random_state_.append(n)"
   ]
  },
  {
   "cell_type": "code",
   "execution_count": 36,
   "metadata": {},
   "outputs": [
    {
     "output_type": "execute_result",
     "data": {
      "text/plain": [
       "28.080610717110428"
      ]
     },
     "metadata": {},
     "execution_count": 36
    }
   ],
   "source": [
    "#checking the minimun mean square error of the dt algorithm used for rainfall prediction\n",
    "min(scores_dt_rainfall)"
   ]
  },
  {
   "cell_type": "code",
   "execution_count": 37,
   "metadata": {},
   "outputs": [
    {
     "output_type": "execute_result",
     "data": {
      "text/plain": [
       "0"
      ]
     },
     "metadata": {},
     "execution_count": 37
    }
   ],
   "source": [
    "#getting the index of the minimun mean square error of the dt algorithm from the list\n",
    "index_max = np.argmin(scores_dt_rainfall)\n",
    "index_max"
   ]
  },
  {
   "cell_type": "code",
   "execution_count": 38,
   "metadata": {},
   "outputs": [
    {
     "output_type": "execute_result",
     "data": {
      "text/plain": [
       "['best', 'mse', 1, 'auto', 2, 1]"
      ]
     },
     "metadata": {},
     "execution_count": 38
    }
   ],
   "source": [
    "#obtaining the parameters with the minimun mean square error of the DT algorithm \n",
    "rainfall_dt_parameters = [splitter_[index_max], criterion_[index_max], max_depth_[index_max], max_features_[index_max], min_samples_split_[index_max],random_state_[index_max]]\n",
    "rainfall_dt_parameters"
   ]
  },
  {
   "cell_type": "code",
   "execution_count": 61,
   "metadata": {},
   "outputs": [
    {
     "output_type": "execute_result",
     "data": {
      "text/plain": [
       "DecisionTreeRegressor(max_depth=10, max_features='auto', min_samples_split=10,\n",
       "                      random_state=1)"
      ]
     },
     "metadata": {},
     "execution_count": 61
    }
   ],
   "source": [
    "dt_max = DecisionTreeRegressor(splitter = splitter_[index_max] , criterion = criterion_[index_max], max_depth = max_depth_[index_max], max_features = max_features_[index_max], min_samples_split = min_samples_split_[index_max],random_state = random_state_[index_max])\n",
    "dt_max.fit(X_train_StandardScaler, y_train)"
   ]
  },
  {
   "cell_type": "code",
   "execution_count": 62,
   "metadata": {},
   "outputs": [
    {
     "output_type": "execute_result",
     "data": {
      "text/plain": [
       "array([[0.        , 1.12171351],\n",
       "       [0.        , 0.        ],\n",
       "       [0.        , 2.30740741],\n",
       "       ...,\n",
       "       [2.4       , 2.30740741],\n",
       "       [0.        , 9.68      ],\n",
       "       [0.        , 5.43333333]])"
      ]
     },
     "metadata": {},
     "execution_count": 62
    }
   ],
   "source": [
    "#printing the test data side by side with the predicted data\n",
    "np.concatenate((y_test.values.reshape(len(y_test),1), dt_max.predict(X_test_StandardScaler).reshape(len(y_test),1)),1)"
   ]
  },
  {
   "source": [],
   "cell_type": "markdown",
   "metadata": {}
  },
  {
   "source": [
    "## Random Forest"
   ],
   "cell_type": "markdown",
   "metadata": {}
  },
  {
   "cell_type": "code",
   "execution_count": 40,
   "metadata": {},
   "outputs": [],
   "source": [
    "criterion = ['mse', 'friedman_mse', 'mae']\n",
    "max_depth = [10,20,30,40]\n",
    "max_features =['auto','sqrt','log2'] \n",
    "min_samples_split= [10,20,30,40]\n",
    "random_state= [1,2,3,42]\n",
    "n_estimators =[10,50,100]"
   ]
  },
  {
   "cell_type": "code",
   "execution_count": 43,
   "metadata": {},
   "outputs": [],
   "source": [
    "#RF for rainfall\n",
    "\n",
    "#declaring parameters for RF algorithm to determine it performance on the test data\n",
    "scores_rf_rainfall = []\n",
    "n_estimators_ = []\n",
    "criterion_ =  []\n",
    "max_depth_ = []\n",
    "max_features_ = []\n",
    "min_samples_split_ = []\n",
    "random_state_ = []\n",
    "\n",
    "\n",
    "for i in n_estimators:\n",
    "  for j in criterion:\n",
    "    for k in max_depth:\n",
    "      for l in max_features:\n",
    "        for m in min_samples_split:\n",
    "          for n in random_state:\n",
    "            rf_maxi = RandomForestRegressor(n_estimators = i, criterion = j, max_depth = k, max_features = l, min_samples_split = m,random_state = n )\n",
    "            rf_maxi.fit(X_train_StandardScaler, y_train)\n",
    "            scores_rf_rainfall.append(mean_squared_error(y_test.values, knn_maxi.predict(X_test_StandardScaler)))\n",
    "\n",
    "            n_estimators_.append(i)\n",
    "            criterion_.append(j)\n",
    "            max_depth_.append(k)\n",
    "            max_features_.append(l)\n",
    "            min_samples_split_.append(m)\n",
    "            random_state_.append(n)"
   ]
  },
  {
   "cell_type": "code",
   "execution_count": 44,
   "metadata": {},
   "outputs": [
    {
     "output_type": "execute_result",
     "data": {
      "text/plain": [
       "28.080610717110428"
      ]
     },
     "metadata": {},
     "execution_count": 44
    }
   ],
   "source": [
    "min(scores_rf_rainfall)"
   ]
  },
  {
   "cell_type": "code",
   "execution_count": 45,
   "metadata": {},
   "outputs": [
    {
     "output_type": "execute_result",
     "data": {
      "text/plain": [
       "0"
      ]
     },
     "metadata": {},
     "execution_count": 45
    }
   ],
   "source": [
    "index_max = np.argmin(scores_rf_rainfall)\n",
    "index_max"
   ]
  },
  {
   "cell_type": "code",
   "execution_count": 46,
   "metadata": {},
   "outputs": [
    {
     "output_type": "execute_result",
     "data": {
      "text/plain": [
       "[10, 'mse', 10, 'auto', 10, 1]"
      ]
     },
     "metadata": {},
     "execution_count": 46
    }
   ],
   "source": [
    "#obtaining the parameters with the minimun mean square error of the RF algorithm \n",
    "scores_rf_rainfall_parameters = [n_estimators_[index_max], criterion_[index_max], max_depth_[index_max], max_features_[index_max],min_samples_split_[index_max],random_state_[index_max] ]\n",
    "scores_rf_rainfall_parameters"
   ]
  },
  {
   "cell_type": "code",
   "execution_count": 47,
   "metadata": {},
   "outputs": [
    {
     "output_type": "execute_result",
     "data": {
      "text/plain": [
       "RandomForestRegressor(max_depth=10, min_samples_split=10, n_estimators=10,\n",
       "                      random_state=1)"
      ]
     },
     "metadata": {},
     "execution_count": 47
    }
   ],
   "source": [
    "rf_max = RandomForestRegressor(n_estimators = n_estimators_[index_max], criterion = criterion_[index_max], max_depth = max_depth_[index_max], max_features =  max_features_[index_max], min_samples_split = min_samples_split_[index_max],random_state = random_state_[index_max])\n",
    "rf_max.fit(X_train_StandardScaler, y_train)"
   ]
  },
  {
   "cell_type": "code",
   "execution_count": 48,
   "metadata": {},
   "outputs": [
    {
     "output_type": "execute_result",
     "data": {
      "text/plain": [
       "array([[0.        , 0.74114733],\n",
       "       [0.        , 1.33595126],\n",
       "       [0.        , 1.71571523],\n",
       "       ...,\n",
       "       [2.4       , 1.07692953],\n",
       "       [0.        , 2.38449852],\n",
       "       [0.        , 2.88757847]])"
      ]
     },
     "metadata": {},
     "execution_count": 48
    }
   ],
   "source": [
    "\n",
    "#printing the test data side by side with the predicted data\n",
    "np.concatenate((y_test.values.reshape(len(y_test),1), rf_max.predict(X_test_StandardScaler).reshape(len(y_test),1)),1)"
   ]
  },
  {
   "source": [
    "## SVR"
   ],
   "cell_type": "markdown",
   "metadata": {}
  },
  {
   "cell_type": "code",
   "execution_count": 51,
   "metadata": {},
   "outputs": [],
   "source": [
    "kernel =['linear', 'poly', 'rbf']\n",
    "gamma = ['auto', 'scale']\n",
    "degree = [3,4,5,10]\n",
    "C = [2.0,3.0,4.0]"
   ]
  },
  {
   "cell_type": "code",
   "execution_count": 52,
   "metadata": {},
   "outputs": [],
   "source": [
    "#SVR for rainfall\n",
    "\n",
    "#declaring parameters for SVR algorithm to determine it performance on the test data\n",
    "scores_svr_rainfall= []\n",
    "kernel_ = []\n",
    "gamma_ =  []\n",
    "degree_ = []\n",
    "C_ = []\n",
    "\n",
    "\n",
    "\n",
    "for i in kernel:\n",
    "  for j in gamma:\n",
    "    for k in degree:\n",
    "      for l in C:\n",
    "            svr_maxi = SVR(kernel = i, gamma = j, degree = k, C = l )\n",
    "            svr_maxi.fit(X_train_StandardScaler, y_train)\n",
    "            scores_svr_rainfall.append(mean_squared_error(y_test.values, knn_maxi.predict(X_test_StandardScaler)))\n",
    "\n",
    "            kernel_.append(i)\n",
    "            gamma_.append(j)\n",
    "            degree_.append(k)\n",
    "            C_.append(l)"
   ]
  },
  {
   "cell_type": "code",
   "execution_count": 53,
   "metadata": {},
   "outputs": [
    {
     "output_type": "execute_result",
     "data": {
      "text/plain": [
       "28.080610717110428"
      ]
     },
     "metadata": {},
     "execution_count": 53
    }
   ],
   "source": [
    "#checking the minimun mean square error of the SVR algorithm used for rainfall prediction\n",
    "min(scores_svr_rainfall)"
   ]
  },
  {
   "cell_type": "code",
   "execution_count": 54,
   "metadata": {},
   "outputs": [
    {
     "output_type": "execute_result",
     "data": {
      "text/plain": [
       "0"
      ]
     },
     "metadata": {},
     "execution_count": 54
    }
   ],
   "source": [
    "#getting the index of the minimun mean square error of the dt algorithm from the list\n",
    "index_max = np.argmin(scores_svr_rainfall)\n",
    "index_max"
   ]
  },
  {
   "cell_type": "code",
   "execution_count": 55,
   "metadata": {},
   "outputs": [
    {
     "output_type": "execute_result",
     "data": {
      "text/plain": [
       "['linear', 'auto', 3, 2.0]"
      ]
     },
     "metadata": {},
     "execution_count": 55
    }
   ],
   "source": [
    "#obtaining the parameters with the minimun mean square error of the KNN algorithm \n",
    "rainfall_svr_parameters = [kernel_[index_max], gamma_[index_max], degree_[index_max], C_[index_max]]\n",
    "rainfall_svr_parameters"
   ]
  },
  {
   "cell_type": "code",
   "execution_count": 56,
   "metadata": {},
   "outputs": [
    {
     "output_type": "execute_result",
     "data": {
      "text/plain": [
       "SVR(C=2.0, gamma='auto', kernel='linear')"
      ]
     },
     "metadata": {},
     "execution_count": 56
    }
   ],
   "source": [
    "svr_max = SVR(kernel = kernel_[index_max], gamma = gamma_[index_max], degree = degree_[index_max], C = C_[index_max])\n",
    "svr_max.fit(X_train_StandardScaler, y_train)\n"
   ]
  },
  {
   "cell_type": "code",
   "execution_count": 57,
   "metadata": {},
   "outputs": [
    {
     "output_type": "execute_result",
     "data": {
      "text/plain": [
       "array([[0.        , 0.10001127],\n",
       "       [0.        , 0.09995554],\n",
       "       [0.        , 0.09995466],\n",
       "       ...,\n",
       "       [2.4       , 0.10021649],\n",
       "       [0.        , 0.09991968],\n",
       "       [0.        , 0.10004557]])"
      ]
     },
     "metadata": {},
     "execution_count": 57
    }
   ],
   "source": [
    "\n",
    "#printing the test data side by side with the predicted data\n",
    "np.concatenate((y_test.values.reshape(len(y_test),1), svr_max.predict(X_test_StandardScaler).reshape(len(y_test),1)),1)"
   ]
  },
  {
   "source": [
    "## Model evaluation "
   ],
   "cell_type": "markdown",
   "metadata": {}
  },
  {
   "cell_type": "code",
   "execution_count": 77,
   "metadata": {},
   "outputs": [],
   "source": [
    "from sklearn.metrics import r2_score, mean_squared_error,mean_absolute_error, explained_variance_score,mean_absolute_percentage_error"
   ]
  },
  {
   "cell_type": "code",
   "execution_count": 78,
   "metadata": {},
   "outputs": [],
   "source": [
    "model_name = ['KNN', 'MLP', 'Decision Tree', 'Random Forest', 'SVR']\n",
    "mse_value_list = [mean_squared_error(y_test, knn_max.predict(X_test_StandardScaler), squared= True),\n",
    "                mean_squared_error(y_test, mlp_max.predict(X_test_StandardScaler), squared= True),\n",
    "                mean_squared_error(y_test, dt_max.predict(X_test_StandardScaler), squared= True),\n",
    "                mean_squared_error(y_test, rf_max.predict(X_test_StandardScaler), squared= True),\n",
    "                mean_squared_error(y_test, svr_max.predict(X_test_StandardScaler), squared= True)\n",
    "]\n",
    "\n",
    "rmse_value_list=  [mean_squared_error(y_test, knn_max.predict(X_test_StandardScaler), squared= False),\n",
    "                mean_squared_error(y_test, mlp_max.predict(X_test_StandardScaler), squared= False),\n",
    "                mean_squared_error(y_test, dt_max.predict(X_test_StandardScaler), squared= False),\n",
    "                mean_squared_error(y_test, rf_max.predict(X_test_StandardScaler), squared= False),\n",
    "                mean_squared_error(y_test, svr_max.predict(X_test_StandardScaler), squared= False)\n",
    "]\n",
    "\n",
    "mae_value_list = [mean_absolute_error(y_test, knn_max.predict(X_test_StandardScaler)),\n",
    "                mean_absolute_error(y_test, mlp_max.predict(X_test_StandardScaler)),\n",
    "                mean_absolute_error(y_test, dt_max.predict(X_test_StandardScaler)),\n",
    "                mean_absolute_error(y_test, rf_max.predict(X_test_StandardScaler)),\n",
    "                mean_absolute_error(y_test, svr_max.predict(X_test_StandardScaler))\n",
    "]\n",
    "\n",
    "mape_socre_list = [mean_absolute_percentage_error(y_test, knn_max.predict(X_test_StandardScaler)),\n",
    "                mean_absolute_percentage_error(y_test, mlp_max.predict(X_test_StandardScaler)),\n",
    "                mean_absolute_percentage_error(y_test, dt_max.predict(X_test_StandardScaler)),\n",
    "                mean_absolute_percentage_error(y_test, rf_max.predict(X_test_StandardScaler)),\n",
    "                mean_absolute_percentage_error(y_test, svr_max.predict(X_test_StandardScaler))\n",
    "]\n",
    "\n",
    "r2_socre_list = [r2_score(y_test, knn_max.predict(X_test_StandardScaler)),\n",
    "                r2_score(y_test, mlp_max.predict(X_test_StandardScaler)),\n",
    "                r2_score(y_test, dt_max.predict(X_test_StandardScaler)),\n",
    "                r2_score(y_test, rf_max.predict(X_test_StandardScaler)),\n",
    "                r2_score(y_test, svr_max.predict(X_test_StandardScaler))\n",
    "]\n",
    "\n",
    "model_evl_df = pd.DataFrame({\n",
    "    'Model' : model_name,\n",
    "    'MSE' : mse_value_list,\n",
    "    'RMSE' :rmse_value_list,\n",
    "    'MAE' :mae_value_list,\n",
    "    'MAPE' : mape_socre_list,\n",
    "    'R^2 Score' :r2_socre_list\n",
    "\n",
    "})\n",
    "\n",
    "\n"
   ]
  },
  {
   "cell_type": "code",
   "execution_count": 79,
   "metadata": {},
   "outputs": [
    {
     "output_type": "execute_result",
     "data": {
      "text/plain": [
       "           Model        MSE      RMSE       MAE          MAPE  R^2 Score\n",
       "0            KNN  27.191755  5.214571  2.315638  3.533045e+15  -0.012468\n",
       "1            MLP  31.383389  5.602088  2.131122  1.059306e+15  -0.168541\n",
       "2  Decision Tree  33.405779  5.779773  2.535152  3.979175e+15  -0.243843\n",
       "3  Random Forest  29.798458  5.458796  2.485112  4.152694e+15  -0.109527\n",
       "4            SVR  29.580129  5.438762  1.772664  2.757204e+14  -0.101398"
      ],
      "text/html": "<div>\n<style scoped>\n    .dataframe tbody tr th:only-of-type {\n        vertical-align: middle;\n    }\n\n    .dataframe tbody tr th {\n        vertical-align: top;\n    }\n\n    .dataframe thead th {\n        text-align: right;\n    }\n</style>\n<table border=\"1\" class=\"dataframe\">\n  <thead>\n    <tr style=\"text-align: right;\">\n      <th></th>\n      <th>Model</th>\n      <th>MSE</th>\n      <th>RMSE</th>\n      <th>MAE</th>\n      <th>MAPE</th>\n      <th>R^2 Score</th>\n    </tr>\n  </thead>\n  <tbody>\n    <tr>\n      <th>0</th>\n      <td>KNN</td>\n      <td>27.191755</td>\n      <td>5.214571</td>\n      <td>2.315638</td>\n      <td>3.533045e+15</td>\n      <td>-0.012468</td>\n    </tr>\n    <tr>\n      <th>1</th>\n      <td>MLP</td>\n      <td>31.383389</td>\n      <td>5.602088</td>\n      <td>2.131122</td>\n      <td>1.059306e+15</td>\n      <td>-0.168541</td>\n    </tr>\n    <tr>\n      <th>2</th>\n      <td>Decision Tree</td>\n      <td>33.405779</td>\n      <td>5.779773</td>\n      <td>2.535152</td>\n      <td>3.979175e+15</td>\n      <td>-0.243843</td>\n    </tr>\n    <tr>\n      <th>3</th>\n      <td>Random Forest</td>\n      <td>29.798458</td>\n      <td>5.458796</td>\n      <td>2.485112</td>\n      <td>4.152694e+15</td>\n      <td>-0.109527</td>\n    </tr>\n    <tr>\n      <th>4</th>\n      <td>SVR</td>\n      <td>29.580129</td>\n      <td>5.438762</td>\n      <td>1.772664</td>\n      <td>2.757204e+14</td>\n      <td>-0.101398</td>\n    </tr>\n  </tbody>\n</table>\n</div>"
     },
     "metadata": {},
     "execution_count": 79
    }
   ],
   "source": [
    "model_evl_df"
   ]
  },
  {
   "source": [
    "## CV"
   ],
   "cell_type": "markdown",
   "metadata": {}
  },
  {
   "cell_type": "code",
   "execution_count": 107,
   "metadata": {},
   "outputs": [],
   "source": [
    "from sklearn.model_selection import cross_val_score\n",
    "from sklearn.model_selection import KFold\n",
    "def model_cv_score(model_name):\n",
    "    folds = KFold(n_splits = 5, shuffle = True, random_state = 100)\n",
    "    scores = cross_val_score(model_name, X_train, y_train,cv=folds)\n",
    "    print(\"%0.2f accuracy with a standard deviation of %0.2f\" % (scores.mean(), scores.std()))\n",
    "    return scores.mean(),scores.std()\n"
   ]
  },
  {
   "cell_type": "code",
   "execution_count": 108,
   "metadata": {},
   "outputs": [
    {
     "output_type": "stream",
     "name": "stdout",
     "text": [
      "-0.05 accuracy with a standard deviation of 0.01\n"
     ]
    },
    {
     "output_type": "execute_result",
     "data": {
      "text/plain": [
       "(-0.05019335637608413, 0.006705258588316975)"
      ]
     },
     "metadata": {},
     "execution_count": 108
    }
   ],
   "source": [
    "model_cv_score(knn_max)\n"
   ]
  },
  {
   "cell_type": "code",
   "execution_count": 109,
   "metadata": {},
   "outputs": [
    {
     "output_type": "stream",
     "name": "stdout",
     "text": [
      "-0.24 accuracy with a standard deviation of 0.27\n"
     ]
    },
    {
     "output_type": "execute_result",
     "data": {
      "text/plain": [
       "(-0.2445929610289616, 0.2740743799318033)"
      ]
     },
     "metadata": {},
     "execution_count": 109
    }
   ],
   "source": [
    "model_cv_score(mlp_max)"
   ]
  },
  {
   "cell_type": "code",
   "execution_count": 110,
   "metadata": {},
   "outputs": [
    {
     "output_type": "stream",
     "name": "stdout",
     "text": [
      "-0.46 accuracy with a standard deviation of 0.33\n"
     ]
    },
    {
     "output_type": "execute_result",
     "data": {
      "text/plain": [
       "(-0.458700919828196, 0.3336803832807382)"
      ]
     },
     "metadata": {},
     "execution_count": 110
    }
   ],
   "source": [
    "model_cv_score(dt_max)"
   ]
  },
  {
   "cell_type": "code",
   "execution_count": 111,
   "metadata": {},
   "outputs": [
    {
     "output_type": "stream",
     "name": "stdout",
     "text": [
      "-0.10 accuracy with a standard deviation of 0.05\n"
     ]
    },
    {
     "output_type": "execute_result",
     "data": {
      "text/plain": [
       "(-0.10005743366803888, 0.049667834996746915)"
      ]
     },
     "metadata": {},
     "execution_count": 111
    }
   ],
   "source": [
    "model_cv_score(rf_max)"
   ]
  },
  {
   "cell_type": "code",
   "execution_count": 112,
   "metadata": {},
   "outputs": [
    {
     "output_type": "stream",
     "name": "stdout",
     "text": [
      "-0.11 accuracy with a standard deviation of 0.04\n"
     ]
    },
    {
     "output_type": "execute_result",
     "data": {
      "text/plain": [
       "(-0.11453209958973778, 0.035436674130015666)"
      ]
     },
     "metadata": {},
     "execution_count": 112
    }
   ],
   "source": [
    "model_cv_score(svr_max)"
   ]
  },
  {
   "source": [
    "overall, KNN best fit dataset in this case"
   ],
   "cell_type": "markdown",
   "metadata": {}
  },
  {
   "source": [
    "## Prediciton"
   ],
   "cell_type": "markdown",
   "metadata": {}
  },
  {
   "cell_type": "code",
   "execution_count": 131,
   "metadata": {},
   "outputs": [
    {
     "output_type": "execute_result",
     "data": {
      "text/plain": [
       "KNeighborsRegressor(algorithm='ball_tree', leaf_size=10, metric='chebyshev',\n",
       "                    n_neighbors=25)"
      ]
     },
     "metadata": {},
     "execution_count": 131
    }
   ],
   "source": [
    "knn_max"
   ]
  },
  {
   "cell_type": "code",
   "execution_count": 132,
   "metadata": {},
   "outputs": [
    {
     "output_type": "execute_result",
     "data": {
      "text/plain": [
       "     dayofyear  dayofweek  month  year       date\n",
       "0           60          1      3  2021 2021-03-01\n",
       "1           61          2      3  2021 2021-03-02\n",
       "2           62          3      3  2021 2021-03-03\n",
       "3           63          4      3  2021 2021-03-04\n",
       "4           64          5      3  2021 2021-03-05\n",
       "..         ...        ...    ...   ...        ...\n",
       "180        240          6      8  2021 2021-08-28\n",
       "181        241          7      8  2021 2021-08-29\n",
       "182        242          1      8  2021 2021-08-30\n",
       "183        243          2      8  2021 2021-08-31\n",
       "184        244          3      9  2021 2021-09-01\n",
       "\n",
       "[185 rows x 5 columns]"
      ],
      "text/html": "<div>\n<style scoped>\n    .dataframe tbody tr th:only-of-type {\n        vertical-align: middle;\n    }\n\n    .dataframe tbody tr th {\n        vertical-align: top;\n    }\n\n    .dataframe thead th {\n        text-align: right;\n    }\n</style>\n<table border=\"1\" class=\"dataframe\">\n  <thead>\n    <tr style=\"text-align: right;\">\n      <th></th>\n      <th>dayofyear</th>\n      <th>dayofweek</th>\n      <th>month</th>\n      <th>year</th>\n      <th>date</th>\n    </tr>\n  </thead>\n  <tbody>\n    <tr>\n      <th>0</th>\n      <td>60</td>\n      <td>1</td>\n      <td>3</td>\n      <td>2021</td>\n      <td>2021-03-01</td>\n    </tr>\n    <tr>\n      <th>1</th>\n      <td>61</td>\n      <td>2</td>\n      <td>3</td>\n      <td>2021</td>\n      <td>2021-03-02</td>\n    </tr>\n    <tr>\n      <th>2</th>\n      <td>62</td>\n      <td>3</td>\n      <td>3</td>\n      <td>2021</td>\n      <td>2021-03-03</td>\n    </tr>\n    <tr>\n      <th>3</th>\n      <td>63</td>\n      <td>4</td>\n      <td>3</td>\n      <td>2021</td>\n      <td>2021-03-04</td>\n    </tr>\n    <tr>\n      <th>4</th>\n      <td>64</td>\n      <td>5</td>\n      <td>3</td>\n      <td>2021</td>\n      <td>2021-03-05</td>\n    </tr>\n    <tr>\n      <th>...</th>\n      <td>...</td>\n      <td>...</td>\n      <td>...</td>\n      <td>...</td>\n      <td>...</td>\n    </tr>\n    <tr>\n      <th>180</th>\n      <td>240</td>\n      <td>6</td>\n      <td>8</td>\n      <td>2021</td>\n      <td>2021-08-28</td>\n    </tr>\n    <tr>\n      <th>181</th>\n      <td>241</td>\n      <td>7</td>\n      <td>8</td>\n      <td>2021</td>\n      <td>2021-08-29</td>\n    </tr>\n    <tr>\n      <th>182</th>\n      <td>242</td>\n      <td>1</td>\n      <td>8</td>\n      <td>2021</td>\n      <td>2021-08-30</td>\n    </tr>\n    <tr>\n      <th>183</th>\n      <td>243</td>\n      <td>2</td>\n      <td>8</td>\n      <td>2021</td>\n      <td>2021-08-31</td>\n    </tr>\n    <tr>\n      <th>184</th>\n      <td>244</td>\n      <td>3</td>\n      <td>9</td>\n      <td>2021</td>\n      <td>2021-09-01</td>\n    </tr>\n  </tbody>\n</table>\n<p>185 rows × 5 columns</p>\n</div>"
     },
     "metadata": {},
     "execution_count": 132
    }
   ],
   "source": [
    "#create object\n",
    "\n",
    "predict = pd.DataFrame({'date':pd.date_range(start=\"2021-03-01\",end=\"2021-09-01\")})\n",
    "predict\n",
    "\n",
    "#get columns with number value\n",
    "predict['month'] = predict['date'].dt.month\n",
    "predict['dayofweek']= predict['date'].dt.dayofweek+1\n",
    "predict['dayofyear'] = predict['date'].dt.dayofyear\n",
    "predict['year'] = predict['date'].dt.year\n",
    "\n",
    "#order column\n",
    "col = ['dayofyear','dayofweek', 'month', 'year','date']\n",
    "predict = predict[col]\n",
    "\n",
    "predict"
   ]
  },
  {
   "cell_type": "code",
   "execution_count": 133,
   "metadata": {},
   "outputs": [
    {
     "output_type": "execute_result",
     "data": {
      "text/plain": [
       "array([[-1.72271354, -1.48197707, -1.46118834,  0.        ],\n",
       "       [-1.70398839, -0.98258589, -1.46118834,  0.        ],\n",
       "       [-1.68526324, -0.48319471, -1.46118834,  0.        ],\n",
       "       [-1.6665381 ,  0.01619647, -1.46118834,  0.        ],\n",
       "       [-1.64781295,  0.51558765, -1.46118834,  0.        ],\n",
       "       [-1.6290878 ,  1.01497883, -1.46118834,  0.        ],\n",
       "       [-1.61036266,  1.51437001, -1.46118834,  0.        ],\n",
       "       [-1.59163751, -1.48197707, -1.46118834,  0.        ],\n",
       "       [-1.57291236, -0.98258589, -1.46118834,  0.        ],\n",
       "       [-1.55418721, -0.48319471, -1.46118834,  0.        ]])"
      ]
     },
     "metadata": {},
     "execution_count": 133
    }
   ],
   "source": [
    "X_predict = scaler.fit_transform(predict.iloc[:,:-1]) \n",
    "X_predict[:10]"
   ]
  },
  {
   "cell_type": "code",
   "execution_count": 134,
   "metadata": {},
   "outputs": [],
   "source": [
    "predict['predict_rainfall'] = knn_max.predict(X_predict)"
   ]
  },
  {
   "cell_type": "code",
   "execution_count": 135,
   "metadata": {},
   "outputs": [
    {
     "output_type": "execute_result",
     "data": {
      "text/plain": [
       "            dayofyear  dayofweek  month  year  predict_rainfall\n",
       "date                                                           \n",
       "2021-03-01         60          1      3  2021             1.672\n",
       "2021-03-02         61          2      3  2021             0.184\n",
       "2021-03-03         62          3      3  2021             0.016\n",
       "2021-03-04         63          4      3  2021             1.024\n",
       "2021-03-05         64          5      3  2021             1.464\n",
       "...               ...        ...    ...   ...               ...\n",
       "2021-08-28        240          6      8  2021             1.768\n",
       "2021-08-29        241          7      8  2021             2.032\n",
       "2021-08-30        242          1      8  2021             0.320\n",
       "2021-08-31        243          2      8  2021             0.336\n",
       "2021-09-01        244          3      9  2021             0.992\n",
       "\n",
       "[185 rows x 5 columns]"
      ],
      "text/html": "<div>\n<style scoped>\n    .dataframe tbody tr th:only-of-type {\n        vertical-align: middle;\n    }\n\n    .dataframe tbody tr th {\n        vertical-align: top;\n    }\n\n    .dataframe thead th {\n        text-align: right;\n    }\n</style>\n<table border=\"1\" class=\"dataframe\">\n  <thead>\n    <tr style=\"text-align: right;\">\n      <th></th>\n      <th>dayofyear</th>\n      <th>dayofweek</th>\n      <th>month</th>\n      <th>year</th>\n      <th>predict_rainfall</th>\n    </tr>\n    <tr>\n      <th>date</th>\n      <th></th>\n      <th></th>\n      <th></th>\n      <th></th>\n      <th></th>\n    </tr>\n  </thead>\n  <tbody>\n    <tr>\n      <th>2021-03-01</th>\n      <td>60</td>\n      <td>1</td>\n      <td>3</td>\n      <td>2021</td>\n      <td>1.672</td>\n    </tr>\n    <tr>\n      <th>2021-03-02</th>\n      <td>61</td>\n      <td>2</td>\n      <td>3</td>\n      <td>2021</td>\n      <td>0.184</td>\n    </tr>\n    <tr>\n      <th>2021-03-03</th>\n      <td>62</td>\n      <td>3</td>\n      <td>3</td>\n      <td>2021</td>\n      <td>0.016</td>\n    </tr>\n    <tr>\n      <th>2021-03-04</th>\n      <td>63</td>\n      <td>4</td>\n      <td>3</td>\n      <td>2021</td>\n      <td>1.024</td>\n    </tr>\n    <tr>\n      <th>2021-03-05</th>\n      <td>64</td>\n      <td>5</td>\n      <td>3</td>\n      <td>2021</td>\n      <td>1.464</td>\n    </tr>\n    <tr>\n      <th>...</th>\n      <td>...</td>\n      <td>...</td>\n      <td>...</td>\n      <td>...</td>\n      <td>...</td>\n    </tr>\n    <tr>\n      <th>2021-08-28</th>\n      <td>240</td>\n      <td>6</td>\n      <td>8</td>\n      <td>2021</td>\n      <td>1.768</td>\n    </tr>\n    <tr>\n      <th>2021-08-29</th>\n      <td>241</td>\n      <td>7</td>\n      <td>8</td>\n      <td>2021</td>\n      <td>2.032</td>\n    </tr>\n    <tr>\n      <th>2021-08-30</th>\n      <td>242</td>\n      <td>1</td>\n      <td>8</td>\n      <td>2021</td>\n      <td>0.320</td>\n    </tr>\n    <tr>\n      <th>2021-08-31</th>\n      <td>243</td>\n      <td>2</td>\n      <td>8</td>\n      <td>2021</td>\n      <td>0.336</td>\n    </tr>\n    <tr>\n      <th>2021-09-01</th>\n      <td>244</td>\n      <td>3</td>\n      <td>9</td>\n      <td>2021</td>\n      <td>0.992</td>\n    </tr>\n  </tbody>\n</table>\n<p>185 rows × 5 columns</p>\n</div>"
     },
     "metadata": {},
     "execution_count": 135
    }
   ],
   "source": [
    "predict = predict.set_index('date')\n",
    "predict\n"
   ]
  },
  {
   "cell_type": "code",
   "execution_count": 137,
   "metadata": {},
   "outputs": [
    {
     "output_type": "execute_result",
     "data": {
      "text/plain": [
       "1.672    5\n",
       "0.016    5\n",
       "0.184    5\n",
       "1.464    4\n",
       "1.400    3\n",
       "        ..\n",
       "1.944    1\n",
       "2.408    1\n",
       "0.904    1\n",
       "1.208    1\n",
       "2.968    1\n",
       "Name: predict_rainfall, Length: 140, dtype: int64"
      ]
     },
     "metadata": {},
     "execution_count": 137
    }
   ],
   "source": [
    "predict['predict_rainfall'].value_counts()\n"
   ]
  },
  {
   "cell_type": "code",
   "execution_count": 138,
   "metadata": {},
   "outputs": [],
   "source": [
    "predict.to_csv('rainfall_predicting.csv')"
   ]
  },
  {
   "cell_type": "code",
   "execution_count": null,
   "metadata": {},
   "outputs": [],
   "source": []
  }
 ]
}