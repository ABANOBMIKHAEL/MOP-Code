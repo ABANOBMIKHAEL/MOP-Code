{
  "nbformat": 4,
  "nbformat_minor": 0,
  "metadata": {
    "colab": {
      "name": "Preditct_IndependentVariables.ipynb",
      "provenance": [],
      "collapsed_sections": []
    },
    "kernelspec": {
      "name": "python3",
      "display_name": "Python 3"
    },
    "language_info": {
      "name": "python"
    }
  },
  "cells": [
    {
      "cell_type": "code",
      "metadata": {
        "id": "j8qphZFZ_j8-",
        "colab": {
          "base_uri": "https://localhost:8080/"
        },
        "outputId": "8176fdba-ea1f-4214-deed-3cc70fcad952"
      },
      "source": [
        "pip install holidays"
      ],
      "execution_count": null,
      "outputs": [
        {
          "output_type": "stream",
          "text": [
            "Requirement already satisfied: holidays in /usr/local/lib/python3.7/dist-packages (0.10.5.2)\n",
            "Requirement already satisfied: convertdate>=2.3.0 in /usr/local/lib/python3.7/dist-packages (from holidays) (2.3.2)\n",
            "Requirement already satisfied: six in /usr/local/lib/python3.7/dist-packages (from holidays) (1.15.0)\n",
            "Requirement already satisfied: korean-lunar-calendar in /usr/local/lib/python3.7/dist-packages (from holidays) (0.2.1)\n",
            "Requirement already satisfied: python-dateutil in /usr/local/lib/python3.7/dist-packages (from holidays) (2.8.1)\n",
            "Requirement already satisfied: hijri-converter in /usr/local/lib/python3.7/dist-packages (from holidays) (2.1.1)\n",
            "Requirement already satisfied: pytz>=2014.10 in /usr/local/lib/python3.7/dist-packages (from convertdate>=2.3.0->holidays) (2018.9)\n",
            "Requirement already satisfied: pymeeus<=1,>=0.3.13 in /usr/local/lib/python3.7/dist-packages (from convertdate>=2.3.0->holidays) (0.5.11)\n"
          ],
          "name": "stdout"
        }
      ]
    },
    {
      "cell_type": "code",
      "metadata": {
        "id": "y1EI8N-qf_-q"
      },
      "source": [
        "#Import Statement\n",
        "from datetime import date\n",
        "import holidays\n",
        "import pandas as pd"
      ],
      "execution_count": 1,
      "outputs": []
    },
    {
      "cell_type": "code",
      "metadata": {
        "colab": {
          "base_uri": "https://localhost:8080/"
        },
        "id": "4IEH71bFrTuf",
        "outputId": "0dd4a32e-008a-43b7-9550-6ebb3526540b"
      },
      "source": [
        "#Identify the holidays in Australia\n",
        "australia_holidays = holidays.Australia(years = 2021, prov = 'VIC')\n",
        "holidaylist = []  \n",
        "for date, name in australia_holidays.items():\n",
        "  holidaylist.append(date.strftime(\"%m/%d/%Y\"))\n",
        "  print(date,name)\n",
        "print(holidaylist)"
      ],
      "execution_count": 103,
      "outputs": [
        {
          "output_type": "stream",
          "text": [
            "2021-01-01 New Year's Day\n",
            "2021-01-26 Australia Day\n",
            "2021-04-02 Good Friday\n",
            "2021-04-03 Easter Saturday\n",
            "2021-04-04 Easter Sunday\n",
            "2021-04-05 Easter Monday\n",
            "2021-04-25 Anzac Day\n",
            "2021-06-14 Queen's Birthday\n",
            "2021-03-08 Labour Day\n",
            "2021-09-24 Grand Final Day\n",
            "2021-11-02 Melbourne Cup\n",
            "2021-12-25 Christmas Day\n",
            "2021-12-27 Christmas Day (Observed)\n",
            "2021-12-26 Boxing Day\n",
            "2021-12-28 Boxing Day (Observed)\n",
            "['01/01/2021', '01/26/2021', '04/02/2021', '04/03/2021', '04/04/2021', '04/05/2021', '04/25/2021', '06/14/2021', '03/08/2021', '09/24/2021', '11/02/2021', '12/25/2021', '12/27/2021', '12/26/2021', '12/28/2021']\n"
          ],
          "name": "stdout"
        }
      ]
    },
    {
      "cell_type": "code",
      "metadata": {
        "id": "SIFo4CgoreFV"
      },
      "source": [
        "#Import statement\n",
        "from datetime import timedelta, date\n",
        "\n",
        "#Generate a list of dates March 2021 to August 2021\n",
        "datelist = []\n",
        "def daterange(date1, date2):\n",
        "    for n in range(int ((date2 - date1).days)+1):\n",
        "        yield date1 + timedelta(n)\n",
        "\n",
        "start_dt = date(2021, 3, 1)\n",
        "end_dt = date(2021, 8, 31)\n",
        "for dt in daterange(start_dt, end_dt):\n",
        "    datelist.append(dt.strftime(\"%m/%d/%Y\"))"
      ],
      "execution_count": 104,
      "outputs": []
    },
    {
      "cell_type": "code",
      "metadata": {
        "colab": {
          "base_uri": "https://localhost:8080/",
          "height": 195
        },
        "id": "D1-Krb-JusGU",
        "outputId": "0c245c69-e045-4279-e5ab-e27d266210f7"
      },
      "source": [
        "#Create new dataframe and assign date column\n",
        "dataset = pd.DataFrame(datelist, columns = ['date'])\n",
        "dataset.head()"
      ],
      "execution_count": 105,
      "outputs": [
        {
          "output_type": "execute_result",
          "data": {
            "text/html": [
              "<div>\n",
              "<style scoped>\n",
              "    .dataframe tbody tr th:only-of-type {\n",
              "        vertical-align: middle;\n",
              "    }\n",
              "\n",
              "    .dataframe tbody tr th {\n",
              "        vertical-align: top;\n",
              "    }\n",
              "\n",
              "    .dataframe thead th {\n",
              "        text-align: right;\n",
              "    }\n",
              "</style>\n",
              "<table border=\"1\" class=\"dataframe\">\n",
              "  <thead>\n",
              "    <tr style=\"text-align: right;\">\n",
              "      <th></th>\n",
              "      <th>date</th>\n",
              "    </tr>\n",
              "  </thead>\n",
              "  <tbody>\n",
              "    <tr>\n",
              "      <th>0</th>\n",
              "      <td>03/01/2021</td>\n",
              "    </tr>\n",
              "    <tr>\n",
              "      <th>1</th>\n",
              "      <td>03/02/2021</td>\n",
              "    </tr>\n",
              "    <tr>\n",
              "      <th>2</th>\n",
              "      <td>03/03/2021</td>\n",
              "    </tr>\n",
              "    <tr>\n",
              "      <th>3</th>\n",
              "      <td>03/04/2021</td>\n",
              "    </tr>\n",
              "    <tr>\n",
              "      <th>4</th>\n",
              "      <td>03/05/2021</td>\n",
              "    </tr>\n",
              "  </tbody>\n",
              "</table>\n",
              "</div>"
            ],
            "text/plain": [
              "         date\n",
              "0  03/01/2021\n",
              "1  03/02/2021\n",
              "2  03/03/2021\n",
              "3  03/04/2021\n",
              "4  03/05/2021"
            ]
          },
          "metadata": {
            "tags": []
          },
          "execution_count": 105
        }
      ]
    },
    {
      "cell_type": "code",
      "metadata": {
        "colab": {
          "base_uri": "https://localhost:8080/",
          "height": 195
        },
        "id": "UHcFXJnZwJxf",
        "outputId": "02b9c028-e392-4894-bc04-9755bd8e536d"
      },
      "source": [
        "#Add new column school day and holiday\n",
        "dataset['school_day'] = 'Y'\n",
        "dataset['holiday'] = 'N'\n",
        "dataset.head()"
      ],
      "execution_count": 106,
      "outputs": [
        {
          "output_type": "execute_result",
          "data": {
            "text/html": [
              "<div>\n",
              "<style scoped>\n",
              "    .dataframe tbody tr th:only-of-type {\n",
              "        vertical-align: middle;\n",
              "    }\n",
              "\n",
              "    .dataframe tbody tr th {\n",
              "        vertical-align: top;\n",
              "    }\n",
              "\n",
              "    .dataframe thead th {\n",
              "        text-align: right;\n",
              "    }\n",
              "</style>\n",
              "<table border=\"1\" class=\"dataframe\">\n",
              "  <thead>\n",
              "    <tr style=\"text-align: right;\">\n",
              "      <th></th>\n",
              "      <th>date</th>\n",
              "      <th>school_day</th>\n",
              "      <th>holiday</th>\n",
              "    </tr>\n",
              "  </thead>\n",
              "  <tbody>\n",
              "    <tr>\n",
              "      <th>0</th>\n",
              "      <td>03/01/2021</td>\n",
              "      <td>Y</td>\n",
              "      <td>N</td>\n",
              "    </tr>\n",
              "    <tr>\n",
              "      <th>1</th>\n",
              "      <td>03/02/2021</td>\n",
              "      <td>Y</td>\n",
              "      <td>N</td>\n",
              "    </tr>\n",
              "    <tr>\n",
              "      <th>2</th>\n",
              "      <td>03/03/2021</td>\n",
              "      <td>Y</td>\n",
              "      <td>N</td>\n",
              "    </tr>\n",
              "    <tr>\n",
              "      <th>3</th>\n",
              "      <td>03/04/2021</td>\n",
              "      <td>Y</td>\n",
              "      <td>N</td>\n",
              "    </tr>\n",
              "    <tr>\n",
              "      <th>4</th>\n",
              "      <td>03/05/2021</td>\n",
              "      <td>Y</td>\n",
              "      <td>N</td>\n",
              "    </tr>\n",
              "  </tbody>\n",
              "</table>\n",
              "</div>"
            ],
            "text/plain": [
              "         date school_day holiday\n",
              "0  03/01/2021          Y       N\n",
              "1  03/02/2021          Y       N\n",
              "2  03/03/2021          Y       N\n",
              "3  03/04/2021          Y       N\n",
              "4  03/05/2021          Y       N"
            ]
          },
          "metadata": {
            "tags": []
          },
          "execution_count": 106
        }
      ]
    },
    {
      "cell_type": "code",
      "metadata": {
        "colab": {
          "base_uri": "https://localhost:8080/",
          "height": 254
        },
        "id": "oFl7bDPIwj2o",
        "outputId": "a3aead9a-abb0-4f3f-819b-286f9da1f9b1"
      },
      "source": [
        "#Modify the label of holiday column depending on identified holidays\n",
        "dataset['holiday'].loc[dataset['date'].isin(holidaylist)] = 'Y'\n",
        "dataset['school_day'].loc[dataset['date'].isin(holidaylist)] = 'N'\n",
        "dataset.loc[dataset['date'].isin(holidaylist)]"
      ],
      "execution_count": 107,
      "outputs": [
        {
          "output_type": "execute_result",
          "data": {
            "text/html": [
              "<div>\n",
              "<style scoped>\n",
              "    .dataframe tbody tr th:only-of-type {\n",
              "        vertical-align: middle;\n",
              "    }\n",
              "\n",
              "    .dataframe tbody tr th {\n",
              "        vertical-align: top;\n",
              "    }\n",
              "\n",
              "    .dataframe thead th {\n",
              "        text-align: right;\n",
              "    }\n",
              "</style>\n",
              "<table border=\"1\" class=\"dataframe\">\n",
              "  <thead>\n",
              "    <tr style=\"text-align: right;\">\n",
              "      <th></th>\n",
              "      <th>date</th>\n",
              "      <th>school_day</th>\n",
              "      <th>holiday</th>\n",
              "    </tr>\n",
              "  </thead>\n",
              "  <tbody>\n",
              "    <tr>\n",
              "      <th>7</th>\n",
              "      <td>03/08/2021</td>\n",
              "      <td>N</td>\n",
              "      <td>Y</td>\n",
              "    </tr>\n",
              "    <tr>\n",
              "      <th>32</th>\n",
              "      <td>04/02/2021</td>\n",
              "      <td>N</td>\n",
              "      <td>Y</td>\n",
              "    </tr>\n",
              "    <tr>\n",
              "      <th>33</th>\n",
              "      <td>04/03/2021</td>\n",
              "      <td>N</td>\n",
              "      <td>Y</td>\n",
              "    </tr>\n",
              "    <tr>\n",
              "      <th>34</th>\n",
              "      <td>04/04/2021</td>\n",
              "      <td>N</td>\n",
              "      <td>Y</td>\n",
              "    </tr>\n",
              "    <tr>\n",
              "      <th>35</th>\n",
              "      <td>04/05/2021</td>\n",
              "      <td>N</td>\n",
              "      <td>Y</td>\n",
              "    </tr>\n",
              "    <tr>\n",
              "      <th>55</th>\n",
              "      <td>04/25/2021</td>\n",
              "      <td>N</td>\n",
              "      <td>Y</td>\n",
              "    </tr>\n",
              "    <tr>\n",
              "      <th>105</th>\n",
              "      <td>06/14/2021</td>\n",
              "      <td>N</td>\n",
              "      <td>Y</td>\n",
              "    </tr>\n",
              "  </tbody>\n",
              "</table>\n",
              "</div>"
            ],
            "text/plain": [
              "           date school_day holiday\n",
              "7    03/08/2021          N       Y\n",
              "32   04/02/2021          N       Y\n",
              "33   04/03/2021          N       Y\n",
              "34   04/04/2021          N       Y\n",
              "35   04/05/2021          N       Y\n",
              "55   04/25/2021          N       Y\n",
              "105  06/14/2021          N       Y"
            ]
          },
          "metadata": {
            "tags": []
          },
          "execution_count": 107
        }
      ]
    },
    {
      "cell_type": "code",
      "metadata": {
        "id": "QugBif3jzKT8"
      },
      "source": [
        "#List for school term holidays\n",
        "datelist = []\n",
        "for dt in daterange(date(2021, 4, 2), date(2021, 4, 18)):\n",
        "    datelist.append(dt.strftime(\"%m/%d/%Y\"))\n",
        "for dt in daterange(date(2021, 6, 26), date(2021, 7, 11)):\n",
        "    datelist.append(dt.strftime(\"%m/%d/%Y\"))"
      ],
      "execution_count": 108,
      "outputs": []
    },
    {
      "cell_type": "code",
      "metadata": {
        "id": "dxzE24JA0U1q"
      },
      "source": [
        "#Modify the label for school term holidays\n",
        "dataset['school_day'].loc[dataset['date'].isin(datelist)] = 'N'"
      ],
      "execution_count": 109,
      "outputs": []
    },
    {
      "cell_type": "code",
      "metadata": {
        "id": "TmC6Sh5-gVc4"
      },
      "source": [
        "#Generate each sunday in year 2021\n",
        "from datetime import date, timedelta\n",
        "datelist = []\n",
        "def allsundays(year):\n",
        "   d = date(year, 1, 1)                    # January 1st\n",
        "   d += timedelta(days = 6 - d.weekday())  # First Sunday\n",
        "   while d.year == year:\n",
        "      yield d\n",
        "      d += timedelta(days = 7)\n",
        "for d in allsundays(2021):\n",
        "   datelist.append(d.strftime(\"%m/%d/%Y\"))"
      ],
      "execution_count": 112,
      "outputs": []
    },
    {
      "cell_type": "code",
      "metadata": {
        "id": "96eQ-iKFiHd7"
      },
      "source": [
        "#Modify the label of the school day for Sundays\n",
        "dataset['school_day'].loc[dataset['date'].isin(datelist)] = 'N'"
      ],
      "execution_count": 113,
      "outputs": []
    },
    {
      "cell_type": "code",
      "metadata": {
        "id": "6q4RMb1vgl9R"
      },
      "source": [
        "#Generate each Saturday in year 2021\n",
        "from datetime import date, timedelta\n",
        "datelist = []\n",
        "def allsaturday(year):\n",
        "   d = date(year, 1, 1)                    # January 1st\n",
        "   d += timedelta(days = 5 - d.weekday())  # First saturday\n",
        "   while d.year == year:\n",
        "      yield d\n",
        "      d += timedelta(days = 7)\n",
        "for d in allsaturday(2021):\n",
        "   datelist.append(d.strftime(\"%m/%d/%Y\"))"
      ],
      "execution_count": 114,
      "outputs": []
    },
    {
      "cell_type": "code",
      "metadata": {
        "id": "fSbbPKovkQtZ"
      },
      "source": [
        "#Modify the label of the school day for Saturdays\n",
        "dataset['school_day'].loc[dataset['date'].isin(datelist)] = 'N'"
      ],
      "execution_count": 115,
      "outputs": []
    },
    {
      "cell_type": "code",
      "metadata": {
        "colab": {
          "base_uri": "https://localhost:8080/",
          "height": 254
        },
        "id": "RSXXWjwCkgvO",
        "outputId": "6a5ee97a-89e5-490c-c332-c24e59e2a2e2"
      },
      "source": [
        "dataset.head(7)"
      ],
      "execution_count": 116,
      "outputs": [
        {
          "output_type": "execute_result",
          "data": {
            "text/html": [
              "<div>\n",
              "<style scoped>\n",
              "    .dataframe tbody tr th:only-of-type {\n",
              "        vertical-align: middle;\n",
              "    }\n",
              "\n",
              "    .dataframe tbody tr th {\n",
              "        vertical-align: top;\n",
              "    }\n",
              "\n",
              "    .dataframe thead th {\n",
              "        text-align: right;\n",
              "    }\n",
              "</style>\n",
              "<table border=\"1\" class=\"dataframe\">\n",
              "  <thead>\n",
              "    <tr style=\"text-align: right;\">\n",
              "      <th></th>\n",
              "      <th>date</th>\n",
              "      <th>school_day</th>\n",
              "      <th>holiday</th>\n",
              "    </tr>\n",
              "  </thead>\n",
              "  <tbody>\n",
              "    <tr>\n",
              "      <th>0</th>\n",
              "      <td>03/01/2021</td>\n",
              "      <td>Y</td>\n",
              "      <td>N</td>\n",
              "    </tr>\n",
              "    <tr>\n",
              "      <th>1</th>\n",
              "      <td>03/02/2021</td>\n",
              "      <td>Y</td>\n",
              "      <td>N</td>\n",
              "    </tr>\n",
              "    <tr>\n",
              "      <th>2</th>\n",
              "      <td>03/03/2021</td>\n",
              "      <td>Y</td>\n",
              "      <td>N</td>\n",
              "    </tr>\n",
              "    <tr>\n",
              "      <th>3</th>\n",
              "      <td>03/04/2021</td>\n",
              "      <td>Y</td>\n",
              "      <td>N</td>\n",
              "    </tr>\n",
              "    <tr>\n",
              "      <th>4</th>\n",
              "      <td>03/05/2021</td>\n",
              "      <td>Y</td>\n",
              "      <td>N</td>\n",
              "    </tr>\n",
              "    <tr>\n",
              "      <th>5</th>\n",
              "      <td>03/06/2021</td>\n",
              "      <td>N</td>\n",
              "      <td>N</td>\n",
              "    </tr>\n",
              "    <tr>\n",
              "      <th>6</th>\n",
              "      <td>03/07/2021</td>\n",
              "      <td>N</td>\n",
              "      <td>N</td>\n",
              "    </tr>\n",
              "  </tbody>\n",
              "</table>\n",
              "</div>"
            ],
            "text/plain": [
              "         date school_day holiday\n",
              "0  03/01/2021          Y       N\n",
              "1  03/02/2021          Y       N\n",
              "2  03/03/2021          Y       N\n",
              "3  03/04/2021          Y       N\n",
              "4  03/05/2021          Y       N\n",
              "5  03/06/2021          N       N\n",
              "6  03/07/2021          N       N"
            ]
          },
          "metadata": {
            "tags": []
          },
          "execution_count": 116
        }
      ]
    },
    {
      "cell_type": "code",
      "metadata": {
        "colab": {
          "base_uri": "https://localhost:8080/",
          "height": 17
        },
        "id": "2xgCaKJFqYfO",
        "outputId": "6afca083-5705-41ee-c48b-3368f2b47e0d"
      },
      "source": [
        "#Converting dataframe to csv file and downloading the file\n",
        "from google.colab import files\n",
        "dataset.to_csv('Schooldayholiday.csv') \n",
        "files.download('Schooldayholiday.csv')"
      ],
      "execution_count": 120,
      "outputs": [
        {
          "output_type": "display_data",
          "data": {
            "application/javascript": [
              "\n",
              "    async function download(id, filename, size) {\n",
              "      if (!google.colab.kernel.accessAllowed) {\n",
              "        return;\n",
              "      }\n",
              "      const div = document.createElement('div');\n",
              "      const label = document.createElement('label');\n",
              "      label.textContent = `Downloading \"${filename}\": `;\n",
              "      div.appendChild(label);\n",
              "      const progress = document.createElement('progress');\n",
              "      progress.max = size;\n",
              "      div.appendChild(progress);\n",
              "      document.body.appendChild(div);\n",
              "\n",
              "      const buffers = [];\n",
              "      let downloaded = 0;\n",
              "\n",
              "      const channel = await google.colab.kernel.comms.open(id);\n",
              "      // Send a message to notify the kernel that we're ready.\n",
              "      channel.send({})\n",
              "\n",
              "      for await (const message of channel.messages) {\n",
              "        // Send a message to notify the kernel that we're ready.\n",
              "        channel.send({})\n",
              "        if (message.buffers) {\n",
              "          for (const buffer of message.buffers) {\n",
              "            buffers.push(buffer);\n",
              "            downloaded += buffer.byteLength;\n",
              "            progress.value = downloaded;\n",
              "          }\n",
              "        }\n",
              "      }\n",
              "      const blob = new Blob(buffers, {type: 'application/binary'});\n",
              "      const a = document.createElement('a');\n",
              "      a.href = window.URL.createObjectURL(blob);\n",
              "      a.download = filename;\n",
              "      div.appendChild(a);\n",
              "      a.click();\n",
              "      div.remove();\n",
              "    }\n",
              "  "
            ],
            "text/plain": [
              "<IPython.core.display.Javascript object>"
            ]
          },
          "metadata": {
            "tags": []
          }
        },
        {
          "output_type": "display_data",
          "data": {
            "application/javascript": [
              "download(\"download_c296a07b-2a1a-4059-9270-2d3b6c49ed99\", \"Schooldayholiday.csv\", 3411)"
            ],
            "text/plain": [
              "<IPython.core.display.Javascript object>"
            ]
          },
          "metadata": {
            "tags": []
          }
        }
      ]
    }
  ]
}