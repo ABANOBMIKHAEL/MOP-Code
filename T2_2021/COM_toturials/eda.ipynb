{
 "cells": [
  {
   "cell_type": "code",
   "execution_count": 1,
   "source": [
    "import pandas as pd\r\n",
    "from sodapy import Socrata\r\n",
    "\r\n",
    "\r\n",
    "client = Socrata(\"data.melbourne.vic.gov.au\", None)\r\n",
    "\r\n",
    "\r\n",
    "CPBL = client.get(\"vh2v-4nfs\", limit=2000)  #CPBL:CarParkBayLocation\r\n",
    "CPBL_df = pd.DataFrame.from_records(CPBL)\r\n",
    "\r\n",
    "CPBR = client.get(\"ntht-5rk7\", limit=20000)#CPBR:Car Park Bay Restrictions\r\n",
    "CPBR_df = pd.DataFrame.from_records(CPBR)\r\n",
    "\r\n",
    "\r\n",
    "#*****\r\n",
    "merge_df=pd.merge(CPBL_df,CPBR_df,left_on='bay_id',right_on='bayid', how='left')\r\n",
    "merge_df.isnull().any()\r\n",
    "#merge_df.info()\r\n",
    "df=merge_df.iloc[:,[0,1,2,4,5,9,10,11,12,13,16,17,18]]\r\n",
    "df[['lat','lon','disabilityext1','duration1']].apply(pd.to_numeric)\r\n",
    "#df.head(5)\r\n",
    "#df.describe()\r\n",
    "#*******"
   ],
   "outputs": [
    {
     "output_type": "stream",
     "name": "stderr",
     "text": [
      "WARNING:root:Requests made without an app_token will be subject to strict throttling limits.\n"
     ]
    },
    {
     "output_type": "execute_result",
     "data": {
      "text/plain": [
       "            lat         lon  disabilityext1  duration1\n",
       "0    -37.805262  144.953755           480.0      240.0\n",
       "1    -37.816650  144.981304           480.0      240.0\n",
       "2    -37.813855  144.954690             0.0        0.0\n",
       "3    -37.815612  144.982548            30.0       15.0\n",
       "4    -37.804978  144.956915            60.0       30.0\n",
       "...         ...         ...             ...        ...\n",
       "1093 -37.803326  144.952904           120.0       60.0\n",
       "1094 -37.804378  144.957712            60.0       30.0\n",
       "1095 -37.816754  144.966093             0.0      120.0\n",
       "1096 -37.802541  144.945822             0.0       30.0\n",
       "1097 -37.805321  144.958144            60.0       30.0\n",
       "\n",
       "[1098 rows x 4 columns]"
      ],
      "text/html": [
       "<div>\n",
       "<style scoped>\n",
       "    .dataframe tbody tr th:only-of-type {\n",
       "        vertical-align: middle;\n",
       "    }\n",
       "\n",
       "    .dataframe tbody tr th {\n",
       "        vertical-align: top;\n",
       "    }\n",
       "\n",
       "    .dataframe thead th {\n",
       "        text-align: right;\n",
       "    }\n",
       "</style>\n",
       "<table border=\"1\" class=\"dataframe\">\n",
       "  <thead>\n",
       "    <tr style=\"text-align: right;\">\n",
       "      <th></th>\n",
       "      <th>lat</th>\n",
       "      <th>lon</th>\n",
       "      <th>disabilityext1</th>\n",
       "      <th>duration1</th>\n",
       "    </tr>\n",
       "  </thead>\n",
       "  <tbody>\n",
       "    <tr>\n",
       "      <th>0</th>\n",
       "      <td>-37.805262</td>\n",
       "      <td>144.953755</td>\n",
       "      <td>480.0</td>\n",
       "      <td>240.0</td>\n",
       "    </tr>\n",
       "    <tr>\n",
       "      <th>1</th>\n",
       "      <td>-37.816650</td>\n",
       "      <td>144.981304</td>\n",
       "      <td>480.0</td>\n",
       "      <td>240.0</td>\n",
       "    </tr>\n",
       "    <tr>\n",
       "      <th>2</th>\n",
       "      <td>-37.813855</td>\n",
       "      <td>144.954690</td>\n",
       "      <td>0.0</td>\n",
       "      <td>0.0</td>\n",
       "    </tr>\n",
       "    <tr>\n",
       "      <th>3</th>\n",
       "      <td>-37.815612</td>\n",
       "      <td>144.982548</td>\n",
       "      <td>30.0</td>\n",
       "      <td>15.0</td>\n",
       "    </tr>\n",
       "    <tr>\n",
       "      <th>4</th>\n",
       "      <td>-37.804978</td>\n",
       "      <td>144.956915</td>\n",
       "      <td>60.0</td>\n",
       "      <td>30.0</td>\n",
       "    </tr>\n",
       "    <tr>\n",
       "      <th>...</th>\n",
       "      <td>...</td>\n",
       "      <td>...</td>\n",
       "      <td>...</td>\n",
       "      <td>...</td>\n",
       "    </tr>\n",
       "    <tr>\n",
       "      <th>1093</th>\n",
       "      <td>-37.803326</td>\n",
       "      <td>144.952904</td>\n",
       "      <td>120.0</td>\n",
       "      <td>60.0</td>\n",
       "    </tr>\n",
       "    <tr>\n",
       "      <th>1094</th>\n",
       "      <td>-37.804378</td>\n",
       "      <td>144.957712</td>\n",
       "      <td>60.0</td>\n",
       "      <td>30.0</td>\n",
       "    </tr>\n",
       "    <tr>\n",
       "      <th>1095</th>\n",
       "      <td>-37.816754</td>\n",
       "      <td>144.966093</td>\n",
       "      <td>0.0</td>\n",
       "      <td>120.0</td>\n",
       "    </tr>\n",
       "    <tr>\n",
       "      <th>1096</th>\n",
       "      <td>-37.802541</td>\n",
       "      <td>144.945822</td>\n",
       "      <td>0.0</td>\n",
       "      <td>30.0</td>\n",
       "    </tr>\n",
       "    <tr>\n",
       "      <th>1097</th>\n",
       "      <td>-37.805321</td>\n",
       "      <td>144.958144</td>\n",
       "      <td>60.0</td>\n",
       "      <td>30.0</td>\n",
       "    </tr>\n",
       "  </tbody>\n",
       "</table>\n",
       "<p>1098 rows × 4 columns</p>\n",
       "</div>"
      ]
     },
     "metadata": {},
     "execution_count": 1
    }
   ],
   "metadata": {}
  },
  {
   "cell_type": "markdown",
   "source": [
    "# Build Map"
   ],
   "metadata": {}
  },
  {
   "cell_type": "code",
   "execution_count": 2,
   "source": [
    "import folium\r\n",
    "import webbrowser\r\n",
    "# add pop-up text to each marker on the map\r\n",
    "latitude = -37.82\r\n",
    "longitude = 144.95\r\n",
    "\r\n",
    "# Create map and display it\r\n",
    "map = folium.Map([latitude, longitude], zoom_start=14)\r\n",
    "\r\n",
    "# Display the map of Melbourne\r\n",
    "#map\r\n",
    "# Instantiate a feature group for the incidents in the dataframe\r\n",
    "latitudesU = list(df[df['status']=='Unoccupied'].lat)\r\n",
    "longitudesU = list(df[df['status']=='Unoccupied'].lon)\r\n",
    "#incidents = folium.map.FeatureGroup()\r\n",
    "labelsU = list(df[df['status']=='Unoccupied'].status)\r\n",
    "\r\n",
    "for lat, lng, label in zip(latitudesU, longitudesU, labelsU):\r\n",
    "    status_map=folium.Marker(\r\n",
    "    location=[lat, lng],\r\n",
    "    popup=label,\r\n",
    "    icon=folium.Icon(color='blue', icon='ok-sign') \r\n",
    "    ).add_to(map)    \r\n",
    "\r\n",
    "latitudesP = list(df[df['status']=='Present'].lat)\r\n",
    "longitudesP = list(df[df['status']=='Present'].lon)\r\n",
    "#incidents = folium.map.FeatureGroup()\r\n",
    "labelsP = list(df[df['status']=='Present'].status)\r\n",
    "\r\n",
    "for lat, lng, label in zip(latitudesP, longitudesP, labelsP):\r\n",
    "    status_map=folium.Marker(\r\n",
    "    location=[lat, lng],\r\n",
    "    popup=label,\r\n",
    "    icon=folium.Icon(color='Red', icon='info-sign') \r\n",
    "    ).add_to(map)    \r\n",
    "\r\n",
    "\r\n",
    "# add incidents to map\r\n",
    "#status_map=map.add_child(incidents)\r\n"
   ],
   "outputs": [
    {
     "output_type": "stream",
     "name": "stderr",
     "text": [
      "D:\\Program Files\\Anaconda3\\lib\\site-packages\\ipykernel_launcher.py:34: UserWarning: color argument of Icon should be one of: {'darkred', 'gray', 'green', 'lightgray', 'lightred', 'darkpurple', 'darkgreen', 'red', 'lightgreen', 'black', 'white', 'blue', 'lightblue', 'beige', 'orange', 'purple', 'darkblue', 'pink', 'cadetblue'}.\n"
     ]
    }
   ],
   "metadata": {}
  },
  {
   "cell_type": "markdown",
   "source": [
    "## Map Show"
   ],
   "metadata": {}
  },
  {
   "cell_type": "code",
   "execution_count": 3,
   "source": [
    "import os \r\n",
    "\r\n",
    "geo_name = 'Geo_Map.html'\r\n",
    "#to save it in a file\r\n",
    "status_map.save('images/'+geo_name)\r\n",
    "webbrowser.open('images/'+geo_name)\r\n",
    "\r\n",
    "image_path = \"file://\"+os.getcwd()+ '/'+ 'images/'+geo_name\r\n",
    "webbrowser.open(image_path)\r\n",
    "\r\n"
   ],
   "outputs": [
    {
     "output_type": "execute_result",
     "data": {
      "text/plain": [
       "True"
      ]
     },
     "metadata": {},
     "execution_count": 3
    }
   ],
   "metadata": {}
  }
 ],
 "metadata": {
  "orig_nbformat": 4,
  "language_info": {
   "name": "python",
   "version": "3.7.4",
   "mimetype": "text/x-python",
   "codemirror_mode": {
    "name": "ipython",
    "version": 3
   },
   "pygments_lexer": "ipython3",
   "nbconvert_exporter": "python",
   "file_extension": ".py"
  },
  "kernelspec": {
   "name": "python3",
   "display_name": "Python 3.7.4 64-bit ('base': conda)"
  },
  "interpreter": {
   "hash": "9387e9e37a0af8fff0fcbade4737076ebc87d0c8fec44545ee3d2fd05cdc73df"
  }
 },
 "nbformat": 4,
 "nbformat_minor": 2
}