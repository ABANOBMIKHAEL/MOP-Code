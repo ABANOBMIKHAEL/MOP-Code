{
 "cells": [
  {
   "cell_type": "code",
   "execution_count": 61,
   "id": "convinced-calculation",
   "metadata": {},
   "outputs": [],
   "source": [
    "import numpy as np\n",
    "import pandas as pd\n",
    "from datetime import datetime\n",
    "\n",
    "# https://pandas.pydata.org/pandas-docs/stable/user_guide/timeseries.html\n",
    "# https://pandas.pydata.org/pandas-docs/stable/reference/api/pandas.date_range.html\n",
    "# https://pandas.pydata.org/pandas-docs/stable/user_guide/timeseries.html#timeseries-offset-aliases\n",
    "# https://datatofish.com/random-integers-pandas-dataframe/\n",
    "# https://pandas.pydata.org/docs/reference/api/pandas.Series.dt.dayofweek.html\n",
    "# https://stackoverflow.com/questions/29096381/num-day-to-name-day-with-pandas\n",
    "\n",
    "# ???\n",
    "# https://towardsdatascience.com/how-to-group-data-by-different-time-intervals-using-python-pandas-eb7134f9b9b0\n",
    "# https://pandas.pydata.org/pandas-docs/stable/reference/api/pandas.DataFrame.resample.html\n",
    "# https://pandas.pydata.org/pandas-docs/stable/reference/api/pandas.Grouper.html"
   ]
  },
  {
   "cell_type": "code",
   "execution_count": 130,
   "id": "automotive-remains",
   "metadata": {},
   "outputs": [
    {
     "data": {
      "text/html": [
       "<div>\n",
       "<style scoped>\n",
       "    .dataframe tbody tr th:only-of-type {\n",
       "        vertical-align: middle;\n",
       "    }\n",
       "\n",
       "    .dataframe tbody tr th {\n",
       "        vertical-align: top;\n",
       "    }\n",
       "\n",
       "    .dataframe thead th {\n",
       "        text-align: right;\n",
       "    }\n",
       "</style>\n",
       "<table border=\"1\" class=\"dataframe\">\n",
       "  <thead>\n",
       "    <tr style=\"text-align: right;\">\n",
       "      <th></th>\n",
       "      <th>bay_id</th>\n",
       "      <th>db_read_time</th>\n",
       "      <th>status</th>\n",
       "    </tr>\n",
       "  </thead>\n",
       "  <tbody>\n",
       "    <tr>\n",
       "      <th>0</th>\n",
       "      <td>1004</td>\n",
       "      <td>2021-07-04 15:16:23</td>\n",
       "      <td>Present</td>\n",
       "    </tr>\n",
       "    <tr>\n",
       "      <th>1</th>\n",
       "      <td>1004</td>\n",
       "      <td>2021-07-04 15:31:23</td>\n",
       "      <td>Present</td>\n",
       "    </tr>\n",
       "    <tr>\n",
       "      <th>2</th>\n",
       "      <td>1001</td>\n",
       "      <td>2021-07-04 15:46:23</td>\n",
       "      <td>Unoccupied</td>\n",
       "    </tr>\n",
       "    <tr>\n",
       "      <th>3</th>\n",
       "      <td>1004</td>\n",
       "      <td>2021-07-04 16:01:23</td>\n",
       "      <td>Present</td>\n",
       "    </tr>\n",
       "    <tr>\n",
       "      <th>4</th>\n",
       "      <td>1004</td>\n",
       "      <td>2021-07-04 16:16:23</td>\n",
       "      <td>Present</td>\n",
       "    </tr>\n",
       "  </tbody>\n",
       "</table>\n",
       "</div>"
      ],
      "text/plain": [
       "   bay_id        db_read_time      status\n",
       "0    1004 2021-07-04 15:16:23     Present\n",
       "1    1004 2021-07-04 15:31:23     Present\n",
       "2    1001 2021-07-04 15:46:23  Unoccupied\n",
       "3    1004 2021-07-04 16:01:23     Present\n",
       "4    1004 2021-07-04 16:16:23     Present"
      ]
     },
     "execution_count": 130,
     "metadata": {},
     "output_type": "execute_result"
    }
   ],
   "source": [
    "## 001 ##\n",
    "# create 2 months's worth of dummy time data of parking sensor bays\n",
    "w = pd.Series(pd.date_range(end=\"2021-09-02 15:01:23\", periods=4*24*30*2, freq=\"15min\"))\n",
    "\n",
    "a = pd.Series(np.random.randint(998,1006,size=len(w)))\n",
    "b = pd.Series(np.random.randint(998,1006,size=len(w)))\n",
    "c = pd.Series(np.random.randint(998,1006,size=len(w)))\n",
    "\n",
    "aw = pd.concat([a,w], axis=1)\n",
    "bw = pd.concat([b,w], axis=1)\n",
    "cw = pd.concat([c,w], axis=1)\n",
    "\n",
    "df = pd.concat([aw,bw,cw], axis=0).reset_index(drop=True)\n",
    "df.columns = ['bay_id','db_read_time']\n",
    "df = df.drop_duplicates()\n",
    "\n",
    "df['status'] = np.random.randint(0,2,size=len(df))\n",
    "df['status'] = df['status'].replace({0:\"Unoccupied\", 1:\"Present\"})\n",
    "\n",
    "# df['date'] = df['db_read_time'].dt.date  #.astype('datetime64')\n",
    "# df['hour'] = df['db_read_time'].dt.hour\n",
    "# df['min'] = df['db_read_time'].dt.minute\n",
    "# df['dow'] = df['db_read_time'].dt.dayofweek\n",
    "# df['dayOfWeek'] = df[['db_read_time']].apply(lambda x:datetime.strftime(x['db_read_time'], '%a'), axis=1)\n",
    "\n",
    "# print(df.nunique(),\"\\n\")\n",
    "# print(df.describe(),\"\\n\")\n",
    "# print(df.info(),\"\\n\")\n",
    "df.head()\n",
    "\n",
    "# df.to_csv(\"datasets/dummyTimeData_parkingSensors.csv\", index=False)"
   ]
  },
  {
   "cell_type": "code",
   "execution_count": null,
   "id": "vocational-scoop",
   "metadata": {},
   "outputs": [],
   "source": []
  },
  {
   "cell_type": "code",
   "execution_count": 234,
   "id": "encouraging-canada",
   "metadata": {},
   "outputs": [
    {
     "name": "stdout",
     "output_type": "stream",
     "text": [
      "bay_id             30\n",
      "db_read_time    17280\n",
      "status              2\n",
      "dtype: int64 \n",
      "\n",
      "<class 'pandas.core.frame.DataFrame'>\n",
      "Int64Index: 255622 entries, 0 to 345598\n",
      "Data columns (total 3 columns):\n",
      " #   Column        Non-Null Count   Dtype         \n",
      "---  ------        --------------   -----         \n",
      " 0   bay_id        255622 non-null  int64         \n",
      " 1   db_read_time  255622 non-null  datetime64[ns]\n",
      " 2   status        255622 non-null  object        \n",
      "dtypes: datetime64[ns](1), int64(1), object(1)\n",
      "memory usage: 7.8+ MB\n",
      "None \n",
      "\n"
     ]
    },
    {
     "data": {
      "text/html": [
       "<div>\n",
       "<style scoped>\n",
       "    .dataframe tbody tr th:only-of-type {\n",
       "        vertical-align: middle;\n",
       "    }\n",
       "\n",
       "    .dataframe tbody tr th {\n",
       "        vertical-align: top;\n",
       "    }\n",
       "\n",
       "    .dataframe thead th {\n",
       "        text-align: right;\n",
       "    }\n",
       "</style>\n",
       "<table border=\"1\" class=\"dataframe\">\n",
       "  <thead>\n",
       "    <tr style=\"text-align: right;\">\n",
       "      <th></th>\n",
       "      <th>bay_id</th>\n",
       "      <th>db_read_time</th>\n",
       "      <th>status</th>\n",
       "    </tr>\n",
       "  </thead>\n",
       "  <tbody>\n",
       "    <tr>\n",
       "      <th>0</th>\n",
       "      <td>1018</td>\n",
       "      <td>2021-03-06 15:16:23</td>\n",
       "      <td>Present</td>\n",
       "    </tr>\n",
       "    <tr>\n",
       "      <th>1</th>\n",
       "      <td>1026</td>\n",
       "      <td>2021-03-06 15:31:23</td>\n",
       "      <td>Unoccupied</td>\n",
       "    </tr>\n",
       "    <tr>\n",
       "      <th>2</th>\n",
       "      <td>1026</td>\n",
       "      <td>2021-03-06 15:46:23</td>\n",
       "      <td>Unoccupied</td>\n",
       "    </tr>\n",
       "    <tr>\n",
       "      <th>3</th>\n",
       "      <td>1013</td>\n",
       "      <td>2021-03-06 16:01:23</td>\n",
       "      <td>Present</td>\n",
       "    </tr>\n",
       "    <tr>\n",
       "      <th>4</th>\n",
       "      <td>1017</td>\n",
       "      <td>2021-03-06 16:16:23</td>\n",
       "      <td>Unoccupied</td>\n",
       "    </tr>\n",
       "  </tbody>\n",
       "</table>\n",
       "</div>"
      ],
      "text/plain": [
       "   bay_id        db_read_time      status\n",
       "0    1018 2021-03-06 15:16:23     Present\n",
       "1    1026 2021-03-06 15:31:23  Unoccupied\n",
       "2    1026 2021-03-06 15:46:23  Unoccupied\n",
       "3    1013 2021-03-06 16:01:23     Present\n",
       "4    1017 2021-03-06 16:16:23  Unoccupied"
      ]
     },
     "execution_count": 234,
     "metadata": {},
     "output_type": "execute_result"
    }
   ],
   "source": [
    "## 001a ##\n",
    "# create n months's worth of dummy time data of parking sensor bays\n",
    "\n",
    "bayFr, bayTo = 998, 1028  # bay_id range to be randomly draw from\n",
    "k = 20  # number of records per timestamp (akin to number of selected parking sensors)\n",
    "n = 6  # number of months worth of data\n",
    "# frequency of timestamp set below at every 15min, which is 4 times per hour\n",
    "\n",
    "w = pd.Series(pd.date_range(end=\"2021-09-02 15:01:23\", periods=4*24*30*n, freq=\"15min\"))\n",
    "\n",
    "lst = []\n",
    "for i in range(k):\n",
    "    a = pd.Series(np.random.randint(bayFr,bayTo,size=len(w)))\n",
    "    aw = pd.concat([a,w], axis='columns')\n",
    "    lst.append(aw)\n",
    "\n",
    "_df = pd.concat(lst, axis='index').reset_index(drop=True)\n",
    "_df.columns = ['bay_id','db_read_time']\n",
    "_df = _df.drop_duplicates()\n",
    "\n",
    "_df['status'] = np.random.randint(0,2,size=len(_df))\n",
    "_df['status'] = _df['status'].replace({0:\"Unoccupied\", 1:\"Present\"})\n",
    "\n",
    "print(_df.nunique(),\"\\n\")\n",
    "print(_df.info(),\"\\n\")\n",
    "_df.head()\n",
    "\n",
    "# _df.to_csv(\"datasets/dummyTimeData_parkingSensors.csv\", index=False)"
   ]
  },
  {
   "cell_type": "code",
   "execution_count": null,
   "id": "turkish-stroke",
   "metadata": {},
   "outputs": [],
   "source": []
  },
  {
   "cell_type": "code",
   "execution_count": 88,
   "id": "stupid-command",
   "metadata": {},
   "outputs": [],
   "source": [
    "## 002 ##\n",
    "# input is list of geo-filtered bay ids, and etl file + time parameters that has defaults\n",
    "# outputs aggregated data (average of status counts in a bin) according to parameters\n",
    "def last_hrs(bay_ids_lst, etl_df, no_hrs=24, bin_size_mins=15, endDatetime=?now floored?):\n",
    "    "
   ]
  },
  {
   "cell_type": "code",
   "execution_count": 89,
   "id": "naughty-bulgaria",
   "metadata": {},
   "outputs": [],
   "source": [
    "## 003 ##\n",
    "# input is list of geo-filtered bay ids, and etl file + time parameters that has defaults\n",
    "# outputs aggregated data (average of status counts in a bin) according to parameters\n",
    "def last_mdays(bay_ids_lst, etl_file, no_days=30, bin_size_hrs=1, endDatetime=?now floored?):\n",
    "    "
   ]
  },
  {
   "cell_type": "code",
   "execution_count": null,
   "id": "native-tuner",
   "metadata": {},
   "outputs": [],
   "source": [
    "## 004 ##\n",
    "# input is list of geo-filtered bay ids, and etl file + time parameters that has defaults\n",
    "# outputs aggregated data (average of status counts in a bin) according to parameters\n",
    "def last_wdays(bay_ids_lst, etl_file, no_days=7 bin_size_hrs=1, endDatetime=?now floored?):\n",
    "    "
   ]
  },
  {
   "cell_type": "code",
   "execution_count": null,
   "id": "inappropriate-kinase",
   "metadata": {},
   "outputs": [],
   "source": [
    "## 005 ##\n",
    "# input is list of geo-filtered bay ids, and etl file + time parameters that has defaults\n",
    "# outputs aggregated data (average of status counts in a bin) according to parameters\n",
    "def last_mths(bay_ids_lst, etl_file, no_mths=3 bin_size_mth=1, endDatetime=?now floored?):\n",
    "    "
   ]
  },
  {
   "cell_type": "code",
   "execution_count": null,
   "id": "utility-canvas",
   "metadata": {},
   "outputs": [],
   "source": [
    "## 006 ##\n",
    "# input is list of geo-filtered bay ids, and etl file + time parameters that has defaults\n",
    "# outputs aggregated data (average of status counts in a bin) according to parameters\n",
    "def last_weeks(bay_ids_lst, etl_file=etl.csv, no_wks=4 bin_size_wk=1, endDatetime=?now floored?):\n",
    "    "
   ]
  },
  {
   "cell_type": "code",
   "execution_count": 93,
   "id": "rural-group",
   "metadata": {},
   "outputs": [],
   "source": []
  },
  {
   "cell_type": "code",
   "execution_count": 183,
   "id": "successful-warehouse",
   "metadata": {},
   "outputs": [],
   "source": [
    "# https://www.youtube.com/watch?v=txMdrV1Ut64&list=RDCMUCCezIgC97PvUuR4_gbFUs5g&index=2\n",
    "# https://pandas.pydata.org/docs/user_guide/groupby.html\n",
    "\n",
    "# dfrt = df.groupby(\"db_read_time\")\n",
    "# dfrt[\"status\"].value_counts()"
   ]
  },
  {
   "cell_type": "code",
   "execution_count": 236,
   "id": "foster-specification",
   "metadata": {},
   "outputs": [],
   "source": [
    "df = _df.copy()  # leave _df intact, so make a copy for below use"
   ]
  },
  {
   "cell_type": "code",
   "execution_count": 237,
   "id": "olympic-manchester",
   "metadata": {},
   "outputs": [
    {
     "data": {
      "text/html": [
       "<div>\n",
       "<style scoped>\n",
       "    .dataframe tbody tr th:only-of-type {\n",
       "        vertical-align: middle;\n",
       "    }\n",
       "\n",
       "    .dataframe tbody tr th {\n",
       "        vertical-align: top;\n",
       "    }\n",
       "\n",
       "    .dataframe thead th {\n",
       "        text-align: right;\n",
       "    }\n",
       "</style>\n",
       "<table border=\"1\" class=\"dataframe\">\n",
       "  <thead>\n",
       "    <tr style=\"text-align: right;\">\n",
       "      <th></th>\n",
       "      <th>Present</th>\n",
       "      <th>Unoccupied</th>\n",
       "    </tr>\n",
       "    <tr>\n",
       "      <th>db_read_time</th>\n",
       "      <th></th>\n",
       "      <th></th>\n",
       "    </tr>\n",
       "  </thead>\n",
       "  <tbody>\n",
       "    <tr>\n",
       "      <th>2021-03-06 15:16:23</th>\n",
       "      <td>6.0</td>\n",
       "      <td>8.0</td>\n",
       "    </tr>\n",
       "    <tr>\n",
       "      <th>2021-03-06 15:31:23</th>\n",
       "      <td>7.0</td>\n",
       "      <td>6.0</td>\n",
       "    </tr>\n",
       "    <tr>\n",
       "      <th>2021-03-06 15:46:23</th>\n",
       "      <td>5.0</td>\n",
       "      <td>11.0</td>\n",
       "    </tr>\n",
       "    <tr>\n",
       "      <th>2021-03-06 16:01:23</th>\n",
       "      <td>10.0</td>\n",
       "      <td>5.0</td>\n",
       "    </tr>\n",
       "    <tr>\n",
       "      <th>2021-03-06 16:16:23</th>\n",
       "      <td>6.0</td>\n",
       "      <td>9.0</td>\n",
       "    </tr>\n",
       "  </tbody>\n",
       "</table>\n",
       "</div>"
      ],
      "text/plain": [
       "                     Present  Unoccupied\n",
       "db_read_time                            \n",
       "2021-03-06 15:16:23      6.0         8.0\n",
       "2021-03-06 15:31:23      7.0         6.0\n",
       "2021-03-06 15:46:23      5.0        11.0\n",
       "2021-03-06 16:01:23     10.0         5.0\n",
       "2021-03-06 16:16:23      6.0         9.0"
      ]
     },
     "execution_count": 237,
     "metadata": {},
     "output_type": "execute_result"
    }
   ],
   "source": [
    "# https://stackoverflow.com/questions/12860421/python-pandas-pivot-table-with-aggfunc-count-unique-distinct\n",
    "# https://pandas.pydata.org/pandas-docs/stable/reference/api/pandas.pivot_table.html\n",
    "\n",
    "# make pivot table of unique timestamps and count of parking sensor status at those timestamps\n",
    "\n",
    "dfpv = pd.pivot_table(df, index=\"db_read_time\", columns=\"status\", aggfunc='count')\n",
    "dfpv = dfpv.fillna(0)\n",
    "dfpv.columns = [\"Present\",\"Unoccupied\"]\n",
    "dfpv.head()"
   ]
  },
  {
   "cell_type": "code",
   "execution_count": null,
   "id": "fitted-sandwich",
   "metadata": {},
   "outputs": [],
   "source": []
  },
  {
   "cell_type": "code",
   "execution_count": 266,
   "id": "cosmetic-alias",
   "metadata": {},
   "outputs": [
    {
     "name": "stdout",
     "output_type": "stream",
     "text": [
      "17280 records every 15min\n"
     ]
    },
    {
     "data": {
      "text/plain": [
       "db_read_time\n",
       "2021-03-06 15:15:00     6.0\n",
       "2021-03-06 15:30:00     7.0\n",
       "2021-03-06 15:45:00     5.0\n",
       "2021-03-06 16:00:00    10.0\n",
       "2021-03-06 16:15:00     6.0\n",
       "2021-03-06 16:30:00     4.0\n",
       "2021-03-06 16:45:00     3.0\n",
       "2021-03-06 17:00:00    10.0\n",
       "2021-03-06 17:15:00     8.0\n",
       "2021-03-06 17:30:00     5.0\n",
       "Freq: 15T, Name: Present, dtype: float64"
      ]
     },
     "execution_count": 266,
     "metadata": {},
     "output_type": "execute_result"
    }
   ],
   "source": [
    "# https://www.youtube.com/watch?v=UFuo7EHI8zc\n",
    "#   ~23:50\n",
    "# https://pandas.pydata.org/pandas-docs/stable/reference/api/pandas.DataFrame.resample.html\n",
    "# https://pandas.pydata.org/pandas-docs/stable/user_guide/timeseries.html#timeseries-offset-aliases\n",
    "\n",
    "# for every 15min\n",
    "dsr15m = dfpv['Present'].resample('15min').mean()  # average number of occuppied sensors out of these filtered set of sensors\n",
    "print(f\"{len(dsr15m)} records every 15min\")\n",
    "dsr15m.head(10)"
   ]
  },
  {
   "cell_type": "code",
   "execution_count": 262,
   "id": "unexpected-olive",
   "metadata": {},
   "outputs": [
    {
     "data": {
      "text/html": [
       "<div>\n",
       "<style scoped>\n",
       "    .dataframe tbody tr th:only-of-type {\n",
       "        vertical-align: middle;\n",
       "    }\n",
       "\n",
       "    .dataframe tbody tr th {\n",
       "        vertical-align: top;\n",
       "    }\n",
       "\n",
       "    .dataframe thead th {\n",
       "        text-align: right;\n",
       "    }\n",
       "</style>\n",
       "<table border=\"1\" class=\"dataframe\">\n",
       "  <thead>\n",
       "    <tr style=\"text-align: right;\">\n",
       "      <th></th>\n",
       "      <th>Present</th>\n",
       "      <th>Unoccupied</th>\n",
       "    </tr>\n",
       "    <tr>\n",
       "      <th>db_read_time</th>\n",
       "      <th></th>\n",
       "      <th></th>\n",
       "    </tr>\n",
       "  </thead>\n",
       "  <tbody>\n",
       "    <tr>\n",
       "      <th>2021-03-06 15:16:23</th>\n",
       "      <td>6.0</td>\n",
       "      <td>8.0</td>\n",
       "    </tr>\n",
       "    <tr>\n",
       "      <th>2021-03-06 15:31:23</th>\n",
       "      <td>7.0</td>\n",
       "      <td>6.0</td>\n",
       "    </tr>\n",
       "    <tr>\n",
       "      <th>2021-03-06 15:46:23</th>\n",
       "      <td>5.0</td>\n",
       "      <td>11.0</td>\n",
       "    </tr>\n",
       "    <tr>\n",
       "      <th>2021-03-06 16:01:23</th>\n",
       "      <td>10.0</td>\n",
       "      <td>5.0</td>\n",
       "    </tr>\n",
       "    <tr>\n",
       "      <th>2021-03-06 16:16:23</th>\n",
       "      <td>6.0</td>\n",
       "      <td>9.0</td>\n",
       "    </tr>\n",
       "  </tbody>\n",
       "</table>\n",
       "</div>"
      ],
      "text/plain": [
       "                     Present  Unoccupied\n",
       "db_read_time                            \n",
       "2021-03-06 15:16:23      6.0         8.0\n",
       "2021-03-06 15:31:23      7.0         6.0\n",
       "2021-03-06 15:46:23      5.0        11.0\n",
       "2021-03-06 16:01:23     10.0         5.0\n",
       "2021-03-06 16:16:23      6.0         9.0"
      ]
     },
     "execution_count": 262,
     "metadata": {},
     "output_type": "execute_result"
    }
   ],
   "source": [
    "dfpv.head()"
   ]
  },
  {
   "cell_type": "code",
   "execution_count": 268,
   "id": "going-stream",
   "metadata": {},
   "outputs": [
    {
     "name": "stdout",
     "output_type": "stream",
     "text": [
      "4321 hourly records\n"
     ]
    },
    {
     "data": {
      "text/plain": [
       "db_read_time\n",
       "2021-03-06 15:00:00    6.0\n",
       "2021-03-06 16:00:00    5.0\n",
       "2021-03-06 17:00:00    8.0\n",
       "2021-03-06 18:00:00    8.0\n",
       "2021-03-06 19:00:00    6.0\n",
       "Freq: H, Name: Present, dtype: float64"
      ]
     },
     "execution_count": 268,
     "metadata": {},
     "output_type": "execute_result"
    }
   ],
   "source": [
    "# for each hour\n",
    "dsrH = dfpv['Present'].resample('H').median()  # median number of occuppied sensors out of these filtered set of sensors\n",
    "print(f\"{len(dsrH)} hourly records\")\n",
    "dsrH.head()"
   ]
  },
  {
   "cell_type": "code",
   "execution_count": null,
   "id": "sound-invitation",
   "metadata": {},
   "outputs": [],
   "source": []
  },
  {
   "cell_type": "code",
   "execution_count": 269,
   "id": "automated-melbourne",
   "metadata": {},
   "outputs": [
    {
     "name": "stdout",
     "output_type": "stream",
     "text": [
      "181 daily records\n"
     ]
    },
    {
     "data": {
      "text/plain": [
       "db_read_time\n",
       "2021-03-06    11.0\n",
       "2021-03-07    14.0\n",
       "2021-03-08    13.0\n",
       "2021-03-09    12.0\n",
       "2021-03-10    13.0\n",
       "Freq: D, Name: Present, dtype: float64"
      ]
     },
     "execution_count": 269,
     "metadata": {},
     "output_type": "execute_result"
    }
   ],
   "source": [
    "# for each day\n",
    "dsrD = dfpv['Present'].resample('D').max()  # max number of occuppied sensors out of these filtered set of sensors\n",
    "print(f\"{len(dsrD)} daily records\")\n",
    "dsrD.head()"
   ]
  },
  {
   "cell_type": "code",
   "execution_count": 270,
   "id": "amino-intersection",
   "metadata": {},
   "outputs": [
    {
     "name": "stdout",
     "output_type": "stream",
     "text": [
      "27 weekly records\n"
     ]
    },
    {
     "data": {
      "text/plain": [
       "db_read_time\n",
       "2021-03-07    2.0\n",
       "2021-03-14    2.0\n",
       "2021-03-21    1.0\n",
       "2021-03-28    2.0\n",
       "2021-04-04    2.0\n",
       "Freq: W-SUN, Name: Present, dtype: float64"
      ]
     },
     "execution_count": 270,
     "metadata": {},
     "output_type": "execute_result"
    }
   ],
   "source": [
    "# for each week (weeks starting on Sunday)\n",
    "dsrW1 = dfpv['Present'].resample('W').min()  # min number of occuppied sensors out of these filtered set of sensors\n",
    "print(f\"{len(dsrW1)} weekly records\")\n",
    "dsrW1.head()"
   ]
  },
  {
   "cell_type": "code",
   "execution_count": 256,
   "id": "composite-calibration",
   "metadata": {},
   "outputs": [
    {
     "name": "stdout",
     "output_type": "stream",
     "text": [
      "27 weekly records\n"
     ]
    },
    {
     "data": {
      "text/plain": [
       "db_read_time\n",
       "2021-03-08    7.101322\n",
       "2021-03-15    7.318452\n",
       "2021-03-22    7.305060\n",
       "2021-03-29    7.392857\n",
       "2021-04-05    7.386905\n",
       "Freq: W-MON, Name: Present, dtype: float64"
      ]
     },
     "execution_count": 256,
     "metadata": {},
     "output_type": "execute_result"
    }
   ],
   "source": [
    "# for each week (weeks starting on Monday)\n",
    "dsrW2 = dfpv['Present'].resample('W-MON').mean()  # average number of occuppied sensors out of these filtered set of sensors\n",
    "print(f\"{len(dsrW2)} weekly records\")\n",
    "dsrW2.head()"
   ]
  },
  {
   "cell_type": "code",
   "execution_count": 259,
   "id": "formed-copper",
   "metadata": {},
   "outputs": [
    {
     "name": "stdout",
     "output_type": "stream",
     "text": [
      "7 monthly records\n"
     ]
    },
    {
     "data": {
      "text/plain": [
       "db_read_time\n",
       "2021-03-31    7.319097\n",
       "2021-04-30    7.400000\n",
       "2021-05-31    7.378360\n",
       "2021-06-30    7.369444\n",
       "2021-07-31    7.442540\n",
       "2021-08-31    7.407258\n",
       "2021-09-30    7.312102\n",
       "Freq: M, Name: Present, dtype: float64"
      ]
     },
     "execution_count": 259,
     "metadata": {},
     "output_type": "execute_result"
    }
   ],
   "source": [
    "# for each month (month end frequency)\n",
    "dsrM = dfpv['Present'].resample('M').mean()  # average number of occuppied sensors out of these filtered set of sensors\n",
    "print(f\"{len(dsrM)} monthly records\")\n",
    "dsrM"
   ]
  },
  {
   "cell_type": "code",
   "execution_count": null,
   "id": "pressing-owner",
   "metadata": {},
   "outputs": [],
   "source": []
  },
  {
   "cell_type": "code",
   "execution_count": null,
   "id": "instant-hepatitis",
   "metadata": {},
   "outputs": [],
   "source": []
  },
  {
   "cell_type": "code",
   "execution_count": null,
   "id": "prescribed-prime",
   "metadata": {},
   "outputs": [],
   "source": []
  },
  {
   "cell_type": "code",
   "execution_count": null,
   "id": "sudden-liberty",
   "metadata": {},
   "outputs": [],
   "source": []
  }
 ],
 "metadata": {
  "kernelspec": {
   "display_name": "Python 3",
   "language": "python",
   "name": "python3"
  },
  "language_info": {
   "codemirror_mode": {
    "name": "ipython",
    "version": 3
   },
   "file_extension": ".py",
   "mimetype": "text/x-python",
   "name": "python",
   "nbconvert_exporter": "python",
   "pygments_lexer": "ipython3",
   "version": "3.7.11"
  }
 },
 "nbformat": 4,
 "nbformat_minor": 5
}
