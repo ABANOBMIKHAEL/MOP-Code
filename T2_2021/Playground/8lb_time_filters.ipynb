{
 "cells": [
  {
   "cell_type": "code",
   "execution_count": 61,
   "id": "documentary-setting",
   "metadata": {},
   "outputs": [],
   "source": [
    "import numpy as np\n",
    "import pandas as pd\n",
    "from datetime import datetime\n",
    "\n",
    "# https://pandas.pydata.org/pandas-docs/stable/user_guide/timeseries.html\n",
    "# https://pandas.pydata.org/pandas-docs/stable/reference/api/pandas.date_range.html\n",
    "# https://datatofish.com/random-integers-pandas-dataframe/\n",
    "# https://pandas.pydata.org/docs/reference/api/pandas.Series.dt.dayofweek.html\n",
    "# https://stackoverflow.com/questions/29096381/num-day-to-name-day-with-pandas"
   ]
  },
  {
   "cell_type": "code",
   "execution_count": 87,
   "id": "exclusive-product",
   "metadata": {},
   "outputs": [],
   "source": [
    "## 001 ##\n",
    "# create 2 months's worth of dummy time data of parking sensor bays\n",
    "w = pd.Series(pd.date_range(end=\"2021-09-02 15:01:23\", periods=4*24*30*2, freq=\"15min\"))\n",
    "\n",
    "a = pd.Series(np.random.randint(998,1006,size=len(w)))\n",
    "b = pd.Series(np.random.randint(998,1006,size=len(w)))\n",
    "c = pd.Series(np.random.randint(998,1006,size=len(w)))\n",
    "\n",
    "aw = pd.concat([a,w], axis=1)\n",
    "bw = pd.concat([b,w], axis=1)\n",
    "cw = pd.concat([c,w], axis=1)\n",
    "\n",
    "df = pd.concat([aw,bw,cw], axis=0).reset_index(drop=True)\n",
    "df.columns = ['bay_id','db_read_time']\n",
    "df = df.drop_duplicates()\n",
    "\n",
    "df['status'] = np.random.randint(0,2,size=len(df))\n",
    "df['status'] = df['status'].replace({0:\"Unoccupied\", 1:\"Present\"})\n",
    "\n",
    "df['date'] = df['db_read_time'].dt.date  #.astype('datetime64')\n",
    "df['hour'] = df['db_read_time'].dt.hour\n",
    "df['min'] = df['db_read_time'].dt.minute\n",
    "df['dow'] = df['db_read_time'].dt.dayofweek\n",
    "df['dayOfWeek'] = df[['db_read_time']].apply(lambda x:datetime.strftime(x['db_read_time'], '%a'), axis=1)\n",
    "\n",
    "# print(df.nunique(),\"\\n\")\n",
    "# print(df.describe(),\"\\n\")\n",
    "# print(df.info(),\"\\n\")\n",
    "df.head()\n",
    "\n",
    "df.to_csv(\"datasets/dummyTimeData_parkingSensors.csv\", index=False)"
   ]
  },
  {
   "cell_type": "code",
   "execution_count": null,
   "id": "consecutive-fantasy",
   "metadata": {},
   "outputs": [],
   "source": []
  },
  {
   "cell_type": "code",
   "execution_count": 88,
   "id": "differential-convergence",
   "metadata": {},
   "outputs": [],
   "source": [
    "## 002 ##\n",
    "def last_hrs(no_hrs, bin_size, endDatetime):\n",
    "    "
   ]
  },
  {
   "cell_type": "code",
   "execution_count": 89,
   "id": "bridal-philip",
   "metadata": {},
   "outputs": [],
   "source": [
    "## 003 ##\n",
    "def last_days(no_days, bin_size, endDate):\n",
    "    "
   ]
  },
  {
   "cell_type": "code",
   "execution_count": null,
   "id": "numerical-theme",
   "metadata": {},
   "outputs": [],
   "source": []
  },
  {
   "cell_type": "code",
   "execution_count": null,
   "id": "phantom-mitchell",
   "metadata": {},
   "outputs": [],
   "source": []
  }
 ],
 "metadata": {
  "kernelspec": {
   "display_name": "Python 3",
   "language": "python",
   "name": "python3"
  },
  "language_info": {
   "codemirror_mode": {
    "name": "ipython",
    "version": 3
   },
   "file_extension": ".py",
   "mimetype": "text/x-python",
   "name": "python",
   "nbconvert_exporter": "python",
   "pygments_lexer": "ipython3",
   "version": "3.7.11"
  }
 },
 "nbformat": 4,
 "nbformat_minor": 5
}
