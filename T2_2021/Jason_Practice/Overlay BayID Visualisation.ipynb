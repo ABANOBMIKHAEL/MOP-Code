{
 "cells": [
  {
   "cell_type": "code",
   "execution_count": 164,
   "id": "389f3b1c",
   "metadata": {},
   "outputs": [],
   "source": [
    "import numpy as np\n",
    "import matplotlib.pyplot as plt\n",
    "from matplotlib.pyplot import figure\n",
    "import pandas as pd\n",
    "import seaborn as sns"
   ]
  },
  {
   "cell_type": "code",
   "execution_count": 165,
   "id": "3c459727",
   "metadata": {},
   "outputs": [
    {
     "data": {
      "text/html": [
       "<div>\n",
       "<style scoped>\n",
       "    .dataframe tbody tr th:only-of-type {\n",
       "        vertical-align: middle;\n",
       "    }\n",
       "\n",
       "    .dataframe tbody tr th {\n",
       "        vertical-align: top;\n",
       "    }\n",
       "\n",
       "    .dataframe thead th {\n",
       "        text-align: right;\n",
       "    }\n",
       "</style>\n",
       "<table border=\"1\" class=\"dataframe\">\n",
       "  <thead>\n",
       "    <tr style=\"text-align: right;\">\n",
       "      <th></th>\n",
       "      <th>Unnamed: 0</th>\n",
       "      <th>Bay_id</th>\n",
       "      <th>Status</th>\n",
       "      <th>Hour</th>\n",
       "      <th>Minutes</th>\n",
       "      <th>DayOfWeek</th>\n",
       "      <th>Date</th>\n",
       "    </tr>\n",
       "  </thead>\n",
       "  <tbody>\n",
       "    <tr>\n",
       "      <th>0</th>\n",
       "      <td>0</td>\n",
       "      <td>1001</td>\n",
       "      <td>Unoccupied</td>\n",
       "      <td>0</td>\n",
       "      <td>0</td>\n",
       "      <td>Wednesday</td>\n",
       "      <td>2021-08-04</td>\n",
       "    </tr>\n",
       "    <tr>\n",
       "      <th>1</th>\n",
       "      <td>1</td>\n",
       "      <td>1002</td>\n",
       "      <td>Present</td>\n",
       "      <td>0</td>\n",
       "      <td>0</td>\n",
       "      <td>Wednesday</td>\n",
       "      <td>2021-08-04</td>\n",
       "    </tr>\n",
       "    <tr>\n",
       "      <th>2</th>\n",
       "      <td>2</td>\n",
       "      <td>1003</td>\n",
       "      <td>Present</td>\n",
       "      <td>0</td>\n",
       "      <td>0</td>\n",
       "      <td>Wednesday</td>\n",
       "      <td>2021-08-04</td>\n",
       "    </tr>\n",
       "    <tr>\n",
       "      <th>3</th>\n",
       "      <td>3</td>\n",
       "      <td>1004</td>\n",
       "      <td>Unoccupied</td>\n",
       "      <td>0</td>\n",
       "      <td>0</td>\n",
       "      <td>Wednesday</td>\n",
       "      <td>2021-08-04</td>\n",
       "    </tr>\n",
       "    <tr>\n",
       "      <th>4</th>\n",
       "      <td>4</td>\n",
       "      <td>1005</td>\n",
       "      <td>Present</td>\n",
       "      <td>0</td>\n",
       "      <td>0</td>\n",
       "      <td>Wednesday</td>\n",
       "      <td>2021-08-04</td>\n",
       "    </tr>\n",
       "  </tbody>\n",
       "</table>\n",
       "</div>"
      ],
      "text/plain": [
       "   Unnamed: 0  Bay_id      Status  Hour  Minutes  DayOfWeek        Date\n",
       "0           0    1001  Unoccupied     0        0  Wednesday  2021-08-04\n",
       "1           1    1002     Present     0        0  Wednesday  2021-08-04\n",
       "2           2    1003     Present     0        0  Wednesday  2021-08-04\n",
       "3           3    1004  Unoccupied     0        0  Wednesday  2021-08-04\n",
       "4           4    1005     Present     0        0  Wednesday  2021-08-04"
      ]
     },
     "execution_count": 165,
     "metadata": {},
     "output_type": "execute_result"
    }
   ],
   "source": [
    "#import dataset from data.csv file\n",
    "df = pd.read_csv('Dummy_Month.csv')\n",
    "df.head()"
   ]
  },
  {
   "cell_type": "code",
   "execution_count": 166,
   "id": "527065d8",
   "metadata": {},
   "outputs": [
    {
     "name": "stdout",
     "output_type": "stream",
     "text": [
      "The Total Rows in the dataset = 13440\n",
      "The Total Columns in the dataset = 7\n"
     ]
    }
   ],
   "source": [
    "#The amount of observations (rows) and characteristics(columns) in a dataset\n",
    "print ('The Total Rows in the dataset = ' + str(df.shape[0]))\n",
    "print ('The Total Columns in the dataset = ' + str(df.shape[1]))"
   ]
  },
  {
   "cell_type": "code",
   "execution_count": 267,
   "id": "e1265de9",
   "metadata": {},
   "outputs": [],
   "source": [
    "Bay_ID = (df['Bay_id'] == 1001)\n",
    "Multiple_Bay_ID = (df['Bay_id'].isin([1001, 1003, 1005]))\n",
    "All_Bay_ID = (df['Bay_id'].isin([1001, 1002, 1003, 1004, 1005]))\n",
    "Parking_Status = (df['Status'] == 'Present')\n",
    "Day_Of_Week = (df['DayOfWeek'] == 'Wednesday')\n",
    "Date = (df['Date'] == '2021-08-12')\n",
    "Hour = (df['Hour'] == 11)"
   ]
  },
  {
   "cell_type": "code",
   "execution_count": 268,
   "id": "9d1f089f",
   "metadata": {},
   "outputs": [
    {
     "data": {
      "text/html": [
       "<div>\n",
       "<style scoped>\n",
       "    .dataframe tbody tr th:only-of-type {\n",
       "        vertical-align: middle;\n",
       "    }\n",
       "\n",
       "    .dataframe tbody tr th {\n",
       "        vertical-align: top;\n",
       "    }\n",
       "\n",
       "    .dataframe thead th {\n",
       "        text-align: right;\n",
       "    }\n",
       "</style>\n",
       "<table border=\"1\" class=\"dataframe\">\n",
       "  <thead>\n",
       "    <tr style=\"text-align: right;\">\n",
       "      <th>Status</th>\n",
       "      <th>DayOfWeek</th>\n",
       "      <th>Present</th>\n",
       "    </tr>\n",
       "  </thead>\n",
       "  <tbody>\n",
       "    <tr>\n",
       "      <th>0</th>\n",
       "      <td>Friday</td>\n",
       "      <td>46.0</td>\n",
       "    </tr>\n",
       "    <tr>\n",
       "      <th>1</th>\n",
       "      <td>Monday</td>\n",
       "      <td>52.0</td>\n",
       "    </tr>\n",
       "    <tr>\n",
       "      <th>2</th>\n",
       "      <td>Saturday</td>\n",
       "      <td>42.0</td>\n",
       "    </tr>\n",
       "    <tr>\n",
       "      <th>3</th>\n",
       "      <td>Sunday</td>\n",
       "      <td>43.0</td>\n",
       "    </tr>\n",
       "    <tr>\n",
       "      <th>4</th>\n",
       "      <td>Thursday</td>\n",
       "      <td>50.0</td>\n",
       "    </tr>\n",
       "    <tr>\n",
       "      <th>5</th>\n",
       "      <td>Tuesday</td>\n",
       "      <td>53.0</td>\n",
       "    </tr>\n",
       "    <tr>\n",
       "      <th>6</th>\n",
       "      <td>Wednesday</td>\n",
       "      <td>47.0</td>\n",
       "    </tr>\n",
       "  </tbody>\n",
       "</table>\n",
       "</div>"
      ],
      "text/plain": [
       "Status  DayOfWeek  Present\n",
       "0          Friday     46.0\n",
       "1          Monday     52.0\n",
       "2        Saturday     42.0\n",
       "3          Sunday     43.0\n",
       "4        Thursday     50.0\n",
       "5         Tuesday     53.0\n",
       "6       Wednesday     47.0"
      ]
     },
     "execution_count": 268,
     "metadata": {},
     "output_type": "execute_result"
    }
   ],
   "source": [
    "CountStatus = df.loc[Bay_ID & Parking_Status].groupby('Status').DayOfWeek.value_counts().unstack(0)\n",
    "CountStatus = CountStatus.reset_index()\n",
    "CountStatus['Present'] = (CountStatus['Present'] / 4).round(0)\n",
    "CountStatus"
   ]
  },
  {
   "cell_type": "code",
   "execution_count": 271,
   "id": "e2c92b8e",
   "metadata": {},
   "outputs": [
    {
     "data": {
      "text/html": [
       "<div>\n",
       "<style scoped>\n",
       "    .dataframe tbody tr th:only-of-type {\n",
       "        vertical-align: middle;\n",
       "    }\n",
       "\n",
       "    .dataframe tbody tr th {\n",
       "        vertical-align: top;\n",
       "    }\n",
       "\n",
       "    .dataframe thead th {\n",
       "        text-align: right;\n",
       "    }\n",
       "</style>\n",
       "<table border=\"1\" class=\"dataframe\">\n",
       "  <thead>\n",
       "    <tr style=\"text-align: right;\">\n",
       "      <th>Status</th>\n",
       "      <th>DayOfWeek</th>\n",
       "      <th>Present</th>\n",
       "    </tr>\n",
       "  </thead>\n",
       "  <tbody>\n",
       "    <tr>\n",
       "      <th>0</th>\n",
       "      <td>Thursday</td>\n",
       "      <td>46</td>\n",
       "    </tr>\n",
       "  </tbody>\n",
       "</table>\n",
       "</div>"
      ],
      "text/plain": [
       "Status DayOfWeek  Present\n",
       "0       Thursday       46"
      ]
     },
     "execution_count": 271,
     "metadata": {},
     "output_type": "execute_result"
    }
   ],
   "source": [
    "ThursdayCount = df.loc[Bay_ID & Parking_Status & Date].groupby('Status').DayOfWeek.value_counts().unstack(0)\n",
    "ThursdayCount = ThursdayCount.reset_index()\n",
    "ThursdayCount"
   ]
  },
  {
   "cell_type": "code",
   "execution_count": 272,
   "id": "b48c75f9",
   "metadata": {},
   "outputs": [
    {
     "data": {
      "image/png": "[encoded data removed]",
      "text/plain": [
       "<Figure size 960x480 with 1 Axes>"
      ]
     },
     "metadata": {},
     "output_type": "display_data"
    }
   ],
   "source": [
    "figure(figsize=(12, 6), dpi=80)\n",
    "plt.ylabel(\"Parking Availabilities\", labelpad=14)\n",
    "plt.title(\"Parking Availability at Bay ID:1001\", y=1)\n",
    "\n",
    "plt.bar(CountStatus['DayOfWeek'], CountStatus['Present'])\n",
    "plt.bar(ThursdayCount['DayOfWeek'], ThursdayCount['Present'])\n",
    "\n",
    "plt.show()"
   ]
  }
 ],
 "metadata": {
  "kernelspec": {
   "display_name": "Python 3",
   "language": "python",
   "name": "python3"
  },
  "language_info": {
   "codemirror_mode": {
    "name": "ipython",
    "version": 3
   },
   "file_extension": ".py",
   "mimetype": "text/x-python",
   "name": "python",
   "nbconvert_exporter": "python",
   "pygments_lexer": "ipython3",
   "version": "3.7.10"
  }
 },
 "nbformat": 4,
 "nbformat_minor": 5
}
