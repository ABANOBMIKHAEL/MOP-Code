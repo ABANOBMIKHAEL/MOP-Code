{
 "cells": [
  {
   "cell_type": "code",
   "execution_count": 2,
   "metadata": {},
   "outputs": [],
   "source": [
    "import pandas as pd\n",
    "import numpy as np\n"
   ]
  },
  {
   "cell_type": "code",
   "execution_count": 4,
   "metadata": {},
   "outputs": [
    {
     "name": "stdout",
     "output_type": "stream",
     "text": [
      "Collecting socrata-py\n",
      "  Downloading socrata-py-1.0.8.tar.gz (30 kB)\n",
      "Requirement already satisfied: requests in /Users/jason/opt/anaconda3/lib/python3.7/site-packages (from socrata-py) (2.22.0)\n",
      "Requirement already satisfied: urllib3!=1.25.0,!=1.25.1,<1.26,>=1.21.1 in /Users/jason/opt/anaconda3/lib/python3.7/site-packages (from requests->socrata-py) (1.25.8)\n",
      "Requirement already satisfied: idna<2.9,>=2.5 in /Users/jason/opt/anaconda3/lib/python3.7/site-packages (from requests->socrata-py) (2.8)\n",
      "Requirement already satisfied: chardet<3.1.0,>=3.0.2 in /Users/jason/opt/anaconda3/lib/python3.7/site-packages (from requests->socrata-py) (3.0.4)\n",
      "Requirement already satisfied: certifi>=2017.4.17 in /Users/jason/opt/anaconda3/lib/python3.7/site-packages (from requests->socrata-py) (2019.11.28)\n",
      "Building wheels for collected packages: socrata-py\n",
      "  Building wheel for socrata-py (setup.py) ... \u001b[?25ldone\n",
      "\u001b[?25h  Created wheel for socrata-py: filename=socrata_py-1.0.8-py3-none-any.whl size=24729 sha256=84462e7d18ececaf4af51da13ebe5ce6c39e679c34f74c4ef4b46956eaab39a1\n",
      "  Stored in directory: /Users/jason/Library/Caches/pip/wheels/de/4b/76/6fec86ab5b82b6ec9edb0e75375f53d8750101b3fd5c7653f0\n",
      "Successfully built socrata-py\n",
      "Installing collected packages: socrata-py\n",
      "Successfully installed socrata-py-1.0.8\n",
      "Note: you may need to restart the kernel to use updated packages.\n"
     ]
    }
   ],
   "source": [
    "pip install socrata-py"
   ]
  },
  {
   "cell_type": "code",
   "execution_count": 6,
   "metadata": {},
   "outputs": [
    {
     "name": "stdout",
     "output_type": "stream",
     "text": [
      "Collecting sodapy\n",
      "  Downloading sodapy-2.1.0-py2.py3-none-any.whl (14 kB)\n",
      "Requirement already satisfied: requests>=2.20.0 in /Users/jason/opt/anaconda3/lib/python3.7/site-packages (from sodapy) (2.22.0)\n",
      "Requirement already satisfied: idna<2.9,>=2.5 in /Users/jason/opt/anaconda3/lib/python3.7/site-packages (from requests>=2.20.0->sodapy) (2.8)\n",
      "Requirement already satisfied: urllib3!=1.25.0,!=1.25.1,<1.26,>=1.21.1 in /Users/jason/opt/anaconda3/lib/python3.7/site-packages (from requests>=2.20.0->sodapy) (1.25.8)\n",
      "Requirement already satisfied: chardet<3.1.0,>=3.0.2 in /Users/jason/opt/anaconda3/lib/python3.7/site-packages (from requests>=2.20.0->sodapy) (3.0.4)\n",
      "Requirement already satisfied: certifi>=2017.4.17 in /Users/jason/opt/anaconda3/lib/python3.7/site-packages (from requests>=2.20.0->sodapy) (2019.11.28)\n",
      "Installing collected packages: sodapy\n",
      "Successfully installed sodapy-2.1.0\n",
      "Note: you may need to restart the kernel to use updated packages.\n"
     ]
    }
   ],
   "source": [
    "pip install sodapy"
   ]
  },
  {
   "cell_type": "code",
   "execution_count": 7,
   "metadata": {},
   "outputs": [],
   "source": [
    "from sodapy import Socrata"
   ]
  },
  {
   "cell_type": "code",
   "execution_count": 8,
   "metadata": {},
   "outputs": [
    {
     "name": "stderr",
     "output_type": "stream",
     "text": [
      "WARNING:root:Requests made without an app_token will be subject to strict throttling limits.\n"
     ]
    }
   ],
   "source": [
    "client = Socrata(\"data.melbourne.vic.gov.au\", None)"
   ]
  },
  {
   "cell_type": "code",
   "execution_count": null,
   "metadata": {},
   "outputs": [],
   "source": []
  }
 ],
 "metadata": {
  "kernelspec": {
   "display_name": "Python 3",
   "language": "python",
   "name": "python3"
  },
  "language_info": {
   "codemirror_mode": {
    "name": "ipython",
    "version": 3
   },
   "file_extension": ".py",
   "mimetype": "text/x-python",
   "name": "python",
   "nbconvert_exporter": "python",
   "pygments_lexer": "ipython3",
   "version": "3.7.6"
  }
 },
 "nbformat": 4,
 "nbformat_minor": 4
}
