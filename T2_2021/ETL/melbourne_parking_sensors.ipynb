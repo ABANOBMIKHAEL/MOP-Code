{
 "cells": [
  {
   "cell_type": "markdown",
   "metadata": {},
   "source": [
    "# Connecting to Melbourne Data"
   ]
  },
  {
   "cell_type": "markdown",
   "metadata": {},
   "source": [
    "#### Welcome to the Tutorial"
   ]
  },
  {
   "cell_type": "markdown",
   "metadata": {},
   "source": [
    "1.\tFind Endpoint through website of the data set you need.\n",
    "2.\tSign up at https://evergreen.data.socrata.com/signup/ to get a token so that you can call the data frequently (up to 1000 times per hour)\n",
    "3.\tOnce signed up you can register for a token using https://support.socrata.com/hc/en-us/articles/210138558-Generating-an-App-Token to help guide you.\n",
    "4.\tSign in to the Melbourne Data Portal using your Socrata login information.\n",
    "5.\tClick my profile > edit profile > developer settings\n",
    "6.\tGet an API Token (API KEY not needed for our purposes) to have direct communication with the Melbourne Data portal."
   ]
  },
  {
   "cell_type": "code",
   "execution_count": 1,
   "metadata": {},
   "outputs": [],
   "source": [
    "# found in the Parking Sensor API button\n",
    "endpoint = \"https://data.melbourne.vic.gov.au/resource/vh2v-4nfs.json\""
   ]
  },
  {
   "cell_type": "code",
   "execution_count": null,
   "metadata": {},
   "outputs": [],
   "source": [
    "#! pip install sodapy\n",
    "#! pip install pandas"
   ]
  },
  {
   "cell_type": "markdown",
   "metadata": {},
   "source": [
    "Install sodapy\n",
    "\n",
    "120 seconds to finish the whole request\n"
   ]
  },
  {
   "cell_type": "code",
   "execution_count": 119,
   "metadata": {},
   "outputs": [],
   "source": [
    "from sodapy import Socrata\n",
    "\n",
    "client = Socrata(\n",
    "    \"data.melbourne.vic.gov.au\",\n",
    "    \"EC65cHicC3xqFXHHvAUICVXEr\", # app token, just used to reduce throttling, not authentication\n",
    "    timeout=120\n",
    ")"
   ]
  },
  {
   "cell_type": "markdown",
   "metadata": {},
   "source": [
    "Go and find the end point id.  It’s the part at the end of the web address that looks like random numbers and letters."
   ]
  },
  {
   "cell_type": "code",
   "execution_count": 120,
   "metadata": {},
   "outputs": [],
   "source": [
    "# set to large limit to include all available sensors\n",
    "data = client.get(\"vh2v-4nfs\", limit=200000)"
   ]
  },
  {
   "cell_type": "code",
   "execution_count": 121,
   "metadata": {},
   "outputs": [],
   "source": [
    "import pandas as pd\n",
    "#Put the data into a dataframe\n",
    "df = pd.DataFrame(data) "
   ]
  },
  {
   "cell_type": "code",
   "execution_count": 122,
   "metadata": {},
   "outputs": [
    {
     "data": {
      "text/plain": [
       "1080"
      ]
     },
     "execution_count": 122,
     "metadata": {},
     "output_type": "execute_result"
    }
   ],
   "source": [
    "len(df)"
   ]
  },
  {
   "cell_type": "code",
   "execution_count": 123,
   "metadata": {},
   "outputs": [
    {
     "data": {
      "text/html": [
       "<div>\n",
       "<style scoped>\n",
       "    .dataframe tbody tr th:only-of-type {\n",
       "        vertical-align: middle;\n",
       "    }\n",
       "\n",
       "    .dataframe tbody tr th {\n",
       "        vertical-align: top;\n",
       "    }\n",
       "\n",
       "    .dataframe thead th {\n",
       "        text-align: right;\n",
       "    }\n",
       "</style>\n",
       "<table border=\"1\" class=\"dataframe\">\n",
       "  <thead>\n",
       "    <tr style=\"text-align: right;\">\n",
       "      <th></th>\n",
       "      <th>bay_id</th>\n",
       "      <th>st_marker_id</th>\n",
       "      <th>status</th>\n",
       "      <th>location</th>\n",
       "      <th>lat</th>\n",
       "      <th>lon</th>\n",
       "      <th>:@computed_region_evbi_jbp8</th>\n",
       "    </tr>\n",
       "  </thead>\n",
       "  <tbody>\n",
       "    <tr>\n",
       "      <th>0</th>\n",
       "      <td>5361</td>\n",
       "      <td>8903W</td>\n",
       "      <td>Unoccupied</td>\n",
       "      <td>{'latitude': '-37.82409822525305', 'longitude'...</td>\n",
       "      <td>-37.82409822525305</td>\n",
       "      <td>144.96211501714058</td>\n",
       "      <td>1</td>\n",
       "    </tr>\n",
       "    <tr>\n",
       "      <th>1</th>\n",
       "      <td>5548</td>\n",
       "      <td>12029W</td>\n",
       "      <td>Unoccupied</td>\n",
       "      <td>{'latitude': '-37.81292958901017', 'longitude'...</td>\n",
       "      <td>-37.81292958901017</td>\n",
       "      <td>144.98300681441947</td>\n",
       "      <td>1</td>\n",
       "    </tr>\n",
       "    <tr>\n",
       "      <th>2</th>\n",
       "      <td>5418</td>\n",
       "      <td>11787W</td>\n",
       "      <td>Unoccupied</td>\n",
       "      <td>{'latitude': '-37.81129498543278', 'longitude'...</td>\n",
       "      <td>-37.81129498543278</td>\n",
       "      <td>144.97542422097922</td>\n",
       "      <td>1</td>\n",
       "    </tr>\n",
       "    <tr>\n",
       "      <th>3</th>\n",
       "      <td>5358</td>\n",
       "      <td>8897W</td>\n",
       "      <td>Unoccupied</td>\n",
       "      <td>{'latitude': '-37.82450433070958', 'longitude'...</td>\n",
       "      <td>-37.82450433070958</td>\n",
       "      <td>144.96163789794954</td>\n",
       "      <td>1</td>\n",
       "    </tr>\n",
       "    <tr>\n",
       "      <th>4</th>\n",
       "      <td>1292</td>\n",
       "      <td>4484E</td>\n",
       "      <td>Unoccupied</td>\n",
       "      <td>{'latitude': '-37.8127273293113', 'longitude':...</td>\n",
       "      <td>-37.8127273293113</td>\n",
       "      <td>144.95416523342118</td>\n",
       "      <td>1</td>\n",
       "    </tr>\n",
       "  </tbody>\n",
       "</table>\n",
       "</div>"
      ],
      "text/plain": [
       "  bay_id st_marker_id      status  \\\n",
       "0   5361        8903W  Unoccupied   \n",
       "1   5548       12029W  Unoccupied   \n",
       "2   5418       11787W  Unoccupied   \n",
       "3   5358        8897W  Unoccupied   \n",
       "4   1292        4484E  Unoccupied   \n",
       "\n",
       "                                            location                 lat  \\\n",
       "0  {'latitude': '-37.82409822525305', 'longitude'...  -37.82409822525305   \n",
       "1  {'latitude': '-37.81292958901017', 'longitude'...  -37.81292958901017   \n",
       "2  {'latitude': '-37.81129498543278', 'longitude'...  -37.81129498543278   \n",
       "3  {'latitude': '-37.82450433070958', 'longitude'...  -37.82450433070958   \n",
       "4  {'latitude': '-37.8127273293113', 'longitude':...   -37.8127273293113   \n",
       "\n",
       "                  lon :@computed_region_evbi_jbp8  \n",
       "0  144.96211501714058                           1  \n",
       "1  144.98300681441947                           1  \n",
       "2  144.97542422097922                           1  \n",
       "3  144.96163789794954                           1  \n",
       "4  144.95416523342118                           1  "
      ]
     },
     "execution_count": 123,
     "metadata": {},
     "output_type": "execute_result"
    }
   ],
   "source": [
    "#Check the data and see what it looks like\n",
    "df.head()"
   ]
  },
  {
   "cell_type": "code",
   "execution_count": 124,
   "metadata": {},
   "outputs": [
    {
     "name": "stdout",
     "output_type": "stream",
     "text": [
      "<class 'pandas.core.frame.DataFrame'>\n",
      "RangeIndex: 1080 entries, 0 to 1079\n",
      "Data columns (total 7 columns):\n",
      " #   Column                       Non-Null Count  Dtype \n",
      "---  ------                       --------------  ----- \n",
      " 0   bay_id                       1080 non-null   object\n",
      " 1   st_marker_id                 1080 non-null   object\n",
      " 2   status                       1080 non-null   object\n",
      " 3   location                     1080 non-null   object\n",
      " 4   lat                          1080 non-null   object\n",
      " 5   lon                          1080 non-null   object\n",
      " 6   :@computed_region_evbi_jbp8  1080 non-null   object\n",
      "dtypes: object(7)\n",
      "memory usage: 59.2+ KB\n"
     ]
    }
   ],
   "source": [
    "df.info()"
   ]
  },
  {
   "cell_type": "markdown",
   "metadata": {},
   "source": [
    "For the purposes of this ETL we only need 'bay_id' and 'status'. We will be adding 'hour', 'minute', 'dayofweek' and 'date'"
   ]
  },
  {
   "cell_type": "code",
   "execution_count": 125,
   "metadata": {},
   "outputs": [],
   "source": [
    "df.drop(columns = ['st_marker_id', 'location', 'lat', 'lon', ':@computed_region_evbi_jbp8'], inplace = True)"
   ]
  },
  {
   "cell_type": "code",
   "execution_count": 126,
   "metadata": {},
   "outputs": [
    {
     "data": {
      "text/html": [
       "<div>\n",
       "<style scoped>\n",
       "    .dataframe tbody tr th:only-of-type {\n",
       "        vertical-align: middle;\n",
       "    }\n",
       "\n",
       "    .dataframe tbody tr th {\n",
       "        vertical-align: top;\n",
       "    }\n",
       "\n",
       "    .dataframe thead th {\n",
       "        text-align: right;\n",
       "    }\n",
       "</style>\n",
       "<table border=\"1\" class=\"dataframe\">\n",
       "  <thead>\n",
       "    <tr style=\"text-align: right;\">\n",
       "      <th></th>\n",
       "      <th>bay_id</th>\n",
       "      <th>status</th>\n",
       "    </tr>\n",
       "  </thead>\n",
       "  <tbody>\n",
       "    <tr>\n",
       "      <th>0</th>\n",
       "      <td>5361</td>\n",
       "      <td>Unoccupied</td>\n",
       "    </tr>\n",
       "    <tr>\n",
       "      <th>1</th>\n",
       "      <td>5548</td>\n",
       "      <td>Unoccupied</td>\n",
       "    </tr>\n",
       "    <tr>\n",
       "      <th>2</th>\n",
       "      <td>5418</td>\n",
       "      <td>Unoccupied</td>\n",
       "    </tr>\n",
       "    <tr>\n",
       "      <th>3</th>\n",
       "      <td>5358</td>\n",
       "      <td>Unoccupied</td>\n",
       "    </tr>\n",
       "    <tr>\n",
       "      <th>4</th>\n",
       "      <td>1292</td>\n",
       "      <td>Unoccupied</td>\n",
       "    </tr>\n",
       "    <tr>\n",
       "      <th>...</th>\n",
       "      <td>...</td>\n",
       "      <td>...</td>\n",
       "    </tr>\n",
       "    <tr>\n",
       "      <th>1075</th>\n",
       "      <td>3719</td>\n",
       "      <td>Unoccupied</td>\n",
       "    </tr>\n",
       "    <tr>\n",
       "      <th>1076</th>\n",
       "      <td>3019</td>\n",
       "      <td>Present</td>\n",
       "    </tr>\n",
       "    <tr>\n",
       "      <th>1077</th>\n",
       "      <td>1471</td>\n",
       "      <td>Present</td>\n",
       "    </tr>\n",
       "    <tr>\n",
       "      <th>1078</th>\n",
       "      <td>3727</td>\n",
       "      <td>Unoccupied</td>\n",
       "    </tr>\n",
       "    <tr>\n",
       "      <th>1079</th>\n",
       "      <td>2999</td>\n",
       "      <td>Unoccupied</td>\n",
       "    </tr>\n",
       "  </tbody>\n",
       "</table>\n",
       "<p>1080 rows × 2 columns</p>\n",
       "</div>"
      ],
      "text/plain": [
       "     bay_id      status\n",
       "0      5361  Unoccupied\n",
       "1      5548  Unoccupied\n",
       "2      5418  Unoccupied\n",
       "3      5358  Unoccupied\n",
       "4      1292  Unoccupied\n",
       "...     ...         ...\n",
       "1075   3719  Unoccupied\n",
       "1076   3019     Present\n",
       "1077   1471     Present\n",
       "1078   3727  Unoccupied\n",
       "1079   2999  Unoccupied\n",
       "\n",
       "[1080 rows x 2 columns]"
      ]
     },
     "execution_count": 126,
     "metadata": {},
     "output_type": "execute_result"
    }
   ],
   "source": [
    "df"
   ]
  },
  {
   "cell_type": "markdown",
   "metadata": {},
   "source": [
    "Now add in 'hour', 'minute', 'dayofweek' and 'date'\n"
   ]
  },
  {
   "cell_type": "code",
   "execution_count": 127,
   "metadata": {},
   "outputs": [],
   "source": [
    "import datetime"
   ]
  },
  {
   "cell_type": "markdown",
   "metadata": {},
   "source": [
    "To do this we need to call specific values in the datetime package.  Specifically %M for minute, %H for Hour, %A for dayofweek"
   ]
  },
  {
   "cell_type": "code",
   "execution_count": 128,
   "metadata": {},
   "outputs": [
    {
     "name": "stdout",
     "output_type": "stream",
     "text": [
      "02\n",
      "20\n",
      "Saturday\n",
      "2021-08-07\n"
     ]
    }
   ],
   "source": [
    "time = datetime.datetime.now().strftime\n",
    "print(time(\"%M\"))\n",
    "print(time(\"%H\"))\n",
    "print(time(\"%A\"))\n",
    "date = datetime.date.today()\n",
    "print(date)"
   ]
  },
  {
   "cell_type": "code",
   "execution_count": 129,
   "metadata": {},
   "outputs": [
    {
     "data": {
      "text/html": [
       "<div>\n",
       "<style scoped>\n",
       "    .dataframe tbody tr th:only-of-type {\n",
       "        vertical-align: middle;\n",
       "    }\n",
       "\n",
       "    .dataframe tbody tr th {\n",
       "        vertical-align: top;\n",
       "    }\n",
       "\n",
       "    .dataframe thead th {\n",
       "        text-align: right;\n",
       "    }\n",
       "</style>\n",
       "<table border=\"1\" class=\"dataframe\">\n",
       "  <thead>\n",
       "    <tr style=\"text-align: right;\">\n",
       "      <th></th>\n",
       "      <th>bay_id</th>\n",
       "      <th>status</th>\n",
       "      <th>hour</th>\n",
       "      <th>minute</th>\n",
       "      <th>dayofweek</th>\n",
       "      <th>date</th>\n",
       "    </tr>\n",
       "  </thead>\n",
       "  <tbody>\n",
       "    <tr>\n",
       "      <th>0</th>\n",
       "      <td>5361</td>\n",
       "      <td>Unoccupied</td>\n",
       "      <td>20</td>\n",
       "      <td>02</td>\n",
       "      <td>Saturday</td>\n",
       "      <td>2021-08-07</td>\n",
       "    </tr>\n",
       "    <tr>\n",
       "      <th>1</th>\n",
       "      <td>5548</td>\n",
       "      <td>Unoccupied</td>\n",
       "      <td>20</td>\n",
       "      <td>02</td>\n",
       "      <td>Saturday</td>\n",
       "      <td>2021-08-07</td>\n",
       "    </tr>\n",
       "    <tr>\n",
       "      <th>2</th>\n",
       "      <td>5418</td>\n",
       "      <td>Unoccupied</td>\n",
       "      <td>20</td>\n",
       "      <td>02</td>\n",
       "      <td>Saturday</td>\n",
       "      <td>2021-08-07</td>\n",
       "    </tr>\n",
       "    <tr>\n",
       "      <th>3</th>\n",
       "      <td>5358</td>\n",
       "      <td>Unoccupied</td>\n",
       "      <td>20</td>\n",
       "      <td>02</td>\n",
       "      <td>Saturday</td>\n",
       "      <td>2021-08-07</td>\n",
       "    </tr>\n",
       "    <tr>\n",
       "      <th>4</th>\n",
       "      <td>1292</td>\n",
       "      <td>Unoccupied</td>\n",
       "      <td>20</td>\n",
       "      <td>02</td>\n",
       "      <td>Saturday</td>\n",
       "      <td>2021-08-07</td>\n",
       "    </tr>\n",
       "    <tr>\n",
       "      <th>...</th>\n",
       "      <td>...</td>\n",
       "      <td>...</td>\n",
       "      <td>...</td>\n",
       "      <td>...</td>\n",
       "      <td>...</td>\n",
       "      <td>...</td>\n",
       "    </tr>\n",
       "    <tr>\n",
       "      <th>1075</th>\n",
       "      <td>3719</td>\n",
       "      <td>Unoccupied</td>\n",
       "      <td>20</td>\n",
       "      <td>02</td>\n",
       "      <td>Saturday</td>\n",
       "      <td>2021-08-07</td>\n",
       "    </tr>\n",
       "    <tr>\n",
       "      <th>1076</th>\n",
       "      <td>3019</td>\n",
       "      <td>Present</td>\n",
       "      <td>20</td>\n",
       "      <td>02</td>\n",
       "      <td>Saturday</td>\n",
       "      <td>2021-08-07</td>\n",
       "    </tr>\n",
       "    <tr>\n",
       "      <th>1077</th>\n",
       "      <td>1471</td>\n",
       "      <td>Present</td>\n",
       "      <td>20</td>\n",
       "      <td>02</td>\n",
       "      <td>Saturday</td>\n",
       "      <td>2021-08-07</td>\n",
       "    </tr>\n",
       "    <tr>\n",
       "      <th>1078</th>\n",
       "      <td>3727</td>\n",
       "      <td>Unoccupied</td>\n",
       "      <td>20</td>\n",
       "      <td>02</td>\n",
       "      <td>Saturday</td>\n",
       "      <td>2021-08-07</td>\n",
       "    </tr>\n",
       "    <tr>\n",
       "      <th>1079</th>\n",
       "      <td>2999</td>\n",
       "      <td>Unoccupied</td>\n",
       "      <td>20</td>\n",
       "      <td>02</td>\n",
       "      <td>Saturday</td>\n",
       "      <td>2021-08-07</td>\n",
       "    </tr>\n",
       "  </tbody>\n",
       "</table>\n",
       "<p>1080 rows × 6 columns</p>\n",
       "</div>"
      ],
      "text/plain": [
       "     bay_id      status hour minute dayofweek        date\n",
       "0      5361  Unoccupied   20     02  Saturday  2021-08-07\n",
       "1      5548  Unoccupied   20     02  Saturday  2021-08-07\n",
       "2      5418  Unoccupied   20     02  Saturday  2021-08-07\n",
       "3      5358  Unoccupied   20     02  Saturday  2021-08-07\n",
       "4      1292  Unoccupied   20     02  Saturday  2021-08-07\n",
       "...     ...         ...  ...    ...       ...         ...\n",
       "1075   3719  Unoccupied   20     02  Saturday  2021-08-07\n",
       "1076   3019     Present   20     02  Saturday  2021-08-07\n",
       "1077   1471     Present   20     02  Saturday  2021-08-07\n",
       "1078   3727  Unoccupied   20     02  Saturday  2021-08-07\n",
       "1079   2999  Unoccupied   20     02  Saturday  2021-08-07\n",
       "\n",
       "[1080 rows x 6 columns]"
      ]
     },
     "execution_count": 129,
     "metadata": {},
     "output_type": "execute_result"
    }
   ],
   "source": [
    "#Add this all together\n",
    "\n",
    "df['hour'] = time(\"%H\")\n",
    "df['minute'] = time(\"%M\")\n",
    "df['dayofweek'] = time(\"%A\")\n",
    "df['date'] = datetime.date.today()\n",
    "df"
   ]
  },
  {
   "cell_type": "markdown",
   "metadata": {},
   "source": [
    "For the purposes of this notebook and not the python file, I will be showing you what the ETL will be doing on the server end."
   ]
  },
  {
   "cell_type": "code",
   "execution_count": 170,
   "metadata": {},
   "outputs": [],
   "source": [
    "#You may want to change the values.  See how df changes in length in the next cell\n",
    "                    \n",
    "i = 1\n",
    "while i <= 2:\n",
    "    df1 = pd.DataFrame(client.get(\"vh2v-4nfs\", limit=200000))\n",
    "    df1.drop(columns = ['st_marker_id', 'location', 'lat', 'lon', ':@computed_region_evbi_jbp8'], inplace = True)\n",
    "    time = datetime.datetime.now().strftime\n",
    "    df1['hour'] = time(\"%H\")\n",
    "    df1['minute'] = time(\"%M\")\n",
    "    df1['dayofweek'] = time(\"%A\")\n",
    "    df1['date'] = datetime.date.today()\n",
    "    df = df.append(df1)\n",
    "    i += 1"
   ]
  },
  {
   "cell_type": "code",
   "execution_count": 171,
   "metadata": {},
   "outputs": [
    {
     "data": {
      "text/html": [
       "<div>\n",
       "<style scoped>\n",
       "    .dataframe tbody tr th:only-of-type {\n",
       "        vertical-align: middle;\n",
       "    }\n",
       "\n",
       "    .dataframe tbody tr th {\n",
       "        vertical-align: top;\n",
       "    }\n",
       "\n",
       "    .dataframe thead th {\n",
       "        text-align: right;\n",
       "    }\n",
       "</style>\n",
       "<table border=\"1\" class=\"dataframe\">\n",
       "  <thead>\n",
       "    <tr style=\"text-align: right;\">\n",
       "      <th></th>\n",
       "      <th>bay_id</th>\n",
       "      <th>status</th>\n",
       "      <th>hour</th>\n",
       "      <th>minute</th>\n",
       "      <th>dayofweek</th>\n",
       "      <th>date</th>\n",
       "    </tr>\n",
       "  </thead>\n",
       "  <tbody>\n",
       "    <tr>\n",
       "      <th>0</th>\n",
       "      <td>5361</td>\n",
       "      <td>Unoccupied</td>\n",
       "      <td>20</td>\n",
       "      <td>02</td>\n",
       "      <td>Saturday</td>\n",
       "      <td>2021-08-07</td>\n",
       "    </tr>\n",
       "    <tr>\n",
       "      <th>1</th>\n",
       "      <td>5548</td>\n",
       "      <td>Unoccupied</td>\n",
       "      <td>20</td>\n",
       "      <td>02</td>\n",
       "      <td>Saturday</td>\n",
       "      <td>2021-08-07</td>\n",
       "    </tr>\n",
       "    <tr>\n",
       "      <th>2</th>\n",
       "      <td>5418</td>\n",
       "      <td>Unoccupied</td>\n",
       "      <td>20</td>\n",
       "      <td>02</td>\n",
       "      <td>Saturday</td>\n",
       "      <td>2021-08-07</td>\n",
       "    </tr>\n",
       "    <tr>\n",
       "      <th>3</th>\n",
       "      <td>5358</td>\n",
       "      <td>Unoccupied</td>\n",
       "      <td>20</td>\n",
       "      <td>02</td>\n",
       "      <td>Saturday</td>\n",
       "      <td>2021-08-07</td>\n",
       "    </tr>\n",
       "    <tr>\n",
       "      <th>4</th>\n",
       "      <td>1292</td>\n",
       "      <td>Unoccupied</td>\n",
       "      <td>20</td>\n",
       "      <td>02</td>\n",
       "      <td>Saturday</td>\n",
       "      <td>2021-08-07</td>\n",
       "    </tr>\n",
       "    <tr>\n",
       "      <th>...</th>\n",
       "      <td>...</td>\n",
       "      <td>...</td>\n",
       "      <td>...</td>\n",
       "      <td>...</td>\n",
       "      <td>...</td>\n",
       "      <td>...</td>\n",
       "    </tr>\n",
       "    <tr>\n",
       "      <th>1075</th>\n",
       "      <td>3719</td>\n",
       "      <td>Unoccupied</td>\n",
       "      <td>20</td>\n",
       "      <td>13</td>\n",
       "      <td>Saturday</td>\n",
       "      <td>2021-08-07</td>\n",
       "    </tr>\n",
       "    <tr>\n",
       "      <th>1076</th>\n",
       "      <td>3019</td>\n",
       "      <td>Present</td>\n",
       "      <td>20</td>\n",
       "      <td>13</td>\n",
       "      <td>Saturday</td>\n",
       "      <td>2021-08-07</td>\n",
       "    </tr>\n",
       "    <tr>\n",
       "      <th>1077</th>\n",
       "      <td>1471</td>\n",
       "      <td>Unoccupied</td>\n",
       "      <td>20</td>\n",
       "      <td>13</td>\n",
       "      <td>Saturday</td>\n",
       "      <td>2021-08-07</td>\n",
       "    </tr>\n",
       "    <tr>\n",
       "      <th>1078</th>\n",
       "      <td>3727</td>\n",
       "      <td>Unoccupied</td>\n",
       "      <td>20</td>\n",
       "      <td>13</td>\n",
       "      <td>Saturday</td>\n",
       "      <td>2021-08-07</td>\n",
       "    </tr>\n",
       "    <tr>\n",
       "      <th>1079</th>\n",
       "      <td>2999</td>\n",
       "      <td>Unoccupied</td>\n",
       "      <td>20</td>\n",
       "      <td>13</td>\n",
       "      <td>Saturday</td>\n",
       "      <td>2021-08-07</td>\n",
       "    </tr>\n",
       "  </tbody>\n",
       "</table>\n",
       "<p>11880 rows × 6 columns</p>\n",
       "</div>"
      ],
      "text/plain": [
       "     bay_id      status hour minute dayofweek        date\n",
       "0      5361  Unoccupied   20     02  Saturday  2021-08-07\n",
       "1      5548  Unoccupied   20     02  Saturday  2021-08-07\n",
       "2      5418  Unoccupied   20     02  Saturday  2021-08-07\n",
       "3      5358  Unoccupied   20     02  Saturday  2021-08-07\n",
       "4      1292  Unoccupied   20     02  Saturday  2021-08-07\n",
       "...     ...         ...  ...    ...       ...         ...\n",
       "1075   3719  Unoccupied   20     13  Saturday  2021-08-07\n",
       "1076   3019     Present   20     13  Saturday  2021-08-07\n",
       "1077   1471  Unoccupied   20     13  Saturday  2021-08-07\n",
       "1078   3727  Unoccupied   20     13  Saturday  2021-08-07\n",
       "1079   2999  Unoccupied   20     13  Saturday  2021-08-07\n",
       "\n",
       "[11880 rows x 6 columns]"
      ]
     },
     "execution_count": 171,
     "metadata": {},
     "output_type": "execute_result"
    }
   ],
   "source": [
    "df"
   ]
  },
  {
   "cell_type": "markdown",
   "metadata": {},
   "source": [
    "Now I will add the sleep function.  For starters lets see what sleep does first before adding into the loop"
   ]
  },
  {
   "cell_type": "code",
   "execution_count": 174,
   "metadata": {},
   "outputs": [
    {
     "name": "stdout",
     "output_type": "stream",
     "text": [
      "Printed immediately.\n",
      "Printed after 10 seconds.\n"
     ]
    }
   ],
   "source": [
    "import time\n",
    "\n",
    "print(\"Printed immediately.\")\n",
    "time.sleep(2*5)\n",
    "print(\"Printed after 10 seconds.\")"
   ]
  },
  {
   "cell_type": "markdown",
   "metadata": {},
   "source": [
    "Okay lets run this to construct a dataset.  Be careful as this is meant to call the data many times and so the cell will run for a long time.  Feel free to skip the cell and check out the next one for how to save"
   ]
  },
  {
   "cell_type": "code",
   "execution_count": null,
   "metadata": {},
   "outputs": [],
   "source": [
    "#BE CAREFUL WITH THIS CELL.  PLEASE CHANGE VALUES OF i AND sleep().  This is set to run for an hour at 5 minute intervals\n",
    "\n",
    "i = 1\n",
    "while i <= 12:\n",
    "    df1 = pd.DataFrame(client.get(\"vh2v-4nfs\", limit=200000))\n",
    "    df1.drop(columns = ['st_marker_id', 'location', 'lat', 'lon', ':@computed_region_evbi_jbp8'], inplace = True)\n",
    "    time = datetime.datetime.now().strftime\n",
    "    df1['hour'] = time(\"%H\")\n",
    "    df1['minute'] = time(\"%M\")\n",
    "    df1['dayofweek'] = time(\"%A\")\n",
    "    df1['date'] = datetime.date.today()\n",
    "    df = df.append(df1)\n",
    "    sleep(60*5)\n",
    "    i += 1"
   ]
  },
  {
   "cell_type": "code",
   "execution_count": null,
   "metadata": {},
   "outputs": [],
   "source": [
    "df.to_csv('OneHourData.csv')"
   ]
  },
  {
   "cell_type": "code",
   "execution_count": null,
   "metadata": {},
   "outputs": [],
   "source": [
    "#BE CAREFUL WITH THIS CELL.  PLEASE CHANGE VALUES OF i AND sleep().  This is set to run for 6 hours at 15 minute intervals\n",
    "\n",
    "i = 1\n",
    "while i <= 24:\n",
    "    df1 = pd.DataFrame(client.get(\"vh2v-4nfs\", limit=200000))\n",
    "    df1.drop(columns = ['st_marker_id', 'location', 'lat', 'lon', ':@computed_region_evbi_jbp8'], inplace = True)\n",
    "    time = datetime.datetime.now().strftime\n",
    "    df1['hour'] = time(\"%H\")\n",
    "    df1['minute'] = time(\"%M\")\n",
    "    df1['dayofweek'] = time(\"%A\")\n",
    "    df1['date'] = datetime.date.today()\n",
    "    df = df.append(df1)\n",
    "    sleep(60*15)\n",
    "    i += 1"
   ]
  },
  {
   "cell_type": "code",
   "execution_count": 175,
   "metadata": {},
   "outputs": [
    {
     "data": {
      "text/plain": [
       "24"
      ]
     },
     "execution_count": 175,
     "metadata": {},
     "output_type": "execute_result"
    }
   ],
   "source": [
    "df.to_csv('SixHoursData.csv')"
   ]
  },
  {
   "cell_type": "code",
   "execution_count": null,
   "metadata": {},
   "outputs": [],
   "source": []
  }
 ],
 "metadata": {
  "interpreter": {
   "hash": "4cd7ab41f5fca4b9b44701077e38c5ffd31fe66a6cab21e0214b68d958d0e462"
  },
  "kernelspec": {
   "display_name": "Python 3",
   "language": "python",
   "name": "python3"
  },
  "language_info": {
   "codemirror_mode": {
    "name": "ipython",
    "version": 3
   },
   "file_extension": ".py",
   "mimetype": "text/x-python",
   "name": "python",
   "nbconvert_exporter": "python",
   "pygments_lexer": "ipython3",
   "version": "3.7.6"
  }
 },
 "nbformat": 4,
 "nbformat_minor": 4
}
