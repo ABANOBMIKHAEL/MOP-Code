{
 "cells": [
  {
   "cell_type": "markdown",
   "metadata": {},
   "source": [
    "This file is to provide starter code to integrate the new ETL files into the main website so that the files can be read continuously.  This is code to read files locally and then I have put some code to read in AWS."
   ]
  },
  {
   "cell_type": "code",
   "execution_count": 56,
   "metadata": {},
   "outputs": [
    {
     "data": {
      "text/plain": [
       "'/Users/jason/Documents/SIT784/Daily_Files'"
      ]
     },
     "execution_count": 56,
     "metadata": {},
     "output_type": "execute_result"
    }
   ],
   "source": [
    "#Locate files on the local drive.  This needs to be done locally in AWS.\n",
    "\n",
    "import os\n",
    "import datetime\n",
    "import pandas as pd\n",
    "import numpy as np\n",
    "\n",
    "os.getcwd()"
   ]
  },
  {
   "cell_type": "code",
   "execution_count": 5,
   "metadata": {},
   "outputs": [
    {
     "data": {
      "text/plain": [
       "'/Users/jason/Documents/SIT784/Daily_Files'"
      ]
     },
     "execution_count": 5,
     "metadata": {},
     "output_type": "execute_result"
    }
   ],
   "source": [
    "os.chdir('/Users/jason/Documents/SIT784/Daily_Files')\n",
    "os.getcwd()\n",
    "\n",
    "#key = 'parkingsensor/daily/'  in amazon"
   ]
  },
  {
   "cell_type": "code",
   "execution_count": 12,
   "metadata": {},
   "outputs": [
    {
     "data": {
      "text/plain": [
       "Timestamp('2021-09-22 05:24:48+1000', tz='Australia/Victoria')"
      ]
     },
     "execution_count": 12,
     "metadata": {},
     "output_type": "execute_result"
    }
   ],
   "source": [
    "#Get current date.  In Amazon it is in UTC time and you need to convert it to AEST\n",
    "\n",
    "\n",
    "a = datetime.datetime.today().replace(microsecond=0)\n",
    "ts = pd.Timestamp(a, tz = \"UTC\")\n",
    "d = ts.tz_convert(tz='Australia/Victoria')\n",
    "d"
   ]
  },
  {
   "cell_type": "code",
   "execution_count": 20,
   "metadata": {},
   "outputs": [
    {
     "name": "stdout",
     "output_type": "stream",
     "text": [
      "2021-09-21\n"
     ]
    }
   ],
   "source": [
    "print(f'{a.date()}')"
   ]
  },
  {
   "cell_type": "code",
   "execution_count": 18,
   "metadata": {},
   "outputs": [
    {
     "data": {
      "text/plain": [
       "<function Timestamp.date>"
      ]
     },
     "execution_count": 18,
     "metadata": {},
     "output_type": "execute_result"
    }
   ],
   "source": [
    "d.date"
   ]
  },
  {
   "cell_type": "code",
   "execution_count": 22,
   "metadata": {},
   "outputs": [
    {
     "data": {
      "text/html": [
       "<div>\n",
       "<style scoped>\n",
       "    .dataframe tbody tr th:only-of-type {\n",
       "        vertical-align: middle;\n",
       "    }\n",
       "\n",
       "    .dataframe tbody tr th {\n",
       "        vertical-align: top;\n",
       "    }\n",
       "\n",
       "    .dataframe thead th {\n",
       "        text-align: right;\n",
       "    }\n",
       "</style>\n",
       "<table border=\"1\" class=\"dataframe\">\n",
       "  <thead>\n",
       "    <tr style=\"text-align: right;\">\n",
       "      <th></th>\n",
       "      <th>bay_id</th>\n",
       "      <th>st_marker_id</th>\n",
       "      <th>status</th>\n",
       "      <th>datetime</th>\n",
       "    </tr>\n",
       "  </thead>\n",
       "  <tbody>\n",
       "    <tr>\n",
       "      <th>0</th>\n",
       "      <td>3971</td>\n",
       "      <td>C5910</td>\n",
       "      <td>Present</td>\n",
       "      <td>2021-09-21 00:12:13+10:00</td>\n",
       "    </tr>\n",
       "    <tr>\n",
       "      <th>1</th>\n",
       "      <td>3987</td>\n",
       "      <td>C5942</td>\n",
       "      <td>Present</td>\n",
       "      <td>2021-09-21 00:12:13+10:00</td>\n",
       "    </tr>\n",
       "    <tr>\n",
       "      <th>2</th>\n",
       "      <td>3630</td>\n",
       "      <td>7579S</td>\n",
       "      <td>Present</td>\n",
       "      <td>2021-09-21 00:12:13+10:00</td>\n",
       "    </tr>\n",
       "    <tr>\n",
       "      <th>3</th>\n",
       "      <td>3637</td>\n",
       "      <td>7590N</td>\n",
       "      <td>Unoccupied</td>\n",
       "      <td>2021-09-21 00:12:13+10:00</td>\n",
       "    </tr>\n",
       "    <tr>\n",
       "      <th>4</th>\n",
       "      <td>3808</td>\n",
       "      <td>C5452</td>\n",
       "      <td>Unoccupied</td>\n",
       "      <td>2021-09-21 00:12:13+10:00</td>\n",
       "    </tr>\n",
       "    <tr>\n",
       "      <th>...</th>\n",
       "      <td>...</td>\n",
       "      <td>...</td>\n",
       "      <td>...</td>\n",
       "      <td>...</td>\n",
       "    </tr>\n",
       "    <tr>\n",
       "      <th>101843</th>\n",
       "      <td>952</td>\n",
       "      <td>C814</td>\n",
       "      <td>Unoccupied</td>\n",
       "      <td>2021-09-21 19:12:13+10:00</td>\n",
       "    </tr>\n",
       "    <tr>\n",
       "      <th>101844</th>\n",
       "      <td>1545</td>\n",
       "      <td>1918N</td>\n",
       "      <td>Unoccupied</td>\n",
       "      <td>2021-09-21 19:12:13+10:00</td>\n",
       "    </tr>\n",
       "    <tr>\n",
       "      <th>101845</th>\n",
       "      <td>5876</td>\n",
       "      <td>12900N</td>\n",
       "      <td>Present</td>\n",
       "      <td>2021-09-21 19:12:13+10:00</td>\n",
       "    </tr>\n",
       "    <tr>\n",
       "      <th>101846</th>\n",
       "      <td>877</td>\n",
       "      <td>775W</td>\n",
       "      <td>Present</td>\n",
       "      <td>2021-09-21 19:12:13+10:00</td>\n",
       "    </tr>\n",
       "    <tr>\n",
       "      <th>101847</th>\n",
       "      <td>1471</td>\n",
       "      <td>1775S</td>\n",
       "      <td>Present</td>\n",
       "      <td>2021-09-21 19:12:13+10:00</td>\n",
       "    </tr>\n",
       "  </tbody>\n",
       "</table>\n",
       "<p>101848 rows × 4 columns</p>\n",
       "</div>"
      ],
      "text/plain": [
       "        bay_id st_marker_id      status                   datetime\n",
       "0         3971        C5910     Present  2021-09-21 00:12:13+10:00\n",
       "1         3987        C5942     Present  2021-09-21 00:12:13+10:00\n",
       "2         3630        7579S     Present  2021-09-21 00:12:13+10:00\n",
       "3         3637        7590N  Unoccupied  2021-09-21 00:12:13+10:00\n",
       "4         3808        C5452  Unoccupied  2021-09-21 00:12:13+10:00\n",
       "...        ...          ...         ...                        ...\n",
       "101843     952         C814  Unoccupied  2021-09-21 19:12:13+10:00\n",
       "101844    1545        1918N  Unoccupied  2021-09-21 19:12:13+10:00\n",
       "101845    5876       12900N     Present  2021-09-21 19:12:13+10:00\n",
       "101846     877         775W     Present  2021-09-21 19:12:13+10:00\n",
       "101847    1471        1775S     Present  2021-09-21 19:12:13+10:00\n",
       "\n",
       "[101848 rows x 4 columns]"
      ]
     },
     "execution_count": 22,
     "metadata": {},
     "output_type": "execute_result"
    }
   ],
   "source": [
    "test = pd.read_csv(f'{a.date()}.csv')\n",
    "test\n",
    "\n",
    "#In Amazon\n",
    "\n",
    "# pd.read_csv(f'{d.date()}.csv')"
   ]
  },
  {
   "cell_type": "code",
   "execution_count": null,
   "metadata": {},
   "outputs": [],
   "source": []
  },
  {
   "cell_type": "code",
   "execution_count": 73,
   "metadata": {},
   "outputs": [
    {
     "name": "stdout",
     "output_type": "stream",
     "text": [
      "        bay_id st_marker_id      status                   datetime\n",
      "100482    3971        C5910     Present  2021-09-21 19:12:13+10:00\n",
      "100483    3987        C5942     Present  2021-09-21 19:12:13+10:00\n",
      "100484    4039        C6116  Unoccupied  2021-09-21 19:12:13+10:00\n",
      "100485    3637        7590N  Unoccupied  2021-09-21 19:12:13+10:00\n",
      "100486    5851        C9106  Unoccupied  2021-09-21 19:12:13+10:00\n",
      "...        ...          ...         ...                        ...\n",
      "101843     952         C814  Unoccupied  2021-09-21 19:12:13+10:00\n",
      "101844    1545        1918N  Unoccupied  2021-09-21 19:12:13+10:00\n",
      "101845    5876       12900N     Present  2021-09-21 19:12:13+10:00\n",
      "101846     877         775W     Present  2021-09-21 19:12:13+10:00\n",
      "101847    1471        1775S     Present  2021-09-21 19:12:13+10:00\n",
      "\n",
      "[1366 rows x 4 columns]\n"
     ]
    }
   ],
   "source": [
    "#To get current status of carparks\n",
    "\n",
    "bay = test.loc[test['datetime'] == test.iloc[-1, -1]]\n",
    "print(bay)\n",
    "\n",
    "#Specific st_marker_id's\n",
    "st_marker = ['C5910','C5942', 'C6116']  #as an example"
   ]
  },
  {
   "cell_type": "code",
   "execution_count": 77,
   "metadata": {},
   "outputs": [
    {
     "ename": "SyntaxError",
     "evalue": "invalid syntax (<ipython-input-77-a027569aa09f>, line 1)",
     "output_type": "error",
     "traceback": [
      "\u001b[0;36m  File \u001b[0;32m\"<ipython-input-77-a027569aa09f>\"\u001b[0;36m, line \u001b[0;32m1\u001b[0m\n\u001b[0;31m    bay.groupby[columns = ['status']]\u001b[0m\n\u001b[0m                        ^\u001b[0m\n\u001b[0;31mSyntaxError\u001b[0m\u001b[0;31m:\u001b[0m invalid syntax\n"
     ]
    }
   ],
   "source": [
    "bay.groupby[(columns = ['status'])]"
   ]
  },
  {
   "cell_type": "code",
   "execution_count": 68,
   "metadata": {},
   "outputs": [
    {
     "data": {
      "text/plain": [
       "'2021-09-21 19:12:13+10:00'"
      ]
     },
     "execution_count": 68,
     "metadata": {},
     "output_type": "execute_result"
    }
   ],
   "source": [
    "test.iloc[-1, -1]"
   ]
  },
  {
   "cell_type": "code",
   "execution_count": null,
   "metadata": {},
   "outputs": [],
   "source": []
  }
 ],
 "metadata": {
  "kernelspec": {
   "display_name": "Python 3",
   "language": "python",
   "name": "python3"
  },
  "language_info": {
   "codemirror_mode": {
    "name": "ipython",
    "version": 3
   },
   "file_extension": ".py",
   "mimetype": "text/x-python",
   "name": "python",
   "nbconvert_exporter": "python",
   "pygments_lexer": "ipython3",
   "version": "3.7.6"
  }
 },
 "nbformat": 4,
 "nbformat_minor": 4
}
